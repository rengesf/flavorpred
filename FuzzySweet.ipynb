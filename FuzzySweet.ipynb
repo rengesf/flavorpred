{
 "cells": [
  {
   "cell_type": "code",
   "execution_count": 543,
   "id": "d970528e772fe298",
   "metadata": {
    "ExecuteTime": {
     "end_time": "2023-09-28T10:05:42.329280636Z",
     "start_time": "2023-09-28T10:05:42.314997319Z"
    },
    "collapsed": true
   },
   "outputs": [],
   "source": [
    "import numpy as np\n",
    "import skfuzzy as fuzz\n",
    "from skfuzzy import control as ctrl\n",
    "from matplotlib import pyplot as plt \n",
    "import pandas as pd\n",
    "from scipy import stats\n",
    "from functools import reduce\n",
    "\n"
   ]
  },
  {
   "cell_type": "markdown",
   "id": "45af2ee2",
   "metadata": {},
   "source": [
    "##### load data"
   ]
  },
  {
   "cell_type": "code",
   "execution_count": 484,
   "id": "af9bd3d8",
   "metadata": {},
   "outputs": [],
   "source": [
    "data = pd.read_csv('data/cas_intensities.csv', delimiter=',', index_col = 0)\n",
    "# only use first repliate\n",
    "data = data[data[\"replicate\"]==1]\n",
    "ms_data = data.drop(columns=[\"replicate\"])\n",
    "data_dist = ms_data.copy()\n",
    "data_dist[\"sum\"] = data_dist.apply(lambda row:row.sum(), axis=1)\n",
    "data_dist['median']= data_dist.apply(lambda row:row[:-1].median(), axis=1)\n",
    "data_dist['mean']= data_dist.apply(lambda row:row[:-2].mean(), axis=1)\n",
    "data_norm = data_dist.apply(lambda row: row[:-3]/row['mean'],axis=1)\n",
    "data_norm.index = data_dist.index\n",
    "data_norm2 = data_norm.apply(lambda col:col/col.median(),axis=0)\n",
    "ms_data = data_norm2"
   ]
  },
  {
   "cell_type": "code",
   "execution_count": 485,
   "id": "437b3443",
   "metadata": {},
   "outputs": [
    {
     "name": "stdout",
     "output_type": "stream",
     "text": [
      "6485-40-1     -0.435880\n",
      "3033-23-6      0.075711\n",
      "21284-22-0    -0.418053\n",
      "38427-78-0    -0.383695\n",
      "495-61-4      -0.413705\n",
      "                 ...   \n",
      "713-95-1      -0.224200\n",
      "20307-84-0    -0.413705\n",
      "120021-96-7   -0.413705\n",
      "586-62-9      -0.325871\n",
      "710-04-3      -0.163435\n",
      "Length: 732, dtype: float64\n",
      "6485-40-1      1.894324\n",
      "3033-23-6      2.302065\n",
      "21284-22-0     1.891729\n",
      "38427-78-0     2.084914\n",
      "495-61-4       2.058207\n",
      "                 ...   \n",
      "713-95-1       2.258621\n",
      "20307-84-0     2.058207\n",
      "120021-96-7    2.058207\n",
      "586-62-9       2.155720\n",
      "710-04-3       1.986596\n",
      "Length: 732, dtype: float64\n",
      "6485-40-1     -3.0\n",
      "3033-23-6     -3.0\n",
      "21284-22-0    -3.0\n",
      "38427-78-0    -3.0\n",
      "495-61-4      -3.0\n",
      "              ... \n",
      "713-95-1      -3.0\n",
      "20307-84-0    -3.0\n",
      "120021-96-7   -3.0\n",
      "586-62-9      -3.0\n",
      "710-04-3      -3.0\n",
      "Length: 732, dtype: float64 6485-40-1      3.0\n",
      "3033-23-6      3.0\n",
      "21284-22-0     3.0\n",
      "38427-78-0     3.0\n",
      "495-61-4       3.0\n",
      "              ... \n",
      "713-95-1       3.0\n",
      "20307-84-0     3.0\n",
      "120021-96-7    3.0\n",
      "586-62-9       3.0\n",
      "710-04-3       3.0\n",
      "Length: 732, dtype: float64\n"
     ]
    }
   ],
   "source": [
    "import numpy as np\n",
    "df = ms_data\n",
    "scaled_data = 3 * ((df - df.mean()) / df.std())\n",
    "\n",
    "# Clip values to be within -3 and 3\n",
    "scaled_data = np.clip(scaled_data, -3, 3)\n",
    "\n",
    "# Check mean and standard deviation\n",
    "print(scaled_data.mean())\n",
    "print(scaled_data.std())\n",
    "print(scaled_data.min(), scaled_data.max())\n"
   ]
  },
  {
   "cell_type": "code",
   "execution_count": 487,
   "id": "e72f3fbc",
   "metadata": {},
   "outputs": [],
   "source": [
    "panelist_data_df = pd.read_table(\"data/vlb_data_combined.txt\", delimiter=',', index_col = 1)\n",
    "panelist_data_df = panelist_data_df[panelist_data_df[\"panelist\"]==1]\n",
    "panelist_data_df = panelist_data_df.drop(columns=[\"panelist\", \"date\"])"
   ]
  },
  {
   "cell_type": "code",
   "execution_count": 488,
   "id": "5c607003",
   "metadata": {},
   "outputs": [],
   "source": [
    "# get only comparable samplekeys\n",
    "valid_indexes = [index for index in panelist_data_df.index if index in ms_data.index]\n",
    "ms_data_comp = scaled_data.loc[valid_indexes].fillna(0)\n",
    "panelist_data_comp = panelist_data_df.loc[valid_indexes]"
   ]
  },
  {
   "cell_type": "code",
   "execution_count": 489,
   "id": "1c3ea73e",
   "metadata": {},
   "outputs": [],
   "source": [
    "# find CAS number to each molecule\n",
    "CAS_to_mol = pd.read_table(\"data/CAS_mol_OD.csv\", delimiter=',',  names= [\"CAS\",\"intensity\", \"odor\"])\n",
    "CAS_to_mol=CAS_to_mol.drop(columns=[\"intensity\",\"odor\"])\n",
    "CAS_to_mol= CAS_to_mol.drop_duplicates()"
   ]
  },
  {
   "cell_type": "code",
   "execution_count": 490,
   "id": "9249933f",
   "metadata": {},
   "outputs": [],
   "source": [
    "# all molecules that where labeled as sweet in flavornet\n",
    "sweet_descriptors = [\"benzyl alcohol\",\"ethyl phenylacetate\",\"tridecanal\",\"nerol\",\"methyl hexanoate\",\"linalyl isovalerate\",\"undecanaldehyde\",\"caryophyllene oxide\",\"linalyl acetate\",\"safranal\",\"uncineol\",\"phenylethanal\",\"p-anisaldehyde\",\"eudesmol\",\"ethylmethyl pyrazine\",\"citronellyl butyrate\",\"4-methyl-3-penten-2-one\",\"nonyl acetate\",\"10-epi-γ-eudesmol\",\"β-bisabolol\",\"(Z)-6-dodecene-γ-lactone\",\"β-farnesene\",\"2-dodecenal\",\"γ-dodecalactone\",\"epoxy-β-ionone\",\"2-undecenal\",\"styrene glycol\",\"methyl furaneol\",\"(-)-cis-rose oxide\",\"(E)-β-ocimene\",\"dimethylmethoxyfuranone\",\"1,8-cineole\",\"ethylbenzaldehyde\",\"2-pentylthiophene\",\"α-farnesene\",\"methionol\",\"7-methoxycoumarin\",\"(Z)-3-hexenyl-2-methylbutanoate\",\"o-aminoacetophenone\",\"viridiflorol\",\"isopiperitone\",\"β-sinensal\",\"ethyl vanillate\",\"methyl butanoate\",\"p-methoxystyrene\",\"ethanol\",\"6-Methoxyeugenol\",\"4-hexanolide\",\"δ-dodecalactone\",\"sesquiphellandrene\",\"diethyl malate\",\"linalyl butyrate\",\"guaiacol\",\"coumarin\",\"methyl benzoate\",\"isopropyl benzoate\",\"safrole\",\"durene\",\"γ-butyrolactone\",\"ethyl isobutyrate\",\"furfural\"]\n",
    "fruit_descriptors = [\"ethyl phenylacetate\", \"geranyl valerate\", \"γ-heptalactone\", \"ethyl propionate\", \"diethyl acetal\", \"geranyl butyrate\", \"ethyl heptylate\", \"ethyl octanoate\", \"methyl hexanoate\", \"dimethylheptenal\", \"pentanone\", \"ethyl 3-methylbutanoate\", \"geranyl isovalerate\", \"isobutyl acetate\", \"ethoxypropanol\", \"methyl-2-butenal\", \"methylnonanedione\", \"linalyl acetate\", \"methyl geranate\", \"limonene oxide\", \"hydrocinnamic alcohol\", \"diethyl succinate\", \"ethyl hexanoate\", \"ethylmethyl pyrazine\", \"β-cubebene\", \"neryl acetate\", \"citronellyl butyrate\", \"hexyl acetate\", \"nonyl acetate\", \"butyl methylbutyrate\", \"pentenal\", \"isopentyldimethylpyrazine\", \"p-menth-1-en-9-ol\", \"hexadecanone\", \"octyl acetate\", \"γ-dodecalactone\", \"epoxy-β-ionone\", \"ethyl octenoate\", \"ethyl isohexanoate\", \"isobornyl propionate\", \"cedrenol\", \"p-menth-1-en-9-yl acetate\", \"cadinadiene\", \"(Z)-3-hexenyl hexanoate\", \"ethyl cyclohexanoate\", \"4-methylthio-2-butanone\", \"3,5-octadienone\", \"methyl cyclohexanecarboxylate\", \"2-pentylthiophene\", \"α-ocimene\", \"butanediol\", \"ethyl valerate\", \"pentanol\", \"isopiperitone\", \"butyl octanoate\", \"ethyl vanillate\", \"methyl butanoate\", \"2-methylbutyl acetate\", \"propyl hexanoate\", \"butyl hexanoate\", \"isopropyl butanoate\", \"spathulenol\", \"butanol\", \"δ-dodecalactone\", \"methyl quinoxaline\", \"sesquiphellandrene\", \"2-hexenol\", \"ethyl benzoate\", \"isopropyl benzoate\", \"ethyl lactate\", \"citronellyl isobutyrate\"]\n",
    "wood_descriptors = [\"α-muurolene\",\"cadina-1,4-dien-3-ol\",\"isocaryophyllene\",\"eudesmol\",\"α-ionone\",\"bornyl butyrate\",\"(E)-α-bergamotene\",\"linalool oxide\",\"ethyl pyrazine\",\"10-epi-γ-eudesmol\",\"germacrene B\",\"trans-sabinene hydrate\",\"dihydrolinalool\",\"isodihydrocarveol\",\"β-farnesene\",\"β-sesquiphellandrene\",\"δ-elemene\",\"α-calacorene\",\"epoxy-β-ionone\",\"germacrene D\",\"bicyclogermacrene\",\"alloaromadendrene\",\"α-thujene\",\"oxo-β-ionone\",\"(-)-γ-elemene\",\"γ-muurolene\",\"sabinene\",\"α-guaiene\",\"α-copaene\",\"γ-cadinene\",\"nerolidol\",\"β-eudesmol\",\"α-cadinol\",\"δ-cadinene\",\"dill apiol\",\"aromadendrene\",\"α-gurjunene\",\"guaiol\",\"α-farnesene\",\"γ-selinene\",\"cuminica lcohol\",\"perillen\",\"elemol\",\"α-humulene\",\"β-caryophyllene\",\"β-guaiene\"]\n",
    "malt_descriptors = [\"pentanal\",\"3-methyl-1-butanol\",\"2-methyl-1-butanol\",\"methylbutanal\",\"isobutyraldehyde\"]"
   ]
  },
  {
   "cell_type": "code",
   "execution_count": 491,
   "id": "163639d5",
   "metadata": {},
   "outputs": [],
   "source": [
    "# find cas numbers for these molecules\n",
    "sweet_descriptors_CAS = [CAS_to_mol.loc[index][\"CAS\"]for index in sweet_descriptors if index in CAS_to_mol.index ]\n",
    "fruit_descriptors_CAS = [CAS_to_mol.loc[index][\"CAS\"] for index in fruit_descriptors if index in CAS_to_mol.index]\n",
    "wood_descriptors_CAS = [CAS_to_mol.loc[index][\"CAS\"] for index in wood_descriptors if index in CAS_to_mol.index]\n",
    "malt_descriptors_CAS  =[CAS_to_mol.loc[index][\"CAS\"] for index in malt_descriptors if index in CAS_to_mol.index]"
   ]
  },
  {
   "cell_type": "markdown",
   "id": "5b8ddf4f",
   "metadata": {},
   "source": [
    "### Basic example"
   ]
  },
  {
   "cell_type": "code",
   "execution_count": 69,
   "id": "d92ab837",
   "metadata": {},
   "outputs": [],
   "source": [
    "cas_range=np.linspace(-3,3,197)\n",
    "#cas_range = np.array(ms_data_comp['6485-40-1'])\n",
    "             \n",
    "cas_001 = ctrl.Antecedent(cas_range, 'cas_001')\n",
    "cas_002 = ctrl.Antecedent(cas_range, 'cas_002')\n",
    "cas_003 = ctrl.Antecedent(cas_range, 'cas_003')\n",
    "\n",
    "# Auto-membership function population is possible with .automf(3, 5, or 7)\n",
    "cas_001.automf(3)\n",
    "cas_002.automf(3)\n",
    "cas_003.automf(3)\n",
    "\n",
    "osa_sweet = ctrl.Consequent(np.arange(0, 100, 10), 'osa_sweet')\n",
    "osa_sweet.automf(3)\n",
    "\n",
    "# Custom membership functions can be built interactively with a familiar,\n",
    "# Pythonic API\n",
    "# tip['low'] = fuzz.trimf(tip.universe, [0, 0, 13])\n",
    "# tip['medium'] = fuzz.trimf(tip.universe, [0, 13, 25])\n",
    "# tip['high'] = fuzz.trimf(tip.universe, [13, 25, 25])"
   ]
  },
  {
   "cell_type": "code",
   "execution_count": 70,
   "id": "6bf27402",
   "metadata": {},
   "outputs": [
    {
     "data": {
      "text/plain": [
       "(<Figure size 432x288 with 1 Axes>, <AxesSubplot:>)"
      ]
     },
     "execution_count": 70,
     "metadata": {},
     "output_type": "execute_result"
    },
    {
     "data": {
      "image/png": "[encoded data removed]",
      "text/plain": [
       "<Figure size 432x288 with 1 Axes>"
      ]
     },
     "metadata": {},
     "output_type": "display_data"
    }
   ],
   "source": [
    "rule_sweet_01 = (ctrl.Rule(cas_001['good'] | cas_002['good'] |cas_003['good'], osa_sweet['good']))\n",
    "rule_sweet_02 = (ctrl.Rule(cas_001['average']|  cas_002['average'] | cas_003['average'], osa_sweet['average']))\n",
    "rule_sweet_03 = (ctrl.Rule(cas_001['poor']| cas_002['poor'] |cas_003['poor'], osa_sweet['poor']))\n",
    "\n",
    "rule_sweet_01.view()"
   ]
  },
  {
   "cell_type": "code",
   "execution_count": 71,
   "id": "33f63965",
   "metadata": {},
   "outputs": [
    {
     "name": "stdout",
     "output_type": "stream",
     "text": [
      "cas_001 : 3\n",
      "cas_002 : 3\n",
      "cas_003 : 3\n",
      "\n",
      "74.6341463414634\n"
     ]
    },
    {
     "name": "stderr",
     "output_type": "stream",
     "text": [
      "c:\\Users\\Franz\\AppData\\Local\\Programs\\Python\\Python39\\lib\\site-packages\\skfuzzy\\control\\fuzzyvariable.py:122: UserWarning: Matplotlib is currently using module://matplotlib_inline.backend_inline, which is a non-GUI backend, so cannot show the figure.\n",
      "  fig.show()\n"
     ]
    },
    {
     "data": {
      "image/png": "[encoded data removed]",
      "text/plain": [
       "<Figure size 432x288 with 1 Axes>"
      ]
     },
     "metadata": {
      "needs_background": "light"
     },
     "output_type": "display_data"
    }
   ],
   "source": [
    "tipping_ctrl = ctrl.ControlSystem([\n",
    "    rule_sweet_01,\n",
    "    rule_sweet_02,\n",
    "    rule_sweet_03\n",
    "])\n",
    "tipping = ctrl.ControlSystemSimulation(tipping_ctrl)\n",
    "# Pass inputs to the ControlSystem using Antecedent labels with Pythonic API\n",
    "# Note: if you like passing many inputs all at once, use .inputs(dict_of_data)\n",
    "\n",
    "\n",
    "tipping.input['cas_001'] = 3\n",
    "tipping.input['cas_002'] = 3\n",
    "tipping.input['cas_003'] = 3\n",
    "\n",
    "print(tipping.input)\n",
    "# Crunch the numbers\n",
    "tipping.compute()\n",
    "\n",
    "prediction = tipping.output['osa_sweet'] \n",
    "\n",
    "print( prediction )\n",
    "osa_sweet.view(sim=tipping)"
   ]
  },
  {
   "cell_type": "markdown",
   "id": "163639d5",
   "metadata": {},
   "source": [
    "### Sweet cw"
   ]
  },
  {
   "cell_type": "code",
   "execution_count": 537,
   "id": "f6a9fde7",
   "metadata": {},
   "outputs": [],
   "source": [
    "sweet_ms_df = ms_data_comp[sweet_descriptors_CAS]"
   ]
  },
  {
   "cell_type": "code",
   "execution_count": 542,
   "id": "d178bd4a",
   "metadata": {},
   "outputs": [],
   "source": [
    "zscore_range=np.linspace(-3,3,25) # Since we only use zscored data, this range can be used everywhere \n",
    "\n",
    "cas_antecedents = [] # we can just use an array, since the names are saved in the antecedent objects\n",
    "# we only use the sweet descriptors \n",
    "for cas in sweet_descriptors_CAS:\n",
    "    cas_name = str(cas)  \n",
    "    cas_antecedent = ctrl.Antecedent(zscore_range, cas_name)\n",
    "    cas_antecedent.automf(3)\n",
    "    \n",
    "    cas_antecedents.append( cas_antecedent) \n",
    "\n",
    "osa_sweet = ctrl.Consequent(zscore_range, 'osa_sweet')\n",
    "osa_sweet.automf(3)\n"
   ]
  },
  {
   "cell_type": "markdown",
   "id": "75e1d6ea",
   "metadata": {},
   "source": [
    "rules: \n",
    "\n",
    "if one sweet cas is good than contributes to osa good\n",
    "\n",
    "analog with average an poor"
   ]
  },
  {
   "cell_type": "code",
   "execution_count": null,
   "id": "027a37ea",
   "metadata": {},
   "outputs": [],
   "source": [
    "'''rule_sweet = ctrl.Rule(create_rules('good'), osa_sweet['good'])\n",
    "rule_average = ctrl.Rule(create_rules('average'), osa_sweet['average'])\n",
    "rule_low = ctrl.Rule(create_rules('poor'), osa_sweet['poor'])\n",
    "\n",
    "rules = ctrl.ControlSystem([\n",
    "    rule_sweet,\n",
    "    rule_average,\n",
    "    rule_low\n",
    "])\n",
    "fuzzy_ctrl = ctrl.ControlSystemSimulation(rules)\n",
    "'''"
   ]
  },
  {
   "cell_type": "code",
   "execution_count": 544,
   "id": "57fb3811",
   "metadata": {},
   "outputs": [],
   "source": [
    "# define some rules \n",
    "one_good =  reduce(lambda x, y: x | y, [ caa['good'] for caa in cas_antecedents])\n",
    "one_avg =  reduce(lambda x, y: x | y, [ caa['average'] for caa in cas_antecedents])\n",
    "\n",
    "all_poor =  reduce(lambda x, y: x & y, [ caa['poor'] for caa in cas_antecedents])\n",
    "all_avg =  reduce(lambda x, y: x & y, [ caa['average'] for caa in cas_antecedents])\n",
    "\n",
    "rules = [    \n",
    "    ctrl.Rule( all_poor, osa_sweet['poor']   ),\n",
    "    ctrl.Rule( all_avg, osa_sweet['average'] ),\n",
    "    ctrl.Rule( one_good, osa_sweet['good']   ),\n",
    "]"
   ]
  },
  {
   "cell_type": "code",
   "execution_count": 545,
   "id": "9076f6a3",
   "metadata": {},
   "outputs": [],
   "source": [
    "# Set up the system \n",
    "fuzzy_ctrl = ctrl.ControlSystem(rules)\n",
    "fuzzy = ctrl.ControlSystemSimulation(fuzzy_ctrl)"
   ]
  },
  {
   "cell_type": "code",
   "execution_count": 560,
   "id": "70d337c7",
   "metadata": {},
   "outputs": [],
   "source": [
    "ms_data = stats.zscore(ms_data_comp,axis=0)\n",
    "predictions = []\n",
    "for index, row in ms_data.iterrows():\n",
    "    for cas in sweet_descriptors_CAS:\n",
    "        fuzzy.input[ cas ] = row[cas]\n",
    "    \n",
    "    fuzzy.compute()  \n",
    "    predictions.append(fuzzy.output['osa_sweet'])\n",
    "\n",
    "references = np.array(panelist_data_comp['Sweet'])\n",
    "       "
   ]
  },
  {
   "cell_type": "code",
   "execution_count": 562,
   "id": "42da5271",
   "metadata": {},
   "outputs": [],
   "source": [
    "sweet_ms_df_zscore = stats.zscore(sweet_ms_df, axis = 0)"
   ]
  },
  {
   "cell_type": "code",
   "execution_count": 563,
   "id": "b9e2fede",
   "metadata": {},
   "outputs": [],
   "source": [
    "for index,entry in sweet_ms_df_zscore.loc['000656'].items():\n",
    "    fuzzy.input[ index ] = entry\n",
    "    \n",
    "fuzzy.compute()  \n",
    "predictions  = fuzzy.output['osa_sweet']\n",
    "\n",
    "references = stats.zscore(panelist_data_comp).loc['000565']['Sweet']\n",
    "       "
   ]
  },
  {
   "cell_type": "code",
   "execution_count": 564,
   "id": "aaaeeee4",
   "metadata": {},
   "outputs": [
    {
     "name": "stdout",
     "output_type": "stream",
     "text": [
      "panelist score for sweet:  0.06709556249758704\n",
      "prediction score for sweet:  0.6783272961770778\n"
     ]
    },
    {
     "name": "stderr",
     "output_type": "stream",
     "text": [
      "c:\\Users\\Franz\\AppData\\Local\\Programs\\Python\\Python39\\lib\\site-packages\\skfuzzy\\control\\fuzzyvariable.py:122: UserWarning: Matplotlib is currently using module://matplotlib_inline.backend_inline, which is a non-GUI backend, so cannot show the figure.\n",
      "  fig.show()\n"
     ]
    },
    {
     "data": {
      "image/png": "[encoded data removed]",
      "text/plain": [
       "<Figure size 432x288 with 1 Axes>"
      ]
     },
     "metadata": {
      "needs_background": "light"
     },
     "output_type": "display_data"
    }
   ],
   "source": [
    "print(\"panelist score for sweet: \" , references)\n",
    "print(\"prediction score for sweet: \",predictions)\n",
    "\n",
    "osa_sweet.view(sim=fuzzy)"
   ]
  },
  {
   "cell_type": "code",
   "execution_count": 565,
   "id": "937bc8bd",
   "metadata": {},
   "outputs": [],
   "source": [
    "# over all samples\n",
    "predictions = []\n",
    "for index, row in sweet_ms_df_zscore.iterrows():\n",
    "    for cas in sweet_descriptors_CAS:\n",
    "        fuzzy.input[ cas ] = row[cas]\n",
    "    \n",
    "    fuzzy.compute()  \n",
    "    predictions.append(fuzzy.output['osa_sweet'])\n",
    "\n",
    "references = np.array(panelist_data_comp['Sweet'])\n",
    "       "
   ]
  },
  {
   "cell_type": "code",
   "execution_count": 566,
   "id": "6d14c2f4",
   "metadata": {},
   "outputs": [
    {
     "data": {
      "text/plain": [
       "(array([ 2.,  8., 24., 28., 40., 35., 20.,  0., 19., 21.]),\n",
       " array([0.09395177, 0.16665042, 0.23934907, 0.31204772, 0.38474637,\n",
       "        0.45744502, 0.53014367, 0.60284232, 0.67554097, 0.74823962,\n",
       "        0.82093826]),\n",
       " <BarContainer object of 10 artists>)"
      ]
     },
     "execution_count": 566,
     "metadata": {},
     "output_type": "execute_result"
    },
    {
     "data": {
      "image/png": "[encoded data removed]",
      "text/plain": [
       "<Figure size 432x288 with 1 Axes>"
      ]
     },
     "metadata": {
      "needs_background": "light"
     },
     "output_type": "display_data"
    }
   ],
   "source": [
    "plt.hist(stats.zscore(references), color='g')\n",
    "plt.hist(predictions)"
   ]
  },
  {
   "cell_type": "code",
   "execution_count": 567,
   "id": "87d6e4bd",
   "metadata": {},
   "outputs": [
    {
     "data": {
      "image/png": "[encoded data removed]",
      "text/plain": [
       "<Figure size 432x288 with 1 Axes>"
      ]
     },
     "metadata": {
      "needs_background": "light"
     },
     "output_type": "display_data"
    }
   ],
   "source": [
    "plt.plot(stats.zscore(references),predictions,\"o\")\n",
    "plt.grid()"
   ]
  },
  {
   "cell_type": "markdown",
   "id": "c3dd976e",
   "metadata": {},
   "source": [
    "### 1 on 1 rules approach"
   ]
  },
  {
   "cell_type": "code",
   "execution_count": 616,
   "id": "fb34fdf1",
   "metadata": {},
   "outputs": [],
   "source": [
    "sweet_ms_df = stats.zscore(ms_data_comp[sweet_descriptors_CAS])"
   ]
  },
  {
   "cell_type": "code",
   "execution_count": 630,
   "id": "57838da6",
   "metadata": {},
   "outputs": [
    {
     "data": {
      "text/plain": [
       "2.1859807496782344"
      ]
     },
     "execution_count": 630,
     "metadata": {},
     "output_type": "execute_result"
    }
   ],
   "source": [
    "max(sweet_ms_df.max())"
   ]
  },
  {
   "cell_type": "code",
   "execution_count": 631,
   "id": "6fe3042d",
   "metadata": {},
   "outputs": [],
   "source": [
    "zscore_range=np.linspace(min(sweet_ms_df.min()),max(sweet_ms_df.max()), 1000) # Since we only use zscored data, this range can be used everywhere \n",
    "\n",
    "cas_antecedents = [] # we can just use an array, since the names are saved in the antecedent objects\n",
    "# we only use the sweet descriptors \n",
    "for cas in sweet_descriptors_CAS:\n",
    "    cas_name = str(cas)  \n",
    "    cas_antecedent = ctrl.Antecedent(zscore_range, cas_name)\n",
    "    cas_antecedent.automf(3)\n",
    "    \n",
    "    cas_antecedents.append( cas_antecedent) \n",
    "    \n",
    "osa_sweet = ctrl.Consequent(zscore_range, 'osa_sweet')\n",
    "osa_sweet.automf(3)"
   ]
  },
  {
   "cell_type": "code",
   "execution_count": 640,
   "id": "4269986b",
   "metadata": {},
   "outputs": [],
   "source": [
    "rule_list = []\n",
    "for cas_sweet in cas_antecedents:\n",
    "    rule_list.append(ctrl.Rule(cas_sweet['good'], osa_sweet['good']))\n",
    "    rule_list.append(ctrl.Rule(cas_sweet['average'], osa_sweet['average']))\n",
    "    rule_list.append(ctrl.Rule(cas_sweet['poor'], osa_sweet['poor']))\n"
   ]
  },
  {
   "cell_type": "code",
   "execution_count": 641,
   "id": "81c363ab",
   "metadata": {},
   "outputs": [],
   "source": [
    "# Set up the system \n",
    "fuzzy_ctrl = ctrl.ControlSystem(rules)\n",
    "fuzzy = ctrl.ControlSystemSimulation(fuzzy_ctrl)"
   ]
  },
  {
   "cell_type": "code",
   "execution_count": 642,
   "id": "37f55f95",
   "metadata": {},
   "outputs": [
    {
     "name": "stdout",
     "output_type": "stream",
     "text": [
      "panelist score for sweet:  2.8994868079314258\n",
      "prediction score for sweet:  0.41735833472444034\n"
     ]
    }
   ],
   "source": [
    "for index,entry in sweet_ms_df.loc['000930'].items():\n",
    "    fuzzy.input[ index ] = entry\n",
    "    \n",
    "fuzzy.compute()  \n",
    "predictions  = fuzzy.output['osa_sweet']\n",
    "\n",
    "references = stats.zscore(panelist_data_comp).loc['000930']['Sweet']\n",
    "\n",
    "print(\"panelist score for sweet: \" , references)\n",
    "print(\"prediction score for sweet: \", predictions)"
   ]
  },
  {
   "cell_type": "code",
   "execution_count": 644,
   "id": "b334db3f",
   "metadata": {},
   "outputs": [
    {
     "name": "stdout",
     "output_type": "stream",
     "text": [
      "panelist score for sweet:  -0.877034852647026\n",
      "prediction score for sweet:  0.6783272961770778\n"
     ]
    }
   ],
   "source": [
    "for index,entry in sweet_ms_df.loc['000656'].items():\n",
    "    fuzzy.input[ index ] = entry\n",
    "    \n",
    "fuzzy.compute()  \n",
    "predictions  = fuzzy.output['osa_sweet']\n",
    "\n",
    "references = stats.zscore(panelist_data_comp).loc['000656']['Sweet']\n",
    "\n",
    "print(\"panelist score for sweet: \" , references)\n",
    "print(\"prediction score for sweet: \", predictions)"
   ]
  },
  {
   "cell_type": "markdown",
   "id": "2fd84025",
   "metadata": {},
   "source": [
    "### 7 parameters"
   ]
  },
  {
   "cell_type": "code",
   "execution_count": 656,
   "id": "be563dc7",
   "metadata": {},
   "outputs": [],
   "source": [
    "zscore_range=np.linspace(-3,3,61) # Since we only use zscored data, this range can be used everywhere \n",
    "\n",
    "cas_antecedents = [] # we can just use an array, since the names are saved in the antecedent objects\n",
    "# we only use the sweet descriptors \n",
    "for cas in sweet_descriptors_CAS:\n",
    "    cas_name = str(cas)  \n",
    "    cas_antecedent = ctrl.Antecedent(zscore_range, cas_name)\n",
    "    cas_antecedent.automf(7)\n",
    "    \n",
    "    cas_antecedents.append( cas_antecedent) \n",
    "    \n",
    "#osa_sweet = ctrl.Consequent(zscore_range, 'osa_sweet')\n",
    "osa_sweet = ctrl.Consequent(np.arange(0, 100, 1), 'osa_sweet')\n",
    "\n",
    "osa_sweet.automf(7)"
   ]
  },
  {
   "cell_type": "code",
   "execution_count": 659,
   "id": "0801c8cf",
   "metadata": {},
   "outputs": [],
   "source": [
    "rule_list = []\n",
    "def rule_maker(cas_sweet):\n",
    "    rule_list.append(ctrl.Rule(cas_sweet['good'], osa_sweet['good']))\n",
    "    rule_list.append(ctrl.Rule(cas_sweet['excellent'], osa_sweet['excellent']))\n",
    "    rule_list.append(ctrl.Rule(cas_sweet['decent'], osa_sweet['decent']))\n",
    "    rule_list.append(ctrl.Rule(cas_sweet['mediocre'], osa_sweet['mediocre']))\n",
    "    rule_list.append(ctrl.Rule(cas_sweet['average'], osa_sweet['average']))\n",
    "    rule_list.append(ctrl.Rule(cas_sweet['poor'], osa_sweet['poor']))\n",
    "    rule_list.append(ctrl.Rule(cas_sweet['dismal'], osa_sweet['dismal']))\n",
    "\n"
   ]
  },
  {
   "cell_type": "code",
   "execution_count": 660,
   "id": "35df238b",
   "metadata": {},
   "outputs": [],
   "source": [
    "for cas_antecedent in cas_antecedents:\n",
    "    rule_maker(cas_antecedent)"
   ]
  },
  {
   "cell_type": "code",
   "execution_count": 663,
   "id": "ecc2098a",
   "metadata": {},
   "outputs": [],
   "source": [
    "fuzzy_ctrl = ctrl.ControlSystem(rule_list)\n",
    "fuzzy = ctrl.ControlSystemSimulation(fuzzy_ctrl)"
   ]
  },
  {
   "cell_type": "code",
   "execution_count": 664,
   "id": "35e9f2a3",
   "metadata": {},
   "outputs": [
    {
     "name": "stdout",
     "output_type": "stream",
     "text": [
      "panelist score for sweet:  50\n",
      "prediction score for sweet:  51.594845158088724\n"
     ]
    },
    {
     "name": "stderr",
     "output_type": "stream",
     "text": [
      "c:\\Users\\Franz\\AppData\\Local\\Programs\\Python\\Python39\\lib\\site-packages\\skfuzzy\\control\\fuzzyvariable.py:122: UserWarning: Matplotlib is currently using module://matplotlib_inline.backend_inline, which is a non-GUI backend, so cannot show the figure.\n",
      "  fig.show()\n"
     ]
    },
    {
     "data": {
      "image/png": "[encoded data removed]",
      "text/plain": [
       "<Figure size 432x288 with 1 Axes>"
      ]
     },
     "metadata": {
      "needs_background": "light"
     },
     "output_type": "display_data"
    }
   ],
   "source": [
    "for index, intensitiy in sweet_ms_df.loc['000839'].items():\n",
    "    fuzzy.input[index] = intensitiy\n",
    "    \n",
    "fuzzy.compute()\n",
    "\n",
    "prediction = fuzzy.output['osa_sweet'] \n",
    "references = (panelist_data_comp).loc['000839']['Sweet']\n",
    "\n",
    "print(\"panelist score for sweet: \" , references)\n",
    "print(\"prediction score for sweet: \", prediction)\n",
    "\n",
    "osa_sweet.view(sim=fuzzy)"
   ]
  },
  {
   "cell_type": "code",
   "execution_count": 668,
   "id": "66035d9b",
   "metadata": {},
   "outputs": [
    {
     "name": "stdout",
     "output_type": "stream",
     "text": [
      "panelist score for sweet:  60\n",
      "prediction score for sweet:  52.96842346784346\n"
     ]
    },
    {
     "name": "stderr",
     "output_type": "stream",
     "text": [
      "c:\\Users\\Franz\\AppData\\Local\\Programs\\Python\\Python39\\lib\\site-packages\\skfuzzy\\control\\fuzzyvariable.py:122: UserWarning: Matplotlib is currently using module://matplotlib_inline.backend_inline, which is a non-GUI backend, so cannot show the figure.\n",
      "  fig.show()\n"
     ]
    },
    {
     "data": {
      "image/png": "[encoded data removed]",
      "text/plain": [
       "<Figure size 432x288 with 1 Axes>"
      ]
     },
     "metadata": {
      "needs_background": "light"
     },
     "output_type": "display_data"
    }
   ],
   "source": [
    "for index, intensitiy in sweet_ms_df.loc['000425'].items():\n",
    "    fuzzy.input[index] = intensitiy\n",
    "    \n",
    "fuzzy.compute()\n",
    "\n",
    "prediction = fuzzy.output['osa_sweet'] \n",
    "references = panelist_data_comp.loc['000425']['Sweet']\n",
    "\n",
    "print(\"panelist score for sweet: \" , references)\n",
    "print(\"prediction score for sweet: \", prediction)\n",
    "\n",
    "osa_sweet.view(sim=fuzzy)"
   ]
  },
  {
   "cell_type": "code",
   "execution_count": 683,
   "id": "74d2ac63",
   "metadata": {},
   "outputs": [
    {
     "data": {
      "text/html": [
       "<div>\n",
       "<style scoped>\n",
       "    .dataframe tbody tr th:only-of-type {\n",
       "        vertical-align: middle;\n",
       "    }\n",
       "\n",
       "    .dataframe tbody tr th {\n",
       "        vertical-align: top;\n",
       "    }\n",
       "\n",
       "    .dataframe thead th {\n",
       "        text-align: right;\n",
       "    }\n",
       "</style>\n",
       "<table border=\"1\" class=\"dataframe\">\n",
       "  <thead>\n",
       "    <tr style=\"text-align: right;\">\n",
       "      <th></th>\n",
       "      <th>100-51-6</th>\n",
       "      <th>101-97-3</th>\n",
       "      <th>10486-19-8</th>\n",
       "      <th>106-25-2</th>\n",
       "      <th>106-70-7</th>\n",
       "      <th>1118-27-0</th>\n",
       "      <th>112-44-7</th>\n",
       "      <th>1139-30-6</th>\n",
       "      <th>115-95-7</th>\n",
       "      <th>116-26-7</th>\n",
       "      <th>...</th>\n",
       "      <th>78-36-4</th>\n",
       "      <th>90-05-1</th>\n",
       "      <th>91-64-5</th>\n",
       "      <th>93-58-3</th>\n",
       "      <th>939-48-0</th>\n",
       "      <th>94-59-7</th>\n",
       "      <th>95-93-2</th>\n",
       "      <th>96-48-0</th>\n",
       "      <th>97-62-1</th>\n",
       "      <th>98-01-1</th>\n",
       "    </tr>\n",
       "    <tr>\n",
       "      <th>sample_key</th>\n",
       "      <th></th>\n",
       "      <th></th>\n",
       "      <th></th>\n",
       "      <th></th>\n",
       "      <th></th>\n",
       "      <th></th>\n",
       "      <th></th>\n",
       "      <th></th>\n",
       "      <th></th>\n",
       "      <th></th>\n",
       "      <th></th>\n",
       "      <th></th>\n",
       "      <th></th>\n",
       "      <th></th>\n",
       "      <th></th>\n",
       "      <th></th>\n",
       "      <th></th>\n",
       "      <th></th>\n",
       "      <th></th>\n",
       "      <th></th>\n",
       "      <th></th>\n",
       "    </tr>\n",
       "  </thead>\n",
       "  <tbody>\n",
       "    <tr>\n",
       "      <th>000656</th>\n",
       "      <td>1.120077</td>\n",
       "      <td>-0.273488</td>\n",
       "      <td>-1.125615</td>\n",
       "      <td>0.590098</td>\n",
       "      <td>-1.052540</td>\n",
       "      <td>-0.296693</td>\n",
       "      <td>0.903637</td>\n",
       "      <td>-1.176447</td>\n",
       "      <td>-1.256853</td>\n",
       "      <td>1.080274</td>\n",
       "      <td>...</td>\n",
       "      <td>-1.066894</td>\n",
       "      <td>1.240920</td>\n",
       "      <td>1.543360</td>\n",
       "      <td>-0.004614</td>\n",
       "      <td>-0.273488</td>\n",
       "      <td>-0.759041</td>\n",
       "      <td>1.16895</td>\n",
       "      <td>NaN</td>\n",
       "      <td>-1.026038</td>\n",
       "      <td>NaN</td>\n",
       "    </tr>\n",
       "    <tr>\n",
       "      <th>000657</th>\n",
       "      <td>0.223888</td>\n",
       "      <td>-0.644132</td>\n",
       "      <td>-1.301555</td>\n",
       "      <td>1.348245</td>\n",
       "      <td>-1.275200</td>\n",
       "      <td>-1.207881</td>\n",
       "      <td>0.871206</td>\n",
       "      <td>-1.294999</td>\n",
       "      <td>-1.256853</td>\n",
       "      <td>0.336258</td>\n",
       "      <td>...</td>\n",
       "      <td>-1.293400</td>\n",
       "      <td>1.081650</td>\n",
       "      <td>-0.595761</td>\n",
       "      <td>-0.646396</td>\n",
       "      <td>-0.644132</td>\n",
       "      <td>-0.901358</td>\n",
       "      <td>1.00688</td>\n",
       "      <td>NaN</td>\n",
       "      <td>-1.169469</td>\n",
       "      <td>NaN</td>\n",
       "    </tr>\n",
       "    <tr>\n",
       "      <th>000658</th>\n",
       "      <td>0.499541</td>\n",
       "      <td>0.610953</td>\n",
       "      <td>-0.395512</td>\n",
       "      <td>0.012166</td>\n",
       "      <td>-0.964711</td>\n",
       "      <td>-0.330483</td>\n",
       "      <td>0.433093</td>\n",
       "      <td>-0.214874</td>\n",
       "      <td>-0.233203</td>\n",
       "      <td>0.518724</td>\n",
       "      <td>...</td>\n",
       "      <td>-0.381319</td>\n",
       "      <td>0.756957</td>\n",
       "      <td>-0.595920</td>\n",
       "      <td>0.190751</td>\n",
       "      <td>0.610953</td>\n",
       "      <td>0.492343</td>\n",
       "      <td>0.83622</td>\n",
       "      <td>NaN</td>\n",
       "      <td>-0.505596</td>\n",
       "      <td>NaN</td>\n",
       "    </tr>\n",
       "    <tr>\n",
       "      <th>000838</th>\n",
       "      <td>-0.750047</td>\n",
       "      <td>0.770240</td>\n",
       "      <td>-0.229632</td>\n",
       "      <td>-0.494955</td>\n",
       "      <td>1.675332</td>\n",
       "      <td>2.095377</td>\n",
       "      <td>-1.343200</td>\n",
       "      <td>1.551961</td>\n",
       "      <td>1.282346</td>\n",
       "      <td>1.725824</td>\n",
       "      <td>...</td>\n",
       "      <td>1.667013</td>\n",
       "      <td>-1.502222</td>\n",
       "      <td>0.879944</td>\n",
       "      <td>1.538547</td>\n",
       "      <td>0.770240</td>\n",
       "      <td>-0.363146</td>\n",
       "      <td>-1.38869</td>\n",
       "      <td>NaN</td>\n",
       "      <td>0.863139</td>\n",
       "      <td>NaN</td>\n",
       "    </tr>\n",
       "    <tr>\n",
       "      <th>000839</th>\n",
       "      <td>-1.377334</td>\n",
       "      <td>0.492080</td>\n",
       "      <td>-0.790020</td>\n",
       "      <td>1.019178</td>\n",
       "      <td>1.193850</td>\n",
       "      <td>2.095377</td>\n",
       "      <td>-1.343200</td>\n",
       "      <td>0.489983</td>\n",
       "      <td>-0.884875</td>\n",
       "      <td>1.879052</td>\n",
       "      <td>...</td>\n",
       "      <td>0.891104</td>\n",
       "      <td>-1.502222</td>\n",
       "      <td>1.543360</td>\n",
       "      <td>-1.185561</td>\n",
       "      <td>0.492080</td>\n",
       "      <td>1.341003</td>\n",
       "      <td>-1.38869</td>\n",
       "      <td>NaN</td>\n",
       "      <td>-1.191403</td>\n",
       "      <td>NaN</td>\n",
       "    </tr>\n",
       "    <tr>\n",
       "      <th>...</th>\n",
       "      <td>...</td>\n",
       "      <td>...</td>\n",
       "      <td>...</td>\n",
       "      <td>...</td>\n",
       "      <td>...</td>\n",
       "      <td>...</td>\n",
       "      <td>...</td>\n",
       "      <td>...</td>\n",
       "      <td>...</td>\n",
       "      <td>...</td>\n",
       "      <td>...</td>\n",
       "      <td>...</td>\n",
       "      <td>...</td>\n",
       "      <td>...</td>\n",
       "      <td>...</td>\n",
       "      <td>...</td>\n",
       "      <td>...</td>\n",
       "      <td>...</td>\n",
       "      <td>...</td>\n",
       "      <td>...</td>\n",
       "      <td>...</td>\n",
       "    </tr>\n",
       "    <tr>\n",
       "      <th>000925</th>\n",
       "      <td>-0.728899</td>\n",
       "      <td>0.632996</td>\n",
       "      <td>0.786983</td>\n",
       "      <td>-0.801354</td>\n",
       "      <td>0.636852</td>\n",
       "      <td>-0.736739</td>\n",
       "      <td>1.113349</td>\n",
       "      <td>-0.075852</td>\n",
       "      <td>0.169599</td>\n",
       "      <td>-0.656721</td>\n",
       "      <td>...</td>\n",
       "      <td>-0.672164</td>\n",
       "      <td>1.136083</td>\n",
       "      <td>0.950417</td>\n",
       "      <td>-0.581977</td>\n",
       "      <td>0.632996</td>\n",
       "      <td>1.139114</td>\n",
       "      <td>1.16895</td>\n",
       "      <td>NaN</td>\n",
       "      <td>-0.187956</td>\n",
       "      <td>NaN</td>\n",
       "    </tr>\n",
       "    <tr>\n",
       "      <th>000926</th>\n",
       "      <td>0.478238</td>\n",
       "      <td>0.835232</td>\n",
       "      <td>-0.097278</td>\n",
       "      <td>-0.783738</td>\n",
       "      <td>-1.092028</td>\n",
       "      <td>-0.679681</td>\n",
       "      <td>1.113349</td>\n",
       "      <td>-0.376078</td>\n",
       "      <td>0.394255</td>\n",
       "      <td>1.051482</td>\n",
       "      <td>...</td>\n",
       "      <td>-0.260702</td>\n",
       "      <td>1.240920</td>\n",
       "      <td>0.025232</td>\n",
       "      <td>0.681588</td>\n",
       "      <td>0.835232</td>\n",
       "      <td>1.112562</td>\n",
       "      <td>1.16895</td>\n",
       "      <td>NaN</td>\n",
       "      <td>-0.259641</td>\n",
       "      <td>NaN</td>\n",
       "    </tr>\n",
       "    <tr>\n",
       "      <th>000927</th>\n",
       "      <td>-0.678927</td>\n",
       "      <td>1.555067</td>\n",
       "      <td>0.396214</td>\n",
       "      <td>-1.080677</td>\n",
       "      <td>-0.657614</td>\n",
       "      <td>-0.669729</td>\n",
       "      <td>1.113349</td>\n",
       "      <td>0.435182</td>\n",
       "      <td>0.956004</td>\n",
       "      <td>-0.675703</td>\n",
       "      <td>...</td>\n",
       "      <td>-0.450153</td>\n",
       "      <td>0.633343</td>\n",
       "      <td>-0.077152</td>\n",
       "      <td>-0.138155</td>\n",
       "      <td>1.555067</td>\n",
       "      <td>1.299486</td>\n",
       "      <td>1.16895</td>\n",
       "      <td>NaN</td>\n",
       "      <td>-0.553303</td>\n",
       "      <td>NaN</td>\n",
       "    </tr>\n",
       "    <tr>\n",
       "      <th>000929</th>\n",
       "      <td>-0.499826</td>\n",
       "      <td>-0.191094</td>\n",
       "      <td>1.031641</td>\n",
       "      <td>-0.512816</td>\n",
       "      <td>1.410421</td>\n",
       "      <td>-0.964172</td>\n",
       "      <td>1.113349</td>\n",
       "      <td>-0.242950</td>\n",
       "      <td>0.175730</td>\n",
       "      <td>-0.796281</td>\n",
       "      <td>...</td>\n",
       "      <td>-0.795523</td>\n",
       "      <td>0.892165</td>\n",
       "      <td>1.450441</td>\n",
       "      <td>-1.299443</td>\n",
       "      <td>-0.191094</td>\n",
       "      <td>1.539804</td>\n",
       "      <td>1.16895</td>\n",
       "      <td>NaN</td>\n",
       "      <td>0.124131</td>\n",
       "      <td>NaN</td>\n",
       "    </tr>\n",
       "    <tr>\n",
       "      <th>000930</th>\n",
       "      <td>-0.989619</td>\n",
       "      <td>-1.027418</td>\n",
       "      <td>1.248602</td>\n",
       "      <td>-1.292829</td>\n",
       "      <td>-0.435550</td>\n",
       "      <td>-0.296965</td>\n",
       "      <td>1.113349</td>\n",
       "      <td>-0.556346</td>\n",
       "      <td>0.779275</td>\n",
       "      <td>-0.951400</td>\n",
       "      <td>...</td>\n",
       "      <td>0.485539</td>\n",
       "      <td>1.089995</td>\n",
       "      <td>-0.385992</td>\n",
       "      <td>0.593312</td>\n",
       "      <td>-1.027418</td>\n",
       "      <td>-0.038227</td>\n",
       "      <td>1.16895</td>\n",
       "      <td>NaN</td>\n",
       "      <td>1.539021</td>\n",
       "      <td>NaN</td>\n",
       "    </tr>\n",
       "  </tbody>\n",
       "</table>\n",
       "<p>197 rows × 61 columns</p>\n",
       "</div>"
      ],
      "text/plain": [
       "            100-51-6  101-97-3  10486-19-8  106-25-2  106-70-7  1118-27-0  \\\n",
       "sample_key                                                                  \n",
       "000656      1.120077 -0.273488   -1.125615  0.590098 -1.052540  -0.296693   \n",
       "000657      0.223888 -0.644132   -1.301555  1.348245 -1.275200  -1.207881   \n",
       "000658      0.499541  0.610953   -0.395512  0.012166 -0.964711  -0.330483   \n",
       "000838     -0.750047  0.770240   -0.229632 -0.494955  1.675332   2.095377   \n",
       "000839     -1.377334  0.492080   -0.790020  1.019178  1.193850   2.095377   \n",
       "...              ...       ...         ...       ...       ...        ...   \n",
       "000925     -0.728899  0.632996    0.786983 -0.801354  0.636852  -0.736739   \n",
       "000926      0.478238  0.835232   -0.097278 -0.783738 -1.092028  -0.679681   \n",
       "000927     -0.678927  1.555067    0.396214 -1.080677 -0.657614  -0.669729   \n",
       "000929     -0.499826 -0.191094    1.031641 -0.512816  1.410421  -0.964172   \n",
       "000930     -0.989619 -1.027418    1.248602 -1.292829 -0.435550  -0.296965   \n",
       "\n",
       "            112-44-7  1139-30-6  115-95-7  116-26-7  ...   78-36-4   90-05-1  \\\n",
       "sample_key                                           ...                       \n",
       "000656      0.903637  -1.176447 -1.256853  1.080274  ... -1.066894  1.240920   \n",
       "000657      0.871206  -1.294999 -1.256853  0.336258  ... -1.293400  1.081650   \n",
       "000658      0.433093  -0.214874 -0.233203  0.518724  ... -0.381319  0.756957   \n",
       "000838     -1.343200   1.551961  1.282346  1.725824  ...  1.667013 -1.502222   \n",
       "000839     -1.343200   0.489983 -0.884875  1.879052  ...  0.891104 -1.502222   \n",
       "...              ...        ...       ...       ...  ...       ...       ...   \n",
       "000925      1.113349  -0.075852  0.169599 -0.656721  ... -0.672164  1.136083   \n",
       "000926      1.113349  -0.376078  0.394255  1.051482  ... -0.260702  1.240920   \n",
       "000927      1.113349   0.435182  0.956004 -0.675703  ... -0.450153  0.633343   \n",
       "000929      1.113349  -0.242950  0.175730 -0.796281  ... -0.795523  0.892165   \n",
       "000930      1.113349  -0.556346  0.779275 -0.951400  ...  0.485539  1.089995   \n",
       "\n",
       "             91-64-5   93-58-3  939-48-0   94-59-7  95-93-2  96-48-0  \\\n",
       "sample_key                                                             \n",
       "000656      1.543360 -0.004614 -0.273488 -0.759041  1.16895      NaN   \n",
       "000657     -0.595761 -0.646396 -0.644132 -0.901358  1.00688      NaN   \n",
       "000658     -0.595920  0.190751  0.610953  0.492343  0.83622      NaN   \n",
       "000838      0.879944  1.538547  0.770240 -0.363146 -1.38869      NaN   \n",
       "000839      1.543360 -1.185561  0.492080  1.341003 -1.38869      NaN   \n",
       "...              ...       ...       ...       ...      ...      ...   \n",
       "000925      0.950417 -0.581977  0.632996  1.139114  1.16895      NaN   \n",
       "000926      0.025232  0.681588  0.835232  1.112562  1.16895      NaN   \n",
       "000927     -0.077152 -0.138155  1.555067  1.299486  1.16895      NaN   \n",
       "000929      1.450441 -1.299443 -0.191094  1.539804  1.16895      NaN   \n",
       "000930     -0.385992  0.593312 -1.027418 -0.038227  1.16895      NaN   \n",
       "\n",
       "             97-62-1  98-01-1  \n",
       "sample_key                     \n",
       "000656     -1.026038      NaN  \n",
       "000657     -1.169469      NaN  \n",
       "000658     -0.505596      NaN  \n",
       "000838      0.863139      NaN  \n",
       "000839     -1.191403      NaN  \n",
       "...              ...      ...  \n",
       "000925     -0.187956      NaN  \n",
       "000926     -0.259641      NaN  \n",
       "000927     -0.553303      NaN  \n",
       "000929      0.124131      NaN  \n",
       "000930      1.539021      NaN  \n",
       "\n",
       "[197 rows x 61 columns]"
      ]
     },
     "execution_count": 683,
     "metadata": {},
     "output_type": "execute_result"
    }
   ],
   "source": [
    "sweet_ms_df"
   ]
  },
  {
   "cell_type": "code",
   "execution_count": 688,
   "id": "e1c19513",
   "metadata": {},
   "outputs": [
    {
     "name": "stdout",
     "output_type": "stream",
     "text": [
      "panelist score for sweet:  60\n",
      "prediction score for sweet:  52.96842346784346\n"
     ]
    },
    {
     "name": "stderr",
     "output_type": "stream",
     "text": [
      "c:\\Users\\Franz\\AppData\\Local\\Programs\\Python\\Python39\\lib\\site-packages\\skfuzzy\\control\\fuzzyvariable.py:122: UserWarning: Matplotlib is currently using module://matplotlib_inline.backend_inline, which is a non-GUI backend, so cannot show the figure.\n",
      "  fig.show()\n"
     ]
    },
    {
     "data": {
      "image/png": "[encoded data removed]",
      "text/plain": [
       "<Figure size 432x288 with 1 Axes>"
      ]
     },
     "metadata": {
      "needs_background": "light"
     },
     "output_type": "display_data"
    }
   ],
   "source": [
    "for index, intensitiy in sweet_ms_df.loc['000425'].items():\n",
    "    fuzzy.input[index] = intensitiy\n",
    "    \n",
    "fuzzy.compute()\n",
    "\n",
    "prediction = fuzzy.output['osa_sweet'] \n",
    "references = panelist_data_comp.loc['000425']['Sweet']\n",
    "\n",
    "print(\"panelist score for sweet: \" , references)\n",
    "print(\"prediction score for sweet: \", prediction)\n",
    "\n",
    "osa_sweet.view(sim=fuzzy)"
   ]
  },
  {
   "cell_type": "code",
   "execution_count": 669,
   "id": "e5f007fe",
   "metadata": {},
   "outputs": [],
   "source": [
    "predictions = []\n",
    "for index, row in sweet_ms_df.iterrows():\n",
    "    for cas in sweet_descriptors_CAS:\n",
    "        fuzzy.input[ cas ] = row[cas]\n",
    "    \n",
    "    fuzzy.compute()  \n",
    "    predictions.append(fuzzy.output['osa_sweet'])\n",
    "\n",
    "references = np.array(panelist_data_comp['Sweet'])\n",
    "\n"
   ]
  },
  {
   "cell_type": "code",
   "execution_count": 670,
   "id": "49a47bae",
   "metadata": {},
   "outputs": [
    {
     "data": {
      "text/plain": [
       "(array([ 1.,  1.,  3., 17., 15., 31., 95., 22.,  4.,  8.]),\n",
       " array([42.40787891, 43.8959557 , 45.38403249, 46.87210927, 48.36018606,\n",
       "        49.84826285, 51.33633963, 52.82441642, 54.31249321, 55.80056999,\n",
       "        57.28864678]),\n",
       " <BarContainer object of 10 artists>)"
      ]
     },
     "execution_count": 670,
     "metadata": {},
     "output_type": "execute_result"
    },
    {
     "data": {
      "image/png": "[encoded data removed]",
      "text/plain": [
       "<Figure size 432x288 with 1 Axes>"
      ]
     },
     "metadata": {
      "needs_background": "light"
     },
     "output_type": "display_data"
    }
   ],
   "source": [
    "plt.hist(predictions)    \n",
    "# all predicitions are between 40 and 60 ? "
   ]
  },
  {
   "cell_type": "code",
   "execution_count": 671,
   "id": "8ac54e5e",
   "metadata": {},
   "outputs": [
    {
     "data": {
      "text/plain": [
       "(array([ 1., 12.,  0., 57.,  0., 75., 35.,  0., 16.,  1.]),\n",
       " array([10., 16., 22., 28., 34., 40., 46., 52., 58., 64., 70.]),\n",
       " <BarContainer object of 10 artists>)"
      ]
     },
     "execution_count": 671,
     "metadata": {},
     "output_type": "execute_result"
    },
    {
     "data": {
      "image/png": "[encoded data removed]",
      "text/plain": [
       "<Figure size 432x288 with 1 Axes>"
      ]
     },
     "metadata": {
      "needs_background": "light"
     },
     "output_type": "display_data"
    }
   ],
   "source": [
    "plt.hist(references)"
   ]
  },
  {
   "cell_type": "code",
   "execution_count": 672,
   "id": "d3fcfb72",
   "metadata": {},
   "outputs": [
    {
     "data": {
      "text/plain": [
       "Text(0.5, 1.0, 'Correlation: -0.03738773146927827')"
      ]
     },
     "execution_count": 672,
     "metadata": {},
     "output_type": "execute_result"
    },
    {
     "data": {
      "image/png": "[encoded data removed]",
      "text/plain": [
       "<Figure size 432x288 with 1 Axes>"
      ]
     },
     "metadata": {
      "needs_background": "light"
     },
     "output_type": "display_data"
    }
   ],
   "source": [
    "plt.plot(predictions, references,'o')\n",
    "plt.title(\"Correlation: \"+ str(np.corrcoef(predictions, references)[0,1]))\n"
   ]
  },
  {
   "cell_type": "markdown",
   "id": "c9954247",
   "metadata": {},
   "source": [
    "### Try and Error:"
   ]
  },
  {
   "cell_type": "code",
   "execution_count": 347,
   "metadata": {},
   "outputs": [
    {
     "name": "stdout",
     "output_type": "stream",
     "text": [
      "cas_001 : -3\n",
      "cas_002 : -3\n",
      "cas_003 : -3\n",
      "\n",
      "5.999999999999999\n"
     ]
    },
    {
     "name": "stderr",
     "output_type": "stream",
     "text": [
      "c:\\Users\\Franz\\AppData\\Local\\Programs\\Python\\Python39\\lib\\site-packages\\skfuzzy\\control\\fuzzyvariable.py:122: UserWarning: Matplotlib is currently using module://matplotlib_inline.backend_inline, which is a non-GUI backend, so cannot show the figure.\n",
      "  fig.show()\n"
     ]
    },
    {
     "data": {
      "image/png": "[encoded data removed]",
      "text/plain": [
       "<Figure size 432x288 with 1 Axes>"
      ]
     },
     "metadata": {
      "needs_background": "light"
     },
     "output_type": "display_data"
    }
   ],
   "source": [
    "# basic example \n",
    "\n",
    "cas_range=np.linspace(-3,3,197)\n",
    "zscore_range=np.linspace(-3,3,25) # Since we only use zscored data, this range can be used everywhere \n",
    "#cas_range = np.array(ms_data_comp['6485-40-1'])\n",
    "             \n",
    "cas_001 = ctrl.Antecedent(zscore_range, 'cas_001')\n",
    "cas_002 = ctrl.Antecedent(zscore_range, 'cas_002')\n",
    "cas_003 = ctrl.Antecedent(zscore_range, 'cas_003')\n",
    "\n",
    "# Auto-membership function population is possible with .automf(3, 5, or 7)\n",
    "cas_001.automf(7)\n",
    "cas_002.automf(7)\n",
    "cas_003.automf(7)\n",
    "\n",
    "#osa_sweet = ctrl.Consequent(cas_range, 'osa_sweet')\n",
    "osa_sweet = ctrl.Consequent(np.arange(0, 100, 10), 'osa_sweet')\n",
    "osa_sweet.automf(7)\n",
    "\n",
    "\n",
    "rule_list = []\n",
    "def rule_maker(cas_sweet):\n",
    "    rule_list.append(ctrl.Rule(cas_sweet['good'], osa_sweet['good']))\n",
    "    rule_list.append(ctrl.Rule(cas_sweet['excellent'], osa_sweet['excellent']))\n",
    "    rule_list.append(ctrl.Rule(cas_sweet['decent'], osa_sweet['decent']))\n",
    "    rule_list.append(ctrl.Rule(cas_sweet['mediocre'], osa_sweet['mediocre']))\n",
    "    rule_list.append(ctrl.Rule(cas_sweet['average'], osa_sweet['average']))\n",
    "    rule_list.append(ctrl.Rule(cas_sweet['poor'], osa_sweet['poor']))\n",
    "    rule_list.append(ctrl.Rule(cas_sweet['dismal'], osa_sweet['dismal']))\n",
    "\n",
    "rule_maker(cas_001)\n",
    "rule_maker(cas_002)\n",
    "rule_maker(cas_003)\n",
    "\n",
    "fuzzy_ctrl = ctrl.ControlSystem(rule_list)\n",
    "fuzzy = ctrl.ControlSystemSimulation(fuzzy_ctrl)\n",
    "# Pass inputs to the ControlSystem using Antecedent labels with Pythonic API\n",
    "# Note: if you like passing many inputs all at once, use .inputs(dict_of_data)\n",
    "\n",
    "\n",
    "fuzzy.input['cas_001'] = -3\n",
    "fuzzy.input['cas_002'] = -3\n",
    "fuzzy.input['cas_003'] = -3\n",
    "print(fuzzy.input)\n",
    "# Crunch the numbers\n",
    "fuzzy.compute()\n",
    "\n",
    "prediction = fuzzy.output['osa_sweet'] \n",
    "\n",
    "print( prediction )\n",
    "osa_sweet.view(sim=fuzzy)"
   ]
  }
 ],
 "metadata": {
  "kernelspec": {
   "display_name": "Python 3",
   "language": "python",
   "name": "python3"
  },
  "language_info": {
   "codemirror_mode": {
    "name": "ipython",
    "version": 3
   },
   "file_extension": ".py",
   "mimetype": "text/x-python",
   "name": "python",
   "nbconvert_exporter": "python",
   "pygments_lexer": "ipython3",
   "version": "3.9.6"
  }
 },
 "nbformat": 4,
 "nbformat_minor": 5
}
