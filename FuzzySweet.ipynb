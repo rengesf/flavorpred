{
 "cells": [
  {
   "cell_type": "code",
   "execution_count": 155,
   "id": "d970528e772fe298",
   "metadata": {
    "ExecuteTime": {
     "end_time": "2023-09-28T10:05:42.329280636Z",
     "start_time": "2023-09-28T10:05:42.314997319Z"
    },
    "collapsed": true
   },
   "outputs": [],
   "source": [
    "import numpy as np\n",
    "from skfuzzy import control as ctrl\n",
    "from matplotlib import pyplot as plt \n",
    "import pandas as pd\n",
    "from scipy import stats\n",
    "from functools import reduce\n",
    "\n"
   ]
  },
  {
   "cell_type": "markdown",
   "id": "45af2ee2",
   "metadata": {},
   "source": [
    "##### load data"
   ]
  },
  {
   "cell_type": "code",
   "execution_count": 156,
   "id": "af9bd3d8",
   "metadata": {},
   "outputs": [
    {
     "data": {
      "text/plain": [
       "'data_dist = ms_data.copy()\\ndata_dist[\"sum\"] = data_dist.apply(lambda row:row.sum(), axis=1)\\ndata_dist[\\'median\\']= data_dist.apply(lambda row:row[:-1].median(), axis=1)\\ndata_dist[\\'mean\\']= data_dist.apply(lambda row:row[:-2].mean(), axis=1)\\ndata_norm = data_dist.apply(lambda row: row[:-3]/row[\\'mean\\'],axis=1)\\ndata_norm.index = data_dist.index\\ndata_norm2 = data_norm.apply(lambda col:col/col.median(),axis=0)\\nms_data = data_norm2'"
      ]
     },
     "execution_count": 156,
     "metadata": {},
     "output_type": "execute_result"
    }
   ],
   "source": [
    "data = pd.read_csv('data/cas_intensities.csv', delimiter=',', index_col = 0)\n",
    "# only use first repliate\n",
    "data = data[data[\"replicate\"]==1]\n",
    "ms_data = data.drop(columns=[\"replicate\"])\n",
    "'''data_dist = ms_data.copy()\n",
    "data_dist[\"sum\"] = data_dist.apply(lambda row:row.sum(), axis=1)\n",
    "data_dist['median']= data_dist.apply(lambda row:row[:-1].median(), axis=1)\n",
    "data_dist['mean']= data_dist.apply(lambda row:row[:-2].mean(), axis=1)\n",
    "data_norm = data_dist.apply(lambda row: row[:-3]/row['mean'],axis=1)\n",
    "data_norm.index = data_dist.index\n",
    "data_norm2 = data_norm.apply(lambda col:col/col.median(),axis=0)\n",
    "ms_data = data_norm2'''"
   ]
  },
  {
   "cell_type": "code",
   "execution_count": 3,
   "id": "437b3443",
   "metadata": {},
   "outputs": [
    {
     "name": "stdout",
     "output_type": "stream",
     "text": [
      "6485-40-1     -0.435880\n",
      "3033-23-6      0.075711\n",
      "21284-22-0    -0.418053\n",
      "38427-78-0    -0.383695\n",
      "495-61-4      -0.413705\n",
      "                 ...   \n",
      "713-95-1      -0.224200\n",
      "20307-84-0    -0.413705\n",
      "120021-96-7   -0.413705\n",
      "586-62-9      -0.325871\n",
      "710-04-3      -0.163435\n",
      "Length: 732, dtype: float64\n",
      "6485-40-1      1.894324\n",
      "3033-23-6      2.302065\n",
      "21284-22-0     1.891729\n",
      "38427-78-0     2.084914\n",
      "495-61-4       2.058207\n",
      "                 ...   \n",
      "713-95-1       2.258621\n",
      "20307-84-0     2.058207\n",
      "120021-96-7    2.058207\n",
      "586-62-9       2.155720\n",
      "710-04-3       1.986596\n",
      "Length: 732, dtype: float64\n",
      "6485-40-1     -3.0\n",
      "3033-23-6     -3.0\n",
      "21284-22-0    -3.0\n",
      "38427-78-0    -3.0\n",
      "495-61-4      -3.0\n",
      "              ... \n",
      "713-95-1      -3.0\n",
      "20307-84-0    -3.0\n",
      "120021-96-7   -3.0\n",
      "586-62-9      -3.0\n",
      "710-04-3      -3.0\n",
      "Length: 732, dtype: float64 6485-40-1      3.0\n",
      "3033-23-6      3.0\n",
      "21284-22-0     3.0\n",
      "38427-78-0     3.0\n",
      "495-61-4       3.0\n",
      "              ... \n",
      "713-95-1       3.0\n",
      "20307-84-0     3.0\n",
      "120021-96-7    3.0\n",
      "586-62-9       3.0\n",
      "710-04-3       3.0\n",
      "Length: 732, dtype: float64\n"
     ]
    }
   ],
   "source": [
    "'''import numpy as np\n",
    "df = ms_data\n",
    "scaled_data = 3 * ((df - df.mean()) / df.std())\n",
    "\n",
    "# Clip values to be within -3 and 3\n",
    "scaled_data = np.clip(scaled_data, -3, 3)\n",
    "\n",
    "# Check mean and standard deviation\n",
    "print(scaled_data.mean())\n",
    "print(scaled_data.std())\n",
    "print(scaled_data.min(), scaled_data.max())\n",
    "\n",
    "'''"
   ]
  },
  {
   "cell_type": "code",
   "execution_count": 157,
   "id": "33235680",
   "metadata": {},
   "outputs": [],
   "source": [
    "# filter cas numbers with no intenisties over all samples\n",
    "zeros = ms_data.columns[ms_data.eq(0).all()]\n",
    "ms_data= ms_data.drop(zeros, axis=1)"
   ]
  },
  {
   "cell_type": "code",
   "execution_count": 158,
   "id": "2156e6cc",
   "metadata": {},
   "outputs": [],
   "source": [
    "ms_data = stats.zscore(ms_data)"
   ]
  },
  {
   "cell_type": "code",
   "execution_count": 159,
   "id": "e72f3fbc",
   "metadata": {},
   "outputs": [],
   "source": [
    "panelist_data_df = pd.read_table(\"data/vlb_data_combined.txt\", delimiter=',', index_col = 1)\n",
    "panelist_data_df = panelist_data_df[panelist_data_df[\"panelist\"]==1]\n",
    "panelist_data_df = panelist_data_df.drop(columns=[\"panelist\", \"date\"])"
   ]
  },
  {
   "cell_type": "code",
   "execution_count": 160,
   "id": "5c607003",
   "metadata": {},
   "outputs": [],
   "source": [
    "# get only comparable samplekeys\n",
    "valid_indexes = [index for index in panelist_data_df.index if index in ms_data.index]\n",
    "ms_data_comp = ms_data.loc[valid_indexes]\n",
    "panelist_data_comp = panelist_data_df.loc[valid_indexes]"
   ]
  },
  {
   "cell_type": "code",
   "execution_count": 161,
   "id": "1c3ea73e",
   "metadata": {},
   "outputs": [],
   "source": [
    "# find CAS number to each molecule\n",
    "CAS_to_mol = pd.read_table(\"data/CAS_mol_OD.csv\", delimiter=',',  names= [\"CAS\",\"intensity\", \"odor\"])\n",
    "CAS_to_mol=CAS_to_mol.drop(columns=[\"intensity\",\"odor\"])\n",
    "CAS_to_mol= CAS_to_mol.drop_duplicates()\n",
    "CAS_to_mol = CAS_to_mol[~CAS_to_mol['CAS'].isin(zeros)]"
   ]
  },
  {
   "cell_type": "code",
   "execution_count": 162,
   "id": "9249933f",
   "metadata": {},
   "outputs": [],
   "source": [
    "# all molecules that where labeled as sweet in flavornet\n",
    "sweet_descriptors = [\"benzyl alcohol\",\"ethyl phenylacetate\",\"tridecanal\",\"nerol\",\"methyl hexanoate\",\"linalyl isovalerate\",\"undecanaldehyde\",\"caryophyllene oxide\",\"linalyl acetate\",\"safranal\",\"uncineol\",\"phenylethanal\",\"p-anisaldehyde\",\"eudesmol\",\"ethylmethyl pyrazine\",\"citronellyl butyrate\",\"4-methyl-3-penten-2-one\",\"nonyl acetate\",\"10-epi-γ-eudesmol\",\"β-bisabolol\",\"(Z)-6-dodecene-γ-lactone\",\"β-farnesene\",\"2-dodecenal\",\"γ-dodecalactone\",\"epoxy-β-ionone\",\"2-undecenal\",\"styrene glycol\",\"methyl furaneol\",\"(-)-cis-rose oxide\",\"(E)-β-ocimene\",\"dimethylmethoxyfuranone\",\"1,8-cineole\",\"ethylbenzaldehyde\",\"2-pentylthiophene\",\"α-farnesene\",\"methionol\",\"7-methoxycoumarin\",\"(Z)-3-hexenyl-2-methylbutanoate\",\"o-aminoacetophenone\",\"viridiflorol\",\"isopiperitone\",\"β-sinensal\",\"ethyl vanillate\",\"methyl butanoate\",\"p-methoxystyrene\",\"ethanol\",\"6-Methoxyeugenol\",\"4-hexanolide\",\"δ-dodecalactone\",\"sesquiphellandrene\",\"diethyl malate\",\"linalyl butyrate\",\"guaiacol\",\"coumarin\",\"methyl benzoate\",\"isopropyl benzoate\",\"safrole\",\"durene\",\"γ-butyrolactone\",\"ethyl isobutyrate\",\"furfural\"]\n",
    "fruit_descriptors = [\"ethyl phenylacetate\", \"geranyl valerate\", \"γ-heptalactone\", \"ethyl propionate\", \"diethyl acetal\", \"geranyl butyrate\", \"ethyl heptylate\", \"ethyl octanoate\", \"methyl hexanoate\", \"dimethylheptenal\", \"pentanone\", \"ethyl 3-methylbutanoate\", \"geranyl isovalerate\", \"isobutyl acetate\", \"ethoxypropanol\", \"methyl-2-butenal\", \"methylnonanedione\", \"linalyl acetate\", \"methyl geranate\", \"limonene oxide\", \"hydrocinnamic alcohol\", \"diethyl succinate\", \"ethyl hexanoate\", \"ethylmethyl pyrazine\", \"β-cubebene\", \"neryl acetate\", \"citronellyl butyrate\", \"hexyl acetate\", \"nonyl acetate\", \"butyl methylbutyrate\", \"pentenal\", \"isopentyldimethylpyrazine\", \"p-menth-1-en-9-ol\", \"hexadecanone\", \"octyl acetate\", \"γ-dodecalactone\", \"epoxy-β-ionone\", \"ethyl octenoate\", \"ethyl isohexanoate\", \"isobornyl propionate\", \"cedrenol\", \"p-menth-1-en-9-yl acetate\", \"cadinadiene\", \"(Z)-3-hexenyl hexanoate\", \"ethyl cyclohexanoate\", \"4-methylthio-2-butanone\", \"3,5-octadienone\", \"methyl cyclohexanecarboxylate\", \"2-pentylthiophene\", \"α-ocimene\", \"butanediol\", \"ethyl valerate\", \"pentanol\", \"isopiperitone\", \"butyl octanoate\", \"ethyl vanillate\", \"methyl butanoate\", \"2-methylbutyl acetate\", \"propyl hexanoate\", \"butyl hexanoate\", \"isopropyl butanoate\", \"spathulenol\", \"butanol\", \"δ-dodecalactone\", \"methyl quinoxaline\", \"sesquiphellandrene\", \"2-hexenol\", \"ethyl benzoate\", \"isopropyl benzoate\", \"ethyl lactate\", \"citronellyl isobutyrate\"]\n",
    "wood_descriptors = [\"α-muurolene\",\"cadina-1,4-dien-3-ol\",\"isocaryophyllene\",\"eudesmol\",\"α-ionone\",\"bornyl butyrate\",\"(E)-α-bergamotene\",\"linalool oxide\",\"ethyl pyrazine\",\"10-epi-γ-eudesmol\",\"germacrene B\",\"trans-sabinene hydrate\",\"dihydrolinalool\",\"isodihydrocarveol\",\"β-farnesene\",\"β-sesquiphellandrene\",\"δ-elemene\",\"α-calacorene\",\"epoxy-β-ionone\",\"germacrene D\",\"bicyclogermacrene\",\"alloaromadendrene\",\"α-thujene\",\"oxo-β-ionone\",\"(-)-γ-elemene\",\"γ-muurolene\",\"sabinene\",\"α-guaiene\",\"α-copaene\",\"γ-cadinene\",\"nerolidol\",\"β-eudesmol\",\"α-cadinol\",\"δ-cadinene\",\"dill apiol\",\"aromadendrene\",\"α-gurjunene\",\"guaiol\",\"α-farnesene\",\"γ-selinene\",\"cuminica lcohol\",\"perillen\",\"elemol\",\"α-humulene\",\"β-caryophyllene\",\"β-guaiene\"]\n",
    "malt_descriptors = [\"pentanal\",\"3-methyl-1-butanol\",\"2-methyl-1-butanol\",\"methylbutanal\",\"isobutyraldehyde\"]"
   ]
  },
  {
   "cell_type": "code",
   "execution_count": 163,
   "id": "163639d5",
   "metadata": {},
   "outputs": [],
   "source": [
    "# find cas numbers for these molecules\n",
    "sweet_descriptors_CAS = [CAS_to_mol.loc[index][\"CAS\"]for index in sweet_descriptors if index in CAS_to_mol.index ]\n",
    "fruit_descriptors_CAS = [CAS_to_mol.loc[index][\"CAS\"] for index in fruit_descriptors if index in CAS_to_mol.index]\n",
    "wood_descriptors_CAS = [CAS_to_mol.loc[index][\"CAS\"] for index in wood_descriptors if index in CAS_to_mol.index]\n",
    "malt_descriptors_CAS  =[CAS_to_mol.loc[index][\"CAS\"] for index in malt_descriptors if index in CAS_to_mol.index]"
   ]
  },
  {
   "cell_type": "code",
   "execution_count": 164,
   "id": "3111e0d6",
   "metadata": {},
   "outputs": [],
   "source": [
    "sweet_ms_df = ms_data_comp[sweet_descriptors_CAS]"
   ]
  },
  {
   "cell_type": "markdown",
   "id": "5b8ddf4f",
   "metadata": {},
   "source": [
    "### Basic example"
   ]
  },
  {
   "cell_type": "code",
   "execution_count": 9,
   "id": "d92ab837",
   "metadata": {},
   "outputs": [],
   "source": [
    "cas_range=np.linspace(-3,3,197)\n",
    "#cas_range = np.array(ms_data_comp['6485-40-1'])\n",
    "             \n",
    "cas_001 = ctrl.Antecedent(cas_range, 'cas_001')\n",
    "cas_002 = ctrl.Antecedent(cas_range, 'cas_002')\n",
    "cas_003 = ctrl.Antecedent(cas_range, 'cas_003')\n",
    "\n",
    "# Auto-membership function population is possible with .automf(3, 5, or 7)\n",
    "cas_001.automf(3)\n",
    "cas_002.automf(3)\n",
    "cas_003.automf(3)\n",
    "\n",
    "osa_sweet = ctrl.Consequent(np.arange(0, 100, 10), 'osa_sweet')\n",
    "osa_sweet.automf(3)\n",
    "\n",
    "# Custom membership functions can be built interactively with a familiar,\n",
    "# Pythonic API\n",
    "# tip['low'] = fuzz.trimf(tip.universe, [0, 0, 13])\n",
    "# tip['medium'] = fuzz.trimf(tip.universe, [0, 13, 25])\n",
    "# tip['high'] = fuzz.trimf(tip.universe, [13, 25, 25])"
   ]
  },
  {
   "cell_type": "code",
   "execution_count": 70,
   "id": "6bf27402",
   "metadata": {},
   "outputs": [
    {
     "data": {
      "text/plain": [
       "(<Figure size 432x288 with 1 Axes>, <AxesSubplot:>)"
      ]
     },
     "execution_count": 70,
     "metadata": {},
     "output_type": "execute_result"
    },
    {
     "data": {
      "image/png": "[encoded data removed]",
      "text/plain": [
       "<Figure size 432x288 with 1 Axes>"
      ]
     },
     "metadata": {},
     "output_type": "display_data"
    }
   ],
   "source": [
    "rule_sweet_01 = (ctrl.Rule(cas_001['good'] | cas_002['good'] |cas_003['good'], osa_sweet['good']))\n",
    "rule_sweet_02 = (ctrl.Rule(cas_001['average']|  cas_002['average'] | cas_003['average'], osa_sweet['average']))\n",
    "rule_sweet_03 = (ctrl.Rule(cas_001['poor']| cas_002['poor'] |cas_003['poor'], osa_sweet['poor']))\n",
    "\n",
    "rule_sweet_01.view()"
   ]
  },
  {
   "cell_type": "code",
   "execution_count": 71,
   "id": "33f63965",
   "metadata": {},
   "outputs": [
    {
     "name": "stdout",
     "output_type": "stream",
     "text": [
      "cas_001 : 3\n",
      "cas_002 : 3\n",
      "cas_003 : 3\n",
      "\n",
      "74.6341463414634\n"
     ]
    },
    {
     "name": "stderr",
     "output_type": "stream",
     "text": [
      "c:\\Users\\Franz\\AppData\\Local\\Programs\\Python\\Python39\\lib\\site-packages\\skfuzzy\\control\\fuzzyvariable.py:122: UserWarning: Matplotlib is currently using module://matplotlib_inline.backend_inline, which is a non-GUI backend, so cannot show the figure.\n",
      "  fig.show()\n"
     ]
    },
    {
     "data": {
      "image/png": "[encoded data removed]",
      "text/plain": [
       "<Figure size 432x288 with 1 Axes>"
      ]
     },
     "metadata": {
      "needs_background": "light"
     },
     "output_type": "display_data"
    }
   ],
   "source": [
    "tipping_ctrl = ctrl.ControlSystem([\n",
    "    rule_sweet_01,\n",
    "    rule_sweet_02,\n",
    "    rule_sweet_03\n",
    "])\n",
    "tipping = ctrl.ControlSystemSimulation(tipping_ctrl)\n",
    "# Pass inputs to the ControlSystem using Antecedent labels with Pythonic API\n",
    "# Note: if you like passing many inputs all at once, use .inputs(dict_of_data)\n",
    "\n",
    "\n",
    "tipping.input['cas_001'] = 3\n",
    "tipping.input['cas_002'] = 3\n",
    "tipping.input['cas_003'] = 3\n",
    "\n",
    "print(tipping.input)\n",
    "# Crunch the numbers\n",
    "tipping.compute()\n",
    "\n",
    "prediction = tipping.output['osa_sweet'] \n",
    "\n",
    "print( prediction )\n",
    "osa_sweet.view(sim=tipping)"
   ]
  },
  {
   "cell_type": "markdown",
   "id": "163639d5",
   "metadata": {},
   "source": [
    "### Sweet cw"
   ]
  },
  {
   "cell_type": "code",
   "execution_count": 537,
   "id": "f6a9fde7",
   "metadata": {},
   "outputs": [],
   "source": [
    "sweet_ms_df = ms_data_comp[sweet_descriptors_CAS]"
   ]
  },
  {
   "cell_type": "code",
   "execution_count": 542,
   "id": "d178bd4a",
   "metadata": {},
   "outputs": [],
   "source": [
    "zscore_range=np.linspace(-3,3,25) # Since we only use zscored data, this range can be used everywhere \n",
    "\n",
    "cas_antecedents = [] # we can just use an array, since the names are saved in the antecedent objects\n",
    "# we only use the sweet descriptors \n",
    "for cas in sweet_descriptors_CAS:\n",
    "    cas_name = str(cas)  \n",
    "    cas_antecedent = ctrl.Antecedent(zscore_range, cas_name)\n",
    "    cas_antecedent.automf(3)\n",
    "    \n",
    "    cas_antecedents.append( cas_antecedent) \n",
    "\n",
    "osa_sweet = ctrl.Consequent(zscore_range, 'osa_sweet')\n",
    "osa_sweet.automf(3)\n"
   ]
  },
  {
   "cell_type": "markdown",
   "id": "75e1d6ea",
   "metadata": {},
   "source": [
    "rules: \n",
    "\n",
    "if one sweet cas is good than contributes to osa good\n",
    "\n",
    "analog with average an poor"
   ]
  },
  {
   "cell_type": "code",
   "execution_count": null,
   "id": "027a37ea",
   "metadata": {},
   "outputs": [],
   "source": [
    "'''rule_sweet = ctrl.Rule(create_rules('good'), osa_sweet['good'])\n",
    "rule_average = ctrl.Rule(create_rules('average'), osa_sweet['average'])\n",
    "rule_low = ctrl.Rule(create_rules('poor'), osa_sweet['poor'])\n",
    "\n",
    "rules = ctrl.ControlSystem([\n",
    "    rule_sweet,\n",
    "    rule_average,\n",
    "    rule_low\n",
    "])\n",
    "fuzzy_ctrl = ctrl.ControlSystemSimulation(rules)\n",
    "'''"
   ]
  },
  {
   "cell_type": "code",
   "execution_count": 544,
   "id": "57fb3811",
   "metadata": {},
   "outputs": [],
   "source": [
    "# define some rules \n",
    "one_good =  reduce(lambda x, y: x | y, [ caa['good'] for caa in cas_antecedents])\n",
    "one_avg =  reduce(lambda x, y: x | y, [ caa['average'] for caa in cas_antecedents])\n",
    "\n",
    "all_poor =  reduce(lambda x, y: x & y, [ caa['poor'] for caa in cas_antecedents])\n",
    "all_avg =  reduce(lambda x, y: x & y, [ caa['average'] for caa in cas_antecedents])\n",
    "\n",
    "rules = [    \n",
    "    ctrl.Rule( all_poor, osa_sweet['poor']   ),\n",
    "    ctrl.Rule( all_avg, osa_sweet['average'] ),\n",
    "    ctrl.Rule( one_good, osa_sweet['good']   ),\n",
    "]"
   ]
  },
  {
   "cell_type": "code",
   "execution_count": 545,
   "id": "9076f6a3",
   "metadata": {},
   "outputs": [],
   "source": [
    "# Set up the system \n",
    "fuzzy_ctrl = ctrl.ControlSystem(rules)\n",
    "fuzzy = ctrl.ControlSystemSimulation(fuzzy_ctrl)"
   ]
  },
  {
   "cell_type": "code",
   "execution_count": 560,
   "id": "70d337c7",
   "metadata": {},
   "outputs": [],
   "source": [
    "ms_data = stats.zscore(ms_data_comp,axis=0)\n",
    "predictions = []\n",
    "for index, row in ms_data.iterrows():\n",
    "    for cas in sweet_descriptors_CAS:\n",
    "        fuzzy.input[ cas ] = row[cas]\n",
    "    \n",
    "    fuzzy.compute()  \n",
    "    predictions.append(fuzzy.output['osa_sweet'])\n",
    "\n",
    "references = np.array(panelist_data_comp['Sweet'])\n",
    "       "
   ]
  },
  {
   "cell_type": "code",
   "execution_count": 562,
   "id": "42da5271",
   "metadata": {},
   "outputs": [],
   "source": [
    "sweet_ms_df_zscore = stats.zscore(sweet_ms_df, axis = 0)"
   ]
  },
  {
   "cell_type": "code",
   "execution_count": 563,
   "id": "b9e2fede",
   "metadata": {},
   "outputs": [],
   "source": [
    "for index,entry in sweet_ms_df_zscore.loc['000656'].items():\n",
    "    fuzzy.input[ index ] = entry\n",
    "    \n",
    "fuzzy.compute()  \n",
    "predictions  = fuzzy.output['osa_sweet']\n",
    "\n",
    "references = stats.zscore(panelist_data_comp).loc['000565']['Sweet']\n",
    "       "
   ]
  },
  {
   "cell_type": "code",
   "execution_count": 564,
   "id": "aaaeeee4",
   "metadata": {},
   "outputs": [
    {
     "name": "stdout",
     "output_type": "stream",
     "text": [
      "panelist score for sweet:  0.06709556249758704\n",
      "prediction score for sweet:  0.6783272961770778\n"
     ]
    },
    {
     "name": "stderr",
     "output_type": "stream",
     "text": [
      "c:\\Users\\Franz\\AppData\\Local\\Programs\\Python\\Python39\\lib\\site-packages\\skfuzzy\\control\\fuzzyvariable.py:122: UserWarning: Matplotlib is currently using module://matplotlib_inline.backend_inline, which is a non-GUI backend, so cannot show the figure.\n",
      "  fig.show()\n"
     ]
    },
    {
     "data": {
      "image/png": "[encoded data removed]",
      "text/plain": [
       "<Figure size 432x288 with 1 Axes>"
      ]
     },
     "metadata": {
      "needs_background": "light"
     },
     "output_type": "display_data"
    }
   ],
   "source": [
    "print(\"panelist score for sweet: \" , references)\n",
    "print(\"prediction score for sweet: \",predictions)\n",
    "\n",
    "osa_sweet.view(sim=fuzzy)"
   ]
  },
  {
   "cell_type": "code",
   "execution_count": 565,
   "id": "937bc8bd",
   "metadata": {},
   "outputs": [],
   "source": [
    "# over all samples\n",
    "predictions = []\n",
    "for index, row in sweet_ms_df_zscore.iterrows():\n",
    "    for cas in sweet_descriptors_CAS:\n",
    "        fuzzy.input[ cas ] = row[cas]\n",
    "    \n",
    "    fuzzy.compute()  \n",
    "    predictions.append(fuzzy.output['osa_sweet'])\n",
    "\n",
    "references = np.array(panelist_data_comp['Sweet'])\n",
    "       "
   ]
  },
  {
   "cell_type": "code",
   "execution_count": 566,
   "id": "6d14c2f4",
   "metadata": {},
   "outputs": [
    {
     "data": {
      "text/plain": [
       "(array([ 2.,  8., 24., 28., 40., 35., 20.,  0., 19., 21.]),\n",
       " array([0.09395177, 0.16665042, 0.23934907, 0.31204772, 0.38474637,\n",
       "        0.45744502, 0.53014367, 0.60284232, 0.67554097, 0.74823962,\n",
       "        0.82093826]),\n",
       " <BarContainer object of 10 artists>)"
      ]
     },
     "execution_count": 566,
     "metadata": {},
     "output_type": "execute_result"
    },
    {
     "data": {
      "image/png": "[encoded data removed]",
      "text/plain": [
       "<Figure size 432x288 with 1 Axes>"
      ]
     },
     "metadata": {
      "needs_background": "light"
     },
     "output_type": "display_data"
    }
   ],
   "source": [
    "plt.hist(stats.zscore(references), color='g')\n",
    "plt.hist(predictions)"
   ]
  },
  {
   "cell_type": "code",
   "execution_count": 567,
   "id": "87d6e4bd",
   "metadata": {},
   "outputs": [
    {
     "data": {
      "image/png": "[encoded data removed]",
      "text/plain": [
       "<Figure size 432x288 with 1 Axes>"
      ]
     },
     "metadata": {
      "needs_background": "light"
     },
     "output_type": "display_data"
    }
   ],
   "source": [
    "plt.plot(stats.zscore(references),predictions,\"o\")\n",
    "plt.grid()"
   ]
  },
  {
   "cell_type": "markdown",
   "id": "c3dd976e",
   "metadata": {},
   "source": [
    "### 3 params"
   ]
  },
  {
   "cell_type": "markdown",
   "id": "4adf58cc",
   "metadata": {},
   "source": [
    "split each antecedent and conesequent into 3 areas\n",
    "\n",
    "\n",
    "zscore from -3 to 3 and 197 values because of sample count"
   ]
  },
  {
   "cell_type": "code",
   "execution_count": 198,
   "id": "6fe3042d",
   "metadata": {},
   "outputs": [],
   "source": [
    "zscore_range=np.linspace(-3,3,197)# Since we only use zscored data, this range can be used everywhere \n",
    "\n",
    "cas_antecedents = [] # we can just use an array, since the names are saved in the antecedent objects\n",
    "# we only use the sweet descriptors \n",
    "for cas in sweet_descriptors_CAS:\n",
    "    cas_name = str(cas)  \n",
    "    cas_antecedent = ctrl.Antecedent(zscore_range, cas_name)\n",
    "    cas_antecedent.automf(3)\n",
    "    \n",
    "    \n",
    "    cas_antecedents.append( cas_antecedent) \n",
    "    \n",
    "osa_sweet = ctrl.Consequent(np.arange(0, 100, 1), 'osa_sweet')\n",
    "osa_sweet.automf(3)"
   ]
  },
  {
   "cell_type": "code",
   "execution_count": 199,
   "id": "9d1d781f",
   "metadata": {},
   "outputs": [
    {
     "name": "stderr",
     "output_type": "stream",
     "text": [
      "c:\\Users\\Franz\\AppData\\Local\\Programs\\Python\\Python39\\lib\\site-packages\\skfuzzy\\control\\fuzzyvariable.py:122: UserWarning: Matplotlib is currently using module://matplotlib_inline.backend_inline, which is a non-GUI backend, so cannot show the figure.\n",
      "  fig.show()\n"
     ]
    },
    {
     "data": {
      "image/png": "[encoded data removed]",
      "text/plain": [
       "<Figure size 432x288 with 1 Axes>"
      ]
     },
     "metadata": {
      "needs_background": "light"
     },
     "output_type": "display_data"
    }
   ],
   "source": [
    "osa_sweet.view()"
   ]
  },
  {
   "cell_type": "code",
   "execution_count": 200,
   "id": "4269986b",
   "metadata": {},
   "outputs": [],
   "source": [
    "rule_list = []\n",
    "for cas_sweet in cas_antecedents:\n",
    "    rule_list.append(ctrl.Rule(cas_sweet['good'], osa_sweet['good']))\n",
    "    rule_list.append(ctrl.Rule(cas_sweet['average'], osa_sweet['average']))\n",
    "    rule_list.append(ctrl.Rule(cas_sweet['poor'], osa_sweet['poor']))\n"
   ]
  },
  {
   "cell_type": "code",
   "execution_count": 201,
   "id": "81c363ab",
   "metadata": {},
   "outputs": [],
   "source": [
    "# Set up the system \n",
    "fuzzy_ctrl = ctrl.ControlSystem(rule_list)\n",
    "fuzzy = ctrl.ControlSystemSimulation(fuzzy_ctrl)"
   ]
  },
  {
   "cell_type": "code",
   "execution_count": 202,
   "id": "dd9dc0b3",
   "metadata": {},
   "outputs": [
    {
     "data": {
      "text/plain": [
       "(array([ 2.,  5.,  6., 11.,  8.,  6.,  7.,  6.,  3.,  3.]),\n",
       " array([-1.4368161 , -1.26339784, -1.08997958, -0.91656132, -0.74314306,\n",
       "        -0.5697248 , -0.39630654, -0.22288828, -0.04947002,  0.12394824,\n",
       "         0.2973665 ]),\n",
       " <BarContainer object of 10 artists>)"
      ]
     },
     "execution_count": 202,
     "metadata": {},
     "output_type": "execute_result"
    },
    {
     "data": {
      "image/png": "[encoded data removed]",
      "text/plain": [
       "<Figure size 432x288 with 1 Axes>"
      ]
     },
     "metadata": {
      "needs_background": "light"
     },
     "output_type": "display_data"
    }
   ],
   "source": [
    "plt.hist(sweet_ms_df.loc['000838'],alpha =0.5) # blue with higher intensites and reference for sweet being 50 \n",
    "plt.hist(sweet_ms_df.loc['000929'], alpha =0.5)"
   ]
  },
  {
   "cell_type": "code",
   "execution_count": 203,
   "id": "37f55f95",
   "metadata": {},
   "outputs": [
    {
     "name": "stdout",
     "output_type": "stream",
     "text": [
      "panelist score for sweet:  50\n",
      "prediction score for sweet:  52.534800349099164\n"
     ]
    }
   ],
   "source": [
    "for index,entry in sweet_ms_df.loc['000838'].items():\n",
    "    fuzzy.input[ index ] = entry\n",
    "    \n",
    "fuzzy.compute()  \n",
    "predictions  = fuzzy.output['osa_sweet']\n",
    "\n",
    "references = panelist_data_comp.loc['000838']['Sweet']\n",
    "\n",
    "print(\"panelist score for sweet: \" , references)\n",
    "print(\"prediction score for sweet: \", predictions)"
   ]
  },
  {
   "cell_type": "code",
   "execution_count": 204,
   "id": "b334db3f",
   "metadata": {},
   "outputs": [
    {
     "name": "stdout",
     "output_type": "stream",
     "text": [
      "panelist score for sweet:  30\n",
      "prediction score for sweet:  45.447826528623544\n"
     ]
    }
   ],
   "source": [
    "for index,entry in sweet_ms_df.loc['000929'].items():\n",
    "    fuzzy.input[ index ] = entry\n",
    "    \n",
    "fuzzy.compute()  \n",
    "predictions  = fuzzy.output['osa_sweet']\n",
    "\n",
    "references = panelist_data_comp.loc['000929']['Sweet']\n",
    "\n",
    "print(\"panelist score for sweet: \" , references)\n",
    "print(\"prediction score for sweet: \", predictions)"
   ]
  },
  {
   "cell_type": "code",
   "execution_count": 205,
   "id": "229e8b66",
   "metadata": {},
   "outputs": [],
   "source": [
    "predictions = []\n",
    "for index, row in sweet_ms_df.iterrows():\n",
    "    for cas in sweet_descriptors_CAS:\n",
    "        fuzzy.input[ cas ] = row[cas]\n",
    "    \n",
    "    fuzzy.compute()  \n",
    "    predictions.append(fuzzy.output['osa_sweet'])\n",
    "\n",
    "references = np.array(panelist_data_comp['Sweet'])"
   ]
  },
  {
   "cell_type": "code",
   "execution_count": 206,
   "id": "34ef3277",
   "metadata": {},
   "outputs": [
    {
     "data": {
      "text/plain": [
       "Text(0.5, 1.0, \"predictions vs. panelist data for 'Sweet' over all comparable samples\\n Correlation: -0.04368974838860558\")"
      ]
     },
     "execution_count": 206,
     "metadata": {},
     "output_type": "execute_result"
    },
    {
     "data": {
      "image/png": "[encoded data removed]",
      "text/plain": [
       "<Figure size 432x288 with 1 Axes>"
      ]
     },
     "metadata": {
      "needs_background": "light"
     },
     "output_type": "display_data"
    }
   ],
   "source": [
    "plt.hist(predictions, alpha = 0.5) #blue\n",
    "plt.hist(references, alpha = 0.5)\n",
    "labels= [\"prediction\", \"references\"]\n",
    "plt.legend(labels)\n",
    "plt.title(\"predictions vs. panelist data for 'Sweet' over all comparable samples\"+\"\\n Correlation: \"+ str(np.corrcoef(np.array(predictions), references)[0,1]))"
   ]
  },
  {
   "cell_type": "markdown",
   "id": "b2a71fd0",
   "metadata": {},
   "source": [
    "always between 40 and 60 "
   ]
  },
  {
   "cell_type": "markdown",
   "id": "af838e28",
   "metadata": {},
   "source": [
    "change zscore range to -0.5 and 0.5"
   ]
  },
  {
   "cell_type": "code",
   "execution_count": 238,
   "id": "92119887",
   "metadata": {},
   "outputs": [],
   "source": [
    "zscore_range=np.linspace(-0.5,0.5,197)# Since we only use zscored data, this range can be used everywhere \n",
    "\n",
    "cas_antecedents = [] # we can just use an array, since the names are saved in the antecedent objects\n",
    "# we only use the sweet descriptors \n",
    "for cas in sweet_descriptors_CAS:\n",
    "    cas_name = str(cas)  \n",
    "    cas_antecedent = ctrl.Antecedent(zscore_range, cas_name)\n",
    "    cas_antecedent.automf(3)\n",
    "    \n",
    "    \n",
    "    cas_antecedents.append( cas_antecedent) \n",
    "    \n",
    "osa_sweet = ctrl.Consequent(np.arange(0, 100, 1), 'osa_sweet')\n",
    "osa_sweet.automf(3)\n",
    "rule_list = []\n",
    "for cas_sweet in cas_antecedents:\n",
    "    rule_list.append(ctrl.Rule(cas_sweet['good'], osa_sweet['good']))\n",
    "    rule_list.append(ctrl.Rule(cas_sweet['average'], osa_sweet['average']))\n",
    "    rule_list.append(ctrl.Rule(cas_sweet['poor'], osa_sweet['poor']))\n",
    "\n",
    "# Set up the system \n",
    "fuzzy_ctrl = ctrl.ControlSystem(rule_list)\n",
    "fuzzy = ctrl.ControlSystemSimulation(fuzzy_ctrl)"
   ]
  },
  {
   "cell_type": "code",
   "execution_count": 239,
   "id": "7068ad3c",
   "metadata": {},
   "outputs": [
    {
     "name": "stdout",
     "output_type": "stream",
     "text": [
      "panelist score for sweet:  50\n",
      "prediction score for sweet:  49.50000000000003\n"
     ]
    }
   ],
   "source": [
    "for index,entry in sweet_ms_df.loc['000838'].items():\n",
    "    fuzzy.input[ index ] = entry\n",
    "    \n",
    "fuzzy.compute()  \n",
    "predictions  = fuzzy.output['osa_sweet']\n",
    "\n",
    "references = panelist_data_comp.loc['000838']['Sweet']\n",
    "\n",
    "print(\"panelist score for sweet: \" , references)\n",
    "print(\"prediction score for sweet: \", predictions)\n"
   ]
  },
  {
   "cell_type": "code",
   "execution_count": 240,
   "id": "2338f44d",
   "metadata": {},
   "outputs": [
    {
     "name": "stdout",
     "output_type": "stream",
     "text": [
      "panelist score for sweet:  30\n",
      "prediction score for sweet:  47.00462071566259\n"
     ]
    }
   ],
   "source": [
    "for index,entry in sweet_ms_df.loc['000929'].items():\n",
    "    fuzzy.input[ index ] = entry\n",
    "    \n",
    "fuzzy.compute()  \n",
    "predictions  = fuzzy.output['osa_sweet']\n",
    "\n",
    "references = panelist_data_comp.loc['000929']['Sweet']\n",
    "\n",
    "print(\"panelist score for sweet: \" , references)\n",
    "print(\"prediction score for sweet: \", predictions)"
   ]
  },
  {
   "cell_type": "code",
   "execution_count": 241,
   "id": "35d59064",
   "metadata": {},
   "outputs": [],
   "source": [
    "predictions = []\n",
    "for index, row in sweet_ms_df.iterrows():\n",
    "    for cas in sweet_descriptors_CAS:\n",
    "        fuzzy.input[ cas ] = row[cas]\n",
    "    \n",
    "    fuzzy.compute()  \n",
    "    predictions.append(fuzzy.output['osa_sweet'])\n",
    "\n",
    "references = np.array(panelist_data_comp['Sweet'])"
   ]
  },
  {
   "cell_type": "code",
   "execution_count": 242,
   "id": "13e13c39",
   "metadata": {},
   "outputs": [
    {
     "data": {
      "text/plain": [
       "Text(0.5, 1.0, 'Correlation: 0.01650035630269362')"
      ]
     },
     "execution_count": 242,
     "metadata": {},
     "output_type": "execute_result"
    },
    {
     "data": {
      "image/png": "[encoded data removed]",
      "text/plain": [
       "<Figure size 432x288 with 1 Axes>"
      ]
     },
     "metadata": {
      "needs_background": "light"
     },
     "output_type": "display_data"
    }
   ],
   "source": [
    "plt.hist(predictions, alpha = 0.5) #blue\n",
    "plt.hist(references, alpha = 0.5)\n",
    "plt.title(\"Correlation: \"+ str(np.corrcoef(np.array(predictions), references)[0,1]))"
   ]
  },
  {
   "cell_type": "markdown",
   "id": "ec6bdd98",
   "metadata": {},
   "source": [
    "np.arange(0, 100, 10)"
   ]
  },
  {
   "cell_type": "code",
   "execution_count": 221,
   "id": "459c81ce",
   "metadata": {},
   "outputs": [],
   "source": [
    "zscore_range=np.linspace(-0.5,0.5,197)# Since we only use zscored data, this range can be used everywhere \n",
    "\n",
    "cas_antecedents = [] # we can just use an array, since the names are saved in the antecedent objects\n",
    "# we only use the sweet descriptors \n",
    "for cas in sweet_descriptors_CAS:\n",
    "    cas_name = str(cas)  \n",
    "    cas_antecedent = ctrl.Antecedent(zscore_range, cas_name)\n",
    "    cas_antecedent.automf(3)\n",
    "    \n",
    "    \n",
    "    cas_antecedents.append( cas_antecedent) \n",
    "    \n",
    "osa_sweet = ctrl.Consequent(np.arange(0, 100, 10), 'osa_sweet')\n",
    "osa_sweet.automf(3)\n",
    "rule_list = []\n",
    "for cas_sweet in cas_antecedents:\n",
    "    rule_list.append(ctrl.Rule(cas_sweet['good'], osa_sweet['good']))\n",
    "    rule_list.append(ctrl.Rule(cas_sweet['average'], osa_sweet['average']))\n",
    "    rule_list.append(ctrl.Rule(cas_sweet['poor'], osa_sweet['poor']))\n",
    "\n",
    "# Set up the system \n",
    "fuzzy_ctrl = ctrl.ControlSystem(rule_list)\n",
    "fuzzy = ctrl.ControlSystemSimulation(fuzzy_ctrl)"
   ]
  },
  {
   "cell_type": "code",
   "execution_count": 222,
   "id": "a0dc3954",
   "metadata": {},
   "outputs": [
    {
     "name": "stdout",
     "output_type": "stream",
     "text": [
      "panelist score for sweet:  50\n",
      "prediction score for sweet:  45.00000000000001\n",
      "panelist score for sweet:  30\n",
      "prediction score for sweet:  42.75554707401083\n"
     ]
    }
   ],
   "source": [
    "for index,entry in sweet_ms_df.loc['000838'].items():\n",
    "    fuzzy.input[ index ] = entry\n",
    "    \n",
    "fuzzy.compute()  \n",
    "predictions  = fuzzy.output['osa_sweet']\n",
    "\n",
    "references = panelist_data_comp.loc['000838']['Sweet']\n",
    "\n",
    "print(\"panelist score for sweet: \" , references)\n",
    "print(\"prediction score for sweet: \", predictions)\n",
    "\n",
    "for index,entry in sweet_ms_df.loc['000929'].items():\n",
    "    fuzzy.input[ index ] = entry\n",
    "    \n",
    "fuzzy.compute()  \n",
    "predictions  = fuzzy.output['osa_sweet']\n",
    "\n",
    "references = panelist_data_comp.loc['000929']['Sweet']\n",
    "\n",
    "print(\"panelist score for sweet: \" , references)\n",
    "print(\"prediction score for sweet: \", predictions)"
   ]
  },
  {
   "cell_type": "code",
   "execution_count": 223,
   "id": "56bea511",
   "metadata": {},
   "outputs": [],
   "source": [
    "predictions = []\n",
    "for index, row in sweet_ms_df.iterrows():\n",
    "    for cas in sweet_descriptors_CAS:\n",
    "        fuzzy.input[ cas ] = row[cas]\n",
    "    \n",
    "    fuzzy.compute()  \n",
    "    predictions.append(fuzzy.output['osa_sweet'])\n",
    "\n",
    "references = np.array(panelist_data_comp['Sweet'])"
   ]
  },
  {
   "cell_type": "code",
   "execution_count": 224,
   "id": "88e9e682",
   "metadata": {},
   "outputs": [
    {
     "data": {
      "text/plain": [
       "Text(0.5, 1.0, 'Correlation: 0.015346840297953596')"
      ]
     },
     "execution_count": 224,
     "metadata": {},
     "output_type": "execute_result"
    },
    {
     "data": {
      "image/png": "[encoded data removed]",
      "text/plain": [
       "<Figure size 432x288 with 1 Axes>"
      ]
     },
     "metadata": {
      "needs_background": "light"
     },
     "output_type": "display_data"
    }
   ],
   "source": [
    "plt.hist(predictions, alpha = 0.5) #blue\n",
    "plt.hist(references, alpha = 0.5)\n",
    "plt.title(\"Correlation: \"+ str(np.corrcoef(np.array(predictions), references)[0,1]))"
   ]
  },
  {
   "cell_type": "markdown",
   "id": "2714e5e1",
   "metadata": {},
   "source": [
    "#### only signifant sweet cas numbers"
   ]
  },
  {
   "cell_type": "code",
   "execution_count": 227,
   "id": "9454e606",
   "metadata": {},
   "outputs": [],
   "source": [
    "sig_sweet_CAS = ['101-97-3',\n",
    " '10486-19-8',\n",
    " '106-25-2',\n",
    " '106-70-7',\n",
    " '1118-27-0',\n",
    " '112-44-7',\n",
    " '1139-30-6',\n",
    " '115-95-7',\n",
    " '1209-71-8',\n",
    " '122-78-1',\n",
    " '123-11-5',\n",
    " '123123-38-6',\n",
    " '141-16-2',\n",
    " '15051-81-7',\n",
    " '15352-77-9',\n",
    " '18679-18-0',\n",
    " '18794-84-8',\n",
    " '20407-84-5',\n",
    " '07.05.2305',\n",
    " '23267-57-4',\n",
    " '2463-77-6',\n",
    " '27538-09-6',\n",
    " '3033-23-6',\n",
    " '3779-61-1',\n",
    " '4077-47-8',\n",
    " '470-82-6',\n",
    " '4748-78-1',\n",
    " '4861-58-9',\n",
    " '502-61-4',\n",
    " '531-59-9',\n",
    " '552-02-3',\n",
    " '60066-88-8',\n",
    " '617-05-0',\n",
    " '623-42-7',\n",
    " '637-69-4',\n",
    " '6627-88-9',\n",
    " '695-06-7',\n",
    " '713-95-1',\n",
    " '73744-93-1',\n",
    " '03.12.7554',\n",
    " '90-05-1',\n",
    " '93-58-3',\n",
    " '939-48-0',\n",
    " '94-59-7',\n",
    " '95-93-2']"
   ]
  },
  {
   "cell_type": "code",
   "execution_count": 243,
   "id": "ac998e8b",
   "metadata": {},
   "outputs": [],
   "source": [
    "zscore_range=np.linspace(-0.5,0.5,20)# Since we only use zscored data, this range can be used everywhere \n",
    "\n",
    "cas_antecedents = [] # we can just use an array, since the names are saved in the antecedent objects\n",
    "# we only use the sweet descriptors \n",
    "for cas in sig_sweet_CAS:\n",
    "    cas_name = str(cas)  \n",
    "    cas_antecedent = ctrl.Antecedent(zscore_range, cas_name)\n",
    "    cas_antecedent.automf(3)\n",
    "    \n",
    "    \n",
    "    cas_antecedents.append( cas_antecedent) \n",
    "    \n",
    "osa_sweet = ctrl.Consequent(np.arange(0, 100, 1), 'osa_sweet')\n",
    "osa_sweet.automf(3)\n",
    "rule_list = []\n",
    "for cas_sweet in cas_antecedents:\n",
    "    rule_list.append(ctrl.Rule(cas_sweet['good'], osa_sweet['good']))\n",
    "    rule_list.append(ctrl.Rule(cas_sweet['average'], osa_sweet['average']))\n",
    "    rule_list.append(ctrl.Rule(cas_sweet['poor'], osa_sweet['poor']))\n",
    "\n",
    "# Set up the system \n",
    "fuzzy_ctrl = ctrl.ControlSystem(rule_list)\n",
    "fuzzy = ctrl.ControlSystemSimulation(fuzzy_ctrl)"
   ]
  },
  {
   "cell_type": "code",
   "execution_count": 264,
   "id": "ab9466ba",
   "metadata": {},
   "outputs": [],
   "source": [
    "predictions = []\n",
    "for index, row in sweet_ms_df.iterrows():\n",
    "    for cas in sig_sweet_CAS:\n",
    "        fuzzy.input[ cas ] = row[cas]\n",
    "    \n",
    "    fuzzy.compute()  \n",
    "    predictions.append(fuzzy.output['osa_sweet'])\n",
    "\n",
    "references = np.array(panelist_data_comp['Sweet'])"
   ]
  },
  {
   "cell_type": "code",
   "execution_count": 265,
   "id": "865bd45e",
   "metadata": {},
   "outputs": [
    {
     "data": {
      "text/plain": [
       "Text(0.5, 1.0, 'Correlation: 0.04952059494612476')"
      ]
     },
     "execution_count": 265,
     "metadata": {},
     "output_type": "execute_result"
    },
    {
     "data": {
      "image/png": "[encoded data removed]",
      "text/plain": [
       "<Figure size 432x288 with 1 Axes>"
      ]
     },
     "metadata": {
      "needs_background": "light"
     },
     "output_type": "display_data"
    }
   ],
   "source": [
    "plt.hist(predictions, alpha = 0.5) #blue\n",
    "plt.hist(references, alpha = 0.5)\n",
    "plt.title(\"Correlation: \"+ str(np.corrcoef(np.array(predictions), references)[0,1]))"
   ]
  },
  {
   "cell_type": "markdown",
   "id": "f2d145d1",
   "metadata": {},
   "source": [
    "=> slightly better correlation"
   ]
  },
  {
   "cell_type": "markdown",
   "id": "e249d381",
   "metadata": {},
   "source": [
    "#### all new significant sweet cas numbers "
   ]
  },
  {
   "cell_type": "code",
   "execution_count": 286,
   "id": "25c1d233",
   "metadata": {},
   "outputs": [],
   "source": [
    "sig_sweet_CAS_all = ['3033-23-6',\n",
    " '876-17-5',\n",
    " '07.11.5258',\n",
    " '4128-17-0',\n",
    " '1117-52-8',\n",
    " '31501-11-8',\n",
    " '21662-09-9',\n",
    " '15456-69-6',\n",
    " '18679-18-0',\n",
    " '491-04-3',\n",
    " '562-74-3',\n",
    " '470-67-7',\n",
    " '470-82-6',\n",
    " '2497-25-8',\n",
    " '3913-71-1',\n",
    " '3913-81-3',\n",
    " '4861-58-9',\n",
    " '136954-20-6',\n",
    " '586-82-3',\n",
    " '105683-99-6',\n",
    " '147159-48-6',\n",
    " '6627-88-9',\n",
    " '531-59-9',\n",
    " '85213-22-5',\n",
    " '29887-38-5',\n",
    " '507-70-0',\n",
    " '13109-70-1',\n",
    " '465-31-6',\n",
    " '97-42-7',\n",
    " '15537-55-0',\n",
    " '106-23-0',\n",
    " '150-84-5',\n",
    " '87-91-2',\n",
    " '619-01-2',\n",
    " '20777-49-5',\n",
    " '58985-18-5',\n",
    " '128386-31-2',\n",
    " '4192-77-2',\n",
    " '3025-30-7',\n",
    " '103-36-6',\n",
    " '617-05-0',\n",
    " '1632-73-1',\n",
    " '106-24-1',\n",
    " '105-87-3',\n",
    " '3796-70-1',\n",
    " '124-76-5',\n",
    " '2756-56-1',\n",
    " '18675-35-9',\n",
    " '16750-94-0',\n",
    " '5944-20-7',\n",
    " '89-49-6',\n",
    " '498-16-8',\n",
    " '78-70-6',\n",
    " '115-95-7',\n",
    " '89-80-5',\n",
    " '10458-14-7',\n",
    " '106-25-2',\n",
    " '141-12-8',\n",
    " '29790-29-2',\n",
    " '619-62-5',\n",
    " '18479-68-0',\n",
    " '28839-13-6',\n",
    " '16721-39-4',\n",
    " '91-10-1',\n",
    " '80-26-2',\n",
    " '629-59-4',\n",
    " '17699-16-0',\n",
    " '10486-19-8',\n",
    " '14575-74-7',\n",
    " '98-55-5',\n",
    " '138-87-4',\n",
    " '07.05.2305',\n",
    " '713-95-1']"
   ]
  },
  {
   "cell_type": "code",
   "execution_count": 287,
   "id": "25715f5f",
   "metadata": {},
   "outputs": [],
   "source": [
    "sig_sweet_CAS_all = [i for i in sig_sweet_CAS_all if i not in zeros]"
   ]
  },
  {
   "cell_type": "code",
   "execution_count": 288,
   "id": "a001627f",
   "metadata": {},
   "outputs": [
    {
     "data": {
      "text/plain": [
       "73"
      ]
     },
     "execution_count": 288,
     "metadata": {},
     "output_type": "execute_result"
    }
   ],
   "source": [
    "# alpha = 0.001\n",
    "len(sig_sweet_CAS_all)"
   ]
  },
  {
   "cell_type": "code",
   "execution_count": 294,
   "id": "bc164c2d",
   "metadata": {},
   "outputs": [],
   "source": [
    "sig_sweet_CAS_005 = ['3033-23-6',\n",
    " '21284-22-0',\n",
    " '38427-78-0',\n",
    " '495-61-4',\n",
    " '29873-99-2',\n",
    " '876-17-5',\n",
    " '4674-50-4',\n",
    " '14371-10-9',\n",
    " '106-28-5',\n",
    " '5273-85-8',\n",
    " '5932-68-3',\n",
    " '07.11.5258',\n",
    " '13474-59-4',\n",
    " '23726-91-2',\n",
    " '4128-17-0',\n",
    " '1117-52-8',\n",
    " '31501-11-8',\n",
    " '21662-09-9',\n",
    " '15456-69-6',\n",
    " '18679-18-0',\n",
    " '3790-78-1',\n",
    " '491-04-3',\n",
    " '28973-97-9',\n",
    " '562-74-3',\n",
    " '470-67-7',\n",
    " '359794-78-8',\n",
    " '470-82-6',\n",
    " '15051-81-7',\n",
    " '2497-25-8',\n",
    " '3913-71-1',\n",
    " '3913-81-3',\n",
    " '20407-84-5',\n",
    " '4861-58-9',\n",
    " '30361-28-5',\n",
    " '136954-20-6',\n",
    " '31823-43-5',\n",
    " '34318-21-3',\n",
    " '586-82-3',\n",
    " '38284-27-4',\n",
    " '19872-52-7',\n",
    " '698-76-0',\n",
    " '105683-99-6',\n",
    " '147159-48-6',\n",
    " '6627-88-9',\n",
    " '531-59-9',\n",
    " '698-10-2',\n",
    " '85213-22-5',\n",
    " '25246-27-9',\n",
    " '489-39-4',\n",
    " '29887-38-5',\n",
    " '18607-93-7',\n",
    " '103-37-7',\n",
    " '24703-35-3',\n",
    " '28588-75-2',\n",
    " '507-70-0',\n",
    " '26927-90-2',\n",
    " '13109-70-1',\n",
    " '7492-41-3',\n",
    " '22451-73-6',\n",
    " '136-60-7',\n",
    " '106-18-3',\n",
    " '114791-16-1',\n",
    " '29837-12-5',\n",
    " '465-31-6',\n",
    " '97-42-7',\n",
    " '1139-30-6',\n",
    " '28231-03-0',\n",
    " '36653-82-4',\n",
    " '15537-55-0',\n",
    " '106-23-0',\n",
    " '150-84-5',\n",
    " '141-16-2',\n",
    " '97-89-2',\n",
    " '124-18-5',\n",
    " '69134-53-8',\n",
    " '03.12.7554',\n",
    " '123-25-1',\n",
    " '87-91-2',\n",
    " '619-01-2',\n",
    " '20777-49-5',\n",
    " '58985-18-5',\n",
    " '484-31-1',\n",
    " '4077-47-8',\n",
    " '487-11-6',\n",
    " '639-99-6',\n",
    " '128386-31-2',\n",
    " '134346-43-3',\n",
    " '23267-57-4',\n",
    " '157615-33-3',\n",
    " '4192-77-2',\n",
    " '3025-30-7',\n",
    " '110516-60-4',\n",
    " '5405-41-4',\n",
    " '103-36-6',\n",
    " '2021-28-5',\n",
    " '999-10-0',\n",
    " '101-97-3',\n",
    " '124-06-1',\n",
    " '617-05-0',\n",
    " '123123-38-6',\n",
    " '97-53-0',\n",
    " '1632-73-1',\n",
    " '19700-21-1',\n",
    " '106-24-1',\n",
    " '105-87-3',\n",
    " '3796-70-1',\n",
    " '15423-57-1',\n",
    " '23986-74-5',\n",
    " '90-05-1',\n",
    " '489-86-1',\n",
    " '544-76-3',\n",
    " '29354-98-1',\n",
    " '3681-71-8',\n",
    " '27538-10-9',\n",
    " '19888-33-6',\n",
    " '95908-33-1',\n",
    " '124-76-5',\n",
    " '1200-67-5',\n",
    " '2756-56-1',\n",
    " '118-65-0',\n",
    " '18675-35-9',\n",
    " '97-54-1',\n",
    " '16750-94-0',\n",
    " '5944-20-7',\n",
    " '18433-98-2',\n",
    " '939-48-0',\n",
    " '89-49-6',\n",
    " '498-16-8',\n",
    " '23089-26-1',\n",
    " '78-70-6',\n",
    " '115-95-7',\n",
    " '115-99-1',\n",
    " '89-80-5',\n",
    " '10458-14-7',\n",
    " '75832-79-0',\n",
    " '4630-82-4',\n",
    " '93-15-2',\n",
    " '27538-09-6',\n",
    " '1189-09-9',\n",
    " '124-10-7',\n",
    " '3943-74-6',\n",
    " '65128-99-6',\n",
    " '607-91-0',\n",
    " '106-25-2',\n",
    " '40716-66-3',\n",
    " '141-12-8',\n",
    " '629-92-5',\n",
    " '124-19-6',\n",
    " '821-55-6',\n",
    " '638-66-4',\n",
    " '593-45-3',\n",
    " '65767-22-8',\n",
    " '29790-29-2',\n",
    " '619-62-5',\n",
    " '501-98-4',\n",
    " '18479-68-0',\n",
    " '28839-13-6',\n",
    " '09.11.2765',\n",
    " '502-69-2',\n",
    " '97-47-3',\n",
    " '16721-39-4',\n",
    " '5471-51-2',\n",
    " '73744-93-1',\n",
    " '6750-60-3',\n",
    " '112-92-5',\n",
    " '91-10-1',\n",
    " '19912-62-0',\n",
    " '80-26-2',\n",
    " '629-59-4',\n",
    " '17699-16-0',\n",
    " '10486-19-8',\n",
    " '81018-77-1',\n",
    " '57461-21-9',\n",
    " '1209-71-8',\n",
    " '03.07.4630',\n",
    " '552-02-3',\n",
    " '58334-55-7',\n",
    " '515-69-5',\n",
    " '481-34-5',\n",
    " '4586-22-5',\n",
    " '3856-25-5',\n",
    " '17699-14-8',\n",
    " '502-61-4',\n",
    " '14575-74-7',\n",
    " '01.12.3691',\n",
    " '489-40-7',\n",
    " '6753-98-6',\n",
    " '127-41-3',\n",
    " '10208-80-7',\n",
    " '1195-32-0',\n",
    " '98-55-5',\n",
    " '495-60-3',\n",
    " '15352-77-9',\n",
    " '87-44-5',\n",
    " '472-97-9',\n",
    " '13744-15-5',\n",
    " '23726-93-4',\n",
    " '33880-83-0',\n",
    " '473-15-4',\n",
    " '18794-84-8',\n",
    " '58181-76-3',\n",
    " '88-84-6',\n",
    " '79-77-6',\n",
    " '103-45-7',\n",
    " '17066-67-0',\n",
    " '20307-83-9',\n",
    " '60066-88-8',\n",
    " '138-87-4',\n",
    " '39029-41-9',\n",
    " '07.05.2305',\n",
    " '30021-74-0',\n",
    " '104-50-7',\n",
    " '515-17-3',\n",
    " '483-76-1',\n",
    " '36564-42-8',\n",
    " '713-95-1',\n",
    " '20307-84-0',\n",
    " '120021-96-7']"
   ]
  },
  {
   "cell_type": "code",
   "execution_count": 296,
   "id": "649ca336",
   "metadata": {},
   "outputs": [],
   "source": [
    "#alpha = 0.005\n",
    "sig_sweet_CAS_005 = [i for i in sig_sweet_CAS_005 if i not in zeros]"
   ]
  },
  {
   "cell_type": "code",
   "execution_count": 290,
   "id": "e2200381",
   "metadata": {},
   "outputs": [],
   "source": [
    "zscore_range=np.linspace(-0.5,0.5,20)# Since we only use zscored data, this range can be used everywhere \n",
    "\n",
    "cas_antecedents = [] # we can just use an array, since the names are saved in the antecedent objects\n",
    "# we only use the sweet descriptors \n",
    "for cas in sig_sweet_CAS_all:\n",
    "    cas_name = str(cas)  \n",
    "    cas_antecedent = ctrl.Antecedent(zscore_range, cas_name)\n",
    "    cas_antecedent.automf(3)\n",
    "    \n",
    "    \n",
    "    cas_antecedents.append( cas_antecedent) \n",
    "    \n",
    "osa_sweet = ctrl.Consequent(np.arange(0, 100, 10), 'osa_sweet')\n",
    "osa_sweet.automf(3)\n",
    "rule_list = []\n",
    "for cas_sweet in cas_antecedents:\n",
    "    rule_list.append(ctrl.Rule(cas_sweet['good'], osa_sweet['good']))\n",
    "    rule_list.append(ctrl.Rule(cas_sweet['average'], osa_sweet['average']))\n",
    "    rule_list.append(ctrl.Rule(cas_sweet['poor'], osa_sweet['poor']))\n",
    "\n",
    "# Set up the system \n",
    "fuzzy_ctrl = ctrl.ControlSystem(rule_list)\n",
    "fuzzy = ctrl.ControlSystemSimulation(fuzzy_ctrl)"
   ]
  },
  {
   "cell_type": "code",
   "execution_count": 292,
   "id": "89fe069d",
   "metadata": {},
   "outputs": [],
   "source": [
    "predictions = []\n",
    "for index, row in ms_data_comp[sig_sweet_CAS_all].iterrows():\n",
    "    for cas in sig_sweet_CAS_all:\n",
    "        fuzzy.input[ cas ] = row[cas]\n",
    "    \n",
    "    fuzzy.compute()  \n",
    "    predictions.append(fuzzy.output['osa_sweet'])\n",
    "\n",
    "references = np.array(panelist_data_comp['Sweet'])"
   ]
  },
  {
   "cell_type": "code",
   "execution_count": 293,
   "id": "f0865f17",
   "metadata": {},
   "outputs": [
    {
     "data": {
      "text/plain": [
       "Text(0.5, 1.0, 'Correlation: 0.06692980082028953')"
      ]
     },
     "execution_count": 293,
     "metadata": {},
     "output_type": "execute_result"
    },
    {
     "data": {
      "image/png": "[encoded data removed]",
      "text/plain": [
       "<Figure size 432x288 with 1 Axes>"
      ]
     },
     "metadata": {
      "needs_background": "light"
     },
     "output_type": "display_data"
    }
   ],
   "source": [
    "plt.hist(predictions, alpha = 0.5) #blue\n",
    "plt.hist(references, alpha = 0.5)\n",
    "plt.title(\"Correlation: \"+ str(np.corrcoef(np.array(predictions), references)[0,1]))"
   ]
  },
  {
   "cell_type": "code",
   "execution_count": 297,
   "id": "f8f0c9f1",
   "metadata": {},
   "outputs": [],
   "source": [
    "zscore_range=np.linspace(-0.5,0.5,20)# Since we only use zscored data, this range can be used everywhere \n",
    "\n",
    "cas_antecedents = [] # we can just use an array, since the names are saved in the antecedent objects\n",
    "# we only use the sweet descriptors \n",
    "for cas in sig_sweet_CAS_005:\n",
    "    cas_name = str(cas)  \n",
    "    cas_antecedent = ctrl.Antecedent(zscore_range, cas_name)\n",
    "    cas_antecedent.automf(3)\n",
    "    \n",
    "    \n",
    "    cas_antecedents.append( cas_antecedent) \n",
    "    \n",
    "osa_sweet = ctrl.Consequent(np.arange(0, 100, 10), 'osa_sweet')\n",
    "osa_sweet.automf(3)\n",
    "rule_list = []\n",
    "for cas_sweet in cas_antecedents:\n",
    "    rule_list.append(ctrl.Rule(cas_sweet['good'], osa_sweet['good']))\n",
    "    rule_list.append(ctrl.Rule(cas_sweet['average'], osa_sweet['average']))\n",
    "    rule_list.append(ctrl.Rule(cas_sweet['poor'], osa_sweet['poor']))\n",
    "\n",
    "# Set up the system \n",
    "fuzzy_ctrl = ctrl.ControlSystem(rule_list)\n",
    "fuzzy = ctrl.ControlSystemSimulation(fuzzy_ctrl)"
   ]
  },
  {
   "cell_type": "code",
   "execution_count": 329,
   "id": "cdedd733",
   "metadata": {},
   "outputs": [
    {
     "name": "stdout",
     "output_type": "stream",
     "text": [
      "panelist score for sweet:  50\n",
      "prediction score for sweet:  60.000000000000014\n",
      "panelist score for sweet:  30\n",
      "prediction score for sweet:  31.48627671650041\n"
     ]
    }
   ],
   "source": [
    "for index,entry in ms_data_comp[sig_sweet_CAS_005].loc['000838'].items():\n",
    "    fuzzy.input[ index ] = entry\n",
    "    \n",
    "fuzzy.compute()  \n",
    "predictions  = fuzzy.output['osa_sweet']\n",
    "\n",
    "references = panelist_data_comp.loc['000838']['Sweet']\n",
    "\n",
    "print(\"panelist score for sweet: \" , references)\n",
    "print(\"prediction score for sweet: \", predictions)\n",
    "\n",
    "for index,entry in ms_data_comp[sig_sweet_CAS_005].loc['000929'].items():\n",
    "    fuzzy.input[ index ] = entry\n",
    "    \n",
    "fuzzy.compute()  \n",
    "predictions  = fuzzy.output['osa_sweet']\n",
    "\n",
    "references = panelist_data_comp.loc['000929']['Sweet']\n",
    "\n",
    "print(\"panelist score for sweet: \" , references)\n",
    "print(\"prediction score for sweet: \", predictions)"
   ]
  },
  {
   "cell_type": "code",
   "execution_count": 298,
   "id": "854d0055",
   "metadata": {},
   "outputs": [
    {
     "data": {
      "text/plain": [
       "Text(0.5, 1.0, 'Correlation: 0.10494346220357609')"
      ]
     },
     "execution_count": 298,
     "metadata": {},
     "output_type": "execute_result"
    },
    {
     "data": {
      "image/png": "[encoded data removed]",
      "text/plain": [
       "<Figure size 432x288 with 1 Axes>"
      ]
     },
     "metadata": {
      "needs_background": "light"
     },
     "output_type": "display_data"
    }
   ],
   "source": [
    "predictions = []\n",
    "for index, row in ms_data_comp[sig_sweet_CAS_005].iterrows():\n",
    "    for cas in sig_sweet_CAS_005:\n",
    "        fuzzy.input[ cas ] = row[cas]\n",
    "    \n",
    "    fuzzy.compute()  \n",
    "    predictions.append(fuzzy.output['osa_sweet'])\n",
    "\n",
    "references = np.array(panelist_data_comp['Sweet'])\n",
    "plt.hist(predictions, alpha = 0.5) #blue\n",
    "plt.hist(references, alpha = 0.5)\n",
    "plt.title(\"Correlation: \"+ str(np.corrcoef(np.array(predictions), references)[0,1]))"
   ]
  },
  {
   "cell_type": "code",
   "execution_count": 325,
   "id": "b2f2e561",
   "metadata": {},
   "outputs": [],
   "source": [
    "#7 \n",
    "zscore_range=np.linspace(-1.5,1.5,20)# Since we only use zscored data, this range can be used everywhere \n",
    "\n",
    "cas_antecedents = [] # we can just use an array, since the names are saved in the antecedent objects\n",
    "# we only use the sweet descriptors \n",
    "for cas in sig_sweet_CAS_005:\n",
    "    cas_name = str(cas)  \n",
    "    cas_antecedent = ctrl.Antecedent(zscore_range, cas_name)\n",
    "    cas_antecedent.automf(7)\n",
    "    \n",
    "    \n",
    "    cas_antecedents.append( cas_antecedent) \n",
    "    \n",
    "osa_sweet = ctrl.Consequent(np.arange(0, 100, 10), 'osa_sweet')\n",
    "osa_sweet.automf(7)\n",
    "rule_list = []\n",
    "for cas_sweet in cas_antecedents:\n",
    "    rule_list.append(ctrl.Rule(cas_sweet['good'], osa_sweet['good']))\n",
    "    rule_list.append(ctrl.Rule(cas_sweet['average'], osa_sweet['average']))\n",
    "    rule_list.append(ctrl.Rule(cas_sweet['poor'], osa_sweet['poor']))\n",
    "\n",
    "# Set up the system \n",
    "fuzzy_ctrl = ctrl.ControlSystem(rule_list)\n",
    "fuzzy = ctrl.ControlSystemSimulation(fuzzy_ctrl)"
   ]
  },
  {
   "cell_type": "code",
   "execution_count": 331,
   "id": "e54e243e",
   "metadata": {},
   "outputs": [
    {
     "data": {
      "text/plain": [
       "Text(0.5, 1.0, 'Correlation: 0.013340013711391293')"
      ]
     },
     "execution_count": 331,
     "metadata": {},
     "output_type": "execute_result"
    },
    {
     "data": {
      "image/png": "[encoded data removed]",
      "text/plain": [
       "<Figure size 432x288 with 1 Axes>"
      ]
     },
     "metadata": {
      "needs_background": "light"
     },
     "output_type": "display_data"
    }
   ],
   "source": [
    "predictions = []\n",
    "for index, row in ms_data_comp[sig_sweet_CAS_005].iterrows():\n",
    "    for cas in sig_sweet_CAS_005:\n",
    "        fuzzy.input[ cas ] = row[cas]\n",
    "    \n",
    "    fuzzy.compute()  \n",
    "    predictions.append(fuzzy.output['osa_sweet'])\n",
    "    \n",
    "\n",
    "references = np.array(panelist_data_comp['Sweet'])\n",
    "plt.hist(predictions, alpha = 0.5) #blue\n",
    "plt.hist(references, alpha = 0.5)\n",
    "plt.title(\"Correlation: \"+ str(np.corrcoef(np.array(predictions), references)[0,1]))"
   ]
  },
  {
   "cell_type": "code",
   "execution_count": 356,
   "id": "0a617e2a",
   "metadata": {},
   "outputs": [
    {
     "data": {
      "text/html": [
       "<div>\n",
       "<style scoped>\n",
       "    .dataframe tbody tr th:only-of-type {\n",
       "        vertical-align: middle;\n",
       "    }\n",
       "\n",
       "    .dataframe tbody tr th {\n",
       "        vertical-align: top;\n",
       "    }\n",
       "\n",
       "    .dataframe thead th {\n",
       "        text-align: right;\n",
       "    }\n",
       "</style>\n",
       "<table border=\"1\" class=\"dataframe\">\n",
       "  <thead>\n",
       "    <tr style=\"text-align: right;\">\n",
       "      <th></th>\n",
       "      <th>panelist</th>\n",
       "      <th>predictions</th>\n",
       "    </tr>\n",
       "    <tr>\n",
       "      <th>samplekey</th>\n",
       "      <th></th>\n",
       "      <th></th>\n",
       "    </tr>\n",
       "  </thead>\n",
       "  <tbody>\n",
       "    <tr>\n",
       "      <th>000656</th>\n",
       "      <td>30</td>\n",
       "      <td>46.920761</td>\n",
       "    </tr>\n",
       "    <tr>\n",
       "      <th>000657</th>\n",
       "      <td>30</td>\n",
       "      <td>45.000000</td>\n",
       "    </tr>\n",
       "    <tr>\n",
       "      <th>000658</th>\n",
       "      <td>40</td>\n",
       "      <td>60.000000</td>\n",
       "    </tr>\n",
       "    <tr>\n",
       "      <th>000838</th>\n",
       "      <td>50</td>\n",
       "      <td>60.000000</td>\n",
       "    </tr>\n",
       "    <tr>\n",
       "      <th>000839</th>\n",
       "      <td>50</td>\n",
       "      <td>44.536095</td>\n",
       "    </tr>\n",
       "    <tr>\n",
       "      <th>...</th>\n",
       "      <td>...</td>\n",
       "      <td>...</td>\n",
       "    </tr>\n",
       "    <tr>\n",
       "      <th>000925</th>\n",
       "      <td>30</td>\n",
       "      <td>30.000000</td>\n",
       "    </tr>\n",
       "    <tr>\n",
       "      <th>000926</th>\n",
       "      <td>40</td>\n",
       "      <td>33.698467</td>\n",
       "    </tr>\n",
       "    <tr>\n",
       "      <th>000927</th>\n",
       "      <td>50</td>\n",
       "      <td>33.583787</td>\n",
       "    </tr>\n",
       "    <tr>\n",
       "      <th>000929</th>\n",
       "      <td>30</td>\n",
       "      <td>31.486277</td>\n",
       "    </tr>\n",
       "    <tr>\n",
       "      <th>000930</th>\n",
       "      <td>70</td>\n",
       "      <td>45.000000</td>\n",
       "    </tr>\n",
       "  </tbody>\n",
       "</table>\n",
       "<p>197 rows × 2 columns</p>\n",
       "</div>"
      ],
      "text/plain": [
       "           panelist  predictions\n",
       "samplekey                       \n",
       "000656           30    46.920761\n",
       "000657           30    45.000000\n",
       "000658           40    60.000000\n",
       "000838           50    60.000000\n",
       "000839           50    44.536095\n",
       "...             ...          ...\n",
       "000925           30    30.000000\n",
       "000926           40    33.698467\n",
       "000927           50    33.583787\n",
       "000929           30    31.486277\n",
       "000930           70    45.000000\n",
       "\n",
       "[197 rows x 2 columns]"
      ]
     },
     "execution_count": 356,
     "metadata": {},
     "output_type": "execute_result"
    }
   ],
   "source": [
    "compare_df = pd.DataFrame(index=panelist_data_comp['Sweet'].index, columns = [\"panelist\",\"predictions\"])\n",
    "compare_df[\"panelist\"] = panelist_data_comp[\"Sweet\"]\n",
    "compare_df[\"predictions\"] = predictions\n",
    "compare_df"
   ]
  },
  {
   "cell_type": "markdown",
   "id": "2fd84025",
   "metadata": {},
   "source": [
    "### 7 parameters"
   ]
  },
  {
   "cell_type": "markdown",
   "id": "3708e491",
   "metadata": {},
   "source": [
    "for each cas number we create an antecedent object, inlcuding the cas number and values in the zscore range, meaning 25 numbers between -3 and 3. This will be than splitted into 7 areas representing dismal to esxcellent depending on the value which is illustrated in figure 4. The same was done for our Consequent, our output, which is the osa e.g. sweet which is a value between 0 and 100. This again in spliite into those 7 defined areas. \n",
    "After that we create the rules saying that one cas intensity has a specific value it will contribute in the overal score for our flavor. E.g. if our input intensity for a specific cas is over 2 than it contributes to a high score of the flavor specific osa. after defining these rules for every cas number the fuzzy control system is set up. "
   ]
  },
  {
   "cell_type": "code",
   "execution_count": 16,
   "id": "be563dc7",
   "metadata": {},
   "outputs": [],
   "source": [
    "zscore_range=np.linspace(-3,3,25) # Since we only use zscored data, this range can be used everywhere \n",
    "\n",
    "cas_antecedents = [] # we can just use an array, since the names are saved in the antecedent objects\n",
    "# we only use the sweet descriptors \n",
    "for cas in sweet_descriptors_CAS:\n",
    "    cas_name = str(cas)  \n",
    "    cas_antecedent = ctrl.Antecedent(zscore_range, cas_name)\n",
    "    cas_antecedent.automf(7)\n",
    "    \n",
    "    cas_antecedents.append( cas_antecedent) \n",
    "    \n",
    "#osa_sweet = ctrl.Consequent(zscore_range, 'osa_sweet')\n",
    "osa_sweet = ctrl.Consequent(np.arange(0, 100, 1), 'osa_sweet')\n",
    "\n",
    "osa_sweet.automf(7)"
   ]
  },
  {
   "cell_type": "code",
   "execution_count": 21,
   "id": "a833f31d",
   "metadata": {},
   "outputs": [
    {
     "name": "stderr",
     "output_type": "stream",
     "text": [
      "c:\\Users\\Franz\\AppData\\Local\\Programs\\Python\\Python39\\lib\\site-packages\\skfuzzy\\control\\fuzzyvariable.py:122: UserWarning: Matplotlib is currently using module://matplotlib_inline.backend_inline, which is a non-GUI backend, so cannot show the figure.\n",
      "  fig.show()\n"
     ]
    },
    {
     "data": {
      "image/png": "[encoded data removed]",
      "text/plain": [
       "<Figure size 432x288 with 1 Axes>"
      ]
     },
     "metadata": {
      "needs_background": "light"
     },
     "output_type": "display_data"
    }
   ],
   "source": [
    "cas_antecedents[0].view()"
   ]
  },
  {
   "cell_type": "code",
   "execution_count": 17,
   "id": "0801c8cf",
   "metadata": {},
   "outputs": [],
   "source": [
    "rule_list = []\n",
    "def rule_maker(cas_sweet):\n",
    "    rule_list.append(ctrl.Rule(cas_sweet['good'], osa_sweet['good']))\n",
    "    rule_list.append(ctrl.Rule(cas_sweet['excellent'], osa_sweet['excellent']))\n",
    "    rule_list.append(ctrl.Rule(cas_sweet['decent'], osa_sweet['decent']))\n",
    "    rule_list.append(ctrl.Rule(cas_sweet['mediocre'], osa_sweet['mediocre']))\n",
    "    rule_list.append(ctrl.Rule(cas_sweet['average'], osa_sweet['average']))\n",
    "    rule_list.append(ctrl.Rule(cas_sweet['poor'], osa_sweet['poor']))\n",
    "    rule_list.append(ctrl.Rule(cas_sweet['dismal'], osa_sweet['dismal']))\n",
    "\n"
   ]
  },
  {
   "cell_type": "code",
   "execution_count": 18,
   "id": "35df238b",
   "metadata": {},
   "outputs": [],
   "source": [
    "for cas_antecedent in cas_antecedents:\n",
    "    rule_maker(cas_antecedent)"
   ]
  },
  {
   "cell_type": "code",
   "execution_count": 19,
   "id": "b5490ebf",
   "metadata": {},
   "outputs": [],
   "source": [
    "fuzzy_ctrl = ctrl.ControlSystem(rule_list)"
   ]
  },
  {
   "cell_type": "code",
   "execution_count": 20,
   "id": "ecc2098a",
   "metadata": {},
   "outputs": [],
   "source": [
    "fuzzy = ctrl.ControlSystemSimulation(fuzzy_ctrl)"
   ]
  },
  {
   "cell_type": "code",
   "execution_count": 123,
   "id": "246d64af",
   "metadata": {},
   "outputs": [
    {
     "data": {
      "text/plain": [
       "sample_key\n",
       "000920    0.0\n",
       "000922    0.0\n",
       "000927    0.0\n",
       "000911    0.0\n",
       "000925    0.0\n",
       "         ... \n",
       "000596    0.0\n",
       "000804    0.0\n",
       "000853    0.0\n",
       "000931    0.0\n",
       "QC        0.0\n",
       "Name: 96-48-0, Length: 239, dtype: float64"
      ]
     },
     "execution_count": 123,
     "metadata": {},
     "output_type": "execute_result"
    }
   ],
   "source": [
    "ms_data['96-48-0']"
   ]
  },
  {
   "cell_type": "code",
   "execution_count": 124,
   "id": "e4556da3",
   "metadata": {},
   "outputs": [
    {
     "data": {
      "text/plain": [
       "100-51-6     -1.137804\n",
       "101-97-3     -0.394205\n",
       "10486-19-8   -0.816495\n",
       "106-25-2     -0.202080\n",
       "106-70-7     -0.196431\n",
       "                ...   \n",
       "94-59-7      -0.130586\n",
       "95-93-2      -2.212036\n",
       "96-48-0       0.000000\n",
       "97-62-1      -0.803851\n",
       "98-01-1       0.000000\n",
       "Name: 000839, Length: 61, dtype: float64"
      ]
     },
     "execution_count": 124,
     "metadata": {},
     "output_type": "execute_result"
    }
   ],
   "source": [
    "sweet_test.loc['000839'].fillna(0)"
   ]
  },
  {
   "cell_type": "code",
   "execution_count": 125,
   "id": "4f57974a",
   "metadata": {},
   "outputs": [
    {
     "name": "stdout",
     "output_type": "stream",
     "text": [
      "panelist score for sweet:  50\n",
      "prediction score for sweet:  41.00092345943133\n"
     ]
    },
    {
     "name": "stderr",
     "output_type": "stream",
     "text": [
      "c:\\Users\\Franz\\AppData\\Local\\Programs\\Python\\Python39\\lib\\site-packages\\skfuzzy\\control\\fuzzyvariable.py:122: UserWarning: Matplotlib is currently using module://matplotlib_inline.backend_inline, which is a non-GUI backend, so cannot show the figure.\n",
      "  fig.show()\n"
     ]
    },
    {
     "data": {
      "image/png": "[encoded data removed]",
      "text/plain": [
       "<Figure size 432x288 with 1 Axes>"
      ]
     },
     "metadata": {
      "needs_background": "light"
     },
     "output_type": "display_data"
    }
   ],
   "source": [
    "\n",
    "for index, intensitiy in sweet_test.loc['000839'].fillna(0).items():\n",
    "    fuzzy.input[index] = intensitiy\n",
    "    \n",
    "fuzzy.compute()\n",
    "\n",
    "prediction = fuzzy.output['osa_sweet'] \n",
    "references = (panelist_data_comp).loc['000839']['Sweet']\n",
    "\n",
    "print(\"panelist score for sweet: \" , references)\n",
    "print(\"prediction score for sweet: \", prediction)\n",
    "\n",
    "osa_sweet.view(sim=fuzzy)"
   ]
  },
  {
   "cell_type": "code",
   "execution_count": 126,
   "id": "35e9f2a3",
   "metadata": {},
   "outputs": [
    {
     "name": "stdout",
     "output_type": "stream",
     "text": [
      "panelist score for sweet:  50\n",
      "prediction score for sweet:  49.78072731494908\n"
     ]
    },
    {
     "name": "stderr",
     "output_type": "stream",
     "text": [
      "c:\\Users\\Franz\\AppData\\Local\\Programs\\Python\\Python39\\lib\\site-packages\\skfuzzy\\control\\fuzzyvariable.py:122: UserWarning: Matplotlib is currently using module://matplotlib_inline.backend_inline, which is a non-GUI backend, so cannot show the figure.\n",
      "  fig.show()\n"
     ]
    },
    {
     "data": {
      "image/png": "[encoded data removed]",
      "text/plain": [
       "<Figure size 432x288 with 1 Axes>"
      ]
     },
     "metadata": {
      "needs_background": "light"
     },
     "output_type": "display_data"
    }
   ],
   "source": [
    "\n",
    "for index, intensitiy in sweet_ms_df.loc['000839'].items():\n",
    "    fuzzy.input[index] = intensitiy\n",
    "    \n",
    "fuzzy.compute()\n",
    "\n",
    "prediction = fuzzy.output['osa_sweet'] \n",
    "references = (panelist_data_comp).loc['000839']['Sweet']\n",
    "\n",
    "print(\"panelist score for sweet: \" , references)\n",
    "print(\"prediction score for sweet: \", prediction)\n",
    "\n",
    "osa_sweet.view(sim=fuzzy)"
   ]
  },
  {
   "cell_type": "code",
   "execution_count": 74,
   "id": "66035d9b",
   "metadata": {},
   "outputs": [
    {
     "name": "stdout",
     "output_type": "stream",
     "text": [
      "panelist score for sweet:  60\n",
      "prediction score for sweet:  56.27011732333022\n"
     ]
    },
    {
     "name": "stderr",
     "output_type": "stream",
     "text": [
      "c:\\Users\\Franz\\AppData\\Local\\Programs\\Python\\Python39\\lib\\site-packages\\skfuzzy\\control\\fuzzyvariable.py:122: UserWarning: Matplotlib is currently using module://matplotlib_inline.backend_inline, which is a non-GUI backend, so cannot show the figure.\n",
      "  fig.show()\n"
     ]
    },
    {
     "data": {
      "image/png": "[encoded data removed]",
      "text/plain": [
       "<Figure size 432x288 with 1 Axes>"
      ]
     },
     "metadata": {
      "needs_background": "light"
     },
     "output_type": "display_data"
    }
   ],
   "source": [
    "for index, intensitiy in sweet_ms_df.loc['000425'].items():\n",
    "    fuzzy.input[index] = intensitiy\n",
    "    \n",
    "fuzzy.compute()\n",
    "\n",
    "prediction = fuzzy.output['osa_sweet'] \n",
    "references = panelist_data_comp.loc['000425']['Sweet']\n",
    "\n",
    "print(\"panelist score for sweet: \" , references)\n",
    "print(\"prediction score for sweet: \", prediction)\n",
    "\n",
    "osa_sweet.view(sim=fuzzy)"
   ]
  },
  {
   "cell_type": "code",
   "execution_count": 92,
   "id": "5f92e48f",
   "metadata": {},
   "outputs": [],
   "source": [
    "zscore_range=np.linspace(-1.5,1.5,732) # Since we only use zscored data, this range can be used everywhere \n",
    "\n",
    "cas_antecedents_2 = [] # we can just use an array, since the names are saved in the antecedent objects\n",
    "# we only use the sweet descriptors \n",
    "for cas in sweet_descriptors_CAS:\n",
    "    cas_name = str(cas)  \n",
    "    cas_antecedent = ctrl.Antecedent(zscore_range, cas_name)\n",
    "    cas_antecedent.automf(7)\n",
    "    \n",
    "    cas_antecedents_2.append( cas_antecedent) \n",
    "    \n",
    "#osa_sweet = ctrl.Consequent(zscore_range, 'osa_sweet')\n",
    "osa_sweet = ctrl.Consequent(np.arange(0, 100, 1), 'osa_sweet')\n",
    "\n",
    "osa_sweet.automf(7)\n",
    "\n",
    "rule_list_2 = []\n",
    "def rule_maker(cas_sweet):\n",
    "    rule_list_2.append(ctrl.Rule(cas_sweet['good'], osa_sweet['good']))\n",
    "    rule_list_2.append(ctrl.Rule(cas_sweet['excellent'], osa_sweet['excellent']))\n",
    "    rule_list_2.append(ctrl.Rule(cas_sweet['decent'], osa_sweet['decent']))\n",
    "    rule_list_2.append(ctrl.Rule(cas_sweet['mediocre'], osa_sweet['mediocre']))\n",
    "    rule_list_2.append(ctrl.Rule(cas_sweet['average'], osa_sweet['average']))\n",
    "    rule_list_2.append(ctrl.Rule(cas_sweet['poor'], osa_sweet['poor']))\n",
    "    rule_list_2.append(ctrl.Rule(cas_sweet['dismal'], osa_sweet['dismal']))\n",
    "\n",
    "for cas_antecedent in cas_antecedents_2:\n",
    "    rule_maker(cas_antecedent)\n",
    "fuzzy_ctrl_2 = ctrl.ControlSystem(rule_list_2)\n",
    "fuzzy_1 = ctrl.ControlSystemSimulation(fuzzy_ctrl_2)"
   ]
  },
  {
   "cell_type": "code",
   "execution_count": 56,
   "id": "f503f2d4",
   "metadata": {},
   "outputs": [
    {
     "name": "stdout",
     "output_type": "stream",
     "text": [
      "panelist score for sweet:  60\n",
      "prediction score for sweet:  48.12334519333842\n"
     ]
    },
    {
     "name": "stderr",
     "output_type": "stream",
     "text": [
      "c:\\Users\\Franz\\AppData\\Local\\Programs\\Python\\Python39\\lib\\site-packages\\skfuzzy\\control\\fuzzyvariable.py:122: UserWarning: Matplotlib is currently using module://matplotlib_inline.backend_inline, which is a non-GUI backend, so cannot show the figure.\n",
      "  fig.show()\n"
     ]
    },
    {
     "data": {
      "image/png": "[encoded data removed]",
      "text/plain": [
       "<Figure size 432x288 with 1 Axes>"
      ]
     },
     "metadata": {
      "needs_background": "light"
     },
     "output_type": "display_data"
    }
   ],
   "source": [
    "for index, intensitiy in sweet_ms_df.loc['000425'].items():\n",
    "    fuzzy.input[index] = intensitiy\n",
    "    \n",
    "fuzzy.compute()\n",
    "\n",
    "prediction = fuzzy.output['osa_sweet'] \n",
    "references = panelist_data_comp.loc['000425']['Sweet']\n",
    "\n",
    "print(\"panelist score for sweet: \" , references)\n",
    "print(\"prediction score for sweet: \", prediction)\n",
    "\n",
    "osa_sweet.view(sim=fuzzy)"
   ]
  },
  {
   "cell_type": "code",
   "execution_count": 75,
   "id": "9db59ddc",
   "metadata": {},
   "outputs": [
    {
     "name": "stdout",
     "output_type": "stream",
     "text": [
      "panelist score for sweet:  50\n",
      "prediction score for sweet:  46.812096695604495\n"
     ]
    },
    {
     "name": "stderr",
     "output_type": "stream",
     "text": [
      "c:\\Users\\Franz\\AppData\\Local\\Programs\\Python\\Python39\\lib\\site-packages\\skfuzzy\\control\\fuzzyvariable.py:122: UserWarning: Matplotlib is currently using module://matplotlib_inline.backend_inline, which is a non-GUI backend, so cannot show the figure.\n",
      "  fig.show()\n"
     ]
    },
    {
     "data": {
      "image/png": "[encoded data removed]",
      "text/plain": [
       "<Figure size 432x288 with 1 Axes>"
      ]
     },
     "metadata": {
      "needs_background": "light"
     },
     "output_type": "display_data"
    }
   ],
   "source": [
    "\n",
    "for index, intensitiy in sweet_ms_df.loc['000839'].items():\n",
    "    fuzzy.input[index] = intensitiy\n",
    "    \n",
    "fuzzy.compute()\n",
    "\n",
    "prediction = fuzzy.output['osa_sweet'] \n",
    "references = (panelist_data_comp).loc['000839']['Sweet']\n",
    "\n",
    "print(\"panelist score for sweet: \" , references)\n",
    "print(\"prediction score for sweet: \", prediction)\n",
    "\n",
    "osa_sweet.view(sim=fuzzy)"
   ]
  },
  {
   "cell_type": "code",
   "execution_count": 24,
   "id": "40ac398e",
   "metadata": {},
   "outputs": [
    {
     "name": "stdout",
     "output_type": "stream",
     "text": [
      "panelist score for sweet:  50\n",
      "prediction score for sweet:  93.48990825688072\n"
     ]
    },
    {
     "name": "stderr",
     "output_type": "stream",
     "text": [
      "c:\\Users\\Franz\\AppData\\Local\\Programs\\Python\\Python39\\lib\\site-packages\\skfuzzy\\control\\fuzzyvariable.py:122: UserWarning: Matplotlib is currently using module://matplotlib_inline.backend_inline, which is a non-GUI backend, so cannot show the figure.\n",
      "  fig.show()\n"
     ]
    },
    {
     "data": {
      "image/png": "[encoded data removed]",
      "text/plain": [
       "<Figure size 432x288 with 1 Axes>"
      ]
     },
     "metadata": {
      "needs_background": "light"
     },
     "output_type": "display_data"
    }
   ],
   "source": [
    "\n",
    "for index, intensitiy in sweet_ms_df.loc['000839'].items():\n",
    "    fuzzy.input[index] = 33\n",
    "    \n",
    "fuzzy.compute()\n",
    "\n",
    "prediction = fuzzy.output['osa_sweet'] \n",
    "references = (panelist_data_comp).loc['000839']['Sweet']\n",
    "\n",
    "print(\"panelist score for sweet: \" , references)\n",
    "print(\"prediction score for sweet: \", prediction)\n",
    "\n",
    "osa_sweet.view(sim=fuzzy)"
   ]
  },
  {
   "cell_type": "code",
   "execution_count": 76,
   "id": "be0ba4fc",
   "metadata": {},
   "outputs": [
    {
     "data": {
      "text/plain": [
       "(array([ 2., 10., 15., 21.,  6.,  6.,  0.,  0.,  0.,  1.]),\n",
       " array([-0.89162031, -0.63800308, -0.38438585, -0.13076862,  0.1228486 ,\n",
       "         0.37646583,  0.63008306,  0.88370028,  1.13731751,  1.39093474,\n",
       "         1.64455196]),\n",
       " <BarContainer object of 10 artists>)"
      ]
     },
     "execution_count": 76,
     "metadata": {},
     "output_type": "execute_result"
    },
    {
     "data": {
      "image/png": "[encoded data removed]",
      "text/plain": [
       "<Figure size 432x288 with 1 Axes>"
      ]
     },
     "metadata": {
      "needs_background": "light"
     },
     "output_type": "display_data"
    }
   ],
   "source": [
    "plt.hist(sweet_ms_df.loc['000656'])\n",
    "plt.hist(sweet_ms_df.loc['000425'], alpha=0.5)"
   ]
  },
  {
   "cell_type": "code",
   "execution_count": 91,
   "id": "bd457c31",
   "metadata": {},
   "outputs": [
    {
     "name": "stdout",
     "output_type": "stream",
     "text": [
      "panelist score for sweet:  30\n",
      "prediction score for sweet:  56.4148894324869\n"
     ]
    },
    {
     "name": "stderr",
     "output_type": "stream",
     "text": [
      "c:\\Users\\Franz\\AppData\\Local\\Programs\\Python\\Python39\\lib\\site-packages\\skfuzzy\\control\\fuzzyvariable.py:122: UserWarning: Matplotlib is currently using module://matplotlib_inline.backend_inline, which is a non-GUI backend, so cannot show the figure.\n",
      "  fig.show()\n"
     ]
    },
    {
     "data": {
      "image/png": "[encoded data removed]",
      "text/plain": [
       "<Figure size 432x288 with 1 Axes>"
      ]
     },
     "metadata": {
      "needs_background": "light"
     },
     "output_type": "display_data"
    }
   ],
   "source": [
    "for index, intensitiy in sweet_ms_df.loc['000656'].items():\n",
    "    fuzzy.input[index] = intensitiy\n",
    "    \n",
    "fuzzy.compute()\n",
    "\n",
    "prediction = fuzzy.output['osa_sweet'] \n",
    "references = panelist_data_comp.loc['000656']['Sweet']\n",
    "\n",
    "print(\"panelist score for sweet: \" , references)\n",
    "print(\"prediction score for sweet: \", prediction)\n",
    "\n",
    "osa_sweet.view(sim=fuzzy)"
   ]
  },
  {
   "cell_type": "code",
   "execution_count": 86,
   "id": "e285df2b",
   "metadata": {},
   "outputs": [
    {
     "data": {
      "text/plain": [
       "(array([ 3.,  3.,  9., 10., 13., 17.,  2.,  0.,  0.,  4.]),\n",
       " array([-2.74635305, -2.47171775, -2.19708244, -1.92244714, -1.64781183,\n",
       "        -1.37317653, -1.09854122, -0.82390592, -0.54927061, -0.27463531,\n",
       "         0.        ]),\n",
       " <BarContainer object of 10 artists>)"
      ]
     },
     "execution_count": 86,
     "metadata": {},
     "output_type": "execute_result"
    },
    {
     "data": {
      "image/png": "[encoded data removed]",
      "text/plain": [
       "<Figure size 432x288 with 1 Axes>"
      ]
     },
     "metadata": {
      "needs_background": "light"
     },
     "output_type": "display_data"
    }
   ],
   "source": [
    "plt.hist(sweet_ms_df.min())"
   ]
  },
  {
   "cell_type": "code",
   "execution_count": 87,
   "id": "4bed1269",
   "metadata": {},
   "outputs": [
    {
     "data": {
      "text/plain": [
       "(array([ 4.,  0.,  3.,  7.,  7., 14.,  8., 14.,  2.,  2.]),\n",
       " array([0.        , 0.66965148, 1.33930295, 2.00895443, 2.6786059 ,\n",
       "        3.34825738, 4.01790885, 4.68756033, 5.35721181, 6.02686328,\n",
       "        6.69651476]),\n",
       " <BarContainer object of 10 artists>)"
      ]
     },
     "execution_count": 87,
     "metadata": {},
     "output_type": "execute_result"
    },
    {
     "data": {
      "image/png": "[encoded data removed]",
      "text/plain": [
       "<Figure size 432x288 with 1 Axes>"
      ]
     },
     "metadata": {
      "needs_background": "light"
     },
     "output_type": "display_data"
    }
   ],
   "source": [
    "plt.hist(sweet_ms_df.max())"
   ]
  },
  {
   "cell_type": "code",
   "execution_count": 138,
   "id": "2bee7663",
   "metadata": {},
   "outputs": [
    {
     "data": {
      "text/html": [
       "<div>\n",
       "<style scoped>\n",
       "    .dataframe tbody tr th:only-of-type {\n",
       "        vertical-align: middle;\n",
       "    }\n",
       "\n",
       "    .dataframe tbody tr th {\n",
       "        vertical-align: top;\n",
       "    }\n",
       "\n",
       "    .dataframe thead th {\n",
       "        text-align: right;\n",
       "    }\n",
       "</style>\n",
       "<table border=\"1\" class=\"dataframe\">\n",
       "  <thead>\n",
       "    <tr style=\"text-align: right;\">\n",
       "      <th></th>\n",
       "      <th>6485-40-1</th>\n",
       "      <th>3033-23-6</th>\n",
       "      <th>21284-22-0</th>\n",
       "      <th>38427-78-0</th>\n",
       "      <th>495-61-4</th>\n",
       "      <th>29873-99-2</th>\n",
       "      <th>6909-30-4</th>\n",
       "      <th>99-49-0</th>\n",
       "      <th>2244-16-8</th>\n",
       "      <th>876-17-5</th>\n",
       "      <th>...</th>\n",
       "      <th>13466-78-9</th>\n",
       "      <th>483-76-1</th>\n",
       "      <th>36564-42-8</th>\n",
       "      <th>705-86-2</th>\n",
       "      <th>2825-91-4</th>\n",
       "      <th>713-95-1</th>\n",
       "      <th>20307-84-0</th>\n",
       "      <th>120021-96-7</th>\n",
       "      <th>586-62-9</th>\n",
       "      <th>710-04-3</th>\n",
       "    </tr>\n",
       "    <tr>\n",
       "      <th>sample_key</th>\n",
       "      <th></th>\n",
       "      <th></th>\n",
       "      <th></th>\n",
       "      <th></th>\n",
       "      <th></th>\n",
       "      <th></th>\n",
       "      <th></th>\n",
       "      <th></th>\n",
       "      <th></th>\n",
       "      <th></th>\n",
       "      <th></th>\n",
       "      <th></th>\n",
       "      <th></th>\n",
       "      <th></th>\n",
       "      <th></th>\n",
       "      <th></th>\n",
       "      <th></th>\n",
       "      <th></th>\n",
       "      <th></th>\n",
       "      <th></th>\n",
       "      <th></th>\n",
       "    </tr>\n",
       "  </thead>\n",
       "  <tbody>\n",
       "    <tr>\n",
       "      <th>000920</th>\n",
       "      <td>1.158771</td>\n",
       "      <td>0.895271</td>\n",
       "      <td>0.946861</td>\n",
       "      <td>0.819830</td>\n",
       "      <td>1.523904</td>\n",
       "      <td>1.523904</td>\n",
       "      <td>1.089262</td>\n",
       "      <td>1.158771</td>\n",
       "      <td>1.158771</td>\n",
       "      <td>0.895271</td>\n",
       "      <td>...</td>\n",
       "      <td>1.192345</td>\n",
       "      <td>1.523904</td>\n",
       "      <td>0.946861</td>\n",
       "      <td>1.289678</td>\n",
       "      <td>1.289678</td>\n",
       "      <td>1.012158</td>\n",
       "      <td>1.523904</td>\n",
       "      <td>1.523904</td>\n",
       "      <td>1.192345</td>\n",
       "      <td>1.124045</td>\n",
       "    </tr>\n",
       "    <tr>\n",
       "      <th>000922</th>\n",
       "      <td>0.916172</td>\n",
       "      <td>0.736523</td>\n",
       "      <td>0.973346</td>\n",
       "      <td>1.057127</td>\n",
       "      <td>1.579881</td>\n",
       "      <td>1.579881</td>\n",
       "      <td>1.165686</td>\n",
       "      <td>0.916172</td>\n",
       "      <td>0.916172</td>\n",
       "      <td>0.736523</td>\n",
       "      <td>...</td>\n",
       "      <td>0.877381</td>\n",
       "      <td>1.579881</td>\n",
       "      <td>0.973346</td>\n",
       "      <td>1.240674</td>\n",
       "      <td>1.240674</td>\n",
       "      <td>1.379843</td>\n",
       "      <td>1.579881</td>\n",
       "      <td>1.579881</td>\n",
       "      <td>0.877381</td>\n",
       "      <td>1.130342</td>\n",
       "    </tr>\n",
       "    <tr>\n",
       "      <th>000927</th>\n",
       "      <td>0.931354</td>\n",
       "      <td>0.735943</td>\n",
       "      <td>1.273055</td>\n",
       "      <td>1.348861</td>\n",
       "      <td>1.487501</td>\n",
       "      <td>1.487501</td>\n",
       "      <td>1.231637</td>\n",
       "      <td>0.931354</td>\n",
       "      <td>0.931354</td>\n",
       "      <td>0.735943</td>\n",
       "      <td>...</td>\n",
       "      <td>1.002939</td>\n",
       "      <td>1.487501</td>\n",
       "      <td>1.273055</td>\n",
       "      <td>1.204434</td>\n",
       "      <td>1.204434</td>\n",
       "      <td>1.180231</td>\n",
       "      <td>1.487501</td>\n",
       "      <td>1.487501</td>\n",
       "      <td>1.002939</td>\n",
       "      <td>0.995580</td>\n",
       "    </tr>\n",
       "    <tr>\n",
       "      <th>000911</th>\n",
       "      <td>0.867721</td>\n",
       "      <td>0.596470</td>\n",
       "      <td>1.236200</td>\n",
       "      <td>1.334076</td>\n",
       "      <td>1.742538</td>\n",
       "      <td>1.742538</td>\n",
       "      <td>1.312335</td>\n",
       "      <td>0.867721</td>\n",
       "      <td>0.867721</td>\n",
       "      <td>0.596470</td>\n",
       "      <td>...</td>\n",
       "      <td>1.114597</td>\n",
       "      <td>1.742538</td>\n",
       "      <td>1.236200</td>\n",
       "      <td>1.109609</td>\n",
       "      <td>1.109609</td>\n",
       "      <td>1.646824</td>\n",
       "      <td>1.742538</td>\n",
       "      <td>1.742538</td>\n",
       "      <td>1.114597</td>\n",
       "      <td>1.160102</td>\n",
       "    </tr>\n",
       "    <tr>\n",
       "      <th>000925</th>\n",
       "      <td>0.934255</td>\n",
       "      <td>0.796164</td>\n",
       "      <td>1.017651</td>\n",
       "      <td>1.176241</td>\n",
       "      <td>1.594876</td>\n",
       "      <td>1.594876</td>\n",
       "      <td>1.131459</td>\n",
       "      <td>0.934255</td>\n",
       "      <td>0.934255</td>\n",
       "      <td>0.796164</td>\n",
       "      <td>...</td>\n",
       "      <td>0.888183</td>\n",
       "      <td>1.594876</td>\n",
       "      <td>1.017651</td>\n",
       "      <td>1.296092</td>\n",
       "      <td>1.296092</td>\n",
       "      <td>1.294251</td>\n",
       "      <td>1.594876</td>\n",
       "      <td>1.594876</td>\n",
       "      <td>0.888183</td>\n",
       "      <td>1.070498</td>\n",
       "    </tr>\n",
       "    <tr>\n",
       "      <th>...</th>\n",
       "      <td>...</td>\n",
       "      <td>...</td>\n",
       "      <td>...</td>\n",
       "      <td>...</td>\n",
       "      <td>...</td>\n",
       "      <td>...</td>\n",
       "      <td>...</td>\n",
       "      <td>...</td>\n",
       "      <td>...</td>\n",
       "      <td>...</td>\n",
       "      <td>...</td>\n",
       "      <td>...</td>\n",
       "      <td>...</td>\n",
       "      <td>...</td>\n",
       "      <td>...</td>\n",
       "      <td>...</td>\n",
       "      <td>...</td>\n",
       "      <td>...</td>\n",
       "      <td>...</td>\n",
       "      <td>...</td>\n",
       "      <td>...</td>\n",
       "    </tr>\n",
       "    <tr>\n",
       "      <th>000596</th>\n",
       "      <td>1.033366</td>\n",
       "      <td>1.250555</td>\n",
       "      <td>0.628452</td>\n",
       "      <td>0.596864</td>\n",
       "      <td>0.879084</td>\n",
       "      <td>0.879084</td>\n",
       "      <td>0.883064</td>\n",
       "      <td>1.033366</td>\n",
       "      <td>1.033366</td>\n",
       "      <td>1.250555</td>\n",
       "      <td>...</td>\n",
       "      <td>0.877712</td>\n",
       "      <td>0.879084</td>\n",
       "      <td>0.628452</td>\n",
       "      <td>1.097687</td>\n",
       "      <td>1.097687</td>\n",
       "      <td>0.666417</td>\n",
       "      <td>0.879084</td>\n",
       "      <td>0.879084</td>\n",
       "      <td>0.877712</td>\n",
       "      <td>0.951425</td>\n",
       "    </tr>\n",
       "    <tr>\n",
       "      <th>000804</th>\n",
       "      <td>0.937218</td>\n",
       "      <td>1.116034</td>\n",
       "      <td>0.783412</td>\n",
       "      <td>1.058816</td>\n",
       "      <td>1.091539</td>\n",
       "      <td>1.091539</td>\n",
       "      <td>0.921019</td>\n",
       "      <td>0.937218</td>\n",
       "      <td>0.937218</td>\n",
       "      <td>1.116034</td>\n",
       "      <td>...</td>\n",
       "      <td>0.710260</td>\n",
       "      <td>1.091539</td>\n",
       "      <td>0.783412</td>\n",
       "      <td>0.728418</td>\n",
       "      <td>0.728418</td>\n",
       "      <td>0.816580</td>\n",
       "      <td>1.091539</td>\n",
       "      <td>1.091539</td>\n",
       "      <td>0.710260</td>\n",
       "      <td>1.049668</td>\n",
       "    </tr>\n",
       "    <tr>\n",
       "      <th>000853</th>\n",
       "      <td>1.511364</td>\n",
       "      <td>0.907463</td>\n",
       "      <td>1.119766</td>\n",
       "      <td>0.986312</td>\n",
       "      <td>1.233151</td>\n",
       "      <td>1.233151</td>\n",
       "      <td>0.769989</td>\n",
       "      <td>1.511364</td>\n",
       "      <td>1.511364</td>\n",
       "      <td>0.907463</td>\n",
       "      <td>...</td>\n",
       "      <td>1.213674</td>\n",
       "      <td>1.233151</td>\n",
       "      <td>1.119766</td>\n",
       "      <td>0.421277</td>\n",
       "      <td>0.421277</td>\n",
       "      <td>0.716920</td>\n",
       "      <td>1.233151</td>\n",
       "      <td>1.233151</td>\n",
       "      <td>1.213674</td>\n",
       "      <td>1.099703</td>\n",
       "    </tr>\n",
       "    <tr>\n",
       "      <th>000931</th>\n",
       "      <td>0.889231</td>\n",
       "      <td>0.681215</td>\n",
       "      <td>1.063179</td>\n",
       "      <td>1.210702</td>\n",
       "      <td>2.424067</td>\n",
       "      <td>2.424067</td>\n",
       "      <td>1.388755</td>\n",
       "      <td>0.889231</td>\n",
       "      <td>0.889231</td>\n",
       "      <td>0.681215</td>\n",
       "      <td>...</td>\n",
       "      <td>1.061180</td>\n",
       "      <td>2.424067</td>\n",
       "      <td>1.063179</td>\n",
       "      <td>1.134677</td>\n",
       "      <td>1.134677</td>\n",
       "      <td>1.729042</td>\n",
       "      <td>2.424067</td>\n",
       "      <td>2.424067</td>\n",
       "      <td>1.061180</td>\n",
       "      <td>1.312131</td>\n",
       "    </tr>\n",
       "    <tr>\n",
       "      <th>QC</th>\n",
       "      <td>0.843416</td>\n",
       "      <td>1.000000</td>\n",
       "      <td>0.942994</td>\n",
       "      <td>0.952195</td>\n",
       "      <td>1.324946</td>\n",
       "      <td>1.324946</td>\n",
       "      <td>1.072157</td>\n",
       "      <td>0.843416</td>\n",
       "      <td>0.843416</td>\n",
       "      <td>1.000000</td>\n",
       "      <td>...</td>\n",
       "      <td>0.992139</td>\n",
       "      <td>1.324946</td>\n",
       "      <td>0.942994</td>\n",
       "      <td>1.070780</td>\n",
       "      <td>1.070780</td>\n",
       "      <td>1.170362</td>\n",
       "      <td>1.324946</td>\n",
       "      <td>1.324946</td>\n",
       "      <td>0.992139</td>\n",
       "      <td>1.012406</td>\n",
       "    </tr>\n",
       "  </tbody>\n",
       "</table>\n",
       "<p>239 rows × 732 columns</p>\n",
       "</div>"
      ],
      "text/plain": [
       "            6485-40-1  3033-23-6  21284-22-0  38427-78-0  495-61-4  \\\n",
       "sample_key                                                           \n",
       "000920       1.158771   0.895271    0.946861    0.819830  1.523904   \n",
       "000922       0.916172   0.736523    0.973346    1.057127  1.579881   \n",
       "000927       0.931354   0.735943    1.273055    1.348861  1.487501   \n",
       "000911       0.867721   0.596470    1.236200    1.334076  1.742538   \n",
       "000925       0.934255   0.796164    1.017651    1.176241  1.594876   \n",
       "...               ...        ...         ...         ...       ...   \n",
       "000596       1.033366   1.250555    0.628452    0.596864  0.879084   \n",
       "000804       0.937218   1.116034    0.783412    1.058816  1.091539   \n",
       "000853       1.511364   0.907463    1.119766    0.986312  1.233151   \n",
       "000931       0.889231   0.681215    1.063179    1.210702  2.424067   \n",
       "QC           0.843416   1.000000    0.942994    0.952195  1.324946   \n",
       "\n",
       "            29873-99-2  6909-30-4   99-49-0  2244-16-8  876-17-5  ...  \\\n",
       "sample_key                                                        ...   \n",
       "000920        1.523904   1.089262  1.158771   1.158771  0.895271  ...   \n",
       "000922        1.579881   1.165686  0.916172   0.916172  0.736523  ...   \n",
       "000927        1.487501   1.231637  0.931354   0.931354  0.735943  ...   \n",
       "000911        1.742538   1.312335  0.867721   0.867721  0.596470  ...   \n",
       "000925        1.594876   1.131459  0.934255   0.934255  0.796164  ...   \n",
       "...                ...        ...       ...        ...       ...  ...   \n",
       "000596        0.879084   0.883064  1.033366   1.033366  1.250555  ...   \n",
       "000804        1.091539   0.921019  0.937218   0.937218  1.116034  ...   \n",
       "000853        1.233151   0.769989  1.511364   1.511364  0.907463  ...   \n",
       "000931        2.424067   1.388755  0.889231   0.889231  0.681215  ...   \n",
       "QC            1.324946   1.072157  0.843416   0.843416  1.000000  ...   \n",
       "\n",
       "            13466-78-9  483-76-1  36564-42-8  705-86-2  2825-91-4  713-95-1  \\\n",
       "sample_key                                                                    \n",
       "000920        1.192345  1.523904    0.946861  1.289678   1.289678  1.012158   \n",
       "000922        0.877381  1.579881    0.973346  1.240674   1.240674  1.379843   \n",
       "000927        1.002939  1.487501    1.273055  1.204434   1.204434  1.180231   \n",
       "000911        1.114597  1.742538    1.236200  1.109609   1.109609  1.646824   \n",
       "000925        0.888183  1.594876    1.017651  1.296092   1.296092  1.294251   \n",
       "...                ...       ...         ...       ...        ...       ...   \n",
       "000596        0.877712  0.879084    0.628452  1.097687   1.097687  0.666417   \n",
       "000804        0.710260  1.091539    0.783412  0.728418   0.728418  0.816580   \n",
       "000853        1.213674  1.233151    1.119766  0.421277   0.421277  0.716920   \n",
       "000931        1.061180  2.424067    1.063179  1.134677   1.134677  1.729042   \n",
       "QC            0.992139  1.324946    0.942994  1.070780   1.070780  1.170362   \n",
       "\n",
       "            20307-84-0  120021-96-7  586-62-9  710-04-3  \n",
       "sample_key                                               \n",
       "000920        1.523904     1.523904  1.192345  1.124045  \n",
       "000922        1.579881     1.579881  0.877381  1.130342  \n",
       "000927        1.487501     1.487501  1.002939  0.995580  \n",
       "000911        1.742538     1.742538  1.114597  1.160102  \n",
       "000925        1.594876     1.594876  0.888183  1.070498  \n",
       "...                ...          ...       ...       ...  \n",
       "000596        0.879084     0.879084  0.877712  0.951425  \n",
       "000804        1.091539     1.091539  0.710260  1.049668  \n",
       "000853        1.233151     1.233151  1.213674  1.099703  \n",
       "000931        2.424067     2.424067  1.061180  1.312131  \n",
       "QC            1.324946     1.324946  0.992139  1.012406  \n",
       "\n",
       "[239 rows x 732 columns]"
      ]
     },
     "execution_count": 138,
     "metadata": {},
     "output_type": "execute_result"
    }
   ],
   "source": [
    "ms_data"
   ]
  },
  {
   "cell_type": "code",
   "execution_count": 90,
   "id": "1b98bc83",
   "metadata": {},
   "outputs": [
    {
     "data": {
      "text/plain": [
       "(array([414., 246.,  65.,   5.,   1.,   0.,   0.,   0.,   0.,   1.]),\n",
       " array([ 0.        ,  2.32970324,  4.65940647,  6.98910971,  9.31881295,\n",
       "        11.64851618, 13.97821942, 16.30792266, 18.63762589, 20.96732913,\n",
       "        23.29703237]),\n",
       " <BarContainer object of 10 artists>)"
      ]
     },
     "execution_count": 90,
     "metadata": {},
     "output_type": "execute_result"
    },
    {
     "data": {
      "image/png": "[encoded data removed]",
      "text/plain": [
       "<Figure size 432x288 with 1 Axes>"
      ]
     },
     "metadata": {
      "needs_background": "light"
     },
     "output_type": "display_data"
    }
   ],
   "source": [
    "plt.hist(ms_data.max())"
   ]
  },
  {
   "cell_type": "code",
   "execution_count": 137,
   "id": "4d40b689",
   "metadata": {},
   "outputs": [
    {
     "data": {
      "text/html": [
       "<div>\n",
       "<style scoped>\n",
       "    .dataframe tbody tr th:only-of-type {\n",
       "        vertical-align: middle;\n",
       "    }\n",
       "\n",
       "    .dataframe tbody tr th {\n",
       "        vertical-align: top;\n",
       "    }\n",
       "\n",
       "    .dataframe thead th {\n",
       "        text-align: right;\n",
       "    }\n",
       "</style>\n",
       "<table border=\"1\" class=\"dataframe\">\n",
       "  <thead>\n",
       "    <tr style=\"text-align: right;\">\n",
       "      <th></th>\n",
       "      <th>100-51-6</th>\n",
       "      <th>101-97-3</th>\n",
       "      <th>10486-19-8</th>\n",
       "      <th>106-25-2</th>\n",
       "      <th>106-70-7</th>\n",
       "      <th>1118-27-0</th>\n",
       "      <th>112-44-7</th>\n",
       "      <th>1139-30-6</th>\n",
       "      <th>115-95-7</th>\n",
       "      <th>116-26-7</th>\n",
       "      <th>...</th>\n",
       "      <th>78-36-4</th>\n",
       "      <th>90-05-1</th>\n",
       "      <th>91-64-5</th>\n",
       "      <th>93-58-3</th>\n",
       "      <th>939-48-0</th>\n",
       "      <th>94-59-7</th>\n",
       "      <th>95-93-2</th>\n",
       "      <th>96-48-0</th>\n",
       "      <th>97-62-1</th>\n",
       "      <th>98-01-1</th>\n",
       "    </tr>\n",
       "    <tr>\n",
       "      <th>sample_key</th>\n",
       "      <th></th>\n",
       "      <th></th>\n",
       "      <th></th>\n",
       "      <th></th>\n",
       "      <th></th>\n",
       "      <th></th>\n",
       "      <th></th>\n",
       "      <th></th>\n",
       "      <th></th>\n",
       "      <th></th>\n",
       "      <th></th>\n",
       "      <th></th>\n",
       "      <th></th>\n",
       "      <th></th>\n",
       "      <th></th>\n",
       "      <th></th>\n",
       "      <th></th>\n",
       "      <th></th>\n",
       "      <th></th>\n",
       "      <th></th>\n",
       "      <th></th>\n",
       "    </tr>\n",
       "  </thead>\n",
       "  <tbody>\n",
       "    <tr>\n",
       "      <th>000920</th>\n",
       "      <td>0.145072</td>\n",
       "      <td>-0.402118</td>\n",
       "      <td>-0.158332</td>\n",
       "      <td>-0.282855</td>\n",
       "      <td>-1.021965</td>\n",
       "      <td>-0.454564</td>\n",
       "      <td>1.347565</td>\n",
       "      <td>-0.434720</td>\n",
       "      <td>-0.542226</td>\n",
       "      <td>0.342638</td>\n",
       "      <td>...</td>\n",
       "      <td>-0.376592</td>\n",
       "      <td>1.918544</td>\n",
       "      <td>-0.102087</td>\n",
       "      <td>0.335320</td>\n",
       "      <td>-0.402118</td>\n",
       "      <td>0.183367</td>\n",
       "      <td>1.756254</td>\n",
       "      <td>0.0</td>\n",
       "      <td>-0.196933</td>\n",
       "      <td>0.0</td>\n",
       "    </tr>\n",
       "    <tr>\n",
       "      <th>000922</th>\n",
       "      <td>-0.006007</td>\n",
       "      <td>0.054447</td>\n",
       "      <td>0.789525</td>\n",
       "      <td>-0.835267</td>\n",
       "      <td>0.352176</td>\n",
       "      <td>-0.793731</td>\n",
       "      <td>1.183626</td>\n",
       "      <td>-0.541566</td>\n",
       "      <td>0.487139</td>\n",
       "      <td>-0.638824</td>\n",
       "      <td>...</td>\n",
       "      <td>-0.433068</td>\n",
       "      <td>0.755909</td>\n",
       "      <td>0.881869</td>\n",
       "      <td>-0.524925</td>\n",
       "      <td>0.054447</td>\n",
       "      <td>0.704514</td>\n",
       "      <td>1.012943</td>\n",
       "      <td>0.0</td>\n",
       "      <td>0.064097</td>\n",
       "      <td>0.0</td>\n",
       "    </tr>\n",
       "    <tr>\n",
       "      <th>000927</th>\n",
       "      <td>-0.550657</td>\n",
       "      <td>1.086486</td>\n",
       "      <td>0.274945</td>\n",
       "      <td>-0.837286</td>\n",
       "      <td>-0.582593</td>\n",
       "      <td>-0.530549</td>\n",
       "      <td>1.062388</td>\n",
       "      <td>0.215911</td>\n",
       "      <td>0.665305</td>\n",
       "      <td>-0.577403</td>\n",
       "      <td>...</td>\n",
       "      <td>-0.415219</td>\n",
       "      <td>0.558190</td>\n",
       "      <td>-0.128824</td>\n",
       "      <td>-0.181994</td>\n",
       "      <td>1.086486</td>\n",
       "      <td>0.838267</td>\n",
       "      <td>1.056028</td>\n",
       "      <td>0.0</td>\n",
       "      <td>-0.439821</td>\n",
       "      <td>0.0</td>\n",
       "    </tr>\n",
       "    <tr>\n",
       "      <th>000911</th>\n",
       "      <td>-0.160641</td>\n",
       "      <td>0.036586</td>\n",
       "      <td>1.477778</td>\n",
       "      <td>-1.322621</td>\n",
       "      <td>0.310314</td>\n",
       "      <td>-0.105064</td>\n",
       "      <td>0.745156</td>\n",
       "      <td>0.389568</td>\n",
       "      <td>1.075946</td>\n",
       "      <td>-0.834838</td>\n",
       "      <td>...</td>\n",
       "      <td>0.334839</td>\n",
       "      <td>0.422073</td>\n",
       "      <td>0.336051</td>\n",
       "      <td>0.122970</td>\n",
       "      <td>0.036586</td>\n",
       "      <td>0.863101</td>\n",
       "      <td>2.377540</td>\n",
       "      <td>0.0</td>\n",
       "      <td>1.214402</td>\n",
       "      <td>0.0</td>\n",
       "    </tr>\n",
       "    <tr>\n",
       "      <th>000925</th>\n",
       "      <td>-0.582492</td>\n",
       "      <td>0.354348</td>\n",
       "      <td>0.568877</td>\n",
       "      <td>-0.627727</td>\n",
       "      <td>0.296694</td>\n",
       "      <td>-0.567692</td>\n",
       "      <td>1.369022</td>\n",
       "      <td>-0.143846</td>\n",
       "      <td>0.072743</td>\n",
       "      <td>-0.565667</td>\n",
       "      <td>...</td>\n",
       "      <td>-0.563842</td>\n",
       "      <td>0.925502</td>\n",
       "      <td>0.588295</td>\n",
       "      <td>-0.495422</td>\n",
       "      <td>0.354348</td>\n",
       "      <td>0.728937</td>\n",
       "      <td>1.164226</td>\n",
       "      <td>0.0</td>\n",
       "      <td>-0.210043</td>\n",
       "      <td>0.0</td>\n",
       "    </tr>\n",
       "    <tr>\n",
       "      <th>...</th>\n",
       "      <td>...</td>\n",
       "      <td>...</td>\n",
       "      <td>...</td>\n",
       "      <td>...</td>\n",
       "      <td>...</td>\n",
       "      <td>...</td>\n",
       "      <td>...</td>\n",
       "      <td>...</td>\n",
       "      <td>...</td>\n",
       "      <td>...</td>\n",
       "      <td>...</td>\n",
       "      <td>...</td>\n",
       "      <td>...</td>\n",
       "      <td>...</td>\n",
       "      <td>...</td>\n",
       "      <td>...</td>\n",
       "      <td>...</td>\n",
       "      <td>...</td>\n",
       "      <td>...</td>\n",
       "      <td>...</td>\n",
       "      <td>...</td>\n",
       "    </tr>\n",
       "    <tr>\n",
       "      <th>000596</th>\n",
       "      <td>-0.376903</td>\n",
       "      <td>-0.657316</td>\n",
       "      <td>-1.049621</td>\n",
       "      <td>0.953460</td>\n",
       "      <td>-1.136752</td>\n",
       "      <td>-0.290011</td>\n",
       "      <td>0.705273</td>\n",
       "      <td>-1.196877</td>\n",
       "      <td>-1.219282</td>\n",
       "      <td>-0.164701</td>\n",
       "      <td>...</td>\n",
       "      <td>-1.057526</td>\n",
       "      <td>0.342758</td>\n",
       "      <td>1.865231</td>\n",
       "      <td>-0.524021</td>\n",
       "      <td>-0.657316</td>\n",
       "      <td>-0.401865</td>\n",
       "      <td>0.822045</td>\n",
       "      <td>0.0</td>\n",
       "      <td>-0.675180</td>\n",
       "      <td>0.0</td>\n",
       "    </tr>\n",
       "    <tr>\n",
       "      <th>000804</th>\n",
       "      <td>-0.649973</td>\n",
       "      <td>-0.445393</td>\n",
       "      <td>-0.662514</td>\n",
       "      <td>0.485352</td>\n",
       "      <td>1.491073</td>\n",
       "      <td>-0.341741</td>\n",
       "      <td>-0.530095</td>\n",
       "      <td>0.049392</td>\n",
       "      <td>0.015918</td>\n",
       "      <td>-0.553682</td>\n",
       "      <td>...</td>\n",
       "      <td>-0.051101</td>\n",
       "      <td>-0.524397</td>\n",
       "      <td>-0.033080</td>\n",
       "      <td>-0.981373</td>\n",
       "      <td>-0.445393</td>\n",
       "      <td>-0.009716</td>\n",
       "      <td>-0.759068</td>\n",
       "      <td>0.0</td>\n",
       "      <td>-0.090074</td>\n",
       "      <td>0.0</td>\n",
       "    </tr>\n",
       "    <tr>\n",
       "      <th>000853</th>\n",
       "      <td>0.212933</td>\n",
       "      <td>0.813260</td>\n",
       "      <td>-0.919430</td>\n",
       "      <td>-0.240430</td>\n",
       "      <td>1.320896</td>\n",
       "      <td>0.632151</td>\n",
       "      <td>-1.557615</td>\n",
       "      <td>0.242754</td>\n",
       "      <td>-0.361760</td>\n",
       "      <td>1.769095</td>\n",
       "      <td>...</td>\n",
       "      <td>0.460432</td>\n",
       "      <td>-1.123340</td>\n",
       "      <td>-0.714183</td>\n",
       "      <td>0.393576</td>\n",
       "      <td>0.813260</td>\n",
       "      <td>-0.105301</td>\n",
       "      <td>-1.600206</td>\n",
       "      <td>0.0</td>\n",
       "      <td>0.660416</td>\n",
       "      <td>0.0</td>\n",
       "    </tr>\n",
       "    <tr>\n",
       "      <th>000931</th>\n",
       "      <td>-0.835585</td>\n",
       "      <td>-0.298261</td>\n",
       "      <td>1.689729</td>\n",
       "      <td>-1.027726</td>\n",
       "      <td>0.753271</td>\n",
       "      <td>-0.366804</td>\n",
       "      <td>0.829019</td>\n",
       "      <td>-0.250645</td>\n",
       "      <td>0.614286</td>\n",
       "      <td>-0.747819</td>\n",
       "      <td>...</td>\n",
       "      <td>0.120862</td>\n",
       "      <td>0.589981</td>\n",
       "      <td>0.128013</td>\n",
       "      <td>-0.022925</td>\n",
       "      <td>-0.298261</td>\n",
       "      <td>1.692551</td>\n",
       "      <td>0.787641</td>\n",
       "      <td>0.0</td>\n",
       "      <td>2.447416</td>\n",
       "      <td>0.0</td>\n",
       "    </tr>\n",
       "    <tr>\n",
       "      <th>QC</th>\n",
       "      <td>-0.172277</td>\n",
       "      <td>-0.579371</td>\n",
       "      <td>0.249504</td>\n",
       "      <td>0.081579</td>\n",
       "      <td>-0.628209</td>\n",
       "      <td>-0.681382</td>\n",
       "      <td>0.615256</td>\n",
       "      <td>-0.223796</td>\n",
       "      <td>0.097092</td>\n",
       "      <td>-0.933167</td>\n",
       "      <td>...</td>\n",
       "      <td>-0.117286</td>\n",
       "      <td>0.325581</td>\n",
       "      <td>0.105400</td>\n",
       "      <td>-0.211492</td>\n",
       "      <td>-0.579371</td>\n",
       "      <td>-0.190412</td>\n",
       "      <td>0.498302</td>\n",
       "      <td>0.0</td>\n",
       "      <td>0.496947</td>\n",
       "      <td>0.0</td>\n",
       "    </tr>\n",
       "  </tbody>\n",
       "</table>\n",
       "<p>239 rows × 61 columns</p>\n",
       "</div>"
      ],
      "text/plain": [
       "            100-51-6  101-97-3  10486-19-8  106-25-2  106-70-7  1118-27-0  \\\n",
       "sample_key                                                                  \n",
       "000920      0.145072 -0.402118   -0.158332 -0.282855 -1.021965  -0.454564   \n",
       "000922     -0.006007  0.054447    0.789525 -0.835267  0.352176  -0.793731   \n",
       "000927     -0.550657  1.086486    0.274945 -0.837286 -0.582593  -0.530549   \n",
       "000911     -0.160641  0.036586    1.477778 -1.322621  0.310314  -0.105064   \n",
       "000925     -0.582492  0.354348    0.568877 -0.627727  0.296694  -0.567692   \n",
       "...              ...       ...         ...       ...       ...        ...   \n",
       "000596     -0.376903 -0.657316   -1.049621  0.953460 -1.136752  -0.290011   \n",
       "000804     -0.649973 -0.445393   -0.662514  0.485352  1.491073  -0.341741   \n",
       "000853      0.212933  0.813260   -0.919430 -0.240430  1.320896   0.632151   \n",
       "000931     -0.835585 -0.298261    1.689729 -1.027726  0.753271  -0.366804   \n",
       "QC         -0.172277 -0.579371    0.249504  0.081579 -0.628209  -0.681382   \n",
       "\n",
       "            112-44-7  1139-30-6  115-95-7  116-26-7  ...   78-36-4   90-05-1  \\\n",
       "sample_key                                           ...                       \n",
       "000920      1.347565  -0.434720 -0.542226  0.342638  ... -0.376592  1.918544   \n",
       "000922      1.183626  -0.541566  0.487139 -0.638824  ... -0.433068  0.755909   \n",
       "000927      1.062388   0.215911  0.665305 -0.577403  ... -0.415219  0.558190   \n",
       "000911      0.745156   0.389568  1.075946 -0.834838  ...  0.334839  0.422073   \n",
       "000925      1.369022  -0.143846  0.072743 -0.565667  ... -0.563842  0.925502   \n",
       "...              ...        ...       ...       ...  ...       ...       ...   \n",
       "000596      0.705273  -1.196877 -1.219282 -0.164701  ... -1.057526  0.342758   \n",
       "000804     -0.530095   0.049392  0.015918 -0.553682  ... -0.051101 -0.524397   \n",
       "000853     -1.557615   0.242754 -0.361760  1.769095  ...  0.460432 -1.123340   \n",
       "000931      0.829019  -0.250645  0.614286 -0.747819  ...  0.120862  0.589981   \n",
       "QC          0.615256  -0.223796  0.097092 -0.933167  ... -0.117286  0.325581   \n",
       "\n",
       "             91-64-5   93-58-3  939-48-0   94-59-7   95-93-2  96-48-0  \\\n",
       "sample_key                                                              \n",
       "000920     -0.102087  0.335320 -0.402118  0.183367  1.756254      0.0   \n",
       "000922      0.881869 -0.524925  0.054447  0.704514  1.012943      0.0   \n",
       "000927     -0.128824 -0.181994  1.086486  0.838267  1.056028      0.0   \n",
       "000911      0.336051  0.122970  0.036586  0.863101  2.377540      0.0   \n",
       "000925      0.588295 -0.495422  0.354348  0.728937  1.164226      0.0   \n",
       "...              ...       ...       ...       ...       ...      ...   \n",
       "000596      1.865231 -0.524021 -0.657316 -0.401865  0.822045      0.0   \n",
       "000804     -0.033080 -0.981373 -0.445393 -0.009716 -0.759068      0.0   \n",
       "000853     -0.714183  0.393576  0.813260 -0.105301 -1.600206      0.0   \n",
       "000931      0.128013 -0.022925 -0.298261  1.692551  0.787641      0.0   \n",
       "QC          0.105400 -0.211492 -0.579371 -0.190412  0.498302      0.0   \n",
       "\n",
       "             97-62-1  98-01-1  \n",
       "sample_key                     \n",
       "000920     -0.196933      0.0  \n",
       "000922      0.064097      0.0  \n",
       "000927     -0.439821      0.0  \n",
       "000911      1.214402      0.0  \n",
       "000925     -0.210043      0.0  \n",
       "...              ...      ...  \n",
       "000596     -0.675180      0.0  \n",
       "000804     -0.090074      0.0  \n",
       "000853      0.660416      0.0  \n",
       "000931      2.447416      0.0  \n",
       "QC          0.496947      0.0  \n",
       "\n",
       "[239 rows x 61 columns]"
      ]
     },
     "execution_count": 137,
     "metadata": {},
     "output_type": "execute_result"
    }
   ],
   "source": [
    "sweet_ms_df"
   ]
  },
  {
   "cell_type": "code",
   "execution_count": 77,
   "id": "e5f007fe",
   "metadata": {},
   "outputs": [],
   "source": [
    "predictions = []\n",
    "for index, row in sweet_ms_df.iterrows():\n",
    "    for cas in sweet_descriptors_CAS:\n",
    "        fuzzy.input[ cas ] = row[cas]\n",
    "    \n",
    "    fuzzy.compute()  \n",
    "    predictions.append(fuzzy.output['osa_sweet'])\n",
    "\n",
    "references = np.array(panelist_data_comp['Sweet'])\n",
    "\n"
   ]
  },
  {
   "cell_type": "code",
   "execution_count": 133,
   "id": "49a47bae",
   "metadata": {},
   "outputs": [
    {
     "data": {
      "text/plain": [
       "(array([ 1.,  9., 21., 37., 30., 56., 41., 30., 11.,  3.]),\n",
       " array([41.97711042, 43.84686235, 45.71661428, 47.58636621, 49.45611814,\n",
       "        51.32587007, 53.195622  , 55.06537393, 56.93512586, 58.80487779,\n",
       "        60.67462972]),\n",
       " <BarContainer object of 10 artists>)"
      ]
     },
     "execution_count": 133,
     "metadata": {},
     "output_type": "execute_result"
    },
    {
     "data": {
      "image/png": "[encoded data removed]",
      "text/plain": [
       "<Figure size 432x288 with 1 Axes>"
      ]
     },
     "metadata": {
      "needs_background": "light"
     },
     "output_type": "display_data"
    }
   ],
   "source": [
    "plt.hist(predictions)    \n",
    "# all predicitions are between 40 and 60 ? "
   ]
  },
  {
   "cell_type": "code",
   "execution_count": 129,
   "id": "f8c61a37",
   "metadata": {},
   "outputs": [],
   "source": [
    "references = np.array(panelist_data_comp['Sweet'])\n"
   ]
  },
  {
   "cell_type": "code",
   "execution_count": 131,
   "id": "8ac54e5e",
   "metadata": {},
   "outputs": [
    {
     "data": {
      "text/plain": [
       "(array([ 1.,  0.,  0.,  0., 12.,  0.,  0.,  0., 57.,  0.,  0.,  0., 75.,\n",
       "         0.,  0.,  0., 35.,  0.,  0.,  0., 16.,  0.,  0.,  0.,  1.]),\n",
       " array([10. , 12.4, 14.8, 17.2, 19.6, 22. , 24.4, 26.8, 29.2, 31.6, 34. ,\n",
       "        36.4, 38.8, 41.2, 43.6, 46. , 48.4, 50.8, 53.2, 55.6, 58. , 60.4,\n",
       "        62.8, 65.2, 67.6, 70. ]),\n",
       " <BarContainer object of 25 artists>)"
      ]
     },
     "execution_count": 131,
     "metadata": {},
     "output_type": "execute_result"
    },
    {
     "data": {
      "image/png": "[encoded data removed]",
      "text/plain": [
       "<Figure size 432x288 with 1 Axes>"
      ]
     },
     "metadata": {
      "needs_background": "light"
     },
     "output_type": "display_data"
    }
   ],
   "source": [
    "plt.hist(references,25)"
   ]
  },
  {
   "cell_type": "code",
   "execution_count": 135,
   "id": "63497e2c",
   "metadata": {},
   "outputs": [
    {
     "data": {
      "text/plain": [
       "239"
      ]
     },
     "execution_count": 135,
     "metadata": {},
     "output_type": "execute_result"
    }
   ],
   "source": [
    "len(predictions)"
   ]
  },
  {
   "cell_type": "code",
   "execution_count": 136,
   "id": "188a0440",
   "metadata": {},
   "outputs": [
    {
     "data": {
      "text/plain": [
       "197"
      ]
     },
     "execution_count": 136,
     "metadata": {},
     "output_type": "execute_result"
    }
   ],
   "source": [
    "len(references)"
   ]
  },
  {
   "cell_type": "code",
   "execution_count": 132,
   "id": "d3fcfb72",
   "metadata": {},
   "outputs": [
    {
     "ename": "ValueError",
     "evalue": "x and y must have same first dimension, but have shapes (239,) and (197,)",
     "output_type": "error",
     "traceback": [
      "\u001b[1;31m---------------------------------------------------------------------------\u001b[0m",
      "\u001b[1;31mValueError\u001b[0m                                Traceback (most recent call last)",
      "\u001b[1;32mc:\\Users\\Franz\\OneDrive\\Dokumente\\Bioinformatik_20.21\\Bachelorarbeit\\Bachelorthesis\\FuzzySweet.ipynb Cell 66\u001b[0m line \u001b[0;36m<module>\u001b[1;34m\u001b[0m\n\u001b[1;32m----> <a href='vscode-notebook-cell:/c%3A/Users/Franz/OneDrive/Dokumente/Bioinformatik_20.21/Bachelorarbeit/Bachelorthesis/FuzzySweet.ipynb#Y104sZmlsZQ%3D%3D?line=0'>1</a>\u001b[0m plt\u001b[39m.\u001b[39;49mplot(predictions, references,\u001b[39m'\u001b[39;49m\u001b[39mo\u001b[39;49m\u001b[39m'\u001b[39;49m)\n\u001b[0;32m      <a href='vscode-notebook-cell:/c%3A/Users/Franz/OneDrive/Dokumente/Bioinformatik_20.21/Bachelorarbeit/Bachelorthesis/FuzzySweet.ipynb#Y104sZmlsZQ%3D%3D?line=1'>2</a>\u001b[0m plt\u001b[39m.\u001b[39mtitle(\u001b[39m\"\u001b[39m\u001b[39mCorrelation: \u001b[39m\u001b[39m\"\u001b[39m\u001b[39m+\u001b[39m \u001b[39mstr\u001b[39m(np\u001b[39m.\u001b[39mcorrcoef(predictions, references)[\u001b[39m0\u001b[39m,\u001b[39m1\u001b[39m]))\n",
      "File \u001b[1;32mc:\\Users\\Franz\\AppData\\Local\\Programs\\Python\\Python39\\lib\\site-packages\\matplotlib\\pyplot.py:2757\u001b[0m, in \u001b[0;36mplot\u001b[1;34m(scalex, scaley, data, *args, **kwargs)\u001b[0m\n\u001b[0;32m   2755\u001b[0m \u001b[39m@_copy_docstring_and_deprecators\u001b[39m(Axes\u001b[39m.\u001b[39mplot)\n\u001b[0;32m   2756\u001b[0m \u001b[39mdef\u001b[39;00m \u001b[39mplot\u001b[39m(\u001b[39m*\u001b[39margs, scalex\u001b[39m=\u001b[39m\u001b[39mTrue\u001b[39;00m, scaley\u001b[39m=\u001b[39m\u001b[39mTrue\u001b[39;00m, data\u001b[39m=\u001b[39m\u001b[39mNone\u001b[39;00m, \u001b[39m*\u001b[39m\u001b[39m*\u001b[39mkwargs):\n\u001b[1;32m-> 2757\u001b[0m     \u001b[39mreturn\u001b[39;00m gca()\u001b[39m.\u001b[39mplot(\n\u001b[0;32m   2758\u001b[0m         \u001b[39m*\u001b[39margs, scalex\u001b[39m=\u001b[39mscalex, scaley\u001b[39m=\u001b[39mscaley,\n\u001b[0;32m   2759\u001b[0m         \u001b[39m*\u001b[39m\u001b[39m*\u001b[39m({\u001b[39m\"\u001b[39m\u001b[39mdata\u001b[39m\u001b[39m\"\u001b[39m: data} \u001b[39mif\u001b[39;00m data \u001b[39mis\u001b[39;00m \u001b[39mnot\u001b[39;00m \u001b[39mNone\u001b[39;00m \u001b[39melse\u001b[39;00m {}), \u001b[39m*\u001b[39m\u001b[39m*\u001b[39mkwargs)\n",
      "File \u001b[1;32mc:\\Users\\Franz\\AppData\\Local\\Programs\\Python\\Python39\\lib\\site-packages\\matplotlib\\axes\\_axes.py:1632\u001b[0m, in \u001b[0;36mAxes.plot\u001b[1;34m(self, scalex, scaley, data, *args, **kwargs)\u001b[0m\n\u001b[0;32m   1390\u001b[0m \u001b[39m\"\"\"\u001b[39;00m\n\u001b[0;32m   1391\u001b[0m \u001b[39mPlot y versus x as lines and/or markers.\u001b[39;00m\n\u001b[0;32m   1392\u001b[0m \n\u001b[1;32m   (...)\u001b[0m\n\u001b[0;32m   1629\u001b[0m \u001b[39m(``'green'``) or hex strings (``'#008000'``).\u001b[39;00m\n\u001b[0;32m   1630\u001b[0m \u001b[39m\"\"\"\u001b[39;00m\n\u001b[0;32m   1631\u001b[0m kwargs \u001b[39m=\u001b[39m cbook\u001b[39m.\u001b[39mnormalize_kwargs(kwargs, mlines\u001b[39m.\u001b[39mLine2D)\n\u001b[1;32m-> 1632\u001b[0m lines \u001b[39m=\u001b[39m [\u001b[39m*\u001b[39m\u001b[39mself\u001b[39m\u001b[39m.\u001b[39m_get_lines(\u001b[39m*\u001b[39margs, data\u001b[39m=\u001b[39mdata, \u001b[39m*\u001b[39m\u001b[39m*\u001b[39mkwargs)]\n\u001b[0;32m   1633\u001b[0m \u001b[39mfor\u001b[39;00m line \u001b[39min\u001b[39;00m lines:\n\u001b[0;32m   1634\u001b[0m     \u001b[39mself\u001b[39m\u001b[39m.\u001b[39madd_line(line)\n",
      "File \u001b[1;32mc:\\Users\\Franz\\AppData\\Local\\Programs\\Python\\Python39\\lib\\site-packages\\matplotlib\\axes\\_base.py:312\u001b[0m, in \u001b[0;36m_process_plot_var_args.__call__\u001b[1;34m(self, data, *args, **kwargs)\u001b[0m\n\u001b[0;32m    310\u001b[0m     this \u001b[39m+\u001b[39m\u001b[39m=\u001b[39m args[\u001b[39m0\u001b[39m],\n\u001b[0;32m    311\u001b[0m     args \u001b[39m=\u001b[39m args[\u001b[39m1\u001b[39m:]\n\u001b[1;32m--> 312\u001b[0m \u001b[39myield from\u001b[39;00m \u001b[39mself\u001b[39;49m\u001b[39m.\u001b[39;49m_plot_args(this, kwargs)\n",
      "File \u001b[1;32mc:\\Users\\Franz\\AppData\\Local\\Programs\\Python\\Python39\\lib\\site-packages\\matplotlib\\axes\\_base.py:498\u001b[0m, in \u001b[0;36m_process_plot_var_args._plot_args\u001b[1;34m(self, tup, kwargs, return_kwargs)\u001b[0m\n\u001b[0;32m    495\u001b[0m     \u001b[39mself\u001b[39m\u001b[39m.\u001b[39maxes\u001b[39m.\u001b[39myaxis\u001b[39m.\u001b[39mupdate_units(y)\n\u001b[0;32m    497\u001b[0m \u001b[39mif\u001b[39;00m x\u001b[39m.\u001b[39mshape[\u001b[39m0\u001b[39m] \u001b[39m!=\u001b[39m y\u001b[39m.\u001b[39mshape[\u001b[39m0\u001b[39m]:\n\u001b[1;32m--> 498\u001b[0m     \u001b[39mraise\u001b[39;00m \u001b[39mValueError\u001b[39;00m(\u001b[39mf\u001b[39m\u001b[39m\"\u001b[39m\u001b[39mx and y must have same first dimension, but \u001b[39m\u001b[39m\"\u001b[39m\n\u001b[0;32m    499\u001b[0m                      \u001b[39mf\u001b[39m\u001b[39m\"\u001b[39m\u001b[39mhave shapes \u001b[39m\u001b[39m{\u001b[39;00mx\u001b[39m.\u001b[39mshape\u001b[39m}\u001b[39;00m\u001b[39m and \u001b[39m\u001b[39m{\u001b[39;00my\u001b[39m.\u001b[39mshape\u001b[39m}\u001b[39;00m\u001b[39m\"\u001b[39m)\n\u001b[0;32m    500\u001b[0m \u001b[39mif\u001b[39;00m x\u001b[39m.\u001b[39mndim \u001b[39m>\u001b[39m \u001b[39m2\u001b[39m \u001b[39mor\u001b[39;00m y\u001b[39m.\u001b[39mndim \u001b[39m>\u001b[39m \u001b[39m2\u001b[39m:\n\u001b[0;32m    501\u001b[0m     \u001b[39mraise\u001b[39;00m \u001b[39mValueError\u001b[39;00m(\u001b[39mf\u001b[39m\u001b[39m\"\u001b[39m\u001b[39mx and y can be no greater than 2D, but have \u001b[39m\u001b[39m\"\u001b[39m\n\u001b[0;32m    502\u001b[0m                      \u001b[39mf\u001b[39m\u001b[39m\"\u001b[39m\u001b[39mshapes \u001b[39m\u001b[39m{\u001b[39;00mx\u001b[39m.\u001b[39mshape\u001b[39m}\u001b[39;00m\u001b[39m and \u001b[39m\u001b[39m{\u001b[39;00my\u001b[39m.\u001b[39mshape\u001b[39m}\u001b[39;00m\u001b[39m\"\u001b[39m)\n",
      "\u001b[1;31mValueError\u001b[0m: x and y must have same first dimension, but have shapes (239,) and (197,)"
     ]
    },
    {
     "data": {
      "image/png": "[encoded data removed]",
      "text/plain": [
       "<Figure size 432x288 with 1 Axes>"
      ]
     },
     "metadata": {
      "needs_background": "light"
     },
     "output_type": "display_data"
    }
   ],
   "source": [
    "plt.plot(predictions, references,'o')\n",
    "plt.title(\"Correlation: \"+ str(np.corrcoef(predictions, references)[0,1]))\n"
   ]
  },
  {
   "cell_type": "markdown",
   "id": "c9954247",
   "metadata": {},
   "source": [
    "### Try and Error:"
   ]
  },
  {
   "cell_type": "code",
   "execution_count": 347,
   "metadata": {},
   "outputs": [
    {
     "name": "stdout",
     "output_type": "stream",
     "text": [
      "cas_001 : -3\n",
      "cas_002 : -3\n",
      "cas_003 : -3\n",
      "\n",
      "5.999999999999999\n"
     ]
    },
    {
     "name": "stderr",
     "output_type": "stream",
     "text": [
      "c:\\Users\\Franz\\AppData\\Local\\Programs\\Python\\Python39\\lib\\site-packages\\skfuzzy\\control\\fuzzyvariable.py:122: UserWarning: Matplotlib is currently using module://matplotlib_inline.backend_inline, which is a non-GUI backend, so cannot show the figure.\n",
      "  fig.show()\n"
     ]
    },
    {
     "data": {
      "image/png": "[encoded data removed]",
      "text/plain": [
       "<Figure size 432x288 with 1 Axes>"
      ]
     },
     "metadata": {
      "needs_background": "light"
     },
     "output_type": "display_data"
    }
   ],
   "source": [
    "# basic example \n",
    "\n",
    "cas_range=np.linspace(-3,3,197)\n",
    "zscore_range=np.linspace(-3,3,25) # Since we only use zscored data, this range can be used everywhere \n",
    "#cas_range = np.array(ms_data_comp['6485-40-1'])\n",
    "             \n",
    "cas_001 = ctrl.Antecedent(zscore_range, 'cas_001')\n",
    "cas_002 = ctrl.Antecedent(zscore_range, 'cas_002')\n",
    "cas_003 = ctrl.Antecedent(zscore_range, 'cas_003')\n",
    "\n",
    "# Auto-membership function population is possible with .automf(3, 5, or 7)\n",
    "cas_001.automf(7)\n",
    "cas_002.automf(7)\n",
    "cas_003.automf(7)\n",
    "\n",
    "#osa_sweet = ctrl.Consequent(cas_range, 'osa_sweet')\n",
    "osa_sweet = ctrl.Consequent(np.arange(0, 100, 10), 'osa_sweet')\n",
    "osa_sweet.automf(7)\n",
    "\n",
    "\n",
    "rule_list = []\n",
    "def rule_maker(cas_sweet):\n",
    "    rule_list.append(ctrl.Rule(cas_sweet['good'], osa_sweet['good']))\n",
    "    rule_list.append(ctrl.Rule(cas_sweet['excellent'], osa_sweet['excellent']))\n",
    "    rule_list.append(ctrl.Rule(cas_sweet['decent'], osa_sweet['decent']))\n",
    "    rule_list.append(ctrl.Rule(cas_sweet['mediocre'], osa_sweet['mediocre']))\n",
    "    rule_list.append(ctrl.Rule(cas_sweet['average'], osa_sweet['average']))\n",
    "    rule_list.append(ctrl.Rule(cas_sweet['poor'], osa_sweet['poor']))\n",
    "    rule_list.append(ctrl.Rule(cas_sweet['dismal'], osa_sweet['dismal']))\n",
    "\n",
    "rule_maker(cas_001)\n",
    "rule_maker(cas_002)\n",
    "rule_maker(cas_003)\n",
    "\n",
    "fuzzy_ctrl = ctrl.ControlSystem(rule_list)\n",
    "fuzzy = ctrl.ControlSystemSimulation(fuzzy_ctrl)\n",
    "# Pass inputs to the ControlSystem using Antecedent labels with Pythonic API\n",
    "# Note: if you like passing many inputs all at once, use .inputs(dict_of_data)\n",
    "\n",
    "\n",
    "fuzzy.input['cas_001'] = -3\n",
    "fuzzy.input['cas_002'] = -3\n",
    "fuzzy.input['cas_003'] = -3\n",
    "print(fuzzy.input)\n",
    "# Crunch the numbers\n",
    "fuzzy.compute()\n",
    "\n",
    "prediction = fuzzy.output['osa_sweet'] \n",
    "\n",
    "print( prediction )\n",
    "osa_sweet.view(sim=fuzzy)"
   ]
  }
 ],
 "metadata": {
  "kernelspec": {
   "display_name": "Python 3",
   "language": "python",
   "name": "python3"
  },
  "language_info": {
   "codemirror_mode": {
    "name": "ipython",
    "version": 3
   },
   "file_extension": ".py",
   "mimetype": "text/x-python",
   "name": "python",
   "nbconvert_exporter": "python",
   "pygments_lexer": "ipython3",
   "version": "3.9.6"
  }
 },
 "nbformat": 4,
 "nbformat_minor": 5
}
