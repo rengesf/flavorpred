{
 "cells": [
  {
   "cell_type": "code",
   "execution_count": 3,
   "metadata": {},
   "outputs": [],
   "source": [
    "import numpy as np\n",
    "from matplotlib import  pyplot as plt \n",
    "from sklearn.preprocessing import StandardScaler"
   ]
  },
  {
   "cell_type": "code",
   "execution_count": 4,
   "metadata": {},
   "outputs": [],
   "source": [
    "n=1000\n",
    "\n",
    "samples = np.arange(n)\n",
    "\n",
    "sweet_tasting = np.random.normal(-3,0.5,n)\n",
    "#sweet_ms = sweet_tasting*2+5 + np.random.uniform(-0.1,0.1,n)\n",
    "sweet_ms = np.random.normal(5,1.6,n)"
   ]
  },
  {
   "cell_type": "code",
   "execution_count": 9,
   "metadata": {},
   "outputs": [
    {
     "data": {
      "text/plain": [
       "(array([  1.,   0.,   2.,   5.,   4.,   5.,  15.,  39.,  45.,  59.,  77.,\n",
       "         86., 118., 104., 104., 100.,  64.,  59.,  46.,  36.,  17.,   6.,\n",
       "          6.,   1.,   1.]),\n",
       " array([-4.93015244, -4.78559546, -4.64103848, -4.4964815 , -4.35192451,\n",
       "        -4.20736753, -4.06281055, -3.91825357, -3.77369659, -3.62913961,\n",
       "        -3.48458262, -3.34002564, -3.19546866, -3.05091168, -2.9063547 ,\n",
       "        -2.76179772, -2.61724073, -2.47268375, -2.32812677, -2.18356979,\n",
       "        -2.03901281, -1.89445583, -1.74989884, -1.60534186, -1.46078488,\n",
       "        -1.3162279 ]),\n",
       " <BarContainer object of 25 artists>)"
      ]
     },
     "execution_count": 9,
     "metadata": {},
     "output_type": "execute_result"
    },
    {
     "data": {
      "image/png": "[encoded data removed]",
      "text/plain": [
       "<Figure size 432x288 with 1 Axes>"
      ]
     },
     "metadata": {
      "needs_background": "light"
     },
     "output_type": "display_data"
    }
   ],
   "source": [
    "plt.hist(sweet_ms,25)\n",
    "plt.hist(sweet_tasting,25)"
   ]
  },
  {
   "cell_type": "code",
   "execution_count": 12,
   "metadata": {},
   "outputs": [
    {
     "data": {
      "text/plain": [
       "(array([  1.,   1.,   6.,   6.,  17.,  36.,  46.,  59.,  64., 100., 104.,\n",
       "        104., 118.,  86.,  77.,  59.,  45.,  39.,  15.,   5.,   4.,   5.,\n",
       "          2.,   0.,   1.]),\n",
       " array([-3.17516287, -2.90062953, -2.62609618, -2.35156284, -2.0770295 ,\n",
       "        -1.80249615, -1.52796281, -1.25342946, -0.97889612, -0.70436277,\n",
       "        -0.42982943, -0.15529608,  0.11923726,  0.39377061,  0.66830395,\n",
       "         0.9428373 ,  1.21737064,  1.49190399,  1.76643733,  2.04097068,\n",
       "         2.31550402,  2.59003737,  2.86457071,  3.13910405,  3.4136374 ,\n",
       "         3.68817074]),\n",
       " <BarContainer object of 25 artists>)"
      ]
     },
     "execution_count": 12,
     "metadata": {},
     "output_type": "execute_result"
    },
    {
     "data": {
      "image/png": "[encoded data removed]",
      "text/plain": [
       "<Figure size 432x288 with 1 Axes>"
      ]
     },
     "metadata": {
      "needs_background": "light"
     },
     "output_type": "display_data"
    }
   ],
   "source": [
    "plt.hist(sweet_tasting,25)\n",
    "\n",
    "\n",
    "around_zero = sweet_tasting/ np.mean(sweet_tasting)-1.\n",
    "normalized = around_zero /  np.std(around_zero)\n",
    "plt.hist(normalized,25)\n"
   ]
  },
  {
   "cell_type": "code",
   "execution_count": 4,
   "metadata": {},
   "outputs": [],
   "source": [
    "scaler = StandardScaler()\n",
    "scaled_sweet_tasting = scaler.fit_transform(sweet_tasting.reshape(-1, 1))\n",
    "scaled_sweet_ms = scaler.fit_transform(sweet_ms.reshape(-1,1))\n",
    "\n",
    "scaled_sweet_tasting / np.mean(scaled_sweet_tasting)\n"
   ]
  },
  {
   "cell_type": "code",
   "execution_count": 5,
   "metadata": {},
   "outputs": [
    {
     "data": {
      "text/plain": [
       "(array([  9.,  27.,  59., 130., 216., 225., 169., 103.,  40.,  22.]),\n",
       " array([-3.00787355, -2.43935066, -1.87082777, -1.30230489, -0.733782  ,\n",
       "        -0.16525911,  0.40326377,  0.97178666,  1.54030955,  2.10883243,\n",
       "         2.67735532]),\n",
       " <BarContainer object of 10 artists>)"
      ]
     },
     "execution_count": 5,
     "metadata": {},
     "output_type": "execute_result"
    },
    {
     "data": {
      "image/png": "[encoded data removed]",
      "text/plain": [
       "<Figure size 432x288 with 1 Axes>"
      ]
     },
     "metadata": {
      "needs_background": "light"
     },
     "output_type": "display_data"
    }
   ],
   "source": [
    "plt.hist(scaled_sweet_tasting)\n",
    "plt.hist(scaled_sweet_ms)"
   ]
  },
  {
   "cell_type": "code",
   "execution_count": 36,
   "metadata": {},
   "outputs": [],
   "source": [
    "matrix = np.array([samples,sweet_ms,sweet_tasting])"
   ]
  },
  {
   "cell_type": "code",
   "execution_count": 6,
   "metadata": {},
   "outputs": [
    {
     "data": {
      "text/plain": [
       "(0.0, 10.0)"
      ]
     },
     "execution_count": 6,
     "metadata": {},
     "output_type": "execute_result"
    },
    {
     "data": {
      "image/png": "[encoded data removed]",
      "text/plain": [
       "<Figure size 432x288 with 1 Axes>"
      ]
     },
     "metadata": {
      "needs_background": "light"
     },
     "output_type": "display_data"
    }
   ],
   "source": [
    "plt.plot(sweet_ms,sweet_tasting,\"o\")\n",
    "plt.xlim(0,10)\n",
    "plt.ylim(0,10)"
   ]
  }
 ],
 "metadata": {
  "kernelspec": {
   "display_name": "Python 3",
   "language": "python",
   "name": "python3"
  },
  "language_info": {
   "codemirror_mode": {
    "name": "ipython",
    "version": 3
   },
   "file_extension": ".py",
   "mimetype": "text/x-python",
   "name": "python",
   "nbconvert_exporter": "python",
   "pygments_lexer": "ipython3",
   "version": "3.9.6"
  },
  "orig_nbformat": 4
 },
 "nbformat": 4,
 "nbformat_minor": 2
}
