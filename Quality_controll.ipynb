{
 "cells": [
  {
   "cell_type": "markdown",
   "metadata": {},
   "source": [
    "### checking if data fits together\n",
    "#### check if odorants match witch flavornet data to at least 80 % \n"
   ]
  },
  {
   "cell_type": "code",
   "execution_count": 2,
   "metadata": {},
   "outputs": [
    {
     "name": "stderr",
     "output_type": "stream",
     "text": [
      "c:\\Users\\Franz\\AppData\\Local\\Programs\\Python\\Python39\\lib\\site-packages\\fuzzywuzzy\\fuzz.py:11: UserWarning: Using slow pure-python SequenceMatcher. Install python-Levenshtein to remove this warning\n",
      "  warnings.warn('Using slow pure-python SequenceMatcher. Install python-Levenshtein to remove this warning')\n"
     ]
    }
   ],
   "source": [
    "import pandas as pd\n",
    "import csv\n",
    "from fuzzywuzzy import fuzz\n"
   ]
  },
  {
   "cell_type": "markdown",
   "metadata": {},
   "source": [
    "*Research data*"
   ]
  },
  {
   "cell_type": "code",
   "execution_count": 3,
   "metadata": {},
   "outputs": [],
   "source": [
    "Research_data = pd.read_csv('./data/swri_flavorwheel.csv', sep=';')\n",
    "OSA_research = Research_data['OSA'].unique()\n",
    "OQ_research = Research_data['OQ'].unique()\n",
    "OD_research = Research_data['OD'].unique()"
   ]
  },
  {
   "cell_type": "markdown",
   "metadata": {},
   "source": [
    "*Flavornet data*"
   ]
  },
  {
   "cell_type": "code",
   "execution_count": 6,
   "metadata": {},
   "outputs": [],
   "source": [
    "# only using flavornet data\n",
    "mol_to_OD = {}\n",
    "molecules = []\n",
    "descriptors = []\n",
    "with open('./data/CAS_mol_OD.csv', 'r',encoding='utf-8') as tabfile:\n",
    "    reader = csv.reader(tabfile, delimiter=',')\n",
    "    for row in reader: \n",
    "        molecule = row[0]\n",
    "        OD = row[3]\n",
    "        molecules.append(molecule)\n",
    "        descriptors.append(OD)\n",
    "        if molecule in mol_to_OD:\n",
    "            mol_to_OD[molecule].add(OD)\n",
    "        else:\n",
    "            mol_to_OD[molecule]  = set([OD])\n",
    "\n",
    "molecules = list(set(molecules))\n",
    "descriptors = list(set(descriptors))"
   ]
  },
  {
   "cell_type": "code",
   "execution_count": 11,
   "metadata": {},
   "outputs": [
    {
     "data": {
      "text/plain": [
       "142"
      ]
     },
     "execution_count": 11,
     "metadata": {},
     "output_type": "execute_result"
    }
   ],
   "source": [
    "len(OD_research)"
   ]
  },
  {
   "cell_type": "code",
   "execution_count": 9,
   "metadata": {},
   "outputs": [
    {
     "data": {
      "text/plain": [
       "197"
      ]
     },
     "execution_count": 9,
     "metadata": {},
     "output_type": "execute_result"
    }
   ],
   "source": [
    "len(descriptors)"
   ]
  },
  {
   "cell_type": "code",
   "execution_count": 13,
   "metadata": {},
   "outputs": [],
   "source": [
    "'''\n",
    "find overlapp between to lists with a threshold (=70)\n",
    "'''\n",
    "def overlapping_elements(list1, list2, threshold=70):\n",
    "    overlap = []\n",
    "    overlap_tuples= []\n",
    "    for elem1 in list1:\n",
    "        for elem2 in list2:\n",
    "            ratio = fuzz.ratio(elem1, elem2)\n",
    "            if ratio >= threshold:\n",
    "                overlap.append(elem1)\n",
    "                overlap_tuples.append((elem1,elem2))\n",
    "    return overlap_tuples"
   ]
  },
  {
   "cell_type": "code",
   "execution_count": 14,
   "metadata": {},
   "outputs": [],
   "source": [
    "overlapping_pairs = overlapping_elements(OD_research,descriptors)\n"
   ]
  },
  {
   "cell_type": "code",
   "execution_count": 15,
   "metadata": {},
   "outputs": [
    {
     "data": {
      "text/plain": [
       "[('stale tobacco', 'tobacco'),\n",
       " ('Sweaty', 'sweat'),\n",
       " ('popcorn', 'popcorn'),\n",
       " ('tomato plants', 'tomato leaf'),\n",
       " ('Green peppers', 'green pepper'),\n",
       " ('cucumber', 'cucumber'),\n",
       " ('lettuce', 'lettuce'),\n",
       " ('violets', 'violet'),\n",
       " ('lavender', 'lavender'),\n",
       " ('Apples', 'apple'),\n",
       " ('pears', 'pear'),\n",
       " ('pears', 'pea'),\n",
       " ('bananas', 'banana'),\n",
       " ('Lemons', 'lemon'),\n",
       " ('oranges', 'orange'),\n",
       " ('grapefruit', 'grapefruit'),\n",
       " ('esters', 'ester'),\n",
       " ('esters', 'ether'),\n",
       " ('vanilla pods', 'vanilla'),\n",
       " ('custard', 'mustard'),\n",
       " ('Butterscotch', 'butterscotch'),\n",
       " ('brown sugar', 'brown sugar'),\n",
       " ('brown sugar', 'burnt sugar'),\n",
       " ('sawdust', 'dust'),\n",
       " ('resinous', 'resin'),\n",
       " ('toasted oak', 'roasted meat'),\n",
       " ('coconut milk', 'hot milk'),\n",
       " ('coconut milk', 'coconut'),\n",
       " ('Almond', 'almond'),\n",
       " ('Almond', 'lemon'),\n",
       " ('hazelnuts', 'hazelnut'),\n",
       " ('cocoa', 'cocoa'),\n",
       " ('coffee', 'coffee'),\n",
       " ('roasted beans', 'roasted meat'),\n",
       " ('roasted beans', 'roasted nut'),\n",
       " ('roasted beans', 'roast beef'),\n",
       " ('Clove', 'clove'),\n",
       " ('cinnamon', 'cinnamon'),\n",
       " ('nutmeg', 'nutmeg'),\n",
       " ('cream', 'cream'),\n",
       " ('greasy', 'grass'),\n",
       " ('acidic', 'acid'),\n",
       " ('Blue cheese', 'cheese'),\n",
       " ('rancid', 'acid'),\n",
       " ('rancid', 'rancid'),\n",
       " ('Cabbage', 'cabbage'),\n",
       " ('sweetcorn', 'sweet'),\n",
       " ('boiled potatoes', 'cooked potato'),\n",
       " ('Rotten vegetables', 'boiled vegetable'),\n",
       " ('Rotten vegetables', 'cooked vegetable'),\n",
       " ('mushrooms', 'mushroom'),\n",
       " ('Rust', 'dust'),\n",
       " ('Rust', 'must'),\n",
       " ('peaty', 'pea'),\n",
       " ('cereal', 'cream'),\n",
       " ('Solvently', 'solvent'),\n",
       " ('Sweet', 'sweet'),\n",
       " ('Oily', 'lily'),\n",
       " ('Sour', 'sour')]"
      ]
     },
     "execution_count": 15,
     "metadata": {},
     "output_type": "execute_result"
    }
   ],
   "source": [
    "overlapping_pairs"
   ]
  },
  {
   "cell_type": "code",
   "execution_count": 16,
   "metadata": {},
   "outputs": [
    {
     "data": {
      "text/plain": [
       "59"
      ]
     },
     "execution_count": 16,
     "metadata": {},
     "output_type": "execute_result"
    }
   ],
   "source": [
    "len(overlapping_pairs)"
   ]
  },
  {
   "cell_type": "code",
   "execution_count": 66,
   "metadata": {},
   "outputs": [
    {
     "data": {
      "text/plain": [
       "0.375"
      ]
     },
     "execution_count": 66,
     "metadata": {},
     "output_type": "execute_result"
    }
   ],
   "source": [
    "len(overlapping_pairs)/len(OD_research)"
   ]
  },
  {
   "cell_type": "markdown",
   "metadata": {},
   "source": [
    "##### another database is needed to match odorants from research institute"
   ]
  },
  {
   "cell_type": "markdown",
   "metadata": {},
   "source": [
    "### panelist data\n",
    "#### get panelist data with largest variance"
   ]
  },
  {
   "cell_type": "code",
   "execution_count": 3,
   "metadata": {},
   "outputs": [
    {
     "data": {
      "text/html": [
       "<div>\n",
       "<style scoped>\n",
       "    .dataframe tbody tr th:only-of-type {\n",
       "        vertical-align: middle;\n",
       "    }\n",
       "\n",
       "    .dataframe tbody tr th {\n",
       "        vertical-align: top;\n",
       "    }\n",
       "\n",
       "    .dataframe thead th {\n",
       "        text-align: right;\n",
       "    }\n",
       "</style>\n",
       "<table border=\"1\" class=\"dataframe\">\n",
       "  <thead>\n",
       "    <tr style=\"text-align: right;\">\n",
       "      <th></th>\n",
       "      <th>panelist</th>\n",
       "      <th>samplekey</th>\n",
       "      <th>floral</th>\n",
       "      <th>fruit</th>\n",
       "      <th>wood</th>\n",
       "      <th>complexity</th>\n",
       "      <th>malt</th>\n",
       "      <th>sweet</th>\n",
       "      <th>peat</th>\n",
       "      <th>dried_fruits</th>\n",
       "      <th>aftertaste</th>\n",
       "      <th>date</th>\n",
       "    </tr>\n",
       "  </thead>\n",
       "  <tbody>\n",
       "    <tr>\n",
       "      <th>0</th>\n",
       "      <td>1</td>\n",
       "      <td>000656</td>\n",
       "      <td>50</td>\n",
       "      <td>20</td>\n",
       "      <td>60</td>\n",
       "      <td>50</td>\n",
       "      <td>30</td>\n",
       "      <td>30</td>\n",
       "      <td>50</td>\n",
       "      <td>40</td>\n",
       "      <td>40</td>\n",
       "      <td>2023-01-12</td>\n",
       "    </tr>\n",
       "    <tr>\n",
       "      <th>1</th>\n",
       "      <td>1</td>\n",
       "      <td>000657</td>\n",
       "      <td>30</td>\n",
       "      <td>40</td>\n",
       "      <td>60</td>\n",
       "      <td>40</td>\n",
       "      <td>40</td>\n",
       "      <td>30</td>\n",
       "      <td>10</td>\n",
       "      <td>30</td>\n",
       "      <td>60</td>\n",
       "      <td>2023-01-12</td>\n",
       "    </tr>\n",
       "    <tr>\n",
       "      <th>2</th>\n",
       "      <td>1</td>\n",
       "      <td>000658</td>\n",
       "      <td>30</td>\n",
       "      <td>50</td>\n",
       "      <td>50</td>\n",
       "      <td>50</td>\n",
       "      <td>40</td>\n",
       "      <td>40</td>\n",
       "      <td>10</td>\n",
       "      <td>40</td>\n",
       "      <td>70</td>\n",
       "      <td>2023-01-12</td>\n",
       "    </tr>\n",
       "    <tr>\n",
       "      <th>3</th>\n",
       "      <td>1</td>\n",
       "      <td>000661</td>\n",
       "      <td>60</td>\n",
       "      <td>70</td>\n",
       "      <td>60</td>\n",
       "      <td>50</td>\n",
       "      <td>50</td>\n",
       "      <td>60</td>\n",
       "      <td>0</td>\n",
       "      <td>40</td>\n",
       "      <td>60</td>\n",
       "      <td>2023-01-12</td>\n",
       "    </tr>\n",
       "    <tr>\n",
       "      <th>4</th>\n",
       "      <td>1</td>\n",
       "      <td>000662</td>\n",
       "      <td>40</td>\n",
       "      <td>60</td>\n",
       "      <td>50</td>\n",
       "      <td>50</td>\n",
       "      <td>50</td>\n",
       "      <td>40</td>\n",
       "      <td>0</td>\n",
       "      <td>30</td>\n",
       "      <td>60</td>\n",
       "      <td>2023-01-12</td>\n",
       "    </tr>\n",
       "    <tr>\n",
       "      <th>...</th>\n",
       "      <td>...</td>\n",
       "      <td>...</td>\n",
       "      <td>...</td>\n",
       "      <td>...</td>\n",
       "      <td>...</td>\n",
       "      <td>...</td>\n",
       "      <td>...</td>\n",
       "      <td>...</td>\n",
       "      <td>...</td>\n",
       "      <td>...</td>\n",
       "      <td>...</td>\n",
       "      <td>...</td>\n",
       "    </tr>\n",
       "    <tr>\n",
       "      <th>1241</th>\n",
       "      <td>3</td>\n",
       "      <td>000926</td>\n",
       "      <td>40</td>\n",
       "      <td>30</td>\n",
       "      <td>40</td>\n",
       "      <td>40</td>\n",
       "      <td>30</td>\n",
       "      <td>20</td>\n",
       "      <td>40</td>\n",
       "      <td>20</td>\n",
       "      <td>60</td>\n",
       "      <td>2022-10-17</td>\n",
       "    </tr>\n",
       "    <tr>\n",
       "      <th>1242</th>\n",
       "      <td>3</td>\n",
       "      <td>000927</td>\n",
       "      <td>40</td>\n",
       "      <td>70</td>\n",
       "      <td>60</td>\n",
       "      <td>70</td>\n",
       "      <td>40</td>\n",
       "      <td>50</td>\n",
       "      <td>0</td>\n",
       "      <td>40</td>\n",
       "      <td>80</td>\n",
       "      <td>2022-10-17</td>\n",
       "    </tr>\n",
       "    <tr>\n",
       "      <th>1243</th>\n",
       "      <td>3</td>\n",
       "      <td>000929</td>\n",
       "      <td>20</td>\n",
       "      <td>60</td>\n",
       "      <td>30</td>\n",
       "      <td>40</td>\n",
       "      <td>30</td>\n",
       "      <td>50</td>\n",
       "      <td>0</td>\n",
       "      <td>40</td>\n",
       "      <td>30</td>\n",
       "      <td>2022-10-17</td>\n",
       "    </tr>\n",
       "    <tr>\n",
       "      <th>1244</th>\n",
       "      <td>3</td>\n",
       "      <td>000930</td>\n",
       "      <td>10</td>\n",
       "      <td>30</td>\n",
       "      <td>60</td>\n",
       "      <td>70</td>\n",
       "      <td>30</td>\n",
       "      <td>70</td>\n",
       "      <td>0</td>\n",
       "      <td>40</td>\n",
       "      <td>60</td>\n",
       "      <td>2022-10-17</td>\n",
       "    </tr>\n",
       "    <tr>\n",
       "      <th>1245</th>\n",
       "      <td>3</td>\n",
       "      <td>000933</td>\n",
       "      <td>40</td>\n",
       "      <td>30</td>\n",
       "      <td>50</td>\n",
       "      <td>60</td>\n",
       "      <td>30</td>\n",
       "      <td>30</td>\n",
       "      <td>40</td>\n",
       "      <td>30</td>\n",
       "      <td>60</td>\n",
       "      <td>2022-10-17</td>\n",
       "    </tr>\n",
       "  </tbody>\n",
       "</table>\n",
       "<p>1246 rows × 12 columns</p>\n",
       "</div>"
      ],
      "text/plain": [
       "      panelist samplekey  floral  fruit  wood  complexity  malt  sweet  peat  \\\n",
       "0            1    000656      50     20    60          50    30     30    50   \n",
       "1            1    000657      30     40    60          40    40     30    10   \n",
       "2            1    000658      30     50    50          50    40     40    10   \n",
       "3            1    000661      60     70    60          50    50     60     0   \n",
       "4            1    000662      40     60    50          50    50     40     0   \n",
       "...        ...       ...     ...    ...   ...         ...   ...    ...   ...   \n",
       "1241         3    000926      40     30    40          40    30     20    40   \n",
       "1242         3    000927      40     70    60          70    40     50     0   \n",
       "1243         3    000929      20     60    30          40    30     50     0   \n",
       "1244         3    000930      10     30    60          70    30     70     0   \n",
       "1245         3    000933      40     30    50          60    30     30    40   \n",
       "\n",
       "      dried_fruits  aftertaste        date  \n",
       "0               40          40  2023-01-12  \n",
       "1               30          60  2023-01-12  \n",
       "2               40          70  2023-01-12  \n",
       "3               40          60  2023-01-12  \n",
       "4               30          60  2023-01-12  \n",
       "...            ...         ...         ...  \n",
       "1241            20          60  2022-10-17  \n",
       "1242            40          80  2022-10-17  \n",
       "1243            40          30  2022-10-17  \n",
       "1244            40          60  2022-10-17  \n",
       "1245            30          60  2022-10-17  \n",
       "\n",
       "[1246 rows x 12 columns]"
      ]
     },
     "execution_count": 3,
     "metadata": {},
     "output_type": "execute_result"
    }
   ],
   "source": [
    "import pandas as pd\n",
    "file_path = 'data/vlb_data_combined.txt'\n",
    "data = pd.read_csv(file_path, delimiter=',')\n",
    "# only use first repliate\n",
    "data"
   ]
  },
  {
   "cell_type": "code",
   "execution_count": 8,
   "metadata": {},
   "outputs": [
    {
     "name": "stdout",
     "output_type": "stream",
     "text": [
      "floral          60\n",
      "fruit           20\n",
      "wood            50\n",
      "complexity      30\n",
      "malt            20\n",
      "sweet           20\n",
      "peat            80\n",
      "dried_fruits    10\n",
      "aftertaste      40\n",
      "Name: 12, dtype: int64\n",
      "floral          40\n",
      "fruit           60\n",
      "wood            80\n",
      "complexity      70\n",
      "malt            60\n",
      "sweet           70\n",
      "peat             0\n",
      "dried_fruits    60\n",
      "aftertaste      80\n",
      "Name: 159, dtype: int64\n"
     ]
    }
   ],
   "source": [
    "import itertools\n",
    "# find rows with biggest variances\n",
    "df = data.drop(columns=[\"panelist\",\"samplekey\",\"date\"])\n",
    "row_combinations = list(itertools.combinations(df.index, 2))\n",
    "distances = [abs(df.loc[i[0]] - df.loc[i[1]]).sum() for i in row_combinations]\n",
    "max_distance_indices = row_combinations[distances.index(max(distances))]\n",
    "print(df.loc[max_distance_indices[0]])\n",
    "print(df.loc[max_distance_indices[1]])\n",
    "#=> sample: 000673 and 000794 but both not in masspec"
   ]
  },
  {
   "cell_type": "code",
   "execution_count": 11,
   "metadata": {},
   "outputs": [
    {
     "data": {
      "text/plain": [
       "panelist                 2\n",
       "samplekey           000794\n",
       "floral                  40\n",
       "fruit                   60\n",
       "wood                    80\n",
       "complexity              70\n",
       "malt                    60\n",
       "sweet                   70\n",
       "peat                     0\n",
       "dried_fruits            60\n",
       "aftertaste              80\n",
       "date            2023-01-12\n",
       "Name: 159, dtype: object"
      ]
     },
     "execution_count": 11,
     "metadata": {},
     "output_type": "execute_result"
    }
   ],
   "source": [
    "data.iloc[159]"
   ]
  },
  {
   "cell_type": "code",
   "execution_count": 10,
   "metadata": {},
   "outputs": [
    {
     "data": {
      "text/plain": [
       "panelist                 1\n",
       "samplekey           000673\n",
       "floral                  60\n",
       "fruit                   20\n",
       "wood                    50\n",
       "complexity              30\n",
       "malt                    20\n",
       "sweet                   20\n",
       "peat                    80\n",
       "dried_fruits            10\n",
       "aftertaste              40\n",
       "date            2023-01-12\n",
       "Name: 12, dtype: object"
      ]
     },
     "execution_count": 10,
     "metadata": {},
     "output_type": "execute_result"
    }
   ],
   "source": [
    "data.iloc[12]"
   ]
  }
 ],
 "metadata": {
  "kernelspec": {
   "display_name": "Python 3",
   "language": "python",
   "name": "python3"
  },
  "language_info": {
   "codemirror_mode": {
    "name": "ipython",
    "version": 3
   },
   "file_extension": ".py",
   "mimetype": "text/x-python",
   "name": "python",
   "nbconvert_exporter": "python",
   "pygments_lexer": "ipython3",
   "version": "3.9.6"
  },
  "orig_nbformat": 4
 },
 "nbformat": 4,
 "nbformat_minor": 2
}
