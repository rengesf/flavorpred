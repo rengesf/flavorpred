{
 "cells": [
  {
   "cell_type": "markdown",
   "metadata": {},
   "source": [
    "### checking if data fits together\n",
    "#### check if odorants match witch flavornet data to at least 80 % \n"
   ]
  },
  {
   "cell_type": "code",
   "execution_count": 12,
   "metadata": {},
   "outputs": [
    {
     "name": "stderr",
     "output_type": "stream",
     "text": [
      "c:\\Users\\Franz\\AppData\\Local\\Programs\\Python\\Python39\\lib\\site-packages\\fuzzywuzzy\\fuzz.py:11: UserWarning: Using slow pure-python SequenceMatcher. Install python-Levenshtein to remove this warning\n",
      "  warnings.warn('Using slow pure-python SequenceMatcher. Install python-Levenshtein to remove this warning')\n"
     ]
    }
   ],
   "source": [
    "import pandas as pd\n",
    "import csv\n",
    "from fuzzywuzzy import fuzz\n"
   ]
  },
  {
   "cell_type": "markdown",
   "metadata": {},
   "source": [
    "*Research data*"
   ]
  },
  {
   "cell_type": "code",
   "execution_count": 25,
   "metadata": {},
   "outputs": [],
   "source": [
    "Research_data = pd.read_csv('./data/swri_flavorwheel.csv', sep=';')\n",
    "OSA_research = Research_data['OSA'].unique()\n",
    "OQ_research = Research_data['OQ'].unique()\n",
    "OD_research = Research_data['OD'].unique()"
   ]
  },
  {
   "cell_type": "markdown",
   "metadata": {},
   "source": [
    "*Flavornet data*"
   ]
  },
  {
   "cell_type": "code",
   "execution_count": 26,
   "metadata": {},
   "outputs": [],
   "source": [
    "# only using flavornet data\n",
    "mol_to_OD = {}\n",
    "molecules = []\n",
    "descriptors = []\n",
    "with open('./data/CAS_mol_OD.csv', 'r',encoding='utf-8') as tabfile:\n",
    "    reader = csv.reader(tabfile, delimiter=',')\n",
    "    for row in reader: \n",
    "        molecule = row[0]\n",
    "        OD = row[3]\n",
    "        molecules.append(molecule)\n",
    "        descriptors.append(OD)\n",
    "        if molecule in mol_to_OD:\n",
    "            mol_to_OD[molecule].add(OD)\n",
    "        else:\n",
    "            mol_to_OD[molecule]  = set([OD])\n",
    "\n",
    "molecules = list(set(molecules))\n",
    "descriptors = list(set(descriptors))"
   ]
  },
  {
   "cell_type": "code",
   "execution_count": 63,
   "metadata": {},
   "outputs": [],
   "source": [
    "'''\n",
    "find overlapp between to lists with a threshold (=70)\n",
    "'''\n",
    "def overlapping_elements(list1, list2, threshold=70):\n",
    "    overlap = []\n",
    "    overlap_tuples= []\n",
    "    for elem1 in list1:\n",
    "        for elem2 in list2:\n",
    "            ratio = fuzz.ratio(elem1, elem2)\n",
    "            if ratio >= threshold:\n",
    "                overlap.append(elem1)\n",
    "                overlap_tuples.append((elem1,elem2))\n",
    "    return overlap_tuples"
   ]
  },
  {
   "cell_type": "code",
   "execution_count": 64,
   "metadata": {},
   "outputs": [],
   "source": [
    "overlapping_pairs = overlapping_elements(OD_research,descriptors)\n"
   ]
  },
  {
   "cell_type": "code",
   "execution_count": 65,
   "metadata": {},
   "outputs": [
    {
     "data": {
      "text/plain": [
       "[('stale tobacco', 'tobacco'),\n",
       " ('Sweaty', 'sweat'),\n",
       " ('popcorn', 'popcorn'),\n",
       " ('tomato plants', 'tomato leaf'),\n",
       " ('Green peppers', 'green pepper'),\n",
       " ('cucumber', 'cucumber'),\n",
       " ('lettuce', 'lettuce'),\n",
       " ('violets', 'violet'),\n",
       " ('lavender', 'lavender'),\n",
       " ('Apples', 'apple'),\n",
       " ('pears', 'pear'),\n",
       " ('pears', 'pea'),\n",
       " ('bananas', 'banana'),\n",
       " ('Lemons', 'lemon'),\n",
       " ('oranges', 'orange'),\n",
       " ('grapefruit', 'grapefruit'),\n",
       " ('esters', 'ester'),\n",
       " ('esters', 'ether'),\n",
       " ('vanilla pods', 'vanilla'),\n",
       " ('custard', 'mustard'),\n",
       " ('Butterscotch', 'butterscotch'),\n",
       " ('brown sugar', 'brown sugar'),\n",
       " ('brown sugar', 'burnt sugar'),\n",
       " ('sawdust', 'dust'),\n",
       " ('resinous', 'resin'),\n",
       " ('toasted oak', 'roasted meat'),\n",
       " ('coconut milk', 'coconut'),\n",
       " ('coconut milk', 'hot milk'),\n",
       " ('Almond', 'almond'),\n",
       " ('Almond', 'lemon'),\n",
       " ('hazelnuts', 'hazelnut'),\n",
       " ('cocoa', 'cocoa'),\n",
       " ('coffee', 'coffee'),\n",
       " ('roasted beans', 'roast beef'),\n",
       " ('roasted beans', 'roasted nut'),\n",
       " ('roasted beans', 'roasted meat'),\n",
       " ('Clove', 'clove'),\n",
       " ('cinnamon', 'cinnamon'),\n",
       " ('nutmeg', 'nutmeg'),\n",
       " ('cream', 'cream'),\n",
       " ('greasy', 'grass'),\n",
       " ('acidic', 'acid'),\n",
       " ('Blue cheese', 'cheese'),\n",
       " ('rancid', 'rancid'),\n",
       " ('rancid', 'acid'),\n",
       " ('Cabbage', 'cabbage'),\n",
       " ('sweetcorn', 'sweet'),\n",
       " ('boiled potatoes', 'cooked potato'),\n",
       " ('Rotten vegetables', 'boiled vegetable'),\n",
       " ('Rotten vegetables', 'cooked vegetable'),\n",
       " ('mushrooms', 'mushroom'),\n",
       " ('Rust', 'must'),\n",
       " ('Rust', 'dust'),\n",
       " ('Pungent', 'pungent')]"
      ]
     },
     "execution_count": 65,
     "metadata": {},
     "output_type": "execute_result"
    }
   ],
   "source": [
    "overlapping_pairs"
   ]
  },
  {
   "cell_type": "code",
   "execution_count": 66,
   "metadata": {},
   "outputs": [
    {
     "data": {
      "text/plain": [
       "0.375"
      ]
     },
     "execution_count": 66,
     "metadata": {},
     "output_type": "execute_result"
    }
   ],
   "source": [
    "len(overlapping_pairs)/len(OD_research)"
   ]
  },
  {
   "cell_type": "markdown",
   "metadata": {},
   "source": [
    "##### another database is needed to match odorants from research institute"
   ]
  }
 ],
 "metadata": {
  "kernelspec": {
   "display_name": "Python 3",
   "language": "python",
   "name": "python3"
  },
  "language_info": {
   "codemirror_mode": {
    "name": "ipython",
    "version": 3
   },
   "file_extension": ".py",
   "mimetype": "text/x-python",
   "name": "python",
   "nbconvert_exporter": "python",
   "pygments_lexer": "ipython3",
   "version": "3.9.6"
  },
  "orig_nbformat": 4
 },
 "nbformat": 4,
 "nbformat_minor": 2
}
