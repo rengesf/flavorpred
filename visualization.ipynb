{
 "cells": [
  {
   "cell_type": "markdown",
   "metadata": {},
   "source": [
    "# Visualization of workflow / in and output"
   ]
  },
  {
   "cell_type": "markdown",
   "metadata": {},
   "source": [
    "#### odorants - OD - OQ - OSA"
   ]
  },
  {
   "cell_type": "markdown",
   "metadata": {},
   "source": [
    "df need with columns:\n",
    " \n",
    "match - odorants - OD - OQ - OSA "
   ]
  },
  {
   "cell_type": "code",
   "execution_count": 1,
   "metadata": {},
   "outputs": [
    {
     "name": "stderr",
     "output_type": "stream",
     "text": [
      "c:\\Users\\Franz\\AppData\\Local\\Programs\\Python\\Python39\\lib\\site-packages\\fuzzywuzzy\\fuzz.py:11: UserWarning: Using slow pure-python SequenceMatcher. Install python-Levenshtein to remove this warning\n",
      "  warnings.warn('Using slow pure-python SequenceMatcher. Install python-Levenshtein to remove this warning')\n"
     ]
    }
   ],
   "source": [
    "import pandas as pd\n",
    "from fuzzywuzzy import fuzz\n",
    "import plotly.express as px"
   ]
  },
  {
   "cell_type": "markdown",
   "metadata": {},
   "source": [
    "## Research Institute data"
   ]
  },
  {
   "cell_type": "code",
   "execution_count": 2,
   "metadata": {},
   "outputs": [
    {
     "data": {
      "text/html": [
       "<div>\n",
       "<style scoped>\n",
       "    .dataframe tbody tr th:only-of-type {\n",
       "        vertical-align: middle;\n",
       "    }\n",
       "\n",
       "    .dataframe tbody tr th {\n",
       "        vertical-align: top;\n",
       "    }\n",
       "\n",
       "    .dataframe thead th {\n",
       "        text-align: right;\n",
       "    }\n",
       "</style>\n",
       "<table border=\"1\" class=\"dataframe\">\n",
       "  <thead>\n",
       "    <tr style=\"text-align: right;\">\n",
       "      <th></th>\n",
       "      <th>OSA</th>\n",
       "      <th>OQ</th>\n",
       "      <th>OD</th>\n",
       "      <th>match</th>\n",
       "    </tr>\n",
       "  </thead>\n",
       "  <tbody>\n",
       "    <tr>\n",
       "      <th>0</th>\n",
       "      <td>Peaty</td>\n",
       "      <td>Burnt</td>\n",
       "      <td>Tar</td>\n",
       "      <td>1</td>\n",
       "    </tr>\n",
       "    <tr>\n",
       "      <th>1</th>\n",
       "      <td>Peaty</td>\n",
       "      <td>Burnt</td>\n",
       "      <td>char</td>\n",
       "      <td>1</td>\n",
       "    </tr>\n",
       "    <tr>\n",
       "      <th>2</th>\n",
       "      <td>Peaty</td>\n",
       "      <td>Burnt</td>\n",
       "      <td>ash</td>\n",
       "      <td>1</td>\n",
       "    </tr>\n",
       "    <tr>\n",
       "      <th>3</th>\n",
       "      <td>Peaty</td>\n",
       "      <td>Smoky</td>\n",
       "      <td>Burning wood</td>\n",
       "      <td>1</td>\n",
       "    </tr>\n",
       "    <tr>\n",
       "      <th>4</th>\n",
       "      <td>Peaty</td>\n",
       "      <td>Smoky</td>\n",
       "      <td>smoked foods barbeque</td>\n",
       "      <td>1</td>\n",
       "    </tr>\n",
       "    <tr>\n",
       "      <th>...</th>\n",
       "      <td>...</td>\n",
       "      <td>...</td>\n",
       "      <td>...</td>\n",
       "      <td>...</td>\n",
       "    </tr>\n",
       "    <tr>\n",
       "      <th>138</th>\n",
       "      <td>Spicy</td>\n",
       "      <td>Spicy</td>\n",
       "      <td>Spicy</td>\n",
       "      <td>1</td>\n",
       "    </tr>\n",
       "    <tr>\n",
       "      <th>139</th>\n",
       "      <td>Oily</td>\n",
       "      <td>Oily</td>\n",
       "      <td>Oily</td>\n",
       "      <td>1</td>\n",
       "    </tr>\n",
       "    <tr>\n",
       "      <th>140</th>\n",
       "      <td>Sour</td>\n",
       "      <td>Sour</td>\n",
       "      <td>Sour</td>\n",
       "      <td>1</td>\n",
       "    </tr>\n",
       "    <tr>\n",
       "      <th>141</th>\n",
       "      <td>Sulphury</td>\n",
       "      <td>Sulphury</td>\n",
       "      <td>Sulphury</td>\n",
       "      <td>1</td>\n",
       "    </tr>\n",
       "    <tr>\n",
       "      <th>142</th>\n",
       "      <td>Stale</td>\n",
       "      <td>Stale</td>\n",
       "      <td>Stale</td>\n",
       "      <td>1</td>\n",
       "    </tr>\n",
       "  </tbody>\n",
       "</table>\n",
       "<p>143 rows × 4 columns</p>\n",
       "</div>"
      ],
      "text/plain": [
       "          OSA        OQ                     OD  match\n",
       "0       Peaty     Burnt                    Tar      1\n",
       "1       Peaty     Burnt                   char      1\n",
       "2       Peaty     Burnt                    ash      1\n",
       "3       Peaty     Smoky           Burning wood      1\n",
       "4       Peaty     Smoky  smoked foods barbeque      1\n",
       "..        ...       ...                    ...    ...\n",
       "138     Spicy     Spicy                  Spicy      1\n",
       "139      Oily      Oily                   Oily      1\n",
       "140      Sour      Sour                   Sour      1\n",
       "141  Sulphury  Sulphury               Sulphury      1\n",
       "142     Stale     Stale                  Stale      1\n",
       "\n",
       "[143 rows x 4 columns]"
      ]
     },
     "execution_count": 2,
     "metadata": {},
     "output_type": "execute_result"
    }
   ],
   "source": [
    "Research_data = pd.read_csv('./data/swri_flavorwheel.csv', sep=';')\n",
    "Research_data['match'] = 1\n",
    "Research_data"
   ]
  },
  {
   "cell_type": "code",
   "execution_count": 11,
   "metadata": {},
   "outputs": [
    {
     "data": {
      "application/vnd.plotly.v1+json": {
       "config": {
        "plotlyServerURL": "https://plot.ly"
       },
       "data": [
        {
         "branchvalues": "total",
         "domain": {
          "x": [
           0,
           1
          ],
          "y": [
           0,
           1
          ]
         },
         "hovertemplate": "labels=%{label}<br>match=%{value}<br>parent=%{parent}<br>id=%{id}<extra></extra>",
         "ids": [
          "Nutty/Nuts/Almond",
          "Peaty/Medicinal/Antiseptic",
          "Fruity/Fresh fruit/Apples",
          "Sour/Vomit/Baby sick",
          "Sulphury/Meaty /Beefy",
          "Spicy/Peppery/Black pepper",
          "Sour/Cheesy/Blue cheese",
          "Fruity/Artificial fruit flavourings/Bubblegum",
          "Peaty/Smoky/Burning wood",
          "Nutty/Toasted/Burnt toast",
          "Sweet/Toffee/Butterscotch",
          "Sulphury/Cooked vegetables /Cabbage",
          "Oily/Waxy/Candles",
          "Cereal/Cereal/Cereal",
          "Spicy/Dried spice/Clove",
          "Stale/Musty/Corked",
          "Stale/Earthy/Damp soil",
          "Nutty/Coconut/Dessicated coconut",
          "Feinty/Tobacco/Dried pipe tobacco",
          "Feinty/Feinty/Feinty",
          "Floral/Floral/Floral",
          "Floral/Perfumed/Fragrant",
          "Green/grassy/Herbal/Fresh herbs",
          "Fruity/Fruity/Fruity",
          "Sulphury/Struck match /Gassy",
          "Green/grassy/leafy/Geranium leaves",
          "Green/grassy/Green vegetables/Green peppers",
          "Green/grassy/Green/grassy/Green/grassy",
          "Sweet/Honey/Honeycomb",
          "Feinty/Leathery/Horse saddle",
          "Fruity/Citrus/Lemons",
          "Oily/Oils/fats/Linseed oil",
          "Sour/Vinegary/Malt vinegar",
          "Cereal/Dry cereals/Malted barley",
          "Cereal/Wet cereals/Mash",
          "Oily/Buttery /Melted butter",
          "Solvently/Nail varnish remover/Nail varnish remover",
          "Nutty/Nutty/Nutty",
          "Oily/Oily/Oily",
          "Peaty/Peaty/Peaty",
          "Fruity/Dried fruit/Raisins",
          "Floral/Fresh flowers/Roses",
          "Sulphury/Decaying/Rotten vegetables",
          "Stale/Metallic/Rust",
          "Soapy/Soapy/Soapy",
          "Solvently/Solvently/Solvently",
          "Sour/Sour/Sour",
          "Spicy/Spicy/Spicy",
          "Stale/Stale/Stale",
          "Sulphury/Sulphury/Sulphury",
          "Feinty/Sweaty/Sweaty",
          "Sweet/Sweet/Sweet",
          "Peaty/Medicinal/TCP",
          "Peaty/Burnt/Tar",
          "Sulphury/Rubbery/Tyres",
          "Soapy/Unperfumed soap/Unperfumed soap",
          "Woody/Woody/Woody",
          "Sour/Vinegary/acidic",
          "Peaty/Burnt/ash",
          "Fruity/Fresh fruit/bananas",
          "Oily/Waxy/beeswax",
          "Sulphury/Cooked vegetables /boiled potatoes",
          "Sulphury/Decaying/boiled potatoes ",
          "Peaty/Smoky/bonfire",
          "Sulphury/Meaty /bovril",
          "Nutty/Nuts/brazil nuts",
          "Sweet/Toffee/brown sugar",
          "Sulphury/Cooked vegetables /brussels sprouts",
          "Fruity/Artificial fruit flavourings/candy",
          "Peaty/Medicinal/carbolic soap",
          "Peaty/Burnt/char",
          "Oily/Oils/fats/chip fat",
          "Spicy/Dried spice/cinnamon",
          "Nutty/Toasted/cocoa",
          "Nutty/Coconut/coconut milk",
          "Nutty/Toasted/coffee",
          "Stale/Metallic/coins",
          "Oily/Buttery /cream",
          "Green/grassy/Green vegetables/cucumber",
          "Sweet/Vanilla/custard",
          "Oily/Buttery /dairy",
          "Stale/Musty/damp wood",
          "Cereal/Dry cereals/digestive biscuits",
          "Cereal/Wet cereals/draff",
          "Green/grassy/Herbal/dried herbs",
          "Oily/Oils/fats/engine oil",
          "Fruity/Artificial fruit flavourings/esters",
          "Peaty/Medicinal/first aid kit",
          "Green/grassy/Green vegetables/fresh peas",
          "Green/grassy/leafy/freshly cut grass",
          "Fruity/Dried fruit/fruit cake",
          "Sweet/Toffee/fudge",
          "Spicy/Dried spice/ginger",
          "Nutty/Coconut/gorse flowers",
          "Fruity/Citrus/grapefruit",
          "Oily/Oils/fats/greasy",
          "Nutty/Nuts/hazelnuts",
          "Sweet/Vanilla/ice ceam",
          "Floral/Fresh flowers/lavender",
          "Feinty/Leathery/leather upholstery",
          "Green/grassy/Green vegetables/lettuce",
          "Fruity/Citrus/limes",
          "Cereal/Wet cereals/malt extract",
          "Sulphury/Meaty /marmite",
          "Sour/Cheesy/mature cheddar",
          "Oily/Oils/fats/meat fat",
          "Stale/Earthy/mushrooms",
          "Spicy/Dried spice/nutmeg",
          "Fruity/Citrus/oranges",
          "Sour/Cheesy/parmesan",
          "Nutty/Nuts/peanuts",
          "Fruity/Artificial fruit flavourings/peardrops",
          "Fruity/Fresh fruit/pears",
          "Woody/New wood/pencil sharpening",
          "Sulphury/Rubbery/plimsols ",
          "Cereal/Dry cereals/popcorn",
          "Cereal/Wet cereals/porridge",
          "Fruity/Dried fruit/prunes dates",
          "Sour/Vomit/rancid",
          "Woody/New wood/resinous",
          "Nutty/Toasted/roasted beans",
          "Sulphury/Decaying/rotten eggs",
          "Sulphury/Rubbery/rubber tubing",
          "Woody/New wood/sawdust",
          "Floral/Perfumed/scented",
          "Peaty/Smoky/smoked foods barbeque",
          "Sulphury/Struck match /spent fireworks",
          "Feinty/Tobacco/stale tobacco",
          "Sweet/Honey/sugar puff",
          "Fruity/Dried fruit/sultanas",
          "Sulphury/Cooked vegetables /sweetcorn",
          "Sulphury/Decaying/sweetcorn",
          "Woody/Okay/toasted oak",
          "Green/grassy/leafy/tomato plants",
          "Sweet/Toffee/treacle",
          "Fruity/Fresh fruit/tropical fruit",
          "Sweet/Vanilla/vanilla pods",
          "Floral/Fresh flowers/violets",
          "Oily/Waxy/wax crayons ",
          "Stale/Musty/wet cardboard/paper",
          "Stale/Metallic/wet iron",
          "Feinty/Leathery/worn leather",
          "Cereal/Wet cereals/wort",
          "Fruity/Artificial fruit flavourings",
          "Peaty/Burnt",
          "Oily/Buttery ",
          "Cereal/Cereal",
          "Sour/Cheesy",
          "Fruity/Citrus",
          "Nutty/Coconut",
          "Sulphury/Cooked vegetables ",
          "Sulphury/Decaying",
          "Fruity/Dried fruit",
          "Spicy/Dried spice",
          "Cereal/Dry cereals",
          "Stale/Earthy",
          "Feinty/Feinty",
          "Floral/Floral",
          "Floral/Fresh flowers",
          "Fruity/Fresh fruit",
          "Fruity/Fruity",
          "Green/grassy/Green vegetables",
          "Green/grassy/Green/grassy",
          "Green/grassy/Herbal",
          "Sweet/Honey",
          "Feinty/Leathery",
          "Sulphury/Meaty ",
          "Peaty/Medicinal",
          "Stale/Metallic",
          "Stale/Musty",
          "Solvently/Nail varnish remover",
          "Woody/New wood",
          "Nutty/Nuts",
          "Nutty/Nutty",
          "Oily/Oils/fats",
          "Oily/Oily",
          "Woody/Okay",
          "Peaty/Peaty",
          "Spicy/Peppery",
          "Floral/Perfumed",
          "Sulphury/Rubbery",
          "Peaty/Smoky",
          "Soapy/Soapy",
          "Solvently/Solvently",
          "Sour/Sour",
          "Spicy/Spicy",
          "Stale/Stale",
          "Sulphury/Struck match ",
          "Sulphury/Sulphury",
          "Feinty/Sweaty",
          "Sweet/Sweet",
          "Nutty/Toasted",
          "Feinty/Tobacco",
          "Sweet/Toffee",
          "Soapy/Unperfumed soap",
          "Sweet/Vanilla",
          "Sour/Vinegary",
          "Sour/Vomit",
          "Oily/Waxy",
          "Cereal/Wet cereals",
          "Woody/Woody",
          "Green/grassy/leafy",
          "Cereal",
          "Feinty",
          "Floral",
          "Fruity",
          "Green/grassy",
          "Nutty",
          "Oily",
          "Peaty",
          "Soapy",
          "Solvently",
          "Sour",
          "Spicy",
          "Stale",
          "Sulphury",
          "Sweet",
          "Woody"
         ],
         "labels": [
          "Almond",
          "Antiseptic",
          "Apples",
          "Baby sick",
          "Beefy",
          "Black pepper",
          "Blue cheese",
          "Bubblegum",
          "Burning wood",
          "Burnt toast",
          "Butterscotch",
          "Cabbage",
          "Candles",
          "Cereal",
          "Clove",
          "Corked",
          "Damp soil",
          "Dessicated coconut",
          "Dried pipe tobacco",
          "Feinty",
          "Floral",
          "Fragrant",
          "Fresh herbs",
          "Fruity",
          "Gassy",
          "Geranium leaves",
          "Green peppers",
          "Green/grassy",
          "Honeycomb",
          "Horse saddle",
          "Lemons",
          "Linseed oil",
          "Malt vinegar",
          "Malted barley",
          "Mash",
          "Melted butter",
          "Nail varnish remover",
          "Nutty",
          "Oily",
          "Peaty",
          "Raisins",
          "Roses",
          "Rotten vegetables",
          "Rust",
          "Soapy",
          "Solvently",
          "Sour",
          "Spicy",
          "Stale",
          "Sulphury",
          "Sweaty",
          "Sweet",
          "TCP",
          "Tar",
          "Tyres",
          "Unperfumed soap",
          "Woody",
          "acidic",
          "ash",
          "bananas",
          "beeswax",
          "boiled potatoes",
          "boiled potatoes ",
          "bonfire",
          "bovril",
          "brazil nuts",
          "brown sugar",
          "brussels sprouts",
          "candy",
          "carbolic soap",
          "char",
          "chip fat",
          "cinnamon",
          "cocoa",
          "coconut milk",
          "coffee",
          "coins",
          "cream",
          "cucumber",
          "custard",
          "dairy",
          "damp wood",
          "digestive biscuits",
          "draff",
          "dried herbs",
          "engine oil",
          "esters",
          "first aid kit",
          "fresh peas",
          "freshly cut grass",
          "fruit cake",
          "fudge",
          "ginger",
          "gorse flowers",
          "grapefruit",
          "greasy",
          "hazelnuts",
          "ice ceam",
          "lavender",
          "leather upholstery",
          "lettuce",
          "limes",
          "malt extract",
          "marmite",
          "mature cheddar",
          "meat fat",
          "mushrooms",
          "nutmeg",
          "oranges",
          "parmesan",
          "peanuts",
          "peardrops",
          "pears",
          "pencil sharpening",
          "plimsols ",
          "popcorn",
          "porridge",
          "prunes dates",
          "rancid",
          "resinous",
          "roasted beans",
          "rotten eggs",
          "rubber tubing",
          "sawdust",
          "scented",
          "smoked foods barbeque",
          "spent fireworks",
          "stale tobacco",
          "sugar puff",
          "sultanas",
          "sweetcorn",
          "sweetcorn",
          "toasted oak",
          "tomato plants",
          "treacle",
          "tropical fruit",
          "vanilla pods",
          "violets",
          "wax crayons ",
          "wet cardboard/paper",
          "wet iron",
          "worn leather",
          "wort",
          "Artificial fruit flavourings",
          "Burnt",
          "Buttery ",
          "Cereal",
          "Cheesy",
          "Citrus",
          "Coconut",
          "Cooked vegetables ",
          "Decaying",
          "Dried fruit",
          "Dried spice",
          "Dry cereals",
          "Earthy",
          "Feinty",
          "Floral",
          "Fresh flowers",
          "Fresh fruit",
          "Fruity",
          "Green vegetables",
          "Green/grassy",
          "Herbal",
          "Honey",
          "Leathery",
          "Meaty ",
          "Medicinal",
          "Metallic",
          "Musty",
          "Nail varnish remover",
          "New wood",
          "Nuts",
          "Nutty",
          "Oils/fats",
          "Oily",
          "Okay",
          "Peaty",
          "Peppery",
          "Perfumed",
          "Rubbery",
          "Smoky",
          "Soapy",
          "Solvently",
          "Sour",
          "Spicy",
          "Stale",
          "Struck match ",
          "Sulphury",
          "Sweaty",
          "Sweet",
          "Toasted",
          "Tobacco",
          "Toffee",
          "Unperfumed soap",
          "Vanilla",
          "Vinegary",
          "Vomit",
          "Waxy",
          "Wet cereals",
          "Woody",
          "leafy",
          "Cereal",
          "Feinty",
          "Floral",
          "Fruity",
          "Green/grassy",
          "Nutty",
          "Oily",
          "Peaty",
          "Soapy",
          "Solvently",
          "Sour",
          "Spicy",
          "Stale",
          "Sulphury",
          "Sweet",
          "Woody"
         ],
         "name": "",
         "parents": [
          "Nutty/Nuts",
          "Peaty/Medicinal",
          "Fruity/Fresh fruit",
          "Sour/Vomit",
          "Sulphury/Meaty ",
          "Spicy/Peppery",
          "Sour/Cheesy",
          "Fruity/Artificial fruit flavourings",
          "Peaty/Smoky",
          "Nutty/Toasted",
          "Sweet/Toffee",
          "Sulphury/Cooked vegetables ",
          "Oily/Waxy",
          "Cereal/Cereal",
          "Spicy/Dried spice",
          "Stale/Musty",
          "Stale/Earthy",
          "Nutty/Coconut",
          "Feinty/Tobacco",
          "Feinty/Feinty",
          "Floral/Floral",
          "Floral/Perfumed",
          "Green/grassy/Herbal",
          "Fruity/Fruity",
          "Sulphury/Struck match ",
          "Green/grassy/leafy",
          "Green/grassy/Green vegetables",
          "Green/grassy/Green/grassy",
          "Sweet/Honey",
          "Feinty/Leathery",
          "Fruity/Citrus",
          "Oily/Oils/fats",
          "Sour/Vinegary",
          "Cereal/Dry cereals",
          "Cereal/Wet cereals",
          "Oily/Buttery ",
          "Solvently/Nail varnish remover",
          "Nutty/Nutty",
          "Oily/Oily",
          "Peaty/Peaty",
          "Fruity/Dried fruit",
          "Floral/Fresh flowers",
          "Sulphury/Decaying",
          "Stale/Metallic",
          "Soapy/Soapy",
          "Solvently/Solvently",
          "Sour/Sour",
          "Spicy/Spicy",
          "Stale/Stale",
          "Sulphury/Sulphury",
          "Feinty/Sweaty",
          "Sweet/Sweet",
          "Peaty/Medicinal",
          "Peaty/Burnt",
          "Sulphury/Rubbery",
          "Soapy/Unperfumed soap",
          "Woody/Woody",
          "Sour/Vinegary",
          "Peaty/Burnt",
          "Fruity/Fresh fruit",
          "Oily/Waxy",
          "Sulphury/Cooked vegetables ",
          "Sulphury/Decaying",
          "Peaty/Smoky",
          "Sulphury/Meaty ",
          "Nutty/Nuts",
          "Sweet/Toffee",
          "Sulphury/Cooked vegetables ",
          "Fruity/Artificial fruit flavourings",
          "Peaty/Medicinal",
          "Peaty/Burnt",
          "Oily/Oils/fats",
          "Spicy/Dried spice",
          "Nutty/Toasted",
          "Nutty/Coconut",
          "Nutty/Toasted",
          "Stale/Metallic",
          "Oily/Buttery ",
          "Green/grassy/Green vegetables",
          "Sweet/Vanilla",
          "Oily/Buttery ",
          "Stale/Musty",
          "Cereal/Dry cereals",
          "Cereal/Wet cereals",
          "Green/grassy/Herbal",
          "Oily/Oils/fats",
          "Fruity/Artificial fruit flavourings",
          "Peaty/Medicinal",
          "Green/grassy/Green vegetables",
          "Green/grassy/leafy",
          "Fruity/Dried fruit",
          "Sweet/Toffee",
          "Spicy/Dried spice",
          "Nutty/Coconut",
          "Fruity/Citrus",
          "Oily/Oils/fats",
          "Nutty/Nuts",
          "Sweet/Vanilla",
          "Floral/Fresh flowers",
          "Feinty/Leathery",
          "Green/grassy/Green vegetables",
          "Fruity/Citrus",
          "Cereal/Wet cereals",
          "Sulphury/Meaty ",
          "Sour/Cheesy",
          "Oily/Oils/fats",
          "Stale/Earthy",
          "Spicy/Dried spice",
          "Fruity/Citrus",
          "Sour/Cheesy",
          "Nutty/Nuts",
          "Fruity/Artificial fruit flavourings",
          "Fruity/Fresh fruit",
          "Woody/New wood",
          "Sulphury/Rubbery",
          "Cereal/Dry cereals",
          "Cereal/Wet cereals",
          "Fruity/Dried fruit",
          "Sour/Vomit",
          "Woody/New wood",
          "Nutty/Toasted",
          "Sulphury/Decaying",
          "Sulphury/Rubbery",
          "Woody/New wood",
          "Floral/Perfumed",
          "Peaty/Smoky",
          "Sulphury/Struck match ",
          "Feinty/Tobacco",
          "Sweet/Honey",
          "Fruity/Dried fruit",
          "Sulphury/Cooked vegetables ",
          "Sulphury/Decaying",
          "Woody/Okay",
          "Green/grassy/leafy",
          "Sweet/Toffee",
          "Fruity/Fresh fruit",
          "Sweet/Vanilla",
          "Floral/Fresh flowers",
          "Oily/Waxy",
          "Stale/Musty",
          "Stale/Metallic",
          "Feinty/Leathery",
          "Cereal/Wet cereals",
          "Fruity",
          "Peaty",
          "Oily",
          "Cereal",
          "Sour",
          "Fruity",
          "Nutty",
          "Sulphury",
          "Sulphury",
          "Fruity",
          "Spicy",
          "Cereal",
          "Stale",
          "Feinty",
          "Floral",
          "Floral",
          "Fruity",
          "Fruity",
          "Green/grassy",
          "Green/grassy",
          "Green/grassy",
          "Sweet",
          "Feinty",
          "Sulphury",
          "Peaty",
          "Stale",
          "Stale",
          "Solvently",
          "Woody",
          "Nutty",
          "Nutty",
          "Oily",
          "Oily",
          "Woody",
          "Peaty",
          "Spicy",
          "Floral",
          "Sulphury",
          "Peaty",
          "Soapy",
          "Solvently",
          "Sour",
          "Spicy",
          "Stale",
          "Sulphury",
          "Sulphury",
          "Feinty",
          "Sweet",
          "Nutty",
          "Feinty",
          "Sweet",
          "Soapy",
          "Sweet",
          "Sour",
          "Sour",
          "Oily",
          "Cereal",
          "Woody",
          "Green/grassy",
          "",
          "",
          "",
          "",
          "",
          "",
          "",
          "",
          "",
          "",
          "",
          "",
          "",
          "",
          "",
          ""
         ],
         "type": "sunburst",
         "values": [
          1,
          1,
          1,
          1,
          1,
          1,
          1,
          1,
          1,
          1,
          1,
          1,
          1,
          1,
          1,
          1,
          1,
          1,
          1,
          1,
          1,
          1,
          1,
          1,
          1,
          1,
          1,
          1,
          1,
          1,
          1,
          1,
          1,
          1,
          1,
          1,
          1,
          1,
          1,
          1,
          1,
          1,
          1,
          1,
          1,
          1,
          1,
          1,
          1,
          1,
          1,
          1,
          1,
          1,
          1,
          1,
          1,
          1,
          1,
          1,
          1,
          1,
          1,
          1,
          1,
          1,
          1,
          1,
          1,
          1,
          1,
          1,
          1,
          1,
          1,
          1,
          1,
          1,
          1,
          1,
          1,
          1,
          1,
          1,
          1,
          1,
          1,
          1,
          1,
          1,
          1,
          1,
          1,
          1,
          1,
          1,
          1,
          1,
          1,
          1,
          1,
          1,
          1,
          1,
          1,
          1,
          1,
          1,
          1,
          1,
          1,
          1,
          1,
          1,
          1,
          1,
          1,
          1,
          1,
          1,
          1,
          1,
          1,
          1,
          1,
          1,
          1,
          1,
          1,
          1,
          1,
          1,
          1,
          1,
          1,
          1,
          1,
          1,
          1,
          1,
          1,
          1,
          1,
          4,
          3,
          3,
          1,
          3,
          4,
          3,
          4,
          4,
          4,
          4,
          3,
          2,
          1,
          1,
          3,
          4,
          1,
          4,
          1,
          2,
          2,
          3,
          3,
          4,
          3,
          3,
          1,
          3,
          4,
          1,
          5,
          1,
          1,
          1,
          1,
          2,
          3,
          3,
          1,
          1,
          1,
          1,
          1,
          2,
          1,
          1,
          1,
          4,
          2,
          4,
          1,
          3,
          2,
          2,
          3,
          5,
          1,
          3,
          9,
          7,
          6,
          17,
          10,
          12,
          12,
          11,
          2,
          2,
          8,
          6,
          9,
          17,
          10,
          5
         ]
        }
       ],
       "layout": {
        "legend": {
         "tracegroupgap": 0
        },
        "margin": {
         "t": 60
        },
        "template": {
         "data": {
          "bar": [
           {
            "error_x": {
             "color": "#2a3f5f"
            },
            "error_y": {
             "color": "#2a3f5f"
            },
            "marker": {
             "line": {
              "color": "#E5ECF6",
              "width": 0.5
             },
             "pattern": {
              "fillmode": "overlay",
              "size": 10,
              "solidity": 0.2
             }
            },
            "type": "bar"
           }
          ],
          "barpolar": [
           {
            "marker": {
             "line": {
              "color": "#E5ECF6",
              "width": 0.5
             },
             "pattern": {
              "fillmode": "overlay",
              "size": 10,
              "solidity": 0.2
             }
            },
            "type": "barpolar"
           }
          ],
          "carpet": [
           {
            "aaxis": {
             "endlinecolor": "#2a3f5f",
             "gridcolor": "white",
             "linecolor": "white",
             "minorgridcolor": "white",
             "startlinecolor": "#2a3f5f"
            },
            "baxis": {
             "endlinecolor": "#2a3f5f",
             "gridcolor": "white",
             "linecolor": "white",
             "minorgridcolor": "white",
             "startlinecolor": "#2a3f5f"
            },
            "type": "carpet"
           }
          ],
          "choropleth": [
           {
            "colorbar": {
             "outlinewidth": 0,
             "ticks": ""
            },
            "type": "choropleth"
           }
          ],
          "contour": [
           {
            "colorbar": {
             "outlinewidth": 0,
             "ticks": ""
            },
            "colorscale": [
             [
              0,
              "#0d0887"
             ],
             [
              0.1111111111111111,
              "#46039f"
             ],
             [
              0.2222222222222222,
              "#7201a8"
             ],
             [
              0.3333333333333333,
              "#9c179e"
             ],
             [
              0.4444444444444444,
              "#bd3786"
             ],
             [
              0.5555555555555556,
              "#d8576b"
             ],
             [
              0.6666666666666666,
              "#ed7953"
             ],
             [
              0.7777777777777778,
              "#fb9f3a"
             ],
             [
              0.8888888888888888,
              "#fdca26"
             ],
             [
              1,
              "#f0f921"
             ]
            ],
            "type": "contour"
           }
          ],
          "contourcarpet": [
           {
            "colorbar": {
             "outlinewidth": 0,
             "ticks": ""
            },
            "type": "contourcarpet"
           }
          ],
          "heatmap": [
           {
            "colorbar": {
             "outlinewidth": 0,
             "ticks": ""
            },
            "colorscale": [
             [
              0,
              "#0d0887"
             ],
             [
              0.1111111111111111,
              "#46039f"
             ],
             [
              0.2222222222222222,
              "#7201a8"
             ],
             [
              0.3333333333333333,
              "#9c179e"
             ],
             [
              0.4444444444444444,
              "#bd3786"
             ],
             [
              0.5555555555555556,
              "#d8576b"
             ],
             [
              0.6666666666666666,
              "#ed7953"
             ],
             [
              0.7777777777777778,
              "#fb9f3a"
             ],
             [
              0.8888888888888888,
              "#fdca26"
             ],
             [
              1,
              "#f0f921"
             ]
            ],
            "type": "heatmap"
           }
          ],
          "heatmapgl": [
           {
            "colorbar": {
             "outlinewidth": 0,
             "ticks": ""
            },
            "colorscale": [
             [
              0,
              "#0d0887"
             ],
             [
              0.1111111111111111,
              "#46039f"
             ],
             [
              0.2222222222222222,
              "#7201a8"
             ],
             [
              0.3333333333333333,
              "#9c179e"
             ],
             [
              0.4444444444444444,
              "#bd3786"
             ],
             [
              0.5555555555555556,
              "#d8576b"
             ],
             [
              0.6666666666666666,
              "#ed7953"
             ],
             [
              0.7777777777777778,
              "#fb9f3a"
             ],
             [
              0.8888888888888888,
              "#fdca26"
             ],
             [
              1,
              "#f0f921"
             ]
            ],
            "type": "heatmapgl"
           }
          ],
          "histogram": [
           {
            "marker": {
             "pattern": {
              "fillmode": "overlay",
              "size": 10,
              "solidity": 0.2
             }
            },
            "type": "histogram"
           }
          ],
          "histogram2d": [
           {
            "colorbar": {
             "outlinewidth": 0,
             "ticks": ""
            },
            "colorscale": [
             [
              0,
              "#0d0887"
             ],
             [
              0.1111111111111111,
              "#46039f"
             ],
             [
              0.2222222222222222,
              "#7201a8"
             ],
             [
              0.3333333333333333,
              "#9c179e"
             ],
             [
              0.4444444444444444,
              "#bd3786"
             ],
             [
              0.5555555555555556,
              "#d8576b"
             ],
             [
              0.6666666666666666,
              "#ed7953"
             ],
             [
              0.7777777777777778,
              "#fb9f3a"
             ],
             [
              0.8888888888888888,
              "#fdca26"
             ],
             [
              1,
              "#f0f921"
             ]
            ],
            "type": "histogram2d"
           }
          ],
          "histogram2dcontour": [
           {
            "colorbar": {
             "outlinewidth": 0,
             "ticks": ""
            },
            "colorscale": [
             [
              0,
              "#0d0887"
             ],
             [
              0.1111111111111111,
              "#46039f"
             ],
             [
              0.2222222222222222,
              "#7201a8"
             ],
             [
              0.3333333333333333,
              "#9c179e"
             ],
             [
              0.4444444444444444,
              "#bd3786"
             ],
             [
              0.5555555555555556,
              "#d8576b"
             ],
             [
              0.6666666666666666,
              "#ed7953"
             ],
             [
              0.7777777777777778,
              "#fb9f3a"
             ],
             [
              0.8888888888888888,
              "#fdca26"
             ],
             [
              1,
              "#f0f921"
             ]
            ],
            "type": "histogram2dcontour"
           }
          ],
          "mesh3d": [
           {
            "colorbar": {
             "outlinewidth": 0,
             "ticks": ""
            },
            "type": "mesh3d"
           }
          ],
          "parcoords": [
           {
            "line": {
             "colorbar": {
              "outlinewidth": 0,
              "ticks": ""
             }
            },
            "type": "parcoords"
           }
          ],
          "pie": [
           {
            "automargin": true,
            "type": "pie"
           }
          ],
          "scatter": [
           {
            "fillpattern": {
             "fillmode": "overlay",
             "size": 10,
             "solidity": 0.2
            },
            "type": "scatter"
           }
          ],
          "scatter3d": [
           {
            "line": {
             "colorbar": {
              "outlinewidth": 0,
              "ticks": ""
             }
            },
            "marker": {
             "colorbar": {
              "outlinewidth": 0,
              "ticks": ""
             }
            },
            "type": "scatter3d"
           }
          ],
          "scattercarpet": [
           {
            "marker": {
             "colorbar": {
              "outlinewidth": 0,
              "ticks": ""
             }
            },
            "type": "scattercarpet"
           }
          ],
          "scattergeo": [
           {
            "marker": {
             "colorbar": {
              "outlinewidth": 0,
              "ticks": ""
             }
            },
            "type": "scattergeo"
           }
          ],
          "scattergl": [
           {
            "marker": {
             "colorbar": {
              "outlinewidth": 0,
              "ticks": ""
             }
            },
            "type": "scattergl"
           }
          ],
          "scattermapbox": [
           {
            "marker": {
             "colorbar": {
              "outlinewidth": 0,
              "ticks": ""
             }
            },
            "type": "scattermapbox"
           }
          ],
          "scatterpolar": [
           {
            "marker": {
             "colorbar": {
              "outlinewidth": 0,
              "ticks": ""
             }
            },
            "type": "scatterpolar"
           }
          ],
          "scatterpolargl": [
           {
            "marker": {
             "colorbar": {
              "outlinewidth": 0,
              "ticks": ""
             }
            },
            "type": "scatterpolargl"
           }
          ],
          "scatterternary": [
           {
            "marker": {
             "colorbar": {
              "outlinewidth": 0,
              "ticks": ""
             }
            },
            "type": "scatterternary"
           }
          ],
          "surface": [
           {
            "colorbar": {
             "outlinewidth": 0,
             "ticks": ""
            },
            "colorscale": [
             [
              0,
              "#0d0887"
             ],
             [
              0.1111111111111111,
              "#46039f"
             ],
             [
              0.2222222222222222,
              "#7201a8"
             ],
             [
              0.3333333333333333,
              "#9c179e"
             ],
             [
              0.4444444444444444,
              "#bd3786"
             ],
             [
              0.5555555555555556,
              "#d8576b"
             ],
             [
              0.6666666666666666,
              "#ed7953"
             ],
             [
              0.7777777777777778,
              "#fb9f3a"
             ],
             [
              0.8888888888888888,
              "#fdca26"
             ],
             [
              1,
              "#f0f921"
             ]
            ],
            "type": "surface"
           }
          ],
          "table": [
           {
            "cells": {
             "fill": {
              "color": "#EBF0F8"
             },
             "line": {
              "color": "white"
             }
            },
            "header": {
             "fill": {
              "color": "#C8D4E3"
             },
             "line": {
              "color": "white"
             }
            },
            "type": "table"
           }
          ]
         },
         "layout": {
          "annotationdefaults": {
           "arrowcolor": "#2a3f5f",
           "arrowhead": 0,
           "arrowwidth": 1
          },
          "autotypenumbers": "strict",
          "coloraxis": {
           "colorbar": {
            "outlinewidth": 0,
            "ticks": ""
           }
          },
          "colorscale": {
           "diverging": [
            [
             0,
             "#8e0152"
            ],
            [
             0.1,
             "#c51b7d"
            ],
            [
             0.2,
             "#de77ae"
            ],
            [
             0.3,
             "#f1b6da"
            ],
            [
             0.4,
             "#fde0ef"
            ],
            [
             0.5,
             "#f7f7f7"
            ],
            [
             0.6,
             "#e6f5d0"
            ],
            [
             0.7,
             "#b8e186"
            ],
            [
             0.8,
             "#7fbc41"
            ],
            [
             0.9,
             "#4d9221"
            ],
            [
             1,
             "#276419"
            ]
           ],
           "sequential": [
            [
             0,
             "#0d0887"
            ],
            [
             0.1111111111111111,
             "#46039f"
            ],
            [
             0.2222222222222222,
             "#7201a8"
            ],
            [
             0.3333333333333333,
             "#9c179e"
            ],
            [
             0.4444444444444444,
             "#bd3786"
            ],
            [
             0.5555555555555556,
             "#d8576b"
            ],
            [
             0.6666666666666666,
             "#ed7953"
            ],
            [
             0.7777777777777778,
             "#fb9f3a"
            ],
            [
             0.8888888888888888,
             "#fdca26"
            ],
            [
             1,
             "#f0f921"
            ]
           ],
           "sequentialminus": [
            [
             0,
             "#0d0887"
            ],
            [
             0.1111111111111111,
             "#46039f"
            ],
            [
             0.2222222222222222,
             "#7201a8"
            ],
            [
             0.3333333333333333,
             "#9c179e"
            ],
            [
             0.4444444444444444,
             "#bd3786"
            ],
            [
             0.5555555555555556,
             "#d8576b"
            ],
            [
             0.6666666666666666,
             "#ed7953"
            ],
            [
             0.7777777777777778,
             "#fb9f3a"
            ],
            [
             0.8888888888888888,
             "#fdca26"
            ],
            [
             1,
             "#f0f921"
            ]
           ]
          },
          "colorway": [
           "#636efa",
           "#EF553B",
           "#00cc96",
           "#ab63fa",
           "#FFA15A",
           "#19d3f3",
           "#FF6692",
           "#B6E880",
           "#FF97FF",
           "#FECB52"
          ],
          "font": {
           "color": "#2a3f5f"
          },
          "geo": {
           "bgcolor": "white",
           "lakecolor": "white",
           "landcolor": "#E5ECF6",
           "showlakes": true,
           "showland": true,
           "subunitcolor": "white"
          },
          "hoverlabel": {
           "align": "left"
          },
          "hovermode": "closest",
          "mapbox": {
           "style": "light"
          },
          "paper_bgcolor": "white",
          "plot_bgcolor": "#E5ECF6",
          "polar": {
           "angularaxis": {
            "gridcolor": "white",
            "linecolor": "white",
            "ticks": ""
           },
           "bgcolor": "#E5ECF6",
           "radialaxis": {
            "gridcolor": "white",
            "linecolor": "white",
            "ticks": ""
           }
          },
          "scene": {
           "xaxis": {
            "backgroundcolor": "#E5ECF6",
            "gridcolor": "white",
            "gridwidth": 2,
            "linecolor": "white",
            "showbackground": true,
            "ticks": "",
            "zerolinecolor": "white"
           },
           "yaxis": {
            "backgroundcolor": "#E5ECF6",
            "gridcolor": "white",
            "gridwidth": 2,
            "linecolor": "white",
            "showbackground": true,
            "ticks": "",
            "zerolinecolor": "white"
           },
           "zaxis": {
            "backgroundcolor": "#E5ECF6",
            "gridcolor": "white",
            "gridwidth": 2,
            "linecolor": "white",
            "showbackground": true,
            "ticks": "",
            "zerolinecolor": "white"
           }
          },
          "shapedefaults": {
           "line": {
            "color": "#2a3f5f"
           }
          },
          "ternary": {
           "aaxis": {
            "gridcolor": "white",
            "linecolor": "white",
            "ticks": ""
           },
           "baxis": {
            "gridcolor": "white",
            "linecolor": "white",
            "ticks": ""
           },
           "bgcolor": "#E5ECF6",
           "caxis": {
            "gridcolor": "white",
            "linecolor": "white",
            "ticks": ""
           }
          },
          "title": {
           "x": 0.05
          },
          "xaxis": {
           "automargin": true,
           "gridcolor": "white",
           "linecolor": "white",
           "ticks": "",
           "title": {
            "standoff": 15
           },
           "zerolinecolor": "white",
           "zerolinewidth": 2
          },
          "yaxis": {
           "automargin": true,
           "gridcolor": "white",
           "linecolor": "white",
           "ticks": "",
           "title": {
            "standoff": 15
           },
           "zerolinecolor": "white",
           "zerolinewidth": 2
          }
         }
        }
       }
      }
     },
     "metadata": {},
     "output_type": "display_data"
    }
   ],
   "source": [
    "fig = px.sunburst(Research_data, path=['OSA', 'OQ', 'OD'], values='match', labels={'Peaty':'OSA'})\n",
    "fig.show()\n",
    "fig.write_image(\"sunburst.png\") "
   ]
  },
  {
   "cell_type": "code",
   "execution_count": 8,
   "metadata": {},
   "outputs": [
    {
     "data": {
      "application/vnd.plotly.v1+json": {
       "config": {
        "plotlyServerURL": "https://plot.ly"
       },
       "data": [
        {
         "branchvalues": "total",
         "customdata": [
          [
           "cinnamon"
          ],
          [
           "Blue cheese"
          ],
          [
           "Oily"
          ],
          [
           "malt extract"
          ],
          [
           "rancid"
          ],
          [
           "dried herbs"
          ],
          [
           "lavender"
          ],
          [
           "Sweaty"
          ],
          [
           "Baby sick"
          ],
          [
           "coins"
          ],
          [
           "boiled potatoes"
          ],
          [
           "marmite"
          ],
          [
           "fresh peas"
          ],
          [
           "sultanas"
          ],
          [
           "dairy"
          ],
          [
           "rotten eggs"
          ],
          [
           "resinous"
          ],
          [
           "carbolic soap"
          ],
          [
           "Cereal"
          ],
          [
           "sugar puff"
          ],
          [
           "sweetcorn"
          ],
          [
           "Nutty"
          ],
          [
           "Green/grassy"
          ],
          [
           "toasted oak"
          ],
          [
           "peanuts"
          ],
          [
           "Gassy"
          ],
          [
           "Horse saddle"
          ],
          [
           "sweetcorn"
          ],
          [
           "bananas"
          ],
          [
           "Butterscotch"
          ],
          [
           "Sour"
          ],
          [
           "fudge"
          ],
          [
           "hazelnuts"
          ],
          [
           "Dessicated coconut"
          ],
          [
           "Feinty"
          ],
          [
           "engine oil"
          ],
          [
           "Tyres"
          ],
          [
           "violets"
          ],
          [
           "wet cardboard/paper"
          ],
          [
           "stale tobacco"
          ],
          [
           "Rust"
          ],
          [
           "Malted barley"
          ],
          [
           "pears"
          ],
          [
           "scented"
          ],
          [
           "treacle"
          ],
          [
           "tomato plants"
          ],
          [
           "wet iron"
          ],
          [
           "wax crayons "
          ],
          [
           "wort"
          ],
          [
           "worn leather"
          ],
          [
           "Corked"
          ],
          [
           "tropical fruit"
          ],
          [
           "Bubblegum"
          ],
          [
           "Almond"
          ],
          [
           "nutmeg"
          ],
          [
           "Unperfumed soap"
          ],
          [
           "vanilla pods"
          ],
          [
           "ice ceam"
          ],
          [
           "Apples"
          ],
          [
           "Roses"
          ],
          [
           "fruit cake"
          ],
          [
           "mushrooms"
          ],
          [
           "popcorn"
          ],
          [
           "Black pepper"
          ],
          [
           "porridge"
          ],
          [
           "coconut milk"
          ],
          [
           "bonfire"
          ],
          [
           "mature cheddar"
          ],
          [
           "TCP"
          ],
          [
           "Burning wood"
          ],
          [
           "Antiseptic"
          ],
          [
           "greasy"
          ],
          [
           "damp wood"
          ],
          [
           "cream"
          ],
          [
           "char"
          ],
          [
           "cucumber"
          ],
          [
           "spent fireworks"
          ],
          [
           "esters"
          ],
          [
           "Linseed oil"
          ],
          [
           "ash"
          ],
          [
           "first aid kit"
          ],
          [
           "rubber tubing"
          ],
          [
           "Damp soil"
          ],
          [
           "Fresh herbs"
          ],
          [
           "Honeycomb"
          ],
          [
           "grapefruit"
          ],
          [
           "Tar"
          ],
          [
           "Burnt toast"
          ],
          [
           "Lemons"
          ],
          [
           "Geranium leaves"
          ],
          [
           "Solvently"
          ],
          [
           "boiled potatoes "
          ],
          [
           "digestive biscuits"
          ],
          [
           "chip fat"
          ],
          [
           "Sulphury"
          ],
          [
           "gorse flowers"
          ],
          [
           "coffee"
          ],
          [
           "acidic"
          ],
          [
           "Melted butter"
          ],
          [
           "Cabbage"
          ],
          [
           "Malt vinegar"
          ],
          [
           "Stale"
          ],
          [
           "Fragrant"
          ],
          [
           "prunes dates"
          ],
          [
           "leather upholstery"
          ],
          [
           "ginger"
          ],
          [
           "roasted beans"
          ],
          [
           "draff"
          ],
          [
           "Spicy"
          ],
          [
           "lettuce"
          ],
          [
           "cocoa"
          ],
          [
           "Sweet"
          ],
          [
           "Raisins"
          ],
          [
           "brown sugar"
          ],
          [
           "parmesan"
          ],
          [
           "Dried pipe tobacco"
          ],
          [
           "Fruity"
          ],
          [
           "Soapy"
          ],
          [
           "limes"
          ],
          [
           "brussels sprouts"
          ],
          [
           "custard"
          ],
          [
           "pencil sharpening"
          ],
          [
           "oranges"
          ],
          [
           "brazil nuts"
          ],
          [
           "Nail varnish remover"
          ],
          [
           "Beefy"
          ],
          [
           "peardrops"
          ],
          [
           "Clove"
          ],
          [
           "beeswax"
          ],
          [
           "Rotten vegetables"
          ],
          [
           "plimsols "
          ],
          [
           "meat fat"
          ],
          [
           "candy"
          ],
          [
           "Green peppers"
          ],
          [
           "bovril"
          ],
          [
           "Peaty"
          ],
          [
           "Woody"
          ],
          [
           "Mash"
          ],
          [
           "freshly cut grass"
          ],
          [
           "sawdust"
          ],
          [
           "smoked foods barbeque"
          ],
          [
           "Candles"
          ],
          [
           "Floral"
          ],
          [
           "(?)"
          ],
          [
           "(?)"
          ],
          [
           "(?)"
          ],
          [
           "Cereal"
          ],
          [
           "(?)"
          ],
          [
           "(?)"
          ],
          [
           "(?)"
          ],
          [
           "(?)"
          ],
          [
           "(?)"
          ],
          [
           "(?)"
          ],
          [
           "(?)"
          ],
          [
           "(?)"
          ],
          [
           "(?)"
          ],
          [
           "Feinty"
          ],
          [
           "Floral"
          ],
          [
           "(?)"
          ],
          [
           "(?)"
          ],
          [
           "Fruity"
          ],
          [
           "(?)"
          ],
          [
           "Green/grassy"
          ],
          [
           "(?)"
          ],
          [
           "(?)"
          ],
          [
           "(?)"
          ],
          [
           "(?)"
          ],
          [
           "(?)"
          ],
          [
           "(?)"
          ],
          [
           "(?)"
          ],
          [
           "Nail varnish remover"
          ],
          [
           "(?)"
          ],
          [
           "(?)"
          ],
          [
           "Nutty"
          ],
          [
           "(?)"
          ],
          [
           "Oily"
          ],
          [
           "toasted oak"
          ],
          [
           "Peaty"
          ],
          [
           "Black pepper"
          ],
          [
           "(?)"
          ],
          [
           "(?)"
          ],
          [
           "(?)"
          ],
          [
           "Soapy"
          ],
          [
           "Solvently"
          ],
          [
           "Sour"
          ],
          [
           "Spicy"
          ],
          [
           "Stale"
          ],
          [
           "(?)"
          ],
          [
           "Sulphury"
          ],
          [
           "Sweaty"
          ],
          [
           "Sweet"
          ],
          [
           "(?)"
          ],
          [
           "(?)"
          ],
          [
           "(?)"
          ],
          [
           "Unperfumed soap"
          ],
          [
           "(?)"
          ],
          [
           "(?)"
          ],
          [
           "(?)"
          ],
          [
           "(?)"
          ],
          [
           "(?)"
          ],
          [
           "Woody"
          ],
          [
           "(?)"
          ],
          [
           "(?)"
          ],
          [
           "(?)"
          ],
          [
           "(?)"
          ],
          [
           "(?)"
          ],
          [
           "(?)"
          ],
          [
           "(?)"
          ],
          [
           "(?)"
          ],
          [
           "(?)"
          ],
          [
           "(?)"
          ],
          [
           "(?)"
          ],
          [
           "(?)"
          ],
          [
           "(?)"
          ],
          [
           "(?)"
          ],
          [
           "(?)"
          ],
          [
           "(?)"
          ],
          [
           "(?)"
          ]
         ],
         "domain": {
          "x": [
           0,
           1
          ],
          "y": [
           0,
           1
          ]
         },
         "hovertemplate": "labels=%{label}<br>match=%{value}<br>parent=%{parent}<br>id=%{id}<br>OD=%{customdata[0]}<extra></extra>",
         "ids": [
          "Spicy/Dried spice/cinnamon",
          "Sour/Cheesy/Blue cheese",
          "Oily/Oily/Oily",
          "Cereal/Wet cereals/malt extract",
          "Sour/Vomit/rancid",
          "Green/grassy/Herbal/dried herbs",
          "Floral/Fresh flowers/lavender",
          "Feinty/Sweaty/Sweaty",
          "Sour/Vomit/Baby sick",
          "Stale/Metallic/coins",
          "Sulphury/Cooked vegetables /boiled potatoes",
          "Sulphury/Meaty /marmite",
          "Green/grassy/Green vegetables/fresh peas",
          "Fruity/Dried fruit/sultanas",
          "Oily/Buttery /dairy",
          "Sulphury/Decaying/rotten eggs",
          "Woody/New wood/resinous",
          "Peaty/Medicinal/carbolic soap",
          "Cereal/Cereal/Cereal",
          "Sweet/Honey/sugar puff",
          "Sulphury/Decaying/sweetcorn",
          "Nutty/Nutty/Nutty",
          "Green/grassy/Green/grassy/Green/grassy",
          "Woody/Okay/toasted oak",
          "Nutty/Nuts/peanuts",
          "Sulphury/Struck match /Gassy",
          "Feinty/Leathery/Horse saddle",
          "Sulphury/Cooked vegetables /sweetcorn",
          "Fruity/Fresh fruit/bananas",
          "Sweet/Toffee/Butterscotch",
          "Sour/Sour/Sour",
          "Sweet/Toffee/fudge",
          "Nutty/Nuts/hazelnuts",
          "Nutty/Coconut/Dessicated coconut",
          "Feinty/Feinty/Feinty",
          "Oily/Oils/fats/engine oil",
          "Sulphury/Rubbery/Tyres",
          "Floral/Fresh flowers/violets",
          "Stale/Musty/wet cardboard/paper",
          "Feinty/Tobacco/stale tobacco",
          "Stale/Metallic/Rust",
          "Cereal/Dry cereals/Malted barley",
          "Fruity/Fresh fruit/pears",
          "Floral/Perfumed/scented",
          "Sweet/Toffee/treacle",
          "Green/grassy/leafy/tomato plants",
          "Stale/Metallic/wet iron",
          "Oily/Waxy/wax crayons ",
          "Cereal/Wet cereals/wort",
          "Feinty/Leathery/worn leather",
          "Stale/Musty/Corked",
          "Fruity/Fresh fruit/tropical fruit",
          "Fruity/Artificial fruit flavourings/Bubblegum",
          "Nutty/Nuts/Almond",
          "Spicy/Dried spice/nutmeg",
          "Soapy/Unperfumed soap/Unperfumed soap",
          "Sweet/Vanilla/vanilla pods",
          "Sweet/Vanilla/ice ceam",
          "Fruity/Fresh fruit/Apples",
          "Floral/Fresh flowers/Roses",
          "Fruity/Dried fruit/fruit cake",
          "Stale/Earthy/mushrooms",
          "Cereal/Dry cereals/popcorn",
          "Spicy/Peppery/Black pepper",
          "Cereal/Wet cereals/porridge",
          "Nutty/Coconut/coconut milk",
          "Peaty/Smoky/bonfire",
          "Sour/Cheesy/mature cheddar",
          "Peaty/Medicinal/TCP",
          "Peaty/Smoky/Burning wood",
          "Peaty/Medicinal/Antiseptic",
          "Oily/Oils/fats/greasy",
          "Stale/Musty/damp wood",
          "Oily/Buttery /cream",
          "Peaty/Burnt/char",
          "Green/grassy/Green vegetables/cucumber",
          "Sulphury/Struck match /spent fireworks",
          "Fruity/Artificial fruit flavourings/esters",
          "Oily/Oils/fats/Linseed oil",
          "Peaty/Burnt/ash",
          "Peaty/Medicinal/first aid kit",
          "Sulphury/Rubbery/rubber tubing",
          "Stale/Earthy/Damp soil",
          "Green/grassy/Herbal/Fresh herbs",
          "Sweet/Honey/Honeycomb",
          "Fruity/Citrus/grapefruit",
          "Peaty/Burnt/Tar",
          "Nutty/Toasted/Burnt toast",
          "Fruity/Citrus/Lemons",
          "Green/grassy/leafy/Geranium leaves",
          "Solvently/Solvently/Solvently",
          "Sulphury/Decaying/boiled potatoes ",
          "Cereal/Dry cereals/digestive biscuits",
          "Oily/Oils/fats/chip fat",
          "Sulphury/Sulphury/Sulphury",
          "Nutty/Coconut/gorse flowers",
          "Nutty/Toasted/coffee",
          "Sour/Vinegary/acidic",
          "Oily/Buttery /Melted butter",
          "Sulphury/Cooked vegetables /Cabbage",
          "Sour/Vinegary/Malt vinegar",
          "Stale/Stale/Stale",
          "Floral/Perfumed/Fragrant",
          "Fruity/Dried fruit/prunes dates",
          "Feinty/Leathery/leather upholstery",
          "Spicy/Dried spice/ginger",
          "Nutty/Toasted/roasted beans",
          "Cereal/Wet cereals/draff",
          "Spicy/Spicy/Spicy",
          "Green/grassy/Green vegetables/lettuce",
          "Nutty/Toasted/cocoa",
          "Sweet/Sweet/Sweet",
          "Fruity/Dried fruit/Raisins",
          "Sweet/Toffee/brown sugar",
          "Sour/Cheesy/parmesan",
          "Feinty/Tobacco/Dried pipe tobacco",
          "Fruity/Fruity/Fruity",
          "Soapy/Soapy/Soapy",
          "Fruity/Citrus/limes",
          "Sulphury/Cooked vegetables /brussels sprouts",
          "Sweet/Vanilla/custard",
          "Woody/New wood/pencil sharpening",
          "Fruity/Citrus/oranges",
          "Nutty/Nuts/brazil nuts",
          "Solvently/Nail varnish remover/Nail varnish remover",
          "Sulphury/Meaty /Beefy",
          "Fruity/Artificial fruit flavourings/peardrops",
          "Spicy/Dried spice/Clove",
          "Oily/Waxy/beeswax",
          "Sulphury/Decaying/Rotten vegetables",
          "Sulphury/Rubbery/plimsols ",
          "Oily/Oils/fats/meat fat",
          "Fruity/Artificial fruit flavourings/candy",
          "Green/grassy/Green vegetables/Green peppers",
          "Sulphury/Meaty /bovril",
          "Peaty/Peaty/Peaty",
          "Woody/Woody/Woody",
          "Cereal/Wet cereals/Mash",
          "Green/grassy/leafy/freshly cut grass",
          "Woody/New wood/sawdust",
          "Peaty/Smoky/smoked foods barbeque",
          "Oily/Waxy/Candles",
          "Floral/Floral/Floral",
          "Fruity/Artificial fruit flavourings",
          "Peaty/Burnt",
          "Oily/Buttery ",
          "Cereal/Cereal",
          "Sour/Cheesy",
          "Fruity/Citrus",
          "Nutty/Coconut",
          "Sulphury/Cooked vegetables ",
          "Sulphury/Decaying",
          "Fruity/Dried fruit",
          "Spicy/Dried spice",
          "Cereal/Dry cereals",
          "Stale/Earthy",
          "Feinty/Feinty",
          "Floral/Floral",
          "Floral/Fresh flowers",
          "Fruity/Fresh fruit",
          "Fruity/Fruity",
          "Green/grassy/Green vegetables",
          "Green/grassy/Green/grassy",
          "Green/grassy/Herbal",
          "Sweet/Honey",
          "Feinty/Leathery",
          "Sulphury/Meaty ",
          "Peaty/Medicinal",
          "Stale/Metallic",
          "Stale/Musty",
          "Solvently/Nail varnish remover",
          "Woody/New wood",
          "Nutty/Nuts",
          "Nutty/Nutty",
          "Oily/Oils/fats",
          "Oily/Oily",
          "Woody/Okay",
          "Peaty/Peaty",
          "Spicy/Peppery",
          "Floral/Perfumed",
          "Sulphury/Rubbery",
          "Peaty/Smoky",
          "Soapy/Soapy",
          "Solvently/Solvently",
          "Sour/Sour",
          "Spicy/Spicy",
          "Stale/Stale",
          "Sulphury/Struck match ",
          "Sulphury/Sulphury",
          "Feinty/Sweaty",
          "Sweet/Sweet",
          "Nutty/Toasted",
          "Feinty/Tobacco",
          "Sweet/Toffee",
          "Soapy/Unperfumed soap",
          "Sweet/Vanilla",
          "Sour/Vinegary",
          "Sour/Vomit",
          "Oily/Waxy",
          "Cereal/Wet cereals",
          "Woody/Woody",
          "Green/grassy/leafy",
          "Cereal",
          "Feinty",
          "Floral",
          "Fruity",
          "Green/grassy",
          "Nutty",
          "Oily",
          "Peaty",
          "Soapy",
          "Solvently",
          "Sour",
          "Spicy",
          "Stale",
          "Sulphury",
          "Sweet",
          "Woody"
         ],
         "labels": [
          "cinnamon",
          "Blue cheese",
          "Oily",
          "malt extract",
          "rancid",
          "dried herbs",
          "lavender",
          "Sweaty",
          "Baby sick",
          "coins",
          "boiled potatoes",
          "marmite",
          "fresh peas",
          "sultanas",
          "dairy",
          "rotten eggs",
          "resinous",
          "carbolic soap",
          "Cereal",
          "sugar puff",
          "sweetcorn",
          "Nutty",
          "Green/grassy",
          "toasted oak",
          "peanuts",
          "Gassy",
          "Horse saddle",
          "sweetcorn",
          "bananas",
          "Butterscotch",
          "Sour",
          "fudge",
          "hazelnuts",
          "Dessicated coconut",
          "Feinty",
          "engine oil",
          "Tyres",
          "violets",
          "wet cardboard/paper",
          "stale tobacco",
          "Rust",
          "Malted barley",
          "pears",
          "scented",
          "treacle",
          "tomato plants",
          "wet iron",
          "wax crayons ",
          "wort",
          "worn leather",
          "Corked",
          "tropical fruit",
          "Bubblegum",
          "Almond",
          "nutmeg",
          "Unperfumed soap",
          "vanilla pods",
          "ice ceam",
          "Apples",
          "Roses",
          "fruit cake",
          "mushrooms",
          "popcorn",
          "Black pepper",
          "porridge",
          "coconut milk",
          "bonfire",
          "mature cheddar",
          "TCP",
          "Burning wood",
          "Antiseptic",
          "greasy",
          "damp wood",
          "cream",
          "char",
          "cucumber",
          "spent fireworks",
          "esters",
          "Linseed oil",
          "ash",
          "first aid kit",
          "rubber tubing",
          "Damp soil",
          "Fresh herbs",
          "Honeycomb",
          "grapefruit",
          "Tar",
          "Burnt toast",
          "Lemons",
          "Geranium leaves",
          "Solvently",
          "boiled potatoes ",
          "digestive biscuits",
          "chip fat",
          "Sulphury",
          "gorse flowers",
          "coffee",
          "acidic",
          "Melted butter",
          "Cabbage",
          "Malt vinegar",
          "Stale",
          "Fragrant",
          "prunes dates",
          "leather upholstery",
          "ginger",
          "roasted beans",
          "draff",
          "Spicy",
          "lettuce",
          "cocoa",
          "Sweet",
          "Raisins",
          "brown sugar",
          "parmesan",
          "Dried pipe tobacco",
          "Fruity",
          "Soapy",
          "limes",
          "brussels sprouts",
          "custard",
          "pencil sharpening",
          "oranges",
          "brazil nuts",
          "Nail varnish remover",
          "Beefy",
          "peardrops",
          "Clove",
          "beeswax",
          "Rotten vegetables",
          "plimsols ",
          "meat fat",
          "candy",
          "Green peppers",
          "bovril",
          "Peaty",
          "Woody",
          "Mash",
          "freshly cut grass",
          "sawdust",
          "smoked foods barbeque",
          "Candles",
          "Floral",
          "Artificial fruit flavourings",
          "Burnt",
          "Buttery ",
          "Cereal",
          "Cheesy",
          "Citrus",
          "Coconut",
          "Cooked vegetables ",
          "Decaying",
          "Dried fruit",
          "Dried spice",
          "Dry cereals",
          "Earthy",
          "Feinty",
          "Floral",
          "Fresh flowers",
          "Fresh fruit",
          "Fruity",
          "Green vegetables",
          "Green/grassy",
          "Herbal",
          "Honey",
          "Leathery",
          "Meaty ",
          "Medicinal",
          "Metallic",
          "Musty",
          "Nail varnish remover",
          "New wood",
          "Nuts",
          "Nutty",
          "Oils/fats",
          "Oily",
          "Okay",
          "Peaty",
          "Peppery",
          "Perfumed",
          "Rubbery",
          "Smoky",
          "Soapy",
          "Solvently",
          "Sour",
          "Spicy",
          "Stale",
          "Struck match ",
          "Sulphury",
          "Sweaty",
          "Sweet",
          "Toasted",
          "Tobacco",
          "Toffee",
          "Unperfumed soap",
          "Vanilla",
          "Vinegary",
          "Vomit",
          "Waxy",
          "Wet cereals",
          "Woody",
          "leafy",
          "Cereal",
          "Feinty",
          "Floral",
          "Fruity",
          "Green/grassy",
          "Nutty",
          "Oily",
          "Peaty",
          "Soapy",
          "Solvently",
          "Sour",
          "Spicy",
          "Stale",
          "Sulphury",
          "Sweet",
          "Woody"
         ],
         "marker": {
          "colors": [
           "#636efa",
           "#EF553B",
           "#00cc96",
           "#ab63fa",
           "#FFA15A",
           "#19d3f3",
           "#FF6692",
           "#B6E880",
           "#FF97FF",
           "#FECB52",
           "#636efa",
           "#EF553B",
           "#00cc96",
           "#ab63fa",
           "#FFA15A",
           "#19d3f3",
           "#FF6692",
           "#B6E880",
           "#FF97FF",
           "#FECB52",
           "#636efa",
           "#EF553B",
           "#00cc96",
           "#ab63fa",
           "#FFA15A",
           "#19d3f3",
           "#FF6692",
           "#636efa",
           "#B6E880",
           "#FF97FF",
           "#FECB52",
           "#636efa",
           "#EF553B",
           "#00cc96",
           "#ab63fa",
           "#FFA15A",
           "#19d3f3",
           "#FF6692",
           "#B6E880",
           "#FF97FF",
           "#FECB52",
           "#636efa",
           "#EF553B",
           "#00cc96",
           "#ab63fa",
           "#FFA15A",
           "#19d3f3",
           "#FF6692",
           "#B6E880",
           "#FF97FF",
           "#FECB52",
           "#636efa",
           "#EF553B",
           "#00cc96",
           "#ab63fa",
           "#FFA15A",
           "#19d3f3",
           "#FF6692",
           "#B6E880",
           "#FF97FF",
           "#FECB52",
           "#636efa",
           "#EF553B",
           "#00cc96",
           "#ab63fa",
           "#FFA15A",
           "#19d3f3",
           "#FF6692",
           "#B6E880",
           "#FF97FF",
           "#FECB52",
           "#636efa",
           "#EF553B",
           "#00cc96",
           "#ab63fa",
           "#FFA15A",
           "#19d3f3",
           "#FF6692",
           "#B6E880",
           "#FF97FF",
           "#FECB52",
           "#636efa",
           "#EF553B",
           "#00cc96",
           "#ab63fa",
           "#FFA15A",
           "#19d3f3",
           "#FF6692",
           "#B6E880",
           "#FF97FF",
           "#FECB52",
           "#636efa",
           "#EF553B",
           "#00cc96",
           "#ab63fa",
           "#FFA15A",
           "#19d3f3",
           "#FF6692",
           "#B6E880",
           "#FF97FF",
           "#FECB52",
           "#636efa",
           "#EF553B",
           "#00cc96",
           "#ab63fa",
           "#FFA15A",
           "#19d3f3",
           "#FF6692",
           "#B6E880",
           "#FF97FF",
           "#FECB52",
           "#636efa",
           "#EF553B",
           "#00cc96",
           "#ab63fa",
           "#FFA15A",
           "#19d3f3",
           "#FF6692",
           "#B6E880",
           "#FF97FF",
           "#FECB52",
           "#636efa",
           "#EF553B",
           "#00cc96",
           "#ab63fa",
           "#FFA15A",
           "#19d3f3",
           "#FF6692",
           "#B6E880",
           "#FF97FF",
           "#FECB52",
           "#636efa",
           "#EF553B",
           "#00cc96",
           "#ab63fa",
           "#FFA15A",
           "#19d3f3",
           "#FF6692",
           "#B6E880",
           "#FF97FF",
           "#FECB52",
           "#636efa",
           "#EF553B",
           "#00cc96",
           "#00cc96",
           "#00cc96",
           "#FF97FF",
           "#00cc96",
           "#00cc96",
           "#00cc96",
           "#00cc96",
           "#00cc96",
           "#00cc96",
           "#00cc96",
           "#00cc96",
           "#00cc96",
           "#ab63fa",
           "#EF553B",
           "#00cc96",
           "#00cc96",
           "#19d3f3",
           "#00cc96",
           "#00cc96",
           "#00cc96",
           "#00cc96",
           "#00cc96",
           "#00cc96",
           "#00cc96",
           "#00cc96",
           "#00cc96",
           "#ab63fa",
           "#00cc96",
           "#00cc96",
           "#EF553B",
           "#00cc96",
           "#00cc96",
           "#ab63fa",
           "#FFA15A",
           "#00cc96",
           "#00cc96",
           "#00cc96",
           "#00cc96",
           "#FF6692",
           "#FECB52",
           "#FECB52",
           "#B6E880",
           "#636efa",
           "#00cc96",
           "#ab63fa",
           "#B6E880",
           "#636efa",
           "#00cc96",
           "#00cc96",
           "#00cc96",
           "#FFA15A",
           "#00cc96",
           "#00cc96",
           "#00cc96",
           "#00cc96",
           "#00cc96",
           "#19d3f3",
           "#00cc96",
           "#00cc96",
           "#00cc96",
           "#00cc96",
           "#00cc96",
           "#00cc96",
           "#00cc96",
           "#00cc96",
           "#00cc96",
           "#00cc96",
           "#00cc96",
           "#00cc96",
           "#00cc96",
           "#00cc96",
           "#00cc96",
           "#00cc96",
           "#00cc96"
          ]
         },
         "name": "",
         "parents": [
          "Spicy/Dried spice",
          "Sour/Cheesy",
          "Oily/Oily",
          "Cereal/Wet cereals",
          "Sour/Vomit",
          "Green/grassy/Herbal",
          "Floral/Fresh flowers",
          "Feinty/Sweaty",
          "Sour/Vomit",
          "Stale/Metallic",
          "Sulphury/Cooked vegetables ",
          "Sulphury/Meaty ",
          "Green/grassy/Green vegetables",
          "Fruity/Dried fruit",
          "Oily/Buttery ",
          "Sulphury/Decaying",
          "Woody/New wood",
          "Peaty/Medicinal",
          "Cereal/Cereal",
          "Sweet/Honey",
          "Sulphury/Decaying",
          "Nutty/Nutty",
          "Green/grassy/Green/grassy",
          "Woody/Okay",
          "Nutty/Nuts",
          "Sulphury/Struck match ",
          "Feinty/Leathery",
          "Sulphury/Cooked vegetables ",
          "Fruity/Fresh fruit",
          "Sweet/Toffee",
          "Sour/Sour",
          "Sweet/Toffee",
          "Nutty/Nuts",
          "Nutty/Coconut",
          "Feinty/Feinty",
          "Oily/Oils/fats",
          "Sulphury/Rubbery",
          "Floral/Fresh flowers",
          "Stale/Musty",
          "Feinty/Tobacco",
          "Stale/Metallic",
          "Cereal/Dry cereals",
          "Fruity/Fresh fruit",
          "Floral/Perfumed",
          "Sweet/Toffee",
          "Green/grassy/leafy",
          "Stale/Metallic",
          "Oily/Waxy",
          "Cereal/Wet cereals",
          "Feinty/Leathery",
          "Stale/Musty",
          "Fruity/Fresh fruit",
          "Fruity/Artificial fruit flavourings",
          "Nutty/Nuts",
          "Spicy/Dried spice",
          "Soapy/Unperfumed soap",
          "Sweet/Vanilla",
          "Sweet/Vanilla",
          "Fruity/Fresh fruit",
          "Floral/Fresh flowers",
          "Fruity/Dried fruit",
          "Stale/Earthy",
          "Cereal/Dry cereals",
          "Spicy/Peppery",
          "Cereal/Wet cereals",
          "Nutty/Coconut",
          "Peaty/Smoky",
          "Sour/Cheesy",
          "Peaty/Medicinal",
          "Peaty/Smoky",
          "Peaty/Medicinal",
          "Oily/Oils/fats",
          "Stale/Musty",
          "Oily/Buttery ",
          "Peaty/Burnt",
          "Green/grassy/Green vegetables",
          "Sulphury/Struck match ",
          "Fruity/Artificial fruit flavourings",
          "Oily/Oils/fats",
          "Peaty/Burnt",
          "Peaty/Medicinal",
          "Sulphury/Rubbery",
          "Stale/Earthy",
          "Green/grassy/Herbal",
          "Sweet/Honey",
          "Fruity/Citrus",
          "Peaty/Burnt",
          "Nutty/Toasted",
          "Fruity/Citrus",
          "Green/grassy/leafy",
          "Solvently/Solvently",
          "Sulphury/Decaying",
          "Cereal/Dry cereals",
          "Oily/Oils/fats",
          "Sulphury/Sulphury",
          "Nutty/Coconut",
          "Nutty/Toasted",
          "Sour/Vinegary",
          "Oily/Buttery ",
          "Sulphury/Cooked vegetables ",
          "Sour/Vinegary",
          "Stale/Stale",
          "Floral/Perfumed",
          "Fruity/Dried fruit",
          "Feinty/Leathery",
          "Spicy/Dried spice",
          "Nutty/Toasted",
          "Cereal/Wet cereals",
          "Spicy/Spicy",
          "Green/grassy/Green vegetables",
          "Nutty/Toasted",
          "Sweet/Sweet",
          "Fruity/Dried fruit",
          "Sweet/Toffee",
          "Sour/Cheesy",
          "Feinty/Tobacco",
          "Fruity/Fruity",
          "Soapy/Soapy",
          "Fruity/Citrus",
          "Sulphury/Cooked vegetables ",
          "Sweet/Vanilla",
          "Woody/New wood",
          "Fruity/Citrus",
          "Nutty/Nuts",
          "Solvently/Nail varnish remover",
          "Sulphury/Meaty ",
          "Fruity/Artificial fruit flavourings",
          "Spicy/Dried spice",
          "Oily/Waxy",
          "Sulphury/Decaying",
          "Sulphury/Rubbery",
          "Oily/Oils/fats",
          "Fruity/Artificial fruit flavourings",
          "Green/grassy/Green vegetables",
          "Sulphury/Meaty ",
          "Peaty/Peaty",
          "Woody/Woody",
          "Cereal/Wet cereals",
          "Green/grassy/leafy",
          "Woody/New wood",
          "Peaty/Smoky",
          "Oily/Waxy",
          "Floral/Floral",
          "Fruity",
          "Peaty",
          "Oily",
          "Cereal",
          "Sour",
          "Fruity",
          "Nutty",
          "Sulphury",
          "Sulphury",
          "Fruity",
          "Spicy",
          "Cereal",
          "Stale",
          "Feinty",
          "Floral",
          "Floral",
          "Fruity",
          "Fruity",
          "Green/grassy",
          "Green/grassy",
          "Green/grassy",
          "Sweet",
          "Feinty",
          "Sulphury",
          "Peaty",
          "Stale",
          "Stale",
          "Solvently",
          "Woody",
          "Nutty",
          "Nutty",
          "Oily",
          "Oily",
          "Woody",
          "Peaty",
          "Spicy",
          "Floral",
          "Sulphury",
          "Peaty",
          "Soapy",
          "Solvently",
          "Sour",
          "Spicy",
          "Stale",
          "Sulphury",
          "Sulphury",
          "Feinty",
          "Sweet",
          "Nutty",
          "Feinty",
          "Sweet",
          "Soapy",
          "Sweet",
          "Sour",
          "Sour",
          "Oily",
          "Cereal",
          "Woody",
          "Green/grassy",
          "",
          "",
          "",
          "",
          "",
          "",
          "",
          "",
          "",
          "",
          "",
          "",
          "",
          "",
          "",
          ""
         ],
         "type": "sunburst",
         "values": [
          1,
          1,
          1,
          1,
          1,
          1,
          1,
          1,
          1,
          1,
          1,
          1,
          1,
          1,
          1,
          1,
          1,
          1,
          1,
          1,
          1,
          1,
          1,
          1,
          1,
          1,
          1,
          1,
          1,
          1,
          1,
          1,
          1,
          1,
          1,
          1,
          1,
          1,
          1,
          1,
          1,
          1,
          1,
          1,
          1,
          1,
          1,
          1,
          1,
          1,
          1,
          1,
          1,
          1,
          1,
          1,
          1,
          1,
          1,
          1,
          1,
          1,
          1,
          1,
          1,
          1,
          1,
          1,
          1,
          1,
          1,
          1,
          1,
          1,
          1,
          1,
          1,
          1,
          1,
          1,
          1,
          1,
          1,
          1,
          1,
          1,
          1,
          1,
          1,
          1,
          1,
          1,
          1,
          1,
          1,
          1,
          1,
          1,
          1,
          1,
          1,
          1,
          1,
          1,
          1,
          1,
          1,
          1,
          1,
          1,
          1,
          1,
          1,
          1,
          1,
          1,
          1,
          1,
          1,
          1,
          1,
          1,
          1,
          1,
          1,
          1,
          1,
          1,
          1,
          1,
          1,
          1,
          1,
          1,
          1,
          1,
          1,
          1,
          1,
          1,
          1,
          1,
          1,
          4,
          3,
          3,
          1,
          3,
          4,
          3,
          4,
          4,
          4,
          4,
          3,
          2,
          1,
          1,
          3,
          4,
          1,
          4,
          1,
          2,
          2,
          3,
          3,
          4,
          3,
          3,
          1,
          3,
          4,
          1,
          5,
          1,
          1,
          1,
          1,
          2,
          3,
          3,
          1,
          1,
          1,
          1,
          1,
          2,
          1,
          1,
          1,
          4,
          2,
          4,
          1,
          3,
          2,
          2,
          3,
          5,
          1,
          3,
          9,
          7,
          6,
          17,
          10,
          12,
          12,
          11,
          2,
          2,
          8,
          6,
          9,
          17,
          10,
          5
         ]
        }
       ],
       "layout": {
        "legend": {
         "tracegroupgap": 0
        },
        "margin": {
         "t": 60
        },
        "template": {
         "data": {
          "bar": [
           {
            "error_x": {
             "color": "#2a3f5f"
            },
            "error_y": {
             "color": "#2a3f5f"
            },
            "marker": {
             "line": {
              "color": "#E5ECF6",
              "width": 0.5
             },
             "pattern": {
              "fillmode": "overlay",
              "size": 10,
              "solidity": 0.2
             }
            },
            "type": "bar"
           }
          ],
          "barpolar": [
           {
            "marker": {
             "line": {
              "color": "#E5ECF6",
              "width": 0.5
             },
             "pattern": {
              "fillmode": "overlay",
              "size": 10,
              "solidity": 0.2
             }
            },
            "type": "barpolar"
           }
          ],
          "carpet": [
           {
            "aaxis": {
             "endlinecolor": "#2a3f5f",
             "gridcolor": "white",
             "linecolor": "white",
             "minorgridcolor": "white",
             "startlinecolor": "#2a3f5f"
            },
            "baxis": {
             "endlinecolor": "#2a3f5f",
             "gridcolor": "white",
             "linecolor": "white",
             "minorgridcolor": "white",
             "startlinecolor": "#2a3f5f"
            },
            "type": "carpet"
           }
          ],
          "choropleth": [
           {
            "colorbar": {
             "outlinewidth": 0,
             "ticks": ""
            },
            "type": "choropleth"
           }
          ],
          "contour": [
           {
            "colorbar": {
             "outlinewidth": 0,
             "ticks": ""
            },
            "colorscale": [
             [
              0,
              "#0d0887"
             ],
             [
              0.1111111111111111,
              "#46039f"
             ],
             [
              0.2222222222222222,
              "#7201a8"
             ],
             [
              0.3333333333333333,
              "#9c179e"
             ],
             [
              0.4444444444444444,
              "#bd3786"
             ],
             [
              0.5555555555555556,
              "#d8576b"
             ],
             [
              0.6666666666666666,
              "#ed7953"
             ],
             [
              0.7777777777777778,
              "#fb9f3a"
             ],
             [
              0.8888888888888888,
              "#fdca26"
             ],
             [
              1,
              "#f0f921"
             ]
            ],
            "type": "contour"
           }
          ],
          "contourcarpet": [
           {
            "colorbar": {
             "outlinewidth": 0,
             "ticks": ""
            },
            "type": "contourcarpet"
           }
          ],
          "heatmap": [
           {
            "colorbar": {
             "outlinewidth": 0,
             "ticks": ""
            },
            "colorscale": [
             [
              0,
              "#0d0887"
             ],
             [
              0.1111111111111111,
              "#46039f"
             ],
             [
              0.2222222222222222,
              "#7201a8"
             ],
             [
              0.3333333333333333,
              "#9c179e"
             ],
             [
              0.4444444444444444,
              "#bd3786"
             ],
             [
              0.5555555555555556,
              "#d8576b"
             ],
             [
              0.6666666666666666,
              "#ed7953"
             ],
             [
              0.7777777777777778,
              "#fb9f3a"
             ],
             [
              0.8888888888888888,
              "#fdca26"
             ],
             [
              1,
              "#f0f921"
             ]
            ],
            "type": "heatmap"
           }
          ],
          "heatmapgl": [
           {
            "colorbar": {
             "outlinewidth": 0,
             "ticks": ""
            },
            "colorscale": [
             [
              0,
              "#0d0887"
             ],
             [
              0.1111111111111111,
              "#46039f"
             ],
             [
              0.2222222222222222,
              "#7201a8"
             ],
             [
              0.3333333333333333,
              "#9c179e"
             ],
             [
              0.4444444444444444,
              "#bd3786"
             ],
             [
              0.5555555555555556,
              "#d8576b"
             ],
             [
              0.6666666666666666,
              "#ed7953"
             ],
             [
              0.7777777777777778,
              "#fb9f3a"
             ],
             [
              0.8888888888888888,
              "#fdca26"
             ],
             [
              1,
              "#f0f921"
             ]
            ],
            "type": "heatmapgl"
           }
          ],
          "histogram": [
           {
            "marker": {
             "pattern": {
              "fillmode": "overlay",
              "size": 10,
              "solidity": 0.2
             }
            },
            "type": "histogram"
           }
          ],
          "histogram2d": [
           {
            "colorbar": {
             "outlinewidth": 0,
             "ticks": ""
            },
            "colorscale": [
             [
              0,
              "#0d0887"
             ],
             [
              0.1111111111111111,
              "#46039f"
             ],
             [
              0.2222222222222222,
              "#7201a8"
             ],
             [
              0.3333333333333333,
              "#9c179e"
             ],
             [
              0.4444444444444444,
              "#bd3786"
             ],
             [
              0.5555555555555556,
              "#d8576b"
             ],
             [
              0.6666666666666666,
              "#ed7953"
             ],
             [
              0.7777777777777778,
              "#fb9f3a"
             ],
             [
              0.8888888888888888,
              "#fdca26"
             ],
             [
              1,
              "#f0f921"
             ]
            ],
            "type": "histogram2d"
           }
          ],
          "histogram2dcontour": [
           {
            "colorbar": {
             "outlinewidth": 0,
             "ticks": ""
            },
            "colorscale": [
             [
              0,
              "#0d0887"
             ],
             [
              0.1111111111111111,
              "#46039f"
             ],
             [
              0.2222222222222222,
              "#7201a8"
             ],
             [
              0.3333333333333333,
              "#9c179e"
             ],
             [
              0.4444444444444444,
              "#bd3786"
             ],
             [
              0.5555555555555556,
              "#d8576b"
             ],
             [
              0.6666666666666666,
              "#ed7953"
             ],
             [
              0.7777777777777778,
              "#fb9f3a"
             ],
             [
              0.8888888888888888,
              "#fdca26"
             ],
             [
              1,
              "#f0f921"
             ]
            ],
            "type": "histogram2dcontour"
           }
          ],
          "mesh3d": [
           {
            "colorbar": {
             "outlinewidth": 0,
             "ticks": ""
            },
            "type": "mesh3d"
           }
          ],
          "parcoords": [
           {
            "line": {
             "colorbar": {
              "outlinewidth": 0,
              "ticks": ""
             }
            },
            "type": "parcoords"
           }
          ],
          "pie": [
           {
            "automargin": true,
            "type": "pie"
           }
          ],
          "scatter": [
           {
            "fillpattern": {
             "fillmode": "overlay",
             "size": 10,
             "solidity": 0.2
            },
            "type": "scatter"
           }
          ],
          "scatter3d": [
           {
            "line": {
             "colorbar": {
              "outlinewidth": 0,
              "ticks": ""
             }
            },
            "marker": {
             "colorbar": {
              "outlinewidth": 0,
              "ticks": ""
             }
            },
            "type": "scatter3d"
           }
          ],
          "scattercarpet": [
           {
            "marker": {
             "colorbar": {
              "outlinewidth": 0,
              "ticks": ""
             }
            },
            "type": "scattercarpet"
           }
          ],
          "scattergeo": [
           {
            "marker": {
             "colorbar": {
              "outlinewidth": 0,
              "ticks": ""
             }
            },
            "type": "scattergeo"
           }
          ],
          "scattergl": [
           {
            "marker": {
             "colorbar": {
              "outlinewidth": 0,
              "ticks": ""
             }
            },
            "type": "scattergl"
           }
          ],
          "scattermapbox": [
           {
            "marker": {
             "colorbar": {
              "outlinewidth": 0,
              "ticks": ""
             }
            },
            "type": "scattermapbox"
           }
          ],
          "scatterpolar": [
           {
            "marker": {
             "colorbar": {
              "outlinewidth": 0,
              "ticks": ""
             }
            },
            "type": "scatterpolar"
           }
          ],
          "scatterpolargl": [
           {
            "marker": {
             "colorbar": {
              "outlinewidth": 0,
              "ticks": ""
             }
            },
            "type": "scatterpolargl"
           }
          ],
          "scatterternary": [
           {
            "marker": {
             "colorbar": {
              "outlinewidth": 0,
              "ticks": ""
             }
            },
            "type": "scatterternary"
           }
          ],
          "surface": [
           {
            "colorbar": {
             "outlinewidth": 0,
             "ticks": ""
            },
            "colorscale": [
             [
              0,
              "#0d0887"
             ],
             [
              0.1111111111111111,
              "#46039f"
             ],
             [
              0.2222222222222222,
              "#7201a8"
             ],
             [
              0.3333333333333333,
              "#9c179e"
             ],
             [
              0.4444444444444444,
              "#bd3786"
             ],
             [
              0.5555555555555556,
              "#d8576b"
             ],
             [
              0.6666666666666666,
              "#ed7953"
             ],
             [
              0.7777777777777778,
              "#fb9f3a"
             ],
             [
              0.8888888888888888,
              "#fdca26"
             ],
             [
              1,
              "#f0f921"
             ]
            ],
            "type": "surface"
           }
          ],
          "table": [
           {
            "cells": {
             "fill": {
              "color": "#EBF0F8"
             },
             "line": {
              "color": "white"
             }
            },
            "header": {
             "fill": {
              "color": "#C8D4E3"
             },
             "line": {
              "color": "white"
             }
            },
            "type": "table"
           }
          ]
         },
         "layout": {
          "annotationdefaults": {
           "arrowcolor": "#2a3f5f",
           "arrowhead": 0,
           "arrowwidth": 1
          },
          "autotypenumbers": "strict",
          "coloraxis": {
           "colorbar": {
            "outlinewidth": 0,
            "ticks": ""
           }
          },
          "colorscale": {
           "diverging": [
            [
             0,
             "#8e0152"
            ],
            [
             0.1,
             "#c51b7d"
            ],
            [
             0.2,
             "#de77ae"
            ],
            [
             0.3,
             "#f1b6da"
            ],
            [
             0.4,
             "#fde0ef"
            ],
            [
             0.5,
             "#f7f7f7"
            ],
            [
             0.6,
             "#e6f5d0"
            ],
            [
             0.7,
             "#b8e186"
            ],
            [
             0.8,
             "#7fbc41"
            ],
            [
             0.9,
             "#4d9221"
            ],
            [
             1,
             "#276419"
            ]
           ],
           "sequential": [
            [
             0,
             "#0d0887"
            ],
            [
             0.1111111111111111,
             "#46039f"
            ],
            [
             0.2222222222222222,
             "#7201a8"
            ],
            [
             0.3333333333333333,
             "#9c179e"
            ],
            [
             0.4444444444444444,
             "#bd3786"
            ],
            [
             0.5555555555555556,
             "#d8576b"
            ],
            [
             0.6666666666666666,
             "#ed7953"
            ],
            [
             0.7777777777777778,
             "#fb9f3a"
            ],
            [
             0.8888888888888888,
             "#fdca26"
            ],
            [
             1,
             "#f0f921"
            ]
           ],
           "sequentialminus": [
            [
             0,
             "#0d0887"
            ],
            [
             0.1111111111111111,
             "#46039f"
            ],
            [
             0.2222222222222222,
             "#7201a8"
            ],
            [
             0.3333333333333333,
             "#9c179e"
            ],
            [
             0.4444444444444444,
             "#bd3786"
            ],
            [
             0.5555555555555556,
             "#d8576b"
            ],
            [
             0.6666666666666666,
             "#ed7953"
            ],
            [
             0.7777777777777778,
             "#fb9f3a"
            ],
            [
             0.8888888888888888,
             "#fdca26"
            ],
            [
             1,
             "#f0f921"
            ]
           ]
          },
          "colorway": [
           "#636efa",
           "#EF553B",
           "#00cc96",
           "#ab63fa",
           "#FFA15A",
           "#19d3f3",
           "#FF6692",
           "#B6E880",
           "#FF97FF",
           "#FECB52"
          ],
          "font": {
           "color": "#2a3f5f"
          },
          "geo": {
           "bgcolor": "white",
           "lakecolor": "white",
           "landcolor": "#E5ECF6",
           "showlakes": true,
           "showland": true,
           "subunitcolor": "white"
          },
          "hoverlabel": {
           "align": "left"
          },
          "hovermode": "closest",
          "mapbox": {
           "style": "light"
          },
          "paper_bgcolor": "white",
          "plot_bgcolor": "#E5ECF6",
          "polar": {
           "angularaxis": {
            "gridcolor": "white",
            "linecolor": "white",
            "ticks": ""
           },
           "bgcolor": "#E5ECF6",
           "radialaxis": {
            "gridcolor": "white",
            "linecolor": "white",
            "ticks": ""
           }
          },
          "scene": {
           "xaxis": {
            "backgroundcolor": "#E5ECF6",
            "gridcolor": "white",
            "gridwidth": 2,
            "linecolor": "white",
            "showbackground": true,
            "ticks": "",
            "zerolinecolor": "white"
           },
           "yaxis": {
            "backgroundcolor": "#E5ECF6",
            "gridcolor": "white",
            "gridwidth": 2,
            "linecolor": "white",
            "showbackground": true,
            "ticks": "",
            "zerolinecolor": "white"
           },
           "zaxis": {
            "backgroundcolor": "#E5ECF6",
            "gridcolor": "white",
            "gridwidth": 2,
            "linecolor": "white",
            "showbackground": true,
            "ticks": "",
            "zerolinecolor": "white"
           }
          },
          "shapedefaults": {
           "line": {
            "color": "#2a3f5f"
           }
          },
          "ternary": {
           "aaxis": {
            "gridcolor": "white",
            "linecolor": "white",
            "ticks": ""
           },
           "baxis": {
            "gridcolor": "white",
            "linecolor": "white",
            "ticks": ""
           },
           "bgcolor": "#E5ECF6",
           "caxis": {
            "gridcolor": "white",
            "linecolor": "white",
            "ticks": ""
           }
          },
          "title": {
           "x": 0.05
          },
          "xaxis": {
           "automargin": true,
           "gridcolor": "white",
           "linecolor": "white",
           "ticks": "",
           "title": {
            "standoff": 15
           },
           "zerolinecolor": "white",
           "zerolinewidth": 2
          },
          "yaxis": {
           "automargin": true,
           "gridcolor": "white",
           "linecolor": "white",
           "ticks": "",
           "title": {
            "standoff": 15
           },
           "zerolinecolor": "white",
           "zerolinewidth": 2
          }
         }
        }
       }
      }
     },
     "metadata": {},
     "output_type": "display_data"
    }
   ],
   "source": [
    "\n",
    "import plotly.express as px \n",
    "  \n",
    "df = px.data.tips() \n",
    "  \n",
    "fig = px.sunburst(Research_data, path=['OSA', 'OQ', 'OD'],  \n",
    "                  values='match', color='OD') \n",
    "fig.show()"
   ]
  },
  {
   "cell_type": "code",
   "execution_count": 4,
   "metadata": {},
   "outputs": [
    {
     "data": {
      "application/vnd.plotly.v1+json": {
       "config": {
        "plotlyServerURL": "https://plot.ly"
       },
       "data": [
        {
         "branchvalues": "total",
         "domain": {
          "x": [
           0,
           1
          ],
          "y": [
           0,
           1
          ]
         },
         "hovertemplate": "labels=%{label}<br>match=%{value}<br>parent=%{parent}<br>id=%{id}<extra></extra>",
         "ids": [
          "Nuts/Almond",
          "Medicinal/Antiseptic",
          "Fresh fruit/Apples",
          "Vomit/Baby sick",
          "Meaty /Beefy",
          "Peppery/Black pepper",
          "Cheesy/Blue cheese",
          "Artificial fruit flavourings/Bubblegum",
          "Smoky/Burning wood",
          "Toasted/Burnt toast",
          "Toffee/Butterscotch",
          "Cooked vegetables /Cabbage",
          "Waxy/Candles",
          "Cereal/Cereal",
          "Dried spice/Clove",
          "Musty/Corked",
          "Earthy/Damp soil",
          "Coconut/Dessicated coconut",
          "Tobacco/Dried pipe tobacco",
          "Feinty/Feinty",
          "Floral/Floral",
          "Perfumed/Fragrant",
          "Herbal/Fresh herbs",
          "Fruity/Fruity",
          "Struck match /Gassy",
          "leafy/Geranium leaves",
          "Green vegetables/Green peppers",
          "Green/grassy/Green/grassy",
          "Honey/Honeycomb",
          "Leathery/Horse saddle",
          "Citrus/Lemons",
          "Oils/fats/Linseed oil",
          "Vinegary/Malt vinegar",
          "Dry cereals/Malted barley",
          "Wet cereals/Mash",
          "Buttery /Melted butter",
          "Nail varnish remover/Nail varnish remover",
          "Nutty/Nutty",
          "Oily/Oily",
          "Peaty/Peaty",
          "Dried fruit/Raisins",
          "Fresh flowers/Roses",
          "Decaying/Rotten vegetables",
          "Metallic/Rust",
          "Soapy/Soapy",
          "Solvently/Solvently",
          "Sour/Sour",
          "Spicy/Spicy",
          "Stale/Stale",
          "Sulphury/Sulphury",
          "Sweaty/Sweaty",
          "Sweet/Sweet",
          "Medicinal/TCP",
          "Burnt/Tar",
          "Rubbery/Tyres",
          "Unperfumed soap/Unperfumed soap",
          "Woody/Woody",
          "Vinegary/acidic",
          "Burnt/ash",
          "Fresh fruit/bananas",
          "Waxy/beeswax",
          "Cooked vegetables /boiled potatoes",
          "Decaying/boiled potatoes ",
          "Smoky/bonfire",
          "Meaty /bovril",
          "Nuts/brazil nuts",
          "Toffee/brown sugar",
          "Cooked vegetables /brussels sprouts",
          "Artificial fruit flavourings/candy",
          "Medicinal/carbolic soap",
          "Burnt/char",
          "Oils/fats/chip fat",
          "Dried spice/cinnamon",
          "Toasted/cocoa",
          "Coconut/coconut milk",
          "Toasted/coffee",
          "Metallic/coins",
          "Buttery /cream",
          "Green vegetables/cucumber",
          "Vanilla/custard",
          "Buttery /dairy",
          "Musty/damp wood",
          "Dry cereals/digestive biscuits",
          "Wet cereals/draff",
          "Herbal/dried herbs",
          "Oils/fats/engine oil",
          "Artificial fruit flavourings/esters",
          "Medicinal/first aid kit",
          "Green vegetables/fresh peas",
          "leafy/freshly cut grass",
          "Dried fruit/fruit cake",
          "Toffee/fudge",
          "Dried spice/ginger",
          "Coconut/gorse flowers",
          "Citrus/grapefruit",
          "Oils/fats/greasy",
          "Nuts/hazelnuts",
          "Vanilla/ice ceam",
          "Fresh flowers/lavender",
          "Leathery/leather upholstery",
          "Green vegetables/lettuce",
          "Citrus/limes",
          "Wet cereals/malt extract",
          "Meaty /marmite",
          "Cheesy/mature cheddar",
          "Oils/fats/meat fat",
          "Earthy/mushrooms",
          "Dried spice/nutmeg",
          "Citrus/oranges",
          "Cheesy/parmesan",
          "Nuts/peanuts",
          "Artificial fruit flavourings/peardrops",
          "Fresh fruit/pears",
          "New wood/pencil sharpening",
          "Rubbery/plimsols ",
          "Dry cereals/popcorn",
          "Wet cereals/porridge",
          "Dried fruit/prunes dates",
          "Vomit/rancid",
          "New wood/resinous",
          "Toasted/roasted beans",
          "Decaying/rotten eggs",
          "Rubbery/rubber tubing",
          "New wood/sawdust",
          "Perfumed/scented",
          "Smoky/smoked foods barbeque",
          "Struck match /spent fireworks",
          "Tobacco/stale tobacco",
          "Honey/sugar puff",
          "Dried fruit/sultanas",
          "Cooked vegetables /sweetcorn",
          "Decaying/sweetcorn",
          "Okay/toasted oak",
          "leafy/tomato plants",
          "Toffee/treacle",
          "Fresh fruit/tropical fruit",
          "Vanilla/vanilla pods",
          "Fresh flowers/violets",
          "Waxy/wax crayons ",
          "Musty/wet cardboard/paper",
          "Metallic/wet iron",
          "Leathery/worn leather",
          "Wet cereals/wort",
          "Artificial fruit flavourings",
          "Burnt",
          "Buttery ",
          "Cereal",
          "Cheesy",
          "Citrus",
          "Coconut",
          "Cooked vegetables ",
          "Decaying",
          "Dried fruit",
          "Dried spice",
          "Dry cereals",
          "Earthy",
          "Feinty",
          "Floral",
          "Fresh flowers",
          "Fresh fruit",
          "Fruity",
          "Green vegetables",
          "Green/grassy",
          "Herbal",
          "Honey",
          "Leathery",
          "Meaty ",
          "Medicinal",
          "Metallic",
          "Musty",
          "Nail varnish remover",
          "New wood",
          "Nuts",
          "Nutty",
          "Oils/fats",
          "Oily",
          "Okay",
          "Peaty",
          "Peppery",
          "Perfumed",
          "Rubbery",
          "Smoky",
          "Soapy",
          "Solvently",
          "Sour",
          "Spicy",
          "Stale",
          "Struck match ",
          "Sulphury",
          "Sweaty",
          "Sweet",
          "Toasted",
          "Tobacco",
          "Toffee",
          "Unperfumed soap",
          "Vanilla",
          "Vinegary",
          "Vomit",
          "Waxy",
          "Wet cereals",
          "Woody",
          "leafy"
         ],
         "labels": [
          "Almond",
          "Antiseptic",
          "Apples",
          "Baby sick",
          "Beefy",
          "Black pepper",
          "Blue cheese",
          "Bubblegum",
          "Burning wood",
          "Burnt toast",
          "Butterscotch",
          "Cabbage",
          "Candles",
          "Cereal",
          "Clove",
          "Corked",
          "Damp soil",
          "Dessicated coconut",
          "Dried pipe tobacco",
          "Feinty",
          "Floral",
          "Fragrant",
          "Fresh herbs",
          "Fruity",
          "Gassy",
          "Geranium leaves",
          "Green peppers",
          "Green/grassy",
          "Honeycomb",
          "Horse saddle",
          "Lemons",
          "Linseed oil",
          "Malt vinegar",
          "Malted barley",
          "Mash",
          "Melted butter",
          "Nail varnish remover",
          "Nutty",
          "Oily",
          "Peaty",
          "Raisins",
          "Roses",
          "Rotten vegetables",
          "Rust",
          "Soapy",
          "Solvently",
          "Sour",
          "Spicy",
          "Stale",
          "Sulphury",
          "Sweaty",
          "Sweet",
          "TCP",
          "Tar",
          "Tyres",
          "Unperfumed soap",
          "Woody",
          "acidic",
          "ash",
          "bananas",
          "beeswax",
          "boiled potatoes",
          "boiled potatoes ",
          "bonfire",
          "bovril",
          "brazil nuts",
          "brown sugar",
          "brussels sprouts",
          "candy",
          "carbolic soap",
          "char",
          "chip fat",
          "cinnamon",
          "cocoa",
          "coconut milk",
          "coffee",
          "coins",
          "cream",
          "cucumber",
          "custard",
          "dairy",
          "damp wood",
          "digestive biscuits",
          "draff",
          "dried herbs",
          "engine oil",
          "esters",
          "first aid kit",
          "fresh peas",
          "freshly cut grass",
          "fruit cake",
          "fudge",
          "ginger",
          "gorse flowers",
          "grapefruit",
          "greasy",
          "hazelnuts",
          "ice ceam",
          "lavender",
          "leather upholstery",
          "lettuce",
          "limes",
          "malt extract",
          "marmite",
          "mature cheddar",
          "meat fat",
          "mushrooms",
          "nutmeg",
          "oranges",
          "parmesan",
          "peanuts",
          "peardrops",
          "pears",
          "pencil sharpening",
          "plimsols ",
          "popcorn",
          "porridge",
          "prunes dates",
          "rancid",
          "resinous",
          "roasted beans",
          "rotten eggs",
          "rubber tubing",
          "sawdust",
          "scented",
          "smoked foods barbeque",
          "spent fireworks",
          "stale tobacco",
          "sugar puff",
          "sultanas",
          "sweetcorn",
          "sweetcorn",
          "toasted oak",
          "tomato plants",
          "treacle",
          "tropical fruit",
          "vanilla pods",
          "violets",
          "wax crayons ",
          "wet cardboard/paper",
          "wet iron",
          "worn leather",
          "wort",
          "Artificial fruit flavourings",
          "Burnt",
          "Buttery ",
          "Cereal",
          "Cheesy",
          "Citrus",
          "Coconut",
          "Cooked vegetables ",
          "Decaying",
          "Dried fruit",
          "Dried spice",
          "Dry cereals",
          "Earthy",
          "Feinty",
          "Floral",
          "Fresh flowers",
          "Fresh fruit",
          "Fruity",
          "Green vegetables",
          "Green/grassy",
          "Herbal",
          "Honey",
          "Leathery",
          "Meaty ",
          "Medicinal",
          "Metallic",
          "Musty",
          "Nail varnish remover",
          "New wood",
          "Nuts",
          "Nutty",
          "Oils/fats",
          "Oily",
          "Okay",
          "Peaty",
          "Peppery",
          "Perfumed",
          "Rubbery",
          "Smoky",
          "Soapy",
          "Solvently",
          "Sour",
          "Spicy",
          "Stale",
          "Struck match ",
          "Sulphury",
          "Sweaty",
          "Sweet",
          "Toasted",
          "Tobacco",
          "Toffee",
          "Unperfumed soap",
          "Vanilla",
          "Vinegary",
          "Vomit",
          "Waxy",
          "Wet cereals",
          "Woody",
          "leafy"
         ],
         "name": "",
         "parents": [
          "Nuts",
          "Medicinal",
          "Fresh fruit",
          "Vomit",
          "Meaty ",
          "Peppery",
          "Cheesy",
          "Artificial fruit flavourings",
          "Smoky",
          "Toasted",
          "Toffee",
          "Cooked vegetables ",
          "Waxy",
          "Cereal",
          "Dried spice",
          "Musty",
          "Earthy",
          "Coconut",
          "Tobacco",
          "Feinty",
          "Floral",
          "Perfumed",
          "Herbal",
          "Fruity",
          "Struck match ",
          "leafy",
          "Green vegetables",
          "Green/grassy",
          "Honey",
          "Leathery",
          "Citrus",
          "Oils/fats",
          "Vinegary",
          "Dry cereals",
          "Wet cereals",
          "Buttery ",
          "Nail varnish remover",
          "Nutty",
          "Oily",
          "Peaty",
          "Dried fruit",
          "Fresh flowers",
          "Decaying",
          "Metallic",
          "Soapy",
          "Solvently",
          "Sour",
          "Spicy",
          "Stale",
          "Sulphury",
          "Sweaty",
          "Sweet",
          "Medicinal",
          "Burnt",
          "Rubbery",
          "Unperfumed soap",
          "Woody",
          "Vinegary",
          "Burnt",
          "Fresh fruit",
          "Waxy",
          "Cooked vegetables ",
          "Decaying",
          "Smoky",
          "Meaty ",
          "Nuts",
          "Toffee",
          "Cooked vegetables ",
          "Artificial fruit flavourings",
          "Medicinal",
          "Burnt",
          "Oils/fats",
          "Dried spice",
          "Toasted",
          "Coconut",
          "Toasted",
          "Metallic",
          "Buttery ",
          "Green vegetables",
          "Vanilla",
          "Buttery ",
          "Musty",
          "Dry cereals",
          "Wet cereals",
          "Herbal",
          "Oils/fats",
          "Artificial fruit flavourings",
          "Medicinal",
          "Green vegetables",
          "leafy",
          "Dried fruit",
          "Toffee",
          "Dried spice",
          "Coconut",
          "Citrus",
          "Oils/fats",
          "Nuts",
          "Vanilla",
          "Fresh flowers",
          "Leathery",
          "Green vegetables",
          "Citrus",
          "Wet cereals",
          "Meaty ",
          "Cheesy",
          "Oils/fats",
          "Earthy",
          "Dried spice",
          "Citrus",
          "Cheesy",
          "Nuts",
          "Artificial fruit flavourings",
          "Fresh fruit",
          "New wood",
          "Rubbery",
          "Dry cereals",
          "Wet cereals",
          "Dried fruit",
          "Vomit",
          "New wood",
          "Toasted",
          "Decaying",
          "Rubbery",
          "New wood",
          "Perfumed",
          "Smoky",
          "Struck match ",
          "Tobacco",
          "Honey",
          "Dried fruit",
          "Cooked vegetables ",
          "Decaying",
          "Okay",
          "leafy",
          "Toffee",
          "Fresh fruit",
          "Vanilla",
          "Fresh flowers",
          "Waxy",
          "Musty",
          "Metallic",
          "Leathery",
          "Wet cereals",
          "",
          "",
          "",
          "",
          "",
          "",
          "",
          "",
          "",
          "",
          "",
          "",
          "",
          "",
          "",
          "",
          "",
          "",
          "",
          "",
          "",
          "",
          "",
          "",
          "",
          "",
          "",
          "",
          "",
          "",
          "",
          "",
          "",
          "",
          "",
          "",
          "",
          "",
          "",
          "",
          "",
          "",
          "",
          "",
          "",
          "",
          "",
          "",
          "",
          "",
          "",
          "",
          "",
          "",
          "",
          "",
          "",
          "",
          ""
         ],
         "type": "sunburst",
         "values": [
          1,
          1,
          1,
          1,
          1,
          1,
          1,
          1,
          1,
          1,
          1,
          1,
          1,
          1,
          1,
          1,
          1,
          1,
          1,
          1,
          1,
          1,
          1,
          1,
          1,
          1,
          1,
          1,
          1,
          1,
          1,
          1,
          1,
          1,
          1,
          1,
          1,
          1,
          1,
          1,
          1,
          1,
          1,
          1,
          1,
          1,
          1,
          1,
          1,
          1,
          1,
          1,
          1,
          1,
          1,
          1,
          1,
          1,
          1,
          1,
          1,
          1,
          1,
          1,
          1,
          1,
          1,
          1,
          1,
          1,
          1,
          1,
          1,
          1,
          1,
          1,
          1,
          1,
          1,
          1,
          1,
          1,
          1,
          1,
          1,
          1,
          1,
          1,
          1,
          1,
          1,
          1,
          1,
          1,
          1,
          1,
          1,
          1,
          1,
          1,
          1,
          1,
          1,
          1,
          1,
          1,
          1,
          1,
          1,
          1,
          1,
          1,
          1,
          1,
          1,
          1,
          1,
          1,
          1,
          1,
          1,
          1,
          1,
          1,
          1,
          1,
          1,
          1,
          1,
          1,
          1,
          1,
          1,
          1,
          1,
          1,
          1,
          1,
          1,
          1,
          1,
          1,
          1,
          4,
          3,
          3,
          1,
          3,
          4,
          3,
          4,
          4,
          4,
          4,
          3,
          2,
          1,
          1,
          3,
          4,
          1,
          4,
          1,
          2,
          2,
          3,
          3,
          4,
          3,
          3,
          1,
          3,
          4,
          1,
          5,
          1,
          1,
          1,
          1,
          2,
          3,
          3,
          1,
          1,
          1,
          1,
          1,
          2,
          1,
          1,
          1,
          4,
          2,
          4,
          1,
          3,
          2,
          2,
          3,
          5,
          1,
          3
         ]
        }
       ],
       "layout": {
        "legend": {
         "tracegroupgap": 0
        },
        "template": {
         "data": {
          "bar": [
           {
            "error_x": {
             "color": "#2a3f5f"
            },
            "error_y": {
             "color": "#2a3f5f"
            },
            "marker": {
             "line": {
              "color": "#E5ECF6",
              "width": 0.5
             },
             "pattern": {
              "fillmode": "overlay",
              "size": 10,
              "solidity": 0.2
             }
            },
            "type": "bar"
           }
          ],
          "barpolar": [
           {
            "marker": {
             "line": {
              "color": "#E5ECF6",
              "width": 0.5
             },
             "pattern": {
              "fillmode": "overlay",
              "size": 10,
              "solidity": 0.2
             }
            },
            "type": "barpolar"
           }
          ],
          "carpet": [
           {
            "aaxis": {
             "endlinecolor": "#2a3f5f",
             "gridcolor": "white",
             "linecolor": "white",
             "minorgridcolor": "white",
             "startlinecolor": "#2a3f5f"
            },
            "baxis": {
             "endlinecolor": "#2a3f5f",
             "gridcolor": "white",
             "linecolor": "white",
             "minorgridcolor": "white",
             "startlinecolor": "#2a3f5f"
            },
            "type": "carpet"
           }
          ],
          "choropleth": [
           {
            "colorbar": {
             "outlinewidth": 0,
             "ticks": ""
            },
            "type": "choropleth"
           }
          ],
          "contour": [
           {
            "colorbar": {
             "outlinewidth": 0,
             "ticks": ""
            },
            "colorscale": [
             [
              0,
              "#0d0887"
             ],
             [
              0.1111111111111111,
              "#46039f"
             ],
             [
              0.2222222222222222,
              "#7201a8"
             ],
             [
              0.3333333333333333,
              "#9c179e"
             ],
             [
              0.4444444444444444,
              "#bd3786"
             ],
             [
              0.5555555555555556,
              "#d8576b"
             ],
             [
              0.6666666666666666,
              "#ed7953"
             ],
             [
              0.7777777777777778,
              "#fb9f3a"
             ],
             [
              0.8888888888888888,
              "#fdca26"
             ],
             [
              1,
              "#f0f921"
             ]
            ],
            "type": "contour"
           }
          ],
          "contourcarpet": [
           {
            "colorbar": {
             "outlinewidth": 0,
             "ticks": ""
            },
            "type": "contourcarpet"
           }
          ],
          "heatmap": [
           {
            "colorbar": {
             "outlinewidth": 0,
             "ticks": ""
            },
            "colorscale": [
             [
              0,
              "#0d0887"
             ],
             [
              0.1111111111111111,
              "#46039f"
             ],
             [
              0.2222222222222222,
              "#7201a8"
             ],
             [
              0.3333333333333333,
              "#9c179e"
             ],
             [
              0.4444444444444444,
              "#bd3786"
             ],
             [
              0.5555555555555556,
              "#d8576b"
             ],
             [
              0.6666666666666666,
              "#ed7953"
             ],
             [
              0.7777777777777778,
              "#fb9f3a"
             ],
             [
              0.8888888888888888,
              "#fdca26"
             ],
             [
              1,
              "#f0f921"
             ]
            ],
            "type": "heatmap"
           }
          ],
          "heatmapgl": [
           {
            "colorbar": {
             "outlinewidth": 0,
             "ticks": ""
            },
            "colorscale": [
             [
              0,
              "#0d0887"
             ],
             [
              0.1111111111111111,
              "#46039f"
             ],
             [
              0.2222222222222222,
              "#7201a8"
             ],
             [
              0.3333333333333333,
              "#9c179e"
             ],
             [
              0.4444444444444444,
              "#bd3786"
             ],
             [
              0.5555555555555556,
              "#d8576b"
             ],
             [
              0.6666666666666666,
              "#ed7953"
             ],
             [
              0.7777777777777778,
              "#fb9f3a"
             ],
             [
              0.8888888888888888,
              "#fdca26"
             ],
             [
              1,
              "#f0f921"
             ]
            ],
            "type": "heatmapgl"
           }
          ],
          "histogram": [
           {
            "marker": {
             "pattern": {
              "fillmode": "overlay",
              "size": 10,
              "solidity": 0.2
             }
            },
            "type": "histogram"
           }
          ],
          "histogram2d": [
           {
            "colorbar": {
             "outlinewidth": 0,
             "ticks": ""
            },
            "colorscale": [
             [
              0,
              "#0d0887"
             ],
             [
              0.1111111111111111,
              "#46039f"
             ],
             [
              0.2222222222222222,
              "#7201a8"
             ],
             [
              0.3333333333333333,
              "#9c179e"
             ],
             [
              0.4444444444444444,
              "#bd3786"
             ],
             [
              0.5555555555555556,
              "#d8576b"
             ],
             [
              0.6666666666666666,
              "#ed7953"
             ],
             [
              0.7777777777777778,
              "#fb9f3a"
             ],
             [
              0.8888888888888888,
              "#fdca26"
             ],
             [
              1,
              "#f0f921"
             ]
            ],
            "type": "histogram2d"
           }
          ],
          "histogram2dcontour": [
           {
            "colorbar": {
             "outlinewidth": 0,
             "ticks": ""
            },
            "colorscale": [
             [
              0,
              "#0d0887"
             ],
             [
              0.1111111111111111,
              "#46039f"
             ],
             [
              0.2222222222222222,
              "#7201a8"
             ],
             [
              0.3333333333333333,
              "#9c179e"
             ],
             [
              0.4444444444444444,
              "#bd3786"
             ],
             [
              0.5555555555555556,
              "#d8576b"
             ],
             [
              0.6666666666666666,
              "#ed7953"
             ],
             [
              0.7777777777777778,
              "#fb9f3a"
             ],
             [
              0.8888888888888888,
              "#fdca26"
             ],
             [
              1,
              "#f0f921"
             ]
            ],
            "type": "histogram2dcontour"
           }
          ],
          "mesh3d": [
           {
            "colorbar": {
             "outlinewidth": 0,
             "ticks": ""
            },
            "type": "mesh3d"
           }
          ],
          "parcoords": [
           {
            "line": {
             "colorbar": {
              "outlinewidth": 0,
              "ticks": ""
             }
            },
            "type": "parcoords"
           }
          ],
          "pie": [
           {
            "automargin": true,
            "type": "pie"
           }
          ],
          "scatter": [
           {
            "fillpattern": {
             "fillmode": "overlay",
             "size": 10,
             "solidity": 0.2
            },
            "type": "scatter"
           }
          ],
          "scatter3d": [
           {
            "line": {
             "colorbar": {
              "outlinewidth": 0,
              "ticks": ""
             }
            },
            "marker": {
             "colorbar": {
              "outlinewidth": 0,
              "ticks": ""
             }
            },
            "type": "scatter3d"
           }
          ],
          "scattercarpet": [
           {
            "marker": {
             "colorbar": {
              "outlinewidth": 0,
              "ticks": ""
             }
            },
            "type": "scattercarpet"
           }
          ],
          "scattergeo": [
           {
            "marker": {
             "colorbar": {
              "outlinewidth": 0,
              "ticks": ""
             }
            },
            "type": "scattergeo"
           }
          ],
          "scattergl": [
           {
            "marker": {
             "colorbar": {
              "outlinewidth": 0,
              "ticks": ""
             }
            },
            "type": "scattergl"
           }
          ],
          "scattermapbox": [
           {
            "marker": {
             "colorbar": {
              "outlinewidth": 0,
              "ticks": ""
             }
            },
            "type": "scattermapbox"
           }
          ],
          "scatterpolar": [
           {
            "marker": {
             "colorbar": {
              "outlinewidth": 0,
              "ticks": ""
             }
            },
            "type": "scatterpolar"
           }
          ],
          "scatterpolargl": [
           {
            "marker": {
             "colorbar": {
              "outlinewidth": 0,
              "ticks": ""
             }
            },
            "type": "scatterpolargl"
           }
          ],
          "scatterternary": [
           {
            "marker": {
             "colorbar": {
              "outlinewidth": 0,
              "ticks": ""
             }
            },
            "type": "scatterternary"
           }
          ],
          "surface": [
           {
            "colorbar": {
             "outlinewidth": 0,
             "ticks": ""
            },
            "colorscale": [
             [
              0,
              "#0d0887"
             ],
             [
              0.1111111111111111,
              "#46039f"
             ],
             [
              0.2222222222222222,
              "#7201a8"
             ],
             [
              0.3333333333333333,
              "#9c179e"
             ],
             [
              0.4444444444444444,
              "#bd3786"
             ],
             [
              0.5555555555555556,
              "#d8576b"
             ],
             [
              0.6666666666666666,
              "#ed7953"
             ],
             [
              0.7777777777777778,
              "#fb9f3a"
             ],
             [
              0.8888888888888888,
              "#fdca26"
             ],
             [
              1,
              "#f0f921"
             ]
            ],
            "type": "surface"
           }
          ],
          "table": [
           {
            "cells": {
             "fill": {
              "color": "#EBF0F8"
             },
             "line": {
              "color": "white"
             }
            },
            "header": {
             "fill": {
              "color": "#C8D4E3"
             },
             "line": {
              "color": "white"
             }
            },
            "type": "table"
           }
          ]
         },
         "layout": {
          "annotationdefaults": {
           "arrowcolor": "#2a3f5f",
           "arrowhead": 0,
           "arrowwidth": 1
          },
          "autotypenumbers": "strict",
          "coloraxis": {
           "colorbar": {
            "outlinewidth": 0,
            "ticks": ""
           }
          },
          "colorscale": {
           "diverging": [
            [
             0,
             "#8e0152"
            ],
            [
             0.1,
             "#c51b7d"
            ],
            [
             0.2,
             "#de77ae"
            ],
            [
             0.3,
             "#f1b6da"
            ],
            [
             0.4,
             "#fde0ef"
            ],
            [
             0.5,
             "#f7f7f7"
            ],
            [
             0.6,
             "#e6f5d0"
            ],
            [
             0.7,
             "#b8e186"
            ],
            [
             0.8,
             "#7fbc41"
            ],
            [
             0.9,
             "#4d9221"
            ],
            [
             1,
             "#276419"
            ]
           ],
           "sequential": [
            [
             0,
             "#0d0887"
            ],
            [
             0.1111111111111111,
             "#46039f"
            ],
            [
             0.2222222222222222,
             "#7201a8"
            ],
            [
             0.3333333333333333,
             "#9c179e"
            ],
            [
             0.4444444444444444,
             "#bd3786"
            ],
            [
             0.5555555555555556,
             "#d8576b"
            ],
            [
             0.6666666666666666,
             "#ed7953"
            ],
            [
             0.7777777777777778,
             "#fb9f3a"
            ],
            [
             0.8888888888888888,
             "#fdca26"
            ],
            [
             1,
             "#f0f921"
            ]
           ],
           "sequentialminus": [
            [
             0,
             "#0d0887"
            ],
            [
             0.1111111111111111,
             "#46039f"
            ],
            [
             0.2222222222222222,
             "#7201a8"
            ],
            [
             0.3333333333333333,
             "#9c179e"
            ],
            [
             0.4444444444444444,
             "#bd3786"
            ],
            [
             0.5555555555555556,
             "#d8576b"
            ],
            [
             0.6666666666666666,
             "#ed7953"
            ],
            [
             0.7777777777777778,
             "#fb9f3a"
            ],
            [
             0.8888888888888888,
             "#fdca26"
            ],
            [
             1,
             "#f0f921"
            ]
           ]
          },
          "colorway": [
           "#636efa",
           "#EF553B",
           "#00cc96",
           "#ab63fa",
           "#FFA15A",
           "#19d3f3",
           "#FF6692",
           "#B6E880",
           "#FF97FF",
           "#FECB52"
          ],
          "font": {
           "color": "#2a3f5f"
          },
          "geo": {
           "bgcolor": "white",
           "lakecolor": "white",
           "landcolor": "#E5ECF6",
           "showlakes": true,
           "showland": true,
           "subunitcolor": "white"
          },
          "hoverlabel": {
           "align": "left"
          },
          "hovermode": "closest",
          "mapbox": {
           "style": "light"
          },
          "paper_bgcolor": "white",
          "plot_bgcolor": "#E5ECF6",
          "polar": {
           "angularaxis": {
            "gridcolor": "white",
            "linecolor": "white",
            "ticks": ""
           },
           "bgcolor": "#E5ECF6",
           "radialaxis": {
            "gridcolor": "white",
            "linecolor": "white",
            "ticks": ""
           }
          },
          "scene": {
           "xaxis": {
            "backgroundcolor": "#E5ECF6",
            "gridcolor": "white",
            "gridwidth": 2,
            "linecolor": "white",
            "showbackground": true,
            "ticks": "",
            "zerolinecolor": "white"
           },
           "yaxis": {
            "backgroundcolor": "#E5ECF6",
            "gridcolor": "white",
            "gridwidth": 2,
            "linecolor": "white",
            "showbackground": true,
            "ticks": "",
            "zerolinecolor": "white"
           },
           "zaxis": {
            "backgroundcolor": "#E5ECF6",
            "gridcolor": "white",
            "gridwidth": 2,
            "linecolor": "white",
            "showbackground": true,
            "ticks": "",
            "zerolinecolor": "white"
           }
          },
          "shapedefaults": {
           "line": {
            "color": "#2a3f5f"
           }
          },
          "ternary": {
           "aaxis": {
            "gridcolor": "white",
            "linecolor": "white",
            "ticks": ""
           },
           "baxis": {
            "gridcolor": "white",
            "linecolor": "white",
            "ticks": ""
           },
           "bgcolor": "#E5ECF6",
           "caxis": {
            "gridcolor": "white",
            "linecolor": "white",
            "ticks": ""
           }
          },
          "title": {
           "x": 0.05
          },
          "xaxis": {
           "automargin": true,
           "gridcolor": "white",
           "linecolor": "white",
           "ticks": "",
           "title": {
            "standoff": 15
           },
           "zerolinecolor": "white",
           "zerolinewidth": 2
          },
          "yaxis": {
           "automargin": true,
           "gridcolor": "white",
           "linecolor": "white",
           "ticks": "",
           "title": {
            "standoff": 15
           },
           "zerolinecolor": "white",
           "zerolinewidth": 2
          }
         }
        },
        "title": {
         "text": "OD x OQ"
        }
       }
      }
     },
     "metadata": {},
     "output_type": "display_data"
    },
    {
     "data": {
      "application/vnd.plotly.v1+json": {
       "config": {
        "plotlyServerURL": "https://plot.ly"
       },
       "data": [
        {
         "branchvalues": "total",
         "domain": {
          "x": [
           0,
           1
          ],
          "y": [
           0,
           1
          ]
         },
         "hovertemplate": "labels=%{label}<br>match=%{value}<br>parent=%{parent}<br>id=%{id}<extra></extra>",
         "ids": [
          "Fruity/Artificial fruit flavourings",
          "Peaty/Burnt",
          "Oily/Buttery ",
          "Cereal/Cereal",
          "Sour/Cheesy",
          "Fruity/Citrus",
          "Nutty/Coconut",
          "Sulphury/Cooked vegetables ",
          "Sulphury/Decaying",
          "Fruity/Dried fruit",
          "Spicy/Dried spice",
          "Cereal/Dry cereals",
          "Stale/Earthy",
          "Feinty/Feinty",
          "Floral/Floral",
          "Floral/Fresh flowers",
          "Fruity/Fresh fruit",
          "Fruity/Fruity",
          "Green/grassy/Green vegetables",
          "Green/grassy/Green/grassy",
          "Green/grassy/Herbal",
          "Sweet/Honey",
          "Feinty/Leathery",
          "Sulphury/Meaty ",
          "Peaty/Medicinal",
          "Stale/Metallic",
          "Stale/Musty",
          "Solvently/Nail varnish remover",
          "Woody/New wood",
          "Nutty/Nuts",
          "Nutty/Nutty",
          "Oily/Oils/fats",
          "Oily/Oily",
          "Woody/Okay",
          "Peaty/Peaty",
          "Spicy/Peppery",
          "Floral/Perfumed",
          "Sulphury/Rubbery",
          "Peaty/Smoky",
          "Soapy/Soapy",
          "Solvently/Solvently",
          "Sour/Sour",
          "Spicy/Spicy",
          "Stale/Stale",
          "Sulphury/Struck match ",
          "Sulphury/Sulphury",
          "Feinty/Sweaty",
          "Sweet/Sweet",
          "Nutty/Toasted",
          "Feinty/Tobacco",
          "Sweet/Toffee",
          "Soapy/Unperfumed soap",
          "Sweet/Vanilla",
          "Sour/Vinegary",
          "Sour/Vomit",
          "Oily/Waxy",
          "Cereal/Wet cereals",
          "Woody/Woody",
          "Green/grassy/leafy",
          "Cereal",
          "Feinty",
          "Floral",
          "Fruity",
          "Green/grassy",
          "Nutty",
          "Oily",
          "Peaty",
          "Soapy",
          "Solvently",
          "Sour",
          "Spicy",
          "Stale",
          "Sulphury",
          "Sweet",
          "Woody"
         ],
         "labels": [
          "Artificial fruit flavourings",
          "Burnt",
          "Buttery ",
          "Cereal",
          "Cheesy",
          "Citrus",
          "Coconut",
          "Cooked vegetables ",
          "Decaying",
          "Dried fruit",
          "Dried spice",
          "Dry cereals",
          "Earthy",
          "Feinty",
          "Floral",
          "Fresh flowers",
          "Fresh fruit",
          "Fruity",
          "Green vegetables",
          "Green/grassy",
          "Herbal",
          "Honey",
          "Leathery",
          "Meaty ",
          "Medicinal",
          "Metallic",
          "Musty",
          "Nail varnish remover",
          "New wood",
          "Nuts",
          "Nutty",
          "Oils/fats",
          "Oily",
          "Okay",
          "Peaty",
          "Peppery",
          "Perfumed",
          "Rubbery",
          "Smoky",
          "Soapy",
          "Solvently",
          "Sour",
          "Spicy",
          "Stale",
          "Struck match ",
          "Sulphury",
          "Sweaty",
          "Sweet",
          "Toasted",
          "Tobacco",
          "Toffee",
          "Unperfumed soap",
          "Vanilla",
          "Vinegary",
          "Vomit",
          "Waxy",
          "Wet cereals",
          "Woody",
          "leafy",
          "Cereal",
          "Feinty",
          "Floral",
          "Fruity",
          "Green/grassy",
          "Nutty",
          "Oily",
          "Peaty",
          "Soapy",
          "Solvently",
          "Sour",
          "Spicy",
          "Stale",
          "Sulphury",
          "Sweet",
          "Woody"
         ],
         "name": "",
         "parents": [
          "Fruity",
          "Peaty",
          "Oily",
          "Cereal",
          "Sour",
          "Fruity",
          "Nutty",
          "Sulphury",
          "Sulphury",
          "Fruity",
          "Spicy",
          "Cereal",
          "Stale",
          "Feinty",
          "Floral",
          "Floral",
          "Fruity",
          "Fruity",
          "Green/grassy",
          "Green/grassy",
          "Green/grassy",
          "Sweet",
          "Feinty",
          "Sulphury",
          "Peaty",
          "Stale",
          "Stale",
          "Solvently",
          "Woody",
          "Nutty",
          "Nutty",
          "Oily",
          "Oily",
          "Woody",
          "Peaty",
          "Spicy",
          "Floral",
          "Sulphury",
          "Peaty",
          "Soapy",
          "Solvently",
          "Sour",
          "Spicy",
          "Stale",
          "Sulphury",
          "Sulphury",
          "Feinty",
          "Sweet",
          "Nutty",
          "Feinty",
          "Sweet",
          "Soapy",
          "Sweet",
          "Sour",
          "Sour",
          "Oily",
          "Cereal",
          "Woody",
          "Green/grassy",
          "",
          "",
          "",
          "",
          "",
          "",
          "",
          "",
          "",
          "",
          "",
          "",
          "",
          "",
          "",
          ""
         ],
         "type": "sunburst",
         "values": [
          4,
          3,
          3,
          1,
          3,
          4,
          3,
          4,
          4,
          4,
          4,
          3,
          2,
          1,
          1,
          3,
          4,
          1,
          4,
          1,
          2,
          2,
          3,
          3,
          4,
          3,
          3,
          1,
          3,
          4,
          1,
          5,
          1,
          1,
          1,
          1,
          2,
          3,
          3,
          1,
          1,
          1,
          1,
          1,
          2,
          1,
          1,
          1,
          4,
          2,
          4,
          1,
          3,
          2,
          2,
          3,
          5,
          1,
          3,
          9,
          7,
          6,
          17,
          10,
          12,
          12,
          11,
          2,
          2,
          8,
          6,
          9,
          17,
          10,
          5
         ]
        }
       ],
       "layout": {
        "legend": {
         "tracegroupgap": 0
        },
        "template": {
         "data": {
          "bar": [
           {
            "error_x": {
             "color": "#2a3f5f"
            },
            "error_y": {
             "color": "#2a3f5f"
            },
            "marker": {
             "line": {
              "color": "#E5ECF6",
              "width": 0.5
             },
             "pattern": {
              "fillmode": "overlay",
              "size": 10,
              "solidity": 0.2
             }
            },
            "type": "bar"
           }
          ],
          "barpolar": [
           {
            "marker": {
             "line": {
              "color": "#E5ECF6",
              "width": 0.5
             },
             "pattern": {
              "fillmode": "overlay",
              "size": 10,
              "solidity": 0.2
             }
            },
            "type": "barpolar"
           }
          ],
          "carpet": [
           {
            "aaxis": {
             "endlinecolor": "#2a3f5f",
             "gridcolor": "white",
             "linecolor": "white",
             "minorgridcolor": "white",
             "startlinecolor": "#2a3f5f"
            },
            "baxis": {
             "endlinecolor": "#2a3f5f",
             "gridcolor": "white",
             "linecolor": "white",
             "minorgridcolor": "white",
             "startlinecolor": "#2a3f5f"
            },
            "type": "carpet"
           }
          ],
          "choropleth": [
           {
            "colorbar": {
             "outlinewidth": 0,
             "ticks": ""
            },
            "type": "choropleth"
           }
          ],
          "contour": [
           {
            "colorbar": {
             "outlinewidth": 0,
             "ticks": ""
            },
            "colorscale": [
             [
              0,
              "#0d0887"
             ],
             [
              0.1111111111111111,
              "#46039f"
             ],
             [
              0.2222222222222222,
              "#7201a8"
             ],
             [
              0.3333333333333333,
              "#9c179e"
             ],
             [
              0.4444444444444444,
              "#bd3786"
             ],
             [
              0.5555555555555556,
              "#d8576b"
             ],
             [
              0.6666666666666666,
              "#ed7953"
             ],
             [
              0.7777777777777778,
              "#fb9f3a"
             ],
             [
              0.8888888888888888,
              "#fdca26"
             ],
             [
              1,
              "#f0f921"
             ]
            ],
            "type": "contour"
           }
          ],
          "contourcarpet": [
           {
            "colorbar": {
             "outlinewidth": 0,
             "ticks": ""
            },
            "type": "contourcarpet"
           }
          ],
          "heatmap": [
           {
            "colorbar": {
             "outlinewidth": 0,
             "ticks": ""
            },
            "colorscale": [
             [
              0,
              "#0d0887"
             ],
             [
              0.1111111111111111,
              "#46039f"
             ],
             [
              0.2222222222222222,
              "#7201a8"
             ],
             [
              0.3333333333333333,
              "#9c179e"
             ],
             [
              0.4444444444444444,
              "#bd3786"
             ],
             [
              0.5555555555555556,
              "#d8576b"
             ],
             [
              0.6666666666666666,
              "#ed7953"
             ],
             [
              0.7777777777777778,
              "#fb9f3a"
             ],
             [
              0.8888888888888888,
              "#fdca26"
             ],
             [
              1,
              "#f0f921"
             ]
            ],
            "type": "heatmap"
           }
          ],
          "heatmapgl": [
           {
            "colorbar": {
             "outlinewidth": 0,
             "ticks": ""
            },
            "colorscale": [
             [
              0,
              "#0d0887"
             ],
             [
              0.1111111111111111,
              "#46039f"
             ],
             [
              0.2222222222222222,
              "#7201a8"
             ],
             [
              0.3333333333333333,
              "#9c179e"
             ],
             [
              0.4444444444444444,
              "#bd3786"
             ],
             [
              0.5555555555555556,
              "#d8576b"
             ],
             [
              0.6666666666666666,
              "#ed7953"
             ],
             [
              0.7777777777777778,
              "#fb9f3a"
             ],
             [
              0.8888888888888888,
              "#fdca26"
             ],
             [
              1,
              "#f0f921"
             ]
            ],
            "type": "heatmapgl"
           }
          ],
          "histogram": [
           {
            "marker": {
             "pattern": {
              "fillmode": "overlay",
              "size": 10,
              "solidity": 0.2
             }
            },
            "type": "histogram"
           }
          ],
          "histogram2d": [
           {
            "colorbar": {
             "outlinewidth": 0,
             "ticks": ""
            },
            "colorscale": [
             [
              0,
              "#0d0887"
             ],
             [
              0.1111111111111111,
              "#46039f"
             ],
             [
              0.2222222222222222,
              "#7201a8"
             ],
             [
              0.3333333333333333,
              "#9c179e"
             ],
             [
              0.4444444444444444,
              "#bd3786"
             ],
             [
              0.5555555555555556,
              "#d8576b"
             ],
             [
              0.6666666666666666,
              "#ed7953"
             ],
             [
              0.7777777777777778,
              "#fb9f3a"
             ],
             [
              0.8888888888888888,
              "#fdca26"
             ],
             [
              1,
              "#f0f921"
             ]
            ],
            "type": "histogram2d"
           }
          ],
          "histogram2dcontour": [
           {
            "colorbar": {
             "outlinewidth": 0,
             "ticks": ""
            },
            "colorscale": [
             [
              0,
              "#0d0887"
             ],
             [
              0.1111111111111111,
              "#46039f"
             ],
             [
              0.2222222222222222,
              "#7201a8"
             ],
             [
              0.3333333333333333,
              "#9c179e"
             ],
             [
              0.4444444444444444,
              "#bd3786"
             ],
             [
              0.5555555555555556,
              "#d8576b"
             ],
             [
              0.6666666666666666,
              "#ed7953"
             ],
             [
              0.7777777777777778,
              "#fb9f3a"
             ],
             [
              0.8888888888888888,
              "#fdca26"
             ],
             [
              1,
              "#f0f921"
             ]
            ],
            "type": "histogram2dcontour"
           }
          ],
          "mesh3d": [
           {
            "colorbar": {
             "outlinewidth": 0,
             "ticks": ""
            },
            "type": "mesh3d"
           }
          ],
          "parcoords": [
           {
            "line": {
             "colorbar": {
              "outlinewidth": 0,
              "ticks": ""
             }
            },
            "type": "parcoords"
           }
          ],
          "pie": [
           {
            "automargin": true,
            "type": "pie"
           }
          ],
          "scatter": [
           {
            "fillpattern": {
             "fillmode": "overlay",
             "size": 10,
             "solidity": 0.2
            },
            "type": "scatter"
           }
          ],
          "scatter3d": [
           {
            "line": {
             "colorbar": {
              "outlinewidth": 0,
              "ticks": ""
             }
            },
            "marker": {
             "colorbar": {
              "outlinewidth": 0,
              "ticks": ""
             }
            },
            "type": "scatter3d"
           }
          ],
          "scattercarpet": [
           {
            "marker": {
             "colorbar": {
              "outlinewidth": 0,
              "ticks": ""
             }
            },
            "type": "scattercarpet"
           }
          ],
          "scattergeo": [
           {
            "marker": {
             "colorbar": {
              "outlinewidth": 0,
              "ticks": ""
             }
            },
            "type": "scattergeo"
           }
          ],
          "scattergl": [
           {
            "marker": {
             "colorbar": {
              "outlinewidth": 0,
              "ticks": ""
             }
            },
            "type": "scattergl"
           }
          ],
          "scattermapbox": [
           {
            "marker": {
             "colorbar": {
              "outlinewidth": 0,
              "ticks": ""
             }
            },
            "type": "scattermapbox"
           }
          ],
          "scatterpolar": [
           {
            "marker": {
             "colorbar": {
              "outlinewidth": 0,
              "ticks": ""
             }
            },
            "type": "scatterpolar"
           }
          ],
          "scatterpolargl": [
           {
            "marker": {
             "colorbar": {
              "outlinewidth": 0,
              "ticks": ""
             }
            },
            "type": "scatterpolargl"
           }
          ],
          "scatterternary": [
           {
            "marker": {
             "colorbar": {
              "outlinewidth": 0,
              "ticks": ""
             }
            },
            "type": "scatterternary"
           }
          ],
          "surface": [
           {
            "colorbar": {
             "outlinewidth": 0,
             "ticks": ""
            },
            "colorscale": [
             [
              0,
              "#0d0887"
             ],
             [
              0.1111111111111111,
              "#46039f"
             ],
             [
              0.2222222222222222,
              "#7201a8"
             ],
             [
              0.3333333333333333,
              "#9c179e"
             ],
             [
              0.4444444444444444,
              "#bd3786"
             ],
             [
              0.5555555555555556,
              "#d8576b"
             ],
             [
              0.6666666666666666,
              "#ed7953"
             ],
             [
              0.7777777777777778,
              "#fb9f3a"
             ],
             [
              0.8888888888888888,
              "#fdca26"
             ],
             [
              1,
              "#f0f921"
             ]
            ],
            "type": "surface"
           }
          ],
          "table": [
           {
            "cells": {
             "fill": {
              "color": "#EBF0F8"
             },
             "line": {
              "color": "white"
             }
            },
            "header": {
             "fill": {
              "color": "#C8D4E3"
             },
             "line": {
              "color": "white"
             }
            },
            "type": "table"
           }
          ]
         },
         "layout": {
          "annotationdefaults": {
           "arrowcolor": "#2a3f5f",
           "arrowhead": 0,
           "arrowwidth": 1
          },
          "autotypenumbers": "strict",
          "coloraxis": {
           "colorbar": {
            "outlinewidth": 0,
            "ticks": ""
           }
          },
          "colorscale": {
           "diverging": [
            [
             0,
             "#8e0152"
            ],
            [
             0.1,
             "#c51b7d"
            ],
            [
             0.2,
             "#de77ae"
            ],
            [
             0.3,
             "#f1b6da"
            ],
            [
             0.4,
             "#fde0ef"
            ],
            [
             0.5,
             "#f7f7f7"
            ],
            [
             0.6,
             "#e6f5d0"
            ],
            [
             0.7,
             "#b8e186"
            ],
            [
             0.8,
             "#7fbc41"
            ],
            [
             0.9,
             "#4d9221"
            ],
            [
             1,
             "#276419"
            ]
           ],
           "sequential": [
            [
             0,
             "#0d0887"
            ],
            [
             0.1111111111111111,
             "#46039f"
            ],
            [
             0.2222222222222222,
             "#7201a8"
            ],
            [
             0.3333333333333333,
             "#9c179e"
            ],
            [
             0.4444444444444444,
             "#bd3786"
            ],
            [
             0.5555555555555556,
             "#d8576b"
            ],
            [
             0.6666666666666666,
             "#ed7953"
            ],
            [
             0.7777777777777778,
             "#fb9f3a"
            ],
            [
             0.8888888888888888,
             "#fdca26"
            ],
            [
             1,
             "#f0f921"
            ]
           ],
           "sequentialminus": [
            [
             0,
             "#0d0887"
            ],
            [
             0.1111111111111111,
             "#46039f"
            ],
            [
             0.2222222222222222,
             "#7201a8"
            ],
            [
             0.3333333333333333,
             "#9c179e"
            ],
            [
             0.4444444444444444,
             "#bd3786"
            ],
            [
             0.5555555555555556,
             "#d8576b"
            ],
            [
             0.6666666666666666,
             "#ed7953"
            ],
            [
             0.7777777777777778,
             "#fb9f3a"
            ],
            [
             0.8888888888888888,
             "#fdca26"
            ],
            [
             1,
             "#f0f921"
            ]
           ]
          },
          "colorway": [
           "#636efa",
           "#EF553B",
           "#00cc96",
           "#ab63fa",
           "#FFA15A",
           "#19d3f3",
           "#FF6692",
           "#B6E880",
           "#FF97FF",
           "#FECB52"
          ],
          "font": {
           "color": "#2a3f5f"
          },
          "geo": {
           "bgcolor": "white",
           "lakecolor": "white",
           "landcolor": "#E5ECF6",
           "showlakes": true,
           "showland": true,
           "subunitcolor": "white"
          },
          "hoverlabel": {
           "align": "left"
          },
          "hovermode": "closest",
          "mapbox": {
           "style": "light"
          },
          "paper_bgcolor": "white",
          "plot_bgcolor": "#E5ECF6",
          "polar": {
           "angularaxis": {
            "gridcolor": "white",
            "linecolor": "white",
            "ticks": ""
           },
           "bgcolor": "#E5ECF6",
           "radialaxis": {
            "gridcolor": "white",
            "linecolor": "white",
            "ticks": ""
           }
          },
          "scene": {
           "xaxis": {
            "backgroundcolor": "#E5ECF6",
            "gridcolor": "white",
            "gridwidth": 2,
            "linecolor": "white",
            "showbackground": true,
            "ticks": "",
            "zerolinecolor": "white"
           },
           "yaxis": {
            "backgroundcolor": "#E5ECF6",
            "gridcolor": "white",
            "gridwidth": 2,
            "linecolor": "white",
            "showbackground": true,
            "ticks": "",
            "zerolinecolor": "white"
           },
           "zaxis": {
            "backgroundcolor": "#E5ECF6",
            "gridcolor": "white",
            "gridwidth": 2,
            "linecolor": "white",
            "showbackground": true,
            "ticks": "",
            "zerolinecolor": "white"
           }
          },
          "shapedefaults": {
           "line": {
            "color": "#2a3f5f"
           }
          },
          "ternary": {
           "aaxis": {
            "gridcolor": "white",
            "linecolor": "white",
            "ticks": ""
           },
           "baxis": {
            "gridcolor": "white",
            "linecolor": "white",
            "ticks": ""
           },
           "bgcolor": "#E5ECF6",
           "caxis": {
            "gridcolor": "white",
            "linecolor": "white",
            "ticks": ""
           }
          },
          "title": {
           "x": 0.05
          },
          "xaxis": {
           "automargin": true,
           "gridcolor": "white",
           "linecolor": "white",
           "ticks": "",
           "title": {
            "standoff": 15
           },
           "zerolinecolor": "white",
           "zerolinewidth": 2
          },
          "yaxis": {
           "automargin": true,
           "gridcolor": "white",
           "linecolor": "white",
           "ticks": "",
           "title": {
            "standoff": 15
           },
           "zerolinecolor": "white",
           "zerolinewidth": 2
          }
         }
        },
        "title": {
         "text": "OQ x OSA"
        }
       }
      }
     },
     "metadata": {},
     "output_type": "display_data"
    },
    {
     "data": {
      "application/vnd.plotly.v1+json": {
       "config": {
        "plotlyServerURL": "https://plot.ly"
       },
       "data": [
        {
         "branchvalues": "total",
         "domain": {
          "x": [
           0,
           1
          ],
          "y": [
           0,
           1
          ]
         },
         "hovertemplate": "labels=%{label}<br>match=%{value}<br>parent=%{parent}<br>id=%{id}<extra></extra>",
         "ids": [
          "Nutty/Nuts/Almond",
          "Peaty/Medicinal/Antiseptic",
          "Fruity/Fresh fruit/Apples",
          "Sour/Vomit/Baby sick",
          "Sulphury/Meaty /Beefy",
          "Spicy/Peppery/Black pepper",
          "Sour/Cheesy/Blue cheese",
          "Fruity/Artificial fruit flavourings/Bubblegum",
          "Peaty/Smoky/Burning wood",
          "Nutty/Toasted/Burnt toast",
          "Sweet/Toffee/Butterscotch",
          "Sulphury/Cooked vegetables /Cabbage",
          "Oily/Waxy/Candles",
          "Cereal/Cereal/Cereal",
          "Spicy/Dried spice/Clove",
          "Stale/Musty/Corked",
          "Stale/Earthy/Damp soil",
          "Nutty/Coconut/Dessicated coconut",
          "Feinty/Tobacco/Dried pipe tobacco",
          "Feinty/Feinty/Feinty",
          "Floral/Floral/Floral",
          "Floral/Perfumed/Fragrant",
          "Green/grassy/Herbal/Fresh herbs",
          "Fruity/Fruity/Fruity",
          "Sulphury/Struck match /Gassy",
          "Green/grassy/leafy/Geranium leaves",
          "Green/grassy/Green vegetables/Green peppers",
          "Green/grassy/Green/grassy/Green/grassy",
          "Sweet/Honey/Honeycomb",
          "Feinty/Leathery/Horse saddle",
          "Fruity/Citrus/Lemons",
          "Oily/Oils/fats/Linseed oil",
          "Sour/Vinegary/Malt vinegar",
          "Cereal/Dry cereals/Malted barley",
          "Cereal/Wet cereals/Mash",
          "Oily/Buttery /Melted butter",
          "Solvently/Nail varnish remover/Nail varnish remover",
          "Nutty/Nutty/Nutty",
          "Oily/Oily/Oily",
          "Peaty/Peaty/Peaty",
          "Fruity/Dried fruit/Raisins",
          "Floral/Fresh flowers/Roses",
          "Sulphury/Decaying/Rotten vegetables",
          "Stale/Metallic/Rust",
          "Soapy/Soapy/Soapy",
          "Solvently/Solvently/Solvently",
          "Sour/Sour/Sour",
          "Spicy/Spicy/Spicy",
          "Stale/Stale/Stale",
          "Sulphury/Sulphury/Sulphury",
          "Feinty/Sweaty/Sweaty",
          "Sweet/Sweet/Sweet",
          "Peaty/Medicinal/TCP",
          "Peaty/Burnt/Tar",
          "Sulphury/Rubbery/Tyres",
          "Soapy/Unperfumed soap/Unperfumed soap",
          "Woody/Woody/Woody",
          "Sour/Vinegary/acidic",
          "Peaty/Burnt/ash",
          "Fruity/Fresh fruit/bananas",
          "Oily/Waxy/beeswax",
          "Sulphury/Cooked vegetables /boiled potatoes",
          "Sulphury/Decaying/boiled potatoes ",
          "Peaty/Smoky/bonfire",
          "Sulphury/Meaty /bovril",
          "Nutty/Nuts/brazil nuts",
          "Sweet/Toffee/brown sugar",
          "Sulphury/Cooked vegetables /brussels sprouts",
          "Fruity/Artificial fruit flavourings/candy",
          "Peaty/Medicinal/carbolic soap",
          "Peaty/Burnt/char",
          "Oily/Oils/fats/chip fat",
          "Spicy/Dried spice/cinnamon",
          "Nutty/Toasted/cocoa",
          "Nutty/Coconut/coconut milk",
          "Nutty/Toasted/coffee",
          "Stale/Metallic/coins",
          "Oily/Buttery /cream",
          "Green/grassy/Green vegetables/cucumber",
          "Sweet/Vanilla/custard",
          "Oily/Buttery /dairy",
          "Stale/Musty/damp wood",
          "Cereal/Dry cereals/digestive biscuits",
          "Cereal/Wet cereals/draff",
          "Green/grassy/Herbal/dried herbs",
          "Oily/Oils/fats/engine oil",
          "Fruity/Artificial fruit flavourings/esters",
          "Peaty/Medicinal/first aid kit",
          "Green/grassy/Green vegetables/fresh peas",
          "Green/grassy/leafy/freshly cut grass",
          "Fruity/Dried fruit/fruit cake",
          "Sweet/Toffee/fudge",
          "Spicy/Dried spice/ginger",
          "Nutty/Coconut/gorse flowers",
          "Fruity/Citrus/grapefruit",
          "Oily/Oils/fats/greasy",
          "Nutty/Nuts/hazelnuts",
          "Sweet/Vanilla/ice ceam",
          "Floral/Fresh flowers/lavender",
          "Feinty/Leathery/leather upholstery",
          "Green/grassy/Green vegetables/lettuce",
          "Fruity/Citrus/limes",
          "Cereal/Wet cereals/malt extract",
          "Sulphury/Meaty /marmite",
          "Sour/Cheesy/mature cheddar",
          "Oily/Oils/fats/meat fat",
          "Stale/Earthy/mushrooms",
          "Spicy/Dried spice/nutmeg",
          "Fruity/Citrus/oranges",
          "Sour/Cheesy/parmesan",
          "Nutty/Nuts/peanuts",
          "Fruity/Artificial fruit flavourings/peardrops",
          "Fruity/Fresh fruit/pears",
          "Woody/New wood/pencil sharpening",
          "Sulphury/Rubbery/plimsols ",
          "Cereal/Dry cereals/popcorn",
          "Cereal/Wet cereals/porridge",
          "Fruity/Dried fruit/prunes dates",
          "Sour/Vomit/rancid",
          "Woody/New wood/resinous",
          "Nutty/Toasted/roasted beans",
          "Sulphury/Decaying/rotten eggs",
          "Sulphury/Rubbery/rubber tubing",
          "Woody/New wood/sawdust",
          "Floral/Perfumed/scented",
          "Peaty/Smoky/smoked foods barbeque",
          "Sulphury/Struck match /spent fireworks",
          "Feinty/Tobacco/stale tobacco",
          "Sweet/Honey/sugar puff",
          "Fruity/Dried fruit/sultanas",
          "Sulphury/Cooked vegetables /sweetcorn",
          "Sulphury/Decaying/sweetcorn",
          "Woody/Okay/toasted oak",
          "Green/grassy/leafy/tomato plants",
          "Sweet/Toffee/treacle",
          "Fruity/Fresh fruit/tropical fruit",
          "Sweet/Vanilla/vanilla pods",
          "Floral/Fresh flowers/violets",
          "Oily/Waxy/wax crayons ",
          "Stale/Musty/wet cardboard/paper",
          "Stale/Metallic/wet iron",
          "Feinty/Leathery/worn leather",
          "Cereal/Wet cereals/wort",
          "Fruity/Artificial fruit flavourings",
          "Peaty/Burnt",
          "Oily/Buttery ",
          "Cereal/Cereal",
          "Sour/Cheesy",
          "Fruity/Citrus",
          "Nutty/Coconut",
          "Sulphury/Cooked vegetables ",
          "Sulphury/Decaying",
          "Fruity/Dried fruit",
          "Spicy/Dried spice",
          "Cereal/Dry cereals",
          "Stale/Earthy",
          "Feinty/Feinty",
          "Floral/Floral",
          "Floral/Fresh flowers",
          "Fruity/Fresh fruit",
          "Fruity/Fruity",
          "Green/grassy/Green vegetables",
          "Green/grassy/Green/grassy",
          "Green/grassy/Herbal",
          "Sweet/Honey",
          "Feinty/Leathery",
          "Sulphury/Meaty ",
          "Peaty/Medicinal",
          "Stale/Metallic",
          "Stale/Musty",
          "Solvently/Nail varnish remover",
          "Woody/New wood",
          "Nutty/Nuts",
          "Nutty/Nutty",
          "Oily/Oils/fats",
          "Oily/Oily",
          "Woody/Okay",
          "Peaty/Peaty",
          "Spicy/Peppery",
          "Floral/Perfumed",
          "Sulphury/Rubbery",
          "Peaty/Smoky",
          "Soapy/Soapy",
          "Solvently/Solvently",
          "Sour/Sour",
          "Spicy/Spicy",
          "Stale/Stale",
          "Sulphury/Struck match ",
          "Sulphury/Sulphury",
          "Feinty/Sweaty",
          "Sweet/Sweet",
          "Nutty/Toasted",
          "Feinty/Tobacco",
          "Sweet/Toffee",
          "Soapy/Unperfumed soap",
          "Sweet/Vanilla",
          "Sour/Vinegary",
          "Sour/Vomit",
          "Oily/Waxy",
          "Cereal/Wet cereals",
          "Woody/Woody",
          "Green/grassy/leafy",
          "Cereal",
          "Feinty",
          "Floral",
          "Fruity",
          "Green/grassy",
          "Nutty",
          "Oily",
          "Peaty",
          "Soapy",
          "Solvently",
          "Sour",
          "Spicy",
          "Stale",
          "Sulphury",
          "Sweet",
          "Woody"
         ],
         "labels": [
          "Almond",
          "Antiseptic",
          "Apples",
          "Baby sick",
          "Beefy",
          "Black pepper",
          "Blue cheese",
          "Bubblegum",
          "Burning wood",
          "Burnt toast",
          "Butterscotch",
          "Cabbage",
          "Candles",
          "Cereal",
          "Clove",
          "Corked",
          "Damp soil",
          "Dessicated coconut",
          "Dried pipe tobacco",
          "Feinty",
          "Floral",
          "Fragrant",
          "Fresh herbs",
          "Fruity",
          "Gassy",
          "Geranium leaves",
          "Green peppers",
          "Green/grassy",
          "Honeycomb",
          "Horse saddle",
          "Lemons",
          "Linseed oil",
          "Malt vinegar",
          "Malted barley",
          "Mash",
          "Melted butter",
          "Nail varnish remover",
          "Nutty",
          "Oily",
          "Peaty",
          "Raisins",
          "Roses",
          "Rotten vegetables",
          "Rust",
          "Soapy",
          "Solvently",
          "Sour",
          "Spicy",
          "Stale",
          "Sulphury",
          "Sweaty",
          "Sweet",
          "TCP",
          "Tar",
          "Tyres",
          "Unperfumed soap",
          "Woody",
          "acidic",
          "ash",
          "bananas",
          "beeswax",
          "boiled potatoes",
          "boiled potatoes ",
          "bonfire",
          "bovril",
          "brazil nuts",
          "brown sugar",
          "brussels sprouts",
          "candy",
          "carbolic soap",
          "char",
          "chip fat",
          "cinnamon",
          "cocoa",
          "coconut milk",
          "coffee",
          "coins",
          "cream",
          "cucumber",
          "custard",
          "dairy",
          "damp wood",
          "digestive biscuits",
          "draff",
          "dried herbs",
          "engine oil",
          "esters",
          "first aid kit",
          "fresh peas",
          "freshly cut grass",
          "fruit cake",
          "fudge",
          "ginger",
          "gorse flowers",
          "grapefruit",
          "greasy",
          "hazelnuts",
          "ice ceam",
          "lavender",
          "leather upholstery",
          "lettuce",
          "limes",
          "malt extract",
          "marmite",
          "mature cheddar",
          "meat fat",
          "mushrooms",
          "nutmeg",
          "oranges",
          "parmesan",
          "peanuts",
          "peardrops",
          "pears",
          "pencil sharpening",
          "plimsols ",
          "popcorn",
          "porridge",
          "prunes dates",
          "rancid",
          "resinous",
          "roasted beans",
          "rotten eggs",
          "rubber tubing",
          "sawdust",
          "scented",
          "smoked foods barbeque",
          "spent fireworks",
          "stale tobacco",
          "sugar puff",
          "sultanas",
          "sweetcorn",
          "sweetcorn",
          "toasted oak",
          "tomato plants",
          "treacle",
          "tropical fruit",
          "vanilla pods",
          "violets",
          "wax crayons ",
          "wet cardboard/paper",
          "wet iron",
          "worn leather",
          "wort",
          "Artificial fruit flavourings",
          "Burnt",
          "Buttery ",
          "Cereal",
          "Cheesy",
          "Citrus",
          "Coconut",
          "Cooked vegetables ",
          "Decaying",
          "Dried fruit",
          "Dried spice",
          "Dry cereals",
          "Earthy",
          "Feinty",
          "Floral",
          "Fresh flowers",
          "Fresh fruit",
          "Fruity",
          "Green vegetables",
          "Green/grassy",
          "Herbal",
          "Honey",
          "Leathery",
          "Meaty ",
          "Medicinal",
          "Metallic",
          "Musty",
          "Nail varnish remover",
          "New wood",
          "Nuts",
          "Nutty",
          "Oils/fats",
          "Oily",
          "Okay",
          "Peaty",
          "Peppery",
          "Perfumed",
          "Rubbery",
          "Smoky",
          "Soapy",
          "Solvently",
          "Sour",
          "Spicy",
          "Stale",
          "Struck match ",
          "Sulphury",
          "Sweaty",
          "Sweet",
          "Toasted",
          "Tobacco",
          "Toffee",
          "Unperfumed soap",
          "Vanilla",
          "Vinegary",
          "Vomit",
          "Waxy",
          "Wet cereals",
          "Woody",
          "leafy",
          "Cereal",
          "Feinty",
          "Floral",
          "Fruity",
          "Green/grassy",
          "Nutty",
          "Oily",
          "Peaty",
          "Soapy",
          "Solvently",
          "Sour",
          "Spicy",
          "Stale",
          "Sulphury",
          "Sweet",
          "Woody"
         ],
         "name": "",
         "parents": [
          "Nutty/Nuts",
          "Peaty/Medicinal",
          "Fruity/Fresh fruit",
          "Sour/Vomit",
          "Sulphury/Meaty ",
          "Spicy/Peppery",
          "Sour/Cheesy",
          "Fruity/Artificial fruit flavourings",
          "Peaty/Smoky",
          "Nutty/Toasted",
          "Sweet/Toffee",
          "Sulphury/Cooked vegetables ",
          "Oily/Waxy",
          "Cereal/Cereal",
          "Spicy/Dried spice",
          "Stale/Musty",
          "Stale/Earthy",
          "Nutty/Coconut",
          "Feinty/Tobacco",
          "Feinty/Feinty",
          "Floral/Floral",
          "Floral/Perfumed",
          "Green/grassy/Herbal",
          "Fruity/Fruity",
          "Sulphury/Struck match ",
          "Green/grassy/leafy",
          "Green/grassy/Green vegetables",
          "Green/grassy/Green/grassy",
          "Sweet/Honey",
          "Feinty/Leathery",
          "Fruity/Citrus",
          "Oily/Oils/fats",
          "Sour/Vinegary",
          "Cereal/Dry cereals",
          "Cereal/Wet cereals",
          "Oily/Buttery ",
          "Solvently/Nail varnish remover",
          "Nutty/Nutty",
          "Oily/Oily",
          "Peaty/Peaty",
          "Fruity/Dried fruit",
          "Floral/Fresh flowers",
          "Sulphury/Decaying",
          "Stale/Metallic",
          "Soapy/Soapy",
          "Solvently/Solvently",
          "Sour/Sour",
          "Spicy/Spicy",
          "Stale/Stale",
          "Sulphury/Sulphury",
          "Feinty/Sweaty",
          "Sweet/Sweet",
          "Peaty/Medicinal",
          "Peaty/Burnt",
          "Sulphury/Rubbery",
          "Soapy/Unperfumed soap",
          "Woody/Woody",
          "Sour/Vinegary",
          "Peaty/Burnt",
          "Fruity/Fresh fruit",
          "Oily/Waxy",
          "Sulphury/Cooked vegetables ",
          "Sulphury/Decaying",
          "Peaty/Smoky",
          "Sulphury/Meaty ",
          "Nutty/Nuts",
          "Sweet/Toffee",
          "Sulphury/Cooked vegetables ",
          "Fruity/Artificial fruit flavourings",
          "Peaty/Medicinal",
          "Peaty/Burnt",
          "Oily/Oils/fats",
          "Spicy/Dried spice",
          "Nutty/Toasted",
          "Nutty/Coconut",
          "Nutty/Toasted",
          "Stale/Metallic",
          "Oily/Buttery ",
          "Green/grassy/Green vegetables",
          "Sweet/Vanilla",
          "Oily/Buttery ",
          "Stale/Musty",
          "Cereal/Dry cereals",
          "Cereal/Wet cereals",
          "Green/grassy/Herbal",
          "Oily/Oils/fats",
          "Fruity/Artificial fruit flavourings",
          "Peaty/Medicinal",
          "Green/grassy/Green vegetables",
          "Green/grassy/leafy",
          "Fruity/Dried fruit",
          "Sweet/Toffee",
          "Spicy/Dried spice",
          "Nutty/Coconut",
          "Fruity/Citrus",
          "Oily/Oils/fats",
          "Nutty/Nuts",
          "Sweet/Vanilla",
          "Floral/Fresh flowers",
          "Feinty/Leathery",
          "Green/grassy/Green vegetables",
          "Fruity/Citrus",
          "Cereal/Wet cereals",
          "Sulphury/Meaty ",
          "Sour/Cheesy",
          "Oily/Oils/fats",
          "Stale/Earthy",
          "Spicy/Dried spice",
          "Fruity/Citrus",
          "Sour/Cheesy",
          "Nutty/Nuts",
          "Fruity/Artificial fruit flavourings",
          "Fruity/Fresh fruit",
          "Woody/New wood",
          "Sulphury/Rubbery",
          "Cereal/Dry cereals",
          "Cereal/Wet cereals",
          "Fruity/Dried fruit",
          "Sour/Vomit",
          "Woody/New wood",
          "Nutty/Toasted",
          "Sulphury/Decaying",
          "Sulphury/Rubbery",
          "Woody/New wood",
          "Floral/Perfumed",
          "Peaty/Smoky",
          "Sulphury/Struck match ",
          "Feinty/Tobacco",
          "Sweet/Honey",
          "Fruity/Dried fruit",
          "Sulphury/Cooked vegetables ",
          "Sulphury/Decaying",
          "Woody/Okay",
          "Green/grassy/leafy",
          "Sweet/Toffee",
          "Fruity/Fresh fruit",
          "Sweet/Vanilla",
          "Floral/Fresh flowers",
          "Oily/Waxy",
          "Stale/Musty",
          "Stale/Metallic",
          "Feinty/Leathery",
          "Cereal/Wet cereals",
          "Fruity",
          "Peaty",
          "Oily",
          "Cereal",
          "Sour",
          "Fruity",
          "Nutty",
          "Sulphury",
          "Sulphury",
          "Fruity",
          "Spicy",
          "Cereal",
          "Stale",
          "Feinty",
          "Floral",
          "Floral",
          "Fruity",
          "Fruity",
          "Green/grassy",
          "Green/grassy",
          "Green/grassy",
          "Sweet",
          "Feinty",
          "Sulphury",
          "Peaty",
          "Stale",
          "Stale",
          "Solvently",
          "Woody",
          "Nutty",
          "Nutty",
          "Oily",
          "Oily",
          "Woody",
          "Peaty",
          "Spicy",
          "Floral",
          "Sulphury",
          "Peaty",
          "Soapy",
          "Solvently",
          "Sour",
          "Spicy",
          "Stale",
          "Sulphury",
          "Sulphury",
          "Feinty",
          "Sweet",
          "Nutty",
          "Feinty",
          "Sweet",
          "Soapy",
          "Sweet",
          "Sour",
          "Sour",
          "Oily",
          "Cereal",
          "Woody",
          "Green/grassy",
          "",
          "",
          "",
          "",
          "",
          "",
          "",
          "",
          "",
          "",
          "",
          "",
          "",
          "",
          "",
          ""
         ],
         "type": "sunburst",
         "values": [
          1,
          1,
          1,
          1,
          1,
          1,
          1,
          1,
          1,
          1,
          1,
          1,
          1,
          1,
          1,
          1,
          1,
          1,
          1,
          1,
          1,
          1,
          1,
          1,
          1,
          1,
          1,
          1,
          1,
          1,
          1,
          1,
          1,
          1,
          1,
          1,
          1,
          1,
          1,
          1,
          1,
          1,
          1,
          1,
          1,
          1,
          1,
          1,
          1,
          1,
          1,
          1,
          1,
          1,
          1,
          1,
          1,
          1,
          1,
          1,
          1,
          1,
          1,
          1,
          1,
          1,
          1,
          1,
          1,
          1,
          1,
          1,
          1,
          1,
          1,
          1,
          1,
          1,
          1,
          1,
          1,
          1,
          1,
          1,
          1,
          1,
          1,
          1,
          1,
          1,
          1,
          1,
          1,
          1,
          1,
          1,
          1,
          1,
          1,
          1,
          1,
          1,
          1,
          1,
          1,
          1,
          1,
          1,
          1,
          1,
          1,
          1,
          1,
          1,
          1,
          1,
          1,
          1,
          1,
          1,
          1,
          1,
          1,
          1,
          1,
          1,
          1,
          1,
          1,
          1,
          1,
          1,
          1,
          1,
          1,
          1,
          1,
          1,
          1,
          1,
          1,
          1,
          1,
          4,
          3,
          3,
          1,
          3,
          4,
          3,
          4,
          4,
          4,
          4,
          3,
          2,
          1,
          1,
          3,
          4,
          1,
          4,
          1,
          2,
          2,
          3,
          3,
          4,
          3,
          3,
          1,
          3,
          4,
          1,
          5,
          1,
          1,
          1,
          1,
          2,
          3,
          3,
          1,
          1,
          1,
          1,
          1,
          2,
          1,
          1,
          1,
          4,
          2,
          4,
          1,
          3,
          2,
          2,
          3,
          5,
          1,
          3,
          9,
          7,
          6,
          17,
          10,
          12,
          12,
          11,
          2,
          2,
          8,
          6,
          9,
          17,
          10,
          5
         ]
        }
       ],
       "layout": {
        "legend": {
         "tracegroupgap": 0
        },
        "template": {
         "data": {
          "bar": [
           {
            "error_x": {
             "color": "#2a3f5f"
            },
            "error_y": {
             "color": "#2a3f5f"
            },
            "marker": {
             "line": {
              "color": "#E5ECF6",
              "width": 0.5
             },
             "pattern": {
              "fillmode": "overlay",
              "size": 10,
              "solidity": 0.2
             }
            },
            "type": "bar"
           }
          ],
          "barpolar": [
           {
            "marker": {
             "line": {
              "color": "#E5ECF6",
              "width": 0.5
             },
             "pattern": {
              "fillmode": "overlay",
              "size": 10,
              "solidity": 0.2
             }
            },
            "type": "barpolar"
           }
          ],
          "carpet": [
           {
            "aaxis": {
             "endlinecolor": "#2a3f5f",
             "gridcolor": "white",
             "linecolor": "white",
             "minorgridcolor": "white",
             "startlinecolor": "#2a3f5f"
            },
            "baxis": {
             "endlinecolor": "#2a3f5f",
             "gridcolor": "white",
             "linecolor": "white",
             "minorgridcolor": "white",
             "startlinecolor": "#2a3f5f"
            },
            "type": "carpet"
           }
          ],
          "choropleth": [
           {
            "colorbar": {
             "outlinewidth": 0,
             "ticks": ""
            },
            "type": "choropleth"
           }
          ],
          "contour": [
           {
            "colorbar": {
             "outlinewidth": 0,
             "ticks": ""
            },
            "colorscale": [
             [
              0,
              "#0d0887"
             ],
             [
              0.1111111111111111,
              "#46039f"
             ],
             [
              0.2222222222222222,
              "#7201a8"
             ],
             [
              0.3333333333333333,
              "#9c179e"
             ],
             [
              0.4444444444444444,
              "#bd3786"
             ],
             [
              0.5555555555555556,
              "#d8576b"
             ],
             [
              0.6666666666666666,
              "#ed7953"
             ],
             [
              0.7777777777777778,
              "#fb9f3a"
             ],
             [
              0.8888888888888888,
              "#fdca26"
             ],
             [
              1,
              "#f0f921"
             ]
            ],
            "type": "contour"
           }
          ],
          "contourcarpet": [
           {
            "colorbar": {
             "outlinewidth": 0,
             "ticks": ""
            },
            "type": "contourcarpet"
           }
          ],
          "heatmap": [
           {
            "colorbar": {
             "outlinewidth": 0,
             "ticks": ""
            },
            "colorscale": [
             [
              0,
              "#0d0887"
             ],
             [
              0.1111111111111111,
              "#46039f"
             ],
             [
              0.2222222222222222,
              "#7201a8"
             ],
             [
              0.3333333333333333,
              "#9c179e"
             ],
             [
              0.4444444444444444,
              "#bd3786"
             ],
             [
              0.5555555555555556,
              "#d8576b"
             ],
             [
              0.6666666666666666,
              "#ed7953"
             ],
             [
              0.7777777777777778,
              "#fb9f3a"
             ],
             [
              0.8888888888888888,
              "#fdca26"
             ],
             [
              1,
              "#f0f921"
             ]
            ],
            "type": "heatmap"
           }
          ],
          "heatmapgl": [
           {
            "colorbar": {
             "outlinewidth": 0,
             "ticks": ""
            },
            "colorscale": [
             [
              0,
              "#0d0887"
             ],
             [
              0.1111111111111111,
              "#46039f"
             ],
             [
              0.2222222222222222,
              "#7201a8"
             ],
             [
              0.3333333333333333,
              "#9c179e"
             ],
             [
              0.4444444444444444,
              "#bd3786"
             ],
             [
              0.5555555555555556,
              "#d8576b"
             ],
             [
              0.6666666666666666,
              "#ed7953"
             ],
             [
              0.7777777777777778,
              "#fb9f3a"
             ],
             [
              0.8888888888888888,
              "#fdca26"
             ],
             [
              1,
              "#f0f921"
             ]
            ],
            "type": "heatmapgl"
           }
          ],
          "histogram": [
           {
            "marker": {
             "pattern": {
              "fillmode": "overlay",
              "size": 10,
              "solidity": 0.2
             }
            },
            "type": "histogram"
           }
          ],
          "histogram2d": [
           {
            "colorbar": {
             "outlinewidth": 0,
             "ticks": ""
            },
            "colorscale": [
             [
              0,
              "#0d0887"
             ],
             [
              0.1111111111111111,
              "#46039f"
             ],
             [
              0.2222222222222222,
              "#7201a8"
             ],
             [
              0.3333333333333333,
              "#9c179e"
             ],
             [
              0.4444444444444444,
              "#bd3786"
             ],
             [
              0.5555555555555556,
              "#d8576b"
             ],
             [
              0.6666666666666666,
              "#ed7953"
             ],
             [
              0.7777777777777778,
              "#fb9f3a"
             ],
             [
              0.8888888888888888,
              "#fdca26"
             ],
             [
              1,
              "#f0f921"
             ]
            ],
            "type": "histogram2d"
           }
          ],
          "histogram2dcontour": [
           {
            "colorbar": {
             "outlinewidth": 0,
             "ticks": ""
            },
            "colorscale": [
             [
              0,
              "#0d0887"
             ],
             [
              0.1111111111111111,
              "#46039f"
             ],
             [
              0.2222222222222222,
              "#7201a8"
             ],
             [
              0.3333333333333333,
              "#9c179e"
             ],
             [
              0.4444444444444444,
              "#bd3786"
             ],
             [
              0.5555555555555556,
              "#d8576b"
             ],
             [
              0.6666666666666666,
              "#ed7953"
             ],
             [
              0.7777777777777778,
              "#fb9f3a"
             ],
             [
              0.8888888888888888,
              "#fdca26"
             ],
             [
              1,
              "#f0f921"
             ]
            ],
            "type": "histogram2dcontour"
           }
          ],
          "mesh3d": [
           {
            "colorbar": {
             "outlinewidth": 0,
             "ticks": ""
            },
            "type": "mesh3d"
           }
          ],
          "parcoords": [
           {
            "line": {
             "colorbar": {
              "outlinewidth": 0,
              "ticks": ""
             }
            },
            "type": "parcoords"
           }
          ],
          "pie": [
           {
            "automargin": true,
            "type": "pie"
           }
          ],
          "scatter": [
           {
            "fillpattern": {
             "fillmode": "overlay",
             "size": 10,
             "solidity": 0.2
            },
            "type": "scatter"
           }
          ],
          "scatter3d": [
           {
            "line": {
             "colorbar": {
              "outlinewidth": 0,
              "ticks": ""
             }
            },
            "marker": {
             "colorbar": {
              "outlinewidth": 0,
              "ticks": ""
             }
            },
            "type": "scatter3d"
           }
          ],
          "scattercarpet": [
           {
            "marker": {
             "colorbar": {
              "outlinewidth": 0,
              "ticks": ""
             }
            },
            "type": "scattercarpet"
           }
          ],
          "scattergeo": [
           {
            "marker": {
             "colorbar": {
              "outlinewidth": 0,
              "ticks": ""
             }
            },
            "type": "scattergeo"
           }
          ],
          "scattergl": [
           {
            "marker": {
             "colorbar": {
              "outlinewidth": 0,
              "ticks": ""
             }
            },
            "type": "scattergl"
           }
          ],
          "scattermapbox": [
           {
            "marker": {
             "colorbar": {
              "outlinewidth": 0,
              "ticks": ""
             }
            },
            "type": "scattermapbox"
           }
          ],
          "scatterpolar": [
           {
            "marker": {
             "colorbar": {
              "outlinewidth": 0,
              "ticks": ""
             }
            },
            "type": "scatterpolar"
           }
          ],
          "scatterpolargl": [
           {
            "marker": {
             "colorbar": {
              "outlinewidth": 0,
              "ticks": ""
             }
            },
            "type": "scatterpolargl"
           }
          ],
          "scatterternary": [
           {
            "marker": {
             "colorbar": {
              "outlinewidth": 0,
              "ticks": ""
             }
            },
            "type": "scatterternary"
           }
          ],
          "surface": [
           {
            "colorbar": {
             "outlinewidth": 0,
             "ticks": ""
            },
            "colorscale": [
             [
              0,
              "#0d0887"
             ],
             [
              0.1111111111111111,
              "#46039f"
             ],
             [
              0.2222222222222222,
              "#7201a8"
             ],
             [
              0.3333333333333333,
              "#9c179e"
             ],
             [
              0.4444444444444444,
              "#bd3786"
             ],
             [
              0.5555555555555556,
              "#d8576b"
             ],
             [
              0.6666666666666666,
              "#ed7953"
             ],
             [
              0.7777777777777778,
              "#fb9f3a"
             ],
             [
              0.8888888888888888,
              "#fdca26"
             ],
             [
              1,
              "#f0f921"
             ]
            ],
            "type": "surface"
           }
          ],
          "table": [
           {
            "cells": {
             "fill": {
              "color": "#EBF0F8"
             },
             "line": {
              "color": "white"
             }
            },
            "header": {
             "fill": {
              "color": "#C8D4E3"
             },
             "line": {
              "color": "white"
             }
            },
            "type": "table"
           }
          ]
         },
         "layout": {
          "annotationdefaults": {
           "arrowcolor": "#2a3f5f",
           "arrowhead": 0,
           "arrowwidth": 1
          },
          "autotypenumbers": "strict",
          "coloraxis": {
           "colorbar": {
            "outlinewidth": 0,
            "ticks": ""
           }
          },
          "colorscale": {
           "diverging": [
            [
             0,
             "#8e0152"
            ],
            [
             0.1,
             "#c51b7d"
            ],
            [
             0.2,
             "#de77ae"
            ],
            [
             0.3,
             "#f1b6da"
            ],
            [
             0.4,
             "#fde0ef"
            ],
            [
             0.5,
             "#f7f7f7"
            ],
            [
             0.6,
             "#e6f5d0"
            ],
            [
             0.7,
             "#b8e186"
            ],
            [
             0.8,
             "#7fbc41"
            ],
            [
             0.9,
             "#4d9221"
            ],
            [
             1,
             "#276419"
            ]
           ],
           "sequential": [
            [
             0,
             "#0d0887"
            ],
            [
             0.1111111111111111,
             "#46039f"
            ],
            [
             0.2222222222222222,
             "#7201a8"
            ],
            [
             0.3333333333333333,
             "#9c179e"
            ],
            [
             0.4444444444444444,
             "#bd3786"
            ],
            [
             0.5555555555555556,
             "#d8576b"
            ],
            [
             0.6666666666666666,
             "#ed7953"
            ],
            [
             0.7777777777777778,
             "#fb9f3a"
            ],
            [
             0.8888888888888888,
             "#fdca26"
            ],
            [
             1,
             "#f0f921"
            ]
           ],
           "sequentialminus": [
            [
             0,
             "#0d0887"
            ],
            [
             0.1111111111111111,
             "#46039f"
            ],
            [
             0.2222222222222222,
             "#7201a8"
            ],
            [
             0.3333333333333333,
             "#9c179e"
            ],
            [
             0.4444444444444444,
             "#bd3786"
            ],
            [
             0.5555555555555556,
             "#d8576b"
            ],
            [
             0.6666666666666666,
             "#ed7953"
            ],
            [
             0.7777777777777778,
             "#fb9f3a"
            ],
            [
             0.8888888888888888,
             "#fdca26"
            ],
            [
             1,
             "#f0f921"
            ]
           ]
          },
          "colorway": [
           "#636efa",
           "#EF553B",
           "#00cc96",
           "#ab63fa",
           "#FFA15A",
           "#19d3f3",
           "#FF6692",
           "#B6E880",
           "#FF97FF",
           "#FECB52"
          ],
          "font": {
           "color": "#2a3f5f"
          },
          "geo": {
           "bgcolor": "white",
           "lakecolor": "white",
           "landcolor": "#E5ECF6",
           "showlakes": true,
           "showland": true,
           "subunitcolor": "white"
          },
          "hoverlabel": {
           "align": "left"
          },
          "hovermode": "closest",
          "mapbox": {
           "style": "light"
          },
          "paper_bgcolor": "white",
          "plot_bgcolor": "#E5ECF6",
          "polar": {
           "angularaxis": {
            "gridcolor": "white",
            "linecolor": "white",
            "ticks": ""
           },
           "bgcolor": "#E5ECF6",
           "radialaxis": {
            "gridcolor": "white",
            "linecolor": "white",
            "ticks": ""
           }
          },
          "scene": {
           "xaxis": {
            "backgroundcolor": "#E5ECF6",
            "gridcolor": "white",
            "gridwidth": 2,
            "linecolor": "white",
            "showbackground": true,
            "ticks": "",
            "zerolinecolor": "white"
           },
           "yaxis": {
            "backgroundcolor": "#E5ECF6",
            "gridcolor": "white",
            "gridwidth": 2,
            "linecolor": "white",
            "showbackground": true,
            "ticks": "",
            "zerolinecolor": "white"
           },
           "zaxis": {
            "backgroundcolor": "#E5ECF6",
            "gridcolor": "white",
            "gridwidth": 2,
            "linecolor": "white",
            "showbackground": true,
            "ticks": "",
            "zerolinecolor": "white"
           }
          },
          "shapedefaults": {
           "line": {
            "color": "#2a3f5f"
           }
          },
          "ternary": {
           "aaxis": {
            "gridcolor": "white",
            "linecolor": "white",
            "ticks": ""
           },
           "baxis": {
            "gridcolor": "white",
            "linecolor": "white",
            "ticks": ""
           },
           "bgcolor": "#E5ECF6",
           "caxis": {
            "gridcolor": "white",
            "linecolor": "white",
            "ticks": ""
           }
          },
          "title": {
           "x": 0.05
          },
          "xaxis": {
           "automargin": true,
           "gridcolor": "white",
           "linecolor": "white",
           "ticks": "",
           "title": {
            "standoff": 15
           },
           "zerolinecolor": "white",
           "zerolinewidth": 2
          },
          "yaxis": {
           "automargin": true,
           "gridcolor": "white",
           "linecolor": "white",
           "ticks": "",
           "title": {
            "standoff": 15
           },
           "zerolinecolor": "white",
           "zerolinewidth": 2
          }
         }
        },
        "title": {
         "text": "OD x OQ x OSA"
        }
       }
      }
     },
     "metadata": {},
     "output_type": "display_data"
    }
   ],
   "source": [
    "import plotly.express as px\n",
    "fig = px.sunburst(Research_data, path=['OQ', 'OD'], values='match', title=\"OD x OQ\")\n",
    "fig.show()\n",
    "fig = px.sunburst(Research_data, path=['OSA', 'OQ'], values='match', title=\"OQ x OSA\")\n",
    "fig.show()\n",
    "fig = px.sunburst(Research_data, path=['OSA', 'OQ', 'OD'], values='match', title=\"OD x OQ x OSA\")\n",
    "fig.show()\n",
    "fig.write_image(\"sunburst.png\")\n"
   ]
  },
  {
   "cell_type": "markdown",
   "metadata": {},
   "source": [
    "## Roche data visualization"
   ]
  },
  {
   "cell_type": "code",
   "execution_count": 4,
   "metadata": {},
   "outputs": [
    {
     "data": {
      "text/html": [
       "<div>\n",
       "<style scoped>\n",
       "    .dataframe tbody tr th:only-of-type {\n",
       "        vertical-align: middle;\n",
       "    }\n",
       "\n",
       "    .dataframe tbody tr th {\n",
       "        vertical-align: top;\n",
       "    }\n",
       "\n",
       "    .dataframe thead th {\n",
       "        text-align: right;\n",
       "    }\n",
       "</style>\n",
       "<table border=\"1\" class=\"dataframe\">\n",
       "  <thead>\n",
       "    <tr style=\"text-align: right;\">\n",
       "      <th></th>\n",
       "      <th>Almond</th>\n",
       "      <th>Woody</th>\n",
       "      <th>Camphor</th>\n",
       "      <th>Leather</th>\n",
       "      <th>Cooked</th>\n",
       "      <th>Spicy</th>\n",
       "      <th>Floral</th>\n",
       "      <th>Fresh</th>\n",
       "      <th>Fruity</th>\n",
       "      <th>Smoky</th>\n",
       "      <th>...</th>\n",
       "      <th>Lactonic</th>\n",
       "      <th>Vegetable</th>\n",
       "      <th>Honey</th>\n",
       "      <th>Peel</th>\n",
       "      <th>Sulfurous</th>\n",
       "      <th>Toasty</th>\n",
       "      <th>Vanilla</th>\n",
       "      <th>Green</th>\n",
       "      <th>Vinous</th>\n",
       "      <th>Violet</th>\n",
       "    </tr>\n",
       "  </thead>\n",
       "  <tbody>\n",
       "    <tr>\n",
       "      <th>AGRUMES</th>\n",
       "      <td>0</td>\n",
       "      <td>0</td>\n",
       "      <td>0</td>\n",
       "      <td>0</td>\n",
       "      <td>0</td>\n",
       "      <td>0</td>\n",
       "      <td>0</td>\n",
       "      <td>0</td>\n",
       "      <td>1</td>\n",
       "      <td>0</td>\n",
       "      <td>...</td>\n",
       "      <td>0</td>\n",
       "      <td>0</td>\n",
       "      <td>0</td>\n",
       "      <td>0</td>\n",
       "      <td>0</td>\n",
       "      <td>0</td>\n",
       "      <td>0</td>\n",
       "      <td>0</td>\n",
       "      <td>0</td>\n",
       "      <td>0</td>\n",
       "    </tr>\n",
       "    <tr>\n",
       "      <th>Apple</th>\n",
       "      <td>0</td>\n",
       "      <td>0</td>\n",
       "      <td>0</td>\n",
       "      <td>0</td>\n",
       "      <td>0</td>\n",
       "      <td>0</td>\n",
       "      <td>0</td>\n",
       "      <td>0</td>\n",
       "      <td>1</td>\n",
       "      <td>0</td>\n",
       "      <td>...</td>\n",
       "      <td>0</td>\n",
       "      <td>0</td>\n",
       "      <td>0</td>\n",
       "      <td>0</td>\n",
       "      <td>0</td>\n",
       "      <td>0</td>\n",
       "      <td>0</td>\n",
       "      <td>0</td>\n",
       "      <td>0</td>\n",
       "      <td>0</td>\n",
       "    </tr>\n",
       "    <tr>\n",
       "      <th>Apple peels</th>\n",
       "      <td>0</td>\n",
       "      <td>0</td>\n",
       "      <td>0</td>\n",
       "      <td>0</td>\n",
       "      <td>0</td>\n",
       "      <td>0</td>\n",
       "      <td>0</td>\n",
       "      <td>0</td>\n",
       "      <td>1</td>\n",
       "      <td>0</td>\n",
       "      <td>...</td>\n",
       "      <td>0</td>\n",
       "      <td>0</td>\n",
       "      <td>0</td>\n",
       "      <td>1</td>\n",
       "      <td>0</td>\n",
       "      <td>0</td>\n",
       "      <td>0</td>\n",
       "      <td>0</td>\n",
       "      <td>0</td>\n",
       "      <td>0</td>\n",
       "    </tr>\n",
       "    <tr>\n",
       "      <th>Apricot</th>\n",
       "      <td>0</td>\n",
       "      <td>0</td>\n",
       "      <td>0</td>\n",
       "      <td>0</td>\n",
       "      <td>0</td>\n",
       "      <td>0</td>\n",
       "      <td>0</td>\n",
       "      <td>0</td>\n",
       "      <td>1</td>\n",
       "      <td>0</td>\n",
       "      <td>...</td>\n",
       "      <td>0</td>\n",
       "      <td>0</td>\n",
       "      <td>0</td>\n",
       "      <td>0</td>\n",
       "      <td>0</td>\n",
       "      <td>0</td>\n",
       "      <td>0</td>\n",
       "      <td>0</td>\n",
       "      <td>0</td>\n",
       "      <td>0</td>\n",
       "    </tr>\n",
       "    <tr>\n",
       "      <th>Banana</th>\n",
       "      <td>0</td>\n",
       "      <td>0</td>\n",
       "      <td>0</td>\n",
       "      <td>0</td>\n",
       "      <td>0</td>\n",
       "      <td>0</td>\n",
       "      <td>0</td>\n",
       "      <td>0</td>\n",
       "      <td>1</td>\n",
       "      <td>0</td>\n",
       "      <td>...</td>\n",
       "      <td>0</td>\n",
       "      <td>0</td>\n",
       "      <td>0</td>\n",
       "      <td>0</td>\n",
       "      <td>0</td>\n",
       "      <td>0</td>\n",
       "      <td>0</td>\n",
       "      <td>0</td>\n",
       "      <td>0</td>\n",
       "      <td>0</td>\n",
       "    </tr>\n",
       "    <tr>\n",
       "      <th>...</th>\n",
       "      <td>...</td>\n",
       "      <td>...</td>\n",
       "      <td>...</td>\n",
       "      <td>...</td>\n",
       "      <td>...</td>\n",
       "      <td>...</td>\n",
       "      <td>...</td>\n",
       "      <td>...</td>\n",
       "      <td>...</td>\n",
       "      <td>...</td>\n",
       "      <td>...</td>\n",
       "      <td>...</td>\n",
       "      <td>...</td>\n",
       "      <td>...</td>\n",
       "      <td>...</td>\n",
       "      <td>...</td>\n",
       "      <td>...</td>\n",
       "      <td>...</td>\n",
       "      <td>...</td>\n",
       "      <td>...</td>\n",
       "      <td>...</td>\n",
       "    </tr>\n",
       "    <tr>\n",
       "      <th>Wine</th>\n",
       "      <td>0</td>\n",
       "      <td>0</td>\n",
       "      <td>0</td>\n",
       "      <td>0</td>\n",
       "      <td>0</td>\n",
       "      <td>0</td>\n",
       "      <td>0</td>\n",
       "      <td>0</td>\n",
       "      <td>0</td>\n",
       "      <td>0</td>\n",
       "      <td>...</td>\n",
       "      <td>0</td>\n",
       "      <td>0</td>\n",
       "      <td>0</td>\n",
       "      <td>0</td>\n",
       "      <td>0</td>\n",
       "      <td>0</td>\n",
       "      <td>0</td>\n",
       "      <td>0</td>\n",
       "      <td>1</td>\n",
       "      <td>0</td>\n",
       "    </tr>\n",
       "    <tr>\n",
       "      <th>Wine-yeast</th>\n",
       "      <td>0</td>\n",
       "      <td>0</td>\n",
       "      <td>0</td>\n",
       "      <td>0</td>\n",
       "      <td>0</td>\n",
       "      <td>0</td>\n",
       "      <td>0</td>\n",
       "      <td>0</td>\n",
       "      <td>0</td>\n",
       "      <td>0</td>\n",
       "      <td>...</td>\n",
       "      <td>0</td>\n",
       "      <td>0</td>\n",
       "      <td>0</td>\n",
       "      <td>0</td>\n",
       "      <td>0</td>\n",
       "      <td>0</td>\n",
       "      <td>0</td>\n",
       "      <td>0</td>\n",
       "      <td>1</td>\n",
       "      <td>0</td>\n",
       "    </tr>\n",
       "    <tr>\n",
       "      <th>Winey</th>\n",
       "      <td>0</td>\n",
       "      <td>0</td>\n",
       "      <td>0</td>\n",
       "      <td>0</td>\n",
       "      <td>0</td>\n",
       "      <td>0</td>\n",
       "      <td>0</td>\n",
       "      <td>0</td>\n",
       "      <td>0</td>\n",
       "      <td>0</td>\n",
       "      <td>...</td>\n",
       "      <td>0</td>\n",
       "      <td>0</td>\n",
       "      <td>0</td>\n",
       "      <td>0</td>\n",
       "      <td>0</td>\n",
       "      <td>0</td>\n",
       "      <td>0</td>\n",
       "      <td>0</td>\n",
       "      <td>1</td>\n",
       "      <td>0</td>\n",
       "    </tr>\n",
       "    <tr>\n",
       "      <th>Woody</th>\n",
       "      <td>0</td>\n",
       "      <td>1</td>\n",
       "      <td>0</td>\n",
       "      <td>0</td>\n",
       "      <td>0</td>\n",
       "      <td>0</td>\n",
       "      <td>0</td>\n",
       "      <td>0</td>\n",
       "      <td>0</td>\n",
       "      <td>0</td>\n",
       "      <td>...</td>\n",
       "      <td>0</td>\n",
       "      <td>0</td>\n",
       "      <td>0</td>\n",
       "      <td>0</td>\n",
       "      <td>0</td>\n",
       "      <td>0</td>\n",
       "      <td>0</td>\n",
       "      <td>0</td>\n",
       "      <td>0</td>\n",
       "      <td>0</td>\n",
       "    </tr>\n",
       "    <tr>\n",
       "      <th>Woody-phenolic</th>\n",
       "      <td>0</td>\n",
       "      <td>1</td>\n",
       "      <td>0</td>\n",
       "      <td>0</td>\n",
       "      <td>0</td>\n",
       "      <td>0</td>\n",
       "      <td>0</td>\n",
       "      <td>0</td>\n",
       "      <td>0</td>\n",
       "      <td>1</td>\n",
       "      <td>...</td>\n",
       "      <td>0</td>\n",
       "      <td>0</td>\n",
       "      <td>0</td>\n",
       "      <td>0</td>\n",
       "      <td>0</td>\n",
       "      <td>0</td>\n",
       "      <td>0</td>\n",
       "      <td>0</td>\n",
       "      <td>0</td>\n",
       "      <td>0</td>\n",
       "    </tr>\n",
       "  </tbody>\n",
       "</table>\n",
       "<p>118 rows × 21 columns</p>\n",
       "</div>"
      ],
      "text/plain": [
       "                Almond  Woody  Camphor  Leather  Cooked  Spicy  Floral  Fresh  \\\n",
       "AGRUMES              0      0        0        0       0      0       0      0   \n",
       "Apple                0      0        0        0       0      0       0      0   \n",
       "Apple peels          0      0        0        0       0      0       0      0   \n",
       "Apricot              0      0        0        0       0      0       0      0   \n",
       "Banana               0      0        0        0       0      0       0      0   \n",
       "...                ...    ...      ...      ...     ...    ...     ...    ...   \n",
       "Wine                 0      0        0        0       0      0       0      0   \n",
       "Wine-yeast           0      0        0        0       0      0       0      0   \n",
       "Winey                0      0        0        0       0      0       0      0   \n",
       "Woody                0      1        0        0       0      0       0      0   \n",
       "Woody-phenolic       0      1        0        0       0      0       0      0   \n",
       "\n",
       "                Fruity  Smoky  ...  Lactonic  Vegetable  Honey  Peel  \\\n",
       "AGRUMES              1      0  ...         0          0      0     0   \n",
       "Apple                1      0  ...         0          0      0     0   \n",
       "Apple peels          1      0  ...         0          0      0     1   \n",
       "Apricot              1      0  ...         0          0      0     0   \n",
       "Banana               1      0  ...         0          0      0     0   \n",
       "...                ...    ...  ...       ...        ...    ...   ...   \n",
       "Wine                 0      0  ...         0          0      0     0   \n",
       "Wine-yeast           0      0  ...         0          0      0     0   \n",
       "Winey                0      0  ...         0          0      0     0   \n",
       "Woody                0      0  ...         0          0      0     0   \n",
       "Woody-phenolic       0      1  ...         0          0      0     0   \n",
       "\n",
       "                Sulfurous  Toasty  Vanilla  Green  Vinous  Violet  \n",
       "AGRUMES                 0       0        0      0       0       0  \n",
       "Apple                   0       0        0      0       0       0  \n",
       "Apple peels             0       0        0      0       0       0  \n",
       "Apricot                 0       0        0      0       0       0  \n",
       "Banana                  0       0        0      0       0       0  \n",
       "...                   ...     ...      ...    ...     ...     ...  \n",
       "Wine                    0       0        0      0       1       0  \n",
       "Wine-yeast              0       0        0      0       1       0  \n",
       "Winey                   0       0        0      0       1       0  \n",
       "Woody                   0       0        0      0       0       0  \n",
       "Woody-phenolic          0       0        0      0       0       0  \n",
       "\n",
       "[118 rows x 21 columns]"
      ]
     },
     "execution_count": 4,
     "metadata": {},
     "output_type": "execute_result"
    }
   ],
   "source": [
    "OD_OQ_df =  pd.read_csv('./data/DATA_OD-2-OQ.csv', index_col=0)\n",
    "OD_OQ_df = OD_OQ_df.loc[(OD_OQ_df.iloc[:,1:] != 0).any(axis=1)]\n",
    "OD_OQ_df"
   ]
  },
  {
   "cell_type": "code",
   "execution_count": 5,
   "metadata": {},
   "outputs": [
    {
     "data": {
      "text/html": [
       "<div>\n",
       "<style scoped>\n",
       "    .dataframe tbody tr th:only-of-type {\n",
       "        vertical-align: middle;\n",
       "    }\n",
       "\n",
       "    .dataframe tbody tr th {\n",
       "        vertical-align: top;\n",
       "    }\n",
       "\n",
       "    .dataframe thead th {\n",
       "        text-align: right;\n",
       "    }\n",
       "</style>\n",
       "<table border=\"1\" class=\"dataframe\">\n",
       "  <thead>\n",
       "    <tr style=\"text-align: right;\">\n",
       "      <th></th>\n",
       "      <th>match</th>\n",
       "      <th>OD</th>\n",
       "      <th>OQ</th>\n",
       "    </tr>\n",
       "  </thead>\n",
       "  <tbody>\n",
       "    <tr>\n",
       "      <th>0</th>\n",
       "      <td>1</td>\n",
       "      <td>AGRUMES</td>\n",
       "      <td>Fruity</td>\n",
       "    </tr>\n",
       "    <tr>\n",
       "      <th>1</th>\n",
       "      <td>1</td>\n",
       "      <td>Apple</td>\n",
       "      <td>Fruity</td>\n",
       "    </tr>\n",
       "    <tr>\n",
       "      <th>2</th>\n",
       "      <td>1</td>\n",
       "      <td>Apple peels</td>\n",
       "      <td>Fruity</td>\n",
       "    </tr>\n",
       "    <tr>\n",
       "      <th>3</th>\n",
       "      <td>1</td>\n",
       "      <td>Apple peels</td>\n",
       "      <td>Peel</td>\n",
       "    </tr>\n",
       "    <tr>\n",
       "      <th>4</th>\n",
       "      <td>1</td>\n",
       "      <td>Apricot</td>\n",
       "      <td>Fruity</td>\n",
       "    </tr>\n",
       "    <tr>\n",
       "      <th>...</th>\n",
       "      <td>...</td>\n",
       "      <td>...</td>\n",
       "      <td>...</td>\n",
       "    </tr>\n",
       "    <tr>\n",
       "      <th>135</th>\n",
       "      <td>1</td>\n",
       "      <td>Wine-yeast</td>\n",
       "      <td>Vinous</td>\n",
       "    </tr>\n",
       "    <tr>\n",
       "      <th>136</th>\n",
       "      <td>1</td>\n",
       "      <td>Winey</td>\n",
       "      <td>Vinous</td>\n",
       "    </tr>\n",
       "    <tr>\n",
       "      <th>137</th>\n",
       "      <td>1</td>\n",
       "      <td>Woody</td>\n",
       "      <td>Woody</td>\n",
       "    </tr>\n",
       "    <tr>\n",
       "      <th>138</th>\n",
       "      <td>1</td>\n",
       "      <td>Woody-phenolic</td>\n",
       "      <td>Woody</td>\n",
       "    </tr>\n",
       "    <tr>\n",
       "      <th>139</th>\n",
       "      <td>1</td>\n",
       "      <td>Woody-phenolic</td>\n",
       "      <td>Smoky</td>\n",
       "    </tr>\n",
       "  </tbody>\n",
       "</table>\n",
       "<p>140 rows × 3 columns</p>\n",
       "</div>"
      ],
      "text/plain": [
       "     match              OD      OQ\n",
       "0        1         AGRUMES  Fruity\n",
       "1        1           Apple  Fruity\n",
       "2        1     Apple peels  Fruity\n",
       "3        1     Apple peels    Peel\n",
       "4        1         Apricot  Fruity\n",
       "..     ...             ...     ...\n",
       "135      1      Wine-yeast  Vinous\n",
       "136      1           Winey  Vinous\n",
       "137      1           Woody   Woody\n",
       "138      1  Woody-phenolic   Woody\n",
       "139      1  Woody-phenolic   Smoky\n",
       "\n",
       "[140 rows x 3 columns]"
      ]
     },
     "execution_count": 5,
     "metadata": {},
     "output_type": "execute_result"
    }
   ],
   "source": [
    "OD_X_OQ = []\n",
    "for row in OD_OQ_df.index:\n",
    "    for col in OD_OQ_df.columns:\n",
    "        if OD_OQ_df.loc[row, col] == 1:\n",
    "            new_row = {'match': 1, 'OD': row, 'OQ': col}\n",
    "            OD_X_OQ.append(new_row)\n",
    "            \n",
    "OD_X_OQ= pd.DataFrame(OD_X_OQ)\n",
    "OD_X_OQ"
   ]
  },
  {
   "cell_type": "code",
   "execution_count": 6,
   "metadata": {},
   "outputs": [],
   "source": [
    "OQ_OSA_df =  pd.read_csv('./data/OQ_OSA.csv', index_col=0, sep=\";\")\n",
    "OQ_OSA_df = OQ_OSA_df.loc[(OQ_OSA_df.iloc[:,1:] != 0).any(axis=1)]\n"
   ]
  },
  {
   "cell_type": "code",
   "execution_count": 7,
   "metadata": {},
   "outputs": [
    {
     "data": {
      "text/html": [
       "<div>\n",
       "<style scoped>\n",
       "    .dataframe tbody tr th:only-of-type {\n",
       "        vertical-align: middle;\n",
       "    }\n",
       "\n",
       "    .dataframe tbody tr th {\n",
       "        vertical-align: top;\n",
       "    }\n",
       "\n",
       "    .dataframe thead th {\n",
       "        text-align: right;\n",
       "    }\n",
       "</style>\n",
       "<table border=\"1\" class=\"dataframe\">\n",
       "  <thead>\n",
       "    <tr style=\"text-align: right;\">\n",
       "      <th></th>\n",
       "      <th>match</th>\n",
       "      <th>OQ</th>\n",
       "      <th>OSA</th>\n",
       "    </tr>\n",
       "  </thead>\n",
       "  <tbody>\n",
       "    <tr>\n",
       "      <th>0</th>\n",
       "      <td>1</td>\n",
       "      <td>fresh fruit</td>\n",
       "      <td>fruit</td>\n",
       "    </tr>\n",
       "    <tr>\n",
       "      <th>1</th>\n",
       "      <td>1</td>\n",
       "      <td>dried fruit</td>\n",
       "      <td>fruit</td>\n",
       "    </tr>\n",
       "    <tr>\n",
       "      <th>2</th>\n",
       "      <td>1</td>\n",
       "      <td>dried fruit</td>\n",
       "      <td>dried fruits</td>\n",
       "    </tr>\n",
       "    <tr>\n",
       "      <th>3</th>\n",
       "      <td>1</td>\n",
       "      <td>citrus</td>\n",
       "      <td>fruit</td>\n",
       "    </tr>\n",
       "    <tr>\n",
       "      <th>4</th>\n",
       "      <td>1</td>\n",
       "      <td>artificial fruit flavorings</td>\n",
       "      <td>fruit</td>\n",
       "    </tr>\n",
       "    <tr>\n",
       "      <th>5</th>\n",
       "      <td>1</td>\n",
       "      <td>nail varnish remover</td>\n",
       "      <td>solventy</td>\n",
       "    </tr>\n",
       "    <tr>\n",
       "      <th>6</th>\n",
       "      <td>1</td>\n",
       "      <td>unperfumed soap</td>\n",
       "      <td>soapy</td>\n",
       "    </tr>\n",
       "    <tr>\n",
       "      <th>7</th>\n",
       "      <td>1</td>\n",
       "      <td>vanilla</td>\n",
       "      <td>sweet</td>\n",
       "    </tr>\n",
       "    <tr>\n",
       "      <th>8</th>\n",
       "      <td>1</td>\n",
       "      <td>honey</td>\n",
       "      <td>sweet</td>\n",
       "    </tr>\n",
       "    <tr>\n",
       "      <th>9</th>\n",
       "      <td>1</td>\n",
       "      <td>toffee</td>\n",
       "      <td>sweet</td>\n",
       "    </tr>\n",
       "    <tr>\n",
       "      <th>10</th>\n",
       "      <td>1</td>\n",
       "      <td>oak</td>\n",
       "      <td>wood</td>\n",
       "    </tr>\n",
       "    <tr>\n",
       "      <th>11</th>\n",
       "      <td>1</td>\n",
       "      <td>new wood</td>\n",
       "      <td>wood</td>\n",
       "    </tr>\n",
       "    <tr>\n",
       "      <th>12</th>\n",
       "      <td>1</td>\n",
       "      <td>coconut</td>\n",
       "      <td>nutty</td>\n",
       "    </tr>\n",
       "    <tr>\n",
       "      <th>13</th>\n",
       "      <td>1</td>\n",
       "      <td>nuts</td>\n",
       "      <td>nutty</td>\n",
       "    </tr>\n",
       "    <tr>\n",
       "      <th>14</th>\n",
       "      <td>1</td>\n",
       "      <td>toasted</td>\n",
       "      <td>nutty</td>\n",
       "    </tr>\n",
       "    <tr>\n",
       "      <th>15</th>\n",
       "      <td>1</td>\n",
       "      <td>dried spice</td>\n",
       "      <td>spicy</td>\n",
       "    </tr>\n",
       "    <tr>\n",
       "      <th>16</th>\n",
       "      <td>1</td>\n",
       "      <td>peppery</td>\n",
       "      <td>spicy</td>\n",
       "    </tr>\n",
       "    <tr>\n",
       "      <th>17</th>\n",
       "      <td>1</td>\n",
       "      <td>buttery</td>\n",
       "      <td>oily</td>\n",
       "    </tr>\n",
       "    <tr>\n",
       "      <th>18</th>\n",
       "      <td>1</td>\n",
       "      <td>oils/fat</td>\n",
       "      <td>oily</td>\n",
       "    </tr>\n",
       "    <tr>\n",
       "      <th>19</th>\n",
       "      <td>1</td>\n",
       "      <td>waxy</td>\n",
       "      <td>oily</td>\n",
       "    </tr>\n",
       "    <tr>\n",
       "      <th>20</th>\n",
       "      <td>1</td>\n",
       "      <td>vinegary</td>\n",
       "      <td>sour</td>\n",
       "    </tr>\n",
       "    <tr>\n",
       "      <th>21</th>\n",
       "      <td>1</td>\n",
       "      <td>cheesy</td>\n",
       "      <td>sour</td>\n",
       "    </tr>\n",
       "    <tr>\n",
       "      <th>22</th>\n",
       "      <td>1</td>\n",
       "      <td>vomit</td>\n",
       "      <td>sour</td>\n",
       "    </tr>\n",
       "    <tr>\n",
       "      <th>23</th>\n",
       "      <td>1</td>\n",
       "      <td>cooked vegetables</td>\n",
       "      <td>sulphury</td>\n",
       "    </tr>\n",
       "    <tr>\n",
       "      <th>24</th>\n",
       "      <td>1</td>\n",
       "      <td>rubbery</td>\n",
       "      <td>sulphury</td>\n",
       "    </tr>\n",
       "    <tr>\n",
       "      <th>25</th>\n",
       "      <td>1</td>\n",
       "      <td>struck match</td>\n",
       "      <td>sulphury</td>\n",
       "    </tr>\n",
       "    <tr>\n",
       "      <th>26</th>\n",
       "      <td>1</td>\n",
       "      <td>decaying</td>\n",
       "      <td>sulphury</td>\n",
       "    </tr>\n",
       "    <tr>\n",
       "      <th>27</th>\n",
       "      <td>1</td>\n",
       "      <td>meaty</td>\n",
       "      <td>sulphury</td>\n",
       "    </tr>\n",
       "    <tr>\n",
       "      <th>28</th>\n",
       "      <td>1</td>\n",
       "      <td>earthy</td>\n",
       "      <td>stale</td>\n",
       "    </tr>\n",
       "    <tr>\n",
       "      <th>29</th>\n",
       "      <td>1</td>\n",
       "      <td>musty</td>\n",
       "      <td>stale</td>\n",
       "    </tr>\n",
       "    <tr>\n",
       "      <th>30</th>\n",
       "      <td>1</td>\n",
       "      <td>metallic</td>\n",
       "      <td>stale</td>\n",
       "    </tr>\n",
       "    <tr>\n",
       "      <th>31</th>\n",
       "      <td>1</td>\n",
       "      <td>smoke</td>\n",
       "      <td>peat</td>\n",
       "    </tr>\n",
       "    <tr>\n",
       "      <th>32</th>\n",
       "      <td>1</td>\n",
       "      <td>burnt</td>\n",
       "      <td>peat</td>\n",
       "    </tr>\n",
       "    <tr>\n",
       "      <th>33</th>\n",
       "      <td>1</td>\n",
       "      <td>medicinal</td>\n",
       "      <td>peat</td>\n",
       "    </tr>\n",
       "    <tr>\n",
       "      <th>34</th>\n",
       "      <td>1</td>\n",
       "      <td>leathery</td>\n",
       "      <td>feinty</td>\n",
       "    </tr>\n",
       "    <tr>\n",
       "      <th>35</th>\n",
       "      <td>1</td>\n",
       "      <td>tobacco</td>\n",
       "      <td>feinty</td>\n",
       "    </tr>\n",
       "    <tr>\n",
       "      <th>36</th>\n",
       "      <td>1</td>\n",
       "      <td>sweaty</td>\n",
       "      <td>feinty</td>\n",
       "    </tr>\n",
       "    <tr>\n",
       "      <th>37</th>\n",
       "      <td>1</td>\n",
       "      <td>dry cereals</td>\n",
       "      <td>cereal</td>\n",
       "    </tr>\n",
       "    <tr>\n",
       "      <th>38</th>\n",
       "      <td>1</td>\n",
       "      <td>dry cereals</td>\n",
       "      <td>malt</td>\n",
       "    </tr>\n",
       "    <tr>\n",
       "      <th>39</th>\n",
       "      <td>1</td>\n",
       "      <td>wet cereals</td>\n",
       "      <td>cereal</td>\n",
       "    </tr>\n",
       "    <tr>\n",
       "      <th>40</th>\n",
       "      <td>1</td>\n",
       "      <td>leafy</td>\n",
       "      <td>green/grassy</td>\n",
       "    </tr>\n",
       "    <tr>\n",
       "      <th>41</th>\n",
       "      <td>1</td>\n",
       "      <td>herbal</td>\n",
       "      <td>green/grassy</td>\n",
       "    </tr>\n",
       "    <tr>\n",
       "      <th>42</th>\n",
       "      <td>1</td>\n",
       "      <td>green vegetables</td>\n",
       "      <td>green/grassy</td>\n",
       "    </tr>\n",
       "    <tr>\n",
       "      <th>43</th>\n",
       "      <td>1</td>\n",
       "      <td>grass</td>\n",
       "      <td>green/grassy</td>\n",
       "    </tr>\n",
       "    <tr>\n",
       "      <th>44</th>\n",
       "      <td>1</td>\n",
       "      <td>ligneous</td>\n",
       "      <td>wood</td>\n",
       "    </tr>\n",
       "    <tr>\n",
       "      <th>45</th>\n",
       "      <td>1</td>\n",
       "      <td>vinous</td>\n",
       "      <td>wood</td>\n",
       "    </tr>\n",
       "  </tbody>\n",
       "</table>\n",
       "</div>"
      ],
      "text/plain": [
       "    match                           OQ           OSA\n",
       "0       1                  fresh fruit         fruit\n",
       "1       1                  dried fruit         fruit\n",
       "2       1                  dried fruit  dried fruits\n",
       "3       1                       citrus         fruit\n",
       "4       1  artificial fruit flavorings         fruit\n",
       "5       1         nail varnish remover      solventy\n",
       "6       1              unperfumed soap         soapy\n",
       "7       1                      vanilla         sweet\n",
       "8       1                        honey         sweet\n",
       "9       1                       toffee         sweet\n",
       "10      1                          oak          wood\n",
       "11      1                     new wood          wood\n",
       "12      1                      coconut         nutty\n",
       "13      1                         nuts         nutty\n",
       "14      1                      toasted         nutty\n",
       "15      1                  dried spice         spicy\n",
       "16      1                      peppery         spicy\n",
       "17      1                      buttery          oily\n",
       "18      1                     oils/fat          oily\n",
       "19      1                         waxy          oily\n",
       "20      1                     vinegary          sour\n",
       "21      1                       cheesy          sour\n",
       "22      1                        vomit          sour\n",
       "23      1            cooked vegetables      sulphury\n",
       "24      1                      rubbery      sulphury\n",
       "25      1                 struck match      sulphury\n",
       "26      1                     decaying      sulphury\n",
       "27      1                        meaty      sulphury\n",
       "28      1                       earthy         stale\n",
       "29      1                        musty         stale\n",
       "30      1                     metallic         stale\n",
       "31      1                        smoke          peat\n",
       "32      1                        burnt          peat\n",
       "33      1                    medicinal          peat\n",
       "34      1                     leathery        feinty\n",
       "35      1                      tobacco        feinty\n",
       "36      1                       sweaty        feinty\n",
       "37      1                  dry cereals        cereal\n",
       "38      1                  dry cereals          malt\n",
       "39      1                  wet cereals        cereal\n",
       "40      1                        leafy  green/grassy\n",
       "41      1                       herbal  green/grassy\n",
       "42      1             green vegetables  green/grassy\n",
       "43      1                        grass  green/grassy\n",
       "44      1                     ligneous          wood\n",
       "45      1                       vinous          wood"
      ]
     },
     "execution_count": 7,
     "metadata": {},
     "output_type": "execute_result"
    }
   ],
   "source": [
    "OQ_X_OSA = []\n",
    "for row in OQ_OSA_df.index:\n",
    "    for col in OQ_OSA_df.columns:\n",
    "        if OQ_OSA_df.loc[row, col] == 1:\n",
    "            new_row = {'match': 1, 'OQ': row, 'OSA': col}\n",
    "            OQ_X_OSA.append(new_row)\n",
    "            \n",
    "OQ_X_OSA= pd.DataFrame(OQ_X_OSA)\n",
    "OQ_X_OSA"
   ]
  },
  {
   "cell_type": "code",
   "execution_count": 8,
   "metadata": {},
   "outputs": [
    {
     "data": {
      "application/vnd.plotly.v1+json": {
       "config": {
        "plotlyServerURL": "https://plot.ly"
       },
       "data": [
        {
         "branchvalues": "total",
         "domain": {
          "x": [
           0,
           1
          ],
          "y": [
           0,
           1
          ]
         },
         "hovertemplate": "labels=%{label}<br>match=%{value}<br>parent=%{parent}<br>id=%{id}<extra></extra>",
         "ids": [
          "Fruity/AGRUMES",
          "Fruity/Apple",
          "Fruity/Apple peels",
          "Peel/Apple peels",
          "Fruity/Apricot",
          "Woody/BOISE",
          "Fruity/Banana",
          "Vegetable/Beany",
          "Fruity/Blueberry",
          "Toasty/Burnt",
          "Cooked/CARAMEL",
          "Leather/CUIR",
          "Vegetable/Cabbage",
          "Cooked/Caramelic",
          "Cooked/Caramellic",
          "Leather/Castoreum",
          "Vegetable/Celery",
          "Fruity/Cherry",
          "Fruity/Citrus",
          "Spicy/Clove",
          "Toasty/Coffee",
          "Vegetable/Cooked vegetables",
          "Vegetable/Corn",
          "Smoky/Dry-tarry",
          "Smoky/EMPYREUMATIQUE",
          "Toasty/EMPYREUMATIQUE",
          "Spicy/EPICE",
          "Fruity/Estery",
          "Fruity/Ethereal-fruity",
          "Fruity/Ethereal-nauseating",
          "Spicy/Eugenol",
          "Floral/FLORAL",
          "Fruity/FRUITE",
          "Fruity/FRUITS A PEPINS",
          "Cooked/FRUITS CUITS",
          "Fruity/FRUITS CUITS",
          "Fruity/FRUITS EXOTIQUES",
          "Fruity/FRUITS JAUNES/A NOYAUX",
          "Fruity/FRUITS NOIRS",
          "Fruity/FRUITS ROUGES",
          "Fruity/FRUITS SECS",
          "Smoky/FUME",
          "Vinous/Fermented-winey",
          "Floral/Floral",
          "Floral/Flower-petal",
          "Fruity/Fruity",
          "Fresh/Fruity-fresh",
          "Fruity/Fruity-fresh",
          "Fruity/Fruity-rum",
          "Vinous/Fruity-rum",
          "Fruity/Fruity-winey",
          "Vinous/Fruity-winey",
          "Floral/GERANIUM",
          "Green/Galbanum",
          "Fruity/Grape",
          "Fruity/Grapefruit",
          "Green/Green",
          "Fruity/Green fruity",
          "Green/Green fruity",
          "Fruity/Green-fruity",
          "Green/Green-fruity",
          "Green/Greener gassy",
          "Smoky/Guaiacol",
          "Spicy/Guaiacol",
          "Fruity/Guava",
          "Cut-grass/Herbaceous",
          "Green/Herbaceous",
          "Cut-grass/Herbal",
          "Green/Herbal",
          "Honey/Honey",
          "Floral/Hyacinth",
          "Lactonic/LACTONE",
          "Vegetable/LEGUMES CUITS",
          "Lactonic/Lactonic",
          "Green/Leafy-green",
          "Leather/Leather",
          "Smoky/Leather",
          "Leather/Leathery",
          "Smoky/Leathery",
          "Fresh/MENTHE/ANISE",
          "Spicy/MENTHE/ANISE",
          "Leather/Medicinal-leathery",
          "Smoky/Medicinal-leathery",
          "Floral/Mimosa",
          "Floral/Narcissus",
          "Vegetable/POMME DE TERRE",
          "Toasty/PYRAZIQUE",
          "Fruity/Passion fruit",
          "Vegetable/Pea",
          "Fruity/Peach",
          "Fruity/Peachy",
          "Fruity/Pear",
          "Fruity/Peels of unripe plums",
          "Peel/Peels of unripe plums",
          "Vegetable/Pepper bell",
          "Smoky/Phenolic",
          "Fruity/Pineapple",
          "Fruity/Pineapple skin",
          "Peel/Pineapple skin",
          "Vegetable/Potato",
          "Vegetable/Radish",
          "Fruity/Ripe fruit",
          "Floral/Rose",
          "Floral/Rose-honey",
          "Honey/Rose-honey",
          "Floral/Rosy-fruity",
          "Fruity/Rosy-fruity",
          "Sulfurous/SOUFRE",
          "Smoky/Smokey",
          "Smoky/Smoky",
          "Vegetable/Soup",
          "Spicy/Spicy",
          "Spicy/Spicy-medicinal",
          "Fruity/Strawberry",
          "Sulfurous/Sulfuraceous",
          "Sulfurous/Sulfurous",
          "Fruity/Sweet-ethereal",
          "Smoky/Tarry",
          "Smoky/Tarry-medicinal",
          "Smoky/Tarry-smoky",
          "Toasty/Toasted",
          "Vegetable/Tomato",
          "Spicy/Tonka",
          "Vanilla/Tonka",
          "Fruity/Tropical",
          "Fruity/Tutti fruti",
          "Vanilla/VANILLE - DOUX",
          "Green/VEGETAL VERT",
          "Violet/VIOLETTE",
          "Vanilla/Vanilla",
          "Vegetable/Vegetable",
          "Fruity/Vinous-fruity",
          "Vinous/Vinous-fruity",
          "Cut-grass/Weedy",
          "Vinous/Wine",
          "Vinous/Wine-yeast",
          "Vinous/Winey",
          "Woody/Woody",
          "Smoky/Woody-phenolic",
          "Woody/Woody-phenolic",
          "Cooked",
          "Cut-grass",
          "Floral",
          "Fresh",
          "Fruity",
          "Green",
          "Honey",
          "Lactonic",
          "Leather",
          "Peel",
          "Smoky",
          "Spicy",
          "Sulfurous",
          "Toasty",
          "Vanilla",
          "Vegetable",
          "Vinous",
          "Violet",
          "Woody"
         ],
         "labels": [
          "AGRUMES",
          "Apple",
          "Apple peels",
          "Apple peels",
          "Apricot",
          "BOISE",
          "Banana",
          "Beany",
          "Blueberry",
          "Burnt",
          "CARAMEL",
          "CUIR",
          "Cabbage",
          "Caramelic",
          "Caramellic",
          "Castoreum",
          "Celery",
          "Cherry",
          "Citrus",
          "Clove",
          "Coffee",
          "Cooked vegetables",
          "Corn",
          "Dry-tarry",
          "EMPYREUMATIQUE",
          "EMPYREUMATIQUE",
          "EPICE",
          "Estery",
          "Ethereal-fruity",
          "Ethereal-nauseating",
          "Eugenol",
          "FLORAL",
          "FRUITE",
          "FRUITS A PEPINS",
          "FRUITS CUITS",
          "FRUITS CUITS",
          "FRUITS EXOTIQUES",
          "FRUITS JAUNES/A NOYAUX",
          "FRUITS NOIRS",
          "FRUITS ROUGES",
          "FRUITS SECS",
          "FUME",
          "Fermented-winey",
          "Floral",
          "Flower-petal",
          "Fruity",
          "Fruity-fresh",
          "Fruity-fresh",
          "Fruity-rum",
          "Fruity-rum",
          "Fruity-winey",
          "Fruity-winey",
          "GERANIUM",
          "Galbanum",
          "Grape",
          "Grapefruit",
          "Green",
          "Green fruity",
          "Green fruity",
          "Green-fruity",
          "Green-fruity",
          "Greener gassy",
          "Guaiacol",
          "Guaiacol",
          "Guava",
          "Herbaceous",
          "Herbaceous",
          "Herbal",
          "Herbal",
          "Honey",
          "Hyacinth",
          "LACTONE",
          "LEGUMES CUITS",
          "Lactonic",
          "Leafy-green",
          "Leather",
          "Leather",
          "Leathery",
          "Leathery",
          "MENTHE/ANISE",
          "MENTHE/ANISE",
          "Medicinal-leathery",
          "Medicinal-leathery",
          "Mimosa",
          "Narcissus",
          "POMME DE TERRE",
          "PYRAZIQUE",
          "Passion fruit",
          "Pea",
          "Peach",
          "Peachy",
          "Pear",
          "Peels of unripe plums",
          "Peels of unripe plums",
          "Pepper bell",
          "Phenolic",
          "Pineapple",
          "Pineapple skin",
          "Pineapple skin",
          "Potato",
          "Radish",
          "Ripe fruit",
          "Rose",
          "Rose-honey",
          "Rose-honey",
          "Rosy-fruity",
          "Rosy-fruity",
          "SOUFRE",
          "Smokey",
          "Smoky",
          "Soup",
          "Spicy",
          "Spicy-medicinal",
          "Strawberry",
          "Sulfuraceous",
          "Sulfurous",
          "Sweet-ethereal",
          "Tarry",
          "Tarry-medicinal",
          "Tarry-smoky",
          "Toasted",
          "Tomato",
          "Tonka",
          "Tonka",
          "Tropical",
          "Tutti fruti",
          "VANILLE - DOUX",
          "VEGETAL VERT",
          "VIOLETTE",
          "Vanilla",
          "Vegetable",
          "Vinous-fruity",
          "Vinous-fruity",
          "Weedy",
          "Wine",
          "Wine-yeast",
          "Winey",
          "Woody",
          "Woody-phenolic",
          "Woody-phenolic",
          "Cooked",
          "Cut-grass",
          "Floral",
          "Fresh",
          "Fruity",
          "Green",
          "Honey",
          "Lactonic",
          "Leather",
          "Peel",
          "Smoky",
          "Spicy",
          "Sulfurous",
          "Toasty",
          "Vanilla",
          "Vegetable",
          "Vinous",
          "Violet",
          "Woody"
         ],
         "name": "",
         "parents": [
          "Fruity",
          "Fruity",
          "Fruity",
          "Peel",
          "Fruity",
          "Woody",
          "Fruity",
          "Vegetable",
          "Fruity",
          "Toasty",
          "Cooked",
          "Leather",
          "Vegetable",
          "Cooked",
          "Cooked",
          "Leather",
          "Vegetable",
          "Fruity",
          "Fruity",
          "Spicy",
          "Toasty",
          "Vegetable",
          "Vegetable",
          "Smoky",
          "Smoky",
          "Toasty",
          "Spicy",
          "Fruity",
          "Fruity",
          "Fruity",
          "Spicy",
          "Floral",
          "Fruity",
          "Fruity",
          "Cooked",
          "Fruity",
          "Fruity",
          "Fruity",
          "Fruity",
          "Fruity",
          "Fruity",
          "Smoky",
          "Vinous",
          "Floral",
          "Floral",
          "Fruity",
          "Fresh",
          "Fruity",
          "Fruity",
          "Vinous",
          "Fruity",
          "Vinous",
          "Floral",
          "Green",
          "Fruity",
          "Fruity",
          "Green",
          "Fruity",
          "Green",
          "Fruity",
          "Green",
          "Green",
          "Smoky",
          "Spicy",
          "Fruity",
          "Cut-grass",
          "Green",
          "Cut-grass",
          "Green",
          "Honey",
          "Floral",
          "Lactonic",
          "Vegetable",
          "Lactonic",
          "Green",
          "Leather",
          "Smoky",
          "Leather",
          "Smoky",
          "Fresh",
          "Spicy",
          "Leather",
          "Smoky",
          "Floral",
          "Floral",
          "Vegetable",
          "Toasty",
          "Fruity",
          "Vegetable",
          "Fruity",
          "Fruity",
          "Fruity",
          "Fruity",
          "Peel",
          "Vegetable",
          "Smoky",
          "Fruity",
          "Fruity",
          "Peel",
          "Vegetable",
          "Vegetable",
          "Fruity",
          "Floral",
          "Floral",
          "Honey",
          "Floral",
          "Fruity",
          "Sulfurous",
          "Smoky",
          "Smoky",
          "Vegetable",
          "Spicy",
          "Spicy",
          "Fruity",
          "Sulfurous",
          "Sulfurous",
          "Fruity",
          "Smoky",
          "Smoky",
          "Smoky",
          "Toasty",
          "Vegetable",
          "Spicy",
          "Vanilla",
          "Fruity",
          "Fruity",
          "Vanilla",
          "Green",
          "Violet",
          "Vanilla",
          "Vegetable",
          "Fruity",
          "Vinous",
          "Cut-grass",
          "Vinous",
          "Vinous",
          "Vinous",
          "Woody",
          "Smoky",
          "Woody",
          "",
          "",
          "",
          "",
          "",
          "",
          "",
          "",
          "",
          "",
          "",
          "",
          "",
          "",
          "",
          "",
          "",
          "",
          ""
         ],
         "type": "sunburst",
         "values": [
          1,
          1,
          1,
          1,
          1,
          1,
          1,
          1,
          1,
          1,
          1,
          1,
          1,
          1,
          1,
          1,
          1,
          1,
          1,
          1,
          1,
          1,
          1,
          1,
          1,
          1,
          1,
          1,
          1,
          1,
          1,
          1,
          1,
          1,
          1,
          1,
          1,
          1,
          1,
          1,
          1,
          1,
          1,
          1,
          1,
          1,
          1,
          1,
          1,
          1,
          1,
          1,
          1,
          1,
          1,
          1,
          1,
          1,
          1,
          1,
          1,
          1,
          1,
          1,
          1,
          1,
          1,
          1,
          1,
          1,
          1,
          1,
          1,
          1,
          1,
          1,
          1,
          1,
          1,
          1,
          1,
          1,
          1,
          1,
          1,
          1,
          1,
          1,
          1,
          1,
          1,
          1,
          1,
          1,
          1,
          1,
          1,
          1,
          1,
          1,
          1,
          1,
          1,
          1,
          1,
          1,
          1,
          1,
          1,
          1,
          1,
          1,
          1,
          1,
          1,
          1,
          1,
          1,
          1,
          1,
          1,
          1,
          1,
          1,
          1,
          1,
          1,
          1,
          1,
          1,
          1,
          1,
          1,
          1,
          1,
          1,
          1,
          1,
          1,
          1,
          4,
          3,
          10,
          2,
          42,
          9,
          2,
          2,
          5,
          3,
          14,
          8,
          3,
          5,
          3,
          14,
          7,
          1,
          3
         ]
        }
       ],
       "layout": {
        "legend": {
         "tracegroupgap": 0
        },
        "template": {
         "data": {
          "bar": [
           {
            "error_x": {
             "color": "#2a3f5f"
            },
            "error_y": {
             "color": "#2a3f5f"
            },
            "marker": {
             "line": {
              "color": "#E5ECF6",
              "width": 0.5
             },
             "pattern": {
              "fillmode": "overlay",
              "size": 10,
              "solidity": 0.2
             }
            },
            "type": "bar"
           }
          ],
          "barpolar": [
           {
            "marker": {
             "line": {
              "color": "#E5ECF6",
              "width": 0.5
             },
             "pattern": {
              "fillmode": "overlay",
              "size": 10,
              "solidity": 0.2
             }
            },
            "type": "barpolar"
           }
          ],
          "carpet": [
           {
            "aaxis": {
             "endlinecolor": "#2a3f5f",
             "gridcolor": "white",
             "linecolor": "white",
             "minorgridcolor": "white",
             "startlinecolor": "#2a3f5f"
            },
            "baxis": {
             "endlinecolor": "#2a3f5f",
             "gridcolor": "white",
             "linecolor": "white",
             "minorgridcolor": "white",
             "startlinecolor": "#2a3f5f"
            },
            "type": "carpet"
           }
          ],
          "choropleth": [
           {
            "colorbar": {
             "outlinewidth": 0,
             "ticks": ""
            },
            "type": "choropleth"
           }
          ],
          "contour": [
           {
            "colorbar": {
             "outlinewidth": 0,
             "ticks": ""
            },
            "colorscale": [
             [
              0,
              "#0d0887"
             ],
             [
              0.1111111111111111,
              "#46039f"
             ],
             [
              0.2222222222222222,
              "#7201a8"
             ],
             [
              0.3333333333333333,
              "#9c179e"
             ],
             [
              0.4444444444444444,
              "#bd3786"
             ],
             [
              0.5555555555555556,
              "#d8576b"
             ],
             [
              0.6666666666666666,
              "#ed7953"
             ],
             [
              0.7777777777777778,
              "#fb9f3a"
             ],
             [
              0.8888888888888888,
              "#fdca26"
             ],
             [
              1,
              "#f0f921"
             ]
            ],
            "type": "contour"
           }
          ],
          "contourcarpet": [
           {
            "colorbar": {
             "outlinewidth": 0,
             "ticks": ""
            },
            "type": "contourcarpet"
           }
          ],
          "heatmap": [
           {
            "colorbar": {
             "outlinewidth": 0,
             "ticks": ""
            },
            "colorscale": [
             [
              0,
              "#0d0887"
             ],
             [
              0.1111111111111111,
              "#46039f"
             ],
             [
              0.2222222222222222,
              "#7201a8"
             ],
             [
              0.3333333333333333,
              "#9c179e"
             ],
             [
              0.4444444444444444,
              "#bd3786"
             ],
             [
              0.5555555555555556,
              "#d8576b"
             ],
             [
              0.6666666666666666,
              "#ed7953"
             ],
             [
              0.7777777777777778,
              "#fb9f3a"
             ],
             [
              0.8888888888888888,
              "#fdca26"
             ],
             [
              1,
              "#f0f921"
             ]
            ],
            "type": "heatmap"
           }
          ],
          "heatmapgl": [
           {
            "colorbar": {
             "outlinewidth": 0,
             "ticks": ""
            },
            "colorscale": [
             [
              0,
              "#0d0887"
             ],
             [
              0.1111111111111111,
              "#46039f"
             ],
             [
              0.2222222222222222,
              "#7201a8"
             ],
             [
              0.3333333333333333,
              "#9c179e"
             ],
             [
              0.4444444444444444,
              "#bd3786"
             ],
             [
              0.5555555555555556,
              "#d8576b"
             ],
             [
              0.6666666666666666,
              "#ed7953"
             ],
             [
              0.7777777777777778,
              "#fb9f3a"
             ],
             [
              0.8888888888888888,
              "#fdca26"
             ],
             [
              1,
              "#f0f921"
             ]
            ],
            "type": "heatmapgl"
           }
          ],
          "histogram": [
           {
            "marker": {
             "pattern": {
              "fillmode": "overlay",
              "size": 10,
              "solidity": 0.2
             }
            },
            "type": "histogram"
           }
          ],
          "histogram2d": [
           {
            "colorbar": {
             "outlinewidth": 0,
             "ticks": ""
            },
            "colorscale": [
             [
              0,
              "#0d0887"
             ],
             [
              0.1111111111111111,
              "#46039f"
             ],
             [
              0.2222222222222222,
              "#7201a8"
             ],
             [
              0.3333333333333333,
              "#9c179e"
             ],
             [
              0.4444444444444444,
              "#bd3786"
             ],
             [
              0.5555555555555556,
              "#d8576b"
             ],
             [
              0.6666666666666666,
              "#ed7953"
             ],
             [
              0.7777777777777778,
              "#fb9f3a"
             ],
             [
              0.8888888888888888,
              "#fdca26"
             ],
             [
              1,
              "#f0f921"
             ]
            ],
            "type": "histogram2d"
           }
          ],
          "histogram2dcontour": [
           {
            "colorbar": {
             "outlinewidth": 0,
             "ticks": ""
            },
            "colorscale": [
             [
              0,
              "#0d0887"
             ],
             [
              0.1111111111111111,
              "#46039f"
             ],
             [
              0.2222222222222222,
              "#7201a8"
             ],
             [
              0.3333333333333333,
              "#9c179e"
             ],
             [
              0.4444444444444444,
              "#bd3786"
             ],
             [
              0.5555555555555556,
              "#d8576b"
             ],
             [
              0.6666666666666666,
              "#ed7953"
             ],
             [
              0.7777777777777778,
              "#fb9f3a"
             ],
             [
              0.8888888888888888,
              "#fdca26"
             ],
             [
              1,
              "#f0f921"
             ]
            ],
            "type": "histogram2dcontour"
           }
          ],
          "mesh3d": [
           {
            "colorbar": {
             "outlinewidth": 0,
             "ticks": ""
            },
            "type": "mesh3d"
           }
          ],
          "parcoords": [
           {
            "line": {
             "colorbar": {
              "outlinewidth": 0,
              "ticks": ""
             }
            },
            "type": "parcoords"
           }
          ],
          "pie": [
           {
            "automargin": true,
            "type": "pie"
           }
          ],
          "scatter": [
           {
            "fillpattern": {
             "fillmode": "overlay",
             "size": 10,
             "solidity": 0.2
            },
            "type": "scatter"
           }
          ],
          "scatter3d": [
           {
            "line": {
             "colorbar": {
              "outlinewidth": 0,
              "ticks": ""
             }
            },
            "marker": {
             "colorbar": {
              "outlinewidth": 0,
              "ticks": ""
             }
            },
            "type": "scatter3d"
           }
          ],
          "scattercarpet": [
           {
            "marker": {
             "colorbar": {
              "outlinewidth": 0,
              "ticks": ""
             }
            },
            "type": "scattercarpet"
           }
          ],
          "scattergeo": [
           {
            "marker": {
             "colorbar": {
              "outlinewidth": 0,
              "ticks": ""
             }
            },
            "type": "scattergeo"
           }
          ],
          "scattergl": [
           {
            "marker": {
             "colorbar": {
              "outlinewidth": 0,
              "ticks": ""
             }
            },
            "type": "scattergl"
           }
          ],
          "scattermapbox": [
           {
            "marker": {
             "colorbar": {
              "outlinewidth": 0,
              "ticks": ""
             }
            },
            "type": "scattermapbox"
           }
          ],
          "scatterpolar": [
           {
            "marker": {
             "colorbar": {
              "outlinewidth": 0,
              "ticks": ""
             }
            },
            "type": "scatterpolar"
           }
          ],
          "scatterpolargl": [
           {
            "marker": {
             "colorbar": {
              "outlinewidth": 0,
              "ticks": ""
             }
            },
            "type": "scatterpolargl"
           }
          ],
          "scatterternary": [
           {
            "marker": {
             "colorbar": {
              "outlinewidth": 0,
              "ticks": ""
             }
            },
            "type": "scatterternary"
           }
          ],
          "surface": [
           {
            "colorbar": {
             "outlinewidth": 0,
             "ticks": ""
            },
            "colorscale": [
             [
              0,
              "#0d0887"
             ],
             [
              0.1111111111111111,
              "#46039f"
             ],
             [
              0.2222222222222222,
              "#7201a8"
             ],
             [
              0.3333333333333333,
              "#9c179e"
             ],
             [
              0.4444444444444444,
              "#bd3786"
             ],
             [
              0.5555555555555556,
              "#d8576b"
             ],
             [
              0.6666666666666666,
              "#ed7953"
             ],
             [
              0.7777777777777778,
              "#fb9f3a"
             ],
             [
              0.8888888888888888,
              "#fdca26"
             ],
             [
              1,
              "#f0f921"
             ]
            ],
            "type": "surface"
           }
          ],
          "table": [
           {
            "cells": {
             "fill": {
              "color": "#EBF0F8"
             },
             "line": {
              "color": "white"
             }
            },
            "header": {
             "fill": {
              "color": "#C8D4E3"
             },
             "line": {
              "color": "white"
             }
            },
            "type": "table"
           }
          ]
         },
         "layout": {
          "annotationdefaults": {
           "arrowcolor": "#2a3f5f",
           "arrowhead": 0,
           "arrowwidth": 1
          },
          "autotypenumbers": "strict",
          "coloraxis": {
           "colorbar": {
            "outlinewidth": 0,
            "ticks": ""
           }
          },
          "colorscale": {
           "diverging": [
            [
             0,
             "#8e0152"
            ],
            [
             0.1,
             "#c51b7d"
            ],
            [
             0.2,
             "#de77ae"
            ],
            [
             0.3,
             "#f1b6da"
            ],
            [
             0.4,
             "#fde0ef"
            ],
            [
             0.5,
             "#f7f7f7"
            ],
            [
             0.6,
             "#e6f5d0"
            ],
            [
             0.7,
             "#b8e186"
            ],
            [
             0.8,
             "#7fbc41"
            ],
            [
             0.9,
             "#4d9221"
            ],
            [
             1,
             "#276419"
            ]
           ],
           "sequential": [
            [
             0,
             "#0d0887"
            ],
            [
             0.1111111111111111,
             "#46039f"
            ],
            [
             0.2222222222222222,
             "#7201a8"
            ],
            [
             0.3333333333333333,
             "#9c179e"
            ],
            [
             0.4444444444444444,
             "#bd3786"
            ],
            [
             0.5555555555555556,
             "#d8576b"
            ],
            [
             0.6666666666666666,
             "#ed7953"
            ],
            [
             0.7777777777777778,
             "#fb9f3a"
            ],
            [
             0.8888888888888888,
             "#fdca26"
            ],
            [
             1,
             "#f0f921"
            ]
           ],
           "sequentialminus": [
            [
             0,
             "#0d0887"
            ],
            [
             0.1111111111111111,
             "#46039f"
            ],
            [
             0.2222222222222222,
             "#7201a8"
            ],
            [
             0.3333333333333333,
             "#9c179e"
            ],
            [
             0.4444444444444444,
             "#bd3786"
            ],
            [
             0.5555555555555556,
             "#d8576b"
            ],
            [
             0.6666666666666666,
             "#ed7953"
            ],
            [
             0.7777777777777778,
             "#fb9f3a"
            ],
            [
             0.8888888888888888,
             "#fdca26"
            ],
            [
             1,
             "#f0f921"
            ]
           ]
          },
          "colorway": [
           "#636efa",
           "#EF553B",
           "#00cc96",
           "#ab63fa",
           "#FFA15A",
           "#19d3f3",
           "#FF6692",
           "#B6E880",
           "#FF97FF",
           "#FECB52"
          ],
          "font": {
           "color": "#2a3f5f"
          },
          "geo": {
           "bgcolor": "white",
           "lakecolor": "white",
           "landcolor": "#E5ECF6",
           "showlakes": true,
           "showland": true,
           "subunitcolor": "white"
          },
          "hoverlabel": {
           "align": "left"
          },
          "hovermode": "closest",
          "mapbox": {
           "style": "light"
          },
          "paper_bgcolor": "white",
          "plot_bgcolor": "#E5ECF6",
          "polar": {
           "angularaxis": {
            "gridcolor": "white",
            "linecolor": "white",
            "ticks": ""
           },
           "bgcolor": "#E5ECF6",
           "radialaxis": {
            "gridcolor": "white",
            "linecolor": "white",
            "ticks": ""
           }
          },
          "scene": {
           "xaxis": {
            "backgroundcolor": "#E5ECF6",
            "gridcolor": "white",
            "gridwidth": 2,
            "linecolor": "white",
            "showbackground": true,
            "ticks": "",
            "zerolinecolor": "white"
           },
           "yaxis": {
            "backgroundcolor": "#E5ECF6",
            "gridcolor": "white",
            "gridwidth": 2,
            "linecolor": "white",
            "showbackground": true,
            "ticks": "",
            "zerolinecolor": "white"
           },
           "zaxis": {
            "backgroundcolor": "#E5ECF6",
            "gridcolor": "white",
            "gridwidth": 2,
            "linecolor": "white",
            "showbackground": true,
            "ticks": "",
            "zerolinecolor": "white"
           }
          },
          "shapedefaults": {
           "line": {
            "color": "#2a3f5f"
           }
          },
          "ternary": {
           "aaxis": {
            "gridcolor": "white",
            "linecolor": "white",
            "ticks": ""
           },
           "baxis": {
            "gridcolor": "white",
            "linecolor": "white",
            "ticks": ""
           },
           "bgcolor": "#E5ECF6",
           "caxis": {
            "gridcolor": "white",
            "linecolor": "white",
            "ticks": ""
           }
          },
          "title": {
           "x": 0.05
          },
          "xaxis": {
           "automargin": true,
           "gridcolor": "white",
           "linecolor": "white",
           "ticks": "",
           "title": {
            "standoff": 15
           },
           "zerolinecolor": "white",
           "zerolinewidth": 2
          },
          "yaxis": {
           "automargin": true,
           "gridcolor": "white",
           "linecolor": "white",
           "ticks": "",
           "title": {
            "standoff": 15
           },
           "zerolinecolor": "white",
           "zerolinewidth": 2
          }
         }
        },
        "title": {
         "text": "OD x OQ"
        }
       }
      }
     },
     "metadata": {},
     "output_type": "display_data"
    }
   ],
   "source": [
    "import plotly.express as px\n",
    "fig = px.sunburst(OD_X_OQ, path=['OQ', 'OD'], values='match', title=\"OD x OQ\")\n",
    "fig.show()"
   ]
  },
  {
   "cell_type": "code",
   "execution_count": 9,
   "metadata": {},
   "outputs": [
    {
     "data": {
      "application/vnd.plotly.v1+json": {
       "config": {
        "plotlyServerURL": "https://plot.ly"
       },
       "data": [
        {
         "branchvalues": "total",
         "domain": {
          "x": [
           0,
           1
          ],
          "y": [
           0,
           1
          ]
         },
         "hovertemplate": "labels=%{label}<br>match=%{value}<br>parent=%{parent}<br>id=%{id}<extra></extra>",
         "ids": [
          "fruit/artificial fruit flavorings",
          "peat/burnt",
          "oily/buttery",
          "sour/cheesy",
          "fruit/citrus",
          "nutty/coconut",
          "sulphury/cooked vegetables",
          "sulphury/decaying",
          "dried fruits/dried fruit",
          "fruit/dried fruit",
          "spicy/dried spice",
          "cereal/dry cereals",
          "malt/dry cereals",
          "stale/earthy",
          "fruit/fresh fruit",
          "green/grassy/grass",
          "green/grassy/green vegetables",
          "green/grassy/herbal",
          "sweet/honey",
          "green/grassy/leafy",
          "feinty/leathery",
          "wood/ligneous",
          "sulphury/meaty",
          "peat/medicinal",
          "stale/metallic",
          "stale/musty",
          "solventy/nail varnish remover",
          "wood/new wood",
          "nutty/nuts",
          "wood/oak",
          "oily/oils/fat",
          "spicy/peppery",
          "sulphury/rubbery",
          "peat/smoke",
          "sulphury/struck match",
          "feinty/sweaty",
          "nutty/toasted",
          "feinty/tobacco",
          "sweet/toffee",
          "soapy/unperfumed soap",
          "sweet/vanilla",
          "sour/vinegary",
          "wood/vinous",
          "sour/vomit",
          "oily/waxy",
          "cereal/wet cereals",
          "cereal",
          "dried fruits",
          "feinty",
          "fruit",
          "green/grassy",
          "malt",
          "nutty",
          "oily",
          "peat",
          "soapy",
          "solventy",
          "sour",
          "spicy",
          "stale",
          "sulphury",
          "sweet",
          "wood"
         ],
         "labels": [
          "artificial fruit flavorings",
          "burnt",
          "buttery",
          "cheesy",
          "citrus",
          "coconut",
          "cooked vegetables",
          "decaying",
          "dried fruit",
          "dried fruit",
          "dried spice",
          "dry cereals",
          "dry cereals",
          "earthy",
          "fresh fruit",
          "grass",
          "green vegetables",
          "herbal",
          "honey",
          "leafy",
          "leathery",
          "ligneous",
          "meaty",
          "medicinal",
          "metallic",
          "musty",
          "nail varnish remover",
          "new wood",
          "nuts",
          "oak",
          "oils/fat",
          "peppery",
          "rubbery",
          "smoke",
          "struck match",
          "sweaty",
          "toasted",
          "tobacco",
          "toffee",
          "unperfumed soap",
          "vanilla",
          "vinegary",
          "vinous",
          "vomit",
          "waxy",
          "wet cereals",
          "cereal",
          "dried fruits",
          "feinty",
          "fruit",
          "green/grassy",
          "malt",
          "nutty",
          "oily",
          "peat",
          "soapy",
          "solventy",
          "sour",
          "spicy",
          "stale",
          "sulphury",
          "sweet",
          "wood"
         ],
         "name": "",
         "parents": [
          "fruit",
          "peat",
          "oily",
          "sour",
          "fruit",
          "nutty",
          "sulphury",
          "sulphury",
          "dried fruits",
          "fruit",
          "spicy",
          "cereal",
          "malt",
          "stale",
          "fruit",
          "green/grassy",
          "green/grassy",
          "green/grassy",
          "sweet",
          "green/grassy",
          "feinty",
          "wood",
          "sulphury",
          "peat",
          "stale",
          "stale",
          "solventy",
          "wood",
          "nutty",
          "wood",
          "oily",
          "spicy",
          "sulphury",
          "peat",
          "sulphury",
          "feinty",
          "nutty",
          "feinty",
          "sweet",
          "soapy",
          "sweet",
          "sour",
          "wood",
          "sour",
          "oily",
          "cereal",
          "",
          "",
          "",
          "",
          "",
          "",
          "",
          "",
          "",
          "",
          "",
          "",
          "",
          "",
          "",
          "",
          ""
         ],
         "type": "sunburst",
         "values": [
          1,
          1,
          1,
          1,
          1,
          1,
          1,
          1,
          1,
          1,
          1,
          1,
          1,
          1,
          1,
          1,
          1,
          1,
          1,
          1,
          1,
          1,
          1,
          1,
          1,
          1,
          1,
          1,
          1,
          1,
          1,
          1,
          1,
          1,
          1,
          1,
          1,
          1,
          1,
          1,
          1,
          1,
          1,
          1,
          1,
          1,
          2,
          1,
          3,
          4,
          4,
          1,
          3,
          3,
          3,
          1,
          1,
          3,
          2,
          3,
          5,
          3,
          4
         ]
        }
       ],
       "layout": {
        "legend": {
         "tracegroupgap": 0
        },
        "template": {
         "data": {
          "bar": [
           {
            "error_x": {
             "color": "#2a3f5f"
            },
            "error_y": {
             "color": "#2a3f5f"
            },
            "marker": {
             "line": {
              "color": "#E5ECF6",
              "width": 0.5
             },
             "pattern": {
              "fillmode": "overlay",
              "size": 10,
              "solidity": 0.2
             }
            },
            "type": "bar"
           }
          ],
          "barpolar": [
           {
            "marker": {
             "line": {
              "color": "#E5ECF6",
              "width": 0.5
             },
             "pattern": {
              "fillmode": "overlay",
              "size": 10,
              "solidity": 0.2
             }
            },
            "type": "barpolar"
           }
          ],
          "carpet": [
           {
            "aaxis": {
             "endlinecolor": "#2a3f5f",
             "gridcolor": "white",
             "linecolor": "white",
             "minorgridcolor": "white",
             "startlinecolor": "#2a3f5f"
            },
            "baxis": {
             "endlinecolor": "#2a3f5f",
             "gridcolor": "white",
             "linecolor": "white",
             "minorgridcolor": "white",
             "startlinecolor": "#2a3f5f"
            },
            "type": "carpet"
           }
          ],
          "choropleth": [
           {
            "colorbar": {
             "outlinewidth": 0,
             "ticks": ""
            },
            "type": "choropleth"
           }
          ],
          "contour": [
           {
            "colorbar": {
             "outlinewidth": 0,
             "ticks": ""
            },
            "colorscale": [
             [
              0,
              "#0d0887"
             ],
             [
              0.1111111111111111,
              "#46039f"
             ],
             [
              0.2222222222222222,
              "#7201a8"
             ],
             [
              0.3333333333333333,
              "#9c179e"
             ],
             [
              0.4444444444444444,
              "#bd3786"
             ],
             [
              0.5555555555555556,
              "#d8576b"
             ],
             [
              0.6666666666666666,
              "#ed7953"
             ],
             [
              0.7777777777777778,
              "#fb9f3a"
             ],
             [
              0.8888888888888888,
              "#fdca26"
             ],
             [
              1,
              "#f0f921"
             ]
            ],
            "type": "contour"
           }
          ],
          "contourcarpet": [
           {
            "colorbar": {
             "outlinewidth": 0,
             "ticks": ""
            },
            "type": "contourcarpet"
           }
          ],
          "heatmap": [
           {
            "colorbar": {
             "outlinewidth": 0,
             "ticks": ""
            },
            "colorscale": [
             [
              0,
              "#0d0887"
             ],
             [
              0.1111111111111111,
              "#46039f"
             ],
             [
              0.2222222222222222,
              "#7201a8"
             ],
             [
              0.3333333333333333,
              "#9c179e"
             ],
             [
              0.4444444444444444,
              "#bd3786"
             ],
             [
              0.5555555555555556,
              "#d8576b"
             ],
             [
              0.6666666666666666,
              "#ed7953"
             ],
             [
              0.7777777777777778,
              "#fb9f3a"
             ],
             [
              0.8888888888888888,
              "#fdca26"
             ],
             [
              1,
              "#f0f921"
             ]
            ],
            "type": "heatmap"
           }
          ],
          "heatmapgl": [
           {
            "colorbar": {
             "outlinewidth": 0,
             "ticks": ""
            },
            "colorscale": [
             [
              0,
              "#0d0887"
             ],
             [
              0.1111111111111111,
              "#46039f"
             ],
             [
              0.2222222222222222,
              "#7201a8"
             ],
             [
              0.3333333333333333,
              "#9c179e"
             ],
             [
              0.4444444444444444,
              "#bd3786"
             ],
             [
              0.5555555555555556,
              "#d8576b"
             ],
             [
              0.6666666666666666,
              "#ed7953"
             ],
             [
              0.7777777777777778,
              "#fb9f3a"
             ],
             [
              0.8888888888888888,
              "#fdca26"
             ],
             [
              1,
              "#f0f921"
             ]
            ],
            "type": "heatmapgl"
           }
          ],
          "histogram": [
           {
            "marker": {
             "pattern": {
              "fillmode": "overlay",
              "size": 10,
              "solidity": 0.2
             }
            },
            "type": "histogram"
           }
          ],
          "histogram2d": [
           {
            "colorbar": {
             "outlinewidth": 0,
             "ticks": ""
            },
            "colorscale": [
             [
              0,
              "#0d0887"
             ],
             [
              0.1111111111111111,
              "#46039f"
             ],
             [
              0.2222222222222222,
              "#7201a8"
             ],
             [
              0.3333333333333333,
              "#9c179e"
             ],
             [
              0.4444444444444444,
              "#bd3786"
             ],
             [
              0.5555555555555556,
              "#d8576b"
             ],
             [
              0.6666666666666666,
              "#ed7953"
             ],
             [
              0.7777777777777778,
              "#fb9f3a"
             ],
             [
              0.8888888888888888,
              "#fdca26"
             ],
             [
              1,
              "#f0f921"
             ]
            ],
            "type": "histogram2d"
           }
          ],
          "histogram2dcontour": [
           {
            "colorbar": {
             "outlinewidth": 0,
             "ticks": ""
            },
            "colorscale": [
             [
              0,
              "#0d0887"
             ],
             [
              0.1111111111111111,
              "#46039f"
             ],
             [
              0.2222222222222222,
              "#7201a8"
             ],
             [
              0.3333333333333333,
              "#9c179e"
             ],
             [
              0.4444444444444444,
              "#bd3786"
             ],
             [
              0.5555555555555556,
              "#d8576b"
             ],
             [
              0.6666666666666666,
              "#ed7953"
             ],
             [
              0.7777777777777778,
              "#fb9f3a"
             ],
             [
              0.8888888888888888,
              "#fdca26"
             ],
             [
              1,
              "#f0f921"
             ]
            ],
            "type": "histogram2dcontour"
           }
          ],
          "mesh3d": [
           {
            "colorbar": {
             "outlinewidth": 0,
             "ticks": ""
            },
            "type": "mesh3d"
           }
          ],
          "parcoords": [
           {
            "line": {
             "colorbar": {
              "outlinewidth": 0,
              "ticks": ""
             }
            },
            "type": "parcoords"
           }
          ],
          "pie": [
           {
            "automargin": true,
            "type": "pie"
           }
          ],
          "scatter": [
           {
            "fillpattern": {
             "fillmode": "overlay",
             "size": 10,
             "solidity": 0.2
            },
            "type": "scatter"
           }
          ],
          "scatter3d": [
           {
            "line": {
             "colorbar": {
              "outlinewidth": 0,
              "ticks": ""
             }
            },
            "marker": {
             "colorbar": {
              "outlinewidth": 0,
              "ticks": ""
             }
            },
            "type": "scatter3d"
           }
          ],
          "scattercarpet": [
           {
            "marker": {
             "colorbar": {
              "outlinewidth": 0,
              "ticks": ""
             }
            },
            "type": "scattercarpet"
           }
          ],
          "scattergeo": [
           {
            "marker": {
             "colorbar": {
              "outlinewidth": 0,
              "ticks": ""
             }
            },
            "type": "scattergeo"
           }
          ],
          "scattergl": [
           {
            "marker": {
             "colorbar": {
              "outlinewidth": 0,
              "ticks": ""
             }
            },
            "type": "scattergl"
           }
          ],
          "scattermapbox": [
           {
            "marker": {
             "colorbar": {
              "outlinewidth": 0,
              "ticks": ""
             }
            },
            "type": "scattermapbox"
           }
          ],
          "scatterpolar": [
           {
            "marker": {
             "colorbar": {
              "outlinewidth": 0,
              "ticks": ""
             }
            },
            "type": "scatterpolar"
           }
          ],
          "scatterpolargl": [
           {
            "marker": {
             "colorbar": {
              "outlinewidth": 0,
              "ticks": ""
             }
            },
            "type": "scatterpolargl"
           }
          ],
          "scatterternary": [
           {
            "marker": {
             "colorbar": {
              "outlinewidth": 0,
              "ticks": ""
             }
            },
            "type": "scatterternary"
           }
          ],
          "surface": [
           {
            "colorbar": {
             "outlinewidth": 0,
             "ticks": ""
            },
            "colorscale": [
             [
              0,
              "#0d0887"
             ],
             [
              0.1111111111111111,
              "#46039f"
             ],
             [
              0.2222222222222222,
              "#7201a8"
             ],
             [
              0.3333333333333333,
              "#9c179e"
             ],
             [
              0.4444444444444444,
              "#bd3786"
             ],
             [
              0.5555555555555556,
              "#d8576b"
             ],
             [
              0.6666666666666666,
              "#ed7953"
             ],
             [
              0.7777777777777778,
              "#fb9f3a"
             ],
             [
              0.8888888888888888,
              "#fdca26"
             ],
             [
              1,
              "#f0f921"
             ]
            ],
            "type": "surface"
           }
          ],
          "table": [
           {
            "cells": {
             "fill": {
              "color": "#EBF0F8"
             },
             "line": {
              "color": "white"
             }
            },
            "header": {
             "fill": {
              "color": "#C8D4E3"
             },
             "line": {
              "color": "white"
             }
            },
            "type": "table"
           }
          ]
         },
         "layout": {
          "annotationdefaults": {
           "arrowcolor": "#2a3f5f",
           "arrowhead": 0,
           "arrowwidth": 1
          },
          "autotypenumbers": "strict",
          "coloraxis": {
           "colorbar": {
            "outlinewidth": 0,
            "ticks": ""
           }
          },
          "colorscale": {
           "diverging": [
            [
             0,
             "#8e0152"
            ],
            [
             0.1,
             "#c51b7d"
            ],
            [
             0.2,
             "#de77ae"
            ],
            [
             0.3,
             "#f1b6da"
            ],
            [
             0.4,
             "#fde0ef"
            ],
            [
             0.5,
             "#f7f7f7"
            ],
            [
             0.6,
             "#e6f5d0"
            ],
            [
             0.7,
             "#b8e186"
            ],
            [
             0.8,
             "#7fbc41"
            ],
            [
             0.9,
             "#4d9221"
            ],
            [
             1,
             "#276419"
            ]
           ],
           "sequential": [
            [
             0,
             "#0d0887"
            ],
            [
             0.1111111111111111,
             "#46039f"
            ],
            [
             0.2222222222222222,
             "#7201a8"
            ],
            [
             0.3333333333333333,
             "#9c179e"
            ],
            [
             0.4444444444444444,
             "#bd3786"
            ],
            [
             0.5555555555555556,
             "#d8576b"
            ],
            [
             0.6666666666666666,
             "#ed7953"
            ],
            [
             0.7777777777777778,
             "#fb9f3a"
            ],
            [
             0.8888888888888888,
             "#fdca26"
            ],
            [
             1,
             "#f0f921"
            ]
           ],
           "sequentialminus": [
            [
             0,
             "#0d0887"
            ],
            [
             0.1111111111111111,
             "#46039f"
            ],
            [
             0.2222222222222222,
             "#7201a8"
            ],
            [
             0.3333333333333333,
             "#9c179e"
            ],
            [
             0.4444444444444444,
             "#bd3786"
            ],
            [
             0.5555555555555556,
             "#d8576b"
            ],
            [
             0.6666666666666666,
             "#ed7953"
            ],
            [
             0.7777777777777778,
             "#fb9f3a"
            ],
            [
             0.8888888888888888,
             "#fdca26"
            ],
            [
             1,
             "#f0f921"
            ]
           ]
          },
          "colorway": [
           "#636efa",
           "#EF553B",
           "#00cc96",
           "#ab63fa",
           "#FFA15A",
           "#19d3f3",
           "#FF6692",
           "#B6E880",
           "#FF97FF",
           "#FECB52"
          ],
          "font": {
           "color": "#2a3f5f"
          },
          "geo": {
           "bgcolor": "white",
           "lakecolor": "white",
           "landcolor": "#E5ECF6",
           "showlakes": true,
           "showland": true,
           "subunitcolor": "white"
          },
          "hoverlabel": {
           "align": "left"
          },
          "hovermode": "closest",
          "mapbox": {
           "style": "light"
          },
          "paper_bgcolor": "white",
          "plot_bgcolor": "#E5ECF6",
          "polar": {
           "angularaxis": {
            "gridcolor": "white",
            "linecolor": "white",
            "ticks": ""
           },
           "bgcolor": "#E5ECF6",
           "radialaxis": {
            "gridcolor": "white",
            "linecolor": "white",
            "ticks": ""
           }
          },
          "scene": {
           "xaxis": {
            "backgroundcolor": "#E5ECF6",
            "gridcolor": "white",
            "gridwidth": 2,
            "linecolor": "white",
            "showbackground": true,
            "ticks": "",
            "zerolinecolor": "white"
           },
           "yaxis": {
            "backgroundcolor": "#E5ECF6",
            "gridcolor": "white",
            "gridwidth": 2,
            "linecolor": "white",
            "showbackground": true,
            "ticks": "",
            "zerolinecolor": "white"
           },
           "zaxis": {
            "backgroundcolor": "#E5ECF6",
            "gridcolor": "white",
            "gridwidth": 2,
            "linecolor": "white",
            "showbackground": true,
            "ticks": "",
            "zerolinecolor": "white"
           }
          },
          "shapedefaults": {
           "line": {
            "color": "#2a3f5f"
           }
          },
          "ternary": {
           "aaxis": {
            "gridcolor": "white",
            "linecolor": "white",
            "ticks": ""
           },
           "baxis": {
            "gridcolor": "white",
            "linecolor": "white",
            "ticks": ""
           },
           "bgcolor": "#E5ECF6",
           "caxis": {
            "gridcolor": "white",
            "linecolor": "white",
            "ticks": ""
           }
          },
          "title": {
           "x": 0.05
          },
          "xaxis": {
           "automargin": true,
           "gridcolor": "white",
           "linecolor": "white",
           "ticks": "",
           "title": {
            "standoff": 15
           },
           "zerolinecolor": "white",
           "zerolinewidth": 2
          },
          "yaxis": {
           "automargin": true,
           "gridcolor": "white",
           "linecolor": "white",
           "ticks": "",
           "title": {
            "standoff": 15
           },
           "zerolinecolor": "white",
           "zerolinewidth": 2
          }
         }
        },
        "title": {
         "text": "OQ x OSA"
        }
       }
      }
     },
     "metadata": {},
     "output_type": "display_data"
    }
   ],
   "source": [
    "fig = px.sunburst(OQ_X_OSA, path=['OSA', 'OQ'], values='match', title=\"OQ x OSA\")\n",
    "fig.show()"
   ]
  },
  {
   "cell_type": "code",
   "execution_count": 10,
   "metadata": {},
   "outputs": [
    {
     "data": {
      "text/html": [
       "<div>\n",
       "<style scoped>\n",
       "    .dataframe tbody tr th:only-of-type {\n",
       "        vertical-align: middle;\n",
       "    }\n",
       "\n",
       "    .dataframe tbody tr th {\n",
       "        vertical-align: top;\n",
       "    }\n",
       "\n",
       "    .dataframe thead th {\n",
       "        text-align: right;\n",
       "    }\n",
       "</style>\n",
       "<table border=\"1\" class=\"dataframe\">\n",
       "  <thead>\n",
       "    <tr style=\"text-align: right;\">\n",
       "      <th></th>\n",
       "      <th>match</th>\n",
       "      <th>OD</th>\n",
       "      <th>OQ</th>\n",
       "      <th>OSA</th>\n",
       "    </tr>\n",
       "  </thead>\n",
       "  <tbody>\n",
       "    <tr>\n",
       "      <th>0</th>\n",
       "      <td>1</td>\n",
       "      <td>Fruity-fresh</td>\n",
       "      <td>fresh fruit</td>\n",
       "      <td>fruit</td>\n",
       "    </tr>\n",
       "    <tr>\n",
       "      <th>1</th>\n",
       "      <td>1</td>\n",
       "      <td>MENTHE/ANISE</td>\n",
       "      <td>fresh fruit</td>\n",
       "      <td>fruit</td>\n",
       "    </tr>\n",
       "    <tr>\n",
       "      <th>2</th>\n",
       "      <td>1</td>\n",
       "      <td>Tonka</td>\n",
       "      <td>vanilla</td>\n",
       "      <td>sweet</td>\n",
       "    </tr>\n",
       "    <tr>\n",
       "      <th>3</th>\n",
       "      <td>1</td>\n",
       "      <td>Vanilla</td>\n",
       "      <td>vanilla</td>\n",
       "      <td>sweet</td>\n",
       "    </tr>\n",
       "    <tr>\n",
       "      <th>4</th>\n",
       "      <td>1</td>\n",
       "      <td>VANILLE - DOUX</td>\n",
       "      <td>vanilla</td>\n",
       "      <td>sweet</td>\n",
       "    </tr>\n",
       "    <tr>\n",
       "      <th>...</th>\n",
       "      <td>...</td>\n",
       "      <td>...</td>\n",
       "      <td>...</td>\n",
       "      <td>...</td>\n",
       "    </tr>\n",
       "    <tr>\n",
       "      <th>86</th>\n",
       "      <td>1</td>\n",
       "      <td>Fruity-winey</td>\n",
       "      <td>vinous</td>\n",
       "      <td>wood</td>\n",
       "    </tr>\n",
       "    <tr>\n",
       "      <th>87</th>\n",
       "      <td>1</td>\n",
       "      <td>Vinous-fruity</td>\n",
       "      <td>vinous</td>\n",
       "      <td>wood</td>\n",
       "    </tr>\n",
       "    <tr>\n",
       "      <th>88</th>\n",
       "      <td>1</td>\n",
       "      <td>Wine</td>\n",
       "      <td>vinous</td>\n",
       "      <td>wood</td>\n",
       "    </tr>\n",
       "    <tr>\n",
       "      <th>89</th>\n",
       "      <td>1</td>\n",
       "      <td>Wine-yeast</td>\n",
       "      <td>vinous</td>\n",
       "      <td>wood</td>\n",
       "    </tr>\n",
       "    <tr>\n",
       "      <th>90</th>\n",
       "      <td>1</td>\n",
       "      <td>Winey</td>\n",
       "      <td>vinous</td>\n",
       "      <td>wood</td>\n",
       "    </tr>\n",
       "  </tbody>\n",
       "</table>\n",
       "<p>91 rows × 4 columns</p>\n",
       "</div>"
      ],
      "text/plain": [
       "    match              OD           OQ    OSA\n",
       "0       1    Fruity-fresh  fresh fruit  fruit\n",
       "1       1    MENTHE/ANISE  fresh fruit  fruit\n",
       "2       1           Tonka      vanilla  sweet\n",
       "3       1         Vanilla      vanilla  sweet\n",
       "4       1  VANILLE - DOUX      vanilla  sweet\n",
       "..    ...             ...          ...    ...\n",
       "86      1    Fruity-winey       vinous   wood\n",
       "87      1   Vinous-fruity       vinous   wood\n",
       "88      1            Wine       vinous   wood\n",
       "89      1      Wine-yeast       vinous   wood\n",
       "90      1           Winey       vinous   wood\n",
       "\n",
       "[91 rows x 4 columns]"
      ]
     },
     "execution_count": 10,
     "metadata": {},
     "output_type": "execute_result"
    }
   ],
   "source": [
    "# Merge the tables based on fuzzy ratio for the \"OQ\" column\n",
    "merged_data = []\n",
    "for index1, row1 in OQ_X_OSA.iterrows():\n",
    "    for index2, row2 in OD_X_OQ.iterrows():\n",
    "        ratio = fuzz.token_sort_ratio(row1[\"OQ\"], row2[\"OQ\"])\n",
    "        if ratio >= 60:  \n",
    "            merged_data.append({\n",
    "                \"match\": row1[\"match\"],\n",
    "                \"OD\": row2[\"OD\"],\n",
    "                \"OQ\": row1[\"OQ\"],\n",
    "                \"OSA\": row1[\"OSA\"]\n",
    "            })\n",
    "\n",
    "OD_OQ_OSA = pd.DataFrame(merged_data)\n",
    "OD_OQ_OSA\n"
   ]
  },
  {
   "cell_type": "code",
   "execution_count": 11,
   "metadata": {},
   "outputs": [
    {
     "data": {
      "application/vnd.plotly.v1+json": {
       "config": {
        "plotlyServerURL": "https://plot.ly"
       },
       "data": [
        {
         "branchvalues": "total",
         "domain": {
          "x": [
           0,
           1
          ],
          "y": [
           0,
           1
          ]
         },
         "hovertemplate": "labels=%{label}<br>match=%{value}<br>parent=%{parent}<br>id=%{id}<extra></extra>",
         "ids": [
          "wood/new wood/BOISE",
          "sulphury/cooked vegetables/Beany",
          "green/grassy/green vegetables/Beany",
          "nutty/toasted/Burnt",
          "stale/earthy/CUIR",
          "feinty/leathery/CUIR",
          "sulphury/cooked vegetables/Cabbage",
          "green/grassy/green vegetables/Cabbage",
          "stale/earthy/Castoreum",
          "feinty/leathery/Castoreum",
          "sulphury/cooked vegetables/Celery",
          "green/grassy/green vegetables/Celery",
          "nutty/toasted/Coffee",
          "sulphury/cooked vegetables/Cooked vegetables",
          "green/grassy/green vegetables/Cooked vegetables",
          "sulphury/cooked vegetables/Corn",
          "green/grassy/green vegetables/Corn",
          "peat/smoke/Dry-tarry",
          "peat/smoke/EMPYREUMATIQUE",
          "nutty/toasted/EMPYREUMATIQUE",
          "peat/smoke/FUME",
          "wood/ligneous/Fermented-winey",
          "nutty/nuts/Fermented-winey",
          "wood/vinous/Fermented-winey",
          "fruit/fresh fruit/Fruity-fresh",
          "wood/ligneous/Fruity-rum",
          "nutty/nuts/Fruity-rum",
          "wood/vinous/Fruity-rum",
          "wood/ligneous/Fruity-winey",
          "nutty/nuts/Fruity-winey",
          "wood/vinous/Fruity-winey",
          "peat/smoke/Guaiacol",
          "green/grassy/grass/Herbaceous",
          "green/grassy/grass/Herbal",
          "sweet/honey/Honey",
          "sulphury/cooked vegetables/LEGUMES CUITS",
          "green/grassy/green vegetables/LEGUMES CUITS",
          "stale/earthy/Leather",
          "feinty/leathery/Leather",
          "peat/smoke/Leather",
          "stale/earthy/Leathery",
          "feinty/leathery/Leathery",
          "peat/smoke/Leathery",
          "fruit/fresh fruit/MENTHE/ANISE",
          "stale/earthy/Medicinal-leathery",
          "feinty/leathery/Medicinal-leathery",
          "peat/smoke/Medicinal-leathery",
          "sulphury/cooked vegetables/POMME DE TERRE",
          "green/grassy/green vegetables/POMME DE TERRE",
          "nutty/toasted/PYRAZIQUE",
          "sulphury/cooked vegetables/Pea",
          "green/grassy/green vegetables/Pea",
          "sulphury/cooked vegetables/Pepper bell",
          "green/grassy/green vegetables/Pepper bell",
          "peat/smoke/Phenolic",
          "sulphury/cooked vegetables/Potato",
          "green/grassy/green vegetables/Potato",
          "sulphury/cooked vegetables/Radish",
          "green/grassy/green vegetables/Radish",
          "sweet/honey/Rose-honey",
          "peat/smoke/Smokey",
          "peat/smoke/Smoky",
          "sulphury/cooked vegetables/Soup",
          "green/grassy/green vegetables/Soup",
          "peat/smoke/Tarry",
          "peat/smoke/Tarry-medicinal",
          "peat/smoke/Tarry-smoky",
          "nutty/toasted/Toasted",
          "sulphury/cooked vegetables/Tomato",
          "green/grassy/green vegetables/Tomato",
          "sweet/vanilla/Tonka",
          "sweet/vanilla/VANILLE - DOUX",
          "sweet/vanilla/Vanilla",
          "sulphury/cooked vegetables/Vegetable",
          "green/grassy/green vegetables/Vegetable",
          "wood/ligneous/Vinous-fruity",
          "nutty/nuts/Vinous-fruity",
          "wood/vinous/Vinous-fruity",
          "green/grassy/grass/Weedy",
          "wood/ligneous/Wine",
          "nutty/nuts/Wine",
          "wood/vinous/Wine",
          "wood/ligneous/Wine-yeast",
          "nutty/nuts/Wine-yeast",
          "wood/vinous/Wine-yeast",
          "wood/ligneous/Winey",
          "nutty/nuts/Winey",
          "wood/vinous/Winey",
          "wood/new wood/Woody",
          "wood/new wood/Woody-phenolic",
          "peat/smoke/Woody-phenolic",
          "sulphury/cooked vegetables",
          "stale/earthy",
          "fruit/fresh fruit",
          "green/grassy/grass",
          "green/grassy/green vegetables",
          "sweet/honey",
          "feinty/leathery",
          "wood/ligneous",
          "wood/new wood",
          "nutty/nuts",
          "peat/smoke",
          "nutty/toasted",
          "sweet/vanilla",
          "wood/vinous",
          "feinty",
          "fruit",
          "green/grassy",
          "nutty",
          "peat",
          "stale",
          "sulphury",
          "sweet",
          "wood"
         ],
         "labels": [
          "BOISE",
          "Beany",
          "Beany",
          "Burnt",
          "CUIR",
          "CUIR",
          "Cabbage",
          "Cabbage",
          "Castoreum",
          "Castoreum",
          "Celery",
          "Celery",
          "Coffee",
          "Cooked vegetables",
          "Cooked vegetables",
          "Corn",
          "Corn",
          "Dry-tarry",
          "EMPYREUMATIQUE",
          "EMPYREUMATIQUE",
          "FUME",
          "Fermented-winey",
          "Fermented-winey",
          "Fermented-winey",
          "Fruity-fresh",
          "Fruity-rum",
          "Fruity-rum",
          "Fruity-rum",
          "Fruity-winey",
          "Fruity-winey",
          "Fruity-winey",
          "Guaiacol",
          "Herbaceous",
          "Herbal",
          "Honey",
          "LEGUMES CUITS",
          "LEGUMES CUITS",
          "Leather",
          "Leather",
          "Leather",
          "Leathery",
          "Leathery",
          "Leathery",
          "MENTHE/ANISE",
          "Medicinal-leathery",
          "Medicinal-leathery",
          "Medicinal-leathery",
          "POMME DE TERRE",
          "POMME DE TERRE",
          "PYRAZIQUE",
          "Pea",
          "Pea",
          "Pepper bell",
          "Pepper bell",
          "Phenolic",
          "Potato",
          "Potato",
          "Radish",
          "Radish",
          "Rose-honey",
          "Smokey",
          "Smoky",
          "Soup",
          "Soup",
          "Tarry",
          "Tarry-medicinal",
          "Tarry-smoky",
          "Toasted",
          "Tomato",
          "Tomato",
          "Tonka",
          "VANILLE - DOUX",
          "Vanilla",
          "Vegetable",
          "Vegetable",
          "Vinous-fruity",
          "Vinous-fruity",
          "Vinous-fruity",
          "Weedy",
          "Wine",
          "Wine",
          "Wine",
          "Wine-yeast",
          "Wine-yeast",
          "Wine-yeast",
          "Winey",
          "Winey",
          "Winey",
          "Woody",
          "Woody-phenolic",
          "Woody-phenolic",
          "cooked vegetables",
          "earthy",
          "fresh fruit",
          "grass",
          "green vegetables",
          "honey",
          "leathery",
          "ligneous",
          "new wood",
          "nuts",
          "smoke",
          "toasted",
          "vanilla",
          "vinous",
          "feinty",
          "fruit",
          "green/grassy",
          "nutty",
          "peat",
          "stale",
          "sulphury",
          "sweet",
          "wood"
         ],
         "name": "",
         "parents": [
          "wood/new wood",
          "sulphury/cooked vegetables",
          "green/grassy/green vegetables",
          "nutty/toasted",
          "stale/earthy",
          "feinty/leathery",
          "sulphury/cooked vegetables",
          "green/grassy/green vegetables",
          "stale/earthy",
          "feinty/leathery",
          "sulphury/cooked vegetables",
          "green/grassy/green vegetables",
          "nutty/toasted",
          "sulphury/cooked vegetables",
          "green/grassy/green vegetables",
          "sulphury/cooked vegetables",
          "green/grassy/green vegetables",
          "peat/smoke",
          "peat/smoke",
          "nutty/toasted",
          "peat/smoke",
          "wood/ligneous",
          "nutty/nuts",
          "wood/vinous",
          "fruit/fresh fruit",
          "wood/ligneous",
          "nutty/nuts",
          "wood/vinous",
          "wood/ligneous",
          "nutty/nuts",
          "wood/vinous",
          "peat/smoke",
          "green/grassy/grass",
          "green/grassy/grass",
          "sweet/honey",
          "sulphury/cooked vegetables",
          "green/grassy/green vegetables",
          "stale/earthy",
          "feinty/leathery",
          "peat/smoke",
          "stale/earthy",
          "feinty/leathery",
          "peat/smoke",
          "fruit/fresh fruit",
          "stale/earthy",
          "feinty/leathery",
          "peat/smoke",
          "sulphury/cooked vegetables",
          "green/grassy/green vegetables",
          "nutty/toasted",
          "sulphury/cooked vegetables",
          "green/grassy/green vegetables",
          "sulphury/cooked vegetables",
          "green/grassy/green vegetables",
          "peat/smoke",
          "sulphury/cooked vegetables",
          "green/grassy/green vegetables",
          "sulphury/cooked vegetables",
          "green/grassy/green vegetables",
          "sweet/honey",
          "peat/smoke",
          "peat/smoke",
          "sulphury/cooked vegetables",
          "green/grassy/green vegetables",
          "peat/smoke",
          "peat/smoke",
          "peat/smoke",
          "nutty/toasted",
          "sulphury/cooked vegetables",
          "green/grassy/green vegetables",
          "sweet/vanilla",
          "sweet/vanilla",
          "sweet/vanilla",
          "sulphury/cooked vegetables",
          "green/grassy/green vegetables",
          "wood/ligneous",
          "nutty/nuts",
          "wood/vinous",
          "green/grassy/grass",
          "wood/ligneous",
          "nutty/nuts",
          "wood/vinous",
          "wood/ligneous",
          "nutty/nuts",
          "wood/vinous",
          "wood/ligneous",
          "nutty/nuts",
          "wood/vinous",
          "wood/new wood",
          "wood/new wood",
          "peat/smoke",
          "sulphury",
          "stale",
          "fruit",
          "green/grassy",
          "green/grassy",
          "sweet",
          "feinty",
          "wood",
          "wood",
          "nutty",
          "peat",
          "nutty",
          "sweet",
          "wood",
          "",
          "",
          "",
          "",
          "",
          "",
          "",
          "",
          ""
         ],
         "type": "sunburst",
         "values": [
          1,
          1,
          1,
          1,
          1,
          1,
          1,
          1,
          1,
          1,
          1,
          1,
          1,
          1,
          1,
          1,
          1,
          1,
          1,
          1,
          1,
          1,
          1,
          1,
          1,
          1,
          1,
          1,
          1,
          1,
          1,
          1,
          1,
          1,
          1,
          1,
          1,
          1,
          1,
          1,
          1,
          1,
          1,
          1,
          1,
          1,
          1,
          1,
          1,
          1,
          1,
          1,
          1,
          1,
          1,
          1,
          1,
          1,
          1,
          1,
          1,
          1,
          1,
          1,
          1,
          1,
          1,
          1,
          1,
          1,
          1,
          1,
          1,
          1,
          1,
          1,
          1,
          1,
          1,
          1,
          1,
          1,
          1,
          1,
          1,
          1,
          1,
          1,
          1,
          1,
          1,
          14,
          5,
          2,
          3,
          14,
          2,
          5,
          7,
          3,
          7,
          14,
          5,
          3,
          7,
          5,
          2,
          17,
          12,
          14,
          5,
          14,
          5,
          17
         ]
        }
       ],
       "layout": {
        "legend": {
         "tracegroupgap": 0
        },
        "template": {
         "data": {
          "bar": [
           {
            "error_x": {
             "color": "#2a3f5f"
            },
            "error_y": {
             "color": "#2a3f5f"
            },
            "marker": {
             "line": {
              "color": "#E5ECF6",
              "width": 0.5
             },
             "pattern": {
              "fillmode": "overlay",
              "size": 10,
              "solidity": 0.2
             }
            },
            "type": "bar"
           }
          ],
          "barpolar": [
           {
            "marker": {
             "line": {
              "color": "#E5ECF6",
              "width": 0.5
             },
             "pattern": {
              "fillmode": "overlay",
              "size": 10,
              "solidity": 0.2
             }
            },
            "type": "barpolar"
           }
          ],
          "carpet": [
           {
            "aaxis": {
             "endlinecolor": "#2a3f5f",
             "gridcolor": "white",
             "linecolor": "white",
             "minorgridcolor": "white",
             "startlinecolor": "#2a3f5f"
            },
            "baxis": {
             "endlinecolor": "#2a3f5f",
             "gridcolor": "white",
             "linecolor": "white",
             "minorgridcolor": "white",
             "startlinecolor": "#2a3f5f"
            },
            "type": "carpet"
           }
          ],
          "choropleth": [
           {
            "colorbar": {
             "outlinewidth": 0,
             "ticks": ""
            },
            "type": "choropleth"
           }
          ],
          "contour": [
           {
            "colorbar": {
             "outlinewidth": 0,
             "ticks": ""
            },
            "colorscale": [
             [
              0,
              "#0d0887"
             ],
             [
              0.1111111111111111,
              "#46039f"
             ],
             [
              0.2222222222222222,
              "#7201a8"
             ],
             [
              0.3333333333333333,
              "#9c179e"
             ],
             [
              0.4444444444444444,
              "#bd3786"
             ],
             [
              0.5555555555555556,
              "#d8576b"
             ],
             [
              0.6666666666666666,
              "#ed7953"
             ],
             [
              0.7777777777777778,
              "#fb9f3a"
             ],
             [
              0.8888888888888888,
              "#fdca26"
             ],
             [
              1,
              "#f0f921"
             ]
            ],
            "type": "contour"
           }
          ],
          "contourcarpet": [
           {
            "colorbar": {
             "outlinewidth": 0,
             "ticks": ""
            },
            "type": "contourcarpet"
           }
          ],
          "heatmap": [
           {
            "colorbar": {
             "outlinewidth": 0,
             "ticks": ""
            },
            "colorscale": [
             [
              0,
              "#0d0887"
             ],
             [
              0.1111111111111111,
              "#46039f"
             ],
             [
              0.2222222222222222,
              "#7201a8"
             ],
             [
              0.3333333333333333,
              "#9c179e"
             ],
             [
              0.4444444444444444,
              "#bd3786"
             ],
             [
              0.5555555555555556,
              "#d8576b"
             ],
             [
              0.6666666666666666,
              "#ed7953"
             ],
             [
              0.7777777777777778,
              "#fb9f3a"
             ],
             [
              0.8888888888888888,
              "#fdca26"
             ],
             [
              1,
              "#f0f921"
             ]
            ],
            "type": "heatmap"
           }
          ],
          "heatmapgl": [
           {
            "colorbar": {
             "outlinewidth": 0,
             "ticks": ""
            },
            "colorscale": [
             [
              0,
              "#0d0887"
             ],
             [
              0.1111111111111111,
              "#46039f"
             ],
             [
              0.2222222222222222,
              "#7201a8"
             ],
             [
              0.3333333333333333,
              "#9c179e"
             ],
             [
              0.4444444444444444,
              "#bd3786"
             ],
             [
              0.5555555555555556,
              "#d8576b"
             ],
             [
              0.6666666666666666,
              "#ed7953"
             ],
             [
              0.7777777777777778,
              "#fb9f3a"
             ],
             [
              0.8888888888888888,
              "#fdca26"
             ],
             [
              1,
              "#f0f921"
             ]
            ],
            "type": "heatmapgl"
           }
          ],
          "histogram": [
           {
            "marker": {
             "pattern": {
              "fillmode": "overlay",
              "size": 10,
              "solidity": 0.2
             }
            },
            "type": "histogram"
           }
          ],
          "histogram2d": [
           {
            "colorbar": {
             "outlinewidth": 0,
             "ticks": ""
            },
            "colorscale": [
             [
              0,
              "#0d0887"
             ],
             [
              0.1111111111111111,
              "#46039f"
             ],
             [
              0.2222222222222222,
              "#7201a8"
             ],
             [
              0.3333333333333333,
              "#9c179e"
             ],
             [
              0.4444444444444444,
              "#bd3786"
             ],
             [
              0.5555555555555556,
              "#d8576b"
             ],
             [
              0.6666666666666666,
              "#ed7953"
             ],
             [
              0.7777777777777778,
              "#fb9f3a"
             ],
             [
              0.8888888888888888,
              "#fdca26"
             ],
             [
              1,
              "#f0f921"
             ]
            ],
            "type": "histogram2d"
           }
          ],
          "histogram2dcontour": [
           {
            "colorbar": {
             "outlinewidth": 0,
             "ticks": ""
            },
            "colorscale": [
             [
              0,
              "#0d0887"
             ],
             [
              0.1111111111111111,
              "#46039f"
             ],
             [
              0.2222222222222222,
              "#7201a8"
             ],
             [
              0.3333333333333333,
              "#9c179e"
             ],
             [
              0.4444444444444444,
              "#bd3786"
             ],
             [
              0.5555555555555556,
              "#d8576b"
             ],
             [
              0.6666666666666666,
              "#ed7953"
             ],
             [
              0.7777777777777778,
              "#fb9f3a"
             ],
             [
              0.8888888888888888,
              "#fdca26"
             ],
             [
              1,
              "#f0f921"
             ]
            ],
            "type": "histogram2dcontour"
           }
          ],
          "mesh3d": [
           {
            "colorbar": {
             "outlinewidth": 0,
             "ticks": ""
            },
            "type": "mesh3d"
           }
          ],
          "parcoords": [
           {
            "line": {
             "colorbar": {
              "outlinewidth": 0,
              "ticks": ""
             }
            },
            "type": "parcoords"
           }
          ],
          "pie": [
           {
            "automargin": true,
            "type": "pie"
           }
          ],
          "scatter": [
           {
            "fillpattern": {
             "fillmode": "overlay",
             "size": 10,
             "solidity": 0.2
            },
            "type": "scatter"
           }
          ],
          "scatter3d": [
           {
            "line": {
             "colorbar": {
              "outlinewidth": 0,
              "ticks": ""
             }
            },
            "marker": {
             "colorbar": {
              "outlinewidth": 0,
              "ticks": ""
             }
            },
            "type": "scatter3d"
           }
          ],
          "scattercarpet": [
           {
            "marker": {
             "colorbar": {
              "outlinewidth": 0,
              "ticks": ""
             }
            },
            "type": "scattercarpet"
           }
          ],
          "scattergeo": [
           {
            "marker": {
             "colorbar": {
              "outlinewidth": 0,
              "ticks": ""
             }
            },
            "type": "scattergeo"
           }
          ],
          "scattergl": [
           {
            "marker": {
             "colorbar": {
              "outlinewidth": 0,
              "ticks": ""
             }
            },
            "type": "scattergl"
           }
          ],
          "scattermapbox": [
           {
            "marker": {
             "colorbar": {
              "outlinewidth": 0,
              "ticks": ""
             }
            },
            "type": "scattermapbox"
           }
          ],
          "scatterpolar": [
           {
            "marker": {
             "colorbar": {
              "outlinewidth": 0,
              "ticks": ""
             }
            },
            "type": "scatterpolar"
           }
          ],
          "scatterpolargl": [
           {
            "marker": {
             "colorbar": {
              "outlinewidth": 0,
              "ticks": ""
             }
            },
            "type": "scatterpolargl"
           }
          ],
          "scatterternary": [
           {
            "marker": {
             "colorbar": {
              "outlinewidth": 0,
              "ticks": ""
             }
            },
            "type": "scatterternary"
           }
          ],
          "surface": [
           {
            "colorbar": {
             "outlinewidth": 0,
             "ticks": ""
            },
            "colorscale": [
             [
              0,
              "#0d0887"
             ],
             [
              0.1111111111111111,
              "#46039f"
             ],
             [
              0.2222222222222222,
              "#7201a8"
             ],
             [
              0.3333333333333333,
              "#9c179e"
             ],
             [
              0.4444444444444444,
              "#bd3786"
             ],
             [
              0.5555555555555556,
              "#d8576b"
             ],
             [
              0.6666666666666666,
              "#ed7953"
             ],
             [
              0.7777777777777778,
              "#fb9f3a"
             ],
             [
              0.8888888888888888,
              "#fdca26"
             ],
             [
              1,
              "#f0f921"
             ]
            ],
            "type": "surface"
           }
          ],
          "table": [
           {
            "cells": {
             "fill": {
              "color": "#EBF0F8"
             },
             "line": {
              "color": "white"
             }
            },
            "header": {
             "fill": {
              "color": "#C8D4E3"
             },
             "line": {
              "color": "white"
             }
            },
            "type": "table"
           }
          ]
         },
         "layout": {
          "annotationdefaults": {
           "arrowcolor": "#2a3f5f",
           "arrowhead": 0,
           "arrowwidth": 1
          },
          "autotypenumbers": "strict",
          "coloraxis": {
           "colorbar": {
            "outlinewidth": 0,
            "ticks": ""
           }
          },
          "colorscale": {
           "diverging": [
            [
             0,
             "#8e0152"
            ],
            [
             0.1,
             "#c51b7d"
            ],
            [
             0.2,
             "#de77ae"
            ],
            [
             0.3,
             "#f1b6da"
            ],
            [
             0.4,
             "#fde0ef"
            ],
            [
             0.5,
             "#f7f7f7"
            ],
            [
             0.6,
             "#e6f5d0"
            ],
            [
             0.7,
             "#b8e186"
            ],
            [
             0.8,
             "#7fbc41"
            ],
            [
             0.9,
             "#4d9221"
            ],
            [
             1,
             "#276419"
            ]
           ],
           "sequential": [
            [
             0,
             "#0d0887"
            ],
            [
             0.1111111111111111,
             "#46039f"
            ],
            [
             0.2222222222222222,
             "#7201a8"
            ],
            [
             0.3333333333333333,
             "#9c179e"
            ],
            [
             0.4444444444444444,
             "#bd3786"
            ],
            [
             0.5555555555555556,
             "#d8576b"
            ],
            [
             0.6666666666666666,
             "#ed7953"
            ],
            [
             0.7777777777777778,
             "#fb9f3a"
            ],
            [
             0.8888888888888888,
             "#fdca26"
            ],
            [
             1,
             "#f0f921"
            ]
           ],
           "sequentialminus": [
            [
             0,
             "#0d0887"
            ],
            [
             0.1111111111111111,
             "#46039f"
            ],
            [
             0.2222222222222222,
             "#7201a8"
            ],
            [
             0.3333333333333333,
             "#9c179e"
            ],
            [
             0.4444444444444444,
             "#bd3786"
            ],
            [
             0.5555555555555556,
             "#d8576b"
            ],
            [
             0.6666666666666666,
             "#ed7953"
            ],
            [
             0.7777777777777778,
             "#fb9f3a"
            ],
            [
             0.8888888888888888,
             "#fdca26"
            ],
            [
             1,
             "#f0f921"
            ]
           ]
          },
          "colorway": [
           "#636efa",
           "#EF553B",
           "#00cc96",
           "#ab63fa",
           "#FFA15A",
           "#19d3f3",
           "#FF6692",
           "#B6E880",
           "#FF97FF",
           "#FECB52"
          ],
          "font": {
           "color": "#2a3f5f"
          },
          "geo": {
           "bgcolor": "white",
           "lakecolor": "white",
           "landcolor": "#E5ECF6",
           "showlakes": true,
           "showland": true,
           "subunitcolor": "white"
          },
          "hoverlabel": {
           "align": "left"
          },
          "hovermode": "closest",
          "mapbox": {
           "style": "light"
          },
          "paper_bgcolor": "white",
          "plot_bgcolor": "#E5ECF6",
          "polar": {
           "angularaxis": {
            "gridcolor": "white",
            "linecolor": "white",
            "ticks": ""
           },
           "bgcolor": "#E5ECF6",
           "radialaxis": {
            "gridcolor": "white",
            "linecolor": "white",
            "ticks": ""
           }
          },
          "scene": {
           "xaxis": {
            "backgroundcolor": "#E5ECF6",
            "gridcolor": "white",
            "gridwidth": 2,
            "linecolor": "white",
            "showbackground": true,
            "ticks": "",
            "zerolinecolor": "white"
           },
           "yaxis": {
            "backgroundcolor": "#E5ECF6",
            "gridcolor": "white",
            "gridwidth": 2,
            "linecolor": "white",
            "showbackground": true,
            "ticks": "",
            "zerolinecolor": "white"
           },
           "zaxis": {
            "backgroundcolor": "#E5ECF6",
            "gridcolor": "white",
            "gridwidth": 2,
            "linecolor": "white",
            "showbackground": true,
            "ticks": "",
            "zerolinecolor": "white"
           }
          },
          "shapedefaults": {
           "line": {
            "color": "#2a3f5f"
           }
          },
          "ternary": {
           "aaxis": {
            "gridcolor": "white",
            "linecolor": "white",
            "ticks": ""
           },
           "baxis": {
            "gridcolor": "white",
            "linecolor": "white",
            "ticks": ""
           },
           "bgcolor": "#E5ECF6",
           "caxis": {
            "gridcolor": "white",
            "linecolor": "white",
            "ticks": ""
           }
          },
          "title": {
           "x": 0.05
          },
          "xaxis": {
           "automargin": true,
           "gridcolor": "white",
           "linecolor": "white",
           "ticks": "",
           "title": {
            "standoff": 15
           },
           "zerolinecolor": "white",
           "zerolinewidth": 2
          },
          "yaxis": {
           "automargin": true,
           "gridcolor": "white",
           "linecolor": "white",
           "ticks": "",
           "title": {
            "standoff": 15
           },
           "zerolinecolor": "white",
           "zerolinewidth": 2
          }
         }
        },
        "title": {
         "text": "OD x OQ x OSA"
        }
       }
      }
     },
     "metadata": {},
     "output_type": "display_data"
    }
   ],
   "source": [
    "fig = px.sunburst(OD_OQ_OSA, path=['OSA', 'OQ', 'OD'], values='match', title=\"OD x OQ x OSA\")\n",
    "fig.show()"
   ]
  },
  {
   "cell_type": "markdown",
   "metadata": {},
   "source": [
    "## sankey plot"
   ]
  },
  {
   "cell_type": "code",
   "execution_count": 12,
   "metadata": {},
   "outputs": [],
   "source": [
    "import plotly.graph_objects as go"
   ]
  },
  {
   "cell_type": "code",
   "execution_count": 13,
   "metadata": {},
   "outputs": [
    {
     "data": {
      "text/html": [
       "<div>\n",
       "<style scoped>\n",
       "    .dataframe tbody tr th:only-of-type {\n",
       "        vertical-align: middle;\n",
       "    }\n",
       "\n",
       "    .dataframe tbody tr th {\n",
       "        vertical-align: top;\n",
       "    }\n",
       "\n",
       "    .dataframe thead th {\n",
       "        text-align: right;\n",
       "    }\n",
       "</style>\n",
       "<table border=\"1\" class=\"dataframe\">\n",
       "  <thead>\n",
       "    <tr style=\"text-align: right;\">\n",
       "      <th></th>\n",
       "      <th>match</th>\n",
       "      <th>OQ</th>\n",
       "      <th>OSA</th>\n",
       "    </tr>\n",
       "  </thead>\n",
       "  <tbody>\n",
       "    <tr>\n",
       "      <th>0</th>\n",
       "      <td>1</td>\n",
       "      <td>fresh fruit</td>\n",
       "      <td>fruit</td>\n",
       "    </tr>\n",
       "    <tr>\n",
       "      <th>1</th>\n",
       "      <td>1</td>\n",
       "      <td>dried fruit</td>\n",
       "      <td>fruit</td>\n",
       "    </tr>\n",
       "    <tr>\n",
       "      <th>2</th>\n",
       "      <td>1</td>\n",
       "      <td>dried fruit</td>\n",
       "      <td>dried fruits</td>\n",
       "    </tr>\n",
       "    <tr>\n",
       "      <th>3</th>\n",
       "      <td>1</td>\n",
       "      <td>citrus</td>\n",
       "      <td>fruit</td>\n",
       "    </tr>\n",
       "    <tr>\n",
       "      <th>4</th>\n",
       "      <td>1</td>\n",
       "      <td>artificial fruit flavorings</td>\n",
       "      <td>fruit</td>\n",
       "    </tr>\n",
       "    <tr>\n",
       "      <th>5</th>\n",
       "      <td>1</td>\n",
       "      <td>nail varnish remover</td>\n",
       "      <td>solventy</td>\n",
       "    </tr>\n",
       "    <tr>\n",
       "      <th>6</th>\n",
       "      <td>1</td>\n",
       "      <td>unperfumed soap</td>\n",
       "      <td>soapy</td>\n",
       "    </tr>\n",
       "    <tr>\n",
       "      <th>7</th>\n",
       "      <td>1</td>\n",
       "      <td>vanilla</td>\n",
       "      <td>sweet</td>\n",
       "    </tr>\n",
       "    <tr>\n",
       "      <th>8</th>\n",
       "      <td>1</td>\n",
       "      <td>honey</td>\n",
       "      <td>sweet</td>\n",
       "    </tr>\n",
       "    <tr>\n",
       "      <th>9</th>\n",
       "      <td>1</td>\n",
       "      <td>toffee</td>\n",
       "      <td>sweet</td>\n",
       "    </tr>\n",
       "    <tr>\n",
       "      <th>10</th>\n",
       "      <td>1</td>\n",
       "      <td>oak</td>\n",
       "      <td>wood</td>\n",
       "    </tr>\n",
       "    <tr>\n",
       "      <th>11</th>\n",
       "      <td>1</td>\n",
       "      <td>new wood</td>\n",
       "      <td>wood</td>\n",
       "    </tr>\n",
       "    <tr>\n",
       "      <th>12</th>\n",
       "      <td>1</td>\n",
       "      <td>coconut</td>\n",
       "      <td>nutty</td>\n",
       "    </tr>\n",
       "    <tr>\n",
       "      <th>13</th>\n",
       "      <td>1</td>\n",
       "      <td>nuts</td>\n",
       "      <td>nutty</td>\n",
       "    </tr>\n",
       "    <tr>\n",
       "      <th>14</th>\n",
       "      <td>1</td>\n",
       "      <td>toasted</td>\n",
       "      <td>nutty</td>\n",
       "    </tr>\n",
       "    <tr>\n",
       "      <th>15</th>\n",
       "      <td>1</td>\n",
       "      <td>dried spice</td>\n",
       "      <td>spicy</td>\n",
       "    </tr>\n",
       "    <tr>\n",
       "      <th>16</th>\n",
       "      <td>1</td>\n",
       "      <td>peppery</td>\n",
       "      <td>spicy</td>\n",
       "    </tr>\n",
       "    <tr>\n",
       "      <th>17</th>\n",
       "      <td>1</td>\n",
       "      <td>buttery</td>\n",
       "      <td>oily</td>\n",
       "    </tr>\n",
       "    <tr>\n",
       "      <th>18</th>\n",
       "      <td>1</td>\n",
       "      <td>oils/fat</td>\n",
       "      <td>oily</td>\n",
       "    </tr>\n",
       "    <tr>\n",
       "      <th>19</th>\n",
       "      <td>1</td>\n",
       "      <td>waxy</td>\n",
       "      <td>oily</td>\n",
       "    </tr>\n",
       "    <tr>\n",
       "      <th>20</th>\n",
       "      <td>1</td>\n",
       "      <td>vinegary</td>\n",
       "      <td>sour</td>\n",
       "    </tr>\n",
       "    <tr>\n",
       "      <th>21</th>\n",
       "      <td>1</td>\n",
       "      <td>cheesy</td>\n",
       "      <td>sour</td>\n",
       "    </tr>\n",
       "    <tr>\n",
       "      <th>22</th>\n",
       "      <td>1</td>\n",
       "      <td>vomit</td>\n",
       "      <td>sour</td>\n",
       "    </tr>\n",
       "    <tr>\n",
       "      <th>23</th>\n",
       "      <td>1</td>\n",
       "      <td>cooked vegetables</td>\n",
       "      <td>sulphury</td>\n",
       "    </tr>\n",
       "    <tr>\n",
       "      <th>24</th>\n",
       "      <td>1</td>\n",
       "      <td>rubbery</td>\n",
       "      <td>sulphury</td>\n",
       "    </tr>\n",
       "    <tr>\n",
       "      <th>25</th>\n",
       "      <td>1</td>\n",
       "      <td>struck match</td>\n",
       "      <td>sulphury</td>\n",
       "    </tr>\n",
       "    <tr>\n",
       "      <th>26</th>\n",
       "      <td>1</td>\n",
       "      <td>decaying</td>\n",
       "      <td>sulphury</td>\n",
       "    </tr>\n",
       "    <tr>\n",
       "      <th>27</th>\n",
       "      <td>1</td>\n",
       "      <td>meaty</td>\n",
       "      <td>sulphury</td>\n",
       "    </tr>\n",
       "    <tr>\n",
       "      <th>28</th>\n",
       "      <td>1</td>\n",
       "      <td>earthy</td>\n",
       "      <td>stale</td>\n",
       "    </tr>\n",
       "    <tr>\n",
       "      <th>29</th>\n",
       "      <td>1</td>\n",
       "      <td>musty</td>\n",
       "      <td>stale</td>\n",
       "    </tr>\n",
       "    <tr>\n",
       "      <th>30</th>\n",
       "      <td>1</td>\n",
       "      <td>metallic</td>\n",
       "      <td>stale</td>\n",
       "    </tr>\n",
       "    <tr>\n",
       "      <th>31</th>\n",
       "      <td>1</td>\n",
       "      <td>smoke</td>\n",
       "      <td>peat</td>\n",
       "    </tr>\n",
       "    <tr>\n",
       "      <th>32</th>\n",
       "      <td>1</td>\n",
       "      <td>burnt</td>\n",
       "      <td>peat</td>\n",
       "    </tr>\n",
       "    <tr>\n",
       "      <th>33</th>\n",
       "      <td>1</td>\n",
       "      <td>medicinal</td>\n",
       "      <td>peat</td>\n",
       "    </tr>\n",
       "    <tr>\n",
       "      <th>34</th>\n",
       "      <td>1</td>\n",
       "      <td>leathery</td>\n",
       "      <td>feinty</td>\n",
       "    </tr>\n",
       "    <tr>\n",
       "      <th>35</th>\n",
       "      <td>1</td>\n",
       "      <td>tobacco</td>\n",
       "      <td>feinty</td>\n",
       "    </tr>\n",
       "    <tr>\n",
       "      <th>36</th>\n",
       "      <td>1</td>\n",
       "      <td>sweaty</td>\n",
       "      <td>feinty</td>\n",
       "    </tr>\n",
       "    <tr>\n",
       "      <th>37</th>\n",
       "      <td>1</td>\n",
       "      <td>dry cereals</td>\n",
       "      <td>cereal</td>\n",
       "    </tr>\n",
       "    <tr>\n",
       "      <th>38</th>\n",
       "      <td>1</td>\n",
       "      <td>dry cereals</td>\n",
       "      <td>malt</td>\n",
       "    </tr>\n",
       "    <tr>\n",
       "      <th>39</th>\n",
       "      <td>1</td>\n",
       "      <td>wet cereals</td>\n",
       "      <td>cereal</td>\n",
       "    </tr>\n",
       "    <tr>\n",
       "      <th>40</th>\n",
       "      <td>1</td>\n",
       "      <td>leafy</td>\n",
       "      <td>green/grassy</td>\n",
       "    </tr>\n",
       "    <tr>\n",
       "      <th>41</th>\n",
       "      <td>1</td>\n",
       "      <td>herbal</td>\n",
       "      <td>green/grassy</td>\n",
       "    </tr>\n",
       "    <tr>\n",
       "      <th>42</th>\n",
       "      <td>1</td>\n",
       "      <td>green vegetables</td>\n",
       "      <td>green/grassy</td>\n",
       "    </tr>\n",
       "    <tr>\n",
       "      <th>43</th>\n",
       "      <td>1</td>\n",
       "      <td>grass</td>\n",
       "      <td>green/grassy</td>\n",
       "    </tr>\n",
       "    <tr>\n",
       "      <th>44</th>\n",
       "      <td>1</td>\n",
       "      <td>ligneous</td>\n",
       "      <td>wood</td>\n",
       "    </tr>\n",
       "    <tr>\n",
       "      <th>45</th>\n",
       "      <td>1</td>\n",
       "      <td>vinous</td>\n",
       "      <td>wood</td>\n",
       "    </tr>\n",
       "  </tbody>\n",
       "</table>\n",
       "</div>"
      ],
      "text/plain": [
       "    match                           OQ           OSA\n",
       "0       1                  fresh fruit         fruit\n",
       "1       1                  dried fruit         fruit\n",
       "2       1                  dried fruit  dried fruits\n",
       "3       1                       citrus         fruit\n",
       "4       1  artificial fruit flavorings         fruit\n",
       "5       1         nail varnish remover      solventy\n",
       "6       1              unperfumed soap         soapy\n",
       "7       1                      vanilla         sweet\n",
       "8       1                        honey         sweet\n",
       "9       1                       toffee         sweet\n",
       "10      1                          oak          wood\n",
       "11      1                     new wood          wood\n",
       "12      1                      coconut         nutty\n",
       "13      1                         nuts         nutty\n",
       "14      1                      toasted         nutty\n",
       "15      1                  dried spice         spicy\n",
       "16      1                      peppery         spicy\n",
       "17      1                      buttery          oily\n",
       "18      1                     oils/fat          oily\n",
       "19      1                         waxy          oily\n",
       "20      1                     vinegary          sour\n",
       "21      1                       cheesy          sour\n",
       "22      1                        vomit          sour\n",
       "23      1            cooked vegetables      sulphury\n",
       "24      1                      rubbery      sulphury\n",
       "25      1                 struck match      sulphury\n",
       "26      1                     decaying      sulphury\n",
       "27      1                        meaty      sulphury\n",
       "28      1                       earthy         stale\n",
       "29      1                        musty         stale\n",
       "30      1                     metallic         stale\n",
       "31      1                        smoke          peat\n",
       "32      1                        burnt          peat\n",
       "33      1                    medicinal          peat\n",
       "34      1                     leathery        feinty\n",
       "35      1                      tobacco        feinty\n",
       "36      1                       sweaty        feinty\n",
       "37      1                  dry cereals        cereal\n",
       "38      1                  dry cereals          malt\n",
       "39      1                  wet cereals        cereal\n",
       "40      1                        leafy  green/grassy\n",
       "41      1                       herbal  green/grassy\n",
       "42      1             green vegetables  green/grassy\n",
       "43      1                        grass  green/grassy\n",
       "44      1                     ligneous          wood\n",
       "45      1                       vinous          wood"
      ]
     },
     "execution_count": 13,
     "metadata": {},
     "output_type": "execute_result"
    }
   ],
   "source": [
    "OQ_X_OSA"
   ]
  },
  {
   "cell_type": "code",
   "execution_count": 14,
   "metadata": {},
   "outputs": [],
   "source": [
    "OD_list = OD_OQ_OSA[\"OD\"]\n",
    "OQ_list = OD_OQ_OSA[\"OQ\"]\n",
    "OSA_list = OD_OQ_OSA[\"OSA\"]"
   ]
  },
  {
   "cell_type": "code",
   "execution_count": 15,
   "metadata": {},
   "outputs": [
    {
     "data": {
      "text/html": [
       "<div>\n",
       "<style scoped>\n",
       "    .dataframe tbody tr th:only-of-type {\n",
       "        vertical-align: middle;\n",
       "    }\n",
       "\n",
       "    .dataframe tbody tr th {\n",
       "        vertical-align: top;\n",
       "    }\n",
       "\n",
       "    .dataframe thead th {\n",
       "        text-align: right;\n",
       "    }\n",
       "</style>\n",
       "<table border=\"1\" class=\"dataframe\">\n",
       "  <thead>\n",
       "    <tr style=\"text-align: right;\">\n",
       "      <th></th>\n",
       "      <th>match</th>\n",
       "      <th>OQ</th>\n",
       "      <th>OSA</th>\n",
       "    </tr>\n",
       "  </thead>\n",
       "  <tbody>\n",
       "    <tr>\n",
       "      <th>0</th>\n",
       "      <td>1</td>\n",
       "      <td>fresh fruit</td>\n",
       "      <td>fruit</td>\n",
       "    </tr>\n",
       "    <tr>\n",
       "      <th>1</th>\n",
       "      <td>1</td>\n",
       "      <td>dried fruit</td>\n",
       "      <td>fruit</td>\n",
       "    </tr>\n",
       "    <tr>\n",
       "      <th>2</th>\n",
       "      <td>1</td>\n",
       "      <td>dried fruit</td>\n",
       "      <td>dried fruits</td>\n",
       "    </tr>\n",
       "    <tr>\n",
       "      <th>3</th>\n",
       "      <td>1</td>\n",
       "      <td>citrus</td>\n",
       "      <td>fruit</td>\n",
       "    </tr>\n",
       "    <tr>\n",
       "      <th>4</th>\n",
       "      <td>1</td>\n",
       "      <td>artificial fruit flavorings</td>\n",
       "      <td>fruit</td>\n",
       "    </tr>\n",
       "    <tr>\n",
       "      <th>5</th>\n",
       "      <td>1</td>\n",
       "      <td>nail varnish remover</td>\n",
       "      <td>solventy</td>\n",
       "    </tr>\n",
       "    <tr>\n",
       "      <th>6</th>\n",
       "      <td>1</td>\n",
       "      <td>unperfumed soap</td>\n",
       "      <td>soapy</td>\n",
       "    </tr>\n",
       "    <tr>\n",
       "      <th>7</th>\n",
       "      <td>1</td>\n",
       "      <td>vanilla</td>\n",
       "      <td>sweet</td>\n",
       "    </tr>\n",
       "    <tr>\n",
       "      <th>8</th>\n",
       "      <td>1</td>\n",
       "      <td>honey</td>\n",
       "      <td>sweet</td>\n",
       "    </tr>\n",
       "    <tr>\n",
       "      <th>9</th>\n",
       "      <td>1</td>\n",
       "      <td>toffee</td>\n",
       "      <td>sweet</td>\n",
       "    </tr>\n",
       "    <tr>\n",
       "      <th>10</th>\n",
       "      <td>1</td>\n",
       "      <td>oak</td>\n",
       "      <td>wood</td>\n",
       "    </tr>\n",
       "    <tr>\n",
       "      <th>11</th>\n",
       "      <td>1</td>\n",
       "      <td>new wood</td>\n",
       "      <td>wood</td>\n",
       "    </tr>\n",
       "    <tr>\n",
       "      <th>12</th>\n",
       "      <td>1</td>\n",
       "      <td>coconut</td>\n",
       "      <td>nutty</td>\n",
       "    </tr>\n",
       "    <tr>\n",
       "      <th>13</th>\n",
       "      <td>1</td>\n",
       "      <td>nuts</td>\n",
       "      <td>nutty</td>\n",
       "    </tr>\n",
       "    <tr>\n",
       "      <th>14</th>\n",
       "      <td>1</td>\n",
       "      <td>toasted</td>\n",
       "      <td>nutty</td>\n",
       "    </tr>\n",
       "    <tr>\n",
       "      <th>15</th>\n",
       "      <td>1</td>\n",
       "      <td>dried spice</td>\n",
       "      <td>spicy</td>\n",
       "    </tr>\n",
       "    <tr>\n",
       "      <th>16</th>\n",
       "      <td>1</td>\n",
       "      <td>peppery</td>\n",
       "      <td>spicy</td>\n",
       "    </tr>\n",
       "    <tr>\n",
       "      <th>17</th>\n",
       "      <td>1</td>\n",
       "      <td>buttery</td>\n",
       "      <td>oily</td>\n",
       "    </tr>\n",
       "    <tr>\n",
       "      <th>18</th>\n",
       "      <td>1</td>\n",
       "      <td>oils/fat</td>\n",
       "      <td>oily</td>\n",
       "    </tr>\n",
       "    <tr>\n",
       "      <th>19</th>\n",
       "      <td>1</td>\n",
       "      <td>waxy</td>\n",
       "      <td>oily</td>\n",
       "    </tr>\n",
       "    <tr>\n",
       "      <th>20</th>\n",
       "      <td>1</td>\n",
       "      <td>vinegary</td>\n",
       "      <td>sour</td>\n",
       "    </tr>\n",
       "    <tr>\n",
       "      <th>21</th>\n",
       "      <td>1</td>\n",
       "      <td>cheesy</td>\n",
       "      <td>sour</td>\n",
       "    </tr>\n",
       "    <tr>\n",
       "      <th>22</th>\n",
       "      <td>1</td>\n",
       "      <td>vomit</td>\n",
       "      <td>sour</td>\n",
       "    </tr>\n",
       "    <tr>\n",
       "      <th>23</th>\n",
       "      <td>1</td>\n",
       "      <td>cooked vegetables</td>\n",
       "      <td>sulphury</td>\n",
       "    </tr>\n",
       "    <tr>\n",
       "      <th>24</th>\n",
       "      <td>1</td>\n",
       "      <td>rubbery</td>\n",
       "      <td>sulphury</td>\n",
       "    </tr>\n",
       "    <tr>\n",
       "      <th>25</th>\n",
       "      <td>1</td>\n",
       "      <td>struck match</td>\n",
       "      <td>sulphury</td>\n",
       "    </tr>\n",
       "    <tr>\n",
       "      <th>26</th>\n",
       "      <td>1</td>\n",
       "      <td>decaying</td>\n",
       "      <td>sulphury</td>\n",
       "    </tr>\n",
       "    <tr>\n",
       "      <th>27</th>\n",
       "      <td>1</td>\n",
       "      <td>meaty</td>\n",
       "      <td>sulphury</td>\n",
       "    </tr>\n",
       "    <tr>\n",
       "      <th>28</th>\n",
       "      <td>1</td>\n",
       "      <td>earthy</td>\n",
       "      <td>stale</td>\n",
       "    </tr>\n",
       "    <tr>\n",
       "      <th>29</th>\n",
       "      <td>1</td>\n",
       "      <td>musty</td>\n",
       "      <td>stale</td>\n",
       "    </tr>\n",
       "    <tr>\n",
       "      <th>30</th>\n",
       "      <td>1</td>\n",
       "      <td>metallic</td>\n",
       "      <td>stale</td>\n",
       "    </tr>\n",
       "    <tr>\n",
       "      <th>31</th>\n",
       "      <td>1</td>\n",
       "      <td>smoke</td>\n",
       "      <td>peat</td>\n",
       "    </tr>\n",
       "    <tr>\n",
       "      <th>32</th>\n",
       "      <td>1</td>\n",
       "      <td>burnt</td>\n",
       "      <td>peat</td>\n",
       "    </tr>\n",
       "    <tr>\n",
       "      <th>33</th>\n",
       "      <td>1</td>\n",
       "      <td>medicinal</td>\n",
       "      <td>peat</td>\n",
       "    </tr>\n",
       "    <tr>\n",
       "      <th>34</th>\n",
       "      <td>1</td>\n",
       "      <td>leathery</td>\n",
       "      <td>feinty</td>\n",
       "    </tr>\n",
       "    <tr>\n",
       "      <th>35</th>\n",
       "      <td>1</td>\n",
       "      <td>tobacco</td>\n",
       "      <td>feinty</td>\n",
       "    </tr>\n",
       "    <tr>\n",
       "      <th>36</th>\n",
       "      <td>1</td>\n",
       "      <td>sweaty</td>\n",
       "      <td>feinty</td>\n",
       "    </tr>\n",
       "    <tr>\n",
       "      <th>37</th>\n",
       "      <td>1</td>\n",
       "      <td>dry cereals</td>\n",
       "      <td>cereal</td>\n",
       "    </tr>\n",
       "    <tr>\n",
       "      <th>38</th>\n",
       "      <td>1</td>\n",
       "      <td>dry cereals</td>\n",
       "      <td>malt</td>\n",
       "    </tr>\n",
       "    <tr>\n",
       "      <th>39</th>\n",
       "      <td>1</td>\n",
       "      <td>wet cereals</td>\n",
       "      <td>cereal</td>\n",
       "    </tr>\n",
       "    <tr>\n",
       "      <th>40</th>\n",
       "      <td>1</td>\n",
       "      <td>leafy</td>\n",
       "      <td>green/grassy</td>\n",
       "    </tr>\n",
       "    <tr>\n",
       "      <th>41</th>\n",
       "      <td>1</td>\n",
       "      <td>herbal</td>\n",
       "      <td>green/grassy</td>\n",
       "    </tr>\n",
       "    <tr>\n",
       "      <th>42</th>\n",
       "      <td>1</td>\n",
       "      <td>green vegetables</td>\n",
       "      <td>green/grassy</td>\n",
       "    </tr>\n",
       "    <tr>\n",
       "      <th>43</th>\n",
       "      <td>1</td>\n",
       "      <td>grass</td>\n",
       "      <td>green/grassy</td>\n",
       "    </tr>\n",
       "    <tr>\n",
       "      <th>44</th>\n",
       "      <td>1</td>\n",
       "      <td>ligneous</td>\n",
       "      <td>wood</td>\n",
       "    </tr>\n",
       "    <tr>\n",
       "      <th>45</th>\n",
       "      <td>1</td>\n",
       "      <td>vinous</td>\n",
       "      <td>wood</td>\n",
       "    </tr>\n",
       "  </tbody>\n",
       "</table>\n",
       "</div>"
      ],
      "text/plain": [
       "    match                           OQ           OSA\n",
       "0       1                  fresh fruit         fruit\n",
       "1       1                  dried fruit         fruit\n",
       "2       1                  dried fruit  dried fruits\n",
       "3       1                       citrus         fruit\n",
       "4       1  artificial fruit flavorings         fruit\n",
       "5       1         nail varnish remover      solventy\n",
       "6       1              unperfumed soap         soapy\n",
       "7       1                      vanilla         sweet\n",
       "8       1                        honey         sweet\n",
       "9       1                       toffee         sweet\n",
       "10      1                          oak          wood\n",
       "11      1                     new wood          wood\n",
       "12      1                      coconut         nutty\n",
       "13      1                         nuts         nutty\n",
       "14      1                      toasted         nutty\n",
       "15      1                  dried spice         spicy\n",
       "16      1                      peppery         spicy\n",
       "17      1                      buttery          oily\n",
       "18      1                     oils/fat          oily\n",
       "19      1                         waxy          oily\n",
       "20      1                     vinegary          sour\n",
       "21      1                       cheesy          sour\n",
       "22      1                        vomit          sour\n",
       "23      1            cooked vegetables      sulphury\n",
       "24      1                      rubbery      sulphury\n",
       "25      1                 struck match      sulphury\n",
       "26      1                     decaying      sulphury\n",
       "27      1                        meaty      sulphury\n",
       "28      1                       earthy         stale\n",
       "29      1                        musty         stale\n",
       "30      1                     metallic         stale\n",
       "31      1                        smoke          peat\n",
       "32      1                        burnt          peat\n",
       "33      1                    medicinal          peat\n",
       "34      1                     leathery        feinty\n",
       "35      1                      tobacco        feinty\n",
       "36      1                       sweaty        feinty\n",
       "37      1                  dry cereals        cereal\n",
       "38      1                  dry cereals          malt\n",
       "39      1                  wet cereals        cereal\n",
       "40      1                        leafy  green/grassy\n",
       "41      1                       herbal  green/grassy\n",
       "42      1             green vegetables  green/grassy\n",
       "43      1                        grass  green/grassy\n",
       "44      1                     ligneous          wood\n",
       "45      1                       vinous          wood"
      ]
     },
     "execution_count": 15,
     "metadata": {},
     "output_type": "execute_result"
    }
   ],
   "source": [
    "OQ_X_OSA"
   ]
  },
  {
   "cell_type": "code",
   "execution_count": 16,
   "metadata": {},
   "outputs": [
    {
     "name": "stdout",
     "output_type": "stream",
     "text": [
      "{0: [0, 1, 3, 4], 2: [2], 5: [5], 6: [6], 7: [7, 8, 9], 10: [10, 11, 44, 45], 12: [12, 13, 14], 15: [15, 16], 17: [17, 18, 19], 20: [20, 21, 22], 23: [23, 24, 25, 26, 27], 28: [28, 29, 30], 31: [31, 32, 33], 34: [34, 35, 36], 37: [37, 39], 38: [38], 40: [40, 41, 42, 43]}\n"
     ]
    }
   ],
   "source": [
    "# Liste der eindeutigen OSA-Werte und ihre Indizes erstellen\n",
    "unique_osas = OQ_X_OSA['OSA'].unique()\n",
    "osa_to_oq_dict = {}\n",
    "\n",
    "for osa_value in unique_osas:\n",
    "    oq_indexes = OQ_X_OSA.index[OQ_X_OSA['OSA'] == osa_value].tolist()\n",
    "    osa_index = OQ_X_OSA[OQ_X_OSA['OSA'] == osa_value].index[0]\n",
    "    osa_to_oq_dict[osa_index] = oq_indexes\n",
    "\n",
    "print(osa_to_oq_dict)"
   ]
  },
  {
   "cell_type": "code",
   "execution_count": 17,
   "metadata": {},
   "outputs": [],
   "source": [
    "source_OSA = [key for key, values in osa_to_oq_dict.items() for _ in range(len(values))]"
   ]
  },
  {
   "cell_type": "code",
   "execution_count": 18,
   "metadata": {},
   "outputs": [
    {
     "data": {
      "text/plain": [
       "dict_keys([0, 2, 5, 6, 7, 10, 12, 15, 17, 20, 23, 28, 31, 34, 37, 38, 40])"
      ]
     },
     "execution_count": 18,
     "metadata": {},
     "output_type": "execute_result"
    }
   ],
   "source": [
    "osa_to_oq_dict.keys()"
   ]
  },
  {
   "cell_type": "code",
   "execution_count": 19,
   "metadata": {},
   "outputs": [
    {
     "data": {
      "text/plain": [
       "{'feinty',\n",
       " 'fruit',\n",
       " 'green/grassy',\n",
       " 'nutty',\n",
       " 'peat',\n",
       " 'stale',\n",
       " 'sulphury',\n",
       " 'sweet',\n",
       " 'wood'}"
      ]
     },
     "execution_count": 19,
     "metadata": {},
     "output_type": "execute_result"
    }
   ],
   "source": [
    "(set(OSA_list))"
   ]
  },
  {
   "cell_type": "code",
   "execution_count": 20,
   "metadata": {},
   "outputs": [],
   "source": [
    "targets_OQ = [item for sublist in osa_to_oq_dict.values() for item in sublist]\n",
    "targets_OQ = [x + 9 for x in targets_OQ]"
   ]
  },
  {
   "cell_type": "code",
   "execution_count": 21,
   "metadata": {},
   "outputs": [
    {
     "data": {
      "text/plain": [
       "46"
      ]
     },
     "execution_count": 21,
     "metadata": {},
     "output_type": "execute_result"
    }
   ],
   "source": [
    "len(source_OSA)"
   ]
  },
  {
   "cell_type": "code",
   "execution_count": 268,
   "metadata": {},
   "outputs": [
    {
     "data": {
      "application/vnd.plotly.v1+json": {
       "config": {
        "plotlyServerURL": "https://plot.ly"
       },
       "data": [
        {
         "link": {
          "source": [
           0,
           0,
           0,
           0,
           2,
           5,
           6,
           7,
           7,
           7,
           10,
           10,
           10,
           10,
           12,
           12,
           12,
           15,
           15,
           17,
           17,
           17,
           20,
           20,
           20,
           23,
           23,
           23,
           23,
           23,
           28,
           28,
           28,
           31,
           31,
           31,
           34,
           34,
           34,
           37,
           37,
           38,
           40,
           40,
           40,
           40
          ],
          "target": [
           10,
           11,
           13,
           14,
           12,
           15,
           16,
           17,
           18,
           19,
           20,
           21,
           54,
           55,
           22,
           23,
           24,
           25,
           26,
           27,
           28,
           29,
           30,
           31,
           32,
           33,
           34,
           35,
           36,
           37,
           38,
           39,
           40,
           41,
           42,
           43,
           44,
           45,
           46,
           47,
           49,
           48,
           50,
           51,
           52,
           53
          ],
          "value": [
           1,
           1,
           1,
           1,
           1,
           1,
           1,
           1,
           1,
           1,
           1,
           1,
           1,
           1,
           1,
           1,
           1,
           1,
           1,
           1,
           1,
           1,
           1,
           1,
           1,
           1,
           1,
           1,
           1,
           1,
           1,
           1,
           1,
           1,
           1,
           1,
           1,
           1,
           1,
           1,
           1,
           1,
           1,
           1,
           1,
           1,
           1,
           1,
           1,
           1,
           1,
           1,
           1,
           1,
           1,
           1,
           1,
           1,
           1,
           1,
           1,
           1,
           1,
           1,
           1,
           1,
           1,
           1,
           1,
           1,
           1,
           1,
           1,
           1,
           1,
           1,
           1,
           1,
           1,
           1,
           1,
           1,
           1,
           1,
           1,
           1,
           1,
           1,
           1,
           1,
           1
          ]
         },
         "node": {
          "color": "blue",
          "label": [
           "fruit",
           "fruit",
           "sweet",
           "sweet",
           "sweet",
           "sweet",
           "sweet",
           "wood",
           "wood",
           "wood",
           "nutty",
           "nutty",
           "nutty",
           "nutty",
           "nutty",
           "nutty",
           "nutty",
           "nutty",
           "nutty",
           "nutty",
           "nutty",
           "nutty",
           "sulphury",
           "sulphury",
           "sulphury",
           "sulphury",
           "sulphury",
           "sulphury",
           "sulphury",
           "sulphury",
           "sulphury",
           "sulphury",
           "sulphury",
           "sulphury",
           "sulphury",
           "sulphury",
           "stale",
           "stale",
           "stale",
           "stale",
           "stale",
           "peat",
           "peat",
           "peat",
           "peat",
           "peat",
           "peat",
           "peat",
           "peat",
           "peat",
           "peat",
           "peat",
           "peat",
           "peat",
           "peat",
           "feinty",
           "feinty",
           "feinty",
           "feinty",
           "feinty",
           "green/grassy",
           "green/grassy",
           "green/grassy",
           "green/grassy",
           "green/grassy",
           "green/grassy",
           "green/grassy",
           "green/grassy",
           "green/grassy",
           "green/grassy",
           "green/grassy",
           "green/grassy",
           "green/grassy",
           "green/grassy",
           "green/grassy",
           "green/grassy",
           "green/grassy",
           "wood",
           "wood",
           "wood",
           "wood",
           "wood",
           "wood",
           "wood",
           "wood",
           "wood",
           "wood",
           "wood",
           "wood",
           "wood",
           "wood",
           "fresh fruit",
           "fresh fruit",
           "vanilla",
           "vanilla",
           "vanilla",
           "honey",
           "honey",
           "new wood",
           "new wood",
           "new wood",
           "nuts",
           "nuts",
           "nuts",
           "nuts",
           "nuts",
           "nuts",
           "nuts",
           "toasted",
           "toasted",
           "toasted",
           "toasted",
           "toasted",
           "cooked vegetables",
           "cooked vegetables",
           "cooked vegetables",
           "cooked vegetables",
           "cooked vegetables",
           "cooked vegetables",
           "cooked vegetables",
           "cooked vegetables",
           "cooked vegetables",
           "cooked vegetables",
           "cooked vegetables",
           "cooked vegetables",
           "cooked vegetables",
           "cooked vegetables",
           "earthy",
           "earthy",
           "earthy",
           "earthy",
           "earthy",
           "smoke",
           "smoke",
           "smoke",
           "smoke",
           "smoke",
           "smoke",
           "smoke",
           "smoke",
           "smoke",
           "smoke",
           "smoke",
           "smoke",
           "smoke",
           "smoke",
           "leathery",
           "leathery",
           "leathery",
           "leathery",
           "leathery",
           "green vegetables",
           "green vegetables",
           "green vegetables",
           "green vegetables",
           "green vegetables",
           "green vegetables",
           "green vegetables",
           "green vegetables",
           "green vegetables",
           "green vegetables",
           "green vegetables",
           "green vegetables",
           "green vegetables",
           "green vegetables",
           "grass",
           "grass",
           "grass",
           "ligneous",
           "ligneous",
           "ligneous",
           "ligneous",
           "ligneous",
           "ligneous",
           "ligneous",
           "vinous",
           "vinous",
           "vinous",
           "vinous",
           "vinous",
           "vinous",
           "vinous"
          ],
          "line": {
           "color": "black",
           "width": 0.5
          },
          "pad": 15,
          "thickness": 20
         },
         "type": "sankey"
        }
       ],
       "layout": {
        "font": {
         "size": 10
        },
        "template": {
         "data": {
          "bar": [
           {
            "error_x": {
             "color": "#2a3f5f"
            },
            "error_y": {
             "color": "#2a3f5f"
            },
            "marker": {
             "line": {
              "color": "#E5ECF6",
              "width": 0.5
             },
             "pattern": {
              "fillmode": "overlay",
              "size": 10,
              "solidity": 0.2
             }
            },
            "type": "bar"
           }
          ],
          "barpolar": [
           {
            "marker": {
             "line": {
              "color": "#E5ECF6",
              "width": 0.5
             },
             "pattern": {
              "fillmode": "overlay",
              "size": 10,
              "solidity": 0.2
             }
            },
            "type": "barpolar"
           }
          ],
          "carpet": [
           {
            "aaxis": {
             "endlinecolor": "#2a3f5f",
             "gridcolor": "white",
             "linecolor": "white",
             "minorgridcolor": "white",
             "startlinecolor": "#2a3f5f"
            },
            "baxis": {
             "endlinecolor": "#2a3f5f",
             "gridcolor": "white",
             "linecolor": "white",
             "minorgridcolor": "white",
             "startlinecolor": "#2a3f5f"
            },
            "type": "carpet"
           }
          ],
          "choropleth": [
           {
            "colorbar": {
             "outlinewidth": 0,
             "ticks": ""
            },
            "type": "choropleth"
           }
          ],
          "contour": [
           {
            "colorbar": {
             "outlinewidth": 0,
             "ticks": ""
            },
            "colorscale": [
             [
              0,
              "#0d0887"
             ],
             [
              0.1111111111111111,
              "#46039f"
             ],
             [
              0.2222222222222222,
              "#7201a8"
             ],
             [
              0.3333333333333333,
              "#9c179e"
             ],
             [
              0.4444444444444444,
              "#bd3786"
             ],
             [
              0.5555555555555556,
              "#d8576b"
             ],
             [
              0.6666666666666666,
              "#ed7953"
             ],
             [
              0.7777777777777778,
              "#fb9f3a"
             ],
             [
              0.8888888888888888,
              "#fdca26"
             ],
             [
              1,
              "#f0f921"
             ]
            ],
            "type": "contour"
           }
          ],
          "contourcarpet": [
           {
            "colorbar": {
             "outlinewidth": 0,
             "ticks": ""
            },
            "type": "contourcarpet"
           }
          ],
          "heatmap": [
           {
            "colorbar": {
             "outlinewidth": 0,
             "ticks": ""
            },
            "colorscale": [
             [
              0,
              "#0d0887"
             ],
             [
              0.1111111111111111,
              "#46039f"
             ],
             [
              0.2222222222222222,
              "#7201a8"
             ],
             [
              0.3333333333333333,
              "#9c179e"
             ],
             [
              0.4444444444444444,
              "#bd3786"
             ],
             [
              0.5555555555555556,
              "#d8576b"
             ],
             [
              0.6666666666666666,
              "#ed7953"
             ],
             [
              0.7777777777777778,
              "#fb9f3a"
             ],
             [
              0.8888888888888888,
              "#fdca26"
             ],
             [
              1,
              "#f0f921"
             ]
            ],
            "type": "heatmap"
           }
          ],
          "heatmapgl": [
           {
            "colorbar": {
             "outlinewidth": 0,
             "ticks": ""
            },
            "colorscale": [
             [
              0,
              "#0d0887"
             ],
             [
              0.1111111111111111,
              "#46039f"
             ],
             [
              0.2222222222222222,
              "#7201a8"
             ],
             [
              0.3333333333333333,
              "#9c179e"
             ],
             [
              0.4444444444444444,
              "#bd3786"
             ],
             [
              0.5555555555555556,
              "#d8576b"
             ],
             [
              0.6666666666666666,
              "#ed7953"
             ],
             [
              0.7777777777777778,
              "#fb9f3a"
             ],
             [
              0.8888888888888888,
              "#fdca26"
             ],
             [
              1,
              "#f0f921"
             ]
            ],
            "type": "heatmapgl"
           }
          ],
          "histogram": [
           {
            "marker": {
             "pattern": {
              "fillmode": "overlay",
              "size": 10,
              "solidity": 0.2
             }
            },
            "type": "histogram"
           }
          ],
          "histogram2d": [
           {
            "colorbar": {
             "outlinewidth": 0,
             "ticks": ""
            },
            "colorscale": [
             [
              0,
              "#0d0887"
             ],
             [
              0.1111111111111111,
              "#46039f"
             ],
             [
              0.2222222222222222,
              "#7201a8"
             ],
             [
              0.3333333333333333,
              "#9c179e"
             ],
             [
              0.4444444444444444,
              "#bd3786"
             ],
             [
              0.5555555555555556,
              "#d8576b"
             ],
             [
              0.6666666666666666,
              "#ed7953"
             ],
             [
              0.7777777777777778,
              "#fb9f3a"
             ],
             [
              0.8888888888888888,
              "#fdca26"
             ],
             [
              1,
              "#f0f921"
             ]
            ],
            "type": "histogram2d"
           }
          ],
          "histogram2dcontour": [
           {
            "colorbar": {
             "outlinewidth": 0,
             "ticks": ""
            },
            "colorscale": [
             [
              0,
              "#0d0887"
             ],
             [
              0.1111111111111111,
              "#46039f"
             ],
             [
              0.2222222222222222,
              "#7201a8"
             ],
             [
              0.3333333333333333,
              "#9c179e"
             ],
             [
              0.4444444444444444,
              "#bd3786"
             ],
             [
              0.5555555555555556,
              "#d8576b"
             ],
             [
              0.6666666666666666,
              "#ed7953"
             ],
             [
              0.7777777777777778,
              "#fb9f3a"
             ],
             [
              0.8888888888888888,
              "#fdca26"
             ],
             [
              1,
              "#f0f921"
             ]
            ],
            "type": "histogram2dcontour"
           }
          ],
          "mesh3d": [
           {
            "colorbar": {
             "outlinewidth": 0,
             "ticks": ""
            },
            "type": "mesh3d"
           }
          ],
          "parcoords": [
           {
            "line": {
             "colorbar": {
              "outlinewidth": 0,
              "ticks": ""
             }
            },
            "type": "parcoords"
           }
          ],
          "pie": [
           {
            "automargin": true,
            "type": "pie"
           }
          ],
          "scatter": [
           {
            "fillpattern": {
             "fillmode": "overlay",
             "size": 10,
             "solidity": 0.2
            },
            "type": "scatter"
           }
          ],
          "scatter3d": [
           {
            "line": {
             "colorbar": {
              "outlinewidth": 0,
              "ticks": ""
             }
            },
            "marker": {
             "colorbar": {
              "outlinewidth": 0,
              "ticks": ""
             }
            },
            "type": "scatter3d"
           }
          ],
          "scattercarpet": [
           {
            "marker": {
             "colorbar": {
              "outlinewidth": 0,
              "ticks": ""
             }
            },
            "type": "scattercarpet"
           }
          ],
          "scattergeo": [
           {
            "marker": {
             "colorbar": {
              "outlinewidth": 0,
              "ticks": ""
             }
            },
            "type": "scattergeo"
           }
          ],
          "scattergl": [
           {
            "marker": {
             "colorbar": {
              "outlinewidth": 0,
              "ticks": ""
             }
            },
            "type": "scattergl"
           }
          ],
          "scattermapbox": [
           {
            "marker": {
             "colorbar": {
              "outlinewidth": 0,
              "ticks": ""
             }
            },
            "type": "scattermapbox"
           }
          ],
          "scatterpolar": [
           {
            "marker": {
             "colorbar": {
              "outlinewidth": 0,
              "ticks": ""
             }
            },
            "type": "scatterpolar"
           }
          ],
          "scatterpolargl": [
           {
            "marker": {
             "colorbar": {
              "outlinewidth": 0,
              "ticks": ""
             }
            },
            "type": "scatterpolargl"
           }
          ],
          "scatterternary": [
           {
            "marker": {
             "colorbar": {
              "outlinewidth": 0,
              "ticks": ""
             }
            },
            "type": "scatterternary"
           }
          ],
          "surface": [
           {
            "colorbar": {
             "outlinewidth": 0,
             "ticks": ""
            },
            "colorscale": [
             [
              0,
              "#0d0887"
             ],
             [
              0.1111111111111111,
              "#46039f"
             ],
             [
              0.2222222222222222,
              "#7201a8"
             ],
             [
              0.3333333333333333,
              "#9c179e"
             ],
             [
              0.4444444444444444,
              "#bd3786"
             ],
             [
              0.5555555555555556,
              "#d8576b"
             ],
             [
              0.6666666666666666,
              "#ed7953"
             ],
             [
              0.7777777777777778,
              "#fb9f3a"
             ],
             [
              0.8888888888888888,
              "#fdca26"
             ],
             [
              1,
              "#f0f921"
             ]
            ],
            "type": "surface"
           }
          ],
          "table": [
           {
            "cells": {
             "fill": {
              "color": "#EBF0F8"
             },
             "line": {
              "color": "white"
             }
            },
            "header": {
             "fill": {
              "color": "#C8D4E3"
             },
             "line": {
              "color": "white"
             }
            },
            "type": "table"
           }
          ]
         },
         "layout": {
          "annotationdefaults": {
           "arrowcolor": "#2a3f5f",
           "arrowhead": 0,
           "arrowwidth": 1
          },
          "autotypenumbers": "strict",
          "coloraxis": {
           "colorbar": {
            "outlinewidth": 0,
            "ticks": ""
           }
          },
          "colorscale": {
           "diverging": [
            [
             0,
             "#8e0152"
            ],
            [
             0.1,
             "#c51b7d"
            ],
            [
             0.2,
             "#de77ae"
            ],
            [
             0.3,
             "#f1b6da"
            ],
            [
             0.4,
             "#fde0ef"
            ],
            [
             0.5,
             "#f7f7f7"
            ],
            [
             0.6,
             "#e6f5d0"
            ],
            [
             0.7,
             "#b8e186"
            ],
            [
             0.8,
             "#7fbc41"
            ],
            [
             0.9,
             "#4d9221"
            ],
            [
             1,
             "#276419"
            ]
           ],
           "sequential": [
            [
             0,
             "#0d0887"
            ],
            [
             0.1111111111111111,
             "#46039f"
            ],
            [
             0.2222222222222222,
             "#7201a8"
            ],
            [
             0.3333333333333333,
             "#9c179e"
            ],
            [
             0.4444444444444444,
             "#bd3786"
            ],
            [
             0.5555555555555556,
             "#d8576b"
            ],
            [
             0.6666666666666666,
             "#ed7953"
            ],
            [
             0.7777777777777778,
             "#fb9f3a"
            ],
            [
             0.8888888888888888,
             "#fdca26"
            ],
            [
             1,
             "#f0f921"
            ]
           ],
           "sequentialminus": [
            [
             0,
             "#0d0887"
            ],
            [
             0.1111111111111111,
             "#46039f"
            ],
            [
             0.2222222222222222,
             "#7201a8"
            ],
            [
             0.3333333333333333,
             "#9c179e"
            ],
            [
             0.4444444444444444,
             "#bd3786"
            ],
            [
             0.5555555555555556,
             "#d8576b"
            ],
            [
             0.6666666666666666,
             "#ed7953"
            ],
            [
             0.7777777777777778,
             "#fb9f3a"
            ],
            [
             0.8888888888888888,
             "#fdca26"
            ],
            [
             1,
             "#f0f921"
            ]
           ]
          },
          "colorway": [
           "#636efa",
           "#EF553B",
           "#00cc96",
           "#ab63fa",
           "#FFA15A",
           "#19d3f3",
           "#FF6692",
           "#B6E880",
           "#FF97FF",
           "#FECB52"
          ],
          "font": {
           "color": "#2a3f5f"
          },
          "geo": {
           "bgcolor": "white",
           "lakecolor": "white",
           "landcolor": "#E5ECF6",
           "showlakes": true,
           "showland": true,
           "subunitcolor": "white"
          },
          "hoverlabel": {
           "align": "left"
          },
          "hovermode": "closest",
          "mapbox": {
           "style": "light"
          },
          "paper_bgcolor": "white",
          "plot_bgcolor": "#E5ECF6",
          "polar": {
           "angularaxis": {
            "gridcolor": "white",
            "linecolor": "white",
            "ticks": ""
           },
           "bgcolor": "#E5ECF6",
           "radialaxis": {
            "gridcolor": "white",
            "linecolor": "white",
            "ticks": ""
           }
          },
          "scene": {
           "xaxis": {
            "backgroundcolor": "#E5ECF6",
            "gridcolor": "white",
            "gridwidth": 2,
            "linecolor": "white",
            "showbackground": true,
            "ticks": "",
            "zerolinecolor": "white"
           },
           "yaxis": {
            "backgroundcolor": "#E5ECF6",
            "gridcolor": "white",
            "gridwidth": 2,
            "linecolor": "white",
            "showbackground": true,
            "ticks": "",
            "zerolinecolor": "white"
           },
           "zaxis": {
            "backgroundcolor": "#E5ECF6",
            "gridcolor": "white",
            "gridwidth": 2,
            "linecolor": "white",
            "showbackground": true,
            "ticks": "",
            "zerolinecolor": "white"
           }
          },
          "shapedefaults": {
           "line": {
            "color": "#2a3f5f"
           }
          },
          "ternary": {
           "aaxis": {
            "gridcolor": "white",
            "linecolor": "white",
            "ticks": ""
           },
           "baxis": {
            "gridcolor": "white",
            "linecolor": "white",
            "ticks": ""
           },
           "bgcolor": "#E5ECF6",
           "caxis": {
            "gridcolor": "white",
            "linecolor": "white",
            "ticks": ""
           }
          },
          "title": {
           "x": 0.05
          },
          "xaxis": {
           "automargin": true,
           "gridcolor": "white",
           "linecolor": "white",
           "ticks": "",
           "title": {
            "standoff": 15
           },
           "zerolinecolor": "white",
           "zerolinewidth": 2
          },
          "yaxis": {
           "automargin": true,
           "gridcolor": "white",
           "linecolor": "white",
           "ticks": "",
           "title": {
            "standoff": 15
           },
           "zerolinecolor": "white",
           "zerolinewidth": 2
          }
         }
        },
        "title": {
         "text": "OSA - OQ"
        }
       }
      }
     },
     "metadata": {},
     "output_type": "display_data"
    }
   ],
   "source": [
    "fig = go.Figure(data=[go.Sankey(\n",
    "    node = dict(\n",
    "      pad = 15,\n",
    "      thickness = 20,\n",
    "      line = dict(color = \"black\", width = 0.5),\n",
    "      label = list(set(OSA_list))+list(set(OQ_list)),\n",
    "      color = \"blue\"\n",
    "    ),\n",
    "    link = dict(\n",
    "      source = source_OSA, # indices correspond to labels, eg A1, A2, A1, B1, ...\n",
    "      target = targets_OQ,\n",
    "      value = [1] * ((len(list(set(OSA_list)))))\n",
    "  ))])\n",
    "\n",
    "fig.update_layout(title_text=\"OSA - OQ\", font_size=10)\n",
    "fig.show()"
   ]
  },
  {
   "cell_type": "code",
   "execution_count": 159,
   "metadata": {},
   "outputs": [
    {
     "data": {
      "application/vnd.plotly.v1+json": {
       "config": {
        "plotlyServerURL": "https://plot.ly"
       },
       "data": [
        {
         "link": {
          "color": [
           "rgba(31, 119, 180, 0.4)",
           "rgba(255, 127, 14, 0.4)",
           "rgba(255, 127, 14, 0.4)",
           "rgba(255, 127, 14, 0.4)",
           "rgba(255, 127, 14, 0.4)",
           "rgba(227, 119, 194, 0.4)",
           "rgba(127, 127, 127, 0.4)",
           "rgba(188, 189, 34, 0.4)",
           "rgba(31, 119, 180, 0.4)",
           "rgba(23, 190, 207, 0.4)",
           "rgba(255, 127, 14, 0.4)",
           "rgba(255, 127, 14, 0.4)",
           "rgba(255, 127, 14, 0.4)",
           "rgba(140, 86, 75, 0.4)",
           "rgba(140, 86, 75, 0.4)",
           "rgba(140, 86, 75, 0.4)",
           "rgba(140, 86, 75, 0.4)",
           "rgba(140, 86, 75, 0.4)",
           "rgba(140, 86, 75, 0.4)",
           "rgba(140, 86, 75, 0.4)",
           "rgba(140, 86, 75, 0.4)",
           "rgba(140, 86, 75, 0.4)",
           "rgba(140, 86, 75, 0.4)",
           "rgba(140, 86, 75, 0.4)",
           "rgba(214, 39, 40, 0.4)",
           "rgba(140, 86, 75, 0.4)",
           "rgba(140, 86, 75, 0.4)",
           "rgba(140, 86, 75, 0.4)",
           "rgba(140, 86, 75, 0.4)",
           "rgba(140, 86, 75, 0.4)",
           "rgba(140, 86, 75, 0.4)",
           "rgba(127, 127, 127, 0.4)",
           "rgba(127, 127, 127, 0.4)",
           "rgba(127, 127, 127, 0.4)",
           "rgba(188, 189, 34, 0.4)",
           "rgba(23, 190, 207, 0.4)",
           "rgba(44, 160, 44, 0.4)",
           "rgba(44, 160, 44, 0.4)",
           "rgba(44, 160, 44, 0.4)",
           "rgba(44, 160, 44, 0.4)",
           "rgba(44, 160, 44, 0.4)",
           "rgba(44, 160, 44, 0.4)",
           "rgba(44, 160, 44, 0.4)",
           "rgba(44, 160, 44, 0.4)",
           "rgba(148, 103, 189, 0.4)",
           "rgba(148, 103, 189, 0.4)",
           "rgba(255,0,255, 0.4)",
           "rgba(255,0,255, 0.4)",
           "rgba(227, 119, 194, 0.4)",
           "rgba(188, 189, 34, 0.4)",
           "rgba(127, 127, 127, 0.4)",
           "rgba(23, 190, 207, 0.4)",
           "rgba(23, 190, 207, 0.4)",
           "rgba(31, 119, 180, 0.4)",
           "rgba(31, 119, 180, 0.4)",
           "rgba(255, 127, 14, 0.4)",
           "rgba(44, 160, 44, 0.4)",
           "rgba(214, 39, 40, 0.4)",
           "rgba(214, 39, 40, 0.4)",
           "rgba(148, 103, 189, 0.4)",
           "rgba(148, 103, 189, 0.4)",
           "rgba(148, 103, 189, 0.4)",
           "rgba(227, 119, 194, 0.4)",
           "rgba(227, 119, 194, 0.4)",
           "rgba(227, 119, 194, 0.4)",
           "rgba(148, 103, 189, 0.4)",
           "rgba(140, 86, 75, 0.4)",
           "rgba(227, 119, 194, 0.4)",
           "rgba(127, 127, 127, 0.4)",
           "rgba(255,0,255, 0.4)",
           "rgba(255,0,255, 0.4)"
          ],
          "label": [
           "stream 1",
           "",
           "",
           "",
           "stream 1",
           "",
           "",
           "",
           "",
           "",
           "",
           "",
           "",
           "",
           "",
           "",
           "",
           "",
           "",
           "",
           "",
           "",
           "",
           "",
           "",
           "",
           "",
           "",
           "",
           "",
           "stream 1",
           "",
           "",
           "",
           "",
           "",
           "",
           "",
           "",
           "",
           "",
           "",
           "",
           "",
           "",
           "",
           "Old generation plant (made-up)",
           "New generation plant (made-up)",
           "",
           "",
           "",
           "",
           "",
           "",
           "",
           "",
           "",
           "",
           "",
           "",
           "",
           "",
           "",
           "",
           "",
           "",
           "",
           "",
           "",
           "",
           ""
          ],
          "source": [
           0,
           1,
           1,
           1,
           1,
           6,
           7,
           8,
           10,
           9,
           11,
           11,
           11,
           15,
           15,
           15,
           15,
           15,
           15,
           15,
           15,
           15,
           15,
           15,
           23,
           25,
           5,
           5,
           5,
           5,
           5,
           27,
           17,
           17,
           28,
           29,
           2,
           2,
           2,
           2,
           2,
           2,
           2,
           2,
           34,
           24,
           35,
           35,
           36,
           38,
           37,
           39,
           39,
           40,
           40,
           41,
           42,
           43,
           43,
           4,
           4,
           4,
           26,
           26,
           26,
           44,
           45,
           46,
           47,
           35,
           35
          ],
          "target": [
           1,
           2,
           3,
           4,
           5,
           2,
           4,
           9,
           9,
           4,
           12,
           13,
           14,
           16,
           14,
           17,
           12,
           18,
           19,
           13,
           3,
           20,
           21,
           22,
           24,
           24,
           13,
           3,
           26,
           19,
           12,
           15,
           28,
           3,
           18,
           15,
           12,
           30,
           18,
           31,
           32,
           19,
           33,
           20,
           1,
           5,
           26,
           26,
           37,
           37,
           2,
           4,
           1,
           14,
           13,
           15,
           14,
           42,
           41,
           19,
           26,
           12,
           15,
           3,
           11,
           15,
           1,
           15,
           15,
           26,
           26
          ],
          "value": [
           124.729,
           0.597,
           26.862,
           280.322,
           81.144,
           35,
           35,
           11.606,
           63.965,
           75.571,
           10.639,
           22.505,
           46.184,
           104.453,
           113.726,
           27.14,
           342.165,
           37.797,
           4.412,
           40.858,
           56.691,
           7.863,
           90.008,
           93.494,
           40.719,
           82.233,
           0.129,
           1.401,
           151.891,
           2.096,
           48.58,
           7.013,
           20.897,
           6.242,
           20.897,
           6.995,
           121.066,
           128.69,
           135.835,
           14.458,
           206.267,
           3.64,
           33.218,
           4.413,
           14.375,
           122.952,
           500,
           139.978,
           504.287,
           107.703,
           611.99,
           56.587,
           77.81,
           193.026,
           70.672,
           59.901,
           19.263,
           19.263,
           59.901,
           0.882,
           400.12,
           46.477,
           525.531,
           787.129,
           79.329,
           9.452,
           182.01,
           19.013,
           289.366,
           100,
           100
          ]
         },
         "node": {
          "color": [
           "rgba(31, 119, 180, 0.8)",
           "rgba(255, 127, 14, 0.8)",
           "rgba(44, 160, 44, 0.8)",
           "rgba(214, 39, 40, 0.8)",
           "rgba(148, 103, 189, 0.8)",
           "rgba(140, 86, 75, 0.8)",
           "rgba(227, 119, 194, 0.8)",
           "rgba(127, 127, 127, 0.8)",
           "rgba(188, 189, 34, 0.8)",
           "rgba(23, 190, 207, 0.8)",
           "rgba(31, 119, 180, 0.8)",
           "rgba(255, 127, 14, 0.8)",
           "rgba(44, 160, 44, 0.8)",
           "rgba(214, 39, 40, 0.8)",
           "rgba(148, 103, 189, 0.8)",
           "rgba(140, 86, 75, 0.8)",
           "rgba(227, 119, 194, 0.8)",
           "rgba(127, 127, 127, 0.8)",
           "rgba(188, 189, 34, 0.8)",
           "rgba(23, 190, 207, 0.8)",
           "rgba(31, 119, 180, 0.8)",
           "rgba(255, 127, 14, 0.8)",
           "rgba(44, 160, 44, 0.8)",
           "rgba(214, 39, 40, 0.8)",
           "rgba(148, 103, 189, 0.8)",
           "rgba(140, 86, 75, 0.8)",
           "rgba(227, 119, 194, 0.8)",
           "rgba(127, 127, 127, 0.8)",
           "rgba(188, 189, 34, 0.8)",
           "rgba(23, 190, 207, 0.8)",
           "rgba(31, 119, 180, 0.8)",
           "rgba(255, 127, 14, 0.8)",
           "rgba(44, 160, 44, 0.8)",
           "rgba(214, 39, 40, 0.8)",
           "rgba(148, 103, 189, 0.8)",
           "rgba(255,0,255, 0.8)",
           "rgba(227, 119, 194, 0.8)",
           "rgba(127, 127, 127, 0.8)",
           "rgba(188, 189, 34, 0.8)",
           "rgba(23, 190, 207, 0.8)",
           "rgba(31, 119, 180, 0.8)",
           "rgba(255, 127, 14, 0.8)",
           "rgba(44, 160, 44, 0.8)",
           "rgba(214, 39, 40, 0.8)",
           "rgba(148, 103, 189, 0.8)",
           "rgba(140, 86, 75, 0.8)",
           "rgba(227, 119, 194, 0.8)",
           "rgba(127, 127, 127, 0.8)"
          ],
          "label": [
           "Agricultural 'waste'",
           "Bio-conversion",
           "Liquid",
           "Losses",
           "Solid",
           "Gas",
           "Biofuel imports",
           "Biomass imports",
           "Coal imports",
           "Coal",
           "Coal reserves",
           "District heating",
           "Industry",
           "Heating and cooling - commercial",
           "Heating and cooling - homes",
           "Electricity grid",
           "Over generation / exports",
           "H2 conversion",
           "Road transport",
           "Agriculture",
           "Rail transport",
           "Lighting & appliances - commercial",
           "Lighting & appliances - homes",
           "Gas imports",
           "Ngas",
           "Gas reserves",
           "Thermal generation",
           "Geothermal",
           "H2",
           "Hydro",
           "International shipping",
           "Domestic aviation",
           "International aviation",
           "National navigation",
           "Marine algae",
           "Nuclear",
           "Oil imports",
           "Oil",
           "Oil reserves",
           "Other waste",
           "Pumped heat",
           "Solar PV",
           "Solar Thermal",
           "Solar",
           "Tidal",
           "UK land based bioenergy",
           "Wave",
           "Wind"
          ],
          "line": {
           "color": "black",
           "width": 0.5
          },
          "pad": 15,
          "thickness": 15
         },
         "type": "sankey",
         "valueformat": ".0f",
         "valuesuffix": "TWh"
        }
       ],
       "layout": {
        "font": {
         "size": 10
        },
        "template": {
         "data": {
          "bar": [
           {
            "error_x": {
             "color": "#2a3f5f"
            },
            "error_y": {
             "color": "#2a3f5f"
            },
            "marker": {
             "line": {
              "color": "#E5ECF6",
              "width": 0.5
             },
             "pattern": {
              "fillmode": "overlay",
              "size": 10,
              "solidity": 0.2
             }
            },
            "type": "bar"
           }
          ],
          "barpolar": [
           {
            "marker": {
             "line": {
              "color": "#E5ECF6",
              "width": 0.5
             },
             "pattern": {
              "fillmode": "overlay",
              "size": 10,
              "solidity": 0.2
             }
            },
            "type": "barpolar"
           }
          ],
          "carpet": [
           {
            "aaxis": {
             "endlinecolor": "#2a3f5f",
             "gridcolor": "white",
             "linecolor": "white",
             "minorgridcolor": "white",
             "startlinecolor": "#2a3f5f"
            },
            "baxis": {
             "endlinecolor": "#2a3f5f",
             "gridcolor": "white",
             "linecolor": "white",
             "minorgridcolor": "white",
             "startlinecolor": "#2a3f5f"
            },
            "type": "carpet"
           }
          ],
          "choropleth": [
           {
            "colorbar": {
             "outlinewidth": 0,
             "ticks": ""
            },
            "type": "choropleth"
           }
          ],
          "contour": [
           {
            "colorbar": {
             "outlinewidth": 0,
             "ticks": ""
            },
            "colorscale": [
             [
              0,
              "#0d0887"
             ],
             [
              0.1111111111111111,
              "#46039f"
             ],
             [
              0.2222222222222222,
              "#7201a8"
             ],
             [
              0.3333333333333333,
              "#9c179e"
             ],
             [
              0.4444444444444444,
              "#bd3786"
             ],
             [
              0.5555555555555556,
              "#d8576b"
             ],
             [
              0.6666666666666666,
              "#ed7953"
             ],
             [
              0.7777777777777778,
              "#fb9f3a"
             ],
             [
              0.8888888888888888,
              "#fdca26"
             ],
             [
              1,
              "#f0f921"
             ]
            ],
            "type": "contour"
           }
          ],
          "contourcarpet": [
           {
            "colorbar": {
             "outlinewidth": 0,
             "ticks": ""
            },
            "type": "contourcarpet"
           }
          ],
          "heatmap": [
           {
            "colorbar": {
             "outlinewidth": 0,
             "ticks": ""
            },
            "colorscale": [
             [
              0,
              "#0d0887"
             ],
             [
              0.1111111111111111,
              "#46039f"
             ],
             [
              0.2222222222222222,
              "#7201a8"
             ],
             [
              0.3333333333333333,
              "#9c179e"
             ],
             [
              0.4444444444444444,
              "#bd3786"
             ],
             [
              0.5555555555555556,
              "#d8576b"
             ],
             [
              0.6666666666666666,
              "#ed7953"
             ],
             [
              0.7777777777777778,
              "#fb9f3a"
             ],
             [
              0.8888888888888888,
              "#fdca26"
             ],
             [
              1,
              "#f0f921"
             ]
            ],
            "type": "heatmap"
           }
          ],
          "heatmapgl": [
           {
            "colorbar": {
             "outlinewidth": 0,
             "ticks": ""
            },
            "colorscale": [
             [
              0,
              "#0d0887"
             ],
             [
              0.1111111111111111,
              "#46039f"
             ],
             [
              0.2222222222222222,
              "#7201a8"
             ],
             [
              0.3333333333333333,
              "#9c179e"
             ],
             [
              0.4444444444444444,
              "#bd3786"
             ],
             [
              0.5555555555555556,
              "#d8576b"
             ],
             [
              0.6666666666666666,
              "#ed7953"
             ],
             [
              0.7777777777777778,
              "#fb9f3a"
             ],
             [
              0.8888888888888888,
              "#fdca26"
             ],
             [
              1,
              "#f0f921"
             ]
            ],
            "type": "heatmapgl"
           }
          ],
          "histogram": [
           {
            "marker": {
             "pattern": {
              "fillmode": "overlay",
              "size": 10,
              "solidity": 0.2
             }
            },
            "type": "histogram"
           }
          ],
          "histogram2d": [
           {
            "colorbar": {
             "outlinewidth": 0,
             "ticks": ""
            },
            "colorscale": [
             [
              0,
              "#0d0887"
             ],
             [
              0.1111111111111111,
              "#46039f"
             ],
             [
              0.2222222222222222,
              "#7201a8"
             ],
             [
              0.3333333333333333,
              "#9c179e"
             ],
             [
              0.4444444444444444,
              "#bd3786"
             ],
             [
              0.5555555555555556,
              "#d8576b"
             ],
             [
              0.6666666666666666,
              "#ed7953"
             ],
             [
              0.7777777777777778,
              "#fb9f3a"
             ],
             [
              0.8888888888888888,
              "#fdca26"
             ],
             [
              1,
              "#f0f921"
             ]
            ],
            "type": "histogram2d"
           }
          ],
          "histogram2dcontour": [
           {
            "colorbar": {
             "outlinewidth": 0,
             "ticks": ""
            },
            "colorscale": [
             [
              0,
              "#0d0887"
             ],
             [
              0.1111111111111111,
              "#46039f"
             ],
             [
              0.2222222222222222,
              "#7201a8"
             ],
             [
              0.3333333333333333,
              "#9c179e"
             ],
             [
              0.4444444444444444,
              "#bd3786"
             ],
             [
              0.5555555555555556,
              "#d8576b"
             ],
             [
              0.6666666666666666,
              "#ed7953"
             ],
             [
              0.7777777777777778,
              "#fb9f3a"
             ],
             [
              0.8888888888888888,
              "#fdca26"
             ],
             [
              1,
              "#f0f921"
             ]
            ],
            "type": "histogram2dcontour"
           }
          ],
          "mesh3d": [
           {
            "colorbar": {
             "outlinewidth": 0,
             "ticks": ""
            },
            "type": "mesh3d"
           }
          ],
          "parcoords": [
           {
            "line": {
             "colorbar": {
              "outlinewidth": 0,
              "ticks": ""
             }
            },
            "type": "parcoords"
           }
          ],
          "pie": [
           {
            "automargin": true,
            "type": "pie"
           }
          ],
          "scatter": [
           {
            "fillpattern": {
             "fillmode": "overlay",
             "size": 10,
             "solidity": 0.2
            },
            "type": "scatter"
           }
          ],
          "scatter3d": [
           {
            "line": {
             "colorbar": {
              "outlinewidth": 0,
              "ticks": ""
             }
            },
            "marker": {
             "colorbar": {
              "outlinewidth": 0,
              "ticks": ""
             }
            },
            "type": "scatter3d"
           }
          ],
          "scattercarpet": [
           {
            "marker": {
             "colorbar": {
              "outlinewidth": 0,
              "ticks": ""
             }
            },
            "type": "scattercarpet"
           }
          ],
          "scattergeo": [
           {
            "marker": {
             "colorbar": {
              "outlinewidth": 0,
              "ticks": ""
             }
            },
            "type": "scattergeo"
           }
          ],
          "scattergl": [
           {
            "marker": {
             "colorbar": {
              "outlinewidth": 0,
              "ticks": ""
             }
            },
            "type": "scattergl"
           }
          ],
          "scattermapbox": [
           {
            "marker": {
             "colorbar": {
              "outlinewidth": 0,
              "ticks": ""
             }
            },
            "type": "scattermapbox"
           }
          ],
          "scatterpolar": [
           {
            "marker": {
             "colorbar": {
              "outlinewidth": 0,
              "ticks": ""
             }
            },
            "type": "scatterpolar"
           }
          ],
          "scatterpolargl": [
           {
            "marker": {
             "colorbar": {
              "outlinewidth": 0,
              "ticks": ""
             }
            },
            "type": "scatterpolargl"
           }
          ],
          "scatterternary": [
           {
            "marker": {
             "colorbar": {
              "outlinewidth": 0,
              "ticks": ""
             }
            },
            "type": "scatterternary"
           }
          ],
          "surface": [
           {
            "colorbar": {
             "outlinewidth": 0,
             "ticks": ""
            },
            "colorscale": [
             [
              0,
              "#0d0887"
             ],
             [
              0.1111111111111111,
              "#46039f"
             ],
             [
              0.2222222222222222,
              "#7201a8"
             ],
             [
              0.3333333333333333,
              "#9c179e"
             ],
             [
              0.4444444444444444,
              "#bd3786"
             ],
             [
              0.5555555555555556,
              "#d8576b"
             ],
             [
              0.6666666666666666,
              "#ed7953"
             ],
             [
              0.7777777777777778,
              "#fb9f3a"
             ],
             [
              0.8888888888888888,
              "#fdca26"
             ],
             [
              1,
              "#f0f921"
             ]
            ],
            "type": "surface"
           }
          ],
          "table": [
           {
            "cells": {
             "fill": {
              "color": "#EBF0F8"
             },
             "line": {
              "color": "white"
             }
            },
            "header": {
             "fill": {
              "color": "#C8D4E3"
             },
             "line": {
              "color": "white"
             }
            },
            "type": "table"
           }
          ]
         },
         "layout": {
          "annotationdefaults": {
           "arrowcolor": "#2a3f5f",
           "arrowhead": 0,
           "arrowwidth": 1
          },
          "autotypenumbers": "strict",
          "coloraxis": {
           "colorbar": {
            "outlinewidth": 0,
            "ticks": ""
           }
          },
          "colorscale": {
           "diverging": [
            [
             0,
             "#8e0152"
            ],
            [
             0.1,
             "#c51b7d"
            ],
            [
             0.2,
             "#de77ae"
            ],
            [
             0.3,
             "#f1b6da"
            ],
            [
             0.4,
             "#fde0ef"
            ],
            [
             0.5,
             "#f7f7f7"
            ],
            [
             0.6,
             "#e6f5d0"
            ],
            [
             0.7,
             "#b8e186"
            ],
            [
             0.8,
             "#7fbc41"
            ],
            [
             0.9,
             "#4d9221"
            ],
            [
             1,
             "#276419"
            ]
           ],
           "sequential": [
            [
             0,
             "#0d0887"
            ],
            [
             0.1111111111111111,
             "#46039f"
            ],
            [
             0.2222222222222222,
             "#7201a8"
            ],
            [
             0.3333333333333333,
             "#9c179e"
            ],
            [
             0.4444444444444444,
             "#bd3786"
            ],
            [
             0.5555555555555556,
             "#d8576b"
            ],
            [
             0.6666666666666666,
             "#ed7953"
            ],
            [
             0.7777777777777778,
             "#fb9f3a"
            ],
            [
             0.8888888888888888,
             "#fdca26"
            ],
            [
             1,
             "#f0f921"
            ]
           ],
           "sequentialminus": [
            [
             0,
             "#0d0887"
            ],
            [
             0.1111111111111111,
             "#46039f"
            ],
            [
             0.2222222222222222,
             "#7201a8"
            ],
            [
             0.3333333333333333,
             "#9c179e"
            ],
            [
             0.4444444444444444,
             "#bd3786"
            ],
            [
             0.5555555555555556,
             "#d8576b"
            ],
            [
             0.6666666666666666,
             "#ed7953"
            ],
            [
             0.7777777777777778,
             "#fb9f3a"
            ],
            [
             0.8888888888888888,
             "#fdca26"
            ],
            [
             1,
             "#f0f921"
            ]
           ]
          },
          "colorway": [
           "#636efa",
           "#EF553B",
           "#00cc96",
           "#ab63fa",
           "#FFA15A",
           "#19d3f3",
           "#FF6692",
           "#B6E880",
           "#FF97FF",
           "#FECB52"
          ],
          "font": {
           "color": "#2a3f5f"
          },
          "geo": {
           "bgcolor": "white",
           "lakecolor": "white",
           "landcolor": "#E5ECF6",
           "showlakes": true,
           "showland": true,
           "subunitcolor": "white"
          },
          "hoverlabel": {
           "align": "left"
          },
          "hovermode": "closest",
          "mapbox": {
           "style": "light"
          },
          "paper_bgcolor": "white",
          "plot_bgcolor": "#E5ECF6",
          "polar": {
           "angularaxis": {
            "gridcolor": "white",
            "linecolor": "white",
            "ticks": ""
           },
           "bgcolor": "#E5ECF6",
           "radialaxis": {
            "gridcolor": "white",
            "linecolor": "white",
            "ticks": ""
           }
          },
          "scene": {
           "xaxis": {
            "backgroundcolor": "#E5ECF6",
            "gridcolor": "white",
            "gridwidth": 2,
            "linecolor": "white",
            "showbackground": true,
            "ticks": "",
            "zerolinecolor": "white"
           },
           "yaxis": {
            "backgroundcolor": "#E5ECF6",
            "gridcolor": "white",
            "gridwidth": 2,
            "linecolor": "white",
            "showbackground": true,
            "ticks": "",
            "zerolinecolor": "white"
           },
           "zaxis": {
            "backgroundcolor": "#E5ECF6",
            "gridcolor": "white",
            "gridwidth": 2,
            "linecolor": "white",
            "showbackground": true,
            "ticks": "",
            "zerolinecolor": "white"
           }
          },
          "shapedefaults": {
           "line": {
            "color": "#2a3f5f"
           }
          },
          "ternary": {
           "aaxis": {
            "gridcolor": "white",
            "linecolor": "white",
            "ticks": ""
           },
           "baxis": {
            "gridcolor": "white",
            "linecolor": "white",
            "ticks": ""
           },
           "bgcolor": "#E5ECF6",
           "caxis": {
            "gridcolor": "white",
            "linecolor": "white",
            "ticks": ""
           }
          },
          "title": {
           "x": 0.05
          },
          "xaxis": {
           "automargin": true,
           "gridcolor": "white",
           "linecolor": "white",
           "ticks": "",
           "title": {
            "standoff": 15
           },
           "zerolinecolor": "white",
           "zerolinewidth": 2
          },
          "yaxis": {
           "automargin": true,
           "gridcolor": "white",
           "linecolor": "white",
           "ticks": "",
           "title": {
            "standoff": 15
           },
           "zerolinecolor": "white",
           "zerolinewidth": 2
          }
         }
        },
        "title": {
         "text": "Energy forecast for 2050<br>Source: Department of Energy & Climate Change, Tom Counsell via <a href='https://bost.ocks.org/mike/sankey/'>Mike Bostock</a>"
        }
       }
      }
     },
     "metadata": {},
     "output_type": "display_data"
    }
   ],
   "source": [
    "import plotly.graph_objects as go\n",
    "import urllib, json\n",
    "\n",
    "url = 'https://raw.githubusercontent.com/plotly/plotly.js/master/test/image/mocks/sankey_energy.json'\n",
    "response = urllib.request.urlopen(url)\n",
    "data = json.loads(response.read())\n",
    "\n",
    "# override gray link colors with 'source' colors\n",
    "opacity = 0.4\n",
    "# change 'magenta' to its 'rgba' value to add opacity\n",
    "data['data'][0]['node']['color'] = ['rgba(255,0,255, 0.8)' if color == \"magenta\" else color for color in data['data'][0]['node']['color']]\n",
    "data['data'][0]['link']['color'] = [data['data'][0]['node']['color'][src].replace(\"0.8\", str(opacity))\n",
    "                                    for src in data['data'][0]['link']['source']]\n",
    "\n",
    "fig = go.Figure(data=[go.Sankey(\n",
    "    valueformat = \".0f\",\n",
    "    valuesuffix = \"TWh\",\n",
    "    # Define nodes\n",
    "    node = dict(\n",
    "      pad = 15,\n",
    "      thickness = 15,\n",
    "      line = dict(color = \"black\", width = 0.5),\n",
    "      label =  data['data'][0]['node']['label'],\n",
    "      color =  data['data'][0]['node']['color']\n",
    "    ),\n",
    "    # Add links\n",
    "    link = dict(\n",
    "      source =  data['data'][0]['link']['source'],\n",
    "      target =  data['data'][0]['link']['target'],\n",
    "      value =  data['data'][0]['link']['value'],\n",
    "      label =  data['data'][0]['link']['label'],\n",
    "      color =  data['data'][0]['link']['color']\n",
    "))])\n",
    "\n",
    "fig.update_layout(title_text=\"Energy forecast for 2050<br>Source: Department of Energy & Climate Change, Tom Counsell via <a href='https://bost.ocks.org/mike/sankey/'>Mike Bostock</a>\",\n",
    "                  font_size=10)\n",
    "fig.show()"
   ]
  },
  {
   "cell_type": "code",
   "execution_count": 208,
   "metadata": {},
   "outputs": [
    {
     "data": {
      "application/vnd.plotly.v1+json": {
       "config": {
        "plotlyServerURL": "https://plot.ly"
       },
       "data": [
        {
         "link": {
          "source": [
           0,
           1,
           2,
           3,
           4,
           5,
           6,
           7,
           8,
           9,
           10,
           11,
           12,
           13,
           14,
           15,
           16,
           17,
           18,
           19,
           20,
           21,
           22
          ],
          "target": [
           14,
           15,
           16,
           17,
           18,
           19,
           20,
           21,
           22
          ],
          "value": [
           1,
           1,
           1,
           1,
           1,
           1,
           1,
           1,
           1
          ]
         },
         "node": {
          "color": "blue",
          "label": [
           "peat",
           "sulphury",
           "wood",
           "sweet",
           "feinty",
           "green/grassy",
           "nutty",
           "fruit",
           "stale",
           "earthy",
           "vinous",
           "nuts",
           "new wood",
           "vanilla",
           "smoke",
           "leathery",
           "fresh fruit",
           "honey",
           "ligneous",
           "grass",
           "cooked vegetables",
           "toasted",
           "green vegetables"
          ],
          "line": {
           "color": "black",
           "width": 0.5
          },
          "pad": 15,
          "thickness": 20
         },
         "type": "sankey"
        }
       ],
       "layout": {
        "font": {
         "size": 10
        },
        "template": {
         "data": {
          "bar": [
           {
            "error_x": {
             "color": "#2a3f5f"
            },
            "error_y": {
             "color": "#2a3f5f"
            },
            "marker": {
             "line": {
              "color": "#E5ECF6",
              "width": 0.5
             },
             "pattern": {
              "fillmode": "overlay",
              "size": 10,
              "solidity": 0.2
             }
            },
            "type": "bar"
           }
          ],
          "barpolar": [
           {
            "marker": {
             "line": {
              "color": "#E5ECF6",
              "width": 0.5
             },
             "pattern": {
              "fillmode": "overlay",
              "size": 10,
              "solidity": 0.2
             }
            },
            "type": "barpolar"
           }
          ],
          "carpet": [
           {
            "aaxis": {
             "endlinecolor": "#2a3f5f",
             "gridcolor": "white",
             "linecolor": "white",
             "minorgridcolor": "white",
             "startlinecolor": "#2a3f5f"
            },
            "baxis": {
             "endlinecolor": "#2a3f5f",
             "gridcolor": "white",
             "linecolor": "white",
             "minorgridcolor": "white",
             "startlinecolor": "#2a3f5f"
            },
            "type": "carpet"
           }
          ],
          "choropleth": [
           {
            "colorbar": {
             "outlinewidth": 0,
             "ticks": ""
            },
            "type": "choropleth"
           }
          ],
          "contour": [
           {
            "colorbar": {
             "outlinewidth": 0,
             "ticks": ""
            },
            "colorscale": [
             [
              0,
              "#0d0887"
             ],
             [
              0.1111111111111111,
              "#46039f"
             ],
             [
              0.2222222222222222,
              "#7201a8"
             ],
             [
              0.3333333333333333,
              "#9c179e"
             ],
             [
              0.4444444444444444,
              "#bd3786"
             ],
             [
              0.5555555555555556,
              "#d8576b"
             ],
             [
              0.6666666666666666,
              "#ed7953"
             ],
             [
              0.7777777777777778,
              "#fb9f3a"
             ],
             [
              0.8888888888888888,
              "#fdca26"
             ],
             [
              1,
              "#f0f921"
             ]
            ],
            "type": "contour"
           }
          ],
          "contourcarpet": [
           {
            "colorbar": {
             "outlinewidth": 0,
             "ticks": ""
            },
            "type": "contourcarpet"
           }
          ],
          "heatmap": [
           {
            "colorbar": {
             "outlinewidth": 0,
             "ticks": ""
            },
            "colorscale": [
             [
              0,
              "#0d0887"
             ],
             [
              0.1111111111111111,
              "#46039f"
             ],
             [
              0.2222222222222222,
              "#7201a8"
             ],
             [
              0.3333333333333333,
              "#9c179e"
             ],
             [
              0.4444444444444444,
              "#bd3786"
             ],
             [
              0.5555555555555556,
              "#d8576b"
             ],
             [
              0.6666666666666666,
              "#ed7953"
             ],
             [
              0.7777777777777778,
              "#fb9f3a"
             ],
             [
              0.8888888888888888,
              "#fdca26"
             ],
             [
              1,
              "#f0f921"
             ]
            ],
            "type": "heatmap"
           }
          ],
          "heatmapgl": [
           {
            "colorbar": {
             "outlinewidth": 0,
             "ticks": ""
            },
            "colorscale": [
             [
              0,
              "#0d0887"
             ],
             [
              0.1111111111111111,
              "#46039f"
             ],
             [
              0.2222222222222222,
              "#7201a8"
             ],
             [
              0.3333333333333333,
              "#9c179e"
             ],
             [
              0.4444444444444444,
              "#bd3786"
             ],
             [
              0.5555555555555556,
              "#d8576b"
             ],
             [
              0.6666666666666666,
              "#ed7953"
             ],
             [
              0.7777777777777778,
              "#fb9f3a"
             ],
             [
              0.8888888888888888,
              "#fdca26"
             ],
             [
              1,
              "#f0f921"
             ]
            ],
            "type": "heatmapgl"
           }
          ],
          "histogram": [
           {
            "marker": {
             "pattern": {
              "fillmode": "overlay",
              "size": 10,
              "solidity": 0.2
             }
            },
            "type": "histogram"
           }
          ],
          "histogram2d": [
           {
            "colorbar": {
             "outlinewidth": 0,
             "ticks": ""
            },
            "colorscale": [
             [
              0,
              "#0d0887"
             ],
             [
              0.1111111111111111,
              "#46039f"
             ],
             [
              0.2222222222222222,
              "#7201a8"
             ],
             [
              0.3333333333333333,
              "#9c179e"
             ],
             [
              0.4444444444444444,
              "#bd3786"
             ],
             [
              0.5555555555555556,
              "#d8576b"
             ],
             [
              0.6666666666666666,
              "#ed7953"
             ],
             [
              0.7777777777777778,
              "#fb9f3a"
             ],
             [
              0.8888888888888888,
              "#fdca26"
             ],
             [
              1,
              "#f0f921"
             ]
            ],
            "type": "histogram2d"
           }
          ],
          "histogram2dcontour": [
           {
            "colorbar": {
             "outlinewidth": 0,
             "ticks": ""
            },
            "colorscale": [
             [
              0,
              "#0d0887"
             ],
             [
              0.1111111111111111,
              "#46039f"
             ],
             [
              0.2222222222222222,
              "#7201a8"
             ],
             [
              0.3333333333333333,
              "#9c179e"
             ],
             [
              0.4444444444444444,
              "#bd3786"
             ],
             [
              0.5555555555555556,
              "#d8576b"
             ],
             [
              0.6666666666666666,
              "#ed7953"
             ],
             [
              0.7777777777777778,
              "#fb9f3a"
             ],
             [
              0.8888888888888888,
              "#fdca26"
             ],
             [
              1,
              "#f0f921"
             ]
            ],
            "type": "histogram2dcontour"
           }
          ],
          "mesh3d": [
           {
            "colorbar": {
             "outlinewidth": 0,
             "ticks": ""
            },
            "type": "mesh3d"
           }
          ],
          "parcoords": [
           {
            "line": {
             "colorbar": {
              "outlinewidth": 0,
              "ticks": ""
             }
            },
            "type": "parcoords"
           }
          ],
          "pie": [
           {
            "automargin": true,
            "type": "pie"
           }
          ],
          "scatter": [
           {
            "fillpattern": {
             "fillmode": "overlay",
             "size": 10,
             "solidity": 0.2
            },
            "type": "scatter"
           }
          ],
          "scatter3d": [
           {
            "line": {
             "colorbar": {
              "outlinewidth": 0,
              "ticks": ""
             }
            },
            "marker": {
             "colorbar": {
              "outlinewidth": 0,
              "ticks": ""
             }
            },
            "type": "scatter3d"
           }
          ],
          "scattercarpet": [
           {
            "marker": {
             "colorbar": {
              "outlinewidth": 0,
              "ticks": ""
             }
            },
            "type": "scattercarpet"
           }
          ],
          "scattergeo": [
           {
            "marker": {
             "colorbar": {
              "outlinewidth": 0,
              "ticks": ""
             }
            },
            "type": "scattergeo"
           }
          ],
          "scattergl": [
           {
            "marker": {
             "colorbar": {
              "outlinewidth": 0,
              "ticks": ""
             }
            },
            "type": "scattergl"
           }
          ],
          "scattermapbox": [
           {
            "marker": {
             "colorbar": {
              "outlinewidth": 0,
              "ticks": ""
             }
            },
            "type": "scattermapbox"
           }
          ],
          "scatterpolar": [
           {
            "marker": {
             "colorbar": {
              "outlinewidth": 0,
              "ticks": ""
             }
            },
            "type": "scatterpolar"
           }
          ],
          "scatterpolargl": [
           {
            "marker": {
             "colorbar": {
              "outlinewidth": 0,
              "ticks": ""
             }
            },
            "type": "scatterpolargl"
           }
          ],
          "scatterternary": [
           {
            "marker": {
             "colorbar": {
              "outlinewidth": 0,
              "ticks": ""
             }
            },
            "type": "scatterternary"
           }
          ],
          "surface": [
           {
            "colorbar": {
             "outlinewidth": 0,
             "ticks": ""
            },
            "colorscale": [
             [
              0,
              "#0d0887"
             ],
             [
              0.1111111111111111,
              "#46039f"
             ],
             [
              0.2222222222222222,
              "#7201a8"
             ],
             [
              0.3333333333333333,
              "#9c179e"
             ],
             [
              0.4444444444444444,
              "#bd3786"
             ],
             [
              0.5555555555555556,
              "#d8576b"
             ],
             [
              0.6666666666666666,
              "#ed7953"
             ],
             [
              0.7777777777777778,
              "#fb9f3a"
             ],
             [
              0.8888888888888888,
              "#fdca26"
             ],
             [
              1,
              "#f0f921"
             ]
            ],
            "type": "surface"
           }
          ],
          "table": [
           {
            "cells": {
             "fill": {
              "color": "#EBF0F8"
             },
             "line": {
              "color": "white"
             }
            },
            "header": {
             "fill": {
              "color": "#C8D4E3"
             },
             "line": {
              "color": "white"
             }
            },
            "type": "table"
           }
          ]
         },
         "layout": {
          "annotationdefaults": {
           "arrowcolor": "#2a3f5f",
           "arrowhead": 0,
           "arrowwidth": 1
          },
          "autotypenumbers": "strict",
          "coloraxis": {
           "colorbar": {
            "outlinewidth": 0,
            "ticks": ""
           }
          },
          "colorscale": {
           "diverging": [
            [
             0,
             "#8e0152"
            ],
            [
             0.1,
             "#c51b7d"
            ],
            [
             0.2,
             "#de77ae"
            ],
            [
             0.3,
             "#f1b6da"
            ],
            [
             0.4,
             "#fde0ef"
            ],
            [
             0.5,
             "#f7f7f7"
            ],
            [
             0.6,
             "#e6f5d0"
            ],
            [
             0.7,
             "#b8e186"
            ],
            [
             0.8,
             "#7fbc41"
            ],
            [
             0.9,
             "#4d9221"
            ],
            [
             1,
             "#276419"
            ]
           ],
           "sequential": [
            [
             0,
             "#0d0887"
            ],
            [
             0.1111111111111111,
             "#46039f"
            ],
            [
             0.2222222222222222,
             "#7201a8"
            ],
            [
             0.3333333333333333,
             "#9c179e"
            ],
            [
             0.4444444444444444,
             "#bd3786"
            ],
            [
             0.5555555555555556,
             "#d8576b"
            ],
            [
             0.6666666666666666,
             "#ed7953"
            ],
            [
             0.7777777777777778,
             "#fb9f3a"
            ],
            [
             0.8888888888888888,
             "#fdca26"
            ],
            [
             1,
             "#f0f921"
            ]
           ],
           "sequentialminus": [
            [
             0,
             "#0d0887"
            ],
            [
             0.1111111111111111,
             "#46039f"
            ],
            [
             0.2222222222222222,
             "#7201a8"
            ],
            [
             0.3333333333333333,
             "#9c179e"
            ],
            [
             0.4444444444444444,
             "#bd3786"
            ],
            [
             0.5555555555555556,
             "#d8576b"
            ],
            [
             0.6666666666666666,
             "#ed7953"
            ],
            [
             0.7777777777777778,
             "#fb9f3a"
            ],
            [
             0.8888888888888888,
             "#fdca26"
            ],
            [
             1,
             "#f0f921"
            ]
           ]
          },
          "colorway": [
           "#636efa",
           "#EF553B",
           "#00cc96",
           "#ab63fa",
           "#FFA15A",
           "#19d3f3",
           "#FF6692",
           "#B6E880",
           "#FF97FF",
           "#FECB52"
          ],
          "font": {
           "color": "#2a3f5f"
          },
          "geo": {
           "bgcolor": "white",
           "lakecolor": "white",
           "landcolor": "#E5ECF6",
           "showlakes": true,
           "showland": true,
           "subunitcolor": "white"
          },
          "hoverlabel": {
           "align": "left"
          },
          "hovermode": "closest",
          "mapbox": {
           "style": "light"
          },
          "paper_bgcolor": "white",
          "plot_bgcolor": "#E5ECF6",
          "polar": {
           "angularaxis": {
            "gridcolor": "white",
            "linecolor": "white",
            "ticks": ""
           },
           "bgcolor": "#E5ECF6",
           "radialaxis": {
            "gridcolor": "white",
            "linecolor": "white",
            "ticks": ""
           }
          },
          "scene": {
           "xaxis": {
            "backgroundcolor": "#E5ECF6",
            "gridcolor": "white",
            "gridwidth": 2,
            "linecolor": "white",
            "showbackground": true,
            "ticks": "",
            "zerolinecolor": "white"
           },
           "yaxis": {
            "backgroundcolor": "#E5ECF6",
            "gridcolor": "white",
            "gridwidth": 2,
            "linecolor": "white",
            "showbackground": true,
            "ticks": "",
            "zerolinecolor": "white"
           },
           "zaxis": {
            "backgroundcolor": "#E5ECF6",
            "gridcolor": "white",
            "gridwidth": 2,
            "linecolor": "white",
            "showbackground": true,
            "ticks": "",
            "zerolinecolor": "white"
           }
          },
          "shapedefaults": {
           "line": {
            "color": "#2a3f5f"
           }
          },
          "ternary": {
           "aaxis": {
            "gridcolor": "white",
            "linecolor": "white",
            "ticks": ""
           },
           "baxis": {
            "gridcolor": "white",
            "linecolor": "white",
            "ticks": ""
           },
           "bgcolor": "#E5ECF6",
           "caxis": {
            "gridcolor": "white",
            "linecolor": "white",
            "ticks": ""
           }
          },
          "title": {
           "x": 0.05
          },
          "xaxis": {
           "automargin": true,
           "gridcolor": "white",
           "linecolor": "white",
           "ticks": "",
           "title": {
            "standoff": 15
           },
           "zerolinecolor": "white",
           "zerolinewidth": 2
          },
          "yaxis": {
           "automargin": true,
           "gridcolor": "white",
           "linecolor": "white",
           "ticks": "",
           "title": {
            "standoff": 15
           },
           "zerolinecolor": "white",
           "zerolinewidth": 2
          }
         }
        },
        "title": {
         "text": "OSA - OQ"
        }
       }
      }
     },
     "metadata": {},
     "output_type": "display_data"
    }
   ],
   "source": [
    "fig = go.Figure(data=[go.Sankey(\n",
    "    node = dict(\n",
    "      pad = 15,\n",
    "      thickness = 20,\n",
    "      line = dict(color = \"black\", width = 0.5),\n",
    "      label = list(set(OSA_list))+list(set(OQ_list)),\n",
    "      color = \"blue\"\n",
    "    ),\n",
    "    link = dict(\n",
    "      source = list(range(len(set(OSA_list))+len(set(OQ_list)))), # indices correspond to labels, eg A1, A2, A1, B1, ...\n",
    "      target = list(range(len(set(OQ_list)),len(set(OSA_list))+len(set(OQ_list)))),\n",
    "      value = [1] * ((len(list(set(OSA_list)))))\n",
    "  ))])\n",
    "\n",
    "fig.update_layout(title_text=\"OSA - OQ\", font_size=10)\n",
    "fig.show()"
   ]
  },
  {
   "cell_type": "code",
   "execution_count": null,
   "metadata": {},
   "outputs": [],
   "source": [
    "import plotly.graph_objects as go\n",
    "\n",
    "fig = go.Figure(data=[go.Sankey(\n",
    "    node = dict(\n",
    "      pad = 15,\n",
    "      thickness = 20,\n",
    "      line = dict(color = \"black\", width = 0.5),\n",
    "      label = [\"A1\", \"A2\", \"B1\", \"B2\", \"C1\", \"C2\"],\n",
    "      color = \"blue\"\n",
    "    ),\n",
    "    link = dict(\n",
    "      source = [0, 1, 0, 2, 3, 3], # indices correspond to labels, eg A1, A2, A1, B1, ...\n",
    "      target = [2, 3, 3, 4, 4, 5],\n",
    "      value = [8, 4, 2, 8, 4, 2]\n",
    "  ))])\n",
    "\n",
    "fig.update_layout(title_text=\"Basic Sankey Diagram\", font_size=10)\n",
    "fig.show()"
   ]
  }
 ],
 "metadata": {
  "kernelspec": {
   "display_name": "Python 3",
   "language": "python",
   "name": "python3"
  },
  "language_info": {
   "codemirror_mode": {
    "name": "ipython",
    "version": 3
   },
   "file_extension": ".py",
   "mimetype": "text/x-python",
   "name": "python",
   "nbconvert_exporter": "python",
   "pygments_lexer": "ipython3",
   "version": "3.9.6"
  },
  "orig_nbformat": 4
 },
 "nbformat": 4,
 "nbformat_minor": 2
}
