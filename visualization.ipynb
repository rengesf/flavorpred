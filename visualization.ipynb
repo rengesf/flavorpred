{
 "cells": [
  {
   "cell_type": "markdown",
   "metadata": {},
   "source": [
    "# Visualization of workflow / in and output"
   ]
  },
  {
   "cell_type": "markdown",
   "metadata": {},
   "source": [
    "#### odorants - OD - OQ - OSA"
   ]
  },
  {
   "cell_type": "markdown",
   "metadata": {},
   "source": [
    "df need with columns:\n",
    " \n",
    "match - odorants - OD - OQ - OSA "
   ]
  },
  {
   "cell_type": "code",
   "execution_count": 117,
   "metadata": {},
   "outputs": [],
   "source": [
    "import pandas as pd\n",
    "from fuzzywuzzy import fuzz"
   ]
  },
  {
   "cell_type": "code",
   "execution_count": 8,
   "metadata": {},
   "outputs": [
    {
     "data": {
      "text/html": [
       "<div>\n",
       "<style scoped>\n",
       "    .dataframe tbody tr th:only-of-type {\n",
       "        vertical-align: middle;\n",
       "    }\n",
       "\n",
       "    .dataframe tbody tr th {\n",
       "        vertical-align: top;\n",
       "    }\n",
       "\n",
       "    .dataframe thead th {\n",
       "        text-align: right;\n",
       "    }\n",
       "</style>\n",
       "<table border=\"1\" class=\"dataframe\">\n",
       "  <thead>\n",
       "    <tr style=\"text-align: right;\">\n",
       "      <th></th>\n",
       "      <th>match</th>\n",
       "      <th>odorants</th>\n",
       "      <th>OD</th>\n",
       "      <th>OQ</th>\n",
       "      <th>OSA</th>\n",
       "    </tr>\n",
       "  </thead>\n",
       "  <tbody>\n",
       "    <tr>\n",
       "      <th>0</th>\n",
       "      <td>1</td>\n",
       "      <td>herb</td>\n",
       "      <td>green</td>\n",
       "      <td>grass</td>\n",
       "      <td>green/grassy</td>\n",
       "    </tr>\n",
       "    <tr>\n",
       "      <th>1</th>\n",
       "      <td>1</td>\n",
       "      <td>honey</td>\n",
       "      <td>sweet</td>\n",
       "      <td>fruit</td>\n",
       "      <td>floral</td>\n",
       "    </tr>\n",
       "    <tr>\n",
       "      <th>2</th>\n",
       "      <td>1</td>\n",
       "      <td>herb</td>\n",
       "      <td>green</td>\n",
       "      <td>grass</td>\n",
       "      <td>green/grassy</td>\n",
       "    </tr>\n",
       "  </tbody>\n",
       "</table>\n",
       "</div>"
      ],
      "text/plain": [
       "   match odorants     OD     OQ           OSA\n",
       "0      1     herb  green  grass  green/grassy\n",
       "1      1    honey  sweet  fruit        floral\n",
       "2      1     herb  green  grass  green/grassy"
      ]
     },
     "execution_count": 8,
     "metadata": {},
     "output_type": "execute_result"
    }
   ],
   "source": [
    "df = pd.read_csv('./data/dummy_df_visualization.csv', sep=';')\n",
    "df"
   ]
  },
  {
   "cell_type": "code",
   "execution_count": 44,
   "metadata": {},
   "outputs": [
    {
     "data": {
      "text/html": [
       "<div>\n",
       "<style scoped>\n",
       "    .dataframe tbody tr th:only-of-type {\n",
       "        vertical-align: middle;\n",
       "    }\n",
       "\n",
       "    .dataframe tbody tr th {\n",
       "        vertical-align: top;\n",
       "    }\n",
       "\n",
       "    .dataframe thead th {\n",
       "        text-align: right;\n",
       "    }\n",
       "</style>\n",
       "<table border=\"1\" class=\"dataframe\">\n",
       "  <thead>\n",
       "    <tr style=\"text-align: right;\">\n",
       "      <th></th>\n",
       "      <th>Almond</th>\n",
       "      <th>Woody</th>\n",
       "      <th>Camphor</th>\n",
       "      <th>Leather</th>\n",
       "      <th>Cooked</th>\n",
       "      <th>Spicy</th>\n",
       "      <th>Floral</th>\n",
       "      <th>Fresh</th>\n",
       "      <th>Fruity</th>\n",
       "      <th>Smoky</th>\n",
       "      <th>...</th>\n",
       "      <th>Lactonic</th>\n",
       "      <th>Vegetable</th>\n",
       "      <th>Honey</th>\n",
       "      <th>Peel</th>\n",
       "      <th>Sulfurous</th>\n",
       "      <th>Toasty</th>\n",
       "      <th>Vanilla</th>\n",
       "      <th>Green</th>\n",
       "      <th>Vinous</th>\n",
       "      <th>Violet</th>\n",
       "    </tr>\n",
       "  </thead>\n",
       "  <tbody>\n",
       "    <tr>\n",
       "      <th>AGRUMES</th>\n",
       "      <td>0</td>\n",
       "      <td>0</td>\n",
       "      <td>0</td>\n",
       "      <td>0</td>\n",
       "      <td>0</td>\n",
       "      <td>0</td>\n",
       "      <td>0</td>\n",
       "      <td>0</td>\n",
       "      <td>1</td>\n",
       "      <td>0</td>\n",
       "      <td>...</td>\n",
       "      <td>0</td>\n",
       "      <td>0</td>\n",
       "      <td>0</td>\n",
       "      <td>0</td>\n",
       "      <td>0</td>\n",
       "      <td>0</td>\n",
       "      <td>0</td>\n",
       "      <td>0</td>\n",
       "      <td>0</td>\n",
       "      <td>0</td>\n",
       "    </tr>\n",
       "    <tr>\n",
       "      <th>Apple</th>\n",
       "      <td>0</td>\n",
       "      <td>0</td>\n",
       "      <td>0</td>\n",
       "      <td>0</td>\n",
       "      <td>0</td>\n",
       "      <td>0</td>\n",
       "      <td>0</td>\n",
       "      <td>0</td>\n",
       "      <td>1</td>\n",
       "      <td>0</td>\n",
       "      <td>...</td>\n",
       "      <td>0</td>\n",
       "      <td>0</td>\n",
       "      <td>0</td>\n",
       "      <td>0</td>\n",
       "      <td>0</td>\n",
       "      <td>0</td>\n",
       "      <td>0</td>\n",
       "      <td>0</td>\n",
       "      <td>0</td>\n",
       "      <td>0</td>\n",
       "    </tr>\n",
       "    <tr>\n",
       "      <th>Apple peels</th>\n",
       "      <td>0</td>\n",
       "      <td>0</td>\n",
       "      <td>0</td>\n",
       "      <td>0</td>\n",
       "      <td>0</td>\n",
       "      <td>0</td>\n",
       "      <td>0</td>\n",
       "      <td>0</td>\n",
       "      <td>1</td>\n",
       "      <td>0</td>\n",
       "      <td>...</td>\n",
       "      <td>0</td>\n",
       "      <td>0</td>\n",
       "      <td>0</td>\n",
       "      <td>1</td>\n",
       "      <td>0</td>\n",
       "      <td>0</td>\n",
       "      <td>0</td>\n",
       "      <td>0</td>\n",
       "      <td>0</td>\n",
       "      <td>0</td>\n",
       "    </tr>\n",
       "    <tr>\n",
       "      <th>Apricot</th>\n",
       "      <td>0</td>\n",
       "      <td>0</td>\n",
       "      <td>0</td>\n",
       "      <td>0</td>\n",
       "      <td>0</td>\n",
       "      <td>0</td>\n",
       "      <td>0</td>\n",
       "      <td>0</td>\n",
       "      <td>1</td>\n",
       "      <td>0</td>\n",
       "      <td>...</td>\n",
       "      <td>0</td>\n",
       "      <td>0</td>\n",
       "      <td>0</td>\n",
       "      <td>0</td>\n",
       "      <td>0</td>\n",
       "      <td>0</td>\n",
       "      <td>0</td>\n",
       "      <td>0</td>\n",
       "      <td>0</td>\n",
       "      <td>0</td>\n",
       "    </tr>\n",
       "    <tr>\n",
       "      <th>Banana</th>\n",
       "      <td>0</td>\n",
       "      <td>0</td>\n",
       "      <td>0</td>\n",
       "      <td>0</td>\n",
       "      <td>0</td>\n",
       "      <td>0</td>\n",
       "      <td>0</td>\n",
       "      <td>0</td>\n",
       "      <td>1</td>\n",
       "      <td>0</td>\n",
       "      <td>...</td>\n",
       "      <td>0</td>\n",
       "      <td>0</td>\n",
       "      <td>0</td>\n",
       "      <td>0</td>\n",
       "      <td>0</td>\n",
       "      <td>0</td>\n",
       "      <td>0</td>\n",
       "      <td>0</td>\n",
       "      <td>0</td>\n",
       "      <td>0</td>\n",
       "    </tr>\n",
       "    <tr>\n",
       "      <th>...</th>\n",
       "      <td>...</td>\n",
       "      <td>...</td>\n",
       "      <td>...</td>\n",
       "      <td>...</td>\n",
       "      <td>...</td>\n",
       "      <td>...</td>\n",
       "      <td>...</td>\n",
       "      <td>...</td>\n",
       "      <td>...</td>\n",
       "      <td>...</td>\n",
       "      <td>...</td>\n",
       "      <td>...</td>\n",
       "      <td>...</td>\n",
       "      <td>...</td>\n",
       "      <td>...</td>\n",
       "      <td>...</td>\n",
       "      <td>...</td>\n",
       "      <td>...</td>\n",
       "      <td>...</td>\n",
       "      <td>...</td>\n",
       "      <td>...</td>\n",
       "    </tr>\n",
       "    <tr>\n",
       "      <th>Wine</th>\n",
       "      <td>0</td>\n",
       "      <td>0</td>\n",
       "      <td>0</td>\n",
       "      <td>0</td>\n",
       "      <td>0</td>\n",
       "      <td>0</td>\n",
       "      <td>0</td>\n",
       "      <td>0</td>\n",
       "      <td>0</td>\n",
       "      <td>0</td>\n",
       "      <td>...</td>\n",
       "      <td>0</td>\n",
       "      <td>0</td>\n",
       "      <td>0</td>\n",
       "      <td>0</td>\n",
       "      <td>0</td>\n",
       "      <td>0</td>\n",
       "      <td>0</td>\n",
       "      <td>0</td>\n",
       "      <td>1</td>\n",
       "      <td>0</td>\n",
       "    </tr>\n",
       "    <tr>\n",
       "      <th>Wine-yeast</th>\n",
       "      <td>0</td>\n",
       "      <td>0</td>\n",
       "      <td>0</td>\n",
       "      <td>0</td>\n",
       "      <td>0</td>\n",
       "      <td>0</td>\n",
       "      <td>0</td>\n",
       "      <td>0</td>\n",
       "      <td>0</td>\n",
       "      <td>0</td>\n",
       "      <td>...</td>\n",
       "      <td>0</td>\n",
       "      <td>0</td>\n",
       "      <td>0</td>\n",
       "      <td>0</td>\n",
       "      <td>0</td>\n",
       "      <td>0</td>\n",
       "      <td>0</td>\n",
       "      <td>0</td>\n",
       "      <td>1</td>\n",
       "      <td>0</td>\n",
       "    </tr>\n",
       "    <tr>\n",
       "      <th>Winey</th>\n",
       "      <td>0</td>\n",
       "      <td>0</td>\n",
       "      <td>0</td>\n",
       "      <td>0</td>\n",
       "      <td>0</td>\n",
       "      <td>0</td>\n",
       "      <td>0</td>\n",
       "      <td>0</td>\n",
       "      <td>0</td>\n",
       "      <td>0</td>\n",
       "      <td>...</td>\n",
       "      <td>0</td>\n",
       "      <td>0</td>\n",
       "      <td>0</td>\n",
       "      <td>0</td>\n",
       "      <td>0</td>\n",
       "      <td>0</td>\n",
       "      <td>0</td>\n",
       "      <td>0</td>\n",
       "      <td>1</td>\n",
       "      <td>0</td>\n",
       "    </tr>\n",
       "    <tr>\n",
       "      <th>Woody</th>\n",
       "      <td>0</td>\n",
       "      <td>1</td>\n",
       "      <td>0</td>\n",
       "      <td>0</td>\n",
       "      <td>0</td>\n",
       "      <td>0</td>\n",
       "      <td>0</td>\n",
       "      <td>0</td>\n",
       "      <td>0</td>\n",
       "      <td>0</td>\n",
       "      <td>...</td>\n",
       "      <td>0</td>\n",
       "      <td>0</td>\n",
       "      <td>0</td>\n",
       "      <td>0</td>\n",
       "      <td>0</td>\n",
       "      <td>0</td>\n",
       "      <td>0</td>\n",
       "      <td>0</td>\n",
       "      <td>0</td>\n",
       "      <td>0</td>\n",
       "    </tr>\n",
       "    <tr>\n",
       "      <th>Woody-phenolic</th>\n",
       "      <td>0</td>\n",
       "      <td>1</td>\n",
       "      <td>0</td>\n",
       "      <td>0</td>\n",
       "      <td>0</td>\n",
       "      <td>0</td>\n",
       "      <td>0</td>\n",
       "      <td>0</td>\n",
       "      <td>0</td>\n",
       "      <td>1</td>\n",
       "      <td>...</td>\n",
       "      <td>0</td>\n",
       "      <td>0</td>\n",
       "      <td>0</td>\n",
       "      <td>0</td>\n",
       "      <td>0</td>\n",
       "      <td>0</td>\n",
       "      <td>0</td>\n",
       "      <td>0</td>\n",
       "      <td>0</td>\n",
       "      <td>0</td>\n",
       "    </tr>\n",
       "  </tbody>\n",
       "</table>\n",
       "<p>118 rows × 21 columns</p>\n",
       "</div>"
      ],
      "text/plain": [
       "                Almond  Woody  Camphor  Leather  Cooked  Spicy  Floral  Fresh  \\\n",
       "AGRUMES              0      0        0        0       0      0       0      0   \n",
       "Apple                0      0        0        0       0      0       0      0   \n",
       "Apple peels          0      0        0        0       0      0       0      0   \n",
       "Apricot              0      0        0        0       0      0       0      0   \n",
       "Banana               0      0        0        0       0      0       0      0   \n",
       "...                ...    ...      ...      ...     ...    ...     ...    ...   \n",
       "Wine                 0      0        0        0       0      0       0      0   \n",
       "Wine-yeast           0      0        0        0       0      0       0      0   \n",
       "Winey                0      0        0        0       0      0       0      0   \n",
       "Woody                0      1        0        0       0      0       0      0   \n",
       "Woody-phenolic       0      1        0        0       0      0       0      0   \n",
       "\n",
       "                Fruity  Smoky  ...  Lactonic  Vegetable  Honey  Peel  \\\n",
       "AGRUMES              1      0  ...         0          0      0     0   \n",
       "Apple                1      0  ...         0          0      0     0   \n",
       "Apple peels          1      0  ...         0          0      0     1   \n",
       "Apricot              1      0  ...         0          0      0     0   \n",
       "Banana               1      0  ...         0          0      0     0   \n",
       "...                ...    ...  ...       ...        ...    ...   ...   \n",
       "Wine                 0      0  ...         0          0      0     0   \n",
       "Wine-yeast           0      0  ...         0          0      0     0   \n",
       "Winey                0      0  ...         0          0      0     0   \n",
       "Woody                0      0  ...         0          0      0     0   \n",
       "Woody-phenolic       0      1  ...         0          0      0     0   \n",
       "\n",
       "                Sulfurous  Toasty  Vanilla  Green  Vinous  Violet  \n",
       "AGRUMES                 0       0        0      0       0       0  \n",
       "Apple                   0       0        0      0       0       0  \n",
       "Apple peels             0       0        0      0       0       0  \n",
       "Apricot                 0       0        0      0       0       0  \n",
       "Banana                  0       0        0      0       0       0  \n",
       "...                   ...     ...      ...    ...     ...     ...  \n",
       "Wine                    0       0        0      0       1       0  \n",
       "Wine-yeast              0       0        0      0       1       0  \n",
       "Winey                   0       0        0      0       1       0  \n",
       "Woody                   0       0        0      0       0       0  \n",
       "Woody-phenolic          0       0        0      0       0       0  \n",
       "\n",
       "[118 rows x 21 columns]"
      ]
     },
     "execution_count": 44,
     "metadata": {},
     "output_type": "execute_result"
    }
   ],
   "source": [
    "OD_OQ_df =  pd.read_csv('./data/DATA_OD-2-OQ.csv', index_col=0)\n",
    "OD_OQ_df = OD_OQ_df.loc[(OD_OQ_df.iloc[:,1:] != 0).any(axis=1)]\n",
    "OD_OQ_df"
   ]
  },
  {
   "cell_type": "code",
   "execution_count": 108,
   "metadata": {},
   "outputs": [
    {
     "data": {
      "text/html": [
       "<div>\n",
       "<style scoped>\n",
       "    .dataframe tbody tr th:only-of-type {\n",
       "        vertical-align: middle;\n",
       "    }\n",
       "\n",
       "    .dataframe tbody tr th {\n",
       "        vertical-align: top;\n",
       "    }\n",
       "\n",
       "    .dataframe thead th {\n",
       "        text-align: right;\n",
       "    }\n",
       "</style>\n",
       "<table border=\"1\" class=\"dataframe\">\n",
       "  <thead>\n",
       "    <tr style=\"text-align: right;\">\n",
       "      <th></th>\n",
       "      <th>match</th>\n",
       "      <th>OD</th>\n",
       "      <th>OQ</th>\n",
       "    </tr>\n",
       "  </thead>\n",
       "  <tbody>\n",
       "    <tr>\n",
       "      <th>0</th>\n",
       "      <td>1</td>\n",
       "      <td>AGRUMES</td>\n",
       "      <td>Fruity</td>\n",
       "    </tr>\n",
       "    <tr>\n",
       "      <th>1</th>\n",
       "      <td>1</td>\n",
       "      <td>Apple</td>\n",
       "      <td>Fruity</td>\n",
       "    </tr>\n",
       "    <tr>\n",
       "      <th>2</th>\n",
       "      <td>1</td>\n",
       "      <td>Apple peels</td>\n",
       "      <td>Fruity</td>\n",
       "    </tr>\n",
       "    <tr>\n",
       "      <th>3</th>\n",
       "      <td>1</td>\n",
       "      <td>Apple peels</td>\n",
       "      <td>Peel</td>\n",
       "    </tr>\n",
       "    <tr>\n",
       "      <th>4</th>\n",
       "      <td>1</td>\n",
       "      <td>Apricot</td>\n",
       "      <td>Fruity</td>\n",
       "    </tr>\n",
       "    <tr>\n",
       "      <th>...</th>\n",
       "      <td>...</td>\n",
       "      <td>...</td>\n",
       "      <td>...</td>\n",
       "    </tr>\n",
       "    <tr>\n",
       "      <th>135</th>\n",
       "      <td>1</td>\n",
       "      <td>Wine-yeast</td>\n",
       "      <td>Vinous</td>\n",
       "    </tr>\n",
       "    <tr>\n",
       "      <th>136</th>\n",
       "      <td>1</td>\n",
       "      <td>Winey</td>\n",
       "      <td>Vinous</td>\n",
       "    </tr>\n",
       "    <tr>\n",
       "      <th>137</th>\n",
       "      <td>1</td>\n",
       "      <td>Woody</td>\n",
       "      <td>Woody</td>\n",
       "    </tr>\n",
       "    <tr>\n",
       "      <th>138</th>\n",
       "      <td>1</td>\n",
       "      <td>Woody-phenolic</td>\n",
       "      <td>Woody</td>\n",
       "    </tr>\n",
       "    <tr>\n",
       "      <th>139</th>\n",
       "      <td>1</td>\n",
       "      <td>Woody-phenolic</td>\n",
       "      <td>Smoky</td>\n",
       "    </tr>\n",
       "  </tbody>\n",
       "</table>\n",
       "<p>140 rows × 3 columns</p>\n",
       "</div>"
      ],
      "text/plain": [
       "     match              OD      OQ\n",
       "0        1         AGRUMES  Fruity\n",
       "1        1           Apple  Fruity\n",
       "2        1     Apple peels  Fruity\n",
       "3        1     Apple peels    Peel\n",
       "4        1         Apricot  Fruity\n",
       "..     ...             ...     ...\n",
       "135      1      Wine-yeast  Vinous\n",
       "136      1           Winey  Vinous\n",
       "137      1           Woody   Woody\n",
       "138      1  Woody-phenolic   Woody\n",
       "139      1  Woody-phenolic   Smoky\n",
       "\n",
       "[140 rows x 3 columns]"
      ]
     },
     "execution_count": 108,
     "metadata": {},
     "output_type": "execute_result"
    }
   ],
   "source": [
    "OD_X_OQ = []\n",
    "for row in OD_OQ_df.index:\n",
    "    for col in OD_OQ_df.columns:\n",
    "        if OD_OQ_df.loc[row, col] == 1:\n",
    "            new_row = {'match': 1, 'OD': row, 'OQ': col}\n",
    "            OD_X_OQ.append(new_row)\n",
    "            \n",
    "OD_X_OQ= pd.DataFrame(OD_X_OQ)\n",
    "OD_X_OQ"
   ]
  },
  {
   "cell_type": "code",
   "execution_count": 133,
   "metadata": {},
   "outputs": [],
   "source": [
    "OQ_OSA_df =  pd.read_csv('./data/OQ_OSA.csv', index_col=0, sep=\";\")\n",
    "OQ_OSA_df = OQ_OSA_df.loc[(OQ_OSA_df.iloc[:,1:] != 0).any(axis=1)]\n"
   ]
  },
  {
   "cell_type": "code",
   "execution_count": 134,
   "metadata": {},
   "outputs": [
    {
     "data": {
      "text/html": [
       "<div>\n",
       "<style scoped>\n",
       "    .dataframe tbody tr th:only-of-type {\n",
       "        vertical-align: middle;\n",
       "    }\n",
       "\n",
       "    .dataframe tbody tr th {\n",
       "        vertical-align: top;\n",
       "    }\n",
       "\n",
       "    .dataframe thead th {\n",
       "        text-align: right;\n",
       "    }\n",
       "</style>\n",
       "<table border=\"1\" class=\"dataframe\">\n",
       "  <thead>\n",
       "    <tr style=\"text-align: right;\">\n",
       "      <th></th>\n",
       "      <th>match</th>\n",
       "      <th>OQ</th>\n",
       "      <th>OSA</th>\n",
       "    </tr>\n",
       "  </thead>\n",
       "  <tbody>\n",
       "    <tr>\n",
       "      <th>0</th>\n",
       "      <td>1</td>\n",
       "      <td>fresh fruit</td>\n",
       "      <td>fruit</td>\n",
       "    </tr>\n",
       "    <tr>\n",
       "      <th>1</th>\n",
       "      <td>1</td>\n",
       "      <td>dried fruit</td>\n",
       "      <td>fruit</td>\n",
       "    </tr>\n",
       "    <tr>\n",
       "      <th>2</th>\n",
       "      <td>1</td>\n",
       "      <td>dried fruit</td>\n",
       "      <td>dried fruits</td>\n",
       "    </tr>\n",
       "    <tr>\n",
       "      <th>3</th>\n",
       "      <td>1</td>\n",
       "      <td>citrus</td>\n",
       "      <td>fruit</td>\n",
       "    </tr>\n",
       "    <tr>\n",
       "      <th>4</th>\n",
       "      <td>1</td>\n",
       "      <td>artificial fruit flavorings</td>\n",
       "      <td>fruit</td>\n",
       "    </tr>\n",
       "    <tr>\n",
       "      <th>5</th>\n",
       "      <td>1</td>\n",
       "      <td>nail varnish remover</td>\n",
       "      <td>solventy</td>\n",
       "    </tr>\n",
       "    <tr>\n",
       "      <th>6</th>\n",
       "      <td>1</td>\n",
       "      <td>unperfumed soap</td>\n",
       "      <td>soapy</td>\n",
       "    </tr>\n",
       "    <tr>\n",
       "      <th>7</th>\n",
       "      <td>1</td>\n",
       "      <td>vanilla</td>\n",
       "      <td>sweet</td>\n",
       "    </tr>\n",
       "    <tr>\n",
       "      <th>8</th>\n",
       "      <td>1</td>\n",
       "      <td>honey</td>\n",
       "      <td>sweet</td>\n",
       "    </tr>\n",
       "    <tr>\n",
       "      <th>9</th>\n",
       "      <td>1</td>\n",
       "      <td>toffee</td>\n",
       "      <td>sweet</td>\n",
       "    </tr>\n",
       "    <tr>\n",
       "      <th>10</th>\n",
       "      <td>1</td>\n",
       "      <td>oak</td>\n",
       "      <td>wood</td>\n",
       "    </tr>\n",
       "    <tr>\n",
       "      <th>11</th>\n",
       "      <td>1</td>\n",
       "      <td>new wood</td>\n",
       "      <td>wood</td>\n",
       "    </tr>\n",
       "    <tr>\n",
       "      <th>12</th>\n",
       "      <td>1</td>\n",
       "      <td>coconut</td>\n",
       "      <td>nutty</td>\n",
       "    </tr>\n",
       "    <tr>\n",
       "      <th>13</th>\n",
       "      <td>1</td>\n",
       "      <td>nuts</td>\n",
       "      <td>nutty</td>\n",
       "    </tr>\n",
       "    <tr>\n",
       "      <th>14</th>\n",
       "      <td>1</td>\n",
       "      <td>toasted</td>\n",
       "      <td>nutty</td>\n",
       "    </tr>\n",
       "    <tr>\n",
       "      <th>15</th>\n",
       "      <td>1</td>\n",
       "      <td>dried spice</td>\n",
       "      <td>spicy</td>\n",
       "    </tr>\n",
       "    <tr>\n",
       "      <th>16</th>\n",
       "      <td>1</td>\n",
       "      <td>peppery</td>\n",
       "      <td>spicy</td>\n",
       "    </tr>\n",
       "    <tr>\n",
       "      <th>17</th>\n",
       "      <td>1</td>\n",
       "      <td>buttery</td>\n",
       "      <td>oily</td>\n",
       "    </tr>\n",
       "    <tr>\n",
       "      <th>18</th>\n",
       "      <td>1</td>\n",
       "      <td>oils/fat</td>\n",
       "      <td>oily</td>\n",
       "    </tr>\n",
       "    <tr>\n",
       "      <th>19</th>\n",
       "      <td>1</td>\n",
       "      <td>waxy</td>\n",
       "      <td>oily</td>\n",
       "    </tr>\n",
       "    <tr>\n",
       "      <th>20</th>\n",
       "      <td>1</td>\n",
       "      <td>vinegary</td>\n",
       "      <td>sour</td>\n",
       "    </tr>\n",
       "    <tr>\n",
       "      <th>21</th>\n",
       "      <td>1</td>\n",
       "      <td>cheesy</td>\n",
       "      <td>sour</td>\n",
       "    </tr>\n",
       "    <tr>\n",
       "      <th>22</th>\n",
       "      <td>1</td>\n",
       "      <td>vomit</td>\n",
       "      <td>sour</td>\n",
       "    </tr>\n",
       "    <tr>\n",
       "      <th>23</th>\n",
       "      <td>1</td>\n",
       "      <td>cooked vegetables</td>\n",
       "      <td>sulphury</td>\n",
       "    </tr>\n",
       "    <tr>\n",
       "      <th>24</th>\n",
       "      <td>1</td>\n",
       "      <td>rubbery</td>\n",
       "      <td>sulphury</td>\n",
       "    </tr>\n",
       "    <tr>\n",
       "      <th>25</th>\n",
       "      <td>1</td>\n",
       "      <td>struck match</td>\n",
       "      <td>sulphury</td>\n",
       "    </tr>\n",
       "    <tr>\n",
       "      <th>26</th>\n",
       "      <td>1</td>\n",
       "      <td>decaying</td>\n",
       "      <td>sulphury</td>\n",
       "    </tr>\n",
       "    <tr>\n",
       "      <th>27</th>\n",
       "      <td>1</td>\n",
       "      <td>meaty</td>\n",
       "      <td>sulphury</td>\n",
       "    </tr>\n",
       "    <tr>\n",
       "      <th>28</th>\n",
       "      <td>1</td>\n",
       "      <td>earthy</td>\n",
       "      <td>stale</td>\n",
       "    </tr>\n",
       "    <tr>\n",
       "      <th>29</th>\n",
       "      <td>1</td>\n",
       "      <td>musty</td>\n",
       "      <td>stale</td>\n",
       "    </tr>\n",
       "    <tr>\n",
       "      <th>30</th>\n",
       "      <td>1</td>\n",
       "      <td>metallic</td>\n",
       "      <td>stale</td>\n",
       "    </tr>\n",
       "    <tr>\n",
       "      <th>31</th>\n",
       "      <td>1</td>\n",
       "      <td>smoke</td>\n",
       "      <td>peat</td>\n",
       "    </tr>\n",
       "    <tr>\n",
       "      <th>32</th>\n",
       "      <td>1</td>\n",
       "      <td>burnt</td>\n",
       "      <td>peat</td>\n",
       "    </tr>\n",
       "    <tr>\n",
       "      <th>33</th>\n",
       "      <td>1</td>\n",
       "      <td>medicinal</td>\n",
       "      <td>peat</td>\n",
       "    </tr>\n",
       "    <tr>\n",
       "      <th>34</th>\n",
       "      <td>1</td>\n",
       "      <td>leathery</td>\n",
       "      <td>feinty</td>\n",
       "    </tr>\n",
       "    <tr>\n",
       "      <th>35</th>\n",
       "      <td>1</td>\n",
       "      <td>tobacco</td>\n",
       "      <td>feinty</td>\n",
       "    </tr>\n",
       "    <tr>\n",
       "      <th>36</th>\n",
       "      <td>1</td>\n",
       "      <td>sweaty</td>\n",
       "      <td>feinty</td>\n",
       "    </tr>\n",
       "    <tr>\n",
       "      <th>37</th>\n",
       "      <td>1</td>\n",
       "      <td>dry cereals</td>\n",
       "      <td>cereal</td>\n",
       "    </tr>\n",
       "    <tr>\n",
       "      <th>38</th>\n",
       "      <td>1</td>\n",
       "      <td>dry cereals</td>\n",
       "      <td>malt</td>\n",
       "    </tr>\n",
       "    <tr>\n",
       "      <th>39</th>\n",
       "      <td>1</td>\n",
       "      <td>wet cereals</td>\n",
       "      <td>cereal</td>\n",
       "    </tr>\n",
       "    <tr>\n",
       "      <th>40</th>\n",
       "      <td>1</td>\n",
       "      <td>leafy</td>\n",
       "      <td>green/grassy</td>\n",
       "    </tr>\n",
       "    <tr>\n",
       "      <th>41</th>\n",
       "      <td>1</td>\n",
       "      <td>herbal</td>\n",
       "      <td>green/grassy</td>\n",
       "    </tr>\n",
       "    <tr>\n",
       "      <th>42</th>\n",
       "      <td>1</td>\n",
       "      <td>green vegetables</td>\n",
       "      <td>green/grassy</td>\n",
       "    </tr>\n",
       "    <tr>\n",
       "      <th>43</th>\n",
       "      <td>1</td>\n",
       "      <td>grass</td>\n",
       "      <td>green/grassy</td>\n",
       "    </tr>\n",
       "    <tr>\n",
       "      <th>44</th>\n",
       "      <td>1</td>\n",
       "      <td>ligneous</td>\n",
       "      <td>wood</td>\n",
       "    </tr>\n",
       "    <tr>\n",
       "      <th>45</th>\n",
       "      <td>1</td>\n",
       "      <td>vinous</td>\n",
       "      <td>wood</td>\n",
       "    </tr>\n",
       "  </tbody>\n",
       "</table>\n",
       "</div>"
      ],
      "text/plain": [
       "    match                           OQ           OSA\n",
       "0       1                  fresh fruit         fruit\n",
       "1       1                  dried fruit         fruit\n",
       "2       1                  dried fruit  dried fruits\n",
       "3       1                       citrus         fruit\n",
       "4       1  artificial fruit flavorings         fruit\n",
       "5       1         nail varnish remover      solventy\n",
       "6       1              unperfumed soap         soapy\n",
       "7       1                      vanilla         sweet\n",
       "8       1                        honey         sweet\n",
       "9       1                       toffee         sweet\n",
       "10      1                          oak          wood\n",
       "11      1                     new wood          wood\n",
       "12      1                      coconut         nutty\n",
       "13      1                         nuts         nutty\n",
       "14      1                      toasted         nutty\n",
       "15      1                  dried spice         spicy\n",
       "16      1                      peppery         spicy\n",
       "17      1                      buttery          oily\n",
       "18      1                     oils/fat          oily\n",
       "19      1                         waxy          oily\n",
       "20      1                     vinegary          sour\n",
       "21      1                       cheesy          sour\n",
       "22      1                        vomit          sour\n",
       "23      1            cooked vegetables      sulphury\n",
       "24      1                      rubbery      sulphury\n",
       "25      1                 struck match      sulphury\n",
       "26      1                     decaying      sulphury\n",
       "27      1                        meaty      sulphury\n",
       "28      1                       earthy         stale\n",
       "29      1                        musty         stale\n",
       "30      1                     metallic         stale\n",
       "31      1                        smoke          peat\n",
       "32      1                        burnt          peat\n",
       "33      1                    medicinal          peat\n",
       "34      1                     leathery        feinty\n",
       "35      1                      tobacco        feinty\n",
       "36      1                       sweaty        feinty\n",
       "37      1                  dry cereals        cereal\n",
       "38      1                  dry cereals          malt\n",
       "39      1                  wet cereals        cereal\n",
       "40      1                        leafy  green/grassy\n",
       "41      1                       herbal  green/grassy\n",
       "42      1             green vegetables  green/grassy\n",
       "43      1                        grass  green/grassy\n",
       "44      1                     ligneous          wood\n",
       "45      1                       vinous          wood"
      ]
     },
     "execution_count": 134,
     "metadata": {},
     "output_type": "execute_result"
    }
   ],
   "source": [
    "OQ_X_OSA = []\n",
    "for row in OQ_OSA_df.index:\n",
    "    for col in OQ_OSA_df.columns:\n",
    "        if OQ_OSA_df.loc[row, col] == 1:\n",
    "            new_row = {'match': 1, 'OQ': row, 'OSA': col}\n",
    "            OQ_X_OSA.append(new_row)\n",
    "            \n",
    "OQ_X_OSA= pd.DataFrame(OQ_X_OSA)\n",
    "OQ_X_OSA"
   ]
  },
  {
   "cell_type": "code",
   "execution_count": 135,
   "metadata": {},
   "outputs": [
    {
     "data": {
      "application/vnd.plotly.v1+json": {
       "config": {
        "plotlyServerURL": "https://plot.ly"
       },
       "data": [
        {
         "branchvalues": "total",
         "domain": {
          "x": [
           0,
           1
          ],
          "y": [
           0,
           1
          ]
         },
         "hovertemplate": "labels=%{label}<br>match=%{value}<br>parent=%{parent}<br>id=%{id}<extra></extra>",
         "ids": [
          "Fruity/AGRUMES",
          "Fruity/Apple",
          "Fruity/Apple peels",
          "Peel/Apple peels",
          "Fruity/Apricot",
          "Woody/BOISE",
          "Fruity/Banana",
          "Vegetable/Beany",
          "Fruity/Blueberry",
          "Toasty/Burnt",
          "Cooked/CARAMEL",
          "Leather/CUIR",
          "Vegetable/Cabbage",
          "Cooked/Caramelic",
          "Cooked/Caramellic",
          "Leather/Castoreum",
          "Vegetable/Celery",
          "Fruity/Cherry",
          "Fruity/Citrus",
          "Spicy/Clove",
          "Toasty/Coffee",
          "Vegetable/Cooked vegetables",
          "Vegetable/Corn",
          "Smoky/Dry-tarry",
          "Smoky/EMPYREUMATIQUE",
          "Toasty/EMPYREUMATIQUE",
          "Spicy/EPICE",
          "Fruity/Estery",
          "Fruity/Ethereal-fruity",
          "Fruity/Ethereal-nauseating",
          "Spicy/Eugenol",
          "Floral/FLORAL",
          "Fruity/FRUITE",
          "Fruity/FRUITS A PEPINS",
          "Cooked/FRUITS CUITS",
          "Fruity/FRUITS CUITS",
          "Fruity/FRUITS EXOTIQUES",
          "Fruity/FRUITS JAUNES/A NOYAUX",
          "Fruity/FRUITS NOIRS",
          "Fruity/FRUITS ROUGES",
          "Fruity/FRUITS SECS",
          "Smoky/FUME",
          "Vinous/Fermented-winey",
          "Floral/Floral",
          "Floral/Flower-petal",
          "Fruity/Fruity",
          "Fresh/Fruity-fresh",
          "Fruity/Fruity-fresh",
          "Fruity/Fruity-rum",
          "Vinous/Fruity-rum",
          "Fruity/Fruity-winey",
          "Vinous/Fruity-winey",
          "Floral/GERANIUM",
          "Green/Galbanum",
          "Fruity/Grape",
          "Fruity/Grapefruit",
          "Green/Green",
          "Fruity/Green fruity",
          "Green/Green fruity",
          "Fruity/Green-fruity",
          "Green/Green-fruity",
          "Green/Greener gassy",
          "Smoky/Guaiacol",
          "Spicy/Guaiacol",
          "Fruity/Guava",
          "Cut-grass/Herbaceous",
          "Green/Herbaceous",
          "Cut-grass/Herbal",
          "Green/Herbal",
          "Honey/Honey",
          "Floral/Hyacinth",
          "Lactonic/LACTONE",
          "Vegetable/LEGUMES CUITS",
          "Lactonic/Lactonic",
          "Green/Leafy-green",
          "Leather/Leather",
          "Smoky/Leather",
          "Leather/Leathery",
          "Smoky/Leathery",
          "Fresh/MENTHE/ANISE",
          "Spicy/MENTHE/ANISE",
          "Leather/Medicinal-leathery",
          "Smoky/Medicinal-leathery",
          "Floral/Mimosa",
          "Floral/Narcissus",
          "Vegetable/POMME DE TERRE",
          "Toasty/PYRAZIQUE",
          "Fruity/Passion fruit",
          "Vegetable/Pea",
          "Fruity/Peach",
          "Fruity/Peachy",
          "Fruity/Pear",
          "Fruity/Peels of unripe plums",
          "Peel/Peels of unripe plums",
          "Vegetable/Pepper bell",
          "Smoky/Phenolic",
          "Fruity/Pineapple",
          "Fruity/Pineapple skin",
          "Peel/Pineapple skin",
          "Vegetable/Potato",
          "Vegetable/Radish",
          "Fruity/Ripe fruit",
          "Floral/Rose",
          "Floral/Rose-honey",
          "Honey/Rose-honey",
          "Floral/Rosy-fruity",
          "Fruity/Rosy-fruity",
          "Sulfurous/SOUFRE",
          "Smoky/Smokey",
          "Smoky/Smoky",
          "Vegetable/Soup",
          "Spicy/Spicy",
          "Spicy/Spicy-medicinal",
          "Fruity/Strawberry",
          "Sulfurous/Sulfuraceous",
          "Sulfurous/Sulfurous",
          "Fruity/Sweet-ethereal",
          "Smoky/Tarry",
          "Smoky/Tarry-medicinal",
          "Smoky/Tarry-smoky",
          "Toasty/Toasted",
          "Vegetable/Tomato",
          "Spicy/Tonka",
          "Vanilla/Tonka",
          "Fruity/Tropical",
          "Fruity/Tutti fruti",
          "Vanilla/VANILLE - DOUX",
          "Green/VEGETAL VERT",
          "Violet/VIOLETTE",
          "Vanilla/Vanilla",
          "Vegetable/Vegetable",
          "Fruity/Vinous-fruity",
          "Vinous/Vinous-fruity",
          "Cut-grass/Weedy",
          "Vinous/Wine",
          "Vinous/Wine-yeast",
          "Vinous/Winey",
          "Woody/Woody",
          "Smoky/Woody-phenolic",
          "Woody/Woody-phenolic",
          "Cooked",
          "Cut-grass",
          "Floral",
          "Fresh",
          "Fruity",
          "Green",
          "Honey",
          "Lactonic",
          "Leather",
          "Peel",
          "Smoky",
          "Spicy",
          "Sulfurous",
          "Toasty",
          "Vanilla",
          "Vegetable",
          "Vinous",
          "Violet",
          "Woody"
         ],
         "labels": [
          "AGRUMES",
          "Apple",
          "Apple peels",
          "Apple peels",
          "Apricot",
          "BOISE",
          "Banana",
          "Beany",
          "Blueberry",
          "Burnt",
          "CARAMEL",
          "CUIR",
          "Cabbage",
          "Caramelic",
          "Caramellic",
          "Castoreum",
          "Celery",
          "Cherry",
          "Citrus",
          "Clove",
          "Coffee",
          "Cooked vegetables",
          "Corn",
          "Dry-tarry",
          "EMPYREUMATIQUE",
          "EMPYREUMATIQUE",
          "EPICE",
          "Estery",
          "Ethereal-fruity",
          "Ethereal-nauseating",
          "Eugenol",
          "FLORAL",
          "FRUITE",
          "FRUITS A PEPINS",
          "FRUITS CUITS",
          "FRUITS CUITS",
          "FRUITS EXOTIQUES",
          "FRUITS JAUNES/A NOYAUX",
          "FRUITS NOIRS",
          "FRUITS ROUGES",
          "FRUITS SECS",
          "FUME",
          "Fermented-winey",
          "Floral",
          "Flower-petal",
          "Fruity",
          "Fruity-fresh",
          "Fruity-fresh",
          "Fruity-rum",
          "Fruity-rum",
          "Fruity-winey",
          "Fruity-winey",
          "GERANIUM",
          "Galbanum",
          "Grape",
          "Grapefruit",
          "Green",
          "Green fruity",
          "Green fruity",
          "Green-fruity",
          "Green-fruity",
          "Greener gassy",
          "Guaiacol",
          "Guaiacol",
          "Guava",
          "Herbaceous",
          "Herbaceous",
          "Herbal",
          "Herbal",
          "Honey",
          "Hyacinth",
          "LACTONE",
          "LEGUMES CUITS",
          "Lactonic",
          "Leafy-green",
          "Leather",
          "Leather",
          "Leathery",
          "Leathery",
          "MENTHE/ANISE",
          "MENTHE/ANISE",
          "Medicinal-leathery",
          "Medicinal-leathery",
          "Mimosa",
          "Narcissus",
          "POMME DE TERRE",
          "PYRAZIQUE",
          "Passion fruit",
          "Pea",
          "Peach",
          "Peachy",
          "Pear",
          "Peels of unripe plums",
          "Peels of unripe plums",
          "Pepper bell",
          "Phenolic",
          "Pineapple",
          "Pineapple skin",
          "Pineapple skin",
          "Potato",
          "Radish",
          "Ripe fruit",
          "Rose",
          "Rose-honey",
          "Rose-honey",
          "Rosy-fruity",
          "Rosy-fruity",
          "SOUFRE",
          "Smokey",
          "Smoky",
          "Soup",
          "Spicy",
          "Spicy-medicinal",
          "Strawberry",
          "Sulfuraceous",
          "Sulfurous",
          "Sweet-ethereal",
          "Tarry",
          "Tarry-medicinal",
          "Tarry-smoky",
          "Toasted",
          "Tomato",
          "Tonka",
          "Tonka",
          "Tropical",
          "Tutti fruti",
          "VANILLE - DOUX",
          "VEGETAL VERT",
          "VIOLETTE",
          "Vanilla",
          "Vegetable",
          "Vinous-fruity",
          "Vinous-fruity",
          "Weedy",
          "Wine",
          "Wine-yeast",
          "Winey",
          "Woody",
          "Woody-phenolic",
          "Woody-phenolic",
          "Cooked",
          "Cut-grass",
          "Floral",
          "Fresh",
          "Fruity",
          "Green",
          "Honey",
          "Lactonic",
          "Leather",
          "Peel",
          "Smoky",
          "Spicy",
          "Sulfurous",
          "Toasty",
          "Vanilla",
          "Vegetable",
          "Vinous",
          "Violet",
          "Woody"
         ],
         "name": "",
         "parents": [
          "Fruity",
          "Fruity",
          "Fruity",
          "Peel",
          "Fruity",
          "Woody",
          "Fruity",
          "Vegetable",
          "Fruity",
          "Toasty",
          "Cooked",
          "Leather",
          "Vegetable",
          "Cooked",
          "Cooked",
          "Leather",
          "Vegetable",
          "Fruity",
          "Fruity",
          "Spicy",
          "Toasty",
          "Vegetable",
          "Vegetable",
          "Smoky",
          "Smoky",
          "Toasty",
          "Spicy",
          "Fruity",
          "Fruity",
          "Fruity",
          "Spicy",
          "Floral",
          "Fruity",
          "Fruity",
          "Cooked",
          "Fruity",
          "Fruity",
          "Fruity",
          "Fruity",
          "Fruity",
          "Fruity",
          "Smoky",
          "Vinous",
          "Floral",
          "Floral",
          "Fruity",
          "Fresh",
          "Fruity",
          "Fruity",
          "Vinous",
          "Fruity",
          "Vinous",
          "Floral",
          "Green",
          "Fruity",
          "Fruity",
          "Green",
          "Fruity",
          "Green",
          "Fruity",
          "Green",
          "Green",
          "Smoky",
          "Spicy",
          "Fruity",
          "Cut-grass",
          "Green",
          "Cut-grass",
          "Green",
          "Honey",
          "Floral",
          "Lactonic",
          "Vegetable",
          "Lactonic",
          "Green",
          "Leather",
          "Smoky",
          "Leather",
          "Smoky",
          "Fresh",
          "Spicy",
          "Leather",
          "Smoky",
          "Floral",
          "Floral",
          "Vegetable",
          "Toasty",
          "Fruity",
          "Vegetable",
          "Fruity",
          "Fruity",
          "Fruity",
          "Fruity",
          "Peel",
          "Vegetable",
          "Smoky",
          "Fruity",
          "Fruity",
          "Peel",
          "Vegetable",
          "Vegetable",
          "Fruity",
          "Floral",
          "Floral",
          "Honey",
          "Floral",
          "Fruity",
          "Sulfurous",
          "Smoky",
          "Smoky",
          "Vegetable",
          "Spicy",
          "Spicy",
          "Fruity",
          "Sulfurous",
          "Sulfurous",
          "Fruity",
          "Smoky",
          "Smoky",
          "Smoky",
          "Toasty",
          "Vegetable",
          "Spicy",
          "Vanilla",
          "Fruity",
          "Fruity",
          "Vanilla",
          "Green",
          "Violet",
          "Vanilla",
          "Vegetable",
          "Fruity",
          "Vinous",
          "Cut-grass",
          "Vinous",
          "Vinous",
          "Vinous",
          "Woody",
          "Smoky",
          "Woody",
          "",
          "",
          "",
          "",
          "",
          "",
          "",
          "",
          "",
          "",
          "",
          "",
          "",
          "",
          "",
          "",
          "",
          "",
          ""
         ],
         "type": "sunburst",
         "values": [
          1,
          1,
          1,
          1,
          1,
          1,
          1,
          1,
          1,
          1,
          1,
          1,
          1,
          1,
          1,
          1,
          1,
          1,
          1,
          1,
          1,
          1,
          1,
          1,
          1,
          1,
          1,
          1,
          1,
          1,
          1,
          1,
          1,
          1,
          1,
          1,
          1,
          1,
          1,
          1,
          1,
          1,
          1,
          1,
          1,
          1,
          1,
          1,
          1,
          1,
          1,
          1,
          1,
          1,
          1,
          1,
          1,
          1,
          1,
          1,
          1,
          1,
          1,
          1,
          1,
          1,
          1,
          1,
          1,
          1,
          1,
          1,
          1,
          1,
          1,
          1,
          1,
          1,
          1,
          1,
          1,
          1,
          1,
          1,
          1,
          1,
          1,
          1,
          1,
          1,
          1,
          1,
          1,
          1,
          1,
          1,
          1,
          1,
          1,
          1,
          1,
          1,
          1,
          1,
          1,
          1,
          1,
          1,
          1,
          1,
          1,
          1,
          1,
          1,
          1,
          1,
          1,
          1,
          1,
          1,
          1,
          1,
          1,
          1,
          1,
          1,
          1,
          1,
          1,
          1,
          1,
          1,
          1,
          1,
          1,
          1,
          1,
          1,
          1,
          1,
          4,
          3,
          10,
          2,
          42,
          9,
          2,
          2,
          5,
          3,
          14,
          8,
          3,
          5,
          3,
          14,
          7,
          1,
          3
         ]
        }
       ],
       "layout": {
        "legend": {
         "tracegroupgap": 0
        },
        "template": {
         "data": {
          "bar": [
           {
            "error_x": {
             "color": "#2a3f5f"
            },
            "error_y": {
             "color": "#2a3f5f"
            },
            "marker": {
             "line": {
              "color": "#E5ECF6",
              "width": 0.5
             },
             "pattern": {
              "fillmode": "overlay",
              "size": 10,
              "solidity": 0.2
             }
            },
            "type": "bar"
           }
          ],
          "barpolar": [
           {
            "marker": {
             "line": {
              "color": "#E5ECF6",
              "width": 0.5
             },
             "pattern": {
              "fillmode": "overlay",
              "size": 10,
              "solidity": 0.2
             }
            },
            "type": "barpolar"
           }
          ],
          "carpet": [
           {
            "aaxis": {
             "endlinecolor": "#2a3f5f",
             "gridcolor": "white",
             "linecolor": "white",
             "minorgridcolor": "white",
             "startlinecolor": "#2a3f5f"
            },
            "baxis": {
             "endlinecolor": "#2a3f5f",
             "gridcolor": "white",
             "linecolor": "white",
             "minorgridcolor": "white",
             "startlinecolor": "#2a3f5f"
            },
            "type": "carpet"
           }
          ],
          "choropleth": [
           {
            "colorbar": {
             "outlinewidth": 0,
             "ticks": ""
            },
            "type": "choropleth"
           }
          ],
          "contour": [
           {
            "colorbar": {
             "outlinewidth": 0,
             "ticks": ""
            },
            "colorscale": [
             [
              0,
              "#0d0887"
             ],
             [
              0.1111111111111111,
              "#46039f"
             ],
             [
              0.2222222222222222,
              "#7201a8"
             ],
             [
              0.3333333333333333,
              "#9c179e"
             ],
             [
              0.4444444444444444,
              "#bd3786"
             ],
             [
              0.5555555555555556,
              "#d8576b"
             ],
             [
              0.6666666666666666,
              "#ed7953"
             ],
             [
              0.7777777777777778,
              "#fb9f3a"
             ],
             [
              0.8888888888888888,
              "#fdca26"
             ],
             [
              1,
              "#f0f921"
             ]
            ],
            "type": "contour"
           }
          ],
          "contourcarpet": [
           {
            "colorbar": {
             "outlinewidth": 0,
             "ticks": ""
            },
            "type": "contourcarpet"
           }
          ],
          "heatmap": [
           {
            "colorbar": {
             "outlinewidth": 0,
             "ticks": ""
            },
            "colorscale": [
             [
              0,
              "#0d0887"
             ],
             [
              0.1111111111111111,
              "#46039f"
             ],
             [
              0.2222222222222222,
              "#7201a8"
             ],
             [
              0.3333333333333333,
              "#9c179e"
             ],
             [
              0.4444444444444444,
              "#bd3786"
             ],
             [
              0.5555555555555556,
              "#d8576b"
             ],
             [
              0.6666666666666666,
              "#ed7953"
             ],
             [
              0.7777777777777778,
              "#fb9f3a"
             ],
             [
              0.8888888888888888,
              "#fdca26"
             ],
             [
              1,
              "#f0f921"
             ]
            ],
            "type": "heatmap"
           }
          ],
          "heatmapgl": [
           {
            "colorbar": {
             "outlinewidth": 0,
             "ticks": ""
            },
            "colorscale": [
             [
              0,
              "#0d0887"
             ],
             [
              0.1111111111111111,
              "#46039f"
             ],
             [
              0.2222222222222222,
              "#7201a8"
             ],
             [
              0.3333333333333333,
              "#9c179e"
             ],
             [
              0.4444444444444444,
              "#bd3786"
             ],
             [
              0.5555555555555556,
              "#d8576b"
             ],
             [
              0.6666666666666666,
              "#ed7953"
             ],
             [
              0.7777777777777778,
              "#fb9f3a"
             ],
             [
              0.8888888888888888,
              "#fdca26"
             ],
             [
              1,
              "#f0f921"
             ]
            ],
            "type": "heatmapgl"
           }
          ],
          "histogram": [
           {
            "marker": {
             "pattern": {
              "fillmode": "overlay",
              "size": 10,
              "solidity": 0.2
             }
            },
            "type": "histogram"
           }
          ],
          "histogram2d": [
           {
            "colorbar": {
             "outlinewidth": 0,
             "ticks": ""
            },
            "colorscale": [
             [
              0,
              "#0d0887"
             ],
             [
              0.1111111111111111,
              "#46039f"
             ],
             [
              0.2222222222222222,
              "#7201a8"
             ],
             [
              0.3333333333333333,
              "#9c179e"
             ],
             [
              0.4444444444444444,
              "#bd3786"
             ],
             [
              0.5555555555555556,
              "#d8576b"
             ],
             [
              0.6666666666666666,
              "#ed7953"
             ],
             [
              0.7777777777777778,
              "#fb9f3a"
             ],
             [
              0.8888888888888888,
              "#fdca26"
             ],
             [
              1,
              "#f0f921"
             ]
            ],
            "type": "histogram2d"
           }
          ],
          "histogram2dcontour": [
           {
            "colorbar": {
             "outlinewidth": 0,
             "ticks": ""
            },
            "colorscale": [
             [
              0,
              "#0d0887"
             ],
             [
              0.1111111111111111,
              "#46039f"
             ],
             [
              0.2222222222222222,
              "#7201a8"
             ],
             [
              0.3333333333333333,
              "#9c179e"
             ],
             [
              0.4444444444444444,
              "#bd3786"
             ],
             [
              0.5555555555555556,
              "#d8576b"
             ],
             [
              0.6666666666666666,
              "#ed7953"
             ],
             [
              0.7777777777777778,
              "#fb9f3a"
             ],
             [
              0.8888888888888888,
              "#fdca26"
             ],
             [
              1,
              "#f0f921"
             ]
            ],
            "type": "histogram2dcontour"
           }
          ],
          "mesh3d": [
           {
            "colorbar": {
             "outlinewidth": 0,
             "ticks": ""
            },
            "type": "mesh3d"
           }
          ],
          "parcoords": [
           {
            "line": {
             "colorbar": {
              "outlinewidth": 0,
              "ticks": ""
             }
            },
            "type": "parcoords"
           }
          ],
          "pie": [
           {
            "automargin": true,
            "type": "pie"
           }
          ],
          "scatter": [
           {
            "fillpattern": {
             "fillmode": "overlay",
             "size": 10,
             "solidity": 0.2
            },
            "type": "scatter"
           }
          ],
          "scatter3d": [
           {
            "line": {
             "colorbar": {
              "outlinewidth": 0,
              "ticks": ""
             }
            },
            "marker": {
             "colorbar": {
              "outlinewidth": 0,
              "ticks": ""
             }
            },
            "type": "scatter3d"
           }
          ],
          "scattercarpet": [
           {
            "marker": {
             "colorbar": {
              "outlinewidth": 0,
              "ticks": ""
             }
            },
            "type": "scattercarpet"
           }
          ],
          "scattergeo": [
           {
            "marker": {
             "colorbar": {
              "outlinewidth": 0,
              "ticks": ""
             }
            },
            "type": "scattergeo"
           }
          ],
          "scattergl": [
           {
            "marker": {
             "colorbar": {
              "outlinewidth": 0,
              "ticks": ""
             }
            },
            "type": "scattergl"
           }
          ],
          "scattermapbox": [
           {
            "marker": {
             "colorbar": {
              "outlinewidth": 0,
              "ticks": ""
             }
            },
            "type": "scattermapbox"
           }
          ],
          "scatterpolar": [
           {
            "marker": {
             "colorbar": {
              "outlinewidth": 0,
              "ticks": ""
             }
            },
            "type": "scatterpolar"
           }
          ],
          "scatterpolargl": [
           {
            "marker": {
             "colorbar": {
              "outlinewidth": 0,
              "ticks": ""
             }
            },
            "type": "scatterpolargl"
           }
          ],
          "scatterternary": [
           {
            "marker": {
             "colorbar": {
              "outlinewidth": 0,
              "ticks": ""
             }
            },
            "type": "scatterternary"
           }
          ],
          "surface": [
           {
            "colorbar": {
             "outlinewidth": 0,
             "ticks": ""
            },
            "colorscale": [
             [
              0,
              "#0d0887"
             ],
             [
              0.1111111111111111,
              "#46039f"
             ],
             [
              0.2222222222222222,
              "#7201a8"
             ],
             [
              0.3333333333333333,
              "#9c179e"
             ],
             [
              0.4444444444444444,
              "#bd3786"
             ],
             [
              0.5555555555555556,
              "#d8576b"
             ],
             [
              0.6666666666666666,
              "#ed7953"
             ],
             [
              0.7777777777777778,
              "#fb9f3a"
             ],
             [
              0.8888888888888888,
              "#fdca26"
             ],
             [
              1,
              "#f0f921"
             ]
            ],
            "type": "surface"
           }
          ],
          "table": [
           {
            "cells": {
             "fill": {
              "color": "#EBF0F8"
             },
             "line": {
              "color": "white"
             }
            },
            "header": {
             "fill": {
              "color": "#C8D4E3"
             },
             "line": {
              "color": "white"
             }
            },
            "type": "table"
           }
          ]
         },
         "layout": {
          "annotationdefaults": {
           "arrowcolor": "#2a3f5f",
           "arrowhead": 0,
           "arrowwidth": 1
          },
          "autotypenumbers": "strict",
          "coloraxis": {
           "colorbar": {
            "outlinewidth": 0,
            "ticks": ""
           }
          },
          "colorscale": {
           "diverging": [
            [
             0,
             "#8e0152"
            ],
            [
             0.1,
             "#c51b7d"
            ],
            [
             0.2,
             "#de77ae"
            ],
            [
             0.3,
             "#f1b6da"
            ],
            [
             0.4,
             "#fde0ef"
            ],
            [
             0.5,
             "#f7f7f7"
            ],
            [
             0.6,
             "#e6f5d0"
            ],
            [
             0.7,
             "#b8e186"
            ],
            [
             0.8,
             "#7fbc41"
            ],
            [
             0.9,
             "#4d9221"
            ],
            [
             1,
             "#276419"
            ]
           ],
           "sequential": [
            [
             0,
             "#0d0887"
            ],
            [
             0.1111111111111111,
             "#46039f"
            ],
            [
             0.2222222222222222,
             "#7201a8"
            ],
            [
             0.3333333333333333,
             "#9c179e"
            ],
            [
             0.4444444444444444,
             "#bd3786"
            ],
            [
             0.5555555555555556,
             "#d8576b"
            ],
            [
             0.6666666666666666,
             "#ed7953"
            ],
            [
             0.7777777777777778,
             "#fb9f3a"
            ],
            [
             0.8888888888888888,
             "#fdca26"
            ],
            [
             1,
             "#f0f921"
            ]
           ],
           "sequentialminus": [
            [
             0,
             "#0d0887"
            ],
            [
             0.1111111111111111,
             "#46039f"
            ],
            [
             0.2222222222222222,
             "#7201a8"
            ],
            [
             0.3333333333333333,
             "#9c179e"
            ],
            [
             0.4444444444444444,
             "#bd3786"
            ],
            [
             0.5555555555555556,
             "#d8576b"
            ],
            [
             0.6666666666666666,
             "#ed7953"
            ],
            [
             0.7777777777777778,
             "#fb9f3a"
            ],
            [
             0.8888888888888888,
             "#fdca26"
            ],
            [
             1,
             "#f0f921"
            ]
           ]
          },
          "colorway": [
           "#636efa",
           "#EF553B",
           "#00cc96",
           "#ab63fa",
           "#FFA15A",
           "#19d3f3",
           "#FF6692",
           "#B6E880",
           "#FF97FF",
           "#FECB52"
          ],
          "font": {
           "color": "#2a3f5f"
          },
          "geo": {
           "bgcolor": "white",
           "lakecolor": "white",
           "landcolor": "#E5ECF6",
           "showlakes": true,
           "showland": true,
           "subunitcolor": "white"
          },
          "hoverlabel": {
           "align": "left"
          },
          "hovermode": "closest",
          "mapbox": {
           "style": "light"
          },
          "paper_bgcolor": "white",
          "plot_bgcolor": "#E5ECF6",
          "polar": {
           "angularaxis": {
            "gridcolor": "white",
            "linecolor": "white",
            "ticks": ""
           },
           "bgcolor": "#E5ECF6",
           "radialaxis": {
            "gridcolor": "white",
            "linecolor": "white",
            "ticks": ""
           }
          },
          "scene": {
           "xaxis": {
            "backgroundcolor": "#E5ECF6",
            "gridcolor": "white",
            "gridwidth": 2,
            "linecolor": "white",
            "showbackground": true,
            "ticks": "",
            "zerolinecolor": "white"
           },
           "yaxis": {
            "backgroundcolor": "#E5ECF6",
            "gridcolor": "white",
            "gridwidth": 2,
            "linecolor": "white",
            "showbackground": true,
            "ticks": "",
            "zerolinecolor": "white"
           },
           "zaxis": {
            "backgroundcolor": "#E5ECF6",
            "gridcolor": "white",
            "gridwidth": 2,
            "linecolor": "white",
            "showbackground": true,
            "ticks": "",
            "zerolinecolor": "white"
           }
          },
          "shapedefaults": {
           "line": {
            "color": "#2a3f5f"
           }
          },
          "ternary": {
           "aaxis": {
            "gridcolor": "white",
            "linecolor": "white",
            "ticks": ""
           },
           "baxis": {
            "gridcolor": "white",
            "linecolor": "white",
            "ticks": ""
           },
           "bgcolor": "#E5ECF6",
           "caxis": {
            "gridcolor": "white",
            "linecolor": "white",
            "ticks": ""
           }
          },
          "title": {
           "x": 0.05
          },
          "xaxis": {
           "automargin": true,
           "gridcolor": "white",
           "linecolor": "white",
           "ticks": "",
           "title": {
            "standoff": 15
           },
           "zerolinecolor": "white",
           "zerolinewidth": 2
          },
          "yaxis": {
           "automargin": true,
           "gridcolor": "white",
           "linecolor": "white",
           "ticks": "",
           "title": {
            "standoff": 15
           },
           "zerolinecolor": "white",
           "zerolinewidth": 2
          }
         }
        },
        "title": {
         "text": "OD x OQ"
        }
       }
      }
     },
     "metadata": {},
     "output_type": "display_data"
    }
   ],
   "source": [
    "import plotly.express as px\n",
    "fig = px.sunburst(OD_X_OQ, path=['OQ', 'OD'], values='match', title=\"OD x OQ\")\n",
    "fig.show()"
   ]
  },
  {
   "cell_type": "code",
   "execution_count": 136,
   "metadata": {},
   "outputs": [
    {
     "data": {
      "application/vnd.plotly.v1+json": {
       "config": {
        "plotlyServerURL": "https://plot.ly"
       },
       "data": [
        {
         "branchvalues": "total",
         "domain": {
          "x": [
           0,
           1
          ],
          "y": [
           0,
           1
          ]
         },
         "hovertemplate": "labels=%{label}<br>match=%{value}<br>parent=%{parent}<br>id=%{id}<extra></extra>",
         "ids": [
          "fruit/artificial fruit flavorings",
          "peat/burnt",
          "oily/buttery",
          "sour/cheesy",
          "fruit/citrus",
          "nutty/coconut",
          "sulphury/cooked vegetables",
          "sulphury/decaying",
          "dried fruits/dried fruit",
          "fruit/dried fruit",
          "spicy/dried spice",
          "cereal/dry cereals",
          "malt/dry cereals",
          "stale/earthy",
          "fruit/fresh fruit",
          "green/grassy/grass",
          "green/grassy/green vegetables",
          "green/grassy/herbal",
          "sweet/honey",
          "green/grassy/leafy",
          "feinty/leathery",
          "wood/ligneous",
          "sulphury/meaty",
          "peat/medicinal",
          "stale/metallic",
          "stale/musty",
          "solventy/nail varnish remover",
          "wood/new wood",
          "nutty/nuts",
          "wood/oak",
          "oily/oils/fat",
          "spicy/peppery",
          "sulphury/rubbery",
          "peat/smoke",
          "sulphury/struck match",
          "feinty/sweaty",
          "nutty/toasted",
          "feinty/tobacco",
          "sweet/toffee",
          "soapy/unperfumed soap",
          "sweet/vanilla",
          "sour/vinegary",
          "wood/vinous",
          "sour/vomit",
          "oily/waxy",
          "cereal/wet cereals",
          "cereal",
          "dried fruits",
          "feinty",
          "fruit",
          "green/grassy",
          "malt",
          "nutty",
          "oily",
          "peat",
          "soapy",
          "solventy",
          "sour",
          "spicy",
          "stale",
          "sulphury",
          "sweet",
          "wood"
         ],
         "labels": [
          "artificial fruit flavorings",
          "burnt",
          "buttery",
          "cheesy",
          "citrus",
          "coconut",
          "cooked vegetables",
          "decaying",
          "dried fruit",
          "dried fruit",
          "dried spice",
          "dry cereals",
          "dry cereals",
          "earthy",
          "fresh fruit",
          "grass",
          "green vegetables",
          "herbal",
          "honey",
          "leafy",
          "leathery",
          "ligneous",
          "meaty",
          "medicinal",
          "metallic",
          "musty",
          "nail varnish remover",
          "new wood",
          "nuts",
          "oak",
          "oils/fat",
          "peppery",
          "rubbery",
          "smoke",
          "struck match",
          "sweaty",
          "toasted",
          "tobacco",
          "toffee",
          "unperfumed soap",
          "vanilla",
          "vinegary",
          "vinous",
          "vomit",
          "waxy",
          "wet cereals",
          "cereal",
          "dried fruits",
          "feinty",
          "fruit",
          "green/grassy",
          "malt",
          "nutty",
          "oily",
          "peat",
          "soapy",
          "solventy",
          "sour",
          "spicy",
          "stale",
          "sulphury",
          "sweet",
          "wood"
         ],
         "name": "",
         "parents": [
          "fruit",
          "peat",
          "oily",
          "sour",
          "fruit",
          "nutty",
          "sulphury",
          "sulphury",
          "dried fruits",
          "fruit",
          "spicy",
          "cereal",
          "malt",
          "stale",
          "fruit",
          "green/grassy",
          "green/grassy",
          "green/grassy",
          "sweet",
          "green/grassy",
          "feinty",
          "wood",
          "sulphury",
          "peat",
          "stale",
          "stale",
          "solventy",
          "wood",
          "nutty",
          "wood",
          "oily",
          "spicy",
          "sulphury",
          "peat",
          "sulphury",
          "feinty",
          "nutty",
          "feinty",
          "sweet",
          "soapy",
          "sweet",
          "sour",
          "wood",
          "sour",
          "oily",
          "cereal",
          "",
          "",
          "",
          "",
          "",
          "",
          "",
          "",
          "",
          "",
          "",
          "",
          "",
          "",
          "",
          "",
          ""
         ],
         "type": "sunburst",
         "values": [
          1,
          1,
          1,
          1,
          1,
          1,
          1,
          1,
          1,
          1,
          1,
          1,
          1,
          1,
          1,
          1,
          1,
          1,
          1,
          1,
          1,
          1,
          1,
          1,
          1,
          1,
          1,
          1,
          1,
          1,
          1,
          1,
          1,
          1,
          1,
          1,
          1,
          1,
          1,
          1,
          1,
          1,
          1,
          1,
          1,
          1,
          2,
          1,
          3,
          4,
          4,
          1,
          3,
          3,
          3,
          1,
          1,
          3,
          2,
          3,
          5,
          3,
          4
         ]
        }
       ],
       "layout": {
        "legend": {
         "tracegroupgap": 0
        },
        "template": {
         "data": {
          "bar": [
           {
            "error_x": {
             "color": "#2a3f5f"
            },
            "error_y": {
             "color": "#2a3f5f"
            },
            "marker": {
             "line": {
              "color": "#E5ECF6",
              "width": 0.5
             },
             "pattern": {
              "fillmode": "overlay",
              "size": 10,
              "solidity": 0.2
             }
            },
            "type": "bar"
           }
          ],
          "barpolar": [
           {
            "marker": {
             "line": {
              "color": "#E5ECF6",
              "width": 0.5
             },
             "pattern": {
              "fillmode": "overlay",
              "size": 10,
              "solidity": 0.2
             }
            },
            "type": "barpolar"
           }
          ],
          "carpet": [
           {
            "aaxis": {
             "endlinecolor": "#2a3f5f",
             "gridcolor": "white",
             "linecolor": "white",
             "minorgridcolor": "white",
             "startlinecolor": "#2a3f5f"
            },
            "baxis": {
             "endlinecolor": "#2a3f5f",
             "gridcolor": "white",
             "linecolor": "white",
             "minorgridcolor": "white",
             "startlinecolor": "#2a3f5f"
            },
            "type": "carpet"
           }
          ],
          "choropleth": [
           {
            "colorbar": {
             "outlinewidth": 0,
             "ticks": ""
            },
            "type": "choropleth"
           }
          ],
          "contour": [
           {
            "colorbar": {
             "outlinewidth": 0,
             "ticks": ""
            },
            "colorscale": [
             [
              0,
              "#0d0887"
             ],
             [
              0.1111111111111111,
              "#46039f"
             ],
             [
              0.2222222222222222,
              "#7201a8"
             ],
             [
              0.3333333333333333,
              "#9c179e"
             ],
             [
              0.4444444444444444,
              "#bd3786"
             ],
             [
              0.5555555555555556,
              "#d8576b"
             ],
             [
              0.6666666666666666,
              "#ed7953"
             ],
             [
              0.7777777777777778,
              "#fb9f3a"
             ],
             [
              0.8888888888888888,
              "#fdca26"
             ],
             [
              1,
              "#f0f921"
             ]
            ],
            "type": "contour"
           }
          ],
          "contourcarpet": [
           {
            "colorbar": {
             "outlinewidth": 0,
             "ticks": ""
            },
            "type": "contourcarpet"
           }
          ],
          "heatmap": [
           {
            "colorbar": {
             "outlinewidth": 0,
             "ticks": ""
            },
            "colorscale": [
             [
              0,
              "#0d0887"
             ],
             [
              0.1111111111111111,
              "#46039f"
             ],
             [
              0.2222222222222222,
              "#7201a8"
             ],
             [
              0.3333333333333333,
              "#9c179e"
             ],
             [
              0.4444444444444444,
              "#bd3786"
             ],
             [
              0.5555555555555556,
              "#d8576b"
             ],
             [
              0.6666666666666666,
              "#ed7953"
             ],
             [
              0.7777777777777778,
              "#fb9f3a"
             ],
             [
              0.8888888888888888,
              "#fdca26"
             ],
             [
              1,
              "#f0f921"
             ]
            ],
            "type": "heatmap"
           }
          ],
          "heatmapgl": [
           {
            "colorbar": {
             "outlinewidth": 0,
             "ticks": ""
            },
            "colorscale": [
             [
              0,
              "#0d0887"
             ],
             [
              0.1111111111111111,
              "#46039f"
             ],
             [
              0.2222222222222222,
              "#7201a8"
             ],
             [
              0.3333333333333333,
              "#9c179e"
             ],
             [
              0.4444444444444444,
              "#bd3786"
             ],
             [
              0.5555555555555556,
              "#d8576b"
             ],
             [
              0.6666666666666666,
              "#ed7953"
             ],
             [
              0.7777777777777778,
              "#fb9f3a"
             ],
             [
              0.8888888888888888,
              "#fdca26"
             ],
             [
              1,
              "#f0f921"
             ]
            ],
            "type": "heatmapgl"
           }
          ],
          "histogram": [
           {
            "marker": {
             "pattern": {
              "fillmode": "overlay",
              "size": 10,
              "solidity": 0.2
             }
            },
            "type": "histogram"
           }
          ],
          "histogram2d": [
           {
            "colorbar": {
             "outlinewidth": 0,
             "ticks": ""
            },
            "colorscale": [
             [
              0,
              "#0d0887"
             ],
             [
              0.1111111111111111,
              "#46039f"
             ],
             [
              0.2222222222222222,
              "#7201a8"
             ],
             [
              0.3333333333333333,
              "#9c179e"
             ],
             [
              0.4444444444444444,
              "#bd3786"
             ],
             [
              0.5555555555555556,
              "#d8576b"
             ],
             [
              0.6666666666666666,
              "#ed7953"
             ],
             [
              0.7777777777777778,
              "#fb9f3a"
             ],
             [
              0.8888888888888888,
              "#fdca26"
             ],
             [
              1,
              "#f0f921"
             ]
            ],
            "type": "histogram2d"
           }
          ],
          "histogram2dcontour": [
           {
            "colorbar": {
             "outlinewidth": 0,
             "ticks": ""
            },
            "colorscale": [
             [
              0,
              "#0d0887"
             ],
             [
              0.1111111111111111,
              "#46039f"
             ],
             [
              0.2222222222222222,
              "#7201a8"
             ],
             [
              0.3333333333333333,
              "#9c179e"
             ],
             [
              0.4444444444444444,
              "#bd3786"
             ],
             [
              0.5555555555555556,
              "#d8576b"
             ],
             [
              0.6666666666666666,
              "#ed7953"
             ],
             [
              0.7777777777777778,
              "#fb9f3a"
             ],
             [
              0.8888888888888888,
              "#fdca26"
             ],
             [
              1,
              "#f0f921"
             ]
            ],
            "type": "histogram2dcontour"
           }
          ],
          "mesh3d": [
           {
            "colorbar": {
             "outlinewidth": 0,
             "ticks": ""
            },
            "type": "mesh3d"
           }
          ],
          "parcoords": [
           {
            "line": {
             "colorbar": {
              "outlinewidth": 0,
              "ticks": ""
             }
            },
            "type": "parcoords"
           }
          ],
          "pie": [
           {
            "automargin": true,
            "type": "pie"
           }
          ],
          "scatter": [
           {
            "fillpattern": {
             "fillmode": "overlay",
             "size": 10,
             "solidity": 0.2
            },
            "type": "scatter"
           }
          ],
          "scatter3d": [
           {
            "line": {
             "colorbar": {
              "outlinewidth": 0,
              "ticks": ""
             }
            },
            "marker": {
             "colorbar": {
              "outlinewidth": 0,
              "ticks": ""
             }
            },
            "type": "scatter3d"
           }
          ],
          "scattercarpet": [
           {
            "marker": {
             "colorbar": {
              "outlinewidth": 0,
              "ticks": ""
             }
            },
            "type": "scattercarpet"
           }
          ],
          "scattergeo": [
           {
            "marker": {
             "colorbar": {
              "outlinewidth": 0,
              "ticks": ""
             }
            },
            "type": "scattergeo"
           }
          ],
          "scattergl": [
           {
            "marker": {
             "colorbar": {
              "outlinewidth": 0,
              "ticks": ""
             }
            },
            "type": "scattergl"
           }
          ],
          "scattermapbox": [
           {
            "marker": {
             "colorbar": {
              "outlinewidth": 0,
              "ticks": ""
             }
            },
            "type": "scattermapbox"
           }
          ],
          "scatterpolar": [
           {
            "marker": {
             "colorbar": {
              "outlinewidth": 0,
              "ticks": ""
             }
            },
            "type": "scatterpolar"
           }
          ],
          "scatterpolargl": [
           {
            "marker": {
             "colorbar": {
              "outlinewidth": 0,
              "ticks": ""
             }
            },
            "type": "scatterpolargl"
           }
          ],
          "scatterternary": [
           {
            "marker": {
             "colorbar": {
              "outlinewidth": 0,
              "ticks": ""
             }
            },
            "type": "scatterternary"
           }
          ],
          "surface": [
           {
            "colorbar": {
             "outlinewidth": 0,
             "ticks": ""
            },
            "colorscale": [
             [
              0,
              "#0d0887"
             ],
             [
              0.1111111111111111,
              "#46039f"
             ],
             [
              0.2222222222222222,
              "#7201a8"
             ],
             [
              0.3333333333333333,
              "#9c179e"
             ],
             [
              0.4444444444444444,
              "#bd3786"
             ],
             [
              0.5555555555555556,
              "#d8576b"
             ],
             [
              0.6666666666666666,
              "#ed7953"
             ],
             [
              0.7777777777777778,
              "#fb9f3a"
             ],
             [
              0.8888888888888888,
              "#fdca26"
             ],
             [
              1,
              "#f0f921"
             ]
            ],
            "type": "surface"
           }
          ],
          "table": [
           {
            "cells": {
             "fill": {
              "color": "#EBF0F8"
             },
             "line": {
              "color": "white"
             }
            },
            "header": {
             "fill": {
              "color": "#C8D4E3"
             },
             "line": {
              "color": "white"
             }
            },
            "type": "table"
           }
          ]
         },
         "layout": {
          "annotationdefaults": {
           "arrowcolor": "#2a3f5f",
           "arrowhead": 0,
           "arrowwidth": 1
          },
          "autotypenumbers": "strict",
          "coloraxis": {
           "colorbar": {
            "outlinewidth": 0,
            "ticks": ""
           }
          },
          "colorscale": {
           "diverging": [
            [
             0,
             "#8e0152"
            ],
            [
             0.1,
             "#c51b7d"
            ],
            [
             0.2,
             "#de77ae"
            ],
            [
             0.3,
             "#f1b6da"
            ],
            [
             0.4,
             "#fde0ef"
            ],
            [
             0.5,
             "#f7f7f7"
            ],
            [
             0.6,
             "#e6f5d0"
            ],
            [
             0.7,
             "#b8e186"
            ],
            [
             0.8,
             "#7fbc41"
            ],
            [
             0.9,
             "#4d9221"
            ],
            [
             1,
             "#276419"
            ]
           ],
           "sequential": [
            [
             0,
             "#0d0887"
            ],
            [
             0.1111111111111111,
             "#46039f"
            ],
            [
             0.2222222222222222,
             "#7201a8"
            ],
            [
             0.3333333333333333,
             "#9c179e"
            ],
            [
             0.4444444444444444,
             "#bd3786"
            ],
            [
             0.5555555555555556,
             "#d8576b"
            ],
            [
             0.6666666666666666,
             "#ed7953"
            ],
            [
             0.7777777777777778,
             "#fb9f3a"
            ],
            [
             0.8888888888888888,
             "#fdca26"
            ],
            [
             1,
             "#f0f921"
            ]
           ],
           "sequentialminus": [
            [
             0,
             "#0d0887"
            ],
            [
             0.1111111111111111,
             "#46039f"
            ],
            [
             0.2222222222222222,
             "#7201a8"
            ],
            [
             0.3333333333333333,
             "#9c179e"
            ],
            [
             0.4444444444444444,
             "#bd3786"
            ],
            [
             0.5555555555555556,
             "#d8576b"
            ],
            [
             0.6666666666666666,
             "#ed7953"
            ],
            [
             0.7777777777777778,
             "#fb9f3a"
            ],
            [
             0.8888888888888888,
             "#fdca26"
            ],
            [
             1,
             "#f0f921"
            ]
           ]
          },
          "colorway": [
           "#636efa",
           "#EF553B",
           "#00cc96",
           "#ab63fa",
           "#FFA15A",
           "#19d3f3",
           "#FF6692",
           "#B6E880",
           "#FF97FF",
           "#FECB52"
          ],
          "font": {
           "color": "#2a3f5f"
          },
          "geo": {
           "bgcolor": "white",
           "lakecolor": "white",
           "landcolor": "#E5ECF6",
           "showlakes": true,
           "showland": true,
           "subunitcolor": "white"
          },
          "hoverlabel": {
           "align": "left"
          },
          "hovermode": "closest",
          "mapbox": {
           "style": "light"
          },
          "paper_bgcolor": "white",
          "plot_bgcolor": "#E5ECF6",
          "polar": {
           "angularaxis": {
            "gridcolor": "white",
            "linecolor": "white",
            "ticks": ""
           },
           "bgcolor": "#E5ECF6",
           "radialaxis": {
            "gridcolor": "white",
            "linecolor": "white",
            "ticks": ""
           }
          },
          "scene": {
           "xaxis": {
            "backgroundcolor": "#E5ECF6",
            "gridcolor": "white",
            "gridwidth": 2,
            "linecolor": "white",
            "showbackground": true,
            "ticks": "",
            "zerolinecolor": "white"
           },
           "yaxis": {
            "backgroundcolor": "#E5ECF6",
            "gridcolor": "white",
            "gridwidth": 2,
            "linecolor": "white",
            "showbackground": true,
            "ticks": "",
            "zerolinecolor": "white"
           },
           "zaxis": {
            "backgroundcolor": "#E5ECF6",
            "gridcolor": "white",
            "gridwidth": 2,
            "linecolor": "white",
            "showbackground": true,
            "ticks": "",
            "zerolinecolor": "white"
           }
          },
          "shapedefaults": {
           "line": {
            "color": "#2a3f5f"
           }
          },
          "ternary": {
           "aaxis": {
            "gridcolor": "white",
            "linecolor": "white",
            "ticks": ""
           },
           "baxis": {
            "gridcolor": "white",
            "linecolor": "white",
            "ticks": ""
           },
           "bgcolor": "#E5ECF6",
           "caxis": {
            "gridcolor": "white",
            "linecolor": "white",
            "ticks": ""
           }
          },
          "title": {
           "x": 0.05
          },
          "xaxis": {
           "automargin": true,
           "gridcolor": "white",
           "linecolor": "white",
           "ticks": "",
           "title": {
            "standoff": 15
           },
           "zerolinecolor": "white",
           "zerolinewidth": 2
          },
          "yaxis": {
           "automargin": true,
           "gridcolor": "white",
           "linecolor": "white",
           "ticks": "",
           "title": {
            "standoff": 15
           },
           "zerolinecolor": "white",
           "zerolinewidth": 2
          }
         }
        },
        "title": {
         "text": "OQ x OSA"
        }
       }
      }
     },
     "metadata": {},
     "output_type": "display_data"
    }
   ],
   "source": [
    "fig = px.sunburst(OQ_X_OSA, path=['OSA', 'OQ'], values='match', title=\"OQ x OSA\")\n",
    "fig.show()"
   ]
  },
  {
   "cell_type": "code",
   "execution_count": 137,
   "metadata": {},
   "outputs": [
    {
     "data": {
      "text/html": [
       "<div>\n",
       "<style scoped>\n",
       "    .dataframe tbody tr th:only-of-type {\n",
       "        vertical-align: middle;\n",
       "    }\n",
       "\n",
       "    .dataframe tbody tr th {\n",
       "        vertical-align: top;\n",
       "    }\n",
       "\n",
       "    .dataframe thead th {\n",
       "        text-align: right;\n",
       "    }\n",
       "</style>\n",
       "<table border=\"1\" class=\"dataframe\">\n",
       "  <thead>\n",
       "    <tr style=\"text-align: right;\">\n",
       "      <th></th>\n",
       "      <th>match</th>\n",
       "      <th>OD</th>\n",
       "      <th>OQ</th>\n",
       "      <th>OSA</th>\n",
       "    </tr>\n",
       "  </thead>\n",
       "  <tbody>\n",
       "    <tr>\n",
       "      <th>0</th>\n",
       "      <td>1</td>\n",
       "      <td>Fruity-fresh</td>\n",
       "      <td>fresh fruit</td>\n",
       "      <td>fruit</td>\n",
       "    </tr>\n",
       "    <tr>\n",
       "      <th>1</th>\n",
       "      <td>1</td>\n",
       "      <td>MENTHE/ANISE</td>\n",
       "      <td>fresh fruit</td>\n",
       "      <td>fruit</td>\n",
       "    </tr>\n",
       "    <tr>\n",
       "      <th>2</th>\n",
       "      <td>1</td>\n",
       "      <td>Tonka</td>\n",
       "      <td>vanilla</td>\n",
       "      <td>sweet</td>\n",
       "    </tr>\n",
       "    <tr>\n",
       "      <th>3</th>\n",
       "      <td>1</td>\n",
       "      <td>Vanilla</td>\n",
       "      <td>vanilla</td>\n",
       "      <td>sweet</td>\n",
       "    </tr>\n",
       "    <tr>\n",
       "      <th>4</th>\n",
       "      <td>1</td>\n",
       "      <td>VANILLE - DOUX</td>\n",
       "      <td>vanilla</td>\n",
       "      <td>sweet</td>\n",
       "    </tr>\n",
       "    <tr>\n",
       "      <th>...</th>\n",
       "      <td>...</td>\n",
       "      <td>...</td>\n",
       "      <td>...</td>\n",
       "      <td>...</td>\n",
       "    </tr>\n",
       "    <tr>\n",
       "      <th>86</th>\n",
       "      <td>1</td>\n",
       "      <td>Fruity-winey</td>\n",
       "      <td>vinous</td>\n",
       "      <td>wood</td>\n",
       "    </tr>\n",
       "    <tr>\n",
       "      <th>87</th>\n",
       "      <td>1</td>\n",
       "      <td>Vinous-fruity</td>\n",
       "      <td>vinous</td>\n",
       "      <td>wood</td>\n",
       "    </tr>\n",
       "    <tr>\n",
       "      <th>88</th>\n",
       "      <td>1</td>\n",
       "      <td>Wine</td>\n",
       "      <td>vinous</td>\n",
       "      <td>wood</td>\n",
       "    </tr>\n",
       "    <tr>\n",
       "      <th>89</th>\n",
       "      <td>1</td>\n",
       "      <td>Wine-yeast</td>\n",
       "      <td>vinous</td>\n",
       "      <td>wood</td>\n",
       "    </tr>\n",
       "    <tr>\n",
       "      <th>90</th>\n",
       "      <td>1</td>\n",
       "      <td>Winey</td>\n",
       "      <td>vinous</td>\n",
       "      <td>wood</td>\n",
       "    </tr>\n",
       "  </tbody>\n",
       "</table>\n",
       "<p>91 rows × 4 columns</p>\n",
       "</div>"
      ],
      "text/plain": [
       "    match              OD           OQ    OSA\n",
       "0       1    Fruity-fresh  fresh fruit  fruit\n",
       "1       1    MENTHE/ANISE  fresh fruit  fruit\n",
       "2       1           Tonka      vanilla  sweet\n",
       "3       1         Vanilla      vanilla  sweet\n",
       "4       1  VANILLE - DOUX      vanilla  sweet\n",
       "..    ...             ...          ...    ...\n",
       "86      1    Fruity-winey       vinous   wood\n",
       "87      1   Vinous-fruity       vinous   wood\n",
       "88      1            Wine       vinous   wood\n",
       "89      1      Wine-yeast       vinous   wood\n",
       "90      1           Winey       vinous   wood\n",
       "\n",
       "[91 rows x 4 columns]"
      ]
     },
     "execution_count": 137,
     "metadata": {},
     "output_type": "execute_result"
    }
   ],
   "source": [
    "# Merge the tables based on fuzzy ratio for the \"OQ\" column\n",
    "merged_data = []\n",
    "for index1, row1 in OQ_X_OSA.iterrows():\n",
    "    for index2, row2 in OD_X_OQ.iterrows():\n",
    "        ratio = fuzz.token_sort_ratio(row1[\"OQ\"], row2[\"OQ\"])\n",
    "        if ratio >= 60:  \n",
    "            merged_data.append({\n",
    "                \"match\": row1[\"match\"],\n",
    "                \"OD\": row2[\"OD\"],\n",
    "                \"OQ\": row1[\"OQ\"],\n",
    "                \"OSA\": row1[\"OSA\"]\n",
    "            })\n",
    "\n",
    "OD_OQ_OSA = pd.DataFrame(merged_data)\n",
    "OD_OQ_OSA\n"
   ]
  },
  {
   "cell_type": "code",
   "execution_count": 138,
   "metadata": {},
   "outputs": [
    {
     "data": {
      "application/vnd.plotly.v1+json": {
       "config": {
        "plotlyServerURL": "https://plot.ly"
       },
       "data": [
        {
         "branchvalues": "total",
         "domain": {
          "x": [
           0,
           1
          ],
          "y": [
           0,
           1
          ]
         },
         "hovertemplate": "labels=%{label}<br>match=%{value}<br>parent=%{parent}<br>id=%{id}<extra></extra>",
         "ids": [
          "wood/new wood/BOISE",
          "sulphury/cooked vegetables/Beany",
          "green/grassy/green vegetables/Beany",
          "nutty/toasted/Burnt",
          "stale/earthy/CUIR",
          "feinty/leathery/CUIR",
          "sulphury/cooked vegetables/Cabbage",
          "green/grassy/green vegetables/Cabbage",
          "stale/earthy/Castoreum",
          "feinty/leathery/Castoreum",
          "sulphury/cooked vegetables/Celery",
          "green/grassy/green vegetables/Celery",
          "nutty/toasted/Coffee",
          "sulphury/cooked vegetables/Cooked vegetables",
          "green/grassy/green vegetables/Cooked vegetables",
          "sulphury/cooked vegetables/Corn",
          "green/grassy/green vegetables/Corn",
          "peat/smoke/Dry-tarry",
          "peat/smoke/EMPYREUMATIQUE",
          "nutty/toasted/EMPYREUMATIQUE",
          "peat/smoke/FUME",
          "wood/ligneous/Fermented-winey",
          "nutty/nuts/Fermented-winey",
          "wood/vinous/Fermented-winey",
          "fruit/fresh fruit/Fruity-fresh",
          "wood/ligneous/Fruity-rum",
          "nutty/nuts/Fruity-rum",
          "wood/vinous/Fruity-rum",
          "wood/ligneous/Fruity-winey",
          "nutty/nuts/Fruity-winey",
          "wood/vinous/Fruity-winey",
          "peat/smoke/Guaiacol",
          "green/grassy/grass/Herbaceous",
          "green/grassy/grass/Herbal",
          "sweet/honey/Honey",
          "sulphury/cooked vegetables/LEGUMES CUITS",
          "green/grassy/green vegetables/LEGUMES CUITS",
          "stale/earthy/Leather",
          "feinty/leathery/Leather",
          "peat/smoke/Leather",
          "stale/earthy/Leathery",
          "feinty/leathery/Leathery",
          "peat/smoke/Leathery",
          "fruit/fresh fruit/MENTHE/ANISE",
          "stale/earthy/Medicinal-leathery",
          "feinty/leathery/Medicinal-leathery",
          "peat/smoke/Medicinal-leathery",
          "sulphury/cooked vegetables/POMME DE TERRE",
          "green/grassy/green vegetables/POMME DE TERRE",
          "nutty/toasted/PYRAZIQUE",
          "sulphury/cooked vegetables/Pea",
          "green/grassy/green vegetables/Pea",
          "sulphury/cooked vegetables/Pepper bell",
          "green/grassy/green vegetables/Pepper bell",
          "peat/smoke/Phenolic",
          "sulphury/cooked vegetables/Potato",
          "green/grassy/green vegetables/Potato",
          "sulphury/cooked vegetables/Radish",
          "green/grassy/green vegetables/Radish",
          "sweet/honey/Rose-honey",
          "peat/smoke/Smokey",
          "peat/smoke/Smoky",
          "sulphury/cooked vegetables/Soup",
          "green/grassy/green vegetables/Soup",
          "peat/smoke/Tarry",
          "peat/smoke/Tarry-medicinal",
          "peat/smoke/Tarry-smoky",
          "nutty/toasted/Toasted",
          "sulphury/cooked vegetables/Tomato",
          "green/grassy/green vegetables/Tomato",
          "sweet/vanilla/Tonka",
          "sweet/vanilla/VANILLE - DOUX",
          "sweet/vanilla/Vanilla",
          "sulphury/cooked vegetables/Vegetable",
          "green/grassy/green vegetables/Vegetable",
          "wood/ligneous/Vinous-fruity",
          "nutty/nuts/Vinous-fruity",
          "wood/vinous/Vinous-fruity",
          "green/grassy/grass/Weedy",
          "wood/ligneous/Wine",
          "nutty/nuts/Wine",
          "wood/vinous/Wine",
          "wood/ligneous/Wine-yeast",
          "nutty/nuts/Wine-yeast",
          "wood/vinous/Wine-yeast",
          "wood/ligneous/Winey",
          "nutty/nuts/Winey",
          "wood/vinous/Winey",
          "wood/new wood/Woody",
          "wood/new wood/Woody-phenolic",
          "peat/smoke/Woody-phenolic",
          "sulphury/cooked vegetables",
          "stale/earthy",
          "fruit/fresh fruit",
          "green/grassy/grass",
          "green/grassy/green vegetables",
          "sweet/honey",
          "feinty/leathery",
          "wood/ligneous",
          "wood/new wood",
          "nutty/nuts",
          "peat/smoke",
          "nutty/toasted",
          "sweet/vanilla",
          "wood/vinous",
          "feinty",
          "fruit",
          "green/grassy",
          "nutty",
          "peat",
          "stale",
          "sulphury",
          "sweet",
          "wood"
         ],
         "labels": [
          "BOISE",
          "Beany",
          "Beany",
          "Burnt",
          "CUIR",
          "CUIR",
          "Cabbage",
          "Cabbage",
          "Castoreum",
          "Castoreum",
          "Celery",
          "Celery",
          "Coffee",
          "Cooked vegetables",
          "Cooked vegetables",
          "Corn",
          "Corn",
          "Dry-tarry",
          "EMPYREUMATIQUE",
          "EMPYREUMATIQUE",
          "FUME",
          "Fermented-winey",
          "Fermented-winey",
          "Fermented-winey",
          "Fruity-fresh",
          "Fruity-rum",
          "Fruity-rum",
          "Fruity-rum",
          "Fruity-winey",
          "Fruity-winey",
          "Fruity-winey",
          "Guaiacol",
          "Herbaceous",
          "Herbal",
          "Honey",
          "LEGUMES CUITS",
          "LEGUMES CUITS",
          "Leather",
          "Leather",
          "Leather",
          "Leathery",
          "Leathery",
          "Leathery",
          "MENTHE/ANISE",
          "Medicinal-leathery",
          "Medicinal-leathery",
          "Medicinal-leathery",
          "POMME DE TERRE",
          "POMME DE TERRE",
          "PYRAZIQUE",
          "Pea",
          "Pea",
          "Pepper bell",
          "Pepper bell",
          "Phenolic",
          "Potato",
          "Potato",
          "Radish",
          "Radish",
          "Rose-honey",
          "Smokey",
          "Smoky",
          "Soup",
          "Soup",
          "Tarry",
          "Tarry-medicinal",
          "Tarry-smoky",
          "Toasted",
          "Tomato",
          "Tomato",
          "Tonka",
          "VANILLE - DOUX",
          "Vanilla",
          "Vegetable",
          "Vegetable",
          "Vinous-fruity",
          "Vinous-fruity",
          "Vinous-fruity",
          "Weedy",
          "Wine",
          "Wine",
          "Wine",
          "Wine-yeast",
          "Wine-yeast",
          "Wine-yeast",
          "Winey",
          "Winey",
          "Winey",
          "Woody",
          "Woody-phenolic",
          "Woody-phenolic",
          "cooked vegetables",
          "earthy",
          "fresh fruit",
          "grass",
          "green vegetables",
          "honey",
          "leathery",
          "ligneous",
          "new wood",
          "nuts",
          "smoke",
          "toasted",
          "vanilla",
          "vinous",
          "feinty",
          "fruit",
          "green/grassy",
          "nutty",
          "peat",
          "stale",
          "sulphury",
          "sweet",
          "wood"
         ],
         "name": "",
         "parents": [
          "wood/new wood",
          "sulphury/cooked vegetables",
          "green/grassy/green vegetables",
          "nutty/toasted",
          "stale/earthy",
          "feinty/leathery",
          "sulphury/cooked vegetables",
          "green/grassy/green vegetables",
          "stale/earthy",
          "feinty/leathery",
          "sulphury/cooked vegetables",
          "green/grassy/green vegetables",
          "nutty/toasted",
          "sulphury/cooked vegetables",
          "green/grassy/green vegetables",
          "sulphury/cooked vegetables",
          "green/grassy/green vegetables",
          "peat/smoke",
          "peat/smoke",
          "nutty/toasted",
          "peat/smoke",
          "wood/ligneous",
          "nutty/nuts",
          "wood/vinous",
          "fruit/fresh fruit",
          "wood/ligneous",
          "nutty/nuts",
          "wood/vinous",
          "wood/ligneous",
          "nutty/nuts",
          "wood/vinous",
          "peat/smoke",
          "green/grassy/grass",
          "green/grassy/grass",
          "sweet/honey",
          "sulphury/cooked vegetables",
          "green/grassy/green vegetables",
          "stale/earthy",
          "feinty/leathery",
          "peat/smoke",
          "stale/earthy",
          "feinty/leathery",
          "peat/smoke",
          "fruit/fresh fruit",
          "stale/earthy",
          "feinty/leathery",
          "peat/smoke",
          "sulphury/cooked vegetables",
          "green/grassy/green vegetables",
          "nutty/toasted",
          "sulphury/cooked vegetables",
          "green/grassy/green vegetables",
          "sulphury/cooked vegetables",
          "green/grassy/green vegetables",
          "peat/smoke",
          "sulphury/cooked vegetables",
          "green/grassy/green vegetables",
          "sulphury/cooked vegetables",
          "green/grassy/green vegetables",
          "sweet/honey",
          "peat/smoke",
          "peat/smoke",
          "sulphury/cooked vegetables",
          "green/grassy/green vegetables",
          "peat/smoke",
          "peat/smoke",
          "peat/smoke",
          "nutty/toasted",
          "sulphury/cooked vegetables",
          "green/grassy/green vegetables",
          "sweet/vanilla",
          "sweet/vanilla",
          "sweet/vanilla",
          "sulphury/cooked vegetables",
          "green/grassy/green vegetables",
          "wood/ligneous",
          "nutty/nuts",
          "wood/vinous",
          "green/grassy/grass",
          "wood/ligneous",
          "nutty/nuts",
          "wood/vinous",
          "wood/ligneous",
          "nutty/nuts",
          "wood/vinous",
          "wood/ligneous",
          "nutty/nuts",
          "wood/vinous",
          "wood/new wood",
          "wood/new wood",
          "peat/smoke",
          "sulphury",
          "stale",
          "fruit",
          "green/grassy",
          "green/grassy",
          "sweet",
          "feinty",
          "wood",
          "wood",
          "nutty",
          "peat",
          "nutty",
          "sweet",
          "wood",
          "",
          "",
          "",
          "",
          "",
          "",
          "",
          "",
          ""
         ],
         "type": "sunburst",
         "values": [
          1,
          1,
          1,
          1,
          1,
          1,
          1,
          1,
          1,
          1,
          1,
          1,
          1,
          1,
          1,
          1,
          1,
          1,
          1,
          1,
          1,
          1,
          1,
          1,
          1,
          1,
          1,
          1,
          1,
          1,
          1,
          1,
          1,
          1,
          1,
          1,
          1,
          1,
          1,
          1,
          1,
          1,
          1,
          1,
          1,
          1,
          1,
          1,
          1,
          1,
          1,
          1,
          1,
          1,
          1,
          1,
          1,
          1,
          1,
          1,
          1,
          1,
          1,
          1,
          1,
          1,
          1,
          1,
          1,
          1,
          1,
          1,
          1,
          1,
          1,
          1,
          1,
          1,
          1,
          1,
          1,
          1,
          1,
          1,
          1,
          1,
          1,
          1,
          1,
          1,
          1,
          14,
          5,
          2,
          3,
          14,
          2,
          5,
          7,
          3,
          7,
          14,
          5,
          3,
          7,
          5,
          2,
          17,
          12,
          14,
          5,
          14,
          5,
          17
         ]
        }
       ],
       "layout": {
        "legend": {
         "tracegroupgap": 0
        },
        "template": {
         "data": {
          "bar": [
           {
            "error_x": {
             "color": "#2a3f5f"
            },
            "error_y": {
             "color": "#2a3f5f"
            },
            "marker": {
             "line": {
              "color": "#E5ECF6",
              "width": 0.5
             },
             "pattern": {
              "fillmode": "overlay",
              "size": 10,
              "solidity": 0.2
             }
            },
            "type": "bar"
           }
          ],
          "barpolar": [
           {
            "marker": {
             "line": {
              "color": "#E5ECF6",
              "width": 0.5
             },
             "pattern": {
              "fillmode": "overlay",
              "size": 10,
              "solidity": 0.2
             }
            },
            "type": "barpolar"
           }
          ],
          "carpet": [
           {
            "aaxis": {
             "endlinecolor": "#2a3f5f",
             "gridcolor": "white",
             "linecolor": "white",
             "minorgridcolor": "white",
             "startlinecolor": "#2a3f5f"
            },
            "baxis": {
             "endlinecolor": "#2a3f5f",
             "gridcolor": "white",
             "linecolor": "white",
             "minorgridcolor": "white",
             "startlinecolor": "#2a3f5f"
            },
            "type": "carpet"
           }
          ],
          "choropleth": [
           {
            "colorbar": {
             "outlinewidth": 0,
             "ticks": ""
            },
            "type": "choropleth"
           }
          ],
          "contour": [
           {
            "colorbar": {
             "outlinewidth": 0,
             "ticks": ""
            },
            "colorscale": [
             [
              0,
              "#0d0887"
             ],
             [
              0.1111111111111111,
              "#46039f"
             ],
             [
              0.2222222222222222,
              "#7201a8"
             ],
             [
              0.3333333333333333,
              "#9c179e"
             ],
             [
              0.4444444444444444,
              "#bd3786"
             ],
             [
              0.5555555555555556,
              "#d8576b"
             ],
             [
              0.6666666666666666,
              "#ed7953"
             ],
             [
              0.7777777777777778,
              "#fb9f3a"
             ],
             [
              0.8888888888888888,
              "#fdca26"
             ],
             [
              1,
              "#f0f921"
             ]
            ],
            "type": "contour"
           }
          ],
          "contourcarpet": [
           {
            "colorbar": {
             "outlinewidth": 0,
             "ticks": ""
            },
            "type": "contourcarpet"
           }
          ],
          "heatmap": [
           {
            "colorbar": {
             "outlinewidth": 0,
             "ticks": ""
            },
            "colorscale": [
             [
              0,
              "#0d0887"
             ],
             [
              0.1111111111111111,
              "#46039f"
             ],
             [
              0.2222222222222222,
              "#7201a8"
             ],
             [
              0.3333333333333333,
              "#9c179e"
             ],
             [
              0.4444444444444444,
              "#bd3786"
             ],
             [
              0.5555555555555556,
              "#d8576b"
             ],
             [
              0.6666666666666666,
              "#ed7953"
             ],
             [
              0.7777777777777778,
              "#fb9f3a"
             ],
             [
              0.8888888888888888,
              "#fdca26"
             ],
             [
              1,
              "#f0f921"
             ]
            ],
            "type": "heatmap"
           }
          ],
          "heatmapgl": [
           {
            "colorbar": {
             "outlinewidth": 0,
             "ticks": ""
            },
            "colorscale": [
             [
              0,
              "#0d0887"
             ],
             [
              0.1111111111111111,
              "#46039f"
             ],
             [
              0.2222222222222222,
              "#7201a8"
             ],
             [
              0.3333333333333333,
              "#9c179e"
             ],
             [
              0.4444444444444444,
              "#bd3786"
             ],
             [
              0.5555555555555556,
              "#d8576b"
             ],
             [
              0.6666666666666666,
              "#ed7953"
             ],
             [
              0.7777777777777778,
              "#fb9f3a"
             ],
             [
              0.8888888888888888,
              "#fdca26"
             ],
             [
              1,
              "#f0f921"
             ]
            ],
            "type": "heatmapgl"
           }
          ],
          "histogram": [
           {
            "marker": {
             "pattern": {
              "fillmode": "overlay",
              "size": 10,
              "solidity": 0.2
             }
            },
            "type": "histogram"
           }
          ],
          "histogram2d": [
           {
            "colorbar": {
             "outlinewidth": 0,
             "ticks": ""
            },
            "colorscale": [
             [
              0,
              "#0d0887"
             ],
             [
              0.1111111111111111,
              "#46039f"
             ],
             [
              0.2222222222222222,
              "#7201a8"
             ],
             [
              0.3333333333333333,
              "#9c179e"
             ],
             [
              0.4444444444444444,
              "#bd3786"
             ],
             [
              0.5555555555555556,
              "#d8576b"
             ],
             [
              0.6666666666666666,
              "#ed7953"
             ],
             [
              0.7777777777777778,
              "#fb9f3a"
             ],
             [
              0.8888888888888888,
              "#fdca26"
             ],
             [
              1,
              "#f0f921"
             ]
            ],
            "type": "histogram2d"
           }
          ],
          "histogram2dcontour": [
           {
            "colorbar": {
             "outlinewidth": 0,
             "ticks": ""
            },
            "colorscale": [
             [
              0,
              "#0d0887"
             ],
             [
              0.1111111111111111,
              "#46039f"
             ],
             [
              0.2222222222222222,
              "#7201a8"
             ],
             [
              0.3333333333333333,
              "#9c179e"
             ],
             [
              0.4444444444444444,
              "#bd3786"
             ],
             [
              0.5555555555555556,
              "#d8576b"
             ],
             [
              0.6666666666666666,
              "#ed7953"
             ],
             [
              0.7777777777777778,
              "#fb9f3a"
             ],
             [
              0.8888888888888888,
              "#fdca26"
             ],
             [
              1,
              "#f0f921"
             ]
            ],
            "type": "histogram2dcontour"
           }
          ],
          "mesh3d": [
           {
            "colorbar": {
             "outlinewidth": 0,
             "ticks": ""
            },
            "type": "mesh3d"
           }
          ],
          "parcoords": [
           {
            "line": {
             "colorbar": {
              "outlinewidth": 0,
              "ticks": ""
             }
            },
            "type": "parcoords"
           }
          ],
          "pie": [
           {
            "automargin": true,
            "type": "pie"
           }
          ],
          "scatter": [
           {
            "fillpattern": {
             "fillmode": "overlay",
             "size": 10,
             "solidity": 0.2
            },
            "type": "scatter"
           }
          ],
          "scatter3d": [
           {
            "line": {
             "colorbar": {
              "outlinewidth": 0,
              "ticks": ""
             }
            },
            "marker": {
             "colorbar": {
              "outlinewidth": 0,
              "ticks": ""
             }
            },
            "type": "scatter3d"
           }
          ],
          "scattercarpet": [
           {
            "marker": {
             "colorbar": {
              "outlinewidth": 0,
              "ticks": ""
             }
            },
            "type": "scattercarpet"
           }
          ],
          "scattergeo": [
           {
            "marker": {
             "colorbar": {
              "outlinewidth": 0,
              "ticks": ""
             }
            },
            "type": "scattergeo"
           }
          ],
          "scattergl": [
           {
            "marker": {
             "colorbar": {
              "outlinewidth": 0,
              "ticks": ""
             }
            },
            "type": "scattergl"
           }
          ],
          "scattermapbox": [
           {
            "marker": {
             "colorbar": {
              "outlinewidth": 0,
              "ticks": ""
             }
            },
            "type": "scattermapbox"
           }
          ],
          "scatterpolar": [
           {
            "marker": {
             "colorbar": {
              "outlinewidth": 0,
              "ticks": ""
             }
            },
            "type": "scatterpolar"
           }
          ],
          "scatterpolargl": [
           {
            "marker": {
             "colorbar": {
              "outlinewidth": 0,
              "ticks": ""
             }
            },
            "type": "scatterpolargl"
           }
          ],
          "scatterternary": [
           {
            "marker": {
             "colorbar": {
              "outlinewidth": 0,
              "ticks": ""
             }
            },
            "type": "scatterternary"
           }
          ],
          "surface": [
           {
            "colorbar": {
             "outlinewidth": 0,
             "ticks": ""
            },
            "colorscale": [
             [
              0,
              "#0d0887"
             ],
             [
              0.1111111111111111,
              "#46039f"
             ],
             [
              0.2222222222222222,
              "#7201a8"
             ],
             [
              0.3333333333333333,
              "#9c179e"
             ],
             [
              0.4444444444444444,
              "#bd3786"
             ],
             [
              0.5555555555555556,
              "#d8576b"
             ],
             [
              0.6666666666666666,
              "#ed7953"
             ],
             [
              0.7777777777777778,
              "#fb9f3a"
             ],
             [
              0.8888888888888888,
              "#fdca26"
             ],
             [
              1,
              "#f0f921"
             ]
            ],
            "type": "surface"
           }
          ],
          "table": [
           {
            "cells": {
             "fill": {
              "color": "#EBF0F8"
             },
             "line": {
              "color": "white"
             }
            },
            "header": {
             "fill": {
              "color": "#C8D4E3"
             },
             "line": {
              "color": "white"
             }
            },
            "type": "table"
           }
          ]
         },
         "layout": {
          "annotationdefaults": {
           "arrowcolor": "#2a3f5f",
           "arrowhead": 0,
           "arrowwidth": 1
          },
          "autotypenumbers": "strict",
          "coloraxis": {
           "colorbar": {
            "outlinewidth": 0,
            "ticks": ""
           }
          },
          "colorscale": {
           "diverging": [
            [
             0,
             "#8e0152"
            ],
            [
             0.1,
             "#c51b7d"
            ],
            [
             0.2,
             "#de77ae"
            ],
            [
             0.3,
             "#f1b6da"
            ],
            [
             0.4,
             "#fde0ef"
            ],
            [
             0.5,
             "#f7f7f7"
            ],
            [
             0.6,
             "#e6f5d0"
            ],
            [
             0.7,
             "#b8e186"
            ],
            [
             0.8,
             "#7fbc41"
            ],
            [
             0.9,
             "#4d9221"
            ],
            [
             1,
             "#276419"
            ]
           ],
           "sequential": [
            [
             0,
             "#0d0887"
            ],
            [
             0.1111111111111111,
             "#46039f"
            ],
            [
             0.2222222222222222,
             "#7201a8"
            ],
            [
             0.3333333333333333,
             "#9c179e"
            ],
            [
             0.4444444444444444,
             "#bd3786"
            ],
            [
             0.5555555555555556,
             "#d8576b"
            ],
            [
             0.6666666666666666,
             "#ed7953"
            ],
            [
             0.7777777777777778,
             "#fb9f3a"
            ],
            [
             0.8888888888888888,
             "#fdca26"
            ],
            [
             1,
             "#f0f921"
            ]
           ],
           "sequentialminus": [
            [
             0,
             "#0d0887"
            ],
            [
             0.1111111111111111,
             "#46039f"
            ],
            [
             0.2222222222222222,
             "#7201a8"
            ],
            [
             0.3333333333333333,
             "#9c179e"
            ],
            [
             0.4444444444444444,
             "#bd3786"
            ],
            [
             0.5555555555555556,
             "#d8576b"
            ],
            [
             0.6666666666666666,
             "#ed7953"
            ],
            [
             0.7777777777777778,
             "#fb9f3a"
            ],
            [
             0.8888888888888888,
             "#fdca26"
            ],
            [
             1,
             "#f0f921"
            ]
           ]
          },
          "colorway": [
           "#636efa",
           "#EF553B",
           "#00cc96",
           "#ab63fa",
           "#FFA15A",
           "#19d3f3",
           "#FF6692",
           "#B6E880",
           "#FF97FF",
           "#FECB52"
          ],
          "font": {
           "color": "#2a3f5f"
          },
          "geo": {
           "bgcolor": "white",
           "lakecolor": "white",
           "landcolor": "#E5ECF6",
           "showlakes": true,
           "showland": true,
           "subunitcolor": "white"
          },
          "hoverlabel": {
           "align": "left"
          },
          "hovermode": "closest",
          "mapbox": {
           "style": "light"
          },
          "paper_bgcolor": "white",
          "plot_bgcolor": "#E5ECF6",
          "polar": {
           "angularaxis": {
            "gridcolor": "white",
            "linecolor": "white",
            "ticks": ""
           },
           "bgcolor": "#E5ECF6",
           "radialaxis": {
            "gridcolor": "white",
            "linecolor": "white",
            "ticks": ""
           }
          },
          "scene": {
           "xaxis": {
            "backgroundcolor": "#E5ECF6",
            "gridcolor": "white",
            "gridwidth": 2,
            "linecolor": "white",
            "showbackground": true,
            "ticks": "",
            "zerolinecolor": "white"
           },
           "yaxis": {
            "backgroundcolor": "#E5ECF6",
            "gridcolor": "white",
            "gridwidth": 2,
            "linecolor": "white",
            "showbackground": true,
            "ticks": "",
            "zerolinecolor": "white"
           },
           "zaxis": {
            "backgroundcolor": "#E5ECF6",
            "gridcolor": "white",
            "gridwidth": 2,
            "linecolor": "white",
            "showbackground": true,
            "ticks": "",
            "zerolinecolor": "white"
           }
          },
          "shapedefaults": {
           "line": {
            "color": "#2a3f5f"
           }
          },
          "ternary": {
           "aaxis": {
            "gridcolor": "white",
            "linecolor": "white",
            "ticks": ""
           },
           "baxis": {
            "gridcolor": "white",
            "linecolor": "white",
            "ticks": ""
           },
           "bgcolor": "#E5ECF6",
           "caxis": {
            "gridcolor": "white",
            "linecolor": "white",
            "ticks": ""
           }
          },
          "title": {
           "x": 0.05
          },
          "xaxis": {
           "automargin": true,
           "gridcolor": "white",
           "linecolor": "white",
           "ticks": "",
           "title": {
            "standoff": 15
           },
           "zerolinecolor": "white",
           "zerolinewidth": 2
          },
          "yaxis": {
           "automargin": true,
           "gridcolor": "white",
           "linecolor": "white",
           "ticks": "",
           "title": {
            "standoff": 15
           },
           "zerolinecolor": "white",
           "zerolinewidth": 2
          }
         }
        },
        "title": {
         "text": "OD x OQ x OSA"
        }
       }
      }
     },
     "metadata": {},
     "output_type": "display_data"
    }
   ],
   "source": [
    "fig = px.sunburst(OD_OQ_OSA, path=['OSA', 'OQ', 'OD'], values='match', title=\"OD x OQ x OSA\")\n",
    "fig.show()"
   ]
  }
 ],
 "metadata": {
  "kernelspec": {
   "display_name": "Python 3",
   "language": "python",
   "name": "python3"
  },
  "language_info": {
   "codemirror_mode": {
    "name": "ipython",
    "version": 3
   },
   "file_extension": ".py",
   "mimetype": "text/x-python",
   "name": "python",
   "nbconvert_exporter": "python",
   "pygments_lexer": "ipython3",
   "version": "3.9.6"
  },
  "orig_nbformat": 4
 },
 "nbformat": 4,
 "nbformat_minor": 2
}
