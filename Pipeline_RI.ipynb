{
 "cells": [
  {
   "attachments": {},
   "cell_type": "markdown",
   "metadata": {},
   "source": [
    "## Pipeline Flavor Profile"
   ]
  },
  {
   "cell_type": "code",
   "execution_count": 1,
   "metadata": {},
   "outputs": [
    {
     "name": "stderr",
     "output_type": "stream",
     "text": [
      "c:\\Users\\Franz\\AppData\\Local\\Programs\\Python\\Python39\\lib\\site-packages\\fuzzywuzzy\\fuzz.py:11: UserWarning: Using slow pure-python SequenceMatcher. Install python-Levenshtein to remove this warning\n",
      "  warnings.warn('Using slow pure-python SequenceMatcher. Install python-Levenshtein to remove this warning')\n"
     ]
    }
   ],
   "source": [
    "import pandas as pd\n",
    "import numpy as np\n",
    "from fuzzywuzzy import fuzz\n",
    "import csv"
   ]
  },
  {
   "cell_type": "code",
   "execution_count": 2,
   "metadata": {},
   "outputs": [],
   "source": [
    "'''\n",
    "does convert a pandas dataframe into a matrix where \n",
    "keys = row name\n",
    "values = col name\n",
    "data = either 0 or 1 \n",
    "'''\n",
    "def dict_to_matrix(dictionary):\n",
    "    unique_values = set(val for sublist in dictionary.values() for val in sublist)\n",
    "    data_dict = {key: {val: 1 if val in values else 0 for val in unique_values} for key, values in dictionary.items()}\n",
    "    df = pd.DataFrame(data_dict).T\n",
    "    return(df)\n"
   ]
  },
  {
   "cell_type": "code",
   "execution_count": 3,
   "metadata": {},
   "outputs": [],
   "source": [
    "'''\n",
    "find overlapp between to lists with a threshold (=70)\n",
    "'''\n",
    "def overlapping_elements(list1, list2, threshold=70):\n",
    "    overlap = []\n",
    "    for elem1 in list1:\n",
    "        for elem2 in list2:\n",
    "            ratio = fuzz.ratio(elem1, elem2)\n",
    "            if ratio >= threshold:\n",
    "                overlap.append(elem1)\n",
    "    return overlap"
   ]
  },
  {
   "cell_type": "code",
   "execution_count": 4,
   "metadata": {},
   "outputs": [],
   "source": [
    "'''\n",
    "Convert DataFrame to dictionary\n",
    "'''\n",
    "def dataframe_to_dict(df):\n",
    "    result_dict = {}\n",
    "    for index, row in df.iterrows():\n",
    "        if row[0] in result_dict:\n",
    "            result_dict[row[0]].append(row[1])\n",
    "        else:\n",
    "            result_dict[row[0]] = [row[1]]\n",
    "    return result_dict     "
   ]
  },
  {
   "cell_type": "code",
   "execution_count": 5,
   "metadata": {},
   "outputs": [],
   "source": [
    "'''\n",
    "find match between dictionary entries and the rows of a dataframe\n",
    "'''\n",
    "def find_matching_entries(dictionary,df):\n",
    "    threshold = 80\n",
    "    found_match = []\n",
    "    found_match_per_entry = {}\n",
    "    for key, value in dictionary.items():\n",
    "        all_matches = set()\n",
    "        for index, row in df.iterrows():\n",
    "            for keyword in value:\n",
    "                if fuzz.ratio(keyword, str(index).lower()) >= threshold:\n",
    "                    all_matches.add(index)\n",
    "                    found_match.append(row)\n",
    "        found_match_per_entry[key] = all_matches\n",
    "    found_match = pd.DataFrame(found_match)\n",
    "    found_match = found_match.drop_duplicates()\n",
    "    return(found_match, found_match_per_entry)"
   ]
  },
  {
   "cell_type": "code",
   "execution_count": 6,
   "metadata": {},
   "outputs": [],
   "source": [
    "'''\n",
    "create a new matrix by finding matches and filtering right columns\n",
    "'''\n",
    "def create_matrix_from_dict(dictionary,df):\n",
    "    matrix = pd.DataFrame(columns=list(df), index=ms_cas)\n",
    "    final_dict = {}\n",
    "    for key, value in dictionary.items():\n",
    "        current_val = []\n",
    "        for v in value:\n",
    "            for index, row in df.iterrows():\n",
    "                if index == v:\n",
    "                    current_val.append(','.join(row.loc[row.eq(1)].index.tolist()))\n",
    "                    # todo: maybe exception -> do change if two ones in a row\n",
    "                    matrix.loc[key][row.loc[row.eq(1)].index.tolist()] = 1\n",
    "        final_dict[key] = current_val\n",
    "    matrix = matrix.fillna(0)\n",
    "    matrix = matrix.loc[:, (matrix != 0).any(axis=0)]\n",
    "    return(final_dict, matrix)\n",
    "   "
   ]
  },
  {
   "attachments": {},
   "cell_type": "markdown",
   "metadata": {},
   "source": [
    "#### 1. MS Data ----- Massbank -----> Molecules\n",
    "\n",
    "-> Chris"
   ]
  },
  {
   "attachments": {},
   "cell_type": "markdown",
   "metadata": {},
   "source": [
    "save which intensities belong to which molecule and give each the % \n",
    "2 approaches for one molecule with multiple OQs\n",
    "1.  each gets same % \n",
    "2.  divide % by count of OQs per molecule"
   ]
  },
  {
   "attachments": {},
   "cell_type": "markdown",
   "metadata": {},
   "source": [
    "<span style=\"color:lightblue\">mol_int</span> : dict where key is the molecule name and value is the intensites from the mass spec data"
   ]
  },
  {
   "cell_type": "code",
   "execution_count": 16,
   "metadata": {},
   "outputs": [],
   "source": [
    "# DUMMY DATA\n",
    "intensities = [80, 40, 5]\n",
    "ms_cas =['(E)-3-hexenol', \"coumarin\",'citral']\n",
    "mol_int = {'(E)-3-hexenol': 80, \"coumarin\": 40 ,'citral': 5}"
   ]
  },
  {
   "cell_type": "code",
   "execution_count": 81,
   "metadata": {},
   "outputs": [],
   "source": [
    "# actual ms data\n",
    "file_path = 'data/cas_intensities.csv'\n",
    "data = pd.read_csv(file_path, delimiter=',')\n",
    "# only use first repliate\n",
    "data = data[data[\"replicate\"]==1]"
   ]
  },
  {
   "cell_type": "code",
   "execution_count": 82,
   "metadata": {},
   "outputs": [
    {
     "data": {
      "text/html": [
       "<div>\n",
       "<style scoped>\n",
       "    .dataframe tbody tr th:only-of-type {\n",
       "        vertical-align: middle;\n",
       "    }\n",
       "\n",
       "    .dataframe tbody tr th {\n",
       "        vertical-align: top;\n",
       "    }\n",
       "\n",
       "    .dataframe thead th {\n",
       "        text-align: right;\n",
       "    }\n",
       "</style>\n",
       "<table border=\"1\" class=\"dataframe\">\n",
       "  <thead>\n",
       "    <tr style=\"text-align: right;\">\n",
       "      <th></th>\n",
       "      <th>sample_key</th>\n",
       "      <th>replicate</th>\n",
       "      <th>6485-40-1</th>\n",
       "      <th>3033-23-6</th>\n",
       "      <th>21284-22-0</th>\n",
       "      <th>38427-78-0</th>\n",
       "      <th>495-61-4</th>\n",
       "      <th>29873-99-2</th>\n",
       "      <th>6909-30-4</th>\n",
       "      <th>99-49-0</th>\n",
       "      <th>...</th>\n",
       "      <th>13466-78-9</th>\n",
       "      <th>483-76-1</th>\n",
       "      <th>36564-42-8</th>\n",
       "      <th>705-86-2</th>\n",
       "      <th>2825-91-4</th>\n",
       "      <th>713-95-1</th>\n",
       "      <th>20307-84-0</th>\n",
       "      <th>120021-96-7</th>\n",
       "      <th>586-62-9</th>\n",
       "      <th>710-04-3</th>\n",
       "    </tr>\n",
       "  </thead>\n",
       "  <tbody>\n",
       "    <tr>\n",
       "      <th>0</th>\n",
       "      <td>000920</td>\n",
       "      <td>1</td>\n",
       "      <td>1.943542e+08</td>\n",
       "      <td>1.240854e+09</td>\n",
       "      <td>1.048295e+08</td>\n",
       "      <td>9.087319e+07</td>\n",
       "      <td>1.831223e+08</td>\n",
       "      <td>1.831223e+08</td>\n",
       "      <td>6.043091e+08</td>\n",
       "      <td>1.943542e+08</td>\n",
       "      <td>...</td>\n",
       "      <td>2.528854e+08</td>\n",
       "      <td>1.831223e+08</td>\n",
       "      <td>1.048295e+08</td>\n",
       "      <td>4.645706e+08</td>\n",
       "      <td>4.645706e+08</td>\n",
       "      <td>1.893777e+08</td>\n",
       "      <td>1.831223e+08</td>\n",
       "      <td>1.831223e+08</td>\n",
       "      <td>2.528854e+08</td>\n",
       "      <td>2.662124e+08</td>\n",
       "    </tr>\n",
       "    <tr>\n",
       "      <th>3</th>\n",
       "      <td>000922</td>\n",
       "      <td>1</td>\n",
       "      <td>1.549112e+08</td>\n",
       "      <td>1.029110e+09</td>\n",
       "      <td>1.086362e+08</td>\n",
       "      <td>1.181268e+08</td>\n",
       "      <td>1.913892e+08</td>\n",
       "      <td>1.913892e+08</td>\n",
       "      <td>6.519549e+08</td>\n",
       "      <td>1.549112e+08</td>\n",
       "      <td>...</td>\n",
       "      <td>1.875943e+08</td>\n",
       "      <td>1.913892e+08</td>\n",
       "      <td>1.086362e+08</td>\n",
       "      <td>4.505443e+08</td>\n",
       "      <td>4.505443e+08</td>\n",
       "      <td>2.602672e+08</td>\n",
       "      <td>1.913892e+08</td>\n",
       "      <td>1.913892e+08</td>\n",
       "      <td>1.875943e+08</td>\n",
       "      <td>2.698756e+08</td>\n",
       "    </tr>\n",
       "    <tr>\n",
       "      <th>6</th>\n",
       "      <td>000927</td>\n",
       "      <td>1</td>\n",
       "      <td>1.688820e+08</td>\n",
       "      <td>1.102763e+09</td>\n",
       "      <td>1.523761e+08</td>\n",
       "      <td>1.616408e+08</td>\n",
       "      <td>1.932470e+08</td>\n",
       "      <td>1.932470e+08</td>\n",
       "      <td>7.387225e+08</td>\n",
       "      <td>1.688820e+08</td>\n",
       "      <td>...</td>\n",
       "      <td>2.299686e+08</td>\n",
       "      <td>1.932470e+08</td>\n",
       "      <td>1.523761e+08</td>\n",
       "      <td>4.690569e+08</td>\n",
       "      <td>4.690569e+08</td>\n",
       "      <td>2.387369e+08</td>\n",
       "      <td>1.932470e+08</td>\n",
       "      <td>1.932470e+08</td>\n",
       "      <td>2.299686e+08</td>\n",
       "      <td>2.549133e+08</td>\n",
       "    </tr>\n",
       "    <tr>\n",
       "      <th>9</th>\n",
       "      <td>000911</td>\n",
       "      <td>1</td>\n",
       "      <td>1.759171e+08</td>\n",
       "      <td>9.992782e+08</td>\n",
       "      <td>1.654314e+08</td>\n",
       "      <td>1.787409e+08</td>\n",
       "      <td>2.531031e+08</td>\n",
       "      <td>2.531031e+08</td>\n",
       "      <td>8.800410e+08</td>\n",
       "      <td>1.759171e+08</td>\n",
       "      <td>...</td>\n",
       "      <td>2.857401e+08</td>\n",
       "      <td>2.531031e+08</td>\n",
       "      <td>1.654314e+08</td>\n",
       "      <td>4.831389e+08</td>\n",
       "      <td>4.831389e+08</td>\n",
       "      <td>3.724425e+08</td>\n",
       "      <td>2.531031e+08</td>\n",
       "      <td>2.531031e+08</td>\n",
       "      <td>2.857401e+08</td>\n",
       "      <td>3.321024e+08</td>\n",
       "    </tr>\n",
       "    <tr>\n",
       "      <th>12</th>\n",
       "      <td>000925</td>\n",
       "      <td>1</td>\n",
       "      <td>1.517116e+08</td>\n",
       "      <td>1.068380e+09</td>\n",
       "      <td>1.090820e+08</td>\n",
       "      <td>1.262307e+08</td>\n",
       "      <td>1.855528e+08</td>\n",
       "      <td>1.855528e+08</td>\n",
       "      <td>6.077461e+08</td>\n",
       "      <td>1.517116e+08</td>\n",
       "      <td>...</td>\n",
       "      <td>1.823817e+08</td>\n",
       "      <td>1.855528e+08</td>\n",
       "      <td>1.090820e+08</td>\n",
       "      <td>4.520255e+08</td>\n",
       "      <td>4.520255e+08</td>\n",
       "      <td>2.344530e+08</td>\n",
       "      <td>1.855528e+08</td>\n",
       "      <td>1.855528e+08</td>\n",
       "      <td>1.823817e+08</td>\n",
       "      <td>2.454637e+08</td>\n",
       "    </tr>\n",
       "    <tr>\n",
       "      <th>...</th>\n",
       "      <td>...</td>\n",
       "      <td>...</td>\n",
       "      <td>...</td>\n",
       "      <td>...</td>\n",
       "      <td>...</td>\n",
       "      <td>...</td>\n",
       "      <td>...</td>\n",
       "      <td>...</td>\n",
       "      <td>...</td>\n",
       "      <td>...</td>\n",
       "      <td>...</td>\n",
       "      <td>...</td>\n",
       "      <td>...</td>\n",
       "      <td>...</td>\n",
       "      <td>...</td>\n",
       "      <td>...</td>\n",
       "      <td>...</td>\n",
       "      <td>...</td>\n",
       "      <td>...</td>\n",
       "      <td>...</td>\n",
       "      <td>...</td>\n",
       "    </tr>\n",
       "    <tr>\n",
       "      <th>756</th>\n",
       "      <td>000596</td>\n",
       "      <td>1</td>\n",
       "      <td>2.413772e+08</td>\n",
       "      <td>2.413874e+09</td>\n",
       "      <td>9.689814e+07</td>\n",
       "      <td>9.213682e+07</td>\n",
       "      <td>1.471158e+08</td>\n",
       "      <td>1.471158e+08</td>\n",
       "      <td>6.822826e+08</td>\n",
       "      <td>2.413772e+08</td>\n",
       "      <td>...</td>\n",
       "      <td>2.592504e+08</td>\n",
       "      <td>1.471158e+08</td>\n",
       "      <td>9.689814e+07</td>\n",
       "      <td>5.506742e+08</td>\n",
       "      <td>5.506742e+08</td>\n",
       "      <td>1.736489e+08</td>\n",
       "      <td>1.471158e+08</td>\n",
       "      <td>1.471158e+08</td>\n",
       "      <td>2.592504e+08</td>\n",
       "      <td>3.138085e+08</td>\n",
       "    </tr>\n",
       "    <tr>\n",
       "      <th>759</th>\n",
       "      <td>000804</td>\n",
       "      <td>1</td>\n",
       "      <td>3.452753e+08</td>\n",
       "      <td>3.397598e+09</td>\n",
       "      <td>1.905095e+08</td>\n",
       "      <td>2.577871e+08</td>\n",
       "      <td>2.881055e+08</td>\n",
       "      <td>2.881055e+08</td>\n",
       "      <td>1.122339e+09</td>\n",
       "      <td>3.452753e+08</td>\n",
       "      <td>...</td>\n",
       "      <td>3.308782e+08</td>\n",
       "      <td>2.881055e+08</td>\n",
       "      <td>1.905095e+08</td>\n",
       "      <td>5.763415e+08</td>\n",
       "      <td>5.763415e+08</td>\n",
       "      <td>3.355894e+08</td>\n",
       "      <td>2.881055e+08</td>\n",
       "      <td>2.881055e+08</td>\n",
       "      <td>3.308782e+08</td>\n",
       "      <td>5.460406e+08</td>\n",
       "    </tr>\n",
       "    <tr>\n",
       "      <th>762</th>\n",
       "      <td>000853</td>\n",
       "      <td>1</td>\n",
       "      <td>3.740657e+08</td>\n",
       "      <td>1.855998e+09</td>\n",
       "      <td>1.829394e+08</td>\n",
       "      <td>1.613276e+08</td>\n",
       "      <td>2.186666e+08</td>\n",
       "      <td>2.186666e+08</td>\n",
       "      <td>6.303671e+08</td>\n",
       "      <td>3.740657e+08</td>\n",
       "      <td>...</td>\n",
       "      <td>3.798451e+08</td>\n",
       "      <td>2.186666e+08</td>\n",
       "      <td>1.829394e+08</td>\n",
       "      <td>2.239344e+08</td>\n",
       "      <td>2.239344e+08</td>\n",
       "      <td>1.979400e+08</td>\n",
       "      <td>2.186666e+08</td>\n",
       "      <td>2.186666e+08</td>\n",
       "      <td>3.798451e+08</td>\n",
       "      <td>3.843281e+08</td>\n",
       "    </tr>\n",
       "    <tr>\n",
       "      <th>765</th>\n",
       "      <td>000931</td>\n",
       "      <td>1</td>\n",
       "      <td>1.714774e+08</td>\n",
       "      <td>1.085542e+09</td>\n",
       "      <td>1.353320e+08</td>\n",
       "      <td>1.542927e+08</td>\n",
       "      <td>3.349072e+08</td>\n",
       "      <td>3.349072e+08</td>\n",
       "      <td>8.858262e+08</td>\n",
       "      <td>1.714774e+08</td>\n",
       "      <td>...</td>\n",
       "      <td>2.587659e+08</td>\n",
       "      <td>3.349072e+08</td>\n",
       "      <td>1.353320e+08</td>\n",
       "      <td>4.699361e+08</td>\n",
       "      <td>4.699361e+08</td>\n",
       "      <td>3.719480e+08</td>\n",
       "      <td>3.349072e+08</td>\n",
       "      <td>3.349072e+08</td>\n",
       "      <td>2.587659e+08</td>\n",
       "      <td>3.572876e+08</td>\n",
       "    </tr>\n",
       "    <tr>\n",
       "      <th>768</th>\n",
       "      <td>QC</td>\n",
       "      <td>1</td>\n",
       "      <td>1.662082e+08</td>\n",
       "      <td>1.628471e+09</td>\n",
       "      <td>1.226651e+08</td>\n",
       "      <td>1.240087e+08</td>\n",
       "      <td>1.870665e+08</td>\n",
       "      <td>1.870665e+08</td>\n",
       "      <td>6.988746e+08</td>\n",
       "      <td>1.662082e+08</td>\n",
       "      <td>...</td>\n",
       "      <td>2.472342e+08</td>\n",
       "      <td>1.870665e+08</td>\n",
       "      <td>1.226651e+08</td>\n",
       "      <td>4.531946e+08</td>\n",
       "      <td>4.531946e+08</td>\n",
       "      <td>2.572853e+08</td>\n",
       "      <td>1.870665e+08</td>\n",
       "      <td>1.870665e+08</td>\n",
       "      <td>2.472342e+08</td>\n",
       "      <td>2.817172e+08</td>\n",
       "    </tr>\n",
       "  </tbody>\n",
       "</table>\n",
       "<p>239 rows × 734 columns</p>\n",
       "</div>"
      ],
      "text/plain": [
       "    sample_key  replicate     6485-40-1     3033-23-6    21284-22-0  \\\n",
       "0       000920          1  1.943542e+08  1.240854e+09  1.048295e+08   \n",
       "3       000922          1  1.549112e+08  1.029110e+09  1.086362e+08   \n",
       "6       000927          1  1.688820e+08  1.102763e+09  1.523761e+08   \n",
       "9       000911          1  1.759171e+08  9.992782e+08  1.654314e+08   \n",
       "12      000925          1  1.517116e+08  1.068380e+09  1.090820e+08   \n",
       "..         ...        ...           ...           ...           ...   \n",
       "756     000596          1  2.413772e+08  2.413874e+09  9.689814e+07   \n",
       "759     000804          1  3.452753e+08  3.397598e+09  1.905095e+08   \n",
       "762     000853          1  3.740657e+08  1.855998e+09  1.829394e+08   \n",
       "765     000931          1  1.714774e+08  1.085542e+09  1.353320e+08   \n",
       "768         QC          1  1.662082e+08  1.628471e+09  1.226651e+08   \n",
       "\n",
       "       38427-78-0      495-61-4    29873-99-2     6909-30-4       99-49-0  \\\n",
       "0    9.087319e+07  1.831223e+08  1.831223e+08  6.043091e+08  1.943542e+08   \n",
       "3    1.181268e+08  1.913892e+08  1.913892e+08  6.519549e+08  1.549112e+08   \n",
       "6    1.616408e+08  1.932470e+08  1.932470e+08  7.387225e+08  1.688820e+08   \n",
       "9    1.787409e+08  2.531031e+08  2.531031e+08  8.800410e+08  1.759171e+08   \n",
       "12   1.262307e+08  1.855528e+08  1.855528e+08  6.077461e+08  1.517116e+08   \n",
       "..            ...           ...           ...           ...           ...   \n",
       "756  9.213682e+07  1.471158e+08  1.471158e+08  6.822826e+08  2.413772e+08   \n",
       "759  2.577871e+08  2.881055e+08  2.881055e+08  1.122339e+09  3.452753e+08   \n",
       "762  1.613276e+08  2.186666e+08  2.186666e+08  6.303671e+08  3.740657e+08   \n",
       "765  1.542927e+08  3.349072e+08  3.349072e+08  8.858262e+08  1.714774e+08   \n",
       "768  1.240087e+08  1.870665e+08  1.870665e+08  6.988746e+08  1.662082e+08   \n",
       "\n",
       "     ...    13466-78-9      483-76-1    36564-42-8      705-86-2  \\\n",
       "0    ...  2.528854e+08  1.831223e+08  1.048295e+08  4.645706e+08   \n",
       "3    ...  1.875943e+08  1.913892e+08  1.086362e+08  4.505443e+08   \n",
       "6    ...  2.299686e+08  1.932470e+08  1.523761e+08  4.690569e+08   \n",
       "9    ...  2.857401e+08  2.531031e+08  1.654314e+08  4.831389e+08   \n",
       "12   ...  1.823817e+08  1.855528e+08  1.090820e+08  4.520255e+08   \n",
       "..   ...           ...           ...           ...           ...   \n",
       "756  ...  2.592504e+08  1.471158e+08  9.689814e+07  5.506742e+08   \n",
       "759  ...  3.308782e+08  2.881055e+08  1.905095e+08  5.763415e+08   \n",
       "762  ...  3.798451e+08  2.186666e+08  1.829394e+08  2.239344e+08   \n",
       "765  ...  2.587659e+08  3.349072e+08  1.353320e+08  4.699361e+08   \n",
       "768  ...  2.472342e+08  1.870665e+08  1.226651e+08  4.531946e+08   \n",
       "\n",
       "        2825-91-4      713-95-1    20307-84-0   120021-96-7      586-62-9  \\\n",
       "0    4.645706e+08  1.893777e+08  1.831223e+08  1.831223e+08  2.528854e+08   \n",
       "3    4.505443e+08  2.602672e+08  1.913892e+08  1.913892e+08  1.875943e+08   \n",
       "6    4.690569e+08  2.387369e+08  1.932470e+08  1.932470e+08  2.299686e+08   \n",
       "9    4.831389e+08  3.724425e+08  2.531031e+08  2.531031e+08  2.857401e+08   \n",
       "12   4.520255e+08  2.344530e+08  1.855528e+08  1.855528e+08  1.823817e+08   \n",
       "..            ...           ...           ...           ...           ...   \n",
       "756  5.506742e+08  1.736489e+08  1.471158e+08  1.471158e+08  2.592504e+08   \n",
       "759  5.763415e+08  3.355894e+08  2.881055e+08  2.881055e+08  3.308782e+08   \n",
       "762  2.239344e+08  1.979400e+08  2.186666e+08  2.186666e+08  3.798451e+08   \n",
       "765  4.699361e+08  3.719480e+08  3.349072e+08  3.349072e+08  2.587659e+08   \n",
       "768  4.531946e+08  2.572853e+08  1.870665e+08  1.870665e+08  2.472342e+08   \n",
       "\n",
       "         710-04-3  \n",
       "0    2.662124e+08  \n",
       "3    2.698756e+08  \n",
       "6    2.549133e+08  \n",
       "9    3.321024e+08  \n",
       "12   2.454637e+08  \n",
       "..            ...  \n",
       "756  3.138085e+08  \n",
       "759  5.460406e+08  \n",
       "762  3.843281e+08  \n",
       "765  3.572876e+08  \n",
       "768  2.817172e+08  \n",
       "\n",
       "[239 rows x 734 columns]"
      ]
     },
     "execution_count": 82,
     "metadata": {},
     "output_type": "execute_result"
    }
   ],
   "source": [
    "data"
   ]
  },
  {
   "cell_type": "code",
   "execution_count": 85,
   "metadata": {},
   "outputs": [],
   "source": [
    "sample_key = \"000920\""
   ]
  },
  {
   "cell_type": "code",
   "execution_count": 86,
   "metadata": {},
   "outputs": [
    {
     "data": {
      "text/html": [
       "<div>\n",
       "<style scoped>\n",
       "    .dataframe tbody tr th:only-of-type {\n",
       "        vertical-align: middle;\n",
       "    }\n",
       "\n",
       "    .dataframe tbody tr th {\n",
       "        vertical-align: top;\n",
       "    }\n",
       "\n",
       "    .dataframe thead th {\n",
       "        text-align: right;\n",
       "    }\n",
       "</style>\n",
       "<table border=\"1\" class=\"dataframe\">\n",
       "  <thead>\n",
       "    <tr style=\"text-align: right;\">\n",
       "      <th></th>\n",
       "      <th>sample_key</th>\n",
       "      <th>replicate</th>\n",
       "      <th>6485-40-1</th>\n",
       "      <th>3033-23-6</th>\n",
       "      <th>21284-22-0</th>\n",
       "      <th>38427-78-0</th>\n",
       "      <th>495-61-4</th>\n",
       "      <th>29873-99-2</th>\n",
       "      <th>6909-30-4</th>\n",
       "      <th>99-49-0</th>\n",
       "      <th>...</th>\n",
       "      <th>13466-78-9</th>\n",
       "      <th>483-76-1</th>\n",
       "      <th>36564-42-8</th>\n",
       "      <th>705-86-2</th>\n",
       "      <th>2825-91-4</th>\n",
       "      <th>713-95-1</th>\n",
       "      <th>20307-84-0</th>\n",
       "      <th>120021-96-7</th>\n",
       "      <th>586-62-9</th>\n",
       "      <th>710-04-3</th>\n",
       "    </tr>\n",
       "  </thead>\n",
       "  <tbody>\n",
       "    <tr>\n",
       "      <th>0</th>\n",
       "      <td>000920</td>\n",
       "      <td>1</td>\n",
       "      <td>1.943542e+08</td>\n",
       "      <td>1.240854e+09</td>\n",
       "      <td>1.048295e+08</td>\n",
       "      <td>9.087319e+07</td>\n",
       "      <td>1.831223e+08</td>\n",
       "      <td>1.831223e+08</td>\n",
       "      <td>6.043091e+08</td>\n",
       "      <td>1.943542e+08</td>\n",
       "      <td>...</td>\n",
       "      <td>2.528854e+08</td>\n",
       "      <td>1.831223e+08</td>\n",
       "      <td>1.048295e+08</td>\n",
       "      <td>4.645706e+08</td>\n",
       "      <td>4.645706e+08</td>\n",
       "      <td>1.893777e+08</td>\n",
       "      <td>1.831223e+08</td>\n",
       "      <td>1.831223e+08</td>\n",
       "      <td>2.528854e+08</td>\n",
       "      <td>2.662124e+08</td>\n",
       "    </tr>\n",
       "  </tbody>\n",
       "</table>\n",
       "<p>1 rows × 660 columns</p>\n",
       "</div>"
      ],
      "text/plain": [
       "  sample_key  replicate     6485-40-1     3033-23-6    21284-22-0  \\\n",
       "0     000920          1  1.943542e+08  1.240854e+09  1.048295e+08   \n",
       "\n",
       "     38427-78-0      495-61-4    29873-99-2     6909-30-4       99-49-0  ...  \\\n",
       "0  9.087319e+07  1.831223e+08  1.831223e+08  6.043091e+08  1.943542e+08  ...   \n",
       "\n",
       "     13466-78-9      483-76-1    36564-42-8      705-86-2     2825-91-4  \\\n",
       "0  2.528854e+08  1.831223e+08  1.048295e+08  4.645706e+08  4.645706e+08   \n",
       "\n",
       "       713-95-1    20307-84-0   120021-96-7      586-62-9      710-04-3  \n",
       "0  1.893777e+08  1.831223e+08  1.831223e+08  2.528854e+08  2.662124e+08  \n",
       "\n",
       "[1 rows x 660 columns]"
      ]
     },
     "execution_count": 86,
     "metadata": {},
     "output_type": "execute_result"
    }
   ],
   "source": [
    "used_data = data[data[\"replicate\"]==1]\n",
    "used_data = used_data[used_data[\"sample_key\"]==sample_key]\n",
    "#filter columns that are 0\n",
    "used_data = used_data.loc[:, (used_data != 0).any(axis=0)]\n",
    "used_data"
   ]
  },
  {
   "cell_type": "code",
   "execution_count": 79,
   "metadata": {},
   "outputs": [
    {
     "data": {
      "text/plain": [
       "'# find rows with biggest variances\\ndf = used_data\\nrow_combinations = list(itertools.combinations(df.index, 2))\\ndistances = [abs(df.loc[i[0]] - df.loc[i[1]]).sum() for i in row_combinations]\\nmax_distance_indices = row_combinations[distances.index(max(distances))]\\nprint(df.loc[max_distance_indices[0]])\\nprint(df.loc[max_distance_indices[1]])\\n#=> sample: 000879 and 000373'"
      ]
     },
     "execution_count": 79,
     "metadata": {},
     "output_type": "execute_result"
    }
   ],
   "source": [
    "'''# find rows with biggest variances\n",
    "df = used_data\n",
    "row_combinations = list(itertools.combinations(df.index, 2))\n",
    "distances = [abs(df.loc[i[0]] - df.loc[i[1]]).sum() for i in row_combinations]\n",
    "max_distance_indices = row_combinations[distances.index(max(distances))]\n",
    "print(df.loc[max_distance_indices[0]])\n",
    "print(df.loc[max_distance_indices[1]])\n",
    "#=> sample: 000879 and 000373'''"
   ]
  },
  {
   "cell_type": "code",
   "execution_count": 87,
   "metadata": {},
   "outputs": [
    {
     "data": {
      "text/html": [
       "<div>\n",
       "<style scoped>\n",
       "    .dataframe tbody tr th:only-of-type {\n",
       "        vertical-align: middle;\n",
       "    }\n",
       "\n",
       "    .dataframe tbody tr th {\n",
       "        vertical-align: top;\n",
       "    }\n",
       "\n",
       "    .dataframe thead th {\n",
       "        text-align: right;\n",
       "    }\n",
       "</style>\n",
       "<table border=\"1\" class=\"dataframe\">\n",
       "  <thead>\n",
       "    <tr style=\"text-align: right;\">\n",
       "      <th></th>\n",
       "      <th>Intensities</th>\n",
       "    </tr>\n",
       "  </thead>\n",
       "  <tbody>\n",
       "    <tr>\n",
       "      <th>3033-23-6</th>\n",
       "      <td>1.240854e+09</td>\n",
       "    </tr>\n",
       "    <tr>\n",
       "      <th>876-17-5</th>\n",
       "      <td>1.240854e+09</td>\n",
       "    </tr>\n",
       "    <tr>\n",
       "      <th>07.11.5258</th>\n",
       "      <td>1.240854e+09</td>\n",
       "    </tr>\n",
       "    <tr>\n",
       "      <th>21662-09-9</th>\n",
       "      <td>1.240854e+09</td>\n",
       "    </tr>\n",
       "    <tr>\n",
       "      <th>491-04-3</th>\n",
       "      <td>1.240854e+09</td>\n",
       "    </tr>\n",
       "    <tr>\n",
       "      <th>562-74-3</th>\n",
       "      <td>1.240854e+09</td>\n",
       "    </tr>\n",
       "    <tr>\n",
       "      <th>470-67-7</th>\n",
       "      <td>1.240854e+09</td>\n",
       "    </tr>\n",
       "    <tr>\n",
       "      <th>470-82-6</th>\n",
       "      <td>1.240854e+09</td>\n",
       "    </tr>\n",
       "    <tr>\n",
       "      <th>2497-25-8</th>\n",
       "      <td>1.240854e+09</td>\n",
       "    </tr>\n",
       "    <tr>\n",
       "      <th>3913-71-1</th>\n",
       "      <td>1.240854e+09</td>\n",
       "    </tr>\n",
       "    <tr>\n",
       "      <th>3913-81-3</th>\n",
       "      <td>1.240854e+09</td>\n",
       "    </tr>\n",
       "    <tr>\n",
       "      <th>4861-58-9</th>\n",
       "      <td>1.240854e+09</td>\n",
       "    </tr>\n",
       "    <tr>\n",
       "      <th>586-82-3</th>\n",
       "      <td>1.240854e+09</td>\n",
       "    </tr>\n",
       "    <tr>\n",
       "      <th>105683-99-6</th>\n",
       "      <td>1.240854e+09</td>\n",
       "    </tr>\n",
       "    <tr>\n",
       "      <th>147159-48-6</th>\n",
       "      <td>1.240854e+09</td>\n",
       "    </tr>\n",
       "    <tr>\n",
       "      <th>29887-38-5</th>\n",
       "      <td>1.240854e+09</td>\n",
       "    </tr>\n",
       "    <tr>\n",
       "      <th>507-70-0</th>\n",
       "      <td>1.240854e+09</td>\n",
       "    </tr>\n",
       "    <tr>\n",
       "      <th>465-31-6</th>\n",
       "      <td>1.240854e+09</td>\n",
       "    </tr>\n",
       "    <tr>\n",
       "      <th>15537-55-0</th>\n",
       "      <td>1.240854e+09</td>\n",
       "    </tr>\n",
       "    <tr>\n",
       "      <th>106-23-0</th>\n",
       "      <td>1.240854e+09</td>\n",
       "    </tr>\n",
       "    <tr>\n",
       "      <th>619-01-2</th>\n",
       "      <td>1.240854e+09</td>\n",
       "    </tr>\n",
       "    <tr>\n",
       "      <th>128386-31-2</th>\n",
       "      <td>1.240854e+09</td>\n",
       "    </tr>\n",
       "    <tr>\n",
       "      <th>1632-73-1</th>\n",
       "      <td>1.240854e+09</td>\n",
       "    </tr>\n",
       "    <tr>\n",
       "      <th>106-24-1</th>\n",
       "      <td>1.240854e+09</td>\n",
       "    </tr>\n",
       "    <tr>\n",
       "      <th>124-76-5</th>\n",
       "      <td>1.240854e+09</td>\n",
       "    </tr>\n",
       "    <tr>\n",
       "      <th>18675-35-9</th>\n",
       "      <td>1.240854e+09</td>\n",
       "    </tr>\n",
       "    <tr>\n",
       "      <th>16750-94-0</th>\n",
       "      <td>1.240854e+09</td>\n",
       "    </tr>\n",
       "    <tr>\n",
       "      <th>5944-20-7</th>\n",
       "      <td>1.240854e+09</td>\n",
       "    </tr>\n",
       "    <tr>\n",
       "      <th>498-16-8</th>\n",
       "      <td>1.240854e+09</td>\n",
       "    </tr>\n",
       "    <tr>\n",
       "      <th>78-70-6</th>\n",
       "      <td>1.240854e+09</td>\n",
       "    </tr>\n",
       "    <tr>\n",
       "      <th>89-80-5</th>\n",
       "      <td>1.240854e+09</td>\n",
       "    </tr>\n",
       "    <tr>\n",
       "      <th>10458-14-7</th>\n",
       "      <td>1.240854e+09</td>\n",
       "    </tr>\n",
       "    <tr>\n",
       "      <th>106-25-2</th>\n",
       "      <td>1.240854e+09</td>\n",
       "    </tr>\n",
       "    <tr>\n",
       "      <th>619-62-5</th>\n",
       "      <td>1.240854e+09</td>\n",
       "    </tr>\n",
       "    <tr>\n",
       "      <th>18479-68-0</th>\n",
       "      <td>1.240854e+09</td>\n",
       "    </tr>\n",
       "    <tr>\n",
       "      <th>16721-39-4</th>\n",
       "      <td>1.240854e+09</td>\n",
       "    </tr>\n",
       "    <tr>\n",
       "      <th>91-10-1</th>\n",
       "      <td>1.240854e+09</td>\n",
       "    </tr>\n",
       "    <tr>\n",
       "      <th>17699-16-0</th>\n",
       "      <td>1.240854e+09</td>\n",
       "    </tr>\n",
       "    <tr>\n",
       "      <th>14575-74-7</th>\n",
       "      <td>1.240854e+09</td>\n",
       "    </tr>\n",
       "    <tr>\n",
       "      <th>98-55-5</th>\n",
       "      <td>1.240854e+09</td>\n",
       "    </tr>\n",
       "    <tr>\n",
       "      <th>138-87-4</th>\n",
       "      <td>1.240854e+09</td>\n",
       "    </tr>\n",
       "    <tr>\n",
       "      <th>541-58-2</th>\n",
       "      <td>1.235601e+09</td>\n",
       "    </tr>\n",
       "    <tr>\n",
       "      <th>3581-91-7</th>\n",
       "      <td>1.235601e+09</td>\n",
       "    </tr>\n",
       "    <tr>\n",
       "      <th>20407-84-5</th>\n",
       "      <td>8.011654e+08</td>\n",
       "    </tr>\n",
       "    <tr>\n",
       "      <th>134346-43-3</th>\n",
       "      <td>8.011654e+08</td>\n",
       "    </tr>\n",
       "    <tr>\n",
       "      <th>19700-21-1</th>\n",
       "      <td>8.011654e+08</td>\n",
       "    </tr>\n",
       "    <tr>\n",
       "      <th>1200-67-5</th>\n",
       "      <td>8.011654e+08</td>\n",
       "    </tr>\n",
       "    <tr>\n",
       "      <th>115-99-1</th>\n",
       "      <td>8.011654e+08</td>\n",
       "    </tr>\n",
       "    <tr>\n",
       "      <th>1189-09-9</th>\n",
       "      <td>8.011654e+08</td>\n",
       "    </tr>\n",
       "    <tr>\n",
       "      <th>3943-74-6</th>\n",
       "      <td>8.011654e+08</td>\n",
       "    </tr>\n",
       "  </tbody>\n",
       "</table>\n",
       "</div>"
      ],
      "text/plain": [
       "              Intensities\n",
       "3033-23-6    1.240854e+09\n",
       "876-17-5     1.240854e+09\n",
       "07.11.5258   1.240854e+09\n",
       "21662-09-9   1.240854e+09\n",
       "491-04-3     1.240854e+09\n",
       "562-74-3     1.240854e+09\n",
       "470-67-7     1.240854e+09\n",
       "470-82-6     1.240854e+09\n",
       "2497-25-8    1.240854e+09\n",
       "3913-71-1    1.240854e+09\n",
       "3913-81-3    1.240854e+09\n",
       "4861-58-9    1.240854e+09\n",
       "586-82-3     1.240854e+09\n",
       "105683-99-6  1.240854e+09\n",
       "147159-48-6  1.240854e+09\n",
       "29887-38-5   1.240854e+09\n",
       "507-70-0     1.240854e+09\n",
       "465-31-6     1.240854e+09\n",
       "15537-55-0   1.240854e+09\n",
       "106-23-0     1.240854e+09\n",
       "619-01-2     1.240854e+09\n",
       "128386-31-2  1.240854e+09\n",
       "1632-73-1    1.240854e+09\n",
       "106-24-1     1.240854e+09\n",
       "124-76-5     1.240854e+09\n",
       "18675-35-9   1.240854e+09\n",
       "16750-94-0   1.240854e+09\n",
       "5944-20-7    1.240854e+09\n",
       "498-16-8     1.240854e+09\n",
       "78-70-6      1.240854e+09\n",
       "89-80-5      1.240854e+09\n",
       "10458-14-7   1.240854e+09\n",
       "106-25-2     1.240854e+09\n",
       "619-62-5     1.240854e+09\n",
       "18479-68-0   1.240854e+09\n",
       "16721-39-4   1.240854e+09\n",
       "91-10-1      1.240854e+09\n",
       "17699-16-0   1.240854e+09\n",
       "14575-74-7   1.240854e+09\n",
       "98-55-5      1.240854e+09\n",
       "138-87-4     1.240854e+09\n",
       "541-58-2     1.235601e+09\n",
       "3581-91-7    1.235601e+09\n",
       "20407-84-5   8.011654e+08\n",
       "134346-43-3  8.011654e+08\n",
       "19700-21-1   8.011654e+08\n",
       "1200-67-5    8.011654e+08\n",
       "115-99-1     8.011654e+08\n",
       "1189-09-9    8.011654e+08\n",
       "3943-74-6    8.011654e+08"
      ]
     },
     "execution_count": 87,
     "metadata": {},
     "output_type": "execute_result"
    }
   ],
   "source": [
    "used_data = used_data.drop(columns=['sample_key', 'replicate'])\n",
    "#largest_entries = used_data.iloc[0].nlargest(100)\n",
    "largest_entries = used_data.iloc[0].nlargest(50)\n",
    "\n",
    "# Create a new DataFrame with only the largest entries\n",
    "data_top50 = pd.DataFrame({'Intensities': largest_entries})\n",
    "data_top50"
   ]
  },
  {
   "cell_type": "code",
   "execution_count": 19,
   "metadata": {},
   "outputs": [],
   "source": [
    "ms_cas = list(data_top50.index)"
   ]
  },
  {
   "cell_type": "code",
   "execution_count": 20,
   "metadata": {},
   "outputs": [],
   "source": [
    "intensities = list(data_top50['Intensities'])"
   ]
  },
  {
   "cell_type": "markdown",
   "metadata": {},
   "source": [
    "<span style=\"color:#FBB714\">I_vector</span> : dataframe with *molecules x intensities*"
   ]
  },
  {
   "cell_type": "code",
   "execution_count": 21,
   "metadata": {},
   "outputs": [
    {
     "data": {
      "text/html": [
       "<div>\n",
       "<style scoped>\n",
       "    .dataframe tbody tr th:only-of-type {\n",
       "        vertical-align: middle;\n",
       "    }\n",
       "\n",
       "    .dataframe tbody tr th {\n",
       "        vertical-align: top;\n",
       "    }\n",
       "\n",
       "    .dataframe thead th {\n",
       "        text-align: right;\n",
       "    }\n",
       "</style>\n",
       "<table border=\"1\" class=\"dataframe\">\n",
       "  <thead>\n",
       "    <tr style=\"text-align: right;\">\n",
       "      <th></th>\n",
       "      <th>intensities</th>\n",
       "    </tr>\n",
       "  </thead>\n",
       "  <tbody>\n",
       "    <tr>\n",
       "      <th>3033-23-6</th>\n",
       "      <td>1.240854e+09</td>\n",
       "    </tr>\n",
       "    <tr>\n",
       "      <th>876-17-5</th>\n",
       "      <td>1.240854e+09</td>\n",
       "    </tr>\n",
       "    <tr>\n",
       "      <th>07.11.5258</th>\n",
       "      <td>1.240854e+09</td>\n",
       "    </tr>\n",
       "    <tr>\n",
       "      <th>21662-09-9</th>\n",
       "      <td>1.240854e+09</td>\n",
       "    </tr>\n",
       "    <tr>\n",
       "      <th>491-04-3</th>\n",
       "      <td>1.240854e+09</td>\n",
       "    </tr>\n",
       "    <tr>\n",
       "      <th>562-74-3</th>\n",
       "      <td>1.240854e+09</td>\n",
       "    </tr>\n",
       "    <tr>\n",
       "      <th>470-67-7</th>\n",
       "      <td>1.240854e+09</td>\n",
       "    </tr>\n",
       "    <tr>\n",
       "      <th>470-82-6</th>\n",
       "      <td>1.240854e+09</td>\n",
       "    </tr>\n",
       "    <tr>\n",
       "      <th>2497-25-8</th>\n",
       "      <td>1.240854e+09</td>\n",
       "    </tr>\n",
       "    <tr>\n",
       "      <th>3913-71-1</th>\n",
       "      <td>1.240854e+09</td>\n",
       "    </tr>\n",
       "    <tr>\n",
       "      <th>3913-81-3</th>\n",
       "      <td>1.240854e+09</td>\n",
       "    </tr>\n",
       "    <tr>\n",
       "      <th>4861-58-9</th>\n",
       "      <td>1.240854e+09</td>\n",
       "    </tr>\n",
       "    <tr>\n",
       "      <th>586-82-3</th>\n",
       "      <td>1.240854e+09</td>\n",
       "    </tr>\n",
       "    <tr>\n",
       "      <th>105683-99-6</th>\n",
       "      <td>1.240854e+09</td>\n",
       "    </tr>\n",
       "    <tr>\n",
       "      <th>147159-48-6</th>\n",
       "      <td>1.240854e+09</td>\n",
       "    </tr>\n",
       "    <tr>\n",
       "      <th>29887-38-5</th>\n",
       "      <td>1.240854e+09</td>\n",
       "    </tr>\n",
       "    <tr>\n",
       "      <th>507-70-0</th>\n",
       "      <td>1.240854e+09</td>\n",
       "    </tr>\n",
       "    <tr>\n",
       "      <th>465-31-6</th>\n",
       "      <td>1.240854e+09</td>\n",
       "    </tr>\n",
       "    <tr>\n",
       "      <th>15537-55-0</th>\n",
       "      <td>1.240854e+09</td>\n",
       "    </tr>\n",
       "    <tr>\n",
       "      <th>106-23-0</th>\n",
       "      <td>1.240854e+09</td>\n",
       "    </tr>\n",
       "    <tr>\n",
       "      <th>619-01-2</th>\n",
       "      <td>1.240854e+09</td>\n",
       "    </tr>\n",
       "    <tr>\n",
       "      <th>128386-31-2</th>\n",
       "      <td>1.240854e+09</td>\n",
       "    </tr>\n",
       "    <tr>\n",
       "      <th>1632-73-1</th>\n",
       "      <td>1.240854e+09</td>\n",
       "    </tr>\n",
       "    <tr>\n",
       "      <th>106-24-1</th>\n",
       "      <td>1.240854e+09</td>\n",
       "    </tr>\n",
       "    <tr>\n",
       "      <th>124-76-5</th>\n",
       "      <td>1.240854e+09</td>\n",
       "    </tr>\n",
       "    <tr>\n",
       "      <th>18675-35-9</th>\n",
       "      <td>1.240854e+09</td>\n",
       "    </tr>\n",
       "    <tr>\n",
       "      <th>16750-94-0</th>\n",
       "      <td>1.240854e+09</td>\n",
       "    </tr>\n",
       "    <tr>\n",
       "      <th>5944-20-7</th>\n",
       "      <td>1.240854e+09</td>\n",
       "    </tr>\n",
       "    <tr>\n",
       "      <th>498-16-8</th>\n",
       "      <td>1.240854e+09</td>\n",
       "    </tr>\n",
       "    <tr>\n",
       "      <th>78-70-6</th>\n",
       "      <td>1.240854e+09</td>\n",
       "    </tr>\n",
       "    <tr>\n",
       "      <th>89-80-5</th>\n",
       "      <td>1.240854e+09</td>\n",
       "    </tr>\n",
       "    <tr>\n",
       "      <th>10458-14-7</th>\n",
       "      <td>1.240854e+09</td>\n",
       "    </tr>\n",
       "    <tr>\n",
       "      <th>106-25-2</th>\n",
       "      <td>1.240854e+09</td>\n",
       "    </tr>\n",
       "    <tr>\n",
       "      <th>619-62-5</th>\n",
       "      <td>1.240854e+09</td>\n",
       "    </tr>\n",
       "    <tr>\n",
       "      <th>18479-68-0</th>\n",
       "      <td>1.240854e+09</td>\n",
       "    </tr>\n",
       "    <tr>\n",
       "      <th>16721-39-4</th>\n",
       "      <td>1.240854e+09</td>\n",
       "    </tr>\n",
       "    <tr>\n",
       "      <th>91-10-1</th>\n",
       "      <td>1.240854e+09</td>\n",
       "    </tr>\n",
       "    <tr>\n",
       "      <th>17699-16-0</th>\n",
       "      <td>1.240854e+09</td>\n",
       "    </tr>\n",
       "    <tr>\n",
       "      <th>14575-74-7</th>\n",
       "      <td>1.240854e+09</td>\n",
       "    </tr>\n",
       "    <tr>\n",
       "      <th>98-55-5</th>\n",
       "      <td>1.240854e+09</td>\n",
       "    </tr>\n",
       "    <tr>\n",
       "      <th>138-87-4</th>\n",
       "      <td>1.240854e+09</td>\n",
       "    </tr>\n",
       "    <tr>\n",
       "      <th>541-58-2</th>\n",
       "      <td>1.235601e+09</td>\n",
       "    </tr>\n",
       "    <tr>\n",
       "      <th>3581-91-7</th>\n",
       "      <td>1.235601e+09</td>\n",
       "    </tr>\n",
       "    <tr>\n",
       "      <th>20407-84-5</th>\n",
       "      <td>8.011654e+08</td>\n",
       "    </tr>\n",
       "    <tr>\n",
       "      <th>134346-43-3</th>\n",
       "      <td>8.011654e+08</td>\n",
       "    </tr>\n",
       "    <tr>\n",
       "      <th>19700-21-1</th>\n",
       "      <td>8.011654e+08</td>\n",
       "    </tr>\n",
       "    <tr>\n",
       "      <th>1200-67-5</th>\n",
       "      <td>8.011654e+08</td>\n",
       "    </tr>\n",
       "    <tr>\n",
       "      <th>115-99-1</th>\n",
       "      <td>8.011654e+08</td>\n",
       "    </tr>\n",
       "    <tr>\n",
       "      <th>1189-09-9</th>\n",
       "      <td>8.011654e+08</td>\n",
       "    </tr>\n",
       "    <tr>\n",
       "      <th>3943-74-6</th>\n",
       "      <td>8.011654e+08</td>\n",
       "    </tr>\n",
       "  </tbody>\n",
       "</table>\n",
       "</div>"
      ],
      "text/plain": [
       "              intensities\n",
       "3033-23-6    1.240854e+09\n",
       "876-17-5     1.240854e+09\n",
       "07.11.5258   1.240854e+09\n",
       "21662-09-9   1.240854e+09\n",
       "491-04-3     1.240854e+09\n",
       "562-74-3     1.240854e+09\n",
       "470-67-7     1.240854e+09\n",
       "470-82-6     1.240854e+09\n",
       "2497-25-8    1.240854e+09\n",
       "3913-71-1    1.240854e+09\n",
       "3913-81-3    1.240854e+09\n",
       "4861-58-9    1.240854e+09\n",
       "586-82-3     1.240854e+09\n",
       "105683-99-6  1.240854e+09\n",
       "147159-48-6  1.240854e+09\n",
       "29887-38-5   1.240854e+09\n",
       "507-70-0     1.240854e+09\n",
       "465-31-6     1.240854e+09\n",
       "15537-55-0   1.240854e+09\n",
       "106-23-0     1.240854e+09\n",
       "619-01-2     1.240854e+09\n",
       "128386-31-2  1.240854e+09\n",
       "1632-73-1    1.240854e+09\n",
       "106-24-1     1.240854e+09\n",
       "124-76-5     1.240854e+09\n",
       "18675-35-9   1.240854e+09\n",
       "16750-94-0   1.240854e+09\n",
       "5944-20-7    1.240854e+09\n",
       "498-16-8     1.240854e+09\n",
       "78-70-6      1.240854e+09\n",
       "89-80-5      1.240854e+09\n",
       "10458-14-7   1.240854e+09\n",
       "106-25-2     1.240854e+09\n",
       "619-62-5     1.240854e+09\n",
       "18479-68-0   1.240854e+09\n",
       "16721-39-4   1.240854e+09\n",
       "91-10-1      1.240854e+09\n",
       "17699-16-0   1.240854e+09\n",
       "14575-74-7   1.240854e+09\n",
       "98-55-5      1.240854e+09\n",
       "138-87-4     1.240854e+09\n",
       "541-58-2     1.235601e+09\n",
       "3581-91-7    1.235601e+09\n",
       "20407-84-5   8.011654e+08\n",
       "134346-43-3  8.011654e+08\n",
       "19700-21-1   8.011654e+08\n",
       "1200-67-5    8.011654e+08\n",
       "115-99-1     8.011654e+08\n",
       "1189-09-9    8.011654e+08\n",
       "3943-74-6    8.011654e+08"
      ]
     },
     "execution_count": 21,
     "metadata": {},
     "output_type": "execute_result"
    }
   ],
   "source": [
    "#I_vector = pd.DataFrame(data = mol_int, index = [\"intensities\"]).T\n",
    "I_vector = pd.DataFrame(data= intensities,index = ms_cas, columns=[\"intensities\"])\n",
    "I_vector"
   ]
  },
  {
   "attachments": {},
   "cell_type": "markdown",
   "metadata": {},
   "source": [
    "#### 2. Molecules ----- Flavornet -----> OD \n",
    "Find ODs by matching molecules with databases using Flavornet\n",
    "\n",
    "<span style=\"color:lightblue\">CAS_to_odorants.csv</span> : table with following columns - molecule, CAS, Mol wt, odorant\n"
   ]
  },
  {
   "attachments": {},
   "cell_type": "markdown",
   "metadata": {},
   "source": [
    "##### table manipualtion done in R"
   ]
  },
  {
   "attachments": {},
   "cell_type": "markdown",
   "metadata": {},
   "source": [
    "```r\n",
    "library(rlang)\n",
    "library(tidyverse)\n",
    "\n",
    "CAS_to_odorants <- read.table(\"~/Bioinformatik_20.21/Bachelorarbeit/CAS_to_mol.txt\", sep = \"\\t\", header = FALSE)\n",
    "OD_to_mol <- read.table(\"~/Bioinformatik_20.21/Bachelorarbeit/OD_mol.txt\", sep = \"\\t\", header = FALSE)\n",
    "\n",
    "OD_to_mol_sep <- OD_to_mol %>%\n",
    "  separate_rows(V2, sep = \";\\\\s*\") %>%\n",
    "  mutate(V2 = trimws(V2))\n",
    "OD_to_mol_final <- OD_to_mol_sep[, c(\"V2\",\"V1\")]\n",
    "colnames(OD_to_mol_final) <- c(\"molecule\", \"OD\")\n",
    "\n",
    "CAS_to_odorants_sep <- CAS_to_odorants %>%\n",
    "  separate_rows(V3, sep = \";\\\\s*\") %>%\n",
    "  mutate(V3 = trimws(V3))\n",
    "colnames(CAS_to_odorants_sep) <- c(\"CAS\",\"Mol Wt\", \"molecule\")\n",
    "\n",
    "\n",
    "merged_df <- merge(CAS_to_odorants_sep, OD_to_mol_final, by = \"molecule\")\n",
    "write.csv(merged_df, file = \"~/Bioinformatik_20.21/Bachelorarbeit/CAS_mol_OD.csv\", row.names = FALSE)\n",
    "```"
   ]
  },
  {
   "cell_type": "markdown",
   "metadata": {},
   "source": [
    "*Flavornet only*"
   ]
  },
  {
   "attachments": {},
   "cell_type": "markdown",
   "metadata": {},
   "source": [
    "<span style=\"color:lightblue\">mol_to_OD</span> : dict where key is the molecule and the descriptors for these molecules are the values"
   ]
  },
  {
   "cell_type": "code",
   "execution_count": 22,
   "metadata": {},
   "outputs": [],
   "source": [
    "'''\n",
    "read flavornet data and save it in mol_to_OD\n",
    "'''\n",
    "# only using flavornet data\n",
    "mol_to_OD = {}\n",
    "molecules = []\n",
    "descriptors = []\n",
    "CAS_numbers= []\n",
    "with open('./data/CAS_mol_OD.csv', 'r',encoding='utf-8') as tabfile:\n",
    "    reader = csv.reader(tabfile, delimiter=',')\n",
    "    for row in reader: \n",
    "        molecule = row[0]\n",
    "        CAS = row[1]\n",
    "        OD = row[3]\n",
    "        molecules.append(molecule)\n",
    "        CAS_numbers.append(CAS)\n",
    "        descriptors.append(OD)\n",
    "        if CAS in mol_to_OD:\n",
    "            mol_to_OD[CAS].add(OD)\n",
    "        else:\n",
    "            mol_to_OD[CAS]  = set([OD])\n",
    "\n",
    "\n",
    "CAS_numbers = list(set(CAS_numbers))\n",
    "#list with all molecules from flavornet\n",
    "molecules = list(set(molecules))\n",
    "# list of all individual descriptors/ODs\n",
    "descriptors = list(set(descriptors))"
   ]
  },
  {
   "cell_type": "markdown",
   "metadata": {},
   "source": [
    "<span style=\"color:#FBB714\">D</span>: Dataframe with all *molecules x ODs* - rigth now only flavornet database"
   ]
  },
  {
   "cell_type": "code",
   "execution_count": 23,
   "metadata": {},
   "outputs": [],
   "source": [
    "D = pd.DataFrame(index=CAS_numbers, columns=descriptors)"
   ]
  },
  {
   "cell_type": "code",
   "execution_count": 24,
   "metadata": {},
   "outputs": [
    {
     "data": {
      "text/html": [
       "<div>\n",
       "<style scoped>\n",
       "    .dataframe tbody tr th:only-of-type {\n",
       "        vertical-align: middle;\n",
       "    }\n",
       "\n",
       "    .dataframe tbody tr th {\n",
       "        vertical-align: top;\n",
       "    }\n",
       "\n",
       "    .dataframe thead th {\n",
       "        text-align: right;\n",
       "    }\n",
       "</style>\n",
       "<table border=\"1\" class=\"dataframe\">\n",
       "  <thead>\n",
       "    <tr style=\"text-align: right;\">\n",
       "      <th></th>\n",
       "      <th>apple peel</th>\n",
       "      <th>tomato leaf</th>\n",
       "      <th>coconut</th>\n",
       "      <th>coumarin</th>\n",
       "      <th>dill</th>\n",
       "      <th>crushed bug</th>\n",
       "      <th>amine</th>\n",
       "      <th>burnt sugar</th>\n",
       "      <th>smoke</th>\n",
       "      <th>wine</th>\n",
       "      <th>...</th>\n",
       "      <th>urine</th>\n",
       "      <th>tallow</th>\n",
       "      <th>medicine</th>\n",
       "      <th>jasmine</th>\n",
       "      <th>cream</th>\n",
       "      <th>fruit</th>\n",
       "      <th>fried</th>\n",
       "      <th>caramel</th>\n",
       "      <th>grapefruit</th>\n",
       "      <th>must</th>\n",
       "    </tr>\n",
       "  </thead>\n",
       "  <tbody>\n",
       "    <tr>\n",
       "      <th>25343-57-1</th>\n",
       "      <td>0</td>\n",
       "      <td>0</td>\n",
       "      <td>0</td>\n",
       "      <td>0</td>\n",
       "      <td>0</td>\n",
       "      <td>0</td>\n",
       "      <td>0</td>\n",
       "      <td>0</td>\n",
       "      <td>0</td>\n",
       "      <td>0</td>\n",
       "      <td>...</td>\n",
       "      <td>0</td>\n",
       "      <td>0</td>\n",
       "      <td>0</td>\n",
       "      <td>0</td>\n",
       "      <td>0</td>\n",
       "      <td>0</td>\n",
       "      <td>0</td>\n",
       "      <td>1</td>\n",
       "      <td>0</td>\n",
       "      <td>0</td>\n",
       "    </tr>\n",
       "    <tr>\n",
       "      <th>6125-24-2</th>\n",
       "      <td>0</td>\n",
       "      <td>0</td>\n",
       "      <td>0</td>\n",
       "      <td>0</td>\n",
       "      <td>0</td>\n",
       "      <td>0</td>\n",
       "      <td>0</td>\n",
       "      <td>0</td>\n",
       "      <td>0</td>\n",
       "      <td>0</td>\n",
       "      <td>...</td>\n",
       "      <td>0</td>\n",
       "      <td>0</td>\n",
       "      <td>0</td>\n",
       "      <td>0</td>\n",
       "      <td>0</td>\n",
       "      <td>0</td>\n",
       "      <td>0</td>\n",
       "      <td>0</td>\n",
       "      <td>0</td>\n",
       "      <td>0</td>\n",
       "    </tr>\n",
       "    <tr>\n",
       "      <th>589-75-3</th>\n",
       "      <td>0</td>\n",
       "      <td>0</td>\n",
       "      <td>0</td>\n",
       "      <td>0</td>\n",
       "      <td>0</td>\n",
       "      <td>0</td>\n",
       "      <td>0</td>\n",
       "      <td>0</td>\n",
       "      <td>0</td>\n",
       "      <td>0</td>\n",
       "      <td>...</td>\n",
       "      <td>0</td>\n",
       "      <td>0</td>\n",
       "      <td>0</td>\n",
       "      <td>0</td>\n",
       "      <td>0</td>\n",
       "      <td>1</td>\n",
       "      <td>0</td>\n",
       "      <td>0</td>\n",
       "      <td>0</td>\n",
       "      <td>0</td>\n",
       "    </tr>\n",
       "    <tr>\n",
       "      <th>1197-07-5</th>\n",
       "      <td>0</td>\n",
       "      <td>0</td>\n",
       "      <td>0</td>\n",
       "      <td>0</td>\n",
       "      <td>0</td>\n",
       "      <td>0</td>\n",
       "      <td>0</td>\n",
       "      <td>0</td>\n",
       "      <td>0</td>\n",
       "      <td>0</td>\n",
       "      <td>...</td>\n",
       "      <td>0</td>\n",
       "      <td>0</td>\n",
       "      <td>0</td>\n",
       "      <td>0</td>\n",
       "      <td>0</td>\n",
       "      <td>0</td>\n",
       "      <td>0</td>\n",
       "      <td>0</td>\n",
       "      <td>0</td>\n",
       "      <td>0</td>\n",
       "    </tr>\n",
       "    <tr>\n",
       "      <th>106-68-3</th>\n",
       "      <td>0</td>\n",
       "      <td>0</td>\n",
       "      <td>0</td>\n",
       "      <td>0</td>\n",
       "      <td>0</td>\n",
       "      <td>0</td>\n",
       "      <td>0</td>\n",
       "      <td>0</td>\n",
       "      <td>0</td>\n",
       "      <td>0</td>\n",
       "      <td>...</td>\n",
       "      <td>0</td>\n",
       "      <td>0</td>\n",
       "      <td>0</td>\n",
       "      <td>0</td>\n",
       "      <td>0</td>\n",
       "      <td>0</td>\n",
       "      <td>0</td>\n",
       "      <td>0</td>\n",
       "      <td>0</td>\n",
       "      <td>0</td>\n",
       "    </tr>\n",
       "    <tr>\n",
       "      <th>...</th>\n",
       "      <td>...</td>\n",
       "      <td>...</td>\n",
       "      <td>...</td>\n",
       "      <td>...</td>\n",
       "      <td>...</td>\n",
       "      <td>...</td>\n",
       "      <td>...</td>\n",
       "      <td>...</td>\n",
       "      <td>...</td>\n",
       "      <td>...</td>\n",
       "      <td>...</td>\n",
       "      <td>...</td>\n",
       "      <td>...</td>\n",
       "      <td>...</td>\n",
       "      <td>...</td>\n",
       "      <td>...</td>\n",
       "      <td>...</td>\n",
       "      <td>...</td>\n",
       "      <td>...</td>\n",
       "      <td>...</td>\n",
       "      <td>...</td>\n",
       "    </tr>\n",
       "    <tr>\n",
       "      <th>538-86-3</th>\n",
       "      <td>0</td>\n",
       "      <td>0</td>\n",
       "      <td>0</td>\n",
       "      <td>0</td>\n",
       "      <td>0</td>\n",
       "      <td>0</td>\n",
       "      <td>0</td>\n",
       "      <td>0</td>\n",
       "      <td>0</td>\n",
       "      <td>0</td>\n",
       "      <td>...</td>\n",
       "      <td>0</td>\n",
       "      <td>0</td>\n",
       "      <td>0</td>\n",
       "      <td>0</td>\n",
       "      <td>0</td>\n",
       "      <td>0</td>\n",
       "      <td>0</td>\n",
       "      <td>0</td>\n",
       "      <td>0</td>\n",
       "      <td>0</td>\n",
       "    </tr>\n",
       "    <tr>\n",
       "      <th>4586-22-5</th>\n",
       "      <td>0</td>\n",
       "      <td>0</td>\n",
       "      <td>0</td>\n",
       "      <td>0</td>\n",
       "      <td>0</td>\n",
       "      <td>0</td>\n",
       "      <td>0</td>\n",
       "      <td>0</td>\n",
       "      <td>0</td>\n",
       "      <td>0</td>\n",
       "      <td>...</td>\n",
       "      <td>0</td>\n",
       "      <td>0</td>\n",
       "      <td>0</td>\n",
       "      <td>0</td>\n",
       "      <td>0</td>\n",
       "      <td>0</td>\n",
       "      <td>0</td>\n",
       "      <td>0</td>\n",
       "      <td>0</td>\n",
       "      <td>0</td>\n",
       "    </tr>\n",
       "    <tr>\n",
       "      <th>638-67-5</th>\n",
       "      <td>0</td>\n",
       "      <td>0</td>\n",
       "      <td>0</td>\n",
       "      <td>0</td>\n",
       "      <td>0</td>\n",
       "      <td>0</td>\n",
       "      <td>0</td>\n",
       "      <td>0</td>\n",
       "      <td>0</td>\n",
       "      <td>0</td>\n",
       "      <td>...</td>\n",
       "      <td>0</td>\n",
       "      <td>0</td>\n",
       "      <td>0</td>\n",
       "      <td>0</td>\n",
       "      <td>0</td>\n",
       "      <td>0</td>\n",
       "      <td>0</td>\n",
       "      <td>0</td>\n",
       "      <td>0</td>\n",
       "      <td>0</td>\n",
       "    </tr>\n",
       "    <tr>\n",
       "      <th>31501-11-8</th>\n",
       "      <td>0</td>\n",
       "      <td>0</td>\n",
       "      <td>0</td>\n",
       "      <td>0</td>\n",
       "      <td>0</td>\n",
       "      <td>0</td>\n",
       "      <td>0</td>\n",
       "      <td>0</td>\n",
       "      <td>0</td>\n",
       "      <td>0</td>\n",
       "      <td>...</td>\n",
       "      <td>0</td>\n",
       "      <td>0</td>\n",
       "      <td>0</td>\n",
       "      <td>0</td>\n",
       "      <td>0</td>\n",
       "      <td>1</td>\n",
       "      <td>0</td>\n",
       "      <td>0</td>\n",
       "      <td>0</td>\n",
       "      <td>0</td>\n",
       "    </tr>\n",
       "    <tr>\n",
       "      <th>95-47-6</th>\n",
       "      <td>0</td>\n",
       "      <td>0</td>\n",
       "      <td>0</td>\n",
       "      <td>0</td>\n",
       "      <td>0</td>\n",
       "      <td>0</td>\n",
       "      <td>0</td>\n",
       "      <td>0</td>\n",
       "      <td>0</td>\n",
       "      <td>0</td>\n",
       "      <td>...</td>\n",
       "      <td>0</td>\n",
       "      <td>0</td>\n",
       "      <td>0</td>\n",
       "      <td>0</td>\n",
       "      <td>0</td>\n",
       "      <td>0</td>\n",
       "      <td>0</td>\n",
       "      <td>0</td>\n",
       "      <td>0</td>\n",
       "      <td>0</td>\n",
       "    </tr>\n",
       "  </tbody>\n",
       "</table>\n",
       "<p>732 rows × 197 columns</p>\n",
       "</div>"
      ],
      "text/plain": [
       "            apple peel  tomato leaf  coconut  coumarin  dill  crushed bug  \\\n",
       "25343-57-1           0            0        0         0     0            0   \n",
       "6125-24-2            0            0        0         0     0            0   \n",
       "589-75-3             0            0        0         0     0            0   \n",
       "1197-07-5            0            0        0         0     0            0   \n",
       "106-68-3             0            0        0         0     0            0   \n",
       "...                ...          ...      ...       ...   ...          ...   \n",
       "538-86-3             0            0        0         0     0            0   \n",
       "4586-22-5            0            0        0         0     0            0   \n",
       "638-67-5             0            0        0         0     0            0   \n",
       "31501-11-8           0            0        0         0     0            0   \n",
       "95-47-6              0            0        0         0     0            0   \n",
       "\n",
       "            amine  burnt sugar  smoke  wine  ...  urine  tallow  medicine  \\\n",
       "25343-57-1      0            0      0     0  ...      0       0         0   \n",
       "6125-24-2       0            0      0     0  ...      0       0         0   \n",
       "589-75-3        0            0      0     0  ...      0       0         0   \n",
       "1197-07-5       0            0      0     0  ...      0       0         0   \n",
       "106-68-3        0            0      0     0  ...      0       0         0   \n",
       "...           ...          ...    ...   ...  ...    ...     ...       ...   \n",
       "538-86-3        0            0      0     0  ...      0       0         0   \n",
       "4586-22-5       0            0      0     0  ...      0       0         0   \n",
       "638-67-5        0            0      0     0  ...      0       0         0   \n",
       "31501-11-8      0            0      0     0  ...      0       0         0   \n",
       "95-47-6         0            0      0     0  ...      0       0         0   \n",
       "\n",
       "            jasmine  cream  fruit  fried  caramel  grapefruit  must  \n",
       "25343-57-1        0      0      0      0        1           0     0  \n",
       "6125-24-2         0      0      0      0        0           0     0  \n",
       "589-75-3          0      0      1      0        0           0     0  \n",
       "1197-07-5         0      0      0      0        0           0     0  \n",
       "106-68-3          0      0      0      0        0           0     0  \n",
       "...             ...    ...    ...    ...      ...         ...   ...  \n",
       "538-86-3          0      0      0      0        0           0     0  \n",
       "4586-22-5         0      0      0      0        0           0     0  \n",
       "638-67-5          0      0      0      0        0           0     0  \n",
       "31501-11-8        0      0      1      0        0           0     0  \n",
       "95-47-6           0      0      0      0        0           0     0  \n",
       "\n",
       "[732 rows x 197 columns]"
      ]
     },
     "execution_count": 24,
     "metadata": {},
     "output_type": "execute_result"
    }
   ],
   "source": [
    "for col in D.columns:\n",
    "    for index, row in D.iterrows():\n",
    "        # Check if value in  current row matches any entry in the dictionary\n",
    "        if index in mol_to_OD.keys() and col in mol_to_OD[index]:\n",
    "            # Set to 1\n",
    "            D.at[index, col] = 1\n",
    "\n",
    "D = D.fillna(0)\n",
    "D"
   ]
  },
  {
   "attachments": {},
   "cell_type": "markdown",
   "metadata": {},
   "source": [
    "match molecules from MS data with flavors"
   ]
  },
  {
   "cell_type": "code",
   "execution_count": 25,
   "metadata": {},
   "outputs": [],
   "source": [
    "flavors = []\n",
    "mol_flavors = {}\n",
    "for mol in ms_cas:\n",
    "    if mol in mol_to_OD.keys():\n",
    "        flavors += mol_to_OD[mol]\n",
    "        mol_flavors[mol] = mol_to_OD[mol]\n",
    "    else:\n",
    "        mol_flavors[mol] = {}\n",
    "\n",
    "found_flavors = set(flavors)\n"
   ]
  },
  {
   "cell_type": "markdown",
   "metadata": {},
   "source": [
    "<span style=\"color:lightblue\">found_flavors</span>: list of the ODs found from the identified molecules \n"
   ]
  },
  {
   "cell_type": "code",
   "execution_count": 26,
   "metadata": {},
   "outputs": [
    {
     "data": {
      "text/plain": [
       "{'anise',\n",
       " 'balsamic',\n",
       " 'beet',\n",
       " 'butterscotch',\n",
       " 'camphor',\n",
       " 'caramel',\n",
       " 'citrus',\n",
       " 'coriander',\n",
       " 'cucumber',\n",
       " 'earth',\n",
       " 'fat',\n",
       " 'flower',\n",
       " 'fresh',\n",
       " 'fruit',\n",
       " 'geranium',\n",
       " 'green',\n",
       " 'herb',\n",
       " 'lavender',\n",
       " 'medicine',\n",
       " 'metal',\n",
       " 'mint',\n",
       " 'mold',\n",
       " 'must',\n",
       " 'nutmeg',\n",
       " 'oil',\n",
       " 'orange',\n",
       " 'phenol',\n",
       " 'roast',\n",
       " 'rose',\n",
       " 'rubber',\n",
       " 'smoke',\n",
       " 'spice',\n",
       " 'sweet',\n",
       " 'tallow',\n",
       " 'turpentine',\n",
       " 'vanilla',\n",
       " 'wood'}"
      ]
     },
     "execution_count": 26,
     "metadata": {},
     "output_type": "execute_result"
    }
   ],
   "source": [
    "found_flavors"
   ]
  },
  {
   "cell_type": "markdown",
   "metadata": {},
   "source": [
    "\n",
    "<span style=\"color:lightblue\">mol_flavors</span>: contains the molecule from where each OD is coming from "
   ]
  },
  {
   "cell_type": "code",
   "execution_count": 27,
   "metadata": {},
   "outputs": [
    {
     "data": {
      "text/plain": [
       "{'3033-23-6': {'rose', 'sweet'},\n",
       " '876-17-5': {'flower', 'green'},\n",
       " '07.11.5258': {'flower'},\n",
       " '21662-09-9': {'green', 'must'},\n",
       " '491-04-3': {'herb'},\n",
       " '562-74-3': {'must', 'nutmeg', 'turpentine'},\n",
       " '470-67-7': {'spice'},\n",
       " '470-82-6': {'mint', 'sweet'},\n",
       " '2497-25-8': {'orange', 'tallow'},\n",
       " '3913-71-1': {'orange', 'tallow'},\n",
       " '3913-81-3': {'orange', 'tallow'},\n",
       " '4861-58-9': {'fruit', 'sweet'},\n",
       " '586-82-3': {'must'},\n",
       " '105683-99-6': {'cucumber', 'green', 'tallow'},\n",
       " '147159-48-6': {'cucumber', 'green', 'tallow'},\n",
       " '29887-38-5': {'herb'},\n",
       " '507-70-0': {'camphor'},\n",
       " '465-31-6': {'camphor'},\n",
       " '15537-55-0': {'balsamic'},\n",
       " '106-23-0': {'fat'},\n",
       " '619-01-2': {'mint', 'spice'},\n",
       " '128386-31-2': {'metal'},\n",
       " '1632-73-1': {'camphor'},\n",
       " '106-24-1': {'geranium', 'rose'},\n",
       " '124-76-5': {'camphor', 'must'},\n",
       " '18675-35-9': {'spice', 'wood'},\n",
       " '16750-94-0': {'rose'},\n",
       " '5944-20-7': {'rose'},\n",
       " '498-16-8': {'herb'},\n",
       " '78-70-6': {'flower', 'lavender'},\n",
       " '89-80-5': {'fresh', 'green', 'mint'},\n",
       " '10458-14-7': {'fresh', 'green', 'mint'},\n",
       " '106-25-2': {'sweet'},\n",
       " '619-62-5': {'herb'},\n",
       " '18479-68-0': {'fruit', 'herb'},\n",
       " '16721-39-4': {'herb'},\n",
       " '91-10-1': {'medicine', 'phenol', 'smoke'},\n",
       " '17699-16-0': {'balsamic', 'wood'},\n",
       " '14575-74-7': {'camphor'},\n",
       " '98-55-5': {'anise', 'mint', 'oil'},\n",
       " '138-87-4': {'must'},\n",
       " '541-58-2': {'mold', 'roast', 'rubber', 'smoke'},\n",
       " '3581-91-7': {'mold', 'roast', 'rubber', 'smoke'},\n",
       " '20407-84-5': {'fat', 'green', 'sweet'},\n",
       " '134346-43-3': {'metal'},\n",
       " '19700-21-1': {'beet', 'earth'},\n",
       " '1200-67-5': {'camphor', 'earth', 'green'},\n",
       " '115-99-1': {'citrus', 'coriander'},\n",
       " '1189-09-9': {'flower', 'fruit', 'green'},\n",
       " '3943-74-6': {'butterscotch', 'caramel', 'vanilla'}}"
      ]
     },
     "execution_count": 27,
     "metadata": {},
     "output_type": "execute_result"
    }
   ],
   "source": [
    "mol_flavors"
   ]
  },
  {
   "cell_type": "markdown",
   "metadata": {},
   "source": [
    "<span style=\"color:#FBB714\">OD</span>: Dataframe - *molecules x ODs*"
   ]
  },
  {
   "cell_type": "code",
   "execution_count": 28,
   "metadata": {},
   "outputs": [
    {
     "data": {
      "text/html": [
       "<div>\n",
       "<style scoped>\n",
       "    .dataframe tbody tr th:only-of-type {\n",
       "        vertical-align: middle;\n",
       "    }\n",
       "\n",
       "    .dataframe tbody tr th {\n",
       "        vertical-align: top;\n",
       "    }\n",
       "\n",
       "    .dataframe thead th {\n",
       "        text-align: right;\n",
       "    }\n",
       "</style>\n",
       "<table border=\"1\" class=\"dataframe\">\n",
       "  <thead>\n",
       "    <tr style=\"text-align: right;\">\n",
       "      <th></th>\n",
       "      <th>smoke</th>\n",
       "      <th>coriander</th>\n",
       "      <th>nutmeg</th>\n",
       "      <th>orange</th>\n",
       "      <th>mint</th>\n",
       "      <th>beet</th>\n",
       "      <th>butterscotch</th>\n",
       "      <th>anise</th>\n",
       "      <th>rubber</th>\n",
       "      <th>wood</th>\n",
       "      <th>...</th>\n",
       "      <th>geranium</th>\n",
       "      <th>turpentine</th>\n",
       "      <th>fresh</th>\n",
       "      <th>spice</th>\n",
       "      <th>mold</th>\n",
       "      <th>tallow</th>\n",
       "      <th>medicine</th>\n",
       "      <th>fruit</th>\n",
       "      <th>caramel</th>\n",
       "      <th>must</th>\n",
       "    </tr>\n",
       "  </thead>\n",
       "  <tbody>\n",
       "    <tr>\n",
       "      <th>18479-68-0</th>\n",
       "      <td>0</td>\n",
       "      <td>0</td>\n",
       "      <td>0</td>\n",
       "      <td>0</td>\n",
       "      <td>0</td>\n",
       "      <td>0</td>\n",
       "      <td>0</td>\n",
       "      <td>0</td>\n",
       "      <td>0</td>\n",
       "      <td>0</td>\n",
       "      <td>...</td>\n",
       "      <td>0</td>\n",
       "      <td>0</td>\n",
       "      <td>0</td>\n",
       "      <td>0</td>\n",
       "      <td>0</td>\n",
       "      <td>0</td>\n",
       "      <td>0</td>\n",
       "      <td>1</td>\n",
       "      <td>0</td>\n",
       "      <td>0</td>\n",
       "    </tr>\n",
       "    <tr>\n",
       "      <th>14575-74-7</th>\n",
       "      <td>0</td>\n",
       "      <td>0</td>\n",
       "      <td>0</td>\n",
       "      <td>0</td>\n",
       "      <td>0</td>\n",
       "      <td>0</td>\n",
       "      <td>0</td>\n",
       "      <td>0</td>\n",
       "      <td>0</td>\n",
       "      <td>0</td>\n",
       "      <td>...</td>\n",
       "      <td>0</td>\n",
       "      <td>0</td>\n",
       "      <td>0</td>\n",
       "      <td>0</td>\n",
       "      <td>0</td>\n",
       "      <td>0</td>\n",
       "      <td>0</td>\n",
       "      <td>0</td>\n",
       "      <td>0</td>\n",
       "      <td>0</td>\n",
       "    </tr>\n",
       "    <tr>\n",
       "      <th>07.11.5258</th>\n",
       "      <td>0</td>\n",
       "      <td>0</td>\n",
       "      <td>0</td>\n",
       "      <td>0</td>\n",
       "      <td>0</td>\n",
       "      <td>0</td>\n",
       "      <td>0</td>\n",
       "      <td>0</td>\n",
       "      <td>0</td>\n",
       "      <td>0</td>\n",
       "      <td>...</td>\n",
       "      <td>0</td>\n",
       "      <td>0</td>\n",
       "      <td>0</td>\n",
       "      <td>0</td>\n",
       "      <td>0</td>\n",
       "      <td>0</td>\n",
       "      <td>0</td>\n",
       "      <td>0</td>\n",
       "      <td>0</td>\n",
       "      <td>0</td>\n",
       "    </tr>\n",
       "    <tr>\n",
       "      <th>470-67-7</th>\n",
       "      <td>0</td>\n",
       "      <td>0</td>\n",
       "      <td>0</td>\n",
       "      <td>0</td>\n",
       "      <td>0</td>\n",
       "      <td>0</td>\n",
       "      <td>0</td>\n",
       "      <td>0</td>\n",
       "      <td>0</td>\n",
       "      <td>0</td>\n",
       "      <td>...</td>\n",
       "      <td>0</td>\n",
       "      <td>0</td>\n",
       "      <td>0</td>\n",
       "      <td>1</td>\n",
       "      <td>0</td>\n",
       "      <td>0</td>\n",
       "      <td>0</td>\n",
       "      <td>0</td>\n",
       "      <td>0</td>\n",
       "      <td>0</td>\n",
       "    </tr>\n",
       "    <tr>\n",
       "      <th>470-82-6</th>\n",
       "      <td>0</td>\n",
       "      <td>0</td>\n",
       "      <td>0</td>\n",
       "      <td>0</td>\n",
       "      <td>1</td>\n",
       "      <td>0</td>\n",
       "      <td>0</td>\n",
       "      <td>0</td>\n",
       "      <td>0</td>\n",
       "      <td>0</td>\n",
       "      <td>...</td>\n",
       "      <td>0</td>\n",
       "      <td>0</td>\n",
       "      <td>0</td>\n",
       "      <td>0</td>\n",
       "      <td>0</td>\n",
       "      <td>0</td>\n",
       "      <td>0</td>\n",
       "      <td>0</td>\n",
       "      <td>0</td>\n",
       "      <td>0</td>\n",
       "    </tr>\n",
       "    <tr>\n",
       "      <th>619-01-2</th>\n",
       "      <td>0</td>\n",
       "      <td>0</td>\n",
       "      <td>0</td>\n",
       "      <td>0</td>\n",
       "      <td>1</td>\n",
       "      <td>0</td>\n",
       "      <td>0</td>\n",
       "      <td>0</td>\n",
       "      <td>0</td>\n",
       "      <td>0</td>\n",
       "      <td>...</td>\n",
       "      <td>0</td>\n",
       "      <td>0</td>\n",
       "      <td>0</td>\n",
       "      <td>1</td>\n",
       "      <td>0</td>\n",
       "      <td>0</td>\n",
       "      <td>0</td>\n",
       "      <td>0</td>\n",
       "      <td>0</td>\n",
       "      <td>0</td>\n",
       "    </tr>\n",
       "    <tr>\n",
       "      <th>1189-09-9</th>\n",
       "      <td>0</td>\n",
       "      <td>0</td>\n",
       "      <td>0</td>\n",
       "      <td>0</td>\n",
       "      <td>0</td>\n",
       "      <td>0</td>\n",
       "      <td>0</td>\n",
       "      <td>0</td>\n",
       "      <td>0</td>\n",
       "      <td>0</td>\n",
       "      <td>...</td>\n",
       "      <td>0</td>\n",
       "      <td>0</td>\n",
       "      <td>0</td>\n",
       "      <td>0</td>\n",
       "      <td>0</td>\n",
       "      <td>0</td>\n",
       "      <td>0</td>\n",
       "      <td>1</td>\n",
       "      <td>0</td>\n",
       "      <td>0</td>\n",
       "    </tr>\n",
       "    <tr>\n",
       "      <th>124-76-5</th>\n",
       "      <td>0</td>\n",
       "      <td>0</td>\n",
       "      <td>0</td>\n",
       "      <td>0</td>\n",
       "      <td>0</td>\n",
       "      <td>0</td>\n",
       "      <td>0</td>\n",
       "      <td>0</td>\n",
       "      <td>0</td>\n",
       "      <td>0</td>\n",
       "      <td>...</td>\n",
       "      <td>0</td>\n",
       "      <td>0</td>\n",
       "      <td>0</td>\n",
       "      <td>0</td>\n",
       "      <td>0</td>\n",
       "      <td>0</td>\n",
       "      <td>0</td>\n",
       "      <td>0</td>\n",
       "      <td>0</td>\n",
       "      <td>1</td>\n",
       "    </tr>\n",
       "    <tr>\n",
       "      <th>3913-71-1</th>\n",
       "      <td>0</td>\n",
       "      <td>0</td>\n",
       "      <td>0</td>\n",
       "      <td>1</td>\n",
       "      <td>0</td>\n",
       "      <td>0</td>\n",
       "      <td>0</td>\n",
       "      <td>0</td>\n",
       "      <td>0</td>\n",
       "      <td>0</td>\n",
       "      <td>...</td>\n",
       "      <td>0</td>\n",
       "      <td>0</td>\n",
       "      <td>0</td>\n",
       "      <td>0</td>\n",
       "      <td>0</td>\n",
       "      <td>1</td>\n",
       "      <td>0</td>\n",
       "      <td>0</td>\n",
       "      <td>0</td>\n",
       "      <td>0</td>\n",
       "    </tr>\n",
       "    <tr>\n",
       "      <th>138-87-4</th>\n",
       "      <td>0</td>\n",
       "      <td>0</td>\n",
       "      <td>0</td>\n",
       "      <td>0</td>\n",
       "      <td>0</td>\n",
       "      <td>0</td>\n",
       "      <td>0</td>\n",
       "      <td>0</td>\n",
       "      <td>0</td>\n",
       "      <td>0</td>\n",
       "      <td>...</td>\n",
       "      <td>0</td>\n",
       "      <td>0</td>\n",
       "      <td>0</td>\n",
       "      <td>0</td>\n",
       "      <td>0</td>\n",
       "      <td>0</td>\n",
       "      <td>0</td>\n",
       "      <td>0</td>\n",
       "      <td>0</td>\n",
       "      <td>1</td>\n",
       "    </tr>\n",
       "    <tr>\n",
       "      <th>541-58-2</th>\n",
       "      <td>1</td>\n",
       "      <td>0</td>\n",
       "      <td>0</td>\n",
       "      <td>0</td>\n",
       "      <td>0</td>\n",
       "      <td>0</td>\n",
       "      <td>0</td>\n",
       "      <td>0</td>\n",
       "      <td>1</td>\n",
       "      <td>0</td>\n",
       "      <td>...</td>\n",
       "      <td>0</td>\n",
       "      <td>0</td>\n",
       "      <td>0</td>\n",
       "      <td>0</td>\n",
       "      <td>1</td>\n",
       "      <td>0</td>\n",
       "      <td>0</td>\n",
       "      <td>0</td>\n",
       "      <td>0</td>\n",
       "      <td>0</td>\n",
       "    </tr>\n",
       "    <tr>\n",
       "      <th>29887-38-5</th>\n",
       "      <td>0</td>\n",
       "      <td>0</td>\n",
       "      <td>0</td>\n",
       "      <td>0</td>\n",
       "      <td>0</td>\n",
       "      <td>0</td>\n",
       "      <td>0</td>\n",
       "      <td>0</td>\n",
       "      <td>0</td>\n",
       "      <td>0</td>\n",
       "      <td>...</td>\n",
       "      <td>0</td>\n",
       "      <td>0</td>\n",
       "      <td>0</td>\n",
       "      <td>0</td>\n",
       "      <td>0</td>\n",
       "      <td>0</td>\n",
       "      <td>0</td>\n",
       "      <td>0</td>\n",
       "      <td>0</td>\n",
       "      <td>0</td>\n",
       "    </tr>\n",
       "    <tr>\n",
       "      <th>465-31-6</th>\n",
       "      <td>0</td>\n",
       "      <td>0</td>\n",
       "      <td>0</td>\n",
       "      <td>0</td>\n",
       "      <td>0</td>\n",
       "      <td>0</td>\n",
       "      <td>0</td>\n",
       "      <td>0</td>\n",
       "      <td>0</td>\n",
       "      <td>0</td>\n",
       "      <td>...</td>\n",
       "      <td>0</td>\n",
       "      <td>0</td>\n",
       "      <td>0</td>\n",
       "      <td>0</td>\n",
       "      <td>0</td>\n",
       "      <td>0</td>\n",
       "      <td>0</td>\n",
       "      <td>0</td>\n",
       "      <td>0</td>\n",
       "      <td>0</td>\n",
       "    </tr>\n",
       "    <tr>\n",
       "      <th>3913-81-3</th>\n",
       "      <td>0</td>\n",
       "      <td>0</td>\n",
       "      <td>0</td>\n",
       "      <td>1</td>\n",
       "      <td>0</td>\n",
       "      <td>0</td>\n",
       "      <td>0</td>\n",
       "      <td>0</td>\n",
       "      <td>0</td>\n",
       "      <td>0</td>\n",
       "      <td>...</td>\n",
       "      <td>0</td>\n",
       "      <td>0</td>\n",
       "      <td>0</td>\n",
       "      <td>0</td>\n",
       "      <td>0</td>\n",
       "      <td>1</td>\n",
       "      <td>0</td>\n",
       "      <td>0</td>\n",
       "      <td>0</td>\n",
       "      <td>0</td>\n",
       "    </tr>\n",
       "    <tr>\n",
       "      <th>106-24-1</th>\n",
       "      <td>0</td>\n",
       "      <td>0</td>\n",
       "      <td>0</td>\n",
       "      <td>0</td>\n",
       "      <td>0</td>\n",
       "      <td>0</td>\n",
       "      <td>0</td>\n",
       "      <td>0</td>\n",
       "      <td>0</td>\n",
       "      <td>0</td>\n",
       "      <td>...</td>\n",
       "      <td>1</td>\n",
       "      <td>0</td>\n",
       "      <td>0</td>\n",
       "      <td>0</td>\n",
       "      <td>0</td>\n",
       "      <td>0</td>\n",
       "      <td>0</td>\n",
       "      <td>0</td>\n",
       "      <td>0</td>\n",
       "      <td>0</td>\n",
       "    </tr>\n",
       "    <tr>\n",
       "      <th>507-70-0</th>\n",
       "      <td>0</td>\n",
       "      <td>0</td>\n",
       "      <td>0</td>\n",
       "      <td>0</td>\n",
       "      <td>0</td>\n",
       "      <td>0</td>\n",
       "      <td>0</td>\n",
       "      <td>0</td>\n",
       "      <td>0</td>\n",
       "      <td>0</td>\n",
       "      <td>...</td>\n",
       "      <td>0</td>\n",
       "      <td>0</td>\n",
       "      <td>0</td>\n",
       "      <td>0</td>\n",
       "      <td>0</td>\n",
       "      <td>0</td>\n",
       "      <td>0</td>\n",
       "      <td>0</td>\n",
       "      <td>0</td>\n",
       "      <td>0</td>\n",
       "    </tr>\n",
       "    <tr>\n",
       "      <th>3581-91-7</th>\n",
       "      <td>1</td>\n",
       "      <td>0</td>\n",
       "      <td>0</td>\n",
       "      <td>0</td>\n",
       "      <td>0</td>\n",
       "      <td>0</td>\n",
       "      <td>0</td>\n",
       "      <td>0</td>\n",
       "      <td>1</td>\n",
       "      <td>0</td>\n",
       "      <td>...</td>\n",
       "      <td>0</td>\n",
       "      <td>0</td>\n",
       "      <td>0</td>\n",
       "      <td>0</td>\n",
       "      <td>1</td>\n",
       "      <td>0</td>\n",
       "      <td>0</td>\n",
       "      <td>0</td>\n",
       "      <td>0</td>\n",
       "      <td>0</td>\n",
       "    </tr>\n",
       "    <tr>\n",
       "      <th>21662-09-9</th>\n",
       "      <td>0</td>\n",
       "      <td>0</td>\n",
       "      <td>0</td>\n",
       "      <td>0</td>\n",
       "      <td>0</td>\n",
       "      <td>0</td>\n",
       "      <td>0</td>\n",
       "      <td>0</td>\n",
       "      <td>0</td>\n",
       "      <td>0</td>\n",
       "      <td>...</td>\n",
       "      <td>0</td>\n",
       "      <td>0</td>\n",
       "      <td>0</td>\n",
       "      <td>0</td>\n",
       "      <td>0</td>\n",
       "      <td>0</td>\n",
       "      <td>0</td>\n",
       "      <td>0</td>\n",
       "      <td>0</td>\n",
       "      <td>1</td>\n",
       "    </tr>\n",
       "    <tr>\n",
       "      <th>15537-55-0</th>\n",
       "      <td>0</td>\n",
       "      <td>0</td>\n",
       "      <td>0</td>\n",
       "      <td>0</td>\n",
       "      <td>0</td>\n",
       "      <td>0</td>\n",
       "      <td>0</td>\n",
       "      <td>0</td>\n",
       "      <td>0</td>\n",
       "      <td>0</td>\n",
       "      <td>...</td>\n",
       "      <td>0</td>\n",
       "      <td>0</td>\n",
       "      <td>0</td>\n",
       "      <td>0</td>\n",
       "      <td>0</td>\n",
       "      <td>0</td>\n",
       "      <td>0</td>\n",
       "      <td>0</td>\n",
       "      <td>0</td>\n",
       "      <td>0</td>\n",
       "    </tr>\n",
       "    <tr>\n",
       "      <th>19700-21-1</th>\n",
       "      <td>0</td>\n",
       "      <td>0</td>\n",
       "      <td>0</td>\n",
       "      <td>0</td>\n",
       "      <td>0</td>\n",
       "      <td>1</td>\n",
       "      <td>0</td>\n",
       "      <td>0</td>\n",
       "      <td>0</td>\n",
       "      <td>0</td>\n",
       "      <td>...</td>\n",
       "      <td>0</td>\n",
       "      <td>0</td>\n",
       "      <td>0</td>\n",
       "      <td>0</td>\n",
       "      <td>0</td>\n",
       "      <td>0</td>\n",
       "      <td>0</td>\n",
       "      <td>0</td>\n",
       "      <td>0</td>\n",
       "      <td>0</td>\n",
       "    </tr>\n",
       "    <tr>\n",
       "      <th>3033-23-6</th>\n",
       "      <td>0</td>\n",
       "      <td>0</td>\n",
       "      <td>0</td>\n",
       "      <td>0</td>\n",
       "      <td>0</td>\n",
       "      <td>0</td>\n",
       "      <td>0</td>\n",
       "      <td>0</td>\n",
       "      <td>0</td>\n",
       "      <td>0</td>\n",
       "      <td>...</td>\n",
       "      <td>0</td>\n",
       "      <td>0</td>\n",
       "      <td>0</td>\n",
       "      <td>0</td>\n",
       "      <td>0</td>\n",
       "      <td>0</td>\n",
       "      <td>0</td>\n",
       "      <td>0</td>\n",
       "      <td>0</td>\n",
       "      <td>0</td>\n",
       "    </tr>\n",
       "    <tr>\n",
       "      <th>491-04-3</th>\n",
       "      <td>0</td>\n",
       "      <td>0</td>\n",
       "      <td>0</td>\n",
       "      <td>0</td>\n",
       "      <td>0</td>\n",
       "      <td>0</td>\n",
       "      <td>0</td>\n",
       "      <td>0</td>\n",
       "      <td>0</td>\n",
       "      <td>0</td>\n",
       "      <td>...</td>\n",
       "      <td>0</td>\n",
       "      <td>0</td>\n",
       "      <td>0</td>\n",
       "      <td>0</td>\n",
       "      <td>0</td>\n",
       "      <td>0</td>\n",
       "      <td>0</td>\n",
       "      <td>0</td>\n",
       "      <td>0</td>\n",
       "      <td>0</td>\n",
       "    </tr>\n",
       "    <tr>\n",
       "      <th>91-10-1</th>\n",
       "      <td>1</td>\n",
       "      <td>0</td>\n",
       "      <td>0</td>\n",
       "      <td>0</td>\n",
       "      <td>0</td>\n",
       "      <td>0</td>\n",
       "      <td>0</td>\n",
       "      <td>0</td>\n",
       "      <td>0</td>\n",
       "      <td>0</td>\n",
       "      <td>...</td>\n",
       "      <td>0</td>\n",
       "      <td>0</td>\n",
       "      <td>0</td>\n",
       "      <td>0</td>\n",
       "      <td>0</td>\n",
       "      <td>0</td>\n",
       "      <td>1</td>\n",
       "      <td>0</td>\n",
       "      <td>0</td>\n",
       "      <td>0</td>\n",
       "    </tr>\n",
       "    <tr>\n",
       "      <th>134346-43-3</th>\n",
       "      <td>0</td>\n",
       "      <td>0</td>\n",
       "      <td>0</td>\n",
       "      <td>0</td>\n",
       "      <td>0</td>\n",
       "      <td>0</td>\n",
       "      <td>0</td>\n",
       "      <td>0</td>\n",
       "      <td>0</td>\n",
       "      <td>0</td>\n",
       "      <td>...</td>\n",
       "      <td>0</td>\n",
       "      <td>0</td>\n",
       "      <td>0</td>\n",
       "      <td>0</td>\n",
       "      <td>0</td>\n",
       "      <td>0</td>\n",
       "      <td>0</td>\n",
       "      <td>0</td>\n",
       "      <td>0</td>\n",
       "      <td>0</td>\n",
       "    </tr>\n",
       "    <tr>\n",
       "      <th>16721-39-4</th>\n",
       "      <td>0</td>\n",
       "      <td>0</td>\n",
       "      <td>0</td>\n",
       "      <td>0</td>\n",
       "      <td>0</td>\n",
       "      <td>0</td>\n",
       "      <td>0</td>\n",
       "      <td>0</td>\n",
       "      <td>0</td>\n",
       "      <td>0</td>\n",
       "      <td>...</td>\n",
       "      <td>0</td>\n",
       "      <td>0</td>\n",
       "      <td>0</td>\n",
       "      <td>0</td>\n",
       "      <td>0</td>\n",
       "      <td>0</td>\n",
       "      <td>0</td>\n",
       "      <td>0</td>\n",
       "      <td>0</td>\n",
       "      <td>0</td>\n",
       "    </tr>\n",
       "    <tr>\n",
       "      <th>128386-31-2</th>\n",
       "      <td>0</td>\n",
       "      <td>0</td>\n",
       "      <td>0</td>\n",
       "      <td>0</td>\n",
       "      <td>0</td>\n",
       "      <td>0</td>\n",
       "      <td>0</td>\n",
       "      <td>0</td>\n",
       "      <td>0</td>\n",
       "      <td>0</td>\n",
       "      <td>...</td>\n",
       "      <td>0</td>\n",
       "      <td>0</td>\n",
       "      <td>0</td>\n",
       "      <td>0</td>\n",
       "      <td>0</td>\n",
       "      <td>0</td>\n",
       "      <td>0</td>\n",
       "      <td>0</td>\n",
       "      <td>0</td>\n",
       "      <td>0</td>\n",
       "    </tr>\n",
       "    <tr>\n",
       "      <th>4861-58-9</th>\n",
       "      <td>0</td>\n",
       "      <td>0</td>\n",
       "      <td>0</td>\n",
       "      <td>0</td>\n",
       "      <td>0</td>\n",
       "      <td>0</td>\n",
       "      <td>0</td>\n",
       "      <td>0</td>\n",
       "      <td>0</td>\n",
       "      <td>0</td>\n",
       "      <td>...</td>\n",
       "      <td>0</td>\n",
       "      <td>0</td>\n",
       "      <td>0</td>\n",
       "      <td>0</td>\n",
       "      <td>0</td>\n",
       "      <td>0</td>\n",
       "      <td>0</td>\n",
       "      <td>1</td>\n",
       "      <td>0</td>\n",
       "      <td>0</td>\n",
       "    </tr>\n",
       "    <tr>\n",
       "      <th>147159-48-6</th>\n",
       "      <td>0</td>\n",
       "      <td>0</td>\n",
       "      <td>0</td>\n",
       "      <td>0</td>\n",
       "      <td>0</td>\n",
       "      <td>0</td>\n",
       "      <td>0</td>\n",
       "      <td>0</td>\n",
       "      <td>0</td>\n",
       "      <td>0</td>\n",
       "      <td>...</td>\n",
       "      <td>0</td>\n",
       "      <td>0</td>\n",
       "      <td>0</td>\n",
       "      <td>0</td>\n",
       "      <td>0</td>\n",
       "      <td>1</td>\n",
       "      <td>0</td>\n",
       "      <td>0</td>\n",
       "      <td>0</td>\n",
       "      <td>0</td>\n",
       "    </tr>\n",
       "    <tr>\n",
       "      <th>3943-74-6</th>\n",
       "      <td>0</td>\n",
       "      <td>0</td>\n",
       "      <td>0</td>\n",
       "      <td>0</td>\n",
       "      <td>0</td>\n",
       "      <td>0</td>\n",
       "      <td>1</td>\n",
       "      <td>0</td>\n",
       "      <td>0</td>\n",
       "      <td>0</td>\n",
       "      <td>...</td>\n",
       "      <td>0</td>\n",
       "      <td>0</td>\n",
       "      <td>0</td>\n",
       "      <td>0</td>\n",
       "      <td>0</td>\n",
       "      <td>0</td>\n",
       "      <td>0</td>\n",
       "      <td>0</td>\n",
       "      <td>1</td>\n",
       "      <td>0</td>\n",
       "    </tr>\n",
       "    <tr>\n",
       "      <th>18675-35-9</th>\n",
       "      <td>0</td>\n",
       "      <td>0</td>\n",
       "      <td>0</td>\n",
       "      <td>0</td>\n",
       "      <td>0</td>\n",
       "      <td>0</td>\n",
       "      <td>0</td>\n",
       "      <td>0</td>\n",
       "      <td>0</td>\n",
       "      <td>1</td>\n",
       "      <td>...</td>\n",
       "      <td>0</td>\n",
       "      <td>0</td>\n",
       "      <td>0</td>\n",
       "      <td>1</td>\n",
       "      <td>0</td>\n",
       "      <td>0</td>\n",
       "      <td>0</td>\n",
       "      <td>0</td>\n",
       "      <td>0</td>\n",
       "      <td>0</td>\n",
       "    </tr>\n",
       "    <tr>\n",
       "      <th>562-74-3</th>\n",
       "      <td>0</td>\n",
       "      <td>0</td>\n",
       "      <td>1</td>\n",
       "      <td>0</td>\n",
       "      <td>0</td>\n",
       "      <td>0</td>\n",
       "      <td>0</td>\n",
       "      <td>0</td>\n",
       "      <td>0</td>\n",
       "      <td>0</td>\n",
       "      <td>...</td>\n",
       "      <td>0</td>\n",
       "      <td>1</td>\n",
       "      <td>0</td>\n",
       "      <td>0</td>\n",
       "      <td>0</td>\n",
       "      <td>0</td>\n",
       "      <td>0</td>\n",
       "      <td>0</td>\n",
       "      <td>0</td>\n",
       "      <td>1</td>\n",
       "    </tr>\n",
       "    <tr>\n",
       "      <th>16750-94-0</th>\n",
       "      <td>0</td>\n",
       "      <td>0</td>\n",
       "      <td>0</td>\n",
       "      <td>0</td>\n",
       "      <td>0</td>\n",
       "      <td>0</td>\n",
       "      <td>0</td>\n",
       "      <td>0</td>\n",
       "      <td>0</td>\n",
       "      <td>0</td>\n",
       "      <td>...</td>\n",
       "      <td>0</td>\n",
       "      <td>0</td>\n",
       "      <td>0</td>\n",
       "      <td>0</td>\n",
       "      <td>0</td>\n",
       "      <td>0</td>\n",
       "      <td>0</td>\n",
       "      <td>0</td>\n",
       "      <td>0</td>\n",
       "      <td>0</td>\n",
       "    </tr>\n",
       "    <tr>\n",
       "      <th>10458-14-7</th>\n",
       "      <td>0</td>\n",
       "      <td>0</td>\n",
       "      <td>0</td>\n",
       "      <td>0</td>\n",
       "      <td>1</td>\n",
       "      <td>0</td>\n",
       "      <td>0</td>\n",
       "      <td>0</td>\n",
       "      <td>0</td>\n",
       "      <td>0</td>\n",
       "      <td>...</td>\n",
       "      <td>0</td>\n",
       "      <td>0</td>\n",
       "      <td>1</td>\n",
       "      <td>0</td>\n",
       "      <td>0</td>\n",
       "      <td>0</td>\n",
       "      <td>0</td>\n",
       "      <td>0</td>\n",
       "      <td>0</td>\n",
       "      <td>0</td>\n",
       "    </tr>\n",
       "    <tr>\n",
       "      <th>619-62-5</th>\n",
       "      <td>0</td>\n",
       "      <td>0</td>\n",
       "      <td>0</td>\n",
       "      <td>0</td>\n",
       "      <td>0</td>\n",
       "      <td>0</td>\n",
       "      <td>0</td>\n",
       "      <td>0</td>\n",
       "      <td>0</td>\n",
       "      <td>0</td>\n",
       "      <td>...</td>\n",
       "      <td>0</td>\n",
       "      <td>0</td>\n",
       "      <td>0</td>\n",
       "      <td>0</td>\n",
       "      <td>0</td>\n",
       "      <td>0</td>\n",
       "      <td>0</td>\n",
       "      <td>0</td>\n",
       "      <td>0</td>\n",
       "      <td>0</td>\n",
       "    </tr>\n",
       "    <tr>\n",
       "      <th>498-16-8</th>\n",
       "      <td>0</td>\n",
       "      <td>0</td>\n",
       "      <td>0</td>\n",
       "      <td>0</td>\n",
       "      <td>0</td>\n",
       "      <td>0</td>\n",
       "      <td>0</td>\n",
       "      <td>0</td>\n",
       "      <td>0</td>\n",
       "      <td>0</td>\n",
       "      <td>...</td>\n",
       "      <td>0</td>\n",
       "      <td>0</td>\n",
       "      <td>0</td>\n",
       "      <td>0</td>\n",
       "      <td>0</td>\n",
       "      <td>0</td>\n",
       "      <td>0</td>\n",
       "      <td>0</td>\n",
       "      <td>0</td>\n",
       "      <td>0</td>\n",
       "    </tr>\n",
       "    <tr>\n",
       "      <th>98-55-5</th>\n",
       "      <td>0</td>\n",
       "      <td>0</td>\n",
       "      <td>0</td>\n",
       "      <td>0</td>\n",
       "      <td>1</td>\n",
       "      <td>0</td>\n",
       "      <td>0</td>\n",
       "      <td>1</td>\n",
       "      <td>0</td>\n",
       "      <td>0</td>\n",
       "      <td>...</td>\n",
       "      <td>0</td>\n",
       "      <td>0</td>\n",
       "      <td>0</td>\n",
       "      <td>0</td>\n",
       "      <td>0</td>\n",
       "      <td>0</td>\n",
       "      <td>0</td>\n",
       "      <td>0</td>\n",
       "      <td>0</td>\n",
       "      <td>0</td>\n",
       "    </tr>\n",
       "    <tr>\n",
       "      <th>17699-16-0</th>\n",
       "      <td>0</td>\n",
       "      <td>0</td>\n",
       "      <td>0</td>\n",
       "      <td>0</td>\n",
       "      <td>0</td>\n",
       "      <td>0</td>\n",
       "      <td>0</td>\n",
       "      <td>0</td>\n",
       "      <td>0</td>\n",
       "      <td>1</td>\n",
       "      <td>...</td>\n",
       "      <td>0</td>\n",
       "      <td>0</td>\n",
       "      <td>0</td>\n",
       "      <td>0</td>\n",
       "      <td>0</td>\n",
       "      <td>0</td>\n",
       "      <td>0</td>\n",
       "      <td>0</td>\n",
       "      <td>0</td>\n",
       "      <td>0</td>\n",
       "    </tr>\n",
       "    <tr>\n",
       "      <th>20407-84-5</th>\n",
       "      <td>0</td>\n",
       "      <td>0</td>\n",
       "      <td>0</td>\n",
       "      <td>0</td>\n",
       "      <td>0</td>\n",
       "      <td>0</td>\n",
       "      <td>0</td>\n",
       "      <td>0</td>\n",
       "      <td>0</td>\n",
       "      <td>0</td>\n",
       "      <td>...</td>\n",
       "      <td>0</td>\n",
       "      <td>0</td>\n",
       "      <td>0</td>\n",
       "      <td>0</td>\n",
       "      <td>0</td>\n",
       "      <td>0</td>\n",
       "      <td>0</td>\n",
       "      <td>0</td>\n",
       "      <td>0</td>\n",
       "      <td>0</td>\n",
       "    </tr>\n",
       "    <tr>\n",
       "      <th>89-80-5</th>\n",
       "      <td>0</td>\n",
       "      <td>0</td>\n",
       "      <td>0</td>\n",
       "      <td>0</td>\n",
       "      <td>1</td>\n",
       "      <td>0</td>\n",
       "      <td>0</td>\n",
       "      <td>0</td>\n",
       "      <td>0</td>\n",
       "      <td>0</td>\n",
       "      <td>...</td>\n",
       "      <td>0</td>\n",
       "      <td>0</td>\n",
       "      <td>1</td>\n",
       "      <td>0</td>\n",
       "      <td>0</td>\n",
       "      <td>0</td>\n",
       "      <td>0</td>\n",
       "      <td>0</td>\n",
       "      <td>0</td>\n",
       "      <td>0</td>\n",
       "    </tr>\n",
       "    <tr>\n",
       "      <th>5944-20-7</th>\n",
       "      <td>0</td>\n",
       "      <td>0</td>\n",
       "      <td>0</td>\n",
       "      <td>0</td>\n",
       "      <td>0</td>\n",
       "      <td>0</td>\n",
       "      <td>0</td>\n",
       "      <td>0</td>\n",
       "      <td>0</td>\n",
       "      <td>0</td>\n",
       "      <td>...</td>\n",
       "      <td>0</td>\n",
       "      <td>0</td>\n",
       "      <td>0</td>\n",
       "      <td>0</td>\n",
       "      <td>0</td>\n",
       "      <td>0</td>\n",
       "      <td>0</td>\n",
       "      <td>0</td>\n",
       "      <td>0</td>\n",
       "      <td>0</td>\n",
       "    </tr>\n",
       "    <tr>\n",
       "      <th>106-23-0</th>\n",
       "      <td>0</td>\n",
       "      <td>0</td>\n",
       "      <td>0</td>\n",
       "      <td>0</td>\n",
       "      <td>0</td>\n",
       "      <td>0</td>\n",
       "      <td>0</td>\n",
       "      <td>0</td>\n",
       "      <td>0</td>\n",
       "      <td>0</td>\n",
       "      <td>...</td>\n",
       "      <td>0</td>\n",
       "      <td>0</td>\n",
       "      <td>0</td>\n",
       "      <td>0</td>\n",
       "      <td>0</td>\n",
       "      <td>0</td>\n",
       "      <td>0</td>\n",
       "      <td>0</td>\n",
       "      <td>0</td>\n",
       "      <td>0</td>\n",
       "    </tr>\n",
       "    <tr>\n",
       "      <th>105683-99-6</th>\n",
       "      <td>0</td>\n",
       "      <td>0</td>\n",
       "      <td>0</td>\n",
       "      <td>0</td>\n",
       "      <td>0</td>\n",
       "      <td>0</td>\n",
       "      <td>0</td>\n",
       "      <td>0</td>\n",
       "      <td>0</td>\n",
       "      <td>0</td>\n",
       "      <td>...</td>\n",
       "      <td>0</td>\n",
       "      <td>0</td>\n",
       "      <td>0</td>\n",
       "      <td>0</td>\n",
       "      <td>0</td>\n",
       "      <td>1</td>\n",
       "      <td>0</td>\n",
       "      <td>0</td>\n",
       "      <td>0</td>\n",
       "      <td>0</td>\n",
       "    </tr>\n",
       "    <tr>\n",
       "      <th>876-17-5</th>\n",
       "      <td>0</td>\n",
       "      <td>0</td>\n",
       "      <td>0</td>\n",
       "      <td>0</td>\n",
       "      <td>0</td>\n",
       "      <td>0</td>\n",
       "      <td>0</td>\n",
       "      <td>0</td>\n",
       "      <td>0</td>\n",
       "      <td>0</td>\n",
       "      <td>...</td>\n",
       "      <td>0</td>\n",
       "      <td>0</td>\n",
       "      <td>0</td>\n",
       "      <td>0</td>\n",
       "      <td>0</td>\n",
       "      <td>0</td>\n",
       "      <td>0</td>\n",
       "      <td>0</td>\n",
       "      <td>0</td>\n",
       "      <td>0</td>\n",
       "    </tr>\n",
       "    <tr>\n",
       "      <th>2497-25-8</th>\n",
       "      <td>0</td>\n",
       "      <td>0</td>\n",
       "      <td>0</td>\n",
       "      <td>1</td>\n",
       "      <td>0</td>\n",
       "      <td>0</td>\n",
       "      <td>0</td>\n",
       "      <td>0</td>\n",
       "      <td>0</td>\n",
       "      <td>0</td>\n",
       "      <td>...</td>\n",
       "      <td>0</td>\n",
       "      <td>0</td>\n",
       "      <td>0</td>\n",
       "      <td>0</td>\n",
       "      <td>0</td>\n",
       "      <td>1</td>\n",
       "      <td>0</td>\n",
       "      <td>0</td>\n",
       "      <td>0</td>\n",
       "      <td>0</td>\n",
       "    </tr>\n",
       "    <tr>\n",
       "      <th>586-82-3</th>\n",
       "      <td>0</td>\n",
       "      <td>0</td>\n",
       "      <td>0</td>\n",
       "      <td>0</td>\n",
       "      <td>0</td>\n",
       "      <td>0</td>\n",
       "      <td>0</td>\n",
       "      <td>0</td>\n",
       "      <td>0</td>\n",
       "      <td>0</td>\n",
       "      <td>...</td>\n",
       "      <td>0</td>\n",
       "      <td>0</td>\n",
       "      <td>0</td>\n",
       "      <td>0</td>\n",
       "      <td>0</td>\n",
       "      <td>0</td>\n",
       "      <td>0</td>\n",
       "      <td>0</td>\n",
       "      <td>0</td>\n",
       "      <td>1</td>\n",
       "    </tr>\n",
       "    <tr>\n",
       "      <th>78-70-6</th>\n",
       "      <td>0</td>\n",
       "      <td>0</td>\n",
       "      <td>0</td>\n",
       "      <td>0</td>\n",
       "      <td>0</td>\n",
       "      <td>0</td>\n",
       "      <td>0</td>\n",
       "      <td>0</td>\n",
       "      <td>0</td>\n",
       "      <td>0</td>\n",
       "      <td>...</td>\n",
       "      <td>0</td>\n",
       "      <td>0</td>\n",
       "      <td>0</td>\n",
       "      <td>0</td>\n",
       "      <td>0</td>\n",
       "      <td>0</td>\n",
       "      <td>0</td>\n",
       "      <td>0</td>\n",
       "      <td>0</td>\n",
       "      <td>0</td>\n",
       "    </tr>\n",
       "    <tr>\n",
       "      <th>115-99-1</th>\n",
       "      <td>0</td>\n",
       "      <td>1</td>\n",
       "      <td>0</td>\n",
       "      <td>0</td>\n",
       "      <td>0</td>\n",
       "      <td>0</td>\n",
       "      <td>0</td>\n",
       "      <td>0</td>\n",
       "      <td>0</td>\n",
       "      <td>0</td>\n",
       "      <td>...</td>\n",
       "      <td>0</td>\n",
       "      <td>0</td>\n",
       "      <td>0</td>\n",
       "      <td>0</td>\n",
       "      <td>0</td>\n",
       "      <td>0</td>\n",
       "      <td>0</td>\n",
       "      <td>0</td>\n",
       "      <td>0</td>\n",
       "      <td>0</td>\n",
       "    </tr>\n",
       "    <tr>\n",
       "      <th>1200-67-5</th>\n",
       "      <td>0</td>\n",
       "      <td>0</td>\n",
       "      <td>0</td>\n",
       "      <td>0</td>\n",
       "      <td>0</td>\n",
       "      <td>0</td>\n",
       "      <td>0</td>\n",
       "      <td>0</td>\n",
       "      <td>0</td>\n",
       "      <td>0</td>\n",
       "      <td>...</td>\n",
       "      <td>0</td>\n",
       "      <td>0</td>\n",
       "      <td>0</td>\n",
       "      <td>0</td>\n",
       "      <td>0</td>\n",
       "      <td>0</td>\n",
       "      <td>0</td>\n",
       "      <td>0</td>\n",
       "      <td>0</td>\n",
       "      <td>0</td>\n",
       "    </tr>\n",
       "    <tr>\n",
       "      <th>1632-73-1</th>\n",
       "      <td>0</td>\n",
       "      <td>0</td>\n",
       "      <td>0</td>\n",
       "      <td>0</td>\n",
       "      <td>0</td>\n",
       "      <td>0</td>\n",
       "      <td>0</td>\n",
       "      <td>0</td>\n",
       "      <td>0</td>\n",
       "      <td>0</td>\n",
       "      <td>...</td>\n",
       "      <td>0</td>\n",
       "      <td>0</td>\n",
       "      <td>0</td>\n",
       "      <td>0</td>\n",
       "      <td>0</td>\n",
       "      <td>0</td>\n",
       "      <td>0</td>\n",
       "      <td>0</td>\n",
       "      <td>0</td>\n",
       "      <td>0</td>\n",
       "    </tr>\n",
       "    <tr>\n",
       "      <th>106-25-2</th>\n",
       "      <td>0</td>\n",
       "      <td>0</td>\n",
       "      <td>0</td>\n",
       "      <td>0</td>\n",
       "      <td>0</td>\n",
       "      <td>0</td>\n",
       "      <td>0</td>\n",
       "      <td>0</td>\n",
       "      <td>0</td>\n",
       "      <td>0</td>\n",
       "      <td>...</td>\n",
       "      <td>0</td>\n",
       "      <td>0</td>\n",
       "      <td>0</td>\n",
       "      <td>0</td>\n",
       "      <td>0</td>\n",
       "      <td>0</td>\n",
       "      <td>0</td>\n",
       "      <td>0</td>\n",
       "      <td>0</td>\n",
       "      <td>0</td>\n",
       "    </tr>\n",
       "  </tbody>\n",
       "</table>\n",
       "<p>50 rows × 37 columns</p>\n",
       "</div>"
      ],
      "text/plain": [
       "             smoke  coriander  nutmeg  orange  mint  beet  butterscotch  \\\n",
       "18479-68-0       0          0       0       0     0     0             0   \n",
       "14575-74-7       0          0       0       0     0     0             0   \n",
       "07.11.5258       0          0       0       0     0     0             0   \n",
       "470-67-7         0          0       0       0     0     0             0   \n",
       "470-82-6         0          0       0       0     1     0             0   \n",
       "619-01-2         0          0       0       0     1     0             0   \n",
       "1189-09-9        0          0       0       0     0     0             0   \n",
       "124-76-5         0          0       0       0     0     0             0   \n",
       "3913-71-1        0          0       0       1     0     0             0   \n",
       "138-87-4         0          0       0       0     0     0             0   \n",
       "541-58-2         1          0       0       0     0     0             0   \n",
       "29887-38-5       0          0       0       0     0     0             0   \n",
       "465-31-6         0          0       0       0     0     0             0   \n",
       "3913-81-3        0          0       0       1     0     0             0   \n",
       "106-24-1         0          0       0       0     0     0             0   \n",
       "507-70-0         0          0       0       0     0     0             0   \n",
       "3581-91-7        1          0       0       0     0     0             0   \n",
       "21662-09-9       0          0       0       0     0     0             0   \n",
       "15537-55-0       0          0       0       0     0     0             0   \n",
       "19700-21-1       0          0       0       0     0     1             0   \n",
       "3033-23-6        0          0       0       0     0     0             0   \n",
       "491-04-3         0          0       0       0     0     0             0   \n",
       "91-10-1          1          0       0       0     0     0             0   \n",
       "134346-43-3      0          0       0       0     0     0             0   \n",
       "16721-39-4       0          0       0       0     0     0             0   \n",
       "128386-31-2      0          0       0       0     0     0             0   \n",
       "4861-58-9        0          0       0       0     0     0             0   \n",
       "147159-48-6      0          0       0       0     0     0             0   \n",
       "3943-74-6        0          0       0       0     0     0             1   \n",
       "18675-35-9       0          0       0       0     0     0             0   \n",
       "562-74-3         0          0       1       0     0     0             0   \n",
       "16750-94-0       0          0       0       0     0     0             0   \n",
       "10458-14-7       0          0       0       0     1     0             0   \n",
       "619-62-5         0          0       0       0     0     0             0   \n",
       "498-16-8         0          0       0       0     0     0             0   \n",
       "98-55-5          0          0       0       0     1     0             0   \n",
       "17699-16-0       0          0       0       0     0     0             0   \n",
       "20407-84-5       0          0       0       0     0     0             0   \n",
       "89-80-5          0          0       0       0     1     0             0   \n",
       "5944-20-7        0          0       0       0     0     0             0   \n",
       "106-23-0         0          0       0       0     0     0             0   \n",
       "105683-99-6      0          0       0       0     0     0             0   \n",
       "876-17-5         0          0       0       0     0     0             0   \n",
       "2497-25-8        0          0       0       1     0     0             0   \n",
       "586-82-3         0          0       0       0     0     0             0   \n",
       "78-70-6          0          0       0       0     0     0             0   \n",
       "115-99-1         0          1       0       0     0     0             0   \n",
       "1200-67-5        0          0       0       0     0     0             0   \n",
       "1632-73-1        0          0       0       0     0     0             0   \n",
       "106-25-2         0          0       0       0     0     0             0   \n",
       "\n",
       "             anise  rubber  wood  ...  geranium  turpentine  fresh  spice  \\\n",
       "18479-68-0       0       0     0  ...         0           0      0      0   \n",
       "14575-74-7       0       0     0  ...         0           0      0      0   \n",
       "07.11.5258       0       0     0  ...         0           0      0      0   \n",
       "470-67-7         0       0     0  ...         0           0      0      1   \n",
       "470-82-6         0       0     0  ...         0           0      0      0   \n",
       "619-01-2         0       0     0  ...         0           0      0      1   \n",
       "1189-09-9        0       0     0  ...         0           0      0      0   \n",
       "124-76-5         0       0     0  ...         0           0      0      0   \n",
       "3913-71-1        0       0     0  ...         0           0      0      0   \n",
       "138-87-4         0       0     0  ...         0           0      0      0   \n",
       "541-58-2         0       1     0  ...         0           0      0      0   \n",
       "29887-38-5       0       0     0  ...         0           0      0      0   \n",
       "465-31-6         0       0     0  ...         0           0      0      0   \n",
       "3913-81-3        0       0     0  ...         0           0      0      0   \n",
       "106-24-1         0       0     0  ...         1           0      0      0   \n",
       "507-70-0         0       0     0  ...         0           0      0      0   \n",
       "3581-91-7        0       1     0  ...         0           0      0      0   \n",
       "21662-09-9       0       0     0  ...         0           0      0      0   \n",
       "15537-55-0       0       0     0  ...         0           0      0      0   \n",
       "19700-21-1       0       0     0  ...         0           0      0      0   \n",
       "3033-23-6        0       0     0  ...         0           0      0      0   \n",
       "491-04-3         0       0     0  ...         0           0      0      0   \n",
       "91-10-1          0       0     0  ...         0           0      0      0   \n",
       "134346-43-3      0       0     0  ...         0           0      0      0   \n",
       "16721-39-4       0       0     0  ...         0           0      0      0   \n",
       "128386-31-2      0       0     0  ...         0           0      0      0   \n",
       "4861-58-9        0       0     0  ...         0           0      0      0   \n",
       "147159-48-6      0       0     0  ...         0           0      0      0   \n",
       "3943-74-6        0       0     0  ...         0           0      0      0   \n",
       "18675-35-9       0       0     1  ...         0           0      0      1   \n",
       "562-74-3         0       0     0  ...         0           1      0      0   \n",
       "16750-94-0       0       0     0  ...         0           0      0      0   \n",
       "10458-14-7       0       0     0  ...         0           0      1      0   \n",
       "619-62-5         0       0     0  ...         0           0      0      0   \n",
       "498-16-8         0       0     0  ...         0           0      0      0   \n",
       "98-55-5          1       0     0  ...         0           0      0      0   \n",
       "17699-16-0       0       0     1  ...         0           0      0      0   \n",
       "20407-84-5       0       0     0  ...         0           0      0      0   \n",
       "89-80-5          0       0     0  ...         0           0      1      0   \n",
       "5944-20-7        0       0     0  ...         0           0      0      0   \n",
       "106-23-0         0       0     0  ...         0           0      0      0   \n",
       "105683-99-6      0       0     0  ...         0           0      0      0   \n",
       "876-17-5         0       0     0  ...         0           0      0      0   \n",
       "2497-25-8        0       0     0  ...         0           0      0      0   \n",
       "586-82-3         0       0     0  ...         0           0      0      0   \n",
       "78-70-6          0       0     0  ...         0           0      0      0   \n",
       "115-99-1         0       0     0  ...         0           0      0      0   \n",
       "1200-67-5        0       0     0  ...         0           0      0      0   \n",
       "1632-73-1        0       0     0  ...         0           0      0      0   \n",
       "106-25-2         0       0     0  ...         0           0      0      0   \n",
       "\n",
       "             mold  tallow  medicine  fruit  caramel  must  \n",
       "18479-68-0      0       0         0      1        0     0  \n",
       "14575-74-7      0       0         0      0        0     0  \n",
       "07.11.5258      0       0         0      0        0     0  \n",
       "470-67-7        0       0         0      0        0     0  \n",
       "470-82-6        0       0         0      0        0     0  \n",
       "619-01-2        0       0         0      0        0     0  \n",
       "1189-09-9       0       0         0      1        0     0  \n",
       "124-76-5        0       0         0      0        0     1  \n",
       "3913-71-1       0       1         0      0        0     0  \n",
       "138-87-4        0       0         0      0        0     1  \n",
       "541-58-2        1       0         0      0        0     0  \n",
       "29887-38-5      0       0         0      0        0     0  \n",
       "465-31-6        0       0         0      0        0     0  \n",
       "3913-81-3       0       1         0      0        0     0  \n",
       "106-24-1        0       0         0      0        0     0  \n",
       "507-70-0        0       0         0      0        0     0  \n",
       "3581-91-7       1       0         0      0        0     0  \n",
       "21662-09-9      0       0         0      0        0     1  \n",
       "15537-55-0      0       0         0      0        0     0  \n",
       "19700-21-1      0       0         0      0        0     0  \n",
       "3033-23-6       0       0         0      0        0     0  \n",
       "491-04-3        0       0         0      0        0     0  \n",
       "91-10-1         0       0         1      0        0     0  \n",
       "134346-43-3     0       0         0      0        0     0  \n",
       "16721-39-4      0       0         0      0        0     0  \n",
       "128386-31-2     0       0         0      0        0     0  \n",
       "4861-58-9       0       0         0      1        0     0  \n",
       "147159-48-6     0       1         0      0        0     0  \n",
       "3943-74-6       0       0         0      0        1     0  \n",
       "18675-35-9      0       0         0      0        0     0  \n",
       "562-74-3        0       0         0      0        0     1  \n",
       "16750-94-0      0       0         0      0        0     0  \n",
       "10458-14-7      0       0         0      0        0     0  \n",
       "619-62-5        0       0         0      0        0     0  \n",
       "498-16-8        0       0         0      0        0     0  \n",
       "98-55-5         0       0         0      0        0     0  \n",
       "17699-16-0      0       0         0      0        0     0  \n",
       "20407-84-5      0       0         0      0        0     0  \n",
       "89-80-5         0       0         0      0        0     0  \n",
       "5944-20-7       0       0         0      0        0     0  \n",
       "106-23-0        0       0         0      0        0     0  \n",
       "105683-99-6     0       1         0      0        0     0  \n",
       "876-17-5        0       0         0      0        0     0  \n",
       "2497-25-8       0       1         0      0        0     0  \n",
       "586-82-3        0       0         0      0        0     1  \n",
       "78-70-6         0       0         0      0        0     0  \n",
       "115-99-1        0       0         0      0        0     0  \n",
       "1200-67-5       0       0         0      0        0     0  \n",
       "1632-73-1       0       0         0      0        0     0  \n",
       "106-25-2        0       0         0      0        0     0  \n",
       "\n",
       "[50 rows x 37 columns]"
      ]
     },
     "execution_count": 28,
     "metadata": {},
     "output_type": "execute_result"
    }
   ],
   "source": [
    "# filters only relevant rows - only those ODs coming from indentified molecules\n",
    "OD = D[(D.index).isin(I_vector.index)]\n",
    "# get only important/matching columns\n",
    "OD = OD.loc[:, (OD != 0).any(axis=0)]\n",
    "OD "
   ]
  },
  {
   "attachments": {},
   "cell_type": "markdown",
   "metadata": {},
   "source": [
    "#### 3. OD ----------> OQ\n"
   ]
  },
  {
   "cell_type": "markdown",
   "metadata": {},
   "source": [
    "### Whisky Research institute"
   ]
  },
  {
   "cell_type": "code",
   "execution_count": 29,
   "metadata": {},
   "outputs": [],
   "source": [
    "Research_data = pd.read_csv('./data/swri_flavorwheel.csv', sep=';')\n",
    "Research_OQ_OD =  Research_data.drop(columns=Research_data.columns[0])\n",
    "Research_OSA_OQ = Research_data.drop(columns=Research_data.columns[2])"
   ]
  },
  {
   "cell_type": "code",
   "execution_count": 30,
   "metadata": {},
   "outputs": [],
   "source": [
    "OD_OQ = dict_to_matrix(dataframe_to_dict(Research_OQ_OD)).T\n",
    "OQ_OSA = dict_to_matrix(dataframe_to_dict(Research_OSA_OQ)).T\n",
    "# filter out rows with only 0\n",
    "OD_OQ = OD_OQ.loc[(OD_OQ.iloc[:,1:] != 0).any(axis=1)]\n",
    "OQ_OSA = OQ_OSA.loc[(OQ_OSA.iloc[:,1:] != 0).any(axis=1)]\n"
   ]
  },
  {
   "cell_type": "markdown",
   "metadata": {},
   "source": [
    "<span style=\"color:#FBB714\">OD_OQ</span>: Dataframe - all ODs x OQs from research institute"
   ]
  },
  {
   "cell_type": "code",
   "execution_count": 31,
   "metadata": {},
   "outputs": [
    {
     "data": {
      "text/html": [
       "<div>\n",
       "<style scoped>\n",
       "    .dataframe tbody tr th:only-of-type {\n",
       "        vertical-align: middle;\n",
       "    }\n",
       "\n",
       "    .dataframe tbody tr th {\n",
       "        vertical-align: top;\n",
       "    }\n",
       "\n",
       "    .dataframe thead th {\n",
       "        text-align: right;\n",
       "    }\n",
       "</style>\n",
       "<table border=\"1\" class=\"dataframe\">\n",
       "  <thead>\n",
       "    <tr style=\"text-align: right;\">\n",
       "      <th></th>\n",
       "      <th>Burnt</th>\n",
       "      <th>Smoky</th>\n",
       "      <th>Medicinal</th>\n",
       "      <th>Leathery</th>\n",
       "      <th>Tobacco</th>\n",
       "      <th>Sweaty</th>\n",
       "      <th>Dry cereals</th>\n",
       "      <th>Wet cereals</th>\n",
       "      <th>leafy</th>\n",
       "      <th>Herbal</th>\n",
       "      <th>...</th>\n",
       "      <th>Solvently</th>\n",
       "      <th>Soapy</th>\n",
       "      <th>Sweet</th>\n",
       "      <th>Woody</th>\n",
       "      <th>Nutty</th>\n",
       "      <th>Spicy</th>\n",
       "      <th>Oily</th>\n",
       "      <th>Sour</th>\n",
       "      <th>Sulphury</th>\n",
       "      <th>Stale</th>\n",
       "    </tr>\n",
       "  </thead>\n",
       "  <tbody>\n",
       "    <tr>\n",
       "      <th>Honeycomb</th>\n",
       "      <td>0</td>\n",
       "      <td>0</td>\n",
       "      <td>0</td>\n",
       "      <td>0</td>\n",
       "      <td>0</td>\n",
       "      <td>0</td>\n",
       "      <td>0</td>\n",
       "      <td>0</td>\n",
       "      <td>0</td>\n",
       "      <td>0</td>\n",
       "      <td>...</td>\n",
       "      <td>0</td>\n",
       "      <td>0</td>\n",
       "      <td>0</td>\n",
       "      <td>0</td>\n",
       "      <td>0</td>\n",
       "      <td>0</td>\n",
       "      <td>0</td>\n",
       "      <td>0</td>\n",
       "      <td>0</td>\n",
       "      <td>0</td>\n",
       "    </tr>\n",
       "    <tr>\n",
       "      <th>Butterscotch</th>\n",
       "      <td>0</td>\n",
       "      <td>0</td>\n",
       "      <td>0</td>\n",
       "      <td>0</td>\n",
       "      <td>0</td>\n",
       "      <td>0</td>\n",
       "      <td>0</td>\n",
       "      <td>0</td>\n",
       "      <td>0</td>\n",
       "      <td>0</td>\n",
       "      <td>...</td>\n",
       "      <td>0</td>\n",
       "      <td>0</td>\n",
       "      <td>0</td>\n",
       "      <td>0</td>\n",
       "      <td>0</td>\n",
       "      <td>0</td>\n",
       "      <td>0</td>\n",
       "      <td>0</td>\n",
       "      <td>0</td>\n",
       "      <td>0</td>\n",
       "    </tr>\n",
       "    <tr>\n",
       "      <th>Almond</th>\n",
       "      <td>0</td>\n",
       "      <td>0</td>\n",
       "      <td>0</td>\n",
       "      <td>0</td>\n",
       "      <td>0</td>\n",
       "      <td>0</td>\n",
       "      <td>0</td>\n",
       "      <td>0</td>\n",
       "      <td>0</td>\n",
       "      <td>0</td>\n",
       "      <td>...</td>\n",
       "      <td>0</td>\n",
       "      <td>0</td>\n",
       "      <td>0</td>\n",
       "      <td>0</td>\n",
       "      <td>0</td>\n",
       "      <td>0</td>\n",
       "      <td>0</td>\n",
       "      <td>0</td>\n",
       "      <td>0</td>\n",
       "      <td>0</td>\n",
       "    </tr>\n",
       "    <tr>\n",
       "      <th>Malt vinegar</th>\n",
       "      <td>0</td>\n",
       "      <td>0</td>\n",
       "      <td>0</td>\n",
       "      <td>0</td>\n",
       "      <td>0</td>\n",
       "      <td>0</td>\n",
       "      <td>0</td>\n",
       "      <td>0</td>\n",
       "      <td>0</td>\n",
       "      <td>0</td>\n",
       "      <td>...</td>\n",
       "      <td>0</td>\n",
       "      <td>0</td>\n",
       "      <td>0</td>\n",
       "      <td>0</td>\n",
       "      <td>0</td>\n",
       "      <td>0</td>\n",
       "      <td>0</td>\n",
       "      <td>0</td>\n",
       "      <td>0</td>\n",
       "      <td>0</td>\n",
       "    </tr>\n",
       "    <tr>\n",
       "      <th>resinous</th>\n",
       "      <td>0</td>\n",
       "      <td>0</td>\n",
       "      <td>0</td>\n",
       "      <td>0</td>\n",
       "      <td>0</td>\n",
       "      <td>0</td>\n",
       "      <td>0</td>\n",
       "      <td>0</td>\n",
       "      <td>0</td>\n",
       "      <td>0</td>\n",
       "      <td>...</td>\n",
       "      <td>0</td>\n",
       "      <td>0</td>\n",
       "      <td>0</td>\n",
       "      <td>0</td>\n",
       "      <td>0</td>\n",
       "      <td>0</td>\n",
       "      <td>0</td>\n",
       "      <td>0</td>\n",
       "      <td>0</td>\n",
       "      <td>0</td>\n",
       "    </tr>\n",
       "    <tr>\n",
       "      <th>...</th>\n",
       "      <td>...</td>\n",
       "      <td>...</td>\n",
       "      <td>...</td>\n",
       "      <td>...</td>\n",
       "      <td>...</td>\n",
       "      <td>...</td>\n",
       "      <td>...</td>\n",
       "      <td>...</td>\n",
       "      <td>...</td>\n",
       "      <td>...</td>\n",
       "      <td>...</td>\n",
       "      <td>...</td>\n",
       "      <td>...</td>\n",
       "      <td>...</td>\n",
       "      <td>...</td>\n",
       "      <td>...</td>\n",
       "      <td>...</td>\n",
       "      <td>...</td>\n",
       "      <td>...</td>\n",
       "      <td>...</td>\n",
       "      <td>...</td>\n",
       "    </tr>\n",
       "    <tr>\n",
       "      <th>limes</th>\n",
       "      <td>0</td>\n",
       "      <td>0</td>\n",
       "      <td>0</td>\n",
       "      <td>0</td>\n",
       "      <td>0</td>\n",
       "      <td>0</td>\n",
       "      <td>0</td>\n",
       "      <td>0</td>\n",
       "      <td>0</td>\n",
       "      <td>0</td>\n",
       "      <td>...</td>\n",
       "      <td>0</td>\n",
       "      <td>0</td>\n",
       "      <td>0</td>\n",
       "      <td>0</td>\n",
       "      <td>0</td>\n",
       "      <td>0</td>\n",
       "      <td>0</td>\n",
       "      <td>0</td>\n",
       "      <td>0</td>\n",
       "      <td>0</td>\n",
       "    </tr>\n",
       "    <tr>\n",
       "      <th>ice ceam</th>\n",
       "      <td>0</td>\n",
       "      <td>0</td>\n",
       "      <td>0</td>\n",
       "      <td>0</td>\n",
       "      <td>0</td>\n",
       "      <td>0</td>\n",
       "      <td>0</td>\n",
       "      <td>0</td>\n",
       "      <td>0</td>\n",
       "      <td>0</td>\n",
       "      <td>...</td>\n",
       "      <td>0</td>\n",
       "      <td>0</td>\n",
       "      <td>0</td>\n",
       "      <td>0</td>\n",
       "      <td>0</td>\n",
       "      <td>0</td>\n",
       "      <td>0</td>\n",
       "      <td>0</td>\n",
       "      <td>0</td>\n",
       "      <td>0</td>\n",
       "    </tr>\n",
       "    <tr>\n",
       "      <th>wet iron</th>\n",
       "      <td>0</td>\n",
       "      <td>0</td>\n",
       "      <td>0</td>\n",
       "      <td>0</td>\n",
       "      <td>0</td>\n",
       "      <td>0</td>\n",
       "      <td>0</td>\n",
       "      <td>0</td>\n",
       "      <td>0</td>\n",
       "      <td>0</td>\n",
       "      <td>...</td>\n",
       "      <td>0</td>\n",
       "      <td>0</td>\n",
       "      <td>0</td>\n",
       "      <td>0</td>\n",
       "      <td>0</td>\n",
       "      <td>0</td>\n",
       "      <td>0</td>\n",
       "      <td>0</td>\n",
       "      <td>0</td>\n",
       "      <td>0</td>\n",
       "    </tr>\n",
       "    <tr>\n",
       "      <th>porridge</th>\n",
       "      <td>0</td>\n",
       "      <td>0</td>\n",
       "      <td>0</td>\n",
       "      <td>0</td>\n",
       "      <td>0</td>\n",
       "      <td>0</td>\n",
       "      <td>0</td>\n",
       "      <td>1</td>\n",
       "      <td>0</td>\n",
       "      <td>0</td>\n",
       "      <td>...</td>\n",
       "      <td>0</td>\n",
       "      <td>0</td>\n",
       "      <td>0</td>\n",
       "      <td>0</td>\n",
       "      <td>0</td>\n",
       "      <td>0</td>\n",
       "      <td>0</td>\n",
       "      <td>0</td>\n",
       "      <td>0</td>\n",
       "      <td>0</td>\n",
       "    </tr>\n",
       "    <tr>\n",
       "      <th>grapefruit</th>\n",
       "      <td>0</td>\n",
       "      <td>0</td>\n",
       "      <td>0</td>\n",
       "      <td>0</td>\n",
       "      <td>0</td>\n",
       "      <td>0</td>\n",
       "      <td>0</td>\n",
       "      <td>0</td>\n",
       "      <td>0</td>\n",
       "      <td>0</td>\n",
       "      <td>...</td>\n",
       "      <td>0</td>\n",
       "      <td>0</td>\n",
       "      <td>0</td>\n",
       "      <td>0</td>\n",
       "      <td>0</td>\n",
       "      <td>0</td>\n",
       "      <td>0</td>\n",
       "      <td>0</td>\n",
       "      <td>0</td>\n",
       "      <td>0</td>\n",
       "    </tr>\n",
       "  </tbody>\n",
       "</table>\n",
       "<p>139 rows × 59 columns</p>\n",
       "</div>"
      ],
      "text/plain": [
       "              Burnt  Smoky  Medicinal  Leathery  Tobacco  Sweaty  Dry cereals  \\\n",
       "Honeycomb         0      0          0         0        0       0            0   \n",
       "Butterscotch      0      0          0         0        0       0            0   \n",
       "Almond            0      0          0         0        0       0            0   \n",
       "Malt vinegar      0      0          0         0        0       0            0   \n",
       "resinous          0      0          0         0        0       0            0   \n",
       "...             ...    ...        ...       ...      ...     ...          ...   \n",
       "limes             0      0          0         0        0       0            0   \n",
       "ice ceam          0      0          0         0        0       0            0   \n",
       "wet iron          0      0          0         0        0       0            0   \n",
       "porridge          0      0          0         0        0       0            0   \n",
       "grapefruit        0      0          0         0        0       0            0   \n",
       "\n",
       "              Wet cereals  leafy  Herbal  ...  Solvently  Soapy  Sweet  Woody  \\\n",
       "Honeycomb               0      0       0  ...          0      0      0      0   \n",
       "Butterscotch            0      0       0  ...          0      0      0      0   \n",
       "Almond                  0      0       0  ...          0      0      0      0   \n",
       "Malt vinegar            0      0       0  ...          0      0      0      0   \n",
       "resinous                0      0       0  ...          0      0      0      0   \n",
       "...                   ...    ...     ...  ...        ...    ...    ...    ...   \n",
       "limes                   0      0       0  ...          0      0      0      0   \n",
       "ice ceam                0      0       0  ...          0      0      0      0   \n",
       "wet iron                0      0       0  ...          0      0      0      0   \n",
       "porridge                1      0       0  ...          0      0      0      0   \n",
       "grapefruit              0      0       0  ...          0      0      0      0   \n",
       "\n",
       "              Nutty  Spicy  Oily  Sour  Sulphury  Stale  \n",
       "Honeycomb         0      0     0     0         0      0  \n",
       "Butterscotch      0      0     0     0         0      0  \n",
       "Almond            0      0     0     0         0      0  \n",
       "Malt vinegar      0      0     0     0         0      0  \n",
       "resinous          0      0     0     0         0      0  \n",
       "...             ...    ...   ...   ...       ...    ...  \n",
       "limes             0      0     0     0         0      0  \n",
       "ice ceam          0      0     0     0         0      0  \n",
       "wet iron          0      0     0     0         0      0  \n",
       "porridge          0      0     0     0         0      0  \n",
       "grapefruit        0      0     0     0         0      0  \n",
       "\n",
       "[139 rows x 59 columns]"
      ]
     },
     "execution_count": 31,
     "metadata": {},
     "output_type": "execute_result"
    }
   ],
   "source": [
    "OD_OQ"
   ]
  },
  {
   "cell_type": "markdown",
   "metadata": {},
   "source": [
    "<span style=\"color:#FBB714\">OQ_OSA</span>: Dataframe - all OQs x OSAs from research institute"
   ]
  },
  {
   "cell_type": "code",
   "execution_count": 32,
   "metadata": {},
   "outputs": [],
   "source": [
    "#OQ_OSA"
   ]
  },
  {
   "cell_type": "code",
   "execution_count": 33,
   "metadata": {},
   "outputs": [],
   "source": [
    "# find matching OQs to found ODs from massspec x flavornet\n",
    "matching_OQs, matching_OQs_dict = find_matching_entries(mol_flavors, OD_OQ)"
   ]
  },
  {
   "cell_type": "code",
   "execution_count": 34,
   "metadata": {},
   "outputs": [
    {
     "data": {
      "text/html": [
       "<div>\n",
       "<style scoped>\n",
       "    .dataframe tbody tr th:only-of-type {\n",
       "        vertical-align: middle;\n",
       "    }\n",
       "\n",
       "    .dataframe tbody tr th {\n",
       "        vertical-align: top;\n",
       "    }\n",
       "\n",
       "    .dataframe thead th {\n",
       "        text-align: right;\n",
       "    }\n",
       "</style>\n",
       "<table border=\"1\" class=\"dataframe\">\n",
       "  <thead>\n",
       "    <tr style=\"text-align: right;\">\n",
       "      <th></th>\n",
       "      <th>Green vegetables</th>\n",
       "      <th>Fresh flowers</th>\n",
       "      <th>Citrus</th>\n",
       "      <th>Toffee</th>\n",
       "      <th>Dried spice</th>\n",
       "      <th>Fruity</th>\n",
       "      <th>Sweet</th>\n",
       "      <th>Woody</th>\n",
       "      <th>Spicy</th>\n",
       "      <th>Oily</th>\n",
       "    </tr>\n",
       "  </thead>\n",
       "  <tbody>\n",
       "    <tr>\n",
       "      <th>Sweet</th>\n",
       "      <td>0</td>\n",
       "      <td>0</td>\n",
       "      <td>0</td>\n",
       "      <td>0</td>\n",
       "      <td>0</td>\n",
       "      <td>0</td>\n",
       "      <td>1</td>\n",
       "      <td>0</td>\n",
       "      <td>0</td>\n",
       "      <td>0</td>\n",
       "    </tr>\n",
       "    <tr>\n",
       "      <th>Roses</th>\n",
       "      <td>0</td>\n",
       "      <td>1</td>\n",
       "      <td>0</td>\n",
       "      <td>0</td>\n",
       "      <td>0</td>\n",
       "      <td>0</td>\n",
       "      <td>0</td>\n",
       "      <td>0</td>\n",
       "      <td>0</td>\n",
       "      <td>0</td>\n",
       "    </tr>\n",
       "    <tr>\n",
       "      <th>nutmeg</th>\n",
       "      <td>0</td>\n",
       "      <td>0</td>\n",
       "      <td>0</td>\n",
       "      <td>0</td>\n",
       "      <td>1</td>\n",
       "      <td>0</td>\n",
       "      <td>0</td>\n",
       "      <td>0</td>\n",
       "      <td>0</td>\n",
       "      <td>0</td>\n",
       "    </tr>\n",
       "    <tr>\n",
       "      <th>Spicy</th>\n",
       "      <td>0</td>\n",
       "      <td>0</td>\n",
       "      <td>0</td>\n",
       "      <td>0</td>\n",
       "      <td>0</td>\n",
       "      <td>0</td>\n",
       "      <td>0</td>\n",
       "      <td>0</td>\n",
       "      <td>1</td>\n",
       "      <td>0</td>\n",
       "    </tr>\n",
       "    <tr>\n",
       "      <th>oranges</th>\n",
       "      <td>0</td>\n",
       "      <td>0</td>\n",
       "      <td>1</td>\n",
       "      <td>0</td>\n",
       "      <td>0</td>\n",
       "      <td>0</td>\n",
       "      <td>0</td>\n",
       "      <td>0</td>\n",
       "      <td>0</td>\n",
       "      <td>0</td>\n",
       "    </tr>\n",
       "    <tr>\n",
       "      <th>Fruity</th>\n",
       "      <td>0</td>\n",
       "      <td>0</td>\n",
       "      <td>0</td>\n",
       "      <td>0</td>\n",
       "      <td>0</td>\n",
       "      <td>1</td>\n",
       "      <td>0</td>\n",
       "      <td>0</td>\n",
       "      <td>0</td>\n",
       "      <td>0</td>\n",
       "    </tr>\n",
       "    <tr>\n",
       "      <th>cucumber</th>\n",
       "      <td>1</td>\n",
       "      <td>0</td>\n",
       "      <td>0</td>\n",
       "      <td>0</td>\n",
       "      <td>0</td>\n",
       "      <td>0</td>\n",
       "      <td>0</td>\n",
       "      <td>0</td>\n",
       "      <td>0</td>\n",
       "      <td>0</td>\n",
       "    </tr>\n",
       "    <tr>\n",
       "      <th>Woody</th>\n",
       "      <td>0</td>\n",
       "      <td>0</td>\n",
       "      <td>0</td>\n",
       "      <td>0</td>\n",
       "      <td>0</td>\n",
       "      <td>0</td>\n",
       "      <td>0</td>\n",
       "      <td>1</td>\n",
       "      <td>0</td>\n",
       "      <td>0</td>\n",
       "    </tr>\n",
       "    <tr>\n",
       "      <th>Oily</th>\n",
       "      <td>0</td>\n",
       "      <td>0</td>\n",
       "      <td>0</td>\n",
       "      <td>0</td>\n",
       "      <td>0</td>\n",
       "      <td>0</td>\n",
       "      <td>0</td>\n",
       "      <td>0</td>\n",
       "      <td>0</td>\n",
       "      <td>1</td>\n",
       "    </tr>\n",
       "    <tr>\n",
       "      <th>Butterscotch</th>\n",
       "      <td>0</td>\n",
       "      <td>0</td>\n",
       "      <td>0</td>\n",
       "      <td>1</td>\n",
       "      <td>0</td>\n",
       "      <td>0</td>\n",
       "      <td>0</td>\n",
       "      <td>0</td>\n",
       "      <td>0</td>\n",
       "      <td>0</td>\n",
       "    </tr>\n",
       "  </tbody>\n",
       "</table>\n",
       "</div>"
      ],
      "text/plain": [
       "              Green vegetables  Fresh flowers  Citrus  Toffee  Dried spice  \\\n",
       "Sweet                        0              0       0       0            0   \n",
       "Roses                        0              1       0       0            0   \n",
       "nutmeg                       0              0       0       0            1   \n",
       "Spicy                        0              0       0       0            0   \n",
       "oranges                      0              0       1       0            0   \n",
       "Fruity                       0              0       0       0            0   \n",
       "cucumber                     1              0       0       0            0   \n",
       "Woody                        0              0       0       0            0   \n",
       "Oily                         0              0       0       0            0   \n",
       "Butterscotch                 0              0       0       1            0   \n",
       "\n",
       "              Fruity   Sweet  Woody  Spicy  Oily  \n",
       "Sweet               0      1      0      0     0  \n",
       "Roses               0      0      0      0     0  \n",
       "nutmeg              0      0      0      0     0  \n",
       "Spicy               0      0      0      1     0  \n",
       "oranges             0      0      0      0     0  \n",
       "Fruity              1      0      0      0     0  \n",
       "cucumber            0      0      0      0     0  \n",
       "Woody               0      0      1      0     0  \n",
       "Oily                0      0      0      0     1  \n",
       "Butterscotch        0      0      0      0     0  "
      ]
     },
     "execution_count": 34,
     "metadata": {},
     "output_type": "execute_result"
    }
   ],
   "source": [
    "# get only important columns\n",
    "matching_OQs = matching_OQs.loc[:, (matching_OQs != 0).any(axis=0)]\n",
    "matching_OQs"
   ]
  },
  {
   "cell_type": "code",
   "execution_count": 35,
   "metadata": {},
   "outputs": [
    {
     "data": {
      "text/plain": [
       "{'3033-23-6': {'Roses', 'Sweet'},\n",
       " '876-17-5': set(),\n",
       " '07.11.5258': set(),\n",
       " '21662-09-9': set(),\n",
       " '491-04-3': set(),\n",
       " '562-74-3': {'nutmeg'},\n",
       " '470-67-7': {'Spicy'},\n",
       " '470-82-6': {'Sweet'},\n",
       " '2497-25-8': {'oranges'},\n",
       " '3913-71-1': {'oranges'},\n",
       " '3913-81-3': {'oranges'},\n",
       " '4861-58-9': {'Fruity ', 'Sweet'},\n",
       " '586-82-3': set(),\n",
       " '105683-99-6': {'cucumber'},\n",
       " '147159-48-6': {'cucumber'},\n",
       " '29887-38-5': set(),\n",
       " '507-70-0': set(),\n",
       " '465-31-6': set(),\n",
       " '15537-55-0': set(),\n",
       " '106-23-0': set(),\n",
       " '619-01-2': {'Spicy'},\n",
       " '128386-31-2': set(),\n",
       " '1632-73-1': set(),\n",
       " '106-24-1': {'Roses'},\n",
       " '124-76-5': set(),\n",
       " '18675-35-9': {'Spicy', 'Woody'},\n",
       " '16750-94-0': {'Roses'},\n",
       " '5944-20-7': {'Roses'},\n",
       " '498-16-8': set(),\n",
       " '78-70-6': {'lavender'},\n",
       " '89-80-5': set(),\n",
       " '10458-14-7': set(),\n",
       " '106-25-2': {'Sweet'},\n",
       " '619-62-5': set(),\n",
       " '18479-68-0': {'Fruity '},\n",
       " '16721-39-4': set(),\n",
       " '91-10-1': set(),\n",
       " '17699-16-0': {'Woody'},\n",
       " '14575-74-7': set(),\n",
       " '98-55-5': {'Oily'},\n",
       " '138-87-4': set(),\n",
       " '541-58-2': set(),\n",
       " '3581-91-7': set(),\n",
       " '20407-84-5': {'Sweet'},\n",
       " '134346-43-3': set(),\n",
       " '19700-21-1': set(),\n",
       " '1200-67-5': set(),\n",
       " '115-99-1': set(),\n",
       " '1189-09-9': {'Fruity '},\n",
       " '3943-74-6': {'Butterscotch'}}"
      ]
     },
     "execution_count": 35,
     "metadata": {},
     "output_type": "execute_result"
    }
   ],
   "source": [
    "# to know which OD comes from which molecule\n",
    "matching_OQs_dict"
   ]
  },
  {
   "cell_type": "code",
   "execution_count": 36,
   "metadata": {},
   "outputs": [
    {
     "data": {
      "text/plain": [
       "{'3033-23-6': {'Roses', 'Sweet'},\n",
       " '562-74-3': {'nutmeg'},\n",
       " '470-67-7': {'Spicy'},\n",
       " '470-82-6': {'Sweet'},\n",
       " '2497-25-8': {'oranges'},\n",
       " '3913-71-1': {'oranges'},\n",
       " '3913-81-3': {'oranges'},\n",
       " '4861-58-9': {'Fruity ', 'Sweet'},\n",
       " '105683-99-6': {'cucumber'},\n",
       " '147159-48-6': {'cucumber'},\n",
       " '619-01-2': {'Spicy'},\n",
       " '106-24-1': {'Roses'},\n",
       " '18675-35-9': {'Spicy', 'Woody'},\n",
       " '16750-94-0': {'Roses'},\n",
       " '5944-20-7': {'Roses'},\n",
       " '78-70-6': {'lavender'},\n",
       " '106-25-2': {'Sweet'},\n",
       " '18479-68-0': {'Fruity '},\n",
       " '17699-16-0': {'Woody'},\n",
       " '98-55-5': {'Oily'},\n",
       " '20407-84-5': {'Sweet'},\n",
       " '1189-09-9': {'Fruity '},\n",
       " '3943-74-6': {'Butterscotch'}}"
      ]
     },
     "execution_count": 36,
     "metadata": {},
     "output_type": "execute_result"
    }
   ],
   "source": [
    "# to know which OD comes from which molecule\n",
    "#remove empty entries\n",
    "matching_OQs_dict = {key: value for key, value in matching_OQs_dict.items() if value}\n",
    "matching_OQs_dict"
   ]
  },
  {
   "cell_type": "markdown",
   "metadata": {},
   "source": [
    "<span style=\"color:#FBB714\">OQs</span>: Dataframe - ODs x OQs"
   ]
  },
  {
   "cell_type": "code",
   "execution_count": 37,
   "metadata": {},
   "outputs": [],
   "source": [
    "OQ_dict, OQs = create_matrix_from_dict(matching_OQs_dict, matching_OQs)"
   ]
  },
  {
   "cell_type": "code",
   "execution_count": 59,
   "metadata": {},
   "outputs": [
    {
     "data": {
      "text/html": [
       "<div>\n",
       "<style scoped>\n",
       "    .dataframe tbody tr th:only-of-type {\n",
       "        vertical-align: middle;\n",
       "    }\n",
       "\n",
       "    .dataframe tbody tr th {\n",
       "        vertical-align: top;\n",
       "    }\n",
       "\n",
       "    .dataframe thead th {\n",
       "        text-align: right;\n",
       "    }\n",
       "</style>\n",
       "<table border=\"1\" class=\"dataframe\">\n",
       "  <thead>\n",
       "    <tr style=\"text-align: right;\">\n",
       "      <th></th>\n",
       "      <th>Green vegetables</th>\n",
       "      <th>Fresh flowers</th>\n",
       "      <th>Citrus</th>\n",
       "      <th>Toffee</th>\n",
       "      <th>Dried spice</th>\n",
       "      <th>Fruity</th>\n",
       "      <th>Sweet</th>\n",
       "      <th>Woody</th>\n",
       "      <th>Spicy</th>\n",
       "      <th>Oily</th>\n",
       "    </tr>\n",
       "  </thead>\n",
       "  <tbody>\n",
       "    <tr>\n",
       "      <th>3033-23-6</th>\n",
       "      <td>0</td>\n",
       "      <td>1</td>\n",
       "      <td>0</td>\n",
       "      <td>0</td>\n",
       "      <td>0</td>\n",
       "      <td>0</td>\n",
       "      <td>1</td>\n",
       "      <td>0</td>\n",
       "      <td>0</td>\n",
       "      <td>0</td>\n",
       "    </tr>\n",
       "    <tr>\n",
       "      <th>876-17-5</th>\n",
       "      <td>0</td>\n",
       "      <td>0</td>\n",
       "      <td>0</td>\n",
       "      <td>0</td>\n",
       "      <td>0</td>\n",
       "      <td>0</td>\n",
       "      <td>0</td>\n",
       "      <td>0</td>\n",
       "      <td>0</td>\n",
       "      <td>0</td>\n",
       "    </tr>\n",
       "    <tr>\n",
       "      <th>07.11.5258</th>\n",
       "      <td>0</td>\n",
       "      <td>0</td>\n",
       "      <td>0</td>\n",
       "      <td>0</td>\n",
       "      <td>0</td>\n",
       "      <td>0</td>\n",
       "      <td>0</td>\n",
       "      <td>0</td>\n",
       "      <td>0</td>\n",
       "      <td>0</td>\n",
       "    </tr>\n",
       "    <tr>\n",
       "      <th>21662-09-9</th>\n",
       "      <td>0</td>\n",
       "      <td>0</td>\n",
       "      <td>0</td>\n",
       "      <td>0</td>\n",
       "      <td>0</td>\n",
       "      <td>0</td>\n",
       "      <td>0</td>\n",
       "      <td>0</td>\n",
       "      <td>0</td>\n",
       "      <td>0</td>\n",
       "    </tr>\n",
       "    <tr>\n",
       "      <th>491-04-3</th>\n",
       "      <td>0</td>\n",
       "      <td>0</td>\n",
       "      <td>0</td>\n",
       "      <td>0</td>\n",
       "      <td>0</td>\n",
       "      <td>0</td>\n",
       "      <td>0</td>\n",
       "      <td>0</td>\n",
       "      <td>0</td>\n",
       "      <td>0</td>\n",
       "    </tr>\n",
       "    <tr>\n",
       "      <th>562-74-3</th>\n",
       "      <td>0</td>\n",
       "      <td>0</td>\n",
       "      <td>0</td>\n",
       "      <td>0</td>\n",
       "      <td>1</td>\n",
       "      <td>0</td>\n",
       "      <td>0</td>\n",
       "      <td>0</td>\n",
       "      <td>0</td>\n",
       "      <td>0</td>\n",
       "    </tr>\n",
       "    <tr>\n",
       "      <th>470-67-7</th>\n",
       "      <td>0</td>\n",
       "      <td>0</td>\n",
       "      <td>0</td>\n",
       "      <td>0</td>\n",
       "      <td>0</td>\n",
       "      <td>0</td>\n",
       "      <td>0</td>\n",
       "      <td>0</td>\n",
       "      <td>1</td>\n",
       "      <td>0</td>\n",
       "    </tr>\n",
       "    <tr>\n",
       "      <th>470-82-6</th>\n",
       "      <td>0</td>\n",
       "      <td>0</td>\n",
       "      <td>0</td>\n",
       "      <td>0</td>\n",
       "      <td>0</td>\n",
       "      <td>0</td>\n",
       "      <td>1</td>\n",
       "      <td>0</td>\n",
       "      <td>0</td>\n",
       "      <td>0</td>\n",
       "    </tr>\n",
       "    <tr>\n",
       "      <th>2497-25-8</th>\n",
       "      <td>0</td>\n",
       "      <td>0</td>\n",
       "      <td>1</td>\n",
       "      <td>0</td>\n",
       "      <td>0</td>\n",
       "      <td>0</td>\n",
       "      <td>0</td>\n",
       "      <td>0</td>\n",
       "      <td>0</td>\n",
       "      <td>0</td>\n",
       "    </tr>\n",
       "    <tr>\n",
       "      <th>3913-71-1</th>\n",
       "      <td>0</td>\n",
       "      <td>0</td>\n",
       "      <td>1</td>\n",
       "      <td>0</td>\n",
       "      <td>0</td>\n",
       "      <td>0</td>\n",
       "      <td>0</td>\n",
       "      <td>0</td>\n",
       "      <td>0</td>\n",
       "      <td>0</td>\n",
       "    </tr>\n",
       "    <tr>\n",
       "      <th>3913-81-3</th>\n",
       "      <td>0</td>\n",
       "      <td>0</td>\n",
       "      <td>1</td>\n",
       "      <td>0</td>\n",
       "      <td>0</td>\n",
       "      <td>0</td>\n",
       "      <td>0</td>\n",
       "      <td>0</td>\n",
       "      <td>0</td>\n",
       "      <td>0</td>\n",
       "    </tr>\n",
       "    <tr>\n",
       "      <th>4861-58-9</th>\n",
       "      <td>0</td>\n",
       "      <td>0</td>\n",
       "      <td>0</td>\n",
       "      <td>0</td>\n",
       "      <td>0</td>\n",
       "      <td>1</td>\n",
       "      <td>1</td>\n",
       "      <td>0</td>\n",
       "      <td>0</td>\n",
       "      <td>0</td>\n",
       "    </tr>\n",
       "    <tr>\n",
       "      <th>586-82-3</th>\n",
       "      <td>0</td>\n",
       "      <td>0</td>\n",
       "      <td>0</td>\n",
       "      <td>0</td>\n",
       "      <td>0</td>\n",
       "      <td>0</td>\n",
       "      <td>0</td>\n",
       "      <td>0</td>\n",
       "      <td>0</td>\n",
       "      <td>0</td>\n",
       "    </tr>\n",
       "    <tr>\n",
       "      <th>105683-99-6</th>\n",
       "      <td>1</td>\n",
       "      <td>0</td>\n",
       "      <td>0</td>\n",
       "      <td>0</td>\n",
       "      <td>0</td>\n",
       "      <td>0</td>\n",
       "      <td>0</td>\n",
       "      <td>0</td>\n",
       "      <td>0</td>\n",
       "      <td>0</td>\n",
       "    </tr>\n",
       "    <tr>\n",
       "      <th>147159-48-6</th>\n",
       "      <td>1</td>\n",
       "      <td>0</td>\n",
       "      <td>0</td>\n",
       "      <td>0</td>\n",
       "      <td>0</td>\n",
       "      <td>0</td>\n",
       "      <td>0</td>\n",
       "      <td>0</td>\n",
       "      <td>0</td>\n",
       "      <td>0</td>\n",
       "    </tr>\n",
       "    <tr>\n",
       "      <th>29887-38-5</th>\n",
       "      <td>0</td>\n",
       "      <td>0</td>\n",
       "      <td>0</td>\n",
       "      <td>0</td>\n",
       "      <td>0</td>\n",
       "      <td>0</td>\n",
       "      <td>0</td>\n",
       "      <td>0</td>\n",
       "      <td>0</td>\n",
       "      <td>0</td>\n",
       "    </tr>\n",
       "    <tr>\n",
       "      <th>507-70-0</th>\n",
       "      <td>0</td>\n",
       "      <td>0</td>\n",
       "      <td>0</td>\n",
       "      <td>0</td>\n",
       "      <td>0</td>\n",
       "      <td>0</td>\n",
       "      <td>0</td>\n",
       "      <td>0</td>\n",
       "      <td>0</td>\n",
       "      <td>0</td>\n",
       "    </tr>\n",
       "    <tr>\n",
       "      <th>465-31-6</th>\n",
       "      <td>0</td>\n",
       "      <td>0</td>\n",
       "      <td>0</td>\n",
       "      <td>0</td>\n",
       "      <td>0</td>\n",
       "      <td>0</td>\n",
       "      <td>0</td>\n",
       "      <td>0</td>\n",
       "      <td>0</td>\n",
       "      <td>0</td>\n",
       "    </tr>\n",
       "    <tr>\n",
       "      <th>15537-55-0</th>\n",
       "      <td>0</td>\n",
       "      <td>0</td>\n",
       "      <td>0</td>\n",
       "      <td>0</td>\n",
       "      <td>0</td>\n",
       "      <td>0</td>\n",
       "      <td>0</td>\n",
       "      <td>0</td>\n",
       "      <td>0</td>\n",
       "      <td>0</td>\n",
       "    </tr>\n",
       "    <tr>\n",
       "      <th>106-23-0</th>\n",
       "      <td>0</td>\n",
       "      <td>0</td>\n",
       "      <td>0</td>\n",
       "      <td>0</td>\n",
       "      <td>0</td>\n",
       "      <td>0</td>\n",
       "      <td>0</td>\n",
       "      <td>0</td>\n",
       "      <td>0</td>\n",
       "      <td>0</td>\n",
       "    </tr>\n",
       "    <tr>\n",
       "      <th>619-01-2</th>\n",
       "      <td>0</td>\n",
       "      <td>0</td>\n",
       "      <td>0</td>\n",
       "      <td>0</td>\n",
       "      <td>0</td>\n",
       "      <td>0</td>\n",
       "      <td>0</td>\n",
       "      <td>0</td>\n",
       "      <td>1</td>\n",
       "      <td>0</td>\n",
       "    </tr>\n",
       "    <tr>\n",
       "      <th>128386-31-2</th>\n",
       "      <td>0</td>\n",
       "      <td>0</td>\n",
       "      <td>0</td>\n",
       "      <td>0</td>\n",
       "      <td>0</td>\n",
       "      <td>0</td>\n",
       "      <td>0</td>\n",
       "      <td>0</td>\n",
       "      <td>0</td>\n",
       "      <td>0</td>\n",
       "    </tr>\n",
       "    <tr>\n",
       "      <th>1632-73-1</th>\n",
       "      <td>0</td>\n",
       "      <td>0</td>\n",
       "      <td>0</td>\n",
       "      <td>0</td>\n",
       "      <td>0</td>\n",
       "      <td>0</td>\n",
       "      <td>0</td>\n",
       "      <td>0</td>\n",
       "      <td>0</td>\n",
       "      <td>0</td>\n",
       "    </tr>\n",
       "    <tr>\n",
       "      <th>106-24-1</th>\n",
       "      <td>0</td>\n",
       "      <td>1</td>\n",
       "      <td>0</td>\n",
       "      <td>0</td>\n",
       "      <td>0</td>\n",
       "      <td>0</td>\n",
       "      <td>0</td>\n",
       "      <td>0</td>\n",
       "      <td>0</td>\n",
       "      <td>0</td>\n",
       "    </tr>\n",
       "    <tr>\n",
       "      <th>124-76-5</th>\n",
       "      <td>0</td>\n",
       "      <td>0</td>\n",
       "      <td>0</td>\n",
       "      <td>0</td>\n",
       "      <td>0</td>\n",
       "      <td>0</td>\n",
       "      <td>0</td>\n",
       "      <td>0</td>\n",
       "      <td>0</td>\n",
       "      <td>0</td>\n",
       "    </tr>\n",
       "    <tr>\n",
       "      <th>18675-35-9</th>\n",
       "      <td>0</td>\n",
       "      <td>0</td>\n",
       "      <td>0</td>\n",
       "      <td>0</td>\n",
       "      <td>0</td>\n",
       "      <td>0</td>\n",
       "      <td>0</td>\n",
       "      <td>1</td>\n",
       "      <td>1</td>\n",
       "      <td>0</td>\n",
       "    </tr>\n",
       "    <tr>\n",
       "      <th>16750-94-0</th>\n",
       "      <td>0</td>\n",
       "      <td>1</td>\n",
       "      <td>0</td>\n",
       "      <td>0</td>\n",
       "      <td>0</td>\n",
       "      <td>0</td>\n",
       "      <td>0</td>\n",
       "      <td>0</td>\n",
       "      <td>0</td>\n",
       "      <td>0</td>\n",
       "    </tr>\n",
       "    <tr>\n",
       "      <th>5944-20-7</th>\n",
       "      <td>0</td>\n",
       "      <td>1</td>\n",
       "      <td>0</td>\n",
       "      <td>0</td>\n",
       "      <td>0</td>\n",
       "      <td>0</td>\n",
       "      <td>0</td>\n",
       "      <td>0</td>\n",
       "      <td>0</td>\n",
       "      <td>0</td>\n",
       "    </tr>\n",
       "    <tr>\n",
       "      <th>498-16-8</th>\n",
       "      <td>0</td>\n",
       "      <td>0</td>\n",
       "      <td>0</td>\n",
       "      <td>0</td>\n",
       "      <td>0</td>\n",
       "      <td>0</td>\n",
       "      <td>0</td>\n",
       "      <td>0</td>\n",
       "      <td>0</td>\n",
       "      <td>0</td>\n",
       "    </tr>\n",
       "    <tr>\n",
       "      <th>78-70-6</th>\n",
       "      <td>0</td>\n",
       "      <td>0</td>\n",
       "      <td>0</td>\n",
       "      <td>0</td>\n",
       "      <td>0</td>\n",
       "      <td>0</td>\n",
       "      <td>0</td>\n",
       "      <td>0</td>\n",
       "      <td>0</td>\n",
       "      <td>0</td>\n",
       "    </tr>\n",
       "    <tr>\n",
       "      <th>89-80-5</th>\n",
       "      <td>0</td>\n",
       "      <td>0</td>\n",
       "      <td>0</td>\n",
       "      <td>0</td>\n",
       "      <td>0</td>\n",
       "      <td>0</td>\n",
       "      <td>0</td>\n",
       "      <td>0</td>\n",
       "      <td>0</td>\n",
       "      <td>0</td>\n",
       "    </tr>\n",
       "    <tr>\n",
       "      <th>10458-14-7</th>\n",
       "      <td>0</td>\n",
       "      <td>0</td>\n",
       "      <td>0</td>\n",
       "      <td>0</td>\n",
       "      <td>0</td>\n",
       "      <td>0</td>\n",
       "      <td>0</td>\n",
       "      <td>0</td>\n",
       "      <td>0</td>\n",
       "      <td>0</td>\n",
       "    </tr>\n",
       "    <tr>\n",
       "      <th>106-25-2</th>\n",
       "      <td>0</td>\n",
       "      <td>0</td>\n",
       "      <td>0</td>\n",
       "      <td>0</td>\n",
       "      <td>0</td>\n",
       "      <td>0</td>\n",
       "      <td>1</td>\n",
       "      <td>0</td>\n",
       "      <td>0</td>\n",
       "      <td>0</td>\n",
       "    </tr>\n",
       "    <tr>\n",
       "      <th>619-62-5</th>\n",
       "      <td>0</td>\n",
       "      <td>0</td>\n",
       "      <td>0</td>\n",
       "      <td>0</td>\n",
       "      <td>0</td>\n",
       "      <td>0</td>\n",
       "      <td>0</td>\n",
       "      <td>0</td>\n",
       "      <td>0</td>\n",
       "      <td>0</td>\n",
       "    </tr>\n",
       "    <tr>\n",
       "      <th>18479-68-0</th>\n",
       "      <td>0</td>\n",
       "      <td>0</td>\n",
       "      <td>0</td>\n",
       "      <td>0</td>\n",
       "      <td>0</td>\n",
       "      <td>1</td>\n",
       "      <td>0</td>\n",
       "      <td>0</td>\n",
       "      <td>0</td>\n",
       "      <td>0</td>\n",
       "    </tr>\n",
       "    <tr>\n",
       "      <th>16721-39-4</th>\n",
       "      <td>0</td>\n",
       "      <td>0</td>\n",
       "      <td>0</td>\n",
       "      <td>0</td>\n",
       "      <td>0</td>\n",
       "      <td>0</td>\n",
       "      <td>0</td>\n",
       "      <td>0</td>\n",
       "      <td>0</td>\n",
       "      <td>0</td>\n",
       "    </tr>\n",
       "    <tr>\n",
       "      <th>91-10-1</th>\n",
       "      <td>0</td>\n",
       "      <td>0</td>\n",
       "      <td>0</td>\n",
       "      <td>0</td>\n",
       "      <td>0</td>\n",
       "      <td>0</td>\n",
       "      <td>0</td>\n",
       "      <td>0</td>\n",
       "      <td>0</td>\n",
       "      <td>0</td>\n",
       "    </tr>\n",
       "    <tr>\n",
       "      <th>17699-16-0</th>\n",
       "      <td>0</td>\n",
       "      <td>0</td>\n",
       "      <td>0</td>\n",
       "      <td>0</td>\n",
       "      <td>0</td>\n",
       "      <td>0</td>\n",
       "      <td>0</td>\n",
       "      <td>1</td>\n",
       "      <td>0</td>\n",
       "      <td>0</td>\n",
       "    </tr>\n",
       "    <tr>\n",
       "      <th>14575-74-7</th>\n",
       "      <td>0</td>\n",
       "      <td>0</td>\n",
       "      <td>0</td>\n",
       "      <td>0</td>\n",
       "      <td>0</td>\n",
       "      <td>0</td>\n",
       "      <td>0</td>\n",
       "      <td>0</td>\n",
       "      <td>0</td>\n",
       "      <td>0</td>\n",
       "    </tr>\n",
       "    <tr>\n",
       "      <th>98-55-5</th>\n",
       "      <td>0</td>\n",
       "      <td>0</td>\n",
       "      <td>0</td>\n",
       "      <td>0</td>\n",
       "      <td>0</td>\n",
       "      <td>0</td>\n",
       "      <td>0</td>\n",
       "      <td>0</td>\n",
       "      <td>0</td>\n",
       "      <td>1</td>\n",
       "    </tr>\n",
       "    <tr>\n",
       "      <th>138-87-4</th>\n",
       "      <td>0</td>\n",
       "      <td>0</td>\n",
       "      <td>0</td>\n",
       "      <td>0</td>\n",
       "      <td>0</td>\n",
       "      <td>0</td>\n",
       "      <td>0</td>\n",
       "      <td>0</td>\n",
       "      <td>0</td>\n",
       "      <td>0</td>\n",
       "    </tr>\n",
       "    <tr>\n",
       "      <th>541-58-2</th>\n",
       "      <td>0</td>\n",
       "      <td>0</td>\n",
       "      <td>0</td>\n",
       "      <td>0</td>\n",
       "      <td>0</td>\n",
       "      <td>0</td>\n",
       "      <td>0</td>\n",
       "      <td>0</td>\n",
       "      <td>0</td>\n",
       "      <td>0</td>\n",
       "    </tr>\n",
       "    <tr>\n",
       "      <th>3581-91-7</th>\n",
       "      <td>0</td>\n",
       "      <td>0</td>\n",
       "      <td>0</td>\n",
       "      <td>0</td>\n",
       "      <td>0</td>\n",
       "      <td>0</td>\n",
       "      <td>0</td>\n",
       "      <td>0</td>\n",
       "      <td>0</td>\n",
       "      <td>0</td>\n",
       "    </tr>\n",
       "    <tr>\n",
       "      <th>20407-84-5</th>\n",
       "      <td>0</td>\n",
       "      <td>0</td>\n",
       "      <td>0</td>\n",
       "      <td>0</td>\n",
       "      <td>0</td>\n",
       "      <td>0</td>\n",
       "      <td>1</td>\n",
       "      <td>0</td>\n",
       "      <td>0</td>\n",
       "      <td>0</td>\n",
       "    </tr>\n",
       "    <tr>\n",
       "      <th>134346-43-3</th>\n",
       "      <td>0</td>\n",
       "      <td>0</td>\n",
       "      <td>0</td>\n",
       "      <td>0</td>\n",
       "      <td>0</td>\n",
       "      <td>0</td>\n",
       "      <td>0</td>\n",
       "      <td>0</td>\n",
       "      <td>0</td>\n",
       "      <td>0</td>\n",
       "    </tr>\n",
       "    <tr>\n",
       "      <th>19700-21-1</th>\n",
       "      <td>0</td>\n",
       "      <td>0</td>\n",
       "      <td>0</td>\n",
       "      <td>0</td>\n",
       "      <td>0</td>\n",
       "      <td>0</td>\n",
       "      <td>0</td>\n",
       "      <td>0</td>\n",
       "      <td>0</td>\n",
       "      <td>0</td>\n",
       "    </tr>\n",
       "    <tr>\n",
       "      <th>1200-67-5</th>\n",
       "      <td>0</td>\n",
       "      <td>0</td>\n",
       "      <td>0</td>\n",
       "      <td>0</td>\n",
       "      <td>0</td>\n",
       "      <td>0</td>\n",
       "      <td>0</td>\n",
       "      <td>0</td>\n",
       "      <td>0</td>\n",
       "      <td>0</td>\n",
       "    </tr>\n",
       "    <tr>\n",
       "      <th>115-99-1</th>\n",
       "      <td>0</td>\n",
       "      <td>0</td>\n",
       "      <td>0</td>\n",
       "      <td>0</td>\n",
       "      <td>0</td>\n",
       "      <td>0</td>\n",
       "      <td>0</td>\n",
       "      <td>0</td>\n",
       "      <td>0</td>\n",
       "      <td>0</td>\n",
       "    </tr>\n",
       "    <tr>\n",
       "      <th>1189-09-9</th>\n",
       "      <td>0</td>\n",
       "      <td>0</td>\n",
       "      <td>0</td>\n",
       "      <td>0</td>\n",
       "      <td>0</td>\n",
       "      <td>1</td>\n",
       "      <td>0</td>\n",
       "      <td>0</td>\n",
       "      <td>0</td>\n",
       "      <td>0</td>\n",
       "    </tr>\n",
       "    <tr>\n",
       "      <th>3943-74-6</th>\n",
       "      <td>0</td>\n",
       "      <td>0</td>\n",
       "      <td>0</td>\n",
       "      <td>1</td>\n",
       "      <td>0</td>\n",
       "      <td>0</td>\n",
       "      <td>0</td>\n",
       "      <td>0</td>\n",
       "      <td>0</td>\n",
       "      <td>0</td>\n",
       "    </tr>\n",
       "  </tbody>\n",
       "</table>\n",
       "</div>"
      ],
      "text/plain": [
       "             Green vegetables  Fresh flowers  Citrus  Toffee  Dried spice  \\\n",
       "3033-23-6                   0              1       0       0            0   \n",
       "876-17-5                    0              0       0       0            0   \n",
       "07.11.5258                  0              0       0       0            0   \n",
       "21662-09-9                  0              0       0       0            0   \n",
       "491-04-3                    0              0       0       0            0   \n",
       "562-74-3                    0              0       0       0            1   \n",
       "470-67-7                    0              0       0       0            0   \n",
       "470-82-6                    0              0       0       0            0   \n",
       "2497-25-8                   0              0       1       0            0   \n",
       "3913-71-1                   0              0       1       0            0   \n",
       "3913-81-3                   0              0       1       0            0   \n",
       "4861-58-9                   0              0       0       0            0   \n",
       "586-82-3                    0              0       0       0            0   \n",
       "105683-99-6                 1              0       0       0            0   \n",
       "147159-48-6                 1              0       0       0            0   \n",
       "29887-38-5                  0              0       0       0            0   \n",
       "507-70-0                    0              0       0       0            0   \n",
       "465-31-6                    0              0       0       0            0   \n",
       "15537-55-0                  0              0       0       0            0   \n",
       "106-23-0                    0              0       0       0            0   \n",
       "619-01-2                    0              0       0       0            0   \n",
       "128386-31-2                 0              0       0       0            0   \n",
       "1632-73-1                   0              0       0       0            0   \n",
       "106-24-1                    0              1       0       0            0   \n",
       "124-76-5                    0              0       0       0            0   \n",
       "18675-35-9                  0              0       0       0            0   \n",
       "16750-94-0                  0              1       0       0            0   \n",
       "5944-20-7                   0              1       0       0            0   \n",
       "498-16-8                    0              0       0       0            0   \n",
       "78-70-6                     0              0       0       0            0   \n",
       "89-80-5                     0              0       0       0            0   \n",
       "10458-14-7                  0              0       0       0            0   \n",
       "106-25-2                    0              0       0       0            0   \n",
       "619-62-5                    0              0       0       0            0   \n",
       "18479-68-0                  0              0       0       0            0   \n",
       "16721-39-4                  0              0       0       0            0   \n",
       "91-10-1                     0              0       0       0            0   \n",
       "17699-16-0                  0              0       0       0            0   \n",
       "14575-74-7                  0              0       0       0            0   \n",
       "98-55-5                     0              0       0       0            0   \n",
       "138-87-4                    0              0       0       0            0   \n",
       "541-58-2                    0              0       0       0            0   \n",
       "3581-91-7                   0              0       0       0            0   \n",
       "20407-84-5                  0              0       0       0            0   \n",
       "134346-43-3                 0              0       0       0            0   \n",
       "19700-21-1                  0              0       0       0            0   \n",
       "1200-67-5                   0              0       0       0            0   \n",
       "115-99-1                    0              0       0       0            0   \n",
       "1189-09-9                   0              0       0       0            0   \n",
       "3943-74-6                   0              0       0       1            0   \n",
       "\n",
       "             Fruity   Sweet  Woody  Spicy  Oily  \n",
       "3033-23-6          0      1      0      0     0  \n",
       "876-17-5           0      0      0      0     0  \n",
       "07.11.5258         0      0      0      0     0  \n",
       "21662-09-9         0      0      0      0     0  \n",
       "491-04-3           0      0      0      0     0  \n",
       "562-74-3           0      0      0      0     0  \n",
       "470-67-7           0      0      0      1     0  \n",
       "470-82-6           0      1      0      0     0  \n",
       "2497-25-8          0      0      0      0     0  \n",
       "3913-71-1          0      0      0      0     0  \n",
       "3913-81-3          0      0      0      0     0  \n",
       "4861-58-9          1      1      0      0     0  \n",
       "586-82-3           0      0      0      0     0  \n",
       "105683-99-6        0      0      0      0     0  \n",
       "147159-48-6        0      0      0      0     0  \n",
       "29887-38-5         0      0      0      0     0  \n",
       "507-70-0           0      0      0      0     0  \n",
       "465-31-6           0      0      0      0     0  \n",
       "15537-55-0         0      0      0      0     0  \n",
       "106-23-0           0      0      0      0     0  \n",
       "619-01-2           0      0      0      1     0  \n",
       "128386-31-2        0      0      0      0     0  \n",
       "1632-73-1          0      0      0      0     0  \n",
       "106-24-1           0      0      0      0     0  \n",
       "124-76-5           0      0      0      0     0  \n",
       "18675-35-9         0      0      1      1     0  \n",
       "16750-94-0         0      0      0      0     0  \n",
       "5944-20-7          0      0      0      0     0  \n",
       "498-16-8           0      0      0      0     0  \n",
       "78-70-6            0      0      0      0     0  \n",
       "89-80-5            0      0      0      0     0  \n",
       "10458-14-7         0      0      0      0     0  \n",
       "106-25-2           0      1      0      0     0  \n",
       "619-62-5           0      0      0      0     0  \n",
       "18479-68-0         1      0      0      0     0  \n",
       "16721-39-4         0      0      0      0     0  \n",
       "91-10-1            0      0      0      0     0  \n",
       "17699-16-0         0      0      1      0     0  \n",
       "14575-74-7         0      0      0      0     0  \n",
       "98-55-5            0      0      0      0     1  \n",
       "138-87-4           0      0      0      0     0  \n",
       "541-58-2           0      0      0      0     0  \n",
       "3581-91-7          0      0      0      0     0  \n",
       "20407-84-5         0      1      0      0     0  \n",
       "134346-43-3        0      0      0      0     0  \n",
       "19700-21-1         0      0      0      0     0  \n",
       "1200-67-5          0      0      0      0     0  \n",
       "115-99-1           0      0      0      0     0  \n",
       "1189-09-9          1      0      0      0     0  \n",
       "3943-74-6          0      0      0      0     0  "
      ]
     },
     "execution_count": 59,
     "metadata": {},
     "output_type": "execute_result"
    }
   ],
   "source": [
    "OQs"
   ]
  },
  {
   "attachments": {},
   "cell_type": "markdown",
   "metadata": {},
   "source": [
    "#### 4.1 OQ ------ Binary Matrix -----> OSA\n"
   ]
  },
  {
   "cell_type": "code",
   "execution_count": 39,
   "metadata": {},
   "outputs": [
    {
     "data": {
      "text/html": [
       "<div>\n",
       "<style scoped>\n",
       "    .dataframe tbody tr th:only-of-type {\n",
       "        vertical-align: middle;\n",
       "    }\n",
       "\n",
       "    .dataframe tbody tr th {\n",
       "        vertical-align: top;\n",
       "    }\n",
       "\n",
       "    .dataframe thead th {\n",
       "        text-align: right;\n",
       "    }\n",
       "</style>\n",
       "<table border=\"1\" class=\"dataframe\">\n",
       "  <thead>\n",
       "    <tr style=\"text-align: right;\">\n",
       "      <th></th>\n",
       "      <th>peaty</th>\n",
       "      <th>feinty</th>\n",
       "      <th>cereal</th>\n",
       "      <th>Green/grassy</th>\n",
       "      <th>Floral</th>\n",
       "      <th>Fruity</th>\n",
       "      <th>Solvently</th>\n",
       "      <th>Soapy</th>\n",
       "      <th>Sweet</th>\n",
       "      <th>Woody</th>\n",
       "      <th>Nutty</th>\n",
       "      <th>Spicy</th>\n",
       "      <th>Oily</th>\n",
       "      <th>Sour</th>\n",
       "      <th>Sulphury</th>\n",
       "      <th>Stale</th>\n",
       "    </tr>\n",
       "  </thead>\n",
       "  <tbody>\n",
       "    <tr>\n",
       "      <th>Herbal</th>\n",
       "      <td>0</td>\n",
       "      <td>0</td>\n",
       "      <td>0</td>\n",
       "      <td>1</td>\n",
       "      <td>0</td>\n",
       "      <td>0</td>\n",
       "      <td>0</td>\n",
       "      <td>0</td>\n",
       "      <td>0</td>\n",
       "      <td>0</td>\n",
       "      <td>0</td>\n",
       "      <td>0</td>\n",
       "      <td>0</td>\n",
       "      <td>0</td>\n",
       "      <td>0</td>\n",
       "      <td>0</td>\n",
       "    </tr>\n",
       "    <tr>\n",
       "      <th>Perfumed</th>\n",
       "      <td>0</td>\n",
       "      <td>0</td>\n",
       "      <td>0</td>\n",
       "      <td>0</td>\n",
       "      <td>1</td>\n",
       "      <td>0</td>\n",
       "      <td>0</td>\n",
       "      <td>0</td>\n",
       "      <td>0</td>\n",
       "      <td>0</td>\n",
       "      <td>0</td>\n",
       "      <td>0</td>\n",
       "      <td>0</td>\n",
       "      <td>0</td>\n",
       "      <td>0</td>\n",
       "      <td>0</td>\n",
       "    </tr>\n",
       "    <tr>\n",
       "      <th>Spicy</th>\n",
       "      <td>0</td>\n",
       "      <td>0</td>\n",
       "      <td>0</td>\n",
       "      <td>0</td>\n",
       "      <td>0</td>\n",
       "      <td>0</td>\n",
       "      <td>0</td>\n",
       "      <td>0</td>\n",
       "      <td>0</td>\n",
       "      <td>0</td>\n",
       "      <td>0</td>\n",
       "      <td>1</td>\n",
       "      <td>0</td>\n",
       "      <td>0</td>\n",
       "      <td>0</td>\n",
       "      <td>0</td>\n",
       "    </tr>\n",
       "    <tr>\n",
       "      <th>Metallic</th>\n",
       "      <td>0</td>\n",
       "      <td>0</td>\n",
       "      <td>0</td>\n",
       "      <td>0</td>\n",
       "      <td>0</td>\n",
       "      <td>0</td>\n",
       "      <td>0</td>\n",
       "      <td>0</td>\n",
       "      <td>0</td>\n",
       "      <td>0</td>\n",
       "      <td>0</td>\n",
       "      <td>0</td>\n",
       "      <td>0</td>\n",
       "      <td>0</td>\n",
       "      <td>0</td>\n",
       "      <td>1</td>\n",
       "    </tr>\n",
       "    <tr>\n",
       "      <th>leafy</th>\n",
       "      <td>0</td>\n",
       "      <td>0</td>\n",
       "      <td>0</td>\n",
       "      <td>1</td>\n",
       "      <td>0</td>\n",
       "      <td>0</td>\n",
       "      <td>0</td>\n",
       "      <td>0</td>\n",
       "      <td>0</td>\n",
       "      <td>0</td>\n",
       "      <td>0</td>\n",
       "      <td>0</td>\n",
       "      <td>0</td>\n",
       "      <td>0</td>\n",
       "      <td>0</td>\n",
       "      <td>0</td>\n",
       "    </tr>\n",
       "    <tr>\n",
       "      <th>Solvently</th>\n",
       "      <td>0</td>\n",
       "      <td>0</td>\n",
       "      <td>0</td>\n",
       "      <td>0</td>\n",
       "      <td>0</td>\n",
       "      <td>0</td>\n",
       "      <td>1</td>\n",
       "      <td>0</td>\n",
       "      <td>0</td>\n",
       "      <td>0</td>\n",
       "      <td>0</td>\n",
       "      <td>0</td>\n",
       "      <td>0</td>\n",
       "      <td>0</td>\n",
       "      <td>0</td>\n",
       "      <td>0</td>\n",
       "    </tr>\n",
       "    <tr>\n",
       "      <th>Honey</th>\n",
       "      <td>0</td>\n",
       "      <td>0</td>\n",
       "      <td>0</td>\n",
       "      <td>0</td>\n",
       "      <td>0</td>\n",
       "      <td>0</td>\n",
       "      <td>0</td>\n",
       "      <td>0</td>\n",
       "      <td>1</td>\n",
       "      <td>0</td>\n",
       "      <td>0</td>\n",
       "      <td>0</td>\n",
       "      <td>0</td>\n",
       "      <td>0</td>\n",
       "      <td>0</td>\n",
       "      <td>0</td>\n",
       "    </tr>\n",
       "    <tr>\n",
       "      <th>Citrus</th>\n",
       "      <td>0</td>\n",
       "      <td>0</td>\n",
       "      <td>0</td>\n",
       "      <td>0</td>\n",
       "      <td>0</td>\n",
       "      <td>1</td>\n",
       "      <td>0</td>\n",
       "      <td>0</td>\n",
       "      <td>0</td>\n",
       "      <td>0</td>\n",
       "      <td>0</td>\n",
       "      <td>0</td>\n",
       "      <td>0</td>\n",
       "      <td>0</td>\n",
       "      <td>0</td>\n",
       "      <td>0</td>\n",
       "    </tr>\n",
       "    <tr>\n",
       "      <th>Struck match</th>\n",
       "      <td>0</td>\n",
       "      <td>0</td>\n",
       "      <td>0</td>\n",
       "      <td>0</td>\n",
       "      <td>0</td>\n",
       "      <td>0</td>\n",
       "      <td>0</td>\n",
       "      <td>0</td>\n",
       "      <td>0</td>\n",
       "      <td>0</td>\n",
       "      <td>0</td>\n",
       "      <td>0</td>\n",
       "      <td>0</td>\n",
       "      <td>0</td>\n",
       "      <td>1</td>\n",
       "      <td>0</td>\n",
       "    </tr>\n",
       "    <tr>\n",
       "      <th>Peppery</th>\n",
       "      <td>0</td>\n",
       "      <td>0</td>\n",
       "      <td>0</td>\n",
       "      <td>0</td>\n",
       "      <td>0</td>\n",
       "      <td>0</td>\n",
       "      <td>0</td>\n",
       "      <td>0</td>\n",
       "      <td>0</td>\n",
       "      <td>0</td>\n",
       "      <td>0</td>\n",
       "      <td>1</td>\n",
       "      <td>0</td>\n",
       "      <td>0</td>\n",
       "      <td>0</td>\n",
       "      <td>0</td>\n",
       "    </tr>\n",
       "    <tr>\n",
       "      <th>Floral</th>\n",
       "      <td>0</td>\n",
       "      <td>0</td>\n",
       "      <td>0</td>\n",
       "      <td>0</td>\n",
       "      <td>1</td>\n",
       "      <td>0</td>\n",
       "      <td>0</td>\n",
       "      <td>0</td>\n",
       "      <td>0</td>\n",
       "      <td>0</td>\n",
       "      <td>0</td>\n",
       "      <td>0</td>\n",
       "      <td>0</td>\n",
       "      <td>0</td>\n",
       "      <td>0</td>\n",
       "      <td>0</td>\n",
       "    </tr>\n",
       "    <tr>\n",
       "      <th>Unperfumed soap</th>\n",
       "      <td>0</td>\n",
       "      <td>0</td>\n",
       "      <td>0</td>\n",
       "      <td>0</td>\n",
       "      <td>0</td>\n",
       "      <td>0</td>\n",
       "      <td>0</td>\n",
       "      <td>1</td>\n",
       "      <td>0</td>\n",
       "      <td>0</td>\n",
       "      <td>0</td>\n",
       "      <td>0</td>\n",
       "      <td>0</td>\n",
       "      <td>0</td>\n",
       "      <td>0</td>\n",
       "      <td>0</td>\n",
       "    </tr>\n",
       "    <tr>\n",
       "      <th>Leathery</th>\n",
       "      <td>0</td>\n",
       "      <td>1</td>\n",
       "      <td>0</td>\n",
       "      <td>0</td>\n",
       "      <td>0</td>\n",
       "      <td>0</td>\n",
       "      <td>0</td>\n",
       "      <td>0</td>\n",
       "      <td>0</td>\n",
       "      <td>0</td>\n",
       "      <td>0</td>\n",
       "      <td>0</td>\n",
       "      <td>0</td>\n",
       "      <td>0</td>\n",
       "      <td>0</td>\n",
       "      <td>0</td>\n",
       "    </tr>\n",
       "    <tr>\n",
       "      <th>Soapy</th>\n",
       "      <td>0</td>\n",
       "      <td>0</td>\n",
       "      <td>0</td>\n",
       "      <td>0</td>\n",
       "      <td>0</td>\n",
       "      <td>0</td>\n",
       "      <td>0</td>\n",
       "      <td>1</td>\n",
       "      <td>0</td>\n",
       "      <td>0</td>\n",
       "      <td>0</td>\n",
       "      <td>0</td>\n",
       "      <td>0</td>\n",
       "      <td>0</td>\n",
       "      <td>0</td>\n",
       "      <td>0</td>\n",
       "    </tr>\n",
       "    <tr>\n",
       "      <th>Green vegetables</th>\n",
       "      <td>0</td>\n",
       "      <td>0</td>\n",
       "      <td>0</td>\n",
       "      <td>1</td>\n",
       "      <td>0</td>\n",
       "      <td>0</td>\n",
       "      <td>0</td>\n",
       "      <td>0</td>\n",
       "      <td>0</td>\n",
       "      <td>0</td>\n",
       "      <td>0</td>\n",
       "      <td>0</td>\n",
       "      <td>0</td>\n",
       "      <td>0</td>\n",
       "      <td>0</td>\n",
       "      <td>0</td>\n",
       "    </tr>\n",
       "    <tr>\n",
       "      <th>Coconut</th>\n",
       "      <td>0</td>\n",
       "      <td>0</td>\n",
       "      <td>0</td>\n",
       "      <td>0</td>\n",
       "      <td>0</td>\n",
       "      <td>0</td>\n",
       "      <td>0</td>\n",
       "      <td>0</td>\n",
       "      <td>0</td>\n",
       "      <td>0</td>\n",
       "      <td>1</td>\n",
       "      <td>0</td>\n",
       "      <td>0</td>\n",
       "      <td>0</td>\n",
       "      <td>0</td>\n",
       "      <td>0</td>\n",
       "    </tr>\n",
       "    <tr>\n",
       "      <th>Rubbery</th>\n",
       "      <td>0</td>\n",
       "      <td>0</td>\n",
       "      <td>0</td>\n",
       "      <td>0</td>\n",
       "      <td>0</td>\n",
       "      <td>0</td>\n",
       "      <td>0</td>\n",
       "      <td>0</td>\n",
       "      <td>0</td>\n",
       "      <td>0</td>\n",
       "      <td>0</td>\n",
       "      <td>0</td>\n",
       "      <td>0</td>\n",
       "      <td>0</td>\n",
       "      <td>1</td>\n",
       "      <td>0</td>\n",
       "    </tr>\n",
       "    <tr>\n",
       "      <th>Woody</th>\n",
       "      <td>0</td>\n",
       "      <td>0</td>\n",
       "      <td>0</td>\n",
       "      <td>0</td>\n",
       "      <td>0</td>\n",
       "      <td>0</td>\n",
       "      <td>0</td>\n",
       "      <td>0</td>\n",
       "      <td>0</td>\n",
       "      <td>1</td>\n",
       "      <td>0</td>\n",
       "      <td>0</td>\n",
       "      <td>0</td>\n",
       "      <td>0</td>\n",
       "      <td>0</td>\n",
       "      <td>0</td>\n",
       "    </tr>\n",
       "    <tr>\n",
       "      <th>Nuts</th>\n",
       "      <td>0</td>\n",
       "      <td>0</td>\n",
       "      <td>0</td>\n",
       "      <td>0</td>\n",
       "      <td>0</td>\n",
       "      <td>0</td>\n",
       "      <td>0</td>\n",
       "      <td>0</td>\n",
       "      <td>0</td>\n",
       "      <td>0</td>\n",
       "      <td>1</td>\n",
       "      <td>0</td>\n",
       "      <td>0</td>\n",
       "      <td>0</td>\n",
       "      <td>0</td>\n",
       "      <td>0</td>\n",
       "    </tr>\n",
       "    <tr>\n",
       "      <th>Toasted</th>\n",
       "      <td>0</td>\n",
       "      <td>0</td>\n",
       "      <td>0</td>\n",
       "      <td>0</td>\n",
       "      <td>0</td>\n",
       "      <td>0</td>\n",
       "      <td>0</td>\n",
       "      <td>0</td>\n",
       "      <td>0</td>\n",
       "      <td>0</td>\n",
       "      <td>1</td>\n",
       "      <td>0</td>\n",
       "      <td>0</td>\n",
       "      <td>0</td>\n",
       "      <td>0</td>\n",
       "      <td>0</td>\n",
       "    </tr>\n",
       "    <tr>\n",
       "      <th>Meaty</th>\n",
       "      <td>0</td>\n",
       "      <td>0</td>\n",
       "      <td>0</td>\n",
       "      <td>0</td>\n",
       "      <td>0</td>\n",
       "      <td>0</td>\n",
       "      <td>0</td>\n",
       "      <td>0</td>\n",
       "      <td>0</td>\n",
       "      <td>0</td>\n",
       "      <td>0</td>\n",
       "      <td>0</td>\n",
       "      <td>0</td>\n",
       "      <td>0</td>\n",
       "      <td>1</td>\n",
       "      <td>0</td>\n",
       "    </tr>\n",
       "    <tr>\n",
       "      <th>Buttery</th>\n",
       "      <td>0</td>\n",
       "      <td>0</td>\n",
       "      <td>0</td>\n",
       "      <td>0</td>\n",
       "      <td>0</td>\n",
       "      <td>0</td>\n",
       "      <td>0</td>\n",
       "      <td>0</td>\n",
       "      <td>0</td>\n",
       "      <td>0</td>\n",
       "      <td>0</td>\n",
       "      <td>0</td>\n",
       "      <td>1</td>\n",
       "      <td>0</td>\n",
       "      <td>0</td>\n",
       "      <td>0</td>\n",
       "    </tr>\n",
       "    <tr>\n",
       "      <th>Vomit</th>\n",
       "      <td>0</td>\n",
       "      <td>0</td>\n",
       "      <td>0</td>\n",
       "      <td>0</td>\n",
       "      <td>0</td>\n",
       "      <td>0</td>\n",
       "      <td>0</td>\n",
       "      <td>0</td>\n",
       "      <td>0</td>\n",
       "      <td>0</td>\n",
       "      <td>0</td>\n",
       "      <td>0</td>\n",
       "      <td>0</td>\n",
       "      <td>1</td>\n",
       "      <td>0</td>\n",
       "      <td>0</td>\n",
       "    </tr>\n",
       "    <tr>\n",
       "      <th>Sour</th>\n",
       "      <td>0</td>\n",
       "      <td>0</td>\n",
       "      <td>0</td>\n",
       "      <td>0</td>\n",
       "      <td>0</td>\n",
       "      <td>0</td>\n",
       "      <td>0</td>\n",
       "      <td>0</td>\n",
       "      <td>0</td>\n",
       "      <td>0</td>\n",
       "      <td>0</td>\n",
       "      <td>0</td>\n",
       "      <td>0</td>\n",
       "      <td>1</td>\n",
       "      <td>0</td>\n",
       "      <td>0</td>\n",
       "    </tr>\n",
       "    <tr>\n",
       "      <th>Oils/fats</th>\n",
       "      <td>0</td>\n",
       "      <td>0</td>\n",
       "      <td>0</td>\n",
       "      <td>0</td>\n",
       "      <td>0</td>\n",
       "      <td>0</td>\n",
       "      <td>0</td>\n",
       "      <td>0</td>\n",
       "      <td>0</td>\n",
       "      <td>0</td>\n",
       "      <td>0</td>\n",
       "      <td>0</td>\n",
       "      <td>1</td>\n",
       "      <td>0</td>\n",
       "      <td>0</td>\n",
       "      <td>0</td>\n",
       "    </tr>\n",
       "    <tr>\n",
       "      <th>Dried spice</th>\n",
       "      <td>0</td>\n",
       "      <td>0</td>\n",
       "      <td>0</td>\n",
       "      <td>0</td>\n",
       "      <td>0</td>\n",
       "      <td>0</td>\n",
       "      <td>0</td>\n",
       "      <td>0</td>\n",
       "      <td>0</td>\n",
       "      <td>0</td>\n",
       "      <td>0</td>\n",
       "      <td>1</td>\n",
       "      <td>0</td>\n",
       "      <td>0</td>\n",
       "      <td>0</td>\n",
       "      <td>0</td>\n",
       "    </tr>\n",
       "    <tr>\n",
       "      <th>Fresh fruit</th>\n",
       "      <td>0</td>\n",
       "      <td>0</td>\n",
       "      <td>0</td>\n",
       "      <td>0</td>\n",
       "      <td>0</td>\n",
       "      <td>1</td>\n",
       "      <td>0</td>\n",
       "      <td>0</td>\n",
       "      <td>0</td>\n",
       "      <td>0</td>\n",
       "      <td>0</td>\n",
       "      <td>0</td>\n",
       "      <td>0</td>\n",
       "      <td>0</td>\n",
       "      <td>0</td>\n",
       "      <td>0</td>\n",
       "    </tr>\n",
       "    <tr>\n",
       "      <th>Toffee</th>\n",
       "      <td>0</td>\n",
       "      <td>0</td>\n",
       "      <td>0</td>\n",
       "      <td>0</td>\n",
       "      <td>0</td>\n",
       "      <td>0</td>\n",
       "      <td>0</td>\n",
       "      <td>0</td>\n",
       "      <td>1</td>\n",
       "      <td>0</td>\n",
       "      <td>0</td>\n",
       "      <td>0</td>\n",
       "      <td>0</td>\n",
       "      <td>0</td>\n",
       "      <td>0</td>\n",
       "      <td>0</td>\n",
       "    </tr>\n",
       "    <tr>\n",
       "      <th>Vinegary</th>\n",
       "      <td>0</td>\n",
       "      <td>0</td>\n",
       "      <td>0</td>\n",
       "      <td>0</td>\n",
       "      <td>0</td>\n",
       "      <td>0</td>\n",
       "      <td>0</td>\n",
       "      <td>0</td>\n",
       "      <td>0</td>\n",
       "      <td>0</td>\n",
       "      <td>0</td>\n",
       "      <td>0</td>\n",
       "      <td>0</td>\n",
       "      <td>1</td>\n",
       "      <td>0</td>\n",
       "      <td>0</td>\n",
       "    </tr>\n",
       "    <tr>\n",
       "      <th>Fresh flowers</th>\n",
       "      <td>0</td>\n",
       "      <td>0</td>\n",
       "      <td>0</td>\n",
       "      <td>0</td>\n",
       "      <td>1</td>\n",
       "      <td>0</td>\n",
       "      <td>0</td>\n",
       "      <td>0</td>\n",
       "      <td>0</td>\n",
       "      <td>0</td>\n",
       "      <td>0</td>\n",
       "      <td>0</td>\n",
       "      <td>0</td>\n",
       "      <td>0</td>\n",
       "      <td>0</td>\n",
       "      <td>0</td>\n",
       "    </tr>\n",
       "    <tr>\n",
       "      <th>Vanilla</th>\n",
       "      <td>0</td>\n",
       "      <td>0</td>\n",
       "      <td>0</td>\n",
       "      <td>0</td>\n",
       "      <td>0</td>\n",
       "      <td>0</td>\n",
       "      <td>0</td>\n",
       "      <td>0</td>\n",
       "      <td>1</td>\n",
       "      <td>0</td>\n",
       "      <td>0</td>\n",
       "      <td>0</td>\n",
       "      <td>0</td>\n",
       "      <td>0</td>\n",
       "      <td>0</td>\n",
       "      <td>0</td>\n",
       "    </tr>\n",
       "    <tr>\n",
       "      <th>feinty</th>\n",
       "      <td>0</td>\n",
       "      <td>1</td>\n",
       "      <td>0</td>\n",
       "      <td>0</td>\n",
       "      <td>0</td>\n",
       "      <td>0</td>\n",
       "      <td>0</td>\n",
       "      <td>0</td>\n",
       "      <td>0</td>\n",
       "      <td>0</td>\n",
       "      <td>0</td>\n",
       "      <td>0</td>\n",
       "      <td>0</td>\n",
       "      <td>0</td>\n",
       "      <td>0</td>\n",
       "      <td>0</td>\n",
       "    </tr>\n",
       "    <tr>\n",
       "      <th>Dry cereals</th>\n",
       "      <td>0</td>\n",
       "      <td>0</td>\n",
       "      <td>1</td>\n",
       "      <td>0</td>\n",
       "      <td>0</td>\n",
       "      <td>0</td>\n",
       "      <td>0</td>\n",
       "      <td>0</td>\n",
       "      <td>0</td>\n",
       "      <td>0</td>\n",
       "      <td>0</td>\n",
       "      <td>0</td>\n",
       "      <td>0</td>\n",
       "      <td>0</td>\n",
       "      <td>0</td>\n",
       "      <td>0</td>\n",
       "    </tr>\n",
       "    <tr>\n",
       "      <th>Dried fruit</th>\n",
       "      <td>0</td>\n",
       "      <td>0</td>\n",
       "      <td>0</td>\n",
       "      <td>0</td>\n",
       "      <td>0</td>\n",
       "      <td>1</td>\n",
       "      <td>0</td>\n",
       "      <td>0</td>\n",
       "      <td>0</td>\n",
       "      <td>0</td>\n",
       "      <td>0</td>\n",
       "      <td>0</td>\n",
       "      <td>0</td>\n",
       "      <td>0</td>\n",
       "      <td>0</td>\n",
       "      <td>0</td>\n",
       "    </tr>\n",
       "    <tr>\n",
       "      <th>Oily</th>\n",
       "      <td>0</td>\n",
       "      <td>0</td>\n",
       "      <td>0</td>\n",
       "      <td>0</td>\n",
       "      <td>0</td>\n",
       "      <td>0</td>\n",
       "      <td>0</td>\n",
       "      <td>0</td>\n",
       "      <td>0</td>\n",
       "      <td>0</td>\n",
       "      <td>0</td>\n",
       "      <td>0</td>\n",
       "      <td>1</td>\n",
       "      <td>0</td>\n",
       "      <td>0</td>\n",
       "      <td>0</td>\n",
       "    </tr>\n",
       "    <tr>\n",
       "      <th>Okay</th>\n",
       "      <td>0</td>\n",
       "      <td>0</td>\n",
       "      <td>0</td>\n",
       "      <td>0</td>\n",
       "      <td>0</td>\n",
       "      <td>0</td>\n",
       "      <td>0</td>\n",
       "      <td>0</td>\n",
       "      <td>0</td>\n",
       "      <td>1</td>\n",
       "      <td>0</td>\n",
       "      <td>0</td>\n",
       "      <td>0</td>\n",
       "      <td>0</td>\n",
       "      <td>0</td>\n",
       "      <td>0</td>\n",
       "    </tr>\n",
       "    <tr>\n",
       "      <th>Sweaty</th>\n",
       "      <td>0</td>\n",
       "      <td>1</td>\n",
       "      <td>0</td>\n",
       "      <td>0</td>\n",
       "      <td>0</td>\n",
       "      <td>0</td>\n",
       "      <td>0</td>\n",
       "      <td>0</td>\n",
       "      <td>0</td>\n",
       "      <td>0</td>\n",
       "      <td>0</td>\n",
       "      <td>0</td>\n",
       "      <td>0</td>\n",
       "      <td>0</td>\n",
       "      <td>0</td>\n",
       "      <td>0</td>\n",
       "    </tr>\n",
       "    <tr>\n",
       "      <th>Waxy</th>\n",
       "      <td>0</td>\n",
       "      <td>0</td>\n",
       "      <td>0</td>\n",
       "      <td>0</td>\n",
       "      <td>0</td>\n",
       "      <td>0</td>\n",
       "      <td>0</td>\n",
       "      <td>0</td>\n",
       "      <td>0</td>\n",
       "      <td>0</td>\n",
       "      <td>0</td>\n",
       "      <td>0</td>\n",
       "      <td>1</td>\n",
       "      <td>0</td>\n",
       "      <td>0</td>\n",
       "      <td>0</td>\n",
       "    </tr>\n",
       "    <tr>\n",
       "      <th>Decaying</th>\n",
       "      <td>0</td>\n",
       "      <td>0</td>\n",
       "      <td>0</td>\n",
       "      <td>0</td>\n",
       "      <td>0</td>\n",
       "      <td>0</td>\n",
       "      <td>0</td>\n",
       "      <td>0</td>\n",
       "      <td>0</td>\n",
       "      <td>0</td>\n",
       "      <td>0</td>\n",
       "      <td>0</td>\n",
       "      <td>0</td>\n",
       "      <td>0</td>\n",
       "      <td>1</td>\n",
       "      <td>0</td>\n",
       "    </tr>\n",
       "    <tr>\n",
       "      <th>Musty</th>\n",
       "      <td>0</td>\n",
       "      <td>0</td>\n",
       "      <td>0</td>\n",
       "      <td>0</td>\n",
       "      <td>0</td>\n",
       "      <td>0</td>\n",
       "      <td>0</td>\n",
       "      <td>0</td>\n",
       "      <td>0</td>\n",
       "      <td>0</td>\n",
       "      <td>0</td>\n",
       "      <td>0</td>\n",
       "      <td>0</td>\n",
       "      <td>0</td>\n",
       "      <td>0</td>\n",
       "      <td>1</td>\n",
       "    </tr>\n",
       "    <tr>\n",
       "      <th>New wood</th>\n",
       "      <td>0</td>\n",
       "      <td>0</td>\n",
       "      <td>0</td>\n",
       "      <td>0</td>\n",
       "      <td>0</td>\n",
       "      <td>0</td>\n",
       "      <td>0</td>\n",
       "      <td>0</td>\n",
       "      <td>0</td>\n",
       "      <td>1</td>\n",
       "      <td>0</td>\n",
       "      <td>0</td>\n",
       "      <td>0</td>\n",
       "      <td>0</td>\n",
       "      <td>0</td>\n",
       "      <td>0</td>\n",
       "    </tr>\n",
       "    <tr>\n",
       "      <th>Wet cereals</th>\n",
       "      <td>0</td>\n",
       "      <td>0</td>\n",
       "      <td>1</td>\n",
       "      <td>0</td>\n",
       "      <td>0</td>\n",
       "      <td>0</td>\n",
       "      <td>0</td>\n",
       "      <td>0</td>\n",
       "      <td>0</td>\n",
       "      <td>0</td>\n",
       "      <td>0</td>\n",
       "      <td>0</td>\n",
       "      <td>0</td>\n",
       "      <td>0</td>\n",
       "      <td>0</td>\n",
       "      <td>0</td>\n",
       "    </tr>\n",
       "    <tr>\n",
       "      <th>Nutty</th>\n",
       "      <td>0</td>\n",
       "      <td>0</td>\n",
       "      <td>0</td>\n",
       "      <td>0</td>\n",
       "      <td>0</td>\n",
       "      <td>0</td>\n",
       "      <td>0</td>\n",
       "      <td>0</td>\n",
       "      <td>0</td>\n",
       "      <td>0</td>\n",
       "      <td>1</td>\n",
       "      <td>0</td>\n",
       "      <td>0</td>\n",
       "      <td>0</td>\n",
       "      <td>0</td>\n",
       "      <td>0</td>\n",
       "    </tr>\n",
       "    <tr>\n",
       "      <th>Green/grassy</th>\n",
       "      <td>0</td>\n",
       "      <td>0</td>\n",
       "      <td>0</td>\n",
       "      <td>1</td>\n",
       "      <td>0</td>\n",
       "      <td>0</td>\n",
       "      <td>0</td>\n",
       "      <td>0</td>\n",
       "      <td>0</td>\n",
       "      <td>0</td>\n",
       "      <td>0</td>\n",
       "      <td>0</td>\n",
       "      <td>0</td>\n",
       "      <td>0</td>\n",
       "      <td>0</td>\n",
       "      <td>0</td>\n",
       "    </tr>\n",
       "    <tr>\n",
       "      <th>Nail varnish remover</th>\n",
       "      <td>0</td>\n",
       "      <td>0</td>\n",
       "      <td>0</td>\n",
       "      <td>0</td>\n",
       "      <td>0</td>\n",
       "      <td>0</td>\n",
       "      <td>1</td>\n",
       "      <td>0</td>\n",
       "      <td>0</td>\n",
       "      <td>0</td>\n",
       "      <td>0</td>\n",
       "      <td>0</td>\n",
       "      <td>0</td>\n",
       "      <td>0</td>\n",
       "      <td>0</td>\n",
       "      <td>0</td>\n",
       "    </tr>\n",
       "    <tr>\n",
       "      <th>Fruity</th>\n",
       "      <td>0</td>\n",
       "      <td>0</td>\n",
       "      <td>0</td>\n",
       "      <td>0</td>\n",
       "      <td>0</td>\n",
       "      <td>1</td>\n",
       "      <td>0</td>\n",
       "      <td>0</td>\n",
       "      <td>0</td>\n",
       "      <td>0</td>\n",
       "      <td>0</td>\n",
       "      <td>0</td>\n",
       "      <td>0</td>\n",
       "      <td>0</td>\n",
       "      <td>0</td>\n",
       "      <td>0</td>\n",
       "    </tr>\n",
       "    <tr>\n",
       "      <th>Sweet</th>\n",
       "      <td>0</td>\n",
       "      <td>0</td>\n",
       "      <td>0</td>\n",
       "      <td>0</td>\n",
       "      <td>0</td>\n",
       "      <td>0</td>\n",
       "      <td>0</td>\n",
       "      <td>0</td>\n",
       "      <td>1</td>\n",
       "      <td>0</td>\n",
       "      <td>0</td>\n",
       "      <td>0</td>\n",
       "      <td>0</td>\n",
       "      <td>0</td>\n",
       "      <td>0</td>\n",
       "      <td>0</td>\n",
       "    </tr>\n",
       "    <tr>\n",
       "      <th>Cooked vegetables</th>\n",
       "      <td>0</td>\n",
       "      <td>0</td>\n",
       "      <td>0</td>\n",
       "      <td>0</td>\n",
       "      <td>0</td>\n",
       "      <td>0</td>\n",
       "      <td>0</td>\n",
       "      <td>0</td>\n",
       "      <td>0</td>\n",
       "      <td>0</td>\n",
       "      <td>0</td>\n",
       "      <td>0</td>\n",
       "      <td>0</td>\n",
       "      <td>0</td>\n",
       "      <td>1</td>\n",
       "      <td>0</td>\n",
       "    </tr>\n",
       "    <tr>\n",
       "      <th>cereal</th>\n",
       "      <td>0</td>\n",
       "      <td>0</td>\n",
       "      <td>1</td>\n",
       "      <td>0</td>\n",
       "      <td>0</td>\n",
       "      <td>0</td>\n",
       "      <td>0</td>\n",
       "      <td>0</td>\n",
       "      <td>0</td>\n",
       "      <td>0</td>\n",
       "      <td>0</td>\n",
       "      <td>0</td>\n",
       "      <td>0</td>\n",
       "      <td>0</td>\n",
       "      <td>0</td>\n",
       "      <td>0</td>\n",
       "    </tr>\n",
       "    <tr>\n",
       "      <th>Sulphury</th>\n",
       "      <td>0</td>\n",
       "      <td>0</td>\n",
       "      <td>0</td>\n",
       "      <td>0</td>\n",
       "      <td>0</td>\n",
       "      <td>0</td>\n",
       "      <td>0</td>\n",
       "      <td>0</td>\n",
       "      <td>0</td>\n",
       "      <td>0</td>\n",
       "      <td>0</td>\n",
       "      <td>0</td>\n",
       "      <td>0</td>\n",
       "      <td>0</td>\n",
       "      <td>1</td>\n",
       "      <td>0</td>\n",
       "    </tr>\n",
       "    <tr>\n",
       "      <th>Earthy</th>\n",
       "      <td>0</td>\n",
       "      <td>0</td>\n",
       "      <td>0</td>\n",
       "      <td>0</td>\n",
       "      <td>0</td>\n",
       "      <td>0</td>\n",
       "      <td>0</td>\n",
       "      <td>0</td>\n",
       "      <td>0</td>\n",
       "      <td>0</td>\n",
       "      <td>0</td>\n",
       "      <td>0</td>\n",
       "      <td>0</td>\n",
       "      <td>0</td>\n",
       "      <td>0</td>\n",
       "      <td>1</td>\n",
       "    </tr>\n",
       "    <tr>\n",
       "      <th>Cheesy</th>\n",
       "      <td>0</td>\n",
       "      <td>0</td>\n",
       "      <td>0</td>\n",
       "      <td>0</td>\n",
       "      <td>0</td>\n",
       "      <td>0</td>\n",
       "      <td>0</td>\n",
       "      <td>0</td>\n",
       "      <td>0</td>\n",
       "      <td>0</td>\n",
       "      <td>0</td>\n",
       "      <td>0</td>\n",
       "      <td>0</td>\n",
       "      <td>1</td>\n",
       "      <td>0</td>\n",
       "      <td>0</td>\n",
       "    </tr>\n",
       "    <tr>\n",
       "      <th>Tobacco</th>\n",
       "      <td>0</td>\n",
       "      <td>1</td>\n",
       "      <td>0</td>\n",
       "      <td>0</td>\n",
       "      <td>0</td>\n",
       "      <td>0</td>\n",
       "      <td>0</td>\n",
       "      <td>0</td>\n",
       "      <td>0</td>\n",
       "      <td>0</td>\n",
       "      <td>0</td>\n",
       "      <td>0</td>\n",
       "      <td>0</td>\n",
       "      <td>0</td>\n",
       "      <td>0</td>\n",
       "      <td>0</td>\n",
       "    </tr>\n",
       "    <tr>\n",
       "      <th>Artificial fruit flavourings Citrus</th>\n",
       "      <td>0</td>\n",
       "      <td>0</td>\n",
       "      <td>0</td>\n",
       "      <td>0</td>\n",
       "      <td>0</td>\n",
       "      <td>1</td>\n",
       "      <td>0</td>\n",
       "      <td>0</td>\n",
       "      <td>0</td>\n",
       "      <td>0</td>\n",
       "      <td>0</td>\n",
       "      <td>0</td>\n",
       "      <td>0</td>\n",
       "      <td>0</td>\n",
       "      <td>0</td>\n",
       "      <td>0</td>\n",
       "    </tr>\n",
       "    <tr>\n",
       "      <th>Stale</th>\n",
       "      <td>0</td>\n",
       "      <td>0</td>\n",
       "      <td>0</td>\n",
       "      <td>0</td>\n",
       "      <td>0</td>\n",
       "      <td>0</td>\n",
       "      <td>0</td>\n",
       "      <td>0</td>\n",
       "      <td>0</td>\n",
       "      <td>0</td>\n",
       "      <td>0</td>\n",
       "      <td>0</td>\n",
       "      <td>0</td>\n",
       "      <td>0</td>\n",
       "      <td>0</td>\n",
       "      <td>1</td>\n",
       "    </tr>\n",
       "  </tbody>\n",
       "</table>\n",
       "</div>"
      ],
      "text/plain": [
       "                                     peaty  feinty  cereal  Green/grassy  \\\n",
       "Herbal                                   0       0       0             1   \n",
       "Perfumed                                 0       0       0             0   \n",
       "Spicy                                    0       0       0             0   \n",
       "Metallic                                 0       0       0             0   \n",
       "leafy                                    0       0       0             1   \n",
       "Solvently                                0       0       0             0   \n",
       "Honey                                    0       0       0             0   \n",
       "Citrus                                   0       0       0             0   \n",
       "Struck match                             0       0       0             0   \n",
       "Peppery                                  0       0       0             0   \n",
       "Floral                                   0       0       0             0   \n",
       "Unperfumed soap                          0       0       0             0   \n",
       "Leathery                                 0       1       0             0   \n",
       "Soapy                                    0       0       0             0   \n",
       "Green vegetables                         0       0       0             1   \n",
       "Coconut                                  0       0       0             0   \n",
       "Rubbery                                  0       0       0             0   \n",
       "Woody                                    0       0       0             0   \n",
       "Nuts                                     0       0       0             0   \n",
       "Toasted                                  0       0       0             0   \n",
       "Meaty                                    0       0       0             0   \n",
       "Buttery                                  0       0       0             0   \n",
       "Vomit                                    0       0       0             0   \n",
       "Sour                                     0       0       0             0   \n",
       "Oils/fats                                0       0       0             0   \n",
       "Dried spice                              0       0       0             0   \n",
       "Fresh fruit                              0       0       0             0   \n",
       "Toffee                                   0       0       0             0   \n",
       "Vinegary                                 0       0       0             0   \n",
       "Fresh flowers                            0       0       0             0   \n",
       "Vanilla                                  0       0       0             0   \n",
       "feinty                                   0       1       0             0   \n",
       "Dry cereals                              0       0       1             0   \n",
       "Dried fruit                              0       0       0             0   \n",
       "Oily                                     0       0       0             0   \n",
       "Okay                                     0       0       0             0   \n",
       "Sweaty                                   0       1       0             0   \n",
       "Waxy                                     0       0       0             0   \n",
       "Decaying                                 0       0       0             0   \n",
       "Musty                                    0       0       0             0   \n",
       "New wood                                 0       0       0             0   \n",
       "Wet cereals                              0       0       1             0   \n",
       "Nutty                                    0       0       0             0   \n",
       "Green/grassy                             0       0       0             1   \n",
       "Nail varnish remover                     0       0       0             0   \n",
       "Fruity                                   0       0       0             0   \n",
       "Sweet                                    0       0       0             0   \n",
       "Cooked vegetables                        0       0       0             0   \n",
       "cereal                                   0       0       1             0   \n",
       "Sulphury                                 0       0       0             0   \n",
       "Earthy                                   0       0       0             0   \n",
       "Cheesy                                   0       0       0             0   \n",
       "Tobacco                                  0       1       0             0   \n",
       "Artificial fruit flavourings Citrus      0       0       0             0   \n",
       "Stale                                    0       0       0             0   \n",
       "\n",
       "                                     Floral  Fruity   Solvently  Soapy  Sweet  \\\n",
       "Herbal                                    0        0          0      0      0   \n",
       "Perfumed                                  1        0          0      0      0   \n",
       "Spicy                                     0        0          0      0      0   \n",
       "Metallic                                  0        0          0      0      0   \n",
       "leafy                                     0        0          0      0      0   \n",
       "Solvently                                 0        0          1      0      0   \n",
       "Honey                                     0        0          0      0      1   \n",
       "Citrus                                    0        1          0      0      0   \n",
       "Struck match                              0        0          0      0      0   \n",
       "Peppery                                   0        0          0      0      0   \n",
       "Floral                                    1        0          0      0      0   \n",
       "Unperfumed soap                           0        0          0      1      0   \n",
       "Leathery                                  0        0          0      0      0   \n",
       "Soapy                                     0        0          0      1      0   \n",
       "Green vegetables                          0        0          0      0      0   \n",
       "Coconut                                   0        0          0      0      0   \n",
       "Rubbery                                   0        0          0      0      0   \n",
       "Woody                                     0        0          0      0      0   \n",
       "Nuts                                      0        0          0      0      0   \n",
       "Toasted                                   0        0          0      0      0   \n",
       "Meaty                                     0        0          0      0      0   \n",
       "Buttery                                   0        0          0      0      0   \n",
       "Vomit                                     0        0          0      0      0   \n",
       "Sour                                      0        0          0      0      0   \n",
       "Oils/fats                                 0        0          0      0      0   \n",
       "Dried spice                               0        0          0      0      0   \n",
       "Fresh fruit                               0        1          0      0      0   \n",
       "Toffee                                    0        0          0      0      1   \n",
       "Vinegary                                  0        0          0      0      0   \n",
       "Fresh flowers                             1        0          0      0      0   \n",
       "Vanilla                                   0        0          0      0      1   \n",
       "feinty                                    0        0          0      0      0   \n",
       "Dry cereals                               0        0          0      0      0   \n",
       "Dried fruit                               0        1          0      0      0   \n",
       "Oily                                      0        0          0      0      0   \n",
       "Okay                                      0        0          0      0      0   \n",
       "Sweaty                                    0        0          0      0      0   \n",
       "Waxy                                      0        0          0      0      0   \n",
       "Decaying                                  0        0          0      0      0   \n",
       "Musty                                     0        0          0      0      0   \n",
       "New wood                                  0        0          0      0      0   \n",
       "Wet cereals                               0        0          0      0      0   \n",
       "Nutty                                     0        0          0      0      0   \n",
       "Green/grassy                              0        0          0      0      0   \n",
       "Nail varnish remover                      0        0          1      0      0   \n",
       "Fruity                                    0        1          0      0      0   \n",
       "Sweet                                     0        0          0      0      1   \n",
       "Cooked vegetables                         0        0          0      0      0   \n",
       "cereal                                    0        0          0      0      0   \n",
       "Sulphury                                  0        0          0      0      0   \n",
       "Earthy                                    0        0          0      0      0   \n",
       "Cheesy                                    0        0          0      0      0   \n",
       "Tobacco                                   0        0          0      0      0   \n",
       "Artificial fruit flavourings Citrus       0        1          0      0      0   \n",
       "Stale                                     0        0          0      0      0   \n",
       "\n",
       "                                     Woody  Nutty  Spicy  Oily  Sour  \\\n",
       "Herbal                                   0      0      0     0     0   \n",
       "Perfumed                                 0      0      0     0     0   \n",
       "Spicy                                    0      0      1     0     0   \n",
       "Metallic                                 0      0      0     0     0   \n",
       "leafy                                    0      0      0     0     0   \n",
       "Solvently                                0      0      0     0     0   \n",
       "Honey                                    0      0      0     0     0   \n",
       "Citrus                                   0      0      0     0     0   \n",
       "Struck match                             0      0      0     0     0   \n",
       "Peppery                                  0      0      1     0     0   \n",
       "Floral                                   0      0      0     0     0   \n",
       "Unperfumed soap                          0      0      0     0     0   \n",
       "Leathery                                 0      0      0     0     0   \n",
       "Soapy                                    0      0      0     0     0   \n",
       "Green vegetables                         0      0      0     0     0   \n",
       "Coconut                                  0      1      0     0     0   \n",
       "Rubbery                                  0      0      0     0     0   \n",
       "Woody                                    1      0      0     0     0   \n",
       "Nuts                                     0      1      0     0     0   \n",
       "Toasted                                  0      1      0     0     0   \n",
       "Meaty                                    0      0      0     0     0   \n",
       "Buttery                                  0      0      0     1     0   \n",
       "Vomit                                    0      0      0     0     1   \n",
       "Sour                                     0      0      0     0     1   \n",
       "Oils/fats                                0      0      0     1     0   \n",
       "Dried spice                              0      0      1     0     0   \n",
       "Fresh fruit                              0      0      0     0     0   \n",
       "Toffee                                   0      0      0     0     0   \n",
       "Vinegary                                 0      0      0     0     1   \n",
       "Fresh flowers                            0      0      0     0     0   \n",
       "Vanilla                                  0      0      0     0     0   \n",
       "feinty                                   0      0      0     0     0   \n",
       "Dry cereals                              0      0      0     0     0   \n",
       "Dried fruit                              0      0      0     0     0   \n",
       "Oily                                     0      0      0     1     0   \n",
       "Okay                                     1      0      0     0     0   \n",
       "Sweaty                                   0      0      0     0     0   \n",
       "Waxy                                     0      0      0     1     0   \n",
       "Decaying                                 0      0      0     0     0   \n",
       "Musty                                    0      0      0     0     0   \n",
       "New wood                                 1      0      0     0     0   \n",
       "Wet cereals                              0      0      0     0     0   \n",
       "Nutty                                    0      1      0     0     0   \n",
       "Green/grassy                             0      0      0     0     0   \n",
       "Nail varnish remover                     0      0      0     0     0   \n",
       "Fruity                                   0      0      0     0     0   \n",
       "Sweet                                    0      0      0     0     0   \n",
       "Cooked vegetables                        0      0      0     0     0   \n",
       "cereal                                   0      0      0     0     0   \n",
       "Sulphury                                 0      0      0     0     0   \n",
       "Earthy                                   0      0      0     0     0   \n",
       "Cheesy                                   0      0      0     0     1   \n",
       "Tobacco                                  0      0      0     0     0   \n",
       "Artificial fruit flavourings Citrus      0      0      0     0     0   \n",
       "Stale                                    0      0      0     0     0   \n",
       "\n",
       "                                     Sulphury  Stale  \n",
       "Herbal                                      0      0  \n",
       "Perfumed                                    0      0  \n",
       "Spicy                                       0      0  \n",
       "Metallic                                    0      1  \n",
       "leafy                                       0      0  \n",
       "Solvently                                   0      0  \n",
       "Honey                                       0      0  \n",
       "Citrus                                      0      0  \n",
       "Struck match                                1      0  \n",
       "Peppery                                     0      0  \n",
       "Floral                                      0      0  \n",
       "Unperfumed soap                             0      0  \n",
       "Leathery                                    0      0  \n",
       "Soapy                                       0      0  \n",
       "Green vegetables                            0      0  \n",
       "Coconut                                     0      0  \n",
       "Rubbery                                     1      0  \n",
       "Woody                                       0      0  \n",
       "Nuts                                        0      0  \n",
       "Toasted                                     0      0  \n",
       "Meaty                                       1      0  \n",
       "Buttery                                     0      0  \n",
       "Vomit                                       0      0  \n",
       "Sour                                        0      0  \n",
       "Oils/fats                                   0      0  \n",
       "Dried spice                                 0      0  \n",
       "Fresh fruit                                 0      0  \n",
       "Toffee                                      0      0  \n",
       "Vinegary                                    0      0  \n",
       "Fresh flowers                               0      0  \n",
       "Vanilla                                     0      0  \n",
       "feinty                                      0      0  \n",
       "Dry cereals                                 0      0  \n",
       "Dried fruit                                 0      0  \n",
       "Oily                                        0      0  \n",
       "Okay                                        0      0  \n",
       "Sweaty                                      0      0  \n",
       "Waxy                                        0      0  \n",
       "Decaying                                    1      0  \n",
       "Musty                                       0      1  \n",
       "New wood                                    0      0  \n",
       "Wet cereals                                 0      0  \n",
       "Nutty                                       0      0  \n",
       "Green/grassy                                0      0  \n",
       "Nail varnish remover                        0      0  \n",
       "Fruity                                      0      0  \n",
       "Sweet                                       0      0  \n",
       "Cooked vegetables                           1      0  \n",
       "cereal                                      0      0  \n",
       "Sulphury                                    1      0  \n",
       "Earthy                                      0      1  \n",
       "Cheesy                                      0      0  \n",
       "Tobacco                                     0      0  \n",
       "Artificial fruit flavourings Citrus         0      0  \n",
       "Stale                                       0      1  "
      ]
     },
     "execution_count": 39,
     "metadata": {},
     "output_type": "execute_result"
    }
   ],
   "source": [
    "OQ_OSA"
   ]
  },
  {
   "cell_type": "code",
   "execution_count": 40,
   "metadata": {},
   "outputs": [],
   "source": [
    "# find matching OQs to found ODs from massspec x flavornet\n",
    "matching_OSAs, matching_OSAs_dict = find_matching_entries(OQ_dict, OQ_OSA)"
   ]
  },
  {
   "cell_type": "code",
   "execution_count": 41,
   "metadata": {},
   "outputs": [],
   "source": [
    "#TODO: remove redundant entries"
   ]
  },
  {
   "cell_type": "code",
   "execution_count": 65,
   "metadata": {},
   "outputs": [
    {
     "name": "stdout",
     "output_type": "stream",
     "text": [
      "                  peaty  feinty  cereal  Green/grassy  Floral  Fruity   \\\n",
      "Fresh flowers         0       0       0             0       1        0   \n",
      "Sweet                 0       0       0             0       0        0   \n",
      "Dried spice           0       0       0             0       0        0   \n",
      "Citrus                0       0       0             0       0        1   \n",
      "Green vegetables      0       0       0             1       0        0   \n",
      "Woody                 0       0       0             0       0        0   \n",
      "\n",
      "                  Solvently  Soapy  Sweet  Woody  Nutty  Spicy  Oily  Sour  \\\n",
      "Fresh flowers             0      0      0      0      0      0     0     0   \n",
      "Sweet                     0      0      1      0      0      0     0     0   \n",
      "Dried spice               0      0      0      0      0      1     0     0   \n",
      "Citrus                    0      0      0      0      0      0     0     0   \n",
      "Green vegetables          0      0      0      0      0      0     0     0   \n",
      "Woody                     0      0      0      1      0      0     0     0   \n",
      "\n",
      "                  Sulphury  Stale  \n",
      "Fresh flowers            0      0  \n",
      "Sweet                    0      0  \n",
      "Dried spice              0      0  \n",
      "Citrus                   0      0  \n",
      "Green vegetables         0      0  \n",
      "Woody                    0      0  \n"
     ]
    }
   ],
   "source": [
    "print(matching_OSAs)"
   ]
  },
  {
   "cell_type": "code",
   "execution_count": 63,
   "metadata": {},
   "outputs": [
    {
     "name": "stdout",
     "output_type": "stream",
     "text": [
      "                  Green/grassy  Floral  Fruity   Sweet  Woody  Spicy\n",
      "Fresh flowers                0       1        0      0      0      0\n",
      "Sweet                        0       0        0      1      0      0\n",
      "Dried spice                  0       0        0      0      0      1\n",
      "Citrus                       0       0        1      0      0      0\n",
      "Green vegetables             1       0        0      0      0      0\n",
      "Woody                        0       0        0      0      1      0\n"
     ]
    }
   ],
   "source": [
    "print(matching_OSAs.loc[:, (matching_OSAs != 0).any(axis=0)])"
   ]
  },
  {
   "cell_type": "markdown",
   "metadata": {},
   "source": [
    "<span style=\"color:#FBB714\">OSAs</span>: Dataframe - OQs x OSAs"
   ]
  },
  {
   "cell_type": "code",
   "execution_count": 43,
   "metadata": {},
   "outputs": [],
   "source": [
    "OSA_dict, OSAs = create_matrix_from_dict(matching_OSAs_dict, matching_OSAs)"
   ]
  },
  {
   "cell_type": "code",
   "execution_count": 56,
   "metadata": {},
   "outputs": [
    {
     "name": "stdout",
     "output_type": "stream",
     "text": [
      "             Green/grassy  Floral  Fruity   Sweet  Woody  Spicy\n",
      "3033-23-6               0       1        0      1      0      0\n",
      "876-17-5                0       0        0      0      0      0\n",
      "07.11.5258              0       0        0      0      0      0\n",
      "21662-09-9              0       0        0      0      0      0\n",
      "491-04-3                0       0        0      0      0      0\n",
      "562-74-3                0       0        0      0      0      1\n",
      "470-67-7                0       0        0      0      0      0\n",
      "470-82-6                0       0        0      1      0      0\n",
      "2497-25-8               0       0        1      0      0      0\n",
      "3913-71-1               0       0        1      0      0      0\n",
      "3913-81-3               0       0        1      0      0      0\n",
      "4861-58-9               0       0        0      1      0      0\n",
      "586-82-3                0       0        0      0      0      0\n",
      "105683-99-6             1       0        0      0      0      0\n",
      "147159-48-6             1       0        0      0      0      0\n",
      "29887-38-5              0       0        0      0      0      0\n",
      "507-70-0                0       0        0      0      0      0\n",
      "465-31-6                0       0        0      0      0      0\n",
      "15537-55-0              0       0        0      0      0      0\n",
      "106-23-0                0       0        0      0      0      0\n",
      "619-01-2                0       0        0      0      0      0\n",
      "128386-31-2             0       0        0      0      0      0\n",
      "1632-73-1               0       0        0      0      0      0\n",
      "106-24-1                0       1        0      0      0      0\n",
      "124-76-5                0       0        0      0      0      0\n",
      "18675-35-9              0       0        0      0      1      0\n",
      "16750-94-0              0       1        0      0      0      0\n",
      "5944-20-7               0       1        0      0      0      0\n",
      "498-16-8                0       0        0      0      0      0\n",
      "78-70-6                 0       0        0      0      0      0\n",
      "89-80-5                 0       0        0      0      0      0\n",
      "10458-14-7              0       0        0      0      0      0\n",
      "106-25-2                0       0        0      1      0      0\n",
      "619-62-5                0       0        0      0      0      0\n",
      "18479-68-0              0       0        0      0      0      0\n",
      "16721-39-4              0       0        0      0      0      0\n",
      "91-10-1                 0       0        0      0      0      0\n",
      "17699-16-0              0       0        0      0      1      0\n",
      "14575-74-7              0       0        0      0      0      0\n",
      "98-55-5                 0       0        0      0      0      0\n",
      "138-87-4                0       0        0      0      0      0\n",
      "541-58-2                0       0        0      0      0      0\n",
      "3581-91-7               0       0        0      0      0      0\n",
      "20407-84-5              0       0        0      1      0      0\n",
      "134346-43-3             0       0        0      0      0      0\n",
      "19700-21-1              0       0        0      0      0      0\n",
      "1200-67-5               0       0        0      0      0      0\n",
      "115-99-1                0       0        0      0      0      0\n",
      "1189-09-9               0       0        0      0      0      0\n",
      "3943-74-6               0       0        0      0      0      0\n"
     ]
    }
   ],
   "source": [
    "print(OSAs)"
   ]
  },
  {
   "cell_type": "code",
   "execution_count": 45,
   "metadata": {},
   "outputs": [
    {
     "data": {
      "text/html": [
       "<div>\n",
       "<style scoped>\n",
       "    .dataframe tbody tr th:only-of-type {\n",
       "        vertical-align: middle;\n",
       "    }\n",
       "\n",
       "    .dataframe tbody tr th {\n",
       "        vertical-align: top;\n",
       "    }\n",
       "\n",
       "    .dataframe thead th {\n",
       "        text-align: right;\n",
       "    }\n",
       "</style>\n",
       "<table border=\"1\" class=\"dataframe\">\n",
       "  <thead>\n",
       "    <tr style=\"text-align: right;\">\n",
       "      <th></th>\n",
       "      <th>intensities</th>\n",
       "    </tr>\n",
       "  </thead>\n",
       "  <tbody>\n",
       "    <tr>\n",
       "      <th>3033-23-6</th>\n",
       "      <td>1.240854e+09</td>\n",
       "    </tr>\n",
       "    <tr>\n",
       "      <th>876-17-5</th>\n",
       "      <td>1.240854e+09</td>\n",
       "    </tr>\n",
       "    <tr>\n",
       "      <th>07.11.5258</th>\n",
       "      <td>1.240854e+09</td>\n",
       "    </tr>\n",
       "    <tr>\n",
       "      <th>21662-09-9</th>\n",
       "      <td>1.240854e+09</td>\n",
       "    </tr>\n",
       "    <tr>\n",
       "      <th>491-04-3</th>\n",
       "      <td>1.240854e+09</td>\n",
       "    </tr>\n",
       "    <tr>\n",
       "      <th>562-74-3</th>\n",
       "      <td>1.240854e+09</td>\n",
       "    </tr>\n",
       "    <tr>\n",
       "      <th>470-67-7</th>\n",
       "      <td>1.240854e+09</td>\n",
       "    </tr>\n",
       "    <tr>\n",
       "      <th>470-82-6</th>\n",
       "      <td>1.240854e+09</td>\n",
       "    </tr>\n",
       "    <tr>\n",
       "      <th>2497-25-8</th>\n",
       "      <td>1.240854e+09</td>\n",
       "    </tr>\n",
       "    <tr>\n",
       "      <th>3913-71-1</th>\n",
       "      <td>1.240854e+09</td>\n",
       "    </tr>\n",
       "    <tr>\n",
       "      <th>3913-81-3</th>\n",
       "      <td>1.240854e+09</td>\n",
       "    </tr>\n",
       "    <tr>\n",
       "      <th>4861-58-9</th>\n",
       "      <td>1.240854e+09</td>\n",
       "    </tr>\n",
       "    <tr>\n",
       "      <th>586-82-3</th>\n",
       "      <td>1.240854e+09</td>\n",
       "    </tr>\n",
       "    <tr>\n",
       "      <th>105683-99-6</th>\n",
       "      <td>1.240854e+09</td>\n",
       "    </tr>\n",
       "    <tr>\n",
       "      <th>147159-48-6</th>\n",
       "      <td>1.240854e+09</td>\n",
       "    </tr>\n",
       "    <tr>\n",
       "      <th>29887-38-5</th>\n",
       "      <td>1.240854e+09</td>\n",
       "    </tr>\n",
       "    <tr>\n",
       "      <th>507-70-0</th>\n",
       "      <td>1.240854e+09</td>\n",
       "    </tr>\n",
       "    <tr>\n",
       "      <th>465-31-6</th>\n",
       "      <td>1.240854e+09</td>\n",
       "    </tr>\n",
       "    <tr>\n",
       "      <th>15537-55-0</th>\n",
       "      <td>1.240854e+09</td>\n",
       "    </tr>\n",
       "    <tr>\n",
       "      <th>106-23-0</th>\n",
       "      <td>1.240854e+09</td>\n",
       "    </tr>\n",
       "    <tr>\n",
       "      <th>619-01-2</th>\n",
       "      <td>1.240854e+09</td>\n",
       "    </tr>\n",
       "    <tr>\n",
       "      <th>128386-31-2</th>\n",
       "      <td>1.240854e+09</td>\n",
       "    </tr>\n",
       "    <tr>\n",
       "      <th>1632-73-1</th>\n",
       "      <td>1.240854e+09</td>\n",
       "    </tr>\n",
       "    <tr>\n",
       "      <th>106-24-1</th>\n",
       "      <td>1.240854e+09</td>\n",
       "    </tr>\n",
       "    <tr>\n",
       "      <th>124-76-5</th>\n",
       "      <td>1.240854e+09</td>\n",
       "    </tr>\n",
       "    <tr>\n",
       "      <th>18675-35-9</th>\n",
       "      <td>1.240854e+09</td>\n",
       "    </tr>\n",
       "    <tr>\n",
       "      <th>16750-94-0</th>\n",
       "      <td>1.240854e+09</td>\n",
       "    </tr>\n",
       "    <tr>\n",
       "      <th>5944-20-7</th>\n",
       "      <td>1.240854e+09</td>\n",
       "    </tr>\n",
       "    <tr>\n",
       "      <th>498-16-8</th>\n",
       "      <td>1.240854e+09</td>\n",
       "    </tr>\n",
       "    <tr>\n",
       "      <th>78-70-6</th>\n",
       "      <td>1.240854e+09</td>\n",
       "    </tr>\n",
       "    <tr>\n",
       "      <th>89-80-5</th>\n",
       "      <td>1.240854e+09</td>\n",
       "    </tr>\n",
       "    <tr>\n",
       "      <th>10458-14-7</th>\n",
       "      <td>1.240854e+09</td>\n",
       "    </tr>\n",
       "    <tr>\n",
       "      <th>106-25-2</th>\n",
       "      <td>1.240854e+09</td>\n",
       "    </tr>\n",
       "    <tr>\n",
       "      <th>619-62-5</th>\n",
       "      <td>1.240854e+09</td>\n",
       "    </tr>\n",
       "    <tr>\n",
       "      <th>18479-68-0</th>\n",
       "      <td>1.240854e+09</td>\n",
       "    </tr>\n",
       "    <tr>\n",
       "      <th>16721-39-4</th>\n",
       "      <td>1.240854e+09</td>\n",
       "    </tr>\n",
       "    <tr>\n",
       "      <th>91-10-1</th>\n",
       "      <td>1.240854e+09</td>\n",
       "    </tr>\n",
       "    <tr>\n",
       "      <th>17699-16-0</th>\n",
       "      <td>1.240854e+09</td>\n",
       "    </tr>\n",
       "    <tr>\n",
       "      <th>14575-74-7</th>\n",
       "      <td>1.240854e+09</td>\n",
       "    </tr>\n",
       "    <tr>\n",
       "      <th>98-55-5</th>\n",
       "      <td>1.240854e+09</td>\n",
       "    </tr>\n",
       "    <tr>\n",
       "      <th>138-87-4</th>\n",
       "      <td>1.240854e+09</td>\n",
       "    </tr>\n",
       "    <tr>\n",
       "      <th>541-58-2</th>\n",
       "      <td>1.235601e+09</td>\n",
       "    </tr>\n",
       "    <tr>\n",
       "      <th>3581-91-7</th>\n",
       "      <td>1.235601e+09</td>\n",
       "    </tr>\n",
       "    <tr>\n",
       "      <th>20407-84-5</th>\n",
       "      <td>8.011654e+08</td>\n",
       "    </tr>\n",
       "    <tr>\n",
       "      <th>134346-43-3</th>\n",
       "      <td>8.011654e+08</td>\n",
       "    </tr>\n",
       "    <tr>\n",
       "      <th>19700-21-1</th>\n",
       "      <td>8.011654e+08</td>\n",
       "    </tr>\n",
       "    <tr>\n",
       "      <th>1200-67-5</th>\n",
       "      <td>8.011654e+08</td>\n",
       "    </tr>\n",
       "    <tr>\n",
       "      <th>115-99-1</th>\n",
       "      <td>8.011654e+08</td>\n",
       "    </tr>\n",
       "    <tr>\n",
       "      <th>1189-09-9</th>\n",
       "      <td>8.011654e+08</td>\n",
       "    </tr>\n",
       "    <tr>\n",
       "      <th>3943-74-6</th>\n",
       "      <td>8.011654e+08</td>\n",
       "    </tr>\n",
       "  </tbody>\n",
       "</table>\n",
       "</div>"
      ],
      "text/plain": [
       "              intensities\n",
       "3033-23-6    1.240854e+09\n",
       "876-17-5     1.240854e+09\n",
       "07.11.5258   1.240854e+09\n",
       "21662-09-9   1.240854e+09\n",
       "491-04-3     1.240854e+09\n",
       "562-74-3     1.240854e+09\n",
       "470-67-7     1.240854e+09\n",
       "470-82-6     1.240854e+09\n",
       "2497-25-8    1.240854e+09\n",
       "3913-71-1    1.240854e+09\n",
       "3913-81-3    1.240854e+09\n",
       "4861-58-9    1.240854e+09\n",
       "586-82-3     1.240854e+09\n",
       "105683-99-6  1.240854e+09\n",
       "147159-48-6  1.240854e+09\n",
       "29887-38-5   1.240854e+09\n",
       "507-70-0     1.240854e+09\n",
       "465-31-6     1.240854e+09\n",
       "15537-55-0   1.240854e+09\n",
       "106-23-0     1.240854e+09\n",
       "619-01-2     1.240854e+09\n",
       "128386-31-2  1.240854e+09\n",
       "1632-73-1    1.240854e+09\n",
       "106-24-1     1.240854e+09\n",
       "124-76-5     1.240854e+09\n",
       "18675-35-9   1.240854e+09\n",
       "16750-94-0   1.240854e+09\n",
       "5944-20-7    1.240854e+09\n",
       "498-16-8     1.240854e+09\n",
       "78-70-6      1.240854e+09\n",
       "89-80-5      1.240854e+09\n",
       "10458-14-7   1.240854e+09\n",
       "106-25-2     1.240854e+09\n",
       "619-62-5     1.240854e+09\n",
       "18479-68-0   1.240854e+09\n",
       "16721-39-4   1.240854e+09\n",
       "91-10-1      1.240854e+09\n",
       "17699-16-0   1.240854e+09\n",
       "14575-74-7   1.240854e+09\n",
       "98-55-5      1.240854e+09\n",
       "138-87-4     1.240854e+09\n",
       "541-58-2     1.235601e+09\n",
       "3581-91-7    1.235601e+09\n",
       "20407-84-5   8.011654e+08\n",
       "134346-43-3  8.011654e+08\n",
       "19700-21-1   8.011654e+08\n",
       "1200-67-5    8.011654e+08\n",
       "115-99-1     8.011654e+08\n",
       "1189-09-9    8.011654e+08\n",
       "3943-74-6    8.011654e+08"
      ]
     },
     "execution_count": 45,
     "metadata": {},
     "output_type": "execute_result"
    }
   ],
   "source": [
    "I_vector"
   ]
  },
  {
   "cell_type": "code",
   "execution_count": 46,
   "metadata": {},
   "outputs": [
    {
     "data": {
      "text/plain": [
       "array([[0.14760054],\n",
       "       [0.14760054],\n",
       "       [0.14760054],\n",
       "       [0.14760054],\n",
       "       [0.14760054],\n",
       "       [0.14760054],\n",
       "       [0.14760054],\n",
       "       [0.14760054],\n",
       "       [0.14760054],\n",
       "       [0.14760054],\n",
       "       [0.14760054],\n",
       "       [0.14760054],\n",
       "       [0.14760054],\n",
       "       [0.14760054],\n",
       "       [0.14760054],\n",
       "       [0.14760054],\n",
       "       [0.14760054],\n",
       "       [0.14760054],\n",
       "       [0.14760054],\n",
       "       [0.14760054],\n",
       "       [0.14760054],\n",
       "       [0.14760054],\n",
       "       [0.14760054],\n",
       "       [0.14760054],\n",
       "       [0.14760054],\n",
       "       [0.14760054],\n",
       "       [0.14760054],\n",
       "       [0.14760054],\n",
       "       [0.14760054],\n",
       "       [0.14760054],\n",
       "       [0.14760054],\n",
       "       [0.14760054],\n",
       "       [0.14760054],\n",
       "       [0.14760054],\n",
       "       [0.14760054],\n",
       "       [0.14760054],\n",
       "       [0.14760054],\n",
       "       [0.14760054],\n",
       "       [0.14760054],\n",
       "       [0.14760054],\n",
       "       [0.14760054],\n",
       "       [0.14697561],\n",
       "       [0.14697561],\n",
       "       [0.09529923],\n",
       "       [0.09529923],\n",
       "       [0.09529923],\n",
       "       [0.09529923],\n",
       "       [0.09529923],\n",
       "       [0.09529923],\n",
       "       [0.09529923]])"
      ]
     },
     "execution_count": 46,
     "metadata": {},
     "output_type": "execute_result"
    }
   ],
   "source": [
    "from sklearn.preprocessing import Normalizer\n",
    "normalizer = Normalizer()\n",
    "I_vector_normalized = normalizer.fit_transform(I_vector.T).T\n",
    "I_vector_normalized"
   ]
  },
  {
   "cell_type": "code",
   "execution_count": 47,
   "metadata": {},
   "outputs": [
    {
     "data": {
      "text/html": [
       "<div>\n",
       "<style scoped>\n",
       "    .dataframe tbody tr th:only-of-type {\n",
       "        vertical-align: middle;\n",
       "    }\n",
       "\n",
       "    .dataframe tbody tr th {\n",
       "        vertical-align: top;\n",
       "    }\n",
       "\n",
       "    .dataframe thead th {\n",
       "        text-align: right;\n",
       "    }\n",
       "</style>\n",
       "<table border=\"1\" class=\"dataframe\">\n",
       "  <thead>\n",
       "    <tr style=\"text-align: right;\">\n",
       "      <th></th>\n",
       "      <th>Green/grassy</th>\n",
       "      <th>Floral</th>\n",
       "      <th>Fruity</th>\n",
       "      <th>Sweet</th>\n",
       "      <th>Woody</th>\n",
       "      <th>Spicy</th>\n",
       "    </tr>\n",
       "  </thead>\n",
       "  <tbody>\n",
       "    <tr>\n",
       "      <th>3033-23-6</th>\n",
       "      <td>0.000000</td>\n",
       "      <td>0.147601</td>\n",
       "      <td>0.000000</td>\n",
       "      <td>0.147601</td>\n",
       "      <td>0.000000</td>\n",
       "      <td>0.000000</td>\n",
       "    </tr>\n",
       "    <tr>\n",
       "      <th>876-17-5</th>\n",
       "      <td>0.000000</td>\n",
       "      <td>0.000000</td>\n",
       "      <td>0.000000</td>\n",
       "      <td>0.000000</td>\n",
       "      <td>0.000000</td>\n",
       "      <td>0.000000</td>\n",
       "    </tr>\n",
       "    <tr>\n",
       "      <th>07.11.5258</th>\n",
       "      <td>0.000000</td>\n",
       "      <td>0.000000</td>\n",
       "      <td>0.000000</td>\n",
       "      <td>0.000000</td>\n",
       "      <td>0.000000</td>\n",
       "      <td>0.000000</td>\n",
       "    </tr>\n",
       "    <tr>\n",
       "      <th>21662-09-9</th>\n",
       "      <td>0.000000</td>\n",
       "      <td>0.000000</td>\n",
       "      <td>0.000000</td>\n",
       "      <td>0.000000</td>\n",
       "      <td>0.000000</td>\n",
       "      <td>0.000000</td>\n",
       "    </tr>\n",
       "    <tr>\n",
       "      <th>491-04-3</th>\n",
       "      <td>0.000000</td>\n",
       "      <td>0.000000</td>\n",
       "      <td>0.000000</td>\n",
       "      <td>0.000000</td>\n",
       "      <td>0.000000</td>\n",
       "      <td>0.000000</td>\n",
       "    </tr>\n",
       "    <tr>\n",
       "      <th>562-74-3</th>\n",
       "      <td>0.000000</td>\n",
       "      <td>0.000000</td>\n",
       "      <td>0.000000</td>\n",
       "      <td>0.000000</td>\n",
       "      <td>0.000000</td>\n",
       "      <td>0.147601</td>\n",
       "    </tr>\n",
       "    <tr>\n",
       "      <th>470-67-7</th>\n",
       "      <td>0.000000</td>\n",
       "      <td>0.000000</td>\n",
       "      <td>0.000000</td>\n",
       "      <td>0.000000</td>\n",
       "      <td>0.000000</td>\n",
       "      <td>0.000000</td>\n",
       "    </tr>\n",
       "    <tr>\n",
       "      <th>470-82-6</th>\n",
       "      <td>0.000000</td>\n",
       "      <td>0.000000</td>\n",
       "      <td>0.000000</td>\n",
       "      <td>0.147601</td>\n",
       "      <td>0.000000</td>\n",
       "      <td>0.000000</td>\n",
       "    </tr>\n",
       "    <tr>\n",
       "      <th>2497-25-8</th>\n",
       "      <td>0.000000</td>\n",
       "      <td>0.000000</td>\n",
       "      <td>0.147601</td>\n",
       "      <td>0.000000</td>\n",
       "      <td>0.000000</td>\n",
       "      <td>0.000000</td>\n",
       "    </tr>\n",
       "    <tr>\n",
       "      <th>3913-71-1</th>\n",
       "      <td>0.000000</td>\n",
       "      <td>0.000000</td>\n",
       "      <td>0.147601</td>\n",
       "      <td>0.000000</td>\n",
       "      <td>0.000000</td>\n",
       "      <td>0.000000</td>\n",
       "    </tr>\n",
       "    <tr>\n",
       "      <th>3913-81-3</th>\n",
       "      <td>0.000000</td>\n",
       "      <td>0.000000</td>\n",
       "      <td>0.147601</td>\n",
       "      <td>0.000000</td>\n",
       "      <td>0.000000</td>\n",
       "      <td>0.000000</td>\n",
       "    </tr>\n",
       "    <tr>\n",
       "      <th>4861-58-9</th>\n",
       "      <td>0.000000</td>\n",
       "      <td>0.000000</td>\n",
       "      <td>0.000000</td>\n",
       "      <td>0.147601</td>\n",
       "      <td>0.000000</td>\n",
       "      <td>0.000000</td>\n",
       "    </tr>\n",
       "    <tr>\n",
       "      <th>586-82-3</th>\n",
       "      <td>0.000000</td>\n",
       "      <td>0.000000</td>\n",
       "      <td>0.000000</td>\n",
       "      <td>0.000000</td>\n",
       "      <td>0.000000</td>\n",
       "      <td>0.000000</td>\n",
       "    </tr>\n",
       "    <tr>\n",
       "      <th>105683-99-6</th>\n",
       "      <td>0.147601</td>\n",
       "      <td>0.000000</td>\n",
       "      <td>0.000000</td>\n",
       "      <td>0.000000</td>\n",
       "      <td>0.000000</td>\n",
       "      <td>0.000000</td>\n",
       "    </tr>\n",
       "    <tr>\n",
       "      <th>147159-48-6</th>\n",
       "      <td>0.147601</td>\n",
       "      <td>0.000000</td>\n",
       "      <td>0.000000</td>\n",
       "      <td>0.000000</td>\n",
       "      <td>0.000000</td>\n",
       "      <td>0.000000</td>\n",
       "    </tr>\n",
       "    <tr>\n",
       "      <th>29887-38-5</th>\n",
       "      <td>0.000000</td>\n",
       "      <td>0.000000</td>\n",
       "      <td>0.000000</td>\n",
       "      <td>0.000000</td>\n",
       "      <td>0.000000</td>\n",
       "      <td>0.000000</td>\n",
       "    </tr>\n",
       "    <tr>\n",
       "      <th>507-70-0</th>\n",
       "      <td>0.000000</td>\n",
       "      <td>0.000000</td>\n",
       "      <td>0.000000</td>\n",
       "      <td>0.000000</td>\n",
       "      <td>0.000000</td>\n",
       "      <td>0.000000</td>\n",
       "    </tr>\n",
       "    <tr>\n",
       "      <th>465-31-6</th>\n",
       "      <td>0.000000</td>\n",
       "      <td>0.000000</td>\n",
       "      <td>0.000000</td>\n",
       "      <td>0.000000</td>\n",
       "      <td>0.000000</td>\n",
       "      <td>0.000000</td>\n",
       "    </tr>\n",
       "    <tr>\n",
       "      <th>15537-55-0</th>\n",
       "      <td>0.000000</td>\n",
       "      <td>0.000000</td>\n",
       "      <td>0.000000</td>\n",
       "      <td>0.000000</td>\n",
       "      <td>0.000000</td>\n",
       "      <td>0.000000</td>\n",
       "    </tr>\n",
       "    <tr>\n",
       "      <th>106-23-0</th>\n",
       "      <td>0.000000</td>\n",
       "      <td>0.000000</td>\n",
       "      <td>0.000000</td>\n",
       "      <td>0.000000</td>\n",
       "      <td>0.000000</td>\n",
       "      <td>0.000000</td>\n",
       "    </tr>\n",
       "    <tr>\n",
       "      <th>619-01-2</th>\n",
       "      <td>0.000000</td>\n",
       "      <td>0.000000</td>\n",
       "      <td>0.000000</td>\n",
       "      <td>0.000000</td>\n",
       "      <td>0.000000</td>\n",
       "      <td>0.000000</td>\n",
       "    </tr>\n",
       "    <tr>\n",
       "      <th>128386-31-2</th>\n",
       "      <td>0.000000</td>\n",
       "      <td>0.000000</td>\n",
       "      <td>0.000000</td>\n",
       "      <td>0.000000</td>\n",
       "      <td>0.000000</td>\n",
       "      <td>0.000000</td>\n",
       "    </tr>\n",
       "    <tr>\n",
       "      <th>1632-73-1</th>\n",
       "      <td>0.000000</td>\n",
       "      <td>0.000000</td>\n",
       "      <td>0.000000</td>\n",
       "      <td>0.000000</td>\n",
       "      <td>0.000000</td>\n",
       "      <td>0.000000</td>\n",
       "    </tr>\n",
       "    <tr>\n",
       "      <th>106-24-1</th>\n",
       "      <td>0.000000</td>\n",
       "      <td>0.147601</td>\n",
       "      <td>0.000000</td>\n",
       "      <td>0.000000</td>\n",
       "      <td>0.000000</td>\n",
       "      <td>0.000000</td>\n",
       "    </tr>\n",
       "    <tr>\n",
       "      <th>124-76-5</th>\n",
       "      <td>0.000000</td>\n",
       "      <td>0.000000</td>\n",
       "      <td>0.000000</td>\n",
       "      <td>0.000000</td>\n",
       "      <td>0.000000</td>\n",
       "      <td>0.000000</td>\n",
       "    </tr>\n",
       "    <tr>\n",
       "      <th>18675-35-9</th>\n",
       "      <td>0.000000</td>\n",
       "      <td>0.000000</td>\n",
       "      <td>0.000000</td>\n",
       "      <td>0.000000</td>\n",
       "      <td>0.147601</td>\n",
       "      <td>0.000000</td>\n",
       "    </tr>\n",
       "    <tr>\n",
       "      <th>16750-94-0</th>\n",
       "      <td>0.000000</td>\n",
       "      <td>0.147601</td>\n",
       "      <td>0.000000</td>\n",
       "      <td>0.000000</td>\n",
       "      <td>0.000000</td>\n",
       "      <td>0.000000</td>\n",
       "    </tr>\n",
       "    <tr>\n",
       "      <th>5944-20-7</th>\n",
       "      <td>0.000000</td>\n",
       "      <td>0.147601</td>\n",
       "      <td>0.000000</td>\n",
       "      <td>0.000000</td>\n",
       "      <td>0.000000</td>\n",
       "      <td>0.000000</td>\n",
       "    </tr>\n",
       "    <tr>\n",
       "      <th>498-16-8</th>\n",
       "      <td>0.000000</td>\n",
       "      <td>0.000000</td>\n",
       "      <td>0.000000</td>\n",
       "      <td>0.000000</td>\n",
       "      <td>0.000000</td>\n",
       "      <td>0.000000</td>\n",
       "    </tr>\n",
       "    <tr>\n",
       "      <th>78-70-6</th>\n",
       "      <td>0.000000</td>\n",
       "      <td>0.000000</td>\n",
       "      <td>0.000000</td>\n",
       "      <td>0.000000</td>\n",
       "      <td>0.000000</td>\n",
       "      <td>0.000000</td>\n",
       "    </tr>\n",
       "    <tr>\n",
       "      <th>89-80-5</th>\n",
       "      <td>0.000000</td>\n",
       "      <td>0.000000</td>\n",
       "      <td>0.000000</td>\n",
       "      <td>0.000000</td>\n",
       "      <td>0.000000</td>\n",
       "      <td>0.000000</td>\n",
       "    </tr>\n",
       "    <tr>\n",
       "      <th>10458-14-7</th>\n",
       "      <td>0.000000</td>\n",
       "      <td>0.000000</td>\n",
       "      <td>0.000000</td>\n",
       "      <td>0.000000</td>\n",
       "      <td>0.000000</td>\n",
       "      <td>0.000000</td>\n",
       "    </tr>\n",
       "    <tr>\n",
       "      <th>106-25-2</th>\n",
       "      <td>0.000000</td>\n",
       "      <td>0.000000</td>\n",
       "      <td>0.000000</td>\n",
       "      <td>0.147601</td>\n",
       "      <td>0.000000</td>\n",
       "      <td>0.000000</td>\n",
       "    </tr>\n",
       "    <tr>\n",
       "      <th>619-62-5</th>\n",
       "      <td>0.000000</td>\n",
       "      <td>0.000000</td>\n",
       "      <td>0.000000</td>\n",
       "      <td>0.000000</td>\n",
       "      <td>0.000000</td>\n",
       "      <td>0.000000</td>\n",
       "    </tr>\n",
       "    <tr>\n",
       "      <th>18479-68-0</th>\n",
       "      <td>0.000000</td>\n",
       "      <td>0.000000</td>\n",
       "      <td>0.000000</td>\n",
       "      <td>0.000000</td>\n",
       "      <td>0.000000</td>\n",
       "      <td>0.000000</td>\n",
       "    </tr>\n",
       "    <tr>\n",
       "      <th>16721-39-4</th>\n",
       "      <td>0.000000</td>\n",
       "      <td>0.000000</td>\n",
       "      <td>0.000000</td>\n",
       "      <td>0.000000</td>\n",
       "      <td>0.000000</td>\n",
       "      <td>0.000000</td>\n",
       "    </tr>\n",
       "    <tr>\n",
       "      <th>91-10-1</th>\n",
       "      <td>0.000000</td>\n",
       "      <td>0.000000</td>\n",
       "      <td>0.000000</td>\n",
       "      <td>0.000000</td>\n",
       "      <td>0.000000</td>\n",
       "      <td>0.000000</td>\n",
       "    </tr>\n",
       "    <tr>\n",
       "      <th>17699-16-0</th>\n",
       "      <td>0.000000</td>\n",
       "      <td>0.000000</td>\n",
       "      <td>0.000000</td>\n",
       "      <td>0.000000</td>\n",
       "      <td>0.147601</td>\n",
       "      <td>0.000000</td>\n",
       "    </tr>\n",
       "    <tr>\n",
       "      <th>14575-74-7</th>\n",
       "      <td>0.000000</td>\n",
       "      <td>0.000000</td>\n",
       "      <td>0.000000</td>\n",
       "      <td>0.000000</td>\n",
       "      <td>0.000000</td>\n",
       "      <td>0.000000</td>\n",
       "    </tr>\n",
       "    <tr>\n",
       "      <th>98-55-5</th>\n",
       "      <td>0.000000</td>\n",
       "      <td>0.000000</td>\n",
       "      <td>0.000000</td>\n",
       "      <td>0.000000</td>\n",
       "      <td>0.000000</td>\n",
       "      <td>0.000000</td>\n",
       "    </tr>\n",
       "    <tr>\n",
       "      <th>138-87-4</th>\n",
       "      <td>0.000000</td>\n",
       "      <td>0.000000</td>\n",
       "      <td>0.000000</td>\n",
       "      <td>0.000000</td>\n",
       "      <td>0.000000</td>\n",
       "      <td>0.000000</td>\n",
       "    </tr>\n",
       "    <tr>\n",
       "      <th>541-58-2</th>\n",
       "      <td>0.000000</td>\n",
       "      <td>0.000000</td>\n",
       "      <td>0.000000</td>\n",
       "      <td>0.000000</td>\n",
       "      <td>0.000000</td>\n",
       "      <td>0.000000</td>\n",
       "    </tr>\n",
       "    <tr>\n",
       "      <th>3581-91-7</th>\n",
       "      <td>0.000000</td>\n",
       "      <td>0.000000</td>\n",
       "      <td>0.000000</td>\n",
       "      <td>0.000000</td>\n",
       "      <td>0.000000</td>\n",
       "      <td>0.000000</td>\n",
       "    </tr>\n",
       "    <tr>\n",
       "      <th>20407-84-5</th>\n",
       "      <td>0.000000</td>\n",
       "      <td>0.000000</td>\n",
       "      <td>0.000000</td>\n",
       "      <td>0.095299</td>\n",
       "      <td>0.000000</td>\n",
       "      <td>0.000000</td>\n",
       "    </tr>\n",
       "    <tr>\n",
       "      <th>134346-43-3</th>\n",
       "      <td>0.000000</td>\n",
       "      <td>0.000000</td>\n",
       "      <td>0.000000</td>\n",
       "      <td>0.000000</td>\n",
       "      <td>0.000000</td>\n",
       "      <td>0.000000</td>\n",
       "    </tr>\n",
       "    <tr>\n",
       "      <th>19700-21-1</th>\n",
       "      <td>0.000000</td>\n",
       "      <td>0.000000</td>\n",
       "      <td>0.000000</td>\n",
       "      <td>0.000000</td>\n",
       "      <td>0.000000</td>\n",
       "      <td>0.000000</td>\n",
       "    </tr>\n",
       "    <tr>\n",
       "      <th>1200-67-5</th>\n",
       "      <td>0.000000</td>\n",
       "      <td>0.000000</td>\n",
       "      <td>0.000000</td>\n",
       "      <td>0.000000</td>\n",
       "      <td>0.000000</td>\n",
       "      <td>0.000000</td>\n",
       "    </tr>\n",
       "    <tr>\n",
       "      <th>115-99-1</th>\n",
       "      <td>0.000000</td>\n",
       "      <td>0.000000</td>\n",
       "      <td>0.000000</td>\n",
       "      <td>0.000000</td>\n",
       "      <td>0.000000</td>\n",
       "      <td>0.000000</td>\n",
       "    </tr>\n",
       "    <tr>\n",
       "      <th>1189-09-9</th>\n",
       "      <td>0.000000</td>\n",
       "      <td>0.000000</td>\n",
       "      <td>0.000000</td>\n",
       "      <td>0.000000</td>\n",
       "      <td>0.000000</td>\n",
       "      <td>0.000000</td>\n",
       "    </tr>\n",
       "    <tr>\n",
       "      <th>3943-74-6</th>\n",
       "      <td>0.000000</td>\n",
       "      <td>0.000000</td>\n",
       "      <td>0.000000</td>\n",
       "      <td>0.000000</td>\n",
       "      <td>0.000000</td>\n",
       "      <td>0.000000</td>\n",
       "    </tr>\n",
       "  </tbody>\n",
       "</table>\n",
       "</div>"
      ],
      "text/plain": [
       "             Green/grassy    Floral   Fruity      Sweet     Woody     Spicy\n",
       "3033-23-6        0.000000  0.147601  0.000000  0.147601  0.000000  0.000000\n",
       "876-17-5         0.000000  0.000000  0.000000  0.000000  0.000000  0.000000\n",
       "07.11.5258       0.000000  0.000000  0.000000  0.000000  0.000000  0.000000\n",
       "21662-09-9       0.000000  0.000000  0.000000  0.000000  0.000000  0.000000\n",
       "491-04-3         0.000000  0.000000  0.000000  0.000000  0.000000  0.000000\n",
       "562-74-3         0.000000  0.000000  0.000000  0.000000  0.000000  0.147601\n",
       "470-67-7         0.000000  0.000000  0.000000  0.000000  0.000000  0.000000\n",
       "470-82-6         0.000000  0.000000  0.000000  0.147601  0.000000  0.000000\n",
       "2497-25-8        0.000000  0.000000  0.147601  0.000000  0.000000  0.000000\n",
       "3913-71-1        0.000000  0.000000  0.147601  0.000000  0.000000  0.000000\n",
       "3913-81-3        0.000000  0.000000  0.147601  0.000000  0.000000  0.000000\n",
       "4861-58-9        0.000000  0.000000  0.000000  0.147601  0.000000  0.000000\n",
       "586-82-3         0.000000  0.000000  0.000000  0.000000  0.000000  0.000000\n",
       "105683-99-6      0.147601  0.000000  0.000000  0.000000  0.000000  0.000000\n",
       "147159-48-6      0.147601  0.000000  0.000000  0.000000  0.000000  0.000000\n",
       "29887-38-5       0.000000  0.000000  0.000000  0.000000  0.000000  0.000000\n",
       "507-70-0         0.000000  0.000000  0.000000  0.000000  0.000000  0.000000\n",
       "465-31-6         0.000000  0.000000  0.000000  0.000000  0.000000  0.000000\n",
       "15537-55-0       0.000000  0.000000  0.000000  0.000000  0.000000  0.000000\n",
       "106-23-0         0.000000  0.000000  0.000000  0.000000  0.000000  0.000000\n",
       "619-01-2         0.000000  0.000000  0.000000  0.000000  0.000000  0.000000\n",
       "128386-31-2      0.000000  0.000000  0.000000  0.000000  0.000000  0.000000\n",
       "1632-73-1        0.000000  0.000000  0.000000  0.000000  0.000000  0.000000\n",
       "106-24-1         0.000000  0.147601  0.000000  0.000000  0.000000  0.000000\n",
       "124-76-5         0.000000  0.000000  0.000000  0.000000  0.000000  0.000000\n",
       "18675-35-9       0.000000  0.000000  0.000000  0.000000  0.147601  0.000000\n",
       "16750-94-0       0.000000  0.147601  0.000000  0.000000  0.000000  0.000000\n",
       "5944-20-7        0.000000  0.147601  0.000000  0.000000  0.000000  0.000000\n",
       "498-16-8         0.000000  0.000000  0.000000  0.000000  0.000000  0.000000\n",
       "78-70-6          0.000000  0.000000  0.000000  0.000000  0.000000  0.000000\n",
       "89-80-5          0.000000  0.000000  0.000000  0.000000  0.000000  0.000000\n",
       "10458-14-7       0.000000  0.000000  0.000000  0.000000  0.000000  0.000000\n",
       "106-25-2         0.000000  0.000000  0.000000  0.147601  0.000000  0.000000\n",
       "619-62-5         0.000000  0.000000  0.000000  0.000000  0.000000  0.000000\n",
       "18479-68-0       0.000000  0.000000  0.000000  0.000000  0.000000  0.000000\n",
       "16721-39-4       0.000000  0.000000  0.000000  0.000000  0.000000  0.000000\n",
       "91-10-1          0.000000  0.000000  0.000000  0.000000  0.000000  0.000000\n",
       "17699-16-0       0.000000  0.000000  0.000000  0.000000  0.147601  0.000000\n",
       "14575-74-7       0.000000  0.000000  0.000000  0.000000  0.000000  0.000000\n",
       "98-55-5          0.000000  0.000000  0.000000  0.000000  0.000000  0.000000\n",
       "138-87-4         0.000000  0.000000  0.000000  0.000000  0.000000  0.000000\n",
       "541-58-2         0.000000  0.000000  0.000000  0.000000  0.000000  0.000000\n",
       "3581-91-7        0.000000  0.000000  0.000000  0.000000  0.000000  0.000000\n",
       "20407-84-5       0.000000  0.000000  0.000000  0.095299  0.000000  0.000000\n",
       "134346-43-3      0.000000  0.000000  0.000000  0.000000  0.000000  0.000000\n",
       "19700-21-1       0.000000  0.000000  0.000000  0.000000  0.000000  0.000000\n",
       "1200-67-5        0.000000  0.000000  0.000000  0.000000  0.000000  0.000000\n",
       "115-99-1         0.000000  0.000000  0.000000  0.000000  0.000000  0.000000\n",
       "1189-09-9        0.000000  0.000000  0.000000  0.000000  0.000000  0.000000\n",
       "3943-74-6        0.000000  0.000000  0.000000  0.000000  0.000000  0.000000"
      ]
     },
     "execution_count": 47,
     "metadata": {},
     "output_type": "execute_result"
    }
   ],
   "source": [
    "final_OSA = OSAs*I_vector_normalized\n",
    "final_OSA"
   ]
  },
  {
   "attachments": {},
   "cell_type": "markdown",
   "metadata": {},
   "source": [
    "#### 4.2 OQ ------ Fuzzy Logic -----> OSA\n",
    "Use Fuzzy logic to weigh OQ with expert knowledge/Intensity from Masspec\n"
   ]
  },
  {
   "cell_type": "code",
   "execution_count": null,
   "metadata": {},
   "outputs": [],
   "source": []
  },
  {
   "attachments": {},
   "cell_type": "markdown",
   "metadata": {},
   "source": [
    "#### 4.3 Comparison BM and FL"
   ]
  },
  {
   "cell_type": "code",
   "execution_count": null,
   "metadata": {},
   "outputs": [],
   "source": []
  },
  {
   "attachments": {},
   "cell_type": "markdown",
   "metadata": {},
   "source": [
    "#### 5. Show Flavourprofile"
   ]
  },
  {
   "cell_type": "code",
   "execution_count": 48,
   "metadata": {},
   "outputs": [
    {
     "data": {
      "text/plain": [
       "Green/grassy    2.952011\n",
       "Floral          5.904022\n",
       "Fruity          4.428016\n",
       "Sweet           6.857014\n",
       "Woody           2.952011\n",
       "Spicy           1.476005\n",
       "dtype: float64"
      ]
     },
     "execution_count": 48,
     "metadata": {},
     "output_type": "execute_result"
    }
   ],
   "source": [
    "final_OSA.sum()*10"
   ]
  },
  {
   "cell_type": "code",
   "execution_count": 49,
   "metadata": {},
   "outputs": [
    {
     "data": {
      "application/vnd.plotly.v1+json": {
       "config": {
        "plotlyServerURL": "https://plot.ly"
       },
       "data": [
        {
         "fill": "toself",
         "r": [
          2.9520108601867543,
          5.904021720373509,
          4.428016290280132,
          6.857014042144007,
          2.9520108601867543,
          1.4760054300933771
         ],
         "theta": [
          "Green/grassy",
          "Floral",
          "Fruity ",
          "Sweet",
          "Woody",
          "Spicy"
         ],
         "type": "scatterpolar"
        }
       ],
       "layout": {
        "polar": {
         "radialaxis": {
          "range": [
           0,
           10
          ],
          "visible": true
         }
        },
        "showlegend": false,
        "template": {
         "data": {
          "bar": [
           {
            "error_x": {
             "color": "#2a3f5f"
            },
            "error_y": {
             "color": "#2a3f5f"
            },
            "marker": {
             "line": {
              "color": "#E5ECF6",
              "width": 0.5
             },
             "pattern": {
              "fillmode": "overlay",
              "size": 10,
              "solidity": 0.2
             }
            },
            "type": "bar"
           }
          ],
          "barpolar": [
           {
            "marker": {
             "line": {
              "color": "#E5ECF6",
              "width": 0.5
             },
             "pattern": {
              "fillmode": "overlay",
              "size": 10,
              "solidity": 0.2
             }
            },
            "type": "barpolar"
           }
          ],
          "carpet": [
           {
            "aaxis": {
             "endlinecolor": "#2a3f5f",
             "gridcolor": "white",
             "linecolor": "white",
             "minorgridcolor": "white",
             "startlinecolor": "#2a3f5f"
            },
            "baxis": {
             "endlinecolor": "#2a3f5f",
             "gridcolor": "white",
             "linecolor": "white",
             "minorgridcolor": "white",
             "startlinecolor": "#2a3f5f"
            },
            "type": "carpet"
           }
          ],
          "choropleth": [
           {
            "colorbar": {
             "outlinewidth": 0,
             "ticks": ""
            },
            "type": "choropleth"
           }
          ],
          "contour": [
           {
            "colorbar": {
             "outlinewidth": 0,
             "ticks": ""
            },
            "colorscale": [
             [
              0,
              "#0d0887"
             ],
             [
              0.1111111111111111,
              "#46039f"
             ],
             [
              0.2222222222222222,
              "#7201a8"
             ],
             [
              0.3333333333333333,
              "#9c179e"
             ],
             [
              0.4444444444444444,
              "#bd3786"
             ],
             [
              0.5555555555555556,
              "#d8576b"
             ],
             [
              0.6666666666666666,
              "#ed7953"
             ],
             [
              0.7777777777777778,
              "#fb9f3a"
             ],
             [
              0.8888888888888888,
              "#fdca26"
             ],
             [
              1,
              "#f0f921"
             ]
            ],
            "type": "contour"
           }
          ],
          "contourcarpet": [
           {
            "colorbar": {
             "outlinewidth": 0,
             "ticks": ""
            },
            "type": "contourcarpet"
           }
          ],
          "heatmap": [
           {
            "colorbar": {
             "outlinewidth": 0,
             "ticks": ""
            },
            "colorscale": [
             [
              0,
              "#0d0887"
             ],
             [
              0.1111111111111111,
              "#46039f"
             ],
             [
              0.2222222222222222,
              "#7201a8"
             ],
             [
              0.3333333333333333,
              "#9c179e"
             ],
             [
              0.4444444444444444,
              "#bd3786"
             ],
             [
              0.5555555555555556,
              "#d8576b"
             ],
             [
              0.6666666666666666,
              "#ed7953"
             ],
             [
              0.7777777777777778,
              "#fb9f3a"
             ],
             [
              0.8888888888888888,
              "#fdca26"
             ],
             [
              1,
              "#f0f921"
             ]
            ],
            "type": "heatmap"
           }
          ],
          "heatmapgl": [
           {
            "colorbar": {
             "outlinewidth": 0,
             "ticks": ""
            },
            "colorscale": [
             [
              0,
              "#0d0887"
             ],
             [
              0.1111111111111111,
              "#46039f"
             ],
             [
              0.2222222222222222,
              "#7201a8"
             ],
             [
              0.3333333333333333,
              "#9c179e"
             ],
             [
              0.4444444444444444,
              "#bd3786"
             ],
             [
              0.5555555555555556,
              "#d8576b"
             ],
             [
              0.6666666666666666,
              "#ed7953"
             ],
             [
              0.7777777777777778,
              "#fb9f3a"
             ],
             [
              0.8888888888888888,
              "#fdca26"
             ],
             [
              1,
              "#f0f921"
             ]
            ],
            "type": "heatmapgl"
           }
          ],
          "histogram": [
           {
            "marker": {
             "pattern": {
              "fillmode": "overlay",
              "size": 10,
              "solidity": 0.2
             }
            },
            "type": "histogram"
           }
          ],
          "histogram2d": [
           {
            "colorbar": {
             "outlinewidth": 0,
             "ticks": ""
            },
            "colorscale": [
             [
              0,
              "#0d0887"
             ],
             [
              0.1111111111111111,
              "#46039f"
             ],
             [
              0.2222222222222222,
              "#7201a8"
             ],
             [
              0.3333333333333333,
              "#9c179e"
             ],
             [
              0.4444444444444444,
              "#bd3786"
             ],
             [
              0.5555555555555556,
              "#d8576b"
             ],
             [
              0.6666666666666666,
              "#ed7953"
             ],
             [
              0.7777777777777778,
              "#fb9f3a"
             ],
             [
              0.8888888888888888,
              "#fdca26"
             ],
             [
              1,
              "#f0f921"
             ]
            ],
            "type": "histogram2d"
           }
          ],
          "histogram2dcontour": [
           {
            "colorbar": {
             "outlinewidth": 0,
             "ticks": ""
            },
            "colorscale": [
             [
              0,
              "#0d0887"
             ],
             [
              0.1111111111111111,
              "#46039f"
             ],
             [
              0.2222222222222222,
              "#7201a8"
             ],
             [
              0.3333333333333333,
              "#9c179e"
             ],
             [
              0.4444444444444444,
              "#bd3786"
             ],
             [
              0.5555555555555556,
              "#d8576b"
             ],
             [
              0.6666666666666666,
              "#ed7953"
             ],
             [
              0.7777777777777778,
              "#fb9f3a"
             ],
             [
              0.8888888888888888,
              "#fdca26"
             ],
             [
              1,
              "#f0f921"
             ]
            ],
            "type": "histogram2dcontour"
           }
          ],
          "mesh3d": [
           {
            "colorbar": {
             "outlinewidth": 0,
             "ticks": ""
            },
            "type": "mesh3d"
           }
          ],
          "parcoords": [
           {
            "line": {
             "colorbar": {
              "outlinewidth": 0,
              "ticks": ""
             }
            },
            "type": "parcoords"
           }
          ],
          "pie": [
           {
            "automargin": true,
            "type": "pie"
           }
          ],
          "scatter": [
           {
            "fillpattern": {
             "fillmode": "overlay",
             "size": 10,
             "solidity": 0.2
            },
            "type": "scatter"
           }
          ],
          "scatter3d": [
           {
            "line": {
             "colorbar": {
              "outlinewidth": 0,
              "ticks": ""
             }
            },
            "marker": {
             "colorbar": {
              "outlinewidth": 0,
              "ticks": ""
             }
            },
            "type": "scatter3d"
           }
          ],
          "scattercarpet": [
           {
            "marker": {
             "colorbar": {
              "outlinewidth": 0,
              "ticks": ""
             }
            },
            "type": "scattercarpet"
           }
          ],
          "scattergeo": [
           {
            "marker": {
             "colorbar": {
              "outlinewidth": 0,
              "ticks": ""
             }
            },
            "type": "scattergeo"
           }
          ],
          "scattergl": [
           {
            "marker": {
             "colorbar": {
              "outlinewidth": 0,
              "ticks": ""
             }
            },
            "type": "scattergl"
           }
          ],
          "scattermapbox": [
           {
            "marker": {
             "colorbar": {
              "outlinewidth": 0,
              "ticks": ""
             }
            },
            "type": "scattermapbox"
           }
          ],
          "scatterpolar": [
           {
            "marker": {
             "colorbar": {
              "outlinewidth": 0,
              "ticks": ""
             }
            },
            "type": "scatterpolar"
           }
          ],
          "scatterpolargl": [
           {
            "marker": {
             "colorbar": {
              "outlinewidth": 0,
              "ticks": ""
             }
            },
            "type": "scatterpolargl"
           }
          ],
          "scatterternary": [
           {
            "marker": {
             "colorbar": {
              "outlinewidth": 0,
              "ticks": ""
             }
            },
            "type": "scatterternary"
           }
          ],
          "surface": [
           {
            "colorbar": {
             "outlinewidth": 0,
             "ticks": ""
            },
            "colorscale": [
             [
              0,
              "#0d0887"
             ],
             [
              0.1111111111111111,
              "#46039f"
             ],
             [
              0.2222222222222222,
              "#7201a8"
             ],
             [
              0.3333333333333333,
              "#9c179e"
             ],
             [
              0.4444444444444444,
              "#bd3786"
             ],
             [
              0.5555555555555556,
              "#d8576b"
             ],
             [
              0.6666666666666666,
              "#ed7953"
             ],
             [
              0.7777777777777778,
              "#fb9f3a"
             ],
             [
              0.8888888888888888,
              "#fdca26"
             ],
             [
              1,
              "#f0f921"
             ]
            ],
            "type": "surface"
           }
          ],
          "table": [
           {
            "cells": {
             "fill": {
              "color": "#EBF0F8"
             },
             "line": {
              "color": "white"
             }
            },
            "header": {
             "fill": {
              "color": "#C8D4E3"
             },
             "line": {
              "color": "white"
             }
            },
            "type": "table"
           }
          ]
         },
         "layout": {
          "annotationdefaults": {
           "arrowcolor": "#2a3f5f",
           "arrowhead": 0,
           "arrowwidth": 1
          },
          "autotypenumbers": "strict",
          "coloraxis": {
           "colorbar": {
            "outlinewidth": 0,
            "ticks": ""
           }
          },
          "colorscale": {
           "diverging": [
            [
             0,
             "#8e0152"
            ],
            [
             0.1,
             "#c51b7d"
            ],
            [
             0.2,
             "#de77ae"
            ],
            [
             0.3,
             "#f1b6da"
            ],
            [
             0.4,
             "#fde0ef"
            ],
            [
             0.5,
             "#f7f7f7"
            ],
            [
             0.6,
             "#e6f5d0"
            ],
            [
             0.7,
             "#b8e186"
            ],
            [
             0.8,
             "#7fbc41"
            ],
            [
             0.9,
             "#4d9221"
            ],
            [
             1,
             "#276419"
            ]
           ],
           "sequential": [
            [
             0,
             "#0d0887"
            ],
            [
             0.1111111111111111,
             "#46039f"
            ],
            [
             0.2222222222222222,
             "#7201a8"
            ],
            [
             0.3333333333333333,
             "#9c179e"
            ],
            [
             0.4444444444444444,
             "#bd3786"
            ],
            [
             0.5555555555555556,
             "#d8576b"
            ],
            [
             0.6666666666666666,
             "#ed7953"
            ],
            [
             0.7777777777777778,
             "#fb9f3a"
            ],
            [
             0.8888888888888888,
             "#fdca26"
            ],
            [
             1,
             "#f0f921"
            ]
           ],
           "sequentialminus": [
            [
             0,
             "#0d0887"
            ],
            [
             0.1111111111111111,
             "#46039f"
            ],
            [
             0.2222222222222222,
             "#7201a8"
            ],
            [
             0.3333333333333333,
             "#9c179e"
            ],
            [
             0.4444444444444444,
             "#bd3786"
            ],
            [
             0.5555555555555556,
             "#d8576b"
            ],
            [
             0.6666666666666666,
             "#ed7953"
            ],
            [
             0.7777777777777778,
             "#fb9f3a"
            ],
            [
             0.8888888888888888,
             "#fdca26"
            ],
            [
             1,
             "#f0f921"
            ]
           ]
          },
          "colorway": [
           "#636efa",
           "#EF553B",
           "#00cc96",
           "#ab63fa",
           "#FFA15A",
           "#19d3f3",
           "#FF6692",
           "#B6E880",
           "#FF97FF",
           "#FECB52"
          ],
          "font": {
           "color": "#2a3f5f"
          },
          "geo": {
           "bgcolor": "white",
           "lakecolor": "white",
           "landcolor": "#E5ECF6",
           "showlakes": true,
           "showland": true,
           "subunitcolor": "white"
          },
          "hoverlabel": {
           "align": "left"
          },
          "hovermode": "closest",
          "mapbox": {
           "style": "light"
          },
          "paper_bgcolor": "white",
          "plot_bgcolor": "#E5ECF6",
          "polar": {
           "angularaxis": {
            "gridcolor": "white",
            "linecolor": "white",
            "ticks": ""
           },
           "bgcolor": "#E5ECF6",
           "radialaxis": {
            "gridcolor": "white",
            "linecolor": "white",
            "ticks": ""
           }
          },
          "scene": {
           "xaxis": {
            "backgroundcolor": "#E5ECF6",
            "gridcolor": "white",
            "gridwidth": 2,
            "linecolor": "white",
            "showbackground": true,
            "ticks": "",
            "zerolinecolor": "white"
           },
           "yaxis": {
            "backgroundcolor": "#E5ECF6",
            "gridcolor": "white",
            "gridwidth": 2,
            "linecolor": "white",
            "showbackground": true,
            "ticks": "",
            "zerolinecolor": "white"
           },
           "zaxis": {
            "backgroundcolor": "#E5ECF6",
            "gridcolor": "white",
            "gridwidth": 2,
            "linecolor": "white",
            "showbackground": true,
            "ticks": "",
            "zerolinecolor": "white"
           }
          },
          "shapedefaults": {
           "line": {
            "color": "#2a3f5f"
           }
          },
          "ternary": {
           "aaxis": {
            "gridcolor": "white",
            "linecolor": "white",
            "ticks": ""
           },
           "baxis": {
            "gridcolor": "white",
            "linecolor": "white",
            "ticks": ""
           },
           "bgcolor": "#E5ECF6",
           "caxis": {
            "gridcolor": "white",
            "linecolor": "white",
            "ticks": ""
           }
          },
          "title": {
           "x": 0.05
          },
          "xaxis": {
           "automargin": true,
           "gridcolor": "white",
           "linecolor": "white",
           "ticks": "",
           "title": {
            "standoff": 15
           },
           "zerolinecolor": "white",
           "zerolinewidth": 2
          },
          "yaxis": {
           "automargin": true,
           "gridcolor": "white",
           "linecolor": "white",
           "ticks": "",
           "title": {
            "standoff": 15
           },
           "zerolinecolor": "white",
           "zerolinewidth": 2
          }
         }
        }
       }
      }
     },
     "metadata": {},
     "output_type": "display_data"
    }
   ],
   "source": [
    "import plotly.graph_objects as go\n",
    "\n",
    "fig = go.Figure(data=go.Scatterpolar(\n",
    "  r=(np.array(final_OSA.sum()*10)),\n",
    "  theta=list(final_OSA.columns),\n",
    "  fill='toself'\n",
    "))\n",
    "\n",
    "fig.update_layout(\n",
    "  polar=dict(\n",
    "    radialaxis=dict(\n",
    "      visible=True,\n",
    "       range=[0, 10]\n",
    "    ),\n",
    "  ),\n",
    "  showlegend=False\n",
    ")\n",
    "\n",
    "fig.show()"
   ]
  },
  {
   "cell_type": "code",
   "execution_count": 50,
   "metadata": {},
   "outputs": [
    {
     "data": {
      "text/plain": [
       "Index(['Green/grassy', 'Floral', 'Fruity ', 'Sweet', 'Woody', 'Spicy'], dtype='object')"
      ]
     },
     "execution_count": 50,
     "metadata": {},
     "output_type": "execute_result"
    }
   ],
   "source": [
    "final_OSA.columns"
   ]
  },
  {
   "cell_type": "code",
   "execution_count": 51,
   "metadata": {},
   "outputs": [],
   "source": [
    "# filter out our 8 comparable OSAs \n",
    "comparable_OSAs = [\"floral\",\"fruit\",\"wood\",\"complexity\",\"malt\",\"sweet\",\"peat\",\"dried fruits\"]\n",
    "filtered_OSAs = pd.DataFrame(columns=comparable_OSAs)\n",
    "threshold = 80\n",
    "# Populate the new DataFrame based on original DataFrame\n",
    "for column in final_OSA.columns:\n",
    "    for comparable_OSA in comparable_OSAs:\n",
    "        if fuzz.ratio(str(column).lower(), comparable_OSA) >= threshold:\n",
    "            filtered_OSAs[comparable_OSA] = final_OSA[column]\n",
    "\n",
    "#filtered_OSAs\n",
    "\n"
   ]
  },
  {
   "cell_type": "code",
   "execution_count": 52,
   "metadata": {},
   "outputs": [
    {
     "data": {
      "application/vnd.plotly.v1+json": {
       "config": {
        "plotlyServerURL": "https://plot.ly"
       },
       "data": [
        {
         "fill": "toself",
         "name": "Product A",
         "r": [
          4,
          3,
          5,
          4,
          3,
          4,
          3
         ],
         "theta": [
          "floral",
          "fruit",
          "wood",
          "complexity",
          "malt",
          "sweet",
          "peat",
          "dried fruits"
         ],
         "type": "scatterpolar"
        },
        {
         "fill": "toself",
         "name": "Product B",
         "r": [
          5.904021720373509,
          4.428016290280132,
          2.9520108601867543,
          0,
          0,
          6.857014042144007,
          0,
          0
         ],
         "theta": [
          "floral",
          "fruit",
          "wood",
          "complexity",
          "malt",
          "sweet",
          "peat",
          "dried fruits"
         ],
         "type": "scatterpolar"
        }
       ],
       "layout": {
        "polar": {
         "radialaxis": {
          "range": [
           0,
           10
          ],
          "visible": true
         }
        },
        "showlegend": false,
        "template": {
         "data": {
          "bar": [
           {
            "error_x": {
             "color": "#2a3f5f"
            },
            "error_y": {
             "color": "#2a3f5f"
            },
            "marker": {
             "line": {
              "color": "#E5ECF6",
              "width": 0.5
             },
             "pattern": {
              "fillmode": "overlay",
              "size": 10,
              "solidity": 0.2
             }
            },
            "type": "bar"
           }
          ],
          "barpolar": [
           {
            "marker": {
             "line": {
              "color": "#E5ECF6",
              "width": 0.5
             },
             "pattern": {
              "fillmode": "overlay",
              "size": 10,
              "solidity": 0.2
             }
            },
            "type": "barpolar"
           }
          ],
          "carpet": [
           {
            "aaxis": {
             "endlinecolor": "#2a3f5f",
             "gridcolor": "white",
             "linecolor": "white",
             "minorgridcolor": "white",
             "startlinecolor": "#2a3f5f"
            },
            "baxis": {
             "endlinecolor": "#2a3f5f",
             "gridcolor": "white",
             "linecolor": "white",
             "minorgridcolor": "white",
             "startlinecolor": "#2a3f5f"
            },
            "type": "carpet"
           }
          ],
          "choropleth": [
           {
            "colorbar": {
             "outlinewidth": 0,
             "ticks": ""
            },
            "type": "choropleth"
           }
          ],
          "contour": [
           {
            "colorbar": {
             "outlinewidth": 0,
             "ticks": ""
            },
            "colorscale": [
             [
              0,
              "#0d0887"
             ],
             [
              0.1111111111111111,
              "#46039f"
             ],
             [
              0.2222222222222222,
              "#7201a8"
             ],
             [
              0.3333333333333333,
              "#9c179e"
             ],
             [
              0.4444444444444444,
              "#bd3786"
             ],
             [
              0.5555555555555556,
              "#d8576b"
             ],
             [
              0.6666666666666666,
              "#ed7953"
             ],
             [
              0.7777777777777778,
              "#fb9f3a"
             ],
             [
              0.8888888888888888,
              "#fdca26"
             ],
             [
              1,
              "#f0f921"
             ]
            ],
            "type": "contour"
           }
          ],
          "contourcarpet": [
           {
            "colorbar": {
             "outlinewidth": 0,
             "ticks": ""
            },
            "type": "contourcarpet"
           }
          ],
          "heatmap": [
           {
            "colorbar": {
             "outlinewidth": 0,
             "ticks": ""
            },
            "colorscale": [
             [
              0,
              "#0d0887"
             ],
             [
              0.1111111111111111,
              "#46039f"
             ],
             [
              0.2222222222222222,
              "#7201a8"
             ],
             [
              0.3333333333333333,
              "#9c179e"
             ],
             [
              0.4444444444444444,
              "#bd3786"
             ],
             [
              0.5555555555555556,
              "#d8576b"
             ],
             [
              0.6666666666666666,
              "#ed7953"
             ],
             [
              0.7777777777777778,
              "#fb9f3a"
             ],
             [
              0.8888888888888888,
              "#fdca26"
             ],
             [
              1,
              "#f0f921"
             ]
            ],
            "type": "heatmap"
           }
          ],
          "heatmapgl": [
           {
            "colorbar": {
             "outlinewidth": 0,
             "ticks": ""
            },
            "colorscale": [
             [
              0,
              "#0d0887"
             ],
             [
              0.1111111111111111,
              "#46039f"
             ],
             [
              0.2222222222222222,
              "#7201a8"
             ],
             [
              0.3333333333333333,
              "#9c179e"
             ],
             [
              0.4444444444444444,
              "#bd3786"
             ],
             [
              0.5555555555555556,
              "#d8576b"
             ],
             [
              0.6666666666666666,
              "#ed7953"
             ],
             [
              0.7777777777777778,
              "#fb9f3a"
             ],
             [
              0.8888888888888888,
              "#fdca26"
             ],
             [
              1,
              "#f0f921"
             ]
            ],
            "type": "heatmapgl"
           }
          ],
          "histogram": [
           {
            "marker": {
             "pattern": {
              "fillmode": "overlay",
              "size": 10,
              "solidity": 0.2
             }
            },
            "type": "histogram"
           }
          ],
          "histogram2d": [
           {
            "colorbar": {
             "outlinewidth": 0,
             "ticks": ""
            },
            "colorscale": [
             [
              0,
              "#0d0887"
             ],
             [
              0.1111111111111111,
              "#46039f"
             ],
             [
              0.2222222222222222,
              "#7201a8"
             ],
             [
              0.3333333333333333,
              "#9c179e"
             ],
             [
              0.4444444444444444,
              "#bd3786"
             ],
             [
              0.5555555555555556,
              "#d8576b"
             ],
             [
              0.6666666666666666,
              "#ed7953"
             ],
             [
              0.7777777777777778,
              "#fb9f3a"
             ],
             [
              0.8888888888888888,
              "#fdca26"
             ],
             [
              1,
              "#f0f921"
             ]
            ],
            "type": "histogram2d"
           }
          ],
          "histogram2dcontour": [
           {
            "colorbar": {
             "outlinewidth": 0,
             "ticks": ""
            },
            "colorscale": [
             [
              0,
              "#0d0887"
             ],
             [
              0.1111111111111111,
              "#46039f"
             ],
             [
              0.2222222222222222,
              "#7201a8"
             ],
             [
              0.3333333333333333,
              "#9c179e"
             ],
             [
              0.4444444444444444,
              "#bd3786"
             ],
             [
              0.5555555555555556,
              "#d8576b"
             ],
             [
              0.6666666666666666,
              "#ed7953"
             ],
             [
              0.7777777777777778,
              "#fb9f3a"
             ],
             [
              0.8888888888888888,
              "#fdca26"
             ],
             [
              1,
              "#f0f921"
             ]
            ],
            "type": "histogram2dcontour"
           }
          ],
          "mesh3d": [
           {
            "colorbar": {
             "outlinewidth": 0,
             "ticks": ""
            },
            "type": "mesh3d"
           }
          ],
          "parcoords": [
           {
            "line": {
             "colorbar": {
              "outlinewidth": 0,
              "ticks": ""
             }
            },
            "type": "parcoords"
           }
          ],
          "pie": [
           {
            "automargin": true,
            "type": "pie"
           }
          ],
          "scatter": [
           {
            "fillpattern": {
             "fillmode": "overlay",
             "size": 10,
             "solidity": 0.2
            },
            "type": "scatter"
           }
          ],
          "scatter3d": [
           {
            "line": {
             "colorbar": {
              "outlinewidth": 0,
              "ticks": ""
             }
            },
            "marker": {
             "colorbar": {
              "outlinewidth": 0,
              "ticks": ""
             }
            },
            "type": "scatter3d"
           }
          ],
          "scattercarpet": [
           {
            "marker": {
             "colorbar": {
              "outlinewidth": 0,
              "ticks": ""
             }
            },
            "type": "scattercarpet"
           }
          ],
          "scattergeo": [
           {
            "marker": {
             "colorbar": {
              "outlinewidth": 0,
              "ticks": ""
             }
            },
            "type": "scattergeo"
           }
          ],
          "scattergl": [
           {
            "marker": {
             "colorbar": {
              "outlinewidth": 0,
              "ticks": ""
             }
            },
            "type": "scattergl"
           }
          ],
          "scattermapbox": [
           {
            "marker": {
             "colorbar": {
              "outlinewidth": 0,
              "ticks": ""
             }
            },
            "type": "scattermapbox"
           }
          ],
          "scatterpolar": [
           {
            "marker": {
             "colorbar": {
              "outlinewidth": 0,
              "ticks": ""
             }
            },
            "type": "scatterpolar"
           }
          ],
          "scatterpolargl": [
           {
            "marker": {
             "colorbar": {
              "outlinewidth": 0,
              "ticks": ""
             }
            },
            "type": "scatterpolargl"
           }
          ],
          "scatterternary": [
           {
            "marker": {
             "colorbar": {
              "outlinewidth": 0,
              "ticks": ""
             }
            },
            "type": "scatterternary"
           }
          ],
          "surface": [
           {
            "colorbar": {
             "outlinewidth": 0,
             "ticks": ""
            },
            "colorscale": [
             [
              0,
              "#0d0887"
             ],
             [
              0.1111111111111111,
              "#46039f"
             ],
             [
              0.2222222222222222,
              "#7201a8"
             ],
             [
              0.3333333333333333,
              "#9c179e"
             ],
             [
              0.4444444444444444,
              "#bd3786"
             ],
             [
              0.5555555555555556,
              "#d8576b"
             ],
             [
              0.6666666666666666,
              "#ed7953"
             ],
             [
              0.7777777777777778,
              "#fb9f3a"
             ],
             [
              0.8888888888888888,
              "#fdca26"
             ],
             [
              1,
              "#f0f921"
             ]
            ],
            "type": "surface"
           }
          ],
          "table": [
           {
            "cells": {
             "fill": {
              "color": "#EBF0F8"
             },
             "line": {
              "color": "white"
             }
            },
            "header": {
             "fill": {
              "color": "#C8D4E3"
             },
             "line": {
              "color": "white"
             }
            },
            "type": "table"
           }
          ]
         },
         "layout": {
          "annotationdefaults": {
           "arrowcolor": "#2a3f5f",
           "arrowhead": 0,
           "arrowwidth": 1
          },
          "autotypenumbers": "strict",
          "coloraxis": {
           "colorbar": {
            "outlinewidth": 0,
            "ticks": ""
           }
          },
          "colorscale": {
           "diverging": [
            [
             0,
             "#8e0152"
            ],
            [
             0.1,
             "#c51b7d"
            ],
            [
             0.2,
             "#de77ae"
            ],
            [
             0.3,
             "#f1b6da"
            ],
            [
             0.4,
             "#fde0ef"
            ],
            [
             0.5,
             "#f7f7f7"
            ],
            [
             0.6,
             "#e6f5d0"
            ],
            [
             0.7,
             "#b8e186"
            ],
            [
             0.8,
             "#7fbc41"
            ],
            [
             0.9,
             "#4d9221"
            ],
            [
             1,
             "#276419"
            ]
           ],
           "sequential": [
            [
             0,
             "#0d0887"
            ],
            [
             0.1111111111111111,
             "#46039f"
            ],
            [
             0.2222222222222222,
             "#7201a8"
            ],
            [
             0.3333333333333333,
             "#9c179e"
            ],
            [
             0.4444444444444444,
             "#bd3786"
            ],
            [
             0.5555555555555556,
             "#d8576b"
            ],
            [
             0.6666666666666666,
             "#ed7953"
            ],
            [
             0.7777777777777778,
             "#fb9f3a"
            ],
            [
             0.8888888888888888,
             "#fdca26"
            ],
            [
             1,
             "#f0f921"
            ]
           ],
           "sequentialminus": [
            [
             0,
             "#0d0887"
            ],
            [
             0.1111111111111111,
             "#46039f"
            ],
            [
             0.2222222222222222,
             "#7201a8"
            ],
            [
             0.3333333333333333,
             "#9c179e"
            ],
            [
             0.4444444444444444,
             "#bd3786"
            ],
            [
             0.5555555555555556,
             "#d8576b"
            ],
            [
             0.6666666666666666,
             "#ed7953"
            ],
            [
             0.7777777777777778,
             "#fb9f3a"
            ],
            [
             0.8888888888888888,
             "#fdca26"
            ],
            [
             1,
             "#f0f921"
            ]
           ]
          },
          "colorway": [
           "#636efa",
           "#EF553B",
           "#00cc96",
           "#ab63fa",
           "#FFA15A",
           "#19d3f3",
           "#FF6692",
           "#B6E880",
           "#FF97FF",
           "#FECB52"
          ],
          "font": {
           "color": "#2a3f5f"
          },
          "geo": {
           "bgcolor": "white",
           "lakecolor": "white",
           "landcolor": "#E5ECF6",
           "showlakes": true,
           "showland": true,
           "subunitcolor": "white"
          },
          "hoverlabel": {
           "align": "left"
          },
          "hovermode": "closest",
          "mapbox": {
           "style": "light"
          },
          "paper_bgcolor": "white",
          "plot_bgcolor": "#E5ECF6",
          "polar": {
           "angularaxis": {
            "gridcolor": "white",
            "linecolor": "white",
            "ticks": ""
           },
           "bgcolor": "#E5ECF6",
           "radialaxis": {
            "gridcolor": "white",
            "linecolor": "white",
            "ticks": ""
           }
          },
          "scene": {
           "xaxis": {
            "backgroundcolor": "#E5ECF6",
            "gridcolor": "white",
            "gridwidth": 2,
            "linecolor": "white",
            "showbackground": true,
            "ticks": "",
            "zerolinecolor": "white"
           },
           "yaxis": {
            "backgroundcolor": "#E5ECF6",
            "gridcolor": "white",
            "gridwidth": 2,
            "linecolor": "white",
            "showbackground": true,
            "ticks": "",
            "zerolinecolor": "white"
           },
           "zaxis": {
            "backgroundcolor": "#E5ECF6",
            "gridcolor": "white",
            "gridwidth": 2,
            "linecolor": "white",
            "showbackground": true,
            "ticks": "",
            "zerolinecolor": "white"
           }
          },
          "shapedefaults": {
           "line": {
            "color": "#2a3f5f"
           }
          },
          "ternary": {
           "aaxis": {
            "gridcolor": "white",
            "linecolor": "white",
            "ticks": ""
           },
           "baxis": {
            "gridcolor": "white",
            "linecolor": "white",
            "ticks": ""
           },
           "bgcolor": "#E5ECF6",
           "caxis": {
            "gridcolor": "white",
            "linecolor": "white",
            "ticks": ""
           }
          },
          "title": {
           "x": 0.05
          },
          "xaxis": {
           "automargin": true,
           "gridcolor": "white",
           "linecolor": "white",
           "ticks": "",
           "title": {
            "standoff": 15
           },
           "zerolinecolor": "white",
           "zerolinewidth": 2
          },
          "yaxis": {
           "automargin": true,
           "gridcolor": "white",
           "linecolor": "white",
           "ticks": "",
           "title": {
            "standoff": 15
           },
           "zerolinecolor": "white",
           "zerolinewidth": 2
          }
         }
        }
       }
      }
     },
     "metadata": {},
     "output_type": "display_data"
    }
   ],
   "source": [
    "import plotly.graph_objects as go\n",
    "\n",
    "panelist_scores = [40,30,50,40,30,40,30]\n",
    "fig = go.Figure()\n",
    "\n",
    "fig.add_trace(go.Scatterpolar(\n",
    "      r=[value / 10 for value in panelist_scores],\n",
    "      theta=comparable_OSAs,\n",
    "      fill='toself',\n",
    "      name='Product A'\n",
    "))\n",
    "fig.add_trace(go.Scatterpolar(\n",
    "      r=list(filtered_OSAs.sum()*10),\n",
    "      theta=comparable_OSAs,\n",
    "      fill='toself',\n",
    "      name='Product B'\n",
    "))\n",
    "\n",
    "fig.update_layout(\n",
    "  polar=dict(\n",
    "    radialaxis=dict(\n",
    "      visible=True,\n",
    "      range=[0, 10]\n",
    "    )),\n",
    "  showlegend=False\n",
    ")\n",
    "\n",
    "fig.show()"
   ]
  },
  {
   "cell_type": "code",
   "execution_count": 53,
   "metadata": {},
   "outputs": [
    {
     "data": {
      "application/vnd.plotly.v1+json": {
       "config": {
        "plotlyServerURL": "https://plot.ly"
       },
       "data": [
        {
         "fill": "toself",
         "name": "panelist",
         "r": [
          0,
          4,
          3,
          4,
          5,
          0
         ],
         "theta": [
          "Green/grassy",
          "Floral",
          "Fruity ",
          "Sweet",
          "Woody",
          "Spicy"
         ],
         "type": "scatterpolar"
        },
        {
         "fill": "toself",
         "name": "MS_prediction",
         "r": [
          2.9520108601867543,
          5.904021720373509,
          4.428016290280132,
          6.857014042144007,
          2.9520108601867543,
          1.4760054300933771
         ],
         "theta": [
          "Green/grassy",
          "Floral",
          "Fruity ",
          "Sweet",
          "Woody",
          "Spicy"
         ],
         "type": "scatterpolar"
        }
       ],
       "layout": {
        "polar": {
         "radialaxis": {
          "range": [
           0,
           10
          ],
          "visible": true
         }
        },
        "showlegend": false,
        "template": {
         "data": {
          "bar": [
           {
            "error_x": {
             "color": "#2a3f5f"
            },
            "error_y": {
             "color": "#2a3f5f"
            },
            "marker": {
             "line": {
              "color": "#E5ECF6",
              "width": 0.5
             },
             "pattern": {
              "fillmode": "overlay",
              "size": 10,
              "solidity": 0.2
             }
            },
            "type": "bar"
           }
          ],
          "barpolar": [
           {
            "marker": {
             "line": {
              "color": "#E5ECF6",
              "width": 0.5
             },
             "pattern": {
              "fillmode": "overlay",
              "size": 10,
              "solidity": 0.2
             }
            },
            "type": "barpolar"
           }
          ],
          "carpet": [
           {
            "aaxis": {
             "endlinecolor": "#2a3f5f",
             "gridcolor": "white",
             "linecolor": "white",
             "minorgridcolor": "white",
             "startlinecolor": "#2a3f5f"
            },
            "baxis": {
             "endlinecolor": "#2a3f5f",
             "gridcolor": "white",
             "linecolor": "white",
             "minorgridcolor": "white",
             "startlinecolor": "#2a3f5f"
            },
            "type": "carpet"
           }
          ],
          "choropleth": [
           {
            "colorbar": {
             "outlinewidth": 0,
             "ticks": ""
            },
            "type": "choropleth"
           }
          ],
          "contour": [
           {
            "colorbar": {
             "outlinewidth": 0,
             "ticks": ""
            },
            "colorscale": [
             [
              0,
              "#0d0887"
             ],
             [
              0.1111111111111111,
              "#46039f"
             ],
             [
              0.2222222222222222,
              "#7201a8"
             ],
             [
              0.3333333333333333,
              "#9c179e"
             ],
             [
              0.4444444444444444,
              "#bd3786"
             ],
             [
              0.5555555555555556,
              "#d8576b"
             ],
             [
              0.6666666666666666,
              "#ed7953"
             ],
             [
              0.7777777777777778,
              "#fb9f3a"
             ],
             [
              0.8888888888888888,
              "#fdca26"
             ],
             [
              1,
              "#f0f921"
             ]
            ],
            "type": "contour"
           }
          ],
          "contourcarpet": [
           {
            "colorbar": {
             "outlinewidth": 0,
             "ticks": ""
            },
            "type": "contourcarpet"
           }
          ],
          "heatmap": [
           {
            "colorbar": {
             "outlinewidth": 0,
             "ticks": ""
            },
            "colorscale": [
             [
              0,
              "#0d0887"
             ],
             [
              0.1111111111111111,
              "#46039f"
             ],
             [
              0.2222222222222222,
              "#7201a8"
             ],
             [
              0.3333333333333333,
              "#9c179e"
             ],
             [
              0.4444444444444444,
              "#bd3786"
             ],
             [
              0.5555555555555556,
              "#d8576b"
             ],
             [
              0.6666666666666666,
              "#ed7953"
             ],
             [
              0.7777777777777778,
              "#fb9f3a"
             ],
             [
              0.8888888888888888,
              "#fdca26"
             ],
             [
              1,
              "#f0f921"
             ]
            ],
            "type": "heatmap"
           }
          ],
          "heatmapgl": [
           {
            "colorbar": {
             "outlinewidth": 0,
             "ticks": ""
            },
            "colorscale": [
             [
              0,
              "#0d0887"
             ],
             [
              0.1111111111111111,
              "#46039f"
             ],
             [
              0.2222222222222222,
              "#7201a8"
             ],
             [
              0.3333333333333333,
              "#9c179e"
             ],
             [
              0.4444444444444444,
              "#bd3786"
             ],
             [
              0.5555555555555556,
              "#d8576b"
             ],
             [
              0.6666666666666666,
              "#ed7953"
             ],
             [
              0.7777777777777778,
              "#fb9f3a"
             ],
             [
              0.8888888888888888,
              "#fdca26"
             ],
             [
              1,
              "#f0f921"
             ]
            ],
            "type": "heatmapgl"
           }
          ],
          "histogram": [
           {
            "marker": {
             "pattern": {
              "fillmode": "overlay",
              "size": 10,
              "solidity": 0.2
             }
            },
            "type": "histogram"
           }
          ],
          "histogram2d": [
           {
            "colorbar": {
             "outlinewidth": 0,
             "ticks": ""
            },
            "colorscale": [
             [
              0,
              "#0d0887"
             ],
             [
              0.1111111111111111,
              "#46039f"
             ],
             [
              0.2222222222222222,
              "#7201a8"
             ],
             [
              0.3333333333333333,
              "#9c179e"
             ],
             [
              0.4444444444444444,
              "#bd3786"
             ],
             [
              0.5555555555555556,
              "#d8576b"
             ],
             [
              0.6666666666666666,
              "#ed7953"
             ],
             [
              0.7777777777777778,
              "#fb9f3a"
             ],
             [
              0.8888888888888888,
              "#fdca26"
             ],
             [
              1,
              "#f0f921"
             ]
            ],
            "type": "histogram2d"
           }
          ],
          "histogram2dcontour": [
           {
            "colorbar": {
             "outlinewidth": 0,
             "ticks": ""
            },
            "colorscale": [
             [
              0,
              "#0d0887"
             ],
             [
              0.1111111111111111,
              "#46039f"
             ],
             [
              0.2222222222222222,
              "#7201a8"
             ],
             [
              0.3333333333333333,
              "#9c179e"
             ],
             [
              0.4444444444444444,
              "#bd3786"
             ],
             [
              0.5555555555555556,
              "#d8576b"
             ],
             [
              0.6666666666666666,
              "#ed7953"
             ],
             [
              0.7777777777777778,
              "#fb9f3a"
             ],
             [
              0.8888888888888888,
              "#fdca26"
             ],
             [
              1,
              "#f0f921"
             ]
            ],
            "type": "histogram2dcontour"
           }
          ],
          "mesh3d": [
           {
            "colorbar": {
             "outlinewidth": 0,
             "ticks": ""
            },
            "type": "mesh3d"
           }
          ],
          "parcoords": [
           {
            "line": {
             "colorbar": {
              "outlinewidth": 0,
              "ticks": ""
             }
            },
            "type": "parcoords"
           }
          ],
          "pie": [
           {
            "automargin": true,
            "type": "pie"
           }
          ],
          "scatter": [
           {
            "fillpattern": {
             "fillmode": "overlay",
             "size": 10,
             "solidity": 0.2
            },
            "type": "scatter"
           }
          ],
          "scatter3d": [
           {
            "line": {
             "colorbar": {
              "outlinewidth": 0,
              "ticks": ""
             }
            },
            "marker": {
             "colorbar": {
              "outlinewidth": 0,
              "ticks": ""
             }
            },
            "type": "scatter3d"
           }
          ],
          "scattercarpet": [
           {
            "marker": {
             "colorbar": {
              "outlinewidth": 0,
              "ticks": ""
             }
            },
            "type": "scattercarpet"
           }
          ],
          "scattergeo": [
           {
            "marker": {
             "colorbar": {
              "outlinewidth": 0,
              "ticks": ""
             }
            },
            "type": "scattergeo"
           }
          ],
          "scattergl": [
           {
            "marker": {
             "colorbar": {
              "outlinewidth": 0,
              "ticks": ""
             }
            },
            "type": "scattergl"
           }
          ],
          "scattermapbox": [
           {
            "marker": {
             "colorbar": {
              "outlinewidth": 0,
              "ticks": ""
             }
            },
            "type": "scattermapbox"
           }
          ],
          "scatterpolar": [
           {
            "marker": {
             "colorbar": {
              "outlinewidth": 0,
              "ticks": ""
             }
            },
            "type": "scatterpolar"
           }
          ],
          "scatterpolargl": [
           {
            "marker": {
             "colorbar": {
              "outlinewidth": 0,
              "ticks": ""
             }
            },
            "type": "scatterpolargl"
           }
          ],
          "scatterternary": [
           {
            "marker": {
             "colorbar": {
              "outlinewidth": 0,
              "ticks": ""
             }
            },
            "type": "scatterternary"
           }
          ],
          "surface": [
           {
            "colorbar": {
             "outlinewidth": 0,
             "ticks": ""
            },
            "colorscale": [
             [
              0,
              "#0d0887"
             ],
             [
              0.1111111111111111,
              "#46039f"
             ],
             [
              0.2222222222222222,
              "#7201a8"
             ],
             [
              0.3333333333333333,
              "#9c179e"
             ],
             [
              0.4444444444444444,
              "#bd3786"
             ],
             [
              0.5555555555555556,
              "#d8576b"
             ],
             [
              0.6666666666666666,
              "#ed7953"
             ],
             [
              0.7777777777777778,
              "#fb9f3a"
             ],
             [
              0.8888888888888888,
              "#fdca26"
             ],
             [
              1,
              "#f0f921"
             ]
            ],
            "type": "surface"
           }
          ],
          "table": [
           {
            "cells": {
             "fill": {
              "color": "#EBF0F8"
             },
             "line": {
              "color": "white"
             }
            },
            "header": {
             "fill": {
              "color": "#C8D4E3"
             },
             "line": {
              "color": "white"
             }
            },
            "type": "table"
           }
          ]
         },
         "layout": {
          "annotationdefaults": {
           "arrowcolor": "#2a3f5f",
           "arrowhead": 0,
           "arrowwidth": 1
          },
          "autotypenumbers": "strict",
          "coloraxis": {
           "colorbar": {
            "outlinewidth": 0,
            "ticks": ""
           }
          },
          "colorscale": {
           "diverging": [
            [
             0,
             "#8e0152"
            ],
            [
             0.1,
             "#c51b7d"
            ],
            [
             0.2,
             "#de77ae"
            ],
            [
             0.3,
             "#f1b6da"
            ],
            [
             0.4,
             "#fde0ef"
            ],
            [
             0.5,
             "#f7f7f7"
            ],
            [
             0.6,
             "#e6f5d0"
            ],
            [
             0.7,
             "#b8e186"
            ],
            [
             0.8,
             "#7fbc41"
            ],
            [
             0.9,
             "#4d9221"
            ],
            [
             1,
             "#276419"
            ]
           ],
           "sequential": [
            [
             0,
             "#0d0887"
            ],
            [
             0.1111111111111111,
             "#46039f"
            ],
            [
             0.2222222222222222,
             "#7201a8"
            ],
            [
             0.3333333333333333,
             "#9c179e"
            ],
            [
             0.4444444444444444,
             "#bd3786"
            ],
            [
             0.5555555555555556,
             "#d8576b"
            ],
            [
             0.6666666666666666,
             "#ed7953"
            ],
            [
             0.7777777777777778,
             "#fb9f3a"
            ],
            [
             0.8888888888888888,
             "#fdca26"
            ],
            [
             1,
             "#f0f921"
            ]
           ],
           "sequentialminus": [
            [
             0,
             "#0d0887"
            ],
            [
             0.1111111111111111,
             "#46039f"
            ],
            [
             0.2222222222222222,
             "#7201a8"
            ],
            [
             0.3333333333333333,
             "#9c179e"
            ],
            [
             0.4444444444444444,
             "#bd3786"
            ],
            [
             0.5555555555555556,
             "#d8576b"
            ],
            [
             0.6666666666666666,
             "#ed7953"
            ],
            [
             0.7777777777777778,
             "#fb9f3a"
            ],
            [
             0.8888888888888888,
             "#fdca26"
            ],
            [
             1,
             "#f0f921"
            ]
           ]
          },
          "colorway": [
           "#636efa",
           "#EF553B",
           "#00cc96",
           "#ab63fa",
           "#FFA15A",
           "#19d3f3",
           "#FF6692",
           "#B6E880",
           "#FF97FF",
           "#FECB52"
          ],
          "font": {
           "color": "#2a3f5f"
          },
          "geo": {
           "bgcolor": "white",
           "lakecolor": "white",
           "landcolor": "#E5ECF6",
           "showlakes": true,
           "showland": true,
           "subunitcolor": "white"
          },
          "hoverlabel": {
           "align": "left"
          },
          "hovermode": "closest",
          "mapbox": {
           "style": "light"
          },
          "paper_bgcolor": "white",
          "plot_bgcolor": "#E5ECF6",
          "polar": {
           "angularaxis": {
            "gridcolor": "white",
            "linecolor": "white",
            "ticks": ""
           },
           "bgcolor": "#E5ECF6",
           "radialaxis": {
            "gridcolor": "white",
            "linecolor": "white",
            "ticks": ""
           }
          },
          "scene": {
           "xaxis": {
            "backgroundcolor": "#E5ECF6",
            "gridcolor": "white",
            "gridwidth": 2,
            "linecolor": "white",
            "showbackground": true,
            "ticks": "",
            "zerolinecolor": "white"
           },
           "yaxis": {
            "backgroundcolor": "#E5ECF6",
            "gridcolor": "white",
            "gridwidth": 2,
            "linecolor": "white",
            "showbackground": true,
            "ticks": "",
            "zerolinecolor": "white"
           },
           "zaxis": {
            "backgroundcolor": "#E5ECF6",
            "gridcolor": "white",
            "gridwidth": 2,
            "linecolor": "white",
            "showbackground": true,
            "ticks": "",
            "zerolinecolor": "white"
           }
          },
          "shapedefaults": {
           "line": {
            "color": "#2a3f5f"
           }
          },
          "ternary": {
           "aaxis": {
            "gridcolor": "white",
            "linecolor": "white",
            "ticks": ""
           },
           "baxis": {
            "gridcolor": "white",
            "linecolor": "white",
            "ticks": ""
           },
           "bgcolor": "#E5ECF6",
           "caxis": {
            "gridcolor": "white",
            "linecolor": "white",
            "ticks": ""
           }
          },
          "title": {
           "x": 0.05
          },
          "xaxis": {
           "automargin": true,
           "gridcolor": "white",
           "linecolor": "white",
           "ticks": "",
           "title": {
            "standoff": 15
           },
           "zerolinecolor": "white",
           "zerolinewidth": 2
          },
          "yaxis": {
           "automargin": true,
           "gridcolor": "white",
           "linecolor": "white",
           "ticks": "",
           "title": {
            "standoff": 15
           },
           "zerolinecolor": "white",
           "zerolinewidth": 2
          }
         }
        }
       }
      }
     },
     "metadata": {},
     "output_type": "display_data"
    }
   ],
   "source": [
    "#only compare only columns from final_OSA\n",
    "fig = go.Figure()\n",
    "\n",
    "fig.add_trace(go.Scatterpolar(\n",
    "    r=[0,4,3,4,5,0],\n",
    "    theta=list(final_OSA.columns),\n",
    "    fill='toself',\n",
    "    name=\"panelist\"\n",
    "))\n",
    "\n",
    "fig.add_trace(go.Scatterpolar(\n",
    "  r=(np.array(final_OSA.sum()*10)),\n",
    "  theta=list(final_OSA.columns),\n",
    "  fill='toself',\n",
    "  name= \"MS_prediction\"))\n",
    "\n",
    "fig.update_layout(\n",
    "  polar=dict(\n",
    "    radialaxis=dict(\n",
    "      visible=True,\n",
    "      range=[0, 10]\n",
    "    )),\n",
    "  showlegend=False\n",
    ")\n",
    "\n",
    "fig.show()"
   ]
  },
  {
   "cell_type": "code",
   "execution_count": 54,
   "metadata": {},
   "outputs": [
    {
     "data": {
      "application/vnd.plotly.v1+json": {
       "config": {
        "plotlyServerURL": "https://plot.ly"
       },
       "data": [
        {
         "fill": "toself",
         "r": [
          0,
          4,
          3,
          4,
          5,
          0
         ],
         "theta": [
          "Green",
          "floral",
          "fruit",
          "sweet",
          "wood",
          "spicy"
         ],
         "type": "scatterpolar"
        }
       ],
       "layout": {
        "polar": {
         "radialaxis": {
          "range": [
           0,
           10
          ],
          "visible": true
         }
        },
        "showlegend": false,
        "template": {
         "data": {
          "bar": [
           {
            "error_x": {
             "color": "#2a3f5f"
            },
            "error_y": {
             "color": "#2a3f5f"
            },
            "marker": {
             "line": {
              "color": "#E5ECF6",
              "width": 0.5
             },
             "pattern": {
              "fillmode": "overlay",
              "size": 10,
              "solidity": 0.2
             }
            },
            "type": "bar"
           }
          ],
          "barpolar": [
           {
            "marker": {
             "line": {
              "color": "#E5ECF6",
              "width": 0.5
             },
             "pattern": {
              "fillmode": "overlay",
              "size": 10,
              "solidity": 0.2
             }
            },
            "type": "barpolar"
           }
          ],
          "carpet": [
           {
            "aaxis": {
             "endlinecolor": "#2a3f5f",
             "gridcolor": "white",
             "linecolor": "white",
             "minorgridcolor": "white",
             "startlinecolor": "#2a3f5f"
            },
            "baxis": {
             "endlinecolor": "#2a3f5f",
             "gridcolor": "white",
             "linecolor": "white",
             "minorgridcolor": "white",
             "startlinecolor": "#2a3f5f"
            },
            "type": "carpet"
           }
          ],
          "choropleth": [
           {
            "colorbar": {
             "outlinewidth": 0,
             "ticks": ""
            },
            "type": "choropleth"
           }
          ],
          "contour": [
           {
            "colorbar": {
             "outlinewidth": 0,
             "ticks": ""
            },
            "colorscale": [
             [
              0,
              "#0d0887"
             ],
             [
              0.1111111111111111,
              "#46039f"
             ],
             [
              0.2222222222222222,
              "#7201a8"
             ],
             [
              0.3333333333333333,
              "#9c179e"
             ],
             [
              0.4444444444444444,
              "#bd3786"
             ],
             [
              0.5555555555555556,
              "#d8576b"
             ],
             [
              0.6666666666666666,
              "#ed7953"
             ],
             [
              0.7777777777777778,
              "#fb9f3a"
             ],
             [
              0.8888888888888888,
              "#fdca26"
             ],
             [
              1,
              "#f0f921"
             ]
            ],
            "type": "contour"
           }
          ],
          "contourcarpet": [
           {
            "colorbar": {
             "outlinewidth": 0,
             "ticks": ""
            },
            "type": "contourcarpet"
           }
          ],
          "heatmap": [
           {
            "colorbar": {
             "outlinewidth": 0,
             "ticks": ""
            },
            "colorscale": [
             [
              0,
              "#0d0887"
             ],
             [
              0.1111111111111111,
              "#46039f"
             ],
             [
              0.2222222222222222,
              "#7201a8"
             ],
             [
              0.3333333333333333,
              "#9c179e"
             ],
             [
              0.4444444444444444,
              "#bd3786"
             ],
             [
              0.5555555555555556,
              "#d8576b"
             ],
             [
              0.6666666666666666,
              "#ed7953"
             ],
             [
              0.7777777777777778,
              "#fb9f3a"
             ],
             [
              0.8888888888888888,
              "#fdca26"
             ],
             [
              1,
              "#f0f921"
             ]
            ],
            "type": "heatmap"
           }
          ],
          "heatmapgl": [
           {
            "colorbar": {
             "outlinewidth": 0,
             "ticks": ""
            },
            "colorscale": [
             [
              0,
              "#0d0887"
             ],
             [
              0.1111111111111111,
              "#46039f"
             ],
             [
              0.2222222222222222,
              "#7201a8"
             ],
             [
              0.3333333333333333,
              "#9c179e"
             ],
             [
              0.4444444444444444,
              "#bd3786"
             ],
             [
              0.5555555555555556,
              "#d8576b"
             ],
             [
              0.6666666666666666,
              "#ed7953"
             ],
             [
              0.7777777777777778,
              "#fb9f3a"
             ],
             [
              0.8888888888888888,
              "#fdca26"
             ],
             [
              1,
              "#f0f921"
             ]
            ],
            "type": "heatmapgl"
           }
          ],
          "histogram": [
           {
            "marker": {
             "pattern": {
              "fillmode": "overlay",
              "size": 10,
              "solidity": 0.2
             }
            },
            "type": "histogram"
           }
          ],
          "histogram2d": [
           {
            "colorbar": {
             "outlinewidth": 0,
             "ticks": ""
            },
            "colorscale": [
             [
              0,
              "#0d0887"
             ],
             [
              0.1111111111111111,
              "#46039f"
             ],
             [
              0.2222222222222222,
              "#7201a8"
             ],
             [
              0.3333333333333333,
              "#9c179e"
             ],
             [
              0.4444444444444444,
              "#bd3786"
             ],
             [
              0.5555555555555556,
              "#d8576b"
             ],
             [
              0.6666666666666666,
              "#ed7953"
             ],
             [
              0.7777777777777778,
              "#fb9f3a"
             ],
             [
              0.8888888888888888,
              "#fdca26"
             ],
             [
              1,
              "#f0f921"
             ]
            ],
            "type": "histogram2d"
           }
          ],
          "histogram2dcontour": [
           {
            "colorbar": {
             "outlinewidth": 0,
             "ticks": ""
            },
            "colorscale": [
             [
              0,
              "#0d0887"
             ],
             [
              0.1111111111111111,
              "#46039f"
             ],
             [
              0.2222222222222222,
              "#7201a8"
             ],
             [
              0.3333333333333333,
              "#9c179e"
             ],
             [
              0.4444444444444444,
              "#bd3786"
             ],
             [
              0.5555555555555556,
              "#d8576b"
             ],
             [
              0.6666666666666666,
              "#ed7953"
             ],
             [
              0.7777777777777778,
              "#fb9f3a"
             ],
             [
              0.8888888888888888,
              "#fdca26"
             ],
             [
              1,
              "#f0f921"
             ]
            ],
            "type": "histogram2dcontour"
           }
          ],
          "mesh3d": [
           {
            "colorbar": {
             "outlinewidth": 0,
             "ticks": ""
            },
            "type": "mesh3d"
           }
          ],
          "parcoords": [
           {
            "line": {
             "colorbar": {
              "outlinewidth": 0,
              "ticks": ""
             }
            },
            "type": "parcoords"
           }
          ],
          "pie": [
           {
            "automargin": true,
            "type": "pie"
           }
          ],
          "scatter": [
           {
            "fillpattern": {
             "fillmode": "overlay",
             "size": 10,
             "solidity": 0.2
            },
            "type": "scatter"
           }
          ],
          "scatter3d": [
           {
            "line": {
             "colorbar": {
              "outlinewidth": 0,
              "ticks": ""
             }
            },
            "marker": {
             "colorbar": {
              "outlinewidth": 0,
              "ticks": ""
             }
            },
            "type": "scatter3d"
           }
          ],
          "scattercarpet": [
           {
            "marker": {
             "colorbar": {
              "outlinewidth": 0,
              "ticks": ""
             }
            },
            "type": "scattercarpet"
           }
          ],
          "scattergeo": [
           {
            "marker": {
             "colorbar": {
              "outlinewidth": 0,
              "ticks": ""
             }
            },
            "type": "scattergeo"
           }
          ],
          "scattergl": [
           {
            "marker": {
             "colorbar": {
              "outlinewidth": 0,
              "ticks": ""
             }
            },
            "type": "scattergl"
           }
          ],
          "scattermapbox": [
           {
            "marker": {
             "colorbar": {
              "outlinewidth": 0,
              "ticks": ""
             }
            },
            "type": "scattermapbox"
           }
          ],
          "scatterpolar": [
           {
            "marker": {
             "colorbar": {
              "outlinewidth": 0,
              "ticks": ""
             }
            },
            "type": "scatterpolar"
           }
          ],
          "scatterpolargl": [
           {
            "marker": {
             "colorbar": {
              "outlinewidth": 0,
              "ticks": ""
             }
            },
            "type": "scatterpolargl"
           }
          ],
          "scatterternary": [
           {
            "marker": {
             "colorbar": {
              "outlinewidth": 0,
              "ticks": ""
             }
            },
            "type": "scatterternary"
           }
          ],
          "surface": [
           {
            "colorbar": {
             "outlinewidth": 0,
             "ticks": ""
            },
            "colorscale": [
             [
              0,
              "#0d0887"
             ],
             [
              0.1111111111111111,
              "#46039f"
             ],
             [
              0.2222222222222222,
              "#7201a8"
             ],
             [
              0.3333333333333333,
              "#9c179e"
             ],
             [
              0.4444444444444444,
              "#bd3786"
             ],
             [
              0.5555555555555556,
              "#d8576b"
             ],
             [
              0.6666666666666666,
              "#ed7953"
             ],
             [
              0.7777777777777778,
              "#fb9f3a"
             ],
             [
              0.8888888888888888,
              "#fdca26"
             ],
             [
              1,
              "#f0f921"
             ]
            ],
            "type": "surface"
           }
          ],
          "table": [
           {
            "cells": {
             "fill": {
              "color": "#EBF0F8"
             },
             "line": {
              "color": "white"
             }
            },
            "header": {
             "fill": {
              "color": "#C8D4E3"
             },
             "line": {
              "color": "white"
             }
            },
            "type": "table"
           }
          ]
         },
         "layout": {
          "annotationdefaults": {
           "arrowcolor": "#2a3f5f",
           "arrowhead": 0,
           "arrowwidth": 1
          },
          "autotypenumbers": "strict",
          "coloraxis": {
           "colorbar": {
            "outlinewidth": 0,
            "ticks": ""
           }
          },
          "colorscale": {
           "diverging": [
            [
             0,
             "#8e0152"
            ],
            [
             0.1,
             "#c51b7d"
            ],
            [
             0.2,
             "#de77ae"
            ],
            [
             0.3,
             "#f1b6da"
            ],
            [
             0.4,
             "#fde0ef"
            ],
            [
             0.5,
             "#f7f7f7"
            ],
            [
             0.6,
             "#e6f5d0"
            ],
            [
             0.7,
             "#b8e186"
            ],
            [
             0.8,
             "#7fbc41"
            ],
            [
             0.9,
             "#4d9221"
            ],
            [
             1,
             "#276419"
            ]
           ],
           "sequential": [
            [
             0,
             "#0d0887"
            ],
            [
             0.1111111111111111,
             "#46039f"
            ],
            [
             0.2222222222222222,
             "#7201a8"
            ],
            [
             0.3333333333333333,
             "#9c179e"
            ],
            [
             0.4444444444444444,
             "#bd3786"
            ],
            [
             0.5555555555555556,
             "#d8576b"
            ],
            [
             0.6666666666666666,
             "#ed7953"
            ],
            [
             0.7777777777777778,
             "#fb9f3a"
            ],
            [
             0.8888888888888888,
             "#fdca26"
            ],
            [
             1,
             "#f0f921"
            ]
           ],
           "sequentialminus": [
            [
             0,
             "#0d0887"
            ],
            [
             0.1111111111111111,
             "#46039f"
            ],
            [
             0.2222222222222222,
             "#7201a8"
            ],
            [
             0.3333333333333333,
             "#9c179e"
            ],
            [
             0.4444444444444444,
             "#bd3786"
            ],
            [
             0.5555555555555556,
             "#d8576b"
            ],
            [
             0.6666666666666666,
             "#ed7953"
            ],
            [
             0.7777777777777778,
             "#fb9f3a"
            ],
            [
             0.8888888888888888,
             "#fdca26"
            ],
            [
             1,
             "#f0f921"
            ]
           ]
          },
          "colorway": [
           "#636efa",
           "#EF553B",
           "#00cc96",
           "#ab63fa",
           "#FFA15A",
           "#19d3f3",
           "#FF6692",
           "#B6E880",
           "#FF97FF",
           "#FECB52"
          ],
          "font": {
           "color": "#2a3f5f"
          },
          "geo": {
           "bgcolor": "white",
           "lakecolor": "white",
           "landcolor": "#E5ECF6",
           "showlakes": true,
           "showland": true,
           "subunitcolor": "white"
          },
          "hoverlabel": {
           "align": "left"
          },
          "hovermode": "closest",
          "mapbox": {
           "style": "light"
          },
          "paper_bgcolor": "white",
          "plot_bgcolor": "#E5ECF6",
          "polar": {
           "angularaxis": {
            "gridcolor": "white",
            "linecolor": "white",
            "ticks": ""
           },
           "bgcolor": "#E5ECF6",
           "radialaxis": {
            "gridcolor": "white",
            "linecolor": "white",
            "ticks": ""
           }
          },
          "scene": {
           "xaxis": {
            "backgroundcolor": "#E5ECF6",
            "gridcolor": "white",
            "gridwidth": 2,
            "linecolor": "white",
            "showbackground": true,
            "ticks": "",
            "zerolinecolor": "white"
           },
           "yaxis": {
            "backgroundcolor": "#E5ECF6",
            "gridcolor": "white",
            "gridwidth": 2,
            "linecolor": "white",
            "showbackground": true,
            "ticks": "",
            "zerolinecolor": "white"
           },
           "zaxis": {
            "backgroundcolor": "#E5ECF6",
            "gridcolor": "white",
            "gridwidth": 2,
            "linecolor": "white",
            "showbackground": true,
            "ticks": "",
            "zerolinecolor": "white"
           }
          },
          "shapedefaults": {
           "line": {
            "color": "#2a3f5f"
           }
          },
          "ternary": {
           "aaxis": {
            "gridcolor": "white",
            "linecolor": "white",
            "ticks": ""
           },
           "baxis": {
            "gridcolor": "white",
            "linecolor": "white",
            "ticks": ""
           },
           "bgcolor": "#E5ECF6",
           "caxis": {
            "gridcolor": "white",
            "linecolor": "white",
            "ticks": ""
           }
          },
          "title": {
           "x": 0.05
          },
          "xaxis": {
           "automargin": true,
           "gridcolor": "white",
           "linecolor": "white",
           "ticks": "",
           "title": {
            "standoff": 15
           },
           "zerolinecolor": "white",
           "zerolinewidth": 2
          },
          "yaxis": {
           "automargin": true,
           "gridcolor": "white",
           "linecolor": "white",
           "ticks": "",
           "title": {
            "standoff": 15
           },
           "zerolinecolor": "white",
           "zerolinewidth": 2
          }
         }
        }
       }
      }
     },
     "metadata": {},
     "output_type": "display_data"
    }
   ],
   "source": [
    "\n",
    "fig = go.Figure(data=go.Scatterpolar(\n",
    "  r=[0,4,3,4,5,0],\n",
    "  theta=[\"Green\",\"floral\",\"fruit\",\"sweet\",\"wood\",\"spicy\"],\n",
    "  fill='toself'\n",
    "))\n",
    "\n",
    "fig.update_layout(\n",
    "  polar=dict(\n",
    "    radialaxis=dict(\n",
    "      visible=True,\n",
    "      range=[0, 10]\n",
    "    ),\n",
    "  ),\n",
    "  showlegend=False\n",
    ")\n",
    "\n",
    "fig.show()"
   ]
  }
 ],
 "metadata": {
  "kernelspec": {
   "display_name": "Python 3",
   "language": "python",
   "name": "python3"
  },
  "language_info": {
   "codemirror_mode": {
    "name": "ipython",
    "version": 3
   },
   "file_extension": ".py",
   "mimetype": "text/x-python",
   "name": "python",
   "nbconvert_exporter": "python",
   "pygments_lexer": "ipython3",
   "version": "3.9.6"
  },
  "orig_nbformat": 4
 },
 "nbformat": 4,
 "nbformat_minor": 2
}
