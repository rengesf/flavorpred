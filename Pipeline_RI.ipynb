{
 "cells": [
  {
   "attachments": {},
   "cell_type": "markdown",
   "metadata": {},
   "source": [
    "## Pipeline Flavor Profile"
   ]
  },
  {
   "cell_type": "code",
   "execution_count": 880,
   "metadata": {},
   "outputs": [],
   "source": [
    "import pandas as pd\n",
    "import numpy as np\n",
    "from fuzzywuzzy import fuzz\n",
    "import csv\n",
    "import numpy as np\n"
   ]
  },
  {
   "cell_type": "code",
   "execution_count": 881,
   "metadata": {},
   "outputs": [],
   "source": [
    "'''\n",
    "does convert a pandas dataframe into a matrix where \n",
    "keys = row name\n",
    "values = col name\n",
    "data = either 0 or 1 \n",
    "'''\n",
    "def dict_to_matrix(dictionary):\n",
    "    unique_values = set(val for sublist in dictionary.values() for val in sublist)\n",
    "    data_dict = {key: {val: 1 if val in values else 0 for val in unique_values} for key, values in dictionary.items()}\n",
    "    df = pd.DataFrame(data_dict).T\n",
    "    return(df)\n"
   ]
  },
  {
   "cell_type": "code",
   "execution_count": 882,
   "metadata": {},
   "outputs": [],
   "source": [
    "'''\n",
    "find overlapp between to lists with a threshold (=70)\n",
    "'''\n",
    "def overlapping_elements(list1, list2, threshold=70):\n",
    "    overlap = []\n",
    "    for elem1 in list1:\n",
    "        for elem2 in list2:\n",
    "            ratio = fuzz.ratio(elem1, elem2)\n",
    "            if ratio >= threshold:\n",
    "                overlap.append(elem1)\n",
    "    return overlap"
   ]
  },
  {
   "cell_type": "code",
   "execution_count": 883,
   "metadata": {},
   "outputs": [],
   "source": [
    "'''\n",
    "Convert DataFrame to dictionary\n",
    "'''\n",
    "def dataframe_to_dict(df):\n",
    "    result_dict = {}\n",
    "    for index, row in df.iterrows():\n",
    "        if row[0] in result_dict:\n",
    "            result_dict[row[0]].append(row[1])\n",
    "        else:\n",
    "            result_dict[row[0]] = [row[1]]\n",
    "    return result_dict     "
   ]
  },
  {
   "cell_type": "code",
   "execution_count": 884,
   "metadata": {},
   "outputs": [],
   "source": [
    "'''\n",
    "find match between dictionary entries and the rows of a dataframe\n",
    "'''\n",
    "def find_matching_entries(dictionary,df):\n",
    "    threshold = 80\n",
    "    found_match = []\n",
    "    found_match_per_entry = {}\n",
    "    for key, value in dictionary.items():\n",
    "        all_matches = set()\n",
    "        for index, row in df.iterrows():\n",
    "            for keyword in value:\n",
    "                if fuzz.ratio(keyword, str(index).lower()) >= threshold:\n",
    "                    all_matches.add(index)\n",
    "                    found_match.append(row)\n",
    "        found_match_per_entry[key] = all_matches\n",
    "    found_match = pd.DataFrame(found_match)\n",
    "    found_match = found_match.drop_duplicates()\n",
    "    return(found_match, found_match_per_entry)"
   ]
  },
  {
   "cell_type": "code",
   "execution_count": 885,
   "metadata": {},
   "outputs": [],
   "source": [
    "'''\n",
    "create a new matrix by finding matches and filtering right columns\n",
    "'''\n",
    "def create_matrix_from_dict(dictionary,df, index):\n",
    "    matrix = pd.DataFrame(columns=list(df), index=index)\n",
    "    final_dict = {}\n",
    "    for key, value in dictionary.items():\n",
    "        current_val = []\n",
    "        for v in value:\n",
    "            for index, row in df.iterrows():\n",
    "                if index == v:\n",
    "                    current_val.append(','.join(row.loc[row.eq(1)].index.tolist()))\n",
    "                    # todo: maybe exception -> do change if two ones in a row\n",
    "                    matrix.loc[key][row.loc[row.eq(1)].index.tolist()] = 1\n",
    "        final_dict[key] = set(current_val)\n",
    "    matrix = matrix.fillna(0)\n",
    "    matrix = matrix.loc[:, (matrix != 0).any(axis=0)]\n",
    "    return(final_dict, matrix)\n",
    "   "
   ]
  },
  {
   "attachments": {},
   "cell_type": "markdown",
   "metadata": {},
   "source": [
    "#### 1. MS Data ----- Massbank -----> Molecules\n",
    "\n",
    "-> Chris"
   ]
  },
  {
   "attachments": {},
   "cell_type": "markdown",
   "metadata": {},
   "source": [
    "save which intensities belong to which molecule and give each the % \n",
    "2 approaches for one molecule with multiple OQs\n",
    "1.  each gets same % \n",
    "2.  divide % by count of OQs per molecule"
   ]
  },
  {
   "attachments": {},
   "cell_type": "markdown",
   "metadata": {},
   "source": [
    "<span style=\"color:lightblue\">mol_int</span> : dict where key is the molecule name and value is the intensites from the mass spec data"
   ]
  },
  {
   "cell_type": "code",
   "execution_count": 886,
   "metadata": {},
   "outputs": [],
   "source": [
    "# DUMMY DATA\n",
    "intensities = [80, 40, 5]\n",
    "ms_cas =['(E)-3-hexenol', \"coumarin\",'citral']\n",
    "mol_int = {'(E)-3-hexenol': 80, \"coumarin\": 40 ,'citral': 5}"
   ]
  },
  {
   "cell_type": "code",
   "execution_count": 887,
   "metadata": {},
   "outputs": [],
   "source": [
    "# actual ms data\n",
    "file_path = 'data/cas_intensities.csv'\n",
    "data = pd.read_csv(file_path, delimiter=',')\n",
    "# only use first repliate\n",
    "data = data[data[\"replicate\"]==1]"
   ]
  },
  {
   "cell_type": "code",
   "execution_count": 888,
   "metadata": {},
   "outputs": [],
   "source": [
    "sample_key = \"000920\""
   ]
  },
  {
   "cell_type": "code",
   "execution_count": 889,
   "metadata": {},
   "outputs": [
    {
     "data": {
      "text/html": [
       "<div>\n",
       "<style scoped>\n",
       "    .dataframe tbody tr th:only-of-type {\n",
       "        vertical-align: middle;\n",
       "    }\n",
       "\n",
       "    .dataframe tbody tr th {\n",
       "        vertical-align: top;\n",
       "    }\n",
       "\n",
       "    .dataframe thead th {\n",
       "        text-align: right;\n",
       "    }\n",
       "</style>\n",
       "<table border=\"1\" class=\"dataframe\">\n",
       "  <thead>\n",
       "    <tr style=\"text-align: right;\">\n",
       "      <th></th>\n",
       "      <th>sample_key</th>\n",
       "      <th>replicate</th>\n",
       "      <th>6485-40-1</th>\n",
       "      <th>3033-23-6</th>\n",
       "      <th>21284-22-0</th>\n",
       "      <th>38427-78-0</th>\n",
       "      <th>495-61-4</th>\n",
       "      <th>29873-99-2</th>\n",
       "      <th>6909-30-4</th>\n",
       "      <th>99-49-0</th>\n",
       "      <th>...</th>\n",
       "      <th>13466-78-9</th>\n",
       "      <th>483-76-1</th>\n",
       "      <th>36564-42-8</th>\n",
       "      <th>705-86-2</th>\n",
       "      <th>2825-91-4</th>\n",
       "      <th>713-95-1</th>\n",
       "      <th>20307-84-0</th>\n",
       "      <th>120021-96-7</th>\n",
       "      <th>586-62-9</th>\n",
       "      <th>710-04-3</th>\n",
       "    </tr>\n",
       "  </thead>\n",
       "  <tbody>\n",
       "    <tr>\n",
       "      <th>0</th>\n",
       "      <td>000920</td>\n",
       "      <td>1</td>\n",
       "      <td>1.943542e+08</td>\n",
       "      <td>1.240854e+09</td>\n",
       "      <td>1.048295e+08</td>\n",
       "      <td>9.087319e+07</td>\n",
       "      <td>1.831223e+08</td>\n",
       "      <td>1.831223e+08</td>\n",
       "      <td>6.043091e+08</td>\n",
       "      <td>1.943542e+08</td>\n",
       "      <td>...</td>\n",
       "      <td>2.528854e+08</td>\n",
       "      <td>1.831223e+08</td>\n",
       "      <td>1.048295e+08</td>\n",
       "      <td>4.645706e+08</td>\n",
       "      <td>4.645706e+08</td>\n",
       "      <td>1.893777e+08</td>\n",
       "      <td>1.831223e+08</td>\n",
       "      <td>1.831223e+08</td>\n",
       "      <td>2.528854e+08</td>\n",
       "      <td>2.662124e+08</td>\n",
       "    </tr>\n",
       "  </tbody>\n",
       "</table>\n",
       "<p>1 rows × 660 columns</p>\n",
       "</div>"
      ],
      "text/plain": [
       "  sample_key  replicate     6485-40-1     3033-23-6    21284-22-0  \\\n",
       "0     000920          1  1.943542e+08  1.240854e+09  1.048295e+08   \n",
       "\n",
       "     38427-78-0      495-61-4    29873-99-2     6909-30-4       99-49-0  ...  \\\n",
       "0  9.087319e+07  1.831223e+08  1.831223e+08  6.043091e+08  1.943542e+08  ...   \n",
       "\n",
       "     13466-78-9      483-76-1    36564-42-8      705-86-2     2825-91-4  \\\n",
       "0  2.528854e+08  1.831223e+08  1.048295e+08  4.645706e+08  4.645706e+08   \n",
       "\n",
       "       713-95-1    20307-84-0   120021-96-7      586-62-9      710-04-3  \n",
       "0  1.893777e+08  1.831223e+08  1.831223e+08  2.528854e+08  2.662124e+08  \n",
       "\n",
       "[1 rows x 660 columns]"
      ]
     },
     "execution_count": 889,
     "metadata": {},
     "output_type": "execute_result"
    }
   ],
   "source": [
    "used_data = data[data[\"sample_key\"]==sample_key]\n",
    "#filter columns that are 0\n",
    "used_data = used_data.loc[:, (used_data != 0).any(axis=0)]\n",
    "used_data"
   ]
  },
  {
   "cell_type": "code",
   "execution_count": 890,
   "metadata": {},
   "outputs": [
    {
     "data": {
      "text/plain": [
       "'# find rows with biggest variances\\ndf = used_data\\nrow_combinations = list(itertools.combinations(df.index, 2))\\ndistances = [abs(df.loc[i[0]] - df.loc[i[1]]).sum() for i in row_combinations]\\nmax_distance_indices = row_combinations[distances.index(max(distances))]\\nprint(df.loc[max_distance_indices[0]])\\nprint(df.loc[max_distance_indices[1]])\\n#=> sample: 000879 and 000373'"
      ]
     },
     "execution_count": 890,
     "metadata": {},
     "output_type": "execute_result"
    }
   ],
   "source": [
    "'''# find rows with biggest variances\n",
    "df = used_data\n",
    "row_combinations = list(itertools.combinations(df.index, 2))\n",
    "distances = [abs(df.loc[i[0]] - df.loc[i[1]]).sum() for i in row_combinations]\n",
    "max_distance_indices = row_combinations[distances.index(max(distances))]\n",
    "print(df.loc[max_distance_indices[0]])\n",
    "print(df.loc[max_distance_indices[1]])\n",
    "#=> sample: 000879 and 000373'''"
   ]
  },
  {
   "cell_type": "code",
   "execution_count": 891,
   "metadata": {},
   "outputs": [],
   "source": [
    "n=150"
   ]
  },
  {
   "cell_type": "code",
   "execution_count": 892,
   "metadata": {},
   "outputs": [
    {
     "data": {
      "text/html": [
       "<div>\n",
       "<style scoped>\n",
       "    .dataframe tbody tr th:only-of-type {\n",
       "        vertical-align: middle;\n",
       "    }\n",
       "\n",
       "    .dataframe tbody tr th {\n",
       "        vertical-align: top;\n",
       "    }\n",
       "\n",
       "    .dataframe thead th {\n",
       "        text-align: right;\n",
       "    }\n",
       "</style>\n",
       "<table border=\"1\" class=\"dataframe\">\n",
       "  <thead>\n",
       "    <tr style=\"text-align: right;\">\n",
       "      <th></th>\n",
       "      <th>Intensities</th>\n",
       "    </tr>\n",
       "  </thead>\n",
       "  <tbody>\n",
       "    <tr>\n",
       "      <th>3033-23-6</th>\n",
       "      <td>1.240854e+09</td>\n",
       "    </tr>\n",
       "    <tr>\n",
       "      <th>876-17-5</th>\n",
       "      <td>1.240854e+09</td>\n",
       "    </tr>\n",
       "    <tr>\n",
       "      <th>07.11.5258</th>\n",
       "      <td>1.240854e+09</td>\n",
       "    </tr>\n",
       "    <tr>\n",
       "      <th>21662-09-9</th>\n",
       "      <td>1.240854e+09</td>\n",
       "    </tr>\n",
       "    <tr>\n",
       "      <th>491-04-3</th>\n",
       "      <td>1.240854e+09</td>\n",
       "    </tr>\n",
       "    <tr>\n",
       "      <th>...</th>\n",
       "      <td>...</td>\n",
       "    </tr>\n",
       "    <tr>\n",
       "      <th>68039-26-9</th>\n",
       "      <td>2.996598e+08</td>\n",
       "    </tr>\n",
       "    <tr>\n",
       "      <th>112-42-5</th>\n",
       "      <td>2.996598e+08</td>\n",
       "    </tr>\n",
       "    <tr>\n",
       "      <th>39638-67-0</th>\n",
       "      <td>2.984695e+08</td>\n",
       "    </tr>\n",
       "    <tr>\n",
       "      <th>80041-01-6</th>\n",
       "      <td>2.984695e+08</td>\n",
       "    </tr>\n",
       "    <tr>\n",
       "      <th>55013-32-6</th>\n",
       "      <td>2.984695e+08</td>\n",
       "    </tr>\n",
       "  </tbody>\n",
       "</table>\n",
       "<p>150 rows × 1 columns</p>\n",
       "</div>"
      ],
      "text/plain": [
       "             Intensities\n",
       "3033-23-6   1.240854e+09\n",
       "876-17-5    1.240854e+09\n",
       "07.11.5258  1.240854e+09\n",
       "21662-09-9  1.240854e+09\n",
       "491-04-3    1.240854e+09\n",
       "...                  ...\n",
       "68039-26-9  2.996598e+08\n",
       "112-42-5    2.996598e+08\n",
       "39638-67-0  2.984695e+08\n",
       "80041-01-6  2.984695e+08\n",
       "55013-32-6  2.984695e+08\n",
       "\n",
       "[150 rows x 1 columns]"
      ]
     },
     "execution_count": 892,
     "metadata": {},
     "output_type": "execute_result"
    }
   ],
   "source": [
    "used_data = used_data.drop(columns=['sample_key', 'replicate'])\n",
    "largest_entries = used_data.iloc[0].nlargest(n)\n",
    "#largest_entries = np.log1p(used_data.iloc[0].nlargest(n))\n",
    "\n",
    "# Create a new DataFrame with only the largest entries\n",
    "data_top50 = pd.DataFrame({'Intensities': largest_entries})\n",
    "data_top50"
   ]
  },
  {
   "cell_type": "code",
   "execution_count": 893,
   "metadata": {},
   "outputs": [],
   "source": [
    "ms_cas = list(data_top50.index)"
   ]
  },
  {
   "cell_type": "code",
   "execution_count": 894,
   "metadata": {},
   "outputs": [],
   "source": [
    "intensities = list(data_top50['Intensities'])"
   ]
  },
  {
   "cell_type": "markdown",
   "metadata": {},
   "source": [
    "<span style=\"color:#FBB714\">I_vector</span> : dataframe with *molecules x intensities*"
   ]
  },
  {
   "cell_type": "code",
   "execution_count": 895,
   "metadata": {},
   "outputs": [
    {
     "data": {
      "text/html": [
       "<div>\n",
       "<style scoped>\n",
       "    .dataframe tbody tr th:only-of-type {\n",
       "        vertical-align: middle;\n",
       "    }\n",
       "\n",
       "    .dataframe tbody tr th {\n",
       "        vertical-align: top;\n",
       "    }\n",
       "\n",
       "    .dataframe thead th {\n",
       "        text-align: right;\n",
       "    }\n",
       "</style>\n",
       "<table border=\"1\" class=\"dataframe\">\n",
       "  <thead>\n",
       "    <tr style=\"text-align: right;\">\n",
       "      <th></th>\n",
       "      <th>intensities</th>\n",
       "    </tr>\n",
       "  </thead>\n",
       "  <tbody>\n",
       "    <tr>\n",
       "      <th>3033-23-6</th>\n",
       "      <td>1.240854e+09</td>\n",
       "    </tr>\n",
       "    <tr>\n",
       "      <th>876-17-5</th>\n",
       "      <td>1.240854e+09</td>\n",
       "    </tr>\n",
       "    <tr>\n",
       "      <th>07.11.5258</th>\n",
       "      <td>1.240854e+09</td>\n",
       "    </tr>\n",
       "    <tr>\n",
       "      <th>21662-09-9</th>\n",
       "      <td>1.240854e+09</td>\n",
       "    </tr>\n",
       "    <tr>\n",
       "      <th>491-04-3</th>\n",
       "      <td>1.240854e+09</td>\n",
       "    </tr>\n",
       "    <tr>\n",
       "      <th>...</th>\n",
       "      <td>...</td>\n",
       "    </tr>\n",
       "    <tr>\n",
       "      <th>68039-26-9</th>\n",
       "      <td>2.996598e+08</td>\n",
       "    </tr>\n",
       "    <tr>\n",
       "      <th>112-42-5</th>\n",
       "      <td>2.996598e+08</td>\n",
       "    </tr>\n",
       "    <tr>\n",
       "      <th>39638-67-0</th>\n",
       "      <td>2.984695e+08</td>\n",
       "    </tr>\n",
       "    <tr>\n",
       "      <th>80041-01-6</th>\n",
       "      <td>2.984695e+08</td>\n",
       "    </tr>\n",
       "    <tr>\n",
       "      <th>55013-32-6</th>\n",
       "      <td>2.984695e+08</td>\n",
       "    </tr>\n",
       "  </tbody>\n",
       "</table>\n",
       "<p>150 rows × 1 columns</p>\n",
       "</div>"
      ],
      "text/plain": [
       "             intensities\n",
       "3033-23-6   1.240854e+09\n",
       "876-17-5    1.240854e+09\n",
       "07.11.5258  1.240854e+09\n",
       "21662-09-9  1.240854e+09\n",
       "491-04-3    1.240854e+09\n",
       "...                  ...\n",
       "68039-26-9  2.996598e+08\n",
       "112-42-5    2.996598e+08\n",
       "39638-67-0  2.984695e+08\n",
       "80041-01-6  2.984695e+08\n",
       "55013-32-6  2.984695e+08\n",
       "\n",
       "[150 rows x 1 columns]"
      ]
     },
     "execution_count": 895,
     "metadata": {},
     "output_type": "execute_result"
    }
   ],
   "source": [
    "#I_vector = pd.DataFrame(data = mol_int, index = [\"intensities\"]).T\n",
    "I_vector = pd.DataFrame(data= intensities,index = ms_cas, columns=[\"intensities\"])\n",
    "I_vector"
   ]
  },
  {
   "attachments": {},
   "cell_type": "markdown",
   "metadata": {},
   "source": [
    "#### 2. Molecules ----- Flavornet -----> OD \n",
    "Find ODs by matching molecules with databases using Flavornet\n",
    "\n",
    "<span style=\"color:lightblue\">CAS_to_odorants.csv</span> : table with following columns - molecule, CAS, Mol wt, odorant\n"
   ]
  },
  {
   "attachments": {},
   "cell_type": "markdown",
   "metadata": {},
   "source": [
    "##### table manipualtion done in R"
   ]
  },
  {
   "attachments": {},
   "cell_type": "markdown",
   "metadata": {},
   "source": [
    "```r\n",
    "library(rlang)\n",
    "library(tidyverse)\n",
    "\n",
    "CAS_to_odorants <- read.table(\"~/Bioinformatik_20.21/Bachelorarbeit/CAS_to_mol.txt\", sep = \"\\t\", header = FALSE)\n",
    "OD_to_mol <- read.table(\"~/Bioinformatik_20.21/Bachelorarbeit/OD_mol.txt\", sep = \"\\t\", header = FALSE)\n",
    "\n",
    "OD_to_mol_sep <- OD_to_mol %>%\n",
    "  separate_rows(V2, sep = \";\\\\s*\") %>%\n",
    "  mutate(V2 = trimws(V2))\n",
    "OD_to_mol_final <- OD_to_mol_sep[, c(\"V2\",\"V1\")]\n",
    "colnames(OD_to_mol_final) <- c(\"molecule\", \"OD\")\n",
    "\n",
    "CAS_to_odorants_sep <- CAS_to_odorants %>%\n",
    "  separate_rows(V3, sep = \";\\\\s*\") %>%\n",
    "  mutate(V3 = trimws(V3))\n",
    "colnames(CAS_to_odorants_sep) <- c(\"CAS\",\"Mol Wt\", \"molecule\")\n",
    "\n",
    "\n",
    "merged_df <- merge(CAS_to_odorants_sep, OD_to_mol_final, by = \"molecule\")\n",
    "write.csv(merged_df, file = \"~/Bioinformatik_20.21/Bachelorarbeit/CAS_mol_OD.csv\", row.names = FALSE)\n",
    "```"
   ]
  },
  {
   "cell_type": "markdown",
   "metadata": {},
   "source": [
    "*Flavornet only*"
   ]
  },
  {
   "attachments": {},
   "cell_type": "markdown",
   "metadata": {},
   "source": [
    "<span style=\"color:lightblue\">mol_to_OD</span> : dict where key is the molecule and the descriptors for these molecules are the values"
   ]
  },
  {
   "cell_type": "code",
   "execution_count": 896,
   "metadata": {},
   "outputs": [],
   "source": [
    "'''\n",
    "read flavornet data and save it in mol_to_OD\n",
    "'''\n",
    "# only using flavornet data\n",
    "mol_to_OD = {}\n",
    "descriptors = []\n",
    "CAS_numbers= []\n",
    "with open('./data/CAS_mol_OD.csv', 'r',encoding='utf-8') as tabfile:\n",
    "    reader = csv.reader(tabfile, delimiter=',')\n",
    "    for row in reader: \n",
    "        CAS = row[1]\n",
    "        OD = row[3]\n",
    "        CAS_numbers.append(CAS)\n",
    "        descriptors.append(OD)\n",
    "        if CAS in mol_to_OD:\n",
    "            mol_to_OD[CAS].add(OD)\n",
    "        else:\n",
    "            mol_to_OD[CAS]  = set([OD])\n",
    "\n",
    "\n",
    "CAS_numbers = list(set(CAS_numbers))\n",
    "# list of all individual descriptors/ODs\n",
    "descriptors = list(set(descriptors))"
   ]
  },
  {
   "cell_type": "markdown",
   "metadata": {},
   "source": [
    "<span style=\"color:#FBB714\">D</span>: Dataframe with all *molecules x ODs* - rigth now only flavornet database"
   ]
  },
  {
   "cell_type": "code",
   "execution_count": 897,
   "metadata": {},
   "outputs": [],
   "source": [
    "D = pd.DataFrame(index=CAS_numbers, columns=descriptors)"
   ]
  },
  {
   "cell_type": "code",
   "execution_count": 898,
   "metadata": {},
   "outputs": [
    {
     "data": {
      "text/plain": [
       "732"
      ]
     },
     "execution_count": 898,
     "metadata": {},
     "output_type": "execute_result"
    }
   ],
   "source": [
    "len(CAS_numbers)"
   ]
  },
  {
   "cell_type": "code",
   "execution_count": 899,
   "metadata": {},
   "outputs": [
    {
     "data": {
      "text/html": [
       "<div>\n",
       "<style scoped>\n",
       "    .dataframe tbody tr th:only-of-type {\n",
       "        vertical-align: middle;\n",
       "    }\n",
       "\n",
       "    .dataframe tbody tr th {\n",
       "        vertical-align: top;\n",
       "    }\n",
       "\n",
       "    .dataframe thead th {\n",
       "        text-align: right;\n",
       "    }\n",
       "</style>\n",
       "<table border=\"1\" class=\"dataframe\">\n",
       "  <thead>\n",
       "    <tr style=\"text-align: right;\">\n",
       "      <th></th>\n",
       "      <th>pear</th>\n",
       "      <th>butter</th>\n",
       "      <th>baked</th>\n",
       "      <th>urine</th>\n",
       "      <th>paint</th>\n",
       "      <th>sweet</th>\n",
       "      <th>cotton candy</th>\n",
       "      <th>hummus</th>\n",
       "      <th>crushed bug</th>\n",
       "      <th>pea</th>\n",
       "      <th>...</th>\n",
       "      <th>potato</th>\n",
       "      <th>marshmallow</th>\n",
       "      <th>melon</th>\n",
       "      <th>cologne</th>\n",
       "      <th>cooked meat</th>\n",
       "      <th>caramel</th>\n",
       "      <th>tart lime</th>\n",
       "      <th>hazelnut</th>\n",
       "      <th>grass</th>\n",
       "      <th>plastic</th>\n",
       "    </tr>\n",
       "  </thead>\n",
       "  <tbody>\n",
       "    <tr>\n",
       "      <th>122-00-9</th>\n",
       "      <td>0</td>\n",
       "      <td>0</td>\n",
       "      <td>0</td>\n",
       "      <td>0</td>\n",
       "      <td>0</td>\n",
       "      <td>0</td>\n",
       "      <td>0</td>\n",
       "      <td>0</td>\n",
       "      <td>0</td>\n",
       "      <td>0</td>\n",
       "      <td>...</td>\n",
       "      <td>0</td>\n",
       "      <td>0</td>\n",
       "      <td>0</td>\n",
       "      <td>0</td>\n",
       "      <td>0</td>\n",
       "      <td>0</td>\n",
       "      <td>0</td>\n",
       "      <td>0</td>\n",
       "      <td>0</td>\n",
       "      <td>0</td>\n",
       "    </tr>\n",
       "    <tr>\n",
       "      <th>105-54-4</th>\n",
       "      <td>0</td>\n",
       "      <td>0</td>\n",
       "      <td>0</td>\n",
       "      <td>0</td>\n",
       "      <td>0</td>\n",
       "      <td>0</td>\n",
       "      <td>0</td>\n",
       "      <td>0</td>\n",
       "      <td>0</td>\n",
       "      <td>0</td>\n",
       "      <td>...</td>\n",
       "      <td>0</td>\n",
       "      <td>0</td>\n",
       "      <td>0</td>\n",
       "      <td>0</td>\n",
       "      <td>0</td>\n",
       "      <td>0</td>\n",
       "      <td>0</td>\n",
       "      <td>0</td>\n",
       "      <td>0</td>\n",
       "      <td>0</td>\n",
       "    </tr>\n",
       "    <tr>\n",
       "      <th>28588-75-2</th>\n",
       "      <td>0</td>\n",
       "      <td>0</td>\n",
       "      <td>0</td>\n",
       "      <td>0</td>\n",
       "      <td>0</td>\n",
       "      <td>0</td>\n",
       "      <td>0</td>\n",
       "      <td>0</td>\n",
       "      <td>0</td>\n",
       "      <td>0</td>\n",
       "      <td>...</td>\n",
       "      <td>0</td>\n",
       "      <td>0</td>\n",
       "      <td>0</td>\n",
       "      <td>0</td>\n",
       "      <td>0</td>\n",
       "      <td>0</td>\n",
       "      <td>0</td>\n",
       "      <td>0</td>\n",
       "      <td>0</td>\n",
       "      <td>0</td>\n",
       "    </tr>\n",
       "    <tr>\n",
       "      <th>120-72-9</th>\n",
       "      <td>0</td>\n",
       "      <td>0</td>\n",
       "      <td>0</td>\n",
       "      <td>0</td>\n",
       "      <td>0</td>\n",
       "      <td>0</td>\n",
       "      <td>0</td>\n",
       "      <td>0</td>\n",
       "      <td>0</td>\n",
       "      <td>0</td>\n",
       "      <td>...</td>\n",
       "      <td>0</td>\n",
       "      <td>0</td>\n",
       "      <td>0</td>\n",
       "      <td>0</td>\n",
       "      <td>0</td>\n",
       "      <td>0</td>\n",
       "      <td>0</td>\n",
       "      <td>0</td>\n",
       "      <td>0</td>\n",
       "      <td>0</td>\n",
       "    </tr>\n",
       "    <tr>\n",
       "      <th>104-61-0</th>\n",
       "      <td>0</td>\n",
       "      <td>0</td>\n",
       "      <td>0</td>\n",
       "      <td>0</td>\n",
       "      <td>0</td>\n",
       "      <td>0</td>\n",
       "      <td>0</td>\n",
       "      <td>0</td>\n",
       "      <td>0</td>\n",
       "      <td>0</td>\n",
       "      <td>...</td>\n",
       "      <td>0</td>\n",
       "      <td>0</td>\n",
       "      <td>0</td>\n",
       "      <td>0</td>\n",
       "      <td>0</td>\n",
       "      <td>0</td>\n",
       "      <td>0</td>\n",
       "      <td>0</td>\n",
       "      <td>0</td>\n",
       "      <td>0</td>\n",
       "    </tr>\n",
       "    <tr>\n",
       "      <th>...</th>\n",
       "      <td>...</td>\n",
       "      <td>...</td>\n",
       "      <td>...</td>\n",
       "      <td>...</td>\n",
       "      <td>...</td>\n",
       "      <td>...</td>\n",
       "      <td>...</td>\n",
       "      <td>...</td>\n",
       "      <td>...</td>\n",
       "      <td>...</td>\n",
       "      <td>...</td>\n",
       "      <td>...</td>\n",
       "      <td>...</td>\n",
       "      <td>...</td>\n",
       "      <td>...</td>\n",
       "      <td>...</td>\n",
       "      <td>...</td>\n",
       "      <td>...</td>\n",
       "      <td>...</td>\n",
       "      <td>...</td>\n",
       "      <td>...</td>\n",
       "    </tr>\n",
       "    <tr>\n",
       "      <th>118-61-6</th>\n",
       "      <td>0</td>\n",
       "      <td>0</td>\n",
       "      <td>0</td>\n",
       "      <td>0</td>\n",
       "      <td>0</td>\n",
       "      <td>0</td>\n",
       "      <td>0</td>\n",
       "      <td>0</td>\n",
       "      <td>0</td>\n",
       "      <td>0</td>\n",
       "      <td>...</td>\n",
       "      <td>0</td>\n",
       "      <td>0</td>\n",
       "      <td>0</td>\n",
       "      <td>0</td>\n",
       "      <td>0</td>\n",
       "      <td>0</td>\n",
       "      <td>0</td>\n",
       "      <td>0</td>\n",
       "      <td>0</td>\n",
       "      <td>0</td>\n",
       "    </tr>\n",
       "    <tr>\n",
       "      <th>143-07-7</th>\n",
       "      <td>0</td>\n",
       "      <td>0</td>\n",
       "      <td>0</td>\n",
       "      <td>0</td>\n",
       "      <td>0</td>\n",
       "      <td>0</td>\n",
       "      <td>0</td>\n",
       "      <td>0</td>\n",
       "      <td>0</td>\n",
       "      <td>0</td>\n",
       "      <td>...</td>\n",
       "      <td>0</td>\n",
       "      <td>0</td>\n",
       "      <td>0</td>\n",
       "      <td>0</td>\n",
       "      <td>0</td>\n",
       "      <td>0</td>\n",
       "      <td>0</td>\n",
       "      <td>0</td>\n",
       "      <td>0</td>\n",
       "      <td>0</td>\n",
       "    </tr>\n",
       "    <tr>\n",
       "      <th>24415-26-7</th>\n",
       "      <td>0</td>\n",
       "      <td>0</td>\n",
       "      <td>1</td>\n",
       "      <td>0</td>\n",
       "      <td>0</td>\n",
       "      <td>0</td>\n",
       "      <td>0</td>\n",
       "      <td>0</td>\n",
       "      <td>0</td>\n",
       "      <td>0</td>\n",
       "      <td>...</td>\n",
       "      <td>0</td>\n",
       "      <td>0</td>\n",
       "      <td>0</td>\n",
       "      <td>0</td>\n",
       "      <td>0</td>\n",
       "      <td>0</td>\n",
       "      <td>0</td>\n",
       "      <td>0</td>\n",
       "      <td>0</td>\n",
       "      <td>0</td>\n",
       "    </tr>\n",
       "    <tr>\n",
       "      <th>105-66-8</th>\n",
       "      <td>0</td>\n",
       "      <td>0</td>\n",
       "      <td>0</td>\n",
       "      <td>0</td>\n",
       "      <td>0</td>\n",
       "      <td>0</td>\n",
       "      <td>0</td>\n",
       "      <td>0</td>\n",
       "      <td>0</td>\n",
       "      <td>0</td>\n",
       "      <td>...</td>\n",
       "      <td>0</td>\n",
       "      <td>0</td>\n",
       "      <td>0</td>\n",
       "      <td>0</td>\n",
       "      <td>0</td>\n",
       "      <td>0</td>\n",
       "      <td>0</td>\n",
       "      <td>0</td>\n",
       "      <td>0</td>\n",
       "      <td>0</td>\n",
       "    </tr>\n",
       "    <tr>\n",
       "      <th>23726-91-2</th>\n",
       "      <td>0</td>\n",
       "      <td>0</td>\n",
       "      <td>0</td>\n",
       "      <td>0</td>\n",
       "      <td>0</td>\n",
       "      <td>0</td>\n",
       "      <td>0</td>\n",
       "      <td>0</td>\n",
       "      <td>0</td>\n",
       "      <td>0</td>\n",
       "      <td>...</td>\n",
       "      <td>0</td>\n",
       "      <td>0</td>\n",
       "      <td>0</td>\n",
       "      <td>0</td>\n",
       "      <td>0</td>\n",
       "      <td>0</td>\n",
       "      <td>0</td>\n",
       "      <td>0</td>\n",
       "      <td>0</td>\n",
       "      <td>0</td>\n",
       "    </tr>\n",
       "  </tbody>\n",
       "</table>\n",
       "<p>732 rows × 197 columns</p>\n",
       "</div>"
      ],
      "text/plain": [
       "            pear  butter  baked  urine  paint  sweet  cotton candy  hummus  \\\n",
       "122-00-9       0       0      0      0      0      0             0       0   \n",
       "105-54-4       0       0      0      0      0      0             0       0   \n",
       "28588-75-2     0       0      0      0      0      0             0       0   \n",
       "120-72-9       0       0      0      0      0      0             0       0   \n",
       "104-61-0       0       0      0      0      0      0             0       0   \n",
       "...          ...     ...    ...    ...    ...    ...           ...     ...   \n",
       "118-61-6       0       0      0      0      0      0             0       0   \n",
       "143-07-7       0       0      0      0      0      0             0       0   \n",
       "24415-26-7     0       0      1      0      0      0             0       0   \n",
       "105-66-8       0       0      0      0      0      0             0       0   \n",
       "23726-91-2     0       0      0      0      0      0             0       0   \n",
       "\n",
       "            crushed bug  pea  ...  potato  marshmallow  melon  cologne  \\\n",
       "122-00-9              0    0  ...       0            0      0        0   \n",
       "105-54-4              0    0  ...       0            0      0        0   \n",
       "28588-75-2            0    0  ...       0            0      0        0   \n",
       "120-72-9              0    0  ...       0            0      0        0   \n",
       "104-61-0              0    0  ...       0            0      0        0   \n",
       "...                 ...  ...  ...     ...          ...    ...      ...   \n",
       "118-61-6              0    0  ...       0            0      0        0   \n",
       "143-07-7              0    0  ...       0            0      0        0   \n",
       "24415-26-7            0    0  ...       0            0      0        0   \n",
       "105-66-8              0    0  ...       0            0      0        0   \n",
       "23726-91-2            0    0  ...       0            0      0        0   \n",
       "\n",
       "            cooked meat  caramel  tart lime  hazelnut  grass  plastic  \n",
       "122-00-9              0        0          0         0      0        0  \n",
       "105-54-4              0        0          0         0      0        0  \n",
       "28588-75-2            0        0          0         0      0        0  \n",
       "120-72-9              0        0          0         0      0        0  \n",
       "104-61-0              0        0          0         0      0        0  \n",
       "...                 ...      ...        ...       ...    ...      ...  \n",
       "118-61-6              0        0          0         0      0        0  \n",
       "143-07-7              0        0          0         0      0        0  \n",
       "24415-26-7            0        0          0         0      0        0  \n",
       "105-66-8              0        0          0         0      0        0  \n",
       "23726-91-2            0        0          0         0      0        0  \n",
       "\n",
       "[732 rows x 197 columns]"
      ]
     },
     "execution_count": 899,
     "metadata": {},
     "output_type": "execute_result"
    }
   ],
   "source": [
    "for col in D.columns:\n",
    "    for index, row in D.iterrows():\n",
    "        # Check if value in  current row matches any entry in the dictionary\n",
    "        if index in mol_to_OD.keys() and col in mol_to_OD[index]:\n",
    "            # Set to 1\n",
    "            D.at[index, col] = 1\n",
    "\n",
    "D = D.fillna(0)\n",
    "D"
   ]
  },
  {
   "attachments": {},
   "cell_type": "markdown",
   "metadata": {},
   "source": [
    "match molecules from MS data with flavors"
   ]
  },
  {
   "cell_type": "code",
   "execution_count": 900,
   "metadata": {},
   "outputs": [
    {
     "data": {
      "text/plain": [
       "150"
      ]
     },
     "execution_count": 900,
     "metadata": {},
     "output_type": "execute_result"
    }
   ],
   "source": [
    "len(ms_cas)"
   ]
  },
  {
   "cell_type": "code",
   "execution_count": 901,
   "metadata": {},
   "outputs": [],
   "source": [
    "flavors = []\n",
    "mol_flavors = {}\n",
    "for mol in ms_cas:\n",
    "    if mol in mol_to_OD.keys():\n",
    "        flavors += mol_to_OD[mol]\n",
    "        mol_flavors[mol] = mol_to_OD[mol]\n",
    "    else:\n",
    "        mol_flavors[mol] = {}\n",
    "\n",
    "found_flavors = set(flavors)\n"
   ]
  },
  {
   "cell_type": "markdown",
   "metadata": {},
   "source": [
    "\n",
    "<span style=\"color:lightblue\">mol_flavors</span>: contains the molecule from where each OD is coming from "
   ]
  },
  {
   "cell_type": "code",
   "execution_count": 902,
   "metadata": {},
   "outputs": [
    {
     "data": {
      "text/plain": [
       "{'3033-23-6': {'rose', 'sweet'},\n",
       " '876-17-5': {'flower', 'green'},\n",
       " '07.11.5258': {'flower'},\n",
       " '21662-09-9': {'green', 'must'},\n",
       " '491-04-3': {'herb'},\n",
       " '562-74-3': {'must', 'nutmeg', 'turpentine'},\n",
       " '470-67-7': {'spice'},\n",
       " '470-82-6': {'mint', 'sweet'},\n",
       " '2497-25-8': {'orange', 'tallow'},\n",
       " '3913-71-1': {'orange', 'tallow'},\n",
       " '3913-81-3': {'orange', 'tallow'},\n",
       " '4861-58-9': {'fruit', 'sweet'},\n",
       " '586-82-3': {'must'},\n",
       " '105683-99-6': {'cucumber', 'green', 'tallow'},\n",
       " '147159-48-6': {'cucumber', 'green', 'tallow'},\n",
       " '29887-38-5': {'herb'},\n",
       " '507-70-0': {'camphor'},\n",
       " '465-31-6': {'camphor'},\n",
       " '15537-55-0': {'balsamic'},\n",
       " '106-23-0': {'fat'},\n",
       " '619-01-2': {'mint', 'spice'},\n",
       " '128386-31-2': {'metal'},\n",
       " '1632-73-1': {'camphor'},\n",
       " '106-24-1': {'geranium', 'rose'},\n",
       " '124-76-5': {'camphor', 'must'},\n",
       " '18675-35-9': {'spice', 'wood'},\n",
       " '16750-94-0': {'rose'},\n",
       " '5944-20-7': {'rose'},\n",
       " '498-16-8': {'herb'},\n",
       " '78-70-6': {'flower', 'lavender'},\n",
       " '89-80-5': {'fresh', 'green', 'mint'},\n",
       " '10458-14-7': {'fresh', 'green', 'mint'},\n",
       " '106-25-2': {'sweet'},\n",
       " '619-62-5': {'herb'},\n",
       " '18479-68-0': {'fruit', 'herb'},\n",
       " '16721-39-4': {'herb'},\n",
       " '91-10-1': {'medicine', 'phenol', 'smoke'},\n",
       " '17699-16-0': {'balsamic', 'wood'},\n",
       " '14575-74-7': {'camphor'},\n",
       " '98-55-5': {'anise', 'mint', 'oil'},\n",
       " '138-87-4': {'must'},\n",
       " '541-58-2': {'mold', 'roast', 'rubber', 'smoke'},\n",
       " '3581-91-7': {'mold', 'roast', 'rubber', 'smoke'},\n",
       " '20407-84-5': {'fat', 'green', 'sweet'},\n",
       " '134346-43-3': {'metal'},\n",
       " '19700-21-1': {'beet', 'earth'},\n",
       " '1200-67-5': {'camphor', 'earth', 'green'},\n",
       " '115-99-1': {'citrus', 'coriander'},\n",
       " '1189-09-9': {'flower', 'fruit', 'green'},\n",
       " '3943-74-6': {'butterscotch', 'caramel', 'vanilla'},\n",
       " '589-75-3': {'fruit'},\n",
       " '112-17-4': {'oil', 'orange'},\n",
       " '110-38-3': {'grape'},\n",
       " '50862-12-9': {'apple'},\n",
       " '6378-65-0': {'apple peel', 'peach'},\n",
       " '143-07-7': {'metal'},\n",
       " '112-70-9': {'must'},\n",
       " '21391-99-1': {'wood'},\n",
       " '1072-83-9': {'bread', 'nut', 'walnut'},\n",
       " '6909-30-4': {'green'},\n",
       " '1197-07-5': {'caraway', 'solvent'},\n",
       " '09.04.5948': {'herb', 'warm'},\n",
       " '4959-35-7': {'citrus', 'fresh'},\n",
       " '7212-40-0': {'fresh', 'mint'},\n",
       " '1197-06-4': {'caraway'},\n",
       " '3792-53-8': {'herb', 'warm'},\n",
       " '13837-75-7': {'citrus', 'fresh'},\n",
       " '92760-25-3': {'lemon', 'mint'},\n",
       " '65909-91-3': {'seaweed'},\n",
       " '2785-89-9': {'clove', 'spice'},\n",
       " '546-49-6': {'green', 'herb'},\n",
       " '76-22-2': {'camphor'},\n",
       " '99-48-9': {'caraway', 'fresh', 'spearmint'},\n",
       " '5392-40-5': {'lemon'},\n",
       " '25152-84-5': {'fat', 'fried', 'wax'},\n",
       " '25152-83-4': {'fat', 'fried', 'wax'},\n",
       " '131092-10-9': {'hummus'},\n",
       " '72203-98-6': {'green'},\n",
       " '13955-48-1': {'dill', 'mint'},\n",
       " '141-27-5': {'lemon', 'mint'},\n",
       " '20053-88-7': {'hyacinth'},\n",
       " '58615-39-7': {'fruit', 'sweet'},\n",
       " '25773-40-4': {'earth', 'pea'},\n",
       " '1195-92-2': {'fruit'},\n",
       " '119-36-8': {'peppermint'},\n",
       " '106-26-3': {'lemon'},\n",
       " '1786-08-9': {'flower', 'oil'},\n",
       " '168564-54-3': {'dust', 'must'},\n",
       " '4955-29-7': {'flower'},\n",
       " '89-81-6': {'fresh', 'mint'},\n",
       " '121-33-5': {'vanilla'},\n",
       " '432-25-7': {'mint'},\n",
       " '31823-43-5': {'cucumber', 'fat'},\n",
       " '698-76-0': {'peach'},\n",
       " '698-10-2': {'spice'},\n",
       " '124-18-5': {'alkane'},\n",
       " '4077-47-8': {'caramel', 'mildew', 'sweet'},\n",
       " '110516-60-4': {'caramel'},\n",
       " '3681-71-8': {'banana', 'green'},\n",
       " '27538-10-9': {'caramel'},\n",
       " '4630-82-4': {'ester', 'fruit'},\n",
       " '27538-09-6': {'cotton candy', 'sweet'},\n",
       " '124-19-6': {'citrus', 'fat', 'green'},\n",
       " '821-55-6': {'green', 'hot milk', 'soap'},\n",
       " '104-50-7': {'coconut'},\n",
       " '628-99-9': {'cucumber'},\n",
       " '123-66-0': {'apple peel', 'fruit'},\n",
       " '25415-67-2': {'fruit'},\n",
       " '142-92-7': {'fruit', 'herb'},\n",
       " '7251-61-8': {'fruit', 'nut', 'roast'},\n",
       " '143-08-8': {'fat', 'green'},\n",
       " '124-07-2': {'cheese', 'sweat'},\n",
       " '72755-76-1': {'metal', 'mushroom'},\n",
       " '34995-77-2': {'flower'},\n",
       " '16491-36-4': {'green', 'wine'},\n",
       " '5989-33-3': {'flower'},\n",
       " '4166-20-5': {'caramel'},\n",
       " '14009-71-3': {'citrus', 'green'},\n",
       " '112-40-3': {'alkane'},\n",
       " '14049-11-7': {'flower'},\n",
       " '1365-19-1': {'flower', 'wood'},\n",
       " '113486-29-6': {'fruit', 'straw'},\n",
       " '43160-78-7': {'fat'},\n",
       " '71159-90-5': {'grapefruit'},\n",
       " '112-44-7': {'oil', 'pungent', 'sweet'},\n",
       " '112-12-9': {'fresh', 'green', 'orange'},\n",
       " '706-14-9': {'fat', 'peach'},\n",
       " '705-86-2': {'coconut', 'peach'},\n",
       " '2825-91-4': {'coconut', 'peach'},\n",
       " '120-72-9': {'burnt', 'mothball'},\n",
       " '04.02.4313': {'fat', 'fried', 'nut'},\n",
       " '05.03.4313': {'fat', 'fried', 'nut'},\n",
       " '620-02-0': {'almond', 'burnt sugar', 'caramel'},\n",
       " '1192-62-7': {'balsamic'},\n",
       " '30361-28-5': {'cucumber', 'green', 'seaweed'},\n",
       " '38284-27-4': {'fat', 'fruit', 'mushroom'},\n",
       " '90-05-1': {'medicine', 'smoke', 'sweet'},\n",
       " '65767-22-8': {'geranium', 'metal'},\n",
       " '626-82-4': {'fruit'},\n",
       " '334-48-5': {'fat', 'rancid'},\n",
       " '30364-38-6': {'licorice'},\n",
       " '106-32-1': {'fat', 'fruit'},\n",
       " '2639-63-6': {'apple peel'},\n",
       " '1731-84-6': {'coconut'},\n",
       " '2051-50-5': {'fruit'},\n",
       " '68039-26-9': {'apple'},\n",
       " '112-42-5': {'mandarin'},\n",
       " '39638-67-0': {'coconut', 'flower'},\n",
       " '80041-01-6': {'flower', 'lactone'},\n",
       " '55013-32-6': {'spice'}}"
      ]
     },
     "execution_count": 902,
     "metadata": {},
     "output_type": "execute_result"
    }
   ],
   "source": [
    "mol_flavors"
   ]
  },
  {
   "cell_type": "markdown",
   "metadata": {},
   "source": [
    "<span style=\"color:lightblue\">found_flavors</span>: list of the ODs found from the identified molecules \n"
   ]
  },
  {
   "cell_type": "code",
   "execution_count": 903,
   "metadata": {},
   "outputs": [
    {
     "data": {
      "text/plain": [
       "{'alkane',\n",
       " 'almond',\n",
       " 'anise',\n",
       " 'apple',\n",
       " 'apple peel',\n",
       " 'balsamic',\n",
       " 'banana',\n",
       " 'beet',\n",
       " 'bread',\n",
       " 'burnt',\n",
       " 'burnt sugar',\n",
       " 'butterscotch',\n",
       " 'camphor',\n",
       " 'caramel',\n",
       " 'caraway',\n",
       " 'cheese',\n",
       " 'citrus',\n",
       " 'clove',\n",
       " 'coconut',\n",
       " 'coriander',\n",
       " 'cotton candy',\n",
       " 'cucumber',\n",
       " 'dill',\n",
       " 'dust',\n",
       " 'earth',\n",
       " 'ester',\n",
       " 'fat',\n",
       " 'flower',\n",
       " 'fresh',\n",
       " 'fried',\n",
       " 'fruit',\n",
       " 'geranium',\n",
       " 'grape',\n",
       " 'grapefruit',\n",
       " 'green',\n",
       " 'herb',\n",
       " 'hot milk',\n",
       " 'hummus',\n",
       " 'hyacinth',\n",
       " 'lactone',\n",
       " 'lavender',\n",
       " 'lemon',\n",
       " 'licorice',\n",
       " 'mandarin',\n",
       " 'medicine',\n",
       " 'metal',\n",
       " 'mildew',\n",
       " 'mint',\n",
       " 'mold',\n",
       " 'mothball',\n",
       " 'mushroom',\n",
       " 'must',\n",
       " 'nut',\n",
       " 'nutmeg',\n",
       " 'oil',\n",
       " 'orange',\n",
       " 'pea',\n",
       " 'peach',\n",
       " 'peppermint',\n",
       " 'phenol',\n",
       " 'pungent',\n",
       " 'rancid',\n",
       " 'roast',\n",
       " 'rose',\n",
       " 'rubber',\n",
       " 'seaweed',\n",
       " 'smoke',\n",
       " 'soap',\n",
       " 'solvent',\n",
       " 'spearmint',\n",
       " 'spice',\n",
       " 'straw',\n",
       " 'sweat',\n",
       " 'sweet',\n",
       " 'tallow',\n",
       " 'turpentine',\n",
       " 'vanilla',\n",
       " 'walnut',\n",
       " 'warm',\n",
       " 'wax',\n",
       " 'wine',\n",
       " 'wood'}"
      ]
     },
     "execution_count": 903,
     "metadata": {},
     "output_type": "execute_result"
    }
   ],
   "source": [
    "found_flavors"
   ]
  },
  {
   "cell_type": "markdown",
   "metadata": {},
   "source": [
    "<span style=\"color:#FBB714\">OD</span>: Dataframe - *molecules x ODs*"
   ]
  },
  {
   "cell_type": "code",
   "execution_count": 904,
   "metadata": {},
   "outputs": [
    {
     "data": {
      "text/html": [
       "<div>\n",
       "<style scoped>\n",
       "    .dataframe tbody tr th:only-of-type {\n",
       "        vertical-align: middle;\n",
       "    }\n",
       "\n",
       "    .dataframe tbody tr th {\n",
       "        vertical-align: top;\n",
       "    }\n",
       "\n",
       "    .dataframe thead th {\n",
       "        text-align: right;\n",
       "    }\n",
       "</style>\n",
       "<table border=\"1\" class=\"dataframe\">\n",
       "  <thead>\n",
       "    <tr style=\"text-align: right;\">\n",
       "      <th></th>\n",
       "      <th>sweet</th>\n",
       "      <th>cotton candy</th>\n",
       "      <th>hummus</th>\n",
       "      <th>pea</th>\n",
       "      <th>solvent</th>\n",
       "      <th>alkane</th>\n",
       "      <th>burnt</th>\n",
       "      <th>roast</th>\n",
       "      <th>mold</th>\n",
       "      <th>ester</th>\n",
       "      <th>...</th>\n",
       "      <th>lavender</th>\n",
       "      <th>green</th>\n",
       "      <th>caraway</th>\n",
       "      <th>burnt sugar</th>\n",
       "      <th>mandarin</th>\n",
       "      <th>peach</th>\n",
       "      <th>mildew</th>\n",
       "      <th>oil</th>\n",
       "      <th>orange</th>\n",
       "      <th>caramel</th>\n",
       "    </tr>\n",
       "  </thead>\n",
       "  <tbody>\n",
       "    <tr>\n",
       "      <th>120-72-9</th>\n",
       "      <td>0</td>\n",
       "      <td>0</td>\n",
       "      <td>0</td>\n",
       "      <td>0</td>\n",
       "      <td>0</td>\n",
       "      <td>0</td>\n",
       "      <td>1</td>\n",
       "      <td>0</td>\n",
       "      <td>0</td>\n",
       "      <td>0</td>\n",
       "      <td>...</td>\n",
       "      <td>0</td>\n",
       "      <td>0</td>\n",
       "      <td>0</td>\n",
       "      <td>0</td>\n",
       "      <td>0</td>\n",
       "      <td>0</td>\n",
       "      <td>0</td>\n",
       "      <td>0</td>\n",
       "      <td>0</td>\n",
       "      <td>0</td>\n",
       "    </tr>\n",
       "    <tr>\n",
       "      <th>134346-43-3</th>\n",
       "      <td>0</td>\n",
       "      <td>0</td>\n",
       "      <td>0</td>\n",
       "      <td>0</td>\n",
       "      <td>0</td>\n",
       "      <td>0</td>\n",
       "      <td>0</td>\n",
       "      <td>0</td>\n",
       "      <td>0</td>\n",
       "      <td>0</td>\n",
       "      <td>...</td>\n",
       "      <td>0</td>\n",
       "      <td>0</td>\n",
       "      <td>0</td>\n",
       "      <td>0</td>\n",
       "      <td>0</td>\n",
       "      <td>0</td>\n",
       "      <td>0</td>\n",
       "      <td>0</td>\n",
       "      <td>0</td>\n",
       "      <td>0</td>\n",
       "    </tr>\n",
       "    <tr>\n",
       "      <th>65767-22-8</th>\n",
       "      <td>0</td>\n",
       "      <td>0</td>\n",
       "      <td>0</td>\n",
       "      <td>0</td>\n",
       "      <td>0</td>\n",
       "      <td>0</td>\n",
       "      <td>0</td>\n",
       "      <td>0</td>\n",
       "      <td>0</td>\n",
       "      <td>0</td>\n",
       "      <td>...</td>\n",
       "      <td>0</td>\n",
       "      <td>0</td>\n",
       "      <td>0</td>\n",
       "      <td>0</td>\n",
       "      <td>0</td>\n",
       "      <td>0</td>\n",
       "      <td>0</td>\n",
       "      <td>0</td>\n",
       "      <td>0</td>\n",
       "      <td>0</td>\n",
       "    </tr>\n",
       "    <tr>\n",
       "      <th>72755-76-1</th>\n",
       "      <td>0</td>\n",
       "      <td>0</td>\n",
       "      <td>0</td>\n",
       "      <td>0</td>\n",
       "      <td>0</td>\n",
       "      <td>0</td>\n",
       "      <td>0</td>\n",
       "      <td>0</td>\n",
       "      <td>0</td>\n",
       "      <td>0</td>\n",
       "      <td>...</td>\n",
       "      <td>0</td>\n",
       "      <td>0</td>\n",
       "      <td>0</td>\n",
       "      <td>0</td>\n",
       "      <td>0</td>\n",
       "      <td>0</td>\n",
       "      <td>0</td>\n",
       "      <td>0</td>\n",
       "      <td>0</td>\n",
       "      <td>0</td>\n",
       "    </tr>\n",
       "    <tr>\n",
       "      <th>113486-29-6</th>\n",
       "      <td>0</td>\n",
       "      <td>0</td>\n",
       "      <td>0</td>\n",
       "      <td>0</td>\n",
       "      <td>0</td>\n",
       "      <td>0</td>\n",
       "      <td>0</td>\n",
       "      <td>0</td>\n",
       "      <td>0</td>\n",
       "      <td>0</td>\n",
       "      <td>...</td>\n",
       "      <td>0</td>\n",
       "      <td>0</td>\n",
       "      <td>0</td>\n",
       "      <td>0</td>\n",
       "      <td>0</td>\n",
       "      <td>0</td>\n",
       "      <td>0</td>\n",
       "      <td>0</td>\n",
       "      <td>0</td>\n",
       "      <td>0</td>\n",
       "    </tr>\n",
       "    <tr>\n",
       "      <th>...</th>\n",
       "      <td>...</td>\n",
       "      <td>...</td>\n",
       "      <td>...</td>\n",
       "      <td>...</td>\n",
       "      <td>...</td>\n",
       "      <td>...</td>\n",
       "      <td>...</td>\n",
       "      <td>...</td>\n",
       "      <td>...</td>\n",
       "      <td>...</td>\n",
       "      <td>...</td>\n",
       "      <td>...</td>\n",
       "      <td>...</td>\n",
       "      <td>...</td>\n",
       "      <td>...</td>\n",
       "      <td>...</td>\n",
       "      <td>...</td>\n",
       "      <td>...</td>\n",
       "      <td>...</td>\n",
       "      <td>...</td>\n",
       "      <td>...</td>\n",
       "    </tr>\n",
       "    <tr>\n",
       "      <th>6378-65-0</th>\n",
       "      <td>0</td>\n",
       "      <td>0</td>\n",
       "      <td>0</td>\n",
       "      <td>0</td>\n",
       "      <td>0</td>\n",
       "      <td>0</td>\n",
       "      <td>0</td>\n",
       "      <td>0</td>\n",
       "      <td>0</td>\n",
       "      <td>0</td>\n",
       "      <td>...</td>\n",
       "      <td>0</td>\n",
       "      <td>0</td>\n",
       "      <td>0</td>\n",
       "      <td>0</td>\n",
       "      <td>0</td>\n",
       "      <td>1</td>\n",
       "      <td>0</td>\n",
       "      <td>0</td>\n",
       "      <td>0</td>\n",
       "      <td>0</td>\n",
       "    </tr>\n",
       "    <tr>\n",
       "      <th>5989-33-3</th>\n",
       "      <td>0</td>\n",
       "      <td>0</td>\n",
       "      <td>0</td>\n",
       "      <td>0</td>\n",
       "      <td>0</td>\n",
       "      <td>0</td>\n",
       "      <td>0</td>\n",
       "      <td>0</td>\n",
       "      <td>0</td>\n",
       "      <td>0</td>\n",
       "      <td>...</td>\n",
       "      <td>0</td>\n",
       "      <td>0</td>\n",
       "      <td>0</td>\n",
       "      <td>0</td>\n",
       "      <td>0</td>\n",
       "      <td>0</td>\n",
       "      <td>0</td>\n",
       "      <td>0</td>\n",
       "      <td>0</td>\n",
       "      <td>0</td>\n",
       "    </tr>\n",
       "    <tr>\n",
       "      <th>142-92-7</th>\n",
       "      <td>0</td>\n",
       "      <td>0</td>\n",
       "      <td>0</td>\n",
       "      <td>0</td>\n",
       "      <td>0</td>\n",
       "      <td>0</td>\n",
       "      <td>0</td>\n",
       "      <td>0</td>\n",
       "      <td>0</td>\n",
       "      <td>0</td>\n",
       "      <td>...</td>\n",
       "      <td>0</td>\n",
       "      <td>0</td>\n",
       "      <td>0</td>\n",
       "      <td>0</td>\n",
       "      <td>0</td>\n",
       "      <td>0</td>\n",
       "      <td>0</td>\n",
       "      <td>0</td>\n",
       "      <td>0</td>\n",
       "      <td>0</td>\n",
       "    </tr>\n",
       "    <tr>\n",
       "      <th>705-86-2</th>\n",
       "      <td>0</td>\n",
       "      <td>0</td>\n",
       "      <td>0</td>\n",
       "      <td>0</td>\n",
       "      <td>0</td>\n",
       "      <td>0</td>\n",
       "      <td>0</td>\n",
       "      <td>0</td>\n",
       "      <td>0</td>\n",
       "      <td>0</td>\n",
       "      <td>...</td>\n",
       "      <td>0</td>\n",
       "      <td>0</td>\n",
       "      <td>0</td>\n",
       "      <td>0</td>\n",
       "      <td>0</td>\n",
       "      <td>1</td>\n",
       "      <td>0</td>\n",
       "      <td>0</td>\n",
       "      <td>0</td>\n",
       "      <td>0</td>\n",
       "    </tr>\n",
       "    <tr>\n",
       "      <th>143-07-7</th>\n",
       "      <td>0</td>\n",
       "      <td>0</td>\n",
       "      <td>0</td>\n",
       "      <td>0</td>\n",
       "      <td>0</td>\n",
       "      <td>0</td>\n",
       "      <td>0</td>\n",
       "      <td>0</td>\n",
       "      <td>0</td>\n",
       "      <td>0</td>\n",
       "      <td>...</td>\n",
       "      <td>0</td>\n",
       "      <td>0</td>\n",
       "      <td>0</td>\n",
       "      <td>0</td>\n",
       "      <td>0</td>\n",
       "      <td>0</td>\n",
       "      <td>0</td>\n",
       "      <td>0</td>\n",
       "      <td>0</td>\n",
       "      <td>0</td>\n",
       "    </tr>\n",
       "  </tbody>\n",
       "</table>\n",
       "<p>150 rows × 82 columns</p>\n",
       "</div>"
      ],
      "text/plain": [
       "             sweet  cotton candy  hummus  pea  solvent  alkane  burnt  roast  \\\n",
       "120-72-9         0             0       0    0        0       0      1      0   \n",
       "134346-43-3      0             0       0    0        0       0      0      0   \n",
       "65767-22-8       0             0       0    0        0       0      0      0   \n",
       "72755-76-1       0             0       0    0        0       0      0      0   \n",
       "113486-29-6      0             0       0    0        0       0      0      0   \n",
       "...            ...           ...     ...  ...      ...     ...    ...    ...   \n",
       "6378-65-0        0             0       0    0        0       0      0      0   \n",
       "5989-33-3        0             0       0    0        0       0      0      0   \n",
       "142-92-7         0             0       0    0        0       0      0      0   \n",
       "705-86-2         0             0       0    0        0       0      0      0   \n",
       "143-07-7         0             0       0    0        0       0      0      0   \n",
       "\n",
       "             mold  ester  ...  lavender  green  caraway  burnt sugar  \\\n",
       "120-72-9        0      0  ...         0      0        0            0   \n",
       "134346-43-3     0      0  ...         0      0        0            0   \n",
       "65767-22-8      0      0  ...         0      0        0            0   \n",
       "72755-76-1      0      0  ...         0      0        0            0   \n",
       "113486-29-6     0      0  ...         0      0        0            0   \n",
       "...           ...    ...  ...       ...    ...      ...          ...   \n",
       "6378-65-0       0      0  ...         0      0        0            0   \n",
       "5989-33-3       0      0  ...         0      0        0            0   \n",
       "142-92-7        0      0  ...         0      0        0            0   \n",
       "705-86-2        0      0  ...         0      0        0            0   \n",
       "143-07-7        0      0  ...         0      0        0            0   \n",
       "\n",
       "             mandarin  peach  mildew  oil  orange  caramel  \n",
       "120-72-9            0      0       0    0       0        0  \n",
       "134346-43-3         0      0       0    0       0        0  \n",
       "65767-22-8          0      0       0    0       0        0  \n",
       "72755-76-1          0      0       0    0       0        0  \n",
       "113486-29-6         0      0       0    0       0        0  \n",
       "...               ...    ...     ...  ...     ...      ...  \n",
       "6378-65-0           0      1       0    0       0        0  \n",
       "5989-33-3           0      0       0    0       0        0  \n",
       "142-92-7            0      0       0    0       0        0  \n",
       "705-86-2            0      1       0    0       0        0  \n",
       "143-07-7            0      0       0    0       0        0  \n",
       "\n",
       "[150 rows x 82 columns]"
      ]
     },
     "execution_count": 904,
     "metadata": {},
     "output_type": "execute_result"
    }
   ],
   "source": [
    "# filters only relevant rows - only those ODs coming from indentified molecules\n",
    "OD = D[(D.index).isin(I_vector.index)]\n",
    "# get only important/matching columns\n",
    "OD = OD.loc[:, (OD != 0).any(axis=0)]\n",
    "OD "
   ]
  },
  {
   "attachments": {},
   "cell_type": "markdown",
   "metadata": {},
   "source": [
    "#### 3. OD ----------> OQ\n"
   ]
  },
  {
   "cell_type": "markdown",
   "metadata": {},
   "source": [
    "### Whisky Research institute"
   ]
  },
  {
   "cell_type": "code",
   "execution_count": 905,
   "metadata": {},
   "outputs": [],
   "source": [
    "Research_data = pd.read_csv('./data/swri_flavorwheel.csv', sep=';')\n",
    "Research_OQ_OD =  Research_data.drop(columns=Research_data.columns[0])\n"
   ]
  },
  {
   "cell_type": "code",
   "execution_count": 906,
   "metadata": {},
   "outputs": [],
   "source": [
    "OD_OQ = dict_to_matrix(dataframe_to_dict(Research_OQ_OD)).T"
   ]
  },
  {
   "cell_type": "markdown",
   "metadata": {},
   "source": [
    "<span style=\"color:#FBB714\">OD_OQ</span>: Dataframe - all ODs x OQs from research institute"
   ]
  },
  {
   "cell_type": "code",
   "execution_count": 907,
   "metadata": {},
   "outputs": [
    {
     "data": {
      "text/html": [
       "<div>\n",
       "<style scoped>\n",
       "    .dataframe tbody tr th:only-of-type {\n",
       "        vertical-align: middle;\n",
       "    }\n",
       "\n",
       "    .dataframe tbody tr th {\n",
       "        vertical-align: top;\n",
       "    }\n",
       "\n",
       "    .dataframe thead th {\n",
       "        text-align: right;\n",
       "    }\n",
       "</style>\n",
       "<table border=\"1\" class=\"dataframe\">\n",
       "  <thead>\n",
       "    <tr style=\"text-align: right;\">\n",
       "      <th></th>\n",
       "      <th>Burnt</th>\n",
       "      <th>Smoky</th>\n",
       "      <th>Medicinal</th>\n",
       "      <th>Leathery</th>\n",
       "      <th>Tobacco</th>\n",
       "      <th>Sweaty</th>\n",
       "      <th>Dry cereals</th>\n",
       "      <th>Wet cereals</th>\n",
       "      <th>leafy</th>\n",
       "      <th>Herbal</th>\n",
       "      <th>...</th>\n",
       "      <th>Solvently</th>\n",
       "      <th>Soapy</th>\n",
       "      <th>Sweet</th>\n",
       "      <th>Woody</th>\n",
       "      <th>Nutty</th>\n",
       "      <th>Spicy</th>\n",
       "      <th>Oily</th>\n",
       "      <th>Sour</th>\n",
       "      <th>Sulphury</th>\n",
       "      <th>Stale</th>\n",
       "    </tr>\n",
       "  </thead>\n",
       "  <tbody>\n",
       "    <tr>\n",
       "      <th>TCP</th>\n",
       "      <td>0</td>\n",
       "      <td>0</td>\n",
       "      <td>1</td>\n",
       "      <td>0</td>\n",
       "      <td>0</td>\n",
       "      <td>0</td>\n",
       "      <td>0</td>\n",
       "      <td>0</td>\n",
       "      <td>0</td>\n",
       "      <td>0</td>\n",
       "      <td>...</td>\n",
       "      <td>0</td>\n",
       "      <td>0</td>\n",
       "      <td>0</td>\n",
       "      <td>0</td>\n",
       "      <td>0</td>\n",
       "      <td>0</td>\n",
       "      <td>0</td>\n",
       "      <td>0</td>\n",
       "      <td>0</td>\n",
       "      <td>0</td>\n",
       "    </tr>\n",
       "    <tr>\n",
       "      <th>leather upholstery</th>\n",
       "      <td>0</td>\n",
       "      <td>0</td>\n",
       "      <td>0</td>\n",
       "      <td>1</td>\n",
       "      <td>0</td>\n",
       "      <td>0</td>\n",
       "      <td>0</td>\n",
       "      <td>0</td>\n",
       "      <td>0</td>\n",
       "      <td>0</td>\n",
       "      <td>...</td>\n",
       "      <td>0</td>\n",
       "      <td>0</td>\n",
       "      <td>0</td>\n",
       "      <td>0</td>\n",
       "      <td>0</td>\n",
       "      <td>0</td>\n",
       "      <td>0</td>\n",
       "      <td>0</td>\n",
       "      <td>0</td>\n",
       "      <td>0</td>\n",
       "    </tr>\n",
       "    <tr>\n",
       "      <th>Burnt toast</th>\n",
       "      <td>0</td>\n",
       "      <td>0</td>\n",
       "      <td>0</td>\n",
       "      <td>0</td>\n",
       "      <td>0</td>\n",
       "      <td>0</td>\n",
       "      <td>0</td>\n",
       "      <td>0</td>\n",
       "      <td>0</td>\n",
       "      <td>0</td>\n",
       "      <td>...</td>\n",
       "      <td>0</td>\n",
       "      <td>0</td>\n",
       "      <td>0</td>\n",
       "      <td>0</td>\n",
       "      <td>0</td>\n",
       "      <td>0</td>\n",
       "      <td>0</td>\n",
       "      <td>0</td>\n",
       "      <td>0</td>\n",
       "      <td>0</td>\n",
       "    </tr>\n",
       "    <tr>\n",
       "      <th>Green/grassy</th>\n",
       "      <td>0</td>\n",
       "      <td>0</td>\n",
       "      <td>0</td>\n",
       "      <td>0</td>\n",
       "      <td>0</td>\n",
       "      <td>0</td>\n",
       "      <td>0</td>\n",
       "      <td>0</td>\n",
       "      <td>0</td>\n",
       "      <td>0</td>\n",
       "      <td>...</td>\n",
       "      <td>0</td>\n",
       "      <td>0</td>\n",
       "      <td>0</td>\n",
       "      <td>0</td>\n",
       "      <td>0</td>\n",
       "      <td>0</td>\n",
       "      <td>0</td>\n",
       "      <td>0</td>\n",
       "      <td>0</td>\n",
       "      <td>0</td>\n",
       "    </tr>\n",
       "    <tr>\n",
       "      <th>Raisins</th>\n",
       "      <td>0</td>\n",
       "      <td>0</td>\n",
       "      <td>0</td>\n",
       "      <td>0</td>\n",
       "      <td>0</td>\n",
       "      <td>0</td>\n",
       "      <td>0</td>\n",
       "      <td>0</td>\n",
       "      <td>0</td>\n",
       "      <td>0</td>\n",
       "      <td>...</td>\n",
       "      <td>0</td>\n",
       "      <td>0</td>\n",
       "      <td>0</td>\n",
       "      <td>0</td>\n",
       "      <td>0</td>\n",
       "      <td>0</td>\n",
       "      <td>0</td>\n",
       "      <td>0</td>\n",
       "      <td>0</td>\n",
       "      <td>0</td>\n",
       "    </tr>\n",
       "    <tr>\n",
       "      <th>...</th>\n",
       "      <td>...</td>\n",
       "      <td>...</td>\n",
       "      <td>...</td>\n",
       "      <td>...</td>\n",
       "      <td>...</td>\n",
       "      <td>...</td>\n",
       "      <td>...</td>\n",
       "      <td>...</td>\n",
       "      <td>...</td>\n",
       "      <td>...</td>\n",
       "      <td>...</td>\n",
       "      <td>...</td>\n",
       "      <td>...</td>\n",
       "      <td>...</td>\n",
       "      <td>...</td>\n",
       "      <td>...</td>\n",
       "      <td>...</td>\n",
       "      <td>...</td>\n",
       "      <td>...</td>\n",
       "      <td>...</td>\n",
       "      <td>...</td>\n",
       "    </tr>\n",
       "    <tr>\n",
       "      <th>Tyres</th>\n",
       "      <td>0</td>\n",
       "      <td>0</td>\n",
       "      <td>0</td>\n",
       "      <td>0</td>\n",
       "      <td>0</td>\n",
       "      <td>0</td>\n",
       "      <td>0</td>\n",
       "      <td>0</td>\n",
       "      <td>0</td>\n",
       "      <td>0</td>\n",
       "      <td>...</td>\n",
       "      <td>0</td>\n",
       "      <td>0</td>\n",
       "      <td>0</td>\n",
       "      <td>0</td>\n",
       "      <td>0</td>\n",
       "      <td>0</td>\n",
       "      <td>0</td>\n",
       "      <td>0</td>\n",
       "      <td>0</td>\n",
       "      <td>0</td>\n",
       "    </tr>\n",
       "    <tr>\n",
       "      <th>spent fireworks</th>\n",
       "      <td>0</td>\n",
       "      <td>0</td>\n",
       "      <td>0</td>\n",
       "      <td>0</td>\n",
       "      <td>0</td>\n",
       "      <td>0</td>\n",
       "      <td>0</td>\n",
       "      <td>0</td>\n",
       "      <td>0</td>\n",
       "      <td>0</td>\n",
       "      <td>...</td>\n",
       "      <td>0</td>\n",
       "      <td>0</td>\n",
       "      <td>0</td>\n",
       "      <td>0</td>\n",
       "      <td>0</td>\n",
       "      <td>0</td>\n",
       "      <td>0</td>\n",
       "      <td>0</td>\n",
       "      <td>0</td>\n",
       "      <td>0</td>\n",
       "    </tr>\n",
       "    <tr>\n",
       "      <th>Geranium leaves</th>\n",
       "      <td>0</td>\n",
       "      <td>0</td>\n",
       "      <td>0</td>\n",
       "      <td>0</td>\n",
       "      <td>0</td>\n",
       "      <td>0</td>\n",
       "      <td>0</td>\n",
       "      <td>0</td>\n",
       "      <td>1</td>\n",
       "      <td>0</td>\n",
       "      <td>...</td>\n",
       "      <td>0</td>\n",
       "      <td>0</td>\n",
       "      <td>0</td>\n",
       "      <td>0</td>\n",
       "      <td>0</td>\n",
       "      <td>0</td>\n",
       "      <td>0</td>\n",
       "      <td>0</td>\n",
       "      <td>0</td>\n",
       "      <td>0</td>\n",
       "    </tr>\n",
       "    <tr>\n",
       "      <th>Horse saddle</th>\n",
       "      <td>0</td>\n",
       "      <td>0</td>\n",
       "      <td>0</td>\n",
       "      <td>1</td>\n",
       "      <td>0</td>\n",
       "      <td>0</td>\n",
       "      <td>0</td>\n",
       "      <td>0</td>\n",
       "      <td>0</td>\n",
       "      <td>0</td>\n",
       "      <td>...</td>\n",
       "      <td>0</td>\n",
       "      <td>0</td>\n",
       "      <td>0</td>\n",
       "      <td>0</td>\n",
       "      <td>0</td>\n",
       "      <td>0</td>\n",
       "      <td>0</td>\n",
       "      <td>0</td>\n",
       "      <td>0</td>\n",
       "      <td>0</td>\n",
       "    </tr>\n",
       "    <tr>\n",
       "      <th>dried herbs</th>\n",
       "      <td>0</td>\n",
       "      <td>0</td>\n",
       "      <td>0</td>\n",
       "      <td>0</td>\n",
       "      <td>0</td>\n",
       "      <td>0</td>\n",
       "      <td>0</td>\n",
       "      <td>0</td>\n",
       "      <td>0</td>\n",
       "      <td>1</td>\n",
       "      <td>...</td>\n",
       "      <td>0</td>\n",
       "      <td>0</td>\n",
       "      <td>0</td>\n",
       "      <td>0</td>\n",
       "      <td>0</td>\n",
       "      <td>0</td>\n",
       "      <td>0</td>\n",
       "      <td>0</td>\n",
       "      <td>0</td>\n",
       "      <td>0</td>\n",
       "    </tr>\n",
       "  </tbody>\n",
       "</table>\n",
       "<p>142 rows × 59 columns</p>\n",
       "</div>"
      ],
      "text/plain": [
       "                    Burnt  Smoky  Medicinal  Leathery  Tobacco  Sweaty  \\\n",
       "TCP                     0      0          1         0        0       0   \n",
       "leather upholstery      0      0          0         1        0       0   \n",
       "Burnt toast             0      0          0         0        0       0   \n",
       "Green/grassy            0      0          0         0        0       0   \n",
       "Raisins                 0      0          0         0        0       0   \n",
       "...                   ...    ...        ...       ...      ...     ...   \n",
       "Tyres                   0      0          0         0        0       0   \n",
       "spent fireworks         0      0          0         0        0       0   \n",
       "Geranium leaves         0      0          0         0        0       0   \n",
       "Horse saddle            0      0          0         1        0       0   \n",
       "dried herbs             0      0          0         0        0       0   \n",
       "\n",
       "                    Dry cereals  Wet cereals  leafy  Herbal  ...  Solvently  \\\n",
       "TCP                           0            0      0       0  ...          0   \n",
       "leather upholstery            0            0      0       0  ...          0   \n",
       "Burnt toast                   0            0      0       0  ...          0   \n",
       "Green/grassy                  0            0      0       0  ...          0   \n",
       "Raisins                       0            0      0       0  ...          0   \n",
       "...                         ...          ...    ...     ...  ...        ...   \n",
       "Tyres                         0            0      0       0  ...          0   \n",
       "spent fireworks               0            0      0       0  ...          0   \n",
       "Geranium leaves               0            0      1       0  ...          0   \n",
       "Horse saddle                  0            0      0       0  ...          0   \n",
       "dried herbs                   0            0      0       1  ...          0   \n",
       "\n",
       "                    Soapy  Sweet  Woody  Nutty  Spicy  Oily  Sour  Sulphury  \\\n",
       "TCP                     0      0      0      0      0     0     0         0   \n",
       "leather upholstery      0      0      0      0      0     0     0         0   \n",
       "Burnt toast             0      0      0      0      0     0     0         0   \n",
       "Green/grassy            0      0      0      0      0     0     0         0   \n",
       "Raisins                 0      0      0      0      0     0     0         0   \n",
       "...                   ...    ...    ...    ...    ...   ...   ...       ...   \n",
       "Tyres                   0      0      0      0      0     0     0         0   \n",
       "spent fireworks         0      0      0      0      0     0     0         0   \n",
       "Geranium leaves         0      0      0      0      0     0     0         0   \n",
       "Horse saddle            0      0      0      0      0     0     0         0   \n",
       "dried herbs             0      0      0      0      0     0     0         0   \n",
       "\n",
       "                    Stale  \n",
       "TCP                     0  \n",
       "leather upholstery      0  \n",
       "Burnt toast             0  \n",
       "Green/grassy            0  \n",
       "Raisins                 0  \n",
       "...                   ...  \n",
       "Tyres                   0  \n",
       "spent fireworks         0  \n",
       "Geranium leaves         0  \n",
       "Horse saddle            0  \n",
       "dried herbs             0  \n",
       "\n",
       "[142 rows x 59 columns]"
      ]
     },
     "execution_count": 907,
     "metadata": {},
     "output_type": "execute_result"
    }
   ],
   "source": [
    "OD_OQ"
   ]
  },
  {
   "cell_type": "code",
   "execution_count": 908,
   "metadata": {},
   "outputs": [],
   "source": [
    "# find matching OQs to found ODs from massspec x flavornet\n",
    "matching_OQs, matching_OQs_dict = find_matching_entries(mol_flavors, OD_OQ)"
   ]
  },
  {
   "cell_type": "code",
   "execution_count": 909,
   "metadata": {},
   "outputs": [
    {
     "data": {
      "text/html": [
       "<div>\n",
       "<style scoped>\n",
       "    .dataframe tbody tr th:only-of-type {\n",
       "        vertical-align: middle;\n",
       "    }\n",
       "\n",
       "    .dataframe tbody tr th {\n",
       "        vertical-align: top;\n",
       "    }\n",
       "\n",
       "    .dataframe thead th {\n",
       "        text-align: right;\n",
       "    }\n",
       "</style>\n",
       "<table border=\"1\" class=\"dataframe\">\n",
       "  <thead>\n",
       "    <tr style=\"text-align: right;\">\n",
       "      <th></th>\n",
       "      <th>Sweaty</th>\n",
       "      <th>Green vegetables</th>\n",
       "      <th>Fresh flowers</th>\n",
       "      <th>Fresh fruit</th>\n",
       "      <th>Citrus</th>\n",
       "      <th>Artificial fruit flavourings</th>\n",
       "      <th>Toffee</th>\n",
       "      <th>Nuts</th>\n",
       "      <th>Dried spice</th>\n",
       "      <th>Vomit</th>\n",
       "      <th>Earthy</th>\n",
       "      <th>Fruity</th>\n",
       "      <th>Solvently</th>\n",
       "      <th>Soapy</th>\n",
       "      <th>Sweet</th>\n",
       "      <th>Woody</th>\n",
       "      <th>Spicy</th>\n",
       "      <th>Oily</th>\n",
       "    </tr>\n",
       "  </thead>\n",
       "  <tbody>\n",
       "    <tr>\n",
       "      <th>Roses</th>\n",
       "      <td>0</td>\n",
       "      <td>0</td>\n",
       "      <td>1</td>\n",
       "      <td>0</td>\n",
       "      <td>0</td>\n",
       "      <td>0</td>\n",
       "      <td>0</td>\n",
       "      <td>0</td>\n",
       "      <td>0</td>\n",
       "      <td>0</td>\n",
       "      <td>0</td>\n",
       "      <td>0</td>\n",
       "      <td>0</td>\n",
       "      <td>0</td>\n",
       "      <td>0</td>\n",
       "      <td>0</td>\n",
       "      <td>0</td>\n",
       "      <td>0</td>\n",
       "    </tr>\n",
       "    <tr>\n",
       "      <th>Sweet</th>\n",
       "      <td>0</td>\n",
       "      <td>0</td>\n",
       "      <td>0</td>\n",
       "      <td>0</td>\n",
       "      <td>0</td>\n",
       "      <td>0</td>\n",
       "      <td>0</td>\n",
       "      <td>0</td>\n",
       "      <td>0</td>\n",
       "      <td>0</td>\n",
       "      <td>0</td>\n",
       "      <td>0</td>\n",
       "      <td>0</td>\n",
       "      <td>0</td>\n",
       "      <td>1</td>\n",
       "      <td>0</td>\n",
       "      <td>0</td>\n",
       "      <td>0</td>\n",
       "    </tr>\n",
       "    <tr>\n",
       "      <th>nutmeg</th>\n",
       "      <td>0</td>\n",
       "      <td>0</td>\n",
       "      <td>0</td>\n",
       "      <td>0</td>\n",
       "      <td>0</td>\n",
       "      <td>0</td>\n",
       "      <td>0</td>\n",
       "      <td>0</td>\n",
       "      <td>1</td>\n",
       "      <td>0</td>\n",
       "      <td>0</td>\n",
       "      <td>0</td>\n",
       "      <td>0</td>\n",
       "      <td>0</td>\n",
       "      <td>0</td>\n",
       "      <td>0</td>\n",
       "      <td>0</td>\n",
       "      <td>0</td>\n",
       "    </tr>\n",
       "    <tr>\n",
       "      <th>Spicy</th>\n",
       "      <td>0</td>\n",
       "      <td>0</td>\n",
       "      <td>0</td>\n",
       "      <td>0</td>\n",
       "      <td>0</td>\n",
       "      <td>0</td>\n",
       "      <td>0</td>\n",
       "      <td>0</td>\n",
       "      <td>0</td>\n",
       "      <td>0</td>\n",
       "      <td>0</td>\n",
       "      <td>0</td>\n",
       "      <td>0</td>\n",
       "      <td>0</td>\n",
       "      <td>0</td>\n",
       "      <td>0</td>\n",
       "      <td>1</td>\n",
       "      <td>0</td>\n",
       "    </tr>\n",
       "    <tr>\n",
       "      <th>oranges</th>\n",
       "      <td>0</td>\n",
       "      <td>0</td>\n",
       "      <td>0</td>\n",
       "      <td>0</td>\n",
       "      <td>1</td>\n",
       "      <td>0</td>\n",
       "      <td>0</td>\n",
       "      <td>0</td>\n",
       "      <td>0</td>\n",
       "      <td>0</td>\n",
       "      <td>0</td>\n",
       "      <td>0</td>\n",
       "      <td>0</td>\n",
       "      <td>0</td>\n",
       "      <td>0</td>\n",
       "      <td>0</td>\n",
       "      <td>0</td>\n",
       "      <td>0</td>\n",
       "    </tr>\n",
       "    <tr>\n",
       "      <th>Fruity</th>\n",
       "      <td>0</td>\n",
       "      <td>0</td>\n",
       "      <td>0</td>\n",
       "      <td>0</td>\n",
       "      <td>0</td>\n",
       "      <td>0</td>\n",
       "      <td>0</td>\n",
       "      <td>0</td>\n",
       "      <td>0</td>\n",
       "      <td>0</td>\n",
       "      <td>0</td>\n",
       "      <td>1</td>\n",
       "      <td>0</td>\n",
       "      <td>0</td>\n",
       "      <td>0</td>\n",
       "      <td>0</td>\n",
       "      <td>0</td>\n",
       "      <td>0</td>\n",
       "    </tr>\n",
       "    <tr>\n",
       "      <th>cucumber</th>\n",
       "      <td>0</td>\n",
       "      <td>1</td>\n",
       "      <td>0</td>\n",
       "      <td>0</td>\n",
       "      <td>0</td>\n",
       "      <td>0</td>\n",
       "      <td>0</td>\n",
       "      <td>0</td>\n",
       "      <td>0</td>\n",
       "      <td>0</td>\n",
       "      <td>0</td>\n",
       "      <td>0</td>\n",
       "      <td>0</td>\n",
       "      <td>0</td>\n",
       "      <td>0</td>\n",
       "      <td>0</td>\n",
       "      <td>0</td>\n",
       "      <td>0</td>\n",
       "    </tr>\n",
       "    <tr>\n",
       "      <th>Woody</th>\n",
       "      <td>0</td>\n",
       "      <td>0</td>\n",
       "      <td>0</td>\n",
       "      <td>0</td>\n",
       "      <td>0</td>\n",
       "      <td>0</td>\n",
       "      <td>0</td>\n",
       "      <td>0</td>\n",
       "      <td>0</td>\n",
       "      <td>0</td>\n",
       "      <td>0</td>\n",
       "      <td>0</td>\n",
       "      <td>0</td>\n",
       "      <td>0</td>\n",
       "      <td>0</td>\n",
       "      <td>1</td>\n",
       "      <td>0</td>\n",
       "      <td>0</td>\n",
       "    </tr>\n",
       "    <tr>\n",
       "      <th>Oily</th>\n",
       "      <td>0</td>\n",
       "      <td>0</td>\n",
       "      <td>0</td>\n",
       "      <td>0</td>\n",
       "      <td>0</td>\n",
       "      <td>0</td>\n",
       "      <td>0</td>\n",
       "      <td>0</td>\n",
       "      <td>0</td>\n",
       "      <td>0</td>\n",
       "      <td>0</td>\n",
       "      <td>0</td>\n",
       "      <td>0</td>\n",
       "      <td>0</td>\n",
       "      <td>0</td>\n",
       "      <td>0</td>\n",
       "      <td>0</td>\n",
       "      <td>1</td>\n",
       "    </tr>\n",
       "    <tr>\n",
       "      <th>Butterscotch</th>\n",
       "      <td>0</td>\n",
       "      <td>0</td>\n",
       "      <td>0</td>\n",
       "      <td>0</td>\n",
       "      <td>0</td>\n",
       "      <td>0</td>\n",
       "      <td>1</td>\n",
       "      <td>0</td>\n",
       "      <td>0</td>\n",
       "      <td>0</td>\n",
       "      <td>0</td>\n",
       "      <td>0</td>\n",
       "      <td>0</td>\n",
       "      <td>0</td>\n",
       "      <td>0</td>\n",
       "      <td>0</td>\n",
       "      <td>0</td>\n",
       "      <td>0</td>\n",
       "    </tr>\n",
       "    <tr>\n",
       "      <th>Apples</th>\n",
       "      <td>0</td>\n",
       "      <td>0</td>\n",
       "      <td>0</td>\n",
       "      <td>1</td>\n",
       "      <td>0</td>\n",
       "      <td>0</td>\n",
       "      <td>0</td>\n",
       "      <td>0</td>\n",
       "      <td>0</td>\n",
       "      <td>0</td>\n",
       "      <td>0</td>\n",
       "      <td>0</td>\n",
       "      <td>0</td>\n",
       "      <td>0</td>\n",
       "      <td>0</td>\n",
       "      <td>0</td>\n",
       "      <td>0</td>\n",
       "      <td>0</td>\n",
       "    </tr>\n",
       "    <tr>\n",
       "      <th>Solvently</th>\n",
       "      <td>0</td>\n",
       "      <td>0</td>\n",
       "      <td>0</td>\n",
       "      <td>0</td>\n",
       "      <td>0</td>\n",
       "      <td>0</td>\n",
       "      <td>0</td>\n",
       "      <td>0</td>\n",
       "      <td>0</td>\n",
       "      <td>0</td>\n",
       "      <td>0</td>\n",
       "      <td>0</td>\n",
       "      <td>1</td>\n",
       "      <td>0</td>\n",
       "      <td>0</td>\n",
       "      <td>0</td>\n",
       "      <td>0</td>\n",
       "      <td>0</td>\n",
       "    </tr>\n",
       "    <tr>\n",
       "      <th>esters</th>\n",
       "      <td>0</td>\n",
       "      <td>0</td>\n",
       "      <td>0</td>\n",
       "      <td>0</td>\n",
       "      <td>0</td>\n",
       "      <td>1</td>\n",
       "      <td>0</td>\n",
       "      <td>0</td>\n",
       "      <td>0</td>\n",
       "      <td>0</td>\n",
       "      <td>0</td>\n",
       "      <td>0</td>\n",
       "      <td>0</td>\n",
       "      <td>0</td>\n",
       "      <td>0</td>\n",
       "      <td>0</td>\n",
       "      <td>0</td>\n",
       "      <td>0</td>\n",
       "    </tr>\n",
       "    <tr>\n",
       "      <th>Soapy</th>\n",
       "      <td>0</td>\n",
       "      <td>0</td>\n",
       "      <td>0</td>\n",
       "      <td>0</td>\n",
       "      <td>0</td>\n",
       "      <td>0</td>\n",
       "      <td>0</td>\n",
       "      <td>0</td>\n",
       "      <td>0</td>\n",
       "      <td>0</td>\n",
       "      <td>0</td>\n",
       "      <td>0</td>\n",
       "      <td>0</td>\n",
       "      <td>1</td>\n",
       "      <td>0</td>\n",
       "      <td>0</td>\n",
       "      <td>0</td>\n",
       "      <td>0</td>\n",
       "    </tr>\n",
       "    <tr>\n",
       "      <th>Sweaty</th>\n",
       "      <td>1</td>\n",
       "      <td>0</td>\n",
       "      <td>0</td>\n",
       "      <td>0</td>\n",
       "      <td>0</td>\n",
       "      <td>0</td>\n",
       "      <td>0</td>\n",
       "      <td>0</td>\n",
       "      <td>0</td>\n",
       "      <td>0</td>\n",
       "      <td>0</td>\n",
       "      <td>0</td>\n",
       "      <td>0</td>\n",
       "      <td>0</td>\n",
       "      <td>0</td>\n",
       "      <td>0</td>\n",
       "      <td>0</td>\n",
       "      <td>0</td>\n",
       "    </tr>\n",
       "    <tr>\n",
       "      <th>mushrooms</th>\n",
       "      <td>0</td>\n",
       "      <td>0</td>\n",
       "      <td>0</td>\n",
       "      <td>0</td>\n",
       "      <td>0</td>\n",
       "      <td>0</td>\n",
       "      <td>0</td>\n",
       "      <td>0</td>\n",
       "      <td>0</td>\n",
       "      <td>0</td>\n",
       "      <td>1</td>\n",
       "      <td>0</td>\n",
       "      <td>0</td>\n",
       "      <td>0</td>\n",
       "      <td>0</td>\n",
       "      <td>0</td>\n",
       "      <td>0</td>\n",
       "      <td>0</td>\n",
       "    </tr>\n",
       "    <tr>\n",
       "      <th>Almond</th>\n",
       "      <td>0</td>\n",
       "      <td>0</td>\n",
       "      <td>0</td>\n",
       "      <td>0</td>\n",
       "      <td>0</td>\n",
       "      <td>0</td>\n",
       "      <td>0</td>\n",
       "      <td>1</td>\n",
       "      <td>0</td>\n",
       "      <td>0</td>\n",
       "      <td>0</td>\n",
       "      <td>0</td>\n",
       "      <td>0</td>\n",
       "      <td>0</td>\n",
       "      <td>0</td>\n",
       "      <td>0</td>\n",
       "      <td>0</td>\n",
       "      <td>0</td>\n",
       "    </tr>\n",
       "    <tr>\n",
       "      <th>rancid</th>\n",
       "      <td>0</td>\n",
       "      <td>0</td>\n",
       "      <td>0</td>\n",
       "      <td>0</td>\n",
       "      <td>0</td>\n",
       "      <td>0</td>\n",
       "      <td>0</td>\n",
       "      <td>0</td>\n",
       "      <td>0</td>\n",
       "      <td>1</td>\n",
       "      <td>0</td>\n",
       "      <td>0</td>\n",
       "      <td>0</td>\n",
       "      <td>0</td>\n",
       "      <td>0</td>\n",
       "      <td>0</td>\n",
       "      <td>0</td>\n",
       "      <td>0</td>\n",
       "    </tr>\n",
       "  </tbody>\n",
       "</table>\n",
       "</div>"
      ],
      "text/plain": [
       "              Sweaty  Green vegetables  Fresh flowers  Fresh fruit  Citrus  \\\n",
       "Roses              0                 0              1            0       0   \n",
       "Sweet              0                 0              0            0       0   \n",
       "nutmeg             0                 0              0            0       0   \n",
       "Spicy              0                 0              0            0       0   \n",
       "oranges            0                 0              0            0       1   \n",
       "Fruity             0                 0              0            0       0   \n",
       "cucumber           0                 1              0            0       0   \n",
       "Woody              0                 0              0            0       0   \n",
       "Oily               0                 0              0            0       0   \n",
       "Butterscotch       0                 0              0            0       0   \n",
       "Apples             0                 0              0            1       0   \n",
       "Solvently          0                 0              0            0       0   \n",
       "esters             0                 0              0            0       0   \n",
       "Soapy              0                 0              0            0       0   \n",
       "Sweaty             1                 0              0            0       0   \n",
       "mushrooms          0                 0              0            0       0   \n",
       "Almond             0                 0              0            0       0   \n",
       "rancid             0                 0              0            0       0   \n",
       "\n",
       "              Artificial fruit flavourings  Toffee  Nuts  Dried spice  Vomit  \\\n",
       "Roses                                    0       0     0            0      0   \n",
       "Sweet                                    0       0     0            0      0   \n",
       "nutmeg                                   0       0     0            1      0   \n",
       "Spicy                                    0       0     0            0      0   \n",
       "oranges                                  0       0     0            0      0   \n",
       "Fruity                                   0       0     0            0      0   \n",
       "cucumber                                 0       0     0            0      0   \n",
       "Woody                                    0       0     0            0      0   \n",
       "Oily                                     0       0     0            0      0   \n",
       "Butterscotch                             0       1     0            0      0   \n",
       "Apples                                   0       0     0            0      0   \n",
       "Solvently                                0       0     0            0      0   \n",
       "esters                                   1       0     0            0      0   \n",
       "Soapy                                    0       0     0            0      0   \n",
       "Sweaty                                   0       0     0            0      0   \n",
       "mushrooms                                0       0     0            0      0   \n",
       "Almond                                   0       0     1            0      0   \n",
       "rancid                                   0       0     0            0      1   \n",
       "\n",
       "              Earthy  Fruity   Solvently  Soapy  Sweet  Woody  Spicy  Oily  \n",
       "Roses              0        0          0      0      0      0      0     0  \n",
       "Sweet              0        0          0      0      1      0      0     0  \n",
       "nutmeg             0        0          0      0      0      0      0     0  \n",
       "Spicy              0        0          0      0      0      0      1     0  \n",
       "oranges            0        0          0      0      0      0      0     0  \n",
       "Fruity             0        1          0      0      0      0      0     0  \n",
       "cucumber           0        0          0      0      0      0      0     0  \n",
       "Woody              0        0          0      0      0      1      0     0  \n",
       "Oily               0        0          0      0      0      0      0     1  \n",
       "Butterscotch       0        0          0      0      0      0      0     0  \n",
       "Apples             0        0          0      0      0      0      0     0  \n",
       "Solvently          0        0          1      0      0      0      0     0  \n",
       "esters             0        0          0      0      0      0      0     0  \n",
       "Soapy              0        0          0      1      0      0      0     0  \n",
       "Sweaty             0        0          0      0      0      0      0     0  \n",
       "mushrooms          1        0          0      0      0      0      0     0  \n",
       "Almond             0        0          0      0      0      0      0     0  \n",
       "rancid             0        0          0      0      0      0      0     0  "
      ]
     },
     "execution_count": 909,
     "metadata": {},
     "output_type": "execute_result"
    }
   ],
   "source": [
    "# get only important columns\n",
    "matching_OQs = matching_OQs.loc[:, (matching_OQs != 0).any(axis=0)]\n",
    "matching_OQs"
   ]
  },
  {
   "cell_type": "code",
   "execution_count": 910,
   "metadata": {},
   "outputs": [
    {
     "data": {
      "text/plain": [
       "18"
      ]
     },
     "execution_count": 910,
     "metadata": {},
     "output_type": "execute_result"
    }
   ],
   "source": [
    "len(matching_OQs)"
   ]
  },
  {
   "cell_type": "code",
   "execution_count": 911,
   "metadata": {},
   "outputs": [
    {
     "data": {
      "text/plain": [
       "{'3033-23-6': {'Roses', 'Sweet'},\n",
       " '562-74-3': {'nutmeg'},\n",
       " '470-67-7': {'Spicy'},\n",
       " '470-82-6': {'Sweet'},\n",
       " '2497-25-8': {'oranges'},\n",
       " '3913-71-1': {'oranges'},\n",
       " '3913-81-3': {'oranges'},\n",
       " '4861-58-9': {'Fruity ', 'Sweet'},\n",
       " '105683-99-6': {'cucumber'},\n",
       " '147159-48-6': {'cucumber'},\n",
       " '619-01-2': {'Spicy'},\n",
       " '106-24-1': {'Roses'},\n",
       " '18675-35-9': {'Spicy', 'Woody'},\n",
       " '16750-94-0': {'Roses'},\n",
       " '5944-20-7': {'Roses'},\n",
       " '78-70-6': {'lavender'},\n",
       " '106-25-2': {'Sweet'},\n",
       " '18479-68-0': {'Fruity '},\n",
       " '17699-16-0': {'Woody'},\n",
       " '98-55-5': {'Oily'},\n",
       " '20407-84-5': {'Sweet'},\n",
       " '1189-09-9': {'Fruity '},\n",
       " '3943-74-6': {'Butterscotch'},\n",
       " '589-75-3': {'Fruity '},\n",
       " '112-17-4': {'Oily', 'oranges'},\n",
       " '50862-12-9': {'Apples'},\n",
       " '21391-99-1': {'Woody'},\n",
       " '1197-07-5': {'Solvently'},\n",
       " '92760-25-3': {'Lemons'},\n",
       " '2785-89-9': {'Clove', 'Spicy'},\n",
       " '5392-40-5': {'Lemons'},\n",
       " '141-27-5': {'Lemons'},\n",
       " '58615-39-7': {'Fruity ', 'Sweet'},\n",
       " '1195-92-2': {'Fruity '},\n",
       " '106-26-3': {'Lemons'},\n",
       " '1786-08-9': {'Oily'},\n",
       " '31823-43-5': {'cucumber'},\n",
       " '698-10-2': {'Spicy'},\n",
       " '4077-47-8': {'Sweet'},\n",
       " '3681-71-8': {'bananas'},\n",
       " '4630-82-4': {'Fruity ', 'esters'},\n",
       " '27538-09-6': {'Sweet'},\n",
       " '821-55-6': {'Soapy'},\n",
       " '628-99-9': {'cucumber'},\n",
       " '123-66-0': {'Fruity '},\n",
       " '25415-67-2': {'Fruity '},\n",
       " '142-92-7': {'Fruity '},\n",
       " '7251-61-8': {'Fruity '},\n",
       " '124-07-2': {'Sweaty', 'Sweet'},\n",
       " '72755-76-1': {'mushrooms'},\n",
       " '1365-19-1': {'Woody'},\n",
       " '113486-29-6': {'Fruity '},\n",
       " '71159-90-5': {'grapefruit'},\n",
       " '112-44-7': {'Oily', 'Sweet'},\n",
       " '112-12-9': {'oranges'},\n",
       " '620-02-0': {'Almond', 'brown sugar'},\n",
       " '30361-28-5': {'cucumber'},\n",
       " '38284-27-4': {'Fruity ', 'mushrooms'},\n",
       " '90-05-1': {'Sweet'},\n",
       " '626-82-4': {'Fruity '},\n",
       " '334-48-5': {'rancid'},\n",
       " '106-32-1': {'Fruity '},\n",
       " '2051-50-5': {'Fruity '},\n",
       " '68039-26-9': {'Apples'},\n",
       " '55013-32-6': {'Spicy'}}"
      ]
     },
     "execution_count": 911,
     "metadata": {},
     "output_type": "execute_result"
    }
   ],
   "source": [
    "# to know which OD comes from which molecule\n",
    "#remove empty entries\n",
    "matching_OQs_dict = {key: value for key, value in matching_OQs_dict.items() if value}\n",
    "matching_OQs_dict"
   ]
  },
  {
   "cell_type": "markdown",
   "metadata": {},
   "source": [
    "<span style=\"color:#FBB714\">OQs</span>: Dataframe - ODs x OQs"
   ]
  },
  {
   "cell_type": "code",
   "execution_count": 912,
   "metadata": {},
   "outputs": [],
   "source": [
    "OQ_dict, OQs = create_matrix_from_dict(matching_OQs_dict, matching_OQs,matching_OQs_dict.keys())"
   ]
  },
  {
   "cell_type": "code",
   "execution_count": 913,
   "metadata": {},
   "outputs": [
    {
     "data": {
      "text/html": [
       "<div>\n",
       "<style scoped>\n",
       "    .dataframe tbody tr th:only-of-type {\n",
       "        vertical-align: middle;\n",
       "    }\n",
       "\n",
       "    .dataframe tbody tr th {\n",
       "        vertical-align: top;\n",
       "    }\n",
       "\n",
       "    .dataframe thead th {\n",
       "        text-align: right;\n",
       "    }\n",
       "</style>\n",
       "<table border=\"1\" class=\"dataframe\">\n",
       "  <thead>\n",
       "    <tr style=\"text-align: right;\">\n",
       "      <th></th>\n",
       "      <th>Sweaty</th>\n",
       "      <th>Green vegetables</th>\n",
       "      <th>Fresh flowers</th>\n",
       "      <th>Fresh fruit</th>\n",
       "      <th>Citrus</th>\n",
       "      <th>Artificial fruit flavourings</th>\n",
       "      <th>Toffee</th>\n",
       "      <th>Nuts</th>\n",
       "      <th>Dried spice</th>\n",
       "      <th>Vomit</th>\n",
       "      <th>Earthy</th>\n",
       "      <th>Fruity</th>\n",
       "      <th>Solvently</th>\n",
       "      <th>Soapy</th>\n",
       "      <th>Sweet</th>\n",
       "      <th>Woody</th>\n",
       "      <th>Spicy</th>\n",
       "      <th>Oily</th>\n",
       "    </tr>\n",
       "  </thead>\n",
       "  <tbody>\n",
       "    <tr>\n",
       "      <th>3033-23-6</th>\n",
       "      <td>0</td>\n",
       "      <td>0</td>\n",
       "      <td>1</td>\n",
       "      <td>0</td>\n",
       "      <td>0</td>\n",
       "      <td>0</td>\n",
       "      <td>0</td>\n",
       "      <td>0</td>\n",
       "      <td>0</td>\n",
       "      <td>0</td>\n",
       "      <td>0</td>\n",
       "      <td>0</td>\n",
       "      <td>0</td>\n",
       "      <td>0</td>\n",
       "      <td>1</td>\n",
       "      <td>0</td>\n",
       "      <td>0</td>\n",
       "      <td>0</td>\n",
       "    </tr>\n",
       "    <tr>\n",
       "      <th>562-74-3</th>\n",
       "      <td>0</td>\n",
       "      <td>0</td>\n",
       "      <td>0</td>\n",
       "      <td>0</td>\n",
       "      <td>0</td>\n",
       "      <td>0</td>\n",
       "      <td>0</td>\n",
       "      <td>0</td>\n",
       "      <td>1</td>\n",
       "      <td>0</td>\n",
       "      <td>0</td>\n",
       "      <td>0</td>\n",
       "      <td>0</td>\n",
       "      <td>0</td>\n",
       "      <td>0</td>\n",
       "      <td>0</td>\n",
       "      <td>0</td>\n",
       "      <td>0</td>\n",
       "    </tr>\n",
       "    <tr>\n",
       "      <th>470-67-7</th>\n",
       "      <td>0</td>\n",
       "      <td>0</td>\n",
       "      <td>0</td>\n",
       "      <td>0</td>\n",
       "      <td>0</td>\n",
       "      <td>0</td>\n",
       "      <td>0</td>\n",
       "      <td>0</td>\n",
       "      <td>0</td>\n",
       "      <td>0</td>\n",
       "      <td>0</td>\n",
       "      <td>0</td>\n",
       "      <td>0</td>\n",
       "      <td>0</td>\n",
       "      <td>0</td>\n",
       "      <td>0</td>\n",
       "      <td>1</td>\n",
       "      <td>0</td>\n",
       "    </tr>\n",
       "    <tr>\n",
       "      <th>470-82-6</th>\n",
       "      <td>0</td>\n",
       "      <td>0</td>\n",
       "      <td>0</td>\n",
       "      <td>0</td>\n",
       "      <td>0</td>\n",
       "      <td>0</td>\n",
       "      <td>0</td>\n",
       "      <td>0</td>\n",
       "      <td>0</td>\n",
       "      <td>0</td>\n",
       "      <td>0</td>\n",
       "      <td>0</td>\n",
       "      <td>0</td>\n",
       "      <td>0</td>\n",
       "      <td>1</td>\n",
       "      <td>0</td>\n",
       "      <td>0</td>\n",
       "      <td>0</td>\n",
       "    </tr>\n",
       "    <tr>\n",
       "      <th>2497-25-8</th>\n",
       "      <td>0</td>\n",
       "      <td>0</td>\n",
       "      <td>0</td>\n",
       "      <td>0</td>\n",
       "      <td>1</td>\n",
       "      <td>0</td>\n",
       "      <td>0</td>\n",
       "      <td>0</td>\n",
       "      <td>0</td>\n",
       "      <td>0</td>\n",
       "      <td>0</td>\n",
       "      <td>0</td>\n",
       "      <td>0</td>\n",
       "      <td>0</td>\n",
       "      <td>0</td>\n",
       "      <td>0</td>\n",
       "      <td>0</td>\n",
       "      <td>0</td>\n",
       "    </tr>\n",
       "    <tr>\n",
       "      <th>...</th>\n",
       "      <td>...</td>\n",
       "      <td>...</td>\n",
       "      <td>...</td>\n",
       "      <td>...</td>\n",
       "      <td>...</td>\n",
       "      <td>...</td>\n",
       "      <td>...</td>\n",
       "      <td>...</td>\n",
       "      <td>...</td>\n",
       "      <td>...</td>\n",
       "      <td>...</td>\n",
       "      <td>...</td>\n",
       "      <td>...</td>\n",
       "      <td>...</td>\n",
       "      <td>...</td>\n",
       "      <td>...</td>\n",
       "      <td>...</td>\n",
       "      <td>...</td>\n",
       "    </tr>\n",
       "    <tr>\n",
       "      <th>334-48-5</th>\n",
       "      <td>0</td>\n",
       "      <td>0</td>\n",
       "      <td>0</td>\n",
       "      <td>0</td>\n",
       "      <td>0</td>\n",
       "      <td>0</td>\n",
       "      <td>0</td>\n",
       "      <td>0</td>\n",
       "      <td>0</td>\n",
       "      <td>1</td>\n",
       "      <td>0</td>\n",
       "      <td>0</td>\n",
       "      <td>0</td>\n",
       "      <td>0</td>\n",
       "      <td>0</td>\n",
       "      <td>0</td>\n",
       "      <td>0</td>\n",
       "      <td>0</td>\n",
       "    </tr>\n",
       "    <tr>\n",
       "      <th>106-32-1</th>\n",
       "      <td>0</td>\n",
       "      <td>0</td>\n",
       "      <td>0</td>\n",
       "      <td>0</td>\n",
       "      <td>0</td>\n",
       "      <td>0</td>\n",
       "      <td>0</td>\n",
       "      <td>0</td>\n",
       "      <td>0</td>\n",
       "      <td>0</td>\n",
       "      <td>0</td>\n",
       "      <td>1</td>\n",
       "      <td>0</td>\n",
       "      <td>0</td>\n",
       "      <td>0</td>\n",
       "      <td>0</td>\n",
       "      <td>0</td>\n",
       "      <td>0</td>\n",
       "    </tr>\n",
       "    <tr>\n",
       "      <th>2051-50-5</th>\n",
       "      <td>0</td>\n",
       "      <td>0</td>\n",
       "      <td>0</td>\n",
       "      <td>0</td>\n",
       "      <td>0</td>\n",
       "      <td>0</td>\n",
       "      <td>0</td>\n",
       "      <td>0</td>\n",
       "      <td>0</td>\n",
       "      <td>0</td>\n",
       "      <td>0</td>\n",
       "      <td>1</td>\n",
       "      <td>0</td>\n",
       "      <td>0</td>\n",
       "      <td>0</td>\n",
       "      <td>0</td>\n",
       "      <td>0</td>\n",
       "      <td>0</td>\n",
       "    </tr>\n",
       "    <tr>\n",
       "      <th>68039-26-9</th>\n",
       "      <td>0</td>\n",
       "      <td>0</td>\n",
       "      <td>0</td>\n",
       "      <td>1</td>\n",
       "      <td>0</td>\n",
       "      <td>0</td>\n",
       "      <td>0</td>\n",
       "      <td>0</td>\n",
       "      <td>0</td>\n",
       "      <td>0</td>\n",
       "      <td>0</td>\n",
       "      <td>0</td>\n",
       "      <td>0</td>\n",
       "      <td>0</td>\n",
       "      <td>0</td>\n",
       "      <td>0</td>\n",
       "      <td>0</td>\n",
       "      <td>0</td>\n",
       "    </tr>\n",
       "    <tr>\n",
       "      <th>55013-32-6</th>\n",
       "      <td>0</td>\n",
       "      <td>0</td>\n",
       "      <td>0</td>\n",
       "      <td>0</td>\n",
       "      <td>0</td>\n",
       "      <td>0</td>\n",
       "      <td>0</td>\n",
       "      <td>0</td>\n",
       "      <td>0</td>\n",
       "      <td>0</td>\n",
       "      <td>0</td>\n",
       "      <td>0</td>\n",
       "      <td>0</td>\n",
       "      <td>0</td>\n",
       "      <td>0</td>\n",
       "      <td>0</td>\n",
       "      <td>1</td>\n",
       "      <td>0</td>\n",
       "    </tr>\n",
       "  </tbody>\n",
       "</table>\n",
       "<p>65 rows × 18 columns</p>\n",
       "</div>"
      ],
      "text/plain": [
       "            Sweaty  Green vegetables  Fresh flowers  Fresh fruit  Citrus  \\\n",
       "3033-23-6        0                 0              1            0       0   \n",
       "562-74-3         0                 0              0            0       0   \n",
       "470-67-7         0                 0              0            0       0   \n",
       "470-82-6         0                 0              0            0       0   \n",
       "2497-25-8        0                 0              0            0       1   \n",
       "...            ...               ...            ...          ...     ...   \n",
       "334-48-5         0                 0              0            0       0   \n",
       "106-32-1         0                 0              0            0       0   \n",
       "2051-50-5        0                 0              0            0       0   \n",
       "68039-26-9       0                 0              0            1       0   \n",
       "55013-32-6       0                 0              0            0       0   \n",
       "\n",
       "            Artificial fruit flavourings  Toffee  Nuts  Dried spice  Vomit  \\\n",
       "3033-23-6                              0       0     0            0      0   \n",
       "562-74-3                               0       0     0            1      0   \n",
       "470-67-7                               0       0     0            0      0   \n",
       "470-82-6                               0       0     0            0      0   \n",
       "2497-25-8                              0       0     0            0      0   \n",
       "...                                  ...     ...   ...          ...    ...   \n",
       "334-48-5                               0       0     0            0      1   \n",
       "106-32-1                               0       0     0            0      0   \n",
       "2051-50-5                              0       0     0            0      0   \n",
       "68039-26-9                             0       0     0            0      0   \n",
       "55013-32-6                             0       0     0            0      0   \n",
       "\n",
       "            Earthy  Fruity   Solvently  Soapy  Sweet  Woody  Spicy  Oily  \n",
       "3033-23-6        0        0          0      0      1      0      0     0  \n",
       "562-74-3         0        0          0      0      0      0      0     0  \n",
       "470-67-7         0        0          0      0      0      0      1     0  \n",
       "470-82-6         0        0          0      0      1      0      0     0  \n",
       "2497-25-8        0        0          0      0      0      0      0     0  \n",
       "...            ...      ...        ...    ...    ...    ...    ...   ...  \n",
       "334-48-5         0        0          0      0      0      0      0     0  \n",
       "106-32-1         0        1          0      0      0      0      0     0  \n",
       "2051-50-5        0        1          0      0      0      0      0     0  \n",
       "68039-26-9       0        0          0      0      0      0      0     0  \n",
       "55013-32-6       0        0          0      0      0      0      1     0  \n",
       "\n",
       "[65 rows x 18 columns]"
      ]
     },
     "execution_count": 913,
     "metadata": {},
     "output_type": "execute_result"
    }
   ],
   "source": [
    "OQs"
   ]
  },
  {
   "cell_type": "code",
   "execution_count": 914,
   "metadata": {},
   "outputs": [
    {
     "data": {
      "text/plain": [
       "{'3033-23-6': {'Fresh flowers', 'Sweet'},\n",
       " '562-74-3': {'Dried spice'},\n",
       " '470-67-7': {'Spicy'},\n",
       " '470-82-6': {'Sweet'},\n",
       " '2497-25-8': {'Citrus'},\n",
       " '3913-71-1': {'Citrus'},\n",
       " '3913-81-3': {'Citrus'},\n",
       " '4861-58-9': {'Fruity ', 'Sweet'},\n",
       " '105683-99-6': {'Green vegetables'},\n",
       " '147159-48-6': {'Green vegetables'},\n",
       " '619-01-2': {'Spicy'},\n",
       " '106-24-1': {'Fresh flowers'},\n",
       " '18675-35-9': {'Spicy', 'Woody'},\n",
       " '16750-94-0': {'Fresh flowers'},\n",
       " '5944-20-7': {'Fresh flowers'},\n",
       " '78-70-6': set(),\n",
       " '106-25-2': {'Sweet'},\n",
       " '18479-68-0': {'Fruity '},\n",
       " '17699-16-0': {'Woody'},\n",
       " '98-55-5': {'Oily'},\n",
       " '20407-84-5': {'Sweet'},\n",
       " '1189-09-9': {'Fruity '},\n",
       " '3943-74-6': {'Toffee'},\n",
       " '589-75-3': {'Fruity '},\n",
       " '112-17-4': {'Citrus', 'Oily'},\n",
       " '50862-12-9': {'Fresh fruit'},\n",
       " '21391-99-1': {'Woody'},\n",
       " '1197-07-5': {'Solvently'},\n",
       " '92760-25-3': set(),\n",
       " '2785-89-9': {'Spicy'},\n",
       " '5392-40-5': set(),\n",
       " '141-27-5': set(),\n",
       " '58615-39-7': {'Fruity ', 'Sweet'},\n",
       " '1195-92-2': {'Fruity '},\n",
       " '106-26-3': set(),\n",
       " '1786-08-9': {'Oily'},\n",
       " '31823-43-5': {'Green vegetables'},\n",
       " '698-10-2': {'Spicy'},\n",
       " '4077-47-8': {'Sweet'},\n",
       " '3681-71-8': set(),\n",
       " '4630-82-4': {'Artificial fruit flavourings', 'Fruity '},\n",
       " '27538-09-6': {'Sweet'},\n",
       " '821-55-6': {'Soapy'},\n",
       " '628-99-9': {'Green vegetables'},\n",
       " '123-66-0': {'Fruity '},\n",
       " '25415-67-2': {'Fruity '},\n",
       " '142-92-7': {'Fruity '},\n",
       " '7251-61-8': {'Fruity '},\n",
       " '124-07-2': {'Sweaty', 'Sweet'},\n",
       " '72755-76-1': {'Earthy'},\n",
       " '1365-19-1': {'Woody'},\n",
       " '113486-29-6': {'Fruity '},\n",
       " '71159-90-5': set(),\n",
       " '112-44-7': {'Oily', 'Sweet'},\n",
       " '112-12-9': {'Citrus'},\n",
       " '620-02-0': {'Nuts'},\n",
       " '30361-28-5': {'Green vegetables'},\n",
       " '38284-27-4': {'Earthy', 'Fruity '},\n",
       " '90-05-1': {'Sweet'},\n",
       " '626-82-4': {'Fruity '},\n",
       " '334-48-5': {'Vomit'},\n",
       " '106-32-1': {'Fruity '},\n",
       " '2051-50-5': {'Fruity '},\n",
       " '68039-26-9': {'Fresh fruit'},\n",
       " '55013-32-6': {'Spicy'}}"
      ]
     },
     "execution_count": 914,
     "metadata": {},
     "output_type": "execute_result"
    }
   ],
   "source": [
    "OQ_dict"
   ]
  },
  {
   "attachments": {},
   "cell_type": "markdown",
   "metadata": {},
   "source": [
    "#### 4.  OQ -----------> OSA\n"
   ]
  },
  {
   "cell_type": "markdown",
   "metadata": {},
   "source": [
    "<span style=\"color:#FBB714\">OQ_OSA</span>: Dataframe - all OQs x OSAs from research institute"
   ]
  },
  {
   "cell_type": "code",
   "execution_count": 915,
   "metadata": {},
   "outputs": [],
   "source": [
    "Research_OSA_OQ = Research_data.drop(columns=Research_data.columns[2])\n",
    "OQ_OSA = dict_to_matrix(dataframe_to_dict(Research_OSA_OQ)).T"
   ]
  },
  {
   "cell_type": "markdown",
   "metadata": {},
   "source": [
    " #### 4.1 Binary Matrix"
   ]
  },
  {
   "cell_type": "code",
   "execution_count": 916,
   "metadata": {},
   "outputs": [],
   "source": [
    "# find matching OQs to found ODs from massspec x flavornet\n",
    "matching_OSAs, matching_OSAs_dict = find_matching_entries(OQ_dict, OQ_OSA)"
   ]
  },
  {
   "cell_type": "code",
   "execution_count": 917,
   "metadata": {},
   "outputs": [
    {
     "data": {
      "text/plain": [
       "65"
      ]
     },
     "execution_count": 917,
     "metadata": {},
     "output_type": "execute_result"
    }
   ],
   "source": [
    "len(matching_OSAs_dict)"
   ]
  },
  {
   "cell_type": "code",
   "execution_count": 972,
   "metadata": {},
   "outputs": [
    {
     "data": {
      "text/html": [
       "<div>\n",
       "<style scoped>\n",
       "    .dataframe tbody tr th:only-of-type {\n",
       "        vertical-align: middle;\n",
       "    }\n",
       "\n",
       "    .dataframe tbody tr th {\n",
       "        vertical-align: top;\n",
       "    }\n",
       "\n",
       "    .dataframe thead th {\n",
       "        text-align: right;\n",
       "    }\n",
       "</style>\n",
       "<table border=\"1\" class=\"dataframe\">\n",
       "  <thead>\n",
       "    <tr style=\"text-align: right;\">\n",
       "      <th></th>\n",
       "      <th>feinty</th>\n",
       "      <th>Green/grassy</th>\n",
       "      <th>Floral</th>\n",
       "      <th>Fruity</th>\n",
       "      <th>Solvently</th>\n",
       "      <th>Soapy</th>\n",
       "      <th>Sweet</th>\n",
       "      <th>Woody</th>\n",
       "      <th>Spicy</th>\n",
       "      <th>Sour</th>\n",
       "      <th>Stale</th>\n",
       "    </tr>\n",
       "  </thead>\n",
       "  <tbody>\n",
       "    <tr>\n",
       "      <th>Sweet</th>\n",
       "      <td>0</td>\n",
       "      <td>0</td>\n",
       "      <td>0</td>\n",
       "      <td>0</td>\n",
       "      <td>0</td>\n",
       "      <td>0</td>\n",
       "      <td>1</td>\n",
       "      <td>0</td>\n",
       "      <td>0</td>\n",
       "      <td>0</td>\n",
       "      <td>0</td>\n",
       "    </tr>\n",
       "    <tr>\n",
       "      <th>Fresh flowers</th>\n",
       "      <td>0</td>\n",
       "      <td>0</td>\n",
       "      <td>1</td>\n",
       "      <td>0</td>\n",
       "      <td>0</td>\n",
       "      <td>0</td>\n",
       "      <td>0</td>\n",
       "      <td>0</td>\n",
       "      <td>0</td>\n",
       "      <td>0</td>\n",
       "      <td>0</td>\n",
       "    </tr>\n",
       "    <tr>\n",
       "      <th>Dried spice</th>\n",
       "      <td>0</td>\n",
       "      <td>0</td>\n",
       "      <td>0</td>\n",
       "      <td>0</td>\n",
       "      <td>0</td>\n",
       "      <td>0</td>\n",
       "      <td>0</td>\n",
       "      <td>0</td>\n",
       "      <td>1</td>\n",
       "      <td>0</td>\n",
       "      <td>0</td>\n",
       "    </tr>\n",
       "    <tr>\n",
       "      <th>Citrus</th>\n",
       "      <td>0</td>\n",
       "      <td>0</td>\n",
       "      <td>0</td>\n",
       "      <td>1</td>\n",
       "      <td>0</td>\n",
       "      <td>0</td>\n",
       "      <td>0</td>\n",
       "      <td>0</td>\n",
       "      <td>0</td>\n",
       "      <td>0</td>\n",
       "      <td>0</td>\n",
       "    </tr>\n",
       "    <tr>\n",
       "      <th>Green vegetables</th>\n",
       "      <td>0</td>\n",
       "      <td>1</td>\n",
       "      <td>0</td>\n",
       "      <td>0</td>\n",
       "      <td>0</td>\n",
       "      <td>0</td>\n",
       "      <td>0</td>\n",
       "      <td>0</td>\n",
       "      <td>0</td>\n",
       "      <td>0</td>\n",
       "      <td>0</td>\n",
       "    </tr>\n",
       "    <tr>\n",
       "      <th>Woody</th>\n",
       "      <td>0</td>\n",
       "      <td>0</td>\n",
       "      <td>0</td>\n",
       "      <td>0</td>\n",
       "      <td>0</td>\n",
       "      <td>0</td>\n",
       "      <td>0</td>\n",
       "      <td>1</td>\n",
       "      <td>0</td>\n",
       "      <td>0</td>\n",
       "      <td>0</td>\n",
       "    </tr>\n",
       "    <tr>\n",
       "      <th>Solvently</th>\n",
       "      <td>0</td>\n",
       "      <td>0</td>\n",
       "      <td>0</td>\n",
       "      <td>0</td>\n",
       "      <td>1</td>\n",
       "      <td>0</td>\n",
       "      <td>0</td>\n",
       "      <td>0</td>\n",
       "      <td>0</td>\n",
       "      <td>0</td>\n",
       "      <td>0</td>\n",
       "    </tr>\n",
       "    <tr>\n",
       "      <th>Soapy</th>\n",
       "      <td>0</td>\n",
       "      <td>0</td>\n",
       "      <td>0</td>\n",
       "      <td>0</td>\n",
       "      <td>0</td>\n",
       "      <td>1</td>\n",
       "      <td>0</td>\n",
       "      <td>0</td>\n",
       "      <td>0</td>\n",
       "      <td>0</td>\n",
       "      <td>0</td>\n",
       "    </tr>\n",
       "    <tr>\n",
       "      <th>Sweaty</th>\n",
       "      <td>1</td>\n",
       "      <td>0</td>\n",
       "      <td>0</td>\n",
       "      <td>0</td>\n",
       "      <td>0</td>\n",
       "      <td>0</td>\n",
       "      <td>0</td>\n",
       "      <td>0</td>\n",
       "      <td>0</td>\n",
       "      <td>0</td>\n",
       "      <td>0</td>\n",
       "    </tr>\n",
       "    <tr>\n",
       "      <th>Earthy</th>\n",
       "      <td>0</td>\n",
       "      <td>0</td>\n",
       "      <td>0</td>\n",
       "      <td>0</td>\n",
       "      <td>0</td>\n",
       "      <td>0</td>\n",
       "      <td>0</td>\n",
       "      <td>0</td>\n",
       "      <td>0</td>\n",
       "      <td>0</td>\n",
       "      <td>1</td>\n",
       "    </tr>\n",
       "    <tr>\n",
       "      <th>Vomit</th>\n",
       "      <td>0</td>\n",
       "      <td>0</td>\n",
       "      <td>0</td>\n",
       "      <td>0</td>\n",
       "      <td>0</td>\n",
       "      <td>0</td>\n",
       "      <td>0</td>\n",
       "      <td>0</td>\n",
       "      <td>0</td>\n",
       "      <td>1</td>\n",
       "      <td>0</td>\n",
       "    </tr>\n",
       "  </tbody>\n",
       "</table>\n",
       "</div>"
      ],
      "text/plain": [
       "                  feinty  Green/grassy  Floral  Fruity   Solvently  Soapy  \\\n",
       "Sweet                  0             0       0        0          0      0   \n",
       "Fresh flowers          0             0       1        0          0      0   \n",
       "Dried spice            0             0       0        0          0      0   \n",
       "Citrus                 0             0       0        1          0      0   \n",
       "Green vegetables       0             1       0        0          0      0   \n",
       "Woody                  0             0       0        0          0      0   \n",
       "Solvently              0             0       0        0          1      0   \n",
       "Soapy                  0             0       0        0          0      1   \n",
       "Sweaty                 1             0       0        0          0      0   \n",
       "Earthy                 0             0       0        0          0      0   \n",
       "Vomit                  0             0       0        0          0      0   \n",
       "\n",
       "                  Sweet  Woody  Spicy  Sour  Stale  \n",
       "Sweet                 1      0      0     0      0  \n",
       "Fresh flowers         0      0      0     0      0  \n",
       "Dried spice           0      0      1     0      0  \n",
       "Citrus                0      0      0     0      0  \n",
       "Green vegetables      0      0      0     0      0  \n",
       "Woody                 0      1      0     0      0  \n",
       "Solvently             0      0      0     0      0  \n",
       "Soapy                 0      0      0     0      0  \n",
       "Sweaty                0      0      0     0      0  \n",
       "Earthy                0      0      0     0      1  \n",
       "Vomit                 0      0      0     1      0  "
      ]
     },
     "execution_count": 972,
     "metadata": {},
     "output_type": "execute_result"
    }
   ],
   "source": [
    "matching_OSAs = matching_OSAs.loc[:, (matching_OSAs != 0).any(axis=0)]\n",
    "matching_OSAs"
   ]
  },
  {
   "cell_type": "code",
   "execution_count": 920,
   "metadata": {},
   "outputs": [],
   "source": [
    "matching_OSAs_dict=  {key: value for key, value in matching_OSAs_dict.items() if value}"
   ]
  },
  {
   "cell_type": "code",
   "execution_count": 973,
   "metadata": {},
   "outputs": [
    {
     "data": {
      "text/plain": [
       "{'3033-23-6': {'Fresh flowers', 'Sweet'},\n",
       " '562-74-3': {'Dried spice'},\n",
       " '470-67-7': {'Spicy'},\n",
       " '470-82-6': {'Sweet'},\n",
       " '2497-25-8': {'Citrus'},\n",
       " '3913-71-1': {'Citrus'},\n",
       " '3913-81-3': {'Citrus'},\n",
       " '4861-58-9': {'Fruity ', 'Sweet'},\n",
       " '105683-99-6': {'Green vegetables'},\n",
       " '147159-48-6': {'Green vegetables'},\n",
       " '619-01-2': {'Spicy'},\n",
       " '106-24-1': {'Fresh flowers'},\n",
       " '18675-35-9': {'Spicy', 'Woody'},\n",
       " '16750-94-0': {'Fresh flowers'},\n",
       " '5944-20-7': {'Fresh flowers'},\n",
       " '106-25-2': {'Sweet'},\n",
       " '18479-68-0': {'Fruity '},\n",
       " '17699-16-0': {'Woody'},\n",
       " '20407-84-5': {'Sweet'},\n",
       " '1189-09-9': {'Fruity '},\n",
       " '3943-74-6': {'Toffee'},\n",
       " '589-75-3': {'Fruity '},\n",
       " '112-17-4': {'Citrus'},\n",
       " '50862-12-9': {'Fresh fruit'},\n",
       " '21391-99-1': {'Woody'},\n",
       " '1197-07-5': {'Solvently'},\n",
       " '2785-89-9': {'Spicy'},\n",
       " '58615-39-7': {'Fruity ', 'Sweet'},\n",
       " '1195-92-2': {'Fruity '},\n",
       " '31823-43-5': {'Green vegetables'},\n",
       " '698-10-2': {'Spicy'},\n",
       " '4077-47-8': {'Sweet'},\n",
       " '4630-82-4': {'Artificial fruit flavourings', 'Fruity '},\n",
       " '27538-09-6': {'Sweet'},\n",
       " '821-55-6': {'Soapy'},\n",
       " '628-99-9': {'Green vegetables'},\n",
       " '123-66-0': {'Fruity '},\n",
       " '25415-67-2': {'Fruity '},\n",
       " '142-92-7': {'Fruity '},\n",
       " '7251-61-8': {'Fruity '},\n",
       " '124-07-2': {'Sweaty', 'Sweet'},\n",
       " '72755-76-1': {'Earthy'},\n",
       " '1365-19-1': {'Woody'},\n",
       " '113486-29-6': {'Fruity '},\n",
       " '112-44-7': {'Sweet'},\n",
       " '112-12-9': {'Citrus'},\n",
       " '30361-28-5': {'Green vegetables'},\n",
       " '38284-27-4': {'Earthy', 'Fruity '},\n",
       " '90-05-1': {'Sweet'},\n",
       " '626-82-4': {'Fruity '},\n",
       " '334-48-5': {'Vomit'},\n",
       " '106-32-1': {'Fruity '},\n",
       " '2051-50-5': {'Fruity '},\n",
       " '68039-26-9': {'Fresh fruit'},\n",
       " '55013-32-6': {'Spicy'}}"
      ]
     },
     "execution_count": 973,
     "metadata": {},
     "output_type": "execute_result"
    }
   ],
   "source": [
    "matching_OSAs_dict"
   ]
  },
  {
   "cell_type": "markdown",
   "metadata": {},
   "source": [
    "<span style=\"color:#FBB714\">OSAs</span>: Dataframe - OQs x OSAs"
   ]
  },
  {
   "cell_type": "code",
   "execution_count": 978,
   "metadata": {},
   "outputs": [],
   "source": [
    "OSA_dict, OSAs = create_matrix_from_dict(matching_OSAs_dict, matching_OSAs,ms_cas)"
   ]
  },
  {
   "cell_type": "code",
   "execution_count": 979,
   "metadata": {},
   "outputs": [
    {
     "name": "stdout",
     "output_type": "stream",
     "text": [
      "            feinty  Green/grassy  Floral  Fruity   Solvently  Soapy  Sweet  \\\n",
      "3033-23-6        0             0       1        0          0      0      1   \n",
      "876-17-5         0             0       0        0          0      0      0   \n",
      "07.11.5258       0             0       0        0          0      0      0   \n",
      "21662-09-9       0             0       0        0          0      0      0   \n",
      "491-04-3         0             0       0        0          0      0      0   \n",
      "...            ...           ...     ...      ...        ...    ...    ...   \n",
      "68039-26-9       0             0       0        0          0      0      0   \n",
      "112-42-5         0             0       0        0          0      0      0   \n",
      "39638-67-0       0             0       0        0          0      0      0   \n",
      "80041-01-6       0             0       0        0          0      0      0   \n",
      "55013-32-6       0             0       0        0          0      0      0   \n",
      "\n",
      "            Woody  Spicy  Sour  Stale  \n",
      "3033-23-6       0      0     0      0  \n",
      "876-17-5        0      0     0      0  \n",
      "07.11.5258      0      0     0      0  \n",
      "21662-09-9      0      0     0      0  \n",
      "491-04-3        0      0     0      0  \n",
      "...           ...    ...   ...    ...  \n",
      "68039-26-9      0      0     0      0  \n",
      "112-42-5        0      0     0      0  \n",
      "39638-67-0      0      0     0      0  \n",
      "80041-01-6      0      0     0      0  \n",
      "55013-32-6      0      0     0      0  \n",
      "\n",
      "[150 rows x 11 columns]\n"
     ]
    }
   ],
   "source": [
    "print(OSAs)"
   ]
  },
  {
   "cell_type": "code",
   "execution_count": 992,
   "metadata": {},
   "outputs": [
    {
     "data": {
      "text/plain": [
       "array([[0.1250692 ],\n",
       "       [0.1250692 ],\n",
       "       [0.1250692 ],\n",
       "       [0.1250692 ],\n",
       "       [0.1250692 ],\n",
       "       [0.1250692 ],\n",
       "       [0.1250692 ],\n",
       "       [0.1250692 ],\n",
       "       [0.1250692 ],\n",
       "       [0.1250692 ],\n",
       "       [0.1250692 ],\n",
       "       [0.1250692 ],\n",
       "       [0.1250692 ],\n",
       "       [0.1250692 ],\n",
       "       [0.1250692 ],\n",
       "       [0.1250692 ],\n",
       "       [0.1250692 ],\n",
       "       [0.1250692 ],\n",
       "       [0.1250692 ],\n",
       "       [0.1250692 ],\n",
       "       [0.1250692 ],\n",
       "       [0.1250692 ],\n",
       "       [0.1250692 ],\n",
       "       [0.1250692 ],\n",
       "       [0.1250692 ],\n",
       "       [0.1250692 ],\n",
       "       [0.1250692 ],\n",
       "       [0.1250692 ],\n",
       "       [0.1250692 ],\n",
       "       [0.1250692 ],\n",
       "       [0.1250692 ],\n",
       "       [0.1250692 ],\n",
       "       [0.1250692 ],\n",
       "       [0.1250692 ],\n",
       "       [0.1250692 ],\n",
       "       [0.1250692 ],\n",
       "       [0.1250692 ],\n",
       "       [0.1250692 ],\n",
       "       [0.1250692 ],\n",
       "       [0.1250692 ],\n",
       "       [0.1250692 ],\n",
       "       [0.12453967],\n",
       "       [0.12453967],\n",
       "       [0.08075173],\n",
       "       [0.08075173],\n",
       "       [0.08075173],\n",
       "       [0.08075173],\n",
       "       [0.08075173],\n",
       "       [0.08075173],\n",
       "       [0.08075173],\n",
       "       [0.07260154],\n",
       "       [0.07260154],\n",
       "       [0.07260154],\n",
       "       [0.07260154],\n",
       "       [0.07260154],\n",
       "       [0.07260154],\n",
       "       [0.07260154],\n",
       "       [0.07260154],\n",
       "       [0.06831961],\n",
       "       [0.06091002],\n",
       "       [0.06091002],\n",
       "       [0.06091002],\n",
       "       [0.06091002],\n",
       "       [0.06091002],\n",
       "       [0.06091002],\n",
       "       [0.06091002],\n",
       "       [0.06091002],\n",
       "       [0.06091002],\n",
       "       [0.06091002],\n",
       "       [0.06091002],\n",
       "       [0.06091002],\n",
       "       [0.06091002],\n",
       "       [0.06091002],\n",
       "       [0.06091002],\n",
       "       [0.06091002],\n",
       "       [0.06091002],\n",
       "       [0.06091002],\n",
       "       [0.06091002],\n",
       "       [0.06091002],\n",
       "       [0.06091002],\n",
       "       [0.06091002],\n",
       "       [0.06091002],\n",
       "       [0.06091002],\n",
       "       [0.06091002],\n",
       "       [0.06091002],\n",
       "       [0.06091002],\n",
       "       [0.06091002],\n",
       "       [0.06091002],\n",
       "       [0.06091002],\n",
       "       [0.06091002],\n",
       "       [0.06091002],\n",
       "       [0.06091002],\n",
       "       [0.05106368],\n",
       "       [0.05106368],\n",
       "       [0.05106368],\n",
       "       [0.05106368],\n",
       "       [0.05106368],\n",
       "       [0.05106368],\n",
       "       [0.05106368],\n",
       "       [0.05106368],\n",
       "       [0.05106368],\n",
       "       [0.05106368],\n",
       "       [0.05106368],\n",
       "       [0.05106368],\n",
       "       [0.05106368],\n",
       "       [0.04769309],\n",
       "       [0.04769309],\n",
       "       [0.04769309],\n",
       "       [0.04769309],\n",
       "       [0.04769309],\n",
       "       [0.04769309],\n",
       "       [0.04769309],\n",
       "       [0.04769309],\n",
       "       [0.04682538],\n",
       "       [0.04682538],\n",
       "       [0.04682538],\n",
       "       [0.04682538],\n",
       "       [0.04682538],\n",
       "       [0.04682538],\n",
       "       [0.04682538],\n",
       "       [0.04682538],\n",
       "       [0.04682538],\n",
       "       [0.04682538],\n",
       "       [0.04682538],\n",
       "       [0.04682538],\n",
       "       [0.04682538],\n",
       "       [0.04682538],\n",
       "       [0.04682538],\n",
       "       [0.04682538],\n",
       "       [0.04360935],\n",
       "       [0.04013373],\n",
       "       [0.04013373],\n",
       "       [0.04013373],\n",
       "       [0.04013373],\n",
       "       [0.03964375],\n",
       "       [0.03964375],\n",
       "       [0.03964375],\n",
       "       [0.03964375],\n",
       "       [0.03020356],\n",
       "       [0.03020356],\n",
       "       [0.03020356],\n",
       "       [0.03020356],\n",
       "       [0.03020356],\n",
       "       [0.03020356],\n",
       "       [0.03020356],\n",
       "       [0.03020356],\n",
       "       [0.03020356],\n",
       "       [0.03008358],\n",
       "       [0.03008358],\n",
       "       [0.03008358]])"
      ]
     },
     "execution_count": 992,
     "metadata": {},
     "output_type": "execute_result"
    }
   ],
   "source": [
    "from sklearn.preprocessing import Normalizer\n",
    "normalizer = Normalizer()\n",
    "I_vector_normalized = normalizer.fit_transform(I_vector.T).T\n",
    "I_vector_normalized"
   ]
  },
  {
   "cell_type": "code",
   "execution_count": 993,
   "metadata": {},
   "outputs": [
    {
     "data": {
      "text/html": [
       "<div>\n",
       "<style scoped>\n",
       "    .dataframe tbody tr th:only-of-type {\n",
       "        vertical-align: middle;\n",
       "    }\n",
       "\n",
       "    .dataframe tbody tr th {\n",
       "        vertical-align: top;\n",
       "    }\n",
       "\n",
       "    .dataframe thead th {\n",
       "        text-align: right;\n",
       "    }\n",
       "</style>\n",
       "<table border=\"1\" class=\"dataframe\">\n",
       "  <thead>\n",
       "    <tr style=\"text-align: right;\">\n",
       "      <th></th>\n",
       "      <th>feinty</th>\n",
       "      <th>Green/grassy</th>\n",
       "      <th>Floral</th>\n",
       "      <th>Fruity</th>\n",
       "      <th>Solvently</th>\n",
       "      <th>Soapy</th>\n",
       "      <th>Sweet</th>\n",
       "      <th>Woody</th>\n",
       "      <th>Spicy</th>\n",
       "      <th>Sour</th>\n",
       "      <th>Stale</th>\n",
       "    </tr>\n",
       "  </thead>\n",
       "  <tbody>\n",
       "    <tr>\n",
       "      <th>3033-23-6</th>\n",
       "      <td>0</td>\n",
       "      <td>0</td>\n",
       "      <td>1</td>\n",
       "      <td>0</td>\n",
       "      <td>0</td>\n",
       "      <td>0</td>\n",
       "      <td>1</td>\n",
       "      <td>0</td>\n",
       "      <td>0</td>\n",
       "      <td>0</td>\n",
       "      <td>0</td>\n",
       "    </tr>\n",
       "    <tr>\n",
       "      <th>876-17-5</th>\n",
       "      <td>0</td>\n",
       "      <td>0</td>\n",
       "      <td>0</td>\n",
       "      <td>0</td>\n",
       "      <td>0</td>\n",
       "      <td>0</td>\n",
       "      <td>0</td>\n",
       "      <td>0</td>\n",
       "      <td>0</td>\n",
       "      <td>0</td>\n",
       "      <td>0</td>\n",
       "    </tr>\n",
       "    <tr>\n",
       "      <th>07.11.5258</th>\n",
       "      <td>0</td>\n",
       "      <td>0</td>\n",
       "      <td>0</td>\n",
       "      <td>0</td>\n",
       "      <td>0</td>\n",
       "      <td>0</td>\n",
       "      <td>0</td>\n",
       "      <td>0</td>\n",
       "      <td>0</td>\n",
       "      <td>0</td>\n",
       "      <td>0</td>\n",
       "    </tr>\n",
       "    <tr>\n",
       "      <th>21662-09-9</th>\n",
       "      <td>0</td>\n",
       "      <td>0</td>\n",
       "      <td>0</td>\n",
       "      <td>0</td>\n",
       "      <td>0</td>\n",
       "      <td>0</td>\n",
       "      <td>0</td>\n",
       "      <td>0</td>\n",
       "      <td>0</td>\n",
       "      <td>0</td>\n",
       "      <td>0</td>\n",
       "    </tr>\n",
       "    <tr>\n",
       "      <th>491-04-3</th>\n",
       "      <td>0</td>\n",
       "      <td>0</td>\n",
       "      <td>0</td>\n",
       "      <td>0</td>\n",
       "      <td>0</td>\n",
       "      <td>0</td>\n",
       "      <td>0</td>\n",
       "      <td>0</td>\n",
       "      <td>0</td>\n",
       "      <td>0</td>\n",
       "      <td>0</td>\n",
       "    </tr>\n",
       "    <tr>\n",
       "      <th>...</th>\n",
       "      <td>...</td>\n",
       "      <td>...</td>\n",
       "      <td>...</td>\n",
       "      <td>...</td>\n",
       "      <td>...</td>\n",
       "      <td>...</td>\n",
       "      <td>...</td>\n",
       "      <td>...</td>\n",
       "      <td>...</td>\n",
       "      <td>...</td>\n",
       "      <td>...</td>\n",
       "    </tr>\n",
       "    <tr>\n",
       "      <th>68039-26-9</th>\n",
       "      <td>0</td>\n",
       "      <td>0</td>\n",
       "      <td>0</td>\n",
       "      <td>0</td>\n",
       "      <td>0</td>\n",
       "      <td>0</td>\n",
       "      <td>0</td>\n",
       "      <td>0</td>\n",
       "      <td>0</td>\n",
       "      <td>0</td>\n",
       "      <td>0</td>\n",
       "    </tr>\n",
       "    <tr>\n",
       "      <th>112-42-5</th>\n",
       "      <td>0</td>\n",
       "      <td>0</td>\n",
       "      <td>0</td>\n",
       "      <td>0</td>\n",
       "      <td>0</td>\n",
       "      <td>0</td>\n",
       "      <td>0</td>\n",
       "      <td>0</td>\n",
       "      <td>0</td>\n",
       "      <td>0</td>\n",
       "      <td>0</td>\n",
       "    </tr>\n",
       "    <tr>\n",
       "      <th>39638-67-0</th>\n",
       "      <td>0</td>\n",
       "      <td>0</td>\n",
       "      <td>0</td>\n",
       "      <td>0</td>\n",
       "      <td>0</td>\n",
       "      <td>0</td>\n",
       "      <td>0</td>\n",
       "      <td>0</td>\n",
       "      <td>0</td>\n",
       "      <td>0</td>\n",
       "      <td>0</td>\n",
       "    </tr>\n",
       "    <tr>\n",
       "      <th>80041-01-6</th>\n",
       "      <td>0</td>\n",
       "      <td>0</td>\n",
       "      <td>0</td>\n",
       "      <td>0</td>\n",
       "      <td>0</td>\n",
       "      <td>0</td>\n",
       "      <td>0</td>\n",
       "      <td>0</td>\n",
       "      <td>0</td>\n",
       "      <td>0</td>\n",
       "      <td>0</td>\n",
       "    </tr>\n",
       "    <tr>\n",
       "      <th>55013-32-6</th>\n",
       "      <td>0</td>\n",
       "      <td>0</td>\n",
       "      <td>0</td>\n",
       "      <td>0</td>\n",
       "      <td>0</td>\n",
       "      <td>0</td>\n",
       "      <td>0</td>\n",
       "      <td>0</td>\n",
       "      <td>0</td>\n",
       "      <td>0</td>\n",
       "      <td>0</td>\n",
       "    </tr>\n",
       "  </tbody>\n",
       "</table>\n",
       "<p>150 rows × 11 columns</p>\n",
       "</div>"
      ],
      "text/plain": [
       "            feinty  Green/grassy  Floral  Fruity   Solvently  Soapy  Sweet  \\\n",
       "3033-23-6        0             0       1        0          0      0      1   \n",
       "876-17-5         0             0       0        0          0      0      0   \n",
       "07.11.5258       0             0       0        0          0      0      0   \n",
       "21662-09-9       0             0       0        0          0      0      0   \n",
       "491-04-3         0             0       0        0          0      0      0   \n",
       "...            ...           ...     ...      ...        ...    ...    ...   \n",
       "68039-26-9       0             0       0        0          0      0      0   \n",
       "112-42-5         0             0       0        0          0      0      0   \n",
       "39638-67-0       0             0       0        0          0      0      0   \n",
       "80041-01-6       0             0       0        0          0      0      0   \n",
       "55013-32-6       0             0       0        0          0      0      0   \n",
       "\n",
       "            Woody  Spicy  Sour  Stale  \n",
       "3033-23-6       0      0     0      0  \n",
       "876-17-5        0      0     0      0  \n",
       "07.11.5258      0      0     0      0  \n",
       "21662-09-9      0      0     0      0  \n",
       "491-04-3        0      0     0      0  \n",
       "...           ...    ...   ...    ...  \n",
       "68039-26-9      0      0     0      0  \n",
       "112-42-5        0      0     0      0  \n",
       "39638-67-0      0      0     0      0  \n",
       "80041-01-6      0      0     0      0  \n",
       "55013-32-6      0      0     0      0  \n",
       "\n",
       "[150 rows x 11 columns]"
      ]
     },
     "execution_count": 993,
     "metadata": {},
     "output_type": "execute_result"
    }
   ],
   "source": [
    "OSAs"
   ]
  },
  {
   "cell_type": "code",
   "execution_count": 994,
   "metadata": {},
   "outputs": [
    {
     "data": {
      "text/plain": [
       "150"
      ]
     },
     "execution_count": 994,
     "metadata": {},
     "output_type": "execute_result"
    }
   ],
   "source": [
    "len(I_vector_normalized)"
   ]
  },
  {
   "cell_type": "code",
   "execution_count": 995,
   "metadata": {},
   "outputs": [
    {
     "data": {
      "text/html": [
       "<div>\n",
       "<style scoped>\n",
       "    .dataframe tbody tr th:only-of-type {\n",
       "        vertical-align: middle;\n",
       "    }\n",
       "\n",
       "    .dataframe tbody tr th {\n",
       "        vertical-align: top;\n",
       "    }\n",
       "\n",
       "    .dataframe thead th {\n",
       "        text-align: right;\n",
       "    }\n",
       "</style>\n",
       "<table border=\"1\" class=\"dataframe\">\n",
       "  <thead>\n",
       "    <tr style=\"text-align: right;\">\n",
       "      <th></th>\n",
       "      <th>feinty</th>\n",
       "      <th>Green/grassy</th>\n",
       "      <th>Floral</th>\n",
       "      <th>Fruity</th>\n",
       "      <th>Solvently</th>\n",
       "      <th>Soapy</th>\n",
       "      <th>Sweet</th>\n",
       "      <th>Woody</th>\n",
       "      <th>Spicy</th>\n",
       "      <th>Sour</th>\n",
       "      <th>Stale</th>\n",
       "    </tr>\n",
       "  </thead>\n",
       "  <tbody>\n",
       "    <tr>\n",
       "      <th>3033-23-6</th>\n",
       "      <td>0.0</td>\n",
       "      <td>0.0</td>\n",
       "      <td>0.125069</td>\n",
       "      <td>0.0</td>\n",
       "      <td>0.0</td>\n",
       "      <td>0.0</td>\n",
       "      <td>0.125069</td>\n",
       "      <td>0.0</td>\n",
       "      <td>0.0</td>\n",
       "      <td>0.0</td>\n",
       "      <td>0.0</td>\n",
       "    </tr>\n",
       "    <tr>\n",
       "      <th>876-17-5</th>\n",
       "      <td>0.0</td>\n",
       "      <td>0.0</td>\n",
       "      <td>0.000000</td>\n",
       "      <td>0.0</td>\n",
       "      <td>0.0</td>\n",
       "      <td>0.0</td>\n",
       "      <td>0.000000</td>\n",
       "      <td>0.0</td>\n",
       "      <td>0.0</td>\n",
       "      <td>0.0</td>\n",
       "      <td>0.0</td>\n",
       "    </tr>\n",
       "    <tr>\n",
       "      <th>07.11.5258</th>\n",
       "      <td>0.0</td>\n",
       "      <td>0.0</td>\n",
       "      <td>0.000000</td>\n",
       "      <td>0.0</td>\n",
       "      <td>0.0</td>\n",
       "      <td>0.0</td>\n",
       "      <td>0.000000</td>\n",
       "      <td>0.0</td>\n",
       "      <td>0.0</td>\n",
       "      <td>0.0</td>\n",
       "      <td>0.0</td>\n",
       "    </tr>\n",
       "    <tr>\n",
       "      <th>21662-09-9</th>\n",
       "      <td>0.0</td>\n",
       "      <td>0.0</td>\n",
       "      <td>0.000000</td>\n",
       "      <td>0.0</td>\n",
       "      <td>0.0</td>\n",
       "      <td>0.0</td>\n",
       "      <td>0.000000</td>\n",
       "      <td>0.0</td>\n",
       "      <td>0.0</td>\n",
       "      <td>0.0</td>\n",
       "      <td>0.0</td>\n",
       "    </tr>\n",
       "    <tr>\n",
       "      <th>491-04-3</th>\n",
       "      <td>0.0</td>\n",
       "      <td>0.0</td>\n",
       "      <td>0.000000</td>\n",
       "      <td>0.0</td>\n",
       "      <td>0.0</td>\n",
       "      <td>0.0</td>\n",
       "      <td>0.000000</td>\n",
       "      <td>0.0</td>\n",
       "      <td>0.0</td>\n",
       "      <td>0.0</td>\n",
       "      <td>0.0</td>\n",
       "    </tr>\n",
       "    <tr>\n",
       "      <th>...</th>\n",
       "      <td>...</td>\n",
       "      <td>...</td>\n",
       "      <td>...</td>\n",
       "      <td>...</td>\n",
       "      <td>...</td>\n",
       "      <td>...</td>\n",
       "      <td>...</td>\n",
       "      <td>...</td>\n",
       "      <td>...</td>\n",
       "      <td>...</td>\n",
       "      <td>...</td>\n",
       "    </tr>\n",
       "    <tr>\n",
       "      <th>68039-26-9</th>\n",
       "      <td>0.0</td>\n",
       "      <td>0.0</td>\n",
       "      <td>0.000000</td>\n",
       "      <td>0.0</td>\n",
       "      <td>0.0</td>\n",
       "      <td>0.0</td>\n",
       "      <td>0.000000</td>\n",
       "      <td>0.0</td>\n",
       "      <td>0.0</td>\n",
       "      <td>0.0</td>\n",
       "      <td>0.0</td>\n",
       "    </tr>\n",
       "    <tr>\n",
       "      <th>112-42-5</th>\n",
       "      <td>0.0</td>\n",
       "      <td>0.0</td>\n",
       "      <td>0.000000</td>\n",
       "      <td>0.0</td>\n",
       "      <td>0.0</td>\n",
       "      <td>0.0</td>\n",
       "      <td>0.000000</td>\n",
       "      <td>0.0</td>\n",
       "      <td>0.0</td>\n",
       "      <td>0.0</td>\n",
       "      <td>0.0</td>\n",
       "    </tr>\n",
       "    <tr>\n",
       "      <th>39638-67-0</th>\n",
       "      <td>0.0</td>\n",
       "      <td>0.0</td>\n",
       "      <td>0.000000</td>\n",
       "      <td>0.0</td>\n",
       "      <td>0.0</td>\n",
       "      <td>0.0</td>\n",
       "      <td>0.000000</td>\n",
       "      <td>0.0</td>\n",
       "      <td>0.0</td>\n",
       "      <td>0.0</td>\n",
       "      <td>0.0</td>\n",
       "    </tr>\n",
       "    <tr>\n",
       "      <th>80041-01-6</th>\n",
       "      <td>0.0</td>\n",
       "      <td>0.0</td>\n",
       "      <td>0.000000</td>\n",
       "      <td>0.0</td>\n",
       "      <td>0.0</td>\n",
       "      <td>0.0</td>\n",
       "      <td>0.000000</td>\n",
       "      <td>0.0</td>\n",
       "      <td>0.0</td>\n",
       "      <td>0.0</td>\n",
       "      <td>0.0</td>\n",
       "    </tr>\n",
       "    <tr>\n",
       "      <th>55013-32-6</th>\n",
       "      <td>0.0</td>\n",
       "      <td>0.0</td>\n",
       "      <td>0.000000</td>\n",
       "      <td>0.0</td>\n",
       "      <td>0.0</td>\n",
       "      <td>0.0</td>\n",
       "      <td>0.000000</td>\n",
       "      <td>0.0</td>\n",
       "      <td>0.0</td>\n",
       "      <td>0.0</td>\n",
       "      <td>0.0</td>\n",
       "    </tr>\n",
       "  </tbody>\n",
       "</table>\n",
       "<p>150 rows × 11 columns</p>\n",
       "</div>"
      ],
      "text/plain": [
       "            feinty  Green/grassy    Floral  Fruity   Solvently  Soapy  \\\n",
       "3033-23-6      0.0           0.0  0.125069      0.0        0.0    0.0   \n",
       "876-17-5       0.0           0.0  0.000000      0.0        0.0    0.0   \n",
       "07.11.5258     0.0           0.0  0.000000      0.0        0.0    0.0   \n",
       "21662-09-9     0.0           0.0  0.000000      0.0        0.0    0.0   \n",
       "491-04-3       0.0           0.0  0.000000      0.0        0.0    0.0   \n",
       "...            ...           ...       ...      ...        ...    ...   \n",
       "68039-26-9     0.0           0.0  0.000000      0.0        0.0    0.0   \n",
       "112-42-5       0.0           0.0  0.000000      0.0        0.0    0.0   \n",
       "39638-67-0     0.0           0.0  0.000000      0.0        0.0    0.0   \n",
       "80041-01-6     0.0           0.0  0.000000      0.0        0.0    0.0   \n",
       "55013-32-6     0.0           0.0  0.000000      0.0        0.0    0.0   \n",
       "\n",
       "               Sweet  Woody  Spicy  Sour  Stale  \n",
       "3033-23-6   0.125069    0.0    0.0   0.0    0.0  \n",
       "876-17-5    0.000000    0.0    0.0   0.0    0.0  \n",
       "07.11.5258  0.000000    0.0    0.0   0.0    0.0  \n",
       "21662-09-9  0.000000    0.0    0.0   0.0    0.0  \n",
       "491-04-3    0.000000    0.0    0.0   0.0    0.0  \n",
       "...              ...    ...    ...   ...    ...  \n",
       "68039-26-9  0.000000    0.0    0.0   0.0    0.0  \n",
       "112-42-5    0.000000    0.0    0.0   0.0    0.0  \n",
       "39638-67-0  0.000000    0.0    0.0   0.0    0.0  \n",
       "80041-01-6  0.000000    0.0    0.0   0.0    0.0  \n",
       "55013-32-6  0.000000    0.0    0.0   0.0    0.0  \n",
       "\n",
       "[150 rows x 11 columns]"
      ]
     },
     "execution_count": 995,
     "metadata": {},
     "output_type": "execute_result"
    }
   ],
   "source": [
    "final_OSA = OSAs*I_vector_normalized\n",
    "final_OSA"
   ]
  },
  {
   "cell_type": "code",
   "execution_count": 996,
   "metadata": {},
   "outputs": [
    {
     "data": {
      "text/plain": [
       "feinty          0.476931\n",
       "Green/grassy    3.885389\n",
       "Floral          5.002768\n",
       "Fruity          4.946345\n",
       "Solvently       0.609100\n",
       "Soapy           0.510637\n",
       "Sweet           8.782281\n",
       "Woody           3.695653\n",
       "Spicy           1.250692\n",
       "Sour            0.302036\n",
       "Stale           0.873368\n",
       "dtype: float64"
      ]
     },
     "execution_count": 996,
     "metadata": {},
     "output_type": "execute_result"
    }
   ],
   "source": [
    "final_OSA.sum(axis=0)*10"
   ]
  },
  {
   "attachments": {},
   "cell_type": "markdown",
   "metadata": {},
   "source": [
    "#### 4.2 Fuzzy Logic \n",
    "Use Fuzzy logic to weight OQ with expert knowledge/Intensity from Masspec\n"
   ]
  },
  {
   "cell_type": "code",
   "execution_count": 930,
   "metadata": {},
   "outputs": [
    {
     "data": {
      "text/plain": [
       "{'peaty': ['Burnt', 'Smoky', 'Medicinal', 'peaty'],\n",
       " 'feinty': ['Leathery', 'Tobacco', 'Sweaty', 'feinty'],\n",
       " 'cereal': ['Dry cereals', 'Wet cereals', 'cereal'],\n",
       " 'Green/grassy': ['leafy', 'Herbal', 'Green vegetables', 'Green/grassy'],\n",
       " 'Floral': ['Fresh flowers', 'Perfumed', 'Floral'],\n",
       " 'Fruity ': ['Fresh fruit',\n",
       "  'Dried fruit',\n",
       "  'Citrus',\n",
       "  'Artificial fruit flavourings',\n",
       "  'Fruity '],\n",
       " 'Solvently': ['Nail varnish remover', 'Solvently'],\n",
       " 'Soapy': ['Unperfumed soap', 'Soapy'],\n",
       " 'Sweet': ['Vanilla', 'Honey', 'Toffee', 'Sweet'],\n",
       " 'Woody': ['New wood', 'Okay', 'Woody'],\n",
       " 'Nutty': ['Coconut', 'Nuts', 'Toasted', 'Nutty'],\n",
       " 'Spicy': ['Dried spice', 'Peppery', 'Spicy'],\n",
       " 'Oily': ['Buttery ', 'Waxy', 'Oils/fats', 'Oily'],\n",
       " 'Sour': ['Vinegary', 'Cheesy', 'Vomit', 'Sour'],\n",
       " 'Sulphury': ['Cooked vegetables ',\n",
       "  'Rubbery',\n",
       "  'Struck match ',\n",
       "  'Decaying',\n",
       "  'Meaty ',\n",
       "  'Sulphury'],\n",
       " 'Stale': ['Earthy', 'Musty', 'Metallic', 'Stale']}"
      ]
     },
     "execution_count": 930,
     "metadata": {},
     "output_type": "execute_result"
    }
   ],
   "source": [
    "# list with OSA and corresponding OQs -> look at inner circle of flavorwheel\n",
    "OSAs_corresponding_OQs = dataframe_to_dict(Research_OSA_OQ.drop_duplicates())\n",
    "OSAs_corresponding_OQs"
   ]
  },
  {
   "cell_type": "code",
   "execution_count": 931,
   "metadata": {},
   "outputs": [
    {
     "data": {
      "text/plain": [
       "{'Artificial fruit flavourings',\n",
       " 'Citrus',\n",
       " 'Dried spice',\n",
       " 'Earthy',\n",
       " 'Fresh flowers',\n",
       " 'Fresh fruit',\n",
       " 'Fruity ',\n",
       " 'Green vegetables',\n",
       " 'Nuts',\n",
       " 'Oily',\n",
       " 'Soapy',\n",
       " 'Solvently',\n",
       " 'Spicy',\n",
       " 'Sweaty',\n",
       " 'Sweet',\n",
       " 'Toffee',\n",
       " 'Vomit',\n",
       " 'Woody'}"
      ]
     },
     "execution_count": 931,
     "metadata": {},
     "output_type": "execute_result"
    }
   ],
   "source": [
    "# all found OQs for our mass spec data\n",
    "found_OQs =set(item for sublist in OQ_dict.values() for item in sublist)\n",
    "found_OQs"
   ]
  },
  {
   "cell_type": "markdown",
   "metadata": {},
   "source": [
    "1. normalize OQs"
   ]
  },
  {
   "cell_type": "code",
   "execution_count": 932,
   "metadata": {},
   "outputs": [
    {
     "data": {
      "text/html": [
       "<div>\n",
       "<style scoped>\n",
       "    .dataframe tbody tr th:only-of-type {\n",
       "        vertical-align: middle;\n",
       "    }\n",
       "\n",
       "    .dataframe tbody tr th {\n",
       "        vertical-align: top;\n",
       "    }\n",
       "\n",
       "    .dataframe thead th {\n",
       "        text-align: right;\n",
       "    }\n",
       "</style>\n",
       "<table border=\"1\" class=\"dataframe\">\n",
       "  <thead>\n",
       "    <tr style=\"text-align: right;\">\n",
       "      <th></th>\n",
       "      <th>intensities</th>\n",
       "      <th>OQs</th>\n",
       "    </tr>\n",
       "  </thead>\n",
       "  <tbody>\n",
       "    <tr>\n",
       "      <th>3033-23-6</th>\n",
       "      <td>1.240854e+09</td>\n",
       "      <td>{Fresh flowers, Sweet}</td>\n",
       "    </tr>\n",
       "    <tr>\n",
       "      <th>562-74-3</th>\n",
       "      <td>1.240854e+09</td>\n",
       "      <td>{Dried spice}</td>\n",
       "    </tr>\n",
       "    <tr>\n",
       "      <th>470-67-7</th>\n",
       "      <td>1.240854e+09</td>\n",
       "      <td>{Spicy}</td>\n",
       "    </tr>\n",
       "    <tr>\n",
       "      <th>470-82-6</th>\n",
       "      <td>1.240854e+09</td>\n",
       "      <td>{Sweet}</td>\n",
       "    </tr>\n",
       "    <tr>\n",
       "      <th>2497-25-8</th>\n",
       "      <td>1.240854e+09</td>\n",
       "      <td>{Citrus}</td>\n",
       "    </tr>\n",
       "    <tr>\n",
       "      <th>3913-71-1</th>\n",
       "      <td>1.240854e+09</td>\n",
       "      <td>{Citrus}</td>\n",
       "    </tr>\n",
       "    <tr>\n",
       "      <th>3913-81-3</th>\n",
       "      <td>1.240854e+09</td>\n",
       "      <td>{Citrus}</td>\n",
       "    </tr>\n",
       "    <tr>\n",
       "      <th>4861-58-9</th>\n",
       "      <td>1.240854e+09</td>\n",
       "      <td>{Fruity , Sweet}</td>\n",
       "    </tr>\n",
       "    <tr>\n",
       "      <th>105683-99-6</th>\n",
       "      <td>1.240854e+09</td>\n",
       "      <td>{Green vegetables}</td>\n",
       "    </tr>\n",
       "    <tr>\n",
       "      <th>147159-48-6</th>\n",
       "      <td>1.240854e+09</td>\n",
       "      <td>{Green vegetables}</td>\n",
       "    </tr>\n",
       "    <tr>\n",
       "      <th>619-01-2</th>\n",
       "      <td>1.240854e+09</td>\n",
       "      <td>{Spicy}</td>\n",
       "    </tr>\n",
       "    <tr>\n",
       "      <th>106-24-1</th>\n",
       "      <td>1.240854e+09</td>\n",
       "      <td>{Fresh flowers}</td>\n",
       "    </tr>\n",
       "    <tr>\n",
       "      <th>18675-35-9</th>\n",
       "      <td>1.240854e+09</td>\n",
       "      <td>{Woody, Spicy}</td>\n",
       "    </tr>\n",
       "    <tr>\n",
       "      <th>16750-94-0</th>\n",
       "      <td>1.240854e+09</td>\n",
       "      <td>{Fresh flowers}</td>\n",
       "    </tr>\n",
       "    <tr>\n",
       "      <th>5944-20-7</th>\n",
       "      <td>1.240854e+09</td>\n",
       "      <td>{Fresh flowers}</td>\n",
       "    </tr>\n",
       "    <tr>\n",
       "      <th>106-25-2</th>\n",
       "      <td>1.240854e+09</td>\n",
       "      <td>{Sweet}</td>\n",
       "    </tr>\n",
       "    <tr>\n",
       "      <th>18479-68-0</th>\n",
       "      <td>1.240854e+09</td>\n",
       "      <td>{Fruity }</td>\n",
       "    </tr>\n",
       "    <tr>\n",
       "      <th>17699-16-0</th>\n",
       "      <td>1.240854e+09</td>\n",
       "      <td>{Woody}</td>\n",
       "    </tr>\n",
       "    <tr>\n",
       "      <th>20407-84-5</th>\n",
       "      <td>8.011654e+08</td>\n",
       "      <td>{Sweet}</td>\n",
       "    </tr>\n",
       "    <tr>\n",
       "      <th>1189-09-9</th>\n",
       "      <td>8.011654e+08</td>\n",
       "      <td>{Fruity }</td>\n",
       "    </tr>\n",
       "    <tr>\n",
       "      <th>3943-74-6</th>\n",
       "      <td>8.011654e+08</td>\n",
       "      <td>{Toffee}</td>\n",
       "    </tr>\n",
       "    <tr>\n",
       "      <th>589-75-3</th>\n",
       "      <td>7.203047e+08</td>\n",
       "      <td>{Fruity }</td>\n",
       "    </tr>\n",
       "    <tr>\n",
       "      <th>112-17-4</th>\n",
       "      <td>7.203047e+08</td>\n",
       "      <td>{Citrus, Oily}</td>\n",
       "    </tr>\n",
       "    <tr>\n",
       "      <th>50862-12-9</th>\n",
       "      <td>7.203047e+08</td>\n",
       "      <td>{Fresh fruit}</td>\n",
       "    </tr>\n",
       "    <tr>\n",
       "      <th>21391-99-1</th>\n",
       "      <td>7.203047e+08</td>\n",
       "      <td>{Woody}</td>\n",
       "    </tr>\n",
       "    <tr>\n",
       "      <th>1197-07-5</th>\n",
       "      <td>6.043091e+08</td>\n",
       "      <td>{Solvently}</td>\n",
       "    </tr>\n",
       "    <tr>\n",
       "      <th>2785-89-9</th>\n",
       "      <td>6.043091e+08</td>\n",
       "      <td>{Spicy}</td>\n",
       "    </tr>\n",
       "    <tr>\n",
       "      <th>58615-39-7</th>\n",
       "      <td>6.043091e+08</td>\n",
       "      <td>{Fruity , Sweet}</td>\n",
       "    </tr>\n",
       "    <tr>\n",
       "      <th>1195-92-2</th>\n",
       "      <td>6.043091e+08</td>\n",
       "      <td>{Fruity }</td>\n",
       "    </tr>\n",
       "    <tr>\n",
       "      <th>31823-43-5</th>\n",
       "      <td>5.066202e+08</td>\n",
       "      <td>{Green vegetables}</td>\n",
       "    </tr>\n",
       "    <tr>\n",
       "      <th>698-10-2</th>\n",
       "      <td>5.066202e+08</td>\n",
       "      <td>{Spicy}</td>\n",
       "    </tr>\n",
       "    <tr>\n",
       "      <th>4077-47-8</th>\n",
       "      <td>5.066202e+08</td>\n",
       "      <td>{Sweet}</td>\n",
       "    </tr>\n",
       "    <tr>\n",
       "      <th>4630-82-4</th>\n",
       "      <td>5.066202e+08</td>\n",
       "      <td>{Artificial fruit flavourings, Fruity }</td>\n",
       "    </tr>\n",
       "    <tr>\n",
       "      <th>27538-09-6</th>\n",
       "      <td>5.066202e+08</td>\n",
       "      <td>{Sweet}</td>\n",
       "    </tr>\n",
       "    <tr>\n",
       "      <th>821-55-6</th>\n",
       "      <td>5.066202e+08</td>\n",
       "      <td>{Soapy}</td>\n",
       "    </tr>\n",
       "    <tr>\n",
       "      <th>628-99-9</th>\n",
       "      <td>4.731794e+08</td>\n",
       "      <td>{Green vegetables}</td>\n",
       "    </tr>\n",
       "    <tr>\n",
       "      <th>123-66-0</th>\n",
       "      <td>4.731794e+08</td>\n",
       "      <td>{Fruity }</td>\n",
       "    </tr>\n",
       "    <tr>\n",
       "      <th>25415-67-2</th>\n",
       "      <td>4.731794e+08</td>\n",
       "      <td>{Fruity }</td>\n",
       "    </tr>\n",
       "    <tr>\n",
       "      <th>142-92-7</th>\n",
       "      <td>4.731794e+08</td>\n",
       "      <td>{Fruity }</td>\n",
       "    </tr>\n",
       "    <tr>\n",
       "      <th>7251-61-8</th>\n",
       "      <td>4.731794e+08</td>\n",
       "      <td>{Fruity }</td>\n",
       "    </tr>\n",
       "    <tr>\n",
       "      <th>124-07-2</th>\n",
       "      <td>4.731794e+08</td>\n",
       "      <td>{Sweaty, Sweet}</td>\n",
       "    </tr>\n",
       "    <tr>\n",
       "      <th>72755-76-1</th>\n",
       "      <td>4.731794e+08</td>\n",
       "      <td>{Earthy}</td>\n",
       "    </tr>\n",
       "    <tr>\n",
       "      <th>1365-19-1</th>\n",
       "      <td>4.645706e+08</td>\n",
       "      <td>{Woody}</td>\n",
       "    </tr>\n",
       "    <tr>\n",
       "      <th>113486-29-6</th>\n",
       "      <td>4.645706e+08</td>\n",
       "      <td>{Fruity }</td>\n",
       "    </tr>\n",
       "    <tr>\n",
       "      <th>112-44-7</th>\n",
       "      <td>4.645706e+08</td>\n",
       "      <td>{Oily, Sweet}</td>\n",
       "    </tr>\n",
       "    <tr>\n",
       "      <th>112-12-9</th>\n",
       "      <td>4.645706e+08</td>\n",
       "      <td>{Citrus}</td>\n",
       "    </tr>\n",
       "    <tr>\n",
       "      <th>30361-28-5</th>\n",
       "      <td>3.933192e+08</td>\n",
       "      <td>{Green vegetables}</td>\n",
       "    </tr>\n",
       "    <tr>\n",
       "      <th>38284-27-4</th>\n",
       "      <td>3.933192e+08</td>\n",
       "      <td>{Earthy, Fruity }</td>\n",
       "    </tr>\n",
       "    <tr>\n",
       "      <th>90-05-1</th>\n",
       "      <td>3.933192e+08</td>\n",
       "      <td>{Sweet}</td>\n",
       "    </tr>\n",
       "    <tr>\n",
       "      <th>626-82-4</th>\n",
       "      <td>2.996598e+08</td>\n",
       "      <td>{Fruity }</td>\n",
       "    </tr>\n",
       "    <tr>\n",
       "      <th>334-48-5</th>\n",
       "      <td>2.996598e+08</td>\n",
       "      <td>{Vomit}</td>\n",
       "    </tr>\n",
       "    <tr>\n",
       "      <th>106-32-1</th>\n",
       "      <td>2.996598e+08</td>\n",
       "      <td>{Fruity }</td>\n",
       "    </tr>\n",
       "    <tr>\n",
       "      <th>2051-50-5</th>\n",
       "      <td>2.996598e+08</td>\n",
       "      <td>{Fruity }</td>\n",
       "    </tr>\n",
       "    <tr>\n",
       "      <th>68039-26-9</th>\n",
       "      <td>2.996598e+08</td>\n",
       "      <td>{Fresh fruit}</td>\n",
       "    </tr>\n",
       "    <tr>\n",
       "      <th>55013-32-6</th>\n",
       "      <td>2.984695e+08</td>\n",
       "      <td>{Spicy}</td>\n",
       "    </tr>\n",
       "  </tbody>\n",
       "</table>\n",
       "</div>"
      ],
      "text/plain": [
       "              intensities                                      OQs\n",
       "3033-23-6    1.240854e+09                   {Fresh flowers, Sweet}\n",
       "562-74-3     1.240854e+09                            {Dried spice}\n",
       "470-67-7     1.240854e+09                                  {Spicy}\n",
       "470-82-6     1.240854e+09                                  {Sweet}\n",
       "2497-25-8    1.240854e+09                                 {Citrus}\n",
       "3913-71-1    1.240854e+09                                 {Citrus}\n",
       "3913-81-3    1.240854e+09                                 {Citrus}\n",
       "4861-58-9    1.240854e+09                         {Fruity , Sweet}\n",
       "105683-99-6  1.240854e+09                       {Green vegetables}\n",
       "147159-48-6  1.240854e+09                       {Green vegetables}\n",
       "619-01-2     1.240854e+09                                  {Spicy}\n",
       "106-24-1     1.240854e+09                          {Fresh flowers}\n",
       "18675-35-9   1.240854e+09                           {Woody, Spicy}\n",
       "16750-94-0   1.240854e+09                          {Fresh flowers}\n",
       "5944-20-7    1.240854e+09                          {Fresh flowers}\n",
       "106-25-2     1.240854e+09                                  {Sweet}\n",
       "18479-68-0   1.240854e+09                                {Fruity }\n",
       "17699-16-0   1.240854e+09                                  {Woody}\n",
       "20407-84-5   8.011654e+08                                  {Sweet}\n",
       "1189-09-9    8.011654e+08                                {Fruity }\n",
       "3943-74-6    8.011654e+08                                 {Toffee}\n",
       "589-75-3     7.203047e+08                                {Fruity }\n",
       "112-17-4     7.203047e+08                           {Citrus, Oily}\n",
       "50862-12-9   7.203047e+08                            {Fresh fruit}\n",
       "21391-99-1   7.203047e+08                                  {Woody}\n",
       "1197-07-5    6.043091e+08                              {Solvently}\n",
       "2785-89-9    6.043091e+08                                  {Spicy}\n",
       "58615-39-7   6.043091e+08                         {Fruity , Sweet}\n",
       "1195-92-2    6.043091e+08                                {Fruity }\n",
       "31823-43-5   5.066202e+08                       {Green vegetables}\n",
       "698-10-2     5.066202e+08                                  {Spicy}\n",
       "4077-47-8    5.066202e+08                                  {Sweet}\n",
       "4630-82-4    5.066202e+08  {Artificial fruit flavourings, Fruity }\n",
       "27538-09-6   5.066202e+08                                  {Sweet}\n",
       "821-55-6     5.066202e+08                                  {Soapy}\n",
       "628-99-9     4.731794e+08                       {Green vegetables}\n",
       "123-66-0     4.731794e+08                                {Fruity }\n",
       "25415-67-2   4.731794e+08                                {Fruity }\n",
       "142-92-7     4.731794e+08                                {Fruity }\n",
       "7251-61-8    4.731794e+08                                {Fruity }\n",
       "124-07-2     4.731794e+08                          {Sweaty, Sweet}\n",
       "72755-76-1   4.731794e+08                                 {Earthy}\n",
       "1365-19-1    4.645706e+08                                  {Woody}\n",
       "113486-29-6  4.645706e+08                                {Fruity }\n",
       "112-44-7     4.645706e+08                            {Oily, Sweet}\n",
       "112-12-9     4.645706e+08                                 {Citrus}\n",
       "30361-28-5   3.933192e+08                       {Green vegetables}\n",
       "38284-27-4   3.933192e+08                        {Earthy, Fruity }\n",
       "90-05-1      3.933192e+08                                  {Sweet}\n",
       "626-82-4     2.996598e+08                                {Fruity }\n",
       "334-48-5     2.996598e+08                                  {Vomit}\n",
       "106-32-1     2.996598e+08                                {Fruity }\n",
       "2051-50-5    2.996598e+08                                {Fruity }\n",
       "68039-26-9   2.996598e+08                            {Fresh fruit}\n",
       "55013-32-6   2.984695e+08                                  {Spicy}"
      ]
     },
     "execution_count": 932,
     "metadata": {},
     "output_type": "execute_result"
    }
   ],
   "source": [
    "CAS_intensities_OQs  = final_I_vector.copy()\n",
    "CAS_intensities_OQs[\"OQs\"]= OQ_dict\n",
    "CAS_intensities_OQs"
   ]
  },
  {
   "cell_type": "markdown",
   "metadata": {},
   "source": [
    "add up all intensities per OQ \n",
    "\n",
    "intensity_per_OQ: dict that contains the OQ and the summed up intensities"
   ]
  },
  {
   "cell_type": "code",
   "execution_count": 933,
   "metadata": {},
   "outputs": [],
   "source": [
    "intensity_per_OQ = {}\n",
    "for found_OQ in found_OQs:\n",
    "    for index, row in CAS_intensities_OQs.iterrows():\n",
    "        if found_OQ in row[\"OQs\"]:\n",
    "            if found_OQ in intensity_per_OQ:\n",
    "                intensity_per_OQ[found_OQ] += row[\"intensities\"]\n",
    "            else:\n",
    "                intensity_per_OQ[found_OQ] = row[\"intensities\"]"
   ]
  },
  {
   "cell_type": "code",
   "execution_count": 934,
   "metadata": {},
   "outputs": [],
   "source": [
    "'''\n",
    "normalizes the OQs by dividing each row/cell by the overall intensities, meaning the sum of all intensities\n",
    "'''\n",
    "def normalize_OQs(df_intensities):\n",
    "    normalized_df = pd.DataFrame(columns=[\"normalized_intensities\"])\n",
    "    overall_intensities = df_intensities[\"intensities\"].sum()\n",
    "    normalized_df[\"normalized_intensities\"] = df_intensities/overall_intensities\n",
    "    return(normalized_df)"
   ]
  },
  {
   "cell_type": "code",
   "execution_count": 935,
   "metadata": {},
   "outputs": [],
   "source": [
    "OQ_intensities = pd.DataFrame(intensity_per_OQ.values(), index = intensity_per_OQ.keys(), columns=[\"intensities\"])"
   ]
  },
  {
   "cell_type": "code",
   "execution_count": 936,
   "metadata": {},
   "outputs": [
    {
     "data": {
      "text/html": [
       "<div>\n",
       "<style scoped>\n",
       "    .dataframe tbody tr th:only-of-type {\n",
       "        vertical-align: middle;\n",
       "    }\n",
       "\n",
       "    .dataframe tbody tr th {\n",
       "        vertical-align: top;\n",
       "    }\n",
       "\n",
       "    .dataframe thead th {\n",
       "        text-align: right;\n",
       "    }\n",
       "</style>\n",
       "<table border=\"1\" class=\"dataframe\">\n",
       "  <thead>\n",
       "    <tr style=\"text-align: right;\">\n",
       "      <th></th>\n",
       "      <th>intensities</th>\n",
       "    </tr>\n",
       "  </thead>\n",
       "  <tbody>\n",
       "    <tr>\n",
       "      <th>Artificial fruit flavourings</th>\n",
       "      <td>5.066202e+08</td>\n",
       "    </tr>\n",
       "    <tr>\n",
       "      <th>Oily</th>\n",
       "      <td>1.184875e+09</td>\n",
       "    </tr>\n",
       "    <tr>\n",
       "      <th>Sweaty</th>\n",
       "      <td>4.731794e+08</td>\n",
       "    </tr>\n",
       "    <tr>\n",
       "      <th>Dried spice</th>\n",
       "      <td>1.240854e+09</td>\n",
       "    </tr>\n",
       "    <tr>\n",
       "      <th>Citrus</th>\n",
       "      <td>4.907438e+09</td>\n",
       "    </tr>\n",
       "    <tr>\n",
       "      <th>Fruity</th>\n",
       "      <td>9.368004e+09</td>\n",
       "    </tr>\n",
       "    <tr>\n",
       "      <th>Fresh fruit</th>\n",
       "      <td>1.019965e+09</td>\n",
       "    </tr>\n",
       "    <tr>\n",
       "      <th>Solvently</th>\n",
       "      <td>6.043091e+08</td>\n",
       "    </tr>\n",
       "    <tr>\n",
       "      <th>Soapy</th>\n",
       "      <td>5.066202e+08</td>\n",
       "    </tr>\n",
       "    <tr>\n",
       "      <th>Vomit</th>\n",
       "      <td>2.996598e+08</td>\n",
       "    </tr>\n",
       "    <tr>\n",
       "      <th>Woody</th>\n",
       "      <td>3.666584e+09</td>\n",
       "    </tr>\n",
       "    <tr>\n",
       "      <th>Sweet</th>\n",
       "      <td>8.713201e+09</td>\n",
       "    </tr>\n",
       "    <tr>\n",
       "      <th>Green vegetables</th>\n",
       "      <td>3.854827e+09</td>\n",
       "    </tr>\n",
       "    <tr>\n",
       "      <th>Fresh flowers</th>\n",
       "      <td>4.963417e+09</td>\n",
       "    </tr>\n",
       "    <tr>\n",
       "      <th>Earthy</th>\n",
       "      <td>8.664986e+08</td>\n",
       "    </tr>\n",
       "    <tr>\n",
       "      <th>Toffee</th>\n",
       "      <td>8.011654e+08</td>\n",
       "    </tr>\n",
       "    <tr>\n",
       "      <th>Spicy</th>\n",
       "      <td>5.131961e+09</td>\n",
       "    </tr>\n",
       "  </tbody>\n",
       "</table>\n",
       "</div>"
      ],
      "text/plain": [
       "                               intensities\n",
       "Artificial fruit flavourings  5.066202e+08\n",
       "Oily                          1.184875e+09\n",
       "Sweaty                        4.731794e+08\n",
       "Dried spice                   1.240854e+09\n",
       "Citrus                        4.907438e+09\n",
       "Fruity                        9.368004e+09\n",
       "Fresh fruit                   1.019965e+09\n",
       "Solvently                     6.043091e+08\n",
       "Soapy                         5.066202e+08\n",
       "Vomit                         2.996598e+08\n",
       "Woody                         3.666584e+09\n",
       "Sweet                         8.713201e+09\n",
       "Green vegetables              3.854827e+09\n",
       "Fresh flowers                 4.963417e+09\n",
       "Earthy                        8.664986e+08\n",
       "Toffee                        8.011654e+08\n",
       "Spicy                         5.131961e+09"
      ]
     },
     "execution_count": 936,
     "metadata": {},
     "output_type": "execute_result"
    }
   ],
   "source": [
    "OQ_intensities"
   ]
  },
  {
   "cell_type": "code",
   "execution_count": 937,
   "metadata": {},
   "outputs": [
    {
     "data": {
      "text/html": [
       "<div>\n",
       "<style scoped>\n",
       "    .dataframe tbody tr th:only-of-type {\n",
       "        vertical-align: middle;\n",
       "    }\n",
       "\n",
       "    .dataframe tbody tr th {\n",
       "        vertical-align: top;\n",
       "    }\n",
       "\n",
       "    .dataframe thead th {\n",
       "        text-align: right;\n",
       "    }\n",
       "</style>\n",
       "<table border=\"1\" class=\"dataframe\">\n",
       "  <thead>\n",
       "    <tr style=\"text-align: right;\">\n",
       "      <th></th>\n",
       "      <th>normalized_intensities</th>\n",
       "    </tr>\n",
       "  </thead>\n",
       "  <tbody>\n",
       "    <tr>\n",
       "      <th>Artificial fruit flavourings</th>\n",
       "      <td>0.010531</td>\n",
       "    </tr>\n",
       "    <tr>\n",
       "      <th>Oily</th>\n",
       "      <td>0.024629</td>\n",
       "    </tr>\n",
       "    <tr>\n",
       "      <th>Sweaty</th>\n",
       "      <td>0.009836</td>\n",
       "    </tr>\n",
       "    <tr>\n",
       "      <th>Dried spice</th>\n",
       "      <td>0.025792</td>\n",
       "    </tr>\n",
       "    <tr>\n",
       "      <th>Citrus</th>\n",
       "      <td>0.102006</td>\n",
       "    </tr>\n",
       "    <tr>\n",
       "      <th>Fruity</th>\n",
       "      <td>0.194724</td>\n",
       "    </tr>\n",
       "    <tr>\n",
       "      <th>Fresh fruit</th>\n",
       "      <td>0.021201</td>\n",
       "    </tr>\n",
       "    <tr>\n",
       "      <th>Solvently</th>\n",
       "      <td>0.012561</td>\n",
       "    </tr>\n",
       "    <tr>\n",
       "      <th>Soapy</th>\n",
       "      <td>0.010531</td>\n",
       "    </tr>\n",
       "    <tr>\n",
       "      <th>Vomit</th>\n",
       "      <td>0.006229</td>\n",
       "    </tr>\n",
       "    <tr>\n",
       "      <th>Woody</th>\n",
       "      <td>0.076214</td>\n",
       "    </tr>\n",
       "    <tr>\n",
       "      <th>Sweet</th>\n",
       "      <td>0.181113</td>\n",
       "    </tr>\n",
       "    <tr>\n",
       "      <th>Green vegetables</th>\n",
       "      <td>0.080127</td>\n",
       "    </tr>\n",
       "    <tr>\n",
       "      <th>Fresh flowers</th>\n",
       "      <td>0.103170</td>\n",
       "    </tr>\n",
       "    <tr>\n",
       "      <th>Earthy</th>\n",
       "      <td>0.018011</td>\n",
       "    </tr>\n",
       "    <tr>\n",
       "      <th>Toffee</th>\n",
       "      <td>0.016653</td>\n",
       "    </tr>\n",
       "    <tr>\n",
       "      <th>Spicy</th>\n",
       "      <td>0.106673</td>\n",
       "    </tr>\n",
       "  </tbody>\n",
       "</table>\n",
       "</div>"
      ],
      "text/plain": [
       "                              normalized_intensities\n",
       "Artificial fruit flavourings                0.010531\n",
       "Oily                                        0.024629\n",
       "Sweaty                                      0.009836\n",
       "Dried spice                                 0.025792\n",
       "Citrus                                      0.102006\n",
       "Fruity                                      0.194724\n",
       "Fresh fruit                                 0.021201\n",
       "Solvently                                   0.012561\n",
       "Soapy                                       0.010531\n",
       "Vomit                                       0.006229\n",
       "Woody                                       0.076214\n",
       "Sweet                                       0.181113\n",
       "Green vegetables                            0.080127\n",
       "Fresh flowers                               0.103170\n",
       "Earthy                                      0.018011\n",
       "Toffee                                      0.016653\n",
       "Spicy                                       0.106673"
      ]
     },
     "execution_count": 937,
     "metadata": {},
     "output_type": "execute_result"
    }
   ],
   "source": [
    "normalized_OQ_intensities = normalize_OQs(OQ_intensities)\n",
    "normalized_OQ_intensities"
   ]
  },
  {
   "cell_type": "markdown",
   "metadata": {},
   "source": [
    "2. Looking at each OSA indiviudally to find intensity"
   ]
  },
  {
   "cell_type": "code",
   "execution_count": 938,
   "metadata": {},
   "outputs": [],
   "source": [
    "'''\n",
    "find all OQs that are corresponding to one specific OSA\n",
    "'''\n",
    "def find_OQ_per_OSA_with_intensities(OSA):\n",
    "    OQ_per_OSA = {}\n",
    "    for consisting_OQs in OSAs_corresponding_OQs[OSA]:\n",
    "        if consisting_OQs in normalized_OQ_intensities.index:\n",
    "            OQ_per_OSA[consisting_OQs] = normalized_OQ_intensities.loc[consisting_OQs]\n",
    "    # normalize so that all intensities per OSA sums up to 1\n",
    "    df_OQ_per_OSA = pd.DataFrame(OQ_per_OSA).T\n",
    "    if len(OQ_per_OSA)==0:\n",
    "        df_OQ_per_OSA['normalized_intensities']=0\n",
    "    df_OQ_per_OSA = df_OQ_per_OSA.div(df_OQ_per_OSA['normalized_intensities'].sum())\n",
    "    return(df_OQ_per_OSA)"
   ]
  },
  {
   "cell_type": "markdown",
   "metadata": {},
   "source": [
    "equation_2:\n",
    "The function µ(𝑥) is defined as:\n",
    "\n",
    "$$\n",
    "\\mu(𝑥) =\n",
    "\\begin{cases}\n",
    "0 & \\text{if } 𝑥 ≤ 𝑎_1 \\\\\n",
    "\\frac{𝑥−𝑎_1}{𝑎_2−𝑎_1} & \\text{if } 𝑎_1 < 𝑥 ≤ 𝑎_2 \\\\\n",
    "1 & \\text{if } 𝑎_2 < 𝑥 ≤ 𝑎_3 \\\\\n",
    "\\frac{𝑎_4−𝑥}{𝑎_4−𝑎_3} & \\text{if } 𝑎_3 < 𝑥 ≤ 𝑎_4 \\\\\n",
    "0 & \\text{if } 𝑎_4 < 𝑥 \\\\\n",
    "\\end{cases}\n",
    "$$\n"
   ]
  },
  {
   "cell_type": "code",
   "execution_count": 939,
   "metadata": {},
   "outputs": [],
   "source": [
    "#most of the time -> TODO: optimize these with cross validation  \n",
    "a1 = 0\n",
    "a2 = 0\n",
    "a3 = 0.33\n",
    "a4 = 1"
   ]
  },
  {
   "cell_type": "code",
   "execution_count": 940,
   "metadata": {},
   "outputs": [],
   "source": [
    "def equation_2(x,a1,a2,a3,a4):\n",
    "    if x <= a1:\n",
    "        µ = 0\n",
    "    elif a1 < x and x <= a2:\n",
    "        µ = (x-a1)/(a2-a1)\n",
    "    elif a2 < x and x <= a3:\n",
    "        µ = 1\n",
    "    elif a3 < x and x <= a4:\n",
    "        µ = (a4-x)/(a4-a3)\n",
    "    elif a4 < x:\n",
    "        µ = 0\n",
    "    return µ"
   ]
  },
  {
   "cell_type": "markdown",
   "metadata": {},
   "source": [
    "equation3: \n",
    "\n",
    "𝐼𝑛𝑡𝑒𝑛𝑠𝑖𝑡𝑦(𝑂𝑆𝐴) = 10 × ∏^i 1 µ(𝑂𝑄𝑖)"
   ]
  },
  {
   "cell_type": "code",
   "execution_count": 941,
   "metadata": {},
   "outputs": [],
   "source": [
    "def equation_3(µ_OQs_list):\n",
    "    intensity_OSA = 10 * np.prod(µ_OQs_list)\n",
    "    return(intensity_OSA)\n"
   ]
  },
  {
   "cell_type": "markdown",
   "metadata": {},
   "source": [
    "e.g. with OSA sweet"
   ]
  },
  {
   "cell_type": "code",
   "execution_count": 942,
   "metadata": {},
   "outputs": [
    {
     "data": {
      "text/plain": [
       "['Vanilla', 'Honey', 'Toffee', 'Sweet']"
      ]
     },
     "execution_count": 942,
     "metadata": {},
     "output_type": "execute_result"
    }
   ],
   "source": [
    "# e.g sweet consists of: OQs ['Vanilla', 'Honey', 'Toffee', 'Sweet']\n",
    "OSAs_corresponding_OQs['Sweet']"
   ]
  },
  {
   "cell_type": "code",
   "execution_count": 943,
   "metadata": {},
   "outputs": [],
   "source": [
    "# sweet \n",
    "sweet = find_OQ_per_OSA_with_intensities('Sweet')"
   ]
  },
  {
   "cell_type": "code",
   "execution_count": 944,
   "metadata": {},
   "outputs": [
    {
     "data": {
      "text/html": [
       "<div>\n",
       "<style scoped>\n",
       "    .dataframe tbody tr th:only-of-type {\n",
       "        vertical-align: middle;\n",
       "    }\n",
       "\n",
       "    .dataframe tbody tr th {\n",
       "        vertical-align: top;\n",
       "    }\n",
       "\n",
       "    .dataframe thead th {\n",
       "        text-align: right;\n",
       "    }\n",
       "</style>\n",
       "<table border=\"1\" class=\"dataframe\">\n",
       "  <thead>\n",
       "    <tr style=\"text-align: right;\">\n",
       "      <th></th>\n",
       "      <th>normalized_intensities</th>\n",
       "    </tr>\n",
       "  </thead>\n",
       "  <tbody>\n",
       "    <tr>\n",
       "      <th>Toffee</th>\n",
       "      <td>0.084206</td>\n",
       "    </tr>\n",
       "    <tr>\n",
       "      <th>Sweet</th>\n",
       "      <td>0.915794</td>\n",
       "    </tr>\n",
       "  </tbody>\n",
       "</table>\n",
       "</div>"
      ],
      "text/plain": [
       "        normalized_intensities\n",
       "Toffee                0.084206\n",
       "Sweet                 0.915794"
      ]
     },
     "execution_count": 944,
     "metadata": {},
     "output_type": "execute_result"
    }
   ],
   "source": [
    "sweet"
   ]
  },
  {
   "cell_type": "code",
   "execution_count": 945,
   "metadata": {},
   "outputs": [
    {
     "data": {
      "text/plain": [
       "'OQ1 = equation_2(sweet.loc[\"Sweet\"][\"normalized_intensities\"],a1,a2,0.33,a4)\\nOQ2= equation_2(sweet.loc[\"Vanilla\"][\"normalized_intensities\"],a1,a2,0.033,a4)\\nOQ3= equation_2(sweet.loc[\"Toffee\"][\"normalized_intensities\"],a1,a2,0.043,a4)\\nequation_3([OQ1,OQ2,OQ3]) '"
      ]
     },
     "execution_count": 945,
     "metadata": {},
     "output_type": "execute_result"
    }
   ],
   "source": [
    "'''OQ1 = equation_2(sweet.loc[\"Sweet\"][\"normalized_intensities\"],a1,a2,0.33,a4)\n",
    "OQ2= equation_2(sweet.loc[\"Vanilla\"][\"normalized_intensities\"],a1,a2,0.033,a4)\n",
    "OQ3= equation_2(sweet.loc[\"Toffee\"][\"normalized_intensities\"],a1,a2,0.043,a4)\n",
    "equation_3([OQ1,OQ2,OQ3]) '''"
   ]
  },
  {
   "cell_type": "markdown",
   "metadata": {},
   "source": [
    "for all OSAs"
   ]
  },
  {
   "cell_type": "code",
   "execution_count": 946,
   "metadata": {},
   "outputs": [],
   "source": [
    "all_OSAs = list(OSAs_corresponding_OQs.keys())"
   ]
  },
  {
   "cell_type": "code",
   "execution_count": 947,
   "metadata": {},
   "outputs": [],
   "source": [
    "OSAs_int = {}\n",
    "for OSA in all_OSAs: \n",
    "   OSAs_int[OSA] = 0\n",
    "   current_OSA = find_OQ_per_OSA_with_intensities(OSA)\n",
    "   OQ_int = []\n",
    "   for OQ in current_OSA.index:\n",
    "      OQ_int.append(equation_2(current_OSA.loc[OQ][\"normalized_intensities\"],a1,a2,a3,a4))\n",
    "   OSAs_int[OSA] = equation_3(OQ_int)"
   ]
  },
  {
   "cell_type": "code",
   "execution_count": 948,
   "metadata": {},
   "outputs": [
    {
     "data": {
      "text/plain": [
       "{'peaty': 10.0,\n",
       " 'feinty': 0.0,\n",
       " 'cereal': 10.0,\n",
       " 'Green/grassy': 0.0,\n",
       " 'Floral': 0.0,\n",
       " 'Fruity ': 6.07708062340634,\n",
       " 'Solvently': 0.0,\n",
       " 'Soapy': 0.0,\n",
       " 'Sweet': 1.256803921146227,\n",
       " 'Woody': 0.0,\n",
       " 'Nutty': 10.0,\n",
       " 'Spicy': 2.906127058957573,\n",
       " 'Oily': 0.0,\n",
       " 'Sour': 0.0,\n",
       " 'Sulphury': 10.0,\n",
       " 'Stale': 0.0}"
      ]
     },
     "execution_count": 948,
     "metadata": {},
     "output_type": "execute_result"
    }
   ],
   "source": [
    "OSAs_int"
   ]
  },
  {
   "cell_type": "code",
   "execution_count": 949,
   "metadata": {},
   "outputs": [],
   "source": [
    "df_OSAs_int = pd.DataFrame(OSAs_int.values(), index = OSAs_int.keys(), columns = [\"Intensities\"])"
   ]
  },
  {
   "cell_type": "code",
   "execution_count": 950,
   "metadata": {},
   "outputs": [
    {
     "data": {
      "text/html": [
       "<div>\n",
       "<style scoped>\n",
       "    .dataframe tbody tr th:only-of-type {\n",
       "        vertical-align: middle;\n",
       "    }\n",
       "\n",
       "    .dataframe tbody tr th {\n",
       "        vertical-align: top;\n",
       "    }\n",
       "\n",
       "    .dataframe thead th {\n",
       "        text-align: right;\n",
       "    }\n",
       "</style>\n",
       "<table border=\"1\" class=\"dataframe\">\n",
       "  <thead>\n",
       "    <tr style=\"text-align: right;\">\n",
       "      <th></th>\n",
       "      <th>Intensities</th>\n",
       "    </tr>\n",
       "  </thead>\n",
       "  <tbody>\n",
       "    <tr>\n",
       "      <th>peaty</th>\n",
       "      <td>10.000000</td>\n",
       "    </tr>\n",
       "    <tr>\n",
       "      <th>feinty</th>\n",
       "      <td>0.000000</td>\n",
       "    </tr>\n",
       "    <tr>\n",
       "      <th>cereal</th>\n",
       "      <td>10.000000</td>\n",
       "    </tr>\n",
       "    <tr>\n",
       "      <th>Green/grassy</th>\n",
       "      <td>0.000000</td>\n",
       "    </tr>\n",
       "    <tr>\n",
       "      <th>Floral</th>\n",
       "      <td>0.000000</td>\n",
       "    </tr>\n",
       "    <tr>\n",
       "      <th>Fruity</th>\n",
       "      <td>6.077081</td>\n",
       "    </tr>\n",
       "    <tr>\n",
       "      <th>Solvently</th>\n",
       "      <td>0.000000</td>\n",
       "    </tr>\n",
       "    <tr>\n",
       "      <th>Soapy</th>\n",
       "      <td>0.000000</td>\n",
       "    </tr>\n",
       "    <tr>\n",
       "      <th>Sweet</th>\n",
       "      <td>1.256804</td>\n",
       "    </tr>\n",
       "    <tr>\n",
       "      <th>Woody</th>\n",
       "      <td>0.000000</td>\n",
       "    </tr>\n",
       "    <tr>\n",
       "      <th>Nutty</th>\n",
       "      <td>10.000000</td>\n",
       "    </tr>\n",
       "    <tr>\n",
       "      <th>Spicy</th>\n",
       "      <td>2.906127</td>\n",
       "    </tr>\n",
       "    <tr>\n",
       "      <th>Oily</th>\n",
       "      <td>0.000000</td>\n",
       "    </tr>\n",
       "    <tr>\n",
       "      <th>Sour</th>\n",
       "      <td>0.000000</td>\n",
       "    </tr>\n",
       "    <tr>\n",
       "      <th>Sulphury</th>\n",
       "      <td>10.000000</td>\n",
       "    </tr>\n",
       "    <tr>\n",
       "      <th>Stale</th>\n",
       "      <td>0.000000</td>\n",
       "    </tr>\n",
       "  </tbody>\n",
       "</table>\n",
       "</div>"
      ],
      "text/plain": [
       "              Intensities\n",
       "peaty           10.000000\n",
       "feinty           0.000000\n",
       "cereal          10.000000\n",
       "Green/grassy     0.000000\n",
       "Floral           0.000000\n",
       "Fruity           6.077081\n",
       "Solvently        0.000000\n",
       "Soapy            0.000000\n",
       "Sweet            1.256804\n",
       "Woody            0.000000\n",
       "Nutty           10.000000\n",
       "Spicy            2.906127\n",
       "Oily             0.000000\n",
       "Sour             0.000000\n",
       "Sulphury        10.000000\n",
       "Stale            0.000000"
      ]
     },
     "execution_count": 950,
     "metadata": {},
     "output_type": "execute_result"
    }
   ],
   "source": [
    "df_OSAs_int"
   ]
  },
  {
   "cell_type": "code",
   "execution_count": 951,
   "metadata": {},
   "outputs": [
    {
     "data": {
      "text/html": [
       "<div>\n",
       "<style scoped>\n",
       "    .dataframe tbody tr th:only-of-type {\n",
       "        vertical-align: middle;\n",
       "    }\n",
       "\n",
       "    .dataframe tbody tr th {\n",
       "        vertical-align: top;\n",
       "    }\n",
       "\n",
       "    .dataframe thead th {\n",
       "        text-align: right;\n",
       "    }\n",
       "</style>\n",
       "<table border=\"1\" class=\"dataframe\">\n",
       "  <thead>\n",
       "    <tr style=\"text-align: right;\">\n",
       "      <th></th>\n",
       "      <th>Intensities</th>\n",
       "    </tr>\n",
       "  </thead>\n",
       "  <tbody>\n",
       "    <tr>\n",
       "      <th>peaty</th>\n",
       "      <td>10.000000</td>\n",
       "    </tr>\n",
       "    <tr>\n",
       "      <th>cereal</th>\n",
       "      <td>10.000000</td>\n",
       "    </tr>\n",
       "    <tr>\n",
       "      <th>Fruity</th>\n",
       "      <td>6.077081</td>\n",
       "    </tr>\n",
       "    <tr>\n",
       "      <th>Sweet</th>\n",
       "      <td>1.256804</td>\n",
       "    </tr>\n",
       "    <tr>\n",
       "      <th>Nutty</th>\n",
       "      <td>10.000000</td>\n",
       "    </tr>\n",
       "    <tr>\n",
       "      <th>Spicy</th>\n",
       "      <td>2.906127</td>\n",
       "    </tr>\n",
       "    <tr>\n",
       "      <th>Sulphury</th>\n",
       "      <td>10.000000</td>\n",
       "    </tr>\n",
       "  </tbody>\n",
       "</table>\n",
       "</div>"
      ],
      "text/plain": [
       "          Intensities\n",
       "peaty       10.000000\n",
       "cereal      10.000000\n",
       "Fruity       6.077081\n",
       "Sweet        1.256804\n",
       "Nutty       10.000000\n",
       "Spicy        2.906127\n",
       "Sulphury    10.000000"
      ]
     },
     "execution_count": 951,
     "metadata": {},
     "output_type": "execute_result"
    }
   ],
   "source": [
    "plot_fuzzy_OSA = df_OSAs_int[df_OSAs_int['Intensities'] != 0]\n",
    "plot_fuzzy_OSA"
   ]
  },
  {
   "cell_type": "code",
   "execution_count": 952,
   "metadata": {},
   "outputs": [
    {
     "data": {
      "text/plain": [
       "Index(['peaty', 'cereal', 'Fruity ', 'Sweet', 'Nutty', 'Spicy', 'Sulphury'], dtype='object')"
      ]
     },
     "execution_count": 952,
     "metadata": {},
     "output_type": "execute_result"
    }
   ],
   "source": [
    "plot_fuzzy_OSA.index"
   ]
  },
  {
   "cell_type": "markdown",
   "metadata": {},
   "source": [
    "40,30,50,40,30,40,30,40,60\n",
    "40,30,50,30,40,30,50,20,40\n",
    "40,30,50,30,40,30,50,20,40\n",
    "floral,fruit,wood,complexity,malt,sweet,peat,dried_fruits,aftertaste,date\n",
    "\n",
    "[3,4,0,0,0,0,0]"
   ]
  },
  {
   "cell_type": "markdown",
   "metadata": {},
   "source": [
    "optimization with cross validation LOO"
   ]
  },
  {
   "attachments": {},
   "cell_type": "markdown",
   "metadata": {},
   "source": [
    "#### 4.3 Comparison BM and FL"
   ]
  },
  {
   "cell_type": "code",
   "execution_count": 997,
   "metadata": {},
   "outputs": [
    {
     "data": {
      "text/plain": [
       "array([0.47693085, 3.88538917, 5.00276794, 4.94634517, 0.60910024,\n",
       "       0.51063685, 8.78228128, 3.69565319, 1.25069199, 0.3020356 ,\n",
       "       0.87336835])"
      ]
     },
     "execution_count": 997,
     "metadata": {},
     "output_type": "execute_result"
    }
   ],
   "source": [
    "np.array(final_OSA.sum()*10)"
   ]
  },
  {
   "cell_type": "code",
   "execution_count": 998,
   "metadata": {},
   "outputs": [
    {
     "data": {
      "text/plain": [
       "Index(['feinty', 'Green/grassy', 'Floral', 'Fruity ', 'Solvently', 'Soapy',\n",
       "       'Sweet', 'Woody', 'Spicy', 'Sour', 'Stale'],\n",
       "      dtype='object')"
      ]
     },
     "execution_count": 998,
     "metadata": {},
     "output_type": "execute_result"
    }
   ],
   "source": [
    "final_OSA.columns"
   ]
  },
  {
   "cell_type": "code",
   "execution_count": 999,
   "metadata": {},
   "outputs": [
    {
     "data": {
      "application/vnd.plotly.v1+json": {
       "config": {
        "plotlyServerURL": "https://plot.ly"
       },
       "data": [
        {
         "fill": "toself",
         "name": "ms fuzzy",
         "r": [
          10,
          10,
          6.07708062340634,
          1.256803921146227,
          10,
          2.906127058957573,
          10
         ],
         "theta": [
          "peaty",
          "cereal",
          "Fruity ",
          "Sweet",
          "Nutty",
          "Spicy",
          "Sulphury"
         ],
         "type": "scatterpolar"
        },
        {
         "fill": "toself",
         "name": "ms binary",
         "r": [
          0.7776613,
          23.58432344,
          1.00636248,
          16.65879529,
          0.50338256,
          1.16029695,
          0.75458068
         ],
         "theta": [
          "peaty",
          "cereal",
          "Fruity ",
          "Sweet",
          "Nutty",
          "Spicy",
          "Sulphury"
         ],
         "type": "scatterpolar"
        },
        {
         "fill": "toself",
         "name": "panelist 1",
         "r": [
          3,
          4,
          0,
          0,
          0,
          0,
          0
         ],
         "theta": [
          "peaty",
          "cereal",
          "Fruity ",
          "Sweet",
          "Nutty",
          "Spicy",
          "Sulphury"
         ],
         "type": "scatterpolar"
        }
       ],
       "layout": {
        "polar": {
         "radialaxis": {
          "range": [
           0,
           10
          ],
          "visible": true
         }
        },
        "showlegend": false,
        "template": {
         "data": {
          "bar": [
           {
            "error_x": {
             "color": "#2a3f5f"
            },
            "error_y": {
             "color": "#2a3f5f"
            },
            "marker": {
             "line": {
              "color": "#E5ECF6",
              "width": 0.5
             },
             "pattern": {
              "fillmode": "overlay",
              "size": 10,
              "solidity": 0.2
             }
            },
            "type": "bar"
           }
          ],
          "barpolar": [
           {
            "marker": {
             "line": {
              "color": "#E5ECF6",
              "width": 0.5
             },
             "pattern": {
              "fillmode": "overlay",
              "size": 10,
              "solidity": 0.2
             }
            },
            "type": "barpolar"
           }
          ],
          "carpet": [
           {
            "aaxis": {
             "endlinecolor": "#2a3f5f",
             "gridcolor": "white",
             "linecolor": "white",
             "minorgridcolor": "white",
             "startlinecolor": "#2a3f5f"
            },
            "baxis": {
             "endlinecolor": "#2a3f5f",
             "gridcolor": "white",
             "linecolor": "white",
             "minorgridcolor": "white",
             "startlinecolor": "#2a3f5f"
            },
            "type": "carpet"
           }
          ],
          "choropleth": [
           {
            "colorbar": {
             "outlinewidth": 0,
             "ticks": ""
            },
            "type": "choropleth"
           }
          ],
          "contour": [
           {
            "colorbar": {
             "outlinewidth": 0,
             "ticks": ""
            },
            "colorscale": [
             [
              0,
              "#0d0887"
             ],
             [
              0.1111111111111111,
              "#46039f"
             ],
             [
              0.2222222222222222,
              "#7201a8"
             ],
             [
              0.3333333333333333,
              "#9c179e"
             ],
             [
              0.4444444444444444,
              "#bd3786"
             ],
             [
              0.5555555555555556,
              "#d8576b"
             ],
             [
              0.6666666666666666,
              "#ed7953"
             ],
             [
              0.7777777777777778,
              "#fb9f3a"
             ],
             [
              0.8888888888888888,
              "#fdca26"
             ],
             [
              1,
              "#f0f921"
             ]
            ],
            "type": "contour"
           }
          ],
          "contourcarpet": [
           {
            "colorbar": {
             "outlinewidth": 0,
             "ticks": ""
            },
            "type": "contourcarpet"
           }
          ],
          "heatmap": [
           {
            "colorbar": {
             "outlinewidth": 0,
             "ticks": ""
            },
            "colorscale": [
             [
              0,
              "#0d0887"
             ],
             [
              0.1111111111111111,
              "#46039f"
             ],
             [
              0.2222222222222222,
              "#7201a8"
             ],
             [
              0.3333333333333333,
              "#9c179e"
             ],
             [
              0.4444444444444444,
              "#bd3786"
             ],
             [
              0.5555555555555556,
              "#d8576b"
             ],
             [
              0.6666666666666666,
              "#ed7953"
             ],
             [
              0.7777777777777778,
              "#fb9f3a"
             ],
             [
              0.8888888888888888,
              "#fdca26"
             ],
             [
              1,
              "#f0f921"
             ]
            ],
            "type": "heatmap"
           }
          ],
          "heatmapgl": [
           {
            "colorbar": {
             "outlinewidth": 0,
             "ticks": ""
            },
            "colorscale": [
             [
              0,
              "#0d0887"
             ],
             [
              0.1111111111111111,
              "#46039f"
             ],
             [
              0.2222222222222222,
              "#7201a8"
             ],
             [
              0.3333333333333333,
              "#9c179e"
             ],
             [
              0.4444444444444444,
              "#bd3786"
             ],
             [
              0.5555555555555556,
              "#d8576b"
             ],
             [
              0.6666666666666666,
              "#ed7953"
             ],
             [
              0.7777777777777778,
              "#fb9f3a"
             ],
             [
              0.8888888888888888,
              "#fdca26"
             ],
             [
              1,
              "#f0f921"
             ]
            ],
            "type": "heatmapgl"
           }
          ],
          "histogram": [
           {
            "marker": {
             "pattern": {
              "fillmode": "overlay",
              "size": 10,
              "solidity": 0.2
             }
            },
            "type": "histogram"
           }
          ],
          "histogram2d": [
           {
            "colorbar": {
             "outlinewidth": 0,
             "ticks": ""
            },
            "colorscale": [
             [
              0,
              "#0d0887"
             ],
             [
              0.1111111111111111,
              "#46039f"
             ],
             [
              0.2222222222222222,
              "#7201a8"
             ],
             [
              0.3333333333333333,
              "#9c179e"
             ],
             [
              0.4444444444444444,
              "#bd3786"
             ],
             [
              0.5555555555555556,
              "#d8576b"
             ],
             [
              0.6666666666666666,
              "#ed7953"
             ],
             [
              0.7777777777777778,
              "#fb9f3a"
             ],
             [
              0.8888888888888888,
              "#fdca26"
             ],
             [
              1,
              "#f0f921"
             ]
            ],
            "type": "histogram2d"
           }
          ],
          "histogram2dcontour": [
           {
            "colorbar": {
             "outlinewidth": 0,
             "ticks": ""
            },
            "colorscale": [
             [
              0,
              "#0d0887"
             ],
             [
              0.1111111111111111,
              "#46039f"
             ],
             [
              0.2222222222222222,
              "#7201a8"
             ],
             [
              0.3333333333333333,
              "#9c179e"
             ],
             [
              0.4444444444444444,
              "#bd3786"
             ],
             [
              0.5555555555555556,
              "#d8576b"
             ],
             [
              0.6666666666666666,
              "#ed7953"
             ],
             [
              0.7777777777777778,
              "#fb9f3a"
             ],
             [
              0.8888888888888888,
              "#fdca26"
             ],
             [
              1,
              "#f0f921"
             ]
            ],
            "type": "histogram2dcontour"
           }
          ],
          "mesh3d": [
           {
            "colorbar": {
             "outlinewidth": 0,
             "ticks": ""
            },
            "type": "mesh3d"
           }
          ],
          "parcoords": [
           {
            "line": {
             "colorbar": {
              "outlinewidth": 0,
              "ticks": ""
             }
            },
            "type": "parcoords"
           }
          ],
          "pie": [
           {
            "automargin": true,
            "type": "pie"
           }
          ],
          "scatter": [
           {
            "fillpattern": {
             "fillmode": "overlay",
             "size": 10,
             "solidity": 0.2
            },
            "type": "scatter"
           }
          ],
          "scatter3d": [
           {
            "line": {
             "colorbar": {
              "outlinewidth": 0,
              "ticks": ""
             }
            },
            "marker": {
             "colorbar": {
              "outlinewidth": 0,
              "ticks": ""
             }
            },
            "type": "scatter3d"
           }
          ],
          "scattercarpet": [
           {
            "marker": {
             "colorbar": {
              "outlinewidth": 0,
              "ticks": ""
             }
            },
            "type": "scattercarpet"
           }
          ],
          "scattergeo": [
           {
            "marker": {
             "colorbar": {
              "outlinewidth": 0,
              "ticks": ""
             }
            },
            "type": "scattergeo"
           }
          ],
          "scattergl": [
           {
            "marker": {
             "colorbar": {
              "outlinewidth": 0,
              "ticks": ""
             }
            },
            "type": "scattergl"
           }
          ],
          "scattermapbox": [
           {
            "marker": {
             "colorbar": {
              "outlinewidth": 0,
              "ticks": ""
             }
            },
            "type": "scattermapbox"
           }
          ],
          "scatterpolar": [
           {
            "marker": {
             "colorbar": {
              "outlinewidth": 0,
              "ticks": ""
             }
            },
            "type": "scatterpolar"
           }
          ],
          "scatterpolargl": [
           {
            "marker": {
             "colorbar": {
              "outlinewidth": 0,
              "ticks": ""
             }
            },
            "type": "scatterpolargl"
           }
          ],
          "scatterternary": [
           {
            "marker": {
             "colorbar": {
              "outlinewidth": 0,
              "ticks": ""
             }
            },
            "type": "scatterternary"
           }
          ],
          "surface": [
           {
            "colorbar": {
             "outlinewidth": 0,
             "ticks": ""
            },
            "colorscale": [
             [
              0,
              "#0d0887"
             ],
             [
              0.1111111111111111,
              "#46039f"
             ],
             [
              0.2222222222222222,
              "#7201a8"
             ],
             [
              0.3333333333333333,
              "#9c179e"
             ],
             [
              0.4444444444444444,
              "#bd3786"
             ],
             [
              0.5555555555555556,
              "#d8576b"
             ],
             [
              0.6666666666666666,
              "#ed7953"
             ],
             [
              0.7777777777777778,
              "#fb9f3a"
             ],
             [
              0.8888888888888888,
              "#fdca26"
             ],
             [
              1,
              "#f0f921"
             ]
            ],
            "type": "surface"
           }
          ],
          "table": [
           {
            "cells": {
             "fill": {
              "color": "#EBF0F8"
             },
             "line": {
              "color": "white"
             }
            },
            "header": {
             "fill": {
              "color": "#C8D4E3"
             },
             "line": {
              "color": "white"
             }
            },
            "type": "table"
           }
          ]
         },
         "layout": {
          "annotationdefaults": {
           "arrowcolor": "#2a3f5f",
           "arrowhead": 0,
           "arrowwidth": 1
          },
          "autotypenumbers": "strict",
          "coloraxis": {
           "colorbar": {
            "outlinewidth": 0,
            "ticks": ""
           }
          },
          "colorscale": {
           "diverging": [
            [
             0,
             "#8e0152"
            ],
            [
             0.1,
             "#c51b7d"
            ],
            [
             0.2,
             "#de77ae"
            ],
            [
             0.3,
             "#f1b6da"
            ],
            [
             0.4,
             "#fde0ef"
            ],
            [
             0.5,
             "#f7f7f7"
            ],
            [
             0.6,
             "#e6f5d0"
            ],
            [
             0.7,
             "#b8e186"
            ],
            [
             0.8,
             "#7fbc41"
            ],
            [
             0.9,
             "#4d9221"
            ],
            [
             1,
             "#276419"
            ]
           ],
           "sequential": [
            [
             0,
             "#0d0887"
            ],
            [
             0.1111111111111111,
             "#46039f"
            ],
            [
             0.2222222222222222,
             "#7201a8"
            ],
            [
             0.3333333333333333,
             "#9c179e"
            ],
            [
             0.4444444444444444,
             "#bd3786"
            ],
            [
             0.5555555555555556,
             "#d8576b"
            ],
            [
             0.6666666666666666,
             "#ed7953"
            ],
            [
             0.7777777777777778,
             "#fb9f3a"
            ],
            [
             0.8888888888888888,
             "#fdca26"
            ],
            [
             1,
             "#f0f921"
            ]
           ],
           "sequentialminus": [
            [
             0,
             "#0d0887"
            ],
            [
             0.1111111111111111,
             "#46039f"
            ],
            [
             0.2222222222222222,
             "#7201a8"
            ],
            [
             0.3333333333333333,
             "#9c179e"
            ],
            [
             0.4444444444444444,
             "#bd3786"
            ],
            [
             0.5555555555555556,
             "#d8576b"
            ],
            [
             0.6666666666666666,
             "#ed7953"
            ],
            [
             0.7777777777777778,
             "#fb9f3a"
            ],
            [
             0.8888888888888888,
             "#fdca26"
            ],
            [
             1,
             "#f0f921"
            ]
           ]
          },
          "colorway": [
           "#636efa",
           "#EF553B",
           "#00cc96",
           "#ab63fa",
           "#FFA15A",
           "#19d3f3",
           "#FF6692",
           "#B6E880",
           "#FF97FF",
           "#FECB52"
          ],
          "font": {
           "color": "#2a3f5f"
          },
          "geo": {
           "bgcolor": "white",
           "lakecolor": "white",
           "landcolor": "#E5ECF6",
           "showlakes": true,
           "showland": true,
           "subunitcolor": "white"
          },
          "hoverlabel": {
           "align": "left"
          },
          "hovermode": "closest",
          "mapbox": {
           "style": "light"
          },
          "paper_bgcolor": "white",
          "plot_bgcolor": "#E5ECF6",
          "polar": {
           "angularaxis": {
            "gridcolor": "white",
            "linecolor": "white",
            "ticks": ""
           },
           "bgcolor": "#E5ECF6",
           "radialaxis": {
            "gridcolor": "white",
            "linecolor": "white",
            "ticks": ""
           }
          },
          "scene": {
           "xaxis": {
            "backgroundcolor": "#E5ECF6",
            "gridcolor": "white",
            "gridwidth": 2,
            "linecolor": "white",
            "showbackground": true,
            "ticks": "",
            "zerolinecolor": "white"
           },
           "yaxis": {
            "backgroundcolor": "#E5ECF6",
            "gridcolor": "white",
            "gridwidth": 2,
            "linecolor": "white",
            "showbackground": true,
            "ticks": "",
            "zerolinecolor": "white"
           },
           "zaxis": {
            "backgroundcolor": "#E5ECF6",
            "gridcolor": "white",
            "gridwidth": 2,
            "linecolor": "white",
            "showbackground": true,
            "ticks": "",
            "zerolinecolor": "white"
           }
          },
          "shapedefaults": {
           "line": {
            "color": "#2a3f5f"
           }
          },
          "ternary": {
           "aaxis": {
            "gridcolor": "white",
            "linecolor": "white",
            "ticks": ""
           },
           "baxis": {
            "gridcolor": "white",
            "linecolor": "white",
            "ticks": ""
           },
           "bgcolor": "#E5ECF6",
           "caxis": {
            "gridcolor": "white",
            "linecolor": "white",
            "ticks": ""
           }
          },
          "title": {
           "x": 0.05
          },
          "xaxis": {
           "automargin": true,
           "gridcolor": "white",
           "linecolor": "white",
           "ticks": "",
           "title": {
            "standoff": 15
           },
           "zerolinecolor": "white",
           "zerolinewidth": 2
          },
          "yaxis": {
           "automargin": true,
           "gridcolor": "white",
           "linecolor": "white",
           "ticks": "",
           "title": {
            "standoff": 15
           },
           "zerolinecolor": "white",
           "zerolinewidth": 2
          }
         }
        }
       }
      }
     },
     "metadata": {},
     "output_type": "display_data"
    }
   ],
   "source": [
    "import plotly.graph_objects as go\n",
    "\n",
    "fig = go.Figure()\n",
    "\n",
    "fig.add_trace(go.Scatterpolar(\n",
    "  r=(plot_fuzzy_OSA[\"Intensities\"]),\n",
    "  theta=list(plot_fuzzy_OSA.index),\n",
    "  fill=\"toself\",\n",
    "  name='ms fuzzy'\n",
    "))\n",
    "fig.add_trace(go.Scatterpolar(\n",
    "  r=([ 0.7776613, 23.58432344,1.00636248, 16.65879529, 0.50338256,  1.16029695,  0.75458068]),\n",
    "  theta=list(plot_fuzzy_OSA.index),\n",
    "  fill=\"toself\",\n",
    "  name='ms binary'\n",
    "))\n",
    "fig.add_trace(go.Scatterpolar(\n",
    "  r=([3,4,0,0,0,0,0]),\n",
    "  theta=list(plot_fuzzy_OSA.index),\n",
    "  fill=\"toself\",\n",
    "  name='panelist 1'\n",
    "))\n",
    "\n",
    "fig.update_layout(\n",
    "  polar=dict(\n",
    "    radialaxis=dict(\n",
    "      visible=True,\n",
    "       range=[0, 10]\n",
    "    ),\n",
    "  ),\n",
    "  showlegend=False\n",
    ")\n",
    "\n",
    "fig.show()"
   ]
  },
  {
   "attachments": {},
   "cell_type": "markdown",
   "metadata": {},
   "source": [
    "#### 5. Show Flavourprofile"
   ]
  },
  {
   "cell_type": "code",
   "execution_count": 1000,
   "metadata": {},
   "outputs": [
    {
     "data": {
      "text/plain": [
       "feinty          0.476931\n",
       "Green/grassy    3.885389\n",
       "Floral          5.002768\n",
       "Fruity          4.946345\n",
       "Solvently       0.609100\n",
       "Soapy           0.510637\n",
       "Sweet           8.782281\n",
       "Woody           3.695653\n",
       "Spicy           1.250692\n",
       "Sour            0.302036\n",
       "Stale           0.873368\n",
       "dtype: float64"
      ]
     },
     "execution_count": 1000,
     "metadata": {},
     "output_type": "execute_result"
    }
   ],
   "source": [
    "final_OSA.sum()*10"
   ]
  },
  {
   "cell_type": "code",
   "execution_count": 1001,
   "metadata": {},
   "outputs": [
    {
     "data": {
      "application/vnd.plotly.v1+json": {
       "config": {
        "plotlyServerURL": "https://plot.ly"
       },
       "data": [
        {
         "fill": "toself",
         "r": [
          0.476930853393204,
          3.885389170253124,
          5.002767942735716,
          4.946345172658017,
          0.6091002369349375,
          0.5106368495558887,
          8.782281277529481,
          3.695653186974087,
          1.250691985683929,
          0.30203559923464524,
          0.8733683493293776
         ],
         "theta": [
          "feinty",
          "Green/grassy",
          "Floral",
          "Fruity ",
          "Solvently",
          "Soapy",
          "Sweet",
          "Woody",
          "Spicy",
          "Sour",
          "Stale"
         ],
         "type": "scatterpolar"
        }
       ],
       "layout": {
        "polar": {
         "radialaxis": {
          "range": [
           0,
           10
          ],
          "visible": true
         }
        },
        "showlegend": false,
        "template": {
         "data": {
          "bar": [
           {
            "error_x": {
             "color": "#2a3f5f"
            },
            "error_y": {
             "color": "#2a3f5f"
            },
            "marker": {
             "line": {
              "color": "#E5ECF6",
              "width": 0.5
             },
             "pattern": {
              "fillmode": "overlay",
              "size": 10,
              "solidity": 0.2
             }
            },
            "type": "bar"
           }
          ],
          "barpolar": [
           {
            "marker": {
             "line": {
              "color": "#E5ECF6",
              "width": 0.5
             },
             "pattern": {
              "fillmode": "overlay",
              "size": 10,
              "solidity": 0.2
             }
            },
            "type": "barpolar"
           }
          ],
          "carpet": [
           {
            "aaxis": {
             "endlinecolor": "#2a3f5f",
             "gridcolor": "white",
             "linecolor": "white",
             "minorgridcolor": "white",
             "startlinecolor": "#2a3f5f"
            },
            "baxis": {
             "endlinecolor": "#2a3f5f",
             "gridcolor": "white",
             "linecolor": "white",
             "minorgridcolor": "white",
             "startlinecolor": "#2a3f5f"
            },
            "type": "carpet"
           }
          ],
          "choropleth": [
           {
            "colorbar": {
             "outlinewidth": 0,
             "ticks": ""
            },
            "type": "choropleth"
           }
          ],
          "contour": [
           {
            "colorbar": {
             "outlinewidth": 0,
             "ticks": ""
            },
            "colorscale": [
             [
              0,
              "#0d0887"
             ],
             [
              0.1111111111111111,
              "#46039f"
             ],
             [
              0.2222222222222222,
              "#7201a8"
             ],
             [
              0.3333333333333333,
              "#9c179e"
             ],
             [
              0.4444444444444444,
              "#bd3786"
             ],
             [
              0.5555555555555556,
              "#d8576b"
             ],
             [
              0.6666666666666666,
              "#ed7953"
             ],
             [
              0.7777777777777778,
              "#fb9f3a"
             ],
             [
              0.8888888888888888,
              "#fdca26"
             ],
             [
              1,
              "#f0f921"
             ]
            ],
            "type": "contour"
           }
          ],
          "contourcarpet": [
           {
            "colorbar": {
             "outlinewidth": 0,
             "ticks": ""
            },
            "type": "contourcarpet"
           }
          ],
          "heatmap": [
           {
            "colorbar": {
             "outlinewidth": 0,
             "ticks": ""
            },
            "colorscale": [
             [
              0,
              "#0d0887"
             ],
             [
              0.1111111111111111,
              "#46039f"
             ],
             [
              0.2222222222222222,
              "#7201a8"
             ],
             [
              0.3333333333333333,
              "#9c179e"
             ],
             [
              0.4444444444444444,
              "#bd3786"
             ],
             [
              0.5555555555555556,
              "#d8576b"
             ],
             [
              0.6666666666666666,
              "#ed7953"
             ],
             [
              0.7777777777777778,
              "#fb9f3a"
             ],
             [
              0.8888888888888888,
              "#fdca26"
             ],
             [
              1,
              "#f0f921"
             ]
            ],
            "type": "heatmap"
           }
          ],
          "heatmapgl": [
           {
            "colorbar": {
             "outlinewidth": 0,
             "ticks": ""
            },
            "colorscale": [
             [
              0,
              "#0d0887"
             ],
             [
              0.1111111111111111,
              "#46039f"
             ],
             [
              0.2222222222222222,
              "#7201a8"
             ],
             [
              0.3333333333333333,
              "#9c179e"
             ],
             [
              0.4444444444444444,
              "#bd3786"
             ],
             [
              0.5555555555555556,
              "#d8576b"
             ],
             [
              0.6666666666666666,
              "#ed7953"
             ],
             [
              0.7777777777777778,
              "#fb9f3a"
             ],
             [
              0.8888888888888888,
              "#fdca26"
             ],
             [
              1,
              "#f0f921"
             ]
            ],
            "type": "heatmapgl"
           }
          ],
          "histogram": [
           {
            "marker": {
             "pattern": {
              "fillmode": "overlay",
              "size": 10,
              "solidity": 0.2
             }
            },
            "type": "histogram"
           }
          ],
          "histogram2d": [
           {
            "colorbar": {
             "outlinewidth": 0,
             "ticks": ""
            },
            "colorscale": [
             [
              0,
              "#0d0887"
             ],
             [
              0.1111111111111111,
              "#46039f"
             ],
             [
              0.2222222222222222,
              "#7201a8"
             ],
             [
              0.3333333333333333,
              "#9c179e"
             ],
             [
              0.4444444444444444,
              "#bd3786"
             ],
             [
              0.5555555555555556,
              "#d8576b"
             ],
             [
              0.6666666666666666,
              "#ed7953"
             ],
             [
              0.7777777777777778,
              "#fb9f3a"
             ],
             [
              0.8888888888888888,
              "#fdca26"
             ],
             [
              1,
              "#f0f921"
             ]
            ],
            "type": "histogram2d"
           }
          ],
          "histogram2dcontour": [
           {
            "colorbar": {
             "outlinewidth": 0,
             "ticks": ""
            },
            "colorscale": [
             [
              0,
              "#0d0887"
             ],
             [
              0.1111111111111111,
              "#46039f"
             ],
             [
              0.2222222222222222,
              "#7201a8"
             ],
             [
              0.3333333333333333,
              "#9c179e"
             ],
             [
              0.4444444444444444,
              "#bd3786"
             ],
             [
              0.5555555555555556,
              "#d8576b"
             ],
             [
              0.6666666666666666,
              "#ed7953"
             ],
             [
              0.7777777777777778,
              "#fb9f3a"
             ],
             [
              0.8888888888888888,
              "#fdca26"
             ],
             [
              1,
              "#f0f921"
             ]
            ],
            "type": "histogram2dcontour"
           }
          ],
          "mesh3d": [
           {
            "colorbar": {
             "outlinewidth": 0,
             "ticks": ""
            },
            "type": "mesh3d"
           }
          ],
          "parcoords": [
           {
            "line": {
             "colorbar": {
              "outlinewidth": 0,
              "ticks": ""
             }
            },
            "type": "parcoords"
           }
          ],
          "pie": [
           {
            "automargin": true,
            "type": "pie"
           }
          ],
          "scatter": [
           {
            "fillpattern": {
             "fillmode": "overlay",
             "size": 10,
             "solidity": 0.2
            },
            "type": "scatter"
           }
          ],
          "scatter3d": [
           {
            "line": {
             "colorbar": {
              "outlinewidth": 0,
              "ticks": ""
             }
            },
            "marker": {
             "colorbar": {
              "outlinewidth": 0,
              "ticks": ""
             }
            },
            "type": "scatter3d"
           }
          ],
          "scattercarpet": [
           {
            "marker": {
             "colorbar": {
              "outlinewidth": 0,
              "ticks": ""
             }
            },
            "type": "scattercarpet"
           }
          ],
          "scattergeo": [
           {
            "marker": {
             "colorbar": {
              "outlinewidth": 0,
              "ticks": ""
             }
            },
            "type": "scattergeo"
           }
          ],
          "scattergl": [
           {
            "marker": {
             "colorbar": {
              "outlinewidth": 0,
              "ticks": ""
             }
            },
            "type": "scattergl"
           }
          ],
          "scattermapbox": [
           {
            "marker": {
             "colorbar": {
              "outlinewidth": 0,
              "ticks": ""
             }
            },
            "type": "scattermapbox"
           }
          ],
          "scatterpolar": [
           {
            "marker": {
             "colorbar": {
              "outlinewidth": 0,
              "ticks": ""
             }
            },
            "type": "scatterpolar"
           }
          ],
          "scatterpolargl": [
           {
            "marker": {
             "colorbar": {
              "outlinewidth": 0,
              "ticks": ""
             }
            },
            "type": "scatterpolargl"
           }
          ],
          "scatterternary": [
           {
            "marker": {
             "colorbar": {
              "outlinewidth": 0,
              "ticks": ""
             }
            },
            "type": "scatterternary"
           }
          ],
          "surface": [
           {
            "colorbar": {
             "outlinewidth": 0,
             "ticks": ""
            },
            "colorscale": [
             [
              0,
              "#0d0887"
             ],
             [
              0.1111111111111111,
              "#46039f"
             ],
             [
              0.2222222222222222,
              "#7201a8"
             ],
             [
              0.3333333333333333,
              "#9c179e"
             ],
             [
              0.4444444444444444,
              "#bd3786"
             ],
             [
              0.5555555555555556,
              "#d8576b"
             ],
             [
              0.6666666666666666,
              "#ed7953"
             ],
             [
              0.7777777777777778,
              "#fb9f3a"
             ],
             [
              0.8888888888888888,
              "#fdca26"
             ],
             [
              1,
              "#f0f921"
             ]
            ],
            "type": "surface"
           }
          ],
          "table": [
           {
            "cells": {
             "fill": {
              "color": "#EBF0F8"
             },
             "line": {
              "color": "white"
             }
            },
            "header": {
             "fill": {
              "color": "#C8D4E3"
             },
             "line": {
              "color": "white"
             }
            },
            "type": "table"
           }
          ]
         },
         "layout": {
          "annotationdefaults": {
           "arrowcolor": "#2a3f5f",
           "arrowhead": 0,
           "arrowwidth": 1
          },
          "autotypenumbers": "strict",
          "coloraxis": {
           "colorbar": {
            "outlinewidth": 0,
            "ticks": ""
           }
          },
          "colorscale": {
           "diverging": [
            [
             0,
             "#8e0152"
            ],
            [
             0.1,
             "#c51b7d"
            ],
            [
             0.2,
             "#de77ae"
            ],
            [
             0.3,
             "#f1b6da"
            ],
            [
             0.4,
             "#fde0ef"
            ],
            [
             0.5,
             "#f7f7f7"
            ],
            [
             0.6,
             "#e6f5d0"
            ],
            [
             0.7,
             "#b8e186"
            ],
            [
             0.8,
             "#7fbc41"
            ],
            [
             0.9,
             "#4d9221"
            ],
            [
             1,
             "#276419"
            ]
           ],
           "sequential": [
            [
             0,
             "#0d0887"
            ],
            [
             0.1111111111111111,
             "#46039f"
            ],
            [
             0.2222222222222222,
             "#7201a8"
            ],
            [
             0.3333333333333333,
             "#9c179e"
            ],
            [
             0.4444444444444444,
             "#bd3786"
            ],
            [
             0.5555555555555556,
             "#d8576b"
            ],
            [
             0.6666666666666666,
             "#ed7953"
            ],
            [
             0.7777777777777778,
             "#fb9f3a"
            ],
            [
             0.8888888888888888,
             "#fdca26"
            ],
            [
             1,
             "#f0f921"
            ]
           ],
           "sequentialminus": [
            [
             0,
             "#0d0887"
            ],
            [
             0.1111111111111111,
             "#46039f"
            ],
            [
             0.2222222222222222,
             "#7201a8"
            ],
            [
             0.3333333333333333,
             "#9c179e"
            ],
            [
             0.4444444444444444,
             "#bd3786"
            ],
            [
             0.5555555555555556,
             "#d8576b"
            ],
            [
             0.6666666666666666,
             "#ed7953"
            ],
            [
             0.7777777777777778,
             "#fb9f3a"
            ],
            [
             0.8888888888888888,
             "#fdca26"
            ],
            [
             1,
             "#f0f921"
            ]
           ]
          },
          "colorway": [
           "#636efa",
           "#EF553B",
           "#00cc96",
           "#ab63fa",
           "#FFA15A",
           "#19d3f3",
           "#FF6692",
           "#B6E880",
           "#FF97FF",
           "#FECB52"
          ],
          "font": {
           "color": "#2a3f5f"
          },
          "geo": {
           "bgcolor": "white",
           "lakecolor": "white",
           "landcolor": "#E5ECF6",
           "showlakes": true,
           "showland": true,
           "subunitcolor": "white"
          },
          "hoverlabel": {
           "align": "left"
          },
          "hovermode": "closest",
          "mapbox": {
           "style": "light"
          },
          "paper_bgcolor": "white",
          "plot_bgcolor": "#E5ECF6",
          "polar": {
           "angularaxis": {
            "gridcolor": "white",
            "linecolor": "white",
            "ticks": ""
           },
           "bgcolor": "#E5ECF6",
           "radialaxis": {
            "gridcolor": "white",
            "linecolor": "white",
            "ticks": ""
           }
          },
          "scene": {
           "xaxis": {
            "backgroundcolor": "#E5ECF6",
            "gridcolor": "white",
            "gridwidth": 2,
            "linecolor": "white",
            "showbackground": true,
            "ticks": "",
            "zerolinecolor": "white"
           },
           "yaxis": {
            "backgroundcolor": "#E5ECF6",
            "gridcolor": "white",
            "gridwidth": 2,
            "linecolor": "white",
            "showbackground": true,
            "ticks": "",
            "zerolinecolor": "white"
           },
           "zaxis": {
            "backgroundcolor": "#E5ECF6",
            "gridcolor": "white",
            "gridwidth": 2,
            "linecolor": "white",
            "showbackground": true,
            "ticks": "",
            "zerolinecolor": "white"
           }
          },
          "shapedefaults": {
           "line": {
            "color": "#2a3f5f"
           }
          },
          "ternary": {
           "aaxis": {
            "gridcolor": "white",
            "linecolor": "white",
            "ticks": ""
           },
           "baxis": {
            "gridcolor": "white",
            "linecolor": "white",
            "ticks": ""
           },
           "bgcolor": "#E5ECF6",
           "caxis": {
            "gridcolor": "white",
            "linecolor": "white",
            "ticks": ""
           }
          },
          "title": {
           "x": 0.05
          },
          "xaxis": {
           "automargin": true,
           "gridcolor": "white",
           "linecolor": "white",
           "ticks": "",
           "title": {
            "standoff": 15
           },
           "zerolinecolor": "white",
           "zerolinewidth": 2
          },
          "yaxis": {
           "automargin": true,
           "gridcolor": "white",
           "linecolor": "white",
           "ticks": "",
           "title": {
            "standoff": 15
           },
           "zerolinecolor": "white",
           "zerolinewidth": 2
          }
         }
        }
       }
      }
     },
     "metadata": {},
     "output_type": "display_data"
    }
   ],
   "source": [
    "import plotly.graph_objects as go\n",
    "\n",
    "fig = go.Figure(data=go.Scatterpolar(\n",
    "  r=(np.array(final_OSA.sum()*10)),\n",
    "  theta=list(final_OSA.columns),\n",
    "  fill='toself'\n",
    "))\n",
    "\n",
    "fig.update_layout(\n",
    "  polar=dict(\n",
    "    radialaxis=dict(\n",
    "      visible=True,\n",
    "       range=[0, 10]\n",
    "    ),\n",
    "  ),\n",
    "  showlegend=False\n",
    ")\n",
    "\n",
    "fig.show()"
   ]
  },
  {
   "cell_type": "code",
   "execution_count": 1002,
   "metadata": {},
   "outputs": [
    {
     "data": {
      "text/plain": [
       "Index(['feinty', 'Green/grassy', 'Floral', 'Fruity ', 'Solvently', 'Soapy',\n",
       "       'Sweet', 'Woody', 'Spicy', 'Sour', 'Stale'],\n",
       "      dtype='object')"
      ]
     },
     "execution_count": 1002,
     "metadata": {},
     "output_type": "execute_result"
    }
   ],
   "source": [
    "final_OSA.columns"
   ]
  },
  {
   "cell_type": "code",
   "execution_count": 1003,
   "metadata": {},
   "outputs": [],
   "source": [
    "# filter out our 8 comparable OSAs \n",
    "comparable_OSAs = [\"floral\",\"fruit\",\"wood\",\"complexity\",\"malt\",\"sweet\",\"peat\",\"dried fruits\"]\n",
    "filtered_OSAs = pd.DataFrame(columns=comparable_OSAs)\n",
    "threshold = 80\n",
    "# Populate the new DataFrame based on original DataFrame\n",
    "for column in final_OSA.columns:\n",
    "    for comparable_OSA in comparable_OSAs:\n",
    "        if fuzz.ratio(str(column).lower(), comparable_OSA) >= threshold:\n",
    "            filtered_OSAs[comparable_OSA] = final_OSA[column]\n",
    "\n",
    "#filtered_OSAs\n",
    "\n"
   ]
  },
  {
   "cell_type": "code",
   "execution_count": 1004,
   "metadata": {},
   "outputs": [
    {
     "data": {
      "application/vnd.plotly.v1+json": {
       "config": {
        "plotlyServerURL": "https://plot.ly"
       },
       "data": [
        {
         "fill": "toself",
         "name": "Product A",
         "r": [
          4,
          3,
          5,
          4,
          3,
          4,
          3
         ],
         "theta": [
          "floral",
          "fruit",
          "wood",
          "complexity",
          "malt",
          "sweet",
          "peat",
          "dried fruits"
         ],
         "type": "scatterpolar"
        },
        {
         "fill": "toself",
         "name": "Product B",
         "r": [
          5.002767942735716,
          4.946345172658017,
          3.695653186974087,
          0,
          0,
          8.782281277529481,
          0,
          0
         ],
         "theta": [
          "floral",
          "fruit",
          "wood",
          "complexity",
          "malt",
          "sweet",
          "peat",
          "dried fruits"
         ],
         "type": "scatterpolar"
        }
       ],
       "layout": {
        "polar": {
         "radialaxis": {
          "range": [
           0,
           10
          ],
          "visible": true
         }
        },
        "showlegend": false,
        "template": {
         "data": {
          "bar": [
           {
            "error_x": {
             "color": "#2a3f5f"
            },
            "error_y": {
             "color": "#2a3f5f"
            },
            "marker": {
             "line": {
              "color": "#E5ECF6",
              "width": 0.5
             },
             "pattern": {
              "fillmode": "overlay",
              "size": 10,
              "solidity": 0.2
             }
            },
            "type": "bar"
           }
          ],
          "barpolar": [
           {
            "marker": {
             "line": {
              "color": "#E5ECF6",
              "width": 0.5
             },
             "pattern": {
              "fillmode": "overlay",
              "size": 10,
              "solidity": 0.2
             }
            },
            "type": "barpolar"
           }
          ],
          "carpet": [
           {
            "aaxis": {
             "endlinecolor": "#2a3f5f",
             "gridcolor": "white",
             "linecolor": "white",
             "minorgridcolor": "white",
             "startlinecolor": "#2a3f5f"
            },
            "baxis": {
             "endlinecolor": "#2a3f5f",
             "gridcolor": "white",
             "linecolor": "white",
             "minorgridcolor": "white",
             "startlinecolor": "#2a3f5f"
            },
            "type": "carpet"
           }
          ],
          "choropleth": [
           {
            "colorbar": {
             "outlinewidth": 0,
             "ticks": ""
            },
            "type": "choropleth"
           }
          ],
          "contour": [
           {
            "colorbar": {
             "outlinewidth": 0,
             "ticks": ""
            },
            "colorscale": [
             [
              0,
              "#0d0887"
             ],
             [
              0.1111111111111111,
              "#46039f"
             ],
             [
              0.2222222222222222,
              "#7201a8"
             ],
             [
              0.3333333333333333,
              "#9c179e"
             ],
             [
              0.4444444444444444,
              "#bd3786"
             ],
             [
              0.5555555555555556,
              "#d8576b"
             ],
             [
              0.6666666666666666,
              "#ed7953"
             ],
             [
              0.7777777777777778,
              "#fb9f3a"
             ],
             [
              0.8888888888888888,
              "#fdca26"
             ],
             [
              1,
              "#f0f921"
             ]
            ],
            "type": "contour"
           }
          ],
          "contourcarpet": [
           {
            "colorbar": {
             "outlinewidth": 0,
             "ticks": ""
            },
            "type": "contourcarpet"
           }
          ],
          "heatmap": [
           {
            "colorbar": {
             "outlinewidth": 0,
             "ticks": ""
            },
            "colorscale": [
             [
              0,
              "#0d0887"
             ],
             [
              0.1111111111111111,
              "#46039f"
             ],
             [
              0.2222222222222222,
              "#7201a8"
             ],
             [
              0.3333333333333333,
              "#9c179e"
             ],
             [
              0.4444444444444444,
              "#bd3786"
             ],
             [
              0.5555555555555556,
              "#d8576b"
             ],
             [
              0.6666666666666666,
              "#ed7953"
             ],
             [
              0.7777777777777778,
              "#fb9f3a"
             ],
             [
              0.8888888888888888,
              "#fdca26"
             ],
             [
              1,
              "#f0f921"
             ]
            ],
            "type": "heatmap"
           }
          ],
          "heatmapgl": [
           {
            "colorbar": {
             "outlinewidth": 0,
             "ticks": ""
            },
            "colorscale": [
             [
              0,
              "#0d0887"
             ],
             [
              0.1111111111111111,
              "#46039f"
             ],
             [
              0.2222222222222222,
              "#7201a8"
             ],
             [
              0.3333333333333333,
              "#9c179e"
             ],
             [
              0.4444444444444444,
              "#bd3786"
             ],
             [
              0.5555555555555556,
              "#d8576b"
             ],
             [
              0.6666666666666666,
              "#ed7953"
             ],
             [
              0.7777777777777778,
              "#fb9f3a"
             ],
             [
              0.8888888888888888,
              "#fdca26"
             ],
             [
              1,
              "#f0f921"
             ]
            ],
            "type": "heatmapgl"
           }
          ],
          "histogram": [
           {
            "marker": {
             "pattern": {
              "fillmode": "overlay",
              "size": 10,
              "solidity": 0.2
             }
            },
            "type": "histogram"
           }
          ],
          "histogram2d": [
           {
            "colorbar": {
             "outlinewidth": 0,
             "ticks": ""
            },
            "colorscale": [
             [
              0,
              "#0d0887"
             ],
             [
              0.1111111111111111,
              "#46039f"
             ],
             [
              0.2222222222222222,
              "#7201a8"
             ],
             [
              0.3333333333333333,
              "#9c179e"
             ],
             [
              0.4444444444444444,
              "#bd3786"
             ],
             [
              0.5555555555555556,
              "#d8576b"
             ],
             [
              0.6666666666666666,
              "#ed7953"
             ],
             [
              0.7777777777777778,
              "#fb9f3a"
             ],
             [
              0.8888888888888888,
              "#fdca26"
             ],
             [
              1,
              "#f0f921"
             ]
            ],
            "type": "histogram2d"
           }
          ],
          "histogram2dcontour": [
           {
            "colorbar": {
             "outlinewidth": 0,
             "ticks": ""
            },
            "colorscale": [
             [
              0,
              "#0d0887"
             ],
             [
              0.1111111111111111,
              "#46039f"
             ],
             [
              0.2222222222222222,
              "#7201a8"
             ],
             [
              0.3333333333333333,
              "#9c179e"
             ],
             [
              0.4444444444444444,
              "#bd3786"
             ],
             [
              0.5555555555555556,
              "#d8576b"
             ],
             [
              0.6666666666666666,
              "#ed7953"
             ],
             [
              0.7777777777777778,
              "#fb9f3a"
             ],
             [
              0.8888888888888888,
              "#fdca26"
             ],
             [
              1,
              "#f0f921"
             ]
            ],
            "type": "histogram2dcontour"
           }
          ],
          "mesh3d": [
           {
            "colorbar": {
             "outlinewidth": 0,
             "ticks": ""
            },
            "type": "mesh3d"
           }
          ],
          "parcoords": [
           {
            "line": {
             "colorbar": {
              "outlinewidth": 0,
              "ticks": ""
             }
            },
            "type": "parcoords"
           }
          ],
          "pie": [
           {
            "automargin": true,
            "type": "pie"
           }
          ],
          "scatter": [
           {
            "fillpattern": {
             "fillmode": "overlay",
             "size": 10,
             "solidity": 0.2
            },
            "type": "scatter"
           }
          ],
          "scatter3d": [
           {
            "line": {
             "colorbar": {
              "outlinewidth": 0,
              "ticks": ""
             }
            },
            "marker": {
             "colorbar": {
              "outlinewidth": 0,
              "ticks": ""
             }
            },
            "type": "scatter3d"
           }
          ],
          "scattercarpet": [
           {
            "marker": {
             "colorbar": {
              "outlinewidth": 0,
              "ticks": ""
             }
            },
            "type": "scattercarpet"
           }
          ],
          "scattergeo": [
           {
            "marker": {
             "colorbar": {
              "outlinewidth": 0,
              "ticks": ""
             }
            },
            "type": "scattergeo"
           }
          ],
          "scattergl": [
           {
            "marker": {
             "colorbar": {
              "outlinewidth": 0,
              "ticks": ""
             }
            },
            "type": "scattergl"
           }
          ],
          "scattermapbox": [
           {
            "marker": {
             "colorbar": {
              "outlinewidth": 0,
              "ticks": ""
             }
            },
            "type": "scattermapbox"
           }
          ],
          "scatterpolar": [
           {
            "marker": {
             "colorbar": {
              "outlinewidth": 0,
              "ticks": ""
             }
            },
            "type": "scatterpolar"
           }
          ],
          "scatterpolargl": [
           {
            "marker": {
             "colorbar": {
              "outlinewidth": 0,
              "ticks": ""
             }
            },
            "type": "scatterpolargl"
           }
          ],
          "scatterternary": [
           {
            "marker": {
             "colorbar": {
              "outlinewidth": 0,
              "ticks": ""
             }
            },
            "type": "scatterternary"
           }
          ],
          "surface": [
           {
            "colorbar": {
             "outlinewidth": 0,
             "ticks": ""
            },
            "colorscale": [
             [
              0,
              "#0d0887"
             ],
             [
              0.1111111111111111,
              "#46039f"
             ],
             [
              0.2222222222222222,
              "#7201a8"
             ],
             [
              0.3333333333333333,
              "#9c179e"
             ],
             [
              0.4444444444444444,
              "#bd3786"
             ],
             [
              0.5555555555555556,
              "#d8576b"
             ],
             [
              0.6666666666666666,
              "#ed7953"
             ],
             [
              0.7777777777777778,
              "#fb9f3a"
             ],
             [
              0.8888888888888888,
              "#fdca26"
             ],
             [
              1,
              "#f0f921"
             ]
            ],
            "type": "surface"
           }
          ],
          "table": [
           {
            "cells": {
             "fill": {
              "color": "#EBF0F8"
             },
             "line": {
              "color": "white"
             }
            },
            "header": {
             "fill": {
              "color": "#C8D4E3"
             },
             "line": {
              "color": "white"
             }
            },
            "type": "table"
           }
          ]
         },
         "layout": {
          "annotationdefaults": {
           "arrowcolor": "#2a3f5f",
           "arrowhead": 0,
           "arrowwidth": 1
          },
          "autotypenumbers": "strict",
          "coloraxis": {
           "colorbar": {
            "outlinewidth": 0,
            "ticks": ""
           }
          },
          "colorscale": {
           "diverging": [
            [
             0,
             "#8e0152"
            ],
            [
             0.1,
             "#c51b7d"
            ],
            [
             0.2,
             "#de77ae"
            ],
            [
             0.3,
             "#f1b6da"
            ],
            [
             0.4,
             "#fde0ef"
            ],
            [
             0.5,
             "#f7f7f7"
            ],
            [
             0.6,
             "#e6f5d0"
            ],
            [
             0.7,
             "#b8e186"
            ],
            [
             0.8,
             "#7fbc41"
            ],
            [
             0.9,
             "#4d9221"
            ],
            [
             1,
             "#276419"
            ]
           ],
           "sequential": [
            [
             0,
             "#0d0887"
            ],
            [
             0.1111111111111111,
             "#46039f"
            ],
            [
             0.2222222222222222,
             "#7201a8"
            ],
            [
             0.3333333333333333,
             "#9c179e"
            ],
            [
             0.4444444444444444,
             "#bd3786"
            ],
            [
             0.5555555555555556,
             "#d8576b"
            ],
            [
             0.6666666666666666,
             "#ed7953"
            ],
            [
             0.7777777777777778,
             "#fb9f3a"
            ],
            [
             0.8888888888888888,
             "#fdca26"
            ],
            [
             1,
             "#f0f921"
            ]
           ],
           "sequentialminus": [
            [
             0,
             "#0d0887"
            ],
            [
             0.1111111111111111,
             "#46039f"
            ],
            [
             0.2222222222222222,
             "#7201a8"
            ],
            [
             0.3333333333333333,
             "#9c179e"
            ],
            [
             0.4444444444444444,
             "#bd3786"
            ],
            [
             0.5555555555555556,
             "#d8576b"
            ],
            [
             0.6666666666666666,
             "#ed7953"
            ],
            [
             0.7777777777777778,
             "#fb9f3a"
            ],
            [
             0.8888888888888888,
             "#fdca26"
            ],
            [
             1,
             "#f0f921"
            ]
           ]
          },
          "colorway": [
           "#636efa",
           "#EF553B",
           "#00cc96",
           "#ab63fa",
           "#FFA15A",
           "#19d3f3",
           "#FF6692",
           "#B6E880",
           "#FF97FF",
           "#FECB52"
          ],
          "font": {
           "color": "#2a3f5f"
          },
          "geo": {
           "bgcolor": "white",
           "lakecolor": "white",
           "landcolor": "#E5ECF6",
           "showlakes": true,
           "showland": true,
           "subunitcolor": "white"
          },
          "hoverlabel": {
           "align": "left"
          },
          "hovermode": "closest",
          "mapbox": {
           "style": "light"
          },
          "paper_bgcolor": "white",
          "plot_bgcolor": "#E5ECF6",
          "polar": {
           "angularaxis": {
            "gridcolor": "white",
            "linecolor": "white",
            "ticks": ""
           },
           "bgcolor": "#E5ECF6",
           "radialaxis": {
            "gridcolor": "white",
            "linecolor": "white",
            "ticks": ""
           }
          },
          "scene": {
           "xaxis": {
            "backgroundcolor": "#E5ECF6",
            "gridcolor": "white",
            "gridwidth": 2,
            "linecolor": "white",
            "showbackground": true,
            "ticks": "",
            "zerolinecolor": "white"
           },
           "yaxis": {
            "backgroundcolor": "#E5ECF6",
            "gridcolor": "white",
            "gridwidth": 2,
            "linecolor": "white",
            "showbackground": true,
            "ticks": "",
            "zerolinecolor": "white"
           },
           "zaxis": {
            "backgroundcolor": "#E5ECF6",
            "gridcolor": "white",
            "gridwidth": 2,
            "linecolor": "white",
            "showbackground": true,
            "ticks": "",
            "zerolinecolor": "white"
           }
          },
          "shapedefaults": {
           "line": {
            "color": "#2a3f5f"
           }
          },
          "ternary": {
           "aaxis": {
            "gridcolor": "white",
            "linecolor": "white",
            "ticks": ""
           },
           "baxis": {
            "gridcolor": "white",
            "linecolor": "white",
            "ticks": ""
           },
           "bgcolor": "#E5ECF6",
           "caxis": {
            "gridcolor": "white",
            "linecolor": "white",
            "ticks": ""
           }
          },
          "title": {
           "x": 0.05
          },
          "xaxis": {
           "automargin": true,
           "gridcolor": "white",
           "linecolor": "white",
           "ticks": "",
           "title": {
            "standoff": 15
           },
           "zerolinecolor": "white",
           "zerolinewidth": 2
          },
          "yaxis": {
           "automargin": true,
           "gridcolor": "white",
           "linecolor": "white",
           "ticks": "",
           "title": {
            "standoff": 15
           },
           "zerolinecolor": "white",
           "zerolinewidth": 2
          }
         }
        }
       }
      }
     },
     "metadata": {},
     "output_type": "display_data"
    }
   ],
   "source": [
    "import plotly.graph_objects as go\n",
    "\n",
    "panelist_scores = [40,30,50,40,30,40,30]\n",
    "fig = go.Figure()\n",
    "\n",
    "fig.add_trace(go.Scatterpolar(\n",
    "      r=[value / 10 for value in panelist_scores],\n",
    "      theta=comparable_OSAs,\n",
    "      fill='toself',\n",
    "      name='Product A'\n",
    "))\n",
    "fig.add_trace(go.Scatterpolar(\n",
    "      r=list(filtered_OSAs.sum()*10),\n",
    "      theta=comparable_OSAs,\n",
    "      fill='toself',\n",
    "      name='Product B'\n",
    "))\n",
    "\n",
    "fig.update_layout(\n",
    "  polar=dict(\n",
    "    radialaxis=dict(\n",
    "      visible=True,\n",
    "      range=[0, 10]\n",
    "    )),\n",
    "  showlegend=False\n",
    ")\n",
    "\n",
    "fig.show()"
   ]
  },
  {
   "cell_type": "code",
   "execution_count": 1005,
   "metadata": {},
   "outputs": [
    {
     "data": {
      "application/vnd.plotly.v1+json": {
       "config": {
        "plotlyServerURL": "https://plot.ly"
       },
       "data": [
        {
         "fill": "toself",
         "name": "panelist",
         "r": [
          0,
          4,
          3,
          4,
          5,
          0
         ],
         "theta": [
          "feinty",
          "Green/grassy",
          "Floral",
          "Fruity ",
          "Solvently",
          "Soapy",
          "Sweet",
          "Woody",
          "Spicy",
          "Sour",
          "Stale"
         ],
         "type": "scatterpolar"
        },
        {
         "fill": "toself",
         "name": "MS_prediction",
         "r": [
          0.476930853393204,
          3.885389170253124,
          5.002767942735716,
          4.946345172658017,
          0.6091002369349375,
          0.5106368495558887,
          8.782281277529481,
          3.695653186974087,
          1.250691985683929,
          0.30203559923464524,
          0.8733683493293776
         ],
         "theta": [
          "feinty",
          "Green/grassy",
          "Floral",
          "Fruity ",
          "Solvently",
          "Soapy",
          "Sweet",
          "Woody",
          "Spicy",
          "Sour",
          "Stale"
         ],
         "type": "scatterpolar"
        }
       ],
       "layout": {
        "polar": {
         "radialaxis": {
          "range": [
           0,
           10
          ],
          "visible": true
         }
        },
        "showlegend": false,
        "template": {
         "data": {
          "bar": [
           {
            "error_x": {
             "color": "#2a3f5f"
            },
            "error_y": {
             "color": "#2a3f5f"
            },
            "marker": {
             "line": {
              "color": "#E5ECF6",
              "width": 0.5
             },
             "pattern": {
              "fillmode": "overlay",
              "size": 10,
              "solidity": 0.2
             }
            },
            "type": "bar"
           }
          ],
          "barpolar": [
           {
            "marker": {
             "line": {
              "color": "#E5ECF6",
              "width": 0.5
             },
             "pattern": {
              "fillmode": "overlay",
              "size": 10,
              "solidity": 0.2
             }
            },
            "type": "barpolar"
           }
          ],
          "carpet": [
           {
            "aaxis": {
             "endlinecolor": "#2a3f5f",
             "gridcolor": "white",
             "linecolor": "white",
             "minorgridcolor": "white",
             "startlinecolor": "#2a3f5f"
            },
            "baxis": {
             "endlinecolor": "#2a3f5f",
             "gridcolor": "white",
             "linecolor": "white",
             "minorgridcolor": "white",
             "startlinecolor": "#2a3f5f"
            },
            "type": "carpet"
           }
          ],
          "choropleth": [
           {
            "colorbar": {
             "outlinewidth": 0,
             "ticks": ""
            },
            "type": "choropleth"
           }
          ],
          "contour": [
           {
            "colorbar": {
             "outlinewidth": 0,
             "ticks": ""
            },
            "colorscale": [
             [
              0,
              "#0d0887"
             ],
             [
              0.1111111111111111,
              "#46039f"
             ],
             [
              0.2222222222222222,
              "#7201a8"
             ],
             [
              0.3333333333333333,
              "#9c179e"
             ],
             [
              0.4444444444444444,
              "#bd3786"
             ],
             [
              0.5555555555555556,
              "#d8576b"
             ],
             [
              0.6666666666666666,
              "#ed7953"
             ],
             [
              0.7777777777777778,
              "#fb9f3a"
             ],
             [
              0.8888888888888888,
              "#fdca26"
             ],
             [
              1,
              "#f0f921"
             ]
            ],
            "type": "contour"
           }
          ],
          "contourcarpet": [
           {
            "colorbar": {
             "outlinewidth": 0,
             "ticks": ""
            },
            "type": "contourcarpet"
           }
          ],
          "heatmap": [
           {
            "colorbar": {
             "outlinewidth": 0,
             "ticks": ""
            },
            "colorscale": [
             [
              0,
              "#0d0887"
             ],
             [
              0.1111111111111111,
              "#46039f"
             ],
             [
              0.2222222222222222,
              "#7201a8"
             ],
             [
              0.3333333333333333,
              "#9c179e"
             ],
             [
              0.4444444444444444,
              "#bd3786"
             ],
             [
              0.5555555555555556,
              "#d8576b"
             ],
             [
              0.6666666666666666,
              "#ed7953"
             ],
             [
              0.7777777777777778,
              "#fb9f3a"
             ],
             [
              0.8888888888888888,
              "#fdca26"
             ],
             [
              1,
              "#f0f921"
             ]
            ],
            "type": "heatmap"
           }
          ],
          "heatmapgl": [
           {
            "colorbar": {
             "outlinewidth": 0,
             "ticks": ""
            },
            "colorscale": [
             [
              0,
              "#0d0887"
             ],
             [
              0.1111111111111111,
              "#46039f"
             ],
             [
              0.2222222222222222,
              "#7201a8"
             ],
             [
              0.3333333333333333,
              "#9c179e"
             ],
             [
              0.4444444444444444,
              "#bd3786"
             ],
             [
              0.5555555555555556,
              "#d8576b"
             ],
             [
              0.6666666666666666,
              "#ed7953"
             ],
             [
              0.7777777777777778,
              "#fb9f3a"
             ],
             [
              0.8888888888888888,
              "#fdca26"
             ],
             [
              1,
              "#f0f921"
             ]
            ],
            "type": "heatmapgl"
           }
          ],
          "histogram": [
           {
            "marker": {
             "pattern": {
              "fillmode": "overlay",
              "size": 10,
              "solidity": 0.2
             }
            },
            "type": "histogram"
           }
          ],
          "histogram2d": [
           {
            "colorbar": {
             "outlinewidth": 0,
             "ticks": ""
            },
            "colorscale": [
             [
              0,
              "#0d0887"
             ],
             [
              0.1111111111111111,
              "#46039f"
             ],
             [
              0.2222222222222222,
              "#7201a8"
             ],
             [
              0.3333333333333333,
              "#9c179e"
             ],
             [
              0.4444444444444444,
              "#bd3786"
             ],
             [
              0.5555555555555556,
              "#d8576b"
             ],
             [
              0.6666666666666666,
              "#ed7953"
             ],
             [
              0.7777777777777778,
              "#fb9f3a"
             ],
             [
              0.8888888888888888,
              "#fdca26"
             ],
             [
              1,
              "#f0f921"
             ]
            ],
            "type": "histogram2d"
           }
          ],
          "histogram2dcontour": [
           {
            "colorbar": {
             "outlinewidth": 0,
             "ticks": ""
            },
            "colorscale": [
             [
              0,
              "#0d0887"
             ],
             [
              0.1111111111111111,
              "#46039f"
             ],
             [
              0.2222222222222222,
              "#7201a8"
             ],
             [
              0.3333333333333333,
              "#9c179e"
             ],
             [
              0.4444444444444444,
              "#bd3786"
             ],
             [
              0.5555555555555556,
              "#d8576b"
             ],
             [
              0.6666666666666666,
              "#ed7953"
             ],
             [
              0.7777777777777778,
              "#fb9f3a"
             ],
             [
              0.8888888888888888,
              "#fdca26"
             ],
             [
              1,
              "#f0f921"
             ]
            ],
            "type": "histogram2dcontour"
           }
          ],
          "mesh3d": [
           {
            "colorbar": {
             "outlinewidth": 0,
             "ticks": ""
            },
            "type": "mesh3d"
           }
          ],
          "parcoords": [
           {
            "line": {
             "colorbar": {
              "outlinewidth": 0,
              "ticks": ""
             }
            },
            "type": "parcoords"
           }
          ],
          "pie": [
           {
            "automargin": true,
            "type": "pie"
           }
          ],
          "scatter": [
           {
            "fillpattern": {
             "fillmode": "overlay",
             "size": 10,
             "solidity": 0.2
            },
            "type": "scatter"
           }
          ],
          "scatter3d": [
           {
            "line": {
             "colorbar": {
              "outlinewidth": 0,
              "ticks": ""
             }
            },
            "marker": {
             "colorbar": {
              "outlinewidth": 0,
              "ticks": ""
             }
            },
            "type": "scatter3d"
           }
          ],
          "scattercarpet": [
           {
            "marker": {
             "colorbar": {
              "outlinewidth": 0,
              "ticks": ""
             }
            },
            "type": "scattercarpet"
           }
          ],
          "scattergeo": [
           {
            "marker": {
             "colorbar": {
              "outlinewidth": 0,
              "ticks": ""
             }
            },
            "type": "scattergeo"
           }
          ],
          "scattergl": [
           {
            "marker": {
             "colorbar": {
              "outlinewidth": 0,
              "ticks": ""
             }
            },
            "type": "scattergl"
           }
          ],
          "scattermapbox": [
           {
            "marker": {
             "colorbar": {
              "outlinewidth": 0,
              "ticks": ""
             }
            },
            "type": "scattermapbox"
           }
          ],
          "scatterpolar": [
           {
            "marker": {
             "colorbar": {
              "outlinewidth": 0,
              "ticks": ""
             }
            },
            "type": "scatterpolar"
           }
          ],
          "scatterpolargl": [
           {
            "marker": {
             "colorbar": {
              "outlinewidth": 0,
              "ticks": ""
             }
            },
            "type": "scatterpolargl"
           }
          ],
          "scatterternary": [
           {
            "marker": {
             "colorbar": {
              "outlinewidth": 0,
              "ticks": ""
             }
            },
            "type": "scatterternary"
           }
          ],
          "surface": [
           {
            "colorbar": {
             "outlinewidth": 0,
             "ticks": ""
            },
            "colorscale": [
             [
              0,
              "#0d0887"
             ],
             [
              0.1111111111111111,
              "#46039f"
             ],
             [
              0.2222222222222222,
              "#7201a8"
             ],
             [
              0.3333333333333333,
              "#9c179e"
             ],
             [
              0.4444444444444444,
              "#bd3786"
             ],
             [
              0.5555555555555556,
              "#d8576b"
             ],
             [
              0.6666666666666666,
              "#ed7953"
             ],
             [
              0.7777777777777778,
              "#fb9f3a"
             ],
             [
              0.8888888888888888,
              "#fdca26"
             ],
             [
              1,
              "#f0f921"
             ]
            ],
            "type": "surface"
           }
          ],
          "table": [
           {
            "cells": {
             "fill": {
              "color": "#EBF0F8"
             },
             "line": {
              "color": "white"
             }
            },
            "header": {
             "fill": {
              "color": "#C8D4E3"
             },
             "line": {
              "color": "white"
             }
            },
            "type": "table"
           }
          ]
         },
         "layout": {
          "annotationdefaults": {
           "arrowcolor": "#2a3f5f",
           "arrowhead": 0,
           "arrowwidth": 1
          },
          "autotypenumbers": "strict",
          "coloraxis": {
           "colorbar": {
            "outlinewidth": 0,
            "ticks": ""
           }
          },
          "colorscale": {
           "diverging": [
            [
             0,
             "#8e0152"
            ],
            [
             0.1,
             "#c51b7d"
            ],
            [
             0.2,
             "#de77ae"
            ],
            [
             0.3,
             "#f1b6da"
            ],
            [
             0.4,
             "#fde0ef"
            ],
            [
             0.5,
             "#f7f7f7"
            ],
            [
             0.6,
             "#e6f5d0"
            ],
            [
             0.7,
             "#b8e186"
            ],
            [
             0.8,
             "#7fbc41"
            ],
            [
             0.9,
             "#4d9221"
            ],
            [
             1,
             "#276419"
            ]
           ],
           "sequential": [
            [
             0,
             "#0d0887"
            ],
            [
             0.1111111111111111,
             "#46039f"
            ],
            [
             0.2222222222222222,
             "#7201a8"
            ],
            [
             0.3333333333333333,
             "#9c179e"
            ],
            [
             0.4444444444444444,
             "#bd3786"
            ],
            [
             0.5555555555555556,
             "#d8576b"
            ],
            [
             0.6666666666666666,
             "#ed7953"
            ],
            [
             0.7777777777777778,
             "#fb9f3a"
            ],
            [
             0.8888888888888888,
             "#fdca26"
            ],
            [
             1,
             "#f0f921"
            ]
           ],
           "sequentialminus": [
            [
             0,
             "#0d0887"
            ],
            [
             0.1111111111111111,
             "#46039f"
            ],
            [
             0.2222222222222222,
             "#7201a8"
            ],
            [
             0.3333333333333333,
             "#9c179e"
            ],
            [
             0.4444444444444444,
             "#bd3786"
            ],
            [
             0.5555555555555556,
             "#d8576b"
            ],
            [
             0.6666666666666666,
             "#ed7953"
            ],
            [
             0.7777777777777778,
             "#fb9f3a"
            ],
            [
             0.8888888888888888,
             "#fdca26"
            ],
            [
             1,
             "#f0f921"
            ]
           ]
          },
          "colorway": [
           "#636efa",
           "#EF553B",
           "#00cc96",
           "#ab63fa",
           "#FFA15A",
           "#19d3f3",
           "#FF6692",
           "#B6E880",
           "#FF97FF",
           "#FECB52"
          ],
          "font": {
           "color": "#2a3f5f"
          },
          "geo": {
           "bgcolor": "white",
           "lakecolor": "white",
           "landcolor": "#E5ECF6",
           "showlakes": true,
           "showland": true,
           "subunitcolor": "white"
          },
          "hoverlabel": {
           "align": "left"
          },
          "hovermode": "closest",
          "mapbox": {
           "style": "light"
          },
          "paper_bgcolor": "white",
          "plot_bgcolor": "#E5ECF6",
          "polar": {
           "angularaxis": {
            "gridcolor": "white",
            "linecolor": "white",
            "ticks": ""
           },
           "bgcolor": "#E5ECF6",
           "radialaxis": {
            "gridcolor": "white",
            "linecolor": "white",
            "ticks": ""
           }
          },
          "scene": {
           "xaxis": {
            "backgroundcolor": "#E5ECF6",
            "gridcolor": "white",
            "gridwidth": 2,
            "linecolor": "white",
            "showbackground": true,
            "ticks": "",
            "zerolinecolor": "white"
           },
           "yaxis": {
            "backgroundcolor": "#E5ECF6",
            "gridcolor": "white",
            "gridwidth": 2,
            "linecolor": "white",
            "showbackground": true,
            "ticks": "",
            "zerolinecolor": "white"
           },
           "zaxis": {
            "backgroundcolor": "#E5ECF6",
            "gridcolor": "white",
            "gridwidth": 2,
            "linecolor": "white",
            "showbackground": true,
            "ticks": "",
            "zerolinecolor": "white"
           }
          },
          "shapedefaults": {
           "line": {
            "color": "#2a3f5f"
           }
          },
          "ternary": {
           "aaxis": {
            "gridcolor": "white",
            "linecolor": "white",
            "ticks": ""
           },
           "baxis": {
            "gridcolor": "white",
            "linecolor": "white",
            "ticks": ""
           },
           "bgcolor": "#E5ECF6",
           "caxis": {
            "gridcolor": "white",
            "linecolor": "white",
            "ticks": ""
           }
          },
          "title": {
           "x": 0.05
          },
          "xaxis": {
           "automargin": true,
           "gridcolor": "white",
           "linecolor": "white",
           "ticks": "",
           "title": {
            "standoff": 15
           },
           "zerolinecolor": "white",
           "zerolinewidth": 2
          },
          "yaxis": {
           "automargin": true,
           "gridcolor": "white",
           "linecolor": "white",
           "ticks": "",
           "title": {
            "standoff": 15
           },
           "zerolinecolor": "white",
           "zerolinewidth": 2
          }
         }
        }
       }
      }
     },
     "metadata": {},
     "output_type": "display_data"
    }
   ],
   "source": [
    "#only compare only columns from final_OSA\n",
    "fig = go.Figure()\n",
    "\n",
    "fig.add_trace(go.Scatterpolar(\n",
    "    r=[0,4,3,4,5,0],\n",
    "    theta=list(final_OSA.columns),\n",
    "    fill='toself',\n",
    "    name=\"panelist\"\n",
    "))\n",
    "\n",
    "fig.add_trace(go.Scatterpolar(\n",
    "  r=(np.array(final_OSA.sum()*10)),\n",
    "  theta=list(final_OSA.columns),\n",
    "  fill='toself',\n",
    "  name= \"MS_prediction\"))\n",
    "\n",
    "fig.update_layout(\n",
    "  polar=dict(\n",
    "    radialaxis=dict(\n",
    "      visible=True,\n",
    "      range=[0, 10]\n",
    "    )),\n",
    "  showlegend=False\n",
    ")\n",
    "\n",
    "fig.show()"
   ]
  },
  {
   "cell_type": "code",
   "execution_count": 1006,
   "metadata": {},
   "outputs": [],
   "source": [
    "import plotly.graph_objects as go\n",
    "\n",
    "#only compare only columns from final_OSA\n",
    "def compare_profiles(final_OSA, panelists):\n",
    "    fig = go.Figure()\n",
    "\n",
    "    fig.add_trace(go.Scatterpolar(\n",
    "        r=panelists,\n",
    "        theta=list(final_OSA.index),\n",
    "        fill='toself',\n",
    "        name=\"panelist\"\n",
    "    ))\n",
    "\n",
    "    fig.add_trace(go.Scatterpolar(\n",
    "    r=(np.array(final_OSA)),\n",
    "    theta=list(final_OSA.index),\n",
    "    fill='toself',\n",
    "    name= \"MS_prediction\"))\n",
    "\n",
    "    fig.update_layout(\n",
    "    polar=dict(\n",
    "        radialaxis=dict(\n",
    "        visible=True,\n",
    "        range=[0, 10]\n",
    "        )),\n",
    "    showlegend=False\n",
    "    )\n",
    "\n",
    "    fig.show()"
   ]
  },
  {
   "cell_type": "code",
   "execution_count": 1007,
   "metadata": {},
   "outputs": [],
   "source": [
    "# look at panelist 1\n",
    "panelist_data_df = pd.read_table(\"data/vlb_data_combined.txt\", delimiter=',', index_col = 1)\n",
    "panelist_data_df = panelist_data_df[panelist_data_df[\"panelist\"]==1]\n",
    "panelist_data_df = panelist_data_df.drop(columns=[\"panelist\", \"date\"])"
   ]
  },
  {
   "cell_type": "code",
   "execution_count": 1008,
   "metadata": {},
   "outputs": [],
   "source": [
    "overlap_OSAs = [\"floral\", \"fruit\", \"sweet\", \"wood\", \"peat\"]"
   ]
  },
  {
   "cell_type": "code",
   "execution_count": 1009,
   "metadata": {},
   "outputs": [],
   "source": [
    "def get_panelist_profile(sample_key):\n",
    "    panelist_profile=[]\n",
    "    for OSA in overlap_OSAs :\n",
    "        panelist_profile.append(int(panelist_data_df.loc[sample_key][OSA]/10))\n",
    "    return panelist_profile"
   ]
  },
  {
   "cell_type": "code",
   "execution_count": 1010,
   "metadata": {},
   "outputs": [],
   "source": [
    "def find_overlapping_profiles(final_OSA,comparable_OSAs):\n",
    "    # show only overlap meaning: floral, fruit, sweet, wood, peat\n",
    "    new_series = pd.Series() \n",
    "    threshold = 80\n",
    "    for comparable_OSA in comparable_OSAs:\n",
    "        for index in final_OSA.index:\n",
    "            if fuzz.ratio(str(index).lower(), comparable_OSA) >= threshold:\n",
    "                new_series[comparable_OSA] = final_OSA[index]\n",
    "                break\n",
    "            else:\n",
    "                new_series[comparable_OSA] = 0\n",
    "    return(new_series)\n"
   ]
  },
  {
   "cell_type": "code",
   "execution_count": 1011,
   "metadata": {},
   "outputs": [],
   "source": [
    "def compare_visual(OSA_plotting,sample_key):\n",
    "    OSA_compare = find_overlapping_profiles(OSA_plotting, overlap_OSAs)\n",
    "    panelist_compare = get_panelist_profile(sample_key)\n",
    "    compare_profiles(OSA_compare.T, panelist_compare)"
   ]
  },
  {
   "cell_type": "code",
   "execution_count": 1012,
   "metadata": {},
   "outputs": [
    {
     "name": "stderr",
     "output_type": "stream",
     "text": [
      "C:\\Users\\Franz\\AppData\\Local\\Temp\\ipykernel_15872\\3096962253.py:3: FutureWarning:\n",
      "\n",
      "The default dtype for empty Series will be 'object' instead of 'float64' in a future version. Specify a dtype explicitly to silence this warning.\n",
      "\n"
     ]
    },
    {
     "data": {
      "application/vnd.plotly.v1+json": {
       "config": {
        "plotlyServerURL": "https://plot.ly"
       },
       "data": [
        {
         "fill": "toself",
         "name": "panelist",
         "r": [
          4,
          3,
          4,
          5,
          3
         ],
         "theta": [
          "floral",
          "fruit",
          "sweet",
          "wood",
          "peat"
         ],
         "type": "scatterpolar"
        },
        {
         "fill": "toself",
         "name": "MS_prediction",
         "r": [
          5.002767942735716,
          4.946345172658017,
          8.782281277529481,
          3.695653186974087,
          0
         ],
         "theta": [
          "floral",
          "fruit",
          "sweet",
          "wood",
          "peat"
         ],
         "type": "scatterpolar"
        }
       ],
       "layout": {
        "polar": {
         "radialaxis": {
          "range": [
           0,
           10
          ],
          "visible": true
         }
        },
        "showlegend": false,
        "template": {
         "data": {
          "bar": [
           {
            "error_x": {
             "color": "#2a3f5f"
            },
            "error_y": {
             "color": "#2a3f5f"
            },
            "marker": {
             "line": {
              "color": "#E5ECF6",
              "width": 0.5
             },
             "pattern": {
              "fillmode": "overlay",
              "size": 10,
              "solidity": 0.2
             }
            },
            "type": "bar"
           }
          ],
          "barpolar": [
           {
            "marker": {
             "line": {
              "color": "#E5ECF6",
              "width": 0.5
             },
             "pattern": {
              "fillmode": "overlay",
              "size": 10,
              "solidity": 0.2
             }
            },
            "type": "barpolar"
           }
          ],
          "carpet": [
           {
            "aaxis": {
             "endlinecolor": "#2a3f5f",
             "gridcolor": "white",
             "linecolor": "white",
             "minorgridcolor": "white",
             "startlinecolor": "#2a3f5f"
            },
            "baxis": {
             "endlinecolor": "#2a3f5f",
             "gridcolor": "white",
             "linecolor": "white",
             "minorgridcolor": "white",
             "startlinecolor": "#2a3f5f"
            },
            "type": "carpet"
           }
          ],
          "choropleth": [
           {
            "colorbar": {
             "outlinewidth": 0,
             "ticks": ""
            },
            "type": "choropleth"
           }
          ],
          "contour": [
           {
            "colorbar": {
             "outlinewidth": 0,
             "ticks": ""
            },
            "colorscale": [
             [
              0,
              "#0d0887"
             ],
             [
              0.1111111111111111,
              "#46039f"
             ],
             [
              0.2222222222222222,
              "#7201a8"
             ],
             [
              0.3333333333333333,
              "#9c179e"
             ],
             [
              0.4444444444444444,
              "#bd3786"
             ],
             [
              0.5555555555555556,
              "#d8576b"
             ],
             [
              0.6666666666666666,
              "#ed7953"
             ],
             [
              0.7777777777777778,
              "#fb9f3a"
             ],
             [
              0.8888888888888888,
              "#fdca26"
             ],
             [
              1,
              "#f0f921"
             ]
            ],
            "type": "contour"
           }
          ],
          "contourcarpet": [
           {
            "colorbar": {
             "outlinewidth": 0,
             "ticks": ""
            },
            "type": "contourcarpet"
           }
          ],
          "heatmap": [
           {
            "colorbar": {
             "outlinewidth": 0,
             "ticks": ""
            },
            "colorscale": [
             [
              0,
              "#0d0887"
             ],
             [
              0.1111111111111111,
              "#46039f"
             ],
             [
              0.2222222222222222,
              "#7201a8"
             ],
             [
              0.3333333333333333,
              "#9c179e"
             ],
             [
              0.4444444444444444,
              "#bd3786"
             ],
             [
              0.5555555555555556,
              "#d8576b"
             ],
             [
              0.6666666666666666,
              "#ed7953"
             ],
             [
              0.7777777777777778,
              "#fb9f3a"
             ],
             [
              0.8888888888888888,
              "#fdca26"
             ],
             [
              1,
              "#f0f921"
             ]
            ],
            "type": "heatmap"
           }
          ],
          "heatmapgl": [
           {
            "colorbar": {
             "outlinewidth": 0,
             "ticks": ""
            },
            "colorscale": [
             [
              0,
              "#0d0887"
             ],
             [
              0.1111111111111111,
              "#46039f"
             ],
             [
              0.2222222222222222,
              "#7201a8"
             ],
             [
              0.3333333333333333,
              "#9c179e"
             ],
             [
              0.4444444444444444,
              "#bd3786"
             ],
             [
              0.5555555555555556,
              "#d8576b"
             ],
             [
              0.6666666666666666,
              "#ed7953"
             ],
             [
              0.7777777777777778,
              "#fb9f3a"
             ],
             [
              0.8888888888888888,
              "#fdca26"
             ],
             [
              1,
              "#f0f921"
             ]
            ],
            "type": "heatmapgl"
           }
          ],
          "histogram": [
           {
            "marker": {
             "pattern": {
              "fillmode": "overlay",
              "size": 10,
              "solidity": 0.2
             }
            },
            "type": "histogram"
           }
          ],
          "histogram2d": [
           {
            "colorbar": {
             "outlinewidth": 0,
             "ticks": ""
            },
            "colorscale": [
             [
              0,
              "#0d0887"
             ],
             [
              0.1111111111111111,
              "#46039f"
             ],
             [
              0.2222222222222222,
              "#7201a8"
             ],
             [
              0.3333333333333333,
              "#9c179e"
             ],
             [
              0.4444444444444444,
              "#bd3786"
             ],
             [
              0.5555555555555556,
              "#d8576b"
             ],
             [
              0.6666666666666666,
              "#ed7953"
             ],
             [
              0.7777777777777778,
              "#fb9f3a"
             ],
             [
              0.8888888888888888,
              "#fdca26"
             ],
             [
              1,
              "#f0f921"
             ]
            ],
            "type": "histogram2d"
           }
          ],
          "histogram2dcontour": [
           {
            "colorbar": {
             "outlinewidth": 0,
             "ticks": ""
            },
            "colorscale": [
             [
              0,
              "#0d0887"
             ],
             [
              0.1111111111111111,
              "#46039f"
             ],
             [
              0.2222222222222222,
              "#7201a8"
             ],
             [
              0.3333333333333333,
              "#9c179e"
             ],
             [
              0.4444444444444444,
              "#bd3786"
             ],
             [
              0.5555555555555556,
              "#d8576b"
             ],
             [
              0.6666666666666666,
              "#ed7953"
             ],
             [
              0.7777777777777778,
              "#fb9f3a"
             ],
             [
              0.8888888888888888,
              "#fdca26"
             ],
             [
              1,
              "#f0f921"
             ]
            ],
            "type": "histogram2dcontour"
           }
          ],
          "mesh3d": [
           {
            "colorbar": {
             "outlinewidth": 0,
             "ticks": ""
            },
            "type": "mesh3d"
           }
          ],
          "parcoords": [
           {
            "line": {
             "colorbar": {
              "outlinewidth": 0,
              "ticks": ""
             }
            },
            "type": "parcoords"
           }
          ],
          "pie": [
           {
            "automargin": true,
            "type": "pie"
           }
          ],
          "scatter": [
           {
            "fillpattern": {
             "fillmode": "overlay",
             "size": 10,
             "solidity": 0.2
            },
            "type": "scatter"
           }
          ],
          "scatter3d": [
           {
            "line": {
             "colorbar": {
              "outlinewidth": 0,
              "ticks": ""
             }
            },
            "marker": {
             "colorbar": {
              "outlinewidth": 0,
              "ticks": ""
             }
            },
            "type": "scatter3d"
           }
          ],
          "scattercarpet": [
           {
            "marker": {
             "colorbar": {
              "outlinewidth": 0,
              "ticks": ""
             }
            },
            "type": "scattercarpet"
           }
          ],
          "scattergeo": [
           {
            "marker": {
             "colorbar": {
              "outlinewidth": 0,
              "ticks": ""
             }
            },
            "type": "scattergeo"
           }
          ],
          "scattergl": [
           {
            "marker": {
             "colorbar": {
              "outlinewidth": 0,
              "ticks": ""
             }
            },
            "type": "scattergl"
           }
          ],
          "scattermapbox": [
           {
            "marker": {
             "colorbar": {
              "outlinewidth": 0,
              "ticks": ""
             }
            },
            "type": "scattermapbox"
           }
          ],
          "scatterpolar": [
           {
            "marker": {
             "colorbar": {
              "outlinewidth": 0,
              "ticks": ""
             }
            },
            "type": "scatterpolar"
           }
          ],
          "scatterpolargl": [
           {
            "marker": {
             "colorbar": {
              "outlinewidth": 0,
              "ticks": ""
             }
            },
            "type": "scatterpolargl"
           }
          ],
          "scatterternary": [
           {
            "marker": {
             "colorbar": {
              "outlinewidth": 0,
              "ticks": ""
             }
            },
            "type": "scatterternary"
           }
          ],
          "surface": [
           {
            "colorbar": {
             "outlinewidth": 0,
             "ticks": ""
            },
            "colorscale": [
             [
              0,
              "#0d0887"
             ],
             [
              0.1111111111111111,
              "#46039f"
             ],
             [
              0.2222222222222222,
              "#7201a8"
             ],
             [
              0.3333333333333333,
              "#9c179e"
             ],
             [
              0.4444444444444444,
              "#bd3786"
             ],
             [
              0.5555555555555556,
              "#d8576b"
             ],
             [
              0.6666666666666666,
              "#ed7953"
             ],
             [
              0.7777777777777778,
              "#fb9f3a"
             ],
             [
              0.8888888888888888,
              "#fdca26"
             ],
             [
              1,
              "#f0f921"
             ]
            ],
            "type": "surface"
           }
          ],
          "table": [
           {
            "cells": {
             "fill": {
              "color": "#EBF0F8"
             },
             "line": {
              "color": "white"
             }
            },
            "header": {
             "fill": {
              "color": "#C8D4E3"
             },
             "line": {
              "color": "white"
             }
            },
            "type": "table"
           }
          ]
         },
         "layout": {
          "annotationdefaults": {
           "arrowcolor": "#2a3f5f",
           "arrowhead": 0,
           "arrowwidth": 1
          },
          "autotypenumbers": "strict",
          "coloraxis": {
           "colorbar": {
            "outlinewidth": 0,
            "ticks": ""
           }
          },
          "colorscale": {
           "diverging": [
            [
             0,
             "#8e0152"
            ],
            [
             0.1,
             "#c51b7d"
            ],
            [
             0.2,
             "#de77ae"
            ],
            [
             0.3,
             "#f1b6da"
            ],
            [
             0.4,
             "#fde0ef"
            ],
            [
             0.5,
             "#f7f7f7"
            ],
            [
             0.6,
             "#e6f5d0"
            ],
            [
             0.7,
             "#b8e186"
            ],
            [
             0.8,
             "#7fbc41"
            ],
            [
             0.9,
             "#4d9221"
            ],
            [
             1,
             "#276419"
            ]
           ],
           "sequential": [
            [
             0,
             "#0d0887"
            ],
            [
             0.1111111111111111,
             "#46039f"
            ],
            [
             0.2222222222222222,
             "#7201a8"
            ],
            [
             0.3333333333333333,
             "#9c179e"
            ],
            [
             0.4444444444444444,
             "#bd3786"
            ],
            [
             0.5555555555555556,
             "#d8576b"
            ],
            [
             0.6666666666666666,
             "#ed7953"
            ],
            [
             0.7777777777777778,
             "#fb9f3a"
            ],
            [
             0.8888888888888888,
             "#fdca26"
            ],
            [
             1,
             "#f0f921"
            ]
           ],
           "sequentialminus": [
            [
             0,
             "#0d0887"
            ],
            [
             0.1111111111111111,
             "#46039f"
            ],
            [
             0.2222222222222222,
             "#7201a8"
            ],
            [
             0.3333333333333333,
             "#9c179e"
            ],
            [
             0.4444444444444444,
             "#bd3786"
            ],
            [
             0.5555555555555556,
             "#d8576b"
            ],
            [
             0.6666666666666666,
             "#ed7953"
            ],
            [
             0.7777777777777778,
             "#fb9f3a"
            ],
            [
             0.8888888888888888,
             "#fdca26"
            ],
            [
             1,
             "#f0f921"
            ]
           ]
          },
          "colorway": [
           "#636efa",
           "#EF553B",
           "#00cc96",
           "#ab63fa",
           "#FFA15A",
           "#19d3f3",
           "#FF6692",
           "#B6E880",
           "#FF97FF",
           "#FECB52"
          ],
          "font": {
           "color": "#2a3f5f"
          },
          "geo": {
           "bgcolor": "white",
           "lakecolor": "white",
           "landcolor": "#E5ECF6",
           "showlakes": true,
           "showland": true,
           "subunitcolor": "white"
          },
          "hoverlabel": {
           "align": "left"
          },
          "hovermode": "closest",
          "mapbox": {
           "style": "light"
          },
          "paper_bgcolor": "white",
          "plot_bgcolor": "#E5ECF6",
          "polar": {
           "angularaxis": {
            "gridcolor": "white",
            "linecolor": "white",
            "ticks": ""
           },
           "bgcolor": "#E5ECF6",
           "radialaxis": {
            "gridcolor": "white",
            "linecolor": "white",
            "ticks": ""
           }
          },
          "scene": {
           "xaxis": {
            "backgroundcolor": "#E5ECF6",
            "gridcolor": "white",
            "gridwidth": 2,
            "linecolor": "white",
            "showbackground": true,
            "ticks": "",
            "zerolinecolor": "white"
           },
           "yaxis": {
            "backgroundcolor": "#E5ECF6",
            "gridcolor": "white",
            "gridwidth": 2,
            "linecolor": "white",
            "showbackground": true,
            "ticks": "",
            "zerolinecolor": "white"
           },
           "zaxis": {
            "backgroundcolor": "#E5ECF6",
            "gridcolor": "white",
            "gridwidth": 2,
            "linecolor": "white",
            "showbackground": true,
            "ticks": "",
            "zerolinecolor": "white"
           }
          },
          "shapedefaults": {
           "line": {
            "color": "#2a3f5f"
           }
          },
          "ternary": {
           "aaxis": {
            "gridcolor": "white",
            "linecolor": "white",
            "ticks": ""
           },
           "baxis": {
            "gridcolor": "white",
            "linecolor": "white",
            "ticks": ""
           },
           "bgcolor": "#E5ECF6",
           "caxis": {
            "gridcolor": "white",
            "linecolor": "white",
            "ticks": ""
           }
          },
          "title": {
           "x": 0.05
          },
          "xaxis": {
           "automargin": true,
           "gridcolor": "white",
           "linecolor": "white",
           "ticks": "",
           "title": {
            "standoff": 15
           },
           "zerolinecolor": "white",
           "zerolinewidth": 2
          },
          "yaxis": {
           "automargin": true,
           "gridcolor": "white",
           "linecolor": "white",
           "ticks": "",
           "title": {
            "standoff": 15
           },
           "zerolinecolor": "white",
           "zerolinewidth": 2
          }
         }
        }
       }
      }
     },
     "metadata": {},
     "output_type": "display_data"
    }
   ],
   "source": [
    "compare_visual(final_OSA.sum()*10,\"000920\")"
   ]
  },
  {
   "cell_type": "code",
   "execution_count": 1017,
   "metadata": {},
   "outputs": [
    {
     "name": "stderr",
     "output_type": "stream",
     "text": [
      "C:\\Users\\Franz\\AppData\\Local\\Temp\\ipykernel_15872\\3096962253.py:3: FutureWarning:\n",
      "\n",
      "The default dtype for empty Series will be 'object' instead of 'float64' in a future version. Specify a dtype explicitly to silence this warning.\n",
      "\n"
     ]
    },
    {
     "data": {
      "application/vnd.plotly.v1+json": {
       "config": {
        "plotlyServerURL": "https://plot.ly"
       },
       "data": [
        {
         "fill": "toself",
         "name": "panelist",
         "r": [
          4,
          3,
          4,
          5,
          3
         ],
         "theta": [
          "floral",
          "fruit",
          "sweet",
          "wood",
          "peat"
         ],
         "type": "scatterpolar"
        },
        {
         "fill": "toself",
         "name": "MS_prediction",
         "r": [
          2.334625039943334,
          2.3082944139070745,
          4.098397929513758,
          1.7246381539212408,
          0
         ],
         "theta": [
          "floral",
          "fruit",
          "sweet",
          "wood",
          "peat"
         ],
         "type": "scatterpolar"
        }
       ],
       "layout": {
        "polar": {
         "radialaxis": {
          "range": [
           0,
           10
          ],
          "visible": true
         }
        },
        "showlegend": false,
        "template": {
         "data": {
          "bar": [
           {
            "error_x": {
             "color": "#2a3f5f"
            },
            "error_y": {
             "color": "#2a3f5f"
            },
            "marker": {
             "line": {
              "color": "#E5ECF6",
              "width": 0.5
             },
             "pattern": {
              "fillmode": "overlay",
              "size": 10,
              "solidity": 0.2
             }
            },
            "type": "bar"
           }
          ],
          "barpolar": [
           {
            "marker": {
             "line": {
              "color": "#E5ECF6",
              "width": 0.5
             },
             "pattern": {
              "fillmode": "overlay",
              "size": 10,
              "solidity": 0.2
             }
            },
            "type": "barpolar"
           }
          ],
          "carpet": [
           {
            "aaxis": {
             "endlinecolor": "#2a3f5f",
             "gridcolor": "white",
             "linecolor": "white",
             "minorgridcolor": "white",
             "startlinecolor": "#2a3f5f"
            },
            "baxis": {
             "endlinecolor": "#2a3f5f",
             "gridcolor": "white",
             "linecolor": "white",
             "minorgridcolor": "white",
             "startlinecolor": "#2a3f5f"
            },
            "type": "carpet"
           }
          ],
          "choropleth": [
           {
            "colorbar": {
             "outlinewidth": 0,
             "ticks": ""
            },
            "type": "choropleth"
           }
          ],
          "contour": [
           {
            "colorbar": {
             "outlinewidth": 0,
             "ticks": ""
            },
            "colorscale": [
             [
              0,
              "#0d0887"
             ],
             [
              0.1111111111111111,
              "#46039f"
             ],
             [
              0.2222222222222222,
              "#7201a8"
             ],
             [
              0.3333333333333333,
              "#9c179e"
             ],
             [
              0.4444444444444444,
              "#bd3786"
             ],
             [
              0.5555555555555556,
              "#d8576b"
             ],
             [
              0.6666666666666666,
              "#ed7953"
             ],
             [
              0.7777777777777778,
              "#fb9f3a"
             ],
             [
              0.8888888888888888,
              "#fdca26"
             ],
             [
              1,
              "#f0f921"
             ]
            ],
            "type": "contour"
           }
          ],
          "contourcarpet": [
           {
            "colorbar": {
             "outlinewidth": 0,
             "ticks": ""
            },
            "type": "contourcarpet"
           }
          ],
          "heatmap": [
           {
            "colorbar": {
             "outlinewidth": 0,
             "ticks": ""
            },
            "colorscale": [
             [
              0,
              "#0d0887"
             ],
             [
              0.1111111111111111,
              "#46039f"
             ],
             [
              0.2222222222222222,
              "#7201a8"
             ],
             [
              0.3333333333333333,
              "#9c179e"
             ],
             [
              0.4444444444444444,
              "#bd3786"
             ],
             [
              0.5555555555555556,
              "#d8576b"
             ],
             [
              0.6666666666666666,
              "#ed7953"
             ],
             [
              0.7777777777777778,
              "#fb9f3a"
             ],
             [
              0.8888888888888888,
              "#fdca26"
             ],
             [
              1,
              "#f0f921"
             ]
            ],
            "type": "heatmap"
           }
          ],
          "heatmapgl": [
           {
            "colorbar": {
             "outlinewidth": 0,
             "ticks": ""
            },
            "colorscale": [
             [
              0,
              "#0d0887"
             ],
             [
              0.1111111111111111,
              "#46039f"
             ],
             [
              0.2222222222222222,
              "#7201a8"
             ],
             [
              0.3333333333333333,
              "#9c179e"
             ],
             [
              0.4444444444444444,
              "#bd3786"
             ],
             [
              0.5555555555555556,
              "#d8576b"
             ],
             [
              0.6666666666666666,
              "#ed7953"
             ],
             [
              0.7777777777777778,
              "#fb9f3a"
             ],
             [
              0.8888888888888888,
              "#fdca26"
             ],
             [
              1,
              "#f0f921"
             ]
            ],
            "type": "heatmapgl"
           }
          ],
          "histogram": [
           {
            "marker": {
             "pattern": {
              "fillmode": "overlay",
              "size": 10,
              "solidity": 0.2
             }
            },
            "type": "histogram"
           }
          ],
          "histogram2d": [
           {
            "colorbar": {
             "outlinewidth": 0,
             "ticks": ""
            },
            "colorscale": [
             [
              0,
              "#0d0887"
             ],
             [
              0.1111111111111111,
              "#46039f"
             ],
             [
              0.2222222222222222,
              "#7201a8"
             ],
             [
              0.3333333333333333,
              "#9c179e"
             ],
             [
              0.4444444444444444,
              "#bd3786"
             ],
             [
              0.5555555555555556,
              "#d8576b"
             ],
             [
              0.6666666666666666,
              "#ed7953"
             ],
             [
              0.7777777777777778,
              "#fb9f3a"
             ],
             [
              0.8888888888888888,
              "#fdca26"
             ],
             [
              1,
              "#f0f921"
             ]
            ],
            "type": "histogram2d"
           }
          ],
          "histogram2dcontour": [
           {
            "colorbar": {
             "outlinewidth": 0,
             "ticks": ""
            },
            "colorscale": [
             [
              0,
              "#0d0887"
             ],
             [
              0.1111111111111111,
              "#46039f"
             ],
             [
              0.2222222222222222,
              "#7201a8"
             ],
             [
              0.3333333333333333,
              "#9c179e"
             ],
             [
              0.4444444444444444,
              "#bd3786"
             ],
             [
              0.5555555555555556,
              "#d8576b"
             ],
             [
              0.6666666666666666,
              "#ed7953"
             ],
             [
              0.7777777777777778,
              "#fb9f3a"
             ],
             [
              0.8888888888888888,
              "#fdca26"
             ],
             [
              1,
              "#f0f921"
             ]
            ],
            "type": "histogram2dcontour"
           }
          ],
          "mesh3d": [
           {
            "colorbar": {
             "outlinewidth": 0,
             "ticks": ""
            },
            "type": "mesh3d"
           }
          ],
          "parcoords": [
           {
            "line": {
             "colorbar": {
              "outlinewidth": 0,
              "ticks": ""
             }
            },
            "type": "parcoords"
           }
          ],
          "pie": [
           {
            "automargin": true,
            "type": "pie"
           }
          ],
          "scatter": [
           {
            "fillpattern": {
             "fillmode": "overlay",
             "size": 10,
             "solidity": 0.2
            },
            "type": "scatter"
           }
          ],
          "scatter3d": [
           {
            "line": {
             "colorbar": {
              "outlinewidth": 0,
              "ticks": ""
             }
            },
            "marker": {
             "colorbar": {
              "outlinewidth": 0,
              "ticks": ""
             }
            },
            "type": "scatter3d"
           }
          ],
          "scattercarpet": [
           {
            "marker": {
             "colorbar": {
              "outlinewidth": 0,
              "ticks": ""
             }
            },
            "type": "scattercarpet"
           }
          ],
          "scattergeo": [
           {
            "marker": {
             "colorbar": {
              "outlinewidth": 0,
              "ticks": ""
             }
            },
            "type": "scattergeo"
           }
          ],
          "scattergl": [
           {
            "marker": {
             "colorbar": {
              "outlinewidth": 0,
              "ticks": ""
             }
            },
            "type": "scattergl"
           }
          ],
          "scattermapbox": [
           {
            "marker": {
             "colorbar": {
              "outlinewidth": 0,
              "ticks": ""
             }
            },
            "type": "scattermapbox"
           }
          ],
          "scatterpolar": [
           {
            "marker": {
             "colorbar": {
              "outlinewidth": 0,
              "ticks": ""
             }
            },
            "type": "scatterpolar"
           }
          ],
          "scatterpolargl": [
           {
            "marker": {
             "colorbar": {
              "outlinewidth": 0,
              "ticks": ""
             }
            },
            "type": "scatterpolargl"
           }
          ],
          "scatterternary": [
           {
            "marker": {
             "colorbar": {
              "outlinewidth": 0,
              "ticks": ""
             }
            },
            "type": "scatterternary"
           }
          ],
          "surface": [
           {
            "colorbar": {
             "outlinewidth": 0,
             "ticks": ""
            },
            "colorscale": [
             [
              0,
              "#0d0887"
             ],
             [
              0.1111111111111111,
              "#46039f"
             ],
             [
              0.2222222222222222,
              "#7201a8"
             ],
             [
              0.3333333333333333,
              "#9c179e"
             ],
             [
              0.4444444444444444,
              "#bd3786"
             ],
             [
              0.5555555555555556,
              "#d8576b"
             ],
             [
              0.6666666666666666,
              "#ed7953"
             ],
             [
              0.7777777777777778,
              "#fb9f3a"
             ],
             [
              0.8888888888888888,
              "#fdca26"
             ],
             [
              1,
              "#f0f921"
             ]
            ],
            "type": "surface"
           }
          ],
          "table": [
           {
            "cells": {
             "fill": {
              "color": "#EBF0F8"
             },
             "line": {
              "color": "white"
             }
            },
            "header": {
             "fill": {
              "color": "#C8D4E3"
             },
             "line": {
              "color": "white"
             }
            },
            "type": "table"
           }
          ]
         },
         "layout": {
          "annotationdefaults": {
           "arrowcolor": "#2a3f5f",
           "arrowhead": 0,
           "arrowwidth": 1
          },
          "autotypenumbers": "strict",
          "coloraxis": {
           "colorbar": {
            "outlinewidth": 0,
            "ticks": ""
           }
          },
          "colorscale": {
           "diverging": [
            [
             0,
             "#8e0152"
            ],
            [
             0.1,
             "#c51b7d"
            ],
            [
             0.2,
             "#de77ae"
            ],
            [
             0.3,
             "#f1b6da"
            ],
            [
             0.4,
             "#fde0ef"
            ],
            [
             0.5,
             "#f7f7f7"
            ],
            [
             0.6,
             "#e6f5d0"
            ],
            [
             0.7,
             "#b8e186"
            ],
            [
             0.8,
             "#7fbc41"
            ],
            [
             0.9,
             "#4d9221"
            ],
            [
             1,
             "#276419"
            ]
           ],
           "sequential": [
            [
             0,
             "#0d0887"
            ],
            [
             0.1111111111111111,
             "#46039f"
            ],
            [
             0.2222222222222222,
             "#7201a8"
            ],
            [
             0.3333333333333333,
             "#9c179e"
            ],
            [
             0.4444444444444444,
             "#bd3786"
            ],
            [
             0.5555555555555556,
             "#d8576b"
            ],
            [
             0.6666666666666666,
             "#ed7953"
            ],
            [
             0.7777777777777778,
             "#fb9f3a"
            ],
            [
             0.8888888888888888,
             "#fdca26"
            ],
            [
             1,
             "#f0f921"
            ]
           ],
           "sequentialminus": [
            [
             0,
             "#0d0887"
            ],
            [
             0.1111111111111111,
             "#46039f"
            ],
            [
             0.2222222222222222,
             "#7201a8"
            ],
            [
             0.3333333333333333,
             "#9c179e"
            ],
            [
             0.4444444444444444,
             "#bd3786"
            ],
            [
             0.5555555555555556,
             "#d8576b"
            ],
            [
             0.6666666666666666,
             "#ed7953"
            ],
            [
             0.7777777777777778,
             "#fb9f3a"
            ],
            [
             0.8888888888888888,
             "#fdca26"
            ],
            [
             1,
             "#f0f921"
            ]
           ]
          },
          "colorway": [
           "#636efa",
           "#EF553B",
           "#00cc96",
           "#ab63fa",
           "#FFA15A",
           "#19d3f3",
           "#FF6692",
           "#B6E880",
           "#FF97FF",
           "#FECB52"
          ],
          "font": {
           "color": "#2a3f5f"
          },
          "geo": {
           "bgcolor": "white",
           "lakecolor": "white",
           "landcolor": "#E5ECF6",
           "showlakes": true,
           "showland": true,
           "subunitcolor": "white"
          },
          "hoverlabel": {
           "align": "left"
          },
          "hovermode": "closest",
          "mapbox": {
           "style": "light"
          },
          "paper_bgcolor": "white",
          "plot_bgcolor": "#E5ECF6",
          "polar": {
           "angularaxis": {
            "gridcolor": "white",
            "linecolor": "white",
            "ticks": ""
           },
           "bgcolor": "#E5ECF6",
           "radialaxis": {
            "gridcolor": "white",
            "linecolor": "white",
            "ticks": ""
           }
          },
          "scene": {
           "xaxis": {
            "backgroundcolor": "#E5ECF6",
            "gridcolor": "white",
            "gridwidth": 2,
            "linecolor": "white",
            "showbackground": true,
            "ticks": "",
            "zerolinecolor": "white"
           },
           "yaxis": {
            "backgroundcolor": "#E5ECF6",
            "gridcolor": "white",
            "gridwidth": 2,
            "linecolor": "white",
            "showbackground": true,
            "ticks": "",
            "zerolinecolor": "white"
           },
           "zaxis": {
            "backgroundcolor": "#E5ECF6",
            "gridcolor": "white",
            "gridwidth": 2,
            "linecolor": "white",
            "showbackground": true,
            "ticks": "",
            "zerolinecolor": "white"
           }
          },
          "shapedefaults": {
           "line": {
            "color": "#2a3f5f"
           }
          },
          "ternary": {
           "aaxis": {
            "gridcolor": "white",
            "linecolor": "white",
            "ticks": ""
           },
           "baxis": {
            "gridcolor": "white",
            "linecolor": "white",
            "ticks": ""
           },
           "bgcolor": "#E5ECF6",
           "caxis": {
            "gridcolor": "white",
            "linecolor": "white",
            "ticks": ""
           }
          },
          "title": {
           "x": 0.05
          },
          "xaxis": {
           "automargin": true,
           "gridcolor": "white",
           "linecolor": "white",
           "ticks": "",
           "title": {
            "standoff": 15
           },
           "zerolinecolor": "white",
           "zerolinewidth": 2
          },
          "yaxis": {
           "automargin": true,
           "gridcolor": "white",
           "linecolor": "white",
           "ticks": "",
           "title": {
            "standoff": 15
           },
           "zerolinecolor": "white",
           "zerolinewidth": 2
          }
         }
        }
       }
      }
     },
     "metadata": {},
     "output_type": "display_data"
    }
   ],
   "source": [
    "compare_visual(final_OSA.mean(axis=0)*700,\"000920\")"
   ]
  },
  {
   "cell_type": "code",
   "execution_count": 1014,
   "metadata": {},
   "outputs": [
    {
     "data": {
      "application/vnd.plotly.v1+json": {
       "config": {
        "plotlyServerURL": "https://plot.ly"
       },
       "data": [
        {
         "fill": "toself",
         "r": [
          0,
          4,
          3,
          4,
          5,
          0
         ],
         "theta": [
          "Green",
          "floral",
          "fruit",
          "sweet",
          "wood",
          "spicy"
         ],
         "type": "scatterpolar"
        }
       ],
       "layout": {
        "polar": {
         "radialaxis": {
          "range": [
           0,
           10
          ],
          "visible": true
         }
        },
        "showlegend": false,
        "template": {
         "data": {
          "bar": [
           {
            "error_x": {
             "color": "#2a3f5f"
            },
            "error_y": {
             "color": "#2a3f5f"
            },
            "marker": {
             "line": {
              "color": "#E5ECF6",
              "width": 0.5
             },
             "pattern": {
              "fillmode": "overlay",
              "size": 10,
              "solidity": 0.2
             }
            },
            "type": "bar"
           }
          ],
          "barpolar": [
           {
            "marker": {
             "line": {
              "color": "#E5ECF6",
              "width": 0.5
             },
             "pattern": {
              "fillmode": "overlay",
              "size": 10,
              "solidity": 0.2
             }
            },
            "type": "barpolar"
           }
          ],
          "carpet": [
           {
            "aaxis": {
             "endlinecolor": "#2a3f5f",
             "gridcolor": "white",
             "linecolor": "white",
             "minorgridcolor": "white",
             "startlinecolor": "#2a3f5f"
            },
            "baxis": {
             "endlinecolor": "#2a3f5f",
             "gridcolor": "white",
             "linecolor": "white",
             "minorgridcolor": "white",
             "startlinecolor": "#2a3f5f"
            },
            "type": "carpet"
           }
          ],
          "choropleth": [
           {
            "colorbar": {
             "outlinewidth": 0,
             "ticks": ""
            },
            "type": "choropleth"
           }
          ],
          "contour": [
           {
            "colorbar": {
             "outlinewidth": 0,
             "ticks": ""
            },
            "colorscale": [
             [
              0,
              "#0d0887"
             ],
             [
              0.1111111111111111,
              "#46039f"
             ],
             [
              0.2222222222222222,
              "#7201a8"
             ],
             [
              0.3333333333333333,
              "#9c179e"
             ],
             [
              0.4444444444444444,
              "#bd3786"
             ],
             [
              0.5555555555555556,
              "#d8576b"
             ],
             [
              0.6666666666666666,
              "#ed7953"
             ],
             [
              0.7777777777777778,
              "#fb9f3a"
             ],
             [
              0.8888888888888888,
              "#fdca26"
             ],
             [
              1,
              "#f0f921"
             ]
            ],
            "type": "contour"
           }
          ],
          "contourcarpet": [
           {
            "colorbar": {
             "outlinewidth": 0,
             "ticks": ""
            },
            "type": "contourcarpet"
           }
          ],
          "heatmap": [
           {
            "colorbar": {
             "outlinewidth": 0,
             "ticks": ""
            },
            "colorscale": [
             [
              0,
              "#0d0887"
             ],
             [
              0.1111111111111111,
              "#46039f"
             ],
             [
              0.2222222222222222,
              "#7201a8"
             ],
             [
              0.3333333333333333,
              "#9c179e"
             ],
             [
              0.4444444444444444,
              "#bd3786"
             ],
             [
              0.5555555555555556,
              "#d8576b"
             ],
             [
              0.6666666666666666,
              "#ed7953"
             ],
             [
              0.7777777777777778,
              "#fb9f3a"
             ],
             [
              0.8888888888888888,
              "#fdca26"
             ],
             [
              1,
              "#f0f921"
             ]
            ],
            "type": "heatmap"
           }
          ],
          "heatmapgl": [
           {
            "colorbar": {
             "outlinewidth": 0,
             "ticks": ""
            },
            "colorscale": [
             [
              0,
              "#0d0887"
             ],
             [
              0.1111111111111111,
              "#46039f"
             ],
             [
              0.2222222222222222,
              "#7201a8"
             ],
             [
              0.3333333333333333,
              "#9c179e"
             ],
             [
              0.4444444444444444,
              "#bd3786"
             ],
             [
              0.5555555555555556,
              "#d8576b"
             ],
             [
              0.6666666666666666,
              "#ed7953"
             ],
             [
              0.7777777777777778,
              "#fb9f3a"
             ],
             [
              0.8888888888888888,
              "#fdca26"
             ],
             [
              1,
              "#f0f921"
             ]
            ],
            "type": "heatmapgl"
           }
          ],
          "histogram": [
           {
            "marker": {
             "pattern": {
              "fillmode": "overlay",
              "size": 10,
              "solidity": 0.2
             }
            },
            "type": "histogram"
           }
          ],
          "histogram2d": [
           {
            "colorbar": {
             "outlinewidth": 0,
             "ticks": ""
            },
            "colorscale": [
             [
              0,
              "#0d0887"
             ],
             [
              0.1111111111111111,
              "#46039f"
             ],
             [
              0.2222222222222222,
              "#7201a8"
             ],
             [
              0.3333333333333333,
              "#9c179e"
             ],
             [
              0.4444444444444444,
              "#bd3786"
             ],
             [
              0.5555555555555556,
              "#d8576b"
             ],
             [
              0.6666666666666666,
              "#ed7953"
             ],
             [
              0.7777777777777778,
              "#fb9f3a"
             ],
             [
              0.8888888888888888,
              "#fdca26"
             ],
             [
              1,
              "#f0f921"
             ]
            ],
            "type": "histogram2d"
           }
          ],
          "histogram2dcontour": [
           {
            "colorbar": {
             "outlinewidth": 0,
             "ticks": ""
            },
            "colorscale": [
             [
              0,
              "#0d0887"
             ],
             [
              0.1111111111111111,
              "#46039f"
             ],
             [
              0.2222222222222222,
              "#7201a8"
             ],
             [
              0.3333333333333333,
              "#9c179e"
             ],
             [
              0.4444444444444444,
              "#bd3786"
             ],
             [
              0.5555555555555556,
              "#d8576b"
             ],
             [
              0.6666666666666666,
              "#ed7953"
             ],
             [
              0.7777777777777778,
              "#fb9f3a"
             ],
             [
              0.8888888888888888,
              "#fdca26"
             ],
             [
              1,
              "#f0f921"
             ]
            ],
            "type": "histogram2dcontour"
           }
          ],
          "mesh3d": [
           {
            "colorbar": {
             "outlinewidth": 0,
             "ticks": ""
            },
            "type": "mesh3d"
           }
          ],
          "parcoords": [
           {
            "line": {
             "colorbar": {
              "outlinewidth": 0,
              "ticks": ""
             }
            },
            "type": "parcoords"
           }
          ],
          "pie": [
           {
            "automargin": true,
            "type": "pie"
           }
          ],
          "scatter": [
           {
            "fillpattern": {
             "fillmode": "overlay",
             "size": 10,
             "solidity": 0.2
            },
            "type": "scatter"
           }
          ],
          "scatter3d": [
           {
            "line": {
             "colorbar": {
              "outlinewidth": 0,
              "ticks": ""
             }
            },
            "marker": {
             "colorbar": {
              "outlinewidth": 0,
              "ticks": ""
             }
            },
            "type": "scatter3d"
           }
          ],
          "scattercarpet": [
           {
            "marker": {
             "colorbar": {
              "outlinewidth": 0,
              "ticks": ""
             }
            },
            "type": "scattercarpet"
           }
          ],
          "scattergeo": [
           {
            "marker": {
             "colorbar": {
              "outlinewidth": 0,
              "ticks": ""
             }
            },
            "type": "scattergeo"
           }
          ],
          "scattergl": [
           {
            "marker": {
             "colorbar": {
              "outlinewidth": 0,
              "ticks": ""
             }
            },
            "type": "scattergl"
           }
          ],
          "scattermapbox": [
           {
            "marker": {
             "colorbar": {
              "outlinewidth": 0,
              "ticks": ""
             }
            },
            "type": "scattermapbox"
           }
          ],
          "scatterpolar": [
           {
            "marker": {
             "colorbar": {
              "outlinewidth": 0,
              "ticks": ""
             }
            },
            "type": "scatterpolar"
           }
          ],
          "scatterpolargl": [
           {
            "marker": {
             "colorbar": {
              "outlinewidth": 0,
              "ticks": ""
             }
            },
            "type": "scatterpolargl"
           }
          ],
          "scatterternary": [
           {
            "marker": {
             "colorbar": {
              "outlinewidth": 0,
              "ticks": ""
             }
            },
            "type": "scatterternary"
           }
          ],
          "surface": [
           {
            "colorbar": {
             "outlinewidth": 0,
             "ticks": ""
            },
            "colorscale": [
             [
              0,
              "#0d0887"
             ],
             [
              0.1111111111111111,
              "#46039f"
             ],
             [
              0.2222222222222222,
              "#7201a8"
             ],
             [
              0.3333333333333333,
              "#9c179e"
             ],
             [
              0.4444444444444444,
              "#bd3786"
             ],
             [
              0.5555555555555556,
              "#d8576b"
             ],
             [
              0.6666666666666666,
              "#ed7953"
             ],
             [
              0.7777777777777778,
              "#fb9f3a"
             ],
             [
              0.8888888888888888,
              "#fdca26"
             ],
             [
              1,
              "#f0f921"
             ]
            ],
            "type": "surface"
           }
          ],
          "table": [
           {
            "cells": {
             "fill": {
              "color": "#EBF0F8"
             },
             "line": {
              "color": "white"
             }
            },
            "header": {
             "fill": {
              "color": "#C8D4E3"
             },
             "line": {
              "color": "white"
             }
            },
            "type": "table"
           }
          ]
         },
         "layout": {
          "annotationdefaults": {
           "arrowcolor": "#2a3f5f",
           "arrowhead": 0,
           "arrowwidth": 1
          },
          "autotypenumbers": "strict",
          "coloraxis": {
           "colorbar": {
            "outlinewidth": 0,
            "ticks": ""
           }
          },
          "colorscale": {
           "diverging": [
            [
             0,
             "#8e0152"
            ],
            [
             0.1,
             "#c51b7d"
            ],
            [
             0.2,
             "#de77ae"
            ],
            [
             0.3,
             "#f1b6da"
            ],
            [
             0.4,
             "#fde0ef"
            ],
            [
             0.5,
             "#f7f7f7"
            ],
            [
             0.6,
             "#e6f5d0"
            ],
            [
             0.7,
             "#b8e186"
            ],
            [
             0.8,
             "#7fbc41"
            ],
            [
             0.9,
             "#4d9221"
            ],
            [
             1,
             "#276419"
            ]
           ],
           "sequential": [
            [
             0,
             "#0d0887"
            ],
            [
             0.1111111111111111,
             "#46039f"
            ],
            [
             0.2222222222222222,
             "#7201a8"
            ],
            [
             0.3333333333333333,
             "#9c179e"
            ],
            [
             0.4444444444444444,
             "#bd3786"
            ],
            [
             0.5555555555555556,
             "#d8576b"
            ],
            [
             0.6666666666666666,
             "#ed7953"
            ],
            [
             0.7777777777777778,
             "#fb9f3a"
            ],
            [
             0.8888888888888888,
             "#fdca26"
            ],
            [
             1,
             "#f0f921"
            ]
           ],
           "sequentialminus": [
            [
             0,
             "#0d0887"
            ],
            [
             0.1111111111111111,
             "#46039f"
            ],
            [
             0.2222222222222222,
             "#7201a8"
            ],
            [
             0.3333333333333333,
             "#9c179e"
            ],
            [
             0.4444444444444444,
             "#bd3786"
            ],
            [
             0.5555555555555556,
             "#d8576b"
            ],
            [
             0.6666666666666666,
             "#ed7953"
            ],
            [
             0.7777777777777778,
             "#fb9f3a"
            ],
            [
             0.8888888888888888,
             "#fdca26"
            ],
            [
             1,
             "#f0f921"
            ]
           ]
          },
          "colorway": [
           "#636efa",
           "#EF553B",
           "#00cc96",
           "#ab63fa",
           "#FFA15A",
           "#19d3f3",
           "#FF6692",
           "#B6E880",
           "#FF97FF",
           "#FECB52"
          ],
          "font": {
           "color": "#2a3f5f"
          },
          "geo": {
           "bgcolor": "white",
           "lakecolor": "white",
           "landcolor": "#E5ECF6",
           "showlakes": true,
           "showland": true,
           "subunitcolor": "white"
          },
          "hoverlabel": {
           "align": "left"
          },
          "hovermode": "closest",
          "mapbox": {
           "style": "light"
          },
          "paper_bgcolor": "white",
          "plot_bgcolor": "#E5ECF6",
          "polar": {
           "angularaxis": {
            "gridcolor": "white",
            "linecolor": "white",
            "ticks": ""
           },
           "bgcolor": "#E5ECF6",
           "radialaxis": {
            "gridcolor": "white",
            "linecolor": "white",
            "ticks": ""
           }
          },
          "scene": {
           "xaxis": {
            "backgroundcolor": "#E5ECF6",
            "gridcolor": "white",
            "gridwidth": 2,
            "linecolor": "white",
            "showbackground": true,
            "ticks": "",
            "zerolinecolor": "white"
           },
           "yaxis": {
            "backgroundcolor": "#E5ECF6",
            "gridcolor": "white",
            "gridwidth": 2,
            "linecolor": "white",
            "showbackground": true,
            "ticks": "",
            "zerolinecolor": "white"
           },
           "zaxis": {
            "backgroundcolor": "#E5ECF6",
            "gridcolor": "white",
            "gridwidth": 2,
            "linecolor": "white",
            "showbackground": true,
            "ticks": "",
            "zerolinecolor": "white"
           }
          },
          "shapedefaults": {
           "line": {
            "color": "#2a3f5f"
           }
          },
          "ternary": {
           "aaxis": {
            "gridcolor": "white",
            "linecolor": "white",
            "ticks": ""
           },
           "baxis": {
            "gridcolor": "white",
            "linecolor": "white",
            "ticks": ""
           },
           "bgcolor": "#E5ECF6",
           "caxis": {
            "gridcolor": "white",
            "linecolor": "white",
            "ticks": ""
           }
          },
          "title": {
           "x": 0.05
          },
          "xaxis": {
           "automargin": true,
           "gridcolor": "white",
           "linecolor": "white",
           "ticks": "",
           "title": {
            "standoff": 15
           },
           "zerolinecolor": "white",
           "zerolinewidth": 2
          },
          "yaxis": {
           "automargin": true,
           "gridcolor": "white",
           "linecolor": "white",
           "ticks": "",
           "title": {
            "standoff": 15
           },
           "zerolinecolor": "white",
           "zerolinewidth": 2
          }
         }
        }
       }
      }
     },
     "metadata": {},
     "output_type": "display_data"
    }
   ],
   "source": [
    "\n",
    "fig = go.Figure()\n",
    "fig.add_trace(go.Scatterpolar(\n",
    "  r=[0,4,3,4,5,0],\n",
    "  theta=[\"Green\",\"floral\",\"fruit\",\"sweet\",\"wood\",\"spicy\"],\n",
    "  fill='toself'\n",
    "))\n",
    "\n",
    "\n",
    "fig.update_layout(\n",
    "  polar=dict(\n",
    "    radialaxis=dict(\n",
    "      visible=True,\n",
    "      range=[0, 10]\n",
    "    ),\n",
    "  ),\n",
    "  showlegend=False\n",
    ")\n",
    "\n",
    "fig.show()"
   ]
  }
 ],
 "metadata": {
  "kernelspec": {
   "display_name": "Python 3",
   "language": "python",
   "name": "python3"
  },
  "language_info": {
   "codemirror_mode": {
    "name": "ipython",
    "version": 3
   },
   "file_extension": ".py",
   "mimetype": "text/x-python",
   "name": "python",
   "nbconvert_exporter": "python",
   "pygments_lexer": "ipython3",
   "version": "3.9.6"
  },
  "orig_nbformat": 4
 },
 "nbformat": 4,
 "nbformat_minor": 2
}
