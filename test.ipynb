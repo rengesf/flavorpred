{
 "cells": [
  {
   "attachments": {},
   "cell_type": "markdown",
   "metadata": {},
   "source": [
    "## Pipeline Flavor Profile"
   ]
  },
  {
   "cell_type": "code",
   "execution_count": 5,
   "metadata": {},
   "outputs": [],
   "source": [
    "import pandas as pd\n",
    "import numpy as np\n",
    "from fuzzywuzzy import fuzz\n",
    "import csv\n",
    "import numpy as np\n",
    "import matplotlib.pyplot as plt\n"
   ]
  },
  {
   "cell_type": "code",
   "execution_count": 6,
   "metadata": {},
   "outputs": [],
   "source": [
    "'''\n",
    "does convert a pandas dataframe into a matrix where \n",
    "keys = row name\n",
    "values = col name\n",
    "data = either 0 or 1 \n",
    "'''\n",
    "def dict_to_matrix(dictionary):\n",
    "    unique_values = set(val for sublist in dictionary.values() for val in sublist)\n",
    "    data_dict = {key: {val: 1 if val in values else 0 for val in unique_values} for key, values in dictionary.items()}\n",
    "    df = pd.DataFrame(data_dict).T\n",
    "    return(df)\n"
   ]
  },
  {
   "cell_type": "code",
   "execution_count": 7,
   "metadata": {},
   "outputs": [],
   "source": [
    "'''\n",
    "find overlapp between to lists with a threshold (=70)\n",
    "'''\n",
    "def overlapping_elements(list1, list2, threshold=70):\n",
    "    overlap = []\n",
    "    for elem1 in list1:\n",
    "        for elem2 in list2:\n",
    "            ratio = fuzz.ratio(elem1, elem2)\n",
    "            if ratio >= threshold:\n",
    "                overlap.append(elem1)\n",
    "    return overlap"
   ]
  },
  {
   "cell_type": "code",
   "execution_count": 8,
   "metadata": {},
   "outputs": [],
   "source": [
    "'''\n",
    "Convert DataFrame to dictionary\n",
    "'''\n",
    "def dataframe_to_dict(df):\n",
    "    result_dict = {}\n",
    "    for index, row in df.iterrows():\n",
    "        if row[0] in result_dict:\n",
    "            result_dict[row[0]].append(row[1])\n",
    "        else:\n",
    "            result_dict[row[0]] = [row[1]]\n",
    "    return result_dict     "
   ]
  },
  {
   "cell_type": "code",
   "execution_count": 9,
   "metadata": {},
   "outputs": [],
   "source": [
    "'''\n",
    "find match between dictionary entries and the rows of a dataframe\n",
    "'''\n",
    "def find_matching_entries(dictionary,df):\n",
    "    threshold = 80\n",
    "    found_match = []\n",
    "    found_match_per_entry = {}\n",
    "    for key, value in dictionary.items():\n",
    "        all_matches = set()\n",
    "        for index, row in df.iterrows():\n",
    "            for keyword in value:\n",
    "                if fuzz.ratio(keyword, str(index).lower()) >= threshold:\n",
    "                    all_matches.add(index)\n",
    "                    found_match.append(row)\n",
    "        found_match_per_entry[key] = all_matches\n",
    "    found_match = pd.DataFrame(found_match)\n",
    "    found_match = found_match.drop_duplicates()\n",
    "    return(found_match, found_match_per_entry)"
   ]
  },
  {
   "cell_type": "code",
   "execution_count": 10,
   "metadata": {},
   "outputs": [],
   "source": [
    "'''\n",
    "create a new matrix by finding matches and filtering right columns\n",
    "'''\n",
    "def create_matrix_from_dict(dictionary,df, index):\n",
    "    matrix = pd.DataFrame(columns=list(df), index=index)\n",
    "    final_dict = {}\n",
    "    for key, value in dictionary.items():\n",
    "        current_val = []\n",
    "        for v in value:\n",
    "            for index, row in df.iterrows():\n",
    "                if index == v:\n",
    "                    current_val.append(','.join(row.loc[row.eq(1)].index.tolist()))\n",
    "                    # todo: maybe exception -> do change if two ones in a row\n",
    "                    matrix.loc[key][row.loc[row.eq(1)].index.tolist()] = 1\n",
    "        final_dict[key] = set(current_val)\n",
    "    matrix = matrix.fillna(0)\n",
    "    matrix = matrix.loc[:, (matrix != 0).any(axis=0)]\n",
    "    return(final_dict, matrix)\n",
    "   "
   ]
  },
  {
   "attachments": {},
   "cell_type": "markdown",
   "metadata": {},
   "source": [
    "#### 1. MS Data ----- Massbank -----> Molecules\n",
    "\n",
    "-> Chris"
   ]
  },
  {
   "attachments": {},
   "cell_type": "markdown",
   "metadata": {},
   "source": [
    "save which intensities belong to which molecule and give each the % \n",
    "2 approaches for one molecule with multiple OQs\n",
    "1.  each gets same % \n",
    "2.  divide % by count of OQs per molecule"
   ]
  },
  {
   "attachments": {},
   "cell_type": "markdown",
   "metadata": {},
   "source": [
    "<span style=\"color:lightblue\">mol_int</span> : dict where key is the molecule name and value is the intensites from the mass spec data"
   ]
  },
  {
   "cell_type": "code",
   "execution_count": 11,
   "metadata": {},
   "outputs": [],
   "source": [
    "# DUMMY DATA\n",
    "intensities = [80, 40, 5]\n",
    "ms_cas =['(E)-3-hexenol', \"coumarin\",'citral']\n",
    "mol_int = {'(E)-3-hexenol': 80, \"coumarin\": 40 ,'citral': 5}"
   ]
  },
  {
   "cell_type": "code",
   "execution_count": 107,
   "metadata": {},
   "outputs": [],
   "source": [
    "# actual ms data\n",
    "file_path = 'data/cas_intensities.csv'\n",
    "data = pd.read_csv(file_path, delimiter=',')\n",
    "# only use first repliate\n",
    "data = data[data[\"replicate\"]==1]"
   ]
  },
  {
   "cell_type": "code",
   "execution_count": 108,
   "metadata": {},
   "outputs": [
    {
     "data": {
      "text/html": [
       "<div>\n",
       "<style scoped>\n",
       "    .dataframe tbody tr th:only-of-type {\n",
       "        vertical-align: middle;\n",
       "    }\n",
       "\n",
       "    .dataframe tbody tr th {\n",
       "        vertical-align: top;\n",
       "    }\n",
       "\n",
       "    .dataframe thead th {\n",
       "        text-align: right;\n",
       "    }\n",
       "</style>\n",
       "<table border=\"1\" class=\"dataframe\">\n",
       "  <thead>\n",
       "    <tr style=\"text-align: right;\">\n",
       "      <th></th>\n",
       "      <th>sample_key</th>\n",
       "      <th>replicate</th>\n",
       "      <th>6485-40-1</th>\n",
       "      <th>3033-23-6</th>\n",
       "      <th>21284-22-0</th>\n",
       "      <th>38427-78-0</th>\n",
       "      <th>495-61-4</th>\n",
       "      <th>29873-99-2</th>\n",
       "      <th>6909-30-4</th>\n",
       "      <th>99-49-0</th>\n",
       "      <th>...</th>\n",
       "      <th>13466-78-9</th>\n",
       "      <th>483-76-1</th>\n",
       "      <th>36564-42-8</th>\n",
       "      <th>705-86-2</th>\n",
       "      <th>2825-91-4</th>\n",
       "      <th>713-95-1</th>\n",
       "      <th>20307-84-0</th>\n",
       "      <th>120021-96-7</th>\n",
       "      <th>586-62-9</th>\n",
       "      <th>710-04-3</th>\n",
       "    </tr>\n",
       "  </thead>\n",
       "  <tbody>\n",
       "    <tr>\n",
       "      <th>0</th>\n",
       "      <td>000920</td>\n",
       "      <td>1</td>\n",
       "      <td>1.943542e+08</td>\n",
       "      <td>1.240854e+09</td>\n",
       "      <td>1.048295e+08</td>\n",
       "      <td>9.087319e+07</td>\n",
       "      <td>1.831223e+08</td>\n",
       "      <td>1.831223e+08</td>\n",
       "      <td>6.043091e+08</td>\n",
       "      <td>1.943542e+08</td>\n",
       "      <td>...</td>\n",
       "      <td>2.528854e+08</td>\n",
       "      <td>1.831223e+08</td>\n",
       "      <td>1.048295e+08</td>\n",
       "      <td>4.645706e+08</td>\n",
       "      <td>4.645706e+08</td>\n",
       "      <td>1.893777e+08</td>\n",
       "      <td>1.831223e+08</td>\n",
       "      <td>1.831223e+08</td>\n",
       "      <td>2.528854e+08</td>\n",
       "      <td>2.662124e+08</td>\n",
       "    </tr>\n",
       "    <tr>\n",
       "      <th>3</th>\n",
       "      <td>000922</td>\n",
       "      <td>1</td>\n",
       "      <td>1.549112e+08</td>\n",
       "      <td>1.029110e+09</td>\n",
       "      <td>1.086362e+08</td>\n",
       "      <td>1.181268e+08</td>\n",
       "      <td>1.913892e+08</td>\n",
       "      <td>1.913892e+08</td>\n",
       "      <td>6.519549e+08</td>\n",
       "      <td>1.549112e+08</td>\n",
       "      <td>...</td>\n",
       "      <td>1.875943e+08</td>\n",
       "      <td>1.913892e+08</td>\n",
       "      <td>1.086362e+08</td>\n",
       "      <td>4.505443e+08</td>\n",
       "      <td>4.505443e+08</td>\n",
       "      <td>2.602672e+08</td>\n",
       "      <td>1.913892e+08</td>\n",
       "      <td>1.913892e+08</td>\n",
       "      <td>1.875943e+08</td>\n",
       "      <td>2.698756e+08</td>\n",
       "    </tr>\n",
       "    <tr>\n",
       "      <th>6</th>\n",
       "      <td>000927</td>\n",
       "      <td>1</td>\n",
       "      <td>1.688820e+08</td>\n",
       "      <td>1.102763e+09</td>\n",
       "      <td>1.523761e+08</td>\n",
       "      <td>1.616408e+08</td>\n",
       "      <td>1.932470e+08</td>\n",
       "      <td>1.932470e+08</td>\n",
       "      <td>7.387225e+08</td>\n",
       "      <td>1.688820e+08</td>\n",
       "      <td>...</td>\n",
       "      <td>2.299686e+08</td>\n",
       "      <td>1.932470e+08</td>\n",
       "      <td>1.523761e+08</td>\n",
       "      <td>4.690569e+08</td>\n",
       "      <td>4.690569e+08</td>\n",
       "      <td>2.387369e+08</td>\n",
       "      <td>1.932470e+08</td>\n",
       "      <td>1.932470e+08</td>\n",
       "      <td>2.299686e+08</td>\n",
       "      <td>2.549133e+08</td>\n",
       "    </tr>\n",
       "    <tr>\n",
       "      <th>9</th>\n",
       "      <td>000911</td>\n",
       "      <td>1</td>\n",
       "      <td>1.759171e+08</td>\n",
       "      <td>9.992782e+08</td>\n",
       "      <td>1.654314e+08</td>\n",
       "      <td>1.787409e+08</td>\n",
       "      <td>2.531031e+08</td>\n",
       "      <td>2.531031e+08</td>\n",
       "      <td>8.800410e+08</td>\n",
       "      <td>1.759171e+08</td>\n",
       "      <td>...</td>\n",
       "      <td>2.857401e+08</td>\n",
       "      <td>2.531031e+08</td>\n",
       "      <td>1.654314e+08</td>\n",
       "      <td>4.831389e+08</td>\n",
       "      <td>4.831389e+08</td>\n",
       "      <td>3.724425e+08</td>\n",
       "      <td>2.531031e+08</td>\n",
       "      <td>2.531031e+08</td>\n",
       "      <td>2.857401e+08</td>\n",
       "      <td>3.321024e+08</td>\n",
       "    </tr>\n",
       "    <tr>\n",
       "      <th>12</th>\n",
       "      <td>000925</td>\n",
       "      <td>1</td>\n",
       "      <td>1.517116e+08</td>\n",
       "      <td>1.068380e+09</td>\n",
       "      <td>1.090820e+08</td>\n",
       "      <td>1.262307e+08</td>\n",
       "      <td>1.855528e+08</td>\n",
       "      <td>1.855528e+08</td>\n",
       "      <td>6.077461e+08</td>\n",
       "      <td>1.517116e+08</td>\n",
       "      <td>...</td>\n",
       "      <td>1.823817e+08</td>\n",
       "      <td>1.855528e+08</td>\n",
       "      <td>1.090820e+08</td>\n",
       "      <td>4.520255e+08</td>\n",
       "      <td>4.520255e+08</td>\n",
       "      <td>2.344530e+08</td>\n",
       "      <td>1.855528e+08</td>\n",
       "      <td>1.855528e+08</td>\n",
       "      <td>1.823817e+08</td>\n",
       "      <td>2.454637e+08</td>\n",
       "    </tr>\n",
       "    <tr>\n",
       "      <th>...</th>\n",
       "      <td>...</td>\n",
       "      <td>...</td>\n",
       "      <td>...</td>\n",
       "      <td>...</td>\n",
       "      <td>...</td>\n",
       "      <td>...</td>\n",
       "      <td>...</td>\n",
       "      <td>...</td>\n",
       "      <td>...</td>\n",
       "      <td>...</td>\n",
       "      <td>...</td>\n",
       "      <td>...</td>\n",
       "      <td>...</td>\n",
       "      <td>...</td>\n",
       "      <td>...</td>\n",
       "      <td>...</td>\n",
       "      <td>...</td>\n",
       "      <td>...</td>\n",
       "      <td>...</td>\n",
       "      <td>...</td>\n",
       "      <td>...</td>\n",
       "    </tr>\n",
       "    <tr>\n",
       "      <th>756</th>\n",
       "      <td>000596</td>\n",
       "      <td>1</td>\n",
       "      <td>2.413772e+08</td>\n",
       "      <td>2.413874e+09</td>\n",
       "      <td>9.689814e+07</td>\n",
       "      <td>9.213682e+07</td>\n",
       "      <td>1.471158e+08</td>\n",
       "      <td>1.471158e+08</td>\n",
       "      <td>6.822826e+08</td>\n",
       "      <td>2.413772e+08</td>\n",
       "      <td>...</td>\n",
       "      <td>2.592504e+08</td>\n",
       "      <td>1.471158e+08</td>\n",
       "      <td>9.689814e+07</td>\n",
       "      <td>5.506742e+08</td>\n",
       "      <td>5.506742e+08</td>\n",
       "      <td>1.736489e+08</td>\n",
       "      <td>1.471158e+08</td>\n",
       "      <td>1.471158e+08</td>\n",
       "      <td>2.592504e+08</td>\n",
       "      <td>3.138085e+08</td>\n",
       "    </tr>\n",
       "    <tr>\n",
       "      <th>759</th>\n",
       "      <td>000804</td>\n",
       "      <td>1</td>\n",
       "      <td>3.452753e+08</td>\n",
       "      <td>3.397598e+09</td>\n",
       "      <td>1.905095e+08</td>\n",
       "      <td>2.577871e+08</td>\n",
       "      <td>2.881055e+08</td>\n",
       "      <td>2.881055e+08</td>\n",
       "      <td>1.122339e+09</td>\n",
       "      <td>3.452753e+08</td>\n",
       "      <td>...</td>\n",
       "      <td>3.308782e+08</td>\n",
       "      <td>2.881055e+08</td>\n",
       "      <td>1.905095e+08</td>\n",
       "      <td>5.763415e+08</td>\n",
       "      <td>5.763415e+08</td>\n",
       "      <td>3.355894e+08</td>\n",
       "      <td>2.881055e+08</td>\n",
       "      <td>2.881055e+08</td>\n",
       "      <td>3.308782e+08</td>\n",
       "      <td>5.460406e+08</td>\n",
       "    </tr>\n",
       "    <tr>\n",
       "      <th>762</th>\n",
       "      <td>000853</td>\n",
       "      <td>1</td>\n",
       "      <td>3.740657e+08</td>\n",
       "      <td>1.855998e+09</td>\n",
       "      <td>1.829394e+08</td>\n",
       "      <td>1.613276e+08</td>\n",
       "      <td>2.186666e+08</td>\n",
       "      <td>2.186666e+08</td>\n",
       "      <td>6.303671e+08</td>\n",
       "      <td>3.740657e+08</td>\n",
       "      <td>...</td>\n",
       "      <td>3.798451e+08</td>\n",
       "      <td>2.186666e+08</td>\n",
       "      <td>1.829394e+08</td>\n",
       "      <td>2.239344e+08</td>\n",
       "      <td>2.239344e+08</td>\n",
       "      <td>1.979400e+08</td>\n",
       "      <td>2.186666e+08</td>\n",
       "      <td>2.186666e+08</td>\n",
       "      <td>3.798451e+08</td>\n",
       "      <td>3.843281e+08</td>\n",
       "    </tr>\n",
       "    <tr>\n",
       "      <th>765</th>\n",
       "      <td>000931</td>\n",
       "      <td>1</td>\n",
       "      <td>1.714774e+08</td>\n",
       "      <td>1.085542e+09</td>\n",
       "      <td>1.353320e+08</td>\n",
       "      <td>1.542927e+08</td>\n",
       "      <td>3.349072e+08</td>\n",
       "      <td>3.349072e+08</td>\n",
       "      <td>8.858262e+08</td>\n",
       "      <td>1.714774e+08</td>\n",
       "      <td>...</td>\n",
       "      <td>2.587659e+08</td>\n",
       "      <td>3.349072e+08</td>\n",
       "      <td>1.353320e+08</td>\n",
       "      <td>4.699361e+08</td>\n",
       "      <td>4.699361e+08</td>\n",
       "      <td>3.719480e+08</td>\n",
       "      <td>3.349072e+08</td>\n",
       "      <td>3.349072e+08</td>\n",
       "      <td>2.587659e+08</td>\n",
       "      <td>3.572876e+08</td>\n",
       "    </tr>\n",
       "    <tr>\n",
       "      <th>768</th>\n",
       "      <td>QC</td>\n",
       "      <td>1</td>\n",
       "      <td>1.662082e+08</td>\n",
       "      <td>1.628471e+09</td>\n",
       "      <td>1.226651e+08</td>\n",
       "      <td>1.240087e+08</td>\n",
       "      <td>1.870665e+08</td>\n",
       "      <td>1.870665e+08</td>\n",
       "      <td>6.988746e+08</td>\n",
       "      <td>1.662082e+08</td>\n",
       "      <td>...</td>\n",
       "      <td>2.472342e+08</td>\n",
       "      <td>1.870665e+08</td>\n",
       "      <td>1.226651e+08</td>\n",
       "      <td>4.531946e+08</td>\n",
       "      <td>4.531946e+08</td>\n",
       "      <td>2.572853e+08</td>\n",
       "      <td>1.870665e+08</td>\n",
       "      <td>1.870665e+08</td>\n",
       "      <td>2.472342e+08</td>\n",
       "      <td>2.817172e+08</td>\n",
       "    </tr>\n",
       "  </tbody>\n",
       "</table>\n",
       "<p>239 rows × 734 columns</p>\n",
       "</div>"
      ],
      "text/plain": [
       "    sample_key  replicate     6485-40-1     3033-23-6    21284-22-0  \\\n",
       "0       000920          1  1.943542e+08  1.240854e+09  1.048295e+08   \n",
       "3       000922          1  1.549112e+08  1.029110e+09  1.086362e+08   \n",
       "6       000927          1  1.688820e+08  1.102763e+09  1.523761e+08   \n",
       "9       000911          1  1.759171e+08  9.992782e+08  1.654314e+08   \n",
       "12      000925          1  1.517116e+08  1.068380e+09  1.090820e+08   \n",
       "..         ...        ...           ...           ...           ...   \n",
       "756     000596          1  2.413772e+08  2.413874e+09  9.689814e+07   \n",
       "759     000804          1  3.452753e+08  3.397598e+09  1.905095e+08   \n",
       "762     000853          1  3.740657e+08  1.855998e+09  1.829394e+08   \n",
       "765     000931          1  1.714774e+08  1.085542e+09  1.353320e+08   \n",
       "768         QC          1  1.662082e+08  1.628471e+09  1.226651e+08   \n",
       "\n",
       "       38427-78-0      495-61-4    29873-99-2     6909-30-4       99-49-0  \\\n",
       "0    9.087319e+07  1.831223e+08  1.831223e+08  6.043091e+08  1.943542e+08   \n",
       "3    1.181268e+08  1.913892e+08  1.913892e+08  6.519549e+08  1.549112e+08   \n",
       "6    1.616408e+08  1.932470e+08  1.932470e+08  7.387225e+08  1.688820e+08   \n",
       "9    1.787409e+08  2.531031e+08  2.531031e+08  8.800410e+08  1.759171e+08   \n",
       "12   1.262307e+08  1.855528e+08  1.855528e+08  6.077461e+08  1.517116e+08   \n",
       "..            ...           ...           ...           ...           ...   \n",
       "756  9.213682e+07  1.471158e+08  1.471158e+08  6.822826e+08  2.413772e+08   \n",
       "759  2.577871e+08  2.881055e+08  2.881055e+08  1.122339e+09  3.452753e+08   \n",
       "762  1.613276e+08  2.186666e+08  2.186666e+08  6.303671e+08  3.740657e+08   \n",
       "765  1.542927e+08  3.349072e+08  3.349072e+08  8.858262e+08  1.714774e+08   \n",
       "768  1.240087e+08  1.870665e+08  1.870665e+08  6.988746e+08  1.662082e+08   \n",
       "\n",
       "     ...    13466-78-9      483-76-1    36564-42-8      705-86-2  \\\n",
       "0    ...  2.528854e+08  1.831223e+08  1.048295e+08  4.645706e+08   \n",
       "3    ...  1.875943e+08  1.913892e+08  1.086362e+08  4.505443e+08   \n",
       "6    ...  2.299686e+08  1.932470e+08  1.523761e+08  4.690569e+08   \n",
       "9    ...  2.857401e+08  2.531031e+08  1.654314e+08  4.831389e+08   \n",
       "12   ...  1.823817e+08  1.855528e+08  1.090820e+08  4.520255e+08   \n",
       "..   ...           ...           ...           ...           ...   \n",
       "756  ...  2.592504e+08  1.471158e+08  9.689814e+07  5.506742e+08   \n",
       "759  ...  3.308782e+08  2.881055e+08  1.905095e+08  5.763415e+08   \n",
       "762  ...  3.798451e+08  2.186666e+08  1.829394e+08  2.239344e+08   \n",
       "765  ...  2.587659e+08  3.349072e+08  1.353320e+08  4.699361e+08   \n",
       "768  ...  2.472342e+08  1.870665e+08  1.226651e+08  4.531946e+08   \n",
       "\n",
       "        2825-91-4      713-95-1    20307-84-0   120021-96-7      586-62-9  \\\n",
       "0    4.645706e+08  1.893777e+08  1.831223e+08  1.831223e+08  2.528854e+08   \n",
       "3    4.505443e+08  2.602672e+08  1.913892e+08  1.913892e+08  1.875943e+08   \n",
       "6    4.690569e+08  2.387369e+08  1.932470e+08  1.932470e+08  2.299686e+08   \n",
       "9    4.831389e+08  3.724425e+08  2.531031e+08  2.531031e+08  2.857401e+08   \n",
       "12   4.520255e+08  2.344530e+08  1.855528e+08  1.855528e+08  1.823817e+08   \n",
       "..            ...           ...           ...           ...           ...   \n",
       "756  5.506742e+08  1.736489e+08  1.471158e+08  1.471158e+08  2.592504e+08   \n",
       "759  5.763415e+08  3.355894e+08  2.881055e+08  2.881055e+08  3.308782e+08   \n",
       "762  2.239344e+08  1.979400e+08  2.186666e+08  2.186666e+08  3.798451e+08   \n",
       "765  4.699361e+08  3.719480e+08  3.349072e+08  3.349072e+08  2.587659e+08   \n",
       "768  4.531946e+08  2.572853e+08  1.870665e+08  1.870665e+08  2.472342e+08   \n",
       "\n",
       "         710-04-3  \n",
       "0    2.662124e+08  \n",
       "3    2.698756e+08  \n",
       "6    2.549133e+08  \n",
       "9    3.321024e+08  \n",
       "12   2.454637e+08  \n",
       "..            ...  \n",
       "756  3.138085e+08  \n",
       "759  5.460406e+08  \n",
       "762  3.843281e+08  \n",
       "765  3.572876e+08  \n",
       "768  2.817172e+08  \n",
       "\n",
       "[239 rows x 734 columns]"
      ]
     },
     "execution_count": 108,
     "metadata": {},
     "output_type": "execute_result"
    }
   ],
   "source": [
    "data"
   ]
  },
  {
   "cell_type": "code",
   "execution_count": 14,
   "metadata": {},
   "outputs": [],
   "source": [
    "data_dist = data.copy()\n",
    "data_dist[\"sum\"] = data_dist.apply(lambda row:row[2:].sum(), axis=1)"
   ]
  },
  {
   "cell_type": "code",
   "execution_count": 15,
   "metadata": {},
   "outputs": [
    {
     "data": {
      "text/html": [
       "<div>\n",
       "<style scoped>\n",
       "    .dataframe tbody tr th:only-of-type {\n",
       "        vertical-align: middle;\n",
       "    }\n",
       "\n",
       "    .dataframe tbody tr th {\n",
       "        vertical-align: top;\n",
       "    }\n",
       "\n",
       "    .dataframe thead th {\n",
       "        text-align: right;\n",
       "    }\n",
       "</style>\n",
       "<table border=\"1\" class=\"dataframe\">\n",
       "  <thead>\n",
       "    <tr style=\"text-align: right;\">\n",
       "      <th></th>\n",
       "      <th>sample_key</th>\n",
       "      <th>replicate</th>\n",
       "      <th>6485-40-1</th>\n",
       "      <th>3033-23-6</th>\n",
       "      <th>21284-22-0</th>\n",
       "      <th>38427-78-0</th>\n",
       "      <th>495-61-4</th>\n",
       "      <th>29873-99-2</th>\n",
       "      <th>6909-30-4</th>\n",
       "      <th>99-49-0</th>\n",
       "      <th>...</th>\n",
       "      <th>483-76-1</th>\n",
       "      <th>36564-42-8</th>\n",
       "      <th>705-86-2</th>\n",
       "      <th>2825-91-4</th>\n",
       "      <th>713-95-1</th>\n",
       "      <th>20307-84-0</th>\n",
       "      <th>120021-96-7</th>\n",
       "      <th>586-62-9</th>\n",
       "      <th>710-04-3</th>\n",
       "      <th>sum</th>\n",
       "    </tr>\n",
       "  </thead>\n",
       "  <tbody>\n",
       "    <tr>\n",
       "      <th>0</th>\n",
       "      <td>000920</td>\n",
       "      <td>1</td>\n",
       "      <td>1.943542e+08</td>\n",
       "      <td>1.240854e+09</td>\n",
       "      <td>1.048295e+08</td>\n",
       "      <td>9.087319e+07</td>\n",
       "      <td>1.831223e+08</td>\n",
       "      <td>1.831223e+08</td>\n",
       "      <td>6.043091e+08</td>\n",
       "      <td>1.943542e+08</td>\n",
       "      <td>...</td>\n",
       "      <td>1.831223e+08</td>\n",
       "      <td>1.048295e+08</td>\n",
       "      <td>4.645706e+08</td>\n",
       "      <td>4.645706e+08</td>\n",
       "      <td>1.893777e+08</td>\n",
       "      <td>1.831223e+08</td>\n",
       "      <td>1.831223e+08</td>\n",
       "      <td>2.528854e+08</td>\n",
       "      <td>2.662124e+08</td>\n",
       "      <td>1.885973e+11</td>\n",
       "    </tr>\n",
       "    <tr>\n",
       "      <th>3</th>\n",
       "      <td>000922</td>\n",
       "      <td>1</td>\n",
       "      <td>1.549112e+08</td>\n",
       "      <td>1.029110e+09</td>\n",
       "      <td>1.086362e+08</td>\n",
       "      <td>1.181268e+08</td>\n",
       "      <td>1.913892e+08</td>\n",
       "      <td>1.913892e+08</td>\n",
       "      <td>6.519549e+08</td>\n",
       "      <td>1.549112e+08</td>\n",
       "      <td>...</td>\n",
       "      <td>1.913892e+08</td>\n",
       "      <td>1.086362e+08</td>\n",
       "      <td>4.505443e+08</td>\n",
       "      <td>4.505443e+08</td>\n",
       "      <td>2.602672e+08</td>\n",
       "      <td>1.913892e+08</td>\n",
       "      <td>1.913892e+08</td>\n",
       "      <td>1.875943e+08</td>\n",
       "      <td>2.698756e+08</td>\n",
       "      <td>1.901274e+11</td>\n",
       "    </tr>\n",
       "    <tr>\n",
       "      <th>6</th>\n",
       "      <td>000927</td>\n",
       "      <td>1</td>\n",
       "      <td>1.688820e+08</td>\n",
       "      <td>1.102763e+09</td>\n",
       "      <td>1.523761e+08</td>\n",
       "      <td>1.616408e+08</td>\n",
       "      <td>1.932470e+08</td>\n",
       "      <td>1.932470e+08</td>\n",
       "      <td>7.387225e+08</td>\n",
       "      <td>1.688820e+08</td>\n",
       "      <td>...</td>\n",
       "      <td>1.932470e+08</td>\n",
       "      <td>1.523761e+08</td>\n",
       "      <td>4.690569e+08</td>\n",
       "      <td>4.690569e+08</td>\n",
       "      <td>2.387369e+08</td>\n",
       "      <td>1.932470e+08</td>\n",
       "      <td>1.932470e+08</td>\n",
       "      <td>2.299686e+08</td>\n",
       "      <td>2.549133e+08</td>\n",
       "      <td>2.038954e+11</td>\n",
       "    </tr>\n",
       "    <tr>\n",
       "      <th>9</th>\n",
       "      <td>000911</td>\n",
       "      <td>1</td>\n",
       "      <td>1.759171e+08</td>\n",
       "      <td>9.992782e+08</td>\n",
       "      <td>1.654314e+08</td>\n",
       "      <td>1.787409e+08</td>\n",
       "      <td>2.531031e+08</td>\n",
       "      <td>2.531031e+08</td>\n",
       "      <td>8.800410e+08</td>\n",
       "      <td>1.759171e+08</td>\n",
       "      <td>...</td>\n",
       "      <td>2.531031e+08</td>\n",
       "      <td>1.654314e+08</td>\n",
       "      <td>4.831389e+08</td>\n",
       "      <td>4.831389e+08</td>\n",
       "      <td>3.724425e+08</td>\n",
       "      <td>2.531031e+08</td>\n",
       "      <td>2.531031e+08</td>\n",
       "      <td>2.857401e+08</td>\n",
       "      <td>3.321024e+08</td>\n",
       "      <td>2.279643e+11</td>\n",
       "    </tr>\n",
       "    <tr>\n",
       "      <th>12</th>\n",
       "      <td>000925</td>\n",
       "      <td>1</td>\n",
       "      <td>1.517116e+08</td>\n",
       "      <td>1.068380e+09</td>\n",
       "      <td>1.090820e+08</td>\n",
       "      <td>1.262307e+08</td>\n",
       "      <td>1.855528e+08</td>\n",
       "      <td>1.855528e+08</td>\n",
       "      <td>6.077461e+08</td>\n",
       "      <td>1.517116e+08</td>\n",
       "      <td>...</td>\n",
       "      <td>1.855528e+08</td>\n",
       "      <td>1.090820e+08</td>\n",
       "      <td>4.520255e+08</td>\n",
       "      <td>4.520255e+08</td>\n",
       "      <td>2.344530e+08</td>\n",
       "      <td>1.855528e+08</td>\n",
       "      <td>1.855528e+08</td>\n",
       "      <td>1.823817e+08</td>\n",
       "      <td>2.454637e+08</td>\n",
       "      <td>1.825964e+11</td>\n",
       "    </tr>\n",
       "    <tr>\n",
       "      <th>...</th>\n",
       "      <td>...</td>\n",
       "      <td>...</td>\n",
       "      <td>...</td>\n",
       "      <td>...</td>\n",
       "      <td>...</td>\n",
       "      <td>...</td>\n",
       "      <td>...</td>\n",
       "      <td>...</td>\n",
       "      <td>...</td>\n",
       "      <td>...</td>\n",
       "      <td>...</td>\n",
       "      <td>...</td>\n",
       "      <td>...</td>\n",
       "      <td>...</td>\n",
       "      <td>...</td>\n",
       "      <td>...</td>\n",
       "      <td>...</td>\n",
       "      <td>...</td>\n",
       "      <td>...</td>\n",
       "      <td>...</td>\n",
       "      <td>...</td>\n",
       "    </tr>\n",
       "    <tr>\n",
       "      <th>756</th>\n",
       "      <td>000596</td>\n",
       "      <td>1</td>\n",
       "      <td>2.413772e+08</td>\n",
       "      <td>2.413874e+09</td>\n",
       "      <td>9.689814e+07</td>\n",
       "      <td>9.213682e+07</td>\n",
       "      <td>1.471158e+08</td>\n",
       "      <td>1.471158e+08</td>\n",
       "      <td>6.822826e+08</td>\n",
       "      <td>2.413772e+08</td>\n",
       "      <td>...</td>\n",
       "      <td>1.471158e+08</td>\n",
       "      <td>9.689814e+07</td>\n",
       "      <td>5.506742e+08</td>\n",
       "      <td>5.506742e+08</td>\n",
       "      <td>1.736489e+08</td>\n",
       "      <td>1.471158e+08</td>\n",
       "      <td>1.471158e+08</td>\n",
       "      <td>2.592504e+08</td>\n",
       "      <td>3.138085e+08</td>\n",
       "      <td>2.626522e+11</td>\n",
       "    </tr>\n",
       "    <tr>\n",
       "      <th>759</th>\n",
       "      <td>000804</td>\n",
       "      <td>1</td>\n",
       "      <td>3.452753e+08</td>\n",
       "      <td>3.397598e+09</td>\n",
       "      <td>1.905095e+08</td>\n",
       "      <td>2.577871e+08</td>\n",
       "      <td>2.881055e+08</td>\n",
       "      <td>2.881055e+08</td>\n",
       "      <td>1.122339e+09</td>\n",
       "      <td>3.452753e+08</td>\n",
       "      <td>...</td>\n",
       "      <td>2.881055e+08</td>\n",
       "      <td>1.905095e+08</td>\n",
       "      <td>5.763415e+08</td>\n",
       "      <td>5.763415e+08</td>\n",
       "      <td>3.355894e+08</td>\n",
       "      <td>2.881055e+08</td>\n",
       "      <td>2.881055e+08</td>\n",
       "      <td>3.308782e+08</td>\n",
       "      <td>5.460406e+08</td>\n",
       "      <td>4.142515e+11</td>\n",
       "    </tr>\n",
       "    <tr>\n",
       "      <th>762</th>\n",
       "      <td>000853</td>\n",
       "      <td>1</td>\n",
       "      <td>3.740657e+08</td>\n",
       "      <td>1.855998e+09</td>\n",
       "      <td>1.829394e+08</td>\n",
       "      <td>1.613276e+08</td>\n",
       "      <td>2.186666e+08</td>\n",
       "      <td>2.186666e+08</td>\n",
       "      <td>6.303671e+08</td>\n",
       "      <td>3.740657e+08</td>\n",
       "      <td>...</td>\n",
       "      <td>2.186666e+08</td>\n",
       "      <td>1.829394e+08</td>\n",
       "      <td>2.239344e+08</td>\n",
       "      <td>2.239344e+08</td>\n",
       "      <td>1.979400e+08</td>\n",
       "      <td>2.186666e+08</td>\n",
       "      <td>2.186666e+08</td>\n",
       "      <td>3.798451e+08</td>\n",
       "      <td>3.843281e+08</td>\n",
       "      <td>2.783030e+11</td>\n",
       "    </tr>\n",
       "    <tr>\n",
       "      <th>765</th>\n",
       "      <td>000931</td>\n",
       "      <td>1</td>\n",
       "      <td>1.714774e+08</td>\n",
       "      <td>1.085542e+09</td>\n",
       "      <td>1.353320e+08</td>\n",
       "      <td>1.542927e+08</td>\n",
       "      <td>3.349072e+08</td>\n",
       "      <td>3.349072e+08</td>\n",
       "      <td>8.858262e+08</td>\n",
       "      <td>1.714774e+08</td>\n",
       "      <td>...</td>\n",
       "      <td>3.349072e+08</td>\n",
       "      <td>1.353320e+08</td>\n",
       "      <td>4.699361e+08</td>\n",
       "      <td>4.699361e+08</td>\n",
       "      <td>3.719480e+08</td>\n",
       "      <td>3.349072e+08</td>\n",
       "      <td>3.349072e+08</td>\n",
       "      <td>2.587659e+08</td>\n",
       "      <td>3.572876e+08</td>\n",
       "      <td>2.168361e+11</td>\n",
       "    </tr>\n",
       "    <tr>\n",
       "      <th>768</th>\n",
       "      <td>QC</td>\n",
       "      <td>1</td>\n",
       "      <td>1.662082e+08</td>\n",
       "      <td>1.628471e+09</td>\n",
       "      <td>1.226651e+08</td>\n",
       "      <td>1.240087e+08</td>\n",
       "      <td>1.870665e+08</td>\n",
       "      <td>1.870665e+08</td>\n",
       "      <td>6.988746e+08</td>\n",
       "      <td>1.662082e+08</td>\n",
       "      <td>...</td>\n",
       "      <td>1.870665e+08</td>\n",
       "      <td>1.226651e+08</td>\n",
       "      <td>4.531946e+08</td>\n",
       "      <td>4.531946e+08</td>\n",
       "      <td>2.572853e+08</td>\n",
       "      <td>1.870665e+08</td>\n",
       "      <td>1.870665e+08</td>\n",
       "      <td>2.472342e+08</td>\n",
       "      <td>2.817172e+08</td>\n",
       "      <td>2.215897e+11</td>\n",
       "    </tr>\n",
       "  </tbody>\n",
       "</table>\n",
       "<p>239 rows × 735 columns</p>\n",
       "</div>"
      ],
      "text/plain": [
       "    sample_key  replicate     6485-40-1     3033-23-6    21284-22-0  \\\n",
       "0       000920          1  1.943542e+08  1.240854e+09  1.048295e+08   \n",
       "3       000922          1  1.549112e+08  1.029110e+09  1.086362e+08   \n",
       "6       000927          1  1.688820e+08  1.102763e+09  1.523761e+08   \n",
       "9       000911          1  1.759171e+08  9.992782e+08  1.654314e+08   \n",
       "12      000925          1  1.517116e+08  1.068380e+09  1.090820e+08   \n",
       "..         ...        ...           ...           ...           ...   \n",
       "756     000596          1  2.413772e+08  2.413874e+09  9.689814e+07   \n",
       "759     000804          1  3.452753e+08  3.397598e+09  1.905095e+08   \n",
       "762     000853          1  3.740657e+08  1.855998e+09  1.829394e+08   \n",
       "765     000931          1  1.714774e+08  1.085542e+09  1.353320e+08   \n",
       "768         QC          1  1.662082e+08  1.628471e+09  1.226651e+08   \n",
       "\n",
       "       38427-78-0      495-61-4    29873-99-2     6909-30-4       99-49-0  \\\n",
       "0    9.087319e+07  1.831223e+08  1.831223e+08  6.043091e+08  1.943542e+08   \n",
       "3    1.181268e+08  1.913892e+08  1.913892e+08  6.519549e+08  1.549112e+08   \n",
       "6    1.616408e+08  1.932470e+08  1.932470e+08  7.387225e+08  1.688820e+08   \n",
       "9    1.787409e+08  2.531031e+08  2.531031e+08  8.800410e+08  1.759171e+08   \n",
       "12   1.262307e+08  1.855528e+08  1.855528e+08  6.077461e+08  1.517116e+08   \n",
       "..            ...           ...           ...           ...           ...   \n",
       "756  9.213682e+07  1.471158e+08  1.471158e+08  6.822826e+08  2.413772e+08   \n",
       "759  2.577871e+08  2.881055e+08  2.881055e+08  1.122339e+09  3.452753e+08   \n",
       "762  1.613276e+08  2.186666e+08  2.186666e+08  6.303671e+08  3.740657e+08   \n",
       "765  1.542927e+08  3.349072e+08  3.349072e+08  8.858262e+08  1.714774e+08   \n",
       "768  1.240087e+08  1.870665e+08  1.870665e+08  6.988746e+08  1.662082e+08   \n",
       "\n",
       "     ...      483-76-1    36564-42-8      705-86-2     2825-91-4  \\\n",
       "0    ...  1.831223e+08  1.048295e+08  4.645706e+08  4.645706e+08   \n",
       "3    ...  1.913892e+08  1.086362e+08  4.505443e+08  4.505443e+08   \n",
       "6    ...  1.932470e+08  1.523761e+08  4.690569e+08  4.690569e+08   \n",
       "9    ...  2.531031e+08  1.654314e+08  4.831389e+08  4.831389e+08   \n",
       "12   ...  1.855528e+08  1.090820e+08  4.520255e+08  4.520255e+08   \n",
       "..   ...           ...           ...           ...           ...   \n",
       "756  ...  1.471158e+08  9.689814e+07  5.506742e+08  5.506742e+08   \n",
       "759  ...  2.881055e+08  1.905095e+08  5.763415e+08  5.763415e+08   \n",
       "762  ...  2.186666e+08  1.829394e+08  2.239344e+08  2.239344e+08   \n",
       "765  ...  3.349072e+08  1.353320e+08  4.699361e+08  4.699361e+08   \n",
       "768  ...  1.870665e+08  1.226651e+08  4.531946e+08  4.531946e+08   \n",
       "\n",
       "         713-95-1    20307-84-0   120021-96-7      586-62-9      710-04-3  \\\n",
       "0    1.893777e+08  1.831223e+08  1.831223e+08  2.528854e+08  2.662124e+08   \n",
       "3    2.602672e+08  1.913892e+08  1.913892e+08  1.875943e+08  2.698756e+08   \n",
       "6    2.387369e+08  1.932470e+08  1.932470e+08  2.299686e+08  2.549133e+08   \n",
       "9    3.724425e+08  2.531031e+08  2.531031e+08  2.857401e+08  3.321024e+08   \n",
       "12   2.344530e+08  1.855528e+08  1.855528e+08  1.823817e+08  2.454637e+08   \n",
       "..            ...           ...           ...           ...           ...   \n",
       "756  1.736489e+08  1.471158e+08  1.471158e+08  2.592504e+08  3.138085e+08   \n",
       "759  3.355894e+08  2.881055e+08  2.881055e+08  3.308782e+08  5.460406e+08   \n",
       "762  1.979400e+08  2.186666e+08  2.186666e+08  3.798451e+08  3.843281e+08   \n",
       "765  3.719480e+08  3.349072e+08  3.349072e+08  2.587659e+08  3.572876e+08   \n",
       "768  2.572853e+08  1.870665e+08  1.870665e+08  2.472342e+08  2.817172e+08   \n",
       "\n",
       "              sum  \n",
       "0    1.885973e+11  \n",
       "3    1.901274e+11  \n",
       "6    2.038954e+11  \n",
       "9    2.279643e+11  \n",
       "12   1.825964e+11  \n",
       "..            ...  \n",
       "756  2.626522e+11  \n",
       "759  4.142515e+11  \n",
       "762  2.783030e+11  \n",
       "765  2.168361e+11  \n",
       "768  2.215897e+11  \n",
       "\n",
       "[239 rows x 735 columns]"
      ]
     },
     "execution_count": 15,
     "metadata": {},
     "output_type": "execute_result"
    }
   ],
   "source": [
    "data_dist"
   ]
  },
  {
   "cell_type": "code",
   "execution_count": 16,
   "metadata": {},
   "outputs": [],
   "source": [
    "data_dist['median']= data_dist.apply(lambda row:row[2:-1].median(), axis=1)\n",
    "data_dist['mean']= data_dist.apply(lambda row:row[2:-2].mean(), axis=1)"
   ]
  },
  {
   "cell_type": "code",
   "execution_count": 17,
   "metadata": {},
   "outputs": [
    {
     "data": {
      "text/html": [
       "<div>\n",
       "<style scoped>\n",
       "    .dataframe tbody tr th:only-of-type {\n",
       "        vertical-align: middle;\n",
       "    }\n",
       "\n",
       "    .dataframe tbody tr th {\n",
       "        vertical-align: top;\n",
       "    }\n",
       "\n",
       "    .dataframe thead th {\n",
       "        text-align: right;\n",
       "    }\n",
       "</style>\n",
       "<table border=\"1\" class=\"dataframe\">\n",
       "  <thead>\n",
       "    <tr style=\"text-align: right;\">\n",
       "      <th></th>\n",
       "      <th>sample_key</th>\n",
       "      <th>replicate</th>\n",
       "      <th>6485-40-1</th>\n",
       "      <th>3033-23-6</th>\n",
       "      <th>21284-22-0</th>\n",
       "      <th>38427-78-0</th>\n",
       "      <th>495-61-4</th>\n",
       "      <th>29873-99-2</th>\n",
       "      <th>6909-30-4</th>\n",
       "      <th>99-49-0</th>\n",
       "      <th>...</th>\n",
       "      <th>705-86-2</th>\n",
       "      <th>2825-91-4</th>\n",
       "      <th>713-95-1</th>\n",
       "      <th>20307-84-0</th>\n",
       "      <th>120021-96-7</th>\n",
       "      <th>586-62-9</th>\n",
       "      <th>710-04-3</th>\n",
       "      <th>sum</th>\n",
       "      <th>median</th>\n",
       "      <th>mean</th>\n",
       "    </tr>\n",
       "  </thead>\n",
       "  <tbody>\n",
       "    <tr>\n",
       "      <th>0</th>\n",
       "      <td>000920</td>\n",
       "      <td>1</td>\n",
       "      <td>1.943542e+08</td>\n",
       "      <td>1.240854e+09</td>\n",
       "      <td>1.048295e+08</td>\n",
       "      <td>9.087319e+07</td>\n",
       "      <td>1.831223e+08</td>\n",
       "      <td>1.831223e+08</td>\n",
       "      <td>6.043091e+08</td>\n",
       "      <td>1.943542e+08</td>\n",
       "      <td>...</td>\n",
       "      <td>4.645706e+08</td>\n",
       "      <td>4.645706e+08</td>\n",
       "      <td>1.893777e+08</td>\n",
       "      <td>1.831223e+08</td>\n",
       "      <td>1.831223e+08</td>\n",
       "      <td>2.528854e+08</td>\n",
       "      <td>2.662124e+08</td>\n",
       "      <td>1.885973e+11</td>\n",
       "      <td>1.716748e+08</td>\n",
       "      <td>2.576465e+08</td>\n",
       "    </tr>\n",
       "    <tr>\n",
       "      <th>3</th>\n",
       "      <td>000922</td>\n",
       "      <td>1</td>\n",
       "      <td>1.549112e+08</td>\n",
       "      <td>1.029110e+09</td>\n",
       "      <td>1.086362e+08</td>\n",
       "      <td>1.181268e+08</td>\n",
       "      <td>1.913892e+08</td>\n",
       "      <td>1.913892e+08</td>\n",
       "      <td>6.519549e+08</td>\n",
       "      <td>1.549112e+08</td>\n",
       "      <td>...</td>\n",
       "      <td>4.505443e+08</td>\n",
       "      <td>4.505443e+08</td>\n",
       "      <td>2.602672e+08</td>\n",
       "      <td>1.913892e+08</td>\n",
       "      <td>1.913892e+08</td>\n",
       "      <td>1.875943e+08</td>\n",
       "      <td>2.698756e+08</td>\n",
       "      <td>1.901274e+11</td>\n",
       "      <td>1.875943e+08</td>\n",
       "      <td>2.597369e+08</td>\n",
       "    </tr>\n",
       "    <tr>\n",
       "      <th>6</th>\n",
       "      <td>000927</td>\n",
       "      <td>1</td>\n",
       "      <td>1.688820e+08</td>\n",
       "      <td>1.102763e+09</td>\n",
       "      <td>1.523761e+08</td>\n",
       "      <td>1.616408e+08</td>\n",
       "      <td>1.932470e+08</td>\n",
       "      <td>1.932470e+08</td>\n",
       "      <td>7.387225e+08</td>\n",
       "      <td>1.688820e+08</td>\n",
       "      <td>...</td>\n",
       "      <td>4.690569e+08</td>\n",
       "      <td>4.690569e+08</td>\n",
       "      <td>2.387369e+08</td>\n",
       "      <td>1.932470e+08</td>\n",
       "      <td>1.932470e+08</td>\n",
       "      <td>2.299686e+08</td>\n",
       "      <td>2.549133e+08</td>\n",
       "      <td>2.038954e+11</td>\n",
       "      <td>1.775292e+08</td>\n",
       "      <td>2.785456e+08</td>\n",
       "    </tr>\n",
       "    <tr>\n",
       "      <th>9</th>\n",
       "      <td>000911</td>\n",
       "      <td>1</td>\n",
       "      <td>1.759171e+08</td>\n",
       "      <td>9.992782e+08</td>\n",
       "      <td>1.654314e+08</td>\n",
       "      <td>1.787409e+08</td>\n",
       "      <td>2.531031e+08</td>\n",
       "      <td>2.531031e+08</td>\n",
       "      <td>8.800410e+08</td>\n",
       "      <td>1.759171e+08</td>\n",
       "      <td>...</td>\n",
       "      <td>4.831389e+08</td>\n",
       "      <td>4.831389e+08</td>\n",
       "      <td>3.724425e+08</td>\n",
       "      <td>2.531031e+08</td>\n",
       "      <td>2.531031e+08</td>\n",
       "      <td>2.857401e+08</td>\n",
       "      <td>3.321024e+08</td>\n",
       "      <td>2.279643e+11</td>\n",
       "      <td>2.247833e+08</td>\n",
       "      <td>3.114267e+08</td>\n",
       "    </tr>\n",
       "    <tr>\n",
       "      <th>12</th>\n",
       "      <td>000925</td>\n",
       "      <td>1</td>\n",
       "      <td>1.517116e+08</td>\n",
       "      <td>1.068380e+09</td>\n",
       "      <td>1.090820e+08</td>\n",
       "      <td>1.262307e+08</td>\n",
       "      <td>1.855528e+08</td>\n",
       "      <td>1.855528e+08</td>\n",
       "      <td>6.077461e+08</td>\n",
       "      <td>1.517116e+08</td>\n",
       "      <td>...</td>\n",
       "      <td>4.520255e+08</td>\n",
       "      <td>4.520255e+08</td>\n",
       "      <td>2.344530e+08</td>\n",
       "      <td>1.855528e+08</td>\n",
       "      <td>1.855528e+08</td>\n",
       "      <td>1.823817e+08</td>\n",
       "      <td>2.454637e+08</td>\n",
       "      <td>1.825964e+11</td>\n",
       "      <td>1.552483e+08</td>\n",
       "      <td>2.494486e+08</td>\n",
       "    </tr>\n",
       "    <tr>\n",
       "      <th>...</th>\n",
       "      <td>...</td>\n",
       "      <td>...</td>\n",
       "      <td>...</td>\n",
       "      <td>...</td>\n",
       "      <td>...</td>\n",
       "      <td>...</td>\n",
       "      <td>...</td>\n",
       "      <td>...</td>\n",
       "      <td>...</td>\n",
       "      <td>...</td>\n",
       "      <td>...</td>\n",
       "      <td>...</td>\n",
       "      <td>...</td>\n",
       "      <td>...</td>\n",
       "      <td>...</td>\n",
       "      <td>...</td>\n",
       "      <td>...</td>\n",
       "      <td>...</td>\n",
       "      <td>...</td>\n",
       "      <td>...</td>\n",
       "      <td>...</td>\n",
       "    </tr>\n",
       "    <tr>\n",
       "      <th>756</th>\n",
       "      <td>000596</td>\n",
       "      <td>1</td>\n",
       "      <td>2.413772e+08</td>\n",
       "      <td>2.413874e+09</td>\n",
       "      <td>9.689814e+07</td>\n",
       "      <td>9.213682e+07</td>\n",
       "      <td>1.471158e+08</td>\n",
       "      <td>1.471158e+08</td>\n",
       "      <td>6.822826e+08</td>\n",
       "      <td>2.413772e+08</td>\n",
       "      <td>...</td>\n",
       "      <td>5.506742e+08</td>\n",
       "      <td>5.506742e+08</td>\n",
       "      <td>1.736489e+08</td>\n",
       "      <td>1.471158e+08</td>\n",
       "      <td>1.471158e+08</td>\n",
       "      <td>2.592504e+08</td>\n",
       "      <td>3.138085e+08</td>\n",
       "      <td>2.626522e+11</td>\n",
       "      <td>1.849320e+08</td>\n",
       "      <td>3.588144e+08</td>\n",
       "    </tr>\n",
       "    <tr>\n",
       "      <th>759</th>\n",
       "      <td>000804</td>\n",
       "      <td>1</td>\n",
       "      <td>3.452753e+08</td>\n",
       "      <td>3.397598e+09</td>\n",
       "      <td>1.905095e+08</td>\n",
       "      <td>2.577871e+08</td>\n",
       "      <td>2.881055e+08</td>\n",
       "      <td>2.881055e+08</td>\n",
       "      <td>1.122339e+09</td>\n",
       "      <td>3.452753e+08</td>\n",
       "      <td>...</td>\n",
       "      <td>5.763415e+08</td>\n",
       "      <td>5.763415e+08</td>\n",
       "      <td>3.355894e+08</td>\n",
       "      <td>2.881055e+08</td>\n",
       "      <td>2.881055e+08</td>\n",
       "      <td>3.308782e+08</td>\n",
       "      <td>5.460406e+08</td>\n",
       "      <td>4.142515e+11</td>\n",
       "      <td>3.308782e+08</td>\n",
       "      <td>5.659174e+08</td>\n",
       "    </tr>\n",
       "    <tr>\n",
       "      <th>762</th>\n",
       "      <td>000853</td>\n",
       "      <td>1</td>\n",
       "      <td>3.740657e+08</td>\n",
       "      <td>1.855998e+09</td>\n",
       "      <td>1.829394e+08</td>\n",
       "      <td>1.613276e+08</td>\n",
       "      <td>2.186666e+08</td>\n",
       "      <td>2.186666e+08</td>\n",
       "      <td>6.303671e+08</td>\n",
       "      <td>3.740657e+08</td>\n",
       "      <td>...</td>\n",
       "      <td>2.239344e+08</td>\n",
       "      <td>2.239344e+08</td>\n",
       "      <td>1.979400e+08</td>\n",
       "      <td>2.186666e+08</td>\n",
       "      <td>2.186666e+08</td>\n",
       "      <td>3.798451e+08</td>\n",
       "      <td>3.843281e+08</td>\n",
       "      <td>2.783030e+11</td>\n",
       "      <td>2.430886e+08</td>\n",
       "      <td>3.801953e+08</td>\n",
       "    </tr>\n",
       "    <tr>\n",
       "      <th>765</th>\n",
       "      <td>000931</td>\n",
       "      <td>1</td>\n",
       "      <td>1.714774e+08</td>\n",
       "      <td>1.085542e+09</td>\n",
       "      <td>1.353320e+08</td>\n",
       "      <td>1.542927e+08</td>\n",
       "      <td>3.349072e+08</td>\n",
       "      <td>3.349072e+08</td>\n",
       "      <td>8.858262e+08</td>\n",
       "      <td>1.714774e+08</td>\n",
       "      <td>...</td>\n",
       "      <td>4.699361e+08</td>\n",
       "      <td>4.699361e+08</td>\n",
       "      <td>3.719480e+08</td>\n",
       "      <td>3.349072e+08</td>\n",
       "      <td>3.349072e+08</td>\n",
       "      <td>2.587659e+08</td>\n",
       "      <td>3.572876e+08</td>\n",
       "      <td>2.168361e+11</td>\n",
       "      <td>1.994832e+08</td>\n",
       "      <td>2.962242e+08</td>\n",
       "    </tr>\n",
       "    <tr>\n",
       "      <th>768</th>\n",
       "      <td>QC</td>\n",
       "      <td>1</td>\n",
       "      <td>1.662082e+08</td>\n",
       "      <td>1.628471e+09</td>\n",
       "      <td>1.226651e+08</td>\n",
       "      <td>1.240087e+08</td>\n",
       "      <td>1.870665e+08</td>\n",
       "      <td>1.870665e+08</td>\n",
       "      <td>6.988746e+08</td>\n",
       "      <td>1.662082e+08</td>\n",
       "      <td>...</td>\n",
       "      <td>4.531946e+08</td>\n",
       "      <td>4.531946e+08</td>\n",
       "      <td>2.572853e+08</td>\n",
       "      <td>1.870665e+08</td>\n",
       "      <td>1.870665e+08</td>\n",
       "      <td>2.472342e+08</td>\n",
       "      <td>2.817172e+08</td>\n",
       "      <td>2.215897e+11</td>\n",
       "      <td>1.870665e+08</td>\n",
       "      <td>3.027181e+08</td>\n",
       "    </tr>\n",
       "  </tbody>\n",
       "</table>\n",
       "<p>239 rows × 737 columns</p>\n",
       "</div>"
      ],
      "text/plain": [
       "    sample_key  replicate     6485-40-1     3033-23-6    21284-22-0  \\\n",
       "0       000920          1  1.943542e+08  1.240854e+09  1.048295e+08   \n",
       "3       000922          1  1.549112e+08  1.029110e+09  1.086362e+08   \n",
       "6       000927          1  1.688820e+08  1.102763e+09  1.523761e+08   \n",
       "9       000911          1  1.759171e+08  9.992782e+08  1.654314e+08   \n",
       "12      000925          1  1.517116e+08  1.068380e+09  1.090820e+08   \n",
       "..         ...        ...           ...           ...           ...   \n",
       "756     000596          1  2.413772e+08  2.413874e+09  9.689814e+07   \n",
       "759     000804          1  3.452753e+08  3.397598e+09  1.905095e+08   \n",
       "762     000853          1  3.740657e+08  1.855998e+09  1.829394e+08   \n",
       "765     000931          1  1.714774e+08  1.085542e+09  1.353320e+08   \n",
       "768         QC          1  1.662082e+08  1.628471e+09  1.226651e+08   \n",
       "\n",
       "       38427-78-0      495-61-4    29873-99-2     6909-30-4       99-49-0  \\\n",
       "0    9.087319e+07  1.831223e+08  1.831223e+08  6.043091e+08  1.943542e+08   \n",
       "3    1.181268e+08  1.913892e+08  1.913892e+08  6.519549e+08  1.549112e+08   \n",
       "6    1.616408e+08  1.932470e+08  1.932470e+08  7.387225e+08  1.688820e+08   \n",
       "9    1.787409e+08  2.531031e+08  2.531031e+08  8.800410e+08  1.759171e+08   \n",
       "12   1.262307e+08  1.855528e+08  1.855528e+08  6.077461e+08  1.517116e+08   \n",
       "..            ...           ...           ...           ...           ...   \n",
       "756  9.213682e+07  1.471158e+08  1.471158e+08  6.822826e+08  2.413772e+08   \n",
       "759  2.577871e+08  2.881055e+08  2.881055e+08  1.122339e+09  3.452753e+08   \n",
       "762  1.613276e+08  2.186666e+08  2.186666e+08  6.303671e+08  3.740657e+08   \n",
       "765  1.542927e+08  3.349072e+08  3.349072e+08  8.858262e+08  1.714774e+08   \n",
       "768  1.240087e+08  1.870665e+08  1.870665e+08  6.988746e+08  1.662082e+08   \n",
       "\n",
       "     ...      705-86-2     2825-91-4      713-95-1    20307-84-0  \\\n",
       "0    ...  4.645706e+08  4.645706e+08  1.893777e+08  1.831223e+08   \n",
       "3    ...  4.505443e+08  4.505443e+08  2.602672e+08  1.913892e+08   \n",
       "6    ...  4.690569e+08  4.690569e+08  2.387369e+08  1.932470e+08   \n",
       "9    ...  4.831389e+08  4.831389e+08  3.724425e+08  2.531031e+08   \n",
       "12   ...  4.520255e+08  4.520255e+08  2.344530e+08  1.855528e+08   \n",
       "..   ...           ...           ...           ...           ...   \n",
       "756  ...  5.506742e+08  5.506742e+08  1.736489e+08  1.471158e+08   \n",
       "759  ...  5.763415e+08  5.763415e+08  3.355894e+08  2.881055e+08   \n",
       "762  ...  2.239344e+08  2.239344e+08  1.979400e+08  2.186666e+08   \n",
       "765  ...  4.699361e+08  4.699361e+08  3.719480e+08  3.349072e+08   \n",
       "768  ...  4.531946e+08  4.531946e+08  2.572853e+08  1.870665e+08   \n",
       "\n",
       "      120021-96-7      586-62-9      710-04-3           sum        median  \\\n",
       "0    1.831223e+08  2.528854e+08  2.662124e+08  1.885973e+11  1.716748e+08   \n",
       "3    1.913892e+08  1.875943e+08  2.698756e+08  1.901274e+11  1.875943e+08   \n",
       "6    1.932470e+08  2.299686e+08  2.549133e+08  2.038954e+11  1.775292e+08   \n",
       "9    2.531031e+08  2.857401e+08  3.321024e+08  2.279643e+11  2.247833e+08   \n",
       "12   1.855528e+08  1.823817e+08  2.454637e+08  1.825964e+11  1.552483e+08   \n",
       "..            ...           ...           ...           ...           ...   \n",
       "756  1.471158e+08  2.592504e+08  3.138085e+08  2.626522e+11  1.849320e+08   \n",
       "759  2.881055e+08  3.308782e+08  5.460406e+08  4.142515e+11  3.308782e+08   \n",
       "762  2.186666e+08  3.798451e+08  3.843281e+08  2.783030e+11  2.430886e+08   \n",
       "765  3.349072e+08  2.587659e+08  3.572876e+08  2.168361e+11  1.994832e+08   \n",
       "768  1.870665e+08  2.472342e+08  2.817172e+08  2.215897e+11  1.870665e+08   \n",
       "\n",
       "             mean  \n",
       "0    2.576465e+08  \n",
       "3    2.597369e+08  \n",
       "6    2.785456e+08  \n",
       "9    3.114267e+08  \n",
       "12   2.494486e+08  \n",
       "..            ...  \n",
       "756  3.588144e+08  \n",
       "759  5.659174e+08  \n",
       "762  3.801953e+08  \n",
       "765  2.962242e+08  \n",
       "768  3.027181e+08  \n",
       "\n",
       "[239 rows x 737 columns]"
      ]
     },
     "execution_count": 17,
     "metadata": {},
     "output_type": "execute_result"
    }
   ],
   "source": [
    "data_dist"
   ]
  },
  {
   "cell_type": "code",
   "execution_count": 18,
   "metadata": {},
   "outputs": [],
   "source": [
    "data_norm = data_dist.apply(lambda row: row[2:-3]/row['mean'],axis=1)"
   ]
  },
  {
   "cell_type": "code",
   "execution_count": 19,
   "metadata": {},
   "outputs": [],
   "source": [
    "data_norm.index = data_dist['sample_key']"
   ]
  },
  {
   "cell_type": "code",
   "execution_count": 20,
   "metadata": {},
   "outputs": [],
   "source": [
    "data_norm2 = data_norm.apply(lambda col:col/col.median(),axis=0)"
   ]
  },
  {
   "cell_type": "code",
   "execution_count": 22,
   "metadata": {},
   "outputs": [],
   "source": [
    "sample_key = \"000920\""
   ]
  },
  {
   "cell_type": "code",
   "execution_count": 23,
   "metadata": {},
   "outputs": [
    {
     "name": "stderr",
     "output_type": "stream",
     "text": [
      "C:\\Users\\Franz\\AppData\\Local\\Temp\\ipykernel_12860\\1346484364.py:3: SettingWithCopyWarning: \n",
      "A value is trying to be set on a copy of a slice from a DataFrame\n",
      "\n",
      "See the caveats in the documentation: https://pandas.pydata.org/pandas-docs/stable/user_guide/indexing.html#returning-a-view-versus-a-copy\n",
      "  used_data.fillna(0, inplace=True)\n"
     ]
    },
    {
     "data": {
      "text/html": [
       "<div>\n",
       "<style scoped>\n",
       "    .dataframe tbody tr th:only-of-type {\n",
       "        vertical-align: middle;\n",
       "    }\n",
       "\n",
       "    .dataframe tbody tr th {\n",
       "        vertical-align: top;\n",
       "    }\n",
       "\n",
       "    .dataframe thead th {\n",
       "        text-align: right;\n",
       "    }\n",
       "</style>\n",
       "<table border=\"1\" class=\"dataframe\">\n",
       "  <thead>\n",
       "    <tr style=\"text-align: right;\">\n",
       "      <th></th>\n",
       "      <th>6485-40-1</th>\n",
       "      <th>3033-23-6</th>\n",
       "      <th>21284-22-0</th>\n",
       "      <th>38427-78-0</th>\n",
       "      <th>495-61-4</th>\n",
       "      <th>29873-99-2</th>\n",
       "      <th>6909-30-4</th>\n",
       "      <th>99-49-0</th>\n",
       "      <th>2244-16-8</th>\n",
       "      <th>876-17-5</th>\n",
       "      <th>...</th>\n",
       "      <th>13466-78-9</th>\n",
       "      <th>483-76-1</th>\n",
       "      <th>36564-42-8</th>\n",
       "      <th>705-86-2</th>\n",
       "      <th>2825-91-4</th>\n",
       "      <th>713-95-1</th>\n",
       "      <th>20307-84-0</th>\n",
       "      <th>120021-96-7</th>\n",
       "      <th>586-62-9</th>\n",
       "      <th>710-04-3</th>\n",
       "    </tr>\n",
       "    <tr>\n",
       "      <th>sample_key</th>\n",
       "      <th></th>\n",
       "      <th></th>\n",
       "      <th></th>\n",
       "      <th></th>\n",
       "      <th></th>\n",
       "      <th></th>\n",
       "      <th></th>\n",
       "      <th></th>\n",
       "      <th></th>\n",
       "      <th></th>\n",
       "      <th></th>\n",
       "      <th></th>\n",
       "      <th></th>\n",
       "      <th></th>\n",
       "      <th></th>\n",
       "      <th></th>\n",
       "      <th></th>\n",
       "      <th></th>\n",
       "      <th></th>\n",
       "      <th></th>\n",
       "      <th></th>\n",
       "    </tr>\n",
       "  </thead>\n",
       "  <tbody>\n",
       "    <tr>\n",
       "      <th>000920</th>\n",
       "      <td>1.158771</td>\n",
       "      <td>0.895271</td>\n",
       "      <td>0.946861</td>\n",
       "      <td>0.81983</td>\n",
       "      <td>1.523904</td>\n",
       "      <td>1.523904</td>\n",
       "      <td>1.089262</td>\n",
       "      <td>1.158771</td>\n",
       "      <td>1.158771</td>\n",
       "      <td>0.895271</td>\n",
       "      <td>...</td>\n",
       "      <td>1.192345</td>\n",
       "      <td>1.523904</td>\n",
       "      <td>0.946861</td>\n",
       "      <td>1.289678</td>\n",
       "      <td>1.289678</td>\n",
       "      <td>1.012158</td>\n",
       "      <td>1.523904</td>\n",
       "      <td>1.523904</td>\n",
       "      <td>1.192345</td>\n",
       "      <td>1.124045</td>\n",
       "    </tr>\n",
       "  </tbody>\n",
       "</table>\n",
       "<p>1 rows × 658 columns</p>\n",
       "</div>"
      ],
      "text/plain": [
       "            6485-40-1  3033-23-6  21284-22-0  38427-78-0  495-61-4  \\\n",
       "sample_key                                                           \n",
       "000920       1.158771   0.895271    0.946861     0.81983  1.523904   \n",
       "\n",
       "            29873-99-2  6909-30-4   99-49-0  2244-16-8  876-17-5  ...  \\\n",
       "sample_key                                                        ...   \n",
       "000920        1.523904   1.089262  1.158771   1.158771  0.895271  ...   \n",
       "\n",
       "            13466-78-9  483-76-1  36564-42-8  705-86-2  2825-91-4  713-95-1  \\\n",
       "sample_key                                                                    \n",
       "000920        1.192345  1.523904    0.946861  1.289678   1.289678  1.012158   \n",
       "\n",
       "            20307-84-0  120021-96-7  586-62-9  710-04-3  \n",
       "sample_key                                               \n",
       "000920        1.523904     1.523904  1.192345  1.124045  \n",
       "\n",
       "[1 rows x 658 columns]"
      ]
     },
     "execution_count": 23,
     "metadata": {},
     "output_type": "execute_result"
    }
   ],
   "source": [
    "used_data = data_norm2[data_norm2.index==sample_key]\n",
    "#filter columns that are 0\n",
    "used_data.fillna(0, inplace=True)\n",
    "used_data = used_data.loc[:, (used_data != 0).any(axis=0)]\n",
    "used_data"
   ]
  },
  {
   "cell_type": "code",
   "execution_count": 111,
   "metadata": {},
   "outputs": [
    {
     "data": {
      "text/html": [
       "<div>\n",
       "<style scoped>\n",
       "    .dataframe tbody tr th:only-of-type {\n",
       "        vertical-align: middle;\n",
       "    }\n",
       "\n",
       "    .dataframe tbody tr th {\n",
       "        vertical-align: top;\n",
       "    }\n",
       "\n",
       "    .dataframe thead th {\n",
       "        text-align: right;\n",
       "    }\n",
       "</style>\n",
       "<table border=\"1\" class=\"dataframe\">\n",
       "  <thead>\n",
       "    <tr style=\"text-align: right;\">\n",
       "      <th></th>\n",
       "      <th>sample_key</th>\n",
       "      <th>replicate</th>\n",
       "      <th>6485-40-1</th>\n",
       "      <th>3033-23-6</th>\n",
       "      <th>21284-22-0</th>\n",
       "      <th>38427-78-0</th>\n",
       "      <th>495-61-4</th>\n",
       "      <th>29873-99-2</th>\n",
       "      <th>6909-30-4</th>\n",
       "      <th>99-49-0</th>\n",
       "      <th>...</th>\n",
       "      <th>13466-78-9</th>\n",
       "      <th>483-76-1</th>\n",
       "      <th>36564-42-8</th>\n",
       "      <th>705-86-2</th>\n",
       "      <th>2825-91-4</th>\n",
       "      <th>713-95-1</th>\n",
       "      <th>20307-84-0</th>\n",
       "      <th>120021-96-7</th>\n",
       "      <th>586-62-9</th>\n",
       "      <th>710-04-3</th>\n",
       "    </tr>\n",
       "  </thead>\n",
       "  <tbody>\n",
       "    <tr>\n",
       "      <th>0</th>\n",
       "      <td>000920</td>\n",
       "      <td>1</td>\n",
       "      <td>1.943542e+08</td>\n",
       "      <td>1.240854e+09</td>\n",
       "      <td>1.048295e+08</td>\n",
       "      <td>9.087319e+07</td>\n",
       "      <td>1.831223e+08</td>\n",
       "      <td>1.831223e+08</td>\n",
       "      <td>6.043091e+08</td>\n",
       "      <td>1.943542e+08</td>\n",
       "      <td>...</td>\n",
       "      <td>2.528854e+08</td>\n",
       "      <td>1.831223e+08</td>\n",
       "      <td>1.048295e+08</td>\n",
       "      <td>4.645706e+08</td>\n",
       "      <td>4.645706e+08</td>\n",
       "      <td>1.893777e+08</td>\n",
       "      <td>1.831223e+08</td>\n",
       "      <td>1.831223e+08</td>\n",
       "      <td>2.528854e+08</td>\n",
       "      <td>2.662124e+08</td>\n",
       "    </tr>\n",
       "    <tr>\n",
       "      <th>3</th>\n",
       "      <td>000922</td>\n",
       "      <td>1</td>\n",
       "      <td>1.549112e+08</td>\n",
       "      <td>1.029110e+09</td>\n",
       "      <td>1.086362e+08</td>\n",
       "      <td>1.181268e+08</td>\n",
       "      <td>1.913892e+08</td>\n",
       "      <td>1.913892e+08</td>\n",
       "      <td>6.519549e+08</td>\n",
       "      <td>1.549112e+08</td>\n",
       "      <td>...</td>\n",
       "      <td>1.875943e+08</td>\n",
       "      <td>1.913892e+08</td>\n",
       "      <td>1.086362e+08</td>\n",
       "      <td>4.505443e+08</td>\n",
       "      <td>4.505443e+08</td>\n",
       "      <td>2.602672e+08</td>\n",
       "      <td>1.913892e+08</td>\n",
       "      <td>1.913892e+08</td>\n",
       "      <td>1.875943e+08</td>\n",
       "      <td>2.698756e+08</td>\n",
       "    </tr>\n",
       "    <tr>\n",
       "      <th>6</th>\n",
       "      <td>000927</td>\n",
       "      <td>1</td>\n",
       "      <td>1.688820e+08</td>\n",
       "      <td>1.102763e+09</td>\n",
       "      <td>1.523761e+08</td>\n",
       "      <td>1.616408e+08</td>\n",
       "      <td>1.932470e+08</td>\n",
       "      <td>1.932470e+08</td>\n",
       "      <td>7.387225e+08</td>\n",
       "      <td>1.688820e+08</td>\n",
       "      <td>...</td>\n",
       "      <td>2.299686e+08</td>\n",
       "      <td>1.932470e+08</td>\n",
       "      <td>1.523761e+08</td>\n",
       "      <td>4.690569e+08</td>\n",
       "      <td>4.690569e+08</td>\n",
       "      <td>2.387369e+08</td>\n",
       "      <td>1.932470e+08</td>\n",
       "      <td>1.932470e+08</td>\n",
       "      <td>2.299686e+08</td>\n",
       "      <td>2.549133e+08</td>\n",
       "    </tr>\n",
       "    <tr>\n",
       "      <th>9</th>\n",
       "      <td>000911</td>\n",
       "      <td>1</td>\n",
       "      <td>1.759171e+08</td>\n",
       "      <td>9.992782e+08</td>\n",
       "      <td>1.654314e+08</td>\n",
       "      <td>1.787409e+08</td>\n",
       "      <td>2.531031e+08</td>\n",
       "      <td>2.531031e+08</td>\n",
       "      <td>8.800410e+08</td>\n",
       "      <td>1.759171e+08</td>\n",
       "      <td>...</td>\n",
       "      <td>2.857401e+08</td>\n",
       "      <td>2.531031e+08</td>\n",
       "      <td>1.654314e+08</td>\n",
       "      <td>4.831389e+08</td>\n",
       "      <td>4.831389e+08</td>\n",
       "      <td>3.724425e+08</td>\n",
       "      <td>2.531031e+08</td>\n",
       "      <td>2.531031e+08</td>\n",
       "      <td>2.857401e+08</td>\n",
       "      <td>3.321024e+08</td>\n",
       "    </tr>\n",
       "    <tr>\n",
       "      <th>12</th>\n",
       "      <td>000925</td>\n",
       "      <td>1</td>\n",
       "      <td>1.517116e+08</td>\n",
       "      <td>1.068380e+09</td>\n",
       "      <td>1.090820e+08</td>\n",
       "      <td>1.262307e+08</td>\n",
       "      <td>1.855528e+08</td>\n",
       "      <td>1.855528e+08</td>\n",
       "      <td>6.077461e+08</td>\n",
       "      <td>1.517116e+08</td>\n",
       "      <td>...</td>\n",
       "      <td>1.823817e+08</td>\n",
       "      <td>1.855528e+08</td>\n",
       "      <td>1.090820e+08</td>\n",
       "      <td>4.520255e+08</td>\n",
       "      <td>4.520255e+08</td>\n",
       "      <td>2.344530e+08</td>\n",
       "      <td>1.855528e+08</td>\n",
       "      <td>1.855528e+08</td>\n",
       "      <td>1.823817e+08</td>\n",
       "      <td>2.454637e+08</td>\n",
       "    </tr>\n",
       "    <tr>\n",
       "      <th>...</th>\n",
       "      <td>...</td>\n",
       "      <td>...</td>\n",
       "      <td>...</td>\n",
       "      <td>...</td>\n",
       "      <td>...</td>\n",
       "      <td>...</td>\n",
       "      <td>...</td>\n",
       "      <td>...</td>\n",
       "      <td>...</td>\n",
       "      <td>...</td>\n",
       "      <td>...</td>\n",
       "      <td>...</td>\n",
       "      <td>...</td>\n",
       "      <td>...</td>\n",
       "      <td>...</td>\n",
       "      <td>...</td>\n",
       "      <td>...</td>\n",
       "      <td>...</td>\n",
       "      <td>...</td>\n",
       "      <td>...</td>\n",
       "      <td>...</td>\n",
       "    </tr>\n",
       "    <tr>\n",
       "      <th>756</th>\n",
       "      <td>000596</td>\n",
       "      <td>1</td>\n",
       "      <td>2.413772e+08</td>\n",
       "      <td>2.413874e+09</td>\n",
       "      <td>9.689814e+07</td>\n",
       "      <td>9.213682e+07</td>\n",
       "      <td>1.471158e+08</td>\n",
       "      <td>1.471158e+08</td>\n",
       "      <td>6.822826e+08</td>\n",
       "      <td>2.413772e+08</td>\n",
       "      <td>...</td>\n",
       "      <td>2.592504e+08</td>\n",
       "      <td>1.471158e+08</td>\n",
       "      <td>9.689814e+07</td>\n",
       "      <td>5.506742e+08</td>\n",
       "      <td>5.506742e+08</td>\n",
       "      <td>1.736489e+08</td>\n",
       "      <td>1.471158e+08</td>\n",
       "      <td>1.471158e+08</td>\n",
       "      <td>2.592504e+08</td>\n",
       "      <td>3.138085e+08</td>\n",
       "    </tr>\n",
       "    <tr>\n",
       "      <th>759</th>\n",
       "      <td>000804</td>\n",
       "      <td>1</td>\n",
       "      <td>3.452753e+08</td>\n",
       "      <td>3.397598e+09</td>\n",
       "      <td>1.905095e+08</td>\n",
       "      <td>2.577871e+08</td>\n",
       "      <td>2.881055e+08</td>\n",
       "      <td>2.881055e+08</td>\n",
       "      <td>1.122339e+09</td>\n",
       "      <td>3.452753e+08</td>\n",
       "      <td>...</td>\n",
       "      <td>3.308782e+08</td>\n",
       "      <td>2.881055e+08</td>\n",
       "      <td>1.905095e+08</td>\n",
       "      <td>5.763415e+08</td>\n",
       "      <td>5.763415e+08</td>\n",
       "      <td>3.355894e+08</td>\n",
       "      <td>2.881055e+08</td>\n",
       "      <td>2.881055e+08</td>\n",
       "      <td>3.308782e+08</td>\n",
       "      <td>5.460406e+08</td>\n",
       "    </tr>\n",
       "    <tr>\n",
       "      <th>762</th>\n",
       "      <td>000853</td>\n",
       "      <td>1</td>\n",
       "      <td>3.740657e+08</td>\n",
       "      <td>1.855998e+09</td>\n",
       "      <td>1.829394e+08</td>\n",
       "      <td>1.613276e+08</td>\n",
       "      <td>2.186666e+08</td>\n",
       "      <td>2.186666e+08</td>\n",
       "      <td>6.303671e+08</td>\n",
       "      <td>3.740657e+08</td>\n",
       "      <td>...</td>\n",
       "      <td>3.798451e+08</td>\n",
       "      <td>2.186666e+08</td>\n",
       "      <td>1.829394e+08</td>\n",
       "      <td>2.239344e+08</td>\n",
       "      <td>2.239344e+08</td>\n",
       "      <td>1.979400e+08</td>\n",
       "      <td>2.186666e+08</td>\n",
       "      <td>2.186666e+08</td>\n",
       "      <td>3.798451e+08</td>\n",
       "      <td>3.843281e+08</td>\n",
       "    </tr>\n",
       "    <tr>\n",
       "      <th>765</th>\n",
       "      <td>000931</td>\n",
       "      <td>1</td>\n",
       "      <td>1.714774e+08</td>\n",
       "      <td>1.085542e+09</td>\n",
       "      <td>1.353320e+08</td>\n",
       "      <td>1.542927e+08</td>\n",
       "      <td>3.349072e+08</td>\n",
       "      <td>3.349072e+08</td>\n",
       "      <td>8.858262e+08</td>\n",
       "      <td>1.714774e+08</td>\n",
       "      <td>...</td>\n",
       "      <td>2.587659e+08</td>\n",
       "      <td>3.349072e+08</td>\n",
       "      <td>1.353320e+08</td>\n",
       "      <td>4.699361e+08</td>\n",
       "      <td>4.699361e+08</td>\n",
       "      <td>3.719480e+08</td>\n",
       "      <td>3.349072e+08</td>\n",
       "      <td>3.349072e+08</td>\n",
       "      <td>2.587659e+08</td>\n",
       "      <td>3.572876e+08</td>\n",
       "    </tr>\n",
       "    <tr>\n",
       "      <th>768</th>\n",
       "      <td>QC</td>\n",
       "      <td>1</td>\n",
       "      <td>1.662082e+08</td>\n",
       "      <td>1.628471e+09</td>\n",
       "      <td>1.226651e+08</td>\n",
       "      <td>1.240087e+08</td>\n",
       "      <td>1.870665e+08</td>\n",
       "      <td>1.870665e+08</td>\n",
       "      <td>6.988746e+08</td>\n",
       "      <td>1.662082e+08</td>\n",
       "      <td>...</td>\n",
       "      <td>2.472342e+08</td>\n",
       "      <td>1.870665e+08</td>\n",
       "      <td>1.226651e+08</td>\n",
       "      <td>4.531946e+08</td>\n",
       "      <td>4.531946e+08</td>\n",
       "      <td>2.572853e+08</td>\n",
       "      <td>1.870665e+08</td>\n",
       "      <td>1.870665e+08</td>\n",
       "      <td>2.472342e+08</td>\n",
       "      <td>2.817172e+08</td>\n",
       "    </tr>\n",
       "  </tbody>\n",
       "</table>\n",
       "<p>239 rows × 734 columns</p>\n",
       "</div>"
      ],
      "text/plain": [
       "    sample_key  replicate     6485-40-1     3033-23-6    21284-22-0  \\\n",
       "0       000920          1  1.943542e+08  1.240854e+09  1.048295e+08   \n",
       "3       000922          1  1.549112e+08  1.029110e+09  1.086362e+08   \n",
       "6       000927          1  1.688820e+08  1.102763e+09  1.523761e+08   \n",
       "9       000911          1  1.759171e+08  9.992782e+08  1.654314e+08   \n",
       "12      000925          1  1.517116e+08  1.068380e+09  1.090820e+08   \n",
       "..         ...        ...           ...           ...           ...   \n",
       "756     000596          1  2.413772e+08  2.413874e+09  9.689814e+07   \n",
       "759     000804          1  3.452753e+08  3.397598e+09  1.905095e+08   \n",
       "762     000853          1  3.740657e+08  1.855998e+09  1.829394e+08   \n",
       "765     000931          1  1.714774e+08  1.085542e+09  1.353320e+08   \n",
       "768         QC          1  1.662082e+08  1.628471e+09  1.226651e+08   \n",
       "\n",
       "       38427-78-0      495-61-4    29873-99-2     6909-30-4       99-49-0  \\\n",
       "0    9.087319e+07  1.831223e+08  1.831223e+08  6.043091e+08  1.943542e+08   \n",
       "3    1.181268e+08  1.913892e+08  1.913892e+08  6.519549e+08  1.549112e+08   \n",
       "6    1.616408e+08  1.932470e+08  1.932470e+08  7.387225e+08  1.688820e+08   \n",
       "9    1.787409e+08  2.531031e+08  2.531031e+08  8.800410e+08  1.759171e+08   \n",
       "12   1.262307e+08  1.855528e+08  1.855528e+08  6.077461e+08  1.517116e+08   \n",
       "..            ...           ...           ...           ...           ...   \n",
       "756  9.213682e+07  1.471158e+08  1.471158e+08  6.822826e+08  2.413772e+08   \n",
       "759  2.577871e+08  2.881055e+08  2.881055e+08  1.122339e+09  3.452753e+08   \n",
       "762  1.613276e+08  2.186666e+08  2.186666e+08  6.303671e+08  3.740657e+08   \n",
       "765  1.542927e+08  3.349072e+08  3.349072e+08  8.858262e+08  1.714774e+08   \n",
       "768  1.240087e+08  1.870665e+08  1.870665e+08  6.988746e+08  1.662082e+08   \n",
       "\n",
       "     ...    13466-78-9      483-76-1    36564-42-8      705-86-2  \\\n",
       "0    ...  2.528854e+08  1.831223e+08  1.048295e+08  4.645706e+08   \n",
       "3    ...  1.875943e+08  1.913892e+08  1.086362e+08  4.505443e+08   \n",
       "6    ...  2.299686e+08  1.932470e+08  1.523761e+08  4.690569e+08   \n",
       "9    ...  2.857401e+08  2.531031e+08  1.654314e+08  4.831389e+08   \n",
       "12   ...  1.823817e+08  1.855528e+08  1.090820e+08  4.520255e+08   \n",
       "..   ...           ...           ...           ...           ...   \n",
       "756  ...  2.592504e+08  1.471158e+08  9.689814e+07  5.506742e+08   \n",
       "759  ...  3.308782e+08  2.881055e+08  1.905095e+08  5.763415e+08   \n",
       "762  ...  3.798451e+08  2.186666e+08  1.829394e+08  2.239344e+08   \n",
       "765  ...  2.587659e+08  3.349072e+08  1.353320e+08  4.699361e+08   \n",
       "768  ...  2.472342e+08  1.870665e+08  1.226651e+08  4.531946e+08   \n",
       "\n",
       "        2825-91-4      713-95-1    20307-84-0   120021-96-7      586-62-9  \\\n",
       "0    4.645706e+08  1.893777e+08  1.831223e+08  1.831223e+08  2.528854e+08   \n",
       "3    4.505443e+08  2.602672e+08  1.913892e+08  1.913892e+08  1.875943e+08   \n",
       "6    4.690569e+08  2.387369e+08  1.932470e+08  1.932470e+08  2.299686e+08   \n",
       "9    4.831389e+08  3.724425e+08  2.531031e+08  2.531031e+08  2.857401e+08   \n",
       "12   4.520255e+08  2.344530e+08  1.855528e+08  1.855528e+08  1.823817e+08   \n",
       "..            ...           ...           ...           ...           ...   \n",
       "756  5.506742e+08  1.736489e+08  1.471158e+08  1.471158e+08  2.592504e+08   \n",
       "759  5.763415e+08  3.355894e+08  2.881055e+08  2.881055e+08  3.308782e+08   \n",
       "762  2.239344e+08  1.979400e+08  2.186666e+08  2.186666e+08  3.798451e+08   \n",
       "765  4.699361e+08  3.719480e+08  3.349072e+08  3.349072e+08  2.587659e+08   \n",
       "768  4.531946e+08  2.572853e+08  1.870665e+08  1.870665e+08  2.472342e+08   \n",
       "\n",
       "         710-04-3  \n",
       "0    2.662124e+08  \n",
       "3    2.698756e+08  \n",
       "6    2.549133e+08  \n",
       "9    3.321024e+08  \n",
       "12   2.454637e+08  \n",
       "..            ...  \n",
       "756  3.138085e+08  \n",
       "759  5.460406e+08  \n",
       "762  3.843281e+08  \n",
       "765  3.572876e+08  \n",
       "768  2.817172e+08  \n",
       "\n",
       "[239 rows x 734 columns]"
      ]
     },
     "execution_count": 111,
     "metadata": {},
     "output_type": "execute_result"
    }
   ],
   "source": [
    "data"
   ]
  },
  {
   "cell_type": "code",
   "execution_count": 24,
   "metadata": {},
   "outputs": [
    {
     "data": {
      "text/plain": [
       "'# find rows with biggest variances\\ndf = used_data\\nrow_combinations = list(itertools.combinations(df.index, 2))\\ndistances = [abs(df.loc[i[0]] - df.loc[i[1]]).sum() for i in row_combinations]\\nmax_distance_indices = row_combinations[distances.index(max(distances))]\\nprint(df.loc[max_distance_indices[0]])\\nprint(df.loc[max_distance_indices[1]])\\n#=> sample: 000879 and 000373'"
      ]
     },
     "execution_count": 24,
     "metadata": {},
     "output_type": "execute_result"
    }
   ],
   "source": [
    "'''# find rows with biggest variances\n",
    "df = used_data\n",
    "row_combinations = list(itertools.combinations(df.index, 2))\n",
    "distances = [abs(df.loc[i[0]] - df.loc[i[1]]).sum() for i in row_combinations]\n",
    "max_distance_indices = row_combinations[distances.index(max(distances))]\n",
    "print(df.loc[max_distance_indices[0]])\n",
    "print(df.loc[max_distance_indices[1]])\n",
    "#=> sample: 000879 and 000373'''"
   ]
  },
  {
   "cell_type": "code",
   "execution_count": 25,
   "metadata": {},
   "outputs": [],
   "source": [
    "ms_cas = list(used_data.columns)"
   ]
  },
  {
   "cell_type": "markdown",
   "metadata": {},
   "source": [
    "<span style=\"color:#FBB714\">I_vector</span> : dataframe with *molecules x intensities*"
   ]
  },
  {
   "cell_type": "code",
   "execution_count": 26,
   "metadata": {},
   "outputs": [
    {
     "data": {
      "text/html": [
       "<div>\n",
       "<style scoped>\n",
       "    .dataframe tbody tr th:only-of-type {\n",
       "        vertical-align: middle;\n",
       "    }\n",
       "\n",
       "    .dataframe tbody tr th {\n",
       "        vertical-align: top;\n",
       "    }\n",
       "\n",
       "    .dataframe thead th {\n",
       "        text-align: right;\n",
       "    }\n",
       "</style>\n",
       "<table border=\"1\" class=\"dataframe\">\n",
       "  <thead>\n",
       "    <tr style=\"text-align: right;\">\n",
       "      <th></th>\n",
       "      <th>Intensities</th>\n",
       "    </tr>\n",
       "  </thead>\n",
       "  <tbody>\n",
       "    <tr>\n",
       "      <th>6485-40-1</th>\n",
       "      <td>1.158771</td>\n",
       "    </tr>\n",
       "    <tr>\n",
       "      <th>3033-23-6</th>\n",
       "      <td>0.895271</td>\n",
       "    </tr>\n",
       "    <tr>\n",
       "      <th>21284-22-0</th>\n",
       "      <td>0.946861</td>\n",
       "    </tr>\n",
       "    <tr>\n",
       "      <th>38427-78-0</th>\n",
       "      <td>0.819830</td>\n",
       "    </tr>\n",
       "    <tr>\n",
       "      <th>495-61-4</th>\n",
       "      <td>1.523904</td>\n",
       "    </tr>\n",
       "    <tr>\n",
       "      <th>...</th>\n",
       "      <td>...</td>\n",
       "    </tr>\n",
       "    <tr>\n",
       "      <th>713-95-1</th>\n",
       "      <td>1.012158</td>\n",
       "    </tr>\n",
       "    <tr>\n",
       "      <th>20307-84-0</th>\n",
       "      <td>1.523904</td>\n",
       "    </tr>\n",
       "    <tr>\n",
       "      <th>120021-96-7</th>\n",
       "      <td>1.523904</td>\n",
       "    </tr>\n",
       "    <tr>\n",
       "      <th>586-62-9</th>\n",
       "      <td>1.192345</td>\n",
       "    </tr>\n",
       "    <tr>\n",
       "      <th>710-04-3</th>\n",
       "      <td>1.124045</td>\n",
       "    </tr>\n",
       "  </tbody>\n",
       "</table>\n",
       "<p>658 rows × 1 columns</p>\n",
       "</div>"
      ],
      "text/plain": [
       "             Intensities\n",
       "6485-40-1       1.158771\n",
       "3033-23-6       0.895271\n",
       "21284-22-0      0.946861\n",
       "38427-78-0      0.819830\n",
       "495-61-4        1.523904\n",
       "...                  ...\n",
       "713-95-1        1.012158\n",
       "20307-84-0      1.523904\n",
       "120021-96-7     1.523904\n",
       "586-62-9        1.192345\n",
       "710-04-3        1.124045\n",
       "\n",
       "[658 rows x 1 columns]"
      ]
     },
     "execution_count": 26,
     "metadata": {},
     "output_type": "execute_result"
    }
   ],
   "source": [
    "#I_vector = pd.DataFrame(data = mol_int, index = [\"intensities\"]).T\n",
    "I_vector =pd.DataFrame({'Intensities': used_data.iloc[0]})\n",
    "\n",
    "I_vector"
   ]
  },
  {
   "attachments": {},
   "cell_type": "markdown",
   "metadata": {},
   "source": [
    "#### 2. Molecules ----- Flavornet -----> OD \n",
    "Find ODs by matching molecules with databases using Flavornet\n",
    "\n",
    "<span style=\"color:lightblue\">CAS_to_odorants.csv</span> : table with following columns - molecule, CAS, Mol wt, odorant\n"
   ]
  },
  {
   "attachments": {},
   "cell_type": "markdown",
   "metadata": {},
   "source": [
    "##### table manipualtion done in R"
   ]
  },
  {
   "attachments": {},
   "cell_type": "markdown",
   "metadata": {},
   "source": [
    "```r\n",
    "library(rlang)\n",
    "library(tidyverse)\n",
    "\n",
    "CAS_to_odorants <- read.table(\"~/Bioinformatik_20.21/Bachelorarbeit/CAS_to_mol.txt\", sep = \"\\t\", header = FALSE)\n",
    "OD_to_mol <- read.table(\"~/Bioinformatik_20.21/Bachelorarbeit/OD_mol.txt\", sep = \"\\t\", header = FALSE)\n",
    "\n",
    "OD_to_mol_sep <- OD_to_mol %>%\n",
    "  separate_rows(V2, sep = \";\\\\s*\") %>%\n",
    "  mutate(V2 = trimws(V2))\n",
    "OD_to_mol_final <- OD_to_mol_sep[, c(\"V2\",\"V1\")]\n",
    "colnames(OD_to_mol_final) <- c(\"molecule\", \"OD\")\n",
    "\n",
    "CAS_to_odorants_sep <- CAS_to_odorants %>%\n",
    "  separate_rows(V3, sep = \";\\\\s*\") %>%\n",
    "  mutate(V3 = trimws(V3))\n",
    "colnames(CAS_to_odorants_sep) <- c(\"CAS\",\"Mol Wt\", \"molecule\")\n",
    "\n",
    "\n",
    "merged_df <- merge(CAS_to_odorants_sep, OD_to_mol_final, by = \"molecule\")\n",
    "write.csv(merged_df, file = \"~/Bioinformatik_20.21/Bachelorarbeit/CAS_mol_OD.csv\", row.names = FALSE)\n",
    "```"
   ]
  },
  {
   "cell_type": "markdown",
   "metadata": {},
   "source": [
    "*Flavornet only*"
   ]
  },
  {
   "attachments": {},
   "cell_type": "markdown",
   "metadata": {},
   "source": [
    "<span style=\"color:lightblue\">mol_to_OD</span> : dict where key is the molecule and the descriptors for these molecules are the values"
   ]
  },
  {
   "cell_type": "code",
   "execution_count": 27,
   "metadata": {},
   "outputs": [],
   "source": [
    "'''\n",
    "read flavornet data and save it in mol_to_OD\n",
    "'''\n",
    "# only using flavornet data\n",
    "mol_to_OD = {}\n",
    "descriptors = []\n",
    "CAS_numbers= []\n",
    "with open('./data/CAS_mol_OD.csv', 'r',encoding='utf-8') as tabfile:\n",
    "    reader = csv.reader(tabfile, delimiter=',')\n",
    "    for row in reader: \n",
    "        CAS = row[1]\n",
    "        OD = row[3]\n",
    "        CAS_numbers.append(CAS)\n",
    "        descriptors.append(OD)\n",
    "        if CAS in mol_to_OD:\n",
    "            mol_to_OD[CAS].add(OD)\n",
    "        else:\n",
    "            mol_to_OD[CAS]  = set([OD])\n",
    "\n",
    "\n",
    "CAS_numbers = list(set(CAS_numbers))\n",
    "# list of all individual descriptors/ODs\n",
    "descriptors = list(set(descriptors))"
   ]
  },
  {
   "cell_type": "markdown",
   "metadata": {},
   "source": [
    "<span style=\"color:#FBB714\">D</span>: Dataframe with all *molecules x ODs* - rigth now only flavornet database"
   ]
  },
  {
   "cell_type": "code",
   "execution_count": 28,
   "metadata": {},
   "outputs": [],
   "source": [
    "D = pd.DataFrame(index=CAS_numbers, columns=descriptors)"
   ]
  },
  {
   "cell_type": "code",
   "execution_count": 29,
   "metadata": {},
   "outputs": [
    {
     "data": {
      "text/plain": [
       "727"
      ]
     },
     "execution_count": 29,
     "metadata": {},
     "output_type": "execute_result"
    }
   ],
   "source": [
    "len(CAS_numbers)"
   ]
  },
  {
   "cell_type": "code",
   "execution_count": 30,
   "metadata": {},
   "outputs": [
    {
     "data": {
      "text/html": [
       "<div>\n",
       "<style scoped>\n",
       "    .dataframe tbody tr th:only-of-type {\n",
       "        vertical-align: middle;\n",
       "    }\n",
       "\n",
       "    .dataframe tbody tr th {\n",
       "        vertical-align: top;\n",
       "    }\n",
       "\n",
       "    .dataframe thead th {\n",
       "        text-align: right;\n",
       "    }\n",
       "</style>\n",
       "<table border=\"1\" class=\"dataframe\">\n",
       "  <thead>\n",
       "    <tr style=\"text-align: right;\">\n",
       "      <th></th>\n",
       "      <th>apple. rose</th>\n",
       "      <th>medicine</th>\n",
       "      <th>camphor</th>\n",
       "      <th>cardboard</th>\n",
       "      <th>thiamin</th>\n",
       "      <th>grape</th>\n",
       "      <th>green pepper</th>\n",
       "      <th>sweet</th>\n",
       "      <th>rose</th>\n",
       "      <th>truffle</th>\n",
       "      <th>...</th>\n",
       "      <th>strawberry</th>\n",
       "      <th>foxy</th>\n",
       "      <th>cognac</th>\n",
       "      <th>mustard</th>\n",
       "      <th>pine</th>\n",
       "      <th>peanut butter</th>\n",
       "      <th>magnolia</th>\n",
       "      <th>meat broth</th>\n",
       "      <th>paper</th>\n",
       "      <th>bread</th>\n",
       "    </tr>\n",
       "  </thead>\n",
       "  <tbody>\n",
       "    <tr>\n",
       "      <th>4861-58-9</th>\n",
       "      <td>0</td>\n",
       "      <td>0</td>\n",
       "      <td>0</td>\n",
       "      <td>0</td>\n",
       "      <td>0</td>\n",
       "      <td>0</td>\n",
       "      <td>0</td>\n",
       "      <td>1</td>\n",
       "      <td>0</td>\n",
       "      <td>0</td>\n",
       "      <td>...</td>\n",
       "      <td>0</td>\n",
       "      <td>0</td>\n",
       "      <td>0</td>\n",
       "      <td>0</td>\n",
       "      <td>0</td>\n",
       "      <td>0</td>\n",
       "      <td>0</td>\n",
       "      <td>0</td>\n",
       "      <td>0</td>\n",
       "      <td>0</td>\n",
       "    </tr>\n",
       "    <tr>\n",
       "      <th>59121-25-4</th>\n",
       "      <td>0</td>\n",
       "      <td>0</td>\n",
       "      <td>0</td>\n",
       "      <td>0</td>\n",
       "      <td>0</td>\n",
       "      <td>0</td>\n",
       "      <td>0</td>\n",
       "      <td>0</td>\n",
       "      <td>0</td>\n",
       "      <td>0</td>\n",
       "      <td>...</td>\n",
       "      <td>0</td>\n",
       "      <td>0</td>\n",
       "      <td>0</td>\n",
       "      <td>0</td>\n",
       "      <td>0</td>\n",
       "      <td>0</td>\n",
       "      <td>0</td>\n",
       "      <td>0</td>\n",
       "      <td>0</td>\n",
       "      <td>0</td>\n",
       "    </tr>\n",
       "    <tr>\n",
       "      <th>928-96-1</th>\n",
       "      <td>0</td>\n",
       "      <td>0</td>\n",
       "      <td>0</td>\n",
       "      <td>0</td>\n",
       "      <td>0</td>\n",
       "      <td>0</td>\n",
       "      <td>0</td>\n",
       "      <td>0</td>\n",
       "      <td>0</td>\n",
       "      <td>0</td>\n",
       "      <td>...</td>\n",
       "      <td>0</td>\n",
       "      <td>0</td>\n",
       "      <td>0</td>\n",
       "      <td>0</td>\n",
       "      <td>0</td>\n",
       "      <td>0</td>\n",
       "      <td>0</td>\n",
       "      <td>0</td>\n",
       "      <td>0</td>\n",
       "      <td>0</td>\n",
       "    </tr>\n",
       "    <tr>\n",
       "      <th>15423-57-1</th>\n",
       "      <td>0</td>\n",
       "      <td>0</td>\n",
       "      <td>0</td>\n",
       "      <td>0</td>\n",
       "      <td>0</td>\n",
       "      <td>0</td>\n",
       "      <td>0</td>\n",
       "      <td>0</td>\n",
       "      <td>0</td>\n",
       "      <td>0</td>\n",
       "      <td>...</td>\n",
       "      <td>0</td>\n",
       "      <td>0</td>\n",
       "      <td>0</td>\n",
       "      <td>0</td>\n",
       "      <td>0</td>\n",
       "      <td>0</td>\n",
       "      <td>0</td>\n",
       "      <td>0</td>\n",
       "      <td>0</td>\n",
       "      <td>0</td>\n",
       "    </tr>\n",
       "    <tr>\n",
       "      <th>115-99-1</th>\n",
       "      <td>0</td>\n",
       "      <td>0</td>\n",
       "      <td>0</td>\n",
       "      <td>0</td>\n",
       "      <td>0</td>\n",
       "      <td>0</td>\n",
       "      <td>0</td>\n",
       "      <td>0</td>\n",
       "      <td>0</td>\n",
       "      <td>0</td>\n",
       "      <td>...</td>\n",
       "      <td>0</td>\n",
       "      <td>0</td>\n",
       "      <td>0</td>\n",
       "      <td>0</td>\n",
       "      <td>0</td>\n",
       "      <td>0</td>\n",
       "      <td>0</td>\n",
       "      <td>0</td>\n",
       "      <td>0</td>\n",
       "      <td>0</td>\n",
       "    </tr>\n",
       "    <tr>\n",
       "      <th>...</th>\n",
       "      <td>...</td>\n",
       "      <td>...</td>\n",
       "      <td>...</td>\n",
       "      <td>...</td>\n",
       "      <td>...</td>\n",
       "      <td>...</td>\n",
       "      <td>...</td>\n",
       "      <td>...</td>\n",
       "      <td>...</td>\n",
       "      <td>...</td>\n",
       "      <td>...</td>\n",
       "      <td>...</td>\n",
       "      <td>...</td>\n",
       "      <td>...</td>\n",
       "      <td>...</td>\n",
       "      <td>...</td>\n",
       "      <td>...</td>\n",
       "      <td>...</td>\n",
       "      <td>...</td>\n",
       "      <td>...</td>\n",
       "      <td>...</td>\n",
       "    </tr>\n",
       "    <tr>\n",
       "      <th>108-50-9</th>\n",
       "      <td>0</td>\n",
       "      <td>1</td>\n",
       "      <td>0</td>\n",
       "      <td>0</td>\n",
       "      <td>0</td>\n",
       "      <td>0</td>\n",
       "      <td>0</td>\n",
       "      <td>0</td>\n",
       "      <td>0</td>\n",
       "      <td>0</td>\n",
       "      <td>...</td>\n",
       "      <td>0</td>\n",
       "      <td>0</td>\n",
       "      <td>0</td>\n",
       "      <td>0</td>\n",
       "      <td>0</td>\n",
       "      <td>1</td>\n",
       "      <td>0</td>\n",
       "      <td>0</td>\n",
       "      <td>0</td>\n",
       "      <td>0</td>\n",
       "    </tr>\n",
       "    <tr>\n",
       "      <th>2311-46-8</th>\n",
       "      <td>0</td>\n",
       "      <td>0</td>\n",
       "      <td>0</td>\n",
       "      <td>0</td>\n",
       "      <td>0</td>\n",
       "      <td>0</td>\n",
       "      <td>0</td>\n",
       "      <td>0</td>\n",
       "      <td>0</td>\n",
       "      <td>0</td>\n",
       "      <td>...</td>\n",
       "      <td>0</td>\n",
       "      <td>0</td>\n",
       "      <td>0</td>\n",
       "      <td>0</td>\n",
       "      <td>0</td>\n",
       "      <td>0</td>\n",
       "      <td>0</td>\n",
       "      <td>0</td>\n",
       "      <td>0</td>\n",
       "      <td>0</td>\n",
       "    </tr>\n",
       "    <tr>\n",
       "      <th>2497-25-8</th>\n",
       "      <td>0</td>\n",
       "      <td>0</td>\n",
       "      <td>0</td>\n",
       "      <td>0</td>\n",
       "      <td>0</td>\n",
       "      <td>0</td>\n",
       "      <td>0</td>\n",
       "      <td>0</td>\n",
       "      <td>0</td>\n",
       "      <td>0</td>\n",
       "      <td>...</td>\n",
       "      <td>0</td>\n",
       "      <td>0</td>\n",
       "      <td>0</td>\n",
       "      <td>0</td>\n",
       "      <td>0</td>\n",
       "      <td>0</td>\n",
       "      <td>0</td>\n",
       "      <td>0</td>\n",
       "      <td>0</td>\n",
       "      <td>0</td>\n",
       "    </tr>\n",
       "    <tr>\n",
       "      <th>122-97-4</th>\n",
       "      <td>0</td>\n",
       "      <td>0</td>\n",
       "      <td>0</td>\n",
       "      <td>0</td>\n",
       "      <td>0</td>\n",
       "      <td>0</td>\n",
       "      <td>0</td>\n",
       "      <td>0</td>\n",
       "      <td>0</td>\n",
       "      <td>0</td>\n",
       "      <td>...</td>\n",
       "      <td>0</td>\n",
       "      <td>0</td>\n",
       "      <td>0</td>\n",
       "      <td>0</td>\n",
       "      <td>0</td>\n",
       "      <td>0</td>\n",
       "      <td>0</td>\n",
       "      <td>0</td>\n",
       "      <td>0</td>\n",
       "      <td>0</td>\n",
       "    </tr>\n",
       "    <tr>\n",
       "      <th>110-43-0</th>\n",
       "      <td>0</td>\n",
       "      <td>0</td>\n",
       "      <td>0</td>\n",
       "      <td>0</td>\n",
       "      <td>0</td>\n",
       "      <td>0</td>\n",
       "      <td>0</td>\n",
       "      <td>0</td>\n",
       "      <td>0</td>\n",
       "      <td>0</td>\n",
       "      <td>...</td>\n",
       "      <td>0</td>\n",
       "      <td>0</td>\n",
       "      <td>0</td>\n",
       "      <td>0</td>\n",
       "      <td>0</td>\n",
       "      <td>0</td>\n",
       "      <td>0</td>\n",
       "      <td>0</td>\n",
       "      <td>0</td>\n",
       "      <td>0</td>\n",
       "    </tr>\n",
       "  </tbody>\n",
       "</table>\n",
       "<p>727 rows × 197 columns</p>\n",
       "</div>"
      ],
      "text/plain": [
       "            apple. rose  medicine  camphor  cardboard  thiamin  grape  \\\n",
       "4861-58-9             0         0        0          0        0      0   \n",
       "59121-25-4            0         0        0          0        0      0   \n",
       "928-96-1              0         0        0          0        0      0   \n",
       "15423-57-1            0         0        0          0        0      0   \n",
       "115-99-1              0         0        0          0        0      0   \n",
       "...                 ...       ...      ...        ...      ...    ...   \n",
       "108-50-9              0         1        0          0        0      0   \n",
       "2311-46-8             0         0        0          0        0      0   \n",
       "2497-25-8             0         0        0          0        0      0   \n",
       "122-97-4              0         0        0          0        0      0   \n",
       "110-43-0              0         0        0          0        0      0   \n",
       "\n",
       "            green pepper  sweet  rose  truffle  ...  strawberry  foxy  cognac  \\\n",
       "4861-58-9              0      1     0        0  ...           0     0       0   \n",
       "59121-25-4             0      0     0        0  ...           0     0       0   \n",
       "928-96-1               0      0     0        0  ...           0     0       0   \n",
       "15423-57-1             0      0     0        0  ...           0     0       0   \n",
       "115-99-1               0      0     0        0  ...           0     0       0   \n",
       "...                  ...    ...   ...      ...  ...         ...   ...     ...   \n",
       "108-50-9               0      0     0        0  ...           0     0       0   \n",
       "2311-46-8              0      0     0        0  ...           0     0       0   \n",
       "2497-25-8              0      0     0        0  ...           0     0       0   \n",
       "122-97-4               0      0     0        0  ...           0     0       0   \n",
       "110-43-0               0      0     0        0  ...           0     0       0   \n",
       "\n",
       "            mustard  pine  peanut butter  magnolia  meat broth  paper  bread  \n",
       "4861-58-9         0     0              0         0           0      0      0  \n",
       "59121-25-4        0     0              0         0           0      0      0  \n",
       "928-96-1          0     0              0         0           0      0      0  \n",
       "15423-57-1        0     0              0         0           0      0      0  \n",
       "115-99-1          0     0              0         0           0      0      0  \n",
       "...             ...   ...            ...       ...         ...    ...    ...  \n",
       "108-50-9          0     0              1         0           0      0      0  \n",
       "2311-46-8         0     0              0         0           0      0      0  \n",
       "2497-25-8         0     0              0         0           0      0      0  \n",
       "122-97-4          0     0              0         0           0      0      0  \n",
       "110-43-0          0     0              0         0           0      0      0  \n",
       "\n",
       "[727 rows x 197 columns]"
      ]
     },
     "execution_count": 30,
     "metadata": {},
     "output_type": "execute_result"
    }
   ],
   "source": [
    "for col in D.columns:\n",
    "    for index, row in D.iterrows():\n",
    "        # Check if value in  current row matches any entry in the dictionary\n",
    "        if index in mol_to_OD.keys() and col in mol_to_OD[index]:\n",
    "            # Set to 1\n",
    "            D.at[index, col] = 1\n",
    "\n",
    "D = D.fillna(0)\n",
    "D"
   ]
  },
  {
   "attachments": {},
   "cell_type": "markdown",
   "metadata": {},
   "source": [
    "match molecules from MS data with flavors"
   ]
  },
  {
   "cell_type": "code",
   "execution_count": 31,
   "metadata": {},
   "outputs": [
    {
     "data": {
      "text/plain": [
       "658"
      ]
     },
     "execution_count": 31,
     "metadata": {},
     "output_type": "execute_result"
    }
   ],
   "source": [
    "len(ms_cas)"
   ]
  },
  {
   "cell_type": "code",
   "execution_count": 32,
   "metadata": {},
   "outputs": [],
   "source": [
    "flavors = []\n",
    "mol_flavors = {}\n",
    "for mol in ms_cas:\n",
    "    if mol in mol_to_OD.keys():\n",
    "        flavors += mol_to_OD[mol]\n",
    "        mol_flavors[mol] = mol_to_OD[mol]\n",
    "    else:\n",
    "        mol_flavors[mol] = {}\n",
    "\n",
    "found_flavors = set(flavors)\n"
   ]
  },
  {
   "cell_type": "markdown",
   "metadata": {},
   "source": [
    "\n",
    "<span style=\"color:lightblue\">mol_flavors</span>: contains the molecule from where each OD is coming from "
   ]
  },
  {
   "cell_type": "code",
   "execution_count": 114,
   "metadata": {},
   "outputs": [
    {
     "data": {
      "text/plain": [
       "{'6485-40-1': {'mint'},\n",
       " '3033-23-6': {'rose', 'sweet'},\n",
       " '21284-22-0': {'green tea', 'herb', 'spice'},\n",
       " '38427-78-0': {'terpentine'},\n",
       " '495-61-4': {'balsamic'},\n",
       " '29873-99-2': {'green', 'oil', 'wood'},\n",
       " '6909-30-4': {'green'},\n",
       " '99-49-0': {'basil', 'caraway', 'fennel', 'mint'},\n",
       " '2244-16-8': {'caraway'},\n",
       " '876-17-5': {'flower', 'green'},\n",
       " '5989-27-5': {'citrus', 'mint'},\n",
       " '4674-50-4': {'grapefruit'},\n",
       " '2243-33-6': {'dill'},\n",
       " '10307-61-6': {'apple'},\n",
       " '69064-37-5': {'oil'},\n",
       " '13419-69-7': {'fat', 'must'},\n",
       " '928-95-0': {'green', 'leaf', 'walnut'},\n",
       " '18829-56-6': {'cucumber', 'fat', 'green'},\n",
       " '53448-07-0': {'fat', 'green', 'soap'},\n",
       " '928-97-2': {'fresh', 'moss'},\n",
       " '1197-07-5': {'caraway', 'solvent'},\n",
       " '14371-10-9': {'cinnamon', 'paint'},\n",
       " '09.04.5948': {'herb', 'warm'},\n",
       " '106-28-5': {'muguet'},\n",
       " '5273-85-8': {'flower', 'spice'},\n",
       " '5932-68-3': {'flower'},\n",
       " '4959-35-7': {'citrus', 'fresh'},\n",
       " '34995-77-2': {'flower'},\n",
       " '39638-67-0': {'coconut', 'flower'},\n",
       " '7212-40-0': {'fresh', 'mint'},\n",
       " '07.11.5258': {'flower'},\n",
       " '80041-01-6': {'flower', 'lactone'},\n",
       " '13474-59-4': {'tea', 'warm', 'wood'},\n",
       " '23726-91-2': {'apple'},\n",
       " '3779-61-1': {'herb', 'sweet'},\n",
       " '4128-17-0': {'oil', 'wax'},\n",
       " '1117-52-8': {'ether', 'flower'},\n",
       " '21661-99-4': {'geranium', 'pungent'},\n",
       " '56805-23-3': {'fish'},\n",
       " '92356-06-4': {'citrus', 'earth', 'green'},\n",
       " '15186-51-3': {'mint'},\n",
       " '125811-37-2': {'mint'},\n",
       " '928-96-1': {'grass'},\n",
       " '53398-85-9': {'herb', 'sweet'},\n",
       " '16491-36-4': {'green', 'wine'},\n",
       " '31501-11-8': {'fruit', 'prune'},\n",
       " '21662-09-9': {'green', 'must'},\n",
       " '15456-69-6': {'soap'},\n",
       " '18679-18-0': {'peach', 'sweet'},\n",
       " '1197-06-4': {'caraway'},\n",
       " '3792-53-8': {'herb', 'warm'},\n",
       " '13837-75-7': {'citrus', 'fresh'},\n",
       " '5989-33-3': {'flower'},\n",
       " '3790-78-1': {'wax'},\n",
       " '55013-32-6': {'spice'},\n",
       " '3338-55-4': {'citrus', 'flower', 'herb'},\n",
       " '491-04-3': {'herb'},\n",
       " '80041-00-5': {'coconut'},\n",
       " '28973-97-9': {'citrus', 'green'},\n",
       " '31331-53-0': {'thiamin'},\n",
       " '4798-44-1': {'green'},\n",
       " '562-74-3': {'must', 'nutmeg', 'turpentine'},\n",
       " '1197-15-5': {'fat', 'spice'},\n",
       " '470-67-7': {'spice'},\n",
       " '83861-74-9': {'earth', 'herb'},\n",
       " '359794-78-8': {'earth', 'must'},\n",
       " '470-82-6': {'mint', 'sweet'},\n",
       " '15051-81-7': {'flower', 'sweet', 'wood'},\n",
       " '75853-49-5': {'cooked meat', 'fat', 'meat broth', 'sweat', 'tallow'},\n",
       " '25343-57-1': {'caramel'},\n",
       " '27300-27-2': {'caramel'},\n",
       " '1072-83-9': {'bread', 'nut', 'walnut'},\n",
       " '2497-25-8': {'orange', 'tallow'},\n",
       " '3913-71-1': {'orange', 'tallow'},\n",
       " '3913-81-3': {'orange', 'tallow'},\n",
       " '20407-84-5': {'fat', 'green', 'sweet'},\n",
       " '104-76-7': {'green', 'rose'},\n",
       " '100-71-0': {'grass'},\n",
       " '98-03-3': {'sulfur'},\n",
       " '2463-63-0': {'green'},\n",
       " '928-94-9': {'fruit', 'green', 'leaf', 'wine'},\n",
       " '19846-22-1': {'earth'},\n",
       " '67952-60-7': {'fat', 'smoke'},\n",
       " '578-58-5': {'flower', 'walnut', 'warm'},\n",
       " '624-41-9': {'fruit'},\n",
       " '628-99-9': {'cucumber'},\n",
       " '2463-53-8': {'cucumber', 'fat', 'orris', 'paper'},\n",
       " '60784-31-8': {'cucumber', 'fat', 'orris', 'paper'},\n",
       " '123-96-6': {'fat', 'mushroom'},\n",
       " '20664-46-4': {'fat', 'green', 'green leaf', 'nut', 'walnut'},\n",
       " '2548-87-0': {'fat', 'green', 'green leaf', 'nut', 'walnut'},\n",
       " '2363-89-5': {'fat', 'green', 'green leaf', 'nut', 'walnut'},\n",
       " '4861-58-9': {'fruit', 'sweet'},\n",
       " '60-12-8': {'honey', 'lilac', 'rose', 'spice'},\n",
       " '2463-77-6': {'sweet'},\n",
       " '92760-25-3': {'lemon', 'mint'},\n",
       " '600-14-6': {'butter', 'cream'},\n",
       " '931-57-7': {'herb', 'spice'},\n",
       " '65909-91-3': {'seaweed'},\n",
       " '04.02.4313': {'fat', 'fried', 'nut'},\n",
       " '05.03.4313': {'fat', 'fried', 'nut'},\n",
       " '04.03.6750': {'fat', 'green', 'watermelon', 'wax'},\n",
       " '5910-87-2': {'fat', 'green', 'watermelon', 'wax'},\n",
       " '30361-28-5': {'cucumber', 'green', 'seaweed'},\n",
       " '13360-65-1': {'potato', 'roast'},\n",
       " '581-42-0': {'grass'},\n",
       " '557-48-2': {'cucumber', 'green', 'wax'},\n",
       " '7786-44-9': {'cucumber'},\n",
       " '55764-25-5': {'roasted meat'},\n",
       " '51755-83-0': {'sulfur'},\n",
       " '136954-20-6': {'box tree'},\n",
       " '7774-73-4': {'cooked meat'},\n",
       " '109351-28-2': {'cucumber', 'fat'},\n",
       " '31823-43-5': {'cucumber', 'fat'},\n",
       " '1669-44-9': {'crushed bug', 'nut'},\n",
       " '51193-77-2': {'nut'},\n",
       " '34318-21-3': {'spice'},\n",
       " '586-82-3': {'must'},\n",
       " '38284-27-4': {'fat', 'fruit', 'mushroom'},\n",
       " '21944-83-2': {'fat', 'soap'},\n",
       " '122-00-9': {'bitter almond'},\n",
       " '1126-51-8': {'roast', 'smoke'},\n",
       " '131671-56-2': {'fish'},\n",
       " '2785-89-9': {'clove', 'spice'},\n",
       " '6728-31-0': {'biscuit', 'cream'},\n",
       " '695-06-7': {'coumarin', 'sweet'},\n",
       " '31539-84-1': {'flower', 'lemon'},\n",
       " '19872-52-7': {'box tree'},\n",
       " '818-49-5': {'sweat'},\n",
       " '693-95-8': {'roasted meat'},\n",
       " '34047-39-7': {'fruit'},\n",
       " '18060-79-2': {'horseradish', 'mustard'},\n",
       " '2785-87-7': {'phenol'},\n",
       " '2628-17-3': {'almond shell'},\n",
       " '59121-25-4': {'broccoli', 'cabbage'},\n",
       " '13925-05-8': {'sweat'},\n",
       " '620-02-0': {'almond', 'burnt sugar', 'caramel'},\n",
       " '698-76-0': {'peach'},\n",
       " '67-47-0': {'cardboard'},\n",
       " '105683-99-6': {'cucumber', 'green', 'tallow'},\n",
       " '147159-48-6': {'cucumber', 'green', 'tallow'},\n",
       " '6627-88-9': {'flower', 'sweet'},\n",
       " '18479-58-8': {'citrus', 'cologne', 'tart lime'},\n",
       " '54290-12-9': {'alkane'},\n",
       " '531-59-9': {'balsamic', 'sweet'},\n",
       " '698-10-2': {'spice'},\n",
       " '98-86-2': {'almond', 'flower', 'must'},\n",
       " '498-02-2': {'vanilla'},\n",
       " '1192-62-7': {'balsamic'},\n",
       " '70286-20-3': {'spice'},\n",
       " '4166-20-5': {'caramel'},\n",
       " '22047-25-2': {'roast'},\n",
       " '1122-62-9': {'popcorn'},\n",
       " '85213-22-5': {'nut', 'roast'},\n",
       " '55041-85-5': {'medicine'},\n",
       " '24295-03-2': {'nut', 'roast', 'sulfur'},\n",
       " '29926-41-8': {'popcorn', 'roast'},\n",
       " '88-15-3': {'sulfur'},\n",
       " '25246-27-9': {'wood'},\n",
       " '489-39-4': {'wood'},\n",
       " '29887-38-5': {'herb'},\n",
       " '546-49-6': {'green', 'herb'},\n",
       " '18607-93-7': {'pepper', 'spice'},\n",
       " '100-52-7': {'almond', 'burnt sugar'},\n",
       " '65-85-0': {'urine'},\n",
       " '95-16-9': {'gasoline', 'rubber'},\n",
       " '140-11-4': {'boiled vegetable', 'fresh'},\n",
       " '100-51-6': {'flower', 'sweet'},\n",
       " '120-51-4': {'balsamic', 'herb', 'oil'},\n",
       " '103-37-7': {'plum'},\n",
       " '538-86-3': {'metal'},\n",
       " '4430-42-6': {'cabbage'},\n",
       " '24703-35-3': {'green', 'wood'},\n",
       " '28588-75-2': {'roasted meat'},\n",
       " '507-70-0': {'camphor'},\n",
       " '26927-90-2': {'balsamic', 'pine'},\n",
       " '13109-70-1': {'herb', 'wood'},\n",
       " '7492-41-3': {'green'},\n",
       " '76-50-6': {'earth', 'green', 'herb'},\n",
       " '10395-54-7': {'earth', 'must'},\n",
       " '22451-73-6': {'spice'},\n",
       " '123-86-4': {'pear'},\n",
       " '136-60-7': {'balsamic'},\n",
       " '30673-36-0': {'whiskey'},\n",
       " '626-82-4': {'fruit'},\n",
       " '592-82-5': {'green', 'pungent', 'sulfur'},\n",
       " '106-18-3': {'oil'},\n",
       " '15706-73-7': {'cocoa', 'fruit'},\n",
       " '589-75-3': {'fruit'},\n",
       " '24168-70-5': {'carrot', 'earth'},\n",
       " '114791-16-1': {'spice', 'wood'},\n",
       " '29837-12-5': {'fruit', 'spice'},\n",
       " '483-77-2': {'herb', 'spice'},\n",
       " '79-92-5': {'camphor'},\n",
       " '465-31-6': {'camphor'},\n",
       " '76-22-2': {'camphor'},\n",
       " '142-62-1': {'sweat'},\n",
       " '99-48-9': {'caraway', 'fresh', 'spearmint'},\n",
       " '97-42-7': {'green', 'spearmint'},\n",
       " '1139-30-6': {'herb', 'spice', 'sweet'},\n",
       " '28231-03-0': {'fruit'},\n",
       " '36653-82-4': {'flower', 'wax'},\n",
       " '501-92-8': {'medicine', 'phenol'},\n",
       " '140-10-3': {'honey'},\n",
       " '104-54-1': {'oil'},\n",
       " '72203-97-5': {'green'},\n",
       " '14009-71-3': {'citrus', 'green'},\n",
       " '15537-55-0': {'balsamic'},\n",
       " '5392-40-5': {'lemon'},\n",
       " '106-23-0': {'fat'},\n",
       " '106-22-9': {'rose'},\n",
       " '150-84-5': {'dust', 'rose'},\n",
       " '141-16-2': {'fruit', 'rose', 'sweet'},\n",
       " '97-89-2': {'fruit', 'rose'},\n",
       " '7540-53-6': {'herb', 'honey', 'rose', 'warm'},\n",
       " '91-64-5': {'green', 'sweet'},\n",
       " '122-03-2': {'acid', 'sharp'},\n",
       " '536-60-7': {'herb', 'wood'},\n",
       " '25152-84-5': {'fat', 'fried', 'wax'},\n",
       " '25152-83-4': {'fat', 'fried', 'wax'},\n",
       " '112-31-2': {'orange peel', 'soap', 'tallow'},\n",
       " '124-18-5': {'alkane'},\n",
       " '334-48-5': {'fat', 'rancid'},\n",
       " '112-30-1': {'fat'},\n",
       " '112-17-4': {'oil', 'orange'},\n",
       " '30364-38-6': {'licorice'},\n",
       " '28982-60-7': {'herb', 'oil'},\n",
       " '69134-53-8': {'cotton candy'},\n",
       " '105-57-7': {'cream', 'fruit'},\n",
       " '03.12.7554': {'brown sugar', 'sweet'},\n",
       " '105-53-3': {'apple'},\n",
       " '123-25-1': {'fruit', 'wine'},\n",
       " '87-91-2': {'earth', 'must'},\n",
       " '18138-04-0': {'meat', 'potato', 'roast'},\n",
       " '18138-05-1': {'baked'},\n",
       " '619-01-2': {'mint', 'spice'},\n",
       " '20777-49-5': {'camphor', 'medicine', 'mint'},\n",
       " '18479-49-7': {'camphor', 'citrus', 'wood'},\n",
       " '23747-48-0': {'nut', 'roast'},\n",
       " '58985-18-5': {'citrus', 'pine'},\n",
       " '484-31-1': {'spice', 'wood'},\n",
       " '74410-10-9': {'dill'},\n",
       " '131092-10-9': {'hummus'},\n",
       " '5910-89-4': {'cocoa',\n",
       "  'meat',\n",
       "  'medicine',\n",
       "  'nut',\n",
       "  'peanut butter',\n",
       "  'roast beef',\n",
       "  'roasted nut'},\n",
       " '123-32-0': {'cocoa',\n",
       "  'meat',\n",
       "  'medicine',\n",
       "  'nut',\n",
       "  'peanut butter',\n",
       "  'roast beef',\n",
       "  'roasted nut'},\n",
       " '108-50-9': {'cocoa',\n",
       "  'meat',\n",
       "  'medicine',\n",
       "  'nut',\n",
       "  'peanut butter',\n",
       "  'roast beef',\n",
       "  'roasted nut'},\n",
       " '5756-24-1': {'cabbage', 'sulfur'},\n",
       " '3658-80-8': {'cabbage', 'fish', 'sulfur'},\n",
       " '13925-07-0': {'burnt', 'popcorn', 'potato', 'roast'},\n",
       " '55764-23-3': {'meat'},\n",
       " '106-72-9': {'fruit', 'green', 'melon'},\n",
       " '4077-47-8': {'caramel', 'mildew', 'sweet'},\n",
       " '72203-98-6': {'green'},\n",
       " '541-58-2': {'mold', 'roast', 'rubber', 'smoke'},\n",
       " '3581-91-7': {'mold', 'roast', 'rubber', 'smoke'},\n",
       " '629-97-0': {'alkane'},\n",
       " '112-40-3': {'alkane'},\n",
       " '95-93-2': {'rancid', 'sweet'},\n",
       " '112-95-8': {'alkane'},\n",
       " '487-11-6': {'flower', 'spice'},\n",
       " '639-99-6': {'green', 'wood'},\n",
       " '134454-31-2': {'green', 'metal'},\n",
       " '128386-31-2': {'metal'},\n",
       " '134452-45-2': {'metal'},\n",
       " '134346-43-3': {'metal'},\n",
       " '13955-48-1': {'dill', 'mint'},\n",
       " '23267-57-4': {'fruit', 'sweet', 'wood'},\n",
       " '14049-11-7': {'flower'},\n",
       " '4430-36-8': {'cabbage'},\n",
       " '140-67-0': {'anise', 'licorice'},\n",
       " '157615-33-3': {'earth'},\n",
       " '181589-32-2': {'earth'},\n",
       " '111-35-3': {'fruit'},\n",
       " '4192-77-2': {'flower', 'honey'},\n",
       " '3025-30-7': {'pear'},\n",
       " '110516-60-4': {'caramel'},\n",
       " '5405-41-4': {'marshmallow'},\n",
       " '108-64-5': {'apple', 'fruit'},\n",
       " '93-89-0': {'camomile', 'celery', 'flower', 'fruit'},\n",
       " '105-54-4': {'apple'},\n",
       " '103-36-6': {'cinnamon', 'honey'},\n",
       " '3289-28-9': {'fruit'},\n",
       " '110-38-3': {'grape'},\n",
       " '2021-28-5': {'flower'},\n",
       " '106-30-9': {'fruit'},\n",
       " '628-97-7': {'wax'},\n",
       " '123-66-0': {'apple peel', 'fruit'},\n",
       " '999-10-0': {'caramel'},\n",
       " '97-62-1': {'rubber', 'sweet'},\n",
       " '25415-67-2': {'fruit'},\n",
       " '97-64-3': {'fruit'},\n",
       " '106-33-2': {'leaf'},\n",
       " '19788-49-9': {'sulfur'},\n",
       " '7452-79-1': {'apple'},\n",
       " '106-32-1': {'fat', 'fruit'},\n",
       " '2351-90-8': {'fruit', 'must', 'oil', 'pungent'},\n",
       " '101-97-3': {'fruit', 'sweet'},\n",
       " '105-37-3': {'fruit'},\n",
       " '13925-00-3': {'peanut butter', 'wood'},\n",
       " '118-61-6': {'mint', 'wintergreen'},\n",
       " '124-06-1': {'ether'},\n",
       " '627-90-7': {'coconut', 'cognac'},\n",
       " '539-82-2': {'fruit', 'yeast'},\n",
       " '617-05-0': {'flower', 'fruit', 'sweet', 'vanilla'},\n",
       " '4748-78-1': {'sweet'},\n",
       " '15707-34-3': {'burnt', 'popcorn', 'potato'},\n",
       " '38205-61-7': {'earth'},\n",
       " '01.01.2313': {'spice'},\n",
       " '2407-43-4': {'spice'},\n",
       " '2305-25-1': {'fresh'},\n",
       " '13360-64-0': {'fruit', 'sweet'},\n",
       " '620-17-7': {'must'},\n",
       " '123123-38-6': {'sweet', 'wood'},\n",
       " '97-53-0': {'clove', 'honey'},\n",
       " '1632-73-1': {'camphor'},\n",
       " '102322-83-8': {'hazelnut', 'nut'},\n",
       " '13679-70-4': {'sulfur'},\n",
       " '33580-05-1': {'green', 'plastic'},\n",
       " '98-02-2': {'coffee', 'roast'},\n",
       " '3658-77-3': {'caramel'},\n",
       " '57500-00-2': {'smoke'},\n",
       " '19700-21-1': {'beet', 'earth'},\n",
       " '141-27-5': {'lemon', 'mint'},\n",
       " '106-24-1': {'geranium', 'rose'},\n",
       " '105-87-3': {'rose'},\n",
       " '3796-70-1': {'green', 'magnolia'},\n",
       " '106-29-6': {'apple', 'fruit', 'rose'},\n",
       " '109-20-6': {'apple', 'fruit', 'rose'},\n",
       " '10402-47-8': {'fruit', 'rose'},\n",
       " '15423-57-1': {'earth', 'spice', 'wood'},\n",
       " '23986-74-5': {'spice', 'wood'},\n",
       " '90-05-1': {'medicine', 'smoke', 'sweet'},\n",
       " '489-86-1': {'balsamic', 'wood'},\n",
       " '629-94-7': {'alkane'},\n",
       " '629-78-7': {'alkane'},\n",
       " '111-71-7': {'citrus', 'fat', 'rancid'},\n",
       " '142-82-5': {'alkane'},\n",
       " '589-82-2': {'chemical', 'green', 'herb', 'mushroom'},\n",
       " '111-70-6': {'chemical', 'green', 'herb', 'mushroom'},\n",
       " '543-49-7': {'chemical', 'green', 'herb', 'mushroom'},\n",
       " '110-43-0': {'soap'},\n",
       " '18829-55-5': {'almond', 'fat', 'soap'},\n",
       " '2918-13-0': {'metal'},\n",
       " '50862-12-9': {'apple'},\n",
       " '544-76-3': {'alkane'},\n",
       " '29354-98-1': {'flower', 'wax'},\n",
       " '18787-63-8': {'fruit'},\n",
       " '66-25-1': {'fat', 'grass', 'tallow'},\n",
       " '111-31-9': {'sulfur'},\n",
       " '111-27-3': {'flower', 'green', 'resin'},\n",
       " '591-78-6': {'ether', 'grape'},\n",
       " '589-38-8': {'ether', 'grape'},\n",
       " '3681-71-8': {'banana', 'green'},\n",
       " '142-92-7': {'fruit', 'herb'},\n",
       " '2639-63-6': {'apple peel'},\n",
       " '6378-65-0': {'apple peel', 'peach'},\n",
       " '10032-15-2': {'strawberry'},\n",
       " '1117-55-1': {'green', 'herb', 'oil'},\n",
       " '27538-10-9': {'caramel'},\n",
       " '20053-88-7': {'hyacinth'},\n",
       " '19888-33-6': {'herb'},\n",
       " '501-52-0': {'balsamic'},\n",
       " '122-97-4': {'anise', 'cinnamon', 'fruit'},\n",
       " '95908-33-1': {'herb'},\n",
       " '21835-00-7': {'caramel'},\n",
       " '3142-66-3': {'earth', 'herb', 'nut', 'truffle'},\n",
       " '5704-20-1': {'earth', 'herb', 'nut', 'truffle'},\n",
       " '120-72-9': {'burnt', 'mothball'},\n",
       " '123-92-2': {'banana'},\n",
       " '124-76-5': {'camphor', 'must'},\n",
       " '1200-67-5': {'camphor', 'earth', 'green'},\n",
       " '2756-56-1': {'fruit', 'turpentine'},\n",
       " '110-19-0': {'apple', 'banana', 'fruit'},\n",
       " '18640-74-9': {'green', 'tomato leaf'},\n",
       " '24683-00-9': {'earth', 'green pepper', 'spice'},\n",
       " '118-65-0': {'wood'},\n",
       " '18675-35-9': {'spice', 'wood'},\n",
       " '97-54-1': {'flower'},\n",
       " '16750-94-0': {'rose'},\n",
       " '5944-20-7': {'rose'},\n",
       " '18433-98-2': {'fruit'},\n",
       " '58615-39-7': {'fruit', 'sweet'},\n",
       " '939-48-0': {'fruit', 'sweet'},\n",
       " '638-11-9': {'fruit', 'pungent'},\n",
       " '2311-46-8': {'fresh'},\n",
       " '142-91-6': {'fat'},\n",
       " '25773-40-4': {'earth', 'pea'},\n",
       " '89-49-6': {'leaf', 'mint'},\n",
       " '503-74-2': {'acid', 'cheese', 'rancid', 'sweat'},\n",
       " '2216-51-5': {'peppermint'},\n",
       " '143-07-7': {'metal'},\n",
       " '112-54-9': {'citrus', 'fat', 'lily'},\n",
       " '112-53-8': {'fat', 'wax'},\n",
       " '498-16-8': {'herb'},\n",
       " '23089-26-1': {'herb', 'sweet'},\n",
       " '138-86-3': {'lemon', 'orange'},\n",
       " '1195-92-2': {'fruit'},\n",
       " '78-70-6': {'flower', 'lavender'},\n",
       " '1365-19-1': {'flower', 'wood'},\n",
       " '115-95-7': {'fruit', 'sweet'},\n",
       " '78-36-4': {'pear', 'sweet'},\n",
       " '115-99-1': {'citrus', 'coriander'},\n",
       " '1118-27-0': {'apple', 'citrus', 'sweet'},\n",
       " '10471-96-2': {'citrus', 'lavender'},\n",
       " '108-39-4': {'fecal', 'plastic'},\n",
       " '108-38-3': {'plastic'},\n",
       " '118-71-8': {'caramel'},\n",
       " '89-80-5': {'fresh', 'green', 'mint'},\n",
       " '10458-14-7': {'fresh', 'green', 'mint'},\n",
       " '40789-98-8': {'onion'},\n",
       " '34300-94-2': {'meat broth'},\n",
       " '50746-10-6': {'cat', 'roast'},\n",
       " '75832-79-0': {'black currant'},\n",
       " '67633-97-0': {'meat', 'onion', 'roasted meat', 'sulfur'},\n",
       " '17042-24-9': {'meat', 'onion', 'roasted meat', 'sulfur'},\n",
       " '3268-49-3': {'cooked potato'},\n",
       " '505-10-2': {'potato', 'sweet'},\n",
       " '94087-83-9': {'black currant', 'cat'},\n",
       " '65505-17-1': {'cooked meat', 'meat', 'thiamin'},\n",
       " '16630-66-3': {'cooked potato', 'roasted nut'},\n",
       " '95-63-6': {'plastic'},\n",
       " '2527-76-6': {'medicine'},\n",
       " '134-20-3': {'flower', 'honey'},\n",
       " '93-58-3': {'herb', 'lettuce', 'prune', 'sweet'},\n",
       " '623-42-7': {'ether', 'fruit', 'sweet'},\n",
       " '1754-62-7': {'strawberry'},\n",
       " '103-26-4': {'strawberry'},\n",
       " '4630-82-4': {'ester', 'fruit'},\n",
       " '110-42-9': {'wine'},\n",
       " '39647-11-5': {'jasmine'},\n",
       " '95722-42-2': {'jasmine'},\n",
       " '93-15-2': {'clove', 'spice'},\n",
       " '27538-09-6': {'cotton candy', 'sweet'},\n",
       " '1189-09-9': {'flower', 'fruit', 'green'},\n",
       " '106-70-7': {'fresh', 'fruit', 'sweet'},\n",
       " '1211-29-6': {'jasmine'},\n",
       " '111-82-0': {'coconut', 'fat'},\n",
       " '556-24-1': {'apple'},\n",
       " '868-57-5': {'apple'},\n",
       " '547-63-7': {'flower'},\n",
       " '1731-84-6': {'coconut'},\n",
       " '112-61-8': {'fat'},\n",
       " '111-11-5': {'orange'},\n",
       " '7251-61-8': {'fruit', 'nut', 'roast'},\n",
       " '119-36-8': {'peppermint'},\n",
       " '124-10-7': {'orris'},\n",
       " '3943-74-6': {'butterscotch', 'caramel', 'vanilla'},\n",
       " '5287-45-6': {'amine', 'smoke'},\n",
       " '116-53-0': {'cheese', 'sweat'},\n",
       " '65128-99-6': {'roast'},\n",
       " '26486-13-5': {'meat'},\n",
       " '13679-85-1': {'cabbage', 'must', 'onion'},\n",
       " '5616-51-3': {'sulfur'},\n",
       " '1618-26-4': {'garlic', 'sulfur'},\n",
       " '15707-23-0': {'roast'},\n",
       " '33504-66-4': {'sweat'},\n",
       " '28588-74-1': {'meat'},\n",
       " '59303-05-8': {'roast', 'sulfur'},\n",
       " '2371-42-8': {'earth', 'must'},\n",
       " '110-93-0': {'mushroom', 'pepper', 'rubber'},\n",
       " '113486-29-6': {'fruit', 'straw'},\n",
       " '590-36-3': {'pungent'},\n",
       " '565-69-5': {'mint'},\n",
       " '26548-78-7': {'onion'},\n",
       " '52558-99-3': {'garlic'},\n",
       " '123-35-3': {'balsamic', 'must', 'spice'},\n",
       " '607-91-0': {'balsamic', 'spice', 'warm'},\n",
       " '23727-16-4': {'spice'},\n",
       " '91-20-3': {'tar'},\n",
       " '491-02-1': {'menthol'},\n",
       " '106-26-3': {'lemon'},\n",
       " '106-25-2': {'sweet'},\n",
       " '1786-08-9': {'flower', 'oil'},\n",
       " '40716-66-3': {'flower', 'wax', 'wood'},\n",
       " '141-12-8': {'fruit'},\n",
       " '6125-24-2': {'flower', 'spice'},\n",
       " '629-92-5': {'alkane'},\n",
       " '28069-72-9': {'cucumber'},\n",
       " '124-19-6': {'citrus', 'fat', 'green'},\n",
       " '111-84-2': {'alkane'},\n",
       " '112-05-0': {'fat', 'green'},\n",
       " '143-08-8': {'fat', 'green'},\n",
       " '821-55-6': {'green', 'hot milk', 'soap'},\n",
       " '5009-32-5': {'baked', 'mushroom', 'pungent'},\n",
       " '24415-26-7': {'baked', 'mushroom', 'pungent'},\n",
       " '143-13-5': {'fruit', 'sweet'},\n",
       " '19322-27-1': {'caramel'},\n",
       " '551-93-9': {'foxy', 'sweet'},\n",
       " '95-48-7': {'phenol'},\n",
       " '95-47-6': {'geranium'},\n",
       " '27400-71-1': {'herb'},\n",
       " '502-99-8': {'fruit', 'herb', 'wet cloth'},\n",
       " '638-66-4': {'oil'},\n",
       " '593-45-3': {'alkane'},\n",
       " '65767-22-8': {'geranium', 'metal'},\n",
       " '124-13-0': {'fat', 'green', 'lemon', 'soap'},\n",
       " '111-65-9': {'alkane'},\n",
       " '124-07-2': {'cheese', 'sweat'},\n",
       " '111-87-5': {'burnt', 'chemical', 'metal', 'moss', 'mushroom', 'nut'},\n",
       " '589-98-0': {'burnt', 'chemical', 'metal', 'moss', 'mushroom', 'nut'},\n",
       " '111-13-7': {'butter', 'gasoline', 'herb', 'resin', 'soap'},\n",
       " '106-68-3': {'butter', 'gasoline', 'herb', 'resin', 'soap'},\n",
       " '72755-76-1': {'metal', 'mushroom'},\n",
       " '18409-17-1': {'mushroom', 'plastic', 'soap'},\n",
       " '3391-86-4': {'mushroom', 'plastic', 'soap'},\n",
       " '4312-99-6': {'metal', 'mushroom'},\n",
       " '2051-50-5': {'fruit'},\n",
       " '112-80-1': {'fat'},\n",
       " '29790-29-2': {'wood'},\n",
       " '43160-78-7': {'fat'},\n",
       " '619-62-5': {'herb'},\n",
       " '123-11-5': {'mint', 'sweet'},\n",
       " '105-13-5': {'flower'},\n",
       " '501-98-4': {'balsamic'},\n",
       " '106-44-5': {'medicine', 'phenol', 'smoke'},\n",
       " '99-87-6': {'citrus', 'gasoline', 'solvent'},\n",
       " '1197-01-9': {'citrus', 'must'},\n",
       " '123-07-9': {'phenol', 'spice'},\n",
       " '18479-68-0': {'fruit', 'herb'},\n",
       " '28839-13-6': {'fruit', 'herb'},\n",
       " '32495-14-0': {'turpentine'},\n",
       " '94268-57-2': {'turpentine'},\n",
       " '77026-83-6': {'turpentine'},\n",
       " '77026-84-7': {'turpentine'},\n",
       " '18368-95-1': {'turpentine'},\n",
       " '71159-90-5': {'grapefruit'},\n",
       " '637-69-4': {'sweet'},\n",
       " '7786-61-0': {'clove', 'curry'},\n",
       " '629-80-1': {'cardboard'},\n",
       " '599-04-2': {'cotton candy'},\n",
       " '09.11.2765': {'fresh'},\n",
       " '629-62-9': {'alkane'},\n",
       " '109-52-4': {'sweat'},\n",
       " '540-18-1': {'banana'},\n",
       " '68039-26-9': {'apple'},\n",
       " '3777-69-3': {'butter', 'green bean'},\n",
       " '2294-76-0': {'fat'},\n",
       " '502-69-2': {'fat'},\n",
       " '2111-75-3': {'spice'},\n",
       " '18031-40-8': {'fat'},\n",
       " '539-52-6': {'wood'},\n",
       " '100-47-0': {'rancid'},\n",
       " '103-82-2': {'flower', 'honey'},\n",
       " '122-78-1': {'hawthorne', 'honey', 'sweet'},\n",
       " '97-47-3': {'flower', 'honey'},\n",
       " '4410-99-5': {'rubber'},\n",
       " '150-86-7': {'flower'},\n",
       " '168564-54-3': {'dust', 'must'},\n",
       " '4955-29-7': {'flower'},\n",
       " '16721-39-4': {'herb'},\n",
       " '89-81-6': {'fresh', 'mint'},\n",
       " '1073-26-3': {'popcorn', 'roast'},\n",
       " '133447-37-7': {'roast'},\n",
       " '105-66-8': {'pineapple', 'solvent'},\n",
       " '626-77-7': {'fruit'},\n",
       " '106-36-5': {'pineapple'},\n",
       " '54814-64-1': {'peach'},\n",
       " '5471-51-2': {'raspberry'},\n",
       " '13678-68-7': {'roast'},\n",
       " '3387-41-5': {'pepper', 'turpentine', 'wood'},\n",
       " '116-26-7': {'herb', 'sweet'},\n",
       " '94-59-7': {'spice', 'sweet', 'warm'},\n",
       " '73744-93-1': {'fruit', 'herb', 'sweet'},\n",
       " '83-34-1': {'fecal', 'mothball'},\n",
       " '28664-35-9': {'cotton candy', 'maple', 'spice'},\n",
       " '6750-60-3': {'fruit', 'herb'},\n",
       " '112-92-5': {'oil'},\n",
       " '100-42-5': {'balsamic', 'gasoline'},\n",
       " '25779-13-9': {'sweet'},\n",
       " '137-00-8': {'sulfur'},\n",
       " '91-10-1': {'medicine', 'phenol', 'smoke'},\n",
       " '19912-62-0': {'herb', 'weak spice'},\n",
       " '80-26-2': {'wax'},\n",
       " '629-59-4': {'alkane'},\n",
       " '112-72-1': {'coconut'},\n",
       " '124-25-4': {'flower', 'wax'},\n",
       " '6258-63-5': {'sulfur'},\n",
       " '17699-16-0': {'balsamic', 'wood'},\n",
       " '638-67-5': {'alkane'},\n",
       " '10486-19-8': {'flower', 'must', 'sweet'},\n",
       " '629-50-5': {'alkane'},\n",
       " '112-70-9': {'must'},\n",
       " '14667-55-1': {'must', 'potato', 'roast'},\n",
       " '81018-77-1': {'flower', 'green'},\n",
       " '57461-21-9': {'flower', 'green'},\n",
       " '13623-11-5': {'earth'},\n",
       " '1209-71-8': {'sweet', 'wax'},\n",
       " '112-44-7': {'oil', 'pungent', 'sweet'},\n",
       " '1120-21-4': {'alkane'},\n",
       " '112-42-5': {'mandarin'},\n",
       " '112-12-9': {'fresh', 'green', 'orange'},\n",
       " '112-37-8': {'oil'},\n",
       " '03.07.4630': {'green', 'oil'},\n",
       " '121-33-5': {'vanilla'},\n",
       " '552-02-3': {'green', 'sweet'},\n",
       " '182699-77-0': {'coconut', 'spice'},\n",
       " '58334-55-7': {'metal'},\n",
       " '515-69-5': {'flower', 'spice'},\n",
       " '481-34-5': {'herb', 'wood'},\n",
       " '21391-99-1': {'wood'},\n",
       " '4586-22-5': {'earth'},\n",
       " '3856-25-5': {'spice', 'wood'},\n",
       " '17699-14-8': {'herb', 'wax'},\n",
       " '644-30-4': {'herb'},\n",
       " '502-61-4': {'sweet', 'wood'},\n",
       " '14575-74-7': {'camphor'},\n",
       " '01.12.3691': {'balsamic', 'wood'},\n",
       " '489-40-7': {'balsamic', 'wood'},\n",
       " '6753-98-6': {'wood'},\n",
       " '127-41-3': {'violet', 'wood'},\n",
       " '10208-80-7': {'wood'},\n",
       " '1195-32-0': {'citrus', 'pine'},\n",
       " '99-83-2': {'mint', 'spice', 'turpentine'},\n",
       " '80-56-8': {'pine', 'turpentine'},\n",
       " '99-86-5': {'lemon'},\n",
       " '98-55-5': {'anise', 'mint', 'oil'},\n",
       " '02.05.2867': {'green', 'herb', 'wood'},\n",
       " '495-60-3': {'fresh', 'sharp', 'spice'},\n",
       " '15352-77-9': {'herb', 'sweet'},\n",
       " '554-60-9': {'orange peel'},\n",
       " '87-44-5': {'spice', 'wood'},\n",
       " '472-97-9': {'earth', 'moss'},\n",
       " '13744-15-5': {'citrus', 'fruit'},\n",
       " '432-25-7': {'mint'},\n",
       " '23726-93-4': {'apple. rose', 'honey'},\n",
       " '33880-83-0': {'fresh', 'herb', 'wax'},\n",
       " '473-15-4': {'green', 'wood'},\n",
       " '18794-84-8': {'citrus', 'sweet', 'wood'},\n",
       " '58181-76-3': {'flower', 'oil'},\n",
       " '88-84-6': {'spice', 'wood'},\n",
       " '79-77-6': {'flower', 'raspberry', 'seaweed', 'violet'},\n",
       " '555-10-2': {'mint', 'terpentine'},\n",
       " '103-45-7': {'honey', 'rose', 'tobacco'},\n",
       " '127-91-3': {'pine', 'resin', 'turpentine'},\n",
       " '17066-67-0': {'herb'},\n",
       " '20307-83-9': {'wood'},\n",
       " '60066-88-8': {'sweet'},\n",
       " '138-87-4': {'must'},\n",
       " '39029-41-9': {'wood'},\n",
       " '706-14-9': {'fat', 'peach'},\n",
       " '07.05.2305': {'flower', 'fruit', 'sweet'},\n",
       " '105-21-5': {'fat', 'fruit', 'nut'},\n",
       " '30021-74-0': {'herb', 'spice', 'wood'},\n",
       " '104-61-0': {'coconut', 'peach'},\n",
       " '104-50-7': {'coconut'},\n",
       " '515-17-3': {'wood'},\n",
       " '99-85-4': {'gasoline', 'turpentine'},\n",
       " '104-67-6': {'apricot'},\n",
       " '13466-78-9': {'lemon', 'resin'},\n",
       " '483-76-1': {'medicine', 'thyme', 'wood'},\n",
       " '36564-42-8': {'herb'},\n",
       " '705-86-2': {'coconut', 'peach'},\n",
       " '2825-91-4': {'coconut', 'peach'},\n",
       " '713-95-1': {'fruit', 'sweet'},\n",
       " '20307-84-0': {'wood'},\n",
       " '120021-96-7': {'oil'},\n",
       " '586-62-9': {'pine', 'plastic'},\n",
       " '710-04-3': {'peach'}}"
      ]
     },
     "execution_count": 114,
     "metadata": {},
     "output_type": "execute_result"
    }
   ],
   "source": [
    "mol_flavors"
   ]
  },
  {
   "cell_type": "markdown",
   "metadata": {},
   "source": [
    "<span style=\"color:lightblue\">found_flavors</span>: list of the ODs found from the identified molecules \n"
   ]
  },
  {
   "cell_type": "code",
   "execution_count": 34,
   "metadata": {},
   "outputs": [
    {
     "data": {
      "text/plain": [
       "{'acid',\n",
       " 'alkane',\n",
       " 'almond',\n",
       " 'almond shell',\n",
       " 'amine',\n",
       " 'anise',\n",
       " 'apple',\n",
       " 'apple peel',\n",
       " 'apple. rose',\n",
       " 'apricot',\n",
       " 'baked',\n",
       " 'balsamic',\n",
       " 'banana',\n",
       " 'basil',\n",
       " 'beet',\n",
       " 'biscuit',\n",
       " 'bitter almond',\n",
       " 'black currant',\n",
       " 'boiled vegetable',\n",
       " 'box tree',\n",
       " 'bread',\n",
       " 'broccoli',\n",
       " 'brown sugar',\n",
       " 'burnt',\n",
       " 'burnt sugar',\n",
       " 'butter',\n",
       " 'butterscotch',\n",
       " 'cabbage',\n",
       " 'camomile',\n",
       " 'camphor',\n",
       " 'caramel',\n",
       " 'caraway',\n",
       " 'cardboard',\n",
       " 'carrot',\n",
       " 'cat',\n",
       " 'celery',\n",
       " 'cheese',\n",
       " 'chemical',\n",
       " 'cinnamon',\n",
       " 'citrus',\n",
       " 'clove',\n",
       " 'cocoa',\n",
       " 'coconut',\n",
       " 'coffee',\n",
       " 'cognac',\n",
       " 'cologne',\n",
       " 'cooked meat',\n",
       " 'cooked potato',\n",
       " 'coriander',\n",
       " 'cotton candy',\n",
       " 'coumarin',\n",
       " 'cream',\n",
       " 'crushed bug',\n",
       " 'cucumber',\n",
       " 'curry',\n",
       " 'dill',\n",
       " 'dust',\n",
       " 'earth',\n",
       " 'ester',\n",
       " 'ether',\n",
       " 'fat',\n",
       " 'fecal',\n",
       " 'fennel',\n",
       " 'fish',\n",
       " 'flower',\n",
       " 'foxy',\n",
       " 'fresh',\n",
       " 'fried',\n",
       " 'fruit',\n",
       " 'garlic',\n",
       " 'gasoline',\n",
       " 'geranium',\n",
       " 'grape',\n",
       " 'grapefruit',\n",
       " 'grass',\n",
       " 'green',\n",
       " 'green bean',\n",
       " 'green leaf',\n",
       " 'green pepper',\n",
       " 'green tea',\n",
       " 'hawthorne',\n",
       " 'hazelnut',\n",
       " 'herb',\n",
       " 'honey',\n",
       " 'horseradish',\n",
       " 'hot milk',\n",
       " 'hummus',\n",
       " 'hyacinth',\n",
       " 'jasmine',\n",
       " 'lactone',\n",
       " 'lavender',\n",
       " 'leaf',\n",
       " 'lemon',\n",
       " 'lettuce',\n",
       " 'licorice',\n",
       " 'lilac',\n",
       " 'lily',\n",
       " 'magnolia',\n",
       " 'mandarin',\n",
       " 'maple',\n",
       " 'marshmallow',\n",
       " 'meat',\n",
       " 'meat broth',\n",
       " 'medicine',\n",
       " 'melon',\n",
       " 'menthol',\n",
       " 'metal',\n",
       " 'mildew',\n",
       " 'mint',\n",
       " 'mold',\n",
       " 'moss',\n",
       " 'mothball',\n",
       " 'muguet',\n",
       " 'mushroom',\n",
       " 'must',\n",
       " 'mustard',\n",
       " 'nut',\n",
       " 'nutmeg',\n",
       " 'oil',\n",
       " 'onion',\n",
       " 'orange',\n",
       " 'orange peel',\n",
       " 'orris',\n",
       " 'paint',\n",
       " 'paper',\n",
       " 'pea',\n",
       " 'peach',\n",
       " 'peanut butter',\n",
       " 'pear',\n",
       " 'pepper',\n",
       " 'peppermint',\n",
       " 'phenol',\n",
       " 'pine',\n",
       " 'pineapple',\n",
       " 'plastic',\n",
       " 'plum',\n",
       " 'popcorn',\n",
       " 'potato',\n",
       " 'prune',\n",
       " 'pungent',\n",
       " 'rancid',\n",
       " 'raspberry',\n",
       " 'resin',\n",
       " 'roast',\n",
       " 'roast beef',\n",
       " 'roasted meat',\n",
       " 'roasted nut',\n",
       " 'rose',\n",
       " 'rubber',\n",
       " 'seaweed',\n",
       " 'sharp',\n",
       " 'smoke',\n",
       " 'soap',\n",
       " 'solvent',\n",
       " 'spearmint',\n",
       " 'spice',\n",
       " 'straw',\n",
       " 'strawberry',\n",
       " 'sulfur',\n",
       " 'sweat',\n",
       " 'sweet',\n",
       " 'tallow',\n",
       " 'tar',\n",
       " 'tart lime',\n",
       " 'tea',\n",
       " 'terpentine',\n",
       " 'thiamin',\n",
       " 'thyme',\n",
       " 'tobacco',\n",
       " 'tomato leaf',\n",
       " 'truffle',\n",
       " 'turpentine',\n",
       " 'urine',\n",
       " 'vanilla',\n",
       " 'violet',\n",
       " 'walnut',\n",
       " 'warm',\n",
       " 'watermelon',\n",
       " 'wax',\n",
       " 'weak spice',\n",
       " 'wet cloth',\n",
       " 'whiskey',\n",
       " 'wine',\n",
       " 'wintergreen',\n",
       " 'wood',\n",
       " 'yeast'}"
      ]
     },
     "execution_count": 34,
     "metadata": {},
     "output_type": "execute_result"
    }
   ],
   "source": [
    "found_flavors"
   ]
  },
  {
   "cell_type": "markdown",
   "metadata": {},
   "source": [
    "<span style=\"color:#FBB714\">OD</span>: Dataframe - *molecules x ODs*"
   ]
  },
  {
   "cell_type": "code",
   "execution_count": 35,
   "metadata": {},
   "outputs": [
    {
     "data": {
      "text/html": [
       "<div>\n",
       "<style scoped>\n",
       "    .dataframe tbody tr th:only-of-type {\n",
       "        vertical-align: middle;\n",
       "    }\n",
       "\n",
       "    .dataframe tbody tr th {\n",
       "        vertical-align: top;\n",
       "    }\n",
       "\n",
       "    .dataframe thead th {\n",
       "        text-align: right;\n",
       "    }\n",
       "</style>\n",
       "<table border=\"1\" class=\"dataframe\">\n",
       "  <thead>\n",
       "    <tr style=\"text-align: right;\">\n",
       "      <th></th>\n",
       "      <th>apple. rose</th>\n",
       "      <th>medicine</th>\n",
       "      <th>camphor</th>\n",
       "      <th>cardboard</th>\n",
       "      <th>thiamin</th>\n",
       "      <th>grape</th>\n",
       "      <th>green pepper</th>\n",
       "      <th>sweet</th>\n",
       "      <th>rose</th>\n",
       "      <th>truffle</th>\n",
       "      <th>...</th>\n",
       "      <th>strawberry</th>\n",
       "      <th>foxy</th>\n",
       "      <th>cognac</th>\n",
       "      <th>mustard</th>\n",
       "      <th>pine</th>\n",
       "      <th>peanut butter</th>\n",
       "      <th>magnolia</th>\n",
       "      <th>meat broth</th>\n",
       "      <th>paper</th>\n",
       "      <th>bread</th>\n",
       "    </tr>\n",
       "  </thead>\n",
       "  <tbody>\n",
       "    <tr>\n",
       "      <th>4861-58-9</th>\n",
       "      <td>0</td>\n",
       "      <td>0</td>\n",
       "      <td>0</td>\n",
       "      <td>0</td>\n",
       "      <td>0</td>\n",
       "      <td>0</td>\n",
       "      <td>0</td>\n",
       "      <td>1</td>\n",
       "      <td>0</td>\n",
       "      <td>0</td>\n",
       "      <td>...</td>\n",
       "      <td>0</td>\n",
       "      <td>0</td>\n",
       "      <td>0</td>\n",
       "      <td>0</td>\n",
       "      <td>0</td>\n",
       "      <td>0</td>\n",
       "      <td>0</td>\n",
       "      <td>0</td>\n",
       "      <td>0</td>\n",
       "      <td>0</td>\n",
       "    </tr>\n",
       "    <tr>\n",
       "      <th>59121-25-4</th>\n",
       "      <td>0</td>\n",
       "      <td>0</td>\n",
       "      <td>0</td>\n",
       "      <td>0</td>\n",
       "      <td>0</td>\n",
       "      <td>0</td>\n",
       "      <td>0</td>\n",
       "      <td>0</td>\n",
       "      <td>0</td>\n",
       "      <td>0</td>\n",
       "      <td>...</td>\n",
       "      <td>0</td>\n",
       "      <td>0</td>\n",
       "      <td>0</td>\n",
       "      <td>0</td>\n",
       "      <td>0</td>\n",
       "      <td>0</td>\n",
       "      <td>0</td>\n",
       "      <td>0</td>\n",
       "      <td>0</td>\n",
       "      <td>0</td>\n",
       "    </tr>\n",
       "    <tr>\n",
       "      <th>928-96-1</th>\n",
       "      <td>0</td>\n",
       "      <td>0</td>\n",
       "      <td>0</td>\n",
       "      <td>0</td>\n",
       "      <td>0</td>\n",
       "      <td>0</td>\n",
       "      <td>0</td>\n",
       "      <td>0</td>\n",
       "      <td>0</td>\n",
       "      <td>0</td>\n",
       "      <td>...</td>\n",
       "      <td>0</td>\n",
       "      <td>0</td>\n",
       "      <td>0</td>\n",
       "      <td>0</td>\n",
       "      <td>0</td>\n",
       "      <td>0</td>\n",
       "      <td>0</td>\n",
       "      <td>0</td>\n",
       "      <td>0</td>\n",
       "      <td>0</td>\n",
       "    </tr>\n",
       "    <tr>\n",
       "      <th>15423-57-1</th>\n",
       "      <td>0</td>\n",
       "      <td>0</td>\n",
       "      <td>0</td>\n",
       "      <td>0</td>\n",
       "      <td>0</td>\n",
       "      <td>0</td>\n",
       "      <td>0</td>\n",
       "      <td>0</td>\n",
       "      <td>0</td>\n",
       "      <td>0</td>\n",
       "      <td>...</td>\n",
       "      <td>0</td>\n",
       "      <td>0</td>\n",
       "      <td>0</td>\n",
       "      <td>0</td>\n",
       "      <td>0</td>\n",
       "      <td>0</td>\n",
       "      <td>0</td>\n",
       "      <td>0</td>\n",
       "      <td>0</td>\n",
       "      <td>0</td>\n",
       "    </tr>\n",
       "    <tr>\n",
       "      <th>115-99-1</th>\n",
       "      <td>0</td>\n",
       "      <td>0</td>\n",
       "      <td>0</td>\n",
       "      <td>0</td>\n",
       "      <td>0</td>\n",
       "      <td>0</td>\n",
       "      <td>0</td>\n",
       "      <td>0</td>\n",
       "      <td>0</td>\n",
       "      <td>0</td>\n",
       "      <td>...</td>\n",
       "      <td>0</td>\n",
       "      <td>0</td>\n",
       "      <td>0</td>\n",
       "      <td>0</td>\n",
       "      <td>0</td>\n",
       "      <td>0</td>\n",
       "      <td>0</td>\n",
       "      <td>0</td>\n",
       "      <td>0</td>\n",
       "      <td>0</td>\n",
       "    </tr>\n",
       "    <tr>\n",
       "      <th>...</th>\n",
       "      <td>...</td>\n",
       "      <td>...</td>\n",
       "      <td>...</td>\n",
       "      <td>...</td>\n",
       "      <td>...</td>\n",
       "      <td>...</td>\n",
       "      <td>...</td>\n",
       "      <td>...</td>\n",
       "      <td>...</td>\n",
       "      <td>...</td>\n",
       "      <td>...</td>\n",
       "      <td>...</td>\n",
       "      <td>...</td>\n",
       "      <td>...</td>\n",
       "      <td>...</td>\n",
       "      <td>...</td>\n",
       "      <td>...</td>\n",
       "      <td>...</td>\n",
       "      <td>...</td>\n",
       "      <td>...</td>\n",
       "      <td>...</td>\n",
       "    </tr>\n",
       "    <tr>\n",
       "      <th>108-50-9</th>\n",
       "      <td>0</td>\n",
       "      <td>1</td>\n",
       "      <td>0</td>\n",
       "      <td>0</td>\n",
       "      <td>0</td>\n",
       "      <td>0</td>\n",
       "      <td>0</td>\n",
       "      <td>0</td>\n",
       "      <td>0</td>\n",
       "      <td>0</td>\n",
       "      <td>...</td>\n",
       "      <td>0</td>\n",
       "      <td>0</td>\n",
       "      <td>0</td>\n",
       "      <td>0</td>\n",
       "      <td>0</td>\n",
       "      <td>1</td>\n",
       "      <td>0</td>\n",
       "      <td>0</td>\n",
       "      <td>0</td>\n",
       "      <td>0</td>\n",
       "    </tr>\n",
       "    <tr>\n",
       "      <th>2311-46-8</th>\n",
       "      <td>0</td>\n",
       "      <td>0</td>\n",
       "      <td>0</td>\n",
       "      <td>0</td>\n",
       "      <td>0</td>\n",
       "      <td>0</td>\n",
       "      <td>0</td>\n",
       "      <td>0</td>\n",
       "      <td>0</td>\n",
       "      <td>0</td>\n",
       "      <td>...</td>\n",
       "      <td>0</td>\n",
       "      <td>0</td>\n",
       "      <td>0</td>\n",
       "      <td>0</td>\n",
       "      <td>0</td>\n",
       "      <td>0</td>\n",
       "      <td>0</td>\n",
       "      <td>0</td>\n",
       "      <td>0</td>\n",
       "      <td>0</td>\n",
       "    </tr>\n",
       "    <tr>\n",
       "      <th>2497-25-8</th>\n",
       "      <td>0</td>\n",
       "      <td>0</td>\n",
       "      <td>0</td>\n",
       "      <td>0</td>\n",
       "      <td>0</td>\n",
       "      <td>0</td>\n",
       "      <td>0</td>\n",
       "      <td>0</td>\n",
       "      <td>0</td>\n",
       "      <td>0</td>\n",
       "      <td>...</td>\n",
       "      <td>0</td>\n",
       "      <td>0</td>\n",
       "      <td>0</td>\n",
       "      <td>0</td>\n",
       "      <td>0</td>\n",
       "      <td>0</td>\n",
       "      <td>0</td>\n",
       "      <td>0</td>\n",
       "      <td>0</td>\n",
       "      <td>0</td>\n",
       "    </tr>\n",
       "    <tr>\n",
       "      <th>122-97-4</th>\n",
       "      <td>0</td>\n",
       "      <td>0</td>\n",
       "      <td>0</td>\n",
       "      <td>0</td>\n",
       "      <td>0</td>\n",
       "      <td>0</td>\n",
       "      <td>0</td>\n",
       "      <td>0</td>\n",
       "      <td>0</td>\n",
       "      <td>0</td>\n",
       "      <td>...</td>\n",
       "      <td>0</td>\n",
       "      <td>0</td>\n",
       "      <td>0</td>\n",
       "      <td>0</td>\n",
       "      <td>0</td>\n",
       "      <td>0</td>\n",
       "      <td>0</td>\n",
       "      <td>0</td>\n",
       "      <td>0</td>\n",
       "      <td>0</td>\n",
       "    </tr>\n",
       "    <tr>\n",
       "      <th>110-43-0</th>\n",
       "      <td>0</td>\n",
       "      <td>0</td>\n",
       "      <td>0</td>\n",
       "      <td>0</td>\n",
       "      <td>0</td>\n",
       "      <td>0</td>\n",
       "      <td>0</td>\n",
       "      <td>0</td>\n",
       "      <td>0</td>\n",
       "      <td>0</td>\n",
       "      <td>...</td>\n",
       "      <td>0</td>\n",
       "      <td>0</td>\n",
       "      <td>0</td>\n",
       "      <td>0</td>\n",
       "      <td>0</td>\n",
       "      <td>0</td>\n",
       "      <td>0</td>\n",
       "      <td>0</td>\n",
       "      <td>0</td>\n",
       "      <td>0</td>\n",
       "    </tr>\n",
       "  </tbody>\n",
       "</table>\n",
       "<p>658 rows × 186 columns</p>\n",
       "</div>"
      ],
      "text/plain": [
       "            apple. rose  medicine  camphor  cardboard  thiamin  grape  \\\n",
       "4861-58-9             0         0        0          0        0      0   \n",
       "59121-25-4            0         0        0          0        0      0   \n",
       "928-96-1              0         0        0          0        0      0   \n",
       "15423-57-1            0         0        0          0        0      0   \n",
       "115-99-1              0         0        0          0        0      0   \n",
       "...                 ...       ...      ...        ...      ...    ...   \n",
       "108-50-9              0         1        0          0        0      0   \n",
       "2311-46-8             0         0        0          0        0      0   \n",
       "2497-25-8             0         0        0          0        0      0   \n",
       "122-97-4              0         0        0          0        0      0   \n",
       "110-43-0              0         0        0          0        0      0   \n",
       "\n",
       "            green pepper  sweet  rose  truffle  ...  strawberry  foxy  cognac  \\\n",
       "4861-58-9              0      1     0        0  ...           0     0       0   \n",
       "59121-25-4             0      0     0        0  ...           0     0       0   \n",
       "928-96-1               0      0     0        0  ...           0     0       0   \n",
       "15423-57-1             0      0     0        0  ...           0     0       0   \n",
       "115-99-1               0      0     0        0  ...           0     0       0   \n",
       "...                  ...    ...   ...      ...  ...         ...   ...     ...   \n",
       "108-50-9               0      0     0        0  ...           0     0       0   \n",
       "2311-46-8              0      0     0        0  ...           0     0       0   \n",
       "2497-25-8              0      0     0        0  ...           0     0       0   \n",
       "122-97-4               0      0     0        0  ...           0     0       0   \n",
       "110-43-0               0      0     0        0  ...           0     0       0   \n",
       "\n",
       "            mustard  pine  peanut butter  magnolia  meat broth  paper  bread  \n",
       "4861-58-9         0     0              0         0           0      0      0  \n",
       "59121-25-4        0     0              0         0           0      0      0  \n",
       "928-96-1          0     0              0         0           0      0      0  \n",
       "15423-57-1        0     0              0         0           0      0      0  \n",
       "115-99-1          0     0              0         0           0      0      0  \n",
       "...             ...   ...            ...       ...         ...    ...    ...  \n",
       "108-50-9          0     0              1         0           0      0      0  \n",
       "2311-46-8         0     0              0         0           0      0      0  \n",
       "2497-25-8         0     0              0         0           0      0      0  \n",
       "122-97-4          0     0              0         0           0      0      0  \n",
       "110-43-0          0     0              0         0           0      0      0  \n",
       "\n",
       "[658 rows x 186 columns]"
      ]
     },
     "execution_count": 35,
     "metadata": {},
     "output_type": "execute_result"
    }
   ],
   "source": [
    "# filters only relevant rows - only those ODs coming from indentified molecules\n",
    "OD = D[(D.index).isin(I_vector.index)]\n",
    "# get only important/matching columns\n",
    "OD = OD.loc[:, (OD != 0).any(axis=0)]\n",
    "OD "
   ]
  },
  {
   "attachments": {},
   "cell_type": "markdown",
   "metadata": {},
   "source": [
    "#### 3. OD ----------> OQ\n"
   ]
  },
  {
   "cell_type": "markdown",
   "metadata": {},
   "source": [
    "### Whisky Research institute"
   ]
  },
  {
   "cell_type": "code",
   "execution_count": 36,
   "metadata": {},
   "outputs": [],
   "source": [
    "Research_data = pd.read_csv('./data/swri_flavorwheel.csv', sep=';')\n",
    "Research_OQ_OD =  Research_data.drop(columns=Research_data.columns[0])\n"
   ]
  },
  {
   "cell_type": "code",
   "execution_count": 37,
   "metadata": {},
   "outputs": [],
   "source": [
    "OD_OQ = dict_to_matrix(dataframe_to_dict(Research_OQ_OD)).T"
   ]
  },
  {
   "cell_type": "markdown",
   "metadata": {},
   "source": [
    "<span style=\"color:#FBB714\">OD_OQ</span>: Dataframe - all ODs x OQs from research institute"
   ]
  },
  {
   "cell_type": "code",
   "execution_count": 38,
   "metadata": {},
   "outputs": [
    {
     "data": {
      "text/html": [
       "<div>\n",
       "<style scoped>\n",
       "    .dataframe tbody tr th:only-of-type {\n",
       "        vertical-align: middle;\n",
       "    }\n",
       "\n",
       "    .dataframe tbody tr th {\n",
       "        vertical-align: top;\n",
       "    }\n",
       "\n",
       "    .dataframe thead th {\n",
       "        text-align: right;\n",
       "    }\n",
       "</style>\n",
       "<table border=\"1\" class=\"dataframe\">\n",
       "  <thead>\n",
       "    <tr style=\"text-align: right;\">\n",
       "      <th></th>\n",
       "      <th>Burnt</th>\n",
       "      <th>Smoky</th>\n",
       "      <th>Medicinal</th>\n",
       "      <th>Leathery</th>\n",
       "      <th>Tobacco</th>\n",
       "      <th>Sweaty</th>\n",
       "      <th>Dry cereals</th>\n",
       "      <th>Wet cereals</th>\n",
       "      <th>leafy</th>\n",
       "      <th>Herbal</th>\n",
       "      <th>...</th>\n",
       "      <th>Solvently</th>\n",
       "      <th>Soapy</th>\n",
       "      <th>Sweet</th>\n",
       "      <th>Woody</th>\n",
       "      <th>Nutty</th>\n",
       "      <th>Spicy</th>\n",
       "      <th>Oily</th>\n",
       "      <th>Sour</th>\n",
       "      <th>Sulphury</th>\n",
       "      <th>Stale</th>\n",
       "    </tr>\n",
       "  </thead>\n",
       "  <tbody>\n",
       "    <tr>\n",
       "      <th>treacle</th>\n",
       "      <td>0</td>\n",
       "      <td>0</td>\n",
       "      <td>0</td>\n",
       "      <td>0</td>\n",
       "      <td>0</td>\n",
       "      <td>0</td>\n",
       "      <td>0</td>\n",
       "      <td>0</td>\n",
       "      <td>0</td>\n",
       "      <td>0</td>\n",
       "      <td>...</td>\n",
       "      <td>0</td>\n",
       "      <td>0</td>\n",
       "      <td>0</td>\n",
       "      <td>0</td>\n",
       "      <td>0</td>\n",
       "      <td>0</td>\n",
       "      <td>0</td>\n",
       "      <td>0</td>\n",
       "      <td>0</td>\n",
       "      <td>0</td>\n",
       "    </tr>\n",
       "    <tr>\n",
       "      <th>brazil nuts</th>\n",
       "      <td>0</td>\n",
       "      <td>0</td>\n",
       "      <td>0</td>\n",
       "      <td>0</td>\n",
       "      <td>0</td>\n",
       "      <td>0</td>\n",
       "      <td>0</td>\n",
       "      <td>0</td>\n",
       "      <td>0</td>\n",
       "      <td>0</td>\n",
       "      <td>...</td>\n",
       "      <td>0</td>\n",
       "      <td>0</td>\n",
       "      <td>0</td>\n",
       "      <td>0</td>\n",
       "      <td>0</td>\n",
       "      <td>0</td>\n",
       "      <td>0</td>\n",
       "      <td>0</td>\n",
       "      <td>0</td>\n",
       "      <td>0</td>\n",
       "    </tr>\n",
       "    <tr>\n",
       "      <th>Cabbage</th>\n",
       "      <td>0</td>\n",
       "      <td>0</td>\n",
       "      <td>0</td>\n",
       "      <td>0</td>\n",
       "      <td>0</td>\n",
       "      <td>0</td>\n",
       "      <td>0</td>\n",
       "      <td>0</td>\n",
       "      <td>0</td>\n",
       "      <td>0</td>\n",
       "      <td>...</td>\n",
       "      <td>0</td>\n",
       "      <td>0</td>\n",
       "      <td>0</td>\n",
       "      <td>0</td>\n",
       "      <td>0</td>\n",
       "      <td>0</td>\n",
       "      <td>0</td>\n",
       "      <td>0</td>\n",
       "      <td>0</td>\n",
       "      <td>0</td>\n",
       "    </tr>\n",
       "    <tr>\n",
       "      <th>Sour</th>\n",
       "      <td>0</td>\n",
       "      <td>0</td>\n",
       "      <td>0</td>\n",
       "      <td>0</td>\n",
       "      <td>0</td>\n",
       "      <td>0</td>\n",
       "      <td>0</td>\n",
       "      <td>0</td>\n",
       "      <td>0</td>\n",
       "      <td>0</td>\n",
       "      <td>...</td>\n",
       "      <td>0</td>\n",
       "      <td>0</td>\n",
       "      <td>0</td>\n",
       "      <td>0</td>\n",
       "      <td>0</td>\n",
       "      <td>0</td>\n",
       "      <td>0</td>\n",
       "      <td>1</td>\n",
       "      <td>0</td>\n",
       "      <td>0</td>\n",
       "    </tr>\n",
       "    <tr>\n",
       "      <th>fresh peas</th>\n",
       "      <td>0</td>\n",
       "      <td>0</td>\n",
       "      <td>0</td>\n",
       "      <td>0</td>\n",
       "      <td>0</td>\n",
       "      <td>0</td>\n",
       "      <td>0</td>\n",
       "      <td>0</td>\n",
       "      <td>0</td>\n",
       "      <td>0</td>\n",
       "      <td>...</td>\n",
       "      <td>0</td>\n",
       "      <td>0</td>\n",
       "      <td>0</td>\n",
       "      <td>0</td>\n",
       "      <td>0</td>\n",
       "      <td>0</td>\n",
       "      <td>0</td>\n",
       "      <td>0</td>\n",
       "      <td>0</td>\n",
       "      <td>0</td>\n",
       "    </tr>\n",
       "    <tr>\n",
       "      <th>...</th>\n",
       "      <td>...</td>\n",
       "      <td>...</td>\n",
       "      <td>...</td>\n",
       "      <td>...</td>\n",
       "      <td>...</td>\n",
       "      <td>...</td>\n",
       "      <td>...</td>\n",
       "      <td>...</td>\n",
       "      <td>...</td>\n",
       "      <td>...</td>\n",
       "      <td>...</td>\n",
       "      <td>...</td>\n",
       "      <td>...</td>\n",
       "      <td>...</td>\n",
       "      <td>...</td>\n",
       "      <td>...</td>\n",
       "      <td>...</td>\n",
       "      <td>...</td>\n",
       "      <td>...</td>\n",
       "      <td>...</td>\n",
       "      <td>...</td>\n",
       "    </tr>\n",
       "    <tr>\n",
       "      <th>roasted beans</th>\n",
       "      <td>0</td>\n",
       "      <td>0</td>\n",
       "      <td>0</td>\n",
       "      <td>0</td>\n",
       "      <td>0</td>\n",
       "      <td>0</td>\n",
       "      <td>0</td>\n",
       "      <td>0</td>\n",
       "      <td>0</td>\n",
       "      <td>0</td>\n",
       "      <td>...</td>\n",
       "      <td>0</td>\n",
       "      <td>0</td>\n",
       "      <td>0</td>\n",
       "      <td>0</td>\n",
       "      <td>0</td>\n",
       "      <td>0</td>\n",
       "      <td>0</td>\n",
       "      <td>0</td>\n",
       "      <td>0</td>\n",
       "      <td>0</td>\n",
       "    </tr>\n",
       "    <tr>\n",
       "      <th>fruit cake</th>\n",
       "      <td>0</td>\n",
       "      <td>0</td>\n",
       "      <td>0</td>\n",
       "      <td>0</td>\n",
       "      <td>0</td>\n",
       "      <td>0</td>\n",
       "      <td>0</td>\n",
       "      <td>0</td>\n",
       "      <td>0</td>\n",
       "      <td>0</td>\n",
       "      <td>...</td>\n",
       "      <td>0</td>\n",
       "      <td>0</td>\n",
       "      <td>0</td>\n",
       "      <td>0</td>\n",
       "      <td>0</td>\n",
       "      <td>0</td>\n",
       "      <td>0</td>\n",
       "      <td>0</td>\n",
       "      <td>0</td>\n",
       "      <td>0</td>\n",
       "    </tr>\n",
       "    <tr>\n",
       "      <th>Green/grassy</th>\n",
       "      <td>0</td>\n",
       "      <td>0</td>\n",
       "      <td>0</td>\n",
       "      <td>0</td>\n",
       "      <td>0</td>\n",
       "      <td>0</td>\n",
       "      <td>0</td>\n",
       "      <td>0</td>\n",
       "      <td>0</td>\n",
       "      <td>0</td>\n",
       "      <td>...</td>\n",
       "      <td>0</td>\n",
       "      <td>0</td>\n",
       "      <td>0</td>\n",
       "      <td>0</td>\n",
       "      <td>0</td>\n",
       "      <td>0</td>\n",
       "      <td>0</td>\n",
       "      <td>0</td>\n",
       "      <td>0</td>\n",
       "      <td>0</td>\n",
       "    </tr>\n",
       "    <tr>\n",
       "      <th>TCP</th>\n",
       "      <td>0</td>\n",
       "      <td>0</td>\n",
       "      <td>1</td>\n",
       "      <td>0</td>\n",
       "      <td>0</td>\n",
       "      <td>0</td>\n",
       "      <td>0</td>\n",
       "      <td>0</td>\n",
       "      <td>0</td>\n",
       "      <td>0</td>\n",
       "      <td>...</td>\n",
       "      <td>0</td>\n",
       "      <td>0</td>\n",
       "      <td>0</td>\n",
       "      <td>0</td>\n",
       "      <td>0</td>\n",
       "      <td>0</td>\n",
       "      <td>0</td>\n",
       "      <td>0</td>\n",
       "      <td>0</td>\n",
       "      <td>0</td>\n",
       "    </tr>\n",
       "    <tr>\n",
       "      <th>mushrooms</th>\n",
       "      <td>0</td>\n",
       "      <td>0</td>\n",
       "      <td>0</td>\n",
       "      <td>0</td>\n",
       "      <td>0</td>\n",
       "      <td>0</td>\n",
       "      <td>0</td>\n",
       "      <td>0</td>\n",
       "      <td>0</td>\n",
       "      <td>0</td>\n",
       "      <td>...</td>\n",
       "      <td>0</td>\n",
       "      <td>0</td>\n",
       "      <td>0</td>\n",
       "      <td>0</td>\n",
       "      <td>0</td>\n",
       "      <td>0</td>\n",
       "      <td>0</td>\n",
       "      <td>0</td>\n",
       "      <td>0</td>\n",
       "      <td>0</td>\n",
       "    </tr>\n",
       "  </tbody>\n",
       "</table>\n",
       "<p>142 rows × 59 columns</p>\n",
       "</div>"
      ],
      "text/plain": [
       "               Burnt  Smoky  Medicinal  Leathery  Tobacco  Sweaty  \\\n",
       "treacle            0      0          0         0        0       0   \n",
       "brazil nuts        0      0          0         0        0       0   \n",
       "Cabbage            0      0          0         0        0       0   \n",
       "Sour               0      0          0         0        0       0   \n",
       "fresh peas         0      0          0         0        0       0   \n",
       "...              ...    ...        ...       ...      ...     ...   \n",
       "roasted beans      0      0          0         0        0       0   \n",
       "fruit cake         0      0          0         0        0       0   \n",
       "Green/grassy       0      0          0         0        0       0   \n",
       "TCP                0      0          1         0        0       0   \n",
       "mushrooms          0      0          0         0        0       0   \n",
       "\n",
       "               Dry cereals  Wet cereals  leafy  Herbal  ...  Solvently  Soapy  \\\n",
       "treacle                  0            0      0       0  ...          0      0   \n",
       "brazil nuts              0            0      0       0  ...          0      0   \n",
       "Cabbage                  0            0      0       0  ...          0      0   \n",
       "Sour                     0            0      0       0  ...          0      0   \n",
       "fresh peas               0            0      0       0  ...          0      0   \n",
       "...                    ...          ...    ...     ...  ...        ...    ...   \n",
       "roasted beans            0            0      0       0  ...          0      0   \n",
       "fruit cake               0            0      0       0  ...          0      0   \n",
       "Green/grassy             0            0      0       0  ...          0      0   \n",
       "TCP                      0            0      0       0  ...          0      0   \n",
       "mushrooms                0            0      0       0  ...          0      0   \n",
       "\n",
       "               Sweet  Woody  Nutty  Spicy  Oily  Sour  Sulphury  Stale  \n",
       "treacle            0      0      0      0     0     0         0      0  \n",
       "brazil nuts        0      0      0      0     0     0         0      0  \n",
       "Cabbage            0      0      0      0     0     0         0      0  \n",
       "Sour               0      0      0      0     0     1         0      0  \n",
       "fresh peas         0      0      0      0     0     0         0      0  \n",
       "...              ...    ...    ...    ...   ...   ...       ...    ...  \n",
       "roasted beans      0      0      0      0     0     0         0      0  \n",
       "fruit cake         0      0      0      0     0     0         0      0  \n",
       "Green/grassy       0      0      0      0     0     0         0      0  \n",
       "TCP                0      0      0      0     0     0         0      0  \n",
       "mushrooms          0      0      0      0     0     0         0      0  \n",
       "\n",
       "[142 rows x 59 columns]"
      ]
     },
     "execution_count": 38,
     "metadata": {},
     "output_type": "execute_result"
    }
   ],
   "source": [
    "OD_OQ"
   ]
  },
  {
   "cell_type": "code",
   "execution_count": 39,
   "metadata": {},
   "outputs": [],
   "source": [
    "# find matching OQs to found ODs from massspec x flavornet\n",
    "matching_OQs, matching_OQs_dict = find_matching_entries(mol_flavors, OD_OQ)"
   ]
  },
  {
   "cell_type": "code",
   "execution_count": 40,
   "metadata": {},
   "outputs": [
    {
     "data": {
      "text/html": [
       "<div>\n",
       "<style scoped>\n",
       "    .dataframe tbody tr th:only-of-type {\n",
       "        vertical-align: middle;\n",
       "    }\n",
       "\n",
       "    .dataframe tbody tr th {\n",
       "        vertical-align: top;\n",
       "    }\n",
       "\n",
       "    .dataframe thead th {\n",
       "        text-align: right;\n",
       "    }\n",
       "</style>\n",
       "<table border=\"1\" class=\"dataframe\">\n",
       "  <thead>\n",
       "    <tr style=\"text-align: right;\">\n",
       "      <th></th>\n",
       "      <th>Burnt</th>\n",
       "      <th>Sweaty</th>\n",
       "      <th>Dry cereals</th>\n",
       "      <th>Green vegetables</th>\n",
       "      <th>Fresh flowers</th>\n",
       "      <th>Fresh fruit</th>\n",
       "      <th>Citrus</th>\n",
       "      <th>Artificial fruit flavourings</th>\n",
       "      <th>Vanilla</th>\n",
       "      <th>Toffee</th>\n",
       "      <th>...</th>\n",
       "      <th>Cooked vegetables</th>\n",
       "      <th>Struck match</th>\n",
       "      <th>Earthy</th>\n",
       "      <th>Fruity</th>\n",
       "      <th>Solvently</th>\n",
       "      <th>Soapy</th>\n",
       "      <th>Sweet</th>\n",
       "      <th>Woody</th>\n",
       "      <th>Spicy</th>\n",
       "      <th>Oily</th>\n",
       "    </tr>\n",
       "  </thead>\n",
       "  <tbody>\n",
       "    <tr>\n",
       "      <th>Sweet</th>\n",
       "      <td>0</td>\n",
       "      <td>0</td>\n",
       "      <td>0</td>\n",
       "      <td>0</td>\n",
       "      <td>0</td>\n",
       "      <td>0</td>\n",
       "      <td>0</td>\n",
       "      <td>0</td>\n",
       "      <td>0</td>\n",
       "      <td>0</td>\n",
       "      <td>...</td>\n",
       "      <td>0</td>\n",
       "      <td>0</td>\n",
       "      <td>0</td>\n",
       "      <td>0</td>\n",
       "      <td>0</td>\n",
       "      <td>0</td>\n",
       "      <td>1</td>\n",
       "      <td>0</td>\n",
       "      <td>0</td>\n",
       "      <td>0</td>\n",
       "    </tr>\n",
       "    <tr>\n",
       "      <th>Roses</th>\n",
       "      <td>0</td>\n",
       "      <td>0</td>\n",
       "      <td>0</td>\n",
       "      <td>0</td>\n",
       "      <td>1</td>\n",
       "      <td>0</td>\n",
       "      <td>0</td>\n",
       "      <td>0</td>\n",
       "      <td>0</td>\n",
       "      <td>0</td>\n",
       "      <td>...</td>\n",
       "      <td>0</td>\n",
       "      <td>0</td>\n",
       "      <td>0</td>\n",
       "      <td>0</td>\n",
       "      <td>0</td>\n",
       "      <td>0</td>\n",
       "      <td>0</td>\n",
       "      <td>0</td>\n",
       "      <td>0</td>\n",
       "      <td>0</td>\n",
       "    </tr>\n",
       "    <tr>\n",
       "      <th>Spicy</th>\n",
       "      <td>0</td>\n",
       "      <td>0</td>\n",
       "      <td>0</td>\n",
       "      <td>0</td>\n",
       "      <td>0</td>\n",
       "      <td>0</td>\n",
       "      <td>0</td>\n",
       "      <td>0</td>\n",
       "      <td>0</td>\n",
       "      <td>0</td>\n",
       "      <td>...</td>\n",
       "      <td>0</td>\n",
       "      <td>0</td>\n",
       "      <td>0</td>\n",
       "      <td>0</td>\n",
       "      <td>0</td>\n",
       "      <td>0</td>\n",
       "      <td>0</td>\n",
       "      <td>0</td>\n",
       "      <td>1</td>\n",
       "      <td>0</td>\n",
       "    </tr>\n",
       "    <tr>\n",
       "      <th>Oily</th>\n",
       "      <td>0</td>\n",
       "      <td>0</td>\n",
       "      <td>0</td>\n",
       "      <td>0</td>\n",
       "      <td>0</td>\n",
       "      <td>0</td>\n",
       "      <td>0</td>\n",
       "      <td>0</td>\n",
       "      <td>0</td>\n",
       "      <td>0</td>\n",
       "      <td>...</td>\n",
       "      <td>0</td>\n",
       "      <td>0</td>\n",
       "      <td>0</td>\n",
       "      <td>0</td>\n",
       "      <td>0</td>\n",
       "      <td>0</td>\n",
       "      <td>0</td>\n",
       "      <td>0</td>\n",
       "      <td>0</td>\n",
       "      <td>1</td>\n",
       "    </tr>\n",
       "    <tr>\n",
       "      <th>Woody</th>\n",
       "      <td>0</td>\n",
       "      <td>0</td>\n",
       "      <td>0</td>\n",
       "      <td>0</td>\n",
       "      <td>0</td>\n",
       "      <td>0</td>\n",
       "      <td>0</td>\n",
       "      <td>0</td>\n",
       "      <td>0</td>\n",
       "      <td>0</td>\n",
       "      <td>...</td>\n",
       "      <td>0</td>\n",
       "      <td>0</td>\n",
       "      <td>0</td>\n",
       "      <td>0</td>\n",
       "      <td>0</td>\n",
       "      <td>0</td>\n",
       "      <td>0</td>\n",
       "      <td>1</td>\n",
       "      <td>0</td>\n",
       "      <td>0</td>\n",
       "    </tr>\n",
       "    <tr>\n",
       "      <th>grapefruit</th>\n",
       "      <td>0</td>\n",
       "      <td>0</td>\n",
       "      <td>0</td>\n",
       "      <td>0</td>\n",
       "      <td>0</td>\n",
       "      <td>0</td>\n",
       "      <td>1</td>\n",
       "      <td>0</td>\n",
       "      <td>0</td>\n",
       "      <td>0</td>\n",
       "      <td>...</td>\n",
       "      <td>0</td>\n",
       "      <td>0</td>\n",
       "      <td>0</td>\n",
       "      <td>0</td>\n",
       "      <td>0</td>\n",
       "      <td>0</td>\n",
       "      <td>0</td>\n",
       "      <td>0</td>\n",
       "      <td>0</td>\n",
       "      <td>0</td>\n",
       "    </tr>\n",
       "    <tr>\n",
       "      <th>Apples</th>\n",
       "      <td>0</td>\n",
       "      <td>0</td>\n",
       "      <td>0</td>\n",
       "      <td>0</td>\n",
       "      <td>0</td>\n",
       "      <td>1</td>\n",
       "      <td>0</td>\n",
       "      <td>0</td>\n",
       "      <td>0</td>\n",
       "      <td>0</td>\n",
       "      <td>...</td>\n",
       "      <td>0</td>\n",
       "      <td>0</td>\n",
       "      <td>0</td>\n",
       "      <td>0</td>\n",
       "      <td>0</td>\n",
       "      <td>0</td>\n",
       "      <td>0</td>\n",
       "      <td>0</td>\n",
       "      <td>0</td>\n",
       "      <td>0</td>\n",
       "    </tr>\n",
       "    <tr>\n",
       "      <th>cucumber</th>\n",
       "      <td>0</td>\n",
       "      <td>0</td>\n",
       "      <td>0</td>\n",
       "      <td>1</td>\n",
       "      <td>0</td>\n",
       "      <td>0</td>\n",
       "      <td>0</td>\n",
       "      <td>0</td>\n",
       "      <td>0</td>\n",
       "      <td>0</td>\n",
       "      <td>...</td>\n",
       "      <td>0</td>\n",
       "      <td>0</td>\n",
       "      <td>0</td>\n",
       "      <td>0</td>\n",
       "      <td>0</td>\n",
       "      <td>0</td>\n",
       "      <td>0</td>\n",
       "      <td>0</td>\n",
       "      <td>0</td>\n",
       "      <td>0</td>\n",
       "    </tr>\n",
       "    <tr>\n",
       "      <th>Soapy</th>\n",
       "      <td>0</td>\n",
       "      <td>0</td>\n",
       "      <td>0</td>\n",
       "      <td>0</td>\n",
       "      <td>0</td>\n",
       "      <td>0</td>\n",
       "      <td>0</td>\n",
       "      <td>0</td>\n",
       "      <td>0</td>\n",
       "      <td>0</td>\n",
       "      <td>...</td>\n",
       "      <td>0</td>\n",
       "      <td>0</td>\n",
       "      <td>0</td>\n",
       "      <td>0</td>\n",
       "      <td>0</td>\n",
       "      <td>1</td>\n",
       "      <td>0</td>\n",
       "      <td>0</td>\n",
       "      <td>0</td>\n",
       "      <td>0</td>\n",
       "    </tr>\n",
       "    <tr>\n",
       "      <th>Solvently</th>\n",
       "      <td>0</td>\n",
       "      <td>0</td>\n",
       "      <td>0</td>\n",
       "      <td>0</td>\n",
       "      <td>0</td>\n",
       "      <td>0</td>\n",
       "      <td>0</td>\n",
       "      <td>0</td>\n",
       "      <td>0</td>\n",
       "      <td>0</td>\n",
       "      <td>...</td>\n",
       "      <td>0</td>\n",
       "      <td>0</td>\n",
       "      <td>0</td>\n",
       "      <td>0</td>\n",
       "      <td>1</td>\n",
       "      <td>0</td>\n",
       "      <td>0</td>\n",
       "      <td>0</td>\n",
       "      <td>0</td>\n",
       "      <td>0</td>\n",
       "    </tr>\n",
       "    <tr>\n",
       "      <th>cinnamon</th>\n",
       "      <td>0</td>\n",
       "      <td>0</td>\n",
       "      <td>0</td>\n",
       "      <td>0</td>\n",
       "      <td>0</td>\n",
       "      <td>0</td>\n",
       "      <td>0</td>\n",
       "      <td>0</td>\n",
       "      <td>0</td>\n",
       "      <td>0</td>\n",
       "      <td>...</td>\n",
       "      <td>0</td>\n",
       "      <td>0</td>\n",
       "      <td>0</td>\n",
       "      <td>0</td>\n",
       "      <td>0</td>\n",
       "      <td>0</td>\n",
       "      <td>0</td>\n",
       "      <td>0</td>\n",
       "      <td>0</td>\n",
       "      <td>0</td>\n",
       "    </tr>\n",
       "    <tr>\n",
       "      <th>Gassy</th>\n",
       "      <td>0</td>\n",
       "      <td>0</td>\n",
       "      <td>0</td>\n",
       "      <td>0</td>\n",
       "      <td>0</td>\n",
       "      <td>0</td>\n",
       "      <td>0</td>\n",
       "      <td>0</td>\n",
       "      <td>0</td>\n",
       "      <td>0</td>\n",
       "      <td>...</td>\n",
       "      <td>0</td>\n",
       "      <td>1</td>\n",
       "      <td>0</td>\n",
       "      <td>0</td>\n",
       "      <td>0</td>\n",
       "      <td>0</td>\n",
       "      <td>0</td>\n",
       "      <td>0</td>\n",
       "      <td>0</td>\n",
       "      <td>0</td>\n",
       "    </tr>\n",
       "    <tr>\n",
       "      <th>Fruity</th>\n",
       "      <td>0</td>\n",
       "      <td>0</td>\n",
       "      <td>0</td>\n",
       "      <td>0</td>\n",
       "      <td>0</td>\n",
       "      <td>0</td>\n",
       "      <td>0</td>\n",
       "      <td>0</td>\n",
       "      <td>0</td>\n",
       "      <td>0</td>\n",
       "      <td>...</td>\n",
       "      <td>0</td>\n",
       "      <td>0</td>\n",
       "      <td>0</td>\n",
       "      <td>1</td>\n",
       "      <td>0</td>\n",
       "      <td>0</td>\n",
       "      <td>0</td>\n",
       "      <td>0</td>\n",
       "      <td>0</td>\n",
       "      <td>0</td>\n",
       "    </tr>\n",
       "    <tr>\n",
       "      <th>Sweaty</th>\n",
       "      <td>0</td>\n",
       "      <td>1</td>\n",
       "      <td>0</td>\n",
       "      <td>0</td>\n",
       "      <td>0</td>\n",
       "      <td>0</td>\n",
       "      <td>0</td>\n",
       "      <td>0</td>\n",
       "      <td>0</td>\n",
       "      <td>0</td>\n",
       "      <td>...</td>\n",
       "      <td>0</td>\n",
       "      <td>0</td>\n",
       "      <td>0</td>\n",
       "      <td>0</td>\n",
       "      <td>0</td>\n",
       "      <td>0</td>\n",
       "      <td>0</td>\n",
       "      <td>0</td>\n",
       "      <td>0</td>\n",
       "      <td>0</td>\n",
       "    </tr>\n",
       "    <tr>\n",
       "      <th>mushrooms</th>\n",
       "      <td>0</td>\n",
       "      <td>0</td>\n",
       "      <td>0</td>\n",
       "      <td>0</td>\n",
       "      <td>0</td>\n",
       "      <td>0</td>\n",
       "      <td>0</td>\n",
       "      <td>0</td>\n",
       "      <td>0</td>\n",
       "      <td>0</td>\n",
       "      <td>...</td>\n",
       "      <td>0</td>\n",
       "      <td>0</td>\n",
       "      <td>1</td>\n",
       "      <td>0</td>\n",
       "      <td>0</td>\n",
       "      <td>0</td>\n",
       "      <td>0</td>\n",
       "      <td>0</td>\n",
       "      <td>0</td>\n",
       "      <td>0</td>\n",
       "    </tr>\n",
       "    <tr>\n",
       "      <th>cream</th>\n",
       "      <td>0</td>\n",
       "      <td>0</td>\n",
       "      <td>0</td>\n",
       "      <td>0</td>\n",
       "      <td>0</td>\n",
       "      <td>0</td>\n",
       "      <td>0</td>\n",
       "      <td>0</td>\n",
       "      <td>0</td>\n",
       "      <td>0</td>\n",
       "      <td>...</td>\n",
       "      <td>0</td>\n",
       "      <td>0</td>\n",
       "      <td>0</td>\n",
       "      <td>0</td>\n",
       "      <td>0</td>\n",
       "      <td>0</td>\n",
       "      <td>0</td>\n",
       "      <td>0</td>\n",
       "      <td>0</td>\n",
       "      <td>0</td>\n",
       "    </tr>\n",
       "    <tr>\n",
       "      <th>roasted beans</th>\n",
       "      <td>0</td>\n",
       "      <td>0</td>\n",
       "      <td>0</td>\n",
       "      <td>0</td>\n",
       "      <td>0</td>\n",
       "      <td>0</td>\n",
       "      <td>0</td>\n",
       "      <td>0</td>\n",
       "      <td>0</td>\n",
       "      <td>0</td>\n",
       "      <td>...</td>\n",
       "      <td>0</td>\n",
       "      <td>0</td>\n",
       "      <td>0</td>\n",
       "      <td>0</td>\n",
       "      <td>0</td>\n",
       "      <td>0</td>\n",
       "      <td>0</td>\n",
       "      <td>0</td>\n",
       "      <td>0</td>\n",
       "      <td>0</td>\n",
       "    </tr>\n",
       "    <tr>\n",
       "      <th>custard</th>\n",
       "      <td>0</td>\n",
       "      <td>0</td>\n",
       "      <td>0</td>\n",
       "      <td>0</td>\n",
       "      <td>0</td>\n",
       "      <td>0</td>\n",
       "      <td>0</td>\n",
       "      <td>0</td>\n",
       "      <td>1</td>\n",
       "      <td>0</td>\n",
       "      <td>...</td>\n",
       "      <td>0</td>\n",
       "      <td>0</td>\n",
       "      <td>0</td>\n",
       "      <td>0</td>\n",
       "      <td>0</td>\n",
       "      <td>0</td>\n",
       "      <td>0</td>\n",
       "      <td>0</td>\n",
       "      <td>0</td>\n",
       "      <td>0</td>\n",
       "    </tr>\n",
       "    <tr>\n",
       "      <th>Cabbage</th>\n",
       "      <td>0</td>\n",
       "      <td>0</td>\n",
       "      <td>0</td>\n",
       "      <td>0</td>\n",
       "      <td>0</td>\n",
       "      <td>0</td>\n",
       "      <td>0</td>\n",
       "      <td>0</td>\n",
       "      <td>0</td>\n",
       "      <td>0</td>\n",
       "      <td>...</td>\n",
       "      <td>1</td>\n",
       "      <td>0</td>\n",
       "      <td>0</td>\n",
       "      <td>0</td>\n",
       "      <td>0</td>\n",
       "      <td>0</td>\n",
       "      <td>0</td>\n",
       "      <td>0</td>\n",
       "      <td>0</td>\n",
       "      <td>0</td>\n",
       "    </tr>\n",
       "    <tr>\n",
       "      <th>brown sugar</th>\n",
       "      <td>0</td>\n",
       "      <td>0</td>\n",
       "      <td>0</td>\n",
       "      <td>0</td>\n",
       "      <td>0</td>\n",
       "      <td>0</td>\n",
       "      <td>0</td>\n",
       "      <td>0</td>\n",
       "      <td>0</td>\n",
       "      <td>1</td>\n",
       "      <td>...</td>\n",
       "      <td>0</td>\n",
       "      <td>0</td>\n",
       "      <td>0</td>\n",
       "      <td>0</td>\n",
       "      <td>0</td>\n",
       "      <td>0</td>\n",
       "      <td>0</td>\n",
       "      <td>0</td>\n",
       "      <td>0</td>\n",
       "      <td>0</td>\n",
       "    </tr>\n",
       "    <tr>\n",
       "      <th>Almond</th>\n",
       "      <td>0</td>\n",
       "      <td>0</td>\n",
       "      <td>0</td>\n",
       "      <td>0</td>\n",
       "      <td>0</td>\n",
       "      <td>0</td>\n",
       "      <td>0</td>\n",
       "      <td>0</td>\n",
       "      <td>0</td>\n",
       "      <td>0</td>\n",
       "      <td>...</td>\n",
       "      <td>0</td>\n",
       "      <td>0</td>\n",
       "      <td>0</td>\n",
       "      <td>0</td>\n",
       "      <td>0</td>\n",
       "      <td>0</td>\n",
       "      <td>0</td>\n",
       "      <td>0</td>\n",
       "      <td>0</td>\n",
       "      <td>0</td>\n",
       "    </tr>\n",
       "    <tr>\n",
       "      <th>popcorn</th>\n",
       "      <td>0</td>\n",
       "      <td>0</td>\n",
       "      <td>1</td>\n",
       "      <td>0</td>\n",
       "      <td>0</td>\n",
       "      <td>0</td>\n",
       "      <td>0</td>\n",
       "      <td>0</td>\n",
       "      <td>0</td>\n",
       "      <td>0</td>\n",
       "      <td>...</td>\n",
       "      <td>0</td>\n",
       "      <td>0</td>\n",
       "      <td>0</td>\n",
       "      <td>0</td>\n",
       "      <td>0</td>\n",
       "      <td>0</td>\n",
       "      <td>0</td>\n",
       "      <td>0</td>\n",
       "      <td>0</td>\n",
       "      <td>0</td>\n",
       "    </tr>\n",
       "    <tr>\n",
       "      <th>acidic</th>\n",
       "      <td>0</td>\n",
       "      <td>0</td>\n",
       "      <td>0</td>\n",
       "      <td>0</td>\n",
       "      <td>0</td>\n",
       "      <td>0</td>\n",
       "      <td>0</td>\n",
       "      <td>0</td>\n",
       "      <td>0</td>\n",
       "      <td>0</td>\n",
       "      <td>...</td>\n",
       "      <td>0</td>\n",
       "      <td>0</td>\n",
       "      <td>0</td>\n",
       "      <td>0</td>\n",
       "      <td>0</td>\n",
       "      <td>0</td>\n",
       "      <td>0</td>\n",
       "      <td>0</td>\n",
       "      <td>0</td>\n",
       "      <td>0</td>\n",
       "    </tr>\n",
       "    <tr>\n",
       "      <th>rancid</th>\n",
       "      <td>0</td>\n",
       "      <td>0</td>\n",
       "      <td>0</td>\n",
       "      <td>0</td>\n",
       "      <td>0</td>\n",
       "      <td>0</td>\n",
       "      <td>0</td>\n",
       "      <td>0</td>\n",
       "      <td>0</td>\n",
       "      <td>0</td>\n",
       "      <td>...</td>\n",
       "      <td>0</td>\n",
       "      <td>0</td>\n",
       "      <td>0</td>\n",
       "      <td>0</td>\n",
       "      <td>0</td>\n",
       "      <td>0</td>\n",
       "      <td>0</td>\n",
       "      <td>0</td>\n",
       "      <td>0</td>\n",
       "      <td>0</td>\n",
       "    </tr>\n",
       "    <tr>\n",
       "      <th>esters</th>\n",
       "      <td>0</td>\n",
       "      <td>0</td>\n",
       "      <td>0</td>\n",
       "      <td>0</td>\n",
       "      <td>0</td>\n",
       "      <td>0</td>\n",
       "      <td>0</td>\n",
       "      <td>1</td>\n",
       "      <td>0</td>\n",
       "      <td>0</td>\n",
       "      <td>...</td>\n",
       "      <td>0</td>\n",
       "      <td>0</td>\n",
       "      <td>0</td>\n",
       "      <td>0</td>\n",
       "      <td>0</td>\n",
       "      <td>0</td>\n",
       "      <td>0</td>\n",
       "      <td>0</td>\n",
       "      <td>0</td>\n",
       "      <td>0</td>\n",
       "    </tr>\n",
       "    <tr>\n",
       "      <th>Tar</th>\n",
       "      <td>1</td>\n",
       "      <td>0</td>\n",
       "      <td>0</td>\n",
       "      <td>0</td>\n",
       "      <td>0</td>\n",
       "      <td>0</td>\n",
       "      <td>0</td>\n",
       "      <td>0</td>\n",
       "      <td>0</td>\n",
       "      <td>0</td>\n",
       "      <td>...</td>\n",
       "      <td>0</td>\n",
       "      <td>0</td>\n",
       "      <td>0</td>\n",
       "      <td>0</td>\n",
       "      <td>0</td>\n",
       "      <td>0</td>\n",
       "      <td>0</td>\n",
       "      <td>0</td>\n",
       "      <td>0</td>\n",
       "      <td>0</td>\n",
       "    </tr>\n",
       "  </tbody>\n",
       "</table>\n",
       "<p>26 rows × 26 columns</p>\n",
       "</div>"
      ],
      "text/plain": [
       "               Burnt  Sweaty  Dry cereals  Green vegetables  Fresh flowers  \\\n",
       "Sweet              0       0            0                 0              0   \n",
       "Roses              0       0            0                 0              1   \n",
       "Spicy              0       0            0                 0              0   \n",
       "Oily               0       0            0                 0              0   \n",
       "Woody              0       0            0                 0              0   \n",
       "grapefruit         0       0            0                 0              0   \n",
       "Apples             0       0            0                 0              0   \n",
       "cucumber           0       0            0                 1              0   \n",
       "Soapy              0       0            0                 0              0   \n",
       "Solvently          0       0            0                 0              0   \n",
       "cinnamon           0       0            0                 0              0   \n",
       "Gassy              0       0            0                 0              0   \n",
       "Fruity             0       0            0                 0              0   \n",
       "Sweaty             0       1            0                 0              0   \n",
       "mushrooms          0       0            0                 0              0   \n",
       "cream              0       0            0                 0              0   \n",
       "roasted beans      0       0            0                 0              0   \n",
       "custard            0       0            0                 0              0   \n",
       "Cabbage            0       0            0                 0              0   \n",
       "brown sugar        0       0            0                 0              0   \n",
       "Almond             0       0            0                 0              0   \n",
       "popcorn            0       0            1                 0              0   \n",
       "acidic             0       0            0                 0              0   \n",
       "rancid             0       0            0                 0              0   \n",
       "esters             0       0            0                 0              0   \n",
       "Tar                1       0            0                 0              0   \n",
       "\n",
       "               Fresh fruit  Citrus  Artificial fruit flavourings  Vanilla  \\\n",
       "Sweet                    0       0                             0        0   \n",
       "Roses                    0       0                             0        0   \n",
       "Spicy                    0       0                             0        0   \n",
       "Oily                     0       0                             0        0   \n",
       "Woody                    0       0                             0        0   \n",
       "grapefruit               0       1                             0        0   \n",
       "Apples                   1       0                             0        0   \n",
       "cucumber                 0       0                             0        0   \n",
       "Soapy                    0       0                             0        0   \n",
       "Solvently                0       0                             0        0   \n",
       "cinnamon                 0       0                             0        0   \n",
       "Gassy                    0       0                             0        0   \n",
       "Fruity                   0       0                             0        0   \n",
       "Sweaty                   0       0                             0        0   \n",
       "mushrooms                0       0                             0        0   \n",
       "cream                    0       0                             0        0   \n",
       "roasted beans            0       0                             0        0   \n",
       "custard                  0       0                             0        1   \n",
       "Cabbage                  0       0                             0        0   \n",
       "brown sugar              0       0                             0        0   \n",
       "Almond                   0       0                             0        0   \n",
       "popcorn                  0       0                             0        0   \n",
       "acidic                   0       0                             0        0   \n",
       "rancid                   0       0                             0        0   \n",
       "esters                   0       0                             1        0   \n",
       "Tar                      0       0                             0        0   \n",
       "\n",
       "               Toffee  ...  Cooked vegetables   Struck match   Earthy  Fruity  \\\n",
       "Sweet               0  ...                   0              0       0       0   \n",
       "Roses               0  ...                   0              0       0       0   \n",
       "Spicy               0  ...                   0              0       0       0   \n",
       "Oily                0  ...                   0              0       0       0   \n",
       "Woody               0  ...                   0              0       0       0   \n",
       "grapefruit          0  ...                   0              0       0       0   \n",
       "Apples              0  ...                   0              0       0       0   \n",
       "cucumber            0  ...                   0              0       0       0   \n",
       "Soapy               0  ...                   0              0       0       0   \n",
       "Solvently           0  ...                   0              0       0       0   \n",
       "cinnamon            0  ...                   0              0       0       0   \n",
       "Gassy               0  ...                   0              1       0       0   \n",
       "Fruity              0  ...                   0              0       0       1   \n",
       "Sweaty              0  ...                   0              0       0       0   \n",
       "mushrooms           0  ...                   0              0       1       0   \n",
       "cream               0  ...                   0              0       0       0   \n",
       "roasted beans       0  ...                   0              0       0       0   \n",
       "custard             0  ...                   0              0       0       0   \n",
       "Cabbage             0  ...                   1              0       0       0   \n",
       "brown sugar         1  ...                   0              0       0       0   \n",
       "Almond              0  ...                   0              0       0       0   \n",
       "popcorn             0  ...                   0              0       0       0   \n",
       "acidic              0  ...                   0              0       0       0   \n",
       "rancid              0  ...                   0              0       0       0   \n",
       "esters              0  ...                   0              0       0       0   \n",
       "Tar                 0  ...                   0              0       0       0   \n",
       "\n",
       "               Solvently  Soapy  Sweet  Woody  Spicy  Oily  \n",
       "Sweet                  0      0      1      0      0     0  \n",
       "Roses                  0      0      0      0      0     0  \n",
       "Spicy                  0      0      0      0      1     0  \n",
       "Oily                   0      0      0      0      0     1  \n",
       "Woody                  0      0      0      1      0     0  \n",
       "grapefruit             0      0      0      0      0     0  \n",
       "Apples                 0      0      0      0      0     0  \n",
       "cucumber               0      0      0      0      0     0  \n",
       "Soapy                  0      1      0      0      0     0  \n",
       "Solvently              1      0      0      0      0     0  \n",
       "cinnamon               0      0      0      0      0     0  \n",
       "Gassy                  0      0      0      0      0     0  \n",
       "Fruity                 0      0      0      0      0     0  \n",
       "Sweaty                 0      0      0      0      0     0  \n",
       "mushrooms              0      0      0      0      0     0  \n",
       "cream                  0      0      0      0      0     0  \n",
       "roasted beans          0      0      0      0      0     0  \n",
       "custard                0      0      0      0      0     0  \n",
       "Cabbage                0      0      0      0      0     0  \n",
       "brown sugar            0      0      0      0      0     0  \n",
       "Almond                 0      0      0      0      0     0  \n",
       "popcorn                0      0      0      0      0     0  \n",
       "acidic                 0      0      0      0      0     0  \n",
       "rancid                 0      0      0      0      0     0  \n",
       "esters                 0      0      0      0      0     0  \n",
       "Tar                    0      0      0      0      0     0  \n",
       "\n",
       "[26 rows x 26 columns]"
      ]
     },
     "execution_count": 40,
     "metadata": {},
     "output_type": "execute_result"
    }
   ],
   "source": [
    "# get only important columns\n",
    "matching_OQs = matching_OQs.loc[:, (matching_OQs != 0).any(axis=0)]\n",
    "matching_OQs"
   ]
  },
  {
   "cell_type": "code",
   "execution_count": 41,
   "metadata": {},
   "outputs": [
    {
     "data": {
      "text/plain": [
       "26"
      ]
     },
     "execution_count": 41,
     "metadata": {},
     "output_type": "execute_result"
    }
   ],
   "source": [
    "len(matching_OQs)"
   ]
  },
  {
   "cell_type": "code",
   "execution_count": 42,
   "metadata": {},
   "outputs": [
    {
     "data": {
      "text/plain": [
       "{'3033-23-6': {'Roses', 'Sweet'},\n",
       " '21284-22-0': {'Spicy'},\n",
       " '29873-99-2': {'Oily', 'Woody'},\n",
       " '4674-50-4': {'grapefruit'},\n",
       " '10307-61-6': {'Apples'},\n",
       " '69064-37-5': {'Oily'},\n",
       " '18829-56-6': {'cucumber'},\n",
       " '53448-07-0': {'Soapy'},\n",
       " '1197-07-5': {'Solvently'},\n",
       " '14371-10-9': {'cinnamon'},\n",
       " '5273-85-8': {'Spicy'},\n",
       " '13474-59-4': {'Woody'},\n",
       " '23726-91-2': {'Apples'},\n",
       " '3779-61-1': {'Sweet'},\n",
       " '4128-17-0': {'Oily'},\n",
       " '928-96-1': {'Gassy'},\n",
       " '53398-85-9': {'Sweet'},\n",
       " '31501-11-8': {'Fruity'},\n",
       " '15456-69-6': {'Soapy'},\n",
       " '18679-18-0': {'Sweet'},\n",
       " '55013-32-6': {'Spicy'},\n",
       " '562-74-3': {'nutmeg'},\n",
       " '1197-15-5': {'Spicy'},\n",
       " '470-67-7': {'Spicy'},\n",
       " '470-82-6': {'Sweet'},\n",
       " '15051-81-7': {'Sweet', 'Woody'},\n",
       " '75853-49-5': {'Sweaty', 'Sweet'},\n",
       " '2497-25-8': {'oranges'},\n",
       " '3913-71-1': {'oranges'},\n",
       " '3913-81-3': {'oranges'},\n",
       " '20407-84-5': {'Sweet'},\n",
       " '104-76-7': {'Roses'},\n",
       " '100-71-0': {'Gassy'},\n",
       " '928-94-9': {'Fruity'},\n",
       " '624-41-9': {'Fruity'},\n",
       " '628-99-9': {'cucumber'},\n",
       " '2463-53-8': {'cucumber'},\n",
       " '60784-31-8': {'cucumber'},\n",
       " '123-96-6': {'mushrooms'},\n",
       " '4861-58-9': {'Fruity', 'Sweet'},\n",
       " '60-12-8': {'Roses', 'Spicy'},\n",
       " '2463-77-6': {'Sweet'},\n",
       " '92760-25-3': {'Lemons'},\n",
       " '600-14-6': {'cream'},\n",
       " '931-57-7': {'Spicy'},\n",
       " '30361-28-5': {'cucumber'},\n",
       " '581-42-0': {'Gassy'},\n",
       " '557-48-2': {'cucumber'},\n",
       " '7786-44-9': {'cucumber'},\n",
       " '55764-25-5': {'roasted beans'},\n",
       " '109351-28-2': {'cucumber'},\n",
       " '31823-43-5': {'cucumber'},\n",
       " '34318-21-3': {'Spicy'},\n",
       " '38284-27-4': {'Fruity', 'mushrooms'},\n",
       " '21944-83-2': {'Soapy'},\n",
       " '2785-89-9': {'Clove', 'Spicy'},\n",
       " '6728-31-0': {'cream'},\n",
       " '695-06-7': {'Sweet'},\n",
       " '31539-84-1': {'Lemons'},\n",
       " '818-49-5': {'Sweaty', 'Sweet'},\n",
       " '693-95-8': {'roasted beans'},\n",
       " '34047-39-7': {'Fruity'},\n",
       " '18060-79-2': {'custard'},\n",
       " '59121-25-4': {'Cabbage'},\n",
       " '13925-05-8': {'Sweaty', 'Sweet'},\n",
       " '620-02-0': {'Almond', 'brown sugar'},\n",
       " '105683-99-6': {'cucumber'},\n",
       " '147159-48-6': {'cucumber'},\n",
       " '6627-88-9': {'Sweet'},\n",
       " '531-59-9': {'Sweet'},\n",
       " '698-10-2': {'Spicy'},\n",
       " '98-86-2': {'Almond'},\n",
       " '70286-20-3': {'Spicy'},\n",
       " '1122-62-9': {'popcorn'},\n",
       " '29926-41-8': {'popcorn'},\n",
       " '25246-27-9': {'Woody'},\n",
       " '489-39-4': {'Woody'},\n",
       " '18607-93-7': {'Spicy'},\n",
       " '100-52-7': {'Almond', 'brown sugar'},\n",
       " '100-51-6': {'Sweet'},\n",
       " '120-51-4': {'Oily'},\n",
       " '4430-42-6': {'Cabbage'},\n",
       " '24703-35-3': {'Woody'},\n",
       " '28588-75-2': {'roasted beans'},\n",
       " '13109-70-1': {'Woody'},\n",
       " '22451-73-6': {'Spicy'},\n",
       " '123-86-4': {'pears'},\n",
       " '626-82-4': {'Fruity'},\n",
       " '106-18-3': {'Oily'},\n",
       " '15706-73-7': {'Fruity', 'cocoa'},\n",
       " '589-75-3': {'Fruity'},\n",
       " '114791-16-1': {'Spicy', 'Woody'},\n",
       " '29837-12-5': {'Fruity', 'Spicy'},\n",
       " '483-77-2': {'Spicy'},\n",
       " '142-62-1': {'Sweaty', 'Sweet'},\n",
       " '1139-30-6': {'Spicy', 'Sweet'},\n",
       " '28231-03-0': {'Fruity'},\n",
       " '104-54-1': {'Oily'},\n",
       " '5392-40-5': {'Lemons'},\n",
       " '106-22-9': {'Roses'},\n",
       " '150-84-5': {'Roses'},\n",
       " '141-16-2': {'Fruity', 'Roses', 'Sweet'},\n",
       " '97-89-2': {'Fruity', 'Roses'},\n",
       " '7540-53-6': {'Roses'},\n",
       " '91-64-5': {'Sweet'},\n",
       " '122-03-2': {'acidic', 'rancid'},\n",
       " '536-60-7': {'Woody'},\n",
       " '112-31-2': {'Soapy'},\n",
       " '334-48-5': {'rancid'},\n",
       " '112-17-4': {'Oily', 'oranges'},\n",
       " '28982-60-7': {'Oily'},\n",
       " '105-57-7': {'Fruity', 'cream'},\n",
       " '03.12.7554': {'Sweet', 'brown sugar'},\n",
       " '105-53-3': {'Apples'},\n",
       " '123-25-1': {'Fruity'},\n",
       " '619-01-2': {'Spicy'},\n",
       " '18479-49-7': {'Woody'},\n",
       " '484-31-1': {'Spicy', 'Woody'},\n",
       " '5910-89-4': {'cocoa'},\n",
       " '123-32-0': {'cocoa'},\n",
       " '108-50-9': {'cocoa'},\n",
       " '5756-24-1': {'Cabbage'},\n",
       " '3658-80-8': {'Cabbage'},\n",
       " '13925-07-0': {'popcorn'},\n",
       " '106-72-9': {'Fruity'},\n",
       " '4077-47-8': {'Sweet'},\n",
       " '95-93-2': {'Sweet', 'rancid'},\n",
       " '487-11-6': {'Spicy'},\n",
       " '639-99-6': {'Woody'},\n",
       " '23267-57-4': {'Fruity', 'Sweet', 'Woody'},\n",
       " '4430-36-8': {'Cabbage'},\n",
       " '111-35-3': {'Fruity'},\n",
       " '3025-30-7': {'pears'},\n",
       " '108-64-5': {'Apples', 'Fruity'},\n",
       " '93-89-0': {'Fruity'},\n",
       " '105-54-4': {'Apples'},\n",
       " '103-36-6': {'cinnamon'},\n",
       " '3289-28-9': {'Fruity'},\n",
       " '106-30-9': {'Fruity'},\n",
       " '123-66-0': {'Fruity'},\n",
       " '97-62-1': {'Sweet'},\n",
       " '25415-67-2': {'Fruity'},\n",
       " '97-64-3': {'Fruity'},\n",
       " '7452-79-1': {'Apples'},\n",
       " '106-32-1': {'Fruity'},\n",
       " '2351-90-8': {'Fruity', 'Oily'},\n",
       " '101-97-3': {'Fruity', 'Sweet'},\n",
       " '105-37-3': {'Fruity'},\n",
       " '13925-00-3': {'Woody'},\n",
       " '539-82-2': {'Fruity'},\n",
       " '617-05-0': {'Fruity', 'Sweet'},\n",
       " '4748-78-1': {'Sweet'},\n",
       " '15707-34-3': {'popcorn'},\n",
       " '01.01.2313': {'Spicy'},\n",
       " '2407-43-4': {'Spicy'},\n",
       " '13360-64-0': {'Fruity', 'Sweet'},\n",
       " '123123-38-6': {'Sweet', 'Woody'},\n",
       " '97-53-0': {'Clove'},\n",
       " '102322-83-8': {'hazelnuts'},\n",
       " '98-02-2': {'coffee'},\n",
       " '141-27-5': {'Lemons'},\n",
       " '106-24-1': {'Roses'},\n",
       " '105-87-3': {'Roses'},\n",
       " '106-29-6': {'Apples', 'Fruity', 'Roses'},\n",
       " '109-20-6': {'Apples', 'Fruity', 'Roses'},\n",
       " '10402-47-8': {'Fruity', 'Roses'},\n",
       " '15423-57-1': {'Spicy', 'Woody'},\n",
       " '23986-74-5': {'Spicy', 'Woody'},\n",
       " '90-05-1': {'Sweet'},\n",
       " '489-86-1': {'Woody'},\n",
       " '111-71-7': {'rancid'},\n",
       " '589-82-2': {'mushrooms'},\n",
       " '111-70-6': {'mushrooms'},\n",
       " '543-49-7': {'mushrooms'},\n",
       " '110-43-0': {'Soapy'},\n",
       " '18829-55-5': {'Almond', 'Soapy'},\n",
       " '50862-12-9': {'Apples'},\n",
       " '18787-63-8': {'Fruity'},\n",
       " '66-25-1': {'Gassy'},\n",
       " '3681-71-8': {'bananas'},\n",
       " '142-92-7': {'Fruity'},\n",
       " '1117-55-1': {'Oily'},\n",
       " '122-97-4': {'Fruity', 'cinnamon'},\n",
       " '123-92-2': {'bananas'},\n",
       " '2756-56-1': {'Fruity'},\n",
       " '110-19-0': {'Apples', 'Fruity', 'bananas'},\n",
       " '24683-00-9': {'Green peppers', 'Spicy'},\n",
       " '118-65-0': {'Woody'},\n",
       " '18675-35-9': {'Spicy', 'Woody'},\n",
       " '16750-94-0': {'Roses'},\n",
       " '5944-20-7': {'Roses'},\n",
       " '18433-98-2': {'Fruity'},\n",
       " '58615-39-7': {'Fruity', 'Sweet'},\n",
       " '939-48-0': {'Fruity', 'Sweet'},\n",
       " '638-11-9': {'Fruity'},\n",
       " '503-74-2': {'Sweaty', 'Sweet', 'acidic', 'rancid'},\n",
       " '23089-26-1': {'Sweet'},\n",
       " '138-86-3': {'Lemons', 'oranges'},\n",
       " '1195-92-2': {'Fruity'},\n",
       " '78-70-6': {'lavender'},\n",
       " '1365-19-1': {'Woody'},\n",
       " '115-95-7': {'Fruity', 'Sweet'},\n",
       " '78-36-4': {'Sweet', 'pears'},\n",
       " '1118-27-0': {'Apples', 'Sweet'},\n",
       " '10471-96-2': {'lavender'},\n",
       " '67633-97-0': {'roasted beans'},\n",
       " '17042-24-9': {'roasted beans'},\n",
       " '505-10-2': {'Sweet'},\n",
       " '93-58-3': {'Sweet', 'lettuce'},\n",
       " '623-42-7': {'Fruity', 'Sweet'},\n",
       " '4630-82-4': {'Fruity', 'esters'},\n",
       " '93-15-2': {'Clove', 'Spicy'},\n",
       " '27538-09-6': {'Sweet'},\n",
       " '1189-09-9': {'Fruity'},\n",
       " '106-70-7': {'Fruity', 'Sweet'},\n",
       " '556-24-1': {'Apples'},\n",
       " '868-57-5': {'Apples'},\n",
       " '111-11-5': {'oranges'},\n",
       " '7251-61-8': {'Fruity'},\n",
       " '3943-74-6': {'Butterscotch'},\n",
       " '116-53-0': {'Sweaty', 'Sweet'},\n",
       " '13679-85-1': {'Cabbage'},\n",
       " '33504-66-4': {'Sweaty', 'Sweet'},\n",
       " '110-93-0': {'mushrooms'},\n",
       " '113486-29-6': {'Fruity'},\n",
       " '123-35-3': {'Spicy'},\n",
       " '607-91-0': {'Spicy'},\n",
       " '23727-16-4': {'Spicy'},\n",
       " '91-20-3': {'Tar'},\n",
       " '106-26-3': {'Lemons'},\n",
       " '106-25-2': {'Sweet'},\n",
       " '1786-08-9': {'Oily'},\n",
       " '40716-66-3': {'Woody'},\n",
       " '141-12-8': {'Fruity'},\n",
       " '6125-24-2': {'Spicy'},\n",
       " '28069-72-9': {'cucumber'},\n",
       " '821-55-6': {'Soapy'},\n",
       " '5009-32-5': {'mushrooms'},\n",
       " '24415-26-7': {'mushrooms'},\n",
       " '143-13-5': {'Fruity', 'Sweet'},\n",
       " '551-93-9': {'Sweet'},\n",
       " '502-99-8': {'Fruity'},\n",
       " '638-66-4': {'Oily'},\n",
       " '124-13-0': {'Lemons', 'Soapy'},\n",
       " '124-07-2': {'Sweaty', 'Sweet'},\n",
       " '111-87-5': {'mushrooms'},\n",
       " '589-98-0': {'mushrooms'},\n",
       " '111-13-7': {'Soapy'},\n",
       " '106-68-3': {'Soapy'},\n",
       " '72755-76-1': {'mushrooms'},\n",
       " '18409-17-1': {'Soapy', 'mushrooms'},\n",
       " '3391-86-4': {'Soapy', 'mushrooms'},\n",
       " '4312-99-6': {'mushrooms'},\n",
       " '2051-50-5': {'Fruity'},\n",
       " '29790-29-2': {'Woody'},\n",
       " '123-11-5': {'Sweet'},\n",
       " '99-87-6': {'Solvently'},\n",
       " '123-07-9': {'Spicy'},\n",
       " '18479-68-0': {'Fruity'},\n",
       " '28839-13-6': {'Fruity'},\n",
       " '71159-90-5': {'grapefruit'},\n",
       " '637-69-4': {'Sweet'},\n",
       " '7786-61-0': {'Clove'},\n",
       " '109-52-4': {'Sweaty', 'Sweet'},\n",
       " '540-18-1': {'bananas'},\n",
       " '68039-26-9': {'Apples'},\n",
       " '2111-75-3': {'Spicy'},\n",
       " '539-52-6': {'Woody'},\n",
       " '100-47-0': {'rancid'},\n",
       " '122-78-1': {'Sweet'},\n",
       " '1073-26-3': {'popcorn'},\n",
       " '105-66-8': {'Solvently'},\n",
       " '626-77-7': {'Fruity'},\n",
       " '3387-41-5': {'Woody'},\n",
       " '116-26-7': {'Sweet'},\n",
       " '94-59-7': {'Spicy', 'Sweet'},\n",
       " '73744-93-1': {'Fruity', 'Sweet'},\n",
       " '28664-35-9': {'Spicy'},\n",
       " '6750-60-3': {'Fruity'},\n",
       " '112-92-5': {'Oily'},\n",
       " '25779-13-9': {'Sweet'},\n",
       " '17699-16-0': {'Woody'},\n",
       " '10486-19-8': {'Sweet'},\n",
       " '1209-71-8': {'Sweet'},\n",
       " '112-44-7': {'Oily', 'Sweet'},\n",
       " '112-12-9': {'oranges'},\n",
       " '112-37-8': {'Oily'},\n",
       " '03.07.4630': {'Oily'},\n",
       " '552-02-3': {'Sweet'},\n",
       " '182699-77-0': {'Spicy'},\n",
       " '515-69-5': {'Spicy'},\n",
       " '481-34-5': {'Woody'},\n",
       " '21391-99-1': {'Woody'},\n",
       " '3856-25-5': {'Spicy', 'Woody'},\n",
       " '502-61-4': {'Sweet', 'Woody'},\n",
       " '01.12.3691': {'Woody'},\n",
       " '489-40-7': {'Woody'},\n",
       " '6753-98-6': {'Woody'},\n",
       " '127-41-3': {'Woody', 'violets'},\n",
       " '10208-80-7': {'Woody'},\n",
       " '99-83-2': {'Spicy'},\n",
       " '99-86-5': {'Lemons'},\n",
       " '98-55-5': {'Oily'},\n",
       " '02.05.2867': {'Woody'},\n",
       " '495-60-3': {'Spicy'},\n",
       " '15352-77-9': {'Sweet'},\n",
       " '87-44-5': {'Spicy', 'Woody'},\n",
       " '13744-15-5': {'Fruity'},\n",
       " '473-15-4': {'Woody'},\n",
       " '18794-84-8': {'Sweet', 'Woody'},\n",
       " '58181-76-3': {'Oily'},\n",
       " '88-84-6': {'Spicy', 'Woody'},\n",
       " '79-77-6': {'violets'},\n",
       " '103-45-7': {'Roses'},\n",
       " '20307-83-9': {'Woody'},\n",
       " '60066-88-8': {'Sweet'},\n",
       " '39029-41-9': {'Woody'},\n",
       " '07.05.2305': {'Fruity', 'Sweet'},\n",
       " '105-21-5': {'Fruity'},\n",
       " '30021-74-0': {'Spicy', 'Woody'},\n",
       " '515-17-3': {'Woody'},\n",
       " '13466-78-9': {'Lemons'},\n",
       " '483-76-1': {'Woody'},\n",
       " '713-95-1': {'Fruity', 'Sweet'},\n",
       " '20307-84-0': {'Woody'},\n",
       " '120021-96-7': {'Oily'}}"
      ]
     },
     "execution_count": 42,
     "metadata": {},
     "output_type": "execute_result"
    }
   ],
   "source": [
    "# to know which OD comes from which molecule\n",
    "#remove empty entries\n",
    "matching_OQs_dict = {key: value for key, value in matching_OQs_dict.items() if value}\n",
    "matching_OQs_dict"
   ]
  },
  {
   "cell_type": "markdown",
   "metadata": {},
   "source": [
    "<span style=\"color:#FBB714\">OQs</span>: Dataframe - ODs x OQs"
   ]
  },
  {
   "cell_type": "code",
   "execution_count": 43,
   "metadata": {},
   "outputs": [],
   "source": [
    "OQ_dict, OQs = create_matrix_from_dict(matching_OQs_dict, matching_OQs,matching_OQs_dict.keys())"
   ]
  },
  {
   "cell_type": "code",
   "execution_count": 44,
   "metadata": {},
   "outputs": [
    {
     "data": {
      "text/html": [
       "<div>\n",
       "<style scoped>\n",
       "    .dataframe tbody tr th:only-of-type {\n",
       "        vertical-align: middle;\n",
       "    }\n",
       "\n",
       "    .dataframe tbody tr th {\n",
       "        vertical-align: top;\n",
       "    }\n",
       "\n",
       "    .dataframe thead th {\n",
       "        text-align: right;\n",
       "    }\n",
       "</style>\n",
       "<table border=\"1\" class=\"dataframe\">\n",
       "  <thead>\n",
       "    <tr style=\"text-align: right;\">\n",
       "      <th></th>\n",
       "      <th>Burnt</th>\n",
       "      <th>Sweaty</th>\n",
       "      <th>Dry cereals</th>\n",
       "      <th>Green vegetables</th>\n",
       "      <th>Fresh flowers</th>\n",
       "      <th>Fresh fruit</th>\n",
       "      <th>Citrus</th>\n",
       "      <th>Artificial fruit flavourings</th>\n",
       "      <th>Vanilla</th>\n",
       "      <th>Toffee</th>\n",
       "      <th>...</th>\n",
       "      <th>Cooked vegetables</th>\n",
       "      <th>Struck match</th>\n",
       "      <th>Earthy</th>\n",
       "      <th>Fruity</th>\n",
       "      <th>Solvently</th>\n",
       "      <th>Soapy</th>\n",
       "      <th>Sweet</th>\n",
       "      <th>Woody</th>\n",
       "      <th>Spicy</th>\n",
       "      <th>Oily</th>\n",
       "    </tr>\n",
       "  </thead>\n",
       "  <tbody>\n",
       "    <tr>\n",
       "      <th>3033-23-6</th>\n",
       "      <td>0</td>\n",
       "      <td>0</td>\n",
       "      <td>0</td>\n",
       "      <td>0</td>\n",
       "      <td>1</td>\n",
       "      <td>0</td>\n",
       "      <td>0</td>\n",
       "      <td>0</td>\n",
       "      <td>0</td>\n",
       "      <td>0</td>\n",
       "      <td>...</td>\n",
       "      <td>0</td>\n",
       "      <td>0</td>\n",
       "      <td>0</td>\n",
       "      <td>0</td>\n",
       "      <td>0</td>\n",
       "      <td>0</td>\n",
       "      <td>1</td>\n",
       "      <td>0</td>\n",
       "      <td>0</td>\n",
       "      <td>0</td>\n",
       "    </tr>\n",
       "    <tr>\n",
       "      <th>21284-22-0</th>\n",
       "      <td>0</td>\n",
       "      <td>0</td>\n",
       "      <td>0</td>\n",
       "      <td>0</td>\n",
       "      <td>0</td>\n",
       "      <td>0</td>\n",
       "      <td>0</td>\n",
       "      <td>0</td>\n",
       "      <td>0</td>\n",
       "      <td>0</td>\n",
       "      <td>...</td>\n",
       "      <td>0</td>\n",
       "      <td>0</td>\n",
       "      <td>0</td>\n",
       "      <td>0</td>\n",
       "      <td>0</td>\n",
       "      <td>0</td>\n",
       "      <td>0</td>\n",
       "      <td>0</td>\n",
       "      <td>1</td>\n",
       "      <td>0</td>\n",
       "    </tr>\n",
       "    <tr>\n",
       "      <th>29873-99-2</th>\n",
       "      <td>0</td>\n",
       "      <td>0</td>\n",
       "      <td>0</td>\n",
       "      <td>0</td>\n",
       "      <td>0</td>\n",
       "      <td>0</td>\n",
       "      <td>0</td>\n",
       "      <td>0</td>\n",
       "      <td>0</td>\n",
       "      <td>0</td>\n",
       "      <td>...</td>\n",
       "      <td>0</td>\n",
       "      <td>0</td>\n",
       "      <td>0</td>\n",
       "      <td>0</td>\n",
       "      <td>0</td>\n",
       "      <td>0</td>\n",
       "      <td>0</td>\n",
       "      <td>1</td>\n",
       "      <td>0</td>\n",
       "      <td>1</td>\n",
       "    </tr>\n",
       "    <tr>\n",
       "      <th>4674-50-4</th>\n",
       "      <td>0</td>\n",
       "      <td>0</td>\n",
       "      <td>0</td>\n",
       "      <td>0</td>\n",
       "      <td>0</td>\n",
       "      <td>0</td>\n",
       "      <td>1</td>\n",
       "      <td>0</td>\n",
       "      <td>0</td>\n",
       "      <td>0</td>\n",
       "      <td>...</td>\n",
       "      <td>0</td>\n",
       "      <td>0</td>\n",
       "      <td>0</td>\n",
       "      <td>0</td>\n",
       "      <td>0</td>\n",
       "      <td>0</td>\n",
       "      <td>0</td>\n",
       "      <td>0</td>\n",
       "      <td>0</td>\n",
       "      <td>0</td>\n",
       "    </tr>\n",
       "    <tr>\n",
       "      <th>10307-61-6</th>\n",
       "      <td>0</td>\n",
       "      <td>0</td>\n",
       "      <td>0</td>\n",
       "      <td>0</td>\n",
       "      <td>0</td>\n",
       "      <td>1</td>\n",
       "      <td>0</td>\n",
       "      <td>0</td>\n",
       "      <td>0</td>\n",
       "      <td>0</td>\n",
       "      <td>...</td>\n",
       "      <td>0</td>\n",
       "      <td>0</td>\n",
       "      <td>0</td>\n",
       "      <td>0</td>\n",
       "      <td>0</td>\n",
       "      <td>0</td>\n",
       "      <td>0</td>\n",
       "      <td>0</td>\n",
       "      <td>0</td>\n",
       "      <td>0</td>\n",
       "    </tr>\n",
       "    <tr>\n",
       "      <th>...</th>\n",
       "      <td>...</td>\n",
       "      <td>...</td>\n",
       "      <td>...</td>\n",
       "      <td>...</td>\n",
       "      <td>...</td>\n",
       "      <td>...</td>\n",
       "      <td>...</td>\n",
       "      <td>...</td>\n",
       "      <td>...</td>\n",
       "      <td>...</td>\n",
       "      <td>...</td>\n",
       "      <td>...</td>\n",
       "      <td>...</td>\n",
       "      <td>...</td>\n",
       "      <td>...</td>\n",
       "      <td>...</td>\n",
       "      <td>...</td>\n",
       "      <td>...</td>\n",
       "      <td>...</td>\n",
       "      <td>...</td>\n",
       "      <td>...</td>\n",
       "    </tr>\n",
       "    <tr>\n",
       "      <th>13466-78-9</th>\n",
       "      <td>0</td>\n",
       "      <td>0</td>\n",
       "      <td>0</td>\n",
       "      <td>0</td>\n",
       "      <td>0</td>\n",
       "      <td>0</td>\n",
       "      <td>0</td>\n",
       "      <td>0</td>\n",
       "      <td>0</td>\n",
       "      <td>0</td>\n",
       "      <td>...</td>\n",
       "      <td>0</td>\n",
       "      <td>0</td>\n",
       "      <td>0</td>\n",
       "      <td>0</td>\n",
       "      <td>0</td>\n",
       "      <td>0</td>\n",
       "      <td>0</td>\n",
       "      <td>0</td>\n",
       "      <td>0</td>\n",
       "      <td>0</td>\n",
       "    </tr>\n",
       "    <tr>\n",
       "      <th>483-76-1</th>\n",
       "      <td>0</td>\n",
       "      <td>0</td>\n",
       "      <td>0</td>\n",
       "      <td>0</td>\n",
       "      <td>0</td>\n",
       "      <td>0</td>\n",
       "      <td>0</td>\n",
       "      <td>0</td>\n",
       "      <td>0</td>\n",
       "      <td>0</td>\n",
       "      <td>...</td>\n",
       "      <td>0</td>\n",
       "      <td>0</td>\n",
       "      <td>0</td>\n",
       "      <td>0</td>\n",
       "      <td>0</td>\n",
       "      <td>0</td>\n",
       "      <td>0</td>\n",
       "      <td>1</td>\n",
       "      <td>0</td>\n",
       "      <td>0</td>\n",
       "    </tr>\n",
       "    <tr>\n",
       "      <th>713-95-1</th>\n",
       "      <td>0</td>\n",
       "      <td>0</td>\n",
       "      <td>0</td>\n",
       "      <td>0</td>\n",
       "      <td>0</td>\n",
       "      <td>0</td>\n",
       "      <td>0</td>\n",
       "      <td>0</td>\n",
       "      <td>0</td>\n",
       "      <td>0</td>\n",
       "      <td>...</td>\n",
       "      <td>0</td>\n",
       "      <td>0</td>\n",
       "      <td>0</td>\n",
       "      <td>1</td>\n",
       "      <td>0</td>\n",
       "      <td>0</td>\n",
       "      <td>1</td>\n",
       "      <td>0</td>\n",
       "      <td>0</td>\n",
       "      <td>0</td>\n",
       "    </tr>\n",
       "    <tr>\n",
       "      <th>20307-84-0</th>\n",
       "      <td>0</td>\n",
       "      <td>0</td>\n",
       "      <td>0</td>\n",
       "      <td>0</td>\n",
       "      <td>0</td>\n",
       "      <td>0</td>\n",
       "      <td>0</td>\n",
       "      <td>0</td>\n",
       "      <td>0</td>\n",
       "      <td>0</td>\n",
       "      <td>...</td>\n",
       "      <td>0</td>\n",
       "      <td>0</td>\n",
       "      <td>0</td>\n",
       "      <td>0</td>\n",
       "      <td>0</td>\n",
       "      <td>0</td>\n",
       "      <td>0</td>\n",
       "      <td>1</td>\n",
       "      <td>0</td>\n",
       "      <td>0</td>\n",
       "    </tr>\n",
       "    <tr>\n",
       "      <th>120021-96-7</th>\n",
       "      <td>0</td>\n",
       "      <td>0</td>\n",
       "      <td>0</td>\n",
       "      <td>0</td>\n",
       "      <td>0</td>\n",
       "      <td>0</td>\n",
       "      <td>0</td>\n",
       "      <td>0</td>\n",
       "      <td>0</td>\n",
       "      <td>0</td>\n",
       "      <td>...</td>\n",
       "      <td>0</td>\n",
       "      <td>0</td>\n",
       "      <td>0</td>\n",
       "      <td>0</td>\n",
       "      <td>0</td>\n",
       "      <td>0</td>\n",
       "      <td>0</td>\n",
       "      <td>0</td>\n",
       "      <td>0</td>\n",
       "      <td>1</td>\n",
       "    </tr>\n",
       "  </tbody>\n",
       "</table>\n",
       "<p>326 rows × 26 columns</p>\n",
       "</div>"
      ],
      "text/plain": [
       "             Burnt  Sweaty  Dry cereals  Green vegetables  Fresh flowers  \\\n",
       "3033-23-6        0       0            0                 0              1   \n",
       "21284-22-0       0       0            0                 0              0   \n",
       "29873-99-2       0       0            0                 0              0   \n",
       "4674-50-4        0       0            0                 0              0   \n",
       "10307-61-6       0       0            0                 0              0   \n",
       "...            ...     ...          ...               ...            ...   \n",
       "13466-78-9       0       0            0                 0              0   \n",
       "483-76-1         0       0            0                 0              0   \n",
       "713-95-1         0       0            0                 0              0   \n",
       "20307-84-0       0       0            0                 0              0   \n",
       "120021-96-7      0       0            0                 0              0   \n",
       "\n",
       "             Fresh fruit  Citrus  Artificial fruit flavourings  Vanilla  \\\n",
       "3033-23-6              0       0                             0        0   \n",
       "21284-22-0             0       0                             0        0   \n",
       "29873-99-2             0       0                             0        0   \n",
       "4674-50-4              0       1                             0        0   \n",
       "10307-61-6             1       0                             0        0   \n",
       "...                  ...     ...                           ...      ...   \n",
       "13466-78-9             0       0                             0        0   \n",
       "483-76-1               0       0                             0        0   \n",
       "713-95-1               0       0                             0        0   \n",
       "20307-84-0             0       0                             0        0   \n",
       "120021-96-7            0       0                             0        0   \n",
       "\n",
       "             Toffee  ...  Cooked vegetables   Struck match   Earthy  Fruity  \\\n",
       "3033-23-6         0  ...                   0              0       0       0   \n",
       "21284-22-0        0  ...                   0              0       0       0   \n",
       "29873-99-2        0  ...                   0              0       0       0   \n",
       "4674-50-4         0  ...                   0              0       0       0   \n",
       "10307-61-6        0  ...                   0              0       0       0   \n",
       "...             ...  ...                 ...            ...     ...     ...   \n",
       "13466-78-9        0  ...                   0              0       0       0   \n",
       "483-76-1          0  ...                   0              0       0       0   \n",
       "713-95-1          0  ...                   0              0       0       1   \n",
       "20307-84-0        0  ...                   0              0       0       0   \n",
       "120021-96-7       0  ...                   0              0       0       0   \n",
       "\n",
       "             Solvently  Soapy  Sweet  Woody  Spicy  Oily  \n",
       "3033-23-6            0      0      1      0      0     0  \n",
       "21284-22-0           0      0      0      0      1     0  \n",
       "29873-99-2           0      0      0      1      0     1  \n",
       "4674-50-4            0      0      0      0      0     0  \n",
       "10307-61-6           0      0      0      0      0     0  \n",
       "...                ...    ...    ...    ...    ...   ...  \n",
       "13466-78-9           0      0      0      0      0     0  \n",
       "483-76-1             0      0      0      1      0     0  \n",
       "713-95-1             0      0      1      0      0     0  \n",
       "20307-84-0           0      0      0      1      0     0  \n",
       "120021-96-7          0      0      0      0      0     1  \n",
       "\n",
       "[326 rows x 26 columns]"
      ]
     },
     "execution_count": 44,
     "metadata": {},
     "output_type": "execute_result"
    }
   ],
   "source": [
    "OQs"
   ]
  },
  {
   "cell_type": "code",
   "execution_count": 45,
   "metadata": {},
   "outputs": [
    {
     "data": {
      "text/plain": [
       "{'3033-23-6': {'Fresh flowers', 'Sweet'},\n",
       " '21284-22-0': {'Spicy'},\n",
       " '29873-99-2': {'Oily', 'Woody'},\n",
       " '4674-50-4': {'Citrus'},\n",
       " '10307-61-6': {'Fresh fruit'},\n",
       " '69064-37-5': {'Oily'},\n",
       " '18829-56-6': {'Green vegetables'},\n",
       " '53448-07-0': {'Soapy'},\n",
       " '1197-07-5': {'Solvently'},\n",
       " '14371-10-9': {'Dried spice'},\n",
       " '5273-85-8': {'Spicy'},\n",
       " '13474-59-4': {'Woody'},\n",
       " '23726-91-2': {'Fresh fruit'},\n",
       " '3779-61-1': {'Sweet'},\n",
       " '4128-17-0': {'Oily'},\n",
       " '928-96-1': {'Struck match '},\n",
       " '53398-85-9': {'Sweet'},\n",
       " '31501-11-8': {'Fruity'},\n",
       " '15456-69-6': {'Soapy'},\n",
       " '18679-18-0': {'Sweet'},\n",
       " '55013-32-6': {'Spicy'},\n",
       " '562-74-3': set(),\n",
       " '1197-15-5': {'Spicy'},\n",
       " '470-67-7': {'Spicy'},\n",
       " '470-82-6': {'Sweet'},\n",
       " '15051-81-7': {'Sweet', 'Woody'},\n",
       " '75853-49-5': {'Sweaty', 'Sweet'},\n",
       " '2497-25-8': set(),\n",
       " '3913-71-1': set(),\n",
       " '3913-81-3': set(),\n",
       " '20407-84-5': {'Sweet'},\n",
       " '104-76-7': {'Fresh flowers'},\n",
       " '100-71-0': {'Struck match '},\n",
       " '928-94-9': {'Fruity'},\n",
       " '624-41-9': {'Fruity'},\n",
       " '628-99-9': {'Green vegetables'},\n",
       " '2463-53-8': {'Green vegetables'},\n",
       " '60784-31-8': {'Green vegetables'},\n",
       " '123-96-6': {'Earthy'},\n",
       " '4861-58-9': {'Fruity', 'Sweet'},\n",
       " '60-12-8': {'Fresh flowers', 'Spicy'},\n",
       " '2463-77-6': {'Sweet'},\n",
       " '92760-25-3': set(),\n",
       " '600-14-6': {'Buttery '},\n",
       " '931-57-7': {'Spicy'},\n",
       " '30361-28-5': {'Green vegetables'},\n",
       " '581-42-0': {'Struck match '},\n",
       " '557-48-2': {'Green vegetables'},\n",
       " '7786-44-9': {'Green vegetables'},\n",
       " '55764-25-5': {'Toasted'},\n",
       " '109351-28-2': {'Green vegetables'},\n",
       " '31823-43-5': {'Green vegetables'},\n",
       " '34318-21-3': {'Spicy'},\n",
       " '38284-27-4': {'Earthy', 'Fruity'},\n",
       " '21944-83-2': {'Soapy'},\n",
       " '2785-89-9': {'Spicy'},\n",
       " '6728-31-0': {'Buttery '},\n",
       " '695-06-7': {'Sweet'},\n",
       " '31539-84-1': set(),\n",
       " '818-49-5': {'Sweaty', 'Sweet'},\n",
       " '693-95-8': {'Toasted'},\n",
       " '34047-39-7': {'Fruity'},\n",
       " '18060-79-2': {'Vanilla'},\n",
       " '59121-25-4': {'Cooked vegetables '},\n",
       " '13925-05-8': {'Sweaty', 'Sweet'},\n",
       " '620-02-0': {'Nuts', 'Toffee'},\n",
       " '105683-99-6': {'Green vegetables'},\n",
       " '147159-48-6': {'Green vegetables'},\n",
       " '6627-88-9': {'Sweet'},\n",
       " '531-59-9': {'Sweet'},\n",
       " '698-10-2': {'Spicy'},\n",
       " '98-86-2': {'Nuts'},\n",
       " '70286-20-3': {'Spicy'},\n",
       " '1122-62-9': {'Dry cereals'},\n",
       " '29926-41-8': {'Dry cereals'},\n",
       " '25246-27-9': {'Woody'},\n",
       " '489-39-4': {'Woody'},\n",
       " '18607-93-7': {'Spicy'},\n",
       " '100-52-7': {'Nuts', 'Toffee'},\n",
       " '100-51-6': {'Sweet'},\n",
       " '120-51-4': {'Oily'},\n",
       " '4430-42-6': {'Cooked vegetables '},\n",
       " '24703-35-3': {'Woody'},\n",
       " '28588-75-2': {'Toasted'},\n",
       " '13109-70-1': {'Woody'},\n",
       " '22451-73-6': {'Spicy'},\n",
       " '123-86-4': set(),\n",
       " '626-82-4': {'Fruity'},\n",
       " '106-18-3': {'Oily'},\n",
       " '15706-73-7': {'Fruity'},\n",
       " '589-75-3': {'Fruity'},\n",
       " '114791-16-1': {'Spicy', 'Woody'},\n",
       " '29837-12-5': {'Fruity', 'Spicy'},\n",
       " '483-77-2': {'Spicy'},\n",
       " '142-62-1': {'Sweaty', 'Sweet'},\n",
       " '1139-30-6': {'Spicy', 'Sweet'},\n",
       " '28231-03-0': {'Fruity'},\n",
       " '104-54-1': {'Oily'},\n",
       " '5392-40-5': set(),\n",
       " '106-22-9': {'Fresh flowers'},\n",
       " '150-84-5': {'Fresh flowers'},\n",
       " '141-16-2': {'Fresh flowers', 'Fruity', 'Sweet'},\n",
       " '97-89-2': {'Fresh flowers', 'Fruity'},\n",
       " '7540-53-6': {'Fresh flowers'},\n",
       " '91-64-5': {'Sweet'},\n",
       " '122-03-2': {'Vinegary', 'Vomit'},\n",
       " '536-60-7': {'Woody'},\n",
       " '112-31-2': {'Soapy'},\n",
       " '334-48-5': {'Vomit'},\n",
       " '112-17-4': {'Oily'},\n",
       " '28982-60-7': {'Oily'},\n",
       " '105-57-7': {'Buttery ', 'Fruity'},\n",
       " '03.12.7554': {'Sweet', 'Toffee'},\n",
       " '105-53-3': {'Fresh fruit'},\n",
       " '123-25-1': {'Fruity'},\n",
       " '619-01-2': {'Spicy'},\n",
       " '18479-49-7': {'Woody'},\n",
       " '484-31-1': {'Spicy', 'Woody'},\n",
       " '5910-89-4': set(),\n",
       " '123-32-0': set(),\n",
       " '108-50-9': set(),\n",
       " '5756-24-1': {'Cooked vegetables '},\n",
       " '3658-80-8': {'Cooked vegetables '},\n",
       " '13925-07-0': {'Dry cereals'},\n",
       " '106-72-9': {'Fruity'},\n",
       " '4077-47-8': {'Sweet'},\n",
       " '95-93-2': {'Sweet', 'Vomit'},\n",
       " '487-11-6': {'Spicy'},\n",
       " '639-99-6': {'Woody'},\n",
       " '23267-57-4': {'Fruity', 'Sweet', 'Woody'},\n",
       " '4430-36-8': {'Cooked vegetables '},\n",
       " '111-35-3': {'Fruity'},\n",
       " '3025-30-7': set(),\n",
       " '108-64-5': {'Fresh fruit', 'Fruity'},\n",
       " '93-89-0': {'Fruity'},\n",
       " '105-54-4': {'Fresh fruit'},\n",
       " '103-36-6': {'Dried spice'},\n",
       " '3289-28-9': {'Fruity'},\n",
       " '106-30-9': {'Fruity'},\n",
       " '123-66-0': {'Fruity'},\n",
       " '97-62-1': {'Sweet'},\n",
       " '25415-67-2': {'Fruity'},\n",
       " '97-64-3': {'Fruity'},\n",
       " '7452-79-1': {'Fresh fruit'},\n",
       " '106-32-1': {'Fruity'},\n",
       " '2351-90-8': {'Fruity', 'Oily'},\n",
       " '101-97-3': {'Fruity', 'Sweet'},\n",
       " '105-37-3': {'Fruity'},\n",
       " '13925-00-3': {'Woody'},\n",
       " '539-82-2': {'Fruity'},\n",
       " '617-05-0': {'Fruity', 'Sweet'},\n",
       " '4748-78-1': {'Sweet'},\n",
       " '15707-34-3': {'Dry cereals'},\n",
       " '01.01.2313': {'Spicy'},\n",
       " '2407-43-4': {'Spicy'},\n",
       " '13360-64-0': {'Fruity', 'Sweet'},\n",
       " '123123-38-6': {'Sweet', 'Woody'},\n",
       " '97-53-0': set(),\n",
       " '102322-83-8': set(),\n",
       " '98-02-2': set(),\n",
       " '141-27-5': set(),\n",
       " '106-24-1': {'Fresh flowers'},\n",
       " '105-87-3': {'Fresh flowers'},\n",
       " '106-29-6': {'Fresh flowers', 'Fresh fruit', 'Fruity'},\n",
       " '109-20-6': {'Fresh flowers', 'Fresh fruit', 'Fruity'},\n",
       " '10402-47-8': {'Fresh flowers', 'Fruity'},\n",
       " '15423-57-1': {'Spicy', 'Woody'},\n",
       " '23986-74-5': {'Spicy', 'Woody'},\n",
       " '90-05-1': {'Sweet'},\n",
       " '489-86-1': {'Woody'},\n",
       " '111-71-7': {'Vomit'},\n",
       " '589-82-2': {'Earthy'},\n",
       " '111-70-6': {'Earthy'},\n",
       " '543-49-7': {'Earthy'},\n",
       " '110-43-0': {'Soapy'},\n",
       " '18829-55-5': {'Nuts', 'Soapy'},\n",
       " '50862-12-9': {'Fresh fruit'},\n",
       " '18787-63-8': {'Fruity'},\n",
       " '66-25-1': {'Struck match '},\n",
       " '3681-71-8': set(),\n",
       " '142-92-7': {'Fruity'},\n",
       " '1117-55-1': {'Oily'},\n",
       " '122-97-4': {'Dried spice', 'Fruity'},\n",
       " '123-92-2': set(),\n",
       " '2756-56-1': {'Fruity'},\n",
       " '110-19-0': {'Fresh fruit', 'Fruity'},\n",
       " '24683-00-9': {'Spicy'},\n",
       " '118-65-0': {'Woody'},\n",
       " '18675-35-9': {'Spicy', 'Woody'},\n",
       " '16750-94-0': {'Fresh flowers'},\n",
       " '5944-20-7': {'Fresh flowers'},\n",
       " '18433-98-2': {'Fruity'},\n",
       " '58615-39-7': {'Fruity', 'Sweet'},\n",
       " '939-48-0': {'Fruity', 'Sweet'},\n",
       " '638-11-9': {'Fruity'},\n",
       " '503-74-2': {'Sweaty', 'Sweet', 'Vinegary', 'Vomit'},\n",
       " '23089-26-1': {'Sweet'},\n",
       " '138-86-3': set(),\n",
       " '1195-92-2': {'Fruity'},\n",
       " '78-70-6': set(),\n",
       " '1365-19-1': {'Woody'},\n",
       " '115-95-7': {'Fruity', 'Sweet'},\n",
       " '78-36-4': {'Sweet'},\n",
       " '1118-27-0': {'Fresh fruit', 'Sweet'},\n",
       " '10471-96-2': set(),\n",
       " '67633-97-0': {'Toasted'},\n",
       " '17042-24-9': {'Toasted'},\n",
       " '505-10-2': {'Sweet'},\n",
       " '93-58-3': {'Sweet'},\n",
       " '623-42-7': {'Fruity', 'Sweet'},\n",
       " '4630-82-4': {'Artificial fruit flavourings', 'Fruity'},\n",
       " '93-15-2': {'Spicy'},\n",
       " '27538-09-6': {'Sweet'},\n",
       " '1189-09-9': {'Fruity'},\n",
       " '106-70-7': {'Fruity', 'Sweet'},\n",
       " '556-24-1': {'Fresh fruit'},\n",
       " '868-57-5': {'Fresh fruit'},\n",
       " '111-11-5': set(),\n",
       " '7251-61-8': {'Fruity'},\n",
       " '3943-74-6': set(),\n",
       " '116-53-0': {'Sweaty', 'Sweet'},\n",
       " '13679-85-1': {'Cooked vegetables '},\n",
       " '33504-66-4': {'Sweaty', 'Sweet'},\n",
       " '110-93-0': {'Earthy'},\n",
       " '113486-29-6': {'Fruity'},\n",
       " '123-35-3': {'Spicy'},\n",
       " '607-91-0': {'Spicy'},\n",
       " '23727-16-4': {'Spicy'},\n",
       " '91-20-3': {'Burnt'},\n",
       " '106-26-3': set(),\n",
       " '106-25-2': {'Sweet'},\n",
       " '1786-08-9': {'Oily'},\n",
       " '40716-66-3': {'Woody'},\n",
       " '141-12-8': {'Fruity'},\n",
       " '6125-24-2': {'Spicy'},\n",
       " '28069-72-9': {'Green vegetables'},\n",
       " '821-55-6': {'Soapy'},\n",
       " '5009-32-5': {'Earthy'},\n",
       " '24415-26-7': {'Earthy'},\n",
       " '143-13-5': {'Fruity', 'Sweet'},\n",
       " '551-93-9': {'Sweet'},\n",
       " '502-99-8': {'Fruity'},\n",
       " '638-66-4': {'Oily'},\n",
       " '124-13-0': {'Soapy'},\n",
       " '124-07-2': {'Sweaty', 'Sweet'},\n",
       " '111-87-5': {'Earthy'},\n",
       " '589-98-0': {'Earthy'},\n",
       " '111-13-7': {'Soapy'},\n",
       " '106-68-3': {'Soapy'},\n",
       " '72755-76-1': {'Earthy'},\n",
       " '18409-17-1': {'Earthy', 'Soapy'},\n",
       " '3391-86-4': {'Earthy', 'Soapy'},\n",
       " '4312-99-6': {'Earthy'},\n",
       " '2051-50-5': {'Fruity'},\n",
       " '29790-29-2': {'Woody'},\n",
       " '123-11-5': {'Sweet'},\n",
       " '99-87-6': {'Solvently'},\n",
       " '123-07-9': {'Spicy'},\n",
       " '18479-68-0': {'Fruity'},\n",
       " '28839-13-6': {'Fruity'},\n",
       " '71159-90-5': {'Citrus'},\n",
       " '637-69-4': {'Sweet'},\n",
       " '7786-61-0': set(),\n",
       " '109-52-4': {'Sweaty', 'Sweet'},\n",
       " '540-18-1': set(),\n",
       " '68039-26-9': {'Fresh fruit'},\n",
       " '2111-75-3': {'Spicy'},\n",
       " '539-52-6': {'Woody'},\n",
       " '100-47-0': {'Vomit'},\n",
       " '122-78-1': {'Sweet'},\n",
       " '1073-26-3': {'Dry cereals'},\n",
       " '105-66-8': {'Solvently'},\n",
       " '626-77-7': {'Fruity'},\n",
       " '3387-41-5': {'Woody'},\n",
       " '116-26-7': {'Sweet'},\n",
       " '94-59-7': {'Spicy', 'Sweet'},\n",
       " '73744-93-1': {'Fruity', 'Sweet'},\n",
       " '28664-35-9': {'Spicy'},\n",
       " '6750-60-3': {'Fruity'},\n",
       " '112-92-5': {'Oily'},\n",
       " '25779-13-9': {'Sweet'},\n",
       " '17699-16-0': {'Woody'},\n",
       " '10486-19-8': {'Sweet'},\n",
       " '1209-71-8': {'Sweet'},\n",
       " '112-44-7': {'Oily', 'Sweet'},\n",
       " '112-12-9': set(),\n",
       " '112-37-8': {'Oily'},\n",
       " '03.07.4630': {'Oily'},\n",
       " '552-02-3': {'Sweet'},\n",
       " '182699-77-0': {'Spicy'},\n",
       " '515-69-5': {'Spicy'},\n",
       " '481-34-5': {'Woody'},\n",
       " '21391-99-1': {'Woody'},\n",
       " '3856-25-5': {'Spicy', 'Woody'},\n",
       " '502-61-4': {'Sweet', 'Woody'},\n",
       " '01.12.3691': {'Woody'},\n",
       " '489-40-7': {'Woody'},\n",
       " '6753-98-6': {'Woody'},\n",
       " '127-41-3': {'Woody'},\n",
       " '10208-80-7': {'Woody'},\n",
       " '99-83-2': {'Spicy'},\n",
       " '99-86-5': set(),\n",
       " '98-55-5': {'Oily'},\n",
       " '02.05.2867': {'Woody'},\n",
       " '495-60-3': {'Spicy'},\n",
       " '15352-77-9': {'Sweet'},\n",
       " '87-44-5': {'Spicy', 'Woody'},\n",
       " '13744-15-5': {'Fruity'},\n",
       " '473-15-4': {'Woody'},\n",
       " '18794-84-8': {'Sweet', 'Woody'},\n",
       " '58181-76-3': {'Oily'},\n",
       " '88-84-6': {'Spicy', 'Woody'},\n",
       " '79-77-6': set(),\n",
       " '103-45-7': {'Fresh flowers'},\n",
       " '20307-83-9': {'Woody'},\n",
       " '60066-88-8': {'Sweet'},\n",
       " '39029-41-9': {'Woody'},\n",
       " '07.05.2305': {'Fruity', 'Sweet'},\n",
       " '105-21-5': {'Fruity'},\n",
       " '30021-74-0': {'Spicy', 'Woody'},\n",
       " '515-17-3': {'Woody'},\n",
       " '13466-78-9': set(),\n",
       " '483-76-1': {'Woody'},\n",
       " '713-95-1': {'Fruity', 'Sweet'},\n",
       " '20307-84-0': {'Woody'},\n",
       " '120021-96-7': {'Oily'}}"
      ]
     },
     "execution_count": 45,
     "metadata": {},
     "output_type": "execute_result"
    }
   ],
   "source": [
    "OQ_dict"
   ]
  },
  {
   "attachments": {},
   "cell_type": "markdown",
   "metadata": {},
   "source": [
    "#### 4.  OQ -----------> OSA\n"
   ]
  },
  {
   "cell_type": "markdown",
   "metadata": {},
   "source": [
    "<span style=\"color:#FBB714\">OQ_OSA</span>: Dataframe - all OQs x OSAs from research institute"
   ]
  },
  {
   "cell_type": "code",
   "execution_count": 46,
   "metadata": {},
   "outputs": [],
   "source": [
    "Research_OSA_OQ = Research_data.drop(columns=Research_data.columns[2])\n",
    "OQ_OSA = dict_to_matrix(dataframe_to_dict(Research_OSA_OQ)).T"
   ]
  },
  {
   "cell_type": "markdown",
   "metadata": {},
   "source": [
    " #### 4.1 Binary Matrix"
   ]
  },
  {
   "cell_type": "code",
   "execution_count": 47,
   "metadata": {},
   "outputs": [],
   "source": [
    "# find matching OQs to found ODs from massspec x flavornet\n",
    "matching_OSAs, matching_OSAs_dict = find_matching_entries(OQ_dict, OQ_OSA)"
   ]
  },
  {
   "cell_type": "code",
   "execution_count": 48,
   "metadata": {},
   "outputs": [
    {
     "data": {
      "text/plain": [
       "326"
      ]
     },
     "execution_count": 48,
     "metadata": {},
     "output_type": "execute_result"
    }
   ],
   "source": [
    "len(matching_OSAs_dict)"
   ]
  },
  {
   "cell_type": "code",
   "execution_count": 49,
   "metadata": {},
   "outputs": [
    {
     "data": {
      "text/html": [
       "<div>\n",
       "<style scoped>\n",
       "    .dataframe tbody tr th:only-of-type {\n",
       "        vertical-align: middle;\n",
       "    }\n",
       "\n",
       "    .dataframe tbody tr th {\n",
       "        vertical-align: top;\n",
       "    }\n",
       "\n",
       "    .dataframe thead th {\n",
       "        text-align: right;\n",
       "    }\n",
       "</style>\n",
       "<table border=\"1\" class=\"dataframe\">\n",
       "  <thead>\n",
       "    <tr style=\"text-align: right;\">\n",
       "      <th></th>\n",
       "      <th>Peaty</th>\n",
       "      <th>Feinty</th>\n",
       "      <th>Cereal</th>\n",
       "      <th>Green/grassy</th>\n",
       "      <th>Floral</th>\n",
       "      <th>Fruity</th>\n",
       "      <th>Solvently</th>\n",
       "      <th>Soapy</th>\n",
       "      <th>Sweet</th>\n",
       "      <th>Woody</th>\n",
       "      <th>Nutty</th>\n",
       "      <th>Spicy</th>\n",
       "      <th>Oily</th>\n",
       "      <th>Sour</th>\n",
       "      <th>Sulphury</th>\n",
       "      <th>Stale</th>\n",
       "    </tr>\n",
       "  </thead>\n",
       "  <tbody>\n",
       "    <tr>\n",
       "      <th>Fresh flowers</th>\n",
       "      <td>0</td>\n",
       "      <td>0</td>\n",
       "      <td>0</td>\n",
       "      <td>0</td>\n",
       "      <td>1</td>\n",
       "      <td>0</td>\n",
       "      <td>0</td>\n",
       "      <td>0</td>\n",
       "      <td>0</td>\n",
       "      <td>0</td>\n",
       "      <td>0</td>\n",
       "      <td>0</td>\n",
       "      <td>0</td>\n",
       "      <td>0</td>\n",
       "      <td>0</td>\n",
       "      <td>0</td>\n",
       "    </tr>\n",
       "    <tr>\n",
       "      <th>Sweet</th>\n",
       "      <td>0</td>\n",
       "      <td>0</td>\n",
       "      <td>0</td>\n",
       "      <td>0</td>\n",
       "      <td>0</td>\n",
       "      <td>0</td>\n",
       "      <td>0</td>\n",
       "      <td>0</td>\n",
       "      <td>1</td>\n",
       "      <td>0</td>\n",
       "      <td>0</td>\n",
       "      <td>0</td>\n",
       "      <td>0</td>\n",
       "      <td>0</td>\n",
       "      <td>0</td>\n",
       "      <td>0</td>\n",
       "    </tr>\n",
       "    <tr>\n",
       "      <th>Spicy</th>\n",
       "      <td>0</td>\n",
       "      <td>0</td>\n",
       "      <td>0</td>\n",
       "      <td>0</td>\n",
       "      <td>0</td>\n",
       "      <td>0</td>\n",
       "      <td>0</td>\n",
       "      <td>0</td>\n",
       "      <td>0</td>\n",
       "      <td>0</td>\n",
       "      <td>0</td>\n",
       "      <td>1</td>\n",
       "      <td>0</td>\n",
       "      <td>0</td>\n",
       "      <td>0</td>\n",
       "      <td>0</td>\n",
       "    </tr>\n",
       "    <tr>\n",
       "      <th>Woody</th>\n",
       "      <td>0</td>\n",
       "      <td>0</td>\n",
       "      <td>0</td>\n",
       "      <td>0</td>\n",
       "      <td>0</td>\n",
       "      <td>0</td>\n",
       "      <td>0</td>\n",
       "      <td>0</td>\n",
       "      <td>0</td>\n",
       "      <td>1</td>\n",
       "      <td>0</td>\n",
       "      <td>0</td>\n",
       "      <td>0</td>\n",
       "      <td>0</td>\n",
       "      <td>0</td>\n",
       "      <td>0</td>\n",
       "    </tr>\n",
       "    <tr>\n",
       "      <th>Citrus</th>\n",
       "      <td>0</td>\n",
       "      <td>0</td>\n",
       "      <td>0</td>\n",
       "      <td>0</td>\n",
       "      <td>0</td>\n",
       "      <td>1</td>\n",
       "      <td>0</td>\n",
       "      <td>0</td>\n",
       "      <td>0</td>\n",
       "      <td>0</td>\n",
       "      <td>0</td>\n",
       "      <td>0</td>\n",
       "      <td>0</td>\n",
       "      <td>0</td>\n",
       "      <td>0</td>\n",
       "      <td>0</td>\n",
       "    </tr>\n",
       "    <tr>\n",
       "      <th>Green vegetables</th>\n",
       "      <td>0</td>\n",
       "      <td>0</td>\n",
       "      <td>0</td>\n",
       "      <td>1</td>\n",
       "      <td>0</td>\n",
       "      <td>0</td>\n",
       "      <td>0</td>\n",
       "      <td>0</td>\n",
       "      <td>0</td>\n",
       "      <td>0</td>\n",
       "      <td>0</td>\n",
       "      <td>0</td>\n",
       "      <td>0</td>\n",
       "      <td>0</td>\n",
       "      <td>0</td>\n",
       "      <td>0</td>\n",
       "    </tr>\n",
       "    <tr>\n",
       "      <th>Soapy</th>\n",
       "      <td>0</td>\n",
       "      <td>0</td>\n",
       "      <td>0</td>\n",
       "      <td>0</td>\n",
       "      <td>0</td>\n",
       "      <td>0</td>\n",
       "      <td>0</td>\n",
       "      <td>1</td>\n",
       "      <td>0</td>\n",
       "      <td>0</td>\n",
       "      <td>0</td>\n",
       "      <td>0</td>\n",
       "      <td>0</td>\n",
       "      <td>0</td>\n",
       "      <td>0</td>\n",
       "      <td>0</td>\n",
       "    </tr>\n",
       "    <tr>\n",
       "      <th>Solvently</th>\n",
       "      <td>0</td>\n",
       "      <td>0</td>\n",
       "      <td>0</td>\n",
       "      <td>0</td>\n",
       "      <td>0</td>\n",
       "      <td>0</td>\n",
       "      <td>1</td>\n",
       "      <td>0</td>\n",
       "      <td>0</td>\n",
       "      <td>0</td>\n",
       "      <td>0</td>\n",
       "      <td>0</td>\n",
       "      <td>0</td>\n",
       "      <td>0</td>\n",
       "      <td>0</td>\n",
       "      <td>0</td>\n",
       "    </tr>\n",
       "    <tr>\n",
       "      <th>Struck match</th>\n",
       "      <td>0</td>\n",
       "      <td>0</td>\n",
       "      <td>0</td>\n",
       "      <td>0</td>\n",
       "      <td>0</td>\n",
       "      <td>0</td>\n",
       "      <td>0</td>\n",
       "      <td>0</td>\n",
       "      <td>0</td>\n",
       "      <td>0</td>\n",
       "      <td>0</td>\n",
       "      <td>0</td>\n",
       "      <td>0</td>\n",
       "      <td>0</td>\n",
       "      <td>1</td>\n",
       "      <td>0</td>\n",
       "    </tr>\n",
       "    <tr>\n",
       "      <th>Sweaty</th>\n",
       "      <td>0</td>\n",
       "      <td>1</td>\n",
       "      <td>0</td>\n",
       "      <td>0</td>\n",
       "      <td>0</td>\n",
       "      <td>0</td>\n",
       "      <td>0</td>\n",
       "      <td>0</td>\n",
       "      <td>0</td>\n",
       "      <td>0</td>\n",
       "      <td>0</td>\n",
       "      <td>0</td>\n",
       "      <td>0</td>\n",
       "      <td>0</td>\n",
       "      <td>0</td>\n",
       "      <td>0</td>\n",
       "    </tr>\n",
       "    <tr>\n",
       "      <th>Earthy</th>\n",
       "      <td>0</td>\n",
       "      <td>0</td>\n",
       "      <td>0</td>\n",
       "      <td>0</td>\n",
       "      <td>0</td>\n",
       "      <td>0</td>\n",
       "      <td>0</td>\n",
       "      <td>0</td>\n",
       "      <td>0</td>\n",
       "      <td>0</td>\n",
       "      <td>0</td>\n",
       "      <td>0</td>\n",
       "      <td>0</td>\n",
       "      <td>0</td>\n",
       "      <td>0</td>\n",
       "      <td>1</td>\n",
       "    </tr>\n",
       "    <tr>\n",
       "      <th>Buttery</th>\n",
       "      <td>0</td>\n",
       "      <td>0</td>\n",
       "      <td>0</td>\n",
       "      <td>0</td>\n",
       "      <td>0</td>\n",
       "      <td>0</td>\n",
       "      <td>0</td>\n",
       "      <td>0</td>\n",
       "      <td>0</td>\n",
       "      <td>0</td>\n",
       "      <td>0</td>\n",
       "      <td>0</td>\n",
       "      <td>1</td>\n",
       "      <td>0</td>\n",
       "      <td>0</td>\n",
       "      <td>0</td>\n",
       "    </tr>\n",
       "    <tr>\n",
       "      <th>Toasted</th>\n",
       "      <td>0</td>\n",
       "      <td>0</td>\n",
       "      <td>0</td>\n",
       "      <td>0</td>\n",
       "      <td>0</td>\n",
       "      <td>0</td>\n",
       "      <td>0</td>\n",
       "      <td>0</td>\n",
       "      <td>0</td>\n",
       "      <td>0</td>\n",
       "      <td>1</td>\n",
       "      <td>0</td>\n",
       "      <td>0</td>\n",
       "      <td>0</td>\n",
       "      <td>0</td>\n",
       "      <td>0</td>\n",
       "    </tr>\n",
       "    <tr>\n",
       "      <th>Dry cereals</th>\n",
       "      <td>0</td>\n",
       "      <td>0</td>\n",
       "      <td>1</td>\n",
       "      <td>0</td>\n",
       "      <td>0</td>\n",
       "      <td>0</td>\n",
       "      <td>0</td>\n",
       "      <td>0</td>\n",
       "      <td>0</td>\n",
       "      <td>0</td>\n",
       "      <td>0</td>\n",
       "      <td>0</td>\n",
       "      <td>0</td>\n",
       "      <td>0</td>\n",
       "      <td>0</td>\n",
       "      <td>0</td>\n",
       "    </tr>\n",
       "    <tr>\n",
       "      <th>Vinegary</th>\n",
       "      <td>0</td>\n",
       "      <td>0</td>\n",
       "      <td>0</td>\n",
       "      <td>0</td>\n",
       "      <td>0</td>\n",
       "      <td>0</td>\n",
       "      <td>0</td>\n",
       "      <td>0</td>\n",
       "      <td>0</td>\n",
       "      <td>0</td>\n",
       "      <td>0</td>\n",
       "      <td>0</td>\n",
       "      <td>0</td>\n",
       "      <td>1</td>\n",
       "      <td>0</td>\n",
       "      <td>0</td>\n",
       "    </tr>\n",
       "    <tr>\n",
       "      <th>Burnt</th>\n",
       "      <td>1</td>\n",
       "      <td>0</td>\n",
       "      <td>0</td>\n",
       "      <td>0</td>\n",
       "      <td>0</td>\n",
       "      <td>0</td>\n",
       "      <td>0</td>\n",
       "      <td>0</td>\n",
       "      <td>0</td>\n",
       "      <td>0</td>\n",
       "      <td>0</td>\n",
       "      <td>0</td>\n",
       "      <td>0</td>\n",
       "      <td>0</td>\n",
       "      <td>0</td>\n",
       "      <td>0</td>\n",
       "    </tr>\n",
       "  </tbody>\n",
       "</table>\n",
       "</div>"
      ],
      "text/plain": [
       "                  Peaty  Feinty  Cereal  Green/grassy  Floral  Fruity  \\\n",
       "Fresh flowers         0       0       0             0       1       0   \n",
       "Sweet                 0       0       0             0       0       0   \n",
       "Spicy                 0       0       0             0       0       0   \n",
       "Woody                 0       0       0             0       0       0   \n",
       "Citrus                0       0       0             0       0       1   \n",
       "Green vegetables      0       0       0             1       0       0   \n",
       "Soapy                 0       0       0             0       0       0   \n",
       "Solvently             0       0       0             0       0       0   \n",
       "Struck match          0       0       0             0       0       0   \n",
       "Sweaty                0       1       0             0       0       0   \n",
       "Earthy                0       0       0             0       0       0   \n",
       "Buttery               0       0       0             0       0       0   \n",
       "Toasted               0       0       0             0       0       0   \n",
       "Dry cereals           0       0       1             0       0       0   \n",
       "Vinegary              0       0       0             0       0       0   \n",
       "Burnt                 1       0       0             0       0       0   \n",
       "\n",
       "                  Solvently  Soapy  Sweet  Woody  Nutty  Spicy  Oily  Sour  \\\n",
       "Fresh flowers             0      0      0      0      0      0     0     0   \n",
       "Sweet                     0      0      1      0      0      0     0     0   \n",
       "Spicy                     0      0      0      0      0      1     0     0   \n",
       "Woody                     0      0      0      1      0      0     0     0   \n",
       "Citrus                    0      0      0      0      0      0     0     0   \n",
       "Green vegetables          0      0      0      0      0      0     0     0   \n",
       "Soapy                     0      1      0      0      0      0     0     0   \n",
       "Solvently                 1      0      0      0      0      0     0     0   \n",
       "Struck match              0      0      0      0      0      0     0     0   \n",
       "Sweaty                    0      0      0      0      0      0     0     0   \n",
       "Earthy                    0      0      0      0      0      0     0     0   \n",
       "Buttery                   0      0      0      0      0      0     1     0   \n",
       "Toasted                   0      0      0      0      1      0     0     0   \n",
       "Dry cereals               0      0      0      0      0      0     0     0   \n",
       "Vinegary                  0      0      0      0      0      0     0     1   \n",
       "Burnt                     0      0      0      0      0      0     0     0   \n",
       "\n",
       "                  Sulphury  Stale  \n",
       "Fresh flowers            0      0  \n",
       "Sweet                    0      0  \n",
       "Spicy                    0      0  \n",
       "Woody                    0      0  \n",
       "Citrus                   0      0  \n",
       "Green vegetables         0      0  \n",
       "Soapy                    0      0  \n",
       "Solvently                0      0  \n",
       "Struck match             1      0  \n",
       "Sweaty                   0      0  \n",
       "Earthy                   0      1  \n",
       "Buttery                  0      0  \n",
       "Toasted                  0      0  \n",
       "Dry cereals              0      0  \n",
       "Vinegary                 0      0  \n",
       "Burnt                    0      0  "
      ]
     },
     "execution_count": 49,
     "metadata": {},
     "output_type": "execute_result"
    }
   ],
   "source": [
    "matching_OSAs = matching_OSAs.loc[:, (matching_OSAs != 0).any(axis=0)]\n",
    "matching_OSAs"
   ]
  },
  {
   "cell_type": "code",
   "execution_count": 50,
   "metadata": {},
   "outputs": [],
   "source": [
    "matching_OSAs_dict=  {key: value for key, value in matching_OSAs_dict.items() if value}"
   ]
  },
  {
   "cell_type": "code",
   "execution_count": 51,
   "metadata": {},
   "outputs": [
    {
     "data": {
      "text/plain": [
       "{'3033-23-6': {'Fresh flowers', 'Sweet'},\n",
       " '21284-22-0': {'Spicy'},\n",
       " '29873-99-2': {'Woody'},\n",
       " '4674-50-4': {'Citrus'},\n",
       " '10307-61-6': {'Fresh fruit'},\n",
       " '18829-56-6': {'Green vegetables'},\n",
       " '53448-07-0': {'Soapy'},\n",
       " '1197-07-5': {'Solvently'},\n",
       " '14371-10-9': {'Dried spice'},\n",
       " '5273-85-8': {'Spicy'},\n",
       " '13474-59-4': {'Woody'},\n",
       " '23726-91-2': {'Fresh fruit'},\n",
       " '3779-61-1': {'Sweet'},\n",
       " '928-96-1': {'Struck match '},\n",
       " '53398-85-9': {'Sweet'},\n",
       " '31501-11-8': {'Fruity'},\n",
       " '15456-69-6': {'Soapy'},\n",
       " '18679-18-0': {'Sweet'},\n",
       " '55013-32-6': {'Spicy'},\n",
       " '1197-15-5': {'Spicy'},\n",
       " '470-67-7': {'Spicy'},\n",
       " '470-82-6': {'Sweet'},\n",
       " '15051-81-7': {'Sweet', 'Woody'},\n",
       " '75853-49-5': {'Sweaty', 'Sweet'},\n",
       " '20407-84-5': {'Sweet'},\n",
       " '104-76-7': {'Fresh flowers'},\n",
       " '100-71-0': {'Struck match '},\n",
       " '928-94-9': {'Fruity'},\n",
       " '624-41-9': {'Fruity'},\n",
       " '628-99-9': {'Green vegetables'},\n",
       " '2463-53-8': {'Green vegetables'},\n",
       " '60784-31-8': {'Green vegetables'},\n",
       " '123-96-6': {'Earthy'},\n",
       " '4861-58-9': {'Fruity', 'Sweet'},\n",
       " '60-12-8': {'Fresh flowers', 'Spicy'},\n",
       " '2463-77-6': {'Sweet'},\n",
       " '600-14-6': {'Buttery '},\n",
       " '931-57-7': {'Spicy'},\n",
       " '30361-28-5': {'Green vegetables'},\n",
       " '581-42-0': {'Struck match '},\n",
       " '557-48-2': {'Green vegetables'},\n",
       " '7786-44-9': {'Green vegetables'},\n",
       " '55764-25-5': {'Toasted'},\n",
       " '109351-28-2': {'Green vegetables'},\n",
       " '31823-43-5': {'Green vegetables'},\n",
       " '34318-21-3': {'Spicy'},\n",
       " '38284-27-4': {'Earthy', 'Fruity'},\n",
       " '21944-83-2': {'Soapy'},\n",
       " '2785-89-9': {'Spicy'},\n",
       " '6728-31-0': {'Buttery '},\n",
       " '695-06-7': {'Sweet'},\n",
       " '818-49-5': {'Sweaty', 'Sweet'},\n",
       " '693-95-8': {'Toasted'},\n",
       " '34047-39-7': {'Fruity'},\n",
       " '18060-79-2': {'Vanilla'},\n",
       " '59121-25-4': {'Cooked vegetables '},\n",
       " '13925-05-8': {'Sweaty', 'Sweet'},\n",
       " '620-02-0': {'Toffee'},\n",
       " '105683-99-6': {'Green vegetables'},\n",
       " '147159-48-6': {'Green vegetables'},\n",
       " '6627-88-9': {'Sweet'},\n",
       " '531-59-9': {'Sweet'},\n",
       " '698-10-2': {'Spicy'},\n",
       " '70286-20-3': {'Spicy'},\n",
       " '1122-62-9': {'Dry cereals'},\n",
       " '29926-41-8': {'Dry cereals'},\n",
       " '25246-27-9': {'Woody'},\n",
       " '489-39-4': {'Woody'},\n",
       " '18607-93-7': {'Spicy'},\n",
       " '100-52-7': {'Toffee'},\n",
       " '100-51-6': {'Sweet'},\n",
       " '4430-42-6': {'Cooked vegetables '},\n",
       " '24703-35-3': {'Woody'},\n",
       " '28588-75-2': {'Toasted'},\n",
       " '13109-70-1': {'Woody'},\n",
       " '22451-73-6': {'Spicy'},\n",
       " '626-82-4': {'Fruity'},\n",
       " '15706-73-7': {'Fruity'},\n",
       " '589-75-3': {'Fruity'},\n",
       " '114791-16-1': {'Spicy', 'Woody'},\n",
       " '29837-12-5': {'Fruity', 'Spicy'},\n",
       " '483-77-2': {'Spicy'},\n",
       " '142-62-1': {'Sweaty', 'Sweet'},\n",
       " '1139-30-6': {'Spicy', 'Sweet'},\n",
       " '28231-03-0': {'Fruity'},\n",
       " '106-22-9': {'Fresh flowers'},\n",
       " '150-84-5': {'Fresh flowers'},\n",
       " '141-16-2': {'Fresh flowers', 'Fruity', 'Sweet'},\n",
       " '97-89-2': {'Fresh flowers', 'Fruity'},\n",
       " '7540-53-6': {'Fresh flowers'},\n",
       " '91-64-5': {'Sweet'},\n",
       " '122-03-2': {'Vinegary', 'Vomit'},\n",
       " '536-60-7': {'Woody'},\n",
       " '112-31-2': {'Soapy'},\n",
       " '334-48-5': {'Vomit'},\n",
       " '105-57-7': {'Buttery ', 'Fruity'},\n",
       " '03.12.7554': {'Sweet', 'Toffee'},\n",
       " '105-53-3': {'Fresh fruit'},\n",
       " '123-25-1': {'Fruity'},\n",
       " '619-01-2': {'Spicy'},\n",
       " '18479-49-7': {'Woody'},\n",
       " '484-31-1': {'Spicy', 'Woody'},\n",
       " '5756-24-1': {'Cooked vegetables '},\n",
       " '3658-80-8': {'Cooked vegetables '},\n",
       " '13925-07-0': {'Dry cereals'},\n",
       " '106-72-9': {'Fruity'},\n",
       " '4077-47-8': {'Sweet'},\n",
       " '95-93-2': {'Sweet', 'Vomit'},\n",
       " '487-11-6': {'Spicy'},\n",
       " '639-99-6': {'Woody'},\n",
       " '23267-57-4': {'Fruity', 'Sweet', 'Woody'},\n",
       " '4430-36-8': {'Cooked vegetables '},\n",
       " '111-35-3': {'Fruity'},\n",
       " '108-64-5': {'Fresh fruit', 'Fruity'},\n",
       " '93-89-0': {'Fruity'},\n",
       " '105-54-4': {'Fresh fruit'},\n",
       " '103-36-6': {'Dried spice'},\n",
       " '3289-28-9': {'Fruity'},\n",
       " '106-30-9': {'Fruity'},\n",
       " '123-66-0': {'Fruity'},\n",
       " '97-62-1': {'Sweet'},\n",
       " '25415-67-2': {'Fruity'},\n",
       " '97-64-3': {'Fruity'},\n",
       " '7452-79-1': {'Fresh fruit'},\n",
       " '106-32-1': {'Fruity'},\n",
       " '2351-90-8': {'Fruity'},\n",
       " '101-97-3': {'Fruity', 'Sweet'},\n",
       " '105-37-3': {'Fruity'},\n",
       " '13925-00-3': {'Woody'},\n",
       " '539-82-2': {'Fruity'},\n",
       " '617-05-0': {'Fruity', 'Sweet'},\n",
       " '4748-78-1': {'Sweet'},\n",
       " '15707-34-3': {'Dry cereals'},\n",
       " '01.01.2313': {'Spicy'},\n",
       " '2407-43-4': {'Spicy'},\n",
       " '13360-64-0': {'Fruity', 'Sweet'},\n",
       " '123123-38-6': {'Sweet', 'Woody'},\n",
       " '106-24-1': {'Fresh flowers'},\n",
       " '105-87-3': {'Fresh flowers'},\n",
       " '106-29-6': {'Fresh flowers', 'Fresh fruit', 'Fruity'},\n",
       " '109-20-6': {'Fresh flowers', 'Fresh fruit', 'Fruity'},\n",
       " '10402-47-8': {'Fresh flowers', 'Fruity'},\n",
       " '15423-57-1': {'Spicy', 'Woody'},\n",
       " '23986-74-5': {'Spicy', 'Woody'},\n",
       " '90-05-1': {'Sweet'},\n",
       " '489-86-1': {'Woody'},\n",
       " '111-71-7': {'Vomit'},\n",
       " '589-82-2': {'Earthy'},\n",
       " '111-70-6': {'Earthy'},\n",
       " '543-49-7': {'Earthy'},\n",
       " '110-43-0': {'Soapy'},\n",
       " '18829-55-5': {'Soapy'},\n",
       " '50862-12-9': {'Fresh fruit'},\n",
       " '18787-63-8': {'Fruity'},\n",
       " '66-25-1': {'Struck match '},\n",
       " '142-92-7': {'Fruity'},\n",
       " '122-97-4': {'Dried spice', 'Fruity'},\n",
       " '2756-56-1': {'Fruity'},\n",
       " '110-19-0': {'Fresh fruit', 'Fruity'},\n",
       " '24683-00-9': {'Spicy'},\n",
       " '118-65-0': {'Woody'},\n",
       " '18675-35-9': {'Spicy', 'Woody'},\n",
       " '16750-94-0': {'Fresh flowers'},\n",
       " '5944-20-7': {'Fresh flowers'},\n",
       " '18433-98-2': {'Fruity'},\n",
       " '58615-39-7': {'Fruity', 'Sweet'},\n",
       " '939-48-0': {'Fruity', 'Sweet'},\n",
       " '638-11-9': {'Fruity'},\n",
       " '503-74-2': {'Sweaty', 'Sweet', 'Vinegary', 'Vomit'},\n",
       " '23089-26-1': {'Sweet'},\n",
       " '1195-92-2': {'Fruity'},\n",
       " '1365-19-1': {'Woody'},\n",
       " '115-95-7': {'Fruity', 'Sweet'},\n",
       " '78-36-4': {'Sweet'},\n",
       " '1118-27-0': {'Fresh fruit', 'Sweet'},\n",
       " '67633-97-0': {'Toasted'},\n",
       " '17042-24-9': {'Toasted'},\n",
       " '505-10-2': {'Sweet'},\n",
       " '93-58-3': {'Sweet'},\n",
       " '623-42-7': {'Fruity', 'Sweet'},\n",
       " '4630-82-4': {'Artificial fruit flavourings', 'Fruity'},\n",
       " '93-15-2': {'Spicy'},\n",
       " '27538-09-6': {'Sweet'},\n",
       " '1189-09-9': {'Fruity'},\n",
       " '106-70-7': {'Fruity', 'Sweet'},\n",
       " '556-24-1': {'Fresh fruit'},\n",
       " '868-57-5': {'Fresh fruit'},\n",
       " '7251-61-8': {'Fruity'},\n",
       " '116-53-0': {'Sweaty', 'Sweet'},\n",
       " '13679-85-1': {'Cooked vegetables '},\n",
       " '33504-66-4': {'Sweaty', 'Sweet'},\n",
       " '110-93-0': {'Earthy'},\n",
       " '113486-29-6': {'Fruity'},\n",
       " '123-35-3': {'Spicy'},\n",
       " '607-91-0': {'Spicy'},\n",
       " '23727-16-4': {'Spicy'},\n",
       " '91-20-3': {'Burnt'},\n",
       " '106-25-2': {'Sweet'},\n",
       " '40716-66-3': {'Woody'},\n",
       " '141-12-8': {'Fruity'},\n",
       " '6125-24-2': {'Spicy'},\n",
       " '28069-72-9': {'Green vegetables'},\n",
       " '821-55-6': {'Soapy'},\n",
       " '5009-32-5': {'Earthy'},\n",
       " '24415-26-7': {'Earthy'},\n",
       " '143-13-5': {'Fruity', 'Sweet'},\n",
       " '551-93-9': {'Sweet'},\n",
       " '502-99-8': {'Fruity'},\n",
       " '124-13-0': {'Soapy'},\n",
       " '124-07-2': {'Sweaty', 'Sweet'},\n",
       " '111-87-5': {'Earthy'},\n",
       " '589-98-0': {'Earthy'},\n",
       " '111-13-7': {'Soapy'},\n",
       " '106-68-3': {'Soapy'},\n",
       " '72755-76-1': {'Earthy'},\n",
       " '18409-17-1': {'Earthy', 'Soapy'},\n",
       " '3391-86-4': {'Earthy', 'Soapy'},\n",
       " '4312-99-6': {'Earthy'},\n",
       " '2051-50-5': {'Fruity'},\n",
       " '29790-29-2': {'Woody'},\n",
       " '123-11-5': {'Sweet'},\n",
       " '99-87-6': {'Solvently'},\n",
       " '123-07-9': {'Spicy'},\n",
       " '18479-68-0': {'Fruity'},\n",
       " '28839-13-6': {'Fruity'},\n",
       " '71159-90-5': {'Citrus'},\n",
       " '637-69-4': {'Sweet'},\n",
       " '109-52-4': {'Sweaty', 'Sweet'},\n",
       " '68039-26-9': {'Fresh fruit'},\n",
       " '2111-75-3': {'Spicy'},\n",
       " '539-52-6': {'Woody'},\n",
       " '100-47-0': {'Vomit'},\n",
       " '122-78-1': {'Sweet'},\n",
       " '1073-26-3': {'Dry cereals'},\n",
       " '105-66-8': {'Solvently'},\n",
       " '626-77-7': {'Fruity'},\n",
       " '3387-41-5': {'Woody'},\n",
       " '116-26-7': {'Sweet'},\n",
       " '94-59-7': {'Spicy', 'Sweet'},\n",
       " '73744-93-1': {'Fruity', 'Sweet'},\n",
       " '28664-35-9': {'Spicy'},\n",
       " '6750-60-3': {'Fruity'},\n",
       " '25779-13-9': {'Sweet'},\n",
       " '17699-16-0': {'Woody'},\n",
       " '10486-19-8': {'Sweet'},\n",
       " '1209-71-8': {'Sweet'},\n",
       " '112-44-7': {'Sweet'},\n",
       " '552-02-3': {'Sweet'},\n",
       " '182699-77-0': {'Spicy'},\n",
       " '515-69-5': {'Spicy'},\n",
       " '481-34-5': {'Woody'},\n",
       " '21391-99-1': {'Woody'},\n",
       " '3856-25-5': {'Spicy', 'Woody'},\n",
       " '502-61-4': {'Sweet', 'Woody'},\n",
       " '01.12.3691': {'Woody'},\n",
       " '489-40-7': {'Woody'},\n",
       " '6753-98-6': {'Woody'},\n",
       " '127-41-3': {'Woody'},\n",
       " '10208-80-7': {'Woody'},\n",
       " '99-83-2': {'Spicy'},\n",
       " '02.05.2867': {'Woody'},\n",
       " '495-60-3': {'Spicy'},\n",
       " '15352-77-9': {'Sweet'},\n",
       " '87-44-5': {'Spicy', 'Woody'},\n",
       " '13744-15-5': {'Fruity'},\n",
       " '473-15-4': {'Woody'},\n",
       " '18794-84-8': {'Sweet', 'Woody'},\n",
       " '88-84-6': {'Spicy', 'Woody'},\n",
       " '103-45-7': {'Fresh flowers'},\n",
       " '20307-83-9': {'Woody'},\n",
       " '60066-88-8': {'Sweet'},\n",
       " '39029-41-9': {'Woody'},\n",
       " '07.05.2305': {'Fruity', 'Sweet'},\n",
       " '105-21-5': {'Fruity'},\n",
       " '30021-74-0': {'Spicy', 'Woody'},\n",
       " '515-17-3': {'Woody'},\n",
       " '483-76-1': {'Woody'},\n",
       " '713-95-1': {'Fruity', 'Sweet'},\n",
       " '20307-84-0': {'Woody'}}"
      ]
     },
     "execution_count": 51,
     "metadata": {},
     "output_type": "execute_result"
    }
   ],
   "source": [
    "matching_OSAs_dict"
   ]
  },
  {
   "cell_type": "markdown",
   "metadata": {},
   "source": [
    "<span style=\"color:#FBB714\">OSAs</span>: Dataframe - OQs x OSAs"
   ]
  },
  {
   "cell_type": "code",
   "execution_count": 52,
   "metadata": {},
   "outputs": [],
   "source": [
    "OSA_dict, OSAs = create_matrix_from_dict(matching_OSAs_dict, matching_OSAs,ms_cas)"
   ]
  },
  {
   "cell_type": "code",
   "execution_count": 53,
   "metadata": {},
   "outputs": [
    {
     "name": "stdout",
     "output_type": "stream",
     "text": [
      "             Peaty  Feinty  Cereal  Green/grassy  Floral  Fruity  Solvently  \\\n",
      "6485-40-1        0       0       0             0       0       0          0   \n",
      "3033-23-6        0       0       0             0       1       0          0   \n",
      "21284-22-0       0       0       0             0       0       0          0   \n",
      "38427-78-0       0       0       0             0       0       0          0   \n",
      "495-61-4         0       0       0             0       0       0          0   \n",
      "...            ...     ...     ...           ...     ...     ...        ...   \n",
      "713-95-1         0       0       0             0       0       0          0   \n",
      "20307-84-0       0       0       0             0       0       0          0   \n",
      "120021-96-7      0       0       0             0       0       0          0   \n",
      "586-62-9         0       0       0             0       0       0          0   \n",
      "710-04-3         0       0       0             0       0       0          0   \n",
      "\n",
      "             Soapy  Sweet  Woody  Nutty  Spicy  Oily  Sour  Sulphury  Stale  \n",
      "6485-40-1        0      0      0      0      0     0     0         0      0  \n",
      "3033-23-6        0      1      0      0      0     0     0         0      0  \n",
      "21284-22-0       0      0      0      0      1     0     0         0      0  \n",
      "38427-78-0       0      0      0      0      0     0     0         0      0  \n",
      "495-61-4         0      0      0      0      0     0     0         0      0  \n",
      "...            ...    ...    ...    ...    ...   ...   ...       ...    ...  \n",
      "713-95-1         0      1      0      0      0     0     0         0      0  \n",
      "20307-84-0       0      0      1      0      0     0     0         0      0  \n",
      "120021-96-7      0      0      0      0      0     0     0         0      0  \n",
      "586-62-9         0      0      0      0      0     0     0         0      0  \n",
      "710-04-3         0      0      0      0      0     0     0         0      0  \n",
      "\n",
      "[658 rows x 16 columns]\n"
     ]
    }
   ],
   "source": [
    "print(OSAs)"
   ]
  },
  {
   "cell_type": "code",
   "execution_count": 54,
   "metadata": {},
   "outputs": [
    {
     "data": {
      "text/html": [
       "<div>\n",
       "<style scoped>\n",
       "    .dataframe tbody tr th:only-of-type {\n",
       "        vertical-align: middle;\n",
       "    }\n",
       "\n",
       "    .dataframe tbody tr th {\n",
       "        vertical-align: top;\n",
       "    }\n",
       "\n",
       "    .dataframe thead th {\n",
       "        text-align: right;\n",
       "    }\n",
       "</style>\n",
       "<table border=\"1\" class=\"dataframe\">\n",
       "  <thead>\n",
       "    <tr style=\"text-align: right;\">\n",
       "      <th></th>\n",
       "      <th>Intensities</th>\n",
       "    </tr>\n",
       "  </thead>\n",
       "  <tbody>\n",
       "    <tr>\n",
       "      <th>6485-40-1</th>\n",
       "      <td>1.158771</td>\n",
       "    </tr>\n",
       "    <tr>\n",
       "      <th>3033-23-6</th>\n",
       "      <td>0.895271</td>\n",
       "    </tr>\n",
       "    <tr>\n",
       "      <th>21284-22-0</th>\n",
       "      <td>0.946861</td>\n",
       "    </tr>\n",
       "    <tr>\n",
       "      <th>38427-78-0</th>\n",
       "      <td>0.819830</td>\n",
       "    </tr>\n",
       "    <tr>\n",
       "      <th>495-61-4</th>\n",
       "      <td>1.523904</td>\n",
       "    </tr>\n",
       "    <tr>\n",
       "      <th>...</th>\n",
       "      <td>...</td>\n",
       "    </tr>\n",
       "    <tr>\n",
       "      <th>713-95-1</th>\n",
       "      <td>1.012158</td>\n",
       "    </tr>\n",
       "    <tr>\n",
       "      <th>20307-84-0</th>\n",
       "      <td>1.523904</td>\n",
       "    </tr>\n",
       "    <tr>\n",
       "      <th>120021-96-7</th>\n",
       "      <td>1.523904</td>\n",
       "    </tr>\n",
       "    <tr>\n",
       "      <th>586-62-9</th>\n",
       "      <td>1.192345</td>\n",
       "    </tr>\n",
       "    <tr>\n",
       "      <th>710-04-3</th>\n",
       "      <td>1.124045</td>\n",
       "    </tr>\n",
       "  </tbody>\n",
       "</table>\n",
       "<p>658 rows × 1 columns</p>\n",
       "</div>"
      ],
      "text/plain": [
       "             Intensities\n",
       "6485-40-1       1.158771\n",
       "3033-23-6       0.895271\n",
       "21284-22-0      0.946861\n",
       "38427-78-0      0.819830\n",
       "495-61-4        1.523904\n",
       "...                  ...\n",
       "713-95-1        1.012158\n",
       "20307-84-0      1.523904\n",
       "120021-96-7     1.523904\n",
       "586-62-9        1.192345\n",
       "710-04-3        1.124045\n",
       "\n",
       "[658 rows x 1 columns]"
      ]
     },
     "execution_count": 54,
     "metadata": {},
     "output_type": "execute_result"
    }
   ],
   "source": [
    "I_vector"
   ]
  },
  {
   "cell_type": "code",
   "execution_count": 55,
   "metadata": {},
   "outputs": [
    {
     "data": {
      "text/plain": [
       "'from sklearn.preprocessing import Normalizer\\nnormalizer = Normalizer()\\nI_vector_normalized = normalizer.fit_transform(I_vector.T).T\\nI_vector_normalized'"
      ]
     },
     "execution_count": 55,
     "metadata": {},
     "output_type": "execute_result"
    }
   ],
   "source": [
    "'''from sklearn.preprocessing import Normalizer\n",
    "normalizer = Normalizer()\n",
    "I_vector_normalized = normalizer.fit_transform(I_vector.T).T\n",
    "I_vector_normalized'''"
   ]
  },
  {
   "cell_type": "code",
   "execution_count": 56,
   "metadata": {},
   "outputs": [],
   "source": [
    "I_vector_normalized=np.array(I_vector)"
   ]
  },
  {
   "cell_type": "code",
   "execution_count": 57,
   "metadata": {},
   "outputs": [
    {
     "data": {
      "text/html": [
       "<div>\n",
       "<style scoped>\n",
       "    .dataframe tbody tr th:only-of-type {\n",
       "        vertical-align: middle;\n",
       "    }\n",
       "\n",
       "    .dataframe tbody tr th {\n",
       "        vertical-align: top;\n",
       "    }\n",
       "\n",
       "    .dataframe thead th {\n",
       "        text-align: right;\n",
       "    }\n",
       "</style>\n",
       "<table border=\"1\" class=\"dataframe\">\n",
       "  <thead>\n",
       "    <tr style=\"text-align: right;\">\n",
       "      <th></th>\n",
       "      <th>Peaty</th>\n",
       "      <th>Feinty</th>\n",
       "      <th>Cereal</th>\n",
       "      <th>Green/grassy</th>\n",
       "      <th>Floral</th>\n",
       "      <th>Fruity</th>\n",
       "      <th>Solvently</th>\n",
       "      <th>Soapy</th>\n",
       "      <th>Sweet</th>\n",
       "      <th>Woody</th>\n",
       "      <th>Nutty</th>\n",
       "      <th>Spicy</th>\n",
       "      <th>Oily</th>\n",
       "      <th>Sour</th>\n",
       "      <th>Sulphury</th>\n",
       "      <th>Stale</th>\n",
       "    </tr>\n",
       "  </thead>\n",
       "  <tbody>\n",
       "    <tr>\n",
       "      <th>6485-40-1</th>\n",
       "      <td>0</td>\n",
       "      <td>0</td>\n",
       "      <td>0</td>\n",
       "      <td>0</td>\n",
       "      <td>0</td>\n",
       "      <td>0</td>\n",
       "      <td>0</td>\n",
       "      <td>0</td>\n",
       "      <td>0</td>\n",
       "      <td>0</td>\n",
       "      <td>0</td>\n",
       "      <td>0</td>\n",
       "      <td>0</td>\n",
       "      <td>0</td>\n",
       "      <td>0</td>\n",
       "      <td>0</td>\n",
       "    </tr>\n",
       "    <tr>\n",
       "      <th>3033-23-6</th>\n",
       "      <td>0</td>\n",
       "      <td>0</td>\n",
       "      <td>0</td>\n",
       "      <td>0</td>\n",
       "      <td>1</td>\n",
       "      <td>0</td>\n",
       "      <td>0</td>\n",
       "      <td>0</td>\n",
       "      <td>1</td>\n",
       "      <td>0</td>\n",
       "      <td>0</td>\n",
       "      <td>0</td>\n",
       "      <td>0</td>\n",
       "      <td>0</td>\n",
       "      <td>0</td>\n",
       "      <td>0</td>\n",
       "    </tr>\n",
       "    <tr>\n",
       "      <th>21284-22-0</th>\n",
       "      <td>0</td>\n",
       "      <td>0</td>\n",
       "      <td>0</td>\n",
       "      <td>0</td>\n",
       "      <td>0</td>\n",
       "      <td>0</td>\n",
       "      <td>0</td>\n",
       "      <td>0</td>\n",
       "      <td>0</td>\n",
       "      <td>0</td>\n",
       "      <td>0</td>\n",
       "      <td>1</td>\n",
       "      <td>0</td>\n",
       "      <td>0</td>\n",
       "      <td>0</td>\n",
       "      <td>0</td>\n",
       "    </tr>\n",
       "    <tr>\n",
       "      <th>38427-78-0</th>\n",
       "      <td>0</td>\n",
       "      <td>0</td>\n",
       "      <td>0</td>\n",
       "      <td>0</td>\n",
       "      <td>0</td>\n",
       "      <td>0</td>\n",
       "      <td>0</td>\n",
       "      <td>0</td>\n",
       "      <td>0</td>\n",
       "      <td>0</td>\n",
       "      <td>0</td>\n",
       "      <td>0</td>\n",
       "      <td>0</td>\n",
       "      <td>0</td>\n",
       "      <td>0</td>\n",
       "      <td>0</td>\n",
       "    </tr>\n",
       "    <tr>\n",
       "      <th>495-61-4</th>\n",
       "      <td>0</td>\n",
       "      <td>0</td>\n",
       "      <td>0</td>\n",
       "      <td>0</td>\n",
       "      <td>0</td>\n",
       "      <td>0</td>\n",
       "      <td>0</td>\n",
       "      <td>0</td>\n",
       "      <td>0</td>\n",
       "      <td>0</td>\n",
       "      <td>0</td>\n",
       "      <td>0</td>\n",
       "      <td>0</td>\n",
       "      <td>0</td>\n",
       "      <td>0</td>\n",
       "      <td>0</td>\n",
       "    </tr>\n",
       "    <tr>\n",
       "      <th>...</th>\n",
       "      <td>...</td>\n",
       "      <td>...</td>\n",
       "      <td>...</td>\n",
       "      <td>...</td>\n",
       "      <td>...</td>\n",
       "      <td>...</td>\n",
       "      <td>...</td>\n",
       "      <td>...</td>\n",
       "      <td>...</td>\n",
       "      <td>...</td>\n",
       "      <td>...</td>\n",
       "      <td>...</td>\n",
       "      <td>...</td>\n",
       "      <td>...</td>\n",
       "      <td>...</td>\n",
       "      <td>...</td>\n",
       "    </tr>\n",
       "    <tr>\n",
       "      <th>713-95-1</th>\n",
       "      <td>0</td>\n",
       "      <td>0</td>\n",
       "      <td>0</td>\n",
       "      <td>0</td>\n",
       "      <td>0</td>\n",
       "      <td>0</td>\n",
       "      <td>0</td>\n",
       "      <td>0</td>\n",
       "      <td>1</td>\n",
       "      <td>0</td>\n",
       "      <td>0</td>\n",
       "      <td>0</td>\n",
       "      <td>0</td>\n",
       "      <td>0</td>\n",
       "      <td>0</td>\n",
       "      <td>0</td>\n",
       "    </tr>\n",
       "    <tr>\n",
       "      <th>20307-84-0</th>\n",
       "      <td>0</td>\n",
       "      <td>0</td>\n",
       "      <td>0</td>\n",
       "      <td>0</td>\n",
       "      <td>0</td>\n",
       "      <td>0</td>\n",
       "      <td>0</td>\n",
       "      <td>0</td>\n",
       "      <td>0</td>\n",
       "      <td>1</td>\n",
       "      <td>0</td>\n",
       "      <td>0</td>\n",
       "      <td>0</td>\n",
       "      <td>0</td>\n",
       "      <td>0</td>\n",
       "      <td>0</td>\n",
       "    </tr>\n",
       "    <tr>\n",
       "      <th>120021-96-7</th>\n",
       "      <td>0</td>\n",
       "      <td>0</td>\n",
       "      <td>0</td>\n",
       "      <td>0</td>\n",
       "      <td>0</td>\n",
       "      <td>0</td>\n",
       "      <td>0</td>\n",
       "      <td>0</td>\n",
       "      <td>0</td>\n",
       "      <td>0</td>\n",
       "      <td>0</td>\n",
       "      <td>0</td>\n",
       "      <td>0</td>\n",
       "      <td>0</td>\n",
       "      <td>0</td>\n",
       "      <td>0</td>\n",
       "    </tr>\n",
       "    <tr>\n",
       "      <th>586-62-9</th>\n",
       "      <td>0</td>\n",
       "      <td>0</td>\n",
       "      <td>0</td>\n",
       "      <td>0</td>\n",
       "      <td>0</td>\n",
       "      <td>0</td>\n",
       "      <td>0</td>\n",
       "      <td>0</td>\n",
       "      <td>0</td>\n",
       "      <td>0</td>\n",
       "      <td>0</td>\n",
       "      <td>0</td>\n",
       "      <td>0</td>\n",
       "      <td>0</td>\n",
       "      <td>0</td>\n",
       "      <td>0</td>\n",
       "    </tr>\n",
       "    <tr>\n",
       "      <th>710-04-3</th>\n",
       "      <td>0</td>\n",
       "      <td>0</td>\n",
       "      <td>0</td>\n",
       "      <td>0</td>\n",
       "      <td>0</td>\n",
       "      <td>0</td>\n",
       "      <td>0</td>\n",
       "      <td>0</td>\n",
       "      <td>0</td>\n",
       "      <td>0</td>\n",
       "      <td>0</td>\n",
       "      <td>0</td>\n",
       "      <td>0</td>\n",
       "      <td>0</td>\n",
       "      <td>0</td>\n",
       "      <td>0</td>\n",
       "    </tr>\n",
       "  </tbody>\n",
       "</table>\n",
       "<p>658 rows × 16 columns</p>\n",
       "</div>"
      ],
      "text/plain": [
       "             Peaty  Feinty  Cereal  Green/grassy  Floral  Fruity  Solvently  \\\n",
       "6485-40-1        0       0       0             0       0       0          0   \n",
       "3033-23-6        0       0       0             0       1       0          0   \n",
       "21284-22-0       0       0       0             0       0       0          0   \n",
       "38427-78-0       0       0       0             0       0       0          0   \n",
       "495-61-4         0       0       0             0       0       0          0   \n",
       "...            ...     ...     ...           ...     ...     ...        ...   \n",
       "713-95-1         0       0       0             0       0       0          0   \n",
       "20307-84-0       0       0       0             0       0       0          0   \n",
       "120021-96-7      0       0       0             0       0       0          0   \n",
       "586-62-9         0       0       0             0       0       0          0   \n",
       "710-04-3         0       0       0             0       0       0          0   \n",
       "\n",
       "             Soapy  Sweet  Woody  Nutty  Spicy  Oily  Sour  Sulphury  Stale  \n",
       "6485-40-1        0      0      0      0      0     0     0         0      0  \n",
       "3033-23-6        0      1      0      0      0     0     0         0      0  \n",
       "21284-22-0       0      0      0      0      1     0     0         0      0  \n",
       "38427-78-0       0      0      0      0      0     0     0         0      0  \n",
       "495-61-4         0      0      0      0      0     0     0         0      0  \n",
       "...            ...    ...    ...    ...    ...   ...   ...       ...    ...  \n",
       "713-95-1         0      1      0      0      0     0     0         0      0  \n",
       "20307-84-0       0      0      1      0      0     0     0         0      0  \n",
       "120021-96-7      0      0      0      0      0     0     0         0      0  \n",
       "586-62-9         0      0      0      0      0     0     0         0      0  \n",
       "710-04-3         0      0      0      0      0     0     0         0      0  \n",
       "\n",
       "[658 rows x 16 columns]"
      ]
     },
     "execution_count": 57,
     "metadata": {},
     "output_type": "execute_result"
    }
   ],
   "source": [
    "OSAs"
   ]
  },
  {
   "cell_type": "code",
   "execution_count": 58,
   "metadata": {},
   "outputs": [
    {
     "data": {
      "text/plain": [
       "Peaty            1\n",
       "Feinty           9\n",
       "Cereal           5\n",
       "Green/grassy    12\n",
       "Floral          16\n",
       "Fruity           2\n",
       "Solvently        3\n",
       "Soapy           12\n",
       "Sweet           67\n",
       "Woody           46\n",
       "Nutty            5\n",
       "Spicy           43\n",
       "Oily             3\n",
       "Sour             2\n",
       "Sulphury         4\n",
       "Stale           14\n",
       "dtype: int64"
      ]
     },
     "execution_count": 58,
     "metadata": {},
     "output_type": "execute_result"
    }
   ],
   "source": [
    "OSAs.sum(axis=0)"
   ]
  },
  {
   "cell_type": "code",
   "execution_count": 59,
   "metadata": {},
   "outputs": [
    {
     "data": {
      "text/plain": [
       "array([[1.15877085],\n",
       "       [0.89527142],\n",
       "       [0.94686057],\n",
       "       [0.81983014],\n",
       "       [1.52390393],\n",
       "       [1.52390393],\n",
       "       [1.08926226],\n",
       "       [1.15877085],\n",
       "       [1.15877085],\n",
       "       [0.89527142],\n",
       "       [1.1923447 ],\n",
       "       [0.81983014],\n",
       "       [1.1923447 ],\n",
       "       [0.78076356],\n",
       "       [1.12404518],\n",
       "       [1.04212523],\n",
       "       [0.80542014],\n",
       "       [1.05563826],\n",
       "       [1.02242923],\n",
       "       [0.80542014],\n",
       "       [1.08926226],\n",
       "       [1.1523065 ],\n",
       "       [1.08926226],\n",
       "       [0.94686057],\n",
       "       [0.73453306],\n",
       "       [0.95986932],\n",
       "       [1.08926226],\n",
       "       [1.289678  ],\n",
       "       [1.15289343],\n",
       "       [1.08926226],\n",
       "       [0.89527142],\n",
       "       [1.15289343],\n",
       "       [1.52390393],\n",
       "       [0.95170974],\n",
       "       [1.1923447 ],\n",
       "       [0.7083681 ],\n",
       "       [0.68370289],\n",
       "       [1.1459109 ],\n",
       "       [1.05563826],\n",
       "       [0.82295116],\n",
       "       [1.15877085],\n",
       "       [1.15877085],\n",
       "       [0.80542014],\n",
       "       [1.12404518],\n",
       "       [1.289678  ],\n",
       "       [1.01215793],\n",
       "       [0.89527142],\n",
       "       [0.88991324],\n",
       "       [0.88991324],\n",
       "       [1.08926226],\n",
       "       [1.08926226],\n",
       "       [1.08926226],\n",
       "       [1.289678  ],\n",
       "       [0.94686057],\n",
       "       [1.15289343],\n",
       "       [1.1923447 ],\n",
       "       [0.89527142],\n",
       "       [1.15289343],\n",
       "       [1.52390393],\n",
       "       [1.25328399],\n",
       "       [0.80542014],\n",
       "       [0.89527142],\n",
       "       [1.15877085],\n",
       "       [0.89527142],\n",
       "       [1.17825166],\n",
       "       [0.9257245 ],\n",
       "       [0.89527142],\n",
       "       [0.94686057],\n",
       "       [0.95514427],\n",
       "       [1.04232747],\n",
       "       [1.04232747],\n",
       "       [1.06635577],\n",
       "       [0.89527142],\n",
       "       [0.89527142],\n",
       "       [0.89527142],\n",
       "       [0.80590145],\n",
       "       [0.78076356],\n",
       "       [1.39656929],\n",
       "       [1.27976259],\n",
       "       [1.27976259],\n",
       "       [0.80542014],\n",
       "       [1.1459109 ],\n",
       "       [1.15877085],\n",
       "       [0.99372137],\n",
       "       [0.78076356],\n",
       "       [1.13503348],\n",
       "       [1.05563826],\n",
       "       [1.05563826],\n",
       "       [0.78076356],\n",
       "       [1.17825166],\n",
       "       [1.17825166],\n",
       "       [1.17825166],\n",
       "       [0.89527142],\n",
       "       [0.99372137],\n",
       "       [1.02242923],\n",
       "       [1.08926226],\n",
       "       [0.80542014],\n",
       "       [1.27976259],\n",
       "       [1.08926226],\n",
       "       [1.23738218],\n",
       "       [1.23738218],\n",
       "       [1.1459109 ],\n",
       "       [1.1459109 ],\n",
       "       [1.45025511],\n",
       "       [1.1923447 ],\n",
       "       [1.15289343],\n",
       "       [1.1459109 ],\n",
       "       [1.05563826],\n",
       "       [1.15289343],\n",
       "       [1.31892613],\n",
       "       [0.80276349],\n",
       "       [1.03471748],\n",
       "       [1.05563826],\n",
       "       [1.33154667],\n",
       "       [1.17825166],\n",
       "       [1.17825166],\n",
       "       [0.73453306],\n",
       "       [0.89527142],\n",
       "       [1.45025511],\n",
       "       [1.1459109 ],\n",
       "       [1.31892613],\n",
       "       [0.92758034],\n",
       "       [1.05563826],\n",
       "       [1.08926226],\n",
       "       [1.27976259],\n",
       "       [1.04212523],\n",
       "       [1.31892613],\n",
       "       [1.1523065 ],\n",
       "       [1.03471748],\n",
       "       [1.17764765],\n",
       "       [1.12815824],\n",
       "       [0.85105755],\n",
       "       [0.82295116],\n",
       "       [1.14404079],\n",
       "       [0.76297858],\n",
       "       [1.1923447 ],\n",
       "       [1.23738218],\n",
       "       [1.33154667],\n",
       "       [1.17825166],\n",
       "       [0.89527142],\n",
       "       [0.89527142],\n",
       "       [0.84032878],\n",
       "       [1.15289343],\n",
       "       [0.9151836 ],\n",
       "       [0.80276349],\n",
       "       [1.33154667],\n",
       "       [1.14404079],\n",
       "       [0.82295116],\n",
       "       [1.23738218],\n",
       "       [1.1459109 ],\n",
       "       [1.289678  ],\n",
       "       [0.99372137],\n",
       "       [0.97424838],\n",
       "       [1.05656739],\n",
       "       [1.22700127],\n",
       "       [0.85105755],\n",
       "       [0.76297858],\n",
       "       [1.17825166],\n",
       "       [1.52390393],\n",
       "       [1.52390393],\n",
       "       [0.89527142],\n",
       "       [1.08926226],\n",
       "       [0.95170974],\n",
       "       [1.23998844],\n",
       "       [0.99372137],\n",
       "       [1.32489693],\n",
       "       [1.15877085],\n",
       "       [1.25328399],\n",
       "       [0.95514427],\n",
       "       [0.82937002],\n",
       "       [0.99372137],\n",
       "       [0.9190513 ],\n",
       "       [1.52390393],\n",
       "       [0.93402747],\n",
       "       [0.89527142],\n",
       "       [0.62551912],\n",
       "       [0.65104643],\n",
       "       [0.98678996],\n",
       "       [0.93742251],\n",
       "       [1.02242923],\n",
       "       [0.94686057],\n",
       "       [1.03471748],\n",
       "       [0.82937002],\n",
       "       [0.97754305],\n",
       "       [1.50735403],\n",
       "       [1.09693988],\n",
       "       [0.81078383],\n",
       "       [0.92758034],\n",
       "       [2.00677377],\n",
       "       [0.82295116],\n",
       "       [0.91699898],\n",
       "       [1.52390393],\n",
       "       [0.94977082],\n",
       "       [1.1923447 ],\n",
       "       [0.89527142],\n",
       "       [1.08926226],\n",
       "       [1.03471748],\n",
       "       [1.08926226],\n",
       "       [0.84032878],\n",
       "       [0.91699898],\n",
       "       [0.91699898],\n",
       "       [0.64029832],\n",
       "       [1.31892613],\n",
       "       [1.05358029],\n",
       "       [1.31892613],\n",
       "       [1.01973804],\n",
       "       [1.289678  ],\n",
       "       [0.89527142],\n",
       "       [1.08926226],\n",
       "       [0.89527142],\n",
       "       [1.15289343],\n",
       "       [1.01215793],\n",
       "       [0.93402747],\n",
       "       [0.93402747],\n",
       "       [0.96864517],\n",
       "       [1.04044997],\n",
       "       [1.05358029],\n",
       "       [1.15877085],\n",
       "       [1.08926226],\n",
       "       [1.08926226],\n",
       "       [1.15289343],\n",
       "       [1.33154667],\n",
       "       [1.50735403],\n",
       "       [0.92758034],\n",
       "       [2.00677377],\n",
       "       [1.50735403],\n",
       "       [1.15877085],\n",
       "       [1.52390393],\n",
       "       [1.12815824],\n",
       "       [0.89723114],\n",
       "       [1.30258713],\n",
       "       [0.80769391],\n",
       "       [0.82135303],\n",
       "       [1.15877085],\n",
       "       [1.15877085],\n",
       "       [0.89527142],\n",
       "       [0.88991324],\n",
       "       [1.15289343],\n",
       "       [1.31892613],\n",
       "       [0.78700234],\n",
       "       [0.94686057],\n",
       "       [1.12340376],\n",
       "       [1.08926226],\n",
       "       [1.25328399],\n",
       "       [1.25328399],\n",
       "       [1.25328399],\n",
       "       [0.90027872],\n",
       "       [1.17825166],\n",
       "       [1.1923447 ],\n",
       "       [0.70707058],\n",
       "       [1.05563826],\n",
       "       [1.33154667],\n",
       "       [1.08926226],\n",
       "       [1.03702813],\n",
       "       [1.03702813],\n",
       "       [0.86844924],\n",
       "       [1.289678  ],\n",
       "       [1.31892613],\n",
       "       [0.77751686],\n",
       "       [0.73453306],\n",
       "       [0.94686057],\n",
       "       [1.02242923],\n",
       "       [0.89527142],\n",
       "       [1.05563826],\n",
       "       [0.80590145],\n",
       "       [1.08926226],\n",
       "       [0.73453306],\n",
       "       [1.289678  ],\n",
       "       [1.6468919 ],\n",
       "       [1.05358029],\n",
       "       [1.26953586],\n",
       "       [1.05358029],\n",
       "       [1.53814608],\n",
       "       [0.80276349],\n",
       "       [0.88991324],\n",
       "       [1.33154667],\n",
       "       [1.1523065 ],\n",
       "       [0.78076356],\n",
       "       [1.15877085],\n",
       "       [1.03471748],\n",
       "       [0.80276349],\n",
       "       [1.15289343],\n",
       "       [2.00677377],\n",
       "       [0.82937002],\n",
       "       [0.92758034],\n",
       "       [1.96088763],\n",
       "       [1.13503348],\n",
       "       [1.1523065 ],\n",
       "       [1.03471748],\n",
       "       [1.13503348],\n",
       "       [1.12815824],\n",
       "       [0.97754305],\n",
       "       [1.31892613],\n",
       "       [0.78076356],\n",
       "       [1.50735403],\n",
       "       [0.97174071],\n",
       "       [0.95986932],\n",
       "       [1.12027054],\n",
       "       [1.25328399],\n",
       "       [0.82295116],\n",
       "       [0.81078383],\n",
       "       [0.98721728],\n",
       "       [0.78076356],\n",
       "       [0.88991324],\n",
       "       [1.31892613],\n",
       "       [1.1923447 ],\n",
       "       [0.94036779],\n",
       "       [1.27976259],\n",
       "       [1.27976259],\n",
       "       [1.30258713],\n",
       "       [0.99372137],\n",
       "       [0.99372137],\n",
       "       [0.94686057],\n",
       "       [0.95986932],\n",
       "       [0.89527142],\n",
       "       [1.17825166],\n",
       "       [1.17825166],\n",
       "       [1.25328399],\n",
       "       [1.04212523],\n",
       "       [1.27976259],\n",
       "       [1.30258713],\n",
       "       [0.80590145],\n",
       "       [1.08926226],\n",
       "       [0.89527142],\n",
       "       [0.88991324],\n",
       "       [0.84032878],\n",
       "       [0.91866671],\n",
       "       [0.93742251],\n",
       "       [0.93742251],\n",
       "       [1.52390393],\n",
       "       [1.52390393],\n",
       "       [1.45025511],\n",
       "       [0.94686057],\n",
       "       [0.97747086],\n",
       "       [0.96864517],\n",
       "       [1.04212523],\n",
       "       [0.80542014],\n",
       "       [1.03471748],\n",
       "       [1.03471748],\n",
       "       [1.03471748],\n",
       "       [1.04212523],\n",
       "       [1.27976259],\n",
       "       [1.27976259],\n",
       "       [2.00677377],\n",
       "       [0.93402747],\n",
       "       [0.64029832],\n",
       "       [0.96864517],\n",
       "       [0.80542014],\n",
       "       [1.12815824],\n",
       "       [1.12027054],\n",
       "       [0.80542014],\n",
       "       [0.80542014],\n",
       "       [1.33154667],\n",
       "       [1.13503348],\n",
       "       [1.50735403],\n",
       "       [2.00677377],\n",
       "       [1.00674295],\n",
       "       [0.97754305],\n",
       "       [1.33154667],\n",
       "       [1.08926226],\n",
       "       [0.91699898],\n",
       "       [1.15877085],\n",
       "       [1.1923447 ],\n",
       "       [0.81983014],\n",
       "       [1.17825166],\n",
       "       [1.12027054],\n",
       "       [1.12027054],\n",
       "       [1.13064828],\n",
       "       [0.78076356],\n",
       "       [0.89527142],\n",
       "       [0.80590145],\n",
       "       [0.73151984],\n",
       "       [1.03471748],\n",
       "       [0.94036779],\n",
       "       [0.82295116],\n",
       "       [1.52390393],\n",
       "       [0.89527142],\n",
       "       [0.95986932],\n",
       "       [0.89527142],\n",
       "       [0.89527142],\n",
       "       [0.82937002],\n",
       "       [1.08926226],\n",
       "       [0.95986932],\n",
       "       [0.78076356],\n",
       "       [0.92758034],\n",
       "       [0.94577534],\n",
       "       [1.08926226],\n",
       "       [0.88991324],\n",
       "       [1.12027054],\n",
       "       [1.15289343],\n",
       "       [2.00677377],\n",
       "       [1.12404518],\n",
       "       [1.00674295],\n",
       "       [0.89527142],\n",
       "       [0.94686057],\n",
       "       [1.1923447 ],\n",
       "       [1.08926226],\n",
       "       [0.89527142],\n",
       "       [1.289678  ],\n",
       "       [0.88991324],\n",
       "       [0.91866671],\n",
       "       [0.80590145],\n",
       "       [0.93742251],\n",
       "       [0.93742251],\n",
       "       [1.25328399],\n",
       "       [1.23998844],\n",
       "       [1.05563826],\n",
       "       [0.89527142],\n",
       "       [0.89527142],\n",
       "       [1.53814608],\n",
       "       [1.12815824],\n",
       "       [1.05358029],\n",
       "       [1.1523065 ],\n",
       "       [1.12815824],\n",
       "       [1.12815824],\n",
       "       [1.53814608],\n",
       "       [1.23998844],\n",
       "       [1.31892613],\n",
       "       [1.30258713],\n",
       "       [1.14404079],\n",
       "       [1.14404079],\n",
       "       [0.78076356],\n",
       "       [1.12340376],\n",
       "       [1.1923447 ],\n",
       "       [1.12027054],\n",
       "       [1.09733036],\n",
       "       [1.09733036],\n",
       "       [1.33154667],\n",
       "       [1.00674295],\n",
       "       [0.95514427],\n",
       "       [1.15522088],\n",
       "       [0.82937002],\n",
       "       [1.33154667],\n",
       "       [0.80590145],\n",
       "       [0.78076356],\n",
       "       [0.91866671],\n",
       "       [0.98721728],\n",
       "       [1.03471748],\n",
       "       [1.03471748],\n",
       "       [1.12027054],\n",
       "       [1.50735403],\n",
       "       [0.94577534],\n",
       "       [0.92758034],\n",
       "       [1.13503348],\n",
       "       [1.08926226],\n",
       "       [0.64029832],\n",
       "       [0.80590145],\n",
       "       [1.12027054],\n",
       "       [1.12027054],\n",
       "       [1.1523065 ],\n",
       "       [1.03471748],\n",
       "       [1.03471748],\n",
       "       [1.14404079],\n",
       "       [1.25328399],\n",
       "       [0.99372137],\n",
       "       [0.99372137],\n",
       "       [1.04212523],\n",
       "       [0.70707058],\n",
       "       [1.02242923],\n",
       "       [1.17825166],\n",
       "       [1.289678  ],\n",
       "       [1.12027054],\n",
       "       [0.80542014],\n",
       "       [1.12815824],\n",
       "       [1.04140013],\n",
       "       [1.1923447 ],\n",
       "       [0.95170974],\n",
       "       [1.15877085],\n",
       "       [0.70707058],\n",
       "       [1.15289343],\n",
       "       [1.08926226],\n",
       "       [0.89527142],\n",
       "       [1.08926226],\n",
       "       [0.94686057],\n",
       "       [0.88991324],\n",
       "       [1.12340376],\n",
       "       [0.81915803],\n",
       "       [1.05563826],\n",
       "       [1.33154667],\n",
       "       [0.70707058],\n",
       "       [0.92758034],\n",
       "       [1.13503348],\n",
       "       [1.33154667],\n",
       "       [1.05563826],\n",
       "       [1.05563826],\n",
       "       [1.00674295],\n",
       "       [1.04212523],\n",
       "       [1.32489693],\n",
       "       [1.25328399],\n",
       "       [1.23998844],\n",
       "       [1.1923447 ],\n",
       "       [1.1923447 ],\n",
       "       [0.81915803],\n",
       "       [0.83997318],\n",
       "       [1.45025511],\n",
       "       [0.70707058],\n",
       "       [1.04212523],\n",
       "       [1.13503348],\n",
       "       [0.78076356],\n",
       "       [0.78076356],\n",
       "       [0.70707058],\n",
       "       [0.70707058],\n",
       "       [1.13503348],\n",
       "       [0.70707058],\n",
       "       [0.70707058],\n",
       "       [1.17825166],\n",
       "       [1.50735403],\n",
       "       [0.77751686],\n",
       "       [0.82135303],\n",
       "       [1.289678  ],\n",
       "       [0.89527142],\n",
       "       [1.1923447 ],\n",
       "       [1.1459109 ],\n",
       "       [0.95986932],\n",
       "       [1.25328399],\n",
       "       [1.31892613],\n",
       "       [1.15877085],\n",
       "       [0.99372137],\n",
       "       [0.89527142],\n",
       "       [0.88991324],\n",
       "       [1.02242923],\n",
       "       [1.02242923],\n",
       "       [1.02242923],\n",
       "       [1.02242923],\n",
       "       [1.31892613],\n",
       "       [1.289678  ],\n",
       "       [1.31892613],\n",
       "       [1.15877085],\n",
       "       [0.96864517],\n",
       "       [0.78076356],\n",
       "       [0.93402747],\n",
       "       [0.95514427],\n",
       "       [1.12027054],\n",
       "       [0.92758034],\n",
       "       [1.50735403],\n",
       "       [1.1459109 ],\n",
       "       [1.22700127],\n",
       "       [0.81915803],\n",
       "       [1.15877085],\n",
       "       [1.15877085],\n",
       "       [1.15877085],\n",
       "       [1.29638653],\n",
       "       [1.1923447 ],\n",
       "       [1.14404079],\n",
       "       [0.93402747],\n",
       "       [1.1459109 ],\n",
       "       [0.97747086],\n",
       "       [1.08926226],\n",
       "       [1.08926226],\n",
       "       [0.89527142],\n",
       "       [1.08926226],\n",
       "       [0.36812512],\n",
       "       [1.04232747],\n",
       "       [0.78076356],\n",
       "       [0.92758034],\n",
       "       [1.03471748],\n",
       "       [1.02242923],\n",
       "       [0.95986932],\n",
       "       [1.15289343],\n",
       "       [1.1923447 ],\n",
       "       [1.15877085],\n",
       "       [1.09733036],\n",
       "       [1.52390393],\n",
       "       [1.082797  ],\n",
       "       [0.70707058],\n",
       "       [0.91699898],\n",
       "       [0.72566742],\n",
       "       [1.53814608],\n",
       "       [1.1459109 ],\n",
       "       [1.17281057],\n",
       "       [0.89527142],\n",
       "       [0.94686057],\n",
       "       [0.88991324],\n",
       "       [1.01215793],\n",
       "       [0.98721728],\n",
       "       [0.95514427],\n",
       "       [0.78076356],\n",
       "       [0.89527142],\n",
       "       [0.77623681],\n",
       "       [1.01215793],\n",
       "       [1.12404518],\n",
       "       [2.00677377],\n",
       "       [0.99372137],\n",
       "       [0.98678996],\n",
       "       [0.98678996],\n",
       "       [0.85105755],\n",
       "       [0.94686057],\n",
       "       [1.289678  ],\n",
       "       [1.15289343],\n",
       "       [1.50735403],\n",
       "       [1.289678  ],\n",
       "       [1.00674295],\n",
       "       [1.52390393],\n",
       "       [1.08926226],\n",
       "       [0.94686057],\n",
       "       [0.82295116],\n",
       "       [0.94686057],\n",
       "       [0.94686057],\n",
       "       [0.94686057],\n",
       "       [2.00677377],\n",
       "       [0.94686057],\n",
       "       [1.52390393],\n",
       "       [1.52390393],\n",
       "       [0.94977082],\n",
       "       [1.52390393],\n",
       "       [0.89527142],\n",
       "       [1.52390393],\n",
       "       [1.52390393],\n",
       "       [1.52390393],\n",
       "       [0.95170974],\n",
       "       [1.52390393],\n",
       "       [1.1523065 ],\n",
       "       [1.1923447 ],\n",
       "       [1.1923447 ],\n",
       "       [1.1923447 ],\n",
       "       [0.89527142],\n",
       "       [1.1923447 ],\n",
       "       [1.52390393],\n",
       "       [0.94686057],\n",
       "       [1.1923447 ],\n",
       "       [1.52390393],\n",
       "       [0.94686057],\n",
       "       [1.52390393],\n",
       "       [1.08926226],\n",
       "       [0.89723114],\n",
       "       [1.52390393],\n",
       "       [0.94686057],\n",
       "       [1.52390393],\n",
       "       [0.94686057],\n",
       "       [1.52390393],\n",
       "       [0.95170974],\n",
       "       [1.1923447 ],\n",
       "       [0.95986932],\n",
       "       [1.1923447 ],\n",
       "       [1.52390393],\n",
       "       [1.52390393],\n",
       "       [0.81983014],\n",
       "       [0.89527142],\n",
       "       [1.52390393],\n",
       "       [1.289678  ],\n",
       "       [1.01215793],\n",
       "       [0.70707058],\n",
       "       [1.52390393],\n",
       "       [1.15289343],\n",
       "       [1.33154667],\n",
       "       [1.52390393],\n",
       "       [1.1923447 ],\n",
       "       [1.12404518],\n",
       "       [1.1923447 ],\n",
       "       [1.52390393],\n",
       "       [0.94686057],\n",
       "       [1.289678  ],\n",
       "       [1.289678  ],\n",
       "       [1.01215793],\n",
       "       [1.52390393],\n",
       "       [1.52390393],\n",
       "       [1.1923447 ],\n",
       "       [1.12404518]])"
      ]
     },
     "execution_count": 59,
     "metadata": {},
     "output_type": "execute_result"
    }
   ],
   "source": [
    "I_vector_normalized"
   ]
  },
  {
   "cell_type": "code",
   "execution_count": 60,
   "metadata": {},
   "outputs": [
    {
     "data": {
      "text/html": [
       "<div>\n",
       "<style scoped>\n",
       "    .dataframe tbody tr th:only-of-type {\n",
       "        vertical-align: middle;\n",
       "    }\n",
       "\n",
       "    .dataframe tbody tr th {\n",
       "        vertical-align: top;\n",
       "    }\n",
       "\n",
       "    .dataframe thead th {\n",
       "        text-align: right;\n",
       "    }\n",
       "</style>\n",
       "<table border=\"1\" class=\"dataframe\">\n",
       "  <thead>\n",
       "    <tr style=\"text-align: right;\">\n",
       "      <th></th>\n",
       "      <th>Peaty</th>\n",
       "      <th>Feinty</th>\n",
       "      <th>Cereal</th>\n",
       "      <th>Green/grassy</th>\n",
       "      <th>Floral</th>\n",
       "      <th>Fruity</th>\n",
       "      <th>Solvently</th>\n",
       "      <th>Soapy</th>\n",
       "      <th>Sweet</th>\n",
       "      <th>Woody</th>\n",
       "      <th>Nutty</th>\n",
       "      <th>Spicy</th>\n",
       "      <th>Oily</th>\n",
       "      <th>Sour</th>\n",
       "      <th>Sulphury</th>\n",
       "      <th>Stale</th>\n",
       "    </tr>\n",
       "  </thead>\n",
       "  <tbody>\n",
       "    <tr>\n",
       "      <th>6485-40-1</th>\n",
       "      <td>0</td>\n",
       "      <td>0</td>\n",
       "      <td>0</td>\n",
       "      <td>0</td>\n",
       "      <td>0</td>\n",
       "      <td>0</td>\n",
       "      <td>0</td>\n",
       "      <td>0</td>\n",
       "      <td>0</td>\n",
       "      <td>0</td>\n",
       "      <td>0</td>\n",
       "      <td>0</td>\n",
       "      <td>0</td>\n",
       "      <td>0</td>\n",
       "      <td>0</td>\n",
       "      <td>0</td>\n",
       "    </tr>\n",
       "    <tr>\n",
       "      <th>3033-23-6</th>\n",
       "      <td>0</td>\n",
       "      <td>0</td>\n",
       "      <td>0</td>\n",
       "      <td>0</td>\n",
       "      <td>1</td>\n",
       "      <td>0</td>\n",
       "      <td>0</td>\n",
       "      <td>0</td>\n",
       "      <td>1</td>\n",
       "      <td>0</td>\n",
       "      <td>0</td>\n",
       "      <td>0</td>\n",
       "      <td>0</td>\n",
       "      <td>0</td>\n",
       "      <td>0</td>\n",
       "      <td>0</td>\n",
       "    </tr>\n",
       "    <tr>\n",
       "      <th>21284-22-0</th>\n",
       "      <td>0</td>\n",
       "      <td>0</td>\n",
       "      <td>0</td>\n",
       "      <td>0</td>\n",
       "      <td>0</td>\n",
       "      <td>0</td>\n",
       "      <td>0</td>\n",
       "      <td>0</td>\n",
       "      <td>0</td>\n",
       "      <td>0</td>\n",
       "      <td>0</td>\n",
       "      <td>1</td>\n",
       "      <td>0</td>\n",
       "      <td>0</td>\n",
       "      <td>0</td>\n",
       "      <td>0</td>\n",
       "    </tr>\n",
       "    <tr>\n",
       "      <th>38427-78-0</th>\n",
       "      <td>0</td>\n",
       "      <td>0</td>\n",
       "      <td>0</td>\n",
       "      <td>0</td>\n",
       "      <td>0</td>\n",
       "      <td>0</td>\n",
       "      <td>0</td>\n",
       "      <td>0</td>\n",
       "      <td>0</td>\n",
       "      <td>0</td>\n",
       "      <td>0</td>\n",
       "      <td>0</td>\n",
       "      <td>0</td>\n",
       "      <td>0</td>\n",
       "      <td>0</td>\n",
       "      <td>0</td>\n",
       "    </tr>\n",
       "    <tr>\n",
       "      <th>495-61-4</th>\n",
       "      <td>0</td>\n",
       "      <td>0</td>\n",
       "      <td>0</td>\n",
       "      <td>0</td>\n",
       "      <td>0</td>\n",
       "      <td>0</td>\n",
       "      <td>0</td>\n",
       "      <td>0</td>\n",
       "      <td>0</td>\n",
       "      <td>0</td>\n",
       "      <td>0</td>\n",
       "      <td>0</td>\n",
       "      <td>0</td>\n",
       "      <td>0</td>\n",
       "      <td>0</td>\n",
       "      <td>0</td>\n",
       "    </tr>\n",
       "    <tr>\n",
       "      <th>...</th>\n",
       "      <td>...</td>\n",
       "      <td>...</td>\n",
       "      <td>...</td>\n",
       "      <td>...</td>\n",
       "      <td>...</td>\n",
       "      <td>...</td>\n",
       "      <td>...</td>\n",
       "      <td>...</td>\n",
       "      <td>...</td>\n",
       "      <td>...</td>\n",
       "      <td>...</td>\n",
       "      <td>...</td>\n",
       "      <td>...</td>\n",
       "      <td>...</td>\n",
       "      <td>...</td>\n",
       "      <td>...</td>\n",
       "    </tr>\n",
       "    <tr>\n",
       "      <th>713-95-1</th>\n",
       "      <td>0</td>\n",
       "      <td>0</td>\n",
       "      <td>0</td>\n",
       "      <td>0</td>\n",
       "      <td>0</td>\n",
       "      <td>0</td>\n",
       "      <td>0</td>\n",
       "      <td>0</td>\n",
       "      <td>1</td>\n",
       "      <td>0</td>\n",
       "      <td>0</td>\n",
       "      <td>0</td>\n",
       "      <td>0</td>\n",
       "      <td>0</td>\n",
       "      <td>0</td>\n",
       "      <td>0</td>\n",
       "    </tr>\n",
       "    <tr>\n",
       "      <th>20307-84-0</th>\n",
       "      <td>0</td>\n",
       "      <td>0</td>\n",
       "      <td>0</td>\n",
       "      <td>0</td>\n",
       "      <td>0</td>\n",
       "      <td>0</td>\n",
       "      <td>0</td>\n",
       "      <td>0</td>\n",
       "      <td>0</td>\n",
       "      <td>1</td>\n",
       "      <td>0</td>\n",
       "      <td>0</td>\n",
       "      <td>0</td>\n",
       "      <td>0</td>\n",
       "      <td>0</td>\n",
       "      <td>0</td>\n",
       "    </tr>\n",
       "    <tr>\n",
       "      <th>120021-96-7</th>\n",
       "      <td>0</td>\n",
       "      <td>0</td>\n",
       "      <td>0</td>\n",
       "      <td>0</td>\n",
       "      <td>0</td>\n",
       "      <td>0</td>\n",
       "      <td>0</td>\n",
       "      <td>0</td>\n",
       "      <td>0</td>\n",
       "      <td>0</td>\n",
       "      <td>0</td>\n",
       "      <td>0</td>\n",
       "      <td>0</td>\n",
       "      <td>0</td>\n",
       "      <td>0</td>\n",
       "      <td>0</td>\n",
       "    </tr>\n",
       "    <tr>\n",
       "      <th>586-62-9</th>\n",
       "      <td>0</td>\n",
       "      <td>0</td>\n",
       "      <td>0</td>\n",
       "      <td>0</td>\n",
       "      <td>0</td>\n",
       "      <td>0</td>\n",
       "      <td>0</td>\n",
       "      <td>0</td>\n",
       "      <td>0</td>\n",
       "      <td>0</td>\n",
       "      <td>0</td>\n",
       "      <td>0</td>\n",
       "      <td>0</td>\n",
       "      <td>0</td>\n",
       "      <td>0</td>\n",
       "      <td>0</td>\n",
       "    </tr>\n",
       "    <tr>\n",
       "      <th>710-04-3</th>\n",
       "      <td>0</td>\n",
       "      <td>0</td>\n",
       "      <td>0</td>\n",
       "      <td>0</td>\n",
       "      <td>0</td>\n",
       "      <td>0</td>\n",
       "      <td>0</td>\n",
       "      <td>0</td>\n",
       "      <td>0</td>\n",
       "      <td>0</td>\n",
       "      <td>0</td>\n",
       "      <td>0</td>\n",
       "      <td>0</td>\n",
       "      <td>0</td>\n",
       "      <td>0</td>\n",
       "      <td>0</td>\n",
       "    </tr>\n",
       "  </tbody>\n",
       "</table>\n",
       "<p>658 rows × 16 columns</p>\n",
       "</div>"
      ],
      "text/plain": [
       "             Peaty  Feinty  Cereal  Green/grassy  Floral  Fruity  Solvently  \\\n",
       "6485-40-1        0       0       0             0       0       0          0   \n",
       "3033-23-6        0       0       0             0       1       0          0   \n",
       "21284-22-0       0       0       0             0       0       0          0   \n",
       "38427-78-0       0       0       0             0       0       0          0   \n",
       "495-61-4         0       0       0             0       0       0          0   \n",
       "...            ...     ...     ...           ...     ...     ...        ...   \n",
       "713-95-1         0       0       0             0       0       0          0   \n",
       "20307-84-0       0       0       0             0       0       0          0   \n",
       "120021-96-7      0       0       0             0       0       0          0   \n",
       "586-62-9         0       0       0             0       0       0          0   \n",
       "710-04-3         0       0       0             0       0       0          0   \n",
       "\n",
       "             Soapy  Sweet  Woody  Nutty  Spicy  Oily  Sour  Sulphury  Stale  \n",
       "6485-40-1        0      0      0      0      0     0     0         0      0  \n",
       "3033-23-6        0      1      0      0      0     0     0         0      0  \n",
       "21284-22-0       0      0      0      0      1     0     0         0      0  \n",
       "38427-78-0       0      0      0      0      0     0     0         0      0  \n",
       "495-61-4         0      0      0      0      0     0     0         0      0  \n",
       "...            ...    ...    ...    ...    ...   ...   ...       ...    ...  \n",
       "713-95-1         0      1      0      0      0     0     0         0      0  \n",
       "20307-84-0       0      0      1      0      0     0     0         0      0  \n",
       "120021-96-7      0      0      0      0      0     0     0         0      0  \n",
       "586-62-9         0      0      0      0      0     0     0         0      0  \n",
       "710-04-3         0      0      0      0      0     0     0         0      0  \n",
       "\n",
       "[658 rows x 16 columns]"
      ]
     },
     "execution_count": 60,
     "metadata": {},
     "output_type": "execute_result"
    }
   ],
   "source": [
    "OSAs"
   ]
  },
  {
   "cell_type": "code",
   "execution_count": 115,
   "metadata": {},
   "outputs": [
    {
     "data": {
      "text/html": [
       "<div>\n",
       "<style scoped>\n",
       "    .dataframe tbody tr th:only-of-type {\n",
       "        vertical-align: middle;\n",
       "    }\n",
       "\n",
       "    .dataframe tbody tr th {\n",
       "        vertical-align: top;\n",
       "    }\n",
       "\n",
       "    .dataframe thead th {\n",
       "        text-align: right;\n",
       "    }\n",
       "</style>\n",
       "<table border=\"1\" class=\"dataframe\">\n",
       "  <thead>\n",
       "    <tr style=\"text-align: right;\">\n",
       "      <th></th>\n",
       "      <th>Peaty</th>\n",
       "      <th>Feinty</th>\n",
       "      <th>Cereal</th>\n",
       "      <th>Green/grassy</th>\n",
       "      <th>Floral</th>\n",
       "      <th>Fruity</th>\n",
       "      <th>Solvently</th>\n",
       "      <th>Soapy</th>\n",
       "      <th>Sweet</th>\n",
       "      <th>Woody</th>\n",
       "      <th>Nutty</th>\n",
       "      <th>Spicy</th>\n",
       "      <th>Oily</th>\n",
       "      <th>Sour</th>\n",
       "      <th>Sulphury</th>\n",
       "      <th>Stale</th>\n",
       "    </tr>\n",
       "  </thead>\n",
       "  <tbody>\n",
       "    <tr>\n",
       "      <th>6485-40-1</th>\n",
       "      <td>0.0</td>\n",
       "      <td>0.0</td>\n",
       "      <td>0.0</td>\n",
       "      <td>0.0</td>\n",
       "      <td>0.000000</td>\n",
       "      <td>0.0</td>\n",
       "      <td>0.0</td>\n",
       "      <td>0.0</td>\n",
       "      <td>0.000000</td>\n",
       "      <td>0.000000</td>\n",
       "      <td>0.0</td>\n",
       "      <td>0.000000</td>\n",
       "      <td>0.0</td>\n",
       "      <td>0.0</td>\n",
       "      <td>0.0</td>\n",
       "      <td>0.0</td>\n",
       "    </tr>\n",
       "    <tr>\n",
       "      <th>3033-23-6</th>\n",
       "      <td>0.0</td>\n",
       "      <td>0.0</td>\n",
       "      <td>0.0</td>\n",
       "      <td>0.0</td>\n",
       "      <td>0.895271</td>\n",
       "      <td>0.0</td>\n",
       "      <td>0.0</td>\n",
       "      <td>0.0</td>\n",
       "      <td>0.895271</td>\n",
       "      <td>0.000000</td>\n",
       "      <td>0.0</td>\n",
       "      <td>0.000000</td>\n",
       "      <td>0.0</td>\n",
       "      <td>0.0</td>\n",
       "      <td>0.0</td>\n",
       "      <td>0.0</td>\n",
       "    </tr>\n",
       "    <tr>\n",
       "      <th>21284-22-0</th>\n",
       "      <td>0.0</td>\n",
       "      <td>0.0</td>\n",
       "      <td>0.0</td>\n",
       "      <td>0.0</td>\n",
       "      <td>0.000000</td>\n",
       "      <td>0.0</td>\n",
       "      <td>0.0</td>\n",
       "      <td>0.0</td>\n",
       "      <td>0.000000</td>\n",
       "      <td>0.000000</td>\n",
       "      <td>0.0</td>\n",
       "      <td>0.946861</td>\n",
       "      <td>0.0</td>\n",
       "      <td>0.0</td>\n",
       "      <td>0.0</td>\n",
       "      <td>0.0</td>\n",
       "    </tr>\n",
       "    <tr>\n",
       "      <th>38427-78-0</th>\n",
       "      <td>0.0</td>\n",
       "      <td>0.0</td>\n",
       "      <td>0.0</td>\n",
       "      <td>0.0</td>\n",
       "      <td>0.000000</td>\n",
       "      <td>0.0</td>\n",
       "      <td>0.0</td>\n",
       "      <td>0.0</td>\n",
       "      <td>0.000000</td>\n",
       "      <td>0.000000</td>\n",
       "      <td>0.0</td>\n",
       "      <td>0.000000</td>\n",
       "      <td>0.0</td>\n",
       "      <td>0.0</td>\n",
       "      <td>0.0</td>\n",
       "      <td>0.0</td>\n",
       "    </tr>\n",
       "    <tr>\n",
       "      <th>495-61-4</th>\n",
       "      <td>0.0</td>\n",
       "      <td>0.0</td>\n",
       "      <td>0.0</td>\n",
       "      <td>0.0</td>\n",
       "      <td>0.000000</td>\n",
       "      <td>0.0</td>\n",
       "      <td>0.0</td>\n",
       "      <td>0.0</td>\n",
       "      <td>0.000000</td>\n",
       "      <td>0.000000</td>\n",
       "      <td>0.0</td>\n",
       "      <td>0.000000</td>\n",
       "      <td>0.0</td>\n",
       "      <td>0.0</td>\n",
       "      <td>0.0</td>\n",
       "      <td>0.0</td>\n",
       "    </tr>\n",
       "    <tr>\n",
       "      <th>...</th>\n",
       "      <td>...</td>\n",
       "      <td>...</td>\n",
       "      <td>...</td>\n",
       "      <td>...</td>\n",
       "      <td>...</td>\n",
       "      <td>...</td>\n",
       "      <td>...</td>\n",
       "      <td>...</td>\n",
       "      <td>...</td>\n",
       "      <td>...</td>\n",
       "      <td>...</td>\n",
       "      <td>...</td>\n",
       "      <td>...</td>\n",
       "      <td>...</td>\n",
       "      <td>...</td>\n",
       "      <td>...</td>\n",
       "    </tr>\n",
       "    <tr>\n",
       "      <th>713-95-1</th>\n",
       "      <td>0.0</td>\n",
       "      <td>0.0</td>\n",
       "      <td>0.0</td>\n",
       "      <td>0.0</td>\n",
       "      <td>0.000000</td>\n",
       "      <td>0.0</td>\n",
       "      <td>0.0</td>\n",
       "      <td>0.0</td>\n",
       "      <td>1.012158</td>\n",
       "      <td>0.000000</td>\n",
       "      <td>0.0</td>\n",
       "      <td>0.000000</td>\n",
       "      <td>0.0</td>\n",
       "      <td>0.0</td>\n",
       "      <td>0.0</td>\n",
       "      <td>0.0</td>\n",
       "    </tr>\n",
       "    <tr>\n",
       "      <th>20307-84-0</th>\n",
       "      <td>0.0</td>\n",
       "      <td>0.0</td>\n",
       "      <td>0.0</td>\n",
       "      <td>0.0</td>\n",
       "      <td>0.000000</td>\n",
       "      <td>0.0</td>\n",
       "      <td>0.0</td>\n",
       "      <td>0.0</td>\n",
       "      <td>0.000000</td>\n",
       "      <td>1.523904</td>\n",
       "      <td>0.0</td>\n",
       "      <td>0.000000</td>\n",
       "      <td>0.0</td>\n",
       "      <td>0.0</td>\n",
       "      <td>0.0</td>\n",
       "      <td>0.0</td>\n",
       "    </tr>\n",
       "    <tr>\n",
       "      <th>120021-96-7</th>\n",
       "      <td>0.0</td>\n",
       "      <td>0.0</td>\n",
       "      <td>0.0</td>\n",
       "      <td>0.0</td>\n",
       "      <td>0.000000</td>\n",
       "      <td>0.0</td>\n",
       "      <td>0.0</td>\n",
       "      <td>0.0</td>\n",
       "      <td>0.000000</td>\n",
       "      <td>0.000000</td>\n",
       "      <td>0.0</td>\n",
       "      <td>0.000000</td>\n",
       "      <td>0.0</td>\n",
       "      <td>0.0</td>\n",
       "      <td>0.0</td>\n",
       "      <td>0.0</td>\n",
       "    </tr>\n",
       "    <tr>\n",
       "      <th>586-62-9</th>\n",
       "      <td>0.0</td>\n",
       "      <td>0.0</td>\n",
       "      <td>0.0</td>\n",
       "      <td>0.0</td>\n",
       "      <td>0.000000</td>\n",
       "      <td>0.0</td>\n",
       "      <td>0.0</td>\n",
       "      <td>0.0</td>\n",
       "      <td>0.000000</td>\n",
       "      <td>0.000000</td>\n",
       "      <td>0.0</td>\n",
       "      <td>0.000000</td>\n",
       "      <td>0.0</td>\n",
       "      <td>0.0</td>\n",
       "      <td>0.0</td>\n",
       "      <td>0.0</td>\n",
       "    </tr>\n",
       "    <tr>\n",
       "      <th>710-04-3</th>\n",
       "      <td>0.0</td>\n",
       "      <td>0.0</td>\n",
       "      <td>0.0</td>\n",
       "      <td>0.0</td>\n",
       "      <td>0.000000</td>\n",
       "      <td>0.0</td>\n",
       "      <td>0.0</td>\n",
       "      <td>0.0</td>\n",
       "      <td>0.000000</td>\n",
       "      <td>0.000000</td>\n",
       "      <td>0.0</td>\n",
       "      <td>0.000000</td>\n",
       "      <td>0.0</td>\n",
       "      <td>0.0</td>\n",
       "      <td>0.0</td>\n",
       "      <td>0.0</td>\n",
       "    </tr>\n",
       "  </tbody>\n",
       "</table>\n",
       "<p>658 rows × 16 columns</p>\n",
       "</div>"
      ],
      "text/plain": [
       "             Peaty  Feinty  Cereal  Green/grassy    Floral  Fruity  Solvently  \\\n",
       "6485-40-1      0.0     0.0     0.0           0.0  0.000000     0.0        0.0   \n",
       "3033-23-6      0.0     0.0     0.0           0.0  0.895271     0.0        0.0   \n",
       "21284-22-0     0.0     0.0     0.0           0.0  0.000000     0.0        0.0   \n",
       "38427-78-0     0.0     0.0     0.0           0.0  0.000000     0.0        0.0   \n",
       "495-61-4       0.0     0.0     0.0           0.0  0.000000     0.0        0.0   \n",
       "...            ...     ...     ...           ...       ...     ...        ...   \n",
       "713-95-1       0.0     0.0     0.0           0.0  0.000000     0.0        0.0   \n",
       "20307-84-0     0.0     0.0     0.0           0.0  0.000000     0.0        0.0   \n",
       "120021-96-7    0.0     0.0     0.0           0.0  0.000000     0.0        0.0   \n",
       "586-62-9       0.0     0.0     0.0           0.0  0.000000     0.0        0.0   \n",
       "710-04-3       0.0     0.0     0.0           0.0  0.000000     0.0        0.0   \n",
       "\n",
       "             Soapy     Sweet     Woody  Nutty     Spicy  Oily  Sour  Sulphury  \\\n",
       "6485-40-1      0.0  0.000000  0.000000    0.0  0.000000   0.0   0.0       0.0   \n",
       "3033-23-6      0.0  0.895271  0.000000    0.0  0.000000   0.0   0.0       0.0   \n",
       "21284-22-0     0.0  0.000000  0.000000    0.0  0.946861   0.0   0.0       0.0   \n",
       "38427-78-0     0.0  0.000000  0.000000    0.0  0.000000   0.0   0.0       0.0   \n",
       "495-61-4       0.0  0.000000  0.000000    0.0  0.000000   0.0   0.0       0.0   \n",
       "...            ...       ...       ...    ...       ...   ...   ...       ...   \n",
       "713-95-1       0.0  1.012158  0.000000    0.0  0.000000   0.0   0.0       0.0   \n",
       "20307-84-0     0.0  0.000000  1.523904    0.0  0.000000   0.0   0.0       0.0   \n",
       "120021-96-7    0.0  0.000000  0.000000    0.0  0.000000   0.0   0.0       0.0   \n",
       "586-62-9       0.0  0.000000  0.000000    0.0  0.000000   0.0   0.0       0.0   \n",
       "710-04-3       0.0  0.000000  0.000000    0.0  0.000000   0.0   0.0       0.0   \n",
       "\n",
       "             Stale  \n",
       "6485-40-1      0.0  \n",
       "3033-23-6      0.0  \n",
       "21284-22-0     0.0  \n",
       "38427-78-0     0.0  \n",
       "495-61-4       0.0  \n",
       "...            ...  \n",
       "713-95-1       0.0  \n",
       "20307-84-0     0.0  \n",
       "120021-96-7    0.0  \n",
       "586-62-9       0.0  \n",
       "710-04-3       0.0  \n",
       "\n",
       "[658 rows x 16 columns]"
      ]
     },
     "execution_count": 115,
     "metadata": {},
     "output_type": "execute_result"
    }
   ],
   "source": [
    "final_OSA = OSAs*I_vector_normalized\n",
    "final_OSA"
   ]
  },
  {
   "cell_type": "code",
   "execution_count": 116,
   "metadata": {},
   "outputs": [
    {
     "data": {
      "text/plain": [
       "Peaty            0.707071\n",
       "Feinty           9.706490\n",
       "Cereal           4.490041\n",
       "Green/grassy    13.187119\n",
       "Floral          15.000616\n",
       "Fruity           2.109508\n",
       "Solvently        3.188952\n",
       "Soapy           11.399934\n",
       "Sweet           71.329696\n",
       "Woody           58.895719\n",
       "Nutty            5.520885\n",
       "Spicy           47.365698\n",
       "Oily             3.213341\n",
       "Sour             2.173851\n",
       "Sulphury         4.160303\n",
       "Stale           13.913653\n",
       "dtype: float64"
      ]
     },
     "execution_count": 116,
     "metadata": {},
     "output_type": "execute_result"
    }
   ],
   "source": [
    "final_OSA.sum(axis=0)"
   ]
  },
  {
   "attachments": {},
   "cell_type": "markdown",
   "metadata": {},
   "source": [
    "#### 4.2 Fuzzy Logic \n",
    "Use Fuzzy logic to weight OQ with expert knowledge/Intensity from Masspec\n"
   ]
  },
  {
   "cell_type": "code",
   "execution_count": 63,
   "metadata": {},
   "outputs": [
    {
     "data": {
      "text/plain": [
       "{'Peaty': ['Burnt', 'Smoky', 'Medicinal', 'Peaty'],\n",
       " 'Feinty': ['Leathery', 'Tobacco', 'Sweaty', 'Feinty'],\n",
       " 'Cereal': ['Dry cereals', 'Wet cereals', 'Cereal'],\n",
       " 'Green/grassy': ['leafy', 'Herbal', 'Green vegetables', 'Green/grassy'],\n",
       " 'Floral': ['Fresh flowers', 'Perfumed', 'Floral'],\n",
       " 'Fruity': ['Fresh fruit',\n",
       "  'Dried fruit',\n",
       "  'Citrus',\n",
       "  'Artificial fruit flavourings',\n",
       "  'Fruity'],\n",
       " 'Solvently': ['Nail varnish remover', 'Solvently'],\n",
       " 'Soapy': ['Unperfumed soap', 'Soapy'],\n",
       " 'Sweet': ['Vanilla', 'Honey', 'Toffee', 'Sweet'],\n",
       " 'Woody': ['New wood', 'Okay', 'Woody'],\n",
       " 'Nutty': ['Coconut', 'Nuts', 'Toasted', 'Nutty'],\n",
       " 'Spicy': ['Dried spice', 'Peppery', 'Spicy'],\n",
       " 'Oily': ['Buttery ', 'Waxy', 'Oils/fats', 'Oily'],\n",
       " 'Sour': ['Vinegary', 'Cheesy', 'Vomit', 'Sour'],\n",
       " 'Sulphury': ['Cooked vegetables ',\n",
       "  'Rubbery',\n",
       "  'Struck match ',\n",
       "  'Decaying',\n",
       "  'Meaty ',\n",
       "  'Sulphury'],\n",
       " 'Stale': ['Earthy', 'Musty', 'Metallic', 'Stale']}"
      ]
     },
     "execution_count": 63,
     "metadata": {},
     "output_type": "execute_result"
    }
   ],
   "source": [
    "# list with OSA and corresponding OQs -> look at inner circle of flavorwheel\n",
    "OSAs_corresponding_OQs = dataframe_to_dict(Research_OSA_OQ.drop_duplicates())\n",
    "OSAs_corresponding_OQs"
   ]
  },
  {
   "cell_type": "code",
   "execution_count": 64,
   "metadata": {},
   "outputs": [
    {
     "data": {
      "text/plain": [
       "{'Artificial fruit flavourings',\n",
       " 'Burnt',\n",
       " 'Buttery ',\n",
       " 'Citrus',\n",
       " 'Cooked vegetables ',\n",
       " 'Dried spice',\n",
       " 'Dry cereals',\n",
       " 'Earthy',\n",
       " 'Fresh flowers',\n",
       " 'Fresh fruit',\n",
       " 'Fruity',\n",
       " 'Green vegetables',\n",
       " 'Nuts',\n",
       " 'Oily',\n",
       " 'Soapy',\n",
       " 'Solvently',\n",
       " 'Spicy',\n",
       " 'Struck match ',\n",
       " 'Sweaty',\n",
       " 'Sweet',\n",
       " 'Toasted',\n",
       " 'Toffee',\n",
       " 'Vanilla',\n",
       " 'Vinegary',\n",
       " 'Vomit',\n",
       " 'Woody'}"
      ]
     },
     "execution_count": 64,
     "metadata": {},
     "output_type": "execute_result"
    }
   ],
   "source": [
    "# all found OQs for our mass spec data\n",
    "found_OQs =set(item for sublist in OQ_dict.values() for item in sublist)\n",
    "found_OQs"
   ]
  },
  {
   "cell_type": "markdown",
   "metadata": {},
   "source": [
    "1. normalize OQs"
   ]
  },
  {
   "cell_type": "code",
   "execution_count": 65,
   "metadata": {},
   "outputs": [
    {
     "name": "stderr",
     "output_type": "stream",
     "text": [
      "C:\\Users\\Franz\\AppData\\Local\\Temp\\ipykernel_12860\\3288840936.py:2: SettingWithCopyWarning: \n",
      "A value is trying to be set on a copy of a slice from a DataFrame.\n",
      "Try using .loc[row_indexer,col_indexer] = value instead\n",
      "\n",
      "See the caveats in the documentation: https://pandas.pydata.org/pandas-docs/stable/user_guide/indexing.html#returning-a-view-versus-a-copy\n",
      "  CAS_intensities_OQs.loc[:,'OQs'] = OQ_dict.copy()\n"
     ]
    }
   ],
   "source": [
    "CAS_intensities_OQs = I_vector[I_vector.index.isin(OSA_dict.keys())]\n",
    "CAS_intensities_OQs.loc[:,'OQs'] = OQ_dict.copy()\n",
    "    "
   ]
  },
  {
   "cell_type": "code",
   "execution_count": 66,
   "metadata": {},
   "outputs": [
    {
     "data": {
      "text/html": [
       "<div>\n",
       "<style scoped>\n",
       "    .dataframe tbody tr th:only-of-type {\n",
       "        vertical-align: middle;\n",
       "    }\n",
       "\n",
       "    .dataframe tbody tr th {\n",
       "        vertical-align: top;\n",
       "    }\n",
       "\n",
       "    .dataframe thead th {\n",
       "        text-align: right;\n",
       "    }\n",
       "</style>\n",
       "<table border=\"1\" class=\"dataframe\">\n",
       "  <thead>\n",
       "    <tr style=\"text-align: right;\">\n",
       "      <th></th>\n",
       "      <th>Intensities</th>\n",
       "      <th>OQs</th>\n",
       "    </tr>\n",
       "  </thead>\n",
       "  <tbody>\n",
       "    <tr>\n",
       "      <th>3033-23-6</th>\n",
       "      <td>0.895271</td>\n",
       "      <td>{Sweet, Fresh flowers}</td>\n",
       "    </tr>\n",
       "    <tr>\n",
       "      <th>21284-22-0</th>\n",
       "      <td>0.946861</td>\n",
       "      <td>{Spicy}</td>\n",
       "    </tr>\n",
       "    <tr>\n",
       "      <th>29873-99-2</th>\n",
       "      <td>1.523904</td>\n",
       "      <td>{Woody, Oily}</td>\n",
       "    </tr>\n",
       "    <tr>\n",
       "      <th>4674-50-4</th>\n",
       "      <td>0.819830</td>\n",
       "      <td>{Citrus}</td>\n",
       "    </tr>\n",
       "    <tr>\n",
       "      <th>10307-61-6</th>\n",
       "      <td>0.780764</td>\n",
       "      <td>{Fresh fruit}</td>\n",
       "    </tr>\n",
       "    <tr>\n",
       "      <th>...</th>\n",
       "      <td>...</td>\n",
       "      <td>...</td>\n",
       "    </tr>\n",
       "    <tr>\n",
       "      <th>30021-74-0</th>\n",
       "      <td>1.523904</td>\n",
       "      <td>{Spicy, Woody}</td>\n",
       "    </tr>\n",
       "    <tr>\n",
       "      <th>515-17-3</th>\n",
       "      <td>1.523904</td>\n",
       "      <td>{Woody}</td>\n",
       "    </tr>\n",
       "    <tr>\n",
       "      <th>483-76-1</th>\n",
       "      <td>1.523904</td>\n",
       "      <td>{Woody}</td>\n",
       "    </tr>\n",
       "    <tr>\n",
       "      <th>713-95-1</th>\n",
       "      <td>1.012158</td>\n",
       "      <td>{Sweet, Fruity}</td>\n",
       "    </tr>\n",
       "    <tr>\n",
       "      <th>20307-84-0</th>\n",
       "      <td>1.523904</td>\n",
       "      <td>{Woody}</td>\n",
       "    </tr>\n",
       "  </tbody>\n",
       "</table>\n",
       "<p>279 rows × 2 columns</p>\n",
       "</div>"
      ],
      "text/plain": [
       "            Intensities                     OQs\n",
       "3033-23-6      0.895271  {Sweet, Fresh flowers}\n",
       "21284-22-0     0.946861                 {Spicy}\n",
       "29873-99-2     1.523904           {Woody, Oily}\n",
       "4674-50-4      0.819830                {Citrus}\n",
       "10307-61-6     0.780764           {Fresh fruit}\n",
       "...                 ...                     ...\n",
       "30021-74-0     1.523904          {Spicy, Woody}\n",
       "515-17-3       1.523904                 {Woody}\n",
       "483-76-1       1.523904                 {Woody}\n",
       "713-95-1       1.012158         {Sweet, Fruity}\n",
       "20307-84-0     1.523904                 {Woody}\n",
       "\n",
       "[279 rows x 2 columns]"
      ]
     },
     "execution_count": 66,
     "metadata": {},
     "output_type": "execute_result"
    }
   ],
   "source": [
    "CAS_intensities_OQs"
   ]
  },
  {
   "cell_type": "markdown",
   "metadata": {},
   "source": [
    "add up all intensities per OQ \n",
    "\n",
    "intensity_per_OQ: dict that contains the OQ and the summed up intensities"
   ]
  },
  {
   "cell_type": "code",
   "execution_count": 67,
   "metadata": {},
   "outputs": [],
   "source": [
    "intensity_per_OQ = {}\n",
    "for found_OQ in found_OQs:\n",
    "    for index, row in CAS_intensities_OQs.iterrows():\n",
    "        if found_OQ in row[\"OQs\"]:\n",
    "            if found_OQ in intensity_per_OQ:\n",
    "                intensity_per_OQ[found_OQ] += row[\"Intensities\"]\n",
    "            else:\n",
    "                intensity_per_OQ[found_OQ] = row[\"Intensities\"]"
   ]
  },
  {
   "cell_type": "code",
   "execution_count": 68,
   "metadata": {},
   "outputs": [],
   "source": [
    "'''\n",
    "normalizes the OQs by dividing each row/cell by the overall intensities, meaning the sum of all intensities\n",
    "'''\n",
    "def normalize_OQs(df_intensities):\n",
    "    normalized_df = pd.DataFrame(columns=[\"normalized_intensities\"])\n",
    "    overall_intensities = df_intensities[\"intensities\"].sum()\n",
    "    normalized_df[\"normalized_intensities\"] = df_intensities/overall_intensities\n",
    "    return(normalized_df)"
   ]
  },
  {
   "cell_type": "code",
   "execution_count": 69,
   "metadata": {},
   "outputs": [],
   "source": [
    "OQ_intensities = pd.DataFrame(intensity_per_OQ.values(), index = intensity_per_OQ.keys(), columns=[\"intensities\"])"
   ]
  },
  {
   "cell_type": "code",
   "execution_count": 70,
   "metadata": {},
   "outputs": [
    {
     "data": {
      "text/html": [
       "<div>\n",
       "<style scoped>\n",
       "    .dataframe tbody tr th:only-of-type {\n",
       "        vertical-align: middle;\n",
       "    }\n",
       "\n",
       "    .dataframe tbody tr th {\n",
       "        vertical-align: top;\n",
       "    }\n",
       "\n",
       "    .dataframe thead th {\n",
       "        text-align: right;\n",
       "    }\n",
       "</style>\n",
       "<table border=\"1\" class=\"dataframe\">\n",
       "  <thead>\n",
       "    <tr style=\"text-align: right;\">\n",
       "      <th></th>\n",
       "      <th>intensities</th>\n",
       "    </tr>\n",
       "  </thead>\n",
       "  <tbody>\n",
       "    <tr>\n",
       "      <th>Toasted</th>\n",
       "      <td>5.520885</td>\n",
       "    </tr>\n",
       "    <tr>\n",
       "      <th>Fresh flowers</th>\n",
       "      <td>15.000616</td>\n",
       "    </tr>\n",
       "    <tr>\n",
       "      <th>Soapy</th>\n",
       "      <td>11.399934</td>\n",
       "    </tr>\n",
       "    <tr>\n",
       "      <th>Citrus</th>\n",
       "      <td>2.109508</td>\n",
       "    </tr>\n",
       "    <tr>\n",
       "      <th>Dried spice</th>\n",
       "      <td>3.147415</td>\n",
       "    </tr>\n",
       "    <tr>\n",
       "      <th>Vanilla</th>\n",
       "      <td>0.851058</td>\n",
       "    </tr>\n",
       "    <tr>\n",
       "      <th>Buttery</th>\n",
       "      <td>3.213341</td>\n",
       "    </tr>\n",
       "    <tr>\n",
       "      <th>Cooked vegetables</th>\n",
       "      <td>6.442170</td>\n",
       "    </tr>\n",
       "    <tr>\n",
       "      <th>Oily</th>\n",
       "      <td>3.785323</td>\n",
       "    </tr>\n",
       "    <tr>\n",
       "      <th>Solvently</th>\n",
       "      <td>3.188952</td>\n",
       "    </tr>\n",
       "    <tr>\n",
       "      <th>Sweaty</th>\n",
       "      <td>9.706490</td>\n",
       "    </tr>\n",
       "    <tr>\n",
       "      <th>Spicy</th>\n",
       "      <td>47.365698</td>\n",
       "    </tr>\n",
       "    <tr>\n",
       "      <th>Fresh fruit</th>\n",
       "      <td>15.043097</td>\n",
       "    </tr>\n",
       "    <tr>\n",
       "      <th>Fruity</th>\n",
       "      <td>68.691448</td>\n",
       "    </tr>\n",
       "    <tr>\n",
       "      <th>Vinegary</th>\n",
       "      <td>2.173851</td>\n",
       "    </tr>\n",
       "    <tr>\n",
       "      <th>Woody</th>\n",
       "      <td>58.895719</td>\n",
       "    </tr>\n",
       "    <tr>\n",
       "      <th>Vomit</th>\n",
       "      <td>7.338643</td>\n",
       "    </tr>\n",
       "    <tr>\n",
       "      <th>Green vegetables</th>\n",
       "      <td>13.187119</td>\n",
       "    </tr>\n",
       "    <tr>\n",
       "      <th>Earthy</th>\n",
       "      <td>13.913653</td>\n",
       "    </tr>\n",
       "    <tr>\n",
       "      <th>Struck match</th>\n",
       "      <td>4.160303</td>\n",
       "    </tr>\n",
       "    <tr>\n",
       "      <th>Artificial fruit flavourings</th>\n",
       "      <td>1.331547</td>\n",
       "    </tr>\n",
       "    <tr>\n",
       "      <th>Burnt</th>\n",
       "      <td>0.707071</td>\n",
       "    </tr>\n",
       "    <tr>\n",
       "      <th>Toffee</th>\n",
       "      <td>3.374602</td>\n",
       "    </tr>\n",
       "    <tr>\n",
       "      <th>Sweet</th>\n",
       "      <td>71.329696</td>\n",
       "    </tr>\n",
       "    <tr>\n",
       "      <th>Nuts</th>\n",
       "      <td>3.757133</td>\n",
       "    </tr>\n",
       "    <tr>\n",
       "      <th>Dry cereals</th>\n",
       "      <td>4.490041</td>\n",
       "    </tr>\n",
       "  </tbody>\n",
       "</table>\n",
       "</div>"
      ],
      "text/plain": [
       "                              intensities\n",
       "Toasted                          5.520885\n",
       "Fresh flowers                   15.000616\n",
       "Soapy                           11.399934\n",
       "Citrus                           2.109508\n",
       "Dried spice                      3.147415\n",
       "Vanilla                          0.851058\n",
       "Buttery                          3.213341\n",
       "Cooked vegetables                6.442170\n",
       "Oily                             3.785323\n",
       "Solvently                        3.188952\n",
       "Sweaty                           9.706490\n",
       "Spicy                           47.365698\n",
       "Fresh fruit                     15.043097\n",
       "Fruity                          68.691448\n",
       "Vinegary                         2.173851\n",
       "Woody                           58.895719\n",
       "Vomit                            7.338643\n",
       "Green vegetables                13.187119\n",
       "Earthy                          13.913653\n",
       "Struck match                     4.160303\n",
       "Artificial fruit flavourings     1.331547\n",
       "Burnt                            0.707071\n",
       "Toffee                           3.374602\n",
       "Sweet                           71.329696\n",
       "Nuts                             3.757133\n",
       "Dry cereals                      4.490041"
      ]
     },
     "execution_count": 70,
     "metadata": {},
     "output_type": "execute_result"
    }
   ],
   "source": [
    "OQ_intensities"
   ]
  },
  {
   "cell_type": "code",
   "execution_count": 71,
   "metadata": {},
   "outputs": [
    {
     "data": {
      "text/html": [
       "<div>\n",
       "<style scoped>\n",
       "    .dataframe tbody tr th:only-of-type {\n",
       "        vertical-align: middle;\n",
       "    }\n",
       "\n",
       "    .dataframe tbody tr th {\n",
       "        vertical-align: top;\n",
       "    }\n",
       "\n",
       "    .dataframe thead th {\n",
       "        text-align: right;\n",
       "    }\n",
       "</style>\n",
       "<table border=\"1\" class=\"dataframe\">\n",
       "  <thead>\n",
       "    <tr style=\"text-align: right;\">\n",
       "      <th></th>\n",
       "      <th>normalized_intensities</th>\n",
       "    </tr>\n",
       "  </thead>\n",
       "  <tbody>\n",
       "    <tr>\n",
       "      <th>Toasted</th>\n",
       "      <td>0.014524</td>\n",
       "    </tr>\n",
       "    <tr>\n",
       "      <th>Fresh flowers</th>\n",
       "      <td>0.039462</td>\n",
       "    </tr>\n",
       "    <tr>\n",
       "      <th>Soapy</th>\n",
       "      <td>0.029990</td>\n",
       "    </tr>\n",
       "    <tr>\n",
       "      <th>Citrus</th>\n",
       "      <td>0.005550</td>\n",
       "    </tr>\n",
       "    <tr>\n",
       "      <th>Dried spice</th>\n",
       "      <td>0.008280</td>\n",
       "    </tr>\n",
       "    <tr>\n",
       "      <th>Vanilla</th>\n",
       "      <td>0.002239</td>\n",
       "    </tr>\n",
       "    <tr>\n",
       "      <th>Buttery</th>\n",
       "      <td>0.008453</td>\n",
       "    </tr>\n",
       "    <tr>\n",
       "      <th>Cooked vegetables</th>\n",
       "      <td>0.016947</td>\n",
       "    </tr>\n",
       "    <tr>\n",
       "      <th>Oily</th>\n",
       "      <td>0.009958</td>\n",
       "    </tr>\n",
       "    <tr>\n",
       "      <th>Solvently</th>\n",
       "      <td>0.008389</td>\n",
       "    </tr>\n",
       "    <tr>\n",
       "      <th>Sweaty</th>\n",
       "      <td>0.025535</td>\n",
       "    </tr>\n",
       "    <tr>\n",
       "      <th>Spicy</th>\n",
       "      <td>0.124605</td>\n",
       "    </tr>\n",
       "    <tr>\n",
       "      <th>Fresh fruit</th>\n",
       "      <td>0.039574</td>\n",
       "    </tr>\n",
       "    <tr>\n",
       "      <th>Fruity</th>\n",
       "      <td>0.180707</td>\n",
       "    </tr>\n",
       "    <tr>\n",
       "      <th>Vinegary</th>\n",
       "      <td>0.005719</td>\n",
       "    </tr>\n",
       "    <tr>\n",
       "      <th>Woody</th>\n",
       "      <td>0.154938</td>\n",
       "    </tr>\n",
       "    <tr>\n",
       "      <th>Vomit</th>\n",
       "      <td>0.019306</td>\n",
       "    </tr>\n",
       "    <tr>\n",
       "      <th>Green vegetables</th>\n",
       "      <td>0.034692</td>\n",
       "    </tr>\n",
       "    <tr>\n",
       "      <th>Earthy</th>\n",
       "      <td>0.036603</td>\n",
       "    </tr>\n",
       "    <tr>\n",
       "      <th>Struck match</th>\n",
       "      <td>0.010945</td>\n",
       "    </tr>\n",
       "    <tr>\n",
       "      <th>Artificial fruit flavourings</th>\n",
       "      <td>0.003503</td>\n",
       "    </tr>\n",
       "    <tr>\n",
       "      <th>Burnt</th>\n",
       "      <td>0.001860</td>\n",
       "    </tr>\n",
       "    <tr>\n",
       "      <th>Toffee</th>\n",
       "      <td>0.008878</td>\n",
       "    </tr>\n",
       "    <tr>\n",
       "      <th>Sweet</th>\n",
       "      <td>0.187648</td>\n",
       "    </tr>\n",
       "    <tr>\n",
       "      <th>Nuts</th>\n",
       "      <td>0.009884</td>\n",
       "    </tr>\n",
       "    <tr>\n",
       "      <th>Dry cereals</th>\n",
       "      <td>0.011812</td>\n",
       "    </tr>\n",
       "  </tbody>\n",
       "</table>\n",
       "</div>"
      ],
      "text/plain": [
       "                              normalized_intensities\n",
       "Toasted                                     0.014524\n",
       "Fresh flowers                               0.039462\n",
       "Soapy                                       0.029990\n",
       "Citrus                                      0.005550\n",
       "Dried spice                                 0.008280\n",
       "Vanilla                                     0.002239\n",
       "Buttery                                     0.008453\n",
       "Cooked vegetables                           0.016947\n",
       "Oily                                        0.009958\n",
       "Solvently                                   0.008389\n",
       "Sweaty                                      0.025535\n",
       "Spicy                                       0.124605\n",
       "Fresh fruit                                 0.039574\n",
       "Fruity                                      0.180707\n",
       "Vinegary                                    0.005719\n",
       "Woody                                       0.154938\n",
       "Vomit                                       0.019306\n",
       "Green vegetables                            0.034692\n",
       "Earthy                                      0.036603\n",
       "Struck match                                0.010945\n",
       "Artificial fruit flavourings                0.003503\n",
       "Burnt                                       0.001860\n",
       "Toffee                                      0.008878\n",
       "Sweet                                       0.187648\n",
       "Nuts                                        0.009884\n",
       "Dry cereals                                 0.011812"
      ]
     },
     "execution_count": 71,
     "metadata": {},
     "output_type": "execute_result"
    }
   ],
   "source": [
    "normalized_OQ_intensities = normalize_OQs(OQ_intensities)\n",
    "normalized_OQ_intensities"
   ]
  },
  {
   "cell_type": "markdown",
   "metadata": {},
   "source": [
    "2. Looking at each OSA indiviudally to find intensity"
   ]
  },
  {
   "cell_type": "code",
   "execution_count": 72,
   "metadata": {},
   "outputs": [],
   "source": [
    "'''\n",
    "find all OQs that are corresponding to one specific OSA\n",
    "'''\n",
    "def find_OQ_per_OSA_with_intensities(OSA):\n",
    "    OQ_per_OSA = {}\n",
    "    for consisting_OQs in OSAs_corresponding_OQs[OSA]:\n",
    "        if consisting_OQs in normalized_OQ_intensities.index:\n",
    "            OQ_per_OSA[consisting_OQs] = normalized_OQ_intensities.loc[consisting_OQs]\n",
    "    # normalize so that all intensities per OSA sums up to 1\n",
    "    df_OQ_per_OSA = pd.DataFrame(OQ_per_OSA).T\n",
    "    if len(OQ_per_OSA)==0:\n",
    "        df_OQ_per_OSA['normalized_intensities']=0\n",
    "    df_OQ_per_OSA = df_OQ_per_OSA.div(df_OQ_per_OSA['normalized_intensities'].sum())\n",
    "    return(df_OQ_per_OSA)"
   ]
  },
  {
   "cell_type": "markdown",
   "metadata": {},
   "source": [
    "equation_2:\n",
    "The function µ(𝑥) is defined as:\n",
    "\n",
    "$$\n",
    "\\mu(𝑥) =\n",
    "\\begin{cases}\n",
    "0 & \\text{if } 𝑥 ≤ 𝑎_1 \\\\\n",
    "\\frac{𝑥−𝑎_1}{𝑎_2−𝑎_1} & \\text{if } 𝑎_1 < 𝑥 ≤ 𝑎_2 \\\\\n",
    "1 & \\text{if } 𝑎_2 < 𝑥 ≤ 𝑎_3 \\\\\n",
    "\\frac{𝑎_4−𝑥}{𝑎_4−𝑎_3} & \\text{if } 𝑎_3 < 𝑥 ≤ 𝑎_4 \\\\\n",
    "0 & \\text{if } 𝑎_4 < 𝑥 \\\\\n",
    "\\end{cases}\n",
    "$$\n"
   ]
  },
  {
   "cell_type": "code",
   "execution_count": 73,
   "metadata": {},
   "outputs": [],
   "source": [
    "#most of the time -> TODO: optimize these with cross validation  \n",
    "a1 = 0\n",
    "a2 = 0\n",
    "a3 = 0.33\n",
    "a4 = 1"
   ]
  },
  {
   "cell_type": "code",
   "execution_count": 74,
   "metadata": {},
   "outputs": [],
   "source": [
    "def equation_2(x,a1,a2,a3,a4):\n",
    "    if x <= a1:\n",
    "        µ = 0\n",
    "    elif a1 < x and x <= a2:\n",
    "        µ = (x-a1)/(a2-a1)\n",
    "    elif a2 < x and x <= a3:\n",
    "        µ = 1\n",
    "    elif a3 < x and x <= a4:\n",
    "        µ = (a4-x)/(a4-a3)\n",
    "    elif a4 < x:\n",
    "        µ = 0\n",
    "    return µ"
   ]
  },
  {
   "cell_type": "markdown",
   "metadata": {},
   "source": [
    "equation3: \n",
    "\n",
    "𝐼𝑛𝑡𝑒𝑛𝑠𝑖𝑡𝑦(𝑂𝑆𝐴) = 10 × ∏^i 1 µ(𝑂𝑄𝑖)"
   ]
  },
  {
   "cell_type": "code",
   "execution_count": 75,
   "metadata": {},
   "outputs": [],
   "source": [
    "def equation_3(µ_OQs_list):\n",
    "    intensity_OSA = 10 * np.prod(µ_OQs_list)\n",
    "    return(intensity_OSA)\n"
   ]
  },
  {
   "cell_type": "markdown",
   "metadata": {},
   "source": [
    "e.g. with OSA sweet"
   ]
  },
  {
   "cell_type": "code",
   "execution_count": 76,
   "metadata": {},
   "outputs": [
    {
     "data": {
      "text/plain": [
       "['Vanilla', 'Honey', 'Toffee', 'Sweet']"
      ]
     },
     "execution_count": 76,
     "metadata": {},
     "output_type": "execute_result"
    }
   ],
   "source": [
    "# e.g sweet consists of: OQs ['Vanilla', 'Honey', 'Toffee', 'Sweet']\n",
    "OSAs_corresponding_OQs['Sweet']"
   ]
  },
  {
   "cell_type": "code",
   "execution_count": 77,
   "metadata": {},
   "outputs": [],
   "source": [
    "# sweet \n",
    "sweet = find_OQ_per_OSA_with_intensities('Sweet')"
   ]
  },
  {
   "cell_type": "code",
   "execution_count": 78,
   "metadata": {},
   "outputs": [
    {
     "data": {
      "text/html": [
       "<div>\n",
       "<style scoped>\n",
       "    .dataframe tbody tr th:only-of-type {\n",
       "        vertical-align: middle;\n",
       "    }\n",
       "\n",
       "    .dataframe tbody tr th {\n",
       "        vertical-align: top;\n",
       "    }\n",
       "\n",
       "    .dataframe thead th {\n",
       "        text-align: right;\n",
       "    }\n",
       "</style>\n",
       "<table border=\"1\" class=\"dataframe\">\n",
       "  <thead>\n",
       "    <tr style=\"text-align: right;\">\n",
       "      <th></th>\n",
       "      <th>normalized_intensities</th>\n",
       "    </tr>\n",
       "  </thead>\n",
       "  <tbody>\n",
       "    <tr>\n",
       "      <th>Vanilla</th>\n",
       "      <td>0.011264</td>\n",
       "    </tr>\n",
       "    <tr>\n",
       "      <th>Toffee</th>\n",
       "      <td>0.044664</td>\n",
       "    </tr>\n",
       "    <tr>\n",
       "      <th>Sweet</th>\n",
       "      <td>0.944072</td>\n",
       "    </tr>\n",
       "  </tbody>\n",
       "</table>\n",
       "</div>"
      ],
      "text/plain": [
       "         normalized_intensities\n",
       "Vanilla                0.011264\n",
       "Toffee                 0.044664\n",
       "Sweet                  0.944072"
      ]
     },
     "execution_count": 78,
     "metadata": {},
     "output_type": "execute_result"
    }
   ],
   "source": [
    "sweet"
   ]
  },
  {
   "cell_type": "code",
   "execution_count": 79,
   "metadata": {},
   "outputs": [
    {
     "data": {
      "text/plain": [
       "'OQ1 = equation_2(sweet.loc[\"Sweet\"][\"normalized_intensities\"],a1,a2,0.33,a4)\\nOQ2= equation_2(sweet.loc[\"Vanilla\"][\"normalized_intensities\"],a1,a2,0.033,a4)\\nOQ3= equation_2(sweet.loc[\"Toffee\"][\"normalized_intensities\"],a1,a2,0.043,a4)\\nequation_3([OQ1,OQ2,OQ3]) '"
      ]
     },
     "execution_count": 79,
     "metadata": {},
     "output_type": "execute_result"
    }
   ],
   "source": [
    "'''OQ1 = equation_2(sweet.loc[\"Sweet\"][\"normalized_intensities\"],a1,a2,0.33,a4)\n",
    "OQ2= equation_2(sweet.loc[\"Vanilla\"][\"normalized_intensities\"],a1,a2,0.033,a4)\n",
    "OQ3= equation_2(sweet.loc[\"Toffee\"][\"normalized_intensities\"],a1,a2,0.043,a4)\n",
    "equation_3([OQ1,OQ2,OQ3]) '''"
   ]
  },
  {
   "cell_type": "markdown",
   "metadata": {},
   "source": [
    "for all OSAs"
   ]
  },
  {
   "cell_type": "code",
   "execution_count": 80,
   "metadata": {},
   "outputs": [],
   "source": [
    "all_OSAs = list(OSAs_corresponding_OQs.keys())"
   ]
  },
  {
   "cell_type": "code",
   "execution_count": 81,
   "metadata": {},
   "outputs": [],
   "source": [
    "OSAs_int = {}\n",
    "for OSA in all_OSAs: \n",
    "   OSAs_int[OSA] = 0\n",
    "   current_OSA = find_OQ_per_OSA_with_intensities(OSA)\n",
    "   OQ_int = []\n",
    "   for OQ in current_OSA.index:\n",
    "      OQ_int.append(equation_2(current_OSA.loc[OQ][\"normalized_intensities\"],a1,a2,a3,a4))\n",
    "   OSAs_int[OSA] = equation_3(OQ_int)"
   ]
  },
  {
   "cell_type": "code",
   "execution_count": 82,
   "metadata": {},
   "outputs": [
    {
     "data": {
      "text/plain": [
       "{'Peaty': 0.0,\n",
       " 'Feinty': 0.0,\n",
       " 'Cereal': 0.0,\n",
       " 'Green/grassy': 0.0,\n",
       " 'Floral': 0.0,\n",
       " 'Fruity': 3.164679833024881,\n",
       " 'Solvently': 0.0,\n",
       " 'Soapy': 0.0,\n",
       " 'Sweet': 0.8347461479030455,\n",
       " 'Woody': 0.0,\n",
       " 'Nutty': 5.367910263443227,\n",
       " 'Spicy': 0.9299830471788246,\n",
       " 'Oily': 5.5319706680036,\n",
       " 'Sour': 3.410833820602648,\n",
       " 'Sulphury': 5.311206563347821,\n",
       " 'Stale': 0.0}"
      ]
     },
     "execution_count": 82,
     "metadata": {},
     "output_type": "execute_result"
    }
   ],
   "source": [
    "OSAs_int"
   ]
  },
  {
   "cell_type": "code",
   "execution_count": 83,
   "metadata": {},
   "outputs": [],
   "source": [
    "df_OSAs_int = pd.DataFrame(OSAs_int.values(), index = OSAs_int.keys(), columns = [\"Intensities\"])"
   ]
  },
  {
   "cell_type": "code",
   "execution_count": 84,
   "metadata": {},
   "outputs": [
    {
     "data": {
      "text/html": [
       "<div>\n",
       "<style scoped>\n",
       "    .dataframe tbody tr th:only-of-type {\n",
       "        vertical-align: middle;\n",
       "    }\n",
       "\n",
       "    .dataframe tbody tr th {\n",
       "        vertical-align: top;\n",
       "    }\n",
       "\n",
       "    .dataframe thead th {\n",
       "        text-align: right;\n",
       "    }\n",
       "</style>\n",
       "<table border=\"1\" class=\"dataframe\">\n",
       "  <thead>\n",
       "    <tr style=\"text-align: right;\">\n",
       "      <th></th>\n",
       "      <th>Intensities</th>\n",
       "    </tr>\n",
       "  </thead>\n",
       "  <tbody>\n",
       "    <tr>\n",
       "      <th>Peaty</th>\n",
       "      <td>0.000000</td>\n",
       "    </tr>\n",
       "    <tr>\n",
       "      <th>Feinty</th>\n",
       "      <td>0.000000</td>\n",
       "    </tr>\n",
       "    <tr>\n",
       "      <th>Cereal</th>\n",
       "      <td>0.000000</td>\n",
       "    </tr>\n",
       "    <tr>\n",
       "      <th>Green/grassy</th>\n",
       "      <td>0.000000</td>\n",
       "    </tr>\n",
       "    <tr>\n",
       "      <th>Floral</th>\n",
       "      <td>0.000000</td>\n",
       "    </tr>\n",
       "    <tr>\n",
       "      <th>Fruity</th>\n",
       "      <td>3.164680</td>\n",
       "    </tr>\n",
       "    <tr>\n",
       "      <th>Solvently</th>\n",
       "      <td>0.000000</td>\n",
       "    </tr>\n",
       "    <tr>\n",
       "      <th>Soapy</th>\n",
       "      <td>0.000000</td>\n",
       "    </tr>\n",
       "    <tr>\n",
       "      <th>Sweet</th>\n",
       "      <td>0.834746</td>\n",
       "    </tr>\n",
       "    <tr>\n",
       "      <th>Woody</th>\n",
       "      <td>0.000000</td>\n",
       "    </tr>\n",
       "    <tr>\n",
       "      <th>Nutty</th>\n",
       "      <td>5.367910</td>\n",
       "    </tr>\n",
       "    <tr>\n",
       "      <th>Spicy</th>\n",
       "      <td>0.929983</td>\n",
       "    </tr>\n",
       "    <tr>\n",
       "      <th>Oily</th>\n",
       "      <td>5.531971</td>\n",
       "    </tr>\n",
       "    <tr>\n",
       "      <th>Sour</th>\n",
       "      <td>3.410834</td>\n",
       "    </tr>\n",
       "    <tr>\n",
       "      <th>Sulphury</th>\n",
       "      <td>5.311207</td>\n",
       "    </tr>\n",
       "    <tr>\n",
       "      <th>Stale</th>\n",
       "      <td>0.000000</td>\n",
       "    </tr>\n",
       "  </tbody>\n",
       "</table>\n",
       "</div>"
      ],
      "text/plain": [
       "              Intensities\n",
       "Peaty            0.000000\n",
       "Feinty           0.000000\n",
       "Cereal           0.000000\n",
       "Green/grassy     0.000000\n",
       "Floral           0.000000\n",
       "Fruity           3.164680\n",
       "Solvently        0.000000\n",
       "Soapy            0.000000\n",
       "Sweet            0.834746\n",
       "Woody            0.000000\n",
       "Nutty            5.367910\n",
       "Spicy            0.929983\n",
       "Oily             5.531971\n",
       "Sour             3.410834\n",
       "Sulphury         5.311207\n",
       "Stale            0.000000"
      ]
     },
     "execution_count": 84,
     "metadata": {},
     "output_type": "execute_result"
    }
   ],
   "source": [
    "df_OSAs_int"
   ]
  },
  {
   "cell_type": "code",
   "execution_count": 85,
   "metadata": {},
   "outputs": [],
   "source": [
    "plot_fuzzy_OSA = df_OSAs_int[df_OSAs_int['Intensities'] != 0]\n",
    "plot_fuzzy_OSA.index = ['Fruity', 'Sweet', 'Nutty', 'Spicy', 'Oily', 'Sour', 'Sulphury']"
   ]
  },
  {
   "cell_type": "code",
   "execution_count": 86,
   "metadata": {},
   "outputs": [
    {
     "data": {
      "text/plain": [
       "Index(['Fruity', 'Sweet', 'Nutty', 'Spicy', 'Oily', 'Sour', 'Sulphury'], dtype='object')"
      ]
     },
     "execution_count": 86,
     "metadata": {},
     "output_type": "execute_result"
    }
   ],
   "source": [
    "plot_fuzzy_OSA.index"
   ]
  },
  {
   "cell_type": "markdown",
   "metadata": {},
   "source": [
    "40,30,50,40,30,40,30,40,60\n",
    "40,30,50,30,40,30,50,20,40\n",
    "40,30,50,30,40,30,50,20,40\n",
    "floral,fruit,wood,complexity,malt,sweet,peat,dried_fruits,aftertaste,date\n",
    "\n",
    "[3,4,0,0,0,0,0]"
   ]
  },
  {
   "cell_type": "markdown",
   "metadata": {},
   "source": [
    "optimization with cross validation LOO"
   ]
  },
  {
   "cell_type": "code",
   "execution_count": 87,
   "metadata": {},
   "outputs": [
    {
     "data": {
      "text/html": [
       "<div>\n",
       "<style scoped>\n",
       "    .dataframe tbody tr th:only-of-type {\n",
       "        vertical-align: middle;\n",
       "    }\n",
       "\n",
       "    .dataframe tbody tr th {\n",
       "        vertical-align: top;\n",
       "    }\n",
       "\n",
       "    .dataframe thead th {\n",
       "        text-align: right;\n",
       "    }\n",
       "</style>\n",
       "<table border=\"1\" class=\"dataframe\">\n",
       "  <thead>\n",
       "    <tr style=\"text-align: right;\">\n",
       "      <th></th>\n",
       "      <th>Intensities</th>\n",
       "    </tr>\n",
       "  </thead>\n",
       "  <tbody>\n",
       "    <tr>\n",
       "      <th>Fruity</th>\n",
       "      <td>3.164680</td>\n",
       "    </tr>\n",
       "    <tr>\n",
       "      <th>Sweet</th>\n",
       "      <td>0.834746</td>\n",
       "    </tr>\n",
       "    <tr>\n",
       "      <th>Nutty</th>\n",
       "      <td>5.367910</td>\n",
       "    </tr>\n",
       "    <tr>\n",
       "      <th>Spicy</th>\n",
       "      <td>0.929983</td>\n",
       "    </tr>\n",
       "    <tr>\n",
       "      <th>Oily</th>\n",
       "      <td>5.531971</td>\n",
       "    </tr>\n",
       "    <tr>\n",
       "      <th>Sour</th>\n",
       "      <td>3.410834</td>\n",
       "    </tr>\n",
       "    <tr>\n",
       "      <th>Sulphury</th>\n",
       "      <td>5.311207</td>\n",
       "    </tr>\n",
       "  </tbody>\n",
       "</table>\n",
       "</div>"
      ],
      "text/plain": [
       "          Intensities\n",
       "Fruity       3.164680\n",
       "Sweet        0.834746\n",
       "Nutty        5.367910\n",
       "Spicy        0.929983\n",
       "Oily         5.531971\n",
       "Sour         3.410834\n",
       "Sulphury     5.311207"
      ]
     },
     "execution_count": 87,
     "metadata": {},
     "output_type": "execute_result"
    }
   ],
   "source": [
    "plot_fuzzy_OSA"
   ]
  },
  {
   "cell_type": "code",
   "execution_count": 88,
   "metadata": {},
   "outputs": [
    {
     "data": {
      "application/vnd.plotly.v1+json": {
       "config": {
        "plotlyServerURL": "https://plot.ly"
       },
       "data": [
        {
         "fill": "toself",
         "r": [
          3.164679833024881,
          0.8347461479030455,
          5.367910263443227,
          0.9299830471788246,
          5.5319706680036,
          3.410833820602648,
          5.311206563347821
         ],
         "theta": [
          "Fruity",
          "Sweet",
          "Nutty",
          "Spicy",
          "Oily",
          "Sour",
          "Sulphury"
         ],
         "type": "scatterpolar"
        }
       ],
       "layout": {
        "polar": {
         "radialaxis": {
          "range": [
           0,
           10
          ],
          "visible": true
         }
        },
        "showlegend": false,
        "template": {
         "data": {
          "bar": [
           {
            "error_x": {
             "color": "#2a3f5f"
            },
            "error_y": {
             "color": "#2a3f5f"
            },
            "marker": {
             "line": {
              "color": "#E5ECF6",
              "width": 0.5
             },
             "pattern": {
              "fillmode": "overlay",
              "size": 10,
              "solidity": 0.2
             }
            },
            "type": "bar"
           }
          ],
          "barpolar": [
           {
            "marker": {
             "line": {
              "color": "#E5ECF6",
              "width": 0.5
             },
             "pattern": {
              "fillmode": "overlay",
              "size": 10,
              "solidity": 0.2
             }
            },
            "type": "barpolar"
           }
          ],
          "carpet": [
           {
            "aaxis": {
             "endlinecolor": "#2a3f5f",
             "gridcolor": "white",
             "linecolor": "white",
             "minorgridcolor": "white",
             "startlinecolor": "#2a3f5f"
            },
            "baxis": {
             "endlinecolor": "#2a3f5f",
             "gridcolor": "white",
             "linecolor": "white",
             "minorgridcolor": "white",
             "startlinecolor": "#2a3f5f"
            },
            "type": "carpet"
           }
          ],
          "choropleth": [
           {
            "colorbar": {
             "outlinewidth": 0,
             "ticks": ""
            },
            "type": "choropleth"
           }
          ],
          "contour": [
           {
            "colorbar": {
             "outlinewidth": 0,
             "ticks": ""
            },
            "colorscale": [
             [
              0,
              "#0d0887"
             ],
             [
              0.1111111111111111,
              "#46039f"
             ],
             [
              0.2222222222222222,
              "#7201a8"
             ],
             [
              0.3333333333333333,
              "#9c179e"
             ],
             [
              0.4444444444444444,
              "#bd3786"
             ],
             [
              0.5555555555555556,
              "#d8576b"
             ],
             [
              0.6666666666666666,
              "#ed7953"
             ],
             [
              0.7777777777777778,
              "#fb9f3a"
             ],
             [
              0.8888888888888888,
              "#fdca26"
             ],
             [
              1,
              "#f0f921"
             ]
            ],
            "type": "contour"
           }
          ],
          "contourcarpet": [
           {
            "colorbar": {
             "outlinewidth": 0,
             "ticks": ""
            },
            "type": "contourcarpet"
           }
          ],
          "heatmap": [
           {
            "colorbar": {
             "outlinewidth": 0,
             "ticks": ""
            },
            "colorscale": [
             [
              0,
              "#0d0887"
             ],
             [
              0.1111111111111111,
              "#46039f"
             ],
             [
              0.2222222222222222,
              "#7201a8"
             ],
             [
              0.3333333333333333,
              "#9c179e"
             ],
             [
              0.4444444444444444,
              "#bd3786"
             ],
             [
              0.5555555555555556,
              "#d8576b"
             ],
             [
              0.6666666666666666,
              "#ed7953"
             ],
             [
              0.7777777777777778,
              "#fb9f3a"
             ],
             [
              0.8888888888888888,
              "#fdca26"
             ],
             [
              1,
              "#f0f921"
             ]
            ],
            "type": "heatmap"
           }
          ],
          "heatmapgl": [
           {
            "colorbar": {
             "outlinewidth": 0,
             "ticks": ""
            },
            "colorscale": [
             [
              0,
              "#0d0887"
             ],
             [
              0.1111111111111111,
              "#46039f"
             ],
             [
              0.2222222222222222,
              "#7201a8"
             ],
             [
              0.3333333333333333,
              "#9c179e"
             ],
             [
              0.4444444444444444,
              "#bd3786"
             ],
             [
              0.5555555555555556,
              "#d8576b"
             ],
             [
              0.6666666666666666,
              "#ed7953"
             ],
             [
              0.7777777777777778,
              "#fb9f3a"
             ],
             [
              0.8888888888888888,
              "#fdca26"
             ],
             [
              1,
              "#f0f921"
             ]
            ],
            "type": "heatmapgl"
           }
          ],
          "histogram": [
           {
            "marker": {
             "pattern": {
              "fillmode": "overlay",
              "size": 10,
              "solidity": 0.2
             }
            },
            "type": "histogram"
           }
          ],
          "histogram2d": [
           {
            "colorbar": {
             "outlinewidth": 0,
             "ticks": ""
            },
            "colorscale": [
             [
              0,
              "#0d0887"
             ],
             [
              0.1111111111111111,
              "#46039f"
             ],
             [
              0.2222222222222222,
              "#7201a8"
             ],
             [
              0.3333333333333333,
              "#9c179e"
             ],
             [
              0.4444444444444444,
              "#bd3786"
             ],
             [
              0.5555555555555556,
              "#d8576b"
             ],
             [
              0.6666666666666666,
              "#ed7953"
             ],
             [
              0.7777777777777778,
              "#fb9f3a"
             ],
             [
              0.8888888888888888,
              "#fdca26"
             ],
             [
              1,
              "#f0f921"
             ]
            ],
            "type": "histogram2d"
           }
          ],
          "histogram2dcontour": [
           {
            "colorbar": {
             "outlinewidth": 0,
             "ticks": ""
            },
            "colorscale": [
             [
              0,
              "#0d0887"
             ],
             [
              0.1111111111111111,
              "#46039f"
             ],
             [
              0.2222222222222222,
              "#7201a8"
             ],
             [
              0.3333333333333333,
              "#9c179e"
             ],
             [
              0.4444444444444444,
              "#bd3786"
             ],
             [
              0.5555555555555556,
              "#d8576b"
             ],
             [
              0.6666666666666666,
              "#ed7953"
             ],
             [
              0.7777777777777778,
              "#fb9f3a"
             ],
             [
              0.8888888888888888,
              "#fdca26"
             ],
             [
              1,
              "#f0f921"
             ]
            ],
            "type": "histogram2dcontour"
           }
          ],
          "mesh3d": [
           {
            "colorbar": {
             "outlinewidth": 0,
             "ticks": ""
            },
            "type": "mesh3d"
           }
          ],
          "parcoords": [
           {
            "line": {
             "colorbar": {
              "outlinewidth": 0,
              "ticks": ""
             }
            },
            "type": "parcoords"
           }
          ],
          "pie": [
           {
            "automargin": true,
            "type": "pie"
           }
          ],
          "scatter": [
           {
            "fillpattern": {
             "fillmode": "overlay",
             "size": 10,
             "solidity": 0.2
            },
            "type": "scatter"
           }
          ],
          "scatter3d": [
           {
            "line": {
             "colorbar": {
              "outlinewidth": 0,
              "ticks": ""
             }
            },
            "marker": {
             "colorbar": {
              "outlinewidth": 0,
              "ticks": ""
             }
            },
            "type": "scatter3d"
           }
          ],
          "scattercarpet": [
           {
            "marker": {
             "colorbar": {
              "outlinewidth": 0,
              "ticks": ""
             }
            },
            "type": "scattercarpet"
           }
          ],
          "scattergeo": [
           {
            "marker": {
             "colorbar": {
              "outlinewidth": 0,
              "ticks": ""
             }
            },
            "type": "scattergeo"
           }
          ],
          "scattergl": [
           {
            "marker": {
             "colorbar": {
              "outlinewidth": 0,
              "ticks": ""
             }
            },
            "type": "scattergl"
           }
          ],
          "scattermapbox": [
           {
            "marker": {
             "colorbar": {
              "outlinewidth": 0,
              "ticks": ""
             }
            },
            "type": "scattermapbox"
           }
          ],
          "scatterpolar": [
           {
            "marker": {
             "colorbar": {
              "outlinewidth": 0,
              "ticks": ""
             }
            },
            "type": "scatterpolar"
           }
          ],
          "scatterpolargl": [
           {
            "marker": {
             "colorbar": {
              "outlinewidth": 0,
              "ticks": ""
             }
            },
            "type": "scatterpolargl"
           }
          ],
          "scatterternary": [
           {
            "marker": {
             "colorbar": {
              "outlinewidth": 0,
              "ticks": ""
             }
            },
            "type": "scatterternary"
           }
          ],
          "surface": [
           {
            "colorbar": {
             "outlinewidth": 0,
             "ticks": ""
            },
            "colorscale": [
             [
              0,
              "#0d0887"
             ],
             [
              0.1111111111111111,
              "#46039f"
             ],
             [
              0.2222222222222222,
              "#7201a8"
             ],
             [
              0.3333333333333333,
              "#9c179e"
             ],
             [
              0.4444444444444444,
              "#bd3786"
             ],
             [
              0.5555555555555556,
              "#d8576b"
             ],
             [
              0.6666666666666666,
              "#ed7953"
             ],
             [
              0.7777777777777778,
              "#fb9f3a"
             ],
             [
              0.8888888888888888,
              "#fdca26"
             ],
             [
              1,
              "#f0f921"
             ]
            ],
            "type": "surface"
           }
          ],
          "table": [
           {
            "cells": {
             "fill": {
              "color": "#EBF0F8"
             },
             "line": {
              "color": "white"
             }
            },
            "header": {
             "fill": {
              "color": "#C8D4E3"
             },
             "line": {
              "color": "white"
             }
            },
            "type": "table"
           }
          ]
         },
         "layout": {
          "annotationdefaults": {
           "arrowcolor": "#2a3f5f",
           "arrowhead": 0,
           "arrowwidth": 1
          },
          "autotypenumbers": "strict",
          "coloraxis": {
           "colorbar": {
            "outlinewidth": 0,
            "ticks": ""
           }
          },
          "colorscale": {
           "diverging": [
            [
             0,
             "#8e0152"
            ],
            [
             0.1,
             "#c51b7d"
            ],
            [
             0.2,
             "#de77ae"
            ],
            [
             0.3,
             "#f1b6da"
            ],
            [
             0.4,
             "#fde0ef"
            ],
            [
             0.5,
             "#f7f7f7"
            ],
            [
             0.6,
             "#e6f5d0"
            ],
            [
             0.7,
             "#b8e186"
            ],
            [
             0.8,
             "#7fbc41"
            ],
            [
             0.9,
             "#4d9221"
            ],
            [
             1,
             "#276419"
            ]
           ],
           "sequential": [
            [
             0,
             "#0d0887"
            ],
            [
             0.1111111111111111,
             "#46039f"
            ],
            [
             0.2222222222222222,
             "#7201a8"
            ],
            [
             0.3333333333333333,
             "#9c179e"
            ],
            [
             0.4444444444444444,
             "#bd3786"
            ],
            [
             0.5555555555555556,
             "#d8576b"
            ],
            [
             0.6666666666666666,
             "#ed7953"
            ],
            [
             0.7777777777777778,
             "#fb9f3a"
            ],
            [
             0.8888888888888888,
             "#fdca26"
            ],
            [
             1,
             "#f0f921"
            ]
           ],
           "sequentialminus": [
            [
             0,
             "#0d0887"
            ],
            [
             0.1111111111111111,
             "#46039f"
            ],
            [
             0.2222222222222222,
             "#7201a8"
            ],
            [
             0.3333333333333333,
             "#9c179e"
            ],
            [
             0.4444444444444444,
             "#bd3786"
            ],
            [
             0.5555555555555556,
             "#d8576b"
            ],
            [
             0.6666666666666666,
             "#ed7953"
            ],
            [
             0.7777777777777778,
             "#fb9f3a"
            ],
            [
             0.8888888888888888,
             "#fdca26"
            ],
            [
             1,
             "#f0f921"
            ]
           ]
          },
          "colorway": [
           "#636efa",
           "#EF553B",
           "#00cc96",
           "#ab63fa",
           "#FFA15A",
           "#19d3f3",
           "#FF6692",
           "#B6E880",
           "#FF97FF",
           "#FECB52"
          ],
          "font": {
           "color": "#2a3f5f"
          },
          "geo": {
           "bgcolor": "white",
           "lakecolor": "white",
           "landcolor": "#E5ECF6",
           "showlakes": true,
           "showland": true,
           "subunitcolor": "white"
          },
          "hoverlabel": {
           "align": "left"
          },
          "hovermode": "closest",
          "mapbox": {
           "style": "light"
          },
          "paper_bgcolor": "white",
          "plot_bgcolor": "#E5ECF6",
          "polar": {
           "angularaxis": {
            "gridcolor": "white",
            "linecolor": "white",
            "ticks": ""
           },
           "bgcolor": "#E5ECF6",
           "radialaxis": {
            "gridcolor": "white",
            "linecolor": "white",
            "ticks": ""
           }
          },
          "scene": {
           "xaxis": {
            "backgroundcolor": "#E5ECF6",
            "gridcolor": "white",
            "gridwidth": 2,
            "linecolor": "white",
            "showbackground": true,
            "ticks": "",
            "zerolinecolor": "white"
           },
           "yaxis": {
            "backgroundcolor": "#E5ECF6",
            "gridcolor": "white",
            "gridwidth": 2,
            "linecolor": "white",
            "showbackground": true,
            "ticks": "",
            "zerolinecolor": "white"
           },
           "zaxis": {
            "backgroundcolor": "#E5ECF6",
            "gridcolor": "white",
            "gridwidth": 2,
            "linecolor": "white",
            "showbackground": true,
            "ticks": "",
            "zerolinecolor": "white"
           }
          },
          "shapedefaults": {
           "line": {
            "color": "#2a3f5f"
           }
          },
          "ternary": {
           "aaxis": {
            "gridcolor": "white",
            "linecolor": "white",
            "ticks": ""
           },
           "baxis": {
            "gridcolor": "white",
            "linecolor": "white",
            "ticks": ""
           },
           "bgcolor": "#E5ECF6",
           "caxis": {
            "gridcolor": "white",
            "linecolor": "white",
            "ticks": ""
           }
          },
          "title": {
           "x": 0.05
          },
          "xaxis": {
           "automargin": true,
           "gridcolor": "white",
           "linecolor": "white",
           "ticks": "",
           "title": {
            "standoff": 15
           },
           "zerolinecolor": "white",
           "zerolinewidth": 2
          },
          "yaxis": {
           "automargin": true,
           "gridcolor": "white",
           "linecolor": "white",
           "ticks": "",
           "title": {
            "standoff": 15
           },
           "zerolinecolor": "white",
           "zerolinewidth": 2
          }
         }
        }
       }
      }
     },
     "metadata": {},
     "output_type": "display_data"
    }
   ],
   "source": [
    "import plotly.graph_objects as go\n",
    "\n",
    "fig = go.Figure(data=go.Scatterpolar(\n",
    "  r=(plot_fuzzy_OSA['Intensities']),\n",
    "  theta=list(plot_fuzzy_OSA.index),\n",
    "  fill='toself'\n",
    "))\n",
    "\n",
    "fig.update_layout(\n",
    "  polar=dict(\n",
    "    radialaxis=dict(\n",
    "      visible=True,\n",
    "       range=[0, 10]\n",
    "    ),\n",
    "  ),\n",
    "  showlegend=False\n",
    ")\n",
    "\n",
    "fig.show()"
   ]
  },
  {
   "attachments": {},
   "cell_type": "markdown",
   "metadata": {},
   "source": [
    "#### 4.3 Comparison BM and FL"
   ]
  },
  {
   "cell_type": "code",
   "execution_count": 89,
   "metadata": {},
   "outputs": [
    {
     "data": {
      "text/plain": [
       "array([3.21334096, 2.17385084, 4.160303  ])"
      ]
     },
     "execution_count": 89,
     "metadata": {},
     "output_type": "execute_result"
    }
   ],
   "source": [
    "np.array(final_OSA.sum())[12:15]"
   ]
  },
  {
   "cell_type": "code",
   "execution_count": 90,
   "metadata": {},
   "outputs": [
    {
     "data": {
      "text/plain": [
       "Index(['Peaty', 'Feinty', 'Cereal', 'Green/grassy', 'Floral', 'Fruity',\n",
       "       'Solvently', 'Soapy', 'Sweet', 'Woody', 'Nutty', 'Spicy', 'Oily',\n",
       "       'Sour', 'Sulphury', 'Stale'],\n",
       "      dtype='object')"
      ]
     },
     "execution_count": 90,
     "metadata": {},
     "output_type": "execute_result"
    }
   ],
   "source": [
    "final_OSA.columns"
   ]
  },
  {
   "cell_type": "code",
   "execution_count": 91,
   "metadata": {},
   "outputs": [
    {
     "ename": "NameError",
     "evalue": "name 'panelist_data_df' is not defined",
     "output_type": "error",
     "traceback": [
      "\u001b[1;31m---------------------------------------------------------------------------\u001b[0m",
      "\u001b[1;31mNameError\u001b[0m                                 Traceback (most recent call last)",
      "\u001b[1;32mc:\\Users\\Franz\\OneDrive\\Dokumente\\Bioinformatik_20.21\\Bachelorarbeit\\Bachelorthesis\\test.ipynb Cell 121\u001b[0m line \u001b[0;36m<module>\u001b[1;34m\u001b[0m\n\u001b[1;32m----> <a href='vscode-notebook-cell:/c%3A/Users/Franz/OneDrive/Dokumente/Bioinformatik_20.21/Bachelorarbeit/Bachelorthesis/test.ipynb#Y231sZmlsZQ%3D%3D?line=0'>1</a>\u001b[0m panelist_data_df\u001b[39m.\u001b[39mloc[\u001b[39m'\u001b[39m\u001b[39m000920\u001b[39m\u001b[39m'\u001b[39m]\n",
      "\u001b[1;31mNameError\u001b[0m: name 'panelist_data_df' is not defined"
     ]
    }
   ],
   "source": [
    "panelist_data_df.loc['000920']"
   ]
  },
  {
   "cell_type": "code",
   "execution_count": null,
   "metadata": {},
   "outputs": [
    {
     "data": {
      "text/plain": [
       "Index(['Fruity', 'Sweet', 'Nutty', 'Spicy', 'Oily', 'Sour', 'Sulphury'], dtype='object')"
      ]
     },
     "execution_count": 125,
     "metadata": {},
     "output_type": "execute_result"
    }
   ],
   "source": [
    "plot_fuzzy_OSA.index"
   ]
  },
  {
   "cell_type": "code",
   "execution_count": null,
   "metadata": {},
   "outputs": [
    {
     "data": {
      "application/vnd.plotly.v1+json": {
       "config": {
        "plotlyServerURL": "https://plot.ly"
       },
       "data": [
        {
         "fill": "toself",
         "name": "ms fuzzy",
         "r": [
          3.164679833024881,
          0.8347461479030455,
          5.367910263443227,
          0.9299830471788246,
          5.5319706680036,
          3.410833820602648,
          5.311206563347821
         ],
         "theta": [
          "Fruity",
          "Sweet",
          "Nutty",
          "Spicy",
          "Oily",
          "Sour",
          "Sulphury"
         ],
         "type": "scatterpolar"
        },
        {
         "fill": "toself",
         "name": "ms binary",
         "r": [
          2.1095081445804507,
          71.32969620151374,
          5.520885037968301,
          47.365698207768276,
          3.21334096,
          2.17385084,
          4.160303
         ],
         "theta": [
          "Fruity",
          "Sweet",
          "Nutty",
          "Spicy",
          "Oily",
          "Sour",
          "Sulphury"
         ],
         "type": "scatterpolar"
        },
        {
         "fill": "toself",
         "name": "panelist 1",
         "r": [
          3,
          4,
          0,
          0,
          0,
          0,
          0
         ],
         "theta": [
          "Fruity",
          "Sweet",
          "Nutty",
          "Spicy",
          "Oily",
          "Sour",
          "Sulphury"
         ],
         "type": "scatterpolar"
        }
       ],
       "layout": {
        "polar": {
         "radialaxis": {
          "range": [
           0,
           10
          ],
          "visible": true
         }
        },
        "showlegend": false,
        "template": {
         "data": {
          "bar": [
           {
            "error_x": {
             "color": "#2a3f5f"
            },
            "error_y": {
             "color": "#2a3f5f"
            },
            "marker": {
             "line": {
              "color": "#E5ECF6",
              "width": 0.5
             },
             "pattern": {
              "fillmode": "overlay",
              "size": 10,
              "solidity": 0.2
             }
            },
            "type": "bar"
           }
          ],
          "barpolar": [
           {
            "marker": {
             "line": {
              "color": "#E5ECF6",
              "width": 0.5
             },
             "pattern": {
              "fillmode": "overlay",
              "size": 10,
              "solidity": 0.2
             }
            },
            "type": "barpolar"
           }
          ],
          "carpet": [
           {
            "aaxis": {
             "endlinecolor": "#2a3f5f",
             "gridcolor": "white",
             "linecolor": "white",
             "minorgridcolor": "white",
             "startlinecolor": "#2a3f5f"
            },
            "baxis": {
             "endlinecolor": "#2a3f5f",
             "gridcolor": "white",
             "linecolor": "white",
             "minorgridcolor": "white",
             "startlinecolor": "#2a3f5f"
            },
            "type": "carpet"
           }
          ],
          "choropleth": [
           {
            "colorbar": {
             "outlinewidth": 0,
             "ticks": ""
            },
            "type": "choropleth"
           }
          ],
          "contour": [
           {
            "colorbar": {
             "outlinewidth": 0,
             "ticks": ""
            },
            "colorscale": [
             [
              0,
              "#0d0887"
             ],
             [
              0.1111111111111111,
              "#46039f"
             ],
             [
              0.2222222222222222,
              "#7201a8"
             ],
             [
              0.3333333333333333,
              "#9c179e"
             ],
             [
              0.4444444444444444,
              "#bd3786"
             ],
             [
              0.5555555555555556,
              "#d8576b"
             ],
             [
              0.6666666666666666,
              "#ed7953"
             ],
             [
              0.7777777777777778,
              "#fb9f3a"
             ],
             [
              0.8888888888888888,
              "#fdca26"
             ],
             [
              1,
              "#f0f921"
             ]
            ],
            "type": "contour"
           }
          ],
          "contourcarpet": [
           {
            "colorbar": {
             "outlinewidth": 0,
             "ticks": ""
            },
            "type": "contourcarpet"
           }
          ],
          "heatmap": [
           {
            "colorbar": {
             "outlinewidth": 0,
             "ticks": ""
            },
            "colorscale": [
             [
              0,
              "#0d0887"
             ],
             [
              0.1111111111111111,
              "#46039f"
             ],
             [
              0.2222222222222222,
              "#7201a8"
             ],
             [
              0.3333333333333333,
              "#9c179e"
             ],
             [
              0.4444444444444444,
              "#bd3786"
             ],
             [
              0.5555555555555556,
              "#d8576b"
             ],
             [
              0.6666666666666666,
              "#ed7953"
             ],
             [
              0.7777777777777778,
              "#fb9f3a"
             ],
             [
              0.8888888888888888,
              "#fdca26"
             ],
             [
              1,
              "#f0f921"
             ]
            ],
            "type": "heatmap"
           }
          ],
          "heatmapgl": [
           {
            "colorbar": {
             "outlinewidth": 0,
             "ticks": ""
            },
            "colorscale": [
             [
              0,
              "#0d0887"
             ],
             [
              0.1111111111111111,
              "#46039f"
             ],
             [
              0.2222222222222222,
              "#7201a8"
             ],
             [
              0.3333333333333333,
              "#9c179e"
             ],
             [
              0.4444444444444444,
              "#bd3786"
             ],
             [
              0.5555555555555556,
              "#d8576b"
             ],
             [
              0.6666666666666666,
              "#ed7953"
             ],
             [
              0.7777777777777778,
              "#fb9f3a"
             ],
             [
              0.8888888888888888,
              "#fdca26"
             ],
             [
              1,
              "#f0f921"
             ]
            ],
            "type": "heatmapgl"
           }
          ],
          "histogram": [
           {
            "marker": {
             "pattern": {
              "fillmode": "overlay",
              "size": 10,
              "solidity": 0.2
             }
            },
            "type": "histogram"
           }
          ],
          "histogram2d": [
           {
            "colorbar": {
             "outlinewidth": 0,
             "ticks": ""
            },
            "colorscale": [
             [
              0,
              "#0d0887"
             ],
             [
              0.1111111111111111,
              "#46039f"
             ],
             [
              0.2222222222222222,
              "#7201a8"
             ],
             [
              0.3333333333333333,
              "#9c179e"
             ],
             [
              0.4444444444444444,
              "#bd3786"
             ],
             [
              0.5555555555555556,
              "#d8576b"
             ],
             [
              0.6666666666666666,
              "#ed7953"
             ],
             [
              0.7777777777777778,
              "#fb9f3a"
             ],
             [
              0.8888888888888888,
              "#fdca26"
             ],
             [
              1,
              "#f0f921"
             ]
            ],
            "type": "histogram2d"
           }
          ],
          "histogram2dcontour": [
           {
            "colorbar": {
             "outlinewidth": 0,
             "ticks": ""
            },
            "colorscale": [
             [
              0,
              "#0d0887"
             ],
             [
              0.1111111111111111,
              "#46039f"
             ],
             [
              0.2222222222222222,
              "#7201a8"
             ],
             [
              0.3333333333333333,
              "#9c179e"
             ],
             [
              0.4444444444444444,
              "#bd3786"
             ],
             [
              0.5555555555555556,
              "#d8576b"
             ],
             [
              0.6666666666666666,
              "#ed7953"
             ],
             [
              0.7777777777777778,
              "#fb9f3a"
             ],
             [
              0.8888888888888888,
              "#fdca26"
             ],
             [
              1,
              "#f0f921"
             ]
            ],
            "type": "histogram2dcontour"
           }
          ],
          "mesh3d": [
           {
            "colorbar": {
             "outlinewidth": 0,
             "ticks": ""
            },
            "type": "mesh3d"
           }
          ],
          "parcoords": [
           {
            "line": {
             "colorbar": {
              "outlinewidth": 0,
              "ticks": ""
             }
            },
            "type": "parcoords"
           }
          ],
          "pie": [
           {
            "automargin": true,
            "type": "pie"
           }
          ],
          "scatter": [
           {
            "fillpattern": {
             "fillmode": "overlay",
             "size": 10,
             "solidity": 0.2
            },
            "type": "scatter"
           }
          ],
          "scatter3d": [
           {
            "line": {
             "colorbar": {
              "outlinewidth": 0,
              "ticks": ""
             }
            },
            "marker": {
             "colorbar": {
              "outlinewidth": 0,
              "ticks": ""
             }
            },
            "type": "scatter3d"
           }
          ],
          "scattercarpet": [
           {
            "marker": {
             "colorbar": {
              "outlinewidth": 0,
              "ticks": ""
             }
            },
            "type": "scattercarpet"
           }
          ],
          "scattergeo": [
           {
            "marker": {
             "colorbar": {
              "outlinewidth": 0,
              "ticks": ""
             }
            },
            "type": "scattergeo"
           }
          ],
          "scattergl": [
           {
            "marker": {
             "colorbar": {
              "outlinewidth": 0,
              "ticks": ""
             }
            },
            "type": "scattergl"
           }
          ],
          "scattermapbox": [
           {
            "marker": {
             "colorbar": {
              "outlinewidth": 0,
              "ticks": ""
             }
            },
            "type": "scattermapbox"
           }
          ],
          "scatterpolar": [
           {
            "marker": {
             "colorbar": {
              "outlinewidth": 0,
              "ticks": ""
             }
            },
            "type": "scatterpolar"
           }
          ],
          "scatterpolargl": [
           {
            "marker": {
             "colorbar": {
              "outlinewidth": 0,
              "ticks": ""
             }
            },
            "type": "scatterpolargl"
           }
          ],
          "scatterternary": [
           {
            "marker": {
             "colorbar": {
              "outlinewidth": 0,
              "ticks": ""
             }
            },
            "type": "scatterternary"
           }
          ],
          "surface": [
           {
            "colorbar": {
             "outlinewidth": 0,
             "ticks": ""
            },
            "colorscale": [
             [
              0,
              "#0d0887"
             ],
             [
              0.1111111111111111,
              "#46039f"
             ],
             [
              0.2222222222222222,
              "#7201a8"
             ],
             [
              0.3333333333333333,
              "#9c179e"
             ],
             [
              0.4444444444444444,
              "#bd3786"
             ],
             [
              0.5555555555555556,
              "#d8576b"
             ],
             [
              0.6666666666666666,
              "#ed7953"
             ],
             [
              0.7777777777777778,
              "#fb9f3a"
             ],
             [
              0.8888888888888888,
              "#fdca26"
             ],
             [
              1,
              "#f0f921"
             ]
            ],
            "type": "surface"
           }
          ],
          "table": [
           {
            "cells": {
             "fill": {
              "color": "#EBF0F8"
             },
             "line": {
              "color": "white"
             }
            },
            "header": {
             "fill": {
              "color": "#C8D4E3"
             },
             "line": {
              "color": "white"
             }
            },
            "type": "table"
           }
          ]
         },
         "layout": {
          "annotationdefaults": {
           "arrowcolor": "#2a3f5f",
           "arrowhead": 0,
           "arrowwidth": 1
          },
          "autotypenumbers": "strict",
          "coloraxis": {
           "colorbar": {
            "outlinewidth": 0,
            "ticks": ""
           }
          },
          "colorscale": {
           "diverging": [
            [
             0,
             "#8e0152"
            ],
            [
             0.1,
             "#c51b7d"
            ],
            [
             0.2,
             "#de77ae"
            ],
            [
             0.3,
             "#f1b6da"
            ],
            [
             0.4,
             "#fde0ef"
            ],
            [
             0.5,
             "#f7f7f7"
            ],
            [
             0.6,
             "#e6f5d0"
            ],
            [
             0.7,
             "#b8e186"
            ],
            [
             0.8,
             "#7fbc41"
            ],
            [
             0.9,
             "#4d9221"
            ],
            [
             1,
             "#276419"
            ]
           ],
           "sequential": [
            [
             0,
             "#0d0887"
            ],
            [
             0.1111111111111111,
             "#46039f"
            ],
            [
             0.2222222222222222,
             "#7201a8"
            ],
            [
             0.3333333333333333,
             "#9c179e"
            ],
            [
             0.4444444444444444,
             "#bd3786"
            ],
            [
             0.5555555555555556,
             "#d8576b"
            ],
            [
             0.6666666666666666,
             "#ed7953"
            ],
            [
             0.7777777777777778,
             "#fb9f3a"
            ],
            [
             0.8888888888888888,
             "#fdca26"
            ],
            [
             1,
             "#f0f921"
            ]
           ],
           "sequentialminus": [
            [
             0,
             "#0d0887"
            ],
            [
             0.1111111111111111,
             "#46039f"
            ],
            [
             0.2222222222222222,
             "#7201a8"
            ],
            [
             0.3333333333333333,
             "#9c179e"
            ],
            [
             0.4444444444444444,
             "#bd3786"
            ],
            [
             0.5555555555555556,
             "#d8576b"
            ],
            [
             0.6666666666666666,
             "#ed7953"
            ],
            [
             0.7777777777777778,
             "#fb9f3a"
            ],
            [
             0.8888888888888888,
             "#fdca26"
            ],
            [
             1,
             "#f0f921"
            ]
           ]
          },
          "colorway": [
           "#636efa",
           "#EF553B",
           "#00cc96",
           "#ab63fa",
           "#FFA15A",
           "#19d3f3",
           "#FF6692",
           "#B6E880",
           "#FF97FF",
           "#FECB52"
          ],
          "font": {
           "color": "#2a3f5f"
          },
          "geo": {
           "bgcolor": "white",
           "lakecolor": "white",
           "landcolor": "#E5ECF6",
           "showlakes": true,
           "showland": true,
           "subunitcolor": "white"
          },
          "hoverlabel": {
           "align": "left"
          },
          "hovermode": "closest",
          "mapbox": {
           "style": "light"
          },
          "paper_bgcolor": "white",
          "plot_bgcolor": "#E5ECF6",
          "polar": {
           "angularaxis": {
            "gridcolor": "white",
            "linecolor": "white",
            "ticks": ""
           },
           "bgcolor": "#E5ECF6",
           "radialaxis": {
            "gridcolor": "white",
            "linecolor": "white",
            "ticks": ""
           }
          },
          "scene": {
           "xaxis": {
            "backgroundcolor": "#E5ECF6",
            "gridcolor": "white",
            "gridwidth": 2,
            "linecolor": "white",
            "showbackground": true,
            "ticks": "",
            "zerolinecolor": "white"
           },
           "yaxis": {
            "backgroundcolor": "#E5ECF6",
            "gridcolor": "white",
            "gridwidth": 2,
            "linecolor": "white",
            "showbackground": true,
            "ticks": "",
            "zerolinecolor": "white"
           },
           "zaxis": {
            "backgroundcolor": "#E5ECF6",
            "gridcolor": "white",
            "gridwidth": 2,
            "linecolor": "white",
            "showbackground": true,
            "ticks": "",
            "zerolinecolor": "white"
           }
          },
          "shapedefaults": {
           "line": {
            "color": "#2a3f5f"
           }
          },
          "ternary": {
           "aaxis": {
            "gridcolor": "white",
            "linecolor": "white",
            "ticks": ""
           },
           "baxis": {
            "gridcolor": "white",
            "linecolor": "white",
            "ticks": ""
           },
           "bgcolor": "#E5ECF6",
           "caxis": {
            "gridcolor": "white",
            "linecolor": "white",
            "ticks": ""
           }
          },
          "title": {
           "x": 0.05
          },
          "xaxis": {
           "automargin": true,
           "gridcolor": "white",
           "linecolor": "white",
           "ticks": "",
           "title": {
            "standoff": 15
           },
           "zerolinecolor": "white",
           "zerolinewidth": 2
          },
          "yaxis": {
           "automargin": true,
           "gridcolor": "white",
           "linecolor": "white",
           "ticks": "",
           "title": {
            "standoff": 15
           },
           "zerolinecolor": "white",
           "zerolinewidth": 2
          }
         }
        }
       }
      }
     },
     "metadata": {},
     "output_type": "display_data"
    }
   ],
   "source": [
    "import plotly.graph_objects as go\n",
    "\n",
    "fig = go.Figure()\n",
    "\n",
    "fig.add_trace(go.Scatterpolar(\n",
    "  r=(plot_fuzzy_OSA[\"Intensities\"]),\n",
    "  theta=list(plot_fuzzy_OSA.index),\n",
    "  fill=\"toself\",\n",
    "  name='ms fuzzy'\n",
    "))\n",
    "fig.add_trace(go.Scatterpolar(\n",
    "  r=([2.1095081445804507, 71.32969620151374,5.520885037968301, 47.365698207768276,3.21334096, 2.17385084, 4.160303]),\n",
    "  theta=list(plot_fuzzy_OSA.index),\n",
    "  fill=\"toself\",\n",
    "  name='ms binary'\n",
    "))\n",
    "fig.add_trace(go.Scatterpolar(\n",
    "  r=([3,4,0,0,0,0,0]),\n",
    "  theta=list(plot_fuzzy_OSA.index),\n",
    "  fill=\"toself\",\n",
    "  name='panelist 1'\n",
    "))\n",
    "\n",
    "fig.update_layout(\n",
    "  polar=dict(\n",
    "    radialaxis=dict(\n",
    "      visible=True,\n",
    "       range=[0, 10]\n",
    "    ),\n",
    "  ),\n",
    "  showlegend=False\n",
    ")\n",
    "\n",
    "fig.show()"
   ]
  },
  {
   "attachments": {},
   "cell_type": "markdown",
   "metadata": {},
   "source": [
    "#### 5. Show Flavourprofile"
   ]
  },
  {
   "cell_type": "code",
   "execution_count": 92,
   "metadata": {},
   "outputs": [],
   "source": [
    "# look at panelist 1\n",
    "panelist_data_df = pd.read_table(\"data/vlb_data_combined.txt\", delimiter=',', index_col = 1)\n",
    "panelist_data_df = panelist_data_df[panelist_data_df[\"panelist\"]==1]\n",
    "panelist_data_df = panelist_data_df.drop(columns=[\"panelist\", \"date\"])"
   ]
  },
  {
   "cell_type": "code",
   "execution_count": 93,
   "metadata": {},
   "outputs": [],
   "source": [
    "overlap_OSAs = [\"Floral\", \"Fruity\", \"Sweet\", \"Woody\", \"Peaty\"]"
   ]
  },
  {
   "cell_type": "code",
   "execution_count": 94,
   "metadata": {},
   "outputs": [],
   "source": [
    "def get_panelist_profile(sample_key):\n",
    "    panelist_profile=[]\n",
    "    for OSA in overlap_OSAs :\n",
    "        panelist_profile.append(int(panelist_data_df.loc[sample_key][OSA]/10))\n",
    "    return panelist_profile"
   ]
  },
  {
   "cell_type": "code",
   "execution_count": 95,
   "metadata": {},
   "outputs": [],
   "source": [
    "def find_overlapping_profiles(final_OSA,comparable_OSAs):\n",
    "    # show only overlap meaning: floral, fruit, sweet, wood, peat\n",
    "    new_series = pd.Series() \n",
    "    threshold = 80\n",
    "    for comparable_OSA in comparable_OSAs:\n",
    "        for index in final_OSA.index:\n",
    "            if fuzz.ratio(str(index).lower(), comparable_OSA) >= threshold:\n",
    "                new_series[comparable_OSA] = final_OSA[index]\n",
    "                break\n",
    "            else:\n",
    "                new_series[comparable_OSA] = 0\n",
    "    return(new_series)\n"
   ]
  },
  {
   "cell_type": "code",
   "execution_count": 96,
   "metadata": {},
   "outputs": [],
   "source": [
    "import plotly.graph_objects as go\n",
    "\n",
    "#only compare only columns from final_OSA\n",
    "def compare_profiles(final_OSA, panelists):\n",
    "    fig = go.Figure()\n",
    "\n",
    "    fig.add_trace(go.Scatterpolar(\n",
    "        r=panelists,\n",
    "        theta=list(final_OSA.index),\n",
    "        fill='toself',\n",
    "        name=\"panelist\"\n",
    "    ))\n",
    "\n",
    "    fig.add_trace(go.Scatterpolar(\n",
    "    r=(np.array(final_OSA)),\n",
    "    theta=list(final_OSA.index),\n",
    "    fill='toself',\n",
    "    name= \"MS_prediction\"))\n",
    "\n",
    "    fig.update_layout(\n",
    "    polar=dict(\n",
    "        radialaxis=dict(\n",
    "        visible=True,\n",
    "        range=[0, 10]\n",
    "        )),\n",
    "    showlegend=False\n",
    "    )\n",
    "\n",
    "    fig.show()"
   ]
  },
  {
   "cell_type": "code",
   "execution_count": 97,
   "metadata": {},
   "outputs": [],
   "source": [
    "def compare_visual(OSA_plotting,sample_key):\n",
    "    OSA_compare = find_overlapping_profiles(OSA_plotting, overlap_OSAs)\n",
    "    panelist_compare = get_panelist_profile(sample_key)\n",
    "    compare_profiles(OSA_compare.T, panelist_compare)"
   ]
  },
  {
   "cell_type": "code",
   "execution_count": 98,
   "metadata": {},
   "outputs": [
    {
     "data": {
      "text/plain": [
       "Peaty            0.707071\n",
       "Feinty           9.706490\n",
       "Cereal           4.490041\n",
       "Green/grassy    13.187119\n",
       "Floral          15.000616\n",
       "Fruity           2.109508\n",
       "Solvently        3.188952\n",
       "Soapy           11.399934\n",
       "Sweet           71.329696\n",
       "Woody           58.895719\n",
       "Nutty            5.520885\n",
       "Spicy           47.365698\n",
       "Oily             3.213341\n",
       "Sour             2.173851\n",
       "Sulphury         4.160303\n",
       "Stale           13.913653\n",
       "dtype: float64"
      ]
     },
     "execution_count": 98,
     "metadata": {},
     "output_type": "execute_result"
    }
   ],
   "source": [
    "final_OSA.sum()"
   ]
  },
  {
   "cell_type": "code",
   "execution_count": 99,
   "metadata": {},
   "outputs": [
    {
     "data": {
      "application/vnd.plotly.v1+json": {
       "config": {
        "plotlyServerURL": "https://plot.ly"
       },
       "data": [
        {
         "fill": "toself",
         "r": [
          0.707070583940524,
          9.706490418637468,
          4.490041496021714,
          13.187118577364199,
          15.000616393752031,
          2.1095081445804507,
          3.188951958892509,
          11.399934209005952,
          71.32969620151374,
          58.89571941335076,
          5.520885037968301,
          47.365698207768276,
          3.213340964104041,
          2.173850838131503,
          4.160302998366435,
          13.913652750172384
         ],
         "theta": [
          "Peaty",
          "Feinty",
          "Cereal",
          "Green/grassy",
          "Floral",
          "Fruity",
          "Solvently",
          "Soapy",
          "Sweet",
          "Woody",
          "Nutty",
          "Spicy",
          "Oily",
          "Sour",
          "Sulphury",
          "Stale"
         ],
         "type": "scatterpolar"
        }
       ],
       "layout": {
        "polar": {
         "radialaxis": {
          "range": [
           0,
           100
          ],
          "visible": true
         }
        },
        "showlegend": false,
        "template": {
         "data": {
          "bar": [
           {
            "error_x": {
             "color": "#2a3f5f"
            },
            "error_y": {
             "color": "#2a3f5f"
            },
            "marker": {
             "line": {
              "color": "#E5ECF6",
              "width": 0.5
             },
             "pattern": {
              "fillmode": "overlay",
              "size": 10,
              "solidity": 0.2
             }
            },
            "type": "bar"
           }
          ],
          "barpolar": [
           {
            "marker": {
             "line": {
              "color": "#E5ECF6",
              "width": 0.5
             },
             "pattern": {
              "fillmode": "overlay",
              "size": 10,
              "solidity": 0.2
             }
            },
            "type": "barpolar"
           }
          ],
          "carpet": [
           {
            "aaxis": {
             "endlinecolor": "#2a3f5f",
             "gridcolor": "white",
             "linecolor": "white",
             "minorgridcolor": "white",
             "startlinecolor": "#2a3f5f"
            },
            "baxis": {
             "endlinecolor": "#2a3f5f",
             "gridcolor": "white",
             "linecolor": "white",
             "minorgridcolor": "white",
             "startlinecolor": "#2a3f5f"
            },
            "type": "carpet"
           }
          ],
          "choropleth": [
           {
            "colorbar": {
             "outlinewidth": 0,
             "ticks": ""
            },
            "type": "choropleth"
           }
          ],
          "contour": [
           {
            "colorbar": {
             "outlinewidth": 0,
             "ticks": ""
            },
            "colorscale": [
             [
              0,
              "#0d0887"
             ],
             [
              0.1111111111111111,
              "#46039f"
             ],
             [
              0.2222222222222222,
              "#7201a8"
             ],
             [
              0.3333333333333333,
              "#9c179e"
             ],
             [
              0.4444444444444444,
              "#bd3786"
             ],
             [
              0.5555555555555556,
              "#d8576b"
             ],
             [
              0.6666666666666666,
              "#ed7953"
             ],
             [
              0.7777777777777778,
              "#fb9f3a"
             ],
             [
              0.8888888888888888,
              "#fdca26"
             ],
             [
              1,
              "#f0f921"
             ]
            ],
            "type": "contour"
           }
          ],
          "contourcarpet": [
           {
            "colorbar": {
             "outlinewidth": 0,
             "ticks": ""
            },
            "type": "contourcarpet"
           }
          ],
          "heatmap": [
           {
            "colorbar": {
             "outlinewidth": 0,
             "ticks": ""
            },
            "colorscale": [
             [
              0,
              "#0d0887"
             ],
             [
              0.1111111111111111,
              "#46039f"
             ],
             [
              0.2222222222222222,
              "#7201a8"
             ],
             [
              0.3333333333333333,
              "#9c179e"
             ],
             [
              0.4444444444444444,
              "#bd3786"
             ],
             [
              0.5555555555555556,
              "#d8576b"
             ],
             [
              0.6666666666666666,
              "#ed7953"
             ],
             [
              0.7777777777777778,
              "#fb9f3a"
             ],
             [
              0.8888888888888888,
              "#fdca26"
             ],
             [
              1,
              "#f0f921"
             ]
            ],
            "type": "heatmap"
           }
          ],
          "heatmapgl": [
           {
            "colorbar": {
             "outlinewidth": 0,
             "ticks": ""
            },
            "colorscale": [
             [
              0,
              "#0d0887"
             ],
             [
              0.1111111111111111,
              "#46039f"
             ],
             [
              0.2222222222222222,
              "#7201a8"
             ],
             [
              0.3333333333333333,
              "#9c179e"
             ],
             [
              0.4444444444444444,
              "#bd3786"
             ],
             [
              0.5555555555555556,
              "#d8576b"
             ],
             [
              0.6666666666666666,
              "#ed7953"
             ],
             [
              0.7777777777777778,
              "#fb9f3a"
             ],
             [
              0.8888888888888888,
              "#fdca26"
             ],
             [
              1,
              "#f0f921"
             ]
            ],
            "type": "heatmapgl"
           }
          ],
          "histogram": [
           {
            "marker": {
             "pattern": {
              "fillmode": "overlay",
              "size": 10,
              "solidity": 0.2
             }
            },
            "type": "histogram"
           }
          ],
          "histogram2d": [
           {
            "colorbar": {
             "outlinewidth": 0,
             "ticks": ""
            },
            "colorscale": [
             [
              0,
              "#0d0887"
             ],
             [
              0.1111111111111111,
              "#46039f"
             ],
             [
              0.2222222222222222,
              "#7201a8"
             ],
             [
              0.3333333333333333,
              "#9c179e"
             ],
             [
              0.4444444444444444,
              "#bd3786"
             ],
             [
              0.5555555555555556,
              "#d8576b"
             ],
             [
              0.6666666666666666,
              "#ed7953"
             ],
             [
              0.7777777777777778,
              "#fb9f3a"
             ],
             [
              0.8888888888888888,
              "#fdca26"
             ],
             [
              1,
              "#f0f921"
             ]
            ],
            "type": "histogram2d"
           }
          ],
          "histogram2dcontour": [
           {
            "colorbar": {
             "outlinewidth": 0,
             "ticks": ""
            },
            "colorscale": [
             [
              0,
              "#0d0887"
             ],
             [
              0.1111111111111111,
              "#46039f"
             ],
             [
              0.2222222222222222,
              "#7201a8"
             ],
             [
              0.3333333333333333,
              "#9c179e"
             ],
             [
              0.4444444444444444,
              "#bd3786"
             ],
             [
              0.5555555555555556,
              "#d8576b"
             ],
             [
              0.6666666666666666,
              "#ed7953"
             ],
             [
              0.7777777777777778,
              "#fb9f3a"
             ],
             [
              0.8888888888888888,
              "#fdca26"
             ],
             [
              1,
              "#f0f921"
             ]
            ],
            "type": "histogram2dcontour"
           }
          ],
          "mesh3d": [
           {
            "colorbar": {
             "outlinewidth": 0,
             "ticks": ""
            },
            "type": "mesh3d"
           }
          ],
          "parcoords": [
           {
            "line": {
             "colorbar": {
              "outlinewidth": 0,
              "ticks": ""
             }
            },
            "type": "parcoords"
           }
          ],
          "pie": [
           {
            "automargin": true,
            "type": "pie"
           }
          ],
          "scatter": [
           {
            "fillpattern": {
             "fillmode": "overlay",
             "size": 10,
             "solidity": 0.2
            },
            "type": "scatter"
           }
          ],
          "scatter3d": [
           {
            "line": {
             "colorbar": {
              "outlinewidth": 0,
              "ticks": ""
             }
            },
            "marker": {
             "colorbar": {
              "outlinewidth": 0,
              "ticks": ""
             }
            },
            "type": "scatter3d"
           }
          ],
          "scattercarpet": [
           {
            "marker": {
             "colorbar": {
              "outlinewidth": 0,
              "ticks": ""
             }
            },
            "type": "scattercarpet"
           }
          ],
          "scattergeo": [
           {
            "marker": {
             "colorbar": {
              "outlinewidth": 0,
              "ticks": ""
             }
            },
            "type": "scattergeo"
           }
          ],
          "scattergl": [
           {
            "marker": {
             "colorbar": {
              "outlinewidth": 0,
              "ticks": ""
             }
            },
            "type": "scattergl"
           }
          ],
          "scattermapbox": [
           {
            "marker": {
             "colorbar": {
              "outlinewidth": 0,
              "ticks": ""
             }
            },
            "type": "scattermapbox"
           }
          ],
          "scatterpolar": [
           {
            "marker": {
             "colorbar": {
              "outlinewidth": 0,
              "ticks": ""
             }
            },
            "type": "scatterpolar"
           }
          ],
          "scatterpolargl": [
           {
            "marker": {
             "colorbar": {
              "outlinewidth": 0,
              "ticks": ""
             }
            },
            "type": "scatterpolargl"
           }
          ],
          "scatterternary": [
           {
            "marker": {
             "colorbar": {
              "outlinewidth": 0,
              "ticks": ""
             }
            },
            "type": "scatterternary"
           }
          ],
          "surface": [
           {
            "colorbar": {
             "outlinewidth": 0,
             "ticks": ""
            },
            "colorscale": [
             [
              0,
              "#0d0887"
             ],
             [
              0.1111111111111111,
              "#46039f"
             ],
             [
              0.2222222222222222,
              "#7201a8"
             ],
             [
              0.3333333333333333,
              "#9c179e"
             ],
             [
              0.4444444444444444,
              "#bd3786"
             ],
             [
              0.5555555555555556,
              "#d8576b"
             ],
             [
              0.6666666666666666,
              "#ed7953"
             ],
             [
              0.7777777777777778,
              "#fb9f3a"
             ],
             [
              0.8888888888888888,
              "#fdca26"
             ],
             [
              1,
              "#f0f921"
             ]
            ],
            "type": "surface"
           }
          ],
          "table": [
           {
            "cells": {
             "fill": {
              "color": "#EBF0F8"
             },
             "line": {
              "color": "white"
             }
            },
            "header": {
             "fill": {
              "color": "#C8D4E3"
             },
             "line": {
              "color": "white"
             }
            },
            "type": "table"
           }
          ]
         },
         "layout": {
          "annotationdefaults": {
           "arrowcolor": "#2a3f5f",
           "arrowhead": 0,
           "arrowwidth": 1
          },
          "autotypenumbers": "strict",
          "coloraxis": {
           "colorbar": {
            "outlinewidth": 0,
            "ticks": ""
           }
          },
          "colorscale": {
           "diverging": [
            [
             0,
             "#8e0152"
            ],
            [
             0.1,
             "#c51b7d"
            ],
            [
             0.2,
             "#de77ae"
            ],
            [
             0.3,
             "#f1b6da"
            ],
            [
             0.4,
             "#fde0ef"
            ],
            [
             0.5,
             "#f7f7f7"
            ],
            [
             0.6,
             "#e6f5d0"
            ],
            [
             0.7,
             "#b8e186"
            ],
            [
             0.8,
             "#7fbc41"
            ],
            [
             0.9,
             "#4d9221"
            ],
            [
             1,
             "#276419"
            ]
           ],
           "sequential": [
            [
             0,
             "#0d0887"
            ],
            [
             0.1111111111111111,
             "#46039f"
            ],
            [
             0.2222222222222222,
             "#7201a8"
            ],
            [
             0.3333333333333333,
             "#9c179e"
            ],
            [
             0.4444444444444444,
             "#bd3786"
            ],
            [
             0.5555555555555556,
             "#d8576b"
            ],
            [
             0.6666666666666666,
             "#ed7953"
            ],
            [
             0.7777777777777778,
             "#fb9f3a"
            ],
            [
             0.8888888888888888,
             "#fdca26"
            ],
            [
             1,
             "#f0f921"
            ]
           ],
           "sequentialminus": [
            [
             0,
             "#0d0887"
            ],
            [
             0.1111111111111111,
             "#46039f"
            ],
            [
             0.2222222222222222,
             "#7201a8"
            ],
            [
             0.3333333333333333,
             "#9c179e"
            ],
            [
             0.4444444444444444,
             "#bd3786"
            ],
            [
             0.5555555555555556,
             "#d8576b"
            ],
            [
             0.6666666666666666,
             "#ed7953"
            ],
            [
             0.7777777777777778,
             "#fb9f3a"
            ],
            [
             0.8888888888888888,
             "#fdca26"
            ],
            [
             1,
             "#f0f921"
            ]
           ]
          },
          "colorway": [
           "#636efa",
           "#EF553B",
           "#00cc96",
           "#ab63fa",
           "#FFA15A",
           "#19d3f3",
           "#FF6692",
           "#B6E880",
           "#FF97FF",
           "#FECB52"
          ],
          "font": {
           "color": "#2a3f5f"
          },
          "geo": {
           "bgcolor": "white",
           "lakecolor": "white",
           "landcolor": "#E5ECF6",
           "showlakes": true,
           "showland": true,
           "subunitcolor": "white"
          },
          "hoverlabel": {
           "align": "left"
          },
          "hovermode": "closest",
          "mapbox": {
           "style": "light"
          },
          "paper_bgcolor": "white",
          "plot_bgcolor": "#E5ECF6",
          "polar": {
           "angularaxis": {
            "gridcolor": "white",
            "linecolor": "white",
            "ticks": ""
           },
           "bgcolor": "#E5ECF6",
           "radialaxis": {
            "gridcolor": "white",
            "linecolor": "white",
            "ticks": ""
           }
          },
          "scene": {
           "xaxis": {
            "backgroundcolor": "#E5ECF6",
            "gridcolor": "white",
            "gridwidth": 2,
            "linecolor": "white",
            "showbackground": true,
            "ticks": "",
            "zerolinecolor": "white"
           },
           "yaxis": {
            "backgroundcolor": "#E5ECF6",
            "gridcolor": "white",
            "gridwidth": 2,
            "linecolor": "white",
            "showbackground": true,
            "ticks": "",
            "zerolinecolor": "white"
           },
           "zaxis": {
            "backgroundcolor": "#E5ECF6",
            "gridcolor": "white",
            "gridwidth": 2,
            "linecolor": "white",
            "showbackground": true,
            "ticks": "",
            "zerolinecolor": "white"
           }
          },
          "shapedefaults": {
           "line": {
            "color": "#2a3f5f"
           }
          },
          "ternary": {
           "aaxis": {
            "gridcolor": "white",
            "linecolor": "white",
            "ticks": ""
           },
           "baxis": {
            "gridcolor": "white",
            "linecolor": "white",
            "ticks": ""
           },
           "bgcolor": "#E5ECF6",
           "caxis": {
            "gridcolor": "white",
            "linecolor": "white",
            "ticks": ""
           }
          },
          "title": {
           "x": 0.05
          },
          "xaxis": {
           "automargin": true,
           "gridcolor": "white",
           "linecolor": "white",
           "ticks": "",
           "title": {
            "standoff": 15
           },
           "zerolinecolor": "white",
           "zerolinewidth": 2
          },
          "yaxis": {
           "automargin": true,
           "gridcolor": "white",
           "linecolor": "white",
           "ticks": "",
           "title": {
            "standoff": 15
           },
           "zerolinecolor": "white",
           "zerolinewidth": 2
          }
         }
        }
       }
      }
     },
     "metadata": {},
     "output_type": "display_data"
    }
   ],
   "source": [
    "import plotly.graph_objects as go\n",
    "\n",
    "fig = go.Figure(data=go.Scatterpolar(\n",
    "  r=(np.array(final_OSA.sum())),\n",
    "  theta=list(final_OSA.columns),\n",
    "  fill='toself'\n",
    "))\n",
    "\n",
    "fig.update_layout(\n",
    "  polar=dict(\n",
    "    radialaxis=dict(\n",
    "      visible=True,\n",
    "       range=[0, 100]\n",
    "    ),\n",
    "  ),\n",
    "  showlegend=False\n",
    ")\n",
    "\n",
    "fig.show()"
   ]
  },
  {
   "cell_type": "code",
   "execution_count": 100,
   "metadata": {},
   "outputs": [],
   "source": [
    "# filter out our 8 comparable OSAs \n",
    "comparable_OSAs = [\"floral\",\"fruit\",\"wood\",\"complexity\",\"malt\",\"sweet\",\"peat\",\"dried fruits\"]\n",
    "filtered_OSAs = pd.DataFrame(columns=comparable_OSAs)\n",
    "threshold = 80\n",
    "# Populate the new DataFrame based on original DataFrame\n",
    "for column in final_OSA.columns:\n",
    "    for comparable_OSA in comparable_OSAs:\n",
    "        if fuzz.ratio(str(column).lower(), comparable_OSA) >= threshold:\n",
    "            filtered_OSAs[comparable_OSA] = final_OSA[column]\n",
    "\n",
    "#filtered_OSAs\n",
    "\n"
   ]
  },
  {
   "cell_type": "code",
   "execution_count": 101,
   "metadata": {},
   "outputs": [
    {
     "data": {
      "application/vnd.plotly.v1+json": {
       "config": {
        "plotlyServerURL": "https://plot.ly"
       },
       "data": [
        {
         "fill": "toself",
         "name": "Product A",
         "r": [
          4,
          3,
          5,
          4,
          3,
          4,
          3
         ],
         "theta": [
          "floral",
          "fruit",
          "wood",
          "complexity",
          "malt",
          "sweet",
          "peat",
          "dried fruits"
         ],
         "type": "scatterpolar"
        },
        {
         "fill": "toself",
         "name": "Product B",
         "r": [
          150.0061639375203,
          21.095081445804507,
          588.9571941335076,
          0,
          0,
          713.2969620151374,
          7.070705839405241,
          0
         ],
         "theta": [
          "floral",
          "fruit",
          "wood",
          "complexity",
          "malt",
          "sweet",
          "peat",
          "dried fruits"
         ],
         "type": "scatterpolar"
        }
       ],
       "layout": {
        "polar": {
         "radialaxis": {
          "range": [
           0,
           10
          ],
          "visible": true
         }
        },
        "showlegend": false,
        "template": {
         "data": {
          "bar": [
           {
            "error_x": {
             "color": "#2a3f5f"
            },
            "error_y": {
             "color": "#2a3f5f"
            },
            "marker": {
             "line": {
              "color": "#E5ECF6",
              "width": 0.5
             },
             "pattern": {
              "fillmode": "overlay",
              "size": 10,
              "solidity": 0.2
             }
            },
            "type": "bar"
           }
          ],
          "barpolar": [
           {
            "marker": {
             "line": {
              "color": "#E5ECF6",
              "width": 0.5
             },
             "pattern": {
              "fillmode": "overlay",
              "size": 10,
              "solidity": 0.2
             }
            },
            "type": "barpolar"
           }
          ],
          "carpet": [
           {
            "aaxis": {
             "endlinecolor": "#2a3f5f",
             "gridcolor": "white",
             "linecolor": "white",
             "minorgridcolor": "white",
             "startlinecolor": "#2a3f5f"
            },
            "baxis": {
             "endlinecolor": "#2a3f5f",
             "gridcolor": "white",
             "linecolor": "white",
             "minorgridcolor": "white",
             "startlinecolor": "#2a3f5f"
            },
            "type": "carpet"
           }
          ],
          "choropleth": [
           {
            "colorbar": {
             "outlinewidth": 0,
             "ticks": ""
            },
            "type": "choropleth"
           }
          ],
          "contour": [
           {
            "colorbar": {
             "outlinewidth": 0,
             "ticks": ""
            },
            "colorscale": [
             [
              0,
              "#0d0887"
             ],
             [
              0.1111111111111111,
              "#46039f"
             ],
             [
              0.2222222222222222,
              "#7201a8"
             ],
             [
              0.3333333333333333,
              "#9c179e"
             ],
             [
              0.4444444444444444,
              "#bd3786"
             ],
             [
              0.5555555555555556,
              "#d8576b"
             ],
             [
              0.6666666666666666,
              "#ed7953"
             ],
             [
              0.7777777777777778,
              "#fb9f3a"
             ],
             [
              0.8888888888888888,
              "#fdca26"
             ],
             [
              1,
              "#f0f921"
             ]
            ],
            "type": "contour"
           }
          ],
          "contourcarpet": [
           {
            "colorbar": {
             "outlinewidth": 0,
             "ticks": ""
            },
            "type": "contourcarpet"
           }
          ],
          "heatmap": [
           {
            "colorbar": {
             "outlinewidth": 0,
             "ticks": ""
            },
            "colorscale": [
             [
              0,
              "#0d0887"
             ],
             [
              0.1111111111111111,
              "#46039f"
             ],
             [
              0.2222222222222222,
              "#7201a8"
             ],
             [
              0.3333333333333333,
              "#9c179e"
             ],
             [
              0.4444444444444444,
              "#bd3786"
             ],
             [
              0.5555555555555556,
              "#d8576b"
             ],
             [
              0.6666666666666666,
              "#ed7953"
             ],
             [
              0.7777777777777778,
              "#fb9f3a"
             ],
             [
              0.8888888888888888,
              "#fdca26"
             ],
             [
              1,
              "#f0f921"
             ]
            ],
            "type": "heatmap"
           }
          ],
          "heatmapgl": [
           {
            "colorbar": {
             "outlinewidth": 0,
             "ticks": ""
            },
            "colorscale": [
             [
              0,
              "#0d0887"
             ],
             [
              0.1111111111111111,
              "#46039f"
             ],
             [
              0.2222222222222222,
              "#7201a8"
             ],
             [
              0.3333333333333333,
              "#9c179e"
             ],
             [
              0.4444444444444444,
              "#bd3786"
             ],
             [
              0.5555555555555556,
              "#d8576b"
             ],
             [
              0.6666666666666666,
              "#ed7953"
             ],
             [
              0.7777777777777778,
              "#fb9f3a"
             ],
             [
              0.8888888888888888,
              "#fdca26"
             ],
             [
              1,
              "#f0f921"
             ]
            ],
            "type": "heatmapgl"
           }
          ],
          "histogram": [
           {
            "marker": {
             "pattern": {
              "fillmode": "overlay",
              "size": 10,
              "solidity": 0.2
             }
            },
            "type": "histogram"
           }
          ],
          "histogram2d": [
           {
            "colorbar": {
             "outlinewidth": 0,
             "ticks": ""
            },
            "colorscale": [
             [
              0,
              "#0d0887"
             ],
             [
              0.1111111111111111,
              "#46039f"
             ],
             [
              0.2222222222222222,
              "#7201a8"
             ],
             [
              0.3333333333333333,
              "#9c179e"
             ],
             [
              0.4444444444444444,
              "#bd3786"
             ],
             [
              0.5555555555555556,
              "#d8576b"
             ],
             [
              0.6666666666666666,
              "#ed7953"
             ],
             [
              0.7777777777777778,
              "#fb9f3a"
             ],
             [
              0.8888888888888888,
              "#fdca26"
             ],
             [
              1,
              "#f0f921"
             ]
            ],
            "type": "histogram2d"
           }
          ],
          "histogram2dcontour": [
           {
            "colorbar": {
             "outlinewidth": 0,
             "ticks": ""
            },
            "colorscale": [
             [
              0,
              "#0d0887"
             ],
             [
              0.1111111111111111,
              "#46039f"
             ],
             [
              0.2222222222222222,
              "#7201a8"
             ],
             [
              0.3333333333333333,
              "#9c179e"
             ],
             [
              0.4444444444444444,
              "#bd3786"
             ],
             [
              0.5555555555555556,
              "#d8576b"
             ],
             [
              0.6666666666666666,
              "#ed7953"
             ],
             [
              0.7777777777777778,
              "#fb9f3a"
             ],
             [
              0.8888888888888888,
              "#fdca26"
             ],
             [
              1,
              "#f0f921"
             ]
            ],
            "type": "histogram2dcontour"
           }
          ],
          "mesh3d": [
           {
            "colorbar": {
             "outlinewidth": 0,
             "ticks": ""
            },
            "type": "mesh3d"
           }
          ],
          "parcoords": [
           {
            "line": {
             "colorbar": {
              "outlinewidth": 0,
              "ticks": ""
             }
            },
            "type": "parcoords"
           }
          ],
          "pie": [
           {
            "automargin": true,
            "type": "pie"
           }
          ],
          "scatter": [
           {
            "fillpattern": {
             "fillmode": "overlay",
             "size": 10,
             "solidity": 0.2
            },
            "type": "scatter"
           }
          ],
          "scatter3d": [
           {
            "line": {
             "colorbar": {
              "outlinewidth": 0,
              "ticks": ""
             }
            },
            "marker": {
             "colorbar": {
              "outlinewidth": 0,
              "ticks": ""
             }
            },
            "type": "scatter3d"
           }
          ],
          "scattercarpet": [
           {
            "marker": {
             "colorbar": {
              "outlinewidth": 0,
              "ticks": ""
             }
            },
            "type": "scattercarpet"
           }
          ],
          "scattergeo": [
           {
            "marker": {
             "colorbar": {
              "outlinewidth": 0,
              "ticks": ""
             }
            },
            "type": "scattergeo"
           }
          ],
          "scattergl": [
           {
            "marker": {
             "colorbar": {
              "outlinewidth": 0,
              "ticks": ""
             }
            },
            "type": "scattergl"
           }
          ],
          "scattermapbox": [
           {
            "marker": {
             "colorbar": {
              "outlinewidth": 0,
              "ticks": ""
             }
            },
            "type": "scattermapbox"
           }
          ],
          "scatterpolar": [
           {
            "marker": {
             "colorbar": {
              "outlinewidth": 0,
              "ticks": ""
             }
            },
            "type": "scatterpolar"
           }
          ],
          "scatterpolargl": [
           {
            "marker": {
             "colorbar": {
              "outlinewidth": 0,
              "ticks": ""
             }
            },
            "type": "scatterpolargl"
           }
          ],
          "scatterternary": [
           {
            "marker": {
             "colorbar": {
              "outlinewidth": 0,
              "ticks": ""
             }
            },
            "type": "scatterternary"
           }
          ],
          "surface": [
           {
            "colorbar": {
             "outlinewidth": 0,
             "ticks": ""
            },
            "colorscale": [
             [
              0,
              "#0d0887"
             ],
             [
              0.1111111111111111,
              "#46039f"
             ],
             [
              0.2222222222222222,
              "#7201a8"
             ],
             [
              0.3333333333333333,
              "#9c179e"
             ],
             [
              0.4444444444444444,
              "#bd3786"
             ],
             [
              0.5555555555555556,
              "#d8576b"
             ],
             [
              0.6666666666666666,
              "#ed7953"
             ],
             [
              0.7777777777777778,
              "#fb9f3a"
             ],
             [
              0.8888888888888888,
              "#fdca26"
             ],
             [
              1,
              "#f0f921"
             ]
            ],
            "type": "surface"
           }
          ],
          "table": [
           {
            "cells": {
             "fill": {
              "color": "#EBF0F8"
             },
             "line": {
              "color": "white"
             }
            },
            "header": {
             "fill": {
              "color": "#C8D4E3"
             },
             "line": {
              "color": "white"
             }
            },
            "type": "table"
           }
          ]
         },
         "layout": {
          "annotationdefaults": {
           "arrowcolor": "#2a3f5f",
           "arrowhead": 0,
           "arrowwidth": 1
          },
          "autotypenumbers": "strict",
          "coloraxis": {
           "colorbar": {
            "outlinewidth": 0,
            "ticks": ""
           }
          },
          "colorscale": {
           "diverging": [
            [
             0,
             "#8e0152"
            ],
            [
             0.1,
             "#c51b7d"
            ],
            [
             0.2,
             "#de77ae"
            ],
            [
             0.3,
             "#f1b6da"
            ],
            [
             0.4,
             "#fde0ef"
            ],
            [
             0.5,
             "#f7f7f7"
            ],
            [
             0.6,
             "#e6f5d0"
            ],
            [
             0.7,
             "#b8e186"
            ],
            [
             0.8,
             "#7fbc41"
            ],
            [
             0.9,
             "#4d9221"
            ],
            [
             1,
             "#276419"
            ]
           ],
           "sequential": [
            [
             0,
             "#0d0887"
            ],
            [
             0.1111111111111111,
             "#46039f"
            ],
            [
             0.2222222222222222,
             "#7201a8"
            ],
            [
             0.3333333333333333,
             "#9c179e"
            ],
            [
             0.4444444444444444,
             "#bd3786"
            ],
            [
             0.5555555555555556,
             "#d8576b"
            ],
            [
             0.6666666666666666,
             "#ed7953"
            ],
            [
             0.7777777777777778,
             "#fb9f3a"
            ],
            [
             0.8888888888888888,
             "#fdca26"
            ],
            [
             1,
             "#f0f921"
            ]
           ],
           "sequentialminus": [
            [
             0,
             "#0d0887"
            ],
            [
             0.1111111111111111,
             "#46039f"
            ],
            [
             0.2222222222222222,
             "#7201a8"
            ],
            [
             0.3333333333333333,
             "#9c179e"
            ],
            [
             0.4444444444444444,
             "#bd3786"
            ],
            [
             0.5555555555555556,
             "#d8576b"
            ],
            [
             0.6666666666666666,
             "#ed7953"
            ],
            [
             0.7777777777777778,
             "#fb9f3a"
            ],
            [
             0.8888888888888888,
             "#fdca26"
            ],
            [
             1,
             "#f0f921"
            ]
           ]
          },
          "colorway": [
           "#636efa",
           "#EF553B",
           "#00cc96",
           "#ab63fa",
           "#FFA15A",
           "#19d3f3",
           "#FF6692",
           "#B6E880",
           "#FF97FF",
           "#FECB52"
          ],
          "font": {
           "color": "#2a3f5f"
          },
          "geo": {
           "bgcolor": "white",
           "lakecolor": "white",
           "landcolor": "#E5ECF6",
           "showlakes": true,
           "showland": true,
           "subunitcolor": "white"
          },
          "hoverlabel": {
           "align": "left"
          },
          "hovermode": "closest",
          "mapbox": {
           "style": "light"
          },
          "paper_bgcolor": "white",
          "plot_bgcolor": "#E5ECF6",
          "polar": {
           "angularaxis": {
            "gridcolor": "white",
            "linecolor": "white",
            "ticks": ""
           },
           "bgcolor": "#E5ECF6",
           "radialaxis": {
            "gridcolor": "white",
            "linecolor": "white",
            "ticks": ""
           }
          },
          "scene": {
           "xaxis": {
            "backgroundcolor": "#E5ECF6",
            "gridcolor": "white",
            "gridwidth": 2,
            "linecolor": "white",
            "showbackground": true,
            "ticks": "",
            "zerolinecolor": "white"
           },
           "yaxis": {
            "backgroundcolor": "#E5ECF6",
            "gridcolor": "white",
            "gridwidth": 2,
            "linecolor": "white",
            "showbackground": true,
            "ticks": "",
            "zerolinecolor": "white"
           },
           "zaxis": {
            "backgroundcolor": "#E5ECF6",
            "gridcolor": "white",
            "gridwidth": 2,
            "linecolor": "white",
            "showbackground": true,
            "ticks": "",
            "zerolinecolor": "white"
           }
          },
          "shapedefaults": {
           "line": {
            "color": "#2a3f5f"
           }
          },
          "ternary": {
           "aaxis": {
            "gridcolor": "white",
            "linecolor": "white",
            "ticks": ""
           },
           "baxis": {
            "gridcolor": "white",
            "linecolor": "white",
            "ticks": ""
           },
           "bgcolor": "#E5ECF6",
           "caxis": {
            "gridcolor": "white",
            "linecolor": "white",
            "ticks": ""
           }
          },
          "title": {
           "x": 0.05
          },
          "xaxis": {
           "automargin": true,
           "gridcolor": "white",
           "linecolor": "white",
           "ticks": "",
           "title": {
            "standoff": 15
           },
           "zerolinecolor": "white",
           "zerolinewidth": 2
          },
          "yaxis": {
           "automargin": true,
           "gridcolor": "white",
           "linecolor": "white",
           "ticks": "",
           "title": {
            "standoff": 15
           },
           "zerolinecolor": "white",
           "zerolinewidth": 2
          }
         }
        }
       }
      }
     },
     "metadata": {},
     "output_type": "display_data"
    }
   ],
   "source": [
    "import plotly.graph_objects as go\n",
    "\n",
    "panelist_scores = [40,30,50,40,30,40,30]\n",
    "fig = go.Figure()\n",
    "\n",
    "fig.add_trace(go.Scatterpolar(\n",
    "      r=[value / 10 for value in panelist_scores],\n",
    "      theta=comparable_OSAs,\n",
    "      fill='toself',\n",
    "      name='Product A'\n",
    "))\n",
    "fig.add_trace(go.Scatterpolar(\n",
    "      r=list(filtered_OSAs.sum()*10),\n",
    "      theta=comparable_OSAs,\n",
    "      fill='toself',\n",
    "      name='Product B'\n",
    "))\n",
    "\n",
    "fig.update_layout(\n",
    "  polar=dict(\n",
    "    radialaxis=dict(\n",
    "      visible=True,\n",
    "      range=[0, 10]\n",
    "    )),\n",
    "  showlegend=False\n",
    ")\n",
    "\n",
    "fig.show()"
   ]
  },
  {
   "cell_type": "code",
   "execution_count": 102,
   "metadata": {},
   "outputs": [
    {
     "data": {
      "application/vnd.plotly.v1+json": {
       "config": {
        "plotlyServerURL": "https://plot.ly"
       },
       "data": [
        {
         "fill": "toself",
         "name": "panelist",
         "r": [
          0,
          4,
          3,
          4,
          5,
          0
         ],
         "theta": [
          "Peaty",
          "Feinty",
          "Cereal",
          "Green/grassy",
          "Floral",
          "Fruity",
          "Solvently",
          "Soapy",
          "Sweet",
          "Woody",
          "Nutty",
          "Spicy",
          "Oily",
          "Sour",
          "Sulphury",
          "Stale"
         ],
         "type": "scatterpolar"
        },
        {
         "fill": "toself",
         "name": "MS_prediction",
         "r": [
          0.707070583940524,
          9.706490418637468,
          4.490041496021714,
          13.187118577364199,
          15.000616393752031,
          2.1095081445804507,
          3.188951958892509,
          11.399934209005952,
          71.32969620151374,
          58.89571941335076,
          5.520885037968301,
          47.365698207768276,
          3.213340964104041,
          2.173850838131503,
          4.160302998366435,
          13.913652750172384
         ],
         "theta": [
          "Peaty",
          "Feinty",
          "Cereal",
          "Green/grassy",
          "Floral",
          "Fruity",
          "Solvently",
          "Soapy",
          "Sweet",
          "Woody",
          "Nutty",
          "Spicy",
          "Oily",
          "Sour",
          "Sulphury",
          "Stale"
         ],
         "type": "scatterpolar"
        }
       ],
       "layout": {
        "polar": {
         "radialaxis": {
          "range": [
           0,
           10
          ],
          "visible": true
         }
        },
        "showlegend": false,
        "template": {
         "data": {
          "bar": [
           {
            "error_x": {
             "color": "#2a3f5f"
            },
            "error_y": {
             "color": "#2a3f5f"
            },
            "marker": {
             "line": {
              "color": "#E5ECF6",
              "width": 0.5
             },
             "pattern": {
              "fillmode": "overlay",
              "size": 10,
              "solidity": 0.2
             }
            },
            "type": "bar"
           }
          ],
          "barpolar": [
           {
            "marker": {
             "line": {
              "color": "#E5ECF6",
              "width": 0.5
             },
             "pattern": {
              "fillmode": "overlay",
              "size": 10,
              "solidity": 0.2
             }
            },
            "type": "barpolar"
           }
          ],
          "carpet": [
           {
            "aaxis": {
             "endlinecolor": "#2a3f5f",
             "gridcolor": "white",
             "linecolor": "white",
             "minorgridcolor": "white",
             "startlinecolor": "#2a3f5f"
            },
            "baxis": {
             "endlinecolor": "#2a3f5f",
             "gridcolor": "white",
             "linecolor": "white",
             "minorgridcolor": "white",
             "startlinecolor": "#2a3f5f"
            },
            "type": "carpet"
           }
          ],
          "choropleth": [
           {
            "colorbar": {
             "outlinewidth": 0,
             "ticks": ""
            },
            "type": "choropleth"
           }
          ],
          "contour": [
           {
            "colorbar": {
             "outlinewidth": 0,
             "ticks": ""
            },
            "colorscale": [
             [
              0,
              "#0d0887"
             ],
             [
              0.1111111111111111,
              "#46039f"
             ],
             [
              0.2222222222222222,
              "#7201a8"
             ],
             [
              0.3333333333333333,
              "#9c179e"
             ],
             [
              0.4444444444444444,
              "#bd3786"
             ],
             [
              0.5555555555555556,
              "#d8576b"
             ],
             [
              0.6666666666666666,
              "#ed7953"
             ],
             [
              0.7777777777777778,
              "#fb9f3a"
             ],
             [
              0.8888888888888888,
              "#fdca26"
             ],
             [
              1,
              "#f0f921"
             ]
            ],
            "type": "contour"
           }
          ],
          "contourcarpet": [
           {
            "colorbar": {
             "outlinewidth": 0,
             "ticks": ""
            },
            "type": "contourcarpet"
           }
          ],
          "heatmap": [
           {
            "colorbar": {
             "outlinewidth": 0,
             "ticks": ""
            },
            "colorscale": [
             [
              0,
              "#0d0887"
             ],
             [
              0.1111111111111111,
              "#46039f"
             ],
             [
              0.2222222222222222,
              "#7201a8"
             ],
             [
              0.3333333333333333,
              "#9c179e"
             ],
             [
              0.4444444444444444,
              "#bd3786"
             ],
             [
              0.5555555555555556,
              "#d8576b"
             ],
             [
              0.6666666666666666,
              "#ed7953"
             ],
             [
              0.7777777777777778,
              "#fb9f3a"
             ],
             [
              0.8888888888888888,
              "#fdca26"
             ],
             [
              1,
              "#f0f921"
             ]
            ],
            "type": "heatmap"
           }
          ],
          "heatmapgl": [
           {
            "colorbar": {
             "outlinewidth": 0,
             "ticks": ""
            },
            "colorscale": [
             [
              0,
              "#0d0887"
             ],
             [
              0.1111111111111111,
              "#46039f"
             ],
             [
              0.2222222222222222,
              "#7201a8"
             ],
             [
              0.3333333333333333,
              "#9c179e"
             ],
             [
              0.4444444444444444,
              "#bd3786"
             ],
             [
              0.5555555555555556,
              "#d8576b"
             ],
             [
              0.6666666666666666,
              "#ed7953"
             ],
             [
              0.7777777777777778,
              "#fb9f3a"
             ],
             [
              0.8888888888888888,
              "#fdca26"
             ],
             [
              1,
              "#f0f921"
             ]
            ],
            "type": "heatmapgl"
           }
          ],
          "histogram": [
           {
            "marker": {
             "pattern": {
              "fillmode": "overlay",
              "size": 10,
              "solidity": 0.2
             }
            },
            "type": "histogram"
           }
          ],
          "histogram2d": [
           {
            "colorbar": {
             "outlinewidth": 0,
             "ticks": ""
            },
            "colorscale": [
             [
              0,
              "#0d0887"
             ],
             [
              0.1111111111111111,
              "#46039f"
             ],
             [
              0.2222222222222222,
              "#7201a8"
             ],
             [
              0.3333333333333333,
              "#9c179e"
             ],
             [
              0.4444444444444444,
              "#bd3786"
             ],
             [
              0.5555555555555556,
              "#d8576b"
             ],
             [
              0.6666666666666666,
              "#ed7953"
             ],
             [
              0.7777777777777778,
              "#fb9f3a"
             ],
             [
              0.8888888888888888,
              "#fdca26"
             ],
             [
              1,
              "#f0f921"
             ]
            ],
            "type": "histogram2d"
           }
          ],
          "histogram2dcontour": [
           {
            "colorbar": {
             "outlinewidth": 0,
             "ticks": ""
            },
            "colorscale": [
             [
              0,
              "#0d0887"
             ],
             [
              0.1111111111111111,
              "#46039f"
             ],
             [
              0.2222222222222222,
              "#7201a8"
             ],
             [
              0.3333333333333333,
              "#9c179e"
             ],
             [
              0.4444444444444444,
              "#bd3786"
             ],
             [
              0.5555555555555556,
              "#d8576b"
             ],
             [
              0.6666666666666666,
              "#ed7953"
             ],
             [
              0.7777777777777778,
              "#fb9f3a"
             ],
             [
              0.8888888888888888,
              "#fdca26"
             ],
             [
              1,
              "#f0f921"
             ]
            ],
            "type": "histogram2dcontour"
           }
          ],
          "mesh3d": [
           {
            "colorbar": {
             "outlinewidth": 0,
             "ticks": ""
            },
            "type": "mesh3d"
           }
          ],
          "parcoords": [
           {
            "line": {
             "colorbar": {
              "outlinewidth": 0,
              "ticks": ""
             }
            },
            "type": "parcoords"
           }
          ],
          "pie": [
           {
            "automargin": true,
            "type": "pie"
           }
          ],
          "scatter": [
           {
            "fillpattern": {
             "fillmode": "overlay",
             "size": 10,
             "solidity": 0.2
            },
            "type": "scatter"
           }
          ],
          "scatter3d": [
           {
            "line": {
             "colorbar": {
              "outlinewidth": 0,
              "ticks": ""
             }
            },
            "marker": {
             "colorbar": {
              "outlinewidth": 0,
              "ticks": ""
             }
            },
            "type": "scatter3d"
           }
          ],
          "scattercarpet": [
           {
            "marker": {
             "colorbar": {
              "outlinewidth": 0,
              "ticks": ""
             }
            },
            "type": "scattercarpet"
           }
          ],
          "scattergeo": [
           {
            "marker": {
             "colorbar": {
              "outlinewidth": 0,
              "ticks": ""
             }
            },
            "type": "scattergeo"
           }
          ],
          "scattergl": [
           {
            "marker": {
             "colorbar": {
              "outlinewidth": 0,
              "ticks": ""
             }
            },
            "type": "scattergl"
           }
          ],
          "scattermapbox": [
           {
            "marker": {
             "colorbar": {
              "outlinewidth": 0,
              "ticks": ""
             }
            },
            "type": "scattermapbox"
           }
          ],
          "scatterpolar": [
           {
            "marker": {
             "colorbar": {
              "outlinewidth": 0,
              "ticks": ""
             }
            },
            "type": "scatterpolar"
           }
          ],
          "scatterpolargl": [
           {
            "marker": {
             "colorbar": {
              "outlinewidth": 0,
              "ticks": ""
             }
            },
            "type": "scatterpolargl"
           }
          ],
          "scatterternary": [
           {
            "marker": {
             "colorbar": {
              "outlinewidth": 0,
              "ticks": ""
             }
            },
            "type": "scatterternary"
           }
          ],
          "surface": [
           {
            "colorbar": {
             "outlinewidth": 0,
             "ticks": ""
            },
            "colorscale": [
             [
              0,
              "#0d0887"
             ],
             [
              0.1111111111111111,
              "#46039f"
             ],
             [
              0.2222222222222222,
              "#7201a8"
             ],
             [
              0.3333333333333333,
              "#9c179e"
             ],
             [
              0.4444444444444444,
              "#bd3786"
             ],
             [
              0.5555555555555556,
              "#d8576b"
             ],
             [
              0.6666666666666666,
              "#ed7953"
             ],
             [
              0.7777777777777778,
              "#fb9f3a"
             ],
             [
              0.8888888888888888,
              "#fdca26"
             ],
             [
              1,
              "#f0f921"
             ]
            ],
            "type": "surface"
           }
          ],
          "table": [
           {
            "cells": {
             "fill": {
              "color": "#EBF0F8"
             },
             "line": {
              "color": "white"
             }
            },
            "header": {
             "fill": {
              "color": "#C8D4E3"
             },
             "line": {
              "color": "white"
             }
            },
            "type": "table"
           }
          ]
         },
         "layout": {
          "annotationdefaults": {
           "arrowcolor": "#2a3f5f",
           "arrowhead": 0,
           "arrowwidth": 1
          },
          "autotypenumbers": "strict",
          "coloraxis": {
           "colorbar": {
            "outlinewidth": 0,
            "ticks": ""
           }
          },
          "colorscale": {
           "diverging": [
            [
             0,
             "#8e0152"
            ],
            [
             0.1,
             "#c51b7d"
            ],
            [
             0.2,
             "#de77ae"
            ],
            [
             0.3,
             "#f1b6da"
            ],
            [
             0.4,
             "#fde0ef"
            ],
            [
             0.5,
             "#f7f7f7"
            ],
            [
             0.6,
             "#e6f5d0"
            ],
            [
             0.7,
             "#b8e186"
            ],
            [
             0.8,
             "#7fbc41"
            ],
            [
             0.9,
             "#4d9221"
            ],
            [
             1,
             "#276419"
            ]
           ],
           "sequential": [
            [
             0,
             "#0d0887"
            ],
            [
             0.1111111111111111,
             "#46039f"
            ],
            [
             0.2222222222222222,
             "#7201a8"
            ],
            [
             0.3333333333333333,
             "#9c179e"
            ],
            [
             0.4444444444444444,
             "#bd3786"
            ],
            [
             0.5555555555555556,
             "#d8576b"
            ],
            [
             0.6666666666666666,
             "#ed7953"
            ],
            [
             0.7777777777777778,
             "#fb9f3a"
            ],
            [
             0.8888888888888888,
             "#fdca26"
            ],
            [
             1,
             "#f0f921"
            ]
           ],
           "sequentialminus": [
            [
             0,
             "#0d0887"
            ],
            [
             0.1111111111111111,
             "#46039f"
            ],
            [
             0.2222222222222222,
             "#7201a8"
            ],
            [
             0.3333333333333333,
             "#9c179e"
            ],
            [
             0.4444444444444444,
             "#bd3786"
            ],
            [
             0.5555555555555556,
             "#d8576b"
            ],
            [
             0.6666666666666666,
             "#ed7953"
            ],
            [
             0.7777777777777778,
             "#fb9f3a"
            ],
            [
             0.8888888888888888,
             "#fdca26"
            ],
            [
             1,
             "#f0f921"
            ]
           ]
          },
          "colorway": [
           "#636efa",
           "#EF553B",
           "#00cc96",
           "#ab63fa",
           "#FFA15A",
           "#19d3f3",
           "#FF6692",
           "#B6E880",
           "#FF97FF",
           "#FECB52"
          ],
          "font": {
           "color": "#2a3f5f"
          },
          "geo": {
           "bgcolor": "white",
           "lakecolor": "white",
           "landcolor": "#E5ECF6",
           "showlakes": true,
           "showland": true,
           "subunitcolor": "white"
          },
          "hoverlabel": {
           "align": "left"
          },
          "hovermode": "closest",
          "mapbox": {
           "style": "light"
          },
          "paper_bgcolor": "white",
          "plot_bgcolor": "#E5ECF6",
          "polar": {
           "angularaxis": {
            "gridcolor": "white",
            "linecolor": "white",
            "ticks": ""
           },
           "bgcolor": "#E5ECF6",
           "radialaxis": {
            "gridcolor": "white",
            "linecolor": "white",
            "ticks": ""
           }
          },
          "scene": {
           "xaxis": {
            "backgroundcolor": "#E5ECF6",
            "gridcolor": "white",
            "gridwidth": 2,
            "linecolor": "white",
            "showbackground": true,
            "ticks": "",
            "zerolinecolor": "white"
           },
           "yaxis": {
            "backgroundcolor": "#E5ECF6",
            "gridcolor": "white",
            "gridwidth": 2,
            "linecolor": "white",
            "showbackground": true,
            "ticks": "",
            "zerolinecolor": "white"
           },
           "zaxis": {
            "backgroundcolor": "#E5ECF6",
            "gridcolor": "white",
            "gridwidth": 2,
            "linecolor": "white",
            "showbackground": true,
            "ticks": "",
            "zerolinecolor": "white"
           }
          },
          "shapedefaults": {
           "line": {
            "color": "#2a3f5f"
           }
          },
          "ternary": {
           "aaxis": {
            "gridcolor": "white",
            "linecolor": "white",
            "ticks": ""
           },
           "baxis": {
            "gridcolor": "white",
            "linecolor": "white",
            "ticks": ""
           },
           "bgcolor": "#E5ECF6",
           "caxis": {
            "gridcolor": "white",
            "linecolor": "white",
            "ticks": ""
           }
          },
          "title": {
           "x": 0.05
          },
          "xaxis": {
           "automargin": true,
           "gridcolor": "white",
           "linecolor": "white",
           "ticks": "",
           "title": {
            "standoff": 15
           },
           "zerolinecolor": "white",
           "zerolinewidth": 2
          },
          "yaxis": {
           "automargin": true,
           "gridcolor": "white",
           "linecolor": "white",
           "ticks": "",
           "title": {
            "standoff": 15
           },
           "zerolinecolor": "white",
           "zerolinewidth": 2
          }
         }
        }
       }
      }
     },
     "metadata": {},
     "output_type": "display_data"
    }
   ],
   "source": [
    "#only compare only columns from final_OSA\n",
    "fig = go.Figure()\n",
    "\n",
    "fig.add_trace(go.Scatterpolar(\n",
    "    r=[0,4,3,4,5,0],\n",
    "    theta=list(final_OSA.columns),\n",
    "    fill='toself',\n",
    "    name=\"panelist\"\n",
    "))\n",
    "\n",
    "fig.add_trace(go.Scatterpolar(\n",
    "  r=(np.array(final_OSA.sum())),\n",
    "  theta=list(final_OSA.columns),\n",
    "  fill='toself',\n",
    "  name= \"MS_prediction\"))\n",
    "\n",
    "fig.update_layout(\n",
    "  polar=dict(\n",
    "    radialaxis=dict(\n",
    "      visible=True,\n",
    "      range=[0, 10]\n",
    "    )),\n",
    "  showlegend=False\n",
    ")\n",
    "\n",
    "fig.show()"
   ]
  },
  {
   "cell_type": "code",
   "execution_count": 106,
   "metadata": {},
   "outputs": [
    {
     "name": "stderr",
     "output_type": "stream",
     "text": [
      "C:\\Users\\Franz\\AppData\\Local\\Temp\\ipykernel_12860\\3096962253.py:3: FutureWarning:\n",
      "\n",
      "The default dtype for empty Series will be 'object' instead of 'float64' in a future version. Specify a dtype explicitly to silence this warning.\n",
      "\n"
     ]
    },
    {
     "data": {
      "application/vnd.plotly.v1+json": {
       "config": {
        "plotlyServerURL": "https://plot.ly"
       },
       "data": [
        {
         "fill": "toself",
         "name": "panelist",
         "r": [
          4,
          3,
          4,
          5,
          3
         ],
         "theta": [
          "Floral",
          "Fruity",
          "Sweet",
          "Woody",
          "Peaty"
         ],
         "type": "scatterpolar"
        },
        {
         "fill": "toself",
         "name": "MS_prediction",
         "r": [
          1.500061639375203,
          0.21095081445804506,
          7.132969620151374,
          5.889571941335076,
          0.0707070583940524
         ],
         "theta": [
          "Floral",
          "Fruity",
          "Sweet",
          "Woody",
          "Peaty"
         ],
         "type": "scatterpolar"
        }
       ],
       "layout": {
        "polar": {
         "radialaxis": {
          "range": [
           0,
           10
          ],
          "visible": true
         }
        },
        "showlegend": false,
        "template": {
         "data": {
          "bar": [
           {
            "error_x": {
             "color": "#2a3f5f"
            },
            "error_y": {
             "color": "#2a3f5f"
            },
            "marker": {
             "line": {
              "color": "#E5ECF6",
              "width": 0.5
             },
             "pattern": {
              "fillmode": "overlay",
              "size": 10,
              "solidity": 0.2
             }
            },
            "type": "bar"
           }
          ],
          "barpolar": [
           {
            "marker": {
             "line": {
              "color": "#E5ECF6",
              "width": 0.5
             },
             "pattern": {
              "fillmode": "overlay",
              "size": 10,
              "solidity": 0.2
             }
            },
            "type": "barpolar"
           }
          ],
          "carpet": [
           {
            "aaxis": {
             "endlinecolor": "#2a3f5f",
             "gridcolor": "white",
             "linecolor": "white",
             "minorgridcolor": "white",
             "startlinecolor": "#2a3f5f"
            },
            "baxis": {
             "endlinecolor": "#2a3f5f",
             "gridcolor": "white",
             "linecolor": "white",
             "minorgridcolor": "white",
             "startlinecolor": "#2a3f5f"
            },
            "type": "carpet"
           }
          ],
          "choropleth": [
           {
            "colorbar": {
             "outlinewidth": 0,
             "ticks": ""
            },
            "type": "choropleth"
           }
          ],
          "contour": [
           {
            "colorbar": {
             "outlinewidth": 0,
             "ticks": ""
            },
            "colorscale": [
             [
              0,
              "#0d0887"
             ],
             [
              0.1111111111111111,
              "#46039f"
             ],
             [
              0.2222222222222222,
              "#7201a8"
             ],
             [
              0.3333333333333333,
              "#9c179e"
             ],
             [
              0.4444444444444444,
              "#bd3786"
             ],
             [
              0.5555555555555556,
              "#d8576b"
             ],
             [
              0.6666666666666666,
              "#ed7953"
             ],
             [
              0.7777777777777778,
              "#fb9f3a"
             ],
             [
              0.8888888888888888,
              "#fdca26"
             ],
             [
              1,
              "#f0f921"
             ]
            ],
            "type": "contour"
           }
          ],
          "contourcarpet": [
           {
            "colorbar": {
             "outlinewidth": 0,
             "ticks": ""
            },
            "type": "contourcarpet"
           }
          ],
          "heatmap": [
           {
            "colorbar": {
             "outlinewidth": 0,
             "ticks": ""
            },
            "colorscale": [
             [
              0,
              "#0d0887"
             ],
             [
              0.1111111111111111,
              "#46039f"
             ],
             [
              0.2222222222222222,
              "#7201a8"
             ],
             [
              0.3333333333333333,
              "#9c179e"
             ],
             [
              0.4444444444444444,
              "#bd3786"
             ],
             [
              0.5555555555555556,
              "#d8576b"
             ],
             [
              0.6666666666666666,
              "#ed7953"
             ],
             [
              0.7777777777777778,
              "#fb9f3a"
             ],
             [
              0.8888888888888888,
              "#fdca26"
             ],
             [
              1,
              "#f0f921"
             ]
            ],
            "type": "heatmap"
           }
          ],
          "heatmapgl": [
           {
            "colorbar": {
             "outlinewidth": 0,
             "ticks": ""
            },
            "colorscale": [
             [
              0,
              "#0d0887"
             ],
             [
              0.1111111111111111,
              "#46039f"
             ],
             [
              0.2222222222222222,
              "#7201a8"
             ],
             [
              0.3333333333333333,
              "#9c179e"
             ],
             [
              0.4444444444444444,
              "#bd3786"
             ],
             [
              0.5555555555555556,
              "#d8576b"
             ],
             [
              0.6666666666666666,
              "#ed7953"
             ],
             [
              0.7777777777777778,
              "#fb9f3a"
             ],
             [
              0.8888888888888888,
              "#fdca26"
             ],
             [
              1,
              "#f0f921"
             ]
            ],
            "type": "heatmapgl"
           }
          ],
          "histogram": [
           {
            "marker": {
             "pattern": {
              "fillmode": "overlay",
              "size": 10,
              "solidity": 0.2
             }
            },
            "type": "histogram"
           }
          ],
          "histogram2d": [
           {
            "colorbar": {
             "outlinewidth": 0,
             "ticks": ""
            },
            "colorscale": [
             [
              0,
              "#0d0887"
             ],
             [
              0.1111111111111111,
              "#46039f"
             ],
             [
              0.2222222222222222,
              "#7201a8"
             ],
             [
              0.3333333333333333,
              "#9c179e"
             ],
             [
              0.4444444444444444,
              "#bd3786"
             ],
             [
              0.5555555555555556,
              "#d8576b"
             ],
             [
              0.6666666666666666,
              "#ed7953"
             ],
             [
              0.7777777777777778,
              "#fb9f3a"
             ],
             [
              0.8888888888888888,
              "#fdca26"
             ],
             [
              1,
              "#f0f921"
             ]
            ],
            "type": "histogram2d"
           }
          ],
          "histogram2dcontour": [
           {
            "colorbar": {
             "outlinewidth": 0,
             "ticks": ""
            },
            "colorscale": [
             [
              0,
              "#0d0887"
             ],
             [
              0.1111111111111111,
              "#46039f"
             ],
             [
              0.2222222222222222,
              "#7201a8"
             ],
             [
              0.3333333333333333,
              "#9c179e"
             ],
             [
              0.4444444444444444,
              "#bd3786"
             ],
             [
              0.5555555555555556,
              "#d8576b"
             ],
             [
              0.6666666666666666,
              "#ed7953"
             ],
             [
              0.7777777777777778,
              "#fb9f3a"
             ],
             [
              0.8888888888888888,
              "#fdca26"
             ],
             [
              1,
              "#f0f921"
             ]
            ],
            "type": "histogram2dcontour"
           }
          ],
          "mesh3d": [
           {
            "colorbar": {
             "outlinewidth": 0,
             "ticks": ""
            },
            "type": "mesh3d"
           }
          ],
          "parcoords": [
           {
            "line": {
             "colorbar": {
              "outlinewidth": 0,
              "ticks": ""
             }
            },
            "type": "parcoords"
           }
          ],
          "pie": [
           {
            "automargin": true,
            "type": "pie"
           }
          ],
          "scatter": [
           {
            "fillpattern": {
             "fillmode": "overlay",
             "size": 10,
             "solidity": 0.2
            },
            "type": "scatter"
           }
          ],
          "scatter3d": [
           {
            "line": {
             "colorbar": {
              "outlinewidth": 0,
              "ticks": ""
             }
            },
            "marker": {
             "colorbar": {
              "outlinewidth": 0,
              "ticks": ""
             }
            },
            "type": "scatter3d"
           }
          ],
          "scattercarpet": [
           {
            "marker": {
             "colorbar": {
              "outlinewidth": 0,
              "ticks": ""
             }
            },
            "type": "scattercarpet"
           }
          ],
          "scattergeo": [
           {
            "marker": {
             "colorbar": {
              "outlinewidth": 0,
              "ticks": ""
             }
            },
            "type": "scattergeo"
           }
          ],
          "scattergl": [
           {
            "marker": {
             "colorbar": {
              "outlinewidth": 0,
              "ticks": ""
             }
            },
            "type": "scattergl"
           }
          ],
          "scattermapbox": [
           {
            "marker": {
             "colorbar": {
              "outlinewidth": 0,
              "ticks": ""
             }
            },
            "type": "scattermapbox"
           }
          ],
          "scatterpolar": [
           {
            "marker": {
             "colorbar": {
              "outlinewidth": 0,
              "ticks": ""
             }
            },
            "type": "scatterpolar"
           }
          ],
          "scatterpolargl": [
           {
            "marker": {
             "colorbar": {
              "outlinewidth": 0,
              "ticks": ""
             }
            },
            "type": "scatterpolargl"
           }
          ],
          "scatterternary": [
           {
            "marker": {
             "colorbar": {
              "outlinewidth": 0,
              "ticks": ""
             }
            },
            "type": "scatterternary"
           }
          ],
          "surface": [
           {
            "colorbar": {
             "outlinewidth": 0,
             "ticks": ""
            },
            "colorscale": [
             [
              0,
              "#0d0887"
             ],
             [
              0.1111111111111111,
              "#46039f"
             ],
             [
              0.2222222222222222,
              "#7201a8"
             ],
             [
              0.3333333333333333,
              "#9c179e"
             ],
             [
              0.4444444444444444,
              "#bd3786"
             ],
             [
              0.5555555555555556,
              "#d8576b"
             ],
             [
              0.6666666666666666,
              "#ed7953"
             ],
             [
              0.7777777777777778,
              "#fb9f3a"
             ],
             [
              0.8888888888888888,
              "#fdca26"
             ],
             [
              1,
              "#f0f921"
             ]
            ],
            "type": "surface"
           }
          ],
          "table": [
           {
            "cells": {
             "fill": {
              "color": "#EBF0F8"
             },
             "line": {
              "color": "white"
             }
            },
            "header": {
             "fill": {
              "color": "#C8D4E3"
             },
             "line": {
              "color": "white"
             }
            },
            "type": "table"
           }
          ]
         },
         "layout": {
          "annotationdefaults": {
           "arrowcolor": "#2a3f5f",
           "arrowhead": 0,
           "arrowwidth": 1
          },
          "autotypenumbers": "strict",
          "coloraxis": {
           "colorbar": {
            "outlinewidth": 0,
            "ticks": ""
           }
          },
          "colorscale": {
           "diverging": [
            [
             0,
             "#8e0152"
            ],
            [
             0.1,
             "#c51b7d"
            ],
            [
             0.2,
             "#de77ae"
            ],
            [
             0.3,
             "#f1b6da"
            ],
            [
             0.4,
             "#fde0ef"
            ],
            [
             0.5,
             "#f7f7f7"
            ],
            [
             0.6,
             "#e6f5d0"
            ],
            [
             0.7,
             "#b8e186"
            ],
            [
             0.8,
             "#7fbc41"
            ],
            [
             0.9,
             "#4d9221"
            ],
            [
             1,
             "#276419"
            ]
           ],
           "sequential": [
            [
             0,
             "#0d0887"
            ],
            [
             0.1111111111111111,
             "#46039f"
            ],
            [
             0.2222222222222222,
             "#7201a8"
            ],
            [
             0.3333333333333333,
             "#9c179e"
            ],
            [
             0.4444444444444444,
             "#bd3786"
            ],
            [
             0.5555555555555556,
             "#d8576b"
            ],
            [
             0.6666666666666666,
             "#ed7953"
            ],
            [
             0.7777777777777778,
             "#fb9f3a"
            ],
            [
             0.8888888888888888,
             "#fdca26"
            ],
            [
             1,
             "#f0f921"
            ]
           ],
           "sequentialminus": [
            [
             0,
             "#0d0887"
            ],
            [
             0.1111111111111111,
             "#46039f"
            ],
            [
             0.2222222222222222,
             "#7201a8"
            ],
            [
             0.3333333333333333,
             "#9c179e"
            ],
            [
             0.4444444444444444,
             "#bd3786"
            ],
            [
             0.5555555555555556,
             "#d8576b"
            ],
            [
             0.6666666666666666,
             "#ed7953"
            ],
            [
             0.7777777777777778,
             "#fb9f3a"
            ],
            [
             0.8888888888888888,
             "#fdca26"
            ],
            [
             1,
             "#f0f921"
            ]
           ]
          },
          "colorway": [
           "#636efa",
           "#EF553B",
           "#00cc96",
           "#ab63fa",
           "#FFA15A",
           "#19d3f3",
           "#FF6692",
           "#B6E880",
           "#FF97FF",
           "#FECB52"
          ],
          "font": {
           "color": "#2a3f5f"
          },
          "geo": {
           "bgcolor": "white",
           "lakecolor": "white",
           "landcolor": "#E5ECF6",
           "showlakes": true,
           "showland": true,
           "subunitcolor": "white"
          },
          "hoverlabel": {
           "align": "left"
          },
          "hovermode": "closest",
          "mapbox": {
           "style": "light"
          },
          "paper_bgcolor": "white",
          "plot_bgcolor": "#E5ECF6",
          "polar": {
           "angularaxis": {
            "gridcolor": "white",
            "linecolor": "white",
            "ticks": ""
           },
           "bgcolor": "#E5ECF6",
           "radialaxis": {
            "gridcolor": "white",
            "linecolor": "white",
            "ticks": ""
           }
          },
          "scene": {
           "xaxis": {
            "backgroundcolor": "#E5ECF6",
            "gridcolor": "white",
            "gridwidth": 2,
            "linecolor": "white",
            "showbackground": true,
            "ticks": "",
            "zerolinecolor": "white"
           },
           "yaxis": {
            "backgroundcolor": "#E5ECF6",
            "gridcolor": "white",
            "gridwidth": 2,
            "linecolor": "white",
            "showbackground": true,
            "ticks": "",
            "zerolinecolor": "white"
           },
           "zaxis": {
            "backgroundcolor": "#E5ECF6",
            "gridcolor": "white",
            "gridwidth": 2,
            "linecolor": "white",
            "showbackground": true,
            "ticks": "",
            "zerolinecolor": "white"
           }
          },
          "shapedefaults": {
           "line": {
            "color": "#2a3f5f"
           }
          },
          "ternary": {
           "aaxis": {
            "gridcolor": "white",
            "linecolor": "white",
            "ticks": ""
           },
           "baxis": {
            "gridcolor": "white",
            "linecolor": "white",
            "ticks": ""
           },
           "bgcolor": "#E5ECF6",
           "caxis": {
            "gridcolor": "white",
            "linecolor": "white",
            "ticks": ""
           }
          },
          "title": {
           "x": 0.05
          },
          "xaxis": {
           "automargin": true,
           "gridcolor": "white",
           "linecolor": "white",
           "ticks": "",
           "title": {
            "standoff": 15
           },
           "zerolinecolor": "white",
           "zerolinewidth": 2
          },
          "yaxis": {
           "automargin": true,
           "gridcolor": "white",
           "linecolor": "white",
           "ticks": "",
           "title": {
            "standoff": 15
           },
           "zerolinecolor": "white",
           "zerolinewidth": 2
          }
         }
        }
       }
      }
     },
     "metadata": {},
     "output_type": "display_data"
    }
   ],
   "source": [
    "compare_visual(final_OSA.sum()/10,\"000920\")"
   ]
  },
  {
   "cell_type": "code",
   "execution_count": 117,
   "metadata": {},
   "outputs": [
    {
     "name": "stderr",
     "output_type": "stream",
     "text": [
      "C:\\Users\\Franz\\AppData\\Local\\Temp\\ipykernel_12860\\3096962253.py:3: FutureWarning:\n",
      "\n",
      "The default dtype for empty Series will be 'object' instead of 'float64' in a future version. Specify a dtype explicitly to silence this warning.\n",
      "\n"
     ]
    },
    {
     "data": {
      "application/vnd.plotly.v1+json": {
       "config": {
        "plotlyServerURL": "https://plot.ly"
       },
       "data": [
        {
         "fill": "toself",
         "name": "panelist",
         "r": [
          4,
          3,
          4,
          5,
          3
         ],
         "theta": [
          "Floral",
          "Fruity",
          "Sweet",
          "Woody",
          "Peaty"
         ],
         "type": "scatterpolar"
        },
        {
         "fill": "toself",
         "name": "MS_prediction",
         "r": [
          1.5958102546544715,
          0.2244157600617501,
          7.588265553352526,
          6.265502065250081,
          0.07522027488728979
         ],
         "theta": [
          "Floral",
          "Fruity",
          "Sweet",
          "Woody",
          "Peaty"
         ],
         "type": "scatterpolar"
        }
       ],
       "layout": {
        "polar": {
         "radialaxis": {
          "range": [
           0,
           10
          ],
          "visible": true
         }
        },
        "showlegend": false,
        "template": {
         "data": {
          "bar": [
           {
            "error_x": {
             "color": "#2a3f5f"
            },
            "error_y": {
             "color": "#2a3f5f"
            },
            "marker": {
             "line": {
              "color": "#E5ECF6",
              "width": 0.5
             },
             "pattern": {
              "fillmode": "overlay",
              "size": 10,
              "solidity": 0.2
             }
            },
            "type": "bar"
           }
          ],
          "barpolar": [
           {
            "marker": {
             "line": {
              "color": "#E5ECF6",
              "width": 0.5
             },
             "pattern": {
              "fillmode": "overlay",
              "size": 10,
              "solidity": 0.2
             }
            },
            "type": "barpolar"
           }
          ],
          "carpet": [
           {
            "aaxis": {
             "endlinecolor": "#2a3f5f",
             "gridcolor": "white",
             "linecolor": "white",
             "minorgridcolor": "white",
             "startlinecolor": "#2a3f5f"
            },
            "baxis": {
             "endlinecolor": "#2a3f5f",
             "gridcolor": "white",
             "linecolor": "white",
             "minorgridcolor": "white",
             "startlinecolor": "#2a3f5f"
            },
            "type": "carpet"
           }
          ],
          "choropleth": [
           {
            "colorbar": {
             "outlinewidth": 0,
             "ticks": ""
            },
            "type": "choropleth"
           }
          ],
          "contour": [
           {
            "colorbar": {
             "outlinewidth": 0,
             "ticks": ""
            },
            "colorscale": [
             [
              0,
              "#0d0887"
             ],
             [
              0.1111111111111111,
              "#46039f"
             ],
             [
              0.2222222222222222,
              "#7201a8"
             ],
             [
              0.3333333333333333,
              "#9c179e"
             ],
             [
              0.4444444444444444,
              "#bd3786"
             ],
             [
              0.5555555555555556,
              "#d8576b"
             ],
             [
              0.6666666666666666,
              "#ed7953"
             ],
             [
              0.7777777777777778,
              "#fb9f3a"
             ],
             [
              0.8888888888888888,
              "#fdca26"
             ],
             [
              1,
              "#f0f921"
             ]
            ],
            "type": "contour"
           }
          ],
          "contourcarpet": [
           {
            "colorbar": {
             "outlinewidth": 0,
             "ticks": ""
            },
            "type": "contourcarpet"
           }
          ],
          "heatmap": [
           {
            "colorbar": {
             "outlinewidth": 0,
             "ticks": ""
            },
            "colorscale": [
             [
              0,
              "#0d0887"
             ],
             [
              0.1111111111111111,
              "#46039f"
             ],
             [
              0.2222222222222222,
              "#7201a8"
             ],
             [
              0.3333333333333333,
              "#9c179e"
             ],
             [
              0.4444444444444444,
              "#bd3786"
             ],
             [
              0.5555555555555556,
              "#d8576b"
             ],
             [
              0.6666666666666666,
              "#ed7953"
             ],
             [
              0.7777777777777778,
              "#fb9f3a"
             ],
             [
              0.8888888888888888,
              "#fdca26"
             ],
             [
              1,
              "#f0f921"
             ]
            ],
            "type": "heatmap"
           }
          ],
          "heatmapgl": [
           {
            "colorbar": {
             "outlinewidth": 0,
             "ticks": ""
            },
            "colorscale": [
             [
              0,
              "#0d0887"
             ],
             [
              0.1111111111111111,
              "#46039f"
             ],
             [
              0.2222222222222222,
              "#7201a8"
             ],
             [
              0.3333333333333333,
              "#9c179e"
             ],
             [
              0.4444444444444444,
              "#bd3786"
             ],
             [
              0.5555555555555556,
              "#d8576b"
             ],
             [
              0.6666666666666666,
              "#ed7953"
             ],
             [
              0.7777777777777778,
              "#fb9f3a"
             ],
             [
              0.8888888888888888,
              "#fdca26"
             ],
             [
              1,
              "#f0f921"
             ]
            ],
            "type": "heatmapgl"
           }
          ],
          "histogram": [
           {
            "marker": {
             "pattern": {
              "fillmode": "overlay",
              "size": 10,
              "solidity": 0.2
             }
            },
            "type": "histogram"
           }
          ],
          "histogram2d": [
           {
            "colorbar": {
             "outlinewidth": 0,
             "ticks": ""
            },
            "colorscale": [
             [
              0,
              "#0d0887"
             ],
             [
              0.1111111111111111,
              "#46039f"
             ],
             [
              0.2222222222222222,
              "#7201a8"
             ],
             [
              0.3333333333333333,
              "#9c179e"
             ],
             [
              0.4444444444444444,
              "#bd3786"
             ],
             [
              0.5555555555555556,
              "#d8576b"
             ],
             [
              0.6666666666666666,
              "#ed7953"
             ],
             [
              0.7777777777777778,
              "#fb9f3a"
             ],
             [
              0.8888888888888888,
              "#fdca26"
             ],
             [
              1,
              "#f0f921"
             ]
            ],
            "type": "histogram2d"
           }
          ],
          "histogram2dcontour": [
           {
            "colorbar": {
             "outlinewidth": 0,
             "ticks": ""
            },
            "colorscale": [
             [
              0,
              "#0d0887"
             ],
             [
              0.1111111111111111,
              "#46039f"
             ],
             [
              0.2222222222222222,
              "#7201a8"
             ],
             [
              0.3333333333333333,
              "#9c179e"
             ],
             [
              0.4444444444444444,
              "#bd3786"
             ],
             [
              0.5555555555555556,
              "#d8576b"
             ],
             [
              0.6666666666666666,
              "#ed7953"
             ],
             [
              0.7777777777777778,
              "#fb9f3a"
             ],
             [
              0.8888888888888888,
              "#fdca26"
             ],
             [
              1,
              "#f0f921"
             ]
            ],
            "type": "histogram2dcontour"
           }
          ],
          "mesh3d": [
           {
            "colorbar": {
             "outlinewidth": 0,
             "ticks": ""
            },
            "type": "mesh3d"
           }
          ],
          "parcoords": [
           {
            "line": {
             "colorbar": {
              "outlinewidth": 0,
              "ticks": ""
             }
            },
            "type": "parcoords"
           }
          ],
          "pie": [
           {
            "automargin": true,
            "type": "pie"
           }
          ],
          "scatter": [
           {
            "fillpattern": {
             "fillmode": "overlay",
             "size": 10,
             "solidity": 0.2
            },
            "type": "scatter"
           }
          ],
          "scatter3d": [
           {
            "line": {
             "colorbar": {
              "outlinewidth": 0,
              "ticks": ""
             }
            },
            "marker": {
             "colorbar": {
              "outlinewidth": 0,
              "ticks": ""
             }
            },
            "type": "scatter3d"
           }
          ],
          "scattercarpet": [
           {
            "marker": {
             "colorbar": {
              "outlinewidth": 0,
              "ticks": ""
             }
            },
            "type": "scattercarpet"
           }
          ],
          "scattergeo": [
           {
            "marker": {
             "colorbar": {
              "outlinewidth": 0,
              "ticks": ""
             }
            },
            "type": "scattergeo"
           }
          ],
          "scattergl": [
           {
            "marker": {
             "colorbar": {
              "outlinewidth": 0,
              "ticks": ""
             }
            },
            "type": "scattergl"
           }
          ],
          "scattermapbox": [
           {
            "marker": {
             "colorbar": {
              "outlinewidth": 0,
              "ticks": ""
             }
            },
            "type": "scattermapbox"
           }
          ],
          "scatterpolar": [
           {
            "marker": {
             "colorbar": {
              "outlinewidth": 0,
              "ticks": ""
             }
            },
            "type": "scatterpolar"
           }
          ],
          "scatterpolargl": [
           {
            "marker": {
             "colorbar": {
              "outlinewidth": 0,
              "ticks": ""
             }
            },
            "type": "scatterpolargl"
           }
          ],
          "scatterternary": [
           {
            "marker": {
             "colorbar": {
              "outlinewidth": 0,
              "ticks": ""
             }
            },
            "type": "scatterternary"
           }
          ],
          "surface": [
           {
            "colorbar": {
             "outlinewidth": 0,
             "ticks": ""
            },
            "colorscale": [
             [
              0,
              "#0d0887"
             ],
             [
              0.1111111111111111,
              "#46039f"
             ],
             [
              0.2222222222222222,
              "#7201a8"
             ],
             [
              0.3333333333333333,
              "#9c179e"
             ],
             [
              0.4444444444444444,
              "#bd3786"
             ],
             [
              0.5555555555555556,
              "#d8576b"
             ],
             [
              0.6666666666666666,
              "#ed7953"
             ],
             [
              0.7777777777777778,
              "#fb9f3a"
             ],
             [
              0.8888888888888888,
              "#fdca26"
             ],
             [
              1,
              "#f0f921"
             ]
            ],
            "type": "surface"
           }
          ],
          "table": [
           {
            "cells": {
             "fill": {
              "color": "#EBF0F8"
             },
             "line": {
              "color": "white"
             }
            },
            "header": {
             "fill": {
              "color": "#C8D4E3"
             },
             "line": {
              "color": "white"
             }
            },
            "type": "table"
           }
          ]
         },
         "layout": {
          "annotationdefaults": {
           "arrowcolor": "#2a3f5f",
           "arrowhead": 0,
           "arrowwidth": 1
          },
          "autotypenumbers": "strict",
          "coloraxis": {
           "colorbar": {
            "outlinewidth": 0,
            "ticks": ""
           }
          },
          "colorscale": {
           "diverging": [
            [
             0,
             "#8e0152"
            ],
            [
             0.1,
             "#c51b7d"
            ],
            [
             0.2,
             "#de77ae"
            ],
            [
             0.3,
             "#f1b6da"
            ],
            [
             0.4,
             "#fde0ef"
            ],
            [
             0.5,
             "#f7f7f7"
            ],
            [
             0.6,
             "#e6f5d0"
            ],
            [
             0.7,
             "#b8e186"
            ],
            [
             0.8,
             "#7fbc41"
            ],
            [
             0.9,
             "#4d9221"
            ],
            [
             1,
             "#276419"
            ]
           ],
           "sequential": [
            [
             0,
             "#0d0887"
            ],
            [
             0.1111111111111111,
             "#46039f"
            ],
            [
             0.2222222222222222,
             "#7201a8"
            ],
            [
             0.3333333333333333,
             "#9c179e"
            ],
            [
             0.4444444444444444,
             "#bd3786"
            ],
            [
             0.5555555555555556,
             "#d8576b"
            ],
            [
             0.6666666666666666,
             "#ed7953"
            ],
            [
             0.7777777777777778,
             "#fb9f3a"
            ],
            [
             0.8888888888888888,
             "#fdca26"
            ],
            [
             1,
             "#f0f921"
            ]
           ],
           "sequentialminus": [
            [
             0,
             "#0d0887"
            ],
            [
             0.1111111111111111,
             "#46039f"
            ],
            [
             0.2222222222222222,
             "#7201a8"
            ],
            [
             0.3333333333333333,
             "#9c179e"
            ],
            [
             0.4444444444444444,
             "#bd3786"
            ],
            [
             0.5555555555555556,
             "#d8576b"
            ],
            [
             0.6666666666666666,
             "#ed7953"
            ],
            [
             0.7777777777777778,
             "#fb9f3a"
            ],
            [
             0.8888888888888888,
             "#fdca26"
            ],
            [
             1,
             "#f0f921"
            ]
           ]
          },
          "colorway": [
           "#636efa",
           "#EF553B",
           "#00cc96",
           "#ab63fa",
           "#FFA15A",
           "#19d3f3",
           "#FF6692",
           "#B6E880",
           "#FF97FF",
           "#FECB52"
          ],
          "font": {
           "color": "#2a3f5f"
          },
          "geo": {
           "bgcolor": "white",
           "lakecolor": "white",
           "landcolor": "#E5ECF6",
           "showlakes": true,
           "showland": true,
           "subunitcolor": "white"
          },
          "hoverlabel": {
           "align": "left"
          },
          "hovermode": "closest",
          "mapbox": {
           "style": "light"
          },
          "paper_bgcolor": "white",
          "plot_bgcolor": "#E5ECF6",
          "polar": {
           "angularaxis": {
            "gridcolor": "white",
            "linecolor": "white",
            "ticks": ""
           },
           "bgcolor": "#E5ECF6",
           "radialaxis": {
            "gridcolor": "white",
            "linecolor": "white",
            "ticks": ""
           }
          },
          "scene": {
           "xaxis": {
            "backgroundcolor": "#E5ECF6",
            "gridcolor": "white",
            "gridwidth": 2,
            "linecolor": "white",
            "showbackground": true,
            "ticks": "",
            "zerolinecolor": "white"
           },
           "yaxis": {
            "backgroundcolor": "#E5ECF6",
            "gridcolor": "white",
            "gridwidth": 2,
            "linecolor": "white",
            "showbackground": true,
            "ticks": "",
            "zerolinecolor": "white"
           },
           "zaxis": {
            "backgroundcolor": "#E5ECF6",
            "gridcolor": "white",
            "gridwidth": 2,
            "linecolor": "white",
            "showbackground": true,
            "ticks": "",
            "zerolinecolor": "white"
           }
          },
          "shapedefaults": {
           "line": {
            "color": "#2a3f5f"
           }
          },
          "ternary": {
           "aaxis": {
            "gridcolor": "white",
            "linecolor": "white",
            "ticks": ""
           },
           "baxis": {
            "gridcolor": "white",
            "linecolor": "white",
            "ticks": ""
           },
           "bgcolor": "#E5ECF6",
           "caxis": {
            "gridcolor": "white",
            "linecolor": "white",
            "ticks": ""
           }
          },
          "title": {
           "x": 0.05
          },
          "xaxis": {
           "automargin": true,
           "gridcolor": "white",
           "linecolor": "white",
           "ticks": "",
           "title": {
            "standoff": 15
           },
           "zerolinecolor": "white",
           "zerolinewidth": 2
          },
          "yaxis": {
           "automargin": true,
           "gridcolor": "white",
           "linecolor": "white",
           "ticks": "",
           "title": {
            "standoff": 15
           },
           "zerolinecolor": "white",
           "zerolinewidth": 2
          }
         }
        }
       }
      }
     },
     "metadata": {},
     "output_type": "display_data"
    }
   ],
   "source": [
    "compare_visual(final_OSA.mean(axis=0)*70,\"000920\")"
   ]
  },
  {
   "cell_type": "code",
   "execution_count": 105,
   "metadata": {},
   "outputs": [
    {
     "data": {
      "application/vnd.plotly.v1+json": {
       "config": {
        "plotlyServerURL": "https://plot.ly"
       },
       "data": [
        {
         "fill": "toself",
         "r": [
          0,
          4,
          3,
          4,
          5,
          0
         ],
         "theta": [
          "Green",
          "floral",
          "fruit",
          "sweet",
          "wood",
          "spicy"
         ],
         "type": "scatterpolar"
        }
       ],
       "layout": {
        "polar": {
         "radialaxis": {
          "range": [
           0,
           10
          ],
          "visible": true
         }
        },
        "showlegend": false,
        "template": {
         "data": {
          "bar": [
           {
            "error_x": {
             "color": "#2a3f5f"
            },
            "error_y": {
             "color": "#2a3f5f"
            },
            "marker": {
             "line": {
              "color": "#E5ECF6",
              "width": 0.5
             },
             "pattern": {
              "fillmode": "overlay",
              "size": 10,
              "solidity": 0.2
             }
            },
            "type": "bar"
           }
          ],
          "barpolar": [
           {
            "marker": {
             "line": {
              "color": "#E5ECF6",
              "width": 0.5
             },
             "pattern": {
              "fillmode": "overlay",
              "size": 10,
              "solidity": 0.2
             }
            },
            "type": "barpolar"
           }
          ],
          "carpet": [
           {
            "aaxis": {
             "endlinecolor": "#2a3f5f",
             "gridcolor": "white",
             "linecolor": "white",
             "minorgridcolor": "white",
             "startlinecolor": "#2a3f5f"
            },
            "baxis": {
             "endlinecolor": "#2a3f5f",
             "gridcolor": "white",
             "linecolor": "white",
             "minorgridcolor": "white",
             "startlinecolor": "#2a3f5f"
            },
            "type": "carpet"
           }
          ],
          "choropleth": [
           {
            "colorbar": {
             "outlinewidth": 0,
             "ticks": ""
            },
            "type": "choropleth"
           }
          ],
          "contour": [
           {
            "colorbar": {
             "outlinewidth": 0,
             "ticks": ""
            },
            "colorscale": [
             [
              0,
              "#0d0887"
             ],
             [
              0.1111111111111111,
              "#46039f"
             ],
             [
              0.2222222222222222,
              "#7201a8"
             ],
             [
              0.3333333333333333,
              "#9c179e"
             ],
             [
              0.4444444444444444,
              "#bd3786"
             ],
             [
              0.5555555555555556,
              "#d8576b"
             ],
             [
              0.6666666666666666,
              "#ed7953"
             ],
             [
              0.7777777777777778,
              "#fb9f3a"
             ],
             [
              0.8888888888888888,
              "#fdca26"
             ],
             [
              1,
              "#f0f921"
             ]
            ],
            "type": "contour"
           }
          ],
          "contourcarpet": [
           {
            "colorbar": {
             "outlinewidth": 0,
             "ticks": ""
            },
            "type": "contourcarpet"
           }
          ],
          "heatmap": [
           {
            "colorbar": {
             "outlinewidth": 0,
             "ticks": ""
            },
            "colorscale": [
             [
              0,
              "#0d0887"
             ],
             [
              0.1111111111111111,
              "#46039f"
             ],
             [
              0.2222222222222222,
              "#7201a8"
             ],
             [
              0.3333333333333333,
              "#9c179e"
             ],
             [
              0.4444444444444444,
              "#bd3786"
             ],
             [
              0.5555555555555556,
              "#d8576b"
             ],
             [
              0.6666666666666666,
              "#ed7953"
             ],
             [
              0.7777777777777778,
              "#fb9f3a"
             ],
             [
              0.8888888888888888,
              "#fdca26"
             ],
             [
              1,
              "#f0f921"
             ]
            ],
            "type": "heatmap"
           }
          ],
          "heatmapgl": [
           {
            "colorbar": {
             "outlinewidth": 0,
             "ticks": ""
            },
            "colorscale": [
             [
              0,
              "#0d0887"
             ],
             [
              0.1111111111111111,
              "#46039f"
             ],
             [
              0.2222222222222222,
              "#7201a8"
             ],
             [
              0.3333333333333333,
              "#9c179e"
             ],
             [
              0.4444444444444444,
              "#bd3786"
             ],
             [
              0.5555555555555556,
              "#d8576b"
             ],
             [
              0.6666666666666666,
              "#ed7953"
             ],
             [
              0.7777777777777778,
              "#fb9f3a"
             ],
             [
              0.8888888888888888,
              "#fdca26"
             ],
             [
              1,
              "#f0f921"
             ]
            ],
            "type": "heatmapgl"
           }
          ],
          "histogram": [
           {
            "marker": {
             "pattern": {
              "fillmode": "overlay",
              "size": 10,
              "solidity": 0.2
             }
            },
            "type": "histogram"
           }
          ],
          "histogram2d": [
           {
            "colorbar": {
             "outlinewidth": 0,
             "ticks": ""
            },
            "colorscale": [
             [
              0,
              "#0d0887"
             ],
             [
              0.1111111111111111,
              "#46039f"
             ],
             [
              0.2222222222222222,
              "#7201a8"
             ],
             [
              0.3333333333333333,
              "#9c179e"
             ],
             [
              0.4444444444444444,
              "#bd3786"
             ],
             [
              0.5555555555555556,
              "#d8576b"
             ],
             [
              0.6666666666666666,
              "#ed7953"
             ],
             [
              0.7777777777777778,
              "#fb9f3a"
             ],
             [
              0.8888888888888888,
              "#fdca26"
             ],
             [
              1,
              "#f0f921"
             ]
            ],
            "type": "histogram2d"
           }
          ],
          "histogram2dcontour": [
           {
            "colorbar": {
             "outlinewidth": 0,
             "ticks": ""
            },
            "colorscale": [
             [
              0,
              "#0d0887"
             ],
             [
              0.1111111111111111,
              "#46039f"
             ],
             [
              0.2222222222222222,
              "#7201a8"
             ],
             [
              0.3333333333333333,
              "#9c179e"
             ],
             [
              0.4444444444444444,
              "#bd3786"
             ],
             [
              0.5555555555555556,
              "#d8576b"
             ],
             [
              0.6666666666666666,
              "#ed7953"
             ],
             [
              0.7777777777777778,
              "#fb9f3a"
             ],
             [
              0.8888888888888888,
              "#fdca26"
             ],
             [
              1,
              "#f0f921"
             ]
            ],
            "type": "histogram2dcontour"
           }
          ],
          "mesh3d": [
           {
            "colorbar": {
             "outlinewidth": 0,
             "ticks": ""
            },
            "type": "mesh3d"
           }
          ],
          "parcoords": [
           {
            "line": {
             "colorbar": {
              "outlinewidth": 0,
              "ticks": ""
             }
            },
            "type": "parcoords"
           }
          ],
          "pie": [
           {
            "automargin": true,
            "type": "pie"
           }
          ],
          "scatter": [
           {
            "fillpattern": {
             "fillmode": "overlay",
             "size": 10,
             "solidity": 0.2
            },
            "type": "scatter"
           }
          ],
          "scatter3d": [
           {
            "line": {
             "colorbar": {
              "outlinewidth": 0,
              "ticks": ""
             }
            },
            "marker": {
             "colorbar": {
              "outlinewidth": 0,
              "ticks": ""
             }
            },
            "type": "scatter3d"
           }
          ],
          "scattercarpet": [
           {
            "marker": {
             "colorbar": {
              "outlinewidth": 0,
              "ticks": ""
             }
            },
            "type": "scattercarpet"
           }
          ],
          "scattergeo": [
           {
            "marker": {
             "colorbar": {
              "outlinewidth": 0,
              "ticks": ""
             }
            },
            "type": "scattergeo"
           }
          ],
          "scattergl": [
           {
            "marker": {
             "colorbar": {
              "outlinewidth": 0,
              "ticks": ""
             }
            },
            "type": "scattergl"
           }
          ],
          "scattermapbox": [
           {
            "marker": {
             "colorbar": {
              "outlinewidth": 0,
              "ticks": ""
             }
            },
            "type": "scattermapbox"
           }
          ],
          "scatterpolar": [
           {
            "marker": {
             "colorbar": {
              "outlinewidth": 0,
              "ticks": ""
             }
            },
            "type": "scatterpolar"
           }
          ],
          "scatterpolargl": [
           {
            "marker": {
             "colorbar": {
              "outlinewidth": 0,
              "ticks": ""
             }
            },
            "type": "scatterpolargl"
           }
          ],
          "scatterternary": [
           {
            "marker": {
             "colorbar": {
              "outlinewidth": 0,
              "ticks": ""
             }
            },
            "type": "scatterternary"
           }
          ],
          "surface": [
           {
            "colorbar": {
             "outlinewidth": 0,
             "ticks": ""
            },
            "colorscale": [
             [
              0,
              "#0d0887"
             ],
             [
              0.1111111111111111,
              "#46039f"
             ],
             [
              0.2222222222222222,
              "#7201a8"
             ],
             [
              0.3333333333333333,
              "#9c179e"
             ],
             [
              0.4444444444444444,
              "#bd3786"
             ],
             [
              0.5555555555555556,
              "#d8576b"
             ],
             [
              0.6666666666666666,
              "#ed7953"
             ],
             [
              0.7777777777777778,
              "#fb9f3a"
             ],
             [
              0.8888888888888888,
              "#fdca26"
             ],
             [
              1,
              "#f0f921"
             ]
            ],
            "type": "surface"
           }
          ],
          "table": [
           {
            "cells": {
             "fill": {
              "color": "#EBF0F8"
             },
             "line": {
              "color": "white"
             }
            },
            "header": {
             "fill": {
              "color": "#C8D4E3"
             },
             "line": {
              "color": "white"
             }
            },
            "type": "table"
           }
          ]
         },
         "layout": {
          "annotationdefaults": {
           "arrowcolor": "#2a3f5f",
           "arrowhead": 0,
           "arrowwidth": 1
          },
          "autotypenumbers": "strict",
          "coloraxis": {
           "colorbar": {
            "outlinewidth": 0,
            "ticks": ""
           }
          },
          "colorscale": {
           "diverging": [
            [
             0,
             "#8e0152"
            ],
            [
             0.1,
             "#c51b7d"
            ],
            [
             0.2,
             "#de77ae"
            ],
            [
             0.3,
             "#f1b6da"
            ],
            [
             0.4,
             "#fde0ef"
            ],
            [
             0.5,
             "#f7f7f7"
            ],
            [
             0.6,
             "#e6f5d0"
            ],
            [
             0.7,
             "#b8e186"
            ],
            [
             0.8,
             "#7fbc41"
            ],
            [
             0.9,
             "#4d9221"
            ],
            [
             1,
             "#276419"
            ]
           ],
           "sequential": [
            [
             0,
             "#0d0887"
            ],
            [
             0.1111111111111111,
             "#46039f"
            ],
            [
             0.2222222222222222,
             "#7201a8"
            ],
            [
             0.3333333333333333,
             "#9c179e"
            ],
            [
             0.4444444444444444,
             "#bd3786"
            ],
            [
             0.5555555555555556,
             "#d8576b"
            ],
            [
             0.6666666666666666,
             "#ed7953"
            ],
            [
             0.7777777777777778,
             "#fb9f3a"
            ],
            [
             0.8888888888888888,
             "#fdca26"
            ],
            [
             1,
             "#f0f921"
            ]
           ],
           "sequentialminus": [
            [
             0,
             "#0d0887"
            ],
            [
             0.1111111111111111,
             "#46039f"
            ],
            [
             0.2222222222222222,
             "#7201a8"
            ],
            [
             0.3333333333333333,
             "#9c179e"
            ],
            [
             0.4444444444444444,
             "#bd3786"
            ],
            [
             0.5555555555555556,
             "#d8576b"
            ],
            [
             0.6666666666666666,
             "#ed7953"
            ],
            [
             0.7777777777777778,
             "#fb9f3a"
            ],
            [
             0.8888888888888888,
             "#fdca26"
            ],
            [
             1,
             "#f0f921"
            ]
           ]
          },
          "colorway": [
           "#636efa",
           "#EF553B",
           "#00cc96",
           "#ab63fa",
           "#FFA15A",
           "#19d3f3",
           "#FF6692",
           "#B6E880",
           "#FF97FF",
           "#FECB52"
          ],
          "font": {
           "color": "#2a3f5f"
          },
          "geo": {
           "bgcolor": "white",
           "lakecolor": "white",
           "landcolor": "#E5ECF6",
           "showlakes": true,
           "showland": true,
           "subunitcolor": "white"
          },
          "hoverlabel": {
           "align": "left"
          },
          "hovermode": "closest",
          "mapbox": {
           "style": "light"
          },
          "paper_bgcolor": "white",
          "plot_bgcolor": "#E5ECF6",
          "polar": {
           "angularaxis": {
            "gridcolor": "white",
            "linecolor": "white",
            "ticks": ""
           },
           "bgcolor": "#E5ECF6",
           "radialaxis": {
            "gridcolor": "white",
            "linecolor": "white",
            "ticks": ""
           }
          },
          "scene": {
           "xaxis": {
            "backgroundcolor": "#E5ECF6",
            "gridcolor": "white",
            "gridwidth": 2,
            "linecolor": "white",
            "showbackground": true,
            "ticks": "",
            "zerolinecolor": "white"
           },
           "yaxis": {
            "backgroundcolor": "#E5ECF6",
            "gridcolor": "white",
            "gridwidth": 2,
            "linecolor": "white",
            "showbackground": true,
            "ticks": "",
            "zerolinecolor": "white"
           },
           "zaxis": {
            "backgroundcolor": "#E5ECF6",
            "gridcolor": "white",
            "gridwidth": 2,
            "linecolor": "white",
            "showbackground": true,
            "ticks": "",
            "zerolinecolor": "white"
           }
          },
          "shapedefaults": {
           "line": {
            "color": "#2a3f5f"
           }
          },
          "ternary": {
           "aaxis": {
            "gridcolor": "white",
            "linecolor": "white",
            "ticks": ""
           },
           "baxis": {
            "gridcolor": "white",
            "linecolor": "white",
            "ticks": ""
           },
           "bgcolor": "#E5ECF6",
           "caxis": {
            "gridcolor": "white",
            "linecolor": "white",
            "ticks": ""
           }
          },
          "title": {
           "x": 0.05
          },
          "xaxis": {
           "automargin": true,
           "gridcolor": "white",
           "linecolor": "white",
           "ticks": "",
           "title": {
            "standoff": 15
           },
           "zerolinecolor": "white",
           "zerolinewidth": 2
          },
          "yaxis": {
           "automargin": true,
           "gridcolor": "white",
           "linecolor": "white",
           "ticks": "",
           "title": {
            "standoff": 15
           },
           "zerolinecolor": "white",
           "zerolinewidth": 2
          }
         }
        }
       }
      }
     },
     "metadata": {},
     "output_type": "display_data"
    }
   ],
   "source": [
    "\n",
    "fig = go.Figure()\n",
    "fig.add_trace(go.Scatterpolar(\n",
    "  r=[0,4,3,4,5,0],\n",
    "  theta=[\"Green\",\"floral\",\"fruit\",\"sweet\",\"wood\",\"spicy\"],\n",
    "  fill='toself'\n",
    "))\n",
    "\n",
    "\n",
    "fig.update_layout(\n",
    "  polar=dict(\n",
    "    radialaxis=dict(\n",
    "      visible=True,\n",
    "      range=[0, 10]\n",
    "    ),\n",
    "  ),\n",
    "  showlegend=False\n",
    ")\n",
    "\n",
    "fig.show()"
   ]
  },
  {
   "cell_type": "code",
   "execution_count": null,
   "metadata": {},
   "outputs": [],
   "source": []
  }
 ],
 "metadata": {
  "kernelspec": {
   "display_name": "Python 3",
   "language": "python",
   "name": "python3"
  },
  "language_info": {
   "codemirror_mode": {
    "name": "ipython",
    "version": 3
   },
   "file_extension": ".py",
   "mimetype": "text/x-python",
   "name": "python",
   "nbconvert_exporter": "python",
   "pygments_lexer": "ipython3",
   "version": "3.9.6"
  },
  "orig_nbformat": 4
 },
 "nbformat": 4,
 "nbformat_minor": 2
}
