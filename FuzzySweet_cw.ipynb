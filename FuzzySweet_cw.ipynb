{
 "cells": [
  {
   "cell_type": "code",
   "execution_count": 1,
   "id": "d970528e772fe298",
   "metadata": {
    "collapsed": true,
    "ExecuteTime": {
     "end_time": "2023-10-03T03:52:48.418548852Z",
     "start_time": "2023-10-03T03:52:47.557003228Z"
    }
   },
   "outputs": [],
   "source": [
    "import numpy as np\n",
    "import skfuzzy as fuzz\n",
    "from skfuzzy import control as ctrl\n",
    "from matplotlib import pyplot as plt \n",
    "import pandas as pd\n",
    "from scipy.stats import zscore\n",
    "from scipy import stats\n",
    "from functools import reduce\n"
   ]
  },
  {
   "cell_type": "markdown",
   "id": "45af2ee2",
   "metadata": {},
   "source": [
    "##### load data"
   ]
  },
  {
   "cell_type": "code",
   "execution_count": 2,
   "id": "af9bd3d8",
   "metadata": {
    "ExecuteTime": {
     "end_time": "2023-10-03T03:52:48.787268175Z",
     "start_time": "2023-10-03T03:52:48.422247925Z"
    }
   },
   "outputs": [],
   "source": [
    "data = pd.read_csv('data/cas_intensities.csv', delimiter=',', index_col = 0)\n",
    "# only use first repliate\n",
    "data = data[data[\"replicate\"]==1]\n",
    "ms_data = data.drop(columns=[\"replicate\"])\n",
    "data_dist = ms_data.copy()\n",
    "data_dist[\"sum\"] = data_dist.apply(lambda row:row.sum(), axis=1)\n",
    "data_dist['median']= data_dist.apply(lambda row:row[:-1].median(), axis=1)\n",
    "data_dist['mean']= data_dist.apply(lambda row:row[:-2].mean(), axis=1)\n",
    "data_norm = data_dist.apply(lambda row: row[:-3]/row['mean'],axis=1)\n",
    "data_norm.index = data_dist.index\n",
    "data_norm2 = data_norm.apply(lambda col:col/col.median(),axis=0)\n",
    "ms_data = data_norm2"
   ]
  },
  {
   "cell_type": "code",
   "execution_count": 3,
   "id": "437b3443",
   "metadata": {
    "ExecuteTime": {
     "end_time": "2023-10-03T03:52:48.826245250Z",
     "start_time": "2023-10-03T03:52:48.789055488Z"
    }
   },
   "outputs": [
    {
     "name": "stdout",
     "output_type": "stream",
     "text": [
      "6485-40-1     -0.435880\n",
      "3033-23-6      0.075711\n",
      "21284-22-0    -0.418053\n",
      "38427-78-0    -0.383695\n",
      "495-61-4      -0.413705\n",
      "                 ...   \n",
      "713-95-1      -0.224200\n",
      "20307-84-0    -0.413705\n",
      "120021-96-7   -0.413705\n",
      "586-62-9      -0.325871\n",
      "710-04-3      -0.163435\n",
      "Length: 732, dtype: float64\n",
      "6485-40-1      1.894324\n",
      "3033-23-6      2.302065\n",
      "21284-22-0     1.891729\n",
      "38427-78-0     2.084914\n",
      "495-61-4       2.058207\n",
      "                 ...   \n",
      "713-95-1       2.258621\n",
      "20307-84-0     2.058207\n",
      "120021-96-7    2.058207\n",
      "586-62-9       2.155720\n",
      "710-04-3       1.986596\n",
      "Length: 732, dtype: float64\n",
      "6485-40-1     -3.0\n",
      "3033-23-6     -3.0\n",
      "21284-22-0    -3.0\n",
      "38427-78-0    -3.0\n",
      "495-61-4      -3.0\n",
      "              ... \n",
      "713-95-1      -3.0\n",
      "20307-84-0    -3.0\n",
      "120021-96-7   -3.0\n",
      "586-62-9      -3.0\n",
      "710-04-3      -3.0\n",
      "Length: 732, dtype: float64 6485-40-1      3.0\n",
      "3033-23-6      3.0\n",
      "21284-22-0     3.0\n",
      "38427-78-0     3.0\n",
      "495-61-4       3.0\n",
      "              ... \n",
      "713-95-1       3.0\n",
      "20307-84-0     3.0\n",
      "120021-96-7    3.0\n",
      "586-62-9       3.0\n",
      "710-04-3       3.0\n",
      "Length: 732, dtype: float64\n"
     ]
    }
   ],
   "source": [
    "import numpy as np\n",
    "df = ms_data\n",
    "scaled_data = 3 * ((df - df.mean()) / df.std())\n",
    "\n",
    "# Clip values to be within -3 and 3\n",
    "scaled_data = np.clip(scaled_data, -3, 3)\n",
    "\n",
    "# Check mean and standard deviation\n",
    "print(scaled_data.mean())\n",
    "print(scaled_data.std())\n",
    "print(scaled_data.min(), scaled_data.max())\n"
   ]
  },
  {
   "cell_type": "code",
   "execution_count": 4,
   "id": "e72f3fbc",
   "metadata": {
    "ExecuteTime": {
     "end_time": "2023-10-03T03:52:48.837936129Z",
     "start_time": "2023-10-03T03:52:48.810875576Z"
    }
   },
   "outputs": [],
   "source": [
    "panelist_data_df = pd.read_table(\"data/vlb_data_combined.txt\", delimiter=',', index_col = 1)\n",
    "panelist_data_df = panelist_data_df[panelist_data_df[\"panelist\"]==1]\n",
    "panelist_data_df = panelist_data_df.drop(columns=[\"panelist\", \"date\"])"
   ]
  },
  {
   "cell_type": "code",
   "execution_count": 5,
   "id": "5c607003",
   "metadata": {
    "ExecuteTime": {
     "end_time": "2023-10-03T03:52:48.838797289Z",
     "start_time": "2023-10-03T03:52:48.822064195Z"
    }
   },
   "outputs": [],
   "source": [
    "# get only comparable samplekeys\n",
    "valid_indexes = [index for index in panelist_data_df.index if index in ms_data.index]\n",
    "ms_data_comp = scaled_data.loc[valid_indexes].fillna(0)\n",
    "panelist_data_comp = panelist_data_df.loc[valid_indexes]"
   ]
  },
  {
   "cell_type": "code",
   "execution_count": 6,
   "outputs": [
    {
     "data": {
      "text/plain": "           Floral  Fruity  Woody  Complexity  Malt  Sweet  Peaty  \\\nsamplekey                                                          \n000656         50      20     60          50    30     30     50   \n000657         30      40     60          40    40     30     10   \n000658         30      50     50          50    40     40     10   \n000838         30      70     60          60    40     50      0   \n000839         50      60     60          60    40     50      0   \n...           ...     ...    ...         ...   ...    ...    ...   \n000925         30      40     50          30    30     30      0   \n000926         50      40     50          60    40     40     50   \n000927         30      50     60          60    30     50      0   \n000929         20      70     50          50    20     30      0   \n000930         20      20     60          70    30     70      0   \n\n           Dried_fruits  Aftertaste  \nsamplekey                            \n000656               40          40  \n000657               30          60  \n000658               40          70  \n000838               40          60  \n000839               30          70  \n...                 ...         ...  \n000925               30          50  \n000926               40          60  \n000927               40          80  \n000929               40          40  \n000930               40          60  \n\n[197 rows x 9 columns]",
      "text/html": "<div>\n<style scoped>\n    .dataframe tbody tr th:only-of-type {\n        vertical-align: middle;\n    }\n\n    .dataframe tbody tr th {\n        vertical-align: top;\n    }\n\n    .dataframe thead th {\n        text-align: right;\n    }\n</style>\n<table border=\"1\" class=\"dataframe\">\n  <thead>\n    <tr style=\"text-align: right;\">\n      <th></th>\n      <th>Floral</th>\n      <th>Fruity</th>\n      <th>Woody</th>\n      <th>Complexity</th>\n      <th>Malt</th>\n      <th>Sweet</th>\n      <th>Peaty</th>\n      <th>Dried_fruits</th>\n      <th>Aftertaste</th>\n    </tr>\n    <tr>\n      <th>samplekey</th>\n      <th></th>\n      <th></th>\n      <th></th>\n      <th></th>\n      <th></th>\n      <th></th>\n      <th></th>\n      <th></th>\n      <th></th>\n    </tr>\n  </thead>\n  <tbody>\n    <tr>\n      <th>000656</th>\n      <td>50</td>\n      <td>20</td>\n      <td>60</td>\n      <td>50</td>\n      <td>30</td>\n      <td>30</td>\n      <td>50</td>\n      <td>40</td>\n      <td>40</td>\n    </tr>\n    <tr>\n      <th>000657</th>\n      <td>30</td>\n      <td>40</td>\n      <td>60</td>\n      <td>40</td>\n      <td>40</td>\n      <td>30</td>\n      <td>10</td>\n      <td>30</td>\n      <td>60</td>\n    </tr>\n    <tr>\n      <th>000658</th>\n      <td>30</td>\n      <td>50</td>\n      <td>50</td>\n      <td>50</td>\n      <td>40</td>\n      <td>40</td>\n      <td>10</td>\n      <td>40</td>\n      <td>70</td>\n    </tr>\n    <tr>\n      <th>000838</th>\n      <td>30</td>\n      <td>70</td>\n      <td>60</td>\n      <td>60</td>\n      <td>40</td>\n      <td>50</td>\n      <td>0</td>\n      <td>40</td>\n      <td>60</td>\n    </tr>\n    <tr>\n      <th>000839</th>\n      <td>50</td>\n      <td>60</td>\n      <td>60</td>\n      <td>60</td>\n      <td>40</td>\n      <td>50</td>\n      <td>0</td>\n      <td>30</td>\n      <td>70</td>\n    </tr>\n    <tr>\n      <th>...</th>\n      <td>...</td>\n      <td>...</td>\n      <td>...</td>\n      <td>...</td>\n      <td>...</td>\n      <td>...</td>\n      <td>...</td>\n      <td>...</td>\n      <td>...</td>\n    </tr>\n    <tr>\n      <th>000925</th>\n      <td>30</td>\n      <td>40</td>\n      <td>50</td>\n      <td>30</td>\n      <td>30</td>\n      <td>30</td>\n      <td>0</td>\n      <td>30</td>\n      <td>50</td>\n    </tr>\n    <tr>\n      <th>000926</th>\n      <td>50</td>\n      <td>40</td>\n      <td>50</td>\n      <td>60</td>\n      <td>40</td>\n      <td>40</td>\n      <td>50</td>\n      <td>40</td>\n      <td>60</td>\n    </tr>\n    <tr>\n      <th>000927</th>\n      <td>30</td>\n      <td>50</td>\n      <td>60</td>\n      <td>60</td>\n      <td>30</td>\n      <td>50</td>\n      <td>0</td>\n      <td>40</td>\n      <td>80</td>\n    </tr>\n    <tr>\n      <th>000929</th>\n      <td>20</td>\n      <td>70</td>\n      <td>50</td>\n      <td>50</td>\n      <td>20</td>\n      <td>30</td>\n      <td>0</td>\n      <td>40</td>\n      <td>40</td>\n    </tr>\n    <tr>\n      <th>000930</th>\n      <td>20</td>\n      <td>20</td>\n      <td>60</td>\n      <td>70</td>\n      <td>30</td>\n      <td>70</td>\n      <td>0</td>\n      <td>40</td>\n      <td>60</td>\n    </tr>\n  </tbody>\n</table>\n<p>197 rows × 9 columns</p>\n</div>"
     },
     "execution_count": 6,
     "metadata": {},
     "output_type": "execute_result"
    }
   ],
   "source": [
    "panelist_data_comp "
   ],
   "metadata": {
    "collapsed": false,
    "ExecuteTime": {
     "end_time": "2023-10-03T03:52:48.926201861Z",
     "start_time": "2023-10-03T03:52:48.827806653Z"
    }
   },
   "id": "3c2578716fc4200"
  },
  {
   "cell_type": "code",
   "execution_count": 7,
   "id": "1c3ea73e",
   "metadata": {
    "ExecuteTime": {
     "end_time": "2023-10-03T03:52:48.926583850Z",
     "start_time": "2023-10-03T03:52:48.881019809Z"
    }
   },
   "outputs": [],
   "source": [
    "# find CAS number to each molecule\n",
    "CAS_to_mol = pd.read_table(\"data/CAS_mol_OD.csv\", delimiter=',',  names= [\"CAS\",\"intensity\", \"odor\"])\n",
    "CAS_to_mol=CAS_to_mol.drop(columns=[\"intensity\",\"odor\"])\n",
    "CAS_to_mol= CAS_to_mol.drop_duplicates()"
   ]
  },
  {
   "cell_type": "code",
   "execution_count": 8,
   "id": "9249933f",
   "metadata": {
    "ExecuteTime": {
     "end_time": "2023-10-03T03:52:48.926715791Z",
     "start_time": "2023-10-03T03:52:48.881116598Z"
    }
   },
   "outputs": [],
   "source": [
    "# all molecules that where labeled as sweet in flavornet\n",
    "sweet_descriptors = [\"benzyl alcohol\",\"ethyl phenylacetate\",\"tridecanal\",\"nerol\",\"methyl hexanoate\",\"linalyl isovalerate\",\"undecanaldehyde\",\"caryophyllene oxide\",\"linalyl acetate\",\"safranal\",\"uncineol\",\"phenylethanal\",\"p-anisaldehyde\",\"eudesmol\",\"ethylmethyl pyrazine\",\"citronellyl butyrate\",\"4-methyl-3-penten-2-one\",\"nonyl acetate\",\"10-epi-γ-eudesmol\",\"β-bisabolol\",\"(Z)-6-dodecene-γ-lactone\",\"β-farnesene\",\"2-dodecenal\",\"γ-dodecalactone\",\"epoxy-β-ionone\",\"2-undecenal\",\"styrene glycol\",\"methyl furaneol\",\"(-)-cis-rose oxide\",\"(E)-β-ocimene\",\"dimethylmethoxyfuranone\",\"1,8-cineole\",\"ethylbenzaldehyde\",\"2-pentylthiophene\",\"α-farnesene\",\"methionol\",\"7-methoxycoumarin\",\"(Z)-3-hexenyl-2-methylbutanoate\",\"o-aminoacetophenone\",\"viridiflorol\",\"isopiperitone\",\"β-sinensal\",\"ethyl vanillate\",\"methyl butanoate\",\"p-methoxystyrene\",\"ethanol\",\"6-Methoxyeugenol\",\"4-hexanolide\",\"δ-dodecalactone\",\"sesquiphellandrene\",\"diethyl malate\",\"linalyl butyrate\",\"guaiacol\",\"coumarin\",\"methyl benzoate\",\"isopropyl benzoate\",\"safrole\",\"durene\",\"γ-butyrolactone\",\"ethyl isobutyrate\",\"furfural\"]\n",
    "fruit_descriptors = [\"ethyl phenylacetate\", \"geranyl valerate\", \"γ-heptalactone\", \"ethyl propionate\", \"diethyl acetal\", \"geranyl butyrate\", \"ethyl heptylate\", \"ethyl octanoate\", \"methyl hexanoate\", \"dimethylheptenal\", \"pentanone\", \"ethyl 3-methylbutanoate\", \"geranyl isovalerate\", \"isobutyl acetate\", \"ethoxypropanol\", \"methyl-2-butenal\", \"methylnonanedione\", \"linalyl acetate\", \"methyl geranate\", \"limonene oxide\", \"hydrocinnamic alcohol\", \"diethyl succinate\", \"ethyl hexanoate\", \"ethylmethyl pyrazine\", \"β-cubebene\", \"neryl acetate\", \"citronellyl butyrate\", \"hexyl acetate\", \"nonyl acetate\", \"butyl methylbutyrate\", \"pentenal\", \"isopentyldimethylpyrazine\", \"p-menth-1-en-9-ol\", \"hexadecanone\", \"octyl acetate\", \"γ-dodecalactone\", \"epoxy-β-ionone\", \"ethyl octenoate\", \"ethyl isohexanoate\", \"isobornyl propionate\", \"cedrenol\", \"p-menth-1-en-9-yl acetate\", \"cadinadiene\", \"(Z)-3-hexenyl hexanoate\", \"ethyl cyclohexanoate\", \"4-methylthio-2-butanone\", \"3,5-octadienone\", \"methyl cyclohexanecarboxylate\", \"2-pentylthiophene\", \"α-ocimene\", \"butanediol\", \"ethyl valerate\", \"pentanol\", \"isopiperitone\", \"butyl octanoate\", \"ethyl vanillate\", \"methyl butanoate\", \"2-methylbutyl acetate\", \"propyl hexanoate\", \"butyl hexanoate\", \"isopropyl butanoate\", \"spathulenol\", \"butanol\", \"δ-dodecalactone\", \"methyl quinoxaline\", \"sesquiphellandrene\", \"2-hexenol\", \"ethyl benzoate\", \"isopropyl benzoate\", \"ethyl lactate\", \"citronellyl isobutyrate\"]\n",
    "wood_descriptors = [\"α-muurolene\",\"cadina-1,4-dien-3-ol\",\"isocaryophyllene\",\"eudesmol\",\"α-ionone\",\"bornyl butyrate\",\"(E)-α-bergamotene\",\"linalool oxide\",\"ethyl pyrazine\",\"10-epi-γ-eudesmol\",\"germacrene B\",\"trans-sabinene hydrate\",\"dihydrolinalool\",\"isodihydrocarveol\",\"β-farnesene\",\"β-sesquiphellandrene\",\"δ-elemene\",\"α-calacorene\",\"epoxy-β-ionone\",\"germacrene D\",\"bicyclogermacrene\",\"alloaromadendrene\",\"α-thujene\",\"oxo-β-ionone\",\"(-)-γ-elemene\",\"γ-muurolene\",\"sabinene\",\"α-guaiene\",\"α-copaene\",\"γ-cadinene\",\"nerolidol\",\"β-eudesmol\",\"α-cadinol\",\"δ-cadinene\",\"dill apiol\",\"aromadendrene\",\"α-gurjunene\",\"guaiol\",\"α-farnesene\",\"γ-selinene\",\"cuminica lcohol\",\"perillen\",\"elemol\",\"α-humulene\",\"β-caryophyllene\",\"β-guaiene\"]\n",
    "malt_descriptors = [\"pentanal\",\"3-methyl-1-butanol\",\"2-methyl-1-butanol\",\"methylbutanal\",\"isobutyraldehyde\"]"
   ]
  },
  {
   "cell_type": "code",
   "execution_count": 9,
   "id": "b32fd991100eba49",
   "metadata": {
    "ExecuteTime": {
     "end_time": "2023-10-03T03:52:48.926854609Z",
     "start_time": "2023-10-03T03:52:48.881189847Z"
    }
   },
   "outputs": [],
   "source": [
    "# find cas numbers for these molecules\n",
    "sweet_descriptors_CAS = [CAS_to_mol.loc[index][\"CAS\"]for index in sweet_descriptors if index in CAS_to_mol.index ]\n",
    "fruit_descriptors_CAS = [CAS_to_mol.loc[index][\"CAS\"] for index in fruit_descriptors if index in CAS_to_mol.index]\n",
    "wood_descriptors_CAS = [CAS_to_mol.loc[index][\"CAS\"] for index in wood_descriptors if index in CAS_to_mol.index]\n",
    "malt_descriptors_CAS  =[CAS_to_mol.loc[index][\"CAS\"] for index in malt_descriptors if index in CAS_to_mol.index]"
   ]
  },
  {
   "cell_type": "markdown",
   "id": "d625678acdfa26e5",
   "metadata": {},
   "source": [
    "### Sweet"
   ]
  },
  {
   "cell_type": "code",
   "execution_count": 10,
   "id": "d178bd4a",
   "metadata": {
    "ExecuteTime": {
     "end_time": "2023-10-03T03:52:48.962992176Z",
     "start_time": "2023-10-03T03:52:48.928993916Z"
    }
   },
   "outputs": [],
   "source": [
    "zscore_range=np.linspace(-3,3,25) # Since we only use zscored data, this range can be used everywhere \n",
    "\n",
    "cas_antecedents = [] # we can just use an array, since the names are saved in the antecedent objects\n",
    "# we only use the sweet descriptors \n",
    "for cas in sweet_descriptors_CAS:\n",
    "    cas_name = str(cas)  \n",
    "    cas_antecedent = ctrl.Antecedent(zscore_range, cas_name)\n",
    "    cas_antecedent.automf(3)\n",
    "    \n",
    "    cas_antecedents.append( cas_antecedent) \n",
    "\n",
    "osa_sweet = ctrl.Consequent(zscore_range, 'osa_sweet')\n",
    "osa_sweet.automf(3)\n"
   ]
  },
  {
   "cell_type": "code",
   "execution_count": 17,
   "outputs": [],
   "source": [
    "# define some rules \n",
    "one_good =  reduce(lambda x, y: x | y, [ caa['good'] for caa in cas_antecedents])\n",
    "one_avg =  reduce(lambda x, y: x | y, [ caa['average'] for caa in cas_antecedents])\n",
    "\n",
    "all_poor =  reduce(lambda x, y: x & y, [ caa['poor'] for caa in cas_antecedents])\n",
    "all_avg =  reduce(lambda x, y: x & y, [ caa['average'] for caa in cas_antecedents])\n",
    "\n",
    "rules = [    \n",
    "    ctrl.Rule( all_poor, osa_sweet['poor']   ),\n",
    "    ctrl.Rule( all_avg, osa_sweet['average'] ),\n",
    "    ctrl.Rule( one_good, osa_sweet['good']   )\n",
    "]"
   ],
   "metadata": {
    "collapsed": false,
    "ExecuteTime": {
     "end_time": "2023-10-03T03:53:53.349643146Z",
     "start_time": "2023-10-03T03:53:53.306747898Z"
    }
   },
   "id": "f150ade86ebaeb5d"
  },
  {
   "cell_type": "code",
   "execution_count": 12,
   "outputs": [],
   "source": [
    "# Set up the system \n",
    "fuzzy_ctrl = ctrl.ControlSystem(rules)\n",
    "fuzzy = ctrl.ControlSystemSimulation(fuzzy_ctrl)"
   ],
   "metadata": {
    "collapsed": false,
    "ExecuteTime": {
     "end_time": "2023-10-03T03:52:49.030308602Z",
     "start_time": "2023-10-03T03:52:48.929132819Z"
    }
   },
   "id": "d8dc2d912cef566b"
  },
  {
   "cell_type": "code",
   "execution_count": 15,
   "outputs": [
    {
     "name": "stdout",
     "output_type": "stream",
     "text": [
      "For all poor, we get a prediction of : -2.0\n",
      "For only one good, we get a prediction of : -3.0068540250264654e-17\n"
     ]
    }
   ],
   "source": [
    "# Do some predictions\n",
    "\n",
    "for cas_antecedent in  cas_antecedents:\n",
    "    fuzzy.input[ cas_antecedent.label ] = -3\n",
    "fuzzy.compute()\n",
    "prediction = fuzzy.output['osa_sweet'] \n",
    "\n",
    "print( \"For all poor, we get a prediction of :\", prediction)\n",
    "\n",
    "\n",
    "# all but one are under average \n",
    "fuzzy.input[cas_antecedents[0].label] = 0\n",
    "fuzzy.compute()\n",
    "prediction = fuzzy.output['osa_sweet'] \n",
    "\n",
    "print( \"For only one good, we get a prediction of :\", prediction )\n",
    "\n",
    "ms_data = stats.zscore(ms_data_comp,axis=0)\n",
    "predictions = []\n",
    "for index, row in ms_data.iterrows():\n",
    "    for cas in sweet_descriptors_CAS:\n",
    "        fuzzy.input[ cas ] = row[cas]\n",
    "    \n",
    "    fuzzy.compute()  \n",
    "    predictions.append(fuzzy.output['osa_sweet'])\n",
    "\n",
    "references = np.array(panelist_data_comp['Sweet'])\n",
    "       "
   ],
   "metadata": {
    "collapsed": false,
    "ExecuteTime": {
     "end_time": "2023-10-03T03:53:18.169671559Z",
     "start_time": "2023-10-03T03:53:14.750671366Z"
    }
   },
   "id": "7cba2fd4500255eb"
  },
  {
   "cell_type": "code",
   "execution_count": 16,
   "outputs": [
    {
     "data": {
      "text/plain": "<Figure size 640x480 with 1 Axes>",
      "image/png": "[encoded data removed]"
     },
     "metadata": {},
     "output_type": "display_data"
    }
   ],
   "source": [
    "plt.plot(stats.zscore(references),predictions,\"o\")\n",
    "plt.xlim(-3,3)\n",
    "plt.ylim(-3,3)\n",
    "plt.grid()"
   ],
   "metadata": {
    "collapsed": false,
    "ExecuteTime": {
     "end_time": "2023-10-03T03:53:29.245665861Z",
     "start_time": "2023-10-03T03:53:29.136569087Z"
    }
   },
   "id": "a54e48528fd4491b"
  },
  {
   "cell_type": "code",
   "execution_count": 14,
   "outputs": [],
   "source": [],
   "metadata": {
    "collapsed": false,
    "ExecuteTime": {
     "end_time": "2023-10-03T03:52:53.035555457Z",
     "start_time": "2023-10-03T03:52:52.985615250Z"
    }
   },
   "id": "ddfdc0840be8608b"
  }
 ],
 "metadata": {
  "kernelspec": {
   "display_name": "Python 3",
   "language": "python",
   "name": "python3"
  },
  "language_info": {
   "codemirror_mode": {
    "name": "ipython",
    "version": 3
   },
   "file_extension": ".py",
   "mimetype": "text/x-python",
   "name": "python",
   "nbconvert_exporter": "python",
   "pygments_lexer": "ipython3",
   "version": "3.9.6"
  }
 },
 "nbformat": 4,
 "nbformat_minor": 5
}
